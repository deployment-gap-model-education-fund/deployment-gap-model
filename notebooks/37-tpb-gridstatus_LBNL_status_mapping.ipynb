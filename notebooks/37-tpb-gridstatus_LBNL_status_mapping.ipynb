{
 "cells": [
  {
   "cell_type": "markdown",
   "metadata": {},
   "source": [
    "# GridStatus <-> LBNL Status Mapping\n",
    "\n",
    "GridStatus reads raw ISO queues. The LBNL queue statuses are standardized versions of ISO-specific categories. This notebook attempts to reverse engineer the mappings between the two."
   ]
  },
  {
   "cell_type": "code",
   "execution_count": 1,
   "metadata": {},
   "outputs": [
    {
     "name": "stderr",
     "output_type": "stream",
     "text": [
      "/app/.local/lib/python3.10/site-packages/geopandas/_compat.py:123: UserWarning: The Shapely GEOS version (3.11.1-CAPI-1.17.1) is incompatible with the GEOS version PyGEOS was compiled with (3.10.3-CAPI-1.16.1). Conversions between both will be slow.\n",
      "  warnings.warn(\n",
      "/app/.local/lib/python3.10/site-packages/pudl/analysis/spatial.py:7: UserWarning: Shapely 2.0 is installed, but because PyGEOS is also installed, GeoPandas will still use PyGEOS by default for now. To force to use and test Shapely 2.0, you have to set the environment variable USE_PYGEOS=0. You can do this before starting the Python process, or in your code before importing geopandas:\n",
      "\n",
      "import os\n",
      "os.environ['USE_PYGEOS'] = '0'\n",
      "import geopandas\n",
      "\n",
      "In a future release, GeoPandas will switch to using Shapely by default. If you are using PyGEOS directly (calling PyGEOS functions on geometries from GeoPandas), this will then stop working and you are encouraged to migrate from PyGEOS to Shapely 2.0 (https://shapely.readthedocs.io/en/latest/migration_pygeos.html).\n",
      "  import geopandas as gpd\n"
     ]
    }
   ],
   "source": [
    "import pandas as pd\n",
    "from pathlib import Path\n",
    "import numpy as np\n",
    "\n",
    "from dbcp.extract.lbnl_iso_queue import extract\n"
   ]
  },
  {
   "cell_type": "markdown",
   "metadata": {},
   "source": [
    "## Get the data\n",
    "### LBNL-Compiled Queues"
   ]
  },
  {
   "cell_type": "code",
   "execution_count": 2,
   "metadata": {},
   "outputs": [],
   "source": [
    "# partial implementation of transform. I don't want to include deduplication.\n",
    "def partial_transform(active_projects: pd.DataFrame) -> pd.DataFrame:\n",
    "    \"\"\"Transform active iso queue data.\"\"\"\n",
    "    rename_dict = {\n",
    "        \"state\": \"raw_state_name\",\n",
    "        \"county\": \"raw_county_name\",\n",
    "    }\n",
    "    active_projects = active_projects.rename(columns=rename_dict)  # copy\n",
    "    # Harmonize the interconnection_status_lbnl values.\n",
    "    mapping = {\n",
    "        \"Feasability Study\": \"Feasibility Study\",\n",
    "        \"Feasibility\": \"Feasibility Study\",\n",
    "        \"Facilities Study\": \"Facility Study\",\n",
    "        \"IA in Progress\": \"In Progress (unknown study)\",\n",
    "        \"Unknown\": \"In Progress (unknown study)\",\n",
    "        \"Withdrawn, Feasibility Study\": \"Withdrawn\",\n",
    "    }\n",
    "    active_projects.loc[:, \"interconnection_status_lbnl\"] = active_projects.loc[\n",
    "        :, \"interconnection_status_lbnl\"\n",
    "    ].replace(mapping)\n",
    "    # drop irrelevant columns (structurally all nan due to 'active' filter)\n",
    "    active_projects.drop(columns=[\"date_withdrawn\", \"date_operational\"], inplace=True)\n",
    "    return active_projects\n",
    "\n",
    "\n",
    "source_path = Path(\"/app/data/raw/queues_2022_clean_data.xlsx\")\n",
    "raw_lbnl = extract(source_path)[\"lbnl_iso_queue\"]\n",
    "lbnl = partial_transform(raw_lbnl)\n"
   ]
  },
  {
   "cell_type": "code",
   "execution_count": 3,
   "metadata": {},
   "outputs": [
    {
     "data": {
      "text/plain": [
       "((29033, 27),\n",
       " Index(['queue_id', 'queue_status', 'queue_date', 'queue_year', 'interconnection_date', 'entity', 'project_name', 'developer', 'utility', 'county_1', 'county_2', 'county_3', 'raw_state_name', 'region', 'interconnection_service_type', 'point_of_interconnection', 'date_proposed', 'year_proposed', 'interconnection_status_raw', 'interconnection_status_lbnl', 'resource_type_lbnl', 'resource_type_1', 'resource_type_2', 'resource_type_3', 'capacity_mw_resource_1', 'capacity_mw_resource_2', 'capacity_mw_resource_3'], dtype='object'))"
      ]
     },
     "execution_count": 3,
     "metadata": {},
     "output_type": "execute_result"
    }
   ],
   "source": [
    "lbnl.shape, lbnl.columns\n"
   ]
  },
  {
   "cell_type": "code",
   "execution_count": 4,
   "metadata": {},
   "outputs": [
    {
     "data": {
      "text/html": [
       "<div>\n",
       "<style scoped>\n",
       "    .dataframe tbody tr th:only-of-type {\n",
       "        vertical-align: middle;\n",
       "    }\n",
       "\n",
       "    .dataframe tbody tr th {\n",
       "        vertical-align: top;\n",
       "    }\n",
       "\n",
       "    .dataframe thead th {\n",
       "        text-align: right;\n",
       "    }\n",
       "</style>\n",
       "<table border=\"1\" class=\"dataframe\">\n",
       "  <thead>\n",
       "    <tr style=\"text-align: right;\">\n",
       "      <th></th>\n",
       "      <th>queue_id</th>\n",
       "      <th>queue_status</th>\n",
       "      <th>queue_date</th>\n",
       "      <th>queue_year</th>\n",
       "      <th>interconnection_date</th>\n",
       "      <th>entity</th>\n",
       "      <th>project_name</th>\n",
       "      <th>developer</th>\n",
       "      <th>utility</th>\n",
       "      <th>county_1</th>\n",
       "      <th>county_2</th>\n",
       "      <th>county_3</th>\n",
       "      <th>raw_state_name</th>\n",
       "      <th>region</th>\n",
       "      <th>interconnection_service_type</th>\n",
       "      <th>point_of_interconnection</th>\n",
       "      <th>date_proposed</th>\n",
       "      <th>year_proposed</th>\n",
       "      <th>interconnection_status_raw</th>\n",
       "      <th>interconnection_status_lbnl</th>\n",
       "      <th>resource_type_lbnl</th>\n",
       "      <th>resource_type_1</th>\n",
       "      <th>resource_type_2</th>\n",
       "      <th>resource_type_3</th>\n",
       "      <th>capacity_mw_resource_1</th>\n",
       "      <th>capacity_mw_resource_2</th>\n",
       "      <th>capacity_mw_resource_3</th>\n",
       "    </tr>\n",
       "  </thead>\n",
       "  <tbody>\n",
       "    <tr>\n",
       "      <th>0</th>\n",
       "      <td>GIA-97</td>\n",
       "      <td>withdrawn</td>\n",
       "      <td>1/7/2022</td>\n",
       "      <td>2022.0</td>\n",
       "      <td>NaN</td>\n",
       "      <td>AEC</td>\n",
       "      <td>NaN</td>\n",
       "      <td>NaN</td>\n",
       "      <td>AEC</td>\n",
       "      <td>new madrid</td>\n",
       "      <td>NaN</td>\n",
       "      <td>NaN</td>\n",
       "      <td>MO</td>\n",
       "      <td>Southeast (non-ISO)</td>\n",
       "      <td>Network</td>\n",
       "      <td>New Madrid - Essex 345kV</td>\n",
       "      <td>10/31/2024</td>\n",
       "      <td>2024.0</td>\n",
       "      <td>Withdrawn</td>\n",
       "      <td>Withdrawn</td>\n",
       "      <td>Solar</td>\n",
       "      <td>Solar</td>\n",
       "      <td>NaN</td>\n",
       "      <td>NaN</td>\n",
       "      <td>350.0</td>\n",
       "      <td>NaN</td>\n",
       "      <td>NaN</td>\n",
       "    </tr>\n",
       "    <tr>\n",
       "      <th>1</th>\n",
       "      <td>GIA-40</td>\n",
       "      <td>active</td>\n",
       "      <td>10/24/2009</td>\n",
       "      <td>2009.0</td>\n",
       "      <td>NaN</td>\n",
       "      <td>AEC</td>\n",
       "      <td>NaN</td>\n",
       "      <td>NaN</td>\n",
       "      <td>AEC</td>\n",
       "      <td>new madrid</td>\n",
       "      <td>NaN</td>\n",
       "      <td>NaN</td>\n",
       "      <td>MO</td>\n",
       "      <td>Southeast (non-ISO)</td>\n",
       "      <td>Network Resource</td>\n",
       "      <td>NM Switchyard (345 kV Bus)</td>\n",
       "      <td>11/1/2011</td>\n",
       "      <td>2011.0</td>\n",
       "      <td>Upgrade Approved</td>\n",
       "      <td>IA Executed</td>\n",
       "      <td>Coal</td>\n",
       "      <td>Coal</td>\n",
       "      <td>NaN</td>\n",
       "      <td>NaN</td>\n",
       "      <td>20.0</td>\n",
       "      <td>NaN</td>\n",
       "      <td>NaN</td>\n",
       "    </tr>\n",
       "  </tbody>\n",
       "</table>\n",
       "</div>"
      ],
      "text/plain": [
       "  queue_id queue_status  queue_date  queue_year interconnection_date entity project_name developer utility    county_1 county_2 county_3 raw_state_name               region interconnection_service_type    point_of_interconnection date_proposed  year_proposed interconnection_status_raw interconnection_status_lbnl resource_type_lbnl resource_type_1 resource_type_2 resource_type_3  capacity_mw_resource_1  capacity_mw_resource_2  capacity_mw_resource_3\n",
       "0   GIA-97    withdrawn    1/7/2022      2022.0                  NaN    AEC          NaN       NaN     AEC  new madrid      NaN      NaN             MO  Southeast (non-ISO)                     Network     New Madrid - Essex 345kV    10/31/2024         2024.0                  Withdrawn                   Withdrawn              Solar           Solar             NaN             NaN                   350.0                     NaN                     NaN\n",
       "1   GIA-40       active  10/24/2009      2009.0                  NaN    AEC          NaN       NaN     AEC  new madrid      NaN      NaN             MO  Southeast (non-ISO)             Network Resource  NM Switchyard (345 kV Bus)     11/1/2011         2011.0           Upgrade Approved                 IA Executed               Coal            Coal             NaN             NaN                    20.0                     NaN                     NaN"
      ]
     },
     "execution_count": 4,
     "metadata": {},
     "output_type": "execute_result"
    }
   ],
   "source": [
    "lbnl.head(2)\n"
   ]
  },
  {
   "cell_type": "markdown",
   "metadata": {},
   "source": [
    "### GridStatus Queues"
   ]
  },
  {
   "cell_type": "code",
   "execution_count": 6,
   "metadata": {},
   "outputs": [
    {
     "name": "stdout",
     "output_type": "stream",
     "text": [
      "Please visit this URL to authorize this application: https://accounts.google.com/o/oauth2/auth?response_type=code&client_id=262006177488-ka1m0ue4fptfmt9siejdd5lom7p39upa.apps.googleusercontent.com&redirect_uri=https%3A%2F%2Fpydata-google-auth.readthedocs.io%2Fen%2Flatest%2Foauth.html&scope=https%3A%2F%2Fwww.googleapis.com%2Fauth%2Fcloud-platform&state=NbZxDsuQq2WEEaFNnYzs36lVNpQ4jo&access_type=offline\n"
     ]
    },
    {
     "name": "stdin",
     "output_type": "stream",
     "text": [
      "Enter the authorization code:  4/0AfJohXlczLI81kalnAjTGF6X1MQPKEqoktpf3Z632D31A975thhqYIuRQ7g_4Cdo6AgP0w\n"
     ]
    }
   ],
   "source": [
    "import dbcp\n",
    "\n",
    "# These are the revision numbers of the oldest archives we have\n",
    "iso_queue_versions: dict[str, str] = {\n",
    "    \"miso\": \"1681775160487863\",\n",
    "    \"caiso\": \"1681775162586588\",\n",
    "    \"pjm\": \"1681775160979859\",\n",
    "    \"ercot\": \"1681775161342766\",\n",
    "    \"spp\": \"1681775162935809\",\n",
    "    \"nyiso\": \"1681775159356063\",\n",
    "    \"isone\": \"1681775162111351\",\n",
    "}\n",
    "\n",
    "gs_dfs = dbcp.extract.gridstatus_isoqueues.extract(iso_queue_versions)"
   ]
  },
  {
   "cell_type": "code",
   "execution_count": 7,
   "metadata": {},
   "outputs": [
    {
     "data": {
      "text/plain": [
       "{'miso': (4253, 31),\n",
       " 'caiso': (2278, 36),\n",
       " 'pjm': (9030, 37),\n",
       " 'ercot': (1203, 35),\n",
       " 'spp': (950, 24),\n",
       " 'nyiso': (1535, 24),\n",
       " 'isone': (1533, 31)}"
      ]
     },
     "execution_count": 7,
     "metadata": {},
     "output_type": "execute_result"
    }
   ],
   "source": [
    "{k: v.shape for k, v in gs_dfs.items()}"
   ]
  },
  {
   "cell_type": "code",
   "execution_count": 8,
   "metadata": {},
   "outputs": [],
   "source": [
    "# # These are manually downloaded from our archives. I went back as far as I could,\n",
    "# # which is April 17 2023.\n",
    "# # There is a 3.5 month gap between the LBNL queues and our oldest GridStatus archive.\n",
    "# root_path = Path(\"/app/data/raw/gridstatus/interconnection_queues\")\n",
    "# assert root_path.exists()\n",
    "# # filenames are like \"interconnection_queues_caiso_4-17-2023.parquet\"\n",
    "# gs_dfs = {\n",
    "#     path.name.split(\"_\")[2]: pd.read_parquet(path)\n",
    "#     for path in root_path.glob(\"*.parquet\")\n",
    "# }\n",
    "# {k: v.shape for k, v in gs_dfs.items()}\n"
   ]
  },
  {
   "cell_type": "code",
   "execution_count": 9,
   "metadata": {},
   "outputs": [
    {
     "data": {
      "text/plain": [
       "-8251"
      ]
     },
     "execution_count": 9,
     "metadata": {},
     "output_type": "execute_result"
    }
   ],
   "source": [
    "# wayyy fewer items in GridStatus than LBNL.\n",
    "sum([v.shape[0] for v in gs_dfs.values()]) - lbnl.shape[0]\n"
   ]
  },
  {
   "cell_type": "code",
   "execution_count": 15,
   "metadata": {},
   "outputs": [
    {
     "data": {
      "text/plain": [
       "PJM                    7738\n",
       "West (non-ISO)         6610\n",
       "MISO                   4071\n",
       "Southeast (non-ISO)    3070\n",
       "CAISO                  2274\n",
       "ERCOT                  1952\n",
       "NYISO                  1260\n",
       "ISO-NE                 1255\n",
       "SPP                     802\n",
       "Name: region, dtype: int64"
      ]
     },
     "execution_count": 15,
     "metadata": {},
     "output_type": "execute_result"
    }
   ],
   "source": [
    "lbnl.region.value_counts()"
   ]
  },
  {
   "cell_type": "code",
   "execution_count": 19,
   "metadata": {},
   "outputs": [],
   "source": [
    "lbnl_iso = lbnl[~lbnl[\"region\"].str.contains(\"non-ISO\", na=False)].copy()"
   ]
  },
  {
   "cell_type": "code",
   "execution_count": 20,
   "metadata": {},
   "outputs": [
    {
     "data": {
      "text/plain": [
       "1429"
      ]
     },
     "execution_count": 20,
     "metadata": {},
     "output_type": "execute_result"
    }
   ],
   "source": [
    "sum([v.shape[0] for v in gs_dfs.values()]) - lbnl_iso.shape[0]"
   ]
  },
  {
   "cell_type": "markdown",
   "metadata": {},
   "source": [
    "Gridstatus has more ISO projects"
   ]
  },
  {
   "cell_type": "code",
   "execution_count": 27,
   "metadata": {},
   "outputs": [],
   "source": [
    "# globals().update(gs_dfs)  # this works fine but the static type checker/linter can't introspect it.\n",
    "raw_ercot = gs_dfs[\"ercot\"]\n",
    "raw_nyiso = gs_dfs[\"nyiso\"]\n",
    "raw_isone = gs_dfs[\"isone\"]\n",
    "raw_miso = gs_dfs[\"miso\"]\n",
    "raw_pjm = gs_dfs[\"pjm\"]\n",
    "raw_spp = gs_dfs[\"spp\"]\n",
    "raw_caiso = gs_dfs[\"caiso\"]\n"
   ]
  },
  {
   "cell_type": "code",
   "execution_count": 76,
   "metadata": {},
   "outputs": [],
   "source": [
    "LBNL_JOIN_COLS = [\n",
    "    \"queue_id\",  # join key\n",
    "    \"project_name\",  # for manually checking the joins\n",
    "    \"queue_date\",  # for manually checking the joins\n",
    "    \"queue_status\",  # for manually checking the joins\n",
    "    \"interconnection_status_raw\",  # see what LBNL interpreted\n",
    "    \"interconnection_status_lbnl\",  # final mapping value\n",
    "    \"capacity_mw_resource_1\",\n",
    "    \"resource_type_1\"\n",
    "    \n",
    "]\n",
    "\n",
    "\n",
    "def join_lbnl(\n",
    "    iso_df: pd.DataFrame, lbnl: pd.DataFrame, iso_name: str, iso_id_col=\"Queue ID\"\n",
    ") -> pd.DataFrame:\n",
    "    \"\"\"Join LBNL queue data to GridStatus queue data.\"\"\"\n",
    "    assert iso_df[iso_id_col].is_unique, \"ID column not unique\"\n",
    "    lbnl_iso = lbnl.loc[lbnl[\"entity\"].eq(iso_name), LBNL_JOIN_COLS]\n",
    "    assert not lbnl_iso.empty, f\"Empty LBNL queue for {iso_name}\"\n",
    "    assert lbnl_iso[\"queue_id\"].is_unique, \"LBNL queue ID not unique\"\n",
    "    out = iso_df.merge(lbnl_iso, how=\"outer\", left_on=iso_id_col, right_on=\"queue_id\")\n",
    "    out[\"in_lbnl\"] = ~out[\"queue_id\"].isna()\n",
    "    out[\"in_gs\"] = ~out[iso_id_col].isna()\n",
    "    return out\n"
   ]
  },
  {
   "cell_type": "markdown",
   "metadata": {},
   "source": [
    "## Comparisons\n",
    "### ERCOT\n",
    "* ERCOT's queue document has separate excel sheets for large and small (< 20MW) projects, and does not list withdrawn projects. GridStatus only includes large projects, whereas LBNL data includes the other categories. I'm not sure where LBNL gets the withdrawn projects from.\n",
    "  * We might be able to maintain a withdrawn list by 1) getting all the current withdrawn projects from the LBNL data, then 2) loading all the archived GridStatus ERCOT queues and checking for any projects that enter then exit the list. But I don't think we actually need a withdrawn list?\n",
    "* GridStatus defines \"status\" as \"IA Signed\".isna(). LBNL calls the entire \"large active\" dataset \"active\"."
   ]
  },
  {
   "cell_type": "code",
   "execution_count": 29,
   "metadata": {},
   "outputs": [
    {
     "data": {
      "text/plain": [
       "Index(['Queue ID', 'Project Name', 'Interconnecting Entity', 'County', 'State', 'Interconnection Location', 'Transmission Owner', 'Generation Type', 'Capacity (MW)', 'Summer Capacity (MW)', 'Winter Capacity (MW)', 'Queue Date', 'Status', 'Proposed Completion Date', 'Withdrawn Date', 'Withdrawal Comment', 'Actual Completion Date', 'Fuel', 'Technology', 'GIM Study Phase', 'Screening Study Started', 'Screening Study Complete', 'FIS Requested', 'FIS Approved', 'Economic Study Required', 'IA Signed', 'Air Permit', 'GHG Permit', 'Water Availability', 'Meets Planning', 'Meets All Planning', 'CDR Reporting Zone', 'Approved for Energization', 'Approved for Synchronization', 'Comment'], dtype='object')"
      ]
     },
     "execution_count": 29,
     "metadata": {},
     "output_type": "execute_result"
    }
   ],
   "source": [
    "raw_ercot.columns\n"
   ]
  },
  {
   "cell_type": "code",
   "execution_count": 30,
   "metadata": {},
   "outputs": [
    {
     "name": "stdout",
     "output_type": "stream",
     "text": [
      "<class 'pandas.core.frame.DataFrame'>\n",
      "Int64Index: 2273 entries, 0 to 2272\n",
      "Data columns (total 43 columns):\n",
      " #   Column                        Non-Null Count  Dtype         \n",
      "---  ------                        --------------  -----         \n",
      " 0   Queue ID                      1203 non-null   object        \n",
      " 1   Project Name                  1203 non-null   object        \n",
      " 2   Interconnecting Entity        1203 non-null   object        \n",
      " 3   County                        1203 non-null   object        \n",
      " 4   State                         1203 non-null   object        \n",
      " 5   Interconnection Location      1203 non-null   object        \n",
      " 6   Transmission Owner            0 non-null      object        \n",
      " 7   Generation Type               1203 non-null   object        \n",
      " 8   Capacity (MW)                 1203 non-null   float64       \n",
      " 9   Summer Capacity (MW)          0 non-null      object        \n",
      " 10  Winter Capacity (MW)          0 non-null      object        \n",
      " 11  Queue Date                    1193 non-null   datetime64[ns]\n",
      " 12  Status                        1203 non-null   object        \n",
      " 13  Proposed Completion Date      1203 non-null   datetime64[ns]\n",
      " 14  Withdrawn Date                0 non-null      object        \n",
      " 15  Withdrawal Comment            0 non-null      object        \n",
      " 16  Actual Completion Date        84 non-null     datetime64[ns]\n",
      " 17  Fuel                          1203 non-null   object        \n",
      " 18  Technology                    1203 non-null   object        \n",
      " 19  GIM Study Phase               1203 non-null   object        \n",
      " 20  Screening Study Started       1193 non-null   datetime64[ns]\n",
      " 21  Screening Study Complete      1113 non-null   datetime64[ns]\n",
      " 22  FIS Requested                 1148 non-null   datetime64[ns]\n",
      " 23  FIS Approved                  299 non-null    datetime64[ns]\n",
      " 24  Economic Study Required       338 non-null    object        \n",
      " 25  IA Signed                     320 non-null    datetime64[ns]\n",
      " 26  Air Permit                    469 non-null    string        \n",
      " 27  GHG Permit                    465 non-null    object        \n",
      " 28  Water Availability            1174 non-null   string        \n",
      " 29  Meets Planning                215 non-null    datetime64[ns]\n",
      " 30  Meets All Planning            160 non-null    datetime64[ns]\n",
      " 31  CDR Reporting Zone            1203 non-null   object        \n",
      " 32  Approved for Energization     75 non-null     datetime64[ns]\n",
      " 33  Approved for Synchronization  84 non-null     datetime64[ns]\n",
      " 34  Comment                       4 non-null      object        \n",
      " 35  queue_id                      1952 non-null   object        \n",
      " 36  project_name                  1952 non-null   object        \n",
      " 37  queue_date                    1949 non-null   object        \n",
      " 38  queue_status                  1952 non-null   object        \n",
      " 39  interconnection_status_raw    1952 non-null   object        \n",
      " 40  interconnection_status_lbnl   1952 non-null   object        \n",
      " 41  in_lbnl                       2273 non-null   bool          \n",
      " 42  in_gs                         2273 non-null   bool          \n",
      "dtypes: bool(2), datetime64[ns](12), float64(1), object(26), string(2)\n",
      "memory usage: 750.3+ KB\n"
     ]
    }
   ],
   "source": [
    "ercot = join_lbnl(raw_ercot, lbnl, \"ERCOT\")\n",
    "ercot.info()\n"
   ]
  },
  {
   "cell_type": "code",
   "execution_count": 31,
   "metadata": {},
   "outputs": [
    {
     "data": {
      "text/plain": [
       "in_gs  in_lbnl\n",
       "False  True       1070\n",
       "True   True        882\n",
       "       False       321\n",
       "dtype: int64"
      ]
     },
     "execution_count": 31,
     "metadata": {},
     "output_type": "execute_result"
    }
   ],
   "source": [
    "ercot[[\"in_gs\", \"in_lbnl\"]].value_counts(dropna=False)\n"
   ]
  },
  {
   "cell_type": "code",
   "execution_count": 32,
   "metadata": {},
   "outputs": [
    {
     "data": {
      "text/plain": [
       "in_gs  in_lbnl\n",
       "False  True       1070\n",
       "True   True        872\n",
       "       False       234\n",
       "dtype: int64"
      ]
     },
     "execution_count": 32,
     "metadata": {},
     "output_type": "execute_result"
    }
   ],
   "source": [
    "ercot.loc[\n",
    "    ercot[\"Queue Date\"]\n",
    "    .fillna(pd.to_datetime(\"2020-01-01\"))\n",
    "    .lt(pd.to_datetime(\"2023-01-01\")),\n",
    "    [\"in_gs\", \"in_lbnl\"],\n",
    "].value_counts(dropna=False)\n"
   ]
  },
  {
   "cell_type": "code",
   "execution_count": 33,
   "metadata": {},
   "outputs": [
    {
     "data": {
      "text/plain": [
       "Status     queue_status\n",
       "NaN        withdrawn       736\n",
       "Active     active          599\n",
       "NaN        operational     313\n",
       "Active     NaN             284\n",
       "Completed  active          282\n",
       "           NaN              37\n",
       "NaN        active           21\n",
       "Completed  operational       1\n",
       "dtype: int64"
      ]
     },
     "execution_count": 33,
     "metadata": {},
     "output_type": "execute_result"
    }
   ],
   "source": [
    "ercot[[\"Status\", \"queue_status\"]].value_counts(dropna=False)\n"
   ]
  },
  {
   "cell_type": "code",
   "execution_count": 13,
   "metadata": {},
   "outputs": [
    {
     "data": {
      "text/plain": [
       "Status     queue_status\n",
       "NaN        withdrawn       736\n",
       "Active     active          590\n",
       "NaN        operational     313\n",
       "Completed  active          281\n",
       "Active     NaN             197\n",
       "Completed  NaN              37\n",
       "NaN        active           21\n",
       "Completed  operational       1\n",
       "dtype: int64"
      ]
     },
     "execution_count": 13,
     "metadata": {},
     "output_type": "execute_result"
    }
   ],
   "source": [
    "ercot.loc[\n",
    "    ercot[\"Queue Date\"]\n",
    "    .fillna(pd.to_datetime(\"2020-01-01\"))\n",
    "    .lt(pd.to_datetime(\"2023-01-01\")),\n",
    "    [\"Status\", \"queue_status\"],\n",
    "].value_counts(dropna=False)\n"
   ]
  },
  {
   "cell_type": "code",
   "execution_count": 14,
   "metadata": {},
   "outputs": [
    {
     "data": {
      "text/plain": [
       "GIM Study Phase                     queue_status\n",
       "NaN                                 withdrawn       736\n",
       "SS Completed, FIS Started, No IA    active          538\n",
       "NaN                                 operational     313\n",
       "SS Completed, FIS Completed, IA     active          200\n",
       "SS Completed, FIS Started, No IA    NaN             184\n",
       "SS Started, FIS Started, No IA      NaN              88\n",
       "SS Completed, FIS Started, IA       active           79\n",
       "SS Completed, FIS Completed, No IA  active           61\n",
       "SS Completed, FIS Completed, IA     NaN              25\n",
       "NaN                                 active           21\n",
       "SS Completed, FIS Completed, No IA  NaN              12\n",
       "SS Completed, FIS Started, IA       NaN              12\n",
       "SS Completed, FIS Not Started, IA   active            3\n",
       "SS Completed, FIS Completed, IA     operational       1\n",
       "dtype: int64"
      ]
     },
     "execution_count": 14,
     "metadata": {},
     "output_type": "execute_result"
    }
   ],
   "source": [
    "ercot[[\"GIM Study Phase\", \"queue_status\"]].value_counts(dropna=False)\n"
   ]
  },
  {
   "cell_type": "code",
   "execution_count": 15,
   "metadata": {},
   "outputs": [
    {
     "data": {
      "text/plain": [
       "NaN      1394\n",
       "True      559\n",
       "False     320\n",
       "dtype: int64"
      ]
     },
     "execution_count": 15,
     "metadata": {},
     "output_type": "execute_result"
    }
   ],
   "source": [
    "ercot[\"Queue Date\"].eq(pd.to_datetime(ercot[\"queue_date\"])).where(\n",
    "    (ercot[\"Queue Date\"].notna() & ercot[\"queue_date\"].notnull())\n",
    ").value_counts(dropna=False)\n"
   ]
  },
  {
   "cell_type": "code",
   "execution_count": 18,
   "metadata": {},
   "outputs": [
    {
     "name": "stdout",
     "output_type": "stream",
     "text": [
      "<class 'pandas.core.frame.DataFrame'>\n",
      "RangeIndex: 1083 entries, 4 to 1086\n",
      "Data columns (total 36 columns):\n",
      " #   Column                        Non-Null Count  Dtype         \n",
      "---  ------                        --------------  -----         \n",
      " 0   Queue ID                      1083 non-null   object        \n",
      " 1   Project Name                  1083 non-null   object        \n",
      " 2   GIM Study Phase               1083 non-null   object        \n",
      " 3   Interconnecting Entity        1083 non-null   object        \n",
      " 4   Interconnection Location      1083 non-null   object        \n",
      " 5   County                        1083 non-null   object        \n",
      " 6   CDR Reporting Zone            1083 non-null   object        \n",
      " 7   Proposed Completion Date      1083 non-null   datetime64[ns]\n",
      " 8   Fuel                          1083 non-null   object        \n",
      " 9   Technology                    1083 non-null   object        \n",
      " 10  Capacity (MW)                 1083 non-null   float64       \n",
      " 11  Unnamed: 11                   183 non-null    object        \n",
      " 12  Unnamed: 12                   1036 non-null   object        \n",
      " 13  Screening Study Started       1065 non-null   datetime64[ns]\n",
      " 14  Screening Study Complete      1011 non-null   datetime64[ns]\n",
      " 15  FIS Requested                 1067 non-null   datetime64[ns]\n",
      " 16  FIS Approved                  275 non-null    datetime64[ns]\n",
      " 17  Economic Study Required       318 non-null    object        \n",
      " 18  IA Signed                     308 non-null    datetime64[ns]\n",
      " 19  Unnamed: 19                   1083 non-null   object        \n",
      " 20  Air Permit                    460 non-null    object        \n",
      " 21  GHG Permit                    459 non-null    object        \n",
      " 22  Water Availability            1050 non-null   object        \n",
      " 23  Meets Planning                205 non-null    object        \n",
      " 24  Meets All Planning            156 non-null    object        \n",
      " 25  Unnamed: 25                   150 non-null    object        \n",
      " 26  Construction Start            0 non-null      float64       \n",
      " 27  Construction End              0 non-null      float64       \n",
      " 28  Approved for Energization     74 non-null     datetime64[ns]\n",
      " 29  Approved for Synchronization  80 non-null     datetime64[ns]\n",
      " 30  Comment                       4 non-null      object        \n",
      " 31  State                         1083 non-null   object        \n",
      " 32  Queue Date                    1065 non-null   datetime64[ns]\n",
      " 33  Generation Type               1083 non-null   object        \n",
      " 34  Status                        1083 non-null   object        \n",
      " 35  Actual Completion Date        80 non-null     datetime64[ns]\n",
      "dtypes: datetime64[ns](10), float64(3), object(23)\n",
      "memory usage: 304.7+ KB\n"
     ]
    }
   ],
   "source": [
    "# get old version of ercot data from December 2022\n",
    "old_ercot_path = Path(\"/app/data/raw/gridstatus/GIS_Report_December_2022.xlsx\")\n",
    "assert old_ercot_path.exists()\n",
    "\n",
    "# copy and paste some GridStatus ETL code\n",
    "def extract_ercot(path: Path) -> pd.DataFrame:\n",
    "    queue = pd.read_excel(\n",
    "        path,\n",
    "        sheet_name=\"Project Details - Large Gen\",\n",
    "        skiprows=30,\n",
    "    ).iloc[4:]\n",
    "\n",
    "    queue[\"State\"] = \"Texas\"\n",
    "    queue[\"Queue Date\"] = queue[\"Screening Study Started\"]\n",
    "\n",
    "    fuel_type_map = {\n",
    "        \"BIO\": \"Biomass\",\n",
    "        \"COA\": \"Coal\",\n",
    "        \"GAS\": \"Gas\",\n",
    "        \"GEO\": \"Geothermal\",\n",
    "        \"HYD\": \"Hydrogen\",\n",
    "        \"NUC\": \"Nuclear\",\n",
    "        \"OIL\": \"Fuel Oil\",\n",
    "        \"OTH\": \"Other\",\n",
    "        \"PET\": \"Petcoke\",\n",
    "        \"SOL\": \"Solar\",\n",
    "        \"WAT\": \"Water\",\n",
    "        \"WIN\": \"Wind\",\n",
    "    }\n",
    "\n",
    "    technology_type_map = {\n",
    "        \"BA\": \"Battery Energy Storage\",\n",
    "        \"CC\": \"Combined-Cycle\",\n",
    "        \"CE\": \"Compressed Air Energy Storage\",\n",
    "        \"CP\": \"Concentrated Solar Power\",\n",
    "        \"EN\": \"Energy Storage\",\n",
    "        \"FC\": \"Fuel Cell\",\n",
    "        \"GT\": \"Combustion (gas) Turbine, but not part of a Combined-Cycle\",\n",
    "        \"HY\": \"Hydroelectric Turbine\",\n",
    "        \"IC\": \"Internal Combustion Engine, eg. Reciprocating\",\n",
    "        \"OT\": \"Other\",\n",
    "        \"PV\": \"Photovoltaic Solar\",\n",
    "        \"ST\": \"Steam Turbine other than Combined-Cycle\",\n",
    "        \"WT\": \"Wind Turbine\",\n",
    "    }\n",
    "\n",
    "    queue[\"Fuel\"] = queue[\"Fuel\"].map(fuel_type_map)\n",
    "    queue[\"Technology\"] = queue[\"Technology\"].map(technology_type_map)\n",
    "\n",
    "    queue[\"Generation Type\"] = queue[\"Fuel\"] + \" - \" + queue[\"Technology\"]\n",
    "\n",
    "    queue[\"Status\"] = (\n",
    "        queue[\"IA Signed\"]\n",
    "        .isna()\n",
    "        .map(\n",
    "            {\n",
    "                True: \"Active\",\n",
    "                False: \"Completed\",\n",
    "            },\n",
    "        )\n",
    "    )\n",
    "\n",
    "    queue[\"Actual Completion Date\"] = queue[\"Approved for Synchronization\"]\n",
    "\n",
    "    rename = {\n",
    "        \"INR\": \"Queue ID\",\n",
    "        \"Project Name\": \"Project Name\",\n",
    "        \"Interconnecting Entity\": \"Interconnecting Entity\",\n",
    "        \"Projected COD\": \"Proposed Completion Date\",\n",
    "        \"POI Location\": \"Interconnection Location\",\n",
    "        \"County\": \"County\",\n",
    "        \"State\": \"State\",\n",
    "        \"Capacity (MW)\": \"Capacity (MW)\",\n",
    "        \"Queue Date\": \"Queue Date\",\n",
    "        \"Generation Type\": \"Generation Type\",\n",
    "        \"Actual Completion Date\": \"Actual Completion Date\",\n",
    "        \"Status\": \"Status\",\n",
    "    }\n",
    "    return queue.rename(columns=rename)\n",
    "old_ercot = extract_ercot(old_ercot_path)\n",
    "old_ercot.info()\n"
   ]
  },
  {
   "cell_type": "code",
   "execution_count": 19,
   "metadata": {},
   "outputs": [],
   "source": [
    "old_ercot = join_lbnl(old_ercot, lbnl, \"ERCOT\", iso_id_col=\"Queue ID\")\n"
   ]
  },
  {
   "cell_type": "code",
   "execution_count": 20,
   "metadata": {},
   "outputs": [
    {
     "data": {
      "text/plain": [
       "in_gs  in_lbnl\n",
       "False  True       1050\n",
       "True   True        902\n",
       "       False       181\n",
       "dtype: int64"
      ]
     },
     "execution_count": 20,
     "metadata": {},
     "output_type": "execute_result"
    }
   ],
   "source": [
    "old_ercot[[\"in_gs\", \"in_lbnl\"]].value_counts(dropna=False)\n"
   ]
  },
  {
   "cell_type": "code",
   "execution_count": 22,
   "metadata": {},
   "outputs": [
    {
     "data": {
      "text/plain": [
       "Status     queue_status\n",
       "NaN        withdrawn       736\n",
       "Active     active          619\n",
       "NaN        operational     313\n",
       "Completed  active          282\n",
       "Active     NaN             156\n",
       "Completed  NaN              25\n",
       "           operational       1\n",
       "NaN        active            1\n",
       "dtype: int64"
      ]
     },
     "execution_count": 22,
     "metadata": {},
     "output_type": "execute_result"
    }
   ],
   "source": [
    "old_ercot[[\"Status\", \"queue_status\"]].value_counts(dropna=False)\n"
   ]
  },
  {
   "cell_type": "code",
   "execution_count": 27,
   "metadata": {},
   "outputs": [
    {
     "data": {
      "text/html": [
       "<div>\n",
       "<style scoped>\n",
       "    .dataframe tbody tr th:only-of-type {\n",
       "        vertical-align: middle;\n",
       "    }\n",
       "\n",
       "    .dataframe tbody tr th {\n",
       "        vertical-align: top;\n",
       "    }\n",
       "\n",
       "    .dataframe thead th {\n",
       "        text-align: right;\n",
       "    }\n",
       "</style>\n",
       "<table border=\"1\" class=\"dataframe\">\n",
       "  <thead>\n",
       "    <tr style=\"text-align: right;\">\n",
       "      <th></th>\n",
       "      <th></th>\n",
       "      <th>gs</th>\n",
       "      <th>old</th>\n",
       "    </tr>\n",
       "    <tr>\n",
       "      <th>Status</th>\n",
       "      <th>queue_status</th>\n",
       "      <th></th>\n",
       "      <th></th>\n",
       "    </tr>\n",
       "  </thead>\n",
       "  <tbody>\n",
       "    <tr>\n",
       "      <th rowspan=\"2\" valign=\"top\">Active</th>\n",
       "      <th>active</th>\n",
       "      <td>599</td>\n",
       "      <td>619</td>\n",
       "    </tr>\n",
       "    <tr>\n",
       "      <th>NaN</th>\n",
       "      <td>284</td>\n",
       "      <td>156</td>\n",
       "    </tr>\n",
       "    <tr>\n",
       "      <th rowspan=\"3\" valign=\"top\">Completed</th>\n",
       "      <th>active</th>\n",
       "      <td>282</td>\n",
       "      <td>282</td>\n",
       "    </tr>\n",
       "    <tr>\n",
       "      <th>operational</th>\n",
       "      <td>1</td>\n",
       "      <td>1</td>\n",
       "    </tr>\n",
       "    <tr>\n",
       "      <th>NaN</th>\n",
       "      <td>37</td>\n",
       "      <td>25</td>\n",
       "    </tr>\n",
       "    <tr>\n",
       "      <th rowspan=\"3\" valign=\"top\">NaN</th>\n",
       "      <th>active</th>\n",
       "      <td>21</td>\n",
       "      <td>1</td>\n",
       "    </tr>\n",
       "    <tr>\n",
       "      <th>operational</th>\n",
       "      <td>313</td>\n",
       "      <td>313</td>\n",
       "    </tr>\n",
       "    <tr>\n",
       "      <th>withdrawn</th>\n",
       "      <td>736</td>\n",
       "      <td>736</td>\n",
       "    </tr>\n",
       "  </tbody>\n",
       "</table>\n",
       "</div>"
      ],
      "text/plain": [
       "                         gs  old\n",
       "Status    queue_status          \n",
       "Active    active        599  619\n",
       "          NaN           284  156\n",
       "Completed active        282  282\n",
       "          operational     1    1\n",
       "          NaN            37   25\n",
       "NaN       active         21    1\n",
       "          operational   313  313\n",
       "          withdrawn     736  736"
      ]
     },
     "execution_count": 27,
     "metadata": {},
     "output_type": "execute_result"
    }
   ],
   "source": [
    "pd.concat(\n",
    "    (\n",
    "        ercot[[\"Status\", \"queue_status\"]].value_counts(dropna=False).rename(\"gs\"),\n",
    "        old_ercot[[\"Status\", \"queue_status\"]].value_counts(dropna=False).rename(\"old\"),\n",
    "    ),\n",
    "    axis=1,\n",
    "    join=\"outer\",\n",
    ").sort_index().drop_duplicates()\n"
   ]
  },
  {
   "cell_type": "code",
   "execution_count": 28,
   "metadata": {},
   "outputs": [
    {
     "data": {
      "text/plain": [
       "NaN      1245\n",
       "True      572\n",
       "False     316\n",
       "dtype: int64"
      ]
     },
     "execution_count": 28,
     "metadata": {},
     "output_type": "execute_result"
    }
   ],
   "source": [
    "old_ercot[\"Queue Date\"].eq(pd.to_datetime(old_ercot[\"queue_date\"])).where(\n",
    "    (old_ercot[\"Queue Date\"].notna() & old_ercot[\"queue_date\"].notnull())\n",
    ").value_counts(dropna=False)\n"
   ]
  },
  {
   "cell_type": "code",
   "execution_count": 35,
   "metadata": {},
   "outputs": [
    {
     "data": {
      "text/plain": [
       "NaN      1245\n",
       "True      592\n",
       "False     296\n",
       "dtype: int64"
      ]
     },
     "execution_count": 35,
     "metadata": {},
     "output_type": "execute_result"
    }
   ],
   "source": [
    "old_ercot[\"Queue Date\"].sub(pd.to_datetime(old_ercot[\"queue_date\"])).lt(pd.Timedelta(days=2)).where(\n",
    "    (old_ercot[\"Queue Date\"].notna() & old_ercot[\"queue_date\"].notnull())\n",
    ").value_counts(dropna=False)\n"
   ]
  },
  {
   "cell_type": "code",
   "execution_count": 40,
   "metadata": {},
   "outputs": [
    {
     "data": {
      "text/plain": [
       "<AxesSubplot: >"
      ]
     },
     "execution_count": 40,
     "metadata": {},
     "output_type": "execute_result"
    },
    {
     "data": {
      "image/png": "[encoded data removed]",
      "text/plain": [
       "<Figure size 640x480 with 1 Axes>"
      ]
     },
     "metadata": {},
     "output_type": "display_data"
    }
   ],
   "source": [
    "old_ercot[\"Queue Date\"].sub(pd.to_datetime(old_ercot[\"queue_date\"])).dt.total_seconds().div(60 * 60 * 24).replace(0, 1e-1).transform(np.log10).hist(bins=20, log=True)\n"
   ]
  },
  {
   "cell_type": "code",
   "execution_count": 41,
   "metadata": {},
   "outputs": [],
   "source": [
    "mismatched_dates = (\n",
    "    old_ercot[\"Queue Date\"]\n",
    "    .ne(pd.to_datetime(old_ercot[\"queue_date\"]))\n",
    "    .where((old_ercot[\"Queue Date\"].notna() & old_ercot[\"queue_date\"].notnull()))\n",
    ").fillna(False)\n"
   ]
  },
  {
   "cell_type": "code",
   "execution_count": 42,
   "metadata": {},
   "outputs": [
    {
     "data": {
      "text/html": [
       "<div>\n",
       "<style scoped>\n",
       "    .dataframe tbody tr th:only-of-type {\n",
       "        vertical-align: middle;\n",
       "    }\n",
       "\n",
       "    .dataframe tbody tr th {\n",
       "        vertical-align: top;\n",
       "    }\n",
       "\n",
       "    .dataframe thead th {\n",
       "        text-align: right;\n",
       "    }\n",
       "</style>\n",
       "<table border=\"1\" class=\"dataframe\">\n",
       "  <thead>\n",
       "    <tr style=\"text-align: right;\">\n",
       "      <th></th>\n",
       "      <th>Proposed Completion Date</th>\n",
       "      <th>Queue Date</th>\n",
       "      <th>Actual Completion Date</th>\n",
       "      <th>queue_date</th>\n",
       "    </tr>\n",
       "  </thead>\n",
       "  <tbody>\n",
       "    <tr>\n",
       "      <th>1</th>\n",
       "      <td>2022-12-30</td>\n",
       "      <td>2013-11-13</td>\n",
       "      <td>2022-01-04</td>\n",
       "      <td>11/12/2013</td>\n",
       "    </tr>\n",
       "    <tr>\n",
       "      <th>91</th>\n",
       "      <td>2023-07-31</td>\n",
       "      <td>2018-10-10</td>\n",
       "      <td>2021-07-26</td>\n",
       "      <td>7/18/2018</td>\n",
       "    </tr>\n",
       "    <tr>\n",
       "      <th>99</th>\n",
       "      <td>2023-03-01</td>\n",
       "      <td>2018-11-30</td>\n",
       "      <td>2022-09-26</td>\n",
       "      <td>11/5/2018</td>\n",
       "    </tr>\n",
       "    <tr>\n",
       "      <th>106</th>\n",
       "      <td>2024-02-05</td>\n",
       "      <td>2018-12-18</td>\n",
       "      <td>NaT</td>\n",
       "      <td>12/17/2018</td>\n",
       "    </tr>\n",
       "    <tr>\n",
       "      <th>113</th>\n",
       "      <td>2024-11-01</td>\n",
       "      <td>2019-01-15</td>\n",
       "      <td>NaT</td>\n",
       "      <td>1/8/2019</td>\n",
       "    </tr>\n",
       "    <tr>\n",
       "      <th>...</th>\n",
       "      <td>...</td>\n",
       "      <td>...</td>\n",
       "      <td>...</td>\n",
       "      <td>...</td>\n",
       "    </tr>\n",
       "    <tr>\n",
       "      <th>1068</th>\n",
       "      <td>2026-03-24</td>\n",
       "      <td>2022-11-15</td>\n",
       "      <td>NaT</td>\n",
       "      <td>10/24/2022</td>\n",
       "    </tr>\n",
       "    <tr>\n",
       "      <th>1072</th>\n",
       "      <td>2026-07-01</td>\n",
       "      <td>2022-09-15</td>\n",
       "      <td>NaT</td>\n",
       "      <td>8/11/2022</td>\n",
       "    </tr>\n",
       "    <tr>\n",
       "      <th>1073</th>\n",
       "      <td>2026-12-01</td>\n",
       "      <td>2022-09-21</td>\n",
       "      <td>NaT</td>\n",
       "      <td>9/19/2022</td>\n",
       "    </tr>\n",
       "    <tr>\n",
       "      <th>1074</th>\n",
       "      <td>2027-03-24</td>\n",
       "      <td>2022-12-07</td>\n",
       "      <td>NaT</td>\n",
       "      <td>11/8/2022</td>\n",
       "    </tr>\n",
       "    <tr>\n",
       "      <th>1078</th>\n",
       "      <td>2027-12-01</td>\n",
       "      <td>2022-09-21</td>\n",
       "      <td>NaT</td>\n",
       "      <td>9/19/2022</td>\n",
       "    </tr>\n",
       "  </tbody>\n",
       "</table>\n",
       "<p>316 rows × 4 columns</p>\n",
       "</div>"
      ],
      "text/plain": [
       "     Proposed Completion Date Queue Date Actual Completion Date  queue_date\n",
       "1                  2022-12-30 2013-11-13             2022-01-04  11/12/2013\n",
       "91                 2023-07-31 2018-10-10             2021-07-26   7/18/2018\n",
       "99                 2023-03-01 2018-11-30             2022-09-26   11/5/2018\n",
       "106                2024-02-05 2018-12-18                    NaT  12/17/2018\n",
       "113                2024-11-01 2019-01-15                    NaT    1/8/2019\n",
       "...                       ...        ...                    ...         ...\n",
       "1068               2026-03-24 2022-11-15                    NaT  10/24/2022\n",
       "1072               2026-07-01 2022-09-15                    NaT   8/11/2022\n",
       "1073               2026-12-01 2022-09-21                    NaT   9/19/2022\n",
       "1074               2027-03-24 2022-12-07                    NaT   11/8/2022\n",
       "1078               2027-12-01 2022-09-21                    NaT   9/19/2022\n",
       "\n",
       "[316 rows x 4 columns]"
      ]
     },
     "execution_count": 42,
     "metadata": {},
     "output_type": "execute_result"
    }
   ],
   "source": [
    "# none of the dates match. No idea where LBNL queue date comes from. Not from the ISO data!\n",
    "old_ercot.loc[mismatched_dates, [c for c in old_ercot.columns if 'date' in c.lower()]]\n"
   ]
  },
  {
   "cell_type": "code",
   "execution_count": 45,
   "metadata": {},
   "outputs": [
    {
     "data": {
      "text/plain": [
       "GIM Study Phase                     interconnection_status_raw        \n",
       "SS Completed, FIS Completed, IA     SS Completed, FIS Completed, IA       203\n",
       "                                    NaN                                    19\n",
       "SS Completed, FIS Completed, No IA  SS Completed, FIS Completed, No IA     46\n",
       "                                    NaN                                     7\n",
       "SS Completed, FIS Not Started, IA   SS Completed, FIS Not Started, IA       3\n",
       "SS Completed, FIS Started, IA       SS Completed, FIS Started, IA          77\n",
       "                                    NaN                                     6\n",
       "SS Completed, FIS Started, No IA    SS Completed, FIS Started, No IA      520\n",
       "                                    NaN                                   132\n",
       "SS Started, FIS Started, No IA      SS Started, FIS Started, No IA         53\n",
       "                                    NaN                                    17\n",
       "NaN                                 FIS                                   538\n",
       "                                    FIS & SS Incomplete                    32\n",
       "                                    FIS Complete                           85\n",
       "                                    IA                                    331\n",
       "                                    IA and FIS Pending                     63\n",
       "                                    MRD Approved                            1\n",
       "dtype: int64"
      ]
     },
     "execution_count": 45,
     "metadata": {},
     "output_type": "execute_result"
    }
   ],
   "source": [
    "old_ercot[['GIM Study Phase', 'interconnection_status_raw']].value_counts(dropna=False).sort_index()\n"
   ]
  },
  {
   "cell_type": "code",
   "execution_count": 46,
   "metadata": {},
   "outputs": [
    {
     "data": {
      "text/plain": [
       "False    1231\n",
       "True      902\n",
       "dtype: int64"
      ]
     },
     "execution_count": 46,
     "metadata": {},
     "output_type": "execute_result"
    }
   ],
   "source": [
    "old_ercot['GIM Study Phase'].eq(old_ercot['interconnection_status_raw']).value_counts(dropna=False)\n"
   ]
  },
  {
   "cell_type": "code",
   "execution_count": 48,
   "metadata": {},
   "outputs": [
    {
     "data": {
      "text/plain": [
       "GIM Study Phase                     interconnection_status_lbnl\n",
       "SS Completed, FIS Completed, IA     IA Executed                    203\n",
       "SS Completed, FIS Completed, No IA  Facility Study                  46\n",
       "SS Completed, FIS Not Started, IA   System Impact Study              3\n",
       "SS Completed, FIS Started, IA       IA Executed                     77\n",
       "SS Completed, FIS Started, No IA    Facility Study                 520\n",
       "SS Started, FIS Started, No IA      System Impact Study             53\n",
       "dtype: int64"
      ]
     },
     "execution_count": 48,
     "metadata": {},
     "output_type": "execute_result"
    }
   ],
   "source": [
    "# LBNL status looks consistently applied (1:1) but the ordering doesn't really make sense to me.\n",
    "raw_status_match = old_ercot['GIM Study Phase'].eq(old_ercot['interconnection_status_raw'])\n",
    "old_ercot.loc[raw_status_match, ['GIM Study Phase', 'interconnection_status_lbnl']].value_counts(dropna=False).sort_index()\n"
   ]
  },
  {
   "cell_type": "code",
   "execution_count": 49,
   "metadata": {},
   "outputs": [
    {
     "data": {
      "text/plain": [
       "GIM Study Phase                     queue_status\n",
       "SS Completed, FIS Completed, IA     active          202\n",
       "                                    operational       1\n",
       "SS Completed, FIS Completed, No IA  active           46\n",
       "SS Completed, FIS Not Started, IA   active            3\n",
       "SS Completed, FIS Started, IA       active           77\n",
       "SS Completed, FIS Started, No IA    active          520\n",
       "SS Started, FIS Started, No IA      active           53\n",
       "dtype: int64"
      ]
     },
     "execution_count": 49,
     "metadata": {},
     "output_type": "execute_result"
    }
   ],
   "source": [
    "old_ercot.loc[raw_status_match, ['GIM Study Phase', 'queue_status']].value_counts(dropna=False).sort_index()\n"
   ]
  },
  {
   "cell_type": "code",
   "execution_count": 297,
   "metadata": {},
   "outputs": [
    {
     "data": {
      "text/plain": [
       "Other - Battery Energy Storage                                      550\n",
       "Solar - Photovoltaic Solar                                          507\n",
       "Wind - Wind Turbine                                                 101\n",
       "Gas - Combustion (gas) Turbine, but not part of a Combined-Cycle     18\n",
       "Gas - Combined-Cycle                                                 14\n",
       "Gas - Internal Combustion Engine, eg. Reciprocating                   4\n",
       "Other - Other                                                         4\n",
       "Gas - Steam Turbine other than Combined-Cycle                         2\n",
       "Other - Energy Storage                                                2\n",
       "Biomass - Steam Turbine other than Combined-Cycle                     1\n",
       "Name: Generation Type, dtype: int64"
      ]
     },
     "execution_count": 297,
     "metadata": {},
     "output_type": "execute_result"
    }
   ],
   "source": [
    "# also includes technology type, which is nice.\n",
    "raw_ercot['Generation Type'].value_counts(dropna=False)\n"
   ]
  },
  {
   "cell_type": "markdown",
   "metadata": {},
   "source": [
    "### NYISO\n",
    "\n",
    "* LBNL appears to have used the column labeled `S`, which is an ordinal status number corresponding to NYISO's LFIP. Key:\n",
    "  * 0=Withdrawn\n",
    "  * 1=Scoping Meeting Pending\n",
    "  * 2=FES Pending\n",
    "  * 3=FES in Progress\n",
    "  * 4=SRIS/SIS Pending\n",
    "  * 5=SRIS/SIS in Progress\n",
    "  * 6=SRIS/SIS Approved\n",
    "  * 7=FS Pending\n",
    "  * 8=Rejected Cost Allocation/Next FS Pending\n",
    "  * 9=FS in Progress\n",
    "  * 10=Accepted Cost Allocation/IA in Progress\n",
    "  * 11=IA Completed\n",
    "  * 12=Under Construction\n",
    "  * 13=In Service for Test\n",
    "  * 14=In Service Commercial\n",
    "  * 15=Partial In-Service\n",
    "* Availability of Studies  Key: None=Not Available, FES=Feasibility Study Available, SRIS=System Reliability Impact Study Available, FS=Facilities Study and/or ATRA Available\n",
    "* CY Completion/SGIA Tender refers to the Attachment X milestone used to apply the 4-year COD limitation.\n"
   ]
  },
  {
   "cell_type": "code",
   "execution_count": 34,
   "metadata": {},
   "outputs": [
    {
     "data": {
      "text/plain": [
       "Index(['Queue ID', 'Project Name', 'Interconnecting Entity', 'County', 'State', 'Interconnection Location', 'Transmission Owner', 'Generation Type', 'Capacity (MW)', 'Summer Capacity (MW)', 'Winter Capacity (MW)', 'Queue Date', 'Status', 'Proposed Completion Date', 'Withdrawn Date', 'Withdrawal Comment', 'Actual Completion Date', 'Proposed  In-Service', 'Proposed Initial-Sync Date', 'Last Updated Date', 'Z', 'S', 'Availability of Studies', 'SGIA Tender Date'], dtype='object')"
      ]
     },
     "execution_count": 34,
     "metadata": {},
     "output_type": "execute_result"
    }
   ],
   "source": [
    "raw_nyiso.columns\n"
   ]
  },
  {
   "cell_type": "code",
   "execution_count": 39,
   "metadata": {},
   "outputs": [
    {
     "data": {
      "text/html": [
       "<div>\n",
       "<style scoped>\n",
       "    .dataframe tbody tr th:only-of-type {\n",
       "        vertical-align: middle;\n",
       "    }\n",
       "\n",
       "    .dataframe tbody tr th {\n",
       "        vertical-align: top;\n",
       "    }\n",
       "\n",
       "    .dataframe thead th {\n",
       "        text-align: right;\n",
       "    }\n",
       "</style>\n",
       "<table border=\"1\" class=\"dataframe\">\n",
       "  <thead>\n",
       "    <tr style=\"text-align: right;\">\n",
       "      <th></th>\n",
       "      <th>Queue ID</th>\n",
       "      <th>Project Name</th>\n",
       "      <th>Interconnecting Entity</th>\n",
       "      <th>County</th>\n",
       "      <th>State</th>\n",
       "      <th>Interconnection Location</th>\n",
       "      <th>Transmission Owner</th>\n",
       "      <th>Generation Type</th>\n",
       "      <th>Capacity (MW)</th>\n",
       "      <th>Summer Capacity (MW)</th>\n",
       "      <th>Winter Capacity (MW)</th>\n",
       "      <th>Queue Date</th>\n",
       "      <th>Status</th>\n",
       "      <th>Proposed Completion Date</th>\n",
       "      <th>Withdrawn Date</th>\n",
       "      <th>Withdrawal Comment</th>\n",
       "      <th>Actual Completion Date</th>\n",
       "      <th>Proposed  In-Service</th>\n",
       "      <th>Proposed Initial-Sync Date</th>\n",
       "      <th>Last Updated Date</th>\n",
       "      <th>Z</th>\n",
       "      <th>S</th>\n",
       "      <th>Availability of Studies</th>\n",
       "      <th>SGIA Tender Date</th>\n",
       "    </tr>\n",
       "  </thead>\n",
       "  <tbody>\n",
       "    <tr>\n",
       "      <th>5</th>\n",
       "      <td>0430</td>\n",
       "      <td>Cedar Rapids Transmission</td>\n",
       "      <td>None</td>\n",
       "      <td>St. Lawrence</td>\n",
       "      <td>NY</td>\n",
       "      <td>None</td>\n",
       "      <td>NM-NG</td>\n",
       "      <td>AC Transmission</td>\n",
       "      <td>0.0</td>\n",
       "      <td>&lt;NA&gt;</td>\n",
       "      <td>&lt;NA&gt;</td>\n",
       "      <td>2014-03-05</td>\n",
       "      <td>Active</td>\n",
       "      <td>NaT</td>\n",
       "      <td>&lt;NA&gt;</td>\n",
       "      <td>None</td>\n",
       "      <td>&lt;NA&gt;</td>\n",
       "      <td>NaT</td>\n",
       "      <td>NaT</td>\n",
       "      <td>12/31/2019</td>\n",
       "      <td>D</td>\n",
       "      <td>12.0</td>\n",
       "      <td>SIS, FS</td>\n",
       "      <td>None</td>\n",
       "    </tr>\n",
       "    <tr>\n",
       "      <th>626</th>\n",
       "      <td>0127A</td>\n",
       "      <td>Munnsville</td>\n",
       "      <td>Airtricity Munnsville Wind Farm, LLC</td>\n",
       "      <td>Madison</td>\n",
       "      <td>NY</td>\n",
       "      <td>46kV line</td>\n",
       "      <td>NYSEG</td>\n",
       "      <td>Wind</td>\n",
       "      <td>6.0</td>\n",
       "      <td>6</td>\n",
       "      <td>&lt;NA&gt;</td>\n",
       "      <td>2002-10-09</td>\n",
       "      <td>Withdrawn</td>\n",
       "      <td>NaT</td>\n",
       "      <td>2014-01-31 00:00:00</td>\n",
       "      <td>None</td>\n",
       "      <td>&lt;NA&gt;</td>\n",
       "      <td>NaT</td>\n",
       "      <td>NaT</td>\n",
       "      <td>&lt;NA&gt;</td>\n",
       "      <td>E</td>\n",
       "      <td>0</td>\n",
       "      <td>None</td>\n",
       "      <td>None</td>\n",
       "    </tr>\n",
       "    <tr>\n",
       "      <th>1442</th>\n",
       "      <td>0127A</td>\n",
       "      <td>Munnsville</td>\n",
       "      <td>None</td>\n",
       "      <td>Madison</td>\n",
       "      <td>NY</td>\n",
       "      <td>None</td>\n",
       "      <td>NYSEG</td>\n",
       "      <td>Wind</td>\n",
       "      <td>40.0</td>\n",
       "      <td>40.0</td>\n",
       "      <td>&lt;NA&gt;</td>\n",
       "      <td>2002-10-09</td>\n",
       "      <td>Completed</td>\n",
       "      <td>NaT</td>\n",
       "      <td>&lt;NA&gt;</td>\n",
       "      <td>None</td>\n",
       "      <td>3/31/13</td>\n",
       "      <td>NaT</td>\n",
       "      <td>NaT</td>\n",
       "      <td>3/31/13</td>\n",
       "      <td>E</td>\n",
       "      <td>11,14</td>\n",
       "      <td>SRIS, CY06</td>\n",
       "      <td>None</td>\n",
       "    </tr>\n",
       "    <tr>\n",
       "      <th>1517</th>\n",
       "      <td>0430</td>\n",
       "      <td>Cedar Rapids Transmission</td>\n",
       "      <td>None</td>\n",
       "      <td>St. Lawrence</td>\n",
       "      <td>NY</td>\n",
       "      <td>None</td>\n",
       "      <td>NM-NG</td>\n",
       "      <td>AC Transmission</td>\n",
       "      <td>0.0</td>\n",
       "      <td>&lt;NA&gt;</td>\n",
       "      <td>&lt;NA&gt;</td>\n",
       "      <td>2014-03-05</td>\n",
       "      <td>Completed</td>\n",
       "      <td>NaT</td>\n",
       "      <td>&lt;NA&gt;</td>\n",
       "      <td>None</td>\n",
       "      <td>2022-03-31 00:00:00</td>\n",
       "      <td>NaT</td>\n",
       "      <td>2021-10-01</td>\n",
       "      <td>2022-03-31 00:00:00</td>\n",
       "      <td>D</td>\n",
       "      <td>14</td>\n",
       "      <td>SIS, FS</td>\n",
       "      <td>None</td>\n",
       "    </tr>\n",
       "  </tbody>\n",
       "</table>\n",
       "</div>"
      ],
      "text/plain": [
       "     Queue ID               Project Name                Interconnecting Entity        County State Interconnection Location Transmission Owner  Generation Type  Capacity (MW) Summer Capacity (MW) Winter Capacity (MW) Queue Date     Status Proposed Completion Date       Withdrawn Date Withdrawal Comment Actual Completion Date Proposed  In-Service Proposed Initial-Sync Date    Last Updated Date  Z      S Availability of Studies SGIA Tender Date\n",
       "5        0430  Cedar Rapids Transmission                                  None  St. Lawrence    NY                     None              NM-NG  AC Transmission            0.0                 <NA>                 <NA> 2014-03-05     Active                      NaT                 <NA>               None                   <NA>                  NaT                        NaT           12/31/2019  D   12.0                 SIS, FS             None\n",
       "626     0127A                 Munnsville  Airtricity Munnsville Wind Farm, LLC       Madison    NY                46kV line              NYSEG             Wind            6.0                    6                 <NA> 2002-10-09  Withdrawn                      NaT  2014-01-31 00:00:00               None                   <NA>                  NaT                        NaT                 <NA>  E      0                    None             None\n",
       "1442    0127A                 Munnsville                                  None       Madison    NY                     None              NYSEG             Wind           40.0                 40.0                 <NA> 2002-10-09  Completed                      NaT                 <NA>               None                3/31/13                  NaT                        NaT              3/31/13  E  11,14              SRIS, CY06             None\n",
       "1517     0430  Cedar Rapids Transmission                                  None  St. Lawrence    NY                     None              NM-NG  AC Transmission            0.0                 <NA>                 <NA> 2014-03-05  Completed                      NaT                 <NA>               None    2022-03-31 00:00:00                  NaT                 2021-10-01  2022-03-31 00:00:00  D     14                 SIS, FS             None"
      ]
     },
     "execution_count": 39,
     "metadata": {},
     "output_type": "execute_result"
    }
   ],
   "source": [
    "raw_nyiso[raw_nyiso[\"Queue ID\"].duplicated(keep=False)]"
   ]
  },
  {
   "cell_type": "code",
   "execution_count": 40,
   "metadata": {},
   "outputs": [
    {
     "data": {
      "text/html": [
       "<div>\n",
       "<style scoped>\n",
       "    .dataframe tbody tr th:only-of-type {\n",
       "        vertical-align: middle;\n",
       "    }\n",
       "\n",
       "    .dataframe tbody tr th {\n",
       "        vertical-align: top;\n",
       "    }\n",
       "\n",
       "    .dataframe thead th {\n",
       "        text-align: right;\n",
       "    }\n",
       "</style>\n",
       "<table border=\"1\" class=\"dataframe\">\n",
       "  <thead>\n",
       "    <tr style=\"text-align: right;\">\n",
       "      <th></th>\n",
       "      <th>Queue ID</th>\n",
       "      <th>Project Name</th>\n",
       "      <th>Interconnecting Entity</th>\n",
       "      <th>County</th>\n",
       "      <th>State</th>\n",
       "      <th>Interconnection Location</th>\n",
       "      <th>Transmission Owner</th>\n",
       "      <th>Generation Type</th>\n",
       "      <th>Capacity (MW)</th>\n",
       "      <th>Summer Capacity (MW)</th>\n",
       "      <th>Winter Capacity (MW)</th>\n",
       "      <th>Queue Date</th>\n",
       "      <th>Status</th>\n",
       "      <th>Proposed Completion Date</th>\n",
       "      <th>Withdrawn Date</th>\n",
       "      <th>Withdrawal Comment</th>\n",
       "      <th>Actual Completion Date</th>\n",
       "      <th>Proposed  In-Service</th>\n",
       "      <th>Proposed Initial-Sync Date</th>\n",
       "      <th>Last Updated Date</th>\n",
       "      <th>Z</th>\n",
       "      <th>S</th>\n",
       "      <th>Availability of Studies</th>\n",
       "      <th>SGIA Tender Date</th>\n",
       "    </tr>\n",
       "  </thead>\n",
       "  <tbody>\n",
       "    <tr>\n",
       "      <th>626</th>\n",
       "      <td>0127A</td>\n",
       "      <td>Munnsville</td>\n",
       "      <td>Airtricity Munnsville Wind Farm, LLC</td>\n",
       "      <td>Madison</td>\n",
       "      <td>NY</td>\n",
       "      <td>46kV line</td>\n",
       "      <td>NYSEG</td>\n",
       "      <td>Wind</td>\n",
       "      <td>6.0</td>\n",
       "      <td>6</td>\n",
       "      <td>&lt;NA&gt;</td>\n",
       "      <td>2002-10-09</td>\n",
       "      <td>Withdrawn</td>\n",
       "      <td>NaT</td>\n",
       "      <td>2014-01-31 00:00:00</td>\n",
       "      <td>None</td>\n",
       "      <td>&lt;NA&gt;</td>\n",
       "      <td>NaT</td>\n",
       "      <td>NaT</td>\n",
       "      <td>&lt;NA&gt;</td>\n",
       "      <td>E</td>\n",
       "      <td>0</td>\n",
       "      <td>None</td>\n",
       "      <td>None</td>\n",
       "    </tr>\n",
       "    <tr>\n",
       "      <th>1442</th>\n",
       "      <td>0127A</td>\n",
       "      <td>Munnsville</td>\n",
       "      <td>None</td>\n",
       "      <td>Madison</td>\n",
       "      <td>NY</td>\n",
       "      <td>None</td>\n",
       "      <td>NYSEG</td>\n",
       "      <td>Wind</td>\n",
       "      <td>40.0</td>\n",
       "      <td>40.0</td>\n",
       "      <td>&lt;NA&gt;</td>\n",
       "      <td>2002-10-09</td>\n",
       "      <td>Completed</td>\n",
       "      <td>NaT</td>\n",
       "      <td>&lt;NA&gt;</td>\n",
       "      <td>None</td>\n",
       "      <td>3/31/13</td>\n",
       "      <td>NaT</td>\n",
       "      <td>NaT</td>\n",
       "      <td>3/31/13</td>\n",
       "      <td>E</td>\n",
       "      <td>11,14</td>\n",
       "      <td>SRIS, CY06</td>\n",
       "      <td>None</td>\n",
       "    </tr>\n",
       "    <tr>\n",
       "      <th>5</th>\n",
       "      <td>0430</td>\n",
       "      <td>Cedar Rapids Transmission</td>\n",
       "      <td>None</td>\n",
       "      <td>St. Lawrence</td>\n",
       "      <td>NY</td>\n",
       "      <td>None</td>\n",
       "      <td>NM-NG</td>\n",
       "      <td>AC Transmission</td>\n",
       "      <td>0.0</td>\n",
       "      <td>&lt;NA&gt;</td>\n",
       "      <td>&lt;NA&gt;</td>\n",
       "      <td>2014-03-05</td>\n",
       "      <td>Active</td>\n",
       "      <td>NaT</td>\n",
       "      <td>&lt;NA&gt;</td>\n",
       "      <td>None</td>\n",
       "      <td>&lt;NA&gt;</td>\n",
       "      <td>NaT</td>\n",
       "      <td>NaT</td>\n",
       "      <td>12/31/2019</td>\n",
       "      <td>D</td>\n",
       "      <td>12.0</td>\n",
       "      <td>SIS, FS</td>\n",
       "      <td>None</td>\n",
       "    </tr>\n",
       "    <tr>\n",
       "      <th>1517</th>\n",
       "      <td>0430</td>\n",
       "      <td>Cedar Rapids Transmission</td>\n",
       "      <td>None</td>\n",
       "      <td>St. Lawrence</td>\n",
       "      <td>NY</td>\n",
       "      <td>None</td>\n",
       "      <td>NM-NG</td>\n",
       "      <td>AC Transmission</td>\n",
       "      <td>0.0</td>\n",
       "      <td>&lt;NA&gt;</td>\n",
       "      <td>&lt;NA&gt;</td>\n",
       "      <td>2014-03-05</td>\n",
       "      <td>Completed</td>\n",
       "      <td>NaT</td>\n",
       "      <td>&lt;NA&gt;</td>\n",
       "      <td>None</td>\n",
       "      <td>2022-03-31 00:00:00</td>\n",
       "      <td>NaT</td>\n",
       "      <td>2021-10-01</td>\n",
       "      <td>2022-03-31 00:00:00</td>\n",
       "      <td>D</td>\n",
       "      <td>14</td>\n",
       "      <td>SIS, FS</td>\n",
       "      <td>None</td>\n",
       "    </tr>\n",
       "  </tbody>\n",
       "</table>\n",
       "</div>"
      ],
      "text/plain": [
       "     Queue ID               Project Name                Interconnecting Entity        County State Interconnection Location Transmission Owner  Generation Type  Capacity (MW) Summer Capacity (MW) Winter Capacity (MW) Queue Date     Status Proposed Completion Date       Withdrawn Date Withdrawal Comment Actual Completion Date Proposed  In-Service Proposed Initial-Sync Date    Last Updated Date  Z      S Availability of Studies SGIA Tender Date\n",
       "626     0127A                 Munnsville  Airtricity Munnsville Wind Farm, LLC       Madison    NY                46kV line              NYSEG             Wind            6.0                    6                 <NA> 2002-10-09  Withdrawn                      NaT  2014-01-31 00:00:00               None                   <NA>                  NaT                        NaT                 <NA>  E      0                    None             None\n",
       "1442    0127A                 Munnsville                                  None       Madison    NY                     None              NYSEG             Wind           40.0                 40.0                 <NA> 2002-10-09  Completed                      NaT                 <NA>               None                3/31/13                  NaT                        NaT              3/31/13  E  11,14              SRIS, CY06             None\n",
       "5        0430  Cedar Rapids Transmission                                  None  St. Lawrence    NY                     None              NM-NG  AC Transmission            0.0                 <NA>                 <NA> 2014-03-05     Active                      NaT                 <NA>               None                   <NA>                  NaT                        NaT           12/31/2019  D   12.0                 SIS, FS             None\n",
       "1517     0430  Cedar Rapids Transmission                                  None  St. Lawrence    NY                     None              NM-NG  AC Transmission            0.0                 <NA>                 <NA> 2014-03-05  Completed                      NaT                 <NA>               None    2022-03-31 00:00:00                  NaT                 2021-10-01  2022-03-31 00:00:00  D     14                 SIS, FS             None"
      ]
     },
     "execution_count": 40,
     "metadata": {},
     "output_type": "execute_result"
    }
   ],
   "source": [
    "# I don't know which is correct (if either), but I'll guess that the later one is. So keep='last'\n",
    "raw_nyiso.loc[raw_nyiso.duplicated(subset='Queue ID', keep=False), :].sort_values(by='Queue ID')\n"
   ]
  },
  {
   "cell_type": "code",
   "execution_count": 77,
   "metadata": {},
   "outputs": [
    {
     "name": "stdout",
     "output_type": "stream",
     "text": [
      "<class 'pandas.core.frame.DataFrame'>\n",
      "Int64Index: 1607 entries, 0 to 1606\n",
      "Data columns (total 34 columns):\n",
      " #   Column                       Non-Null Count  Dtype         \n",
      "---  ------                       --------------  -----         \n",
      " 0   Queue ID                     1533 non-null   object        \n",
      " 1   Project Name                 1533 non-null   object        \n",
      " 2   Interconnecting Entity       887 non-null    object        \n",
      " 3   County                       1450 non-null   object        \n",
      " 4   State                        1451 non-null   object        \n",
      " 5   Interconnection Location     877 non-null    object        \n",
      " 6   Transmission Owner           1527 non-null   object        \n",
      " 7   Generation Type              1392 non-null   object        \n",
      " 8   Capacity (MW)                1533 non-null   float64       \n",
      " 9   Summer Capacity (MW)         1433 non-null   string        \n",
      " 10  Winter Capacity (MW)         1280 non-null   string        \n",
      " 11  Queue Date                   1533 non-null   datetime64[ns]\n",
      " 12  Status                       1533 non-null   object        \n",
      " 13  Proposed Completion Date     475 non-null    datetime64[ns]\n",
      " 14  Withdrawn Date               806 non-null    string        \n",
      " 15  Withdrawal Comment           0 non-null      object        \n",
      " 16  Actual Completion Date       103 non-null    string        \n",
      " 17  Proposed  In-Service         0 non-null      datetime64[ns]\n",
      " 18  Proposed Initial-Sync Date   475 non-null    datetime64[ns]\n",
      " 19  Last Updated Date            628 non-null    string        \n",
      " 20  Z                            1394 non-null   object        \n",
      " 21  S                            1533 non-null   string        \n",
      " 22  Availability of Studies      377 non-null    object        \n",
      " 23  SGIA Tender Date             41 non-null     object        \n",
      " 24  queue_id                     1260 non-null   object        \n",
      " 25  project_name                 1260 non-null   object        \n",
      " 26  queue_date                   1260 non-null   object        \n",
      " 27  queue_status                 1260 non-null   object        \n",
      " 28  interconnection_status_raw   231 non-null    object        \n",
      " 29  interconnection_status_lbnl  1260 non-null   object        \n",
      " 30  capacity_mw_resource_1       1260 non-null   float64       \n",
      " 31  resource_type_1              1260 non-null   object        \n",
      " 32  in_lbnl                      1607 non-null   bool          \n",
      " 33  in_gs                        1607 non-null   bool          \n",
      "dtypes: bool(2), datetime64[ns](4), float64(2), object(20), string(6)\n",
      "memory usage: 417.4+ KB\n"
     ]
    }
   ],
   "source": [
    "nyiso = join_lbnl(raw_nyiso.drop_duplicates(subset='Queue ID', keep='last'), lbnl, \"NYISO\")\n",
    "nyiso.info()\n"
   ]
  },
  {
   "cell_type": "code",
   "execution_count": 78,
   "metadata": {},
   "outputs": [
    {
     "data": {
      "text/html": [
       "<div>\n",
       "<style scoped>\n",
       "    .dataframe tbody tr th:only-of-type {\n",
       "        vertical-align: middle;\n",
       "    }\n",
       "\n",
       "    .dataframe tbody tr th {\n",
       "        vertical-align: top;\n",
       "    }\n",
       "\n",
       "    .dataframe thead th {\n",
       "        text-align: right;\n",
       "    }\n",
       "</style>\n",
       "<table border=\"1\" class=\"dataframe\">\n",
       "  <thead>\n",
       "    <tr style=\"text-align: right;\">\n",
       "      <th></th>\n",
       "      <th>Queue ID</th>\n",
       "      <th>Project Name</th>\n",
       "      <th>Interconnecting Entity</th>\n",
       "      <th>County</th>\n",
       "      <th>State</th>\n",
       "      <th>Interconnection Location</th>\n",
       "      <th>Transmission Owner</th>\n",
       "      <th>Generation Type</th>\n",
       "      <th>Capacity (MW)</th>\n",
       "      <th>Summer Capacity (MW)</th>\n",
       "      <th>Winter Capacity (MW)</th>\n",
       "      <th>Queue Date</th>\n",
       "      <th>Status</th>\n",
       "      <th>Proposed Completion Date</th>\n",
       "      <th>Withdrawn Date</th>\n",
       "      <th>Withdrawal Comment</th>\n",
       "      <th>Actual Completion Date</th>\n",
       "      <th>Proposed  In-Service</th>\n",
       "      <th>Proposed Initial-Sync Date</th>\n",
       "      <th>Last Updated Date</th>\n",
       "      <th>Z</th>\n",
       "      <th>S</th>\n",
       "      <th>Availability of Studies</th>\n",
       "      <th>SGIA Tender Date</th>\n",
       "      <th>queue_id</th>\n",
       "      <th>project_name</th>\n",
       "      <th>queue_date</th>\n",
       "      <th>queue_status</th>\n",
       "      <th>interconnection_status_raw</th>\n",
       "      <th>interconnection_status_lbnl</th>\n",
       "      <th>capacity_mw_resource_1</th>\n",
       "      <th>resource_type_1</th>\n",
       "      <th>in_lbnl</th>\n",
       "      <th>in_gs</th>\n",
       "    </tr>\n",
       "  </thead>\n",
       "  <tbody>\n",
       "    <tr>\n",
       "      <th>0</th>\n",
       "      <td>0276</td>\n",
       "      <td>Homer Solar Energy Center</td>\n",
       "      <td>None</td>\n",
       "      <td>Cortland</td>\n",
       "      <td>NY</td>\n",
       "      <td>None</td>\n",
       "      <td>NM-NG</td>\n",
       "      <td>Solar</td>\n",
       "      <td>90.0</td>\n",
       "      <td>90.0</td>\n",
       "      <td>90.0</td>\n",
       "      <td>2008-01-30</td>\n",
       "      <td>Active</td>\n",
       "      <td>2023-09-01</td>\n",
       "      <td>&lt;NA&gt;</td>\n",
       "      <td>None</td>\n",
       "      <td>&lt;NA&gt;</td>\n",
       "      <td>NaT</td>\n",
       "      <td>2023-09-01</td>\n",
       "      <td>9/30/2022</td>\n",
       "      <td>C</td>\n",
       "      <td>10.0</td>\n",
       "      <td>FES, SRIS, FS</td>\n",
       "      <td>None</td>\n",
       "      <td>0276</td>\n",
       "      <td>Homer Solar Energy Center</td>\n",
       "      <td>1/30/2008</td>\n",
       "      <td>active</td>\n",
       "      <td>FES, SRIS, FS</td>\n",
       "      <td>Facility Study</td>\n",
       "      <td>90.0</td>\n",
       "      <td>Solar</td>\n",
       "      <td>True</td>\n",
       "      <td>True</td>\n",
       "    </tr>\n",
       "    <tr>\n",
       "      <th>1</th>\n",
       "      <td>0396</td>\n",
       "      <td>Baron Winds</td>\n",
       "      <td>None</td>\n",
       "      <td>Steuben</td>\n",
       "      <td>NY</td>\n",
       "      <td>None</td>\n",
       "      <td>NYSEG</td>\n",
       "      <td>Wind</td>\n",
       "      <td>235.0</td>\n",
       "      <td>235.0</td>\n",
       "      <td>235.0</td>\n",
       "      <td>2012-11-30</td>\n",
       "      <td>Active</td>\n",
       "      <td>2023-12-01</td>\n",
       "      <td>&lt;NA&gt;</td>\n",
       "      <td>None</td>\n",
       "      <td>&lt;NA&gt;</td>\n",
       "      <td>NaT</td>\n",
       "      <td>NaT</td>\n",
       "      <td>12/31/2022</td>\n",
       "      <td>C</td>\n",
       "      <td>15.0</td>\n",
       "      <td>FES, SRIS, FS</td>\n",
       "      <td>None</td>\n",
       "      <td>0396</td>\n",
       "      <td>Baron Winds</td>\n",
       "      <td>11/30/2012</td>\n",
       "      <td>active</td>\n",
       "      <td>FES, SRIS, FS</td>\n",
       "      <td>Facility Study</td>\n",
       "      <td>238.0</td>\n",
       "      <td>Wind</td>\n",
       "      <td>True</td>\n",
       "      <td>True</td>\n",
       "    </tr>\n",
       "    <tr>\n",
       "      <th>2</th>\n",
       "      <td>0396A</td>\n",
       "      <td>Wood Street Transformer</td>\n",
       "      <td>None</td>\n",
       "      <td>Putnam</td>\n",
       "      <td>NY</td>\n",
       "      <td>None</td>\n",
       "      <td>NYSEG</td>\n",
       "      <td>AC Transmission</td>\n",
       "      <td>0.0</td>\n",
       "      <td>&lt;NA&gt;</td>\n",
       "      <td>&lt;NA&gt;</td>\n",
       "      <td>2012-12-14</td>\n",
       "      <td>Active</td>\n",
       "      <td>NaT</td>\n",
       "      <td>&lt;NA&gt;</td>\n",
       "      <td>None</td>\n",
       "      <td>&lt;NA&gt;</td>\n",
       "      <td>NaT</td>\n",
       "      <td>NaT</td>\n",
       "      <td>4/30/2021</td>\n",
       "      <td>G</td>\n",
       "      <td>12.0</td>\n",
       "      <td>SIS</td>\n",
       "      <td>None</td>\n",
       "      <td>NaN</td>\n",
       "      <td>NaN</td>\n",
       "      <td>NaN</td>\n",
       "      <td>NaN</td>\n",
       "      <td>NaN</td>\n",
       "      <td>NaN</td>\n",
       "      <td>NaN</td>\n",
       "      <td>NaN</td>\n",
       "      <td>False</td>\n",
       "      <td>True</td>\n",
       "    </tr>\n",
       "    <tr>\n",
       "      <th>3</th>\n",
       "      <td>0422</td>\n",
       "      <td>Eight Point Wind Energy Center</td>\n",
       "      <td>None</td>\n",
       "      <td>Steuben-Allegany</td>\n",
       "      <td>NY</td>\n",
       "      <td>None</td>\n",
       "      <td>NYSEG</td>\n",
       "      <td>Wind</td>\n",
       "      <td>101.8</td>\n",
       "      <td>101.8</td>\n",
       "      <td>101.8</td>\n",
       "      <td>2013-11-07</td>\n",
       "      <td>Active</td>\n",
       "      <td>NaT</td>\n",
       "      <td>&lt;NA&gt;</td>\n",
       "      <td>None</td>\n",
       "      <td>&lt;NA&gt;</td>\n",
       "      <td>NaT</td>\n",
       "      <td>NaT</td>\n",
       "      <td>3/31/2021</td>\n",
       "      <td>C</td>\n",
       "      <td>14.0</td>\n",
       "      <td>FES, SRIS, FS</td>\n",
       "      <td>None</td>\n",
       "      <td>0422</td>\n",
       "      <td>Eight Point Wind Energy Center</td>\n",
       "      <td>11/7/2013</td>\n",
       "      <td>active</td>\n",
       "      <td>FES, SRIS, FS</td>\n",
       "      <td>Facility Study</td>\n",
       "      <td>102.0</td>\n",
       "      <td>Wind</td>\n",
       "      <td>True</td>\n",
       "      <td>True</td>\n",
       "    </tr>\n",
       "    <tr>\n",
       "      <th>4</th>\n",
       "      <td>0429</td>\n",
       "      <td>North Rockland Station</td>\n",
       "      <td>None</td>\n",
       "      <td>Steuben</td>\n",
       "      <td>NY</td>\n",
       "      <td>None</td>\n",
       "      <td>ConEd</td>\n",
       "      <td>AC Transmission</td>\n",
       "      <td>0.0</td>\n",
       "      <td>&lt;NA&gt;</td>\n",
       "      <td>&lt;NA&gt;</td>\n",
       "      <td>2014-02-12</td>\n",
       "      <td>Active</td>\n",
       "      <td>NaT</td>\n",
       "      <td>&lt;NA&gt;</td>\n",
       "      <td>None</td>\n",
       "      <td>&lt;NA&gt;</td>\n",
       "      <td>NaT</td>\n",
       "      <td>NaT</td>\n",
       "      <td>3/31/2022</td>\n",
       "      <td>G</td>\n",
       "      <td>12.0</td>\n",
       "      <td>SIS</td>\n",
       "      <td>None</td>\n",
       "      <td>NaN</td>\n",
       "      <td>NaN</td>\n",
       "      <td>NaN</td>\n",
       "      <td>NaN</td>\n",
       "      <td>NaN</td>\n",
       "      <td>NaN</td>\n",
       "      <td>NaN</td>\n",
       "      <td>NaN</td>\n",
       "      <td>False</td>\n",
       "      <td>True</td>\n",
       "    </tr>\n",
       "  </tbody>\n",
       "</table>\n",
       "</div>"
      ],
      "text/plain": [
       "  Queue ID                    Project Name Interconnecting Entity            County State Interconnection Location Transmission Owner  Generation Type  Capacity (MW) Summer Capacity (MW) Winter Capacity (MW) Queue Date  Status Proposed Completion Date Withdrawn Date Withdrawal Comment Actual Completion Date Proposed  In-Service Proposed Initial-Sync Date Last Updated Date  Z     S Availability of Studies SGIA Tender Date queue_id                    project_name  queue_date queue_status interconnection_status_raw interconnection_status_lbnl  capacity_mw_resource_1 resource_type_1  in_lbnl  in_gs\n",
       "0     0276       Homer Solar Energy Center                   None          Cortland    NY                     None              NM-NG            Solar           90.0                 90.0                 90.0 2008-01-30  Active               2023-09-01           <NA>               None                   <NA>                  NaT                 2023-09-01         9/30/2022  C  10.0           FES, SRIS, FS             None     0276       Homer Solar Energy Center   1/30/2008       active              FES, SRIS, FS              Facility Study                    90.0           Solar     True   True\n",
       "1     0396                     Baron Winds                   None           Steuben    NY                     None              NYSEG             Wind          235.0                235.0                235.0 2012-11-30  Active               2023-12-01           <NA>               None                   <NA>                  NaT                        NaT        12/31/2022  C  15.0           FES, SRIS, FS             None     0396                     Baron Winds  11/30/2012       active              FES, SRIS, FS              Facility Study                   238.0            Wind     True   True\n",
       "2    0396A         Wood Street Transformer                   None            Putnam    NY                     None              NYSEG  AC Transmission            0.0                 <NA>                 <NA> 2012-12-14  Active                      NaT           <NA>               None                   <NA>                  NaT                        NaT         4/30/2021  G  12.0                     SIS             None      NaN                             NaN         NaN          NaN                        NaN                         NaN                     NaN             NaN    False   True\n",
       "3     0422  Eight Point Wind Energy Center                   None  Steuben-Allegany    NY                     None              NYSEG             Wind          101.8                101.8                101.8 2013-11-07  Active                      NaT           <NA>               None                   <NA>                  NaT                        NaT         3/31/2021  C  14.0           FES, SRIS, FS             None     0422  Eight Point Wind Energy Center   11/7/2013       active              FES, SRIS, FS              Facility Study                   102.0            Wind     True   True\n",
       "4     0429          North Rockland Station                   None           Steuben    NY                     None              ConEd  AC Transmission            0.0                 <NA>                 <NA> 2014-02-12  Active                      NaT           <NA>               None                   <NA>                  NaT                        NaT         3/31/2022  G  12.0                     SIS             None      NaN                             NaN         NaN          NaN                        NaN                         NaN                     NaN             NaN    False   True"
      ]
     },
     "execution_count": 78,
     "metadata": {},
     "output_type": "execute_result"
    }
   ],
   "source": [
    "nyiso.head()\n"
   ]
  },
  {
   "cell_type": "code",
   "execution_count": 79,
   "metadata": {},
   "outputs": [
    {
     "data": {
      "text/plain": [
       "in_gs  in_lbnl\n",
       "True   True       1186\n",
       "       False       347\n",
       "False  True         74\n",
       "dtype: int64"
      ]
     },
     "execution_count": 79,
     "metadata": {},
     "output_type": "execute_result"
    }
   ],
   "source": [
    "nyiso[[\"in_gs\", \"in_lbnl\"]].value_counts(dropna=False)\n"
   ]
  },
  {
   "cell_type": "code",
   "execution_count": 80,
   "metadata": {},
   "outputs": [
    {
     "data": {
      "text/plain": [
       "in_gs  in_lbnl\n",
       "True   True       1186\n",
       "       False       324\n",
       "False  True         74\n",
       "dtype: int64"
      ]
     },
     "execution_count": 80,
     "metadata": {},
     "output_type": "execute_result"
    }
   ],
   "source": [
    "# marginal improvement from date filter\n",
    "nyiso.loc[\n",
    "    nyiso[\"Queue Date\"]\n",
    "    .fillna(pd.to_datetime(\"2020-01-01\"))\n",
    "    .lt(pd.to_datetime(\"2023-01-01\")),\n",
    "    [\"in_gs\", \"in_lbnl\"],\n",
    "].value_counts(dropna=False)\n"
   ]
  },
  {
   "cell_type": "code",
   "execution_count": 81,
   "metadata": {},
   "outputs": [
    {
     "data": {
      "text/plain": [
       "Status     queue_status\n",
       "Active     active          421\n",
       "           NaN             104\n",
       "Completed  operational      14\n",
       "           withdrawn         1\n",
       "           NaN             106\n",
       "Withdrawn  active           38\n",
       "           withdrawn       712\n",
       "           NaN             137\n",
       "NaN        operational      74\n",
       "dtype: int64"
      ]
     },
     "execution_count": 81,
     "metadata": {},
     "output_type": "execute_result"
    }
   ],
   "source": [
    "\n",
    "nyiso[[\"Status\", \"queue_status\"]].value_counts(dropna=False).sort_index()\n"
   ]
  },
  {
   "cell_type": "markdown",
   "metadata": {},
   "source": [
    "Why are there so many projects that have a status in GridStatus but no status in LBNL? NYISO has separate sheets for withdrawn, in service and active. Why is LBNL missing so much information?"
   ]
  },
  {
   "cell_type": "code",
   "execution_count": 82,
   "metadata": {},
   "outputs": [
    {
     "data": {
      "text/plain": [
       "Status     queue_status\n",
       "Active     active          421\n",
       "           NaN              87\n",
       "Completed  operational      14\n",
       "           withdrawn         1\n",
       "           NaN             106\n",
       "Withdrawn  active           38\n",
       "           withdrawn       712\n",
       "           NaN             131\n",
       "NaN        operational      74\n",
       "dtype: int64"
      ]
     },
     "execution_count": 82,
     "metadata": {},
     "output_type": "execute_result"
    }
   ],
   "source": [
    "nyiso.loc[\n",
    "    nyiso[\"Queue Date\"]\n",
    "    .fillna(pd.to_datetime(\"2020-01-01\"))\n",
    "    .lt(pd.to_datetime(\"2023-01-01\")),\n",
    "    [\"Status\", \"queue_status\"],\n",
    "].value_counts(dropna=False).sort_index()\n"
   ]
  },
  {
   "cell_type": "code",
   "execution_count": 83,
   "metadata": {},
   "outputs": [
    {
     "data": {
      "text/plain": [
       "               1376\n",
       "SRIS             83\n",
       "FES,SRIS         30\n",
       "FS,SIS           28\n",
       "FES              26\n",
       "SIS              22\n",
       "FS,SRIS          14\n",
       "FES,FS,SRIS      13\n",
       "FES,FS,SIS       12\n",
       "FES,SIS           3\n",
       "Name: interconnection_status_raw, dtype: int64"
      ]
     },
     "execution_count": 83,
     "metadata": {},
     "output_type": "execute_result"
    }
   ],
   "source": [
    "nyiso['interconnection_status_raw'].str.replace(' ', '').replace([np.nan, None, 'None'], '').str.split(',').apply(lambda x: ','.join(sorted(set(x)))).value_counts(dropna=False)\n"
   ]
  },
  {
   "cell_type": "code",
   "execution_count": 84,
   "metadata": {},
   "outputs": [
    {
     "data": {
      "text/plain": [
       "               1239\n",
       "SRIS            123\n",
       "SIS              52\n",
       "FS,SRIS          43\n",
       "FES              37\n",
       "FS,SIS           36\n",
       "FES,SRIS         30\n",
       "FES,FS,SRIS      24\n",
       "FES,FS,SIS       15\n",
       "FES,SIS           4\n",
       "FES,FS            2\n",
       "FS                2\n",
       "Name: Availability of Studies, dtype: int64"
      ]
     },
     "execution_count": 84,
     "metadata": {},
     "output_type": "execute_result"
    }
   ],
   "source": [
    "nyiso['Availability of Studies'].str.replace(r'[ \\d]', '', regex=True).replace([np.nan, None, 'None'], '').str.split(',').apply(lambda x: ','.join(sorted(set(x).difference({'CY'})))).value_counts(dropna=False)\n"
   ]
  },
  {
   "cell_type": "code",
   "execution_count": 85,
   "metadata": {},
   "outputs": [],
   "source": [
    "nyiso[\"simplified_studies\"] = (\n",
    "    nyiso[\"Availability of Studies\"]\n",
    "    .str.replace(r\"[ \\d]\", \"\", regex=True)\n",
    "    .replace([np.nan, None, \"None\"], \"\")\n",
    "    .str.split(\",\")\n",
    "    .apply(lambda x: \",\".join(sorted(set(x).difference({\"CY\"}))))\n",
    "    .replace('', np.nan)\n",
    ")\n",
    "nyiso[\"simplified_lbnl_raw\"] = (\n",
    "    nyiso[\"interconnection_status_raw\"]\n",
    "    .str.replace(\" \", \"\")\n",
    "    .replace([np.nan, None, \"None\"], \"\")\n",
    "    .str.split(\",\")\n",
    "    .apply(lambda x: \",\".join(sorted(set(x))))\n",
    "    .replace('', np.nan)\n",
    ")\n"
   ]
  },
  {
   "cell_type": "code",
   "execution_count": 86,
   "metadata": {},
   "outputs": [
    {
     "data": {
      "text/plain": [
       "0        887\n",
       "4.0      136\n",
       "14       119\n",
       "5.0       82\n",
       "<NA>      74\n",
       "6.0       73\n",
       "10.0      49\n",
       "2.0       36\n",
       "11.0      33\n",
       "1.0       30\n",
       "8.0       29\n",
       "9.0       14\n",
       "3.0       12\n",
       "7.0       10\n",
       "12.0      10\n",
       "14.0       8\n",
       "13.0       2\n",
       "15.0       1\n",
       "12,14      1\n",
       "11,14      1\n",
       "Name: S, dtype: Int64"
      ]
     },
     "execution_count": 86,
     "metadata": {},
     "output_type": "execute_result"
    }
   ],
   "source": [
    "nyiso['S'].value_counts(dropna=False)\n"
   ]
  },
  {
   "cell_type": "code",
   "execution_count": 87,
   "metadata": {},
   "outputs": [
    {
     "data": {
      "text/plain": [
       "0       887\n",
       "4       136\n",
       "14      129\n",
       "5        82\n",
       "<NA>     74\n",
       "6        73\n",
       "10       49\n",
       "2        36\n",
       "11       33\n",
       "1        30\n",
       "8        29\n",
       "9        14\n",
       "3        12\n",
       "12       10\n",
       "7        10\n",
       "13        2\n",
       "15        1\n",
       "Name: S, dtype: Int64"
      ]
     },
     "execution_count": 87,
     "metadata": {},
     "output_type": "execute_result"
    }
   ],
   "source": [
    "pd.to_numeric(nyiso['S'].astype('string').str.split(',').str[-1], errors='raise').astype(pd.UInt8Dtype()).value_counts(dropna=False)\n"
   ]
  },
  {
   "cell_type": "code",
   "execution_count": 88,
   "metadata": {},
   "outputs": [],
   "source": [
    "nyiso[\"s_simplified\"] = pd.to_numeric(nyiso['S'].astype('string').str.split(',').str[-1], errors='raise').astype(pd.UInt8Dtype())\n"
   ]
  },
  {
   "cell_type": "code",
   "execution_count": 89,
   "metadata": {},
   "outputs": [
    {
     "data": {
      "text/plain": [
       "queue_status  simplified_studies\n",
       "active        FES                    33\n",
       "              FES,FS                  1\n",
       "              FES,FS,SIS             12\n",
       "              FES,FS,SRIS            18\n",
       "              FES,SIS                 3\n",
       "              FES,SRIS               25\n",
       "              FS                      1\n",
       "              FS,SIS                 28\n",
       "              FS,SRIS                29\n",
       "              SIS                    22\n",
       "              SRIS                   73\n",
       "              NaN                   214\n",
       "operational   FES,FS,SIS              2\n",
       "              FES,FS,SRIS             2\n",
       "              FS,SIS                  1\n",
       "              FS,SRIS                 6\n",
       "              NaN                    77\n",
       "withdrawn     SRIS                    1\n",
       "              NaN                   712\n",
       "NaN           FES                     4\n",
       "              FES,FS                  1\n",
       "              FES,FS,SIS              1\n",
       "              FES,FS,SRIS             4\n",
       "              FES,SIS                 1\n",
       "              FES,SRIS                5\n",
       "              FS                      1\n",
       "              FS,SIS                  7\n",
       "              FS,SRIS                 8\n",
       "              SIS                    30\n",
       "              SRIS                   49\n",
       "              NaN                   236\n",
       "dtype: int64"
      ]
     },
     "execution_count": 89,
     "metadata": {},
     "output_type": "execute_result"
    }
   ],
   "source": [
    "nyiso[[\"queue_status\", \"simplified_studies\"]].value_counts(dropna=False).sort_index()\n"
   ]
  },
  {
   "cell_type": "code",
   "execution_count": 90,
   "metadata": {},
   "outputs": [
    {
     "data": {
      "text/plain": [
       "simplified_lbnl_raw  simplified_studies\n",
       "FES                  FES                     21\n",
       "                     FES,SRIS                 4\n",
       "                     NaN                      1\n",
       "FES,FS,SIS           FES,FS,SIS              11\n",
       "                     FS,SIS                   1\n",
       "FES,FS,SRIS          FES,FS,SRIS             12\n",
       "                     NaN                      1\n",
       "FES,SIS              FES,SIS                  2\n",
       "                     SIS                      1\n",
       "FES,SRIS             FES,FS                   1\n",
       "                     FES,FS,SRIS              6\n",
       "                     FES,SRIS                20\n",
       "                     NaN                      3\n",
       "FS,SIS               FES,FS,SIS               1\n",
       "                     FS,SIS                  26\n",
       "                     NaN                      1\n",
       "FS,SRIS              FS,SRIS                 14\n",
       "SIS                  FES,SIS                  1\n",
       "                     FS,SIS                   1\n",
       "                     SIS                     20\n",
       "SRIS                 FES,SRIS                 1\n",
       "                     FS                       1\n",
       "                     FS,SRIS                 15\n",
       "                     SRIS                    55\n",
       "                     NaN                     11\n",
       "NaN                  FES                     16\n",
       "                     FES,FS                   1\n",
       "                     FES,FS,SIS               3\n",
       "                     FES,FS,SRIS              6\n",
       "                     FES,SIS                  1\n",
       "                     FES,SRIS                 5\n",
       "                     FS                       1\n",
       "                     FS,SIS                   8\n",
       "                     FS,SRIS                 14\n",
       "                     SIS                     31\n",
       "                     SRIS                    68\n",
       "                     NaN                   1222\n",
       "dtype: int64"
      ]
     },
     "execution_count": 90,
     "metadata": {},
     "output_type": "execute_result"
    }
   ],
   "source": [
    "nyiso[[\"simplified_lbnl_raw\", \"simplified_studies\"]].value_counts(dropna=False).sort_index()\n"
   ]
  },
  {
   "cell_type": "code",
   "execution_count": 91,
   "metadata": {},
   "outputs": [
    {
     "data": {
      "text/plain": [
       "<NA>     1393\n",
       "True      181\n",
       "False      33\n",
       "dtype: Int64"
      ]
     },
     "execution_count": 91,
     "metadata": {},
     "output_type": "execute_result"
    }
   ],
   "source": [
    "nyiso[\"simplified_lbnl_raw\"].astype('string').eq(nyiso[\"simplified_studies\"].astype('string')).value_counts(dropna=False)\n"
   ]
  },
  {
   "cell_type": "code",
   "execution_count": 92,
   "metadata": {},
   "outputs": [
    {
     "data": {
      "text/plain": [
       "queue_status  s_simplified\n",
       "active        0                38\n",
       "              1                 2\n",
       "              2                25\n",
       "              3                12\n",
       "              4               112\n",
       "              5                57\n",
       "              6                70\n",
       "              7                10\n",
       "              8                29\n",
       "              9                14\n",
       "              10               44\n",
       "              11               33\n",
       "              12                4\n",
       "              13                2\n",
       "              14                6\n",
       "              15                1\n",
       "operational   14               14\n",
       "              <NA>             74\n",
       "withdrawn     0               712\n",
       "              14                1\n",
       "NaN           0               137\n",
       "              1                28\n",
       "              2                11\n",
       "              4                24\n",
       "              5                25\n",
       "              6                 3\n",
       "              10                5\n",
       "              12                6\n",
       "              14              108\n",
       "dtype: int64"
      ]
     },
     "execution_count": 92,
     "metadata": {},
     "output_type": "execute_result"
    }
   ],
   "source": [
    "nyiso[[\"queue_status\", \"s_simplified\"]].value_counts(dropna=False).sort_index()\n"
   ]
  },
  {
   "cell_type": "code",
   "execution_count": 93,
   "metadata": {},
   "outputs": [
    {
     "data": {
      "text/plain": [
       "s_simplified  simplified_studies\n",
       "0             NaN                   887\n",
       "1             NaN                    30\n",
       "2             NaN                    36\n",
       "3             NaN                    12\n",
       "4             FES                    22\n",
       "              NaN                   114\n",
       "5             FES                    14\n",
       "              NaN                    68\n",
       "6             FES,SRIS               16\n",
       "              SIS                     4\n",
       "              SRIS                   53\n",
       "7             FES,SIS                 1\n",
       "              SIS                     6\n",
       "              SRIS                    3\n",
       "8             FES,SIS                 2\n",
       "              FES,SRIS                9\n",
       "              SIS                     3\n",
       "              SRIS                   15\n",
       "9             SIS                    11\n",
       "              SRIS                    3\n",
       "10            FES,FS                  1\n",
       "              FES,FS,SIS              3\n",
       "              FES,FS,SRIS            11\n",
       "              FS                      1\n",
       "              FS,SIS                 11\n",
       "              FS,SRIS                21\n",
       "              NaN                     1\n",
       "11            FES,FS,SIS              7\n",
       "              FES,FS,SRIS             3\n",
       "              FS,SIS                 16\n",
       "              FS,SRIS                 7\n",
       "12            FES,FS,SRIS             2\n",
       "              FS,SIS                  2\n",
       "              FS,SRIS                 2\n",
       "              SIS                     4\n",
       "13            FES,FS,SIS              1\n",
       "              FS,SIS                  1\n",
       "14            FES                     1\n",
       "              FES,FS                  1\n",
       "              FES,FS,SIS              4\n",
       "              FES,FS,SRIS             7\n",
       "              FES,SIS                 1\n",
       "              FES,SRIS                5\n",
       "              FS                      1\n",
       "              FS,SIS                  6\n",
       "              FS,SRIS                13\n",
       "              SIS                    24\n",
       "              SRIS                   49\n",
       "              NaN                    17\n",
       "15            FES,FS,SRIS             1\n",
       "<NA>          NaN                    74\n",
       "dtype: int64"
      ]
     },
     "execution_count": 93,
     "metadata": {},
     "output_type": "execute_result"
    }
   ],
   "source": [
    "nyiso[[\"s_simplified\", \"simplified_studies\"]].value_counts(dropna=False).sort_index()\n"
   ]
  },
  {
   "cell_type": "code",
   "execution_count": 94,
   "metadata": {},
   "outputs": [
    {
     "data": {
      "text/plain": [
       "s_simplified  simplified_lbnl_raw\n",
       "0             FES                      1\n",
       "              FES,FS,SRIS              1\n",
       "              FES,SRIS                 3\n",
       "              SRIS                    11\n",
       "              NaN                    871\n",
       "1             NaN                     30\n",
       "2             NaN                     36\n",
       "3             NaN                     12\n",
       "4             FES                     14\n",
       "              NaN                    122\n",
       "5             FES                      7\n",
       "              NaN                     75\n",
       "6             FES                      4\n",
       "              FES,SRIS                12\n",
       "              SIS                      2\n",
       "              SRIS                    34\n",
       "              NaN                     21\n",
       "7             SIS                      6\n",
       "              SRIS                     3\n",
       "              NaN                      1\n",
       "8             FES,SIS                  2\n",
       "              FES,SRIS                 8\n",
       "              SIS                      3\n",
       "              SRIS                    16\n",
       "9             FES,SIS                  1\n",
       "              SIS                     10\n",
       "              SRIS                     3\n",
       "10            FES,FS,SIS               3\n",
       "              FES,FS,SRIS              5\n",
       "              FES,SRIS                 7\n",
       "              FS,SIS                   9\n",
       "              FS,SRIS                  4\n",
       "              SRIS                    16\n",
       "              NaN                      5\n",
       "11            FES,FS,SIS               6\n",
       "              FES,FS,SRIS              3\n",
       "              FS,SIS                  17\n",
       "              FS,SRIS                  7\n",
       "12            FES,FS,SRIS              2\n",
       "              FS,SRIS                  2\n",
       "              NaN                      6\n",
       "13            FES,FS,SIS               1\n",
       "              SIS                      1\n",
       "14            FES,FS,SIS               2\n",
       "              FES,FS,SRIS              1\n",
       "              FS,SIS                   2\n",
       "              FS,SRIS                  1\n",
       "              NaN                    123\n",
       "15            FES,FS,SRIS              1\n",
       "<NA>          NaN                     74\n",
       "dtype: int64"
      ]
     },
     "execution_count": 94,
     "metadata": {},
     "output_type": "execute_result"
    }
   ],
   "source": [
    "nyiso[[\"s_simplified\", \"simplified_lbnl_raw\"]].value_counts(dropna=False).sort_index()\n"
   ]
  },
  {
   "cell_type": "code",
   "execution_count": 95,
   "metadata": {},
   "outputs": [
    {
     "data": {
      "text/plain": [
       "interconnection_status_lbnl  s_simplified\n",
       "Facility Study               0                 1\n",
       "                             10               21\n",
       "                             11               33\n",
       "                             12                4\n",
       "                             13                1\n",
       "                             14                6\n",
       "                             15                1\n",
       "Feasibility Study            0                 1\n",
       "                             4                14\n",
       "                             5                 7\n",
       "                             6                 4\n",
       "In Progress (unknown study)  0                22\n",
       "                             1                 2\n",
       "                             2                25\n",
       "                             3                12\n",
       "                             4                98\n",
       "                             5                50\n",
       "                             6                18\n",
       "                             7                 1\n",
       "Operational                  14               14\n",
       "                             <NA>             74\n",
       "System Impact Study          0                14\n",
       "                             6                48\n",
       "                             7                 9\n",
       "                             8                29\n",
       "                             9                14\n",
       "                             10               23\n",
       "                             13                1\n",
       "Withdrawn                    0               712\n",
       "                             14                1\n",
       "NaN                          0               137\n",
       "                             1                28\n",
       "                             2                11\n",
       "                             4                24\n",
       "                             5                25\n",
       "                             6                 3\n",
       "                             10                5\n",
       "                             12                6\n",
       "                             14              108\n",
       "dtype: int64"
      ]
     },
     "execution_count": 95,
     "metadata": {},
     "output_type": "execute_result"
    }
   ],
   "source": [
    "nyiso[[\"interconnection_status_lbnl\", \"s_simplified\"]].value_counts(dropna=False).sort_index()\n"
   ]
  },
  {
   "cell_type": "code",
   "execution_count": 96,
   "metadata": {},
   "outputs": [
    {
     "data": {
      "text/plain": [
       "True     1185\n",
       "NaN       421\n",
       "False       1\n",
       "dtype: int64"
      ]
     },
     "execution_count": 96,
     "metadata": {},
     "output_type": "execute_result"
    }
   ],
   "source": [
    "nyiso[\"Queue Date\"].eq(pd.to_datetime(nyiso[\"queue_date\"])).where(\n",
    "    (nyiso[\"Queue Date\"].notna() & nyiso[\"queue_date\"].notnull())\n",
    ").value_counts(dropna=False)\n"
   ]
  },
  {
   "cell_type": "code",
   "execution_count": 97,
   "metadata": {},
   "outputs": [
    {
     "data": {
      "text/plain": [
       "Energy Storage                                      369\n",
       "Solar                                               366\n",
       "Wind                                                267\n",
       "AC Transmission                                     144\n",
       "None                                                141\n",
       "DC Transmission                                      46\n",
       "Combustion Turbine                                   46\n",
       "Combined Cycle                                       35\n",
       "Methane                                              24\n",
       "Hydro                                                18\n",
       "Load                                                 16\n",
       "Natural Gas                                          12\n",
       "Steam Turbine                                        11\n",
       "Pumped Storage                                        8\n",
       "Fuel Cell                                             8\n",
       "Nuclear                                               6\n",
       "Dual Fuel                                             5\n",
       "Wood                                                  3\n",
       "Flywheel                                              2\n",
       "Combined Cycle - Dual Fuel                            2\n",
       "=Solid Waste                                          1\n",
       "Combustion Turbine - Natural Gas                      1\n",
       "DC/AC Transmission                                    1\n",
       "Combustion Turbine - Dual Fuel                        1\n",
       "Steam Turbine & Combustion Turbine-  Natural Gas      1\n",
       "Steam Turbine - Natural Gas                           1\n",
       "Name: Generation Type, dtype: int64"
      ]
     },
     "execution_count": 97,
     "metadata": {},
     "output_type": "execute_result"
    }
   ],
   "source": [
    "# needs standardization\n",
    "raw_nyiso['Generation Type'].value_counts(dropna=False)\n"
   ]
  },
  {
   "cell_type": "markdown",
   "metadata": {},
   "source": [
    "### NYISO Capacity Comparison\n",
    "- Compare total capacity for projects in lbnl and gs\n",
    "- Compare total capacity for active projects in lbnl and gs\n",
    "- Compare total capacity for active projects\n",
    "- Compare capacity by fuel type? Might challenging because the categories are all over the place"
   ]
  },
  {
   "cell_type": "markdown",
   "metadata": {},
   "source": [
    "#### Compare total capacity for projects in both"
   ]
  },
  {
   "cell_type": "code",
   "execution_count": 98,
   "metadata": {},
   "outputs": [
    {
     "name": "stdout",
     "output_type": "stream",
     "text": [
      "(1607, 37)\n",
      "(1186, 37)\n"
     ]
    }
   ],
   "source": [
    "both_nyiso = nyiso[nyiso.in_lbnl & nyiso.in_gs].copy()\n",
    "print(nyiso.shape)\n",
    "print(both_nyiso.shape)"
   ]
  },
  {
   "cell_type": "code",
   "execution_count": 99,
   "metadata": {},
   "outputs": [
    {
     "name": "stdout",
     "output_type": "stream",
     "text": [
      "<class 'pandas.core.frame.DataFrame'>\n",
      "Int64Index: 1186 entries, 0 to 1531\n",
      "Data columns (total 37 columns):\n",
      " #   Column                       Non-Null Count  Dtype         \n",
      "---  ------                       --------------  -----         \n",
      " 0   Queue ID                     1186 non-null   object        \n",
      " 1   Project Name                 1186 non-null   object        \n",
      " 2   Interconnecting Entity       750 non-null    object        \n",
      " 3   County                       1107 non-null   object        \n",
      " 4   State                        1107 non-null   object        \n",
      " 5   Interconnection Location     740 non-null    object        \n",
      " 6   Transmission Owner           1180 non-null   object        \n",
      " 7   Generation Type              1053 non-null   object        \n",
      " 8   Capacity (MW)                1186 non-null   float64       \n",
      " 9   Summer Capacity (MW)         1180 non-null   string        \n",
      " 10  Winter Capacity (MW)         1065 non-null   string        \n",
      " 11  Queue Date                   1186 non-null   datetime64[ns]\n",
      " 12  Status                       1186 non-null   object        \n",
      " 13  Proposed Completion Date     414 non-null    datetime64[ns]\n",
      " 14  Withdrawn Date               671 non-null    string        \n",
      " 15  Withdrawal Comment           0 non-null      object        \n",
      " 16  Actual Completion Date       15 non-null     string        \n",
      " 17  Proposed  In-Service         0 non-null      datetime64[ns]\n",
      " 18  Proposed Initial-Sync Date   413 non-null    datetime64[ns]\n",
      " 19  Last Updated Date            436 non-null    string        \n",
      " 20  Z                            1052 non-null   object        \n",
      " 21  S                            1186 non-null   string        \n",
      " 22  Availability of Studies      258 non-null    object        \n",
      " 23  SGIA Tender Date             41 non-null     object        \n",
      " 24  queue_id                     1186 non-null   object        \n",
      " 25  project_name                 1186 non-null   object        \n",
      " 26  queue_date                   1186 non-null   object        \n",
      " 27  queue_status                 1186 non-null   object        \n",
      " 28  interconnection_status_raw   231 non-null    object        \n",
      " 29  interconnection_status_lbnl  1186 non-null   object        \n",
      " 30  capacity_mw_resource_1       1186 non-null   float64       \n",
      " 31  resource_type_1              1186 non-null   object        \n",
      " 32  in_lbnl                      1186 non-null   bool          \n",
      " 33  in_gs                        1186 non-null   bool          \n",
      " 34  simplified_studies           257 non-null    object        \n",
      " 35  simplified_lbnl_raw          231 non-null    object        \n",
      " 36  s_simplified                 1186 non-null   UInt8         \n",
      "dtypes: UInt8(1), bool(2), datetime64[ns](4), float64(2), object(22), string(6)\n",
      "memory usage: 328.9+ KB\n"
     ]
    }
   ],
   "source": [
    "both_nyiso.info()"
   ]
  },
  {
   "cell_type": "code",
   "execution_count": 108,
   "metadata": {},
   "outputs": [
    {
     "name": "stdout",
     "output_type": "stream",
     "text": [
      "226128.46\n",
      "228118.59999999998\n",
      "1.008800926694499\n"
     ]
    }
   ],
   "source": [
    "gs_nyiso_cap = both_nyiso[\"Capacity (MW)\"].sum()\n",
    "lbnl_nyiso_cap = both_nyiso[\"capacity_mw_resource_1\"].sum()\n",
    "\n",
    "print(gs_nyiso_cap)\n",
    "print(lbnl_nyiso_cap)\n",
    "print(lbnl_nyiso_cap / gs_nyiso_cap)"
   ]
  },
  {
   "cell_type": "markdown",
   "metadata": {},
   "source": [
    "Ok! Projects that exist in both have very similar total capacities! That's a good start. I could look into which projects have different capacity values but the amount is so minor that I'm going to skip for now."
   ]
  },
  {
   "cell_type": "markdown",
   "metadata": {},
   "source": [
    "#### Compare total capacity for **active** projects in both"
   ]
  },
  {
   "cell_type": "code",
   "execution_count": 115,
   "metadata": {},
   "outputs": [
    {
     "data": {
      "text/plain": [
       "withdrawn      713\n",
       "active         459\n",
       "operational     14\n",
       "Name: queue_status, dtype: int64"
      ]
     },
     "execution_count": 115,
     "metadata": {},
     "output_type": "execute_result"
    }
   ],
   "source": [
    "both_nyiso[\"queue_status\"].value_counts()"
   ]
  },
  {
   "cell_type": "code",
   "execution_count": 130,
   "metadata": {},
   "outputs": [
    {
     "data": {
      "text/plain": [
       "Status     queue_status\n",
       "Withdrawn  withdrawn       712\n",
       "Active     active          421\n",
       "Withdrawn  active           38\n",
       "Completed  operational      14\n",
       "           withdrawn         1\n",
       "dtype: int64"
      ]
     },
     "execution_count": 130,
     "metadata": {},
     "output_type": "execute_result"
    }
   ],
   "source": [
    "both_nyiso[[\"Status\", \"queue_status\"]].value_counts(dropna=False)"
   ]
  },
  {
   "cell_type": "markdown",
   "metadata": {},
   "source": [
    "There are some active LBNL projects that have been withdrawn maybe because the GS data is a bit fresher? If so the withdrawl dates should be after 2022-12-31."
   ]
  },
  {
   "cell_type": "code",
   "execution_count": 123,
   "metadata": {},
   "outputs": [
    {
     "data": {
      "text/plain": [
       "2023    38\n",
       "Name: Withdrawn Date, dtype: int64"
      ]
     },
     "execution_count": 123,
     "metadata": {},
     "output_type": "execute_result"
    }
   ],
   "source": [
    "pd.to_datetime(both_nyiso[(both_nyiso[\"Status\"] == \"Withdrawn\") & (both_nyiso[\"queue_status\"] == \"active\")][\"Withdrawn Date\"]).dt.year.value_counts()"
   ]
  },
  {
   "cell_type": "markdown",
   "metadata": {},
   "source": [
    "Great! That explains it. This means we can just compare projects marked active in lbnl"
   ]
  },
  {
   "cell_type": "code",
   "execution_count": 126,
   "metadata": {},
   "outputs": [
    {
     "name": "stdout",
     "output_type": "stream",
     "text": [
      "108584.66\n",
      "110592.0\n",
      "1.0184864049857503\n"
     ]
    }
   ],
   "source": [
    "active_both_nyiso = both_nyiso[(both_nyiso[\"queue_status\"] == \"active\")]\n",
    "gs_nyiso_cap = active_both_nyiso[\"Capacity (MW)\"].sum()\n",
    "lbnl_nyiso_cap = active_both_nyiso[\"capacity_mw_resource_1\"].sum()\n",
    "\n",
    "print(gs_nyiso_cap)\n",
    "print(lbnl_nyiso_cap)\n",
    "print(lbnl_nyiso_cap / gs_nyiso_cap)"
   ]
  },
  {
   "cell_type": "markdown",
   "metadata": {},
   "source": [
    "Similar capacity totals I'm comfortable with."
   ]
  },
  {
   "cell_type": "markdown",
   "metadata": {},
   "source": [
    "#### Compare total capacity for all projects"
   ]
  },
  {
   "cell_type": "code",
   "execution_count": 128,
   "metadata": {},
   "outputs": [
    {
     "data": {
      "text/plain": [
       "in_gs  in_lbnl\n",
       "True   True       1186\n",
       "       False       347\n",
       "False  True         74\n",
       "dtype: int64"
      ]
     },
     "execution_count": 128,
     "metadata": {},
     "output_type": "execute_result"
    }
   ],
   "source": [
    "nyiso[[\"in_gs\", \"in_lbnl\"]].value_counts(dropna=False)\n"
   ]
  },
  {
   "cell_type": "code",
   "execution_count": 129,
   "metadata": {},
   "outputs": [
    {
     "data": {
      "text/plain": [
       "Status     queue_status\n",
       "Withdrawn  withdrawn       712\n",
       "Active     active          421\n",
       "Withdrawn  NaN             137\n",
       "Completed  NaN             106\n",
       "Active     NaN             104\n",
       "NaN        operational      74\n",
       "Withdrawn  active           38\n",
       "Completed  operational      14\n",
       "           withdrawn         1\n",
       "dtype: int64"
      ]
     },
     "execution_count": 129,
     "metadata": {},
     "output_type": "execute_result"
    }
   ],
   "source": [
    "nyiso[[\"Status\", \"queue_status\"]].value_counts(dropna=False)"
   ]
  },
  {
   "cell_type": "code",
   "execution_count": 143,
   "metadata": {},
   "outputs": [
    {
     "name": "stdout",
     "output_type": "stream",
     "text": [
      "0.2705746493529786\n",
      "0.04379634478561434\n"
     ]
    }
   ],
   "source": [
    "print(nyiso[nyiso.in_gs & ~nyiso.in_lbnl][\"Capacity (MW)\"].sum() / nyiso[nyiso.in_gs][\"Capacity (MW)\"].sum())\n",
    "print(nyiso[~nyiso.in_gs & nyiso.in_lbnl][\"capacity_mw_resource_1\"].sum() / nyiso[nyiso.in_lbnl][\"Capacity (MW)\"].sum())"
   ]
  },
  {
   "cell_type": "markdown",
   "metadata": {},
   "source": [
    "Projects in GS but not in lbnl account for 27% of total capacity in GS nyiso.\n",
    "Projects in LBNL but not in GS account for 4% of total capacity in LBNL NYISO.\n",
    "\n",
    "Why does GS have so much more capacity than LBNL here? Do we care if GS has more capacity than LBNL given GS more closely resembles the source data? Is LBNL doing deduplication work behind the scenes?"
   ]
  },
  {
   "cell_type": "markdown",
   "metadata": {},
   "source": [
    "### MISO\n",
    "Very good project coverage, but the IA status categories are a mess."
   ]
  },
  {
   "cell_type": "code",
   "execution_count": 144,
   "metadata": {},
   "outputs": [
    {
     "data": {
      "text/plain": [
       "Index(['Queue ID', 'Project Name', 'Interconnecting Entity', 'County', 'State', 'Interconnection Location', 'Transmission Owner', 'Generation Type', 'Capacity (MW)', 'Summer Capacity (MW)', 'Winter Capacity (MW)', 'Queue Date', 'Status', 'Proposed Completion Date', 'Withdrawn Date', 'Withdrawal Comment', 'Actual Completion Date', 'facilityType', 'Post Generator Interconnection Agreement Status', 'Interconnection Approval Date', 'inService', 'giaToExec', 'studyCycle', 'studyGroup', 'studyPhase', 'svcType', 'dp1ErisMw', 'dp1NrisMw', 'dp2ErisMw', 'dp2NrisMw', 'sisPhase1'], dtype='object')"
      ]
     },
     "execution_count": 144,
     "metadata": {},
     "output_type": "execute_result"
    }
   ],
   "source": [
    "raw_miso.columns\n"
   ]
  },
  {
   "cell_type": "code",
   "execution_count": 145,
   "metadata": {},
   "outputs": [
    {
     "data": {
      "text/html": [
       "<div>\n",
       "<style scoped>\n",
       "    .dataframe tbody tr th:only-of-type {\n",
       "        vertical-align: middle;\n",
       "    }\n",
       "\n",
       "    .dataframe tbody tr th {\n",
       "        vertical-align: top;\n",
       "    }\n",
       "\n",
       "    .dataframe thead th {\n",
       "        text-align: right;\n",
       "    }\n",
       "</style>\n",
       "<table border=\"1\" class=\"dataframe\">\n",
       "  <thead>\n",
       "    <tr style=\"text-align: right;\">\n",
       "      <th></th>\n",
       "      <th>Queue ID</th>\n",
       "      <th>Project Name</th>\n",
       "      <th>Interconnecting Entity</th>\n",
       "      <th>County</th>\n",
       "      <th>State</th>\n",
       "      <th>Interconnection Location</th>\n",
       "      <th>Transmission Owner</th>\n",
       "      <th>Generation Type</th>\n",
       "      <th>Capacity (MW)</th>\n",
       "      <th>Summer Capacity (MW)</th>\n",
       "      <th>Winter Capacity (MW)</th>\n",
       "      <th>Queue Date</th>\n",
       "      <th>Status</th>\n",
       "      <th>Proposed Completion Date</th>\n",
       "      <th>Withdrawn Date</th>\n",
       "      <th>Withdrawal Comment</th>\n",
       "      <th>Actual Completion Date</th>\n",
       "      <th>facilityType</th>\n",
       "      <th>Post Generator Interconnection Agreement Status</th>\n",
       "      <th>Interconnection Approval Date</th>\n",
       "      <th>inService</th>\n",
       "      <th>giaToExec</th>\n",
       "      <th>studyCycle</th>\n",
       "      <th>studyGroup</th>\n",
       "      <th>studyPhase</th>\n",
       "      <th>svcType</th>\n",
       "      <th>dp1ErisMw</th>\n",
       "      <th>dp1NrisMw</th>\n",
       "      <th>dp2ErisMw</th>\n",
       "      <th>dp2NrisMw</th>\n",
       "      <th>sisPhase1</th>\n",
       "    </tr>\n",
       "  </thead>\n",
       "  <tbody>\n",
       "    <tr>\n",
       "      <th>2213</th>\n",
       "      <td>J392</td>\n",
       "      <td>None</td>\n",
       "      <td>None</td>\n",
       "      <td>Otsego County</td>\n",
       "      <td>MI</td>\n",
       "      <td>ITC/METC 138 kV Livingston to Stover line</td>\n",
       "      <td>Michigan Electric Transmission Company, LLC</td>\n",
       "      <td>Gas</td>\n",
       "      <td>420.7</td>\n",
       "      <td>383.1</td>\n",
       "      <td>420.7</td>\n",
       "      <td>2014-09-15T04:00:00Z</td>\n",
       "      <td>Done</td>\n",
       "      <td>2015-09-01T04:00:00Z</td>\n",
       "      <td>None</td>\n",
       "      <td>None</td>\n",
       "      <td>None</td>\n",
       "      <td>CT Combustion Turbine (Simple Cycle)</td>\n",
       "      <td>In Service</td>\n",
       "      <td>2016-03-23T04:00:00Z</td>\n",
       "      <td>2016-05-16T04:00:00Z</td>\n",
       "      <td>2016-03-23T04:00:00Z</td>\n",
       "      <td>DPP-2015-FEB</td>\n",
       "      <td>East (ITC)</td>\n",
       "      <td>Network Upgrade</td>\n",
       "      <td>NRIS</td>\n",
       "      <td>0.0</td>\n",
       "      <td>0.0</td>\n",
       "      <td>0.0</td>\n",
       "      <td>0.0</td>\n",
       "      <td></td>\n",
       "    </tr>\n",
       "    <tr>\n",
       "      <th>2214</th>\n",
       "      <td>J392</td>\n",
       "      <td>None</td>\n",
       "      <td>None</td>\n",
       "      <td>Otsego County</td>\n",
       "      <td>MI</td>\n",
       "      <td>ITC/METC 138 kV Livingston to Stover line</td>\n",
       "      <td>Michigan Electric Transmission Company, LLC</td>\n",
       "      <td>Gas</td>\n",
       "      <td>420.7</td>\n",
       "      <td>383.1</td>\n",
       "      <td>420.7</td>\n",
       "      <td>2014-09-15T04:00:00Z</td>\n",
       "      <td>Done</td>\n",
       "      <td>2015-09-01T04:00:00Z</td>\n",
       "      <td>None</td>\n",
       "      <td>None</td>\n",
       "      <td>None</td>\n",
       "      <td>CT Combustion Turbine (Simple Cycle)</td>\n",
       "      <td>In Service</td>\n",
       "      <td>2016-03-23T04:00:00Z</td>\n",
       "      <td>2016-05-16T04:00:00Z</td>\n",
       "      <td>2016-03-23T04:00:00Z</td>\n",
       "      <td>DPP-2015-FEB</td>\n",
       "      <td>East (ITC)</td>\n",
       "      <td>Int FaS</td>\n",
       "      <td>NRIS</td>\n",
       "      <td>0.0</td>\n",
       "      <td>0.0</td>\n",
       "      <td>0.0</td>\n",
       "      <td>0.0</td>\n",
       "      <td></td>\n",
       "    </tr>\n",
       "  </tbody>\n",
       "</table>\n",
       "</div>"
      ],
      "text/plain": [
       "     Queue ID Project Name Interconnecting Entity         County State                   Interconnection Location                           Transmission Owner Generation Type  Capacity (MW)  Summer Capacity (MW)  Winter Capacity (MW)            Queue Date Status Proposed Completion Date Withdrawn Date Withdrawal Comment Actual Completion Date                          facilityType Post Generator Interconnection Agreement Status Interconnection Approval Date             inService             giaToExec    studyCycle  studyGroup       studyPhase svcType  dp1ErisMw  dp1NrisMw  dp2ErisMw  dp2NrisMw sisPhase1\n",
       "2213     J392         None                   None  Otsego County    MI  ITC/METC 138 kV Livingston to Stover line  Michigan Electric Transmission Company, LLC             Gas          420.7                 383.1                 420.7  2014-09-15T04:00:00Z   Done     2015-09-01T04:00:00Z           None               None                   None  CT Combustion Turbine (Simple Cycle)                                      In Service          2016-03-23T04:00:00Z  2016-05-16T04:00:00Z  2016-03-23T04:00:00Z  DPP-2015-FEB  East (ITC)  Network Upgrade    NRIS        0.0        0.0        0.0        0.0          \n",
       "2214     J392         None                   None  Otsego County    MI  ITC/METC 138 kV Livingston to Stover line  Michigan Electric Transmission Company, LLC             Gas          420.7                 383.1                 420.7  2014-09-15T04:00:00Z   Done     2015-09-01T04:00:00Z           None               None                   None  CT Combustion Turbine (Simple Cycle)                                      In Service          2016-03-23T04:00:00Z  2016-05-16T04:00:00Z  2016-03-23T04:00:00Z  DPP-2015-FEB  East (ITC)          Int FaS    NRIS        0.0        0.0        0.0        0.0          "
      ]
     },
     "execution_count": 145,
     "metadata": {},
     "output_type": "execute_result"
    }
   ],
   "source": [
    "# I don't know which is correct (if either), but I'll guess that the later one is. So keep='last'\n",
    "# Nearly whole-row duplicate, except for \"studyPhase\"\n",
    "raw_miso.loc[raw_miso.duplicated(subset='Queue ID', keep=False), :].sort_values(by='Queue ID')\n"
   ]
  },
  {
   "cell_type": "code",
   "execution_count": 146,
   "metadata": {},
   "outputs": [
    {
     "data": {
      "text/html": [
       "<div>\n",
       "<style scoped>\n",
       "    .dataframe tbody tr th:only-of-type {\n",
       "        vertical-align: middle;\n",
       "    }\n",
       "\n",
       "    .dataframe tbody tr th {\n",
       "        vertical-align: top;\n",
       "    }\n",
       "\n",
       "    .dataframe thead th {\n",
       "        text-align: right;\n",
       "    }\n",
       "</style>\n",
       "<table border=\"1\" class=\"dataframe\">\n",
       "  <thead>\n",
       "    <tr style=\"text-align: right;\">\n",
       "      <th></th>\n",
       "      <th>queue_id</th>\n",
       "      <th>queue_status</th>\n",
       "      <th>queue_date</th>\n",
       "      <th>queue_year</th>\n",
       "      <th>interconnection_date</th>\n",
       "      <th>entity</th>\n",
       "      <th>project_name</th>\n",
       "      <th>developer</th>\n",
       "      <th>utility</th>\n",
       "      <th>county_1</th>\n",
       "      <th>county_2</th>\n",
       "      <th>county_3</th>\n",
       "      <th>raw_state_name</th>\n",
       "      <th>region</th>\n",
       "      <th>interconnection_service_type</th>\n",
       "      <th>point_of_interconnection</th>\n",
       "      <th>date_proposed</th>\n",
       "      <th>year_proposed</th>\n",
       "      <th>interconnection_status_raw</th>\n",
       "      <th>interconnection_status_lbnl</th>\n",
       "      <th>resource_type_lbnl</th>\n",
       "      <th>resource_type_1</th>\n",
       "      <th>resource_type_2</th>\n",
       "      <th>resource_type_3</th>\n",
       "      <th>capacity_mw_resource_1</th>\n",
       "      <th>capacity_mw_resource_2</th>\n",
       "      <th>capacity_mw_resource_3</th>\n",
       "    </tr>\n",
       "  </thead>\n",
       "  <tbody>\n",
       "    <tr>\n",
       "      <th>10519</th>\n",
       "      <td>J392</td>\n",
       "      <td>operational</td>\n",
       "      <td>9/15/2014</td>\n",
       "      <td>2014.0</td>\n",
       "      <td>3/23/2016</td>\n",
       "      <td>MISO</td>\n",
       "      <td>NaN</td>\n",
       "      <td>NaN</td>\n",
       "      <td>Michigan Electric Transmission Company, LLC</td>\n",
       "      <td>otsego</td>\n",
       "      <td>NaN</td>\n",
       "      <td>NaN</td>\n",
       "      <td>MI</td>\n",
       "      <td>MISO</td>\n",
       "      <td>NRIS</td>\n",
       "      <td>ITC/METC 138 kV Livingston to Stover line</td>\n",
       "      <td>5/16/2016</td>\n",
       "      <td>2016.0</td>\n",
       "      <td>In Service</td>\n",
       "      <td>Operational</td>\n",
       "      <td>Gas</td>\n",
       "      <td>Gas</td>\n",
       "      <td>NaN</td>\n",
       "      <td>NaN</td>\n",
       "      <td>421.0</td>\n",
       "      <td>NaN</td>\n",
       "      <td>NaN</td>\n",
       "    </tr>\n",
       "    <tr>\n",
       "      <th>10842</th>\n",
       "      <td>J392</td>\n",
       "      <td>operational</td>\n",
       "      <td>9/15/2014</td>\n",
       "      <td>2014.0</td>\n",
       "      <td>3/23/2016</td>\n",
       "      <td>MISO</td>\n",
       "      <td>NaN</td>\n",
       "      <td>NaN</td>\n",
       "      <td>Michigan Electric Transmission Company, LLC</td>\n",
       "      <td>otsego</td>\n",
       "      <td>NaN</td>\n",
       "      <td>NaN</td>\n",
       "      <td>MI</td>\n",
       "      <td>MISO</td>\n",
       "      <td>NRIS</td>\n",
       "      <td>ITC/METC 138 kV Livingston to Stover line</td>\n",
       "      <td>5/16/2016</td>\n",
       "      <td>2016.0</td>\n",
       "      <td>In Service</td>\n",
       "      <td>Operational</td>\n",
       "      <td>Gas</td>\n",
       "      <td>Gas</td>\n",
       "      <td>NaN</td>\n",
       "      <td>NaN</td>\n",
       "      <td>421.0</td>\n",
       "      <td>NaN</td>\n",
       "      <td>NaN</td>\n",
       "    </tr>\n",
       "  </tbody>\n",
       "</table>\n",
       "</div>"
      ],
      "text/plain": [
       "      queue_id queue_status queue_date  queue_year interconnection_date entity project_name developer                                      utility county_1 county_2 county_3 raw_state_name region interconnection_service_type                   point_of_interconnection date_proposed  year_proposed interconnection_status_raw interconnection_status_lbnl resource_type_lbnl resource_type_1 resource_type_2 resource_type_3  capacity_mw_resource_1  capacity_mw_resource_2  capacity_mw_resource_3\n",
       "10519     J392  operational  9/15/2014      2014.0            3/23/2016   MISO          NaN       NaN  Michigan Electric Transmission Company, LLC   otsego      NaN      NaN             MI   MISO                         NRIS  ITC/METC 138 kV Livingston to Stover line     5/16/2016         2016.0                 In Service                 Operational                Gas             Gas             NaN             NaN                   421.0                     NaN                     NaN\n",
       "10842     J392  operational  9/15/2014      2014.0            3/23/2016   MISO          NaN       NaN  Michigan Electric Transmission Company, LLC   otsego      NaN      NaN             MI   MISO                         NRIS  ITC/METC 138 kV Livingston to Stover line     5/16/2016         2016.0                 In Service                 Operational                Gas             Gas             NaN             NaN                   421.0                     NaN                     NaN"
      ]
     },
     "execution_count": 146,
     "metadata": {},
     "output_type": "execute_result"
    }
   ],
   "source": [
    "# I don't know which is correct (if either), but I'll guess that the later one is. So keep='last'\n",
    "# Nearly whole-row duplicate, except for \"studyPhase\"\n",
    "lbnl.query('entity == \"MISO\"').loc[lbnl.query('entity == \"MISO\"').duplicated(subset='queue_id', keep=False), :].sort_values(by='queue_id')\n"
   ]
  },
  {
   "cell_type": "code",
   "execution_count": 147,
   "metadata": {},
   "outputs": [
    {
     "name": "stdout",
     "output_type": "stream",
     "text": [
      "<class 'pandas.core.frame.DataFrame'>\n",
      "Int64Index: 4252 entries, 0 to 4251\n",
      "Data columns (total 41 columns):\n",
      " #   Column                                           Non-Null Count  Dtype  \n",
      "---  ------                                           --------------  -----  \n",
      " 0   Queue ID                                         4252 non-null   object \n",
      " 1   Project Name                                     0 non-null      object \n",
      " 2   Interconnecting Entity                           0 non-null      object \n",
      " 3   County                                           4252 non-null   object \n",
      " 4   State                                            4252 non-null   object \n",
      " 5   Interconnection Location                         4252 non-null   object \n",
      " 6   Transmission Owner                               4252 non-null   object \n",
      " 7   Generation Type                                  4252 non-null   object \n",
      " 8   Capacity (MW)                                    4252 non-null   float64\n",
      " 9   Summer Capacity (MW)                             4252 non-null   float64\n",
      " 10  Winter Capacity (MW)                             4252 non-null   float64\n",
      " 11  Queue Date                                       3962 non-null   object \n",
      " 12  Status                                           4252 non-null   object \n",
      " 13  Proposed Completion Date                         1700 non-null   object \n",
      " 14  Withdrawn Date                                   1901 non-null   object \n",
      " 15  Withdrawal Comment                               0 non-null      object \n",
      " 16  Actual Completion Date                           0 non-null      object \n",
      " 17  facilityType                                     4252 non-null   object \n",
      " 18  Post Generator Interconnection Agreement Status  4252 non-null   object \n",
      " 19  Interconnection Approval Date                    1542 non-null   object \n",
      " 20  inService                                        3109 non-null   object \n",
      " 21  giaToExec                                        652 non-null    object \n",
      " 22  studyCycle                                       4252 non-null   object \n",
      " 23  studyGroup                                       4252 non-null   object \n",
      " 24  studyPhase                                       4252 non-null   object \n",
      " 25  svcType                                          4252 non-null   object \n",
      " 26  dp1ErisMw                                        4252 non-null   float64\n",
      " 27  dp1NrisMw                                        4252 non-null   float64\n",
      " 28  dp2ErisMw                                        4252 non-null   float64\n",
      " 29  dp2NrisMw                                        4252 non-null   float64\n",
      " 30  sisPhase1                                        4252 non-null   object \n",
      " 31  queue_id                                         4070 non-null   object \n",
      " 32  project_name                                     0 non-null      object \n",
      " 33  queue_date                                       4056 non-null   object \n",
      " 34  queue_status                                     4070 non-null   object \n",
      " 35  interconnection_status_raw                       4070 non-null   object \n",
      " 36  interconnection_status_lbnl                      4070 non-null   object \n",
      " 37  capacity_mw_resource_1                           4070 non-null   float64\n",
      " 38  resource_type_1                                  4070 non-null   object \n",
      " 39  in_lbnl                                          4252 non-null   bool   \n",
      " 40  in_gs                                            4252 non-null   bool   \n",
      "dtypes: bool(2), float64(8), object(31)\n",
      "memory usage: 1.3+ MB\n"
     ]
    }
   ],
   "source": [
    "miso = join_lbnl(raw_miso.drop_duplicates(subset='Queue ID', keep='last'), lbnl.query('entity == \"MISO\"').drop_duplicates(subset='queue_id', keep='last'), \"MISO\")\n",
    "miso.info()\n"
   ]
  },
  {
   "cell_type": "code",
   "execution_count": 148,
   "metadata": {},
   "outputs": [
    {
     "data": {
      "text/html": [
       "<div>\n",
       "<style scoped>\n",
       "    .dataframe tbody tr th:only-of-type {\n",
       "        vertical-align: middle;\n",
       "    }\n",
       "\n",
       "    .dataframe tbody tr th {\n",
       "        vertical-align: top;\n",
       "    }\n",
       "\n",
       "    .dataframe thead th {\n",
       "        text-align: right;\n",
       "    }\n",
       "</style>\n",
       "<table border=\"1\" class=\"dataframe\">\n",
       "  <thead>\n",
       "    <tr style=\"text-align: right;\">\n",
       "      <th></th>\n",
       "      <th>Queue ID</th>\n",
       "      <th>Project Name</th>\n",
       "      <th>Interconnecting Entity</th>\n",
       "      <th>County</th>\n",
       "      <th>State</th>\n",
       "      <th>Interconnection Location</th>\n",
       "      <th>Transmission Owner</th>\n",
       "      <th>Generation Type</th>\n",
       "      <th>Capacity (MW)</th>\n",
       "      <th>Summer Capacity (MW)</th>\n",
       "      <th>Winter Capacity (MW)</th>\n",
       "      <th>Queue Date</th>\n",
       "      <th>Status</th>\n",
       "      <th>Proposed Completion Date</th>\n",
       "      <th>Withdrawn Date</th>\n",
       "      <th>Withdrawal Comment</th>\n",
       "      <th>Actual Completion Date</th>\n",
       "      <th>facilityType</th>\n",
       "      <th>Post Generator Interconnection Agreement Status</th>\n",
       "      <th>Interconnection Approval Date</th>\n",
       "      <th>inService</th>\n",
       "      <th>giaToExec</th>\n",
       "      <th>studyCycle</th>\n",
       "      <th>studyGroup</th>\n",
       "      <th>studyPhase</th>\n",
       "      <th>svcType</th>\n",
       "      <th>dp1ErisMw</th>\n",
       "      <th>dp1NrisMw</th>\n",
       "      <th>dp2ErisMw</th>\n",
       "      <th>dp2NrisMw</th>\n",
       "      <th>sisPhase1</th>\n",
       "      <th>queue_id</th>\n",
       "      <th>project_name</th>\n",
       "      <th>queue_date</th>\n",
       "      <th>queue_status</th>\n",
       "      <th>interconnection_status_raw</th>\n",
       "      <th>interconnection_status_lbnl</th>\n",
       "      <th>capacity_mw_resource_1</th>\n",
       "      <th>resource_type_1</th>\n",
       "      <th>in_lbnl</th>\n",
       "      <th>in_gs</th>\n",
       "    </tr>\n",
       "  </thead>\n",
       "  <tbody>\n",
       "    <tr>\n",
       "      <th>3994</th>\n",
       "      <td>J3095</td>\n",
       "      <td>None</td>\n",
       "      <td>None</td>\n",
       "      <td>Ford</td>\n",
       "      <td>IL</td>\n",
       "      <td>4PAXTON E - 4GIFFORD 138 KV</td>\n",
       "      <td>Ameren Illinois</td>\n",
       "      <td>Solar</td>\n",
       "      <td>200.0</td>\n",
       "      <td>200.0</td>\n",
       "      <td>200.0</td>\n",
       "      <td>2022-11-03T04:00:00Z</td>\n",
       "      <td>Active</td>\n",
       "      <td>None</td>\n",
       "      <td>None</td>\n",
       "      <td>None</td>\n",
       "      <td>None</td>\n",
       "      <td>PV Photovoltaic</td>\n",
       "      <td>Not Started</td>\n",
       "      <td>None</td>\n",
       "      <td>2025-09-01T04:00:00Z</td>\n",
       "      <td>None</td>\n",
       "      <td>DPP-2022-Cycle</td>\n",
       "      <td>Central</td>\n",
       "      <td>Study Not Started</td>\n",
       "      <td>NRIS</td>\n",
       "      <td>0.0</td>\n",
       "      <td>0.0</td>\n",
       "      <td>0.0</td>\n",
       "      <td>0.0</td>\n",
       "      <td></td>\n",
       "      <td>J3095</td>\n",
       "      <td>NaN</td>\n",
       "      <td>11/3/2022</td>\n",
       "      <td>active</td>\n",
       "      <td>not started</td>\n",
       "      <td>Not Started</td>\n",
       "      <td>200.0</td>\n",
       "      <td>Solar</td>\n",
       "      <td>True</td>\n",
       "      <td>True</td>\n",
       "    </tr>\n",
       "    <tr>\n",
       "      <th>1606</th>\n",
       "      <td>J1148</td>\n",
       "      <td>None</td>\n",
       "      <td>None</td>\n",
       "      <td>Posey County</td>\n",
       "      <td>IN</td>\n",
       "      <td>AB Brown 138 kV Substation</td>\n",
       "      <td>Southern Indiana Gas &amp; Electric Company d/b/a ...</td>\n",
       "      <td>Gas</td>\n",
       "      <td>54.0</td>\n",
       "      <td>54.0</td>\n",
       "      <td>54.0</td>\n",
       "      <td>2018-03-12T04:00:00Z</td>\n",
       "      <td>Withdrawn</td>\n",
       "      <td>None</td>\n",
       "      <td>2020-01-07T05:00:00Z</td>\n",
       "      <td>None</td>\n",
       "      <td>None</td>\n",
       "      <td>Combined Cycle</td>\n",
       "      <td>Not Started</td>\n",
       "      <td>None</td>\n",
       "      <td>2022-06-01T04:00:00Z</td>\n",
       "      <td>None</td>\n",
       "      <td>DPP-2018-APR</td>\n",
       "      <td>Central</td>\n",
       "      <td>PHASE 3</td>\n",
       "      <td>NRIS</td>\n",
       "      <td>0.0</td>\n",
       "      <td>0.0</td>\n",
       "      <td>0.0</td>\n",
       "      <td>0.0</td>\n",
       "      <td></td>\n",
       "      <td>J1148</td>\n",
       "      <td>NaN</td>\n",
       "      <td>3/12/2018</td>\n",
       "      <td>withdrawn</td>\n",
       "      <td>Facility Study</td>\n",
       "      <td>Facility Study</td>\n",
       "      <td>54.0</td>\n",
       "      <td>Gas</td>\n",
       "      <td>True</td>\n",
       "      <td>True</td>\n",
       "    </tr>\n",
       "    <tr>\n",
       "      <th>1380</th>\n",
       "      <td>G423</td>\n",
       "      <td>None</td>\n",
       "      <td>None</td>\n",
       "      <td>Columbia County</td>\n",
       "      <td>WI</td>\n",
       "      <td>Unknown</td>\n",
       "      <td>American Transmission Co. LLC</td>\n",
       "      <td>Wind</td>\n",
       "      <td>19.0</td>\n",
       "      <td>19.0</td>\n",
       "      <td>19.0</td>\n",
       "      <td>2004-04-07T04:00:00Z</td>\n",
       "      <td>Withdrawn</td>\n",
       "      <td>2006-12-01T05:00:00Z</td>\n",
       "      <td>2004-09-09T04:00:00Z</td>\n",
       "      <td>None</td>\n",
       "      <td>None</td>\n",
       "      <td>WT Wind Turbine</td>\n",
       "      <td>Not Started</td>\n",
       "      <td>2004-09-09T04:00:00Z</td>\n",
       "      <td>None</td>\n",
       "      <td>None</td>\n",
       "      <td></td>\n",
       "      <td></td>\n",
       "      <td></td>\n",
       "      <td>ERIS</td>\n",
       "      <td>0.0</td>\n",
       "      <td>0.0</td>\n",
       "      <td>0.0</td>\n",
       "      <td>0.0</td>\n",
       "      <td></td>\n",
       "      <td>G423</td>\n",
       "      <td>NaN</td>\n",
       "      <td>4/7/2004</td>\n",
       "      <td>withdrawn</td>\n",
       "      <td>Withdrawn</td>\n",
       "      <td>Withdrawn</td>\n",
       "      <td>19.0</td>\n",
       "      <td>Wind</td>\n",
       "      <td>True</td>\n",
       "      <td>True</td>\n",
       "    </tr>\n",
       "    <tr>\n",
       "      <th>1568</th>\n",
       "      <td>J1113</td>\n",
       "      <td>None</td>\n",
       "      <td>None</td>\n",
       "      <td>Sunflower County</td>\n",
       "      <td>MS</td>\n",
       "      <td>Delta - Ruleville 115kV Line Tap</td>\n",
       "      <td>Entergy Mississippi, LLC</td>\n",
       "      <td>Solar</td>\n",
       "      <td>85.0</td>\n",
       "      <td>85.0</td>\n",
       "      <td>85.0</td>\n",
       "      <td>2018-03-12T04:00:00Z</td>\n",
       "      <td>Withdrawn</td>\n",
       "      <td>None</td>\n",
       "      <td>2019-08-29T04:00:00Z</td>\n",
       "      <td>None</td>\n",
       "      <td>None</td>\n",
       "      <td>PV Photovoltaic</td>\n",
       "      <td>Not Started</td>\n",
       "      <td>None</td>\n",
       "      <td>2022-09-01T04:00:00Z</td>\n",
       "      <td>None</td>\n",
       "      <td>DPP-2018-APR</td>\n",
       "      <td>South</td>\n",
       "      <td>GIA</td>\n",
       "      <td>NRIS</td>\n",
       "      <td>0.0</td>\n",
       "      <td>0.0</td>\n",
       "      <td>0.0</td>\n",
       "      <td>0.0</td>\n",
       "      <td></td>\n",
       "      <td>J1113</td>\n",
       "      <td>NaN</td>\n",
       "      <td>3/12/2018</td>\n",
       "      <td>withdrawn</td>\n",
       "      <td>IA Executed</td>\n",
       "      <td>IA Executed</td>\n",
       "      <td>85.0</td>\n",
       "      <td>Solar</td>\n",
       "      <td>True</td>\n",
       "      <td>True</td>\n",
       "    </tr>\n",
       "  </tbody>\n",
       "</table>\n",
       "</div>"
      ],
      "text/plain": [
       "     Queue ID Project Name Interconnecting Entity            County State          Interconnection Location                                 Transmission Owner Generation Type  Capacity (MW)  Summer Capacity (MW)  Winter Capacity (MW)            Queue Date     Status Proposed Completion Date        Withdrawn Date Withdrawal Comment Actual Completion Date     facilityType Post Generator Interconnection Agreement Status Interconnection Approval Date             inService giaToExec      studyCycle studyGroup         studyPhase svcType  dp1ErisMw  dp1NrisMw  dp2ErisMw  dp2NrisMw sisPhase1 queue_id project_name queue_date queue_status interconnection_status_raw interconnection_status_lbnl  capacity_mw_resource_1 resource_type_1  in_lbnl  in_gs\n",
       "3994    J3095         None                   None              Ford    IL       4PAXTON E - 4GIFFORD 138 KV                                    Ameren Illinois           Solar          200.0                 200.0                 200.0  2022-11-03T04:00:00Z     Active                     None                  None               None                   None  PV Photovoltaic                                     Not Started                          None  2025-09-01T04:00:00Z      None  DPP-2022-Cycle    Central  Study Not Started    NRIS        0.0        0.0        0.0        0.0              J3095          NaN  11/3/2022       active                not started                 Not Started                   200.0           Solar     True   True\n",
       "1606    J1148         None                   None      Posey County    IN        AB Brown 138 kV Substation  Southern Indiana Gas & Electric Company d/b/a ...             Gas           54.0                  54.0                  54.0  2018-03-12T04:00:00Z  Withdrawn                     None  2020-01-07T05:00:00Z               None                   None   Combined Cycle                                     Not Started                          None  2022-06-01T04:00:00Z      None    DPP-2018-APR    Central            PHASE 3    NRIS        0.0        0.0        0.0        0.0              J1148          NaN  3/12/2018    withdrawn             Facility Study              Facility Study                    54.0             Gas     True   True\n",
       "1380     G423         None                   None   Columbia County    WI                           Unknown                      American Transmission Co. LLC            Wind           19.0                  19.0                  19.0  2004-04-07T04:00:00Z  Withdrawn     2006-12-01T05:00:00Z  2004-09-09T04:00:00Z               None                   None  WT Wind Turbine                                     Not Started          2004-09-09T04:00:00Z                  None      None                                                  ERIS        0.0        0.0        0.0        0.0               G423          NaN   4/7/2004    withdrawn                  Withdrawn                   Withdrawn                    19.0            Wind     True   True\n",
       "1568    J1113         None                   None  Sunflower County    MS  Delta - Ruleville 115kV Line Tap                           Entergy Mississippi, LLC           Solar           85.0                  85.0                  85.0  2018-03-12T04:00:00Z  Withdrawn                     None  2019-08-29T04:00:00Z               None                   None  PV Photovoltaic                                     Not Started                          None  2022-09-01T04:00:00Z      None    DPP-2018-APR      South                GIA    NRIS        0.0        0.0        0.0        0.0              J1113          NaN  3/12/2018    withdrawn                IA Executed                 IA Executed                    85.0           Solar     True   True"
      ]
     },
     "execution_count": 148,
     "metadata": {},
     "output_type": "execute_result"
    }
   ],
   "source": [
    "miso.sample(4)\n"
   ]
  },
  {
   "cell_type": "code",
   "execution_count": 149,
   "metadata": {},
   "outputs": [
    {
     "data": {
      "text/plain": [
       "in_gs  in_lbnl\n",
       "True   True       4070\n",
       "       False       182\n",
       "dtype: int64"
      ]
     },
     "execution_count": 149,
     "metadata": {},
     "output_type": "execute_result"
    }
   ],
   "source": [
    "miso[[\"in_gs\", \"in_lbnl\"]].value_counts(dropna=False)\n"
   ]
  },
  {
   "cell_type": "code",
   "execution_count": 150,
   "metadata": {},
   "outputs": [
    {
     "data": {
      "text/plain": [
       "in_gs  in_lbnl\n",
       "True   True       3928\n",
       "       False       169\n",
       "dtype: int64"
      ]
     },
     "execution_count": 150,
     "metadata": {},
     "output_type": "execute_result"
    }
   ],
   "source": [
    "# somehow makes things worse?\n",
    "miso.loc[\n",
    "    pd.to_datetime(miso[\"Queue Date\"].str.replace(r'\\d{2}:\\d{2}:\\d{2}Z$', '', regex=True))  # remove time\n",
    "    .fillna(pd.to_datetime(\"2020-01-01\"))\n",
    "    .lt(pd.to_datetime(\"2023-01-01\")),\n",
    "    [\"in_gs\", \"in_lbnl\"],\n",
    "].value_counts(dropna=False)\n"
   ]
  },
  {
   "cell_type": "code",
   "execution_count": 151,
   "metadata": {},
   "outputs": [
    {
     "name": "stderr",
     "output_type": "stream",
     "text": [
      "/tmp/ipykernel_107/346163862.py:1: FutureWarning: Treating datetime data as categorical rather than numeric in `.describe` is deprecated and will be removed in a future version of pandas. Specify `datetime_is_numeric=True` to silence this warning and adopt the future behavior now.\n",
      "  pd.to_datetime(miso[\"Queue Date\"].str.replace(r'\\d{2}:\\d{2}:\\d{2}Z$', '', regex=True)).describe()\n"
     ]
    },
    {
     "data": {
      "text/plain": [
       "count                    3962\n",
       "unique                   1166\n",
       "top       2019-04-29 00:00:00\n",
       "freq                      257\n",
       "first     1900-01-01 00:00:00\n",
       "last      2023-04-03 00:00:00\n",
       "Name: Queue Date, dtype: object"
      ]
     },
     "execution_count": 151,
     "metadata": {},
     "output_type": "execute_result"
    }
   ],
   "source": [
    "pd.to_datetime(miso[\"Queue Date\"].str.replace(r'\\d{2}:\\d{2}:\\d{2}Z$', '', regex=True)).describe()\n"
   ]
  },
  {
   "cell_type": "code",
   "execution_count": 152,
   "metadata": {},
   "outputs": [
    {
     "name": "stderr",
     "output_type": "stream",
     "text": [
      "/tmp/ipykernel_107/2725150268.py:1: FutureWarning: Treating datetime data as categorical rather than numeric in `.describe` is deprecated and will be removed in a future version of pandas. Specify `datetime_is_numeric=True` to silence this warning and adopt the future behavior now.\n",
      "  pd.to_datetime(miso['queue_date']).describe()\n"
     ]
    },
    {
     "data": {
      "text/plain": [
       "count                    4056\n",
       "unique                   1133\n",
       "top       2019-04-29 00:00:00\n",
       "freq                      239\n",
       "first     1995-11-08 00:00:00\n",
       "last      2022-12-21 00:00:00\n",
       "Name: queue_date, dtype: object"
      ]
     },
     "execution_count": 152,
     "metadata": {},
     "output_type": "execute_result"
    }
   ],
   "source": [
    "pd.to_datetime(miso['queue_date']).describe()\n"
   ]
  },
  {
   "cell_type": "code",
   "execution_count": 153,
   "metadata": {},
   "outputs": [
    {
     "data": {
      "text/plain": [
       "Status                    queue_status\n",
       "                          NaN                1\n",
       "Active                    active          1324\n",
       "                          withdrawn          1\n",
       "                          NaN              122\n",
       "Done                      active           294\n",
       "                          operational      449\n",
       "                          withdrawn         51\n",
       "                          NaN               15\n",
       "Withdrawn                 active           116\n",
       "                          operational        2\n",
       "                          withdrawn       1831\n",
       "                          NaN               44\n",
       "Withdrawn - Pending Cure  withdrawn          2\n",
       "dtype: int64"
      ]
     },
     "execution_count": 153,
     "metadata": {},
     "output_type": "execute_result"
    }
   ],
   "source": [
    "miso[[\"Status\", \"queue_status\"]].value_counts(dropna=False).sort_index()\n"
   ]
  },
  {
   "cell_type": "code",
   "execution_count": 154,
   "metadata": {},
   "outputs": [
    {
     "data": {
      "text/plain": [
       "queue_status  interconnection_status_raw\n",
       "active        Active                        817\n",
       "              Facility Study                150\n",
       "              Feasibility Study              80\n",
       "              IA Executed                   236\n",
       "              System Impact Study            75\n",
       "              not started                   376\n",
       "operational   In Service                    451\n",
       "withdrawn     Facility Study                291\n",
       "              Feasibility Study             370\n",
       "              IA Executed                   312\n",
       "              System Impact Study           497\n",
       "              Withdrawn                     264\n",
       "              not started                    57\n",
       "              unknown                        94\n",
       "NaN           NaN                           182\n",
       "dtype: int64"
      ]
     },
     "execution_count": 154,
     "metadata": {},
     "output_type": "execute_result"
    }
   ],
   "source": [
    "miso[['queue_status', 'interconnection_status_raw']].value_counts(dropna=False).sort_index()\n"
   ]
  },
  {
   "cell_type": "code",
   "execution_count": 155,
   "metadata": {},
   "outputs": [
    {
     "data": {
      "text/plain": [
       "In Progress (unknown study)    911\n",
       "System Impact Study            572\n",
       "IA Executed                    548\n",
       "Operational                    451\n",
       "Feasibility Study              450\n",
       "Facility Study                 441\n",
       "Not Started                    433\n",
       "Withdrawn                      264\n",
       "NaN                            182\n",
       "Name: interconnection_status_lbnl, dtype: int64"
      ]
     },
     "execution_count": 155,
     "metadata": {},
     "output_type": "execute_result"
    }
   ],
   "source": [
    "miso['interconnection_status_lbnl'].value_counts(dropna=False)\n"
   ]
  },
  {
   "cell_type": "code",
   "execution_count": 156,
   "metadata": {},
   "outputs": [
    {
     "data": {
      "text/plain": [
       "studyPhase         interconnection_status_raw\n",
       "                   Active                         13\n",
       "                   IA Executed                    28\n",
       "                   In Service                     32\n",
       "                   Withdrawn                     260\n",
       "                   not started                     2\n",
       "                   NaN                             5\n",
       "DPP - SIS          IA Executed                    11\n",
       "                   In Service                    108\n",
       "                   System Impact Study            88\n",
       "                   NaN                             1\n",
       "Feasibility        Feasibility Study             334\n",
       "                   IA Executed                     3\n",
       "                   In Service                      6\n",
       "GIA                IA Executed                   356\n",
       "                   In Service                     78\n",
       "                   NaN                             1\n",
       "Int FaS            Facility Study                 12\n",
       "                   In Service                      6\n",
       "MTEP               NaN                             1\n",
       "Network Upgrade    IA Executed                    40\n",
       "                   In Service                    151\n",
       "                   unknown                        81\n",
       "Optional           IA Executed                     2\n",
       "                   In Service                      9\n",
       "                   unknown                        13\n",
       "Out of Cycle       IA Executed                     1\n",
       "                   In Service                      3\n",
       "PHASE 1            Feasibility Study             116\n",
       "                   NaN                             5\n",
       "PHASE 2            System Impact Study            84\n",
       "                   NaN                             2\n",
       "PHASE 3            Facility Study                429\n",
       "                   IA Executed                    98\n",
       "                   In Service                      4\n",
       "                   System Impact Study            63\n",
       "                   NaN                            34\n",
       "SPA - SIS          IA Executed                     9\n",
       "                   In Service                     54\n",
       "                   System Impact Study           337\n",
       "                   NaN                             3\n",
       "Study Not Started  Active                        804\n",
       "                   Withdrawn                       4\n",
       "                   not started                   431\n",
       "                   NaN                           130\n",
       "dtype: int64"
      ]
     },
     "execution_count": 156,
     "metadata": {},
     "output_type": "execute_result"
    }
   ],
   "source": [
    "miso.loc[:, ['studyPhase', 'interconnection_status_raw']].value_counts(dropna=False).sort_index()\n"
   ]
  },
  {
   "cell_type": "code",
   "execution_count": 157,
   "metadata": {},
   "outputs": [
    {
     "data": {
      "text/plain": [
       "studyPhase         interconnection_status_lbnl\n",
       "                   IA Executed                     28\n",
       "                   In Progress (unknown study)     13\n",
       "                   Not Started                      2\n",
       "                   Operational                     32\n",
       "                   Withdrawn                      260\n",
       "                   NaN                              5\n",
       "DPP - SIS          IA Executed                     11\n",
       "                   Operational                    108\n",
       "                   System Impact Study             88\n",
       "                   NaN                              1\n",
       "Feasibility        Feasibility Study              334\n",
       "                   IA Executed                      3\n",
       "                   Operational                      6\n",
       "GIA                IA Executed                    356\n",
       "                   Operational                     78\n",
       "                   NaN                              1\n",
       "Int FaS            Facility Study                  12\n",
       "                   Operational                      6\n",
       "MTEP               NaN                              1\n",
       "Network Upgrade    IA Executed                     40\n",
       "                   In Progress (unknown study)     81\n",
       "                   Operational                    151\n",
       "Optional           IA Executed                      2\n",
       "                   In Progress (unknown study)     13\n",
       "                   Operational                      9\n",
       "Out of Cycle       IA Executed                      1\n",
       "                   Operational                      3\n",
       "PHASE 1            Feasibility Study              116\n",
       "                   NaN                              5\n",
       "PHASE 2            System Impact Study             84\n",
       "                   NaN                              2\n",
       "PHASE 3            Facility Study                 429\n",
       "                   IA Executed                     98\n",
       "                   Operational                      4\n",
       "                   System Impact Study             63\n",
       "                   NaN                             34\n",
       "SPA - SIS          IA Executed                      9\n",
       "                   Operational                     54\n",
       "                   System Impact Study            337\n",
       "                   NaN                              3\n",
       "Study Not Started  In Progress (unknown study)    804\n",
       "                   Not Started                    431\n",
       "                   Withdrawn                        4\n",
       "                   NaN                            130\n",
       "dtype: int64"
      ]
     },
     "execution_count": 157,
     "metadata": {},
     "output_type": "execute_result"
    }
   ],
   "source": [
    "miso.loc[:, ['studyPhase', 'interconnection_status_lbnl']].value_counts(dropna=False).sort_index()\n"
   ]
  },
  {
   "cell_type": "code",
   "execution_count": 158,
   "metadata": {},
   "outputs": [
    {
     "data": {
      "text/plain": [
       "Solar                  1479\n",
       "Wind                   1364\n",
       "Battery Storage         456\n",
       "Hybrid                  272\n",
       "Gas                     233\n",
       "                        143\n",
       "Coal                    100\n",
       "Combined Cycle           57\n",
       "Diesel                   36\n",
       "Hydro                    28\n",
       "Nuclear                  26\n",
       "Biomass                  22\n",
       "Wood                     10\n",
       "Waste Heat Recovery       8\n",
       "Landfill Gas              8\n",
       "High Voltage DC           8\n",
       "Co-Gen                    2\n",
       "Steam                     1\n",
       "Name: Generation Type, dtype: int64"
      ]
     },
     "execution_count": 158,
     "metadata": {},
     "output_type": "execute_result"
    }
   ],
   "source": [
    "# inconsistent mix of fuel/tech type\n",
    "raw_miso['Generation Type'].value_counts(dropna=False)\n"
   ]
  },
  {
   "cell_type": "markdown",
   "metadata": {},
   "source": [
    "### SPP\n",
    "\n",
    "* neither LBNL nor GridStatus have withdrawn projects\n",
    "* GridStatus destroys the detailed status information during their processing, so we lose the ability to distinguish between \"IA pending\" and \"System Integration Study\". But I don't think that is a problem because both are included in the \"actionable\" criteria in Synapse's model."
   ]
  },
  {
   "cell_type": "code",
   "execution_count": 142,
   "metadata": {},
   "outputs": [
    {
     "data": {
      "text/plain": [
       "Index(['Queue ID', 'Project Name', 'Interconnecting Entity', 'County', 'State', 'Interconnection Location', 'Transmission Owner', 'Generation Type', 'Capacity (MW)', 'Summer Capacity (MW)', 'Winter Capacity (MW)', 'Queue Date', 'Status', 'Proposed Completion Date', 'Withdrawn Date', 'Withdrawal Comment', 'Actual Completion Date', 'In-Service Date', 'Commercial Operation Date', 'Cessation Date', 'Current Cluster', 'Cluster Group', 'Replacement Generator Commercial Op Date', 'Service Type'], dtype='object')"
      ]
     },
     "execution_count": 142,
     "metadata": {},
     "output_type": "execute_result"
    }
   ],
   "source": [
    "raw_spp.columns\n"
   ]
  },
  {
   "cell_type": "code",
   "execution_count": 143,
   "metadata": {},
   "outputs": [
    {
     "name": "stdout",
     "output_type": "stream",
     "text": [
      "<class 'pandas.core.frame.DataFrame'>\n",
      "Int64Index: 965 entries, 0 to 964\n",
      "Data columns (total 32 columns):\n",
      " #   Column                                    Non-Null Count  Dtype  \n",
      "---  ------                                    --------------  -----  \n",
      " 0   Queue ID                                  950 non-null    object \n",
      " 1   Project Name                              0 non-null      object \n",
      " 2   Interconnecting Entity                    0 non-null      object \n",
      " 3   County                                    945 non-null    object \n",
      " 4   State                                     946 non-null    object \n",
      " 5   Interconnection Location                  933 non-null    object \n",
      " 6   Transmission Owner                        942 non-null    object \n",
      " 7   Generation Type                           950 non-null    object \n",
      " 8   Capacity (MW)                             950 non-null    float64\n",
      " 9   Summer Capacity (MW)                      950 non-null    float64\n",
      " 10  Winter Capacity (MW)                      950 non-null    float64\n",
      " 11  Queue Date                                950 non-null    object \n",
      " 12  Status                                    885 non-null    object \n",
      " 13  Proposed Completion Date                  925 non-null    object \n",
      " 14  Withdrawn Date                            0 non-null      object \n",
      " 15  Withdrawal Comment                        0 non-null      object \n",
      " 16  Actual Completion Date                    0 non-null      object \n",
      " 17  In-Service Date                           912 non-null    object \n",
      " 18  Commercial Operation Date                 925 non-null    object \n",
      " 19  Cessation Date                            3 non-null      object \n",
      " 20  Current Cluster                           915 non-null    object \n",
      " 21  Cluster Group                             907 non-null    object \n",
      " 22  Replacement Generator Commercial Op Date  3 non-null      object \n",
      " 23  Service Type                              950 non-null    object \n",
      " 24  queue_id                                  802 non-null    object \n",
      " 25  project_name                              0 non-null      object \n",
      " 26  queue_date                                801 non-null    object \n",
      " 27  queue_status                              797 non-null    object \n",
      " 28  interconnection_status_raw                802 non-null    object \n",
      " 29  interconnection_status_lbnl               802 non-null    object \n",
      " 30  in_lbnl                                   965 non-null    bool   \n",
      " 31  in_gs                                     965 non-null    bool   \n",
      "dtypes: bool(2), float64(3), object(27)\n",
      "memory usage: 235.6+ KB\n"
     ]
    }
   ],
   "source": [
    "spp = join_lbnl(raw_spp, lbnl, \"SPP\")\n",
    "spp.info()\n"
   ]
  },
  {
   "cell_type": "code",
   "execution_count": 144,
   "metadata": {},
   "outputs": [
    {
     "data": {
      "text/html": [
       "<div>\n",
       "<style scoped>\n",
       "    .dataframe tbody tr th:only-of-type {\n",
       "        vertical-align: middle;\n",
       "    }\n",
       "\n",
       "    .dataframe tbody tr th {\n",
       "        vertical-align: top;\n",
       "    }\n",
       "\n",
       "    .dataframe thead th {\n",
       "        text-align: right;\n",
       "    }\n",
       "</style>\n",
       "<table border=\"1\" class=\"dataframe\">\n",
       "  <thead>\n",
       "    <tr style=\"text-align: right;\">\n",
       "      <th></th>\n",
       "      <th>Queue ID</th>\n",
       "      <th>Project Name</th>\n",
       "      <th>Interconnecting Entity</th>\n",
       "      <th>County</th>\n",
       "      <th>State</th>\n",
       "      <th>Interconnection Location</th>\n",
       "      <th>Transmission Owner</th>\n",
       "      <th>Generation Type</th>\n",
       "      <th>Capacity (MW)</th>\n",
       "      <th>Summer Capacity (MW)</th>\n",
       "      <th>Winter Capacity (MW)</th>\n",
       "      <th>Queue Date</th>\n",
       "      <th>Status</th>\n",
       "      <th>Proposed Completion Date</th>\n",
       "      <th>Withdrawn Date</th>\n",
       "      <th>Withdrawal Comment</th>\n",
       "      <th>Actual Completion Date</th>\n",
       "      <th>In-Service Date</th>\n",
       "      <th>Commercial Operation Date</th>\n",
       "      <th>Cessation Date</th>\n",
       "      <th>Current Cluster</th>\n",
       "      <th>Cluster Group</th>\n",
       "      <th>Replacement Generator Commercial Op Date</th>\n",
       "      <th>Service Type</th>\n",
       "      <th>queue_id</th>\n",
       "      <th>project_name</th>\n",
       "      <th>queue_date</th>\n",
       "      <th>queue_status</th>\n",
       "      <th>interconnection_status_raw</th>\n",
       "      <th>interconnection_status_lbnl</th>\n",
       "      <th>in_lbnl</th>\n",
       "      <th>in_gs</th>\n",
       "    </tr>\n",
       "  </thead>\n",
       "  <tbody>\n",
       "    <tr>\n",
       "      <th>417</th>\n",
       "      <td>GEN-2020-017</td>\n",
       "      <td>None</td>\n",
       "      <td>None</td>\n",
       "      <td>Lamb County</td>\n",
       "      <td>TX</td>\n",
       "      <td>230kV Lamb County Interchange</td>\n",
       "      <td>SPS</td>\n",
       "      <td>Solar</td>\n",
       "      <td>74.88</td>\n",
       "      <td>74.88</td>\n",
       "      <td>74.88</td>\n",
       "      <td>4/24/2020</td>\n",
       "      <td>Active</td>\n",
       "      <td>12/31/2025</td>\n",
       "      <td>None</td>\n",
       "      <td>None</td>\n",
       "      <td>None</td>\n",
       "      <td>10/1/2025</td>\n",
       "      <td>12/31/2025</td>\n",
       "      <td>None</td>\n",
       "      <td>DISIS-2020-001</td>\n",
       "      <td>05 SOUTHWEST</td>\n",
       "      <td>None</td>\n",
       "      <td>ER/NR</td>\n",
       "      <td>GEN-2020-017</td>\n",
       "      <td>NaN</td>\n",
       "      <td>4/24/2020</td>\n",
       "      <td>active</td>\n",
       "      <td>DISIS STAGE</td>\n",
       "      <td>System Impact Study</td>\n",
       "      <td>True</td>\n",
       "      <td>True</td>\n",
       "    </tr>\n",
       "    <tr>\n",
       "      <th>596</th>\n",
       "      <td>GEN-2017-167</td>\n",
       "      <td>None</td>\n",
       "      <td>None</td>\n",
       "      <td>Carter</td>\n",
       "      <td>OK</td>\n",
       "      <td>Sunnyside 345kV</td>\n",
       "      <td>OGE</td>\n",
       "      <td>Battery/Storage</td>\n",
       "      <td>52.00</td>\n",
       "      <td>52.00</td>\n",
       "      <td>52.00</td>\n",
       "      <td>11/29/2017</td>\n",
       "      <td>None</td>\n",
       "      <td>12/1/2025</td>\n",
       "      <td>None</td>\n",
       "      <td>None</td>\n",
       "      <td>None</td>\n",
       "      <td>12/31/2020</td>\n",
       "      <td>12/1/2025</td>\n",
       "      <td>None</td>\n",
       "      <td>DISIS-2017-002</td>\n",
       "      <td>04 SOUTHEAST</td>\n",
       "      <td>None</td>\n",
       "      <td>ER/NR</td>\n",
       "      <td>GEN-2017-167</td>\n",
       "      <td>NaN</td>\n",
       "      <td>11/29/2017</td>\n",
       "      <td>active</td>\n",
       "      <td>DISIS STAGE</td>\n",
       "      <td>System Impact Study</td>\n",
       "      <td>True</td>\n",
       "      <td>True</td>\n",
       "    </tr>\n",
       "    <tr>\n",
       "      <th>610</th>\n",
       "      <td>GEN-2017-140</td>\n",
       "      <td>None</td>\n",
       "      <td>None</td>\n",
       "      <td>Wagoner</td>\n",
       "      <td>OK</td>\n",
       "      <td>Clarksville 345kV Switching Station</td>\n",
       "      <td>AEP</td>\n",
       "      <td>Solar</td>\n",
       "      <td>160.00</td>\n",
       "      <td>160.00</td>\n",
       "      <td>160.00</td>\n",
       "      <td>11/22/2017</td>\n",
       "      <td>None</td>\n",
       "      <td>12/30/2025</td>\n",
       "      <td>None</td>\n",
       "      <td>None</td>\n",
       "      <td>None</td>\n",
       "      <td>12/1/2020</td>\n",
       "      <td>12/30/2025</td>\n",
       "      <td>None</td>\n",
       "      <td>DISIS-2017-002</td>\n",
       "      <td>04 SOUTHEAST</td>\n",
       "      <td>None</td>\n",
       "      <td>ER/NR</td>\n",
       "      <td>GEN-2017-140</td>\n",
       "      <td>NaN</td>\n",
       "      <td>11/22/2017</td>\n",
       "      <td>active</td>\n",
       "      <td>DISIS STAGE</td>\n",
       "      <td>System Impact Study</td>\n",
       "      <td>True</td>\n",
       "      <td>True</td>\n",
       "    </tr>\n",
       "    <tr>\n",
       "      <th>87</th>\n",
       "      <td>GEN-2022-178</td>\n",
       "      <td>None</td>\n",
       "      <td>None</td>\n",
       "      <td>Tillman</td>\n",
       "      <td>OK</td>\n",
       "      <td>Oklaunion to Lawton 345 kV Transmission Line a...</td>\n",
       "      <td>AEP</td>\n",
       "      <td>Solar</td>\n",
       "      <td>225.00</td>\n",
       "      <td>225.00</td>\n",
       "      <td>225.00</td>\n",
       "      <td>2/27/2023</td>\n",
       "      <td>Active</td>\n",
       "      <td>12/31/2026</td>\n",
       "      <td>None</td>\n",
       "      <td>None</td>\n",
       "      <td>None</td>\n",
       "      <td>12/31/2026</td>\n",
       "      <td>12/31/2026</td>\n",
       "      <td>None</td>\n",
       "      <td>DISIS-2022-001</td>\n",
       "      <td>04 SOUTHEAST</td>\n",
       "      <td>None</td>\n",
       "      <td>ER/NR</td>\n",
       "      <td>NaN</td>\n",
       "      <td>NaN</td>\n",
       "      <td>NaN</td>\n",
       "      <td>NaN</td>\n",
       "      <td>NaN</td>\n",
       "      <td>NaN</td>\n",
       "      <td>False</td>\n",
       "      <td>True</td>\n",
       "    </tr>\n",
       "  </tbody>\n",
       "</table>\n",
       "</div>"
      ],
      "text/plain": [
       "         Queue ID Project Name Interconnecting Entity       County State                           Interconnection Location Transmission Owner  Generation Type  Capacity (MW)  Summer Capacity (MW)  Winter Capacity (MW)  Queue Date  Status Proposed Completion Date Withdrawn Date Withdrawal Comment Actual Completion Date In-Service Date Commercial Operation Date Cessation Date Current Cluster Cluster Group Replacement Generator Commercial Op Date Service Type      queue_id project_name  queue_date queue_status interconnection_status_raw interconnection_status_lbnl  in_lbnl  in_gs\n",
       "417  GEN-2020-017         None                   None  Lamb County    TX                      230kV Lamb County Interchange                SPS            Solar          74.88                 74.88                 74.88   4/24/2020  Active               12/31/2025           None               None                   None       10/1/2025                12/31/2025           None  DISIS-2020-001  05 SOUTHWEST                                     None        ER/NR  GEN-2020-017          NaN   4/24/2020       active                DISIS STAGE         System Impact Study     True   True\n",
       "596  GEN-2017-167         None                   None       Carter    OK                                    Sunnyside 345kV                OGE  Battery/Storage          52.00                 52.00                 52.00  11/29/2017    None                12/1/2025           None               None                   None      12/31/2020                 12/1/2025           None  DISIS-2017-002  04 SOUTHEAST                                     None        ER/NR  GEN-2017-167          NaN  11/29/2017       active                DISIS STAGE         System Impact Study     True   True\n",
       "610  GEN-2017-140         None                   None      Wagoner    OK                Clarksville 345kV Switching Station                AEP            Solar         160.00                160.00                160.00  11/22/2017    None               12/30/2025           None               None                   None       12/1/2020                12/30/2025           None  DISIS-2017-002  04 SOUTHEAST                                     None        ER/NR  GEN-2017-140          NaN  11/22/2017       active                DISIS STAGE         System Impact Study     True   True\n",
       "87   GEN-2022-178         None                   None      Tillman    OK  Oklaunion to Lawton 345 kV Transmission Line a...                AEP            Solar         225.00                225.00                225.00   2/27/2023  Active               12/31/2026           None               None                   None      12/31/2026                12/31/2026           None  DISIS-2022-001  04 SOUTHEAST                                     None        ER/NR           NaN          NaN         NaN          NaN                        NaN                         NaN    False   True"
      ]
     },
     "execution_count": 144,
     "metadata": {},
     "output_type": "execute_result"
    }
   ],
   "source": [
    "spp.sample(4)\n"
   ]
  },
  {
   "cell_type": "code",
   "execution_count": 145,
   "metadata": {},
   "outputs": [
    {
     "data": {
      "text/plain": [
       "in_gs  in_lbnl\n",
       "True   True       787\n",
       "       False      163\n",
       "False  True        15\n",
       "dtype: int64"
      ]
     },
     "execution_count": 145,
     "metadata": {},
     "output_type": "execute_result"
    }
   ],
   "source": [
    "spp[[\"in_gs\", \"in_lbnl\"]].value_counts(dropna=False)\n"
   ]
  },
  {
   "cell_type": "code",
   "execution_count": 147,
   "metadata": {},
   "outputs": [
    {
     "data": {
      "text/plain": [
       "in_gs  in_lbnl\n",
       "True   True       785\n",
       "False  True        15\n",
       "True   False        8\n",
       "dtype: int64"
      ]
     },
     "execution_count": 147,
     "metadata": {},
     "output_type": "execute_result"
    }
   ],
   "source": [
    "spp.loc[\n",
    "    pd.to_datetime(spp[\"Queue Date\"])\n",
    "    .fillna(pd.to_datetime(\"2020-01-01\"))\n",
    "    .lt(pd.to_datetime(\"2023-01-01\")),\n",
    "    [\"in_gs\", \"in_lbnl\"],\n",
    "].value_counts(dropna=False)\n"
   ]
  },
  {
   "cell_type": "code",
   "execution_count": 148,
   "metadata": {},
   "outputs": [
    {
     "data": {
      "text/plain": [
       "Status     queue_status\n",
       "Active     active          391\n",
       "Completed  operational     240\n",
       "Active     NaN             166\n",
       "Completed  active           87\n",
       "NaN        active           78\n",
       "           NaN               2\n",
       "Completed  suspended         1\n",
       "dtype: int64"
      ]
     },
     "execution_count": 148,
     "metadata": {},
     "output_type": "execute_result"
    }
   ],
   "source": [
    "spp[[\"Status\", \"queue_status\"]].value_counts(dropna=False)\n"
   ]
  },
  {
   "cell_type": "code",
   "execution_count": 149,
   "metadata": {},
   "outputs": [
    {
     "data": {
      "text/plain": [
       "Status     queue_status\n",
       "Active     active          389\n",
       "Completed  operational     240\n",
       "           active           87\n",
       "NaN        active           78\n",
       "Active     NaN              11\n",
       "NaN        NaN               2\n",
       "Completed  suspended         1\n",
       "dtype: int64"
      ]
     },
     "execution_count": 149,
     "metadata": {},
     "output_type": "execute_result"
    }
   ],
   "source": [
    "spp.loc[\n",
    "    pd.to_datetime(spp[\"Queue Date\"])\n",
    "    .fillna(pd.to_datetime(\"2020-01-01\"))\n",
    "    .lt(pd.to_datetime(\"2023-01-01\")),\n",
    "    [\"Status\", \"queue_status\"],\n",
    "].value_counts(dropna=False)\n"
   ]
  },
  {
   "cell_type": "code",
   "execution_count": 150,
   "metadata": {},
   "outputs": [
    {
     "data": {
      "text/plain": [
       "DISIS STAGE                               454\n",
       "IA FULLY EXECUTED/COMMERCIAL OPERATION    240\n",
       "NaN                                       163\n",
       "IA FULLY EXECUTED/ON SCHEDULE              88\n",
       "FACILITY STUDY STAGE                       13\n",
       "None                                        5\n",
       "IA PENDING                                  1\n",
       "IA FULLY EXECUTED/ON SUSPENSION             1\n",
       "Name: interconnection_status_raw, dtype: int64"
      ]
     },
     "execution_count": 150,
     "metadata": {},
     "output_type": "execute_result"
    }
   ],
   "source": [
    "# it turns out these values come from the raw \"status\" values, which GridStatus overwrites 😡\n",
    "spp['interconnection_status_raw'].value_counts(dropna=False)\n"
   ]
  },
  {
   "cell_type": "code",
   "execution_count": 155,
   "metadata": {},
   "outputs": [
    {
     "data": {
      "text/plain": [
       "interconnection_status_lbnl  interconnection_status_raw            \n",
       "Facility Study               FACILITY STUDY STAGE                       13\n",
       "                             IA PENDING                                  1\n",
       "IA Executed                  IA FULLY EXECUTED/ON SCHEDULE              88\n",
       "In Progress (unknown study)  None                                        5\n",
       "Operational                  IA FULLY EXECUTED/COMMERCIAL OPERATION    240\n",
       "Suspended                    IA FULLY EXECUTED/ON SUSPENSION             1\n",
       "System Impact Study          DISIS STAGE                               454\n",
       "NaN                          NaN                                       163\n",
       "dtype: int64"
      ]
     },
     "execution_count": 155,
     "metadata": {},
     "output_type": "execute_result"
    }
   ],
   "source": [
    "spp[['interconnection_status_lbnl', 'interconnection_status_raw']].value_counts(dropna=False).sort_index()\n"
   ]
  },
  {
   "cell_type": "code",
   "execution_count": 152,
   "metadata": {},
   "outputs": [
    {
     "data": {
      "text/plain": [
       "DISIS                 840\n",
       "ICS Prior Queued       43\n",
       "None                   35\n",
       "Surplus                20\n",
       "NaN                    15\n",
       "ICS                    11\n",
       "DISIS Prior Queued      1\n",
       "Name: Current Cluster, dtype: int64"
      ]
     },
     "execution_count": 152,
     "metadata": {},
     "output_type": "execute_result"
    }
   ],
   "source": [
    "spp['Current Cluster'].str.replace(r'-\\d{4}-\\d{3}(?:-\\d)?', '', regex=True).value_counts(dropna=False)  # remove date/ID\n"
   ]
  },
  {
   "cell_type": "code",
   "execution_count": 157,
   "metadata": {},
   "outputs": [],
   "source": [
    "spp['cluster_simplified'] = spp['Current Cluster'].str.replace(r'-\\d{4}-\\d{3}(?:-\\d)?', '', regex=True) # remove date/ID\n"
   ]
  },
  {
   "cell_type": "code",
   "execution_count": 159,
   "metadata": {},
   "outputs": [
    {
     "data": {
      "text/plain": [
       "interconnection_status_raw              cluster_simplified\n",
       "DISIS STAGE                             DISIS                 442\n",
       "                                        NaN                    12\n",
       "FACILITY STUDY STAGE                    DISIS                  13\n",
       "IA FULLY EXECUTED/COMMERCIAL OPERATION  DISIS                 154\n",
       "                                        DISIS Prior Queued      1\n",
       "                                        ICS                    11\n",
       "                                        ICS Prior Queued       43\n",
       "                                        NaN                    31\n",
       "IA FULLY EXECUTED/ON SCHEDULE           DISIS                  82\n",
       "                                        Surplus                 5\n",
       "                                        NaN                     1\n",
       "IA FULLY EXECUTED/ON SUSPENSION         DISIS                   1\n",
       "IA PENDING                              DISIS                   1\n",
       "None                                    NaN                     5\n",
       "NaN                                     DISIS                 147\n",
       "                                        Surplus                15\n",
       "                                        NaN                     1\n",
       "dtype: int64"
      ]
     },
     "execution_count": 159,
     "metadata": {},
     "output_type": "execute_result"
    }
   ],
   "source": [
    "spp[['interconnection_status_raw', 'cluster_simplified']].value_counts(dropna=False).sort_index()\n"
   ]
  },
  {
   "cell_type": "code",
   "execution_count": null,
   "metadata": {},
   "outputs": [
    {
     "data": {
      "text/plain": [
       "interconnection_status_lbnl  cluster_simplified\n",
       "Facility Study               DISIS                  14\n",
       "IA Executed                  DISIS                  82\n",
       "                             Surplus                 5\n",
       "                             NaN                     1\n",
       "In Progress (unknown study)  NaN                     5\n",
       "Operational                  DISIS                 154\n",
       "                             DISIS Prior Queued      1\n",
       "                             ICS                    11\n",
       "                             ICS Prior Queued       43\n",
       "                             NaN                    31\n",
       "Suspended                    DISIS                   1\n",
       "System Impact Study          DISIS                 442\n",
       "                             NaN                    12\n",
       "NaN                          DISIS                 147\n",
       "                             Surplus                15\n",
       "                             NaN                     1\n",
       "dtype: int64"
      ]
     },
     "metadata": {},
     "output_type": "display_data"
    }
   ],
   "source": [
    "spp[['interconnection_status_lbnl', 'cluster_simplified']].value_counts(dropna=False).sort_index()\n"
   ]
  },
  {
   "cell_type": "code",
   "execution_count": 300,
   "metadata": {},
   "outputs": [
    {
     "data": {
      "text/plain": [
       "Wind                              364\n",
       "Solar                             253\n",
       "Battery/Storage                   166\n",
       "Hybrid - Solar/Storage             58\n",
       "Thermal - Gas                      24\n",
       "Thermal - CT                       24\n",
       "Thermal - Coal                      8\n",
       "                                    6\n",
       "Hydro                               6\n",
       "Hybrid - Solar                      5\n",
       "Thermal - Nuclear                   4\n",
       "Hybrid - Solar/Battery              4\n",
       "Thermal - Gas Turbine               4\n",
       "Thermal                             4\n",
       "Hybrid - Wind/Storage               4\n",
       "Thermal - CTG                       3\n",
       "Thermal - Reciprocating Engine      3\n",
       "WIND                                2\n",
       "Thermal - CC                        1\n",
       "Thermal - NG/CT                     1\n",
       "Thermal - Diesel/Gas                1\n",
       "Thermal - Steam Turbine             1\n",
       "Battery/Storage - WERE              1\n",
       "Thermal - Combined Cycle            1\n",
       "Hybrid                              1\n",
       "Thermal - CT/ST                     1\n",
       "Name: Generation Type, dtype: int64"
      ]
     },
     "execution_count": 300,
     "metadata": {},
     "output_type": "execute_result"
    }
   ],
   "source": [
    "# needs standardization\n",
    "raw_spp['Generation Type'].value_counts(dropna=False)\n"
   ]
  },
  {
   "cell_type": "markdown",
   "metadata": {},
   "source": [
    "### PJM\n",
    "Like MISO, good project coverage, but the IA status categories are a mess.\n",
    "\n",
    "\"Active\" applied up to IA execution. Then \"Engineering and Procurement\" applied to IA execution through COD. Then \"In Service\"."
   ]
  },
  {
   "cell_type": "code",
   "execution_count": 160,
   "metadata": {},
   "outputs": [
    {
     "data": {
      "text/plain": [
       "Index(['Queue ID', 'Project Name', 'Interconnecting Entity', 'County', 'State', 'Interconnection Location', 'Transmission Owner', 'Generation Type', 'Capacity (MW)', 'Summer Capacity (MW)', 'Winter Capacity (MW)', 'Queue Date', 'Status', 'Proposed Completion Date', 'Withdrawn Date', 'Withdrawal Comment', 'Actual Completion Date', 'MW In Service', 'Commercial Name', 'Initial Study', 'Feasibility Study', 'Feasibility Study Status', 'System Impact Study', 'System Impact Study Status', 'Facilities Study', 'Facilities Study Status', 'Interim Interconnection Service Agreement', 'Interim/Interconnection Service Agreement Status', 'Wholesale Market Participation Agreement', 'Construction Service Agreement', 'Construction Service Agreement Status', 'Upgrade Construction Service Agreement', 'Upgrade Construction Service Agreement Status', 'Backfeed Date', 'Long-Term Firm Service Start Date', 'Long-Term Firm Service End Date', 'Test Energy Date'], dtype='object')"
      ]
     },
     "execution_count": 160,
     "metadata": {},
     "output_type": "execute_result"
    }
   ],
   "source": [
    "raw_pjm.columns\n"
   ]
  },
  {
   "cell_type": "code",
   "execution_count": 292,
   "metadata": {},
   "outputs": [
    {
     "data": {
      "text/plain": [
       "Interim/Interconnection Service Agreement Status  Status                                   \n",
       "Document Posted                                   Active                                          3\n",
       "                                                  Deactivated                                    46\n",
       "                                                  Engineering and Procurement                   240\n",
       "                                                  In Service                                    839\n",
       "                                                  Partially in Service - Under Construction      47\n",
       "                                                  Suspended                                      47\n",
       "                                                  Under Construction                             38\n",
       "                                                  Withdrawn                                     206\n",
       "Interim Study                                     Active                                         20\n",
       "                                                  Withdrawn                                      12\n",
       "Not Required                                      In Service                                     13\n",
       "                                                  Withdrawn                                      33\n",
       "Wholesale Market Participation Agreement          Deactivated                                    11\n",
       "                                                  Engineering and Procurement                   108\n",
       "                                                  In Service                                    179\n",
       "                                                  Partially in Service - Under Construction       9\n",
       "                                                  Suspended                                      36\n",
       "                                                  Under Construction                             14\n",
       "                                                  Withdrawn                                     330\n",
       "Withdrawn                                         Withdrawn                                     428\n",
       "NaN                                               Active                                       2931\n",
       "                                                  Annulled                                       24\n",
       "                                                  Confirmed                                     223\n",
       "                                                  Engineering and Procurement                     1\n",
       "                                                  In Service                                     13\n",
       "                                                  Retracted                                     131\n",
       "                                                  Withdrawn                                    3048\n",
       "dtype: int64"
      ]
     },
     "execution_count": 292,
     "metadata": {},
     "output_type": "execute_result"
    }
   ],
   "source": [
    "# \"Active\" stops at IA execution\n",
    "raw_pjm[['Interim/Interconnection Service Agreement Status', 'Status']].value_counts(dropna=False).sort_index()\n"
   ]
  },
  {
   "cell_type": "code",
   "execution_count": 161,
   "metadata": {},
   "outputs": [
    {
     "name": "stdout",
     "output_type": "stream",
     "text": [
      "<class 'pandas.core.frame.DataFrame'>\n",
      "Int64Index: 9030 entries, 0 to 9029\n",
      "Data columns (total 45 columns):\n",
      " #   Column                                            Non-Null Count  Dtype  \n",
      "---  ------                                            --------------  -----  \n",
      " 0   Queue ID                                          9030 non-null   object \n",
      " 1   Project Name                                      8806 non-null   object \n",
      " 2   Interconnecting Entity                            0 non-null      object \n",
      " 3   County                                            8168 non-null   object \n",
      " 4   State                                             8225 non-null   object \n",
      " 5   Interconnection Location                          0 non-null      object \n",
      " 6   Transmission Owner                                8312 non-null   object \n",
      " 7   Generation Type                                   8045 non-null   object \n",
      " 8   Capacity (MW)                                     8806 non-null   float64\n",
      " 9   Summer Capacity (MW)                              7954 non-null   float64\n",
      " 10  Winter Capacity (MW)                              8084 non-null   float64\n",
      " 11  Queue Date                                        8941 non-null   object \n",
      " 12  Status                                            9030 non-null   object \n",
      " 13  Proposed Completion Date                          2135 non-null   object \n",
      " 14  Withdrawn Date                                    4039 non-null   object \n",
      " 15  Withdrawal Comment                                1850 non-null   object \n",
      " 16  Actual Completion Date                            1147 non-null   object \n",
      " 17  MW In Service                                     1094 non-null   float64\n",
      " 18  Commercial Name                                   2080 non-null   object \n",
      " 19  Initial Study                                     357 non-null    object \n",
      " 20  Feasibility Study                                 5361 non-null   object \n",
      " 21  Feasibility Study Status                          8293 non-null   object \n",
      " 22  System Impact Study                               4315 non-null   object \n",
      " 23  System Impact Study Status                        5434 non-null   object \n",
      " 24  Facilities Study                                  1030 non-null   object \n",
      " 25  Facilities Study Status                           3896 non-null   object \n",
      " 26  Interim Interconnection Service Agreement         1499 non-null   object \n",
      " 27  Interim/Interconnection Service Agreement Status  2659 non-null   object \n",
      " 28  Wholesale Market Participation Agreement          687 non-null    object \n",
      " 29  Construction Service Agreement                    1250 non-null   object \n",
      " 30  Construction Service Agreement Status             2539 non-null   object \n",
      " 31  Upgrade Construction Service Agreement            1 non-null      object \n",
      " 32  Upgrade Construction Service Agreement Status     3 non-null      object \n",
      " 33  Backfeed Date                                     187 non-null    object \n",
      " 34  Long-Term Firm Service Start Date                 698 non-null    object \n",
      " 35  Long-Term Firm Service End Date                   698 non-null    object \n",
      " 36  Test Energy Date                                  452 non-null    object \n",
      " 37  queue_id                                          7738 non-null   object \n",
      " 38  project_name                                      2012 non-null   object \n",
      " 39  queue_date                                        7738 non-null   object \n",
      " 40  queue_status                                      7738 non-null   object \n",
      " 41  interconnection_status_raw                        7738 non-null   object \n",
      " 42  interconnection_status_lbnl                       7738 non-null   object \n",
      " 43  in_lbnl                                           9030 non-null   bool   \n",
      " 44  in_gs                                             9030 non-null   bool   \n",
      "dtypes: bool(2), float64(4), object(39)\n",
      "memory usage: 3.0+ MB\n"
     ]
    }
   ],
   "source": [
    "pjm = join_lbnl(raw_pjm, lbnl, \"PJM\")\n",
    "pjm.info()\n"
   ]
  },
  {
   "cell_type": "code",
   "execution_count": 162,
   "metadata": {},
   "outputs": [
    {
     "data": {
      "text/html": [
       "<div>\n",
       "<style scoped>\n",
       "    .dataframe tbody tr th:only-of-type {\n",
       "        vertical-align: middle;\n",
       "    }\n",
       "\n",
       "    .dataframe tbody tr th {\n",
       "        vertical-align: top;\n",
       "    }\n",
       "\n",
       "    .dataframe thead th {\n",
       "        text-align: right;\n",
       "    }\n",
       "</style>\n",
       "<table border=\"1\" class=\"dataframe\">\n",
       "  <thead>\n",
       "    <tr style=\"text-align: right;\">\n",
       "      <th></th>\n",
       "      <th>Queue ID</th>\n",
       "      <th>Project Name</th>\n",
       "      <th>Interconnecting Entity</th>\n",
       "      <th>County</th>\n",
       "      <th>State</th>\n",
       "      <th>Interconnection Location</th>\n",
       "      <th>Transmission Owner</th>\n",
       "      <th>Generation Type</th>\n",
       "      <th>Capacity (MW)</th>\n",
       "      <th>Summer Capacity (MW)</th>\n",
       "      <th>Winter Capacity (MW)</th>\n",
       "      <th>Queue Date</th>\n",
       "      <th>Status</th>\n",
       "      <th>Proposed Completion Date</th>\n",
       "      <th>Withdrawn Date</th>\n",
       "      <th>Withdrawal Comment</th>\n",
       "      <th>Actual Completion Date</th>\n",
       "      <th>MW In Service</th>\n",
       "      <th>Commercial Name</th>\n",
       "      <th>Initial Study</th>\n",
       "      <th>Feasibility Study</th>\n",
       "      <th>Feasibility Study Status</th>\n",
       "      <th>System Impact Study</th>\n",
       "      <th>System Impact Study Status</th>\n",
       "      <th>Facilities Study</th>\n",
       "      <th>Facilities Study Status</th>\n",
       "      <th>Interim Interconnection Service Agreement</th>\n",
       "      <th>Interim/Interconnection Service Agreement Status</th>\n",
       "      <th>Wholesale Market Participation Agreement</th>\n",
       "      <th>Construction Service Agreement</th>\n",
       "      <th>Construction Service Agreement Status</th>\n",
       "      <th>Upgrade Construction Service Agreement</th>\n",
       "      <th>Upgrade Construction Service Agreement Status</th>\n",
       "      <th>Backfeed Date</th>\n",
       "      <th>Long-Term Firm Service Start Date</th>\n",
       "      <th>Long-Term Firm Service End Date</th>\n",
       "      <th>Test Energy Date</th>\n",
       "      <th>queue_id</th>\n",
       "      <th>project_name</th>\n",
       "      <th>queue_date</th>\n",
       "      <th>queue_status</th>\n",
       "      <th>interconnection_status_raw</th>\n",
       "      <th>interconnection_status_lbnl</th>\n",
       "      <th>in_lbnl</th>\n",
       "      <th>in_gs</th>\n",
       "    </tr>\n",
       "  </thead>\n",
       "  <tbody>\n",
       "    <tr>\n",
       "      <th>3969</th>\n",
       "      <td>AC1-142A</td>\n",
       "      <td>Joliet</td>\n",
       "      <td>None</td>\n",
       "      <td>Will</td>\n",
       "      <td>IL</td>\n",
       "      <td>None</td>\n",
       "      <td>ComEd</td>\n",
       "      <td>Natural Gas</td>\n",
       "      <td>64.0</td>\n",
       "      <td>64.0</td>\n",
       "      <td>64.0</td>\n",
       "      <td>10/28/2016</td>\n",
       "      <td>In Service</td>\n",
       "      <td>12/31/2020</td>\n",
       "      <td>None</td>\n",
       "      <td>None</td>\n",
       "      <td>12/8/2020</td>\n",
       "      <td>64.0</td>\n",
       "      <td>Joliet Units 7 and 8</td>\n",
       "      <td>None</td>\n",
       "      <td>https://www.pjm.com/pub/planning/project-queue...</td>\n",
       "      <td>Document Posted</td>\n",
       "      <td>https://www.pjm.com/pub/planning/project-queue...</td>\n",
       "      <td>Document Posted</td>\n",
       "      <td>None</td>\n",
       "      <td>Not Required</td>\n",
       "      <td>https://www.pjm.com/pub/planning/project-queue...</td>\n",
       "      <td>Document Posted</td>\n",
       "      <td>None</td>\n",
       "      <td>None</td>\n",
       "      <td>Not Required</td>\n",
       "      <td>None</td>\n",
       "      <td>None</td>\n",
       "      <td>None</td>\n",
       "      <td>None</td>\n",
       "      <td>None</td>\n",
       "      <td>None</td>\n",
       "      <td>AC1-142A</td>\n",
       "      <td>Joliet Units 7 and 8</td>\n",
       "      <td>10/28/2016</td>\n",
       "      <td>operational</td>\n",
       "      <td>IA Executed</td>\n",
       "      <td>IA Executed</td>\n",
       "      <td>True</td>\n",
       "      <td>True</td>\n",
       "    </tr>\n",
       "    <tr>\n",
       "      <th>8947</th>\n",
       "      <td>533213</td>\n",
       "      <td>None</td>\n",
       "      <td>None</td>\n",
       "      <td>None</td>\n",
       "      <td>None</td>\n",
       "      <td>None</td>\n",
       "      <td>None</td>\n",
       "      <td>None</td>\n",
       "      <td>NaN</td>\n",
       "      <td>NaN</td>\n",
       "      <td>NaN</td>\n",
       "      <td>None</td>\n",
       "      <td>Confirmed</td>\n",
       "      <td>None</td>\n",
       "      <td>None</td>\n",
       "      <td>None</td>\n",
       "      <td>None</td>\n",
       "      <td>NaN</td>\n",
       "      <td>None</td>\n",
       "      <td>None</td>\n",
       "      <td>None</td>\n",
       "      <td>None</td>\n",
       "      <td>None</td>\n",
       "      <td>None</td>\n",
       "      <td>None</td>\n",
       "      <td>None</td>\n",
       "      <td>None</td>\n",
       "      <td>None</td>\n",
       "      <td>None</td>\n",
       "      <td>None</td>\n",
       "      <td>None</td>\n",
       "      <td>None</td>\n",
       "      <td>None</td>\n",
       "      <td>None</td>\n",
       "      <td>6/1/2007</td>\n",
       "      <td>6/1/2008</td>\n",
       "      <td>None</td>\n",
       "      <td>NaN</td>\n",
       "      <td>NaN</td>\n",
       "      <td>NaN</td>\n",
       "      <td>NaN</td>\n",
       "      <td>NaN</td>\n",
       "      <td>NaN</td>\n",
       "      <td>False</td>\n",
       "      <td>True</td>\n",
       "    </tr>\n",
       "    <tr>\n",
       "      <th>7547</th>\n",
       "      <td>AH1-296</td>\n",
       "      <td>Lanesville-Brokaw 345 kV</td>\n",
       "      <td>None</td>\n",
       "      <td>Logan</td>\n",
       "      <td>IL</td>\n",
       "      <td>None</td>\n",
       "      <td>ComEd</td>\n",
       "      <td>Storage</td>\n",
       "      <td>660.0</td>\n",
       "      <td>60.0</td>\n",
       "      <td>60.0</td>\n",
       "      <td>9/10/2021</td>\n",
       "      <td>Active</td>\n",
       "      <td>None</td>\n",
       "      <td>None</td>\n",
       "      <td>None</td>\n",
       "      <td>None</td>\n",
       "      <td>NaN</td>\n",
       "      <td>None</td>\n",
       "      <td>None</td>\n",
       "      <td>None</td>\n",
       "      <td>In Progress</td>\n",
       "      <td>None</td>\n",
       "      <td>None</td>\n",
       "      <td>None</td>\n",
       "      <td>None</td>\n",
       "      <td>None</td>\n",
       "      <td>None</td>\n",
       "      <td>None</td>\n",
       "      <td>None</td>\n",
       "      <td>None</td>\n",
       "      <td>None</td>\n",
       "      <td>None</td>\n",
       "      <td>None</td>\n",
       "      <td>None</td>\n",
       "      <td>None</td>\n",
       "      <td>None</td>\n",
       "      <td>AH1-296</td>\n",
       "      <td>NaN</td>\n",
       "      <td>9/10/2021</td>\n",
       "      <td>active</td>\n",
       "      <td>In Progress</td>\n",
       "      <td>Feasibility Study</td>\n",
       "      <td>True</td>\n",
       "      <td>True</td>\n",
       "    </tr>\n",
       "    <tr>\n",
       "      <th>5092</th>\n",
       "      <td>AE2-208</td>\n",
       "      <td>Chavies-Bonnyman 69 kV</td>\n",
       "      <td>None</td>\n",
       "      <td>Perry</td>\n",
       "      <td>KY</td>\n",
       "      <td>None</td>\n",
       "      <td>AEP</td>\n",
       "      <td>Storage</td>\n",
       "      <td>80.0</td>\n",
       "      <td>25.0</td>\n",
       "      <td>25.0</td>\n",
       "      <td>3/20/2019</td>\n",
       "      <td>Withdrawn</td>\n",
       "      <td>None</td>\n",
       "      <td>3/27/2020</td>\n",
       "      <td>None</td>\n",
       "      <td>None</td>\n",
       "      <td>NaN</td>\n",
       "      <td>None</td>\n",
       "      <td>None</td>\n",
       "      <td>https://www.pjm.com/pub/planning/project-queue...</td>\n",
       "      <td>Document Posted</td>\n",
       "      <td>https://www.pjm.com/pub/planning/project-queue...</td>\n",
       "      <td>Document Posted</td>\n",
       "      <td>None</td>\n",
       "      <td>None</td>\n",
       "      <td>None</td>\n",
       "      <td>None</td>\n",
       "      <td>None</td>\n",
       "      <td>None</td>\n",
       "      <td>None</td>\n",
       "      <td>None</td>\n",
       "      <td>None</td>\n",
       "      <td>None</td>\n",
       "      <td>None</td>\n",
       "      <td>None</td>\n",
       "      <td>None</td>\n",
       "      <td>AE2-208</td>\n",
       "      <td>NaN</td>\n",
       "      <td>3/20/2019</td>\n",
       "      <td>withdrawn</td>\n",
       "      <td>System Impact Study</td>\n",
       "      <td>System Impact Study</td>\n",
       "      <td>True</td>\n",
       "      <td>True</td>\n",
       "    </tr>\n",
       "  </tbody>\n",
       "</table>\n",
       "</div>"
      ],
      "text/plain": [
       "      Queue ID              Project Name Interconnecting Entity County State Interconnection Location Transmission Owner Generation Type  Capacity (MW)  Summer Capacity (MW)  Winter Capacity (MW)  Queue Date      Status Proposed Completion Date Withdrawn Date Withdrawal Comment Actual Completion Date  MW In Service       Commercial Name Initial Study                                  Feasibility Study Feasibility Study Status                                System Impact Study System Impact Study Status Facilities Study Facilities Study Status          Interim Interconnection Service Agreement Interim/Interconnection Service Agreement Status Wholesale Market Participation Agreement Construction Service Agreement Construction Service Agreement Status Upgrade Construction Service Agreement Upgrade Construction Service Agreement Status Backfeed Date Long-Term Firm Service Start Date Long-Term Firm Service End Date Test Energy Date  queue_id          project_name  queue_date queue_status  \\\n",
       "3969  AC1-142A                    Joliet                   None   Will    IL                     None              ComEd     Natural Gas           64.0                  64.0                  64.0  10/28/2016  In Service               12/31/2020           None               None              12/8/2020           64.0  Joliet Units 7 and 8          None  https://www.pjm.com/pub/planning/project-queue...          Document Posted  https://www.pjm.com/pub/planning/project-queue...            Document Posted             None            Not Required  https://www.pjm.com/pub/planning/project-queue...                                  Document Posted                                     None                           None                          Not Required                                   None                                          None          None                              None                            None             None  AC1-142A  Joliet Units 7 and 8  10/28/2016  operational   \n",
       "8947    533213                      None                   None   None  None                     None               None            None            NaN                   NaN                   NaN        None   Confirmed                     None           None               None                   None            NaN                  None          None                                               None                     None                                               None                       None             None                    None                                               None                                             None                                     None                           None                                  None                                   None                                          None          None                          6/1/2007                        6/1/2008             None       NaN                   NaN         NaN          NaN   \n",
       "7547   AH1-296  Lanesville-Brokaw 345 kV                   None  Logan    IL                     None              ComEd         Storage          660.0                  60.0                  60.0   9/10/2021      Active                     None           None               None                   None            NaN                  None          None                                               None              In Progress                                               None                       None             None                    None                                               None                                             None                                     None                           None                                  None                                   None                                          None          None                              None                            None             None   AH1-296                   NaN   9/10/2021       active   \n",
       "5092   AE2-208    Chavies-Bonnyman 69 kV                   None  Perry    KY                     None                AEP         Storage           80.0                  25.0                  25.0   3/20/2019   Withdrawn                     None      3/27/2020               None                   None            NaN                  None          None  https://www.pjm.com/pub/planning/project-queue...          Document Posted  https://www.pjm.com/pub/planning/project-queue...            Document Posted             None                    None                                               None                                             None                                     None                           None                                  None                                   None                                          None          None                              None                            None             None   AE2-208                   NaN   3/20/2019    withdrawn   \n",
       "\n",
       "     interconnection_status_raw interconnection_status_lbnl  in_lbnl  in_gs  \n",
       "3969                IA Executed                 IA Executed     True   True  \n",
       "8947                        NaN                         NaN    False   True  \n",
       "7547                In Progress           Feasibility Study     True   True  \n",
       "5092        System Impact Study         System Impact Study     True   True  "
      ]
     },
     "execution_count": 162,
     "metadata": {},
     "output_type": "execute_result"
    }
   ],
   "source": [
    "pjm.sample(4)\n"
   ]
  },
  {
   "cell_type": "code",
   "execution_count": 172,
   "metadata": {},
   "outputs": [
    {
     "data": {
      "text/plain": [
       "None                                                                    8343\n",
       "https://www.pjm.com/pub/planning/project-queues/wmpa/ac2168_wmpa.pdf       1\n",
       "https://www.pjm.com/pub/planning/project-queues/wmpa/ac2136_wmpa.pdf       1\n",
       "https://www.pjm.com/pub/planning/project-queues/wmpa/ac2137_wmpa.pdf       1\n",
       "https://www.pjm.com/pub/planning/project-queues/wmpa/ac2138_wmpa.pdf       1\n",
       "                                                                        ... \n",
       "https://www.pjm.com/pub/planning/project-queues/wmpa/x2035_wmpa.pdf        1\n",
       "https://www.pjm.com/pub/planning/project-queues/wmpa/x2038_wmpa.pdf        1\n",
       "https://www.pjm.com/pub/planning/project-queues/wmpa/x2054_wmpa.pdf        1\n",
       "https://www.pjm.com/pub/planning/project-queues/wmpa/x2059_wmpa.pdf        1\n",
       "https://www.pjm.com/pub/planning/project-queues/wmpa/ah1109_wmpa.pdf       1\n",
       "Name: Wholesale Market Participation Agreement, Length: 688, dtype: int64"
      ]
     },
     "execution_count": 172,
     "metadata": {},
     "output_type": "execute_result"
    }
   ],
   "source": [
    "pjm['Wholesale Market Participation Agreement'].value_counts(dropna=False)\n"
   ]
  },
  {
   "cell_type": "code",
   "execution_count": 175,
   "metadata": {},
   "outputs": [],
   "source": [
    "# no status column for this one for some reason\n",
    "pjm['wholesale_not_none'] = pjm['Wholesale Market Participation Agreement'].notna()\n"
   ]
  },
  {
   "cell_type": "code",
   "execution_count": 163,
   "metadata": {},
   "outputs": [
    {
     "data": {
      "text/plain": [
       "in_gs  in_lbnl\n",
       "True   True       7738\n",
       "       False      1292\n",
       "dtype: int64"
      ]
     },
     "execution_count": 163,
     "metadata": {},
     "output_type": "execute_result"
    }
   ],
   "source": [
    "pjm[[\"in_gs\", \"in_lbnl\"]].value_counts(dropna=False)\n"
   ]
  },
  {
   "cell_type": "code",
   "execution_count": 164,
   "metadata": {},
   "outputs": [
    {
     "data": {
      "text/plain": [
       "in_gs  in_lbnl\n",
       "True   True       7738\n",
       "       False       966\n",
       "dtype: int64"
      ]
     },
     "execution_count": 164,
     "metadata": {},
     "output_type": "execute_result"
    }
   ],
   "source": [
    "pjm.loc[\n",
    "    pd.to_datetime(pjm[\"Queue Date\"])\n",
    "    .fillna(pd.to_datetime(\"2020-01-01\"))\n",
    "    .lt(pd.to_datetime(\"2023-01-01\")),\n",
    "    [\"in_gs\", \"in_lbnl\"],\n",
    "].value_counts(dropna=False)\n"
   ]
  },
  {
   "cell_type": "code",
   "execution_count": 167,
   "metadata": {},
   "outputs": [
    {
     "data": {
      "text/plain": [
       "queue_status  Status                                   \n",
       "active        Active                                       2587\n",
       "              Engineering and Procurement                   337\n",
       "              In Service                                     11\n",
       "              Partially in Service - Under Construction       6\n",
       "              Suspended                                      18\n",
       "              Under Construction                             52\n",
       "              Withdrawn                                      31\n",
       "operational   Deactivated                                     2\n",
       "              In Service                                   1008\n",
       "              Partially in Service - Under Construction      50\n",
       "              Withdrawn                                       1\n",
       "suspended     Engineering and Procurement                    12\n",
       "              Suspended                                      65\n",
       "withdrawn     Deactivated                                    55\n",
       "              Withdrawn                                    3503\n",
       "NaN           Active                                        367\n",
       "              Annulled                                       24\n",
       "              Confirmed                                     223\n",
       "              In Service                                     25\n",
       "              Retracted                                     131\n",
       "              Withdrawn                                     522\n",
       "dtype: int64"
      ]
     },
     "execution_count": 167,
     "metadata": {},
     "output_type": "execute_result"
    }
   ],
   "source": [
    "pjm[[\"queue_status\", \"Status\"]].value_counts(dropna=False).sort_index()\n"
   ]
  },
  {
   "cell_type": "code",
   "execution_count": 171,
   "metadata": {},
   "outputs": [
    {
     "data": {
      "text/plain": [
       "System Impact Study    2351\n",
       "In Progress            1723\n",
       "IA Executed            1398\n",
       "NaN                    1292\n",
       "Feasibility Study      1241\n",
       "Withdrawn               698\n",
       "Facility Study          279\n",
       "Not Required             41\n",
       "0                         7\n",
       "Name: interconnection_status_raw, dtype: int64"
      ]
     },
     "execution_count": 171,
     "metadata": {},
     "output_type": "execute_result"
    }
   ],
   "source": [
    "pjm['interconnection_status_raw'].value_counts(dropna=False)\n"
   ]
  },
  {
   "cell_type": "code",
   "execution_count": 189,
   "metadata": {},
   "outputs": [
    {
     "data": {
      "text/plain": [
       "Feasibility Study Status  System Impact Study Status  Facilities Study Status  Interim/Interconnection Service Agreement Status  interconnection_status_lbnl\n",
       "Document Posted           Document Posted             Document Posted          Document Posted                                   Facility Study                   33\n",
       "                                                                                                                                 IA Executed                     202\n",
       "                                                                                                                                 System Impact Study              17\n",
       "                                                                               Interim Study                                     System Impact Study               2\n",
       "                                                                               Wholesale Market Participation Agreement          Facility Study                    8\n",
       "                                                                               Withdrawn                                         Facility Study                    5\n",
       "                                                                                                                                 System Impact Study               4\n",
       "                                                                               NaN                                               Facility Study                    2\n",
       "                                                                                                                                 System Impact Study              30\n",
       "                                                      In Progress              Interim Study                                     System Impact Study              18\n",
       "                                                                               NaN                                               Feasibility Study                 1\n",
       "                                                                                                                                 System Impact Study             634\n",
       "                                                      Not Required             Document Posted                                   IA Executed                      36\n",
       "                                                                                                                                 System Impact Study               4\n",
       "                                                                               Wholesale Market Participation Agreement          System Impact Study             105\n",
       "                                                                               Withdrawn                                         System Impact Study               2\n",
       "                                                                               NaN                                               System Impact Study               8\n",
       "                                                      Withdrawn                Document Posted                                   IA Executed                       1\n",
       "                                                                                                                                 System Impact Study               1\n",
       "                                                                               NaN                                               System Impact Study               4\n",
       "                                                      NaN                      Document Posted                                   IA Executed                       6\n",
       "                                                                               Wholesale Market Participation Agreement          System Impact Study               9\n",
       "                                                                               NaN                                               Feasibility Study                 3\n",
       "                                                                                                                                 System Impact Study               1\n",
       "                          In Progress                 NaN                      NaN                                               Feasibility Study               173\n",
       "                          Withdrawn                   NaN                      NaN                                               Feasibility Study                 2\n",
       "                          NaN                         NaN                      NaN                                               Feasibility Study                 1\n",
       "In Progress               NaN                         NaN                      NaN                                               Feasibility Study              1709\n",
       "Not Required              NaN                         NaN                      Wholesale Market Participation Agreement          In Progress (unknown study)       8\n",
       "Withdrawn                 NaN                         NaN                      NaN                                               Feasibility Study                10\n",
       "                                                                                                                                 Withdrawn                         3\n",
       "dtype: int64"
      ]
     },
     "metadata": {},
     "output_type": "display_data"
    }
   ],
   "source": [
    "# lots of IA status info encoded in various status columns. Have to figure out how to reconstruct the LBNL definitions\n",
    "status_cols = [\n",
    "    'Feasibility Study Status',\n",
    "    'System Impact Study Status',\n",
    "    'Facilities Study Status',\n",
    "    'Interim/Interconnection Service Agreement Status',\n",
    "    # 'wholesale_not_none',  # redundant with IA status \"Wholesale Market Participation Agreement\"\n",
    "    'Construction Service Agreement Status',\n",
    "    'Upgrade Construction Service Agreement Status'\n",
    "]\n",
    "with pd.option_context('display.max_rows', None):\n",
    "    display(pjm.loc[pjm['queue_status'].eq('active'), status_cols[:4] + ['interconnection_status_lbnl']].value_counts(dropna=False).sort_index())\n"
   ]
  },
  {
   "cell_type": "code",
   "execution_count": 301,
   "metadata": {},
   "outputs": [
    {
     "data": {
      "text/plain": [
       "Solar                                  3882\n",
       "Natural Gas                            1099\n",
       "Storage                                1017\n",
       "None                                    985\n",
       "Wind                                    724\n",
       "Solar; Storage                          552\n",
       "Methane                                 191\n",
       "Coal                                    137\n",
       "Hydro                                    95\n",
       "Offshore Wind                            79\n",
       "Nuclear                                  73\n",
       "Biomass                                  51\n",
       "Oil                                      51\n",
       "Other                                    27\n",
       "Diesel                                   24\n",
       "Storage; Solar                           12\n",
       "Wood                                      6\n",
       "Natural Gas; Other                        6\n",
       "Wind; Storage                             3\n",
       "Diesel; Methane                           2\n",
       "Solar; Wind                               2\n",
       "Natural Gas; Other; Storage; Solar        2\n",
       "Natural Gas; Solar; Other                 1\n",
       "Storage; Wind                             1\n",
       "Diesel; Solar                             1\n",
       "Wind; Solar                               1\n",
       "Solar; Biomass                            1\n",
       "Natural Gas; Diesel; Other; Storage       1\n",
       "Natural Gas; Storage                      1\n",
       "Methane; Solar                            1\n",
       "Natural Gas; Oil                          1\n",
       "Solar; Storage; Wind                      1\n",
       "Name: Generation Type, dtype: int64"
      ]
     },
     "execution_count": 301,
     "metadata": {},
     "output_type": "execute_result"
    }
   ],
   "source": [
    "# needs standardization. Also has a long tail of multivalued entries.\n",
    "raw_pjm['Generation Type'].value_counts(dropna=False)\n"
   ]
  },
  {
   "cell_type": "markdown",
   "metadata": {},
   "source": [
    "### CAISO\n",
    "Straightforward!"
   ]
  },
  {
   "cell_type": "code",
   "execution_count": 206,
   "metadata": {},
   "outputs": [
    {
     "data": {
      "text/plain": [
       "Index(['Queue ID', 'Project Name', 'Interconnecting Entity', 'County', 'State', 'Interconnection Location', 'Transmission Owner', 'Generation Type', 'Capacity (MW)', 'Summer Capacity (MW)', 'Winter Capacity (MW)', 'Queue Date', 'Status', 'Proposed Completion Date', 'Withdrawn Date', 'Withdrawal Comment', 'Actual Completion Date', 'Type-1', 'Type-2', 'Type-3', 'Fuel-1', 'Fuel-2', 'Fuel-3', 'MW-1', 'MW-2', 'MW-3', 'Interconnection Request Receive Date', 'Interconnection Agreement Status', 'Study Process', 'Proposed On-line Date (as filed with IR)', 'System Impact Study or Phase I Cluster Study', 'Facilities Study (FAS) or Phase II Cluster Study', 'Optional Study (OS)', 'Full Capacity, Partial or Energy Only (FC/P/EO)', 'Off-Peak Deliverability and Economic Only', 'Feasibility Study or Supplemental Review'], dtype='object')"
      ]
     },
     "execution_count": 206,
     "metadata": {},
     "output_type": "execute_result"
    }
   ],
   "source": [
    "raw_caiso.columns\n"
   ]
  },
  {
   "cell_type": "code",
   "execution_count": 190,
   "metadata": {},
   "outputs": [
    {
     "name": "stdout",
     "output_type": "stream",
     "text": [
      "<class 'pandas.core.frame.DataFrame'>\n",
      "Int64Index: 2278 entries, 0 to 2277\n",
      "Data columns (total 44 columns):\n",
      " #   Column                                            Non-Null Count  Dtype         \n",
      "---  ------                                            --------------  -----         \n",
      " 0   Queue ID                                          2278 non-null   object        \n",
      " 1   Project Name                                      2278 non-null   object        \n",
      " 2   Interconnecting Entity                            0 non-null      object        \n",
      " 3   County                                            2273 non-null   object        \n",
      " 4   State                                             2274 non-null   object        \n",
      " 5   Interconnection Location                          2278 non-null   object        \n",
      " 6   Transmission Owner                                2278 non-null   object        \n",
      " 7   Generation Type                                   2278 non-null   object        \n",
      " 8   Capacity (MW)                                     2278 non-null   float64       \n",
      " 9   Summer Capacity (MW)                              0 non-null      object        \n",
      " 10  Winter Capacity (MW)                              0 non-null      object        \n",
      " 11  Queue Date                                        2278 non-null   datetime64[ns]\n",
      " 12  Status                                            2278 non-null   object        \n",
      " 13  Proposed Completion Date                          2072 non-null   datetime64[ns]\n",
      " 14  Withdrawn Date                                    1573 non-null   datetime64[ns]\n",
      " 15  Withdrawal Comment                                598 non-null    object        \n",
      " 16  Actual Completion Date                            194 non-null    datetime64[ns]\n",
      " 17  Type-1                                            2278 non-null   object        \n",
      " 18  Type-2                                            486 non-null    object        \n",
      " 19  Type-3                                            15 non-null     object        \n",
      " 20  Fuel-1                                            2273 non-null   object        \n",
      " 21  Fuel-2                                            485 non-null    object        \n",
      " 22  Fuel-3                                            15 non-null     object        \n",
      " 23  MW-1                                              2278 non-null   float64       \n",
      " 24  MW-2                                              486 non-null    float64       \n",
      " 25  MW-3                                              15 non-null     float64       \n",
      " 26  Interconnection Request Receive Date              2270 non-null   datetime64[ns]\n",
      " 27  Interconnection Agreement Status                  459 non-null    object        \n",
      " 28  Study Process                                     2277 non-null   object        \n",
      " 29  Proposed On-line Date (as filed with IR)          2278 non-null   datetime64[ns]\n",
      " 30  System Impact Study or Phase I Cluster Study      1867 non-null   object        \n",
      " 31  Facilities Study (FAS) or Phase II Cluster Study  1518 non-null   object        \n",
      " 32  Optional Study (OS)                               351 non-null    object        \n",
      " 33  Full Capacity, Partial or Energy Only (FC/P/EO)   1874 non-null   object        \n",
      " 34  Off-Peak Deliverability and Economic Only         606 non-null    object        \n",
      " 35  Feasibility Study or Supplemental Review          458 non-null    object        \n",
      " 36  queue_id                                          2274 non-null   object        \n",
      " 37  project_name                                      2274 non-null   object        \n",
      " 38  queue_date                                        2266 non-null   object        \n",
      " 39  queue_status                                      2274 non-null   object        \n",
      " 40  interconnection_status_raw                        2274 non-null   object        \n",
      " 41  interconnection_status_lbnl                       2274 non-null   object        \n",
      " 42  in_lbnl                                           2278 non-null   bool          \n",
      " 43  in_gs                                             2278 non-null   bool          \n",
      "dtypes: bool(2), datetime64[ns](6), float64(4), object(32)\n",
      "memory usage: 769.7+ KB\n"
     ]
    }
   ],
   "source": [
    "caiso = join_lbnl(raw_caiso, lbnl, \"CAISO\")\n",
    "caiso.info()\n"
   ]
  },
  {
   "cell_type": "code",
   "execution_count": 205,
   "metadata": {},
   "outputs": [
    {
     "data": {
      "text/html": [
       "<div>\n",
       "<style scoped>\n",
       "    .dataframe tbody tr th:only-of-type {\n",
       "        vertical-align: middle;\n",
       "    }\n",
       "\n",
       "    .dataframe tbody tr th {\n",
       "        vertical-align: top;\n",
       "    }\n",
       "\n",
       "    .dataframe thead th {\n",
       "        text-align: right;\n",
       "    }\n",
       "</style>\n",
       "<table border=\"1\" class=\"dataframe\">\n",
       "  <thead>\n",
       "    <tr style=\"text-align: right;\">\n",
       "      <th></th>\n",
       "      <th>Queue ID</th>\n",
       "      <th>Project Name</th>\n",
       "      <th>Interconnecting Entity</th>\n",
       "      <th>County</th>\n",
       "      <th>State</th>\n",
       "      <th>Interconnection Location</th>\n",
       "      <th>Transmission Owner</th>\n",
       "      <th>Generation Type</th>\n",
       "      <th>Capacity (MW)</th>\n",
       "      <th>Summer Capacity (MW)</th>\n",
       "      <th>Winter Capacity (MW)</th>\n",
       "      <th>Queue Date</th>\n",
       "      <th>Status</th>\n",
       "      <th>Proposed Completion Date</th>\n",
       "      <th>Withdrawn Date</th>\n",
       "      <th>Withdrawal Comment</th>\n",
       "      <th>Actual Completion Date</th>\n",
       "      <th>Type-1</th>\n",
       "      <th>Type-2</th>\n",
       "      <th>Type-3</th>\n",
       "      <th>Fuel-1</th>\n",
       "      <th>Fuel-2</th>\n",
       "      <th>Fuel-3</th>\n",
       "      <th>MW-1</th>\n",
       "      <th>MW-2</th>\n",
       "      <th>MW-3</th>\n",
       "      <th>Interconnection Request Receive Date</th>\n",
       "      <th>Interconnection Agreement Status</th>\n",
       "      <th>Study Process</th>\n",
       "      <th>Proposed On-line Date (as filed with IR)</th>\n",
       "      <th>System Impact Study or Phase I Cluster Study</th>\n",
       "      <th>Facilities Study (FAS) or Phase II Cluster Study</th>\n",
       "      <th>Optional Study (OS)</th>\n",
       "      <th>Full Capacity, Partial or Energy Only (FC/P/EO)</th>\n",
       "      <th>Off-Peak Deliverability and Economic Only</th>\n",
       "      <th>Feasibility Study or Supplemental Review</th>\n",
       "      <th>queue_id</th>\n",
       "      <th>project_name</th>\n",
       "      <th>queue_date</th>\n",
       "      <th>queue_status</th>\n",
       "      <th>interconnection_status_raw</th>\n",
       "      <th>interconnection_status_lbnl</th>\n",
       "      <th>in_lbnl</th>\n",
       "      <th>in_gs</th>\n",
       "    </tr>\n",
       "  </thead>\n",
       "  <tbody>\n",
       "    <tr>\n",
       "      <th>30</th>\n",
       "      <td>1048</td>\n",
       "      <td>ESCONDIDO ENERGY CENTER 2</td>\n",
       "      <td>None</td>\n",
       "      <td>SAN DIEGO</td>\n",
       "      <td>CA</td>\n",
       "      <td>Escondido Substation 69 kV</td>\n",
       "      <td>SDGE</td>\n",
       "      <td>Storage</td>\n",
       "      <td>50.0</td>\n",
       "      <td>None</td>\n",
       "      <td>None</td>\n",
       "      <td>2014-04-30 07:00:00</td>\n",
       "      <td>ACTIVE</td>\n",
       "      <td>2025-07-17 07:00:00</td>\n",
       "      <td>NaT</td>\n",
       "      <td>None</td>\n",
       "      <td>NaT</td>\n",
       "      <td>Storage</td>\n",
       "      <td>None</td>\n",
       "      <td>None</td>\n",
       "      <td>Battery</td>\n",
       "      <td>None</td>\n",
       "      <td>None</td>\n",
       "      <td>50.0000</td>\n",
       "      <td>NaN</td>\n",
       "      <td>NaN</td>\n",
       "      <td>2014-04-30</td>\n",
       "      <td>In Progress</td>\n",
       "      <td>C07</td>\n",
       "      <td>2019-11-01 07:00:00</td>\n",
       "      <td>Complete</td>\n",
       "      <td>Complete</td>\n",
       "      <td>None</td>\n",
       "      <td>Energy Only</td>\n",
       "      <td>None</td>\n",
       "      <td>None</td>\n",
       "      <td>1048</td>\n",
       "      <td>ESCONDIDO ENERGY CENTER 2</td>\n",
       "      <td>4/30/2014</td>\n",
       "      <td>active</td>\n",
       "      <td>Facilities</td>\n",
       "      <td>Facility Study</td>\n",
       "      <td>True</td>\n",
       "      <td>True</td>\n",
       "    </tr>\n",
       "    <tr>\n",
       "      <th>204</th>\n",
       "      <td>1736</td>\n",
       "      <td>HAWKINS SOLAR HYBRID</td>\n",
       "      <td>None</td>\n",
       "      <td>KERN</td>\n",
       "      <td>CA</td>\n",
       "      <td>ARCO Substation 230kV</td>\n",
       "      <td>PGAE</td>\n",
       "      <td>Photovoltaic + Storage</td>\n",
       "      <td>250.0</td>\n",
       "      <td>None</td>\n",
       "      <td>None</td>\n",
       "      <td>2020-04-15 07:00:00</td>\n",
       "      <td>ACTIVE</td>\n",
       "      <td>2024-04-01 07:00:00</td>\n",
       "      <td>NaT</td>\n",
       "      <td>None</td>\n",
       "      <td>NaT</td>\n",
       "      <td>Photovoltaic</td>\n",
       "      <td>Storage</td>\n",
       "      <td>None</td>\n",
       "      <td>Solar</td>\n",
       "      <td>Battery</td>\n",
       "      <td>None</td>\n",
       "      <td>250.0000</td>\n",
       "      <td>250.0000</td>\n",
       "      <td>NaN</td>\n",
       "      <td>2020-04-01</td>\n",
       "      <td>None</td>\n",
       "      <td>C13</td>\n",
       "      <td>2024-04-01 07:00:00</td>\n",
       "      <td>Complete</td>\n",
       "      <td>Complete</td>\n",
       "      <td>None</td>\n",
       "      <td>Full Capacity</td>\n",
       "      <td>Off-Peak Deliverability</td>\n",
       "      <td>None</td>\n",
       "      <td>1736</td>\n",
       "      <td>HAWKINS SOLAR HYBRID</td>\n",
       "      <td>4/1/2020</td>\n",
       "      <td>active</td>\n",
       "      <td>Facilities</td>\n",
       "      <td>Facility Study</td>\n",
       "      <td>True</td>\n",
       "      <td>True</td>\n",
       "    </tr>\n",
       "    <tr>\n",
       "      <th>266</th>\n",
       "      <td>1852</td>\n",
       "      <td>BULL RUN</td>\n",
       "      <td>None</td>\n",
       "      <td>BUTTE</td>\n",
       "      <td>CA</td>\n",
       "      <td>Table Mountain Substation 115 kV</td>\n",
       "      <td>PGAE</td>\n",
       "      <td>Storage + Photovoltaic</td>\n",
       "      <td>225.0</td>\n",
       "      <td>None</td>\n",
       "      <td>None</td>\n",
       "      <td>2021-04-15 07:00:00</td>\n",
       "      <td>ACTIVE</td>\n",
       "      <td>2024-12-31 08:00:00</td>\n",
       "      <td>NaT</td>\n",
       "      <td>None</td>\n",
       "      <td>NaT</td>\n",
       "      <td>Storage</td>\n",
       "      <td>Photovoltaic</td>\n",
       "      <td>None</td>\n",
       "      <td>Battery</td>\n",
       "      <td>Solar</td>\n",
       "      <td>None</td>\n",
       "      <td>225.0000</td>\n",
       "      <td>232.1000</td>\n",
       "      <td>NaN</td>\n",
       "      <td>2021-04-06</td>\n",
       "      <td>None</td>\n",
       "      <td>C14</td>\n",
       "      <td>2024-12-31 08:00:00</td>\n",
       "      <td>Complete</td>\n",
       "      <td>None</td>\n",
       "      <td>None</td>\n",
       "      <td>Full Capacity</td>\n",
       "      <td>None</td>\n",
       "      <td>None</td>\n",
       "      <td>1852</td>\n",
       "      <td>BULL RUN</td>\n",
       "      <td>4/6/2021</td>\n",
       "      <td>active</td>\n",
       "      <td>Feasibility</td>\n",
       "      <td>Feasibility Study</td>\n",
       "      <td>True</td>\n",
       "      <td>True</td>\n",
       "    </tr>\n",
       "    <tr>\n",
       "      <th>429</th>\n",
       "      <td>2142</td>\n",
       "      <td>SILVER STAR SOLAR</td>\n",
       "      <td>None</td>\n",
       "      <td>NYE</td>\n",
       "      <td>NV</td>\n",
       "      <td>Lathrop Wells Substation 138 kV</td>\n",
       "      <td>VEA</td>\n",
       "      <td>Storage + Photovoltaic</td>\n",
       "      <td>500.0</td>\n",
       "      <td>None</td>\n",
       "      <td>None</td>\n",
       "      <td>2021-04-15 07:00:00</td>\n",
       "      <td>ACTIVE</td>\n",
       "      <td>2028-03-31 07:00:00</td>\n",
       "      <td>NaT</td>\n",
       "      <td>None</td>\n",
       "      <td>NaT</td>\n",
       "      <td>Storage</td>\n",
       "      <td>Photovoltaic</td>\n",
       "      <td>None</td>\n",
       "      <td>Battery</td>\n",
       "      <td>Solar</td>\n",
       "      <td>None</td>\n",
       "      <td>516.7638</td>\n",
       "      <td>516.7638</td>\n",
       "      <td>NaN</td>\n",
       "      <td>2021-03-31</td>\n",
       "      <td>None</td>\n",
       "      <td>C14</td>\n",
       "      <td>2028-03-31 07:00:00</td>\n",
       "      <td>None</td>\n",
       "      <td>None</td>\n",
       "      <td>None</td>\n",
       "      <td>Full Capacity</td>\n",
       "      <td>Off-Peak Deliverability</td>\n",
       "      <td>None</td>\n",
       "      <td>2142</td>\n",
       "      <td>SILVER STAR SOLAR</td>\n",
       "      <td>3/31/2021</td>\n",
       "      <td>active</td>\n",
       "      <td>Feasibility</td>\n",
       "      <td>Feasibility Study</td>\n",
       "      <td>True</td>\n",
       "      <td>True</td>\n",
       "    </tr>\n",
       "    <tr>\n",
       "      <th>253</th>\n",
       "      <td>1832</td>\n",
       "      <td>GOAL LINE RELIABILITY</td>\n",
       "      <td>None</td>\n",
       "      <td>SAN DIEGO</td>\n",
       "      <td>CA</td>\n",
       "      <td>Esco Substation 69 kV</td>\n",
       "      <td>SDGE</td>\n",
       "      <td>Storage</td>\n",
       "      <td>50.0</td>\n",
       "      <td>None</td>\n",
       "      <td>None</td>\n",
       "      <td>2021-04-15 07:00:00</td>\n",
       "      <td>ACTIVE</td>\n",
       "      <td>2023-05-30 07:00:00</td>\n",
       "      <td>NaT</td>\n",
       "      <td>None</td>\n",
       "      <td>NaT</td>\n",
       "      <td>Storage</td>\n",
       "      <td>None</td>\n",
       "      <td>None</td>\n",
       "      <td>Battery</td>\n",
       "      <td>None</td>\n",
       "      <td>None</td>\n",
       "      <td>154.1200</td>\n",
       "      <td>NaN</td>\n",
       "      <td>NaN</td>\n",
       "      <td>2021-02-08</td>\n",
       "      <td>None</td>\n",
       "      <td>C14</td>\n",
       "      <td>2023-05-30 07:00:00</td>\n",
       "      <td>None</td>\n",
       "      <td>None</td>\n",
       "      <td>None</td>\n",
       "      <td>Full Capacity</td>\n",
       "      <td>None</td>\n",
       "      <td>None</td>\n",
       "      <td>1832</td>\n",
       "      <td>GOAL LINE RELIABILITY</td>\n",
       "      <td>2/8/2021</td>\n",
       "      <td>active</td>\n",
       "      <td>Feasibility</td>\n",
       "      <td>Feasibility Study</td>\n",
       "      <td>True</td>\n",
       "      <td>True</td>\n",
       "    </tr>\n",
       "    <tr>\n",
       "      <th>9</th>\n",
       "      <td>297</td>\n",
       "      <td>ALTA VISTA SUNTOWER GENERATING STATION</td>\n",
       "      <td>None</td>\n",
       "      <td>LOS ANGELES</td>\n",
       "      <td>CA</td>\n",
       "      <td>Neenach-Bailey 66kV line</td>\n",
       "      <td>SCE</td>\n",
       "      <td>Steam Turbine + Storage</td>\n",
       "      <td>66.0</td>\n",
       "      <td>None</td>\n",
       "      <td>None</td>\n",
       "      <td>2008-01-18 08:00:00</td>\n",
       "      <td>ACTIVE</td>\n",
       "      <td>2025-04-15 07:00:00</td>\n",
       "      <td>NaT</td>\n",
       "      <td>None</td>\n",
       "      <td>NaT</td>\n",
       "      <td>Steam Turbine</td>\n",
       "      <td>Storage</td>\n",
       "      <td>None</td>\n",
       "      <td>Solar</td>\n",
       "      <td>Battery</td>\n",
       "      <td>None</td>\n",
       "      <td>66.0000</td>\n",
       "      <td>66.0000</td>\n",
       "      <td>NaN</td>\n",
       "      <td>2008-01-18</td>\n",
       "      <td>Executed</td>\n",
       "      <td>TC</td>\n",
       "      <td>2009-12-01 08:00:00</td>\n",
       "      <td>Complete</td>\n",
       "      <td>Complete</td>\n",
       "      <td>None</td>\n",
       "      <td>Full Capacity</td>\n",
       "      <td>Off-Peak Deliverability</td>\n",
       "      <td>None</td>\n",
       "      <td>297</td>\n",
       "      <td>ALTA VISTA SUNTOWER GENERATING STATION</td>\n",
       "      <td>1/18/2008</td>\n",
       "      <td>active</td>\n",
       "      <td>Executed</td>\n",
       "      <td>IA Executed</td>\n",
       "      <td>True</td>\n",
       "      <td>True</td>\n",
       "    </tr>\n",
       "    <tr>\n",
       "      <th>39</th>\n",
       "      <td>1116</td>\n",
       "      <td>ULTRAPOWER CHINESE STATION BESS</td>\n",
       "      <td>None</td>\n",
       "      <td>TUOLUMNE</td>\n",
       "      <td>CA</td>\n",
       "      <td>Melones-Curtis 115kV line</td>\n",
       "      <td>PGAE</td>\n",
       "      <td>Storage</td>\n",
       "      <td>10.0</td>\n",
       "      <td>None</td>\n",
       "      <td>None</td>\n",
       "      <td>2015-04-30 07:00:00</td>\n",
       "      <td>ACTIVE</td>\n",
       "      <td>2022-05-20 07:00:00</td>\n",
       "      <td>NaT</td>\n",
       "      <td>None</td>\n",
       "      <td>NaT</td>\n",
       "      <td>Storage</td>\n",
       "      <td>None</td>\n",
       "      <td>None</td>\n",
       "      <td>Battery</td>\n",
       "      <td>None</td>\n",
       "      <td>None</td>\n",
       "      <td>10.0000</td>\n",
       "      <td>NaN</td>\n",
       "      <td>NaN</td>\n",
       "      <td>2015-04-30</td>\n",
       "      <td>Executed</td>\n",
       "      <td>C08</td>\n",
       "      <td>2017-03-31 07:00:00</td>\n",
       "      <td>Complete</td>\n",
       "      <td>Complete</td>\n",
       "      <td>None</td>\n",
       "      <td>Full Capacity</td>\n",
       "      <td>None</td>\n",
       "      <td>None</td>\n",
       "      <td>1116</td>\n",
       "      <td>ULTRAPOWER CHINESE STATION BESS</td>\n",
       "      <td>4/30/2015</td>\n",
       "      <td>active</td>\n",
       "      <td>Executed</td>\n",
       "      <td>IA Executed</td>\n",
       "      <td>True</td>\n",
       "      <td>True</td>\n",
       "    </tr>\n",
       "    <tr>\n",
       "      <th>443</th>\n",
       "      <td>2166</td>\n",
       "      <td>UMBRIEL</td>\n",
       "      <td>None</td>\n",
       "      <td>IMPERIAL</td>\n",
       "      <td>CA</td>\n",
       "      <td>North Gila - Imperial Valley 500 kV Line</td>\n",
       "      <td>SDGE</td>\n",
       "      <td>Storage + Photovoltaic</td>\n",
       "      <td>1150.0</td>\n",
       "      <td>None</td>\n",
       "      <td>None</td>\n",
       "      <td>2021-04-15 07:00:00</td>\n",
       "      <td>ACTIVE</td>\n",
       "      <td>2026-12-31 08:00:00</td>\n",
       "      <td>NaT</td>\n",
       "      <td>None</td>\n",
       "      <td>NaT</td>\n",
       "      <td>Storage</td>\n",
       "      <td>Photovoltaic</td>\n",
       "      <td>None</td>\n",
       "      <td>Battery</td>\n",
       "      <td>Solar</td>\n",
       "      <td>None</td>\n",
       "      <td>1182.3800</td>\n",
       "      <td>1182.3800</td>\n",
       "      <td>NaN</td>\n",
       "      <td>2021-04-08</td>\n",
       "      <td>None</td>\n",
       "      <td>C14</td>\n",
       "      <td>2026-12-31 08:00:00</td>\n",
       "      <td>Complete</td>\n",
       "      <td>None</td>\n",
       "      <td>None</td>\n",
       "      <td>Full Capacity</td>\n",
       "      <td>Off-Peak Deliverability</td>\n",
       "      <td>None</td>\n",
       "      <td>2166</td>\n",
       "      <td>UMBRIEL</td>\n",
       "      <td>4/8/2021</td>\n",
       "      <td>active</td>\n",
       "      <td>System Impact</td>\n",
       "      <td>System Impact Study</td>\n",
       "      <td>True</td>\n",
       "      <td>True</td>\n",
       "    </tr>\n",
       "  </tbody>\n",
       "</table>\n",
       "</div>"
      ],
      "text/plain": [
       "    Queue ID                            Project Name Interconnecting Entity       County State                  Interconnection Location Transmission Owner          Generation Type  Capacity (MW) Summer Capacity (MW) Winter Capacity (MW)          Queue Date  Status Proposed Completion Date Withdrawn Date Withdrawal Comment Actual Completion Date         Type-1        Type-2 Type-3   Fuel-1   Fuel-2 Fuel-3       MW-1       MW-2  MW-3 Interconnection Request Receive Date Interconnection Agreement Status Study Process Proposed On-line Date (as filed with IR) System Impact Study or Phase I Cluster Study Facilities Study (FAS) or Phase II Cluster Study Optional Study (OS) Full Capacity, Partial or Energy Only (FC/P/EO) Off-Peak Deliverability and Economic Only Feasibility Study or Supplemental Review queue_id                            project_name queue_date queue_status interconnection_status_raw interconnection_status_lbnl  in_lbnl  in_gs\n",
       "30      1048               ESCONDIDO ENERGY CENTER 2                   None    SAN DIEGO    CA                Escondido Substation 69 kV               SDGE                  Storage           50.0                 None                 None 2014-04-30 07:00:00  ACTIVE      2025-07-17 07:00:00            NaT               None                    NaT        Storage          None   None  Battery     None   None    50.0000        NaN   NaN                           2014-04-30                      In Progress           C07                      2019-11-01 07:00:00                                     Complete                                         Complete                None                                     Energy Only                                      None                                     None     1048               ESCONDIDO ENERGY CENTER 2  4/30/2014       active                 Facilities              Facility Study     True   True\n",
       "204     1736                    HAWKINS SOLAR HYBRID                   None         KERN    CA                     ARCO Substation 230kV               PGAE   Photovoltaic + Storage          250.0                 None                 None 2020-04-15 07:00:00  ACTIVE      2024-04-01 07:00:00            NaT               None                    NaT   Photovoltaic       Storage   None    Solar  Battery   None   250.0000   250.0000   NaN                           2020-04-01                             None           C13                      2024-04-01 07:00:00                                     Complete                                         Complete                None                                   Full Capacity                   Off-Peak Deliverability                                     None     1736                    HAWKINS SOLAR HYBRID   4/1/2020       active                 Facilities              Facility Study     True   True\n",
       "266     1852                                BULL RUN                   None        BUTTE    CA          Table Mountain Substation 115 kV               PGAE   Storage + Photovoltaic          225.0                 None                 None 2021-04-15 07:00:00  ACTIVE      2024-12-31 08:00:00            NaT               None                    NaT        Storage  Photovoltaic   None  Battery    Solar   None   225.0000   232.1000   NaN                           2021-04-06                             None           C14                      2024-12-31 08:00:00                                     Complete                                             None                None                                   Full Capacity                                      None                                     None     1852                                BULL RUN   4/6/2021       active                Feasibility           Feasibility Study     True   True\n",
       "429     2142                       SILVER STAR SOLAR                   None          NYE    NV          Lathrop Wells Substation 138 kV                 VEA   Storage + Photovoltaic          500.0                 None                 None 2021-04-15 07:00:00  ACTIVE      2028-03-31 07:00:00            NaT               None                    NaT        Storage  Photovoltaic   None  Battery    Solar   None   516.7638   516.7638   NaN                           2021-03-31                             None           C14                      2028-03-31 07:00:00                                         None                                             None                None                                   Full Capacity                   Off-Peak Deliverability                                     None     2142                       SILVER STAR SOLAR  3/31/2021       active                Feasibility           Feasibility Study     True   True\n",
       "253     1832                   GOAL LINE RELIABILITY                   None    SAN DIEGO    CA                     Esco Substation 69 kV               SDGE                  Storage           50.0                 None                 None 2021-04-15 07:00:00  ACTIVE      2023-05-30 07:00:00            NaT               None                    NaT        Storage          None   None  Battery     None   None   154.1200        NaN   NaN                           2021-02-08                             None           C14                      2023-05-30 07:00:00                                         None                                             None                None                                   Full Capacity                                      None                                     None     1832                   GOAL LINE RELIABILITY   2/8/2021       active                Feasibility           Feasibility Study     True   True\n",
       "9        297  ALTA VISTA SUNTOWER GENERATING STATION                   None  LOS ANGELES    CA                  Neenach-Bailey 66kV line                SCE  Steam Turbine + Storage           66.0                 None                 None 2008-01-18 08:00:00  ACTIVE      2025-04-15 07:00:00            NaT               None                    NaT  Steam Turbine       Storage   None    Solar  Battery   None    66.0000    66.0000   NaN                           2008-01-18                         Executed            TC                      2009-12-01 08:00:00                                     Complete                                         Complete                None                                   Full Capacity                   Off-Peak Deliverability                                     None      297  ALTA VISTA SUNTOWER GENERATING STATION  1/18/2008       active                   Executed                 IA Executed     True   True\n",
       "39      1116         ULTRAPOWER CHINESE STATION BESS                   None     TUOLUMNE    CA                 Melones-Curtis 115kV line               PGAE                  Storage           10.0                 None                 None 2015-04-30 07:00:00  ACTIVE      2022-05-20 07:00:00            NaT               None                    NaT        Storage          None   None  Battery     None   None    10.0000        NaN   NaN                           2015-04-30                         Executed           C08                      2017-03-31 07:00:00                                     Complete                                         Complete                None                                   Full Capacity                                      None                                     None     1116         ULTRAPOWER CHINESE STATION BESS  4/30/2015       active                   Executed                 IA Executed     True   True\n",
       "443     2166                                 UMBRIEL                   None     IMPERIAL    CA  North Gila - Imperial Valley 500 kV Line               SDGE   Storage + Photovoltaic         1150.0                 None                 None 2021-04-15 07:00:00  ACTIVE      2026-12-31 08:00:00            NaT               None                    NaT        Storage  Photovoltaic   None  Battery    Solar   None  1182.3800  1182.3800   NaN                           2021-04-08                             None           C14                      2026-12-31 08:00:00                                     Complete                                             None                None                                   Full Capacity                   Off-Peak Deliverability                                     None     2166                                 UMBRIEL   4/8/2021       active              System Impact         System Impact Study     True   True"
      ]
     },
     "execution_count": 205,
     "metadata": {},
     "output_type": "execute_result"
    }
   ],
   "source": [
    "caiso.query(\"Status == 'ACTIVE'\").sample(8, random_state=42).sort_values('interconnection_status_lbnl')\n"
   ]
  },
  {
   "cell_type": "code",
   "execution_count": 192,
   "metadata": {},
   "outputs": [
    {
     "data": {
      "text/plain": [
       "in_gs  in_lbnl\n",
       "True   True       2274\n",
       "       False         4\n",
       "dtype: int64"
      ]
     },
     "execution_count": 192,
     "metadata": {},
     "output_type": "execute_result"
    }
   ],
   "source": [
    "caiso[[\"in_gs\", \"in_lbnl\"]].value_counts(dropna=False)\n"
   ]
  },
  {
   "cell_type": "code",
   "execution_count": 193,
   "metadata": {},
   "outputs": [
    {
     "data": {
      "text/plain": [
       "in_gs  in_lbnl\n",
       "True   True       2274\n",
       "dtype: int64"
      ]
     },
     "execution_count": 193,
     "metadata": {},
     "output_type": "execute_result"
    }
   ],
   "source": [
    "caiso.loc[\n",
    "    pd.to_datetime(caiso[\"Queue Date\"])\n",
    "    .fillna(pd.to_datetime(\"2020-01-01\"))\n",
    "    .lt(pd.to_datetime(\"2023-01-01\")),\n",
    "    [\"in_gs\", \"in_lbnl\"],\n",
    "].value_counts(dropna=False)\n"
   ]
  },
  {
   "cell_type": "code",
   "execution_count": 195,
   "metadata": {},
   "outputs": [
    {
     "data": {
      "text/plain": [
       "Status     queue_status\n",
       "ACTIVE     active           457\n",
       "           operational        1\n",
       "           withdrawn          2\n",
       "           NaN                4\n",
       "COMPLETED  active             3\n",
       "           operational      198\n",
       "WITHDRAWN  active            35\n",
       "           withdrawn       1578\n",
       "dtype: int64"
      ]
     },
     "execution_count": 195,
     "metadata": {},
     "output_type": "execute_result"
    }
   ],
   "source": [
    "# remarkably easy to match status values\n",
    "caiso[[\"Status\", \"queue_status\"]].value_counts(dropna=False).sort_index()\n"
   ]
  },
  {
   "cell_type": "code",
   "execution_count": 197,
   "metadata": {},
   "outputs": [
    {
     "data": {
      "text/plain": [
       "Feasibility      1229\n",
       "System Impact     349\n",
       "Executed          202\n",
       "Operational       199\n",
       "Facility          197\n",
       "Facilities         98\n",
       "NaN                 4\n",
       "Name: interconnection_status_raw, dtype: int64"
      ]
     },
     "execution_count": 197,
     "metadata": {},
     "output_type": "execute_result"
    }
   ],
   "source": [
    "caiso['interconnection_status_raw'].value_counts(dropna=False)\n"
   ]
  },
  {
   "cell_type": "code",
   "execution_count": 198,
   "metadata": {},
   "outputs": [
    {
     "data": {
      "text/plain": [
       "interconnection_status_lbnl  interconnection_status_raw\n",
       "Facility Study               Facilities                      98\n",
       "                             Facility                       197\n",
       "Feasibility Study            Feasibility                   1229\n",
       "IA Executed                  Executed                       202\n",
       "Operational                  Operational                    199\n",
       "System Impact Study          System Impact                  349\n",
       "NaN                          NaN                              4\n",
       "dtype: int64"
      ]
     },
     "execution_count": 198,
     "metadata": {},
     "output_type": "execute_result"
    }
   ],
   "source": [
    "caiso[['interconnection_status_lbnl', 'interconnection_status_raw']].value_counts(dropna=False).sort_index()\n"
   ]
  },
  {
   "cell_type": "code",
   "execution_count": 208,
   "metadata": {},
   "outputs": [
    {
     "data": {
      "text/plain": [
       "AMEND 39           59\n",
       "C01                25\n",
       "C02                57\n",
       "C03                48\n",
       "C04               189\n",
       "C05                76\n",
       "C06                61\n",
       "C07                82\n",
       "C08               121\n",
       "C09               125\n",
       "C10                89\n",
       "C11                94\n",
       "C12               136\n",
       "C13               147\n",
       "C14               359\n",
       "FT                 18\n",
       "ISP                25\n",
       "Pre- Amend. 39      8\n",
       "SGIP               94\n",
       "SGIP-TC            62\n",
       "Serial LGIP       350\n",
       "TC                 52\n",
       "None                1\n",
       "Name: Study Process, dtype: int64"
      ]
     },
     "execution_count": 208,
     "metadata": {},
     "output_type": "execute_result"
    }
   ],
   "source": [
    "caiso['Study Process'].value_counts(dropna=False).sort_index()\n"
   ]
  },
  {
   "cell_type": "code",
   "execution_count": 219,
   "metadata": {},
   "outputs": [
    {
     "data": {
      "text/plain": [
       "Interconnection Agreement Status  Facilities Study (FAS) or Phase II Cluster Study  System Impact Study or Phase I Cluster Study\n",
       "Executed                          Complete                                          Complete                                         349\n",
       "                                  Re-Study                                          Complete                                           5\n",
       "                                  SGIA                                              Facilities Study                                  21\n",
       "                                  NaN                                               Complete                                           5\n",
       "                                                                                    NaN                                               16\n",
       "In Progress                       Complete                                          Complete                                          50\n",
       "                                  Re-Study                                          Complete                                           3\n",
       "NaN                               Complete                                          Complete                                         227\n",
       "                                                                                    NaN                                               10\n",
       "                                  SGIA                                              Facilities Study                                  26\n",
       "                                  NaN                                               Complete                                         510\n",
       "                                                                                    Re-Study                                           3\n",
       "                                                                                    NaN                                             1033\n",
       "dtype: int64"
      ]
     },
     "metadata": {},
     "output_type": "display_data"
    }
   ],
   "source": [
    "# I don't see any pattern to the Study Process values.\n",
    "status_cols_caiso = [\n",
    "    'Interconnection Agreement Status',\n",
    "    'Facilities Study (FAS) or Phase II Cluster Study',\n",
    "    'System Impact Study or Phase I Cluster Study',\n",
    "    'Study Process',\n",
    "]\n",
    "with pd.option_context('display.max_rows', None):\n",
    "    display(caiso[status_cols_caiso[:-1]].replace(['None'], np.nan).value_counts(dropna=False).where(lambda x: x>2).dropna().astype(int).sort_index())\n"
   ]
  },
  {
   "cell_type": "code",
   "execution_count": 223,
   "metadata": {},
   "outputs": [
    {
     "data": {
      "text/plain": [
       "Interconnection Agreement Status  Facilities Study (FAS) or Phase II Cluster Study  System Impact Study or Phase I Cluster Study  interconnection_status_lbnl\n",
       "Executed                          Complete                                          Complete                                      Facility Study                   8\n",
       "                                                                                                                                  IA Executed                    154\n",
       "                                  Re-Study                                          Complete                                      IA Executed                      1\n",
       "                                  SGIA                                              Facilities Study                              IA Executed                      1\n",
       "                                  NaN                                               NaN                                           IA Executed                      2\n",
       "In Progress                       Complete                                          Complete                                      Facility Study                  28\n",
       "NaN                               Complete                                          Complete                                      Facility Study                  62\n",
       "                                  NaN                                               Complete                                      Feasibility Study              128\n",
       "                                                                                                                                  System Impact Study             22\n",
       "                                                                                    NaN                                           Feasibility Study               88\n",
       "                                                                                                                                  System Impact Study              1\n",
       "dtype: int64"
      ]
     },
     "metadata": {},
     "output_type": "display_data"
    }
   ],
   "source": [
    "with pd.option_context('display.max_rows', None):\n",
    "    display(caiso.query(\"queue_status == 'active'\")[status_cols_caiso[:-1] + ['interconnection_status_lbnl']].replace(['None'], np.nan).value_counts(dropna=False).sort_index())\n"
   ]
  },
  {
   "cell_type": "code",
   "execution_count": 302,
   "metadata": {},
   "outputs": [
    {
     "data": {
      "text/plain": [
       "Photovoltaic                                    707\n",
       "Storage                                         475\n",
       "Photovoltaic + Storage                          231\n",
       "Wind Turbine                                    194\n",
       "Storage + Photovoltaic                          182\n",
       "Steam Turbine                                   161\n",
       "Combined Cycle                                   94\n",
       "Gas Turbine                                      63\n",
       "Combustion Turbine                               57\n",
       "Reciprocating Engine                             15\n",
       "Wind Turbine + Storage                           14\n",
       "Hydro                                            12\n",
       "Storage + Wind Turbine                            9\n",
       "Other                                             8\n",
       "Photovoltaic + Combustion Turbine                 4\n",
       "Steam Turbine + Storage                           4\n",
       "Combustion Turbine + Storage                      4\n",
       "Storage + Wind Turbine + Photovoltaic             3\n",
       "Storage + Gas Turbine                             3\n",
       "Storage + Photovoltaic + Wind Turbine             3\n",
       "Combustion Turbine + Photovoltaic                 3\n",
       "Photovoltaic + Wind Turbine                       3\n",
       "Cogeneration                                      3\n",
       "Solar Thermal                                     3\n",
       "Storage + Other                                   2\n",
       "Steam Turbine + Steam Turbine                     2\n",
       "Wind Turbine + Storage + Photovoltaic             2\n",
       "Wind Turbine + Photovoltaic + Storage             2\n",
       "Gas Turbine + Storage                             2\n",
       "Combustion Turbine + Storage + Steam Turbine      1\n",
       "Storage + Solar Thermal                           1\n",
       "Photovoltaic + Wind Turbine + Storage             1\n",
       "Photovoltaic + Storage + Wind Turbine             1\n",
       "Storage + Steam Turbine + Combustion Turbine      1\n",
       "Storage + Combustion Turbine                      1\n",
       "Photovoltaic + Storage + Combustion Turbine       1\n",
       "Combined Cycle + Storage                          1\n",
       "Combined Cycle + Combined Cycle                   1\n",
       "Storage + Storage                                 1\n",
       "Photovoltaic + Steam Turbine                      1\n",
       "Solar Thermal + Storage                           1\n",
       "Wind Turbine + Photovoltaic                       1\n",
       "Name: Generation Type, dtype: int64"
      ]
     },
     "execution_count": 302,
     "metadata": {},
     "output_type": "execute_result"
    }
   ],
   "source": [
    "# categories look standardized, but need to handle multivalued-ness\n",
    "raw_caiso['Generation Type'].value_counts(dropna=False)\n"
   ]
  },
  {
   "cell_type": "markdown",
   "metadata": {},
   "source": [
    "### ISO-NE\n",
    "\n",
    "* what GridStatus calls \"Queue ID\" was actually \"Queue Position\" in the original data. It is unique amongst active projects but not for withdrawn projects. There is no natural key for withdrawn projects."
   ]
  },
  {
   "cell_type": "code",
   "execution_count": 224,
   "metadata": {},
   "outputs": [
    {
     "data": {
      "text/plain": [
       "Index(['Queue ID', 'Project Name', 'Interconnecting Entity', 'County', 'State', 'Interconnection Location', 'Transmission Owner', 'Generation Type', 'Capacity (MW)', 'Summer Capacity (MW)', 'Winter Capacity (MW)', 'Queue Date', 'Status', 'Proposed Completion Date', 'Withdrawn Date', 'Withdrawal Comment', 'Actual Completion Date', 'Updated', 'Unit', 'Op Date', 'Sync Date', 'Serv', 'I39', 'Dev', 'Zone', 'FS', 'SIS', 'OS', 'FAC', 'IA', 'Project Status'], dtype='object')"
      ]
     },
     "execution_count": 224,
     "metadata": {},
     "output_type": "execute_result"
    }
   ],
   "source": [
    "raw_isone.columns\n"
   ]
  },
  {
   "cell_type": "code",
   "execution_count": 232,
   "metadata": {},
   "outputs": [
    {
     "data": {
      "text/plain": [
       "150"
      ]
     },
     "execution_count": 232,
     "metadata": {},
     "output_type": "execute_result"
    }
   ],
   "source": [
    "raw_isone.duplicated(subset=['Queue ID']).sum()\n"
   ]
  },
  {
   "cell_type": "code",
   "execution_count": 281,
   "metadata": {},
   "outputs": [
    {
     "data": {
      "text/plain": [
       "Withdrawn    159\n",
       "Completed     83\n",
       "Name: Status, dtype: int64"
      ]
     },
     "execution_count": 281,
     "metadata": {},
     "output_type": "execute_result"
    }
   ],
   "source": [
    "raw_isone.loc[raw_isone.duplicated(subset=['Queue ID'], keep=False), 'Status'].value_counts(dropna=False)\n"
   ]
  },
  {
   "cell_type": "code",
   "execution_count": 242,
   "metadata": {},
   "outputs": [
    {
     "data": {
      "text/plain": [
       "Withdrawn    804\n",
       "Active       408\n",
       "Completed    321\n",
       "Name: Status, dtype: int64"
      ]
     },
     "execution_count": 242,
     "metadata": {},
     "output_type": "execute_result"
    }
   ],
   "source": [
    "raw_isone['Status'].value_counts(dropna=False)\n"
   ]
  },
  {
   "cell_type": "code",
   "execution_count": 253,
   "metadata": {},
   "outputs": [
    {
     "data": {
      "text/plain": [
       "133"
      ]
     },
     "execution_count": 253,
     "metadata": {},
     "output_type": "execute_result"
    }
   ],
   "source": [
    "compound_key = ['Queue ID', 'Status']\n",
    "raw_isone.duplicated(subset=compound_key).sum()\n"
   ]
  },
  {
   "cell_type": "code",
   "execution_count": 254,
   "metadata": {},
   "outputs": [
    {
     "data": {
      "text/plain": [
       "27"
      ]
     },
     "execution_count": 254,
     "metadata": {},
     "output_type": "execute_result"
    }
   ],
   "source": [
    "# there is no natural key for this data. But this looks like the best tradeoff between key complexity and uniqueness.\n",
    "compound_key = ['Queue ID', 'Project Name']\n",
    "raw_isone.duplicated(subset=compound_key).sum()\n"
   ]
  },
  {
   "cell_type": "code",
   "execution_count": 247,
   "metadata": {},
   "outputs": [
    {
     "data": {
      "text/plain": [
       "True"
      ]
     },
     "execution_count": 247,
     "metadata": {},
     "output_type": "execute_result"
    }
   ],
   "source": [
    "# Queue ID is unique within the Active projects. Not sure how change over time will impact the join to LBNL.\n",
    "raw_isone.query('Status == \"Active\"')['Queue ID'].is_unique\n"
   ]
  },
  {
   "cell_type": "code",
   "execution_count": 239,
   "metadata": {},
   "outputs": [
    {
     "data": {
      "text/html": [
       "<div>\n",
       "<style scoped>\n",
       "    .dataframe tbody tr th:only-of-type {\n",
       "        vertical-align: middle;\n",
       "    }\n",
       "\n",
       "    .dataframe tbody tr th {\n",
       "        vertical-align: top;\n",
       "    }\n",
       "\n",
       "    .dataframe thead th {\n",
       "        text-align: right;\n",
       "    }\n",
       "</style>\n",
       "<table border=\"1\" class=\"dataframe\">\n",
       "  <thead>\n",
       "    <tr style=\"text-align: right;\">\n",
       "      <th></th>\n",
       "      <th>Queue ID</th>\n",
       "      <th>Project Name</th>\n",
       "      <th>Interconnecting Entity</th>\n",
       "      <th>County</th>\n",
       "      <th>State</th>\n",
       "      <th>Interconnection Location</th>\n",
       "      <th>Transmission Owner</th>\n",
       "      <th>Generation Type</th>\n",
       "      <th>Capacity (MW)</th>\n",
       "      <th>Summer Capacity (MW)</th>\n",
       "      <th>Winter Capacity (MW)</th>\n",
       "      <th>Queue Date</th>\n",
       "      <th>Status</th>\n",
       "      <th>Proposed Completion Date</th>\n",
       "      <th>Withdrawn Date</th>\n",
       "      <th>Withdrawal Comment</th>\n",
       "      <th>Actual Completion Date</th>\n",
       "      <th>Updated</th>\n",
       "      <th>Unit</th>\n",
       "      <th>Op Date</th>\n",
       "      <th>Sync Date</th>\n",
       "      <th>Serv</th>\n",
       "      <th>I39</th>\n",
       "      <th>Dev</th>\n",
       "      <th>Zone</th>\n",
       "      <th>FS</th>\n",
       "      <th>SIS</th>\n",
       "      <th>OS</th>\n",
       "      <th>FAC</th>\n",
       "      <th>IA</th>\n",
       "      <th>Project Status</th>\n",
       "    </tr>\n",
       "  </thead>\n",
       "  <tbody>\n",
       "    <tr>\n",
       "      <th>1054</th>\n",
       "      <td>350</td>\n",
       "      <td>Wind</td>\n",
       "      <td>None</td>\n",
       "      <td>Somerset</td>\n",
       "      <td>ME</td>\n",
       "      <td>CMP Wyman substation</td>\n",
       "      <td>ISO-NE</td>\n",
       "      <td>WND</td>\n",
       "      <td>96.900</td>\n",
       "      <td>96.900</td>\n",
       "      <td>96.900</td>\n",
       "      <td>11/10/2010</td>\n",
       "      <td>Withdrawn</td>\n",
       "      <td>10/1/2016</td>\n",
       "      <td>10/5/2015</td>\n",
       "      <td>None</td>\n",
       "      <td>None</td>\n",
       "      <td>10/5/2015</td>\n",
       "      <td>WT</td>\n",
       "      <td>12/31/2016</td>\n",
       "      <td>10/1/2016</td>\n",
       "      <td>NR</td>\n",
       "      <td>N</td>\n",
       "      <td>PD</td>\n",
       "      <td>ME</td>\n",
       "      <td>NaN</td>\n",
       "      <td>Y</td>\n",
       "      <td>NaN</td>\n",
       "      <td>NaN</td>\n",
       "      <td>NaN</td>\n",
       "      <td>None</td>\n",
       "    </tr>\n",
       "    <tr>\n",
       "      <th>1055</th>\n",
       "      <td>350</td>\n",
       "      <td>Wind</td>\n",
       "      <td>None</td>\n",
       "      <td>Washington</td>\n",
       "      <td>ME</td>\n",
       "      <td>BHE Washington County 115 kV substation</td>\n",
       "      <td>None</td>\n",
       "      <td>WND</td>\n",
       "      <td>92.250</td>\n",
       "      <td>92.250</td>\n",
       "      <td>92.250</td>\n",
       "      <td>11/10/2010</td>\n",
       "      <td>Withdrawn</td>\n",
       "      <td>10/1/2015</td>\n",
       "      <td>11/15/2013</td>\n",
       "      <td>None</td>\n",
       "      <td>None</td>\n",
       "      <td>10/1/2015</td>\n",
       "      <td>WT</td>\n",
       "      <td>12/31/2015</td>\n",
       "      <td>10/1/2015</td>\n",
       "      <td>NR</td>\n",
       "      <td>N</td>\n",
       "      <td>PD</td>\n",
       "      <td>BHE</td>\n",
       "      <td>NaN</td>\n",
       "      <td>N</td>\n",
       "      <td>NaN</td>\n",
       "      <td>NaN</td>\n",
       "      <td>NaN</td>\n",
       "      <td>None</td>\n",
       "    </tr>\n",
       "    <tr>\n",
       "      <th>1050</th>\n",
       "      <td>353</td>\n",
       "      <td>Wind</td>\n",
       "      <td>None</td>\n",
       "      <td>Plymouth</td>\n",
       "      <td>MA</td>\n",
       "      <td>NSTAR 115 kV Valley substation</td>\n",
       "      <td>ISO-NE</td>\n",
       "      <td>WND</td>\n",
       "      <td>9.900</td>\n",
       "      <td>9.900</td>\n",
       "      <td>9.900</td>\n",
       "      <td>12/21/2010</td>\n",
       "      <td>Withdrawn</td>\n",
       "      <td>11/30/2013</td>\n",
       "      <td>8/8/2012</td>\n",
       "      <td>None</td>\n",
       "      <td>None</td>\n",
       "      <td>8/8/2012</td>\n",
       "      <td>WT</td>\n",
       "      <td>12/31/2013</td>\n",
       "      <td>11/30/2013</td>\n",
       "      <td>CNR</td>\n",
       "      <td>N</td>\n",
       "      <td>BL</td>\n",
       "      <td>SEMA</td>\n",
       "      <td>NaN</td>\n",
       "      <td>Y</td>\n",
       "      <td>NaN</td>\n",
       "      <td>NaN</td>\n",
       "      <td>NaN</td>\n",
       "      <td>None</td>\n",
       "    </tr>\n",
       "    <tr>\n",
       "      <th>1051</th>\n",
       "      <td>353</td>\n",
       "      <td>Wind</td>\n",
       "      <td>None</td>\n",
       "      <td>Barnstable</td>\n",
       "      <td>MA</td>\n",
       "      <td>NSTAR 115 kV Valley substation</td>\n",
       "      <td>None</td>\n",
       "      <td>WND</td>\n",
       "      <td>14.900</td>\n",
       "      <td>14.900</td>\n",
       "      <td>14.900</td>\n",
       "      <td>12/21/2010</td>\n",
       "      <td>Withdrawn</td>\n",
       "      <td>10/31/2012</td>\n",
       "      <td>6/7/2011</td>\n",
       "      <td>None</td>\n",
       "      <td>None</td>\n",
       "      <td>6/9/2011</td>\n",
       "      <td>WT</td>\n",
       "      <td>11/30/2012</td>\n",
       "      <td>10/31/2012</td>\n",
       "      <td>CNR</td>\n",
       "      <td>N</td>\n",
       "      <td>None</td>\n",
       "      <td>SEMA</td>\n",
       "      <td>NaN</td>\n",
       "      <td>N</td>\n",
       "      <td>NaN</td>\n",
       "      <td>NaN</td>\n",
       "      <td>NaN</td>\n",
       "      <td>None</td>\n",
       "    </tr>\n",
       "    <tr>\n",
       "      <th>1042</th>\n",
       "      <td>358</td>\n",
       "      <td>Hydro</td>\n",
       "      <td>None</td>\n",
       "      <td>Penobscot</td>\n",
       "      <td>ME</td>\n",
       "      <td>BHE Stillwater 12.5 kV substation</td>\n",
       "      <td>None</td>\n",
       "      <td>WAT</td>\n",
       "      <td>2.274</td>\n",
       "      <td>2.274</td>\n",
       "      <td>2.274</td>\n",
       "      <td>3/4/2011</td>\n",
       "      <td>Withdrawn</td>\n",
       "      <td>8/1/2012</td>\n",
       "      <td>10/5/2011</td>\n",
       "      <td>None</td>\n",
       "      <td>None</td>\n",
       "      <td>10/6/2011</td>\n",
       "      <td>HD</td>\n",
       "      <td>8/15/2012</td>\n",
       "      <td>8/1/2012</td>\n",
       "      <td>CNR</td>\n",
       "      <td>N</td>\n",
       "      <td>None</td>\n",
       "      <td>BHE</td>\n",
       "      <td>NaN</td>\n",
       "      <td>N</td>\n",
       "      <td>NaN</td>\n",
       "      <td>NaN</td>\n",
       "      <td>NaN</td>\n",
       "      <td>None</td>\n",
       "    </tr>\n",
       "    <tr>\n",
       "      <th>1043</th>\n",
       "      <td>358</td>\n",
       "      <td>Hydro</td>\n",
       "      <td>None</td>\n",
       "      <td>Penobscot</td>\n",
       "      <td>ME</td>\n",
       "      <td>BHE Orono 12.5 kV substation</td>\n",
       "      <td>None</td>\n",
       "      <td>WAT</td>\n",
       "      <td>3.858</td>\n",
       "      <td>3.858</td>\n",
       "      <td>3.858</td>\n",
       "      <td>3/4/2011</td>\n",
       "      <td>Withdrawn</td>\n",
       "      <td>8/1/2012</td>\n",
       "      <td>4/11/2011</td>\n",
       "      <td>None</td>\n",
       "      <td>None</td>\n",
       "      <td>4/12/2011</td>\n",
       "      <td>HD</td>\n",
       "      <td>8/15/2012</td>\n",
       "      <td>8/1/2012</td>\n",
       "      <td>CNR</td>\n",
       "      <td>N</td>\n",
       "      <td>None</td>\n",
       "      <td>BHE</td>\n",
       "      <td>NaN</td>\n",
       "      <td>N</td>\n",
       "      <td>NaN</td>\n",
       "      <td>NaN</td>\n",
       "      <td>NaN</td>\n",
       "      <td>None</td>\n",
       "    </tr>\n",
       "    <tr>\n",
       "      <th>1026</th>\n",
       "      <td>368</td>\n",
       "      <td>Wind</td>\n",
       "      <td>None</td>\n",
       "      <td>Hillsborough</td>\n",
       "      <td>NH</td>\n",
       "      <td>PSNH 7.2 kV to Milford Substation</td>\n",
       "      <td>None</td>\n",
       "      <td>WND</td>\n",
       "      <td>10.000</td>\n",
       "      <td>10.000</td>\n",
       "      <td>10.000</td>\n",
       "      <td>5/27/2011</td>\n",
       "      <td>Withdrawn</td>\n",
       "      <td>9/1/2012</td>\n",
       "      <td>8/23/2011</td>\n",
       "      <td>None</td>\n",
       "      <td>None</td>\n",
       "      <td>6/10/2014</td>\n",
       "      <td>WT</td>\n",
       "      <td>9/30/2012</td>\n",
       "      <td>9/1/2012</td>\n",
       "      <td>CNR</td>\n",
       "      <td>N</td>\n",
       "      <td>None</td>\n",
       "      <td>NH</td>\n",
       "      <td>NaN</td>\n",
       "      <td>N</td>\n",
       "      <td>NaN</td>\n",
       "      <td>NaN</td>\n",
       "      <td>NaN</td>\n",
       "      <td>None</td>\n",
       "    </tr>\n",
       "    <tr>\n",
       "      <th>1027</th>\n",
       "      <td>368</td>\n",
       "      <td>Wind</td>\n",
       "      <td>None</td>\n",
       "      <td>Hillsborough</td>\n",
       "      <td>NH</td>\n",
       "      <td>PSNH 34.5 kV to Monadnock substation</td>\n",
       "      <td>ISO-NE</td>\n",
       "      <td>WND</td>\n",
       "      <td>16.100</td>\n",
       "      <td>16.100</td>\n",
       "      <td>16.100</td>\n",
       "      <td>5/27/2011</td>\n",
       "      <td>Withdrawn</td>\n",
       "      <td>10/1/2014</td>\n",
       "      <td>7/25/2013</td>\n",
       "      <td>None</td>\n",
       "      <td>None</td>\n",
       "      <td>7/25/2013</td>\n",
       "      <td>WT</td>\n",
       "      <td>10/31/2014</td>\n",
       "      <td>10/1/2014</td>\n",
       "      <td>CNR</td>\n",
       "      <td>Y</td>\n",
       "      <td>CD</td>\n",
       "      <td>NH</td>\n",
       "      <td>NaN</td>\n",
       "      <td>Y</td>\n",
       "      <td>NaN</td>\n",
       "      <td>NaN</td>\n",
       "      <td>NaN</td>\n",
       "      <td>None</td>\n",
       "    </tr>\n",
       "    <tr>\n",
       "      <th>1010</th>\n",
       "      <td>380</td>\n",
       "      <td>1000 MW HVDC Line</td>\n",
       "      <td>None</td>\n",
       "      <td>None</td>\n",
       "      <td>MA</td>\n",
       "      <td>NSTAR Carver 345 kV</td>\n",
       "      <td>None</td>\n",
       "      <td>None</td>\n",
       "      <td>NaN</td>\n",
       "      <td>NaN</td>\n",
       "      <td>NaN</td>\n",
       "      <td>11/10/2011</td>\n",
       "      <td>Withdrawn</td>\n",
       "      <td>1/1/2020</td>\n",
       "      <td>2/16/2015</td>\n",
       "      <td>None</td>\n",
       "      <td>None</td>\n",
       "      <td>2/17/2015</td>\n",
       "      <td>None</td>\n",
       "      <td>6/1/2020</td>\n",
       "      <td>1/1/2020</td>\n",
       "      <td>None</td>\n",
       "      <td>N</td>\n",
       "      <td>None</td>\n",
       "      <td>SEMA</td>\n",
       "      <td>NaN</td>\n",
       "      <td>N</td>\n",
       "      <td>NaN</td>\n",
       "      <td>NaN</td>\n",
       "      <td>NaN</td>\n",
       "      <td>None</td>\n",
       "    </tr>\n",
       "    <tr>\n",
       "      <th>1011</th>\n",
       "      <td>380</td>\n",
       "      <td>1000 MW HVDC Line</td>\n",
       "      <td>None</td>\n",
       "      <td>None</td>\n",
       "      <td>MA</td>\n",
       "      <td>NSTAR Barnstable 345 kV</td>\n",
       "      <td>None</td>\n",
       "      <td>None</td>\n",
       "      <td>NaN</td>\n",
       "      <td>NaN</td>\n",
       "      <td>NaN</td>\n",
       "      <td>11/10/2011</td>\n",
       "      <td>Withdrawn</td>\n",
       "      <td>1/1/2020</td>\n",
       "      <td>2/16/2015</td>\n",
       "      <td>None</td>\n",
       "      <td>None</td>\n",
       "      <td>2/17/2015</td>\n",
       "      <td>None</td>\n",
       "      <td>6/1/2020</td>\n",
       "      <td>1/1/2020</td>\n",
       "      <td>None</td>\n",
       "      <td>N</td>\n",
       "      <td>None</td>\n",
       "      <td>SEMA</td>\n",
       "      <td>NaN</td>\n",
       "      <td>N</td>\n",
       "      <td>NaN</td>\n",
       "      <td>NaN</td>\n",
       "      <td>NaN</td>\n",
       "      <td>None</td>\n",
       "    </tr>\n",
       "  </tbody>\n",
       "</table>\n",
       "</div>"
      ],
      "text/plain": [
       "      Queue ID       Project Name Interconnecting Entity        County State                 Interconnection Location Transmission Owner Generation Type  Capacity (MW)  Summer Capacity (MW)  Winter Capacity (MW)  Queue Date     Status Proposed Completion Date Withdrawn Date Withdrawal Comment Actual Completion Date    Updated  Unit     Op Date   Sync Date  Serv I39   Dev  Zone  FS SIS  OS  FAC  IA Project Status\n",
       "1054       350               Wind                   None      Somerset    ME                     CMP Wyman substation             ISO-NE             WND         96.900                96.900                96.900  11/10/2010  Withdrawn                10/1/2016      10/5/2015               None                   None  10/5/2015    WT  12/31/2016   10/1/2016    NR   N    PD    ME NaN   Y NaN  NaN NaN           None\n",
       "1055       350               Wind                   None    Washington    ME  BHE Washington County 115 kV substation               None             WND         92.250                92.250                92.250  11/10/2010  Withdrawn                10/1/2015     11/15/2013               None                   None  10/1/2015    WT  12/31/2015   10/1/2015    NR   N    PD   BHE NaN   N NaN  NaN NaN           None\n",
       "1050       353               Wind                   None      Plymouth    MA           NSTAR 115 kV Valley substation             ISO-NE             WND          9.900                 9.900                 9.900  12/21/2010  Withdrawn               11/30/2013       8/8/2012               None                   None   8/8/2012    WT  12/31/2013  11/30/2013   CNR   N    BL  SEMA NaN   Y NaN  NaN NaN           None\n",
       "1051       353               Wind                   None    Barnstable    MA           NSTAR 115 kV Valley substation               None             WND         14.900                14.900                14.900  12/21/2010  Withdrawn               10/31/2012       6/7/2011               None                   None   6/9/2011    WT  11/30/2012  10/31/2012   CNR   N  None  SEMA NaN   N NaN  NaN NaN           None\n",
       "1042       358              Hydro                   None     Penobscot    ME        BHE Stillwater 12.5 kV substation               None             WAT          2.274                 2.274                 2.274    3/4/2011  Withdrawn                 8/1/2012      10/5/2011               None                   None  10/6/2011    HD   8/15/2012    8/1/2012   CNR   N  None   BHE NaN   N NaN  NaN NaN           None\n",
       "1043       358              Hydro                   None     Penobscot    ME             BHE Orono 12.5 kV substation               None             WAT          3.858                 3.858                 3.858    3/4/2011  Withdrawn                 8/1/2012      4/11/2011               None                   None  4/12/2011    HD   8/15/2012    8/1/2012   CNR   N  None   BHE NaN   N NaN  NaN NaN           None\n",
       "1026       368               Wind                   None  Hillsborough    NH        PSNH 7.2 kV to Milford Substation               None             WND         10.000                10.000                10.000   5/27/2011  Withdrawn                 9/1/2012      8/23/2011               None                   None  6/10/2014    WT   9/30/2012    9/1/2012   CNR   N  None    NH NaN   N NaN  NaN NaN           None\n",
       "1027       368               Wind                   None  Hillsborough    NH     PSNH 34.5 kV to Monadnock substation             ISO-NE             WND         16.100                16.100                16.100   5/27/2011  Withdrawn                10/1/2014      7/25/2013               None                   None  7/25/2013    WT  10/31/2014   10/1/2014   CNR   Y    CD    NH NaN   Y NaN  NaN NaN           None\n",
       "1010       380  1000 MW HVDC Line                   None          None    MA                      NSTAR Carver 345 kV               None            None            NaN                   NaN                   NaN  11/10/2011  Withdrawn                 1/1/2020      2/16/2015               None                   None  2/17/2015  None    6/1/2020    1/1/2020  None   N  None  SEMA NaN   N NaN  NaN NaN           None\n",
       "1011       380  1000 MW HVDC Line                   None          None    MA                  NSTAR Barnstable 345 kV               None            None            NaN                   NaN                   NaN  11/10/2011  Withdrawn                 1/1/2020      2/16/2015               None                   None  2/17/2015  None    6/1/2020    1/1/2020  None   N  None  SEMA NaN   N NaN  NaN NaN           None"
      ]
     },
     "execution_count": 239,
     "metadata": {},
     "output_type": "execute_result"
    }
   ],
   "source": [
    "# duplicates (none Active) have all kinds of variation in values. Maybe best approach is to sort by date updated and take the latest one. It doesn't always differentiate them though.\n",
    "raw_isone.loc[raw_isone.duplicated(subset=compound_key, keep=False),:].sort_values(by=compound_key).tail(10)\n"
   ]
  },
  {
   "cell_type": "code",
   "execution_count": 250,
   "metadata": {},
   "outputs": [],
   "source": [
    "raw_isone['Updated'] = pd.to_datetime(raw_isone['Updated'])\n"
   ]
  },
  {
   "cell_type": "code",
   "execution_count": 263,
   "metadata": {},
   "outputs": [
    {
     "name": "stdout",
     "output_type": "stream",
     "text": [
      "<class 'pandas.core.frame.DataFrame'>\n",
      "Int64Index: 1572 entries, 0 to 1571\n",
      "Data columns (total 39 columns):\n",
      " #   Column                       Non-Null Count  Dtype         \n",
      "---  ------                       --------------  -----         \n",
      " 0   Queue ID                     1526 non-null   float64       \n",
      " 1   Project Name                 1526 non-null   object        \n",
      " 2   Interconnecting Entity       0 non-null      object        \n",
      " 3   County                       1423 non-null   object        \n",
      " 4   State                        1499 non-null   object        \n",
      " 5   Interconnection Location     1503 non-null   object        \n",
      " 6   Transmission Owner           590 non-null    object        \n",
      " 7   Generation Type              1272 non-null   object        \n",
      " 8   Capacity (MW)                1254 non-null   float64       \n",
      " 9   Summer Capacity (MW)         1271 non-null   float64       \n",
      " 10  Winter Capacity (MW)         1268 non-null   float64       \n",
      " 11  Queue Date                   1526 non-null   object        \n",
      " 12  Status                       1526 non-null   object        \n",
      " 13  Proposed Completion Date     1307 non-null   object        \n",
      " 14  Withdrawn Date               662 non-null    object        \n",
      " 15  Withdrawal Comment           0 non-null      object        \n",
      " 16  Actual Completion Date       0 non-null      object        \n",
      " 17  Updated                      1365 non-null   datetime64[ns]\n",
      " 18  Unit                         1265 non-null   object        \n",
      " 19  Op Date                      1515 non-null   object        \n",
      " 20  Sync Date                    1307 non-null   object        \n",
      " 21  Serv                         1066 non-null   object        \n",
      " 22  I39                          1526 non-null   object        \n",
      " 23  Dev                          702 non-null    object        \n",
      " 24  Zone                         1494 non-null   object        \n",
      " 25  FS                           0 non-null      float64       \n",
      " 26  SIS                          1526 non-null   object        \n",
      " 27  OS                           0 non-null      float64       \n",
      " 28  FAC                          0 non-null      float64       \n",
      " 29  IA                           0 non-null      float64       \n",
      " 30  Project Status               14 non-null     object        \n",
      " 31  queue_id                     1255 non-null   float64       \n",
      " 32  project_name                 1255 non-null   object        \n",
      " 33  queue_date                   1255 non-null   object        \n",
      " 34  queue_status                 1255 non-null   object        \n",
      " 35  interconnection_status_raw   1255 non-null   object        \n",
      " 36  interconnection_status_lbnl  1255 non-null   object        \n",
      " 37  in_lbnl                      1572 non-null   bool          \n",
      " 38  in_gs                        1572 non-null   bool          \n",
      "dtypes: bool(2), datetime64[ns](1), float64(9), object(27)\n",
      "memory usage: 469.8+ KB\n"
     ]
    }
   ],
   "source": [
    "# join manually rather than refactoring the func to take compound key\n",
    "lbnl_iso = lbnl.loc[lbnl[\"entity\"].eq(\"ISO-NE\"), LBNL_JOIN_COLS].astype({'queue_id': int})\n",
    "isone = raw_isone.sort_values('Updated').drop_duplicates(subset=compound_key, keep='last')\n",
    "isone = isone.merge(lbnl_iso, how=\"outer\", left_on=compound_key, right_on=[c.lower().replace(' ', '_') for c in compound_key])\n",
    "isone[\"in_lbnl\"] = ~isone[\"queue_id\"].isna()\n",
    "isone[\"in_gs\"] = ~isone[\"Queue ID\"].isna()\n",
    "del lbnl_iso\n",
    "isone.info()\n"
   ]
  },
  {
   "cell_type": "code",
   "execution_count": 264,
   "metadata": {},
   "outputs": [
    {
     "data": {
      "text/html": [
       "<div>\n",
       "<style scoped>\n",
       "    .dataframe tbody tr th:only-of-type {\n",
       "        vertical-align: middle;\n",
       "    }\n",
       "\n",
       "    .dataframe tbody tr th {\n",
       "        vertical-align: top;\n",
       "    }\n",
       "\n",
       "    .dataframe thead th {\n",
       "        text-align: right;\n",
       "    }\n",
       "</style>\n",
       "<table border=\"1\" class=\"dataframe\">\n",
       "  <thead>\n",
       "    <tr style=\"text-align: right;\">\n",
       "      <th></th>\n",
       "      <th>Queue ID</th>\n",
       "      <th>Project Name</th>\n",
       "      <th>Interconnecting Entity</th>\n",
       "      <th>County</th>\n",
       "      <th>State</th>\n",
       "      <th>Interconnection Location</th>\n",
       "      <th>Transmission Owner</th>\n",
       "      <th>Generation Type</th>\n",
       "      <th>Capacity (MW)</th>\n",
       "      <th>Summer Capacity (MW)</th>\n",
       "      <th>Winter Capacity (MW)</th>\n",
       "      <th>Queue Date</th>\n",
       "      <th>Status</th>\n",
       "      <th>Proposed Completion Date</th>\n",
       "      <th>Withdrawn Date</th>\n",
       "      <th>Withdrawal Comment</th>\n",
       "      <th>Actual Completion Date</th>\n",
       "      <th>Updated</th>\n",
       "      <th>Unit</th>\n",
       "      <th>Op Date</th>\n",
       "      <th>Sync Date</th>\n",
       "      <th>Serv</th>\n",
       "      <th>I39</th>\n",
       "      <th>Dev</th>\n",
       "      <th>Zone</th>\n",
       "      <th>FS</th>\n",
       "      <th>SIS</th>\n",
       "      <th>OS</th>\n",
       "      <th>FAC</th>\n",
       "      <th>IA</th>\n",
       "      <th>Project Status</th>\n",
       "      <th>queue_id</th>\n",
       "      <th>project_name</th>\n",
       "      <th>queue_date</th>\n",
       "      <th>queue_status</th>\n",
       "      <th>interconnection_status_raw</th>\n",
       "      <th>interconnection_status_lbnl</th>\n",
       "      <th>in_lbnl</th>\n",
       "      <th>in_gs</th>\n",
       "    </tr>\n",
       "  </thead>\n",
       "  <tbody>\n",
       "    <tr>\n",
       "      <th>0</th>\n",
       "      <td>188.0</td>\n",
       "      <td>Gas Turbine Capacity Increase( #178)</td>\n",
       "      <td>None</td>\n",
       "      <td>Plymouth</td>\n",
       "      <td>MA</td>\n",
       "      <td>115 kV F19 and/or E20 lines</td>\n",
       "      <td>None</td>\n",
       "      <td>DFO NG</td>\n",
       "      <td>NaN</td>\n",
       "      <td>69.0</td>\n",
       "      <td>0.0</td>\n",
       "      <td>12/7/2006</td>\n",
       "      <td>Withdrawn</td>\n",
       "      <td>4/1/2010</td>\n",
       "      <td>2/1/2007</td>\n",
       "      <td>None</td>\n",
       "      <td>None</td>\n",
       "      <td>2007-02-01</td>\n",
       "      <td>CC</td>\n",
       "      <td>6/1/2010</td>\n",
       "      <td>4/1/2010</td>\n",
       "      <td>MIS</td>\n",
       "      <td>N</td>\n",
       "      <td>None</td>\n",
       "      <td>SEMA</td>\n",
       "      <td>NaN</td>\n",
       "      <td>N</td>\n",
       "      <td>NaN</td>\n",
       "      <td>NaN</td>\n",
       "      <td>NaN</td>\n",
       "      <td>None</td>\n",
       "      <td>188.0</td>\n",
       "      <td>Gas Turbine Capacity Increase( #178)</td>\n",
       "      <td>07dec2006</td>\n",
       "      <td>withdrawn</td>\n",
       "      <td>Unknown/Not Started</td>\n",
       "      <td>In Progress (unknown study)</td>\n",
       "      <td>True</td>\n",
       "      <td>True</td>\n",
       "    </tr>\n",
       "    <tr>\n",
       "      <th>1</th>\n",
       "      <td>141.0</td>\n",
       "      <td>Gas Turbine</td>\n",
       "      <td>None</td>\n",
       "      <td>Middlesex</td>\n",
       "      <td>MA</td>\n",
       "      <td>115 kV O 167 line between Everett and Mystic S...</td>\n",
       "      <td>ISO-NE</td>\n",
       "      <td>DFO NG</td>\n",
       "      <td>NaN</td>\n",
       "      <td>200.0</td>\n",
       "      <td>200.0</td>\n",
       "      <td>12/14/2005</td>\n",
       "      <td>Withdrawn</td>\n",
       "      <td>8/31/2009</td>\n",
       "      <td>2/7/2007</td>\n",
       "      <td>None</td>\n",
       "      <td>None</td>\n",
       "      <td>2007-02-07</td>\n",
       "      <td>GT</td>\n",
       "      <td>9/30/2009</td>\n",
       "      <td>8/31/2009</td>\n",
       "      <td>MIS</td>\n",
       "      <td>N</td>\n",
       "      <td>None</td>\n",
       "      <td>BOST</td>\n",
       "      <td>NaN</td>\n",
       "      <td>N</td>\n",
       "      <td>NaN</td>\n",
       "      <td>NaN</td>\n",
       "      <td>NaN</td>\n",
       "      <td>None</td>\n",
       "      <td>141.0</td>\n",
       "      <td>Gas Turbine</td>\n",
       "      <td>14dec2005</td>\n",
       "      <td>withdrawn</td>\n",
       "      <td>Unknown/Not Started</td>\n",
       "      <td>In Progress (unknown study)</td>\n",
       "      <td>True</td>\n",
       "      <td>True</td>\n",
       "    </tr>\n",
       "  </tbody>\n",
       "</table>\n",
       "</div>"
      ],
      "text/plain": [
       "   Queue ID                          Project Name Interconnecting Entity     County State                           Interconnection Location Transmission Owner Generation Type  Capacity (MW)  Summer Capacity (MW)  Winter Capacity (MW)  Queue Date     Status Proposed Completion Date Withdrawn Date Withdrawal Comment Actual Completion Date    Updated Unit    Op Date  Sync Date Serv I39   Dev  Zone  FS SIS  OS  FAC  IA Project Status  queue_id                          project_name queue_date queue_status interconnection_status_raw  interconnection_status_lbnl  in_lbnl  in_gs\n",
       "0     188.0  Gas Turbine Capacity Increase( #178)                   None   Plymouth    MA                        115 kV F19 and/or E20 lines               None          DFO NG            NaN                  69.0                   0.0   12/7/2006  Withdrawn                 4/1/2010       2/1/2007               None                   None 2007-02-01   CC   6/1/2010   4/1/2010  MIS   N  None  SEMA NaN   N NaN  NaN NaN           None     188.0  Gas Turbine Capacity Increase( #178)  07dec2006    withdrawn        Unknown/Not Started  In Progress (unknown study)     True   True\n",
       "1     141.0                           Gas Turbine                   None  Middlesex    MA  115 kV O 167 line between Everett and Mystic S...             ISO-NE          DFO NG            NaN                 200.0                 200.0  12/14/2005  Withdrawn                8/31/2009       2/7/2007               None                   None 2007-02-07   GT  9/30/2009  8/31/2009  MIS   N  None  BOST NaN   N NaN  NaN NaN           None     141.0                           Gas Turbine  14dec2005    withdrawn        Unknown/Not Started  In Progress (unknown study)     True   True"
      ]
     },
     "execution_count": 264,
     "metadata": {},
     "output_type": "execute_result"
    }
   ],
   "source": [
    "isone.head(2)\n"
   ]
  },
  {
   "cell_type": "code",
   "execution_count": 265,
   "metadata": {},
   "outputs": [
    {
     "data": {
      "text/plain": [
       "in_gs  in_lbnl\n",
       "True   True       1209\n",
       "       False       317\n",
       "False  True         46\n",
       "dtype: int64"
      ]
     },
     "execution_count": 265,
     "metadata": {},
     "output_type": "execute_result"
    }
   ],
   "source": [
    "isone[[\"in_gs\", \"in_lbnl\"]].value_counts(dropna=False)\n"
   ]
  },
  {
   "cell_type": "code",
   "execution_count": 266,
   "metadata": {},
   "outputs": [
    {
     "data": {
      "text/plain": [
       "in_gs  in_lbnl\n",
       "True   True       1209\n",
       "       False       278\n",
       "False  True         46\n",
       "dtype: int64"
      ]
     },
     "execution_count": 266,
     "metadata": {},
     "output_type": "execute_result"
    }
   ],
   "source": [
    "# small improvement from date filter\n",
    "isone.loc[\n",
    "    pd.to_datetime(isone[\"Queue Date\"])\n",
    "    .fillna(pd.to_datetime(\"2020-01-01\"))\n",
    "    .lt(pd.to_datetime(\"2023-01-01\")),\n",
    "    [\"in_gs\", \"in_lbnl\"],\n",
    "].value_counts(dropna=False)\n"
   ]
  },
  {
   "cell_type": "code",
   "execution_count": 267,
   "metadata": {},
   "outputs": [
    {
     "data": {
      "text/plain": [
       "Status     queue_status\n",
       "Active     active          303\n",
       "           NaN             105\n",
       "Completed  active            2\n",
       "           operational     270\n",
       "           withdrawn         1\n",
       "           NaN              48\n",
       "Withdrawn  active           11\n",
       "           operational      29\n",
       "           withdrawn       593\n",
       "           NaN             164\n",
       "NaN        active           34\n",
       "           operational       6\n",
       "           withdrawn         6\n",
       "dtype: int64"
      ]
     },
     "execution_count": 267,
     "metadata": {},
     "output_type": "execute_result"
    }
   ],
   "source": [
    "# status values are decently aligned\n",
    "isone[[\"Status\", \"queue_status\"]].value_counts(dropna=False).sort_index()\n"
   ]
  },
  {
   "cell_type": "code",
   "execution_count": 268,
   "metadata": {},
   "outputs": [
    {
     "data": {
      "text/plain": [
       "Unknown/Not Started    778\n",
       "NaN                    317\n",
       "operational            305\n",
       "System Impact Study     68\n",
       "IA Executed             49\n",
       "Feasibility Study       31\n",
       "Not Started             18\n",
       "Facility Study           6\n",
       "Name: interconnection_status_raw, dtype: int64"
      ]
     },
     "execution_count": 268,
     "metadata": {},
     "output_type": "execute_result"
    }
   ],
   "source": [
    "isone['interconnection_status_raw'].value_counts(dropna=False)\n"
   ]
  },
  {
   "cell_type": "code",
   "execution_count": 269,
   "metadata": {},
   "outputs": [
    {
     "data": {
      "text/plain": [
       "interconnection_status_lbnl  interconnection_status_raw\n",
       "Facility Study               Facility Study                  6\n",
       "Feasibility Study            Feasibility Study              31\n",
       "IA Executed                  IA Executed                    49\n",
       "In Progress (unknown study)  Unknown/Not Started           778\n",
       "Not Started                  Not Started                    18\n",
       "Operational                  operational                   305\n",
       "System Impact Study          System Impact Study            68\n",
       "NaN                          NaN                           317\n",
       "dtype: int64"
      ]
     },
     "execution_count": 269,
     "metadata": {},
     "output_type": "execute_result"
    }
   ],
   "source": [
    "isone[['interconnection_status_lbnl', 'interconnection_status_raw']].value_counts(dropna=False).sort_index()\n"
   ]
  },
  {
   "cell_type": "code",
   "execution_count": 271,
   "metadata": {},
   "outputs": [
    {
     "data": {
      "text/plain": [
       "FS   SIS  OS   FAC  IA   Project Status                        \n",
       "NaN  N    NaN  NaN  NaN  CSIS                                        3\n",
       "                         Third Maine Resource Integration Study     11\n",
       "                         NaN                                       936\n",
       "     Y    NaN  NaN  NaN  NaN                                       576\n",
       "     NaN  NaN  NaN  NaN  NaN                                        46\n",
       "dtype: int64"
      ]
     },
     "metadata": {},
     "output_type": "display_data"
    }
   ],
   "source": [
    "status_cols_isone = [\n",
    "    \"FS\",\n",
    "    \"SIS\",\n",
    "    \"OS\",\n",
    "    \"FAC\",\n",
    "    \"IA\",\n",
    "    \"Project Status\",\n",
    "]\n",
    "with pd.option_context('display.max_rows', None):\n",
    "    display(isone[status_cols_isone].replace(['None'], np.nan).value_counts(dropna=False).where(lambda x: x>2).dropna().astype(int).sort_index())\n"
   ]
  },
  {
   "cell_type": "code",
   "execution_count": 273,
   "metadata": {},
   "outputs": [
    {
     "data": {
      "text/html": [
       "<div>\n",
       "<style scoped>\n",
       "    .dataframe tbody tr th:only-of-type {\n",
       "        vertical-align: middle;\n",
       "    }\n",
       "\n",
       "    .dataframe tbody tr th {\n",
       "        vertical-align: top;\n",
       "    }\n",
       "\n",
       "    .dataframe thead th {\n",
       "        text-align: right;\n",
       "    }\n",
       "</style>\n",
       "<table border=\"1\" class=\"dataframe\">\n",
       "  <thead>\n",
       "    <tr style=\"text-align: right;\">\n",
       "      <th></th>\n",
       "      <th>FS</th>\n",
       "      <th>SIS</th>\n",
       "      <th>OS</th>\n",
       "      <th>FAC</th>\n",
       "      <th>IA</th>\n",
       "      <th>Project Status</th>\n",
       "    </tr>\n",
       "  </thead>\n",
       "  <tbody>\n",
       "    <tr>\n",
       "      <th>0</th>\n",
       "      <td>NaN</td>\n",
       "      <td>N</td>\n",
       "      <td>NaN</td>\n",
       "      <td>NaN</td>\n",
       "      <td>NaN</td>\n",
       "      <td>None</td>\n",
       "    </tr>\n",
       "    <tr>\n",
       "      <th>1</th>\n",
       "      <td>NaN</td>\n",
       "      <td>N</td>\n",
       "      <td>NaN</td>\n",
       "      <td>NaN</td>\n",
       "      <td>NaN</td>\n",
       "      <td>None</td>\n",
       "    </tr>\n",
       "    <tr>\n",
       "      <th>2</th>\n",
       "      <td>NaN</td>\n",
       "      <td>N</td>\n",
       "      <td>NaN</td>\n",
       "      <td>NaN</td>\n",
       "      <td>NaN</td>\n",
       "      <td>None</td>\n",
       "    </tr>\n",
       "    <tr>\n",
       "      <th>3</th>\n",
       "      <td>NaN</td>\n",
       "      <td>N</td>\n",
       "      <td>NaN</td>\n",
       "      <td>NaN</td>\n",
       "      <td>NaN</td>\n",
       "      <td>None</td>\n",
       "    </tr>\n",
       "    <tr>\n",
       "      <th>4</th>\n",
       "      <td>NaN</td>\n",
       "      <td>N</td>\n",
       "      <td>NaN</td>\n",
       "      <td>NaN</td>\n",
       "      <td>NaN</td>\n",
       "      <td>None</td>\n",
       "    </tr>\n",
       "    <tr>\n",
       "      <th>...</th>\n",
       "      <td>...</td>\n",
       "      <td>...</td>\n",
       "      <td>...</td>\n",
       "      <td>...</td>\n",
       "      <td>...</td>\n",
       "      <td>...</td>\n",
       "    </tr>\n",
       "    <tr>\n",
       "      <th>1567</th>\n",
       "      <td>NaN</td>\n",
       "      <td>NaN</td>\n",
       "      <td>NaN</td>\n",
       "      <td>NaN</td>\n",
       "      <td>NaN</td>\n",
       "      <td>NaN</td>\n",
       "    </tr>\n",
       "    <tr>\n",
       "      <th>1568</th>\n",
       "      <td>NaN</td>\n",
       "      <td>NaN</td>\n",
       "      <td>NaN</td>\n",
       "      <td>NaN</td>\n",
       "      <td>NaN</td>\n",
       "      <td>NaN</td>\n",
       "    </tr>\n",
       "    <tr>\n",
       "      <th>1569</th>\n",
       "      <td>NaN</td>\n",
       "      <td>NaN</td>\n",
       "      <td>NaN</td>\n",
       "      <td>NaN</td>\n",
       "      <td>NaN</td>\n",
       "      <td>NaN</td>\n",
       "    </tr>\n",
       "    <tr>\n",
       "      <th>1570</th>\n",
       "      <td>NaN</td>\n",
       "      <td>NaN</td>\n",
       "      <td>NaN</td>\n",
       "      <td>NaN</td>\n",
       "      <td>NaN</td>\n",
       "      <td>NaN</td>\n",
       "    </tr>\n",
       "    <tr>\n",
       "      <th>1571</th>\n",
       "      <td>NaN</td>\n",
       "      <td>NaN</td>\n",
       "      <td>NaN</td>\n",
       "      <td>NaN</td>\n",
       "      <td>NaN</td>\n",
       "      <td>NaN</td>\n",
       "    </tr>\n",
       "  </tbody>\n",
       "</table>\n",
       "<p>1572 rows × 6 columns</p>\n",
       "</div>"
      ],
      "text/plain": [
       "      FS  SIS  OS  FAC  IA Project Status\n",
       "0    NaN    N NaN  NaN NaN           None\n",
       "1    NaN    N NaN  NaN NaN           None\n",
       "2    NaN    N NaN  NaN NaN           None\n",
       "3    NaN    N NaN  NaN NaN           None\n",
       "4    NaN    N NaN  NaN NaN           None\n",
       "...   ..  ...  ..  ...  ..            ...\n",
       "1567 NaN  NaN NaN  NaN NaN            NaN\n",
       "1568 NaN  NaN NaN  NaN NaN            NaN\n",
       "1569 NaN  NaN NaN  NaN NaN            NaN\n",
       "1570 NaN  NaN NaN  NaN NaN            NaN\n",
       "1571 NaN  NaN NaN  NaN NaN            NaN\n",
       "\n",
       "[1572 rows x 6 columns]"
      ]
     },
     "execution_count": 273,
     "metadata": {},
     "output_type": "execute_result"
    }
   ],
   "source": [
    "# gridstatus doesn't parse the status values, so they are all null. In their defense, the ISONE encodes them as alt text behind icons, which is stupid. But still.\n",
    "isone[status_cols_isone]\n"
   ]
  },
  {
   "cell_type": "code",
   "execution_count": 303,
   "metadata": {},
   "outputs": [
    {
     "data": {
      "text/plain": [
       "SUN                336\n",
       "None               260\n",
       "WND                232\n",
       "BAT                144\n",
       "NG                 132\n",
       "SUN BAT            118\n",
       "DFO NG             105\n",
       "WAT                 66\n",
       "WDS                 40\n",
       "DFO                 14\n",
       "LFG                 12\n",
       "BIT                 11\n",
       "NUC                 11\n",
       "WND BAT             10\n",
       "FC                   5\n",
       "WAT BAT              5\n",
       "KER NG               4\n",
       "DFO KER NG           4\n",
       "NG WO                3\n",
       "NG SUN BAT           2\n",
       "KER                  2\n",
       "JF KER NG            2\n",
       "BLQ WDS              2\n",
       "MSW                  2\n",
       "NG RFO               1\n",
       "DFO KER              1\n",
       "JF KER               1\n",
       "JF                   1\n",
       "BLQ DFO KER WDS      1\n",
       "NG WDS               1\n",
       "BIT RFO              1\n",
       "DFO SUB              1\n",
       "DFO WDS              1\n",
       "NG OTH               1\n",
       "JF NG                1\n",
       "Name: Generation Type, dtype: int64"
      ]
     },
     "execution_count": 303,
     "metadata": {},
     "output_type": "execute_result"
    }
   ],
   "source": [
    "raw_isone['Generation Type'].value_counts(dropna=False)\n"
   ]
  },
  {
   "cell_type": "markdown",
   "metadata": {},
   "source": []
  }
 ],
 "metadata": {
  "kernelspec": {
   "display_name": "Python 3 (ipykernel)",
   "language": "python",
   "name": "python3"
  },
  "language_info": {
   "codemirror_mode": {
    "name": "ipython",
    "version": 3
   },
   "file_extension": ".py",
   "mimetype": "text/x-python",
   "name": "python",
   "nbconvert_exporter": "python",
   "pygments_lexer": "ipython3",
   "version": "3.10.12"
  }
 },
 "nbformat": 4,
 "nbformat_minor": 4
}
