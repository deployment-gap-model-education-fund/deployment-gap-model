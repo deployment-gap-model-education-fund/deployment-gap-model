{
 "cells": [
  {
   "cell_type": "markdown",
   "metadata": {},
   "source": [
    "# GridStatus <-> LBNL Status Mapping\n",
    "\n",
    "GridStatus reads raw ISO queues. The LBNL queue statuses are standardized versions of ISO-specific categories. This notebook attempts to reverse engineer the mappings between the two."
   ]
  },
  {
   "cell_type": "code",
   "execution_count": null,
   "metadata": {},
   "outputs": [],
   "source": [
    "import pandas as pd\n",
    "from pathlib import Path\n",
    "import numpy as np\n",
    "\n",
    "from dbcp.extract.lbnl_iso_queue import extract\n"
   ]
  },
  {
   "cell_type": "markdown",
   "metadata": {},
   "source": [
    "## Get the data\n",
    "### LBNL-Compiled Queues"
   ]
  },
  {
   "cell_type": "code",
   "execution_count": null,
   "metadata": {},
   "outputs": [],
   "source": [
    "# partial implementation of transform. I don't want to include deduplication.\n",
    "def partial_transform(active_projects: pd.DataFrame) -> pd.DataFrame:\n",
    "    \"\"\"Transform active iso queue data.\"\"\"\n",
    "    rename_dict = {\n",
    "        \"state\": \"raw_state_name\",\n",
    "        \"county\": \"raw_county_name\",\n",
    "    }\n",
    "    active_projects = active_projects.rename(columns=rename_dict)  # copy\n",
    "    # Harmonize the interconnection_status_lbnl values.\n",
    "    mapping = {\n",
    "        \"Feasability Study\": \"Feasibility Study\",\n",
    "        \"Feasibility\": \"Feasibility Study\",\n",
    "        \"Facilities Study\": \"Facility Study\",\n",
    "        \"IA in Progress\": \"In Progress (unknown study)\",\n",
    "        \"Unknown\": \"In Progress (unknown study)\",\n",
    "        \"Withdrawn, Feasibility Study\": \"Withdrawn\",\n",
    "    }\n",
    "    active_projects.loc[:, \"interconnection_status_lbnl\"] = active_projects.loc[\n",
    "        :, \"interconnection_status_lbnl\"\n",
    "    ].replace(mapping)\n",
    "    # drop irrelevant columns (structurally all nan due to 'active' filter)\n",
    "    active_projects.drop(columns=[\"date_withdrawn\", \"date_operational\"], inplace=True)\n",
    "    return active_projects\n",
    "\n",
    "\n",
    "source_path = Path(\"/app/data/raw/queues_2022_clean_data.xlsx\")\n",
    "raw_lbnl = extract(source_path)[\"lbnl_iso_queue\"]\n",
    "lbnl = partial_transform(raw_lbnl)\n"
   ]
  },
  {
   "cell_type": "code",
   "execution_count": null,
   "metadata": {},
   "outputs": [],
   "source": [
    "lbnl.shape, lbnl.columns\n"
   ]
  },
  {
   "cell_type": "code",
   "execution_count": null,
   "metadata": {},
   "outputs": [],
   "source": [
    "lbnl.head(2)\n"
   ]
  },
  {
   "cell_type": "markdown",
   "metadata": {},
   "source": [
    "### GridStatus Queues"
   ]
  },
  {
   "cell_type": "code",
   "execution_count": null,
   "metadata": {},
   "outputs": [],
   "source": [
    "import dbcp\n",
    "\n",
    "# These are the revision numbers of the oldest archives we have\n",
    "iso_queue_versions: dict[str, str] = {\n",
    "    \"miso\": \"1681775160487863\",\n",
    "    \"caiso\": \"1681775162586588\",\n",
    "    \"pjm\": \"1681775160979859\",\n",
    "    \"ercot\": \"1681775161342766\",\n",
    "    \"spp\": \"1681775162935809\",\n",
    "    \"nyiso\": \"1681775159356063\",\n",
    "    \"isone\": \"1681775162111351\",\n",
    "}\n",
    "\n",
    "gs_dfs = dbcp.extract.gridstatus_isoqueues.extract(iso_queue_versions)"
   ]
  },
  {
   "cell_type": "code",
   "execution_count": null,
   "metadata": {},
   "outputs": [],
   "source": [
    "{k: v.shape for k, v in gs_dfs.items()}"
   ]
  },
  {
   "cell_type": "code",
   "execution_count": null,
   "metadata": {},
   "outputs": [],
   "source": [
    "# # These are manually downloaded from our archives. I went back as far as I could,\n",
    "# # which is April 17 2023.\n",
    "# # There is a 3.5 month gap between the LBNL queues and our oldest GridStatus archive.\n",
    "# root_path = Path(\"/app/data/raw/gridstatus/interconnection_queues\")\n",
    "# assert root_path.exists()\n",
    "# # filenames are like \"interconnection_queues_caiso_4-17-2023.parquet\"\n",
    "# gs_dfs = {\n",
    "#     path.name.split(\"_\")[2]: pd.read_parquet(path)\n",
    "#     for path in root_path.glob(\"*.parquet\")\n",
    "# }\n",
    "# {k: v.shape for k, v in gs_dfs.items()}\n"
   ]
  },
  {
   "cell_type": "code",
   "execution_count": null,
   "metadata": {},
   "outputs": [],
   "source": [
    "# wayyy fewer items in GridStatus than LBNL.\n",
    "sum([v.shape[0] for v in gs_dfs.values()]) - lbnl.shape[0]\n"
   ]
  },
  {
   "cell_type": "code",
   "execution_count": null,
   "metadata": {},
   "outputs": [],
   "source": [
    "lbnl.region.value_counts()"
   ]
  },
  {
   "cell_type": "code",
   "execution_count": null,
   "metadata": {},
   "outputs": [],
   "source": [
    "lbnl_iso = lbnl[~lbnl[\"region\"].str.contains(\"non-ISO\", na=False)].copy()"
   ]
  },
  {
   "cell_type": "code",
   "execution_count": null,
   "metadata": {},
   "outputs": [],
   "source": [
    "sum([v.shape[0] for v in gs_dfs.values()]) - lbnl_iso.shape[0]"
   ]
  },
  {
   "cell_type": "markdown",
   "metadata": {},
   "source": [
    "Gridstatus has more ISO projects"
   ]
  },
  {
   "cell_type": "code",
   "execution_count": null,
   "metadata": {},
   "outputs": [],
   "source": [
    "# globals().update(gs_dfs)  # this works fine but the static type checker/linter can't introspect it.\n",
    "raw_ercot = gs_dfs[\"ercot\"]\n",
    "raw_nyiso = gs_dfs[\"nyiso\"]\n",
    "raw_isone = gs_dfs[\"isone\"]\n",
    "raw_miso = gs_dfs[\"miso\"]\n",
    "raw_pjm = gs_dfs[\"pjm\"]\n",
    "raw_spp = gs_dfs[\"spp\"]\n",
    "raw_caiso = gs_dfs[\"caiso\"]\n"
   ]
  },
  {
   "cell_type": "code",
   "execution_count": null,
   "metadata": {},
   "outputs": [],
   "source": [
    "LBNL_JOIN_COLS = [\n",
    "    \"queue_id\",  # join key\n",
    "    \"project_name\",  # for manually checking the joins\n",
    "    \"queue_date\",  # for manually checking the joins\n",
    "    \"queue_status\",  # for manually checking the joins\n",
    "    \"interconnection_status_raw\",  # see what LBNL interpreted\n",
    "    \"interconnection_status_lbnl\",  # final mapping value\n",
    "    \"capacity_mw_resource_1\",\n",
    "    \"resource_type_1\"\n",
    "    \n",
    "]\n",
    "\n",
    "\n",
    "def join_lbnl(\n",
    "    iso_df: pd.DataFrame, lbnl: pd.DataFrame, iso_name: str, iso_id_col=\"Queue ID\"\n",
    ") -> pd.DataFrame:\n",
    "    \"\"\"Join LBNL queue data to GridStatus queue data.\"\"\"\n",
    "    assert iso_df[iso_id_col].is_unique, \"ID column not unique\"\n",
    "    lbnl_iso = lbnl.loc[lbnl[\"entity\"].eq(iso_name), LBNL_JOIN_COLS]\n",
    "    assert not lbnl_iso.empty, f\"Empty LBNL queue for {iso_name}\"\n",
    "    assert lbnl_iso[\"queue_id\"].is_unique, \"LBNL queue ID not unique\"\n",
    "    out = iso_df.merge(lbnl_iso, how=\"outer\", left_on=iso_id_col, right_on=\"queue_id\")\n",
    "    out[\"in_lbnl\"] = ~out[\"queue_id\"].isna()\n",
    "    out[\"in_gs\"] = ~out[iso_id_col].isna()\n",
    "    return out\n"
   ]
  },
  {
   "cell_type": "markdown",
   "metadata": {},
   "source": [
    "## Comparisons\n",
    "### ERCOT\n",
    "* ERCOT's queue document has separate excel sheets for large and small (< 20MW) projects, and does not list withdrawn projects. GridStatus only includes large projects, whereas LBNL data includes the other categories. I'm not sure where LBNL gets the withdrawn projects from.\n",
    "  * We might be able to maintain a withdrawn list by 1) getting all the current withdrawn projects from the LBNL data, then 2) loading all the archived GridStatus ERCOT queues and checking for any projects that enter then exit the list. But I don't think we actually need a withdrawn list?\n",
    "* GridStatus defines \"status\" as \"IA Signed\".isna(). LBNL calls the entire \"large active\" dataset \"active\"."
   ]
  },
  {
   "cell_type": "code",
   "execution_count": null,
   "metadata": {},
   "outputs": [],
   "source": [
    "raw_ercot.columns\n"
   ]
  },
  {
   "cell_type": "code",
   "execution_count": null,
   "metadata": {},
   "outputs": [],
   "source": [
    "ercot = join_lbnl(raw_ercot, lbnl, \"ERCOT\")\n",
    "ercot.info()\n"
   ]
  },
  {
   "cell_type": "code",
   "execution_count": null,
   "metadata": {},
   "outputs": [],
   "source": [
    "ercot[[\"in_gs\", \"in_lbnl\"]].value_counts(dropna=False)\n"
   ]
  },
  {
   "cell_type": "code",
   "execution_count": null,
   "metadata": {},
   "outputs": [],
   "source": [
    "ercot.loc[\n",
    "    ercot[\"Queue Date\"]\n",
    "    .fillna(pd.to_datetime(\"2020-01-01\"))\n",
    "    .lt(pd.to_datetime(\"2023-01-01\")),\n",
    "    [\"in_gs\", \"in_lbnl\"],\n",
    "].value_counts(dropna=False)\n"
   ]
  },
  {
   "cell_type": "code",
   "execution_count": null,
   "metadata": {},
   "outputs": [],
   "source": [
    "ercot[[\"Status\", \"queue_status\"]].value_counts(dropna=False)\n"
   ]
  },
  {
   "cell_type": "code",
   "execution_count": null,
   "metadata": {},
   "outputs": [],
   "source": [
    "ercot.loc[\n",
    "    ercot[\"Queue Date\"]\n",
    "    .fillna(pd.to_datetime(\"2020-01-01\"))\n",
    "    .lt(pd.to_datetime(\"2023-01-01\")),\n",
    "    [\"Status\", \"queue_status\"],\n",
    "].value_counts(dropna=False)\n"
   ]
  },
  {
   "cell_type": "code",
   "execution_count": null,
   "metadata": {},
   "outputs": [],
   "source": [
    "ercot[[\"GIM Study Phase\", \"queue_status\"]].value_counts(dropna=False)\n"
   ]
  },
  {
   "cell_type": "code",
   "execution_count": null,
   "metadata": {},
   "outputs": [],
   "source": [
    "ercot[\"Queue Date\"].eq(pd.to_datetime(ercot[\"queue_date\"])).where(\n",
    "    (ercot[\"Queue Date\"].notna() & ercot[\"queue_date\"].notnull())\n",
    ").value_counts(dropna=False)\n"
   ]
  },
  {
   "cell_type": "code",
   "execution_count": null,
   "metadata": {},
   "outputs": [],
   "source": [
    "# get old version of ercot data from December 2022\n",
    "old_ercot_path = Path(\"/app/data/raw/gridstatus/GIS_Report_December_2022.xlsx\")\n",
    "assert old_ercot_path.exists()\n",
    "\n",
    "# copy and paste some GridStatus ETL code\n",
    "def extract_ercot(path: Path) -> pd.DataFrame:\n",
    "    queue = pd.read_excel(\n",
    "        path,\n",
    "        sheet_name=\"Project Details - Large Gen\",\n",
    "        skiprows=30,\n",
    "    ).iloc[4:]\n",
    "\n",
    "    queue[\"State\"] = \"Texas\"\n",
    "    queue[\"Queue Date\"] = queue[\"Screening Study Started\"]\n",
    "\n",
    "    fuel_type_map = {\n",
    "        \"BIO\": \"Biomass\",\n",
    "        \"COA\": \"Coal\",\n",
    "        \"GAS\": \"Gas\",\n",
    "        \"GEO\": \"Geothermal\",\n",
    "        \"HYD\": \"Hydrogen\",\n",
    "        \"NUC\": \"Nuclear\",\n",
    "        \"OIL\": \"Fuel Oil\",\n",
    "        \"OTH\": \"Other\",\n",
    "        \"PET\": \"Petcoke\",\n",
    "        \"SOL\": \"Solar\",\n",
    "        \"WAT\": \"Water\",\n",
    "        \"WIN\": \"Wind\",\n",
    "    }\n",
    "\n",
    "    technology_type_map = {\n",
    "        \"BA\": \"Battery Energy Storage\",\n",
    "        \"CC\": \"Combined-Cycle\",\n",
    "        \"CE\": \"Compressed Air Energy Storage\",\n",
    "        \"CP\": \"Concentrated Solar Power\",\n",
    "        \"EN\": \"Energy Storage\",\n",
    "        \"FC\": \"Fuel Cell\",\n",
    "        \"GT\": \"Combustion (gas) Turbine, but not part of a Combined-Cycle\",\n",
    "        \"HY\": \"Hydroelectric Turbine\",\n",
    "        \"IC\": \"Internal Combustion Engine, eg. Reciprocating\",\n",
    "        \"OT\": \"Other\",\n",
    "        \"PV\": \"Photovoltaic Solar\",\n",
    "        \"ST\": \"Steam Turbine other than Combined-Cycle\",\n",
    "        \"WT\": \"Wind Turbine\",\n",
    "    }\n",
    "\n",
    "    queue[\"Fuel\"] = queue[\"Fuel\"].map(fuel_type_map)\n",
    "    queue[\"Technology\"] = queue[\"Technology\"].map(technology_type_map)\n",
    "\n",
    "    queue[\"Generation Type\"] = queue[\"Fuel\"] + \" - \" + queue[\"Technology\"]\n",
    "\n",
    "    queue[\"Status\"] = (\n",
    "        queue[\"IA Signed\"]\n",
    "        .isna()\n",
    "        .map(\n",
    "            {\n",
    "                True: \"Active\",\n",
    "                False: \"Completed\",\n",
    "            },\n",
    "        )\n",
    "    )\n",
    "\n",
    "    queue[\"Actual Completion Date\"] = queue[\"Approved for Synchronization\"]\n",
    "\n",
    "    rename = {\n",
    "        \"INR\": \"Queue ID\",\n",
    "        \"Project Name\": \"Project Name\",\n",
    "        \"Interconnecting Entity\": \"Interconnecting Entity\",\n",
    "        \"Projected COD\": \"Proposed Completion Date\",\n",
    "        \"POI Location\": \"Interconnection Location\",\n",
    "        \"County\": \"County\",\n",
    "        \"State\": \"State\",\n",
    "        \"Capacity (MW)\": \"Capacity (MW)\",\n",
    "        \"Queue Date\": \"Queue Date\",\n",
    "        \"Generation Type\": \"Generation Type\",\n",
    "        \"Actual Completion Date\": \"Actual Completion Date\",\n",
    "        \"Status\": \"Status\",\n",
    "    }\n",
    "    return queue.rename(columns=rename)\n",
    "old_ercot = extract_ercot(old_ercot_path)\n",
    "old_ercot.info()\n"
   ]
  },
  {
   "cell_type": "code",
   "execution_count": null,
   "metadata": {},
   "outputs": [],
   "source": [
    "old_ercot = join_lbnl(old_ercot, lbnl, \"ERCOT\", iso_id_col=\"Queue ID\")\n"
   ]
  },
  {
   "cell_type": "code",
   "execution_count": null,
   "metadata": {},
   "outputs": [],
   "source": [
    "old_ercot[[\"in_gs\", \"in_lbnl\"]].value_counts(dropna=False)\n"
   ]
  },
  {
   "cell_type": "code",
   "execution_count": null,
   "metadata": {},
   "outputs": [],
   "source": [
    "old_ercot[[\"Status\", \"queue_status\"]].value_counts(dropna=False)\n"
   ]
  },
  {
   "cell_type": "code",
   "execution_count": null,
   "metadata": {},
   "outputs": [],
   "source": [
    "pd.concat(\n",
    "    (\n",
    "        ercot[[\"Status\", \"queue_status\"]].value_counts(dropna=False).rename(\"gs\"),\n",
    "        old_ercot[[\"Status\", \"queue_status\"]].value_counts(dropna=False).rename(\"old\"),\n",
    "    ),\n",
    "    axis=1,\n",
    "    join=\"outer\",\n",
    ").sort_index().drop_duplicates()\n"
   ]
  },
  {
   "cell_type": "code",
   "execution_count": null,
   "metadata": {},
   "outputs": [],
   "source": [
    "old_ercot[\"Queue Date\"].eq(pd.to_datetime(old_ercot[\"queue_date\"])).where(\n",
    "    (old_ercot[\"Queue Date\"].notna() & old_ercot[\"queue_date\"].notnull())\n",
    ").value_counts(dropna=False)\n"
   ]
  },
  {
   "cell_type": "code",
   "execution_count": null,
   "metadata": {},
   "outputs": [],
   "source": [
    "old_ercot[\"Queue Date\"].sub(pd.to_datetime(old_ercot[\"queue_date\"])).lt(pd.Timedelta(days=2)).where(\n",
    "    (old_ercot[\"Queue Date\"].notna() & old_ercot[\"queue_date\"].notnull())\n",
    ").value_counts(dropna=False)\n"
   ]
  },
  {
   "cell_type": "code",
   "execution_count": null,
   "metadata": {},
   "outputs": [],
   "source": [
    "old_ercot[\"Queue Date\"].sub(pd.to_datetime(old_ercot[\"queue_date\"])).dt.total_seconds().div(60 * 60 * 24).replace(0, 1e-1).transform(np.log10).hist(bins=20, log=True)\n"
   ]
  },
  {
   "cell_type": "code",
   "execution_count": null,
   "metadata": {},
   "outputs": [],
   "source": [
    "mismatched_dates = (\n",
    "    old_ercot[\"Queue Date\"]\n",
    "    .ne(pd.to_datetime(old_ercot[\"queue_date\"]))\n",
    "    .where((old_ercot[\"Queue Date\"].notna() & old_ercot[\"queue_date\"].notnull()))\n",
    ").fillna(False)\n"
   ]
  },
  {
   "cell_type": "code",
   "execution_count": null,
   "metadata": {},
   "outputs": [],
   "source": [
    "# none of the dates match. No idea where LBNL queue date comes from. Not from the ISO data!\n",
    "old_ercot.loc[mismatched_dates, [c for c in old_ercot.columns if 'date' in c.lower()]]\n"
   ]
  },
  {
   "cell_type": "code",
   "execution_count": null,
   "metadata": {},
   "outputs": [],
   "source": [
    "old_ercot[['GIM Study Phase', 'interconnection_status_raw']].value_counts(dropna=False).sort_index()\n"
   ]
  },
  {
   "cell_type": "code",
   "execution_count": null,
   "metadata": {},
   "outputs": [],
   "source": [
    "old_ercot['GIM Study Phase'].eq(old_ercot['interconnection_status_raw']).value_counts(dropna=False)\n"
   ]
  },
  {
   "cell_type": "code",
   "execution_count": null,
   "metadata": {},
   "outputs": [],
   "source": [
    "# LBNL status looks consistently applied (1:1) but the ordering doesn't really make sense to me.\n",
    "raw_status_match = old_ercot['GIM Study Phase'].eq(old_ercot['interconnection_status_raw'])\n",
    "old_ercot.loc[raw_status_match, ['GIM Study Phase', 'interconnection_status_lbnl']].value_counts(dropna=False).sort_index()\n"
   ]
  },
  {
   "cell_type": "code",
   "execution_count": null,
   "metadata": {},
   "outputs": [],
   "source": [
    "old_ercot.loc[raw_status_match, ['GIM Study Phase', 'queue_status']].value_counts(dropna=False).sort_index()\n"
   ]
  },
  {
   "cell_type": "code",
   "execution_count": null,
   "metadata": {},
   "outputs": [],
   "source": [
    "# also includes technology type, which is nice.\n",
    "raw_ercot['Generation Type'].value_counts(dropna=False)\n"
   ]
  },
  {
   "cell_type": "markdown",
   "metadata": {},
   "source": [
    "### NYISO\n",
    "\n",
    "* LBNL appears to have used the column labeled `S`, which is an ordinal status number corresponding to NYISO's LFIP. Key:\n",
    "  * 0=Withdrawn\n",
    "  * 1=Scoping Meeting Pending\n",
    "  * 2=FES Pending\n",
    "  * 3=FES in Progress\n",
    "  * 4=SRIS/SIS Pending\n",
    "  * 5=SRIS/SIS in Progress\n",
    "  * 6=SRIS/SIS Approved\n",
    "  * 7=FS Pending\n",
    "  * 8=Rejected Cost Allocation/Next FS Pending\n",
    "  * 9=FS in Progress\n",
    "  * 10=Accepted Cost Allocation/IA in Progress\n",
    "  * 11=IA Completed\n",
    "  * 12=Under Construction\n",
    "  * 13=In Service for Test\n",
    "  * 14=In Service Commercial\n",
    "  * 15=Partial In-Service\n",
    "* Availability of Studies  Key: None=Not Available, FES=Feasibility Study Available, SRIS=System Reliability Impact Study Available, FS=Facilities Study and/or ATRA Available\n",
    "* CY Completion/SGIA Tender refers to the Attachment X milestone used to apply the 4-year COD limitation.\n"
   ]
  },
  {
   "cell_type": "code",
   "execution_count": null,
   "metadata": {},
   "outputs": [],
   "source": [
    "raw_nyiso.columns\n"
   ]
  },
  {
   "cell_type": "code",
   "execution_count": null,
   "metadata": {},
   "outputs": [],
   "source": [
    "raw_nyiso[raw_nyiso[\"Queue ID\"].duplicated(keep=False)]"
   ]
  },
  {
   "cell_type": "code",
   "execution_count": null,
   "metadata": {},
   "outputs": [],
   "source": [
    "# I don't know which is correct (if either), but I'll guess that the later one is. So keep='last'\n",
    "raw_nyiso.loc[raw_nyiso.duplicated(subset='Queue ID', keep=False), :].sort_values(by='Queue ID')\n"
   ]
  },
  {
   "cell_type": "code",
   "execution_count": null,
   "metadata": {},
   "outputs": [],
   "source": [
    "nyiso = join_lbnl(raw_nyiso.drop_duplicates(subset='Queue ID', keep='last'), lbnl, \"NYISO\")\n",
    "nyiso.info()\n"
   ]
  },
  {
   "cell_type": "code",
   "execution_count": null,
   "metadata": {},
   "outputs": [],
   "source": [
    "nyiso.head()\n"
   ]
  },
  {
   "cell_type": "code",
   "execution_count": null,
   "metadata": {},
   "outputs": [],
   "source": [
    "nyiso[[\"in_gs\", \"in_lbnl\"]].value_counts(dropna=False)\n"
   ]
  },
  {
   "cell_type": "code",
   "execution_count": null,
   "metadata": {},
   "outputs": [],
   "source": [
    "# marginal improvement from date filter\n",
    "nyiso.loc[\n",
    "    nyiso[\"Queue Date\"]\n",
    "    .fillna(pd.to_datetime(\"2020-01-01\"))\n",
    "    .lt(pd.to_datetime(\"2023-01-01\")),\n",
    "    [\"in_gs\", \"in_lbnl\"],\n",
    "].value_counts(dropna=False)\n"
   ]
  },
  {
   "cell_type": "code",
   "execution_count": null,
   "metadata": {},
   "outputs": [],
   "source": [
    "\n",
    "nyiso[[\"Status\", \"queue_status\"]].value_counts(dropna=False).sort_index()\n"
   ]
  },
  {
   "cell_type": "markdown",
   "metadata": {},
   "source": [
    "Why are there so many projects that have a status in GridStatus but no status in LBNL? NYISO has separate sheets for withdrawn, in service and active. Why is LBNL missing so much information?"
   ]
  },
  {
   "cell_type": "code",
   "execution_count": null,
   "metadata": {},
   "outputs": [],
   "source": [
    "nyiso.loc[\n",
    "    nyiso[\"Queue Date\"]\n",
    "    .fillna(pd.to_datetime(\"2020-01-01\"))\n",
    "    .lt(pd.to_datetime(\"2023-01-01\")),\n",
    "    [\"Status\", \"queue_status\"],\n",
    "].value_counts(dropna=False).sort_index()\n"
   ]
  },
  {
   "cell_type": "code",
   "execution_count": null,
   "metadata": {},
   "outputs": [],
   "source": [
    "nyiso['interconnection_status_raw'].str.replace(' ', '').replace([np.nan, None, 'None'], '').str.split(',').apply(lambda x: ','.join(sorted(set(x)))).value_counts(dropna=False)\n"
   ]
  },
  {
   "cell_type": "code",
   "execution_count": null,
   "metadata": {},
   "outputs": [],
   "source": [
    "nyiso['Availability of Studies'].str.replace(r'[ \\d]', '', regex=True).replace([np.nan, None, 'None'], '').str.split(',').apply(lambda x: ','.join(sorted(set(x).difference({'CY'})))).value_counts(dropna=False)\n"
   ]
  },
  {
   "cell_type": "code",
   "execution_count": null,
   "metadata": {},
   "outputs": [],
   "source": [
    "nyiso[\"simplified_studies\"] = (\n",
    "    nyiso[\"Availability of Studies\"]\n",
    "    .str.replace(r\"[ \\d]\", \"\", regex=True)\n",
    "    .replace([np.nan, None, \"None\"], \"\")\n",
    "    .str.split(\",\")\n",
    "    .apply(lambda x: \",\".join(sorted(set(x).difference({\"CY\"}))))\n",
    "    .replace('', np.nan)\n",
    ")\n",
    "nyiso[\"simplified_lbnl_raw\"] = (\n",
    "    nyiso[\"interconnection_status_raw\"]\n",
    "    .str.replace(\" \", \"\")\n",
    "    .replace([np.nan, None, \"None\"], \"\")\n",
    "    .str.split(\",\")\n",
    "    .apply(lambda x: \",\".join(sorted(set(x))))\n",
    "    .replace('', np.nan)\n",
    ")\n"
   ]
  },
  {
   "cell_type": "code",
   "execution_count": null,
   "metadata": {},
   "outputs": [],
   "source": [
    "nyiso['S'].value_counts(dropna=False)\n"
   ]
  },
  {
   "cell_type": "code",
   "execution_count": null,
   "metadata": {},
   "outputs": [],
   "source": [
    "pd.to_numeric(nyiso['S'].astype('string').str.split(',').str[-1], errors='raise').astype(pd.UInt8Dtype()).value_counts(dropna=False)\n"
   ]
  },
  {
   "cell_type": "code",
   "execution_count": null,
   "metadata": {},
   "outputs": [],
   "source": [
    "nyiso[\"s_simplified\"] = pd.to_numeric(nyiso['S'].astype('string').str.split(',').str[-1], errors='raise').astype(pd.UInt8Dtype())\n"
   ]
  },
  {
   "cell_type": "code",
   "execution_count": null,
   "metadata": {},
   "outputs": [],
   "source": [
    "nyiso[[\"queue_status\", \"simplified_studies\"]].value_counts(dropna=False).sort_index()\n"
   ]
  },
  {
   "cell_type": "code",
   "execution_count": null,
   "metadata": {},
   "outputs": [],
   "source": [
    "nyiso[[\"simplified_lbnl_raw\", \"simplified_studies\"]].value_counts(dropna=False).sort_index()\n"
   ]
  },
  {
   "cell_type": "code",
   "execution_count": null,
   "metadata": {},
   "outputs": [],
   "source": [
    "nyiso[\"simplified_lbnl_raw\"].astype('string').eq(nyiso[\"simplified_studies\"].astype('string')).value_counts(dropna=False)\n"
   ]
  },
  {
   "cell_type": "code",
   "execution_count": null,
   "metadata": {},
   "outputs": [],
   "source": [
    "nyiso[[\"queue_status\", \"s_simplified\"]].value_counts(dropna=False).sort_index()\n"
   ]
  },
  {
   "cell_type": "code",
   "execution_count": null,
   "metadata": {},
   "outputs": [],
   "source": [
    "nyiso[[\"s_simplified\", \"simplified_studies\"]].value_counts(dropna=False).sort_index()\n"
   ]
  },
  {
   "cell_type": "code",
   "execution_count": null,
   "metadata": {},
   "outputs": [],
   "source": [
    "nyiso[[\"s_simplified\", \"simplified_lbnl_raw\"]].value_counts(dropna=False).sort_index()\n"
   ]
  },
  {
   "cell_type": "code",
   "execution_count": null,
   "metadata": {},
   "outputs": [],
   "source": [
    "nyiso[[\"interconnection_status_lbnl\", \"s_simplified\"]].value_counts(dropna=False).sort_index()\n"
   ]
  },
  {
   "cell_type": "code",
   "execution_count": null,
   "metadata": {},
   "outputs": [],
   "source": [
    "nyiso[\"Queue Date\"].eq(pd.to_datetime(nyiso[\"queue_date\"])).where(\n",
    "    (nyiso[\"Queue Date\"].notna() & nyiso[\"queue_date\"].notnull())\n",
    ").value_counts(dropna=False)\n"
   ]
  },
  {
   "cell_type": "code",
   "execution_count": null,
   "metadata": {},
   "outputs": [],
   "source": [
    "# needs standardization\n",
    "raw_nyiso['Generation Type'].value_counts(dropna=False)\n"
   ]
  },
  {
   "cell_type": "markdown",
   "metadata": {},
   "source": [
    "### NYISO Capacity Comparison\n",
    "- Compare total capacity for projects in lbnl and gs\n",
    "- Compare total capacity for active projects in lbnl and gs\n",
    "- Compare total capacity for active projects\n",
    "- Compare capacity by fuel type? Might challenging because the categories are all over the place"
   ]
  },
  {
   "cell_type": "markdown",
   "metadata": {},
   "source": [
    "#### Compare total capacity for projects in both"
   ]
  },
  {
   "cell_type": "code",
   "execution_count": null,
   "metadata": {},
   "outputs": [],
   "source": [
    "both_nyiso = nyiso[nyiso.in_lbnl & nyiso.in_gs].copy()\n",
    "print(nyiso.shape)\n",
    "print(both_nyiso.shape)"
   ]
  },
  {
   "cell_type": "code",
   "execution_count": null,
   "metadata": {},
   "outputs": [],
   "source": [
    "both_nyiso.info()"
   ]
  },
  {
   "cell_type": "code",
   "execution_count": null,
   "metadata": {},
   "outputs": [],
   "source": [
    "gs_nyiso_cap = both_nyiso[\"Capacity (MW)\"].sum()\n",
    "lbnl_nyiso_cap = both_nyiso[\"capacity_mw_resource_1\"].sum()\n",
    "\n",
    "print(gs_nyiso_cap)\n",
    "print(lbnl_nyiso_cap)\n",
    "print(lbnl_nyiso_cap / gs_nyiso_cap)"
   ]
  },
  {
   "cell_type": "markdown",
   "metadata": {},
   "source": [
    "Ok! Projects that exist in both have very similar total capacities! That's a good start. I could look into which projects have different capacity values but the amount is so minor that I'm going to skip for now."
   ]
  },
  {
   "cell_type": "markdown",
   "metadata": {},
   "source": [
    "#### Compare total capacity for **active** projects in both"
   ]
  },
  {
   "cell_type": "code",
   "execution_count": null,
   "metadata": {},
   "outputs": [],
   "source": [
    "both_nyiso[\"queue_status\"].value_counts()"
   ]
  },
  {
   "cell_type": "code",
   "execution_count": null,
   "metadata": {},
   "outputs": [],
   "source": [
    "both_nyiso[[\"Status\", \"queue_status\"]].value_counts(dropna=False)"
   ]
  },
  {
   "cell_type": "markdown",
   "metadata": {},
   "source": [
    "There are some active LBNL projects that have been withdrawn maybe because the GS data is a bit fresher? If so the withdrawl dates should be after 2022-12-31."
   ]
  },
  {
   "cell_type": "code",
   "execution_count": null,
   "metadata": {},
   "outputs": [],
   "source": [
    "pd.to_datetime(both_nyiso[(both_nyiso[\"Status\"] == \"Withdrawn\") & (both_nyiso[\"queue_status\"] == \"active\")][\"Withdrawn Date\"]).dt.year.value_counts()"
   ]
  },
  {
   "cell_type": "markdown",
   "metadata": {},
   "source": [
    "Great! That explains it. This means we can just compare projects marked active in lbnl"
   ]
  },
  {
   "cell_type": "code",
   "execution_count": null,
   "metadata": {},
   "outputs": [],
   "source": [
    "active_both_nyiso = both_nyiso[(both_nyiso[\"queue_status\"] == \"active\")]\n",
    "gs_nyiso_cap = active_both_nyiso[\"Capacity (MW)\"].sum()\n",
    "lbnl_nyiso_cap = active_both_nyiso[\"capacity_mw_resource_1\"].sum()\n",
    "\n",
    "print(gs_nyiso_cap)\n",
    "print(lbnl_nyiso_cap)\n",
    "print(lbnl_nyiso_cap / gs_nyiso_cap)"
   ]
  },
  {
   "cell_type": "markdown",
   "metadata": {},
   "source": [
    "Similar capacity totals I'm comfortable with."
   ]
  },
  {
   "cell_type": "markdown",
   "metadata": {},
   "source": [
    "#### Compare total capacity for all projects"
   ]
  },
  {
   "cell_type": "code",
   "execution_count": null,
   "metadata": {},
   "outputs": [],
   "source": [
    "nyiso[[\"in_gs\", \"in_lbnl\"]].value_counts(dropna=False)\n"
   ]
  },
  {
   "cell_type": "code",
   "execution_count": null,
   "metadata": {},
   "outputs": [],
   "source": [
    "nyiso[[\"Status\", \"queue_status\"]].value_counts(dropna=False)"
   ]
  },
  {
   "cell_type": "code",
   "execution_count": null,
   "metadata": {},
   "outputs": [],
   "source": [
    "print(nyiso[nyiso.in_gs & ~nyiso.in_lbnl][\"Capacity (MW)\"].sum() / nyiso[nyiso.in_gs][\"Capacity (MW)\"].sum())\n",
    "print(nyiso[~nyiso.in_gs & nyiso.in_lbnl][\"capacity_mw_resource_1\"].sum() / nyiso[nyiso.in_lbnl][\"Capacity (MW)\"].sum())"
   ]
  },
  {
   "cell_type": "markdown",
   "metadata": {},
   "source": [
    "Projects in GS but not in lbnl account for 27% of total capacity in GS nyiso.\n",
    "Projects in LBNL but not in GS account for 4% of total capacity in LBNL NYISO.\n",
    "\n",
    "Why does GS have so much more capacity than LBNL here? Do we care if GS has more capacity than LBNL given GS more closely resembles the source data? Is LBNL doing deduplication work behind the scenes?"
   ]
  },
  {
   "cell_type": "markdown",
   "metadata": {},
   "source": [
    "### MISO\n",
    "Very good project coverage, but the IA status categories are a mess."
   ]
  },
  {
   "cell_type": "code",
   "execution_count": null,
   "metadata": {},
   "outputs": [],
   "source": [
    "raw_miso.columns\n"
   ]
  },
  {
   "cell_type": "code",
   "execution_count": null,
   "metadata": {},
   "outputs": [],
   "source": [
    "# I don't know which is correct (if either), but I'll guess that the later one is. So keep='last'\n",
    "# Nearly whole-row duplicate, except for \"studyPhase\"\n",
    "raw_miso.loc[raw_miso.duplicated(subset='Queue ID', keep=False), :].sort_values(by='Queue ID')\n"
   ]
  },
  {
   "cell_type": "code",
   "execution_count": null,
   "metadata": {},
   "outputs": [],
   "source": [
    "# I don't know which is correct (if either), but I'll guess that the later one is. So keep='last'\n",
    "# Nearly whole-row duplicate, except for \"studyPhase\"\n",
    "lbnl.query('entity == \"MISO\"').loc[lbnl.query('entity == \"MISO\"').duplicated(subset='queue_id', keep=False), :].sort_values(by='queue_id')\n"
   ]
  },
  {
   "cell_type": "code",
   "execution_count": null,
   "metadata": {},
   "outputs": [],
   "source": [
    "miso = join_lbnl(raw_miso.drop_duplicates(subset='Queue ID', keep='last'), lbnl.query('entity == \"MISO\"').drop_duplicates(subset='queue_id', keep='last'), \"MISO\")\n",
    "miso.info()\n"
   ]
  },
  {
   "cell_type": "code",
   "execution_count": null,
   "metadata": {},
   "outputs": [],
   "source": [
    "miso.sample(4)\n"
   ]
  },
  {
   "cell_type": "code",
   "execution_count": null,
   "metadata": {},
   "outputs": [],
   "source": [
    "miso[[\"in_gs\", \"in_lbnl\"]].value_counts(dropna=False)\n"
   ]
  },
  {
   "cell_type": "code",
   "execution_count": null,
   "metadata": {},
   "outputs": [],
   "source": [
    "# somehow makes things worse?\n",
    "miso.loc[\n",
    "    pd.to_datetime(miso[\"Queue Date\"].str.replace(r'\\d{2}:\\d{2}:\\d{2}Z$', '', regex=True))  # remove time\n",
    "    .fillna(pd.to_datetime(\"2020-01-01\"))\n",
    "    .lt(pd.to_datetime(\"2023-01-01\")),\n",
    "    [\"in_gs\", \"in_lbnl\"],\n",
    "].value_counts(dropna=False)\n"
   ]
  },
  {
   "cell_type": "code",
   "execution_count": null,
   "metadata": {},
   "outputs": [],
   "source": [
    "pd.to_datetime(miso[\"Queue Date\"].str.replace(r'\\d{2}:\\d{2}:\\d{2}Z$', '', regex=True)).describe()\n"
   ]
  },
  {
   "cell_type": "code",
   "execution_count": null,
   "metadata": {},
   "outputs": [],
   "source": [
    "pd.to_datetime(miso['queue_date']).describe()\n"
   ]
  },
  {
   "cell_type": "code",
   "execution_count": null,
   "metadata": {},
   "outputs": [],
   "source": [
    "miso[[\"Status\", \"queue_status\"]].value_counts(dropna=False).sort_index()\n"
   ]
  },
  {
   "cell_type": "code",
   "execution_count": null,
   "metadata": {},
   "outputs": [],
   "source": [
    "miso[['queue_status', 'interconnection_status_raw']].value_counts(dropna=False).sort_index()\n"
   ]
  },
  {
   "cell_type": "code",
   "execution_count": null,
   "metadata": {},
   "outputs": [],
   "source": [
    "miso['interconnection_status_lbnl'].value_counts(dropna=False)\n"
   ]
  },
  {
   "cell_type": "code",
   "execution_count": null,
   "metadata": {},
   "outputs": [],
   "source": [
    "miso.loc[:, ['studyPhase', 'interconnection_status_raw']].value_counts(dropna=False).sort_index()\n"
   ]
  },
  {
   "cell_type": "code",
   "execution_count": null,
   "metadata": {},
   "outputs": [],
   "source": [
    "miso.loc[:, ['studyPhase', 'interconnection_status_lbnl']].value_counts(dropna=False).sort_index()\n"
   ]
  },
  {
   "cell_type": "code",
   "execution_count": null,
   "metadata": {},
   "outputs": [],
   "source": [
    "# inconsistent mix of fuel/tech type\n",
    "raw_miso['Generation Type'].value_counts(dropna=False)\n"
   ]
  },
  {
   "cell_type": "markdown",
   "metadata": {},
   "source": [
    "### SPP\n",
    "\n",
    "* neither LBNL nor GridStatus have withdrawn projects\n",
    "* GridStatus destroys the detailed status information during their processing, so we lose the ability to distinguish between \"IA pending\" and \"System Integration Study\". But I don't think that is a problem because both are included in the \"actionable\" criteria in Synapse's model."
   ]
  },
  {
   "cell_type": "code",
   "execution_count": null,
   "metadata": {},
   "outputs": [],
   "source": [
    "raw_spp.columns\n"
   ]
  },
  {
   "cell_type": "code",
   "execution_count": null,
   "metadata": {},
   "outputs": [],
   "source": [
    "spp = join_lbnl(raw_spp, lbnl, \"SPP\")\n",
    "spp.info()\n"
   ]
  },
  {
   "cell_type": "code",
   "execution_count": null,
   "metadata": {},
   "outputs": [],
   "source": [
    "spp.sample(4)\n"
   ]
  },
  {
   "cell_type": "code",
   "execution_count": null,
   "metadata": {},
   "outputs": [],
   "source": [
    "spp[[\"in_gs\", \"in_lbnl\"]].value_counts(dropna=False)\n"
   ]
  },
  {
   "cell_type": "code",
   "execution_count": null,
   "metadata": {},
   "outputs": [],
   "source": [
    "spp.loc[\n",
    "    pd.to_datetime(spp[\"Queue Date\"])\n",
    "    .fillna(pd.to_datetime(\"2020-01-01\"))\n",
    "    .lt(pd.to_datetime(\"2023-01-01\")),\n",
    "    [\"in_gs\", \"in_lbnl\"],\n",
    "].value_counts(dropna=False)\n"
   ]
  },
  {
   "cell_type": "code",
   "execution_count": null,
   "metadata": {},
   "outputs": [],
   "source": [
    "spp[[\"Status\", \"queue_status\"]].value_counts(dropna=False)\n"
   ]
  },
  {
   "cell_type": "code",
   "execution_count": null,
   "metadata": {},
   "outputs": [],
   "source": [
    "spp.loc[\n",
    "    pd.to_datetime(spp[\"Queue Date\"])\n",
    "    .fillna(pd.to_datetime(\"2020-01-01\"))\n",
    "    .lt(pd.to_datetime(\"2023-01-01\")),\n",
    "    [\"Status\", \"queue_status\"],\n",
    "].value_counts(dropna=False)\n"
   ]
  },
  {
   "cell_type": "code",
   "execution_count": null,
   "metadata": {},
   "outputs": [],
   "source": [
    "# it turns out these values come from the raw \"status\" values, which GridStatus overwrites 😡\n",
    "spp['interconnection_status_raw'].value_counts(dropna=False)\n"
   ]
  },
  {
   "cell_type": "code",
   "execution_count": null,
   "metadata": {},
   "outputs": [],
   "source": [
    "spp[['interconnection_status_lbnl', 'interconnection_status_raw']].value_counts(dropna=False).sort_index()\n"
   ]
  },
  {
   "cell_type": "code",
   "execution_count": null,
   "metadata": {},
   "outputs": [],
   "source": [
    "spp['Current Cluster'].str.replace(r'-\\d{4}-\\d{3}(?:-\\d)?', '', regex=True).value_counts(dropna=False)  # remove date/ID\n"
   ]
  },
  {
   "cell_type": "code",
   "execution_count": null,
   "metadata": {},
   "outputs": [],
   "source": [
    "spp['cluster_simplified'] = spp['Current Cluster'].str.replace(r'-\\d{4}-\\d{3}(?:-\\d)?', '', regex=True) # remove date/ID\n"
   ]
  },
  {
   "cell_type": "code",
   "execution_count": null,
   "metadata": {},
   "outputs": [],
   "source": [
    "spp[['interconnection_status_raw', 'cluster_simplified']].value_counts(dropna=False).sort_index()\n"
   ]
  },
  {
   "cell_type": "code",
   "execution_count": null,
   "metadata": {},
   "outputs": [],
   "source": [
    "spp[['interconnection_status_lbnl', 'cluster_simplified']].value_counts(dropna=False).sort_index()\n"
   ]
  },
  {
   "cell_type": "code",
   "execution_count": null,
   "metadata": {},
   "outputs": [],
   "source": [
    "# needs standardization\n",
    "raw_spp['Generation Type'].value_counts(dropna=False)\n"
   ]
  },
  {
   "cell_type": "markdown",
   "metadata": {},
   "source": [
    "### PJM\n",
    "Like MISO, good project coverage, but the IA status categories are a mess.\n",
    "\n",
    "\"Active\" applied up to IA execution. Then \"Engineering and Procurement\" applied to IA execution through COD. Then \"In Service\"."
   ]
  },
  {
   "cell_type": "code",
   "execution_count": null,
   "metadata": {},
   "outputs": [],
   "source": [
    "raw_pjm.columns\n"
   ]
  },
  {
   "cell_type": "code",
   "execution_count": null,
   "metadata": {},
   "outputs": [],
   "source": [
    "# \"Active\" stops at IA execution\n",
    "raw_pjm[['Interim/Interconnection Service Agreement Status', 'Status']].value_counts(dropna=False).sort_index()\n"
   ]
  },
  {
   "cell_type": "code",
   "execution_count": null,
   "metadata": {},
   "outputs": [],
   "source": [
    "pjm = join_lbnl(raw_pjm, lbnl, \"PJM\")\n",
    "pjm.info()\n"
   ]
  },
  {
   "cell_type": "code",
   "execution_count": null,
   "metadata": {},
   "outputs": [],
   "source": [
    "pjm.sample(4)\n"
   ]
  },
  {
   "cell_type": "code",
   "execution_count": null,
   "metadata": {},
   "outputs": [],
   "source": [
    "pjm['Wholesale Market Participation Agreement'].value_counts(dropna=False)\n"
   ]
  },
  {
   "cell_type": "code",
   "execution_count": null,
   "metadata": {},
   "outputs": [],
   "source": [
    "# no status column for this one for some reason\n",
    "pjm['wholesale_not_none'] = pjm['Wholesale Market Participation Agreement'].notna()\n"
   ]
  },
  {
   "cell_type": "code",
   "execution_count": null,
   "metadata": {},
   "outputs": [],
   "source": [
    "pjm[[\"in_gs\", \"in_lbnl\"]].value_counts(dropna=False)\n"
   ]
  },
  {
   "cell_type": "code",
   "execution_count": null,
   "metadata": {},
   "outputs": [],
   "source": [
    "pjm.loc[\n",
    "    pd.to_datetime(pjm[\"Queue Date\"])\n",
    "    .fillna(pd.to_datetime(\"2020-01-01\"))\n",
    "    .lt(pd.to_datetime(\"2023-01-01\")),\n",
    "    [\"in_gs\", \"in_lbnl\"],\n",
    "].value_counts(dropna=False)\n"
   ]
  },
  {
   "cell_type": "code",
   "execution_count": null,
   "metadata": {},
   "outputs": [],
   "source": [
    "pjm[[\"queue_status\", \"Status\"]].value_counts(dropna=False).sort_index()\n"
   ]
  },
  {
   "cell_type": "code",
   "execution_count": null,
   "metadata": {},
   "outputs": [],
   "source": [
    "pjm['interconnection_status_raw'].value_counts(dropna=False)\n"
   ]
  },
  {
   "cell_type": "code",
   "execution_count": null,
   "metadata": {},
   "outputs": [],
   "source": [
    "# lots of IA status info encoded in various status columns. Have to figure out how to reconstruct the LBNL definitions\n",
    "status_cols = [\n",
    "    'Feasibility Study Status',\n",
    "    'System Impact Study Status',\n",
    "    'Facilities Study Status',\n",
    "    'Interim/Interconnection Service Agreement Status',\n",
    "    # 'wholesale_not_none',  # redundant with IA status \"Wholesale Market Participation Agreement\"\n",
    "    'Construction Service Agreement Status',\n",
    "    'Upgrade Construction Service Agreement Status'\n",
    "]\n",
    "with pd.option_context('display.max_rows', None):\n",
    "    display(pjm.loc[pjm['queue_status'].eq('active'), status_cols[:4] + ['interconnection_status_lbnl']].value_counts(dropna=False).sort_index())\n"
   ]
  },
  {
   "cell_type": "code",
   "execution_count": null,
   "metadata": {},
   "outputs": [],
   "source": [
    "# needs standardization. Also has a long tail of multivalued entries.\n",
    "raw_pjm['Generation Type'].value_counts(dropna=False)\n"
   ]
  },
  {
   "cell_type": "markdown",
   "metadata": {},
   "source": [
    "### CAISO\n",
    "Straightforward!"
   ]
  },
  {
   "cell_type": "code",
   "execution_count": null,
   "metadata": {},
   "outputs": [],
   "source": [
    "raw_caiso.columns\n"
   ]
  },
  {
   "cell_type": "code",
   "execution_count": null,
   "metadata": {},
   "outputs": [],
   "source": [
    "caiso = join_lbnl(raw_caiso, lbnl, \"CAISO\")\n",
    "caiso.info()\n"
   ]
  },
  {
   "cell_type": "code",
   "execution_count": null,
   "metadata": {},
   "outputs": [],
   "source": [
    "caiso.query(\"Status == 'ACTIVE'\").sample(8, random_state=42).sort_values('interconnection_status_lbnl')\n"
   ]
  },
  {
   "cell_type": "code",
   "execution_count": null,
   "metadata": {},
   "outputs": [],
   "source": [
    "caiso[[\"in_gs\", \"in_lbnl\"]].value_counts(dropna=False)\n"
   ]
  },
  {
   "cell_type": "code",
   "execution_count": null,
   "metadata": {},
   "outputs": [],
   "source": [
    "caiso.loc[\n",
    "    pd.to_datetime(caiso[\"Queue Date\"])\n",
    "    .fillna(pd.to_datetime(\"2020-01-01\"))\n",
    "    .lt(pd.to_datetime(\"2023-01-01\")),\n",
    "    [\"in_gs\", \"in_lbnl\"],\n",
    "].value_counts(dropna=False)\n"
   ]
  },
  {
   "cell_type": "code",
   "execution_count": null,
   "metadata": {},
   "outputs": [],
   "source": [
    "# remarkably easy to match status values\n",
    "caiso[[\"Status\", \"queue_status\"]].value_counts(dropna=False).sort_index()\n"
   ]
  },
  {
   "cell_type": "code",
   "execution_count": null,
   "metadata": {},
   "outputs": [],
   "source": [
    "caiso['interconnection_status_raw'].value_counts(dropna=False)\n"
   ]
  },
  {
   "cell_type": "code",
   "execution_count": null,
   "metadata": {},
   "outputs": [],
   "source": [
    "caiso[['interconnection_status_lbnl', 'interconnection_status_raw']].value_counts(dropna=False).sort_index()\n"
   ]
  },
  {
   "cell_type": "code",
   "execution_count": null,
   "metadata": {},
   "outputs": [],
   "source": [
    "caiso['Study Process'].value_counts(dropna=False).sort_index()\n"
   ]
  },
  {
   "cell_type": "code",
   "execution_count": null,
   "metadata": {},
   "outputs": [],
   "source": [
    "# I don't see any pattern to the Study Process values.\n",
    "status_cols_caiso = [\n",
    "    'Interconnection Agreement Status',\n",
    "    'Facilities Study (FAS) or Phase II Cluster Study',\n",
    "    'System Impact Study or Phase I Cluster Study',\n",
    "    'Study Process',\n",
    "]\n",
    "with pd.option_context('display.max_rows', None):\n",
    "    display(caiso[status_cols_caiso[:-1]].replace(['None'], np.nan).value_counts(dropna=False).where(lambda x: x>2).dropna().astype(int).sort_index())\n"
   ]
  },
  {
   "cell_type": "code",
   "execution_count": null,
   "metadata": {},
   "outputs": [],
   "source": [
    "with pd.option_context('display.max_rows', None):\n",
    "    display(caiso.query(\"queue_status == 'active'\")[status_cols_caiso[:-1] + ['interconnection_status_lbnl']].replace(['None'], np.nan).value_counts(dropna=False).sort_index())\n"
   ]
  },
  {
   "cell_type": "code",
   "execution_count": null,
   "metadata": {},
   "outputs": [],
   "source": [
    "# categories look standardized, but need to handle multivalued-ness\n",
    "raw_caiso['Generation Type'].value_counts(dropna=False)\n"
   ]
  },
  {
   "cell_type": "markdown",
   "metadata": {},
   "source": [
    "### ISO-NE\n",
    "\n",
    "* what GridStatus calls \"Queue ID\" was actually \"Queue Position\" in the original data. It is unique amongst active projects but not for withdrawn projects. There is no natural key for withdrawn projects."
   ]
  },
  {
   "cell_type": "code",
   "execution_count": null,
   "metadata": {},
   "outputs": [],
   "source": [
    "raw_isone.columns\n"
   ]
  },
  {
   "cell_type": "code",
   "execution_count": null,
   "metadata": {},
   "outputs": [],
   "source": [
    "raw_isone.duplicated(subset=['Queue ID']).sum()\n"
   ]
  },
  {
   "cell_type": "code",
   "execution_count": null,
   "metadata": {},
   "outputs": [],
   "source": [
    "raw_isone.loc[raw_isone.duplicated(subset=['Queue ID'], keep=False), 'Status'].value_counts(dropna=False)\n"
   ]
  },
  {
   "cell_type": "code",
   "execution_count": null,
   "metadata": {},
   "outputs": [],
   "source": [
    "raw_isone['Status'].value_counts(dropna=False)\n"
   ]
  },
  {
   "cell_type": "code",
   "execution_count": null,
   "metadata": {},
   "outputs": [],
   "source": [
    "compound_key = ['Queue ID', 'Status']\n",
    "raw_isone.duplicated(subset=compound_key).sum()\n"
   ]
  },
  {
   "cell_type": "code",
   "execution_count": null,
   "metadata": {},
   "outputs": [],
   "source": [
    "# there is no natural key for this data. But this looks like the best tradeoff between key complexity and uniqueness.\n",
    "compound_key = ['Queue ID', 'Project Name']\n",
    "raw_isone.duplicated(subset=compound_key).sum()\n"
   ]
  },
  {
   "cell_type": "code",
   "execution_count": null,
   "metadata": {},
   "outputs": [],
   "source": [
    "# Queue ID is unique within the Active projects. Not sure how change over time will impact the join to LBNL.\n",
    "raw_isone.query('Status == \"Active\"')['Queue ID'].is_unique\n"
   ]
  },
  {
   "cell_type": "code",
   "execution_count": null,
   "metadata": {},
   "outputs": [],
   "source": [
    "# duplicates (none Active) have all kinds of variation in values. Maybe best approach is to sort by date updated and take the latest one. It doesn't always differentiate them though.\n",
    "raw_isone.loc[raw_isone.duplicated(subset=compound_key, keep=False),:].sort_values(by=compound_key).tail(10)\n"
   ]
  },
  {
   "cell_type": "code",
   "execution_count": null,
   "metadata": {},
   "outputs": [],
   "source": [
    "raw_isone['Updated'] = pd.to_datetime(raw_isone['Updated'])\n"
   ]
  },
  {
   "cell_type": "code",
   "execution_count": null,
   "metadata": {},
   "outputs": [],
   "source": [
    "# join manually rather than refactoring the func to take compound key\n",
    "lbnl_iso = lbnl.loc[lbnl[\"entity\"].eq(\"ISO-NE\"), LBNL_JOIN_COLS].astype({'queue_id': int})\n",
    "isone = raw_isone.sort_values('Updated').drop_duplicates(subset=compound_key, keep='last')\n",
    "isone = isone.merge(lbnl_iso, how=\"outer\", left_on=compound_key, right_on=[c.lower().replace(' ', '_') for c in compound_key])\n",
    "isone[\"in_lbnl\"] = ~isone[\"queue_id\"].isna()\n",
    "isone[\"in_gs\"] = ~isone[\"Queue ID\"].isna()\n",
    "del lbnl_iso\n",
    "isone.info()\n"
   ]
  },
  {
   "cell_type": "code",
   "execution_count": null,
   "metadata": {},
   "outputs": [],
   "source": [
    "isone.head(2)\n"
   ]
  },
  {
   "cell_type": "code",
   "execution_count": null,
   "metadata": {},
   "outputs": [],
   "source": [
    "isone[[\"in_gs\", \"in_lbnl\"]].value_counts(dropna=False)\n"
   ]
  },
  {
   "cell_type": "code",
   "execution_count": null,
   "metadata": {},
   "outputs": [],
   "source": [
    "# small improvement from date filter\n",
    "isone.loc[\n",
    "    pd.to_datetime(isone[\"Queue Date\"])\n",
    "    .fillna(pd.to_datetime(\"2020-01-01\"))\n",
    "    .lt(pd.to_datetime(\"2023-01-01\")),\n",
    "    [\"in_gs\", \"in_lbnl\"],\n",
    "].value_counts(dropna=False)\n"
   ]
  },
  {
   "cell_type": "code",
   "execution_count": null,
   "metadata": {},
   "outputs": [],
   "source": [
    "# status values are decently aligned\n",
    "isone[[\"Status\", \"queue_status\"]].value_counts(dropna=False).sort_index()\n"
   ]
  },
  {
   "cell_type": "code",
   "execution_count": null,
   "metadata": {},
   "outputs": [],
   "source": [
    "isone['interconnection_status_raw'].value_counts(dropna=False)\n"
   ]
  },
  {
   "cell_type": "code",
   "execution_count": null,
   "metadata": {},
   "outputs": [],
   "source": [
    "isone[['interconnection_status_lbnl', 'interconnection_status_raw']].value_counts(dropna=False).sort_index()\n"
   ]
  },
  {
   "cell_type": "code",
   "execution_count": null,
   "metadata": {},
   "outputs": [],
   "source": [
    "status_cols_isone = [\n",
    "    \"FS\",\n",
    "    \"SIS\",\n",
    "    \"OS\",\n",
    "    \"FAC\",\n",
    "    \"IA\",\n",
    "    \"Project Status\",\n",
    "]\n",
    "with pd.option_context('display.max_rows', None):\n",
    "    display(isone[status_cols_isone].replace(['None'], np.nan).value_counts(dropna=False).where(lambda x: x>2).dropna().astype(int).sort_index())\n"
   ]
  },
  {
   "cell_type": "code",
   "execution_count": null,
   "metadata": {},
   "outputs": [],
   "source": [
    "# gridstatus doesn't parse the status values, so they are all null. In their defense, the ISONE encodes them as alt text behind icons, which is stupid. But still.\n",
    "isone[status_cols_isone]\n"
   ]
  },
  {
   "cell_type": "code",
   "execution_count": null,
   "metadata": {},
   "outputs": [],
   "source": [
    "raw_isone['Generation Type'].value_counts(dropna=False)\n"
   ]
  },
  {
   "cell_type": "markdown",
   "metadata": {},
   "source": []
  }
 ],
 "metadata": {
  "kernelspec": {
   "display_name": "Python 3 (ipykernel)",
   "language": "python",
   "name": "python3"
  },
  "language_info": {
   "codemirror_mode": {
    "name": "ipython",
    "version": 3
   },
   "file_extension": ".py",
   "mimetype": "text/x-python",
   "name": "python",
   "nbconvert_exporter": "python",
   "pygments_lexer": "ipython3",
   "version": "3.10.12"
  }
 },
 "nbformat": 4,
 "nbformat_minor": 4
}
