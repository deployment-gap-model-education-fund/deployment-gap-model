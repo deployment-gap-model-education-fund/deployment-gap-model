{
 "cells": [
  {
   "cell_type": "code",
   "execution_count": null,
   "id": "92a1d898-cd2c-4902-b3cf-2b5fc71273fd",
   "metadata": {},
   "outputs": [],
   "source": [
    "%load_ext autoreload\n",
    "%autoreload 2"
   ]
  },
  {
   "cell_type": "code",
   "execution_count": null,
   "id": "cfbbc043-cd00-4267-a301-79f47aace02b",
   "metadata": {},
   "outputs": [],
   "source": [
    "import sys\n",
    "import pandas as pd\n",
    "import numpy as np\n",
    "import sqlalchemy as sa\n",
    "import logging\n",
    "from typing import List\n",
    "\n",
    "import pudl"
   ]
  },
  {
   "cell_type": "code",
   "execution_count": null,
   "id": "39899cb0-db92-45eb-b6f9-219d300ba6d7",
   "metadata": {},
   "outputs": [],
   "source": [
    "logger = logging.getLogger()\n",
    "logger.setLevel(logging.INFO)\n",
    "handler = logging.StreamHandler(stream=sys.stdout)\n",
    "formatter = logging.Formatter('%(message)s')\n",
    "handler.setFormatter(formatter)\n",
    "logger.handlers = [handler]"
   ]
  },
  {
   "cell_type": "code",
   "execution_count": null,
   "id": "9f95a3d5-f951-4947-a68e-4865a4d4aa4a",
   "metadata": {},
   "outputs": [],
   "source": [
    "# pudl output object\n",
    "pudl_settings = pudl.workspace.setup.get_defaults()\n",
    "pudl_engine = sa.create_engine(pudl_settings[\"pudl_db\"])\n",
    "pudl_out = pudl.output.pudltabl.PudlTabl(\n",
    "    pudl_engine,freq='AS',\n",
    "    fill_fuel_cost=True,\n",
    "    roll_fuel_cost=True,\n",
    "    fill_net_gen=True,\n",
    ")"
   ]
  },
  {
   "cell_type": "code",
   "execution_count": null,
   "id": "01fc43cc-3e8f-462b-857d-4fd239ced8af",
   "metadata": {},
   "outputs": [],
   "source": [
    "# the stuff in this cell should probably go into a module somewhere...\n",
    "SUM_COLS: List[str] = [\n",
    "    'total_fuel_cost',\n",
    "    'net_generation_mwh',\n",
    "    'capacity_mw',\n",
    "    'total_mmbtu',\n",
    "]\n",
    "\"\"\"\n",
    "list: list of columns to sum when aggregating a table.\n",
    "\"\"\"\n",
    "\n",
    "FUEL_CATEGORY_MAP = {\n",
    "    'oil': 'fossil',\n",
    "    'wind': 'renewables',\n",
    "    'hydro': 'hydro',\n",
    "    'coal': 'fossil',\n",
    "    'gas': 'fossil',\n",
    "    'other': 'other',\n",
    "    'nuclear':'other',\n",
    "    'solar': 'renewables',\n",
    "    'waste': 'other'\n",
    "}\n",
    "\n",
    "ENTITY_CATEGORY_MAP = {\n",
    "    'investor_owned': 'investor_owned',\n",
    "    'municipal': 'public',\n",
    "    'cooperative': 'public',\n",
    "    'state': 'public',\n",
    "    'independent_power_producer':'independent_power_producer',\n",
    "    'political_subdivision': 'public',\n",
    "    'federal': 'public',\n",
    "    'other': 'other',\n",
    "    'commercial':'commercial',\n",
    "    'industrial':'industrial',\n",
    "}\n",
    "\n",
    "\n",
    "def slice_by_ownership(gens_mega, own_eia860):\n",
    "    \"\"\"\n",
    "    Generate proportional data by ownership %s.\n",
    "\n",
    "    Why do we have to do this at all? Sometimes generators are owned by\n",
    "    many different utility owners that own slices of that generator. EIA\n",
    "    reports which portion of each generator is owned by which utility\n",
    "    relatively clearly in their ownership table. On the other hand, in\n",
    "    FERC1, sometimes a partial owner reports the full plant-part, sometimes\n",
    "    they report only their ownership portion of the plant-part. And of\n",
    "    course it is not labeld in FERC1. Because of this, we need to compile\n",
    "    all of the possible ownership slices of the EIA generators.\n",
    "\n",
    "    In order to accumulate every possible version of how a generator could\n",
    "    be reported, this method generates two records for each generator's\n",
    "    reported owners: one of the portion of the plant part they own and one\n",
    "    for the plant-part as a whole. The portion records are labeled in the\n",
    "    ``ownership`` column as \"owned\" and the total records are labeled as\n",
    "    \"total\".\n",
    "\n",
    "    In this function we merge in the ownership table so that generators\n",
    "    with multiple owners then have one record per owner with the\n",
    "    ownership fraction (in column ``fraction_owned``). Because the ownership\n",
    "    table only contains records for generators that have multiple owners,\n",
    "    we assume that all other generators are owned 100% by their operator.\n",
    "    Then we generate the \"total\" records by duplicating the \"owned\" records\n",
    "    but assigning the ``fraction_owned`` to be 1 (i.e. 100%).\n",
    "    \"\"\"\n",
    "    # grab the ownership table, and reduce it to only the columns we need\n",
    "    own860 = (\n",
    "        own_eia860\n",
    "        [['plant_id_eia', 'generator_id', 'report_date',\n",
    "          'fraction_owned', 'owner_utility_id_eia']]\n",
    "        .pipe(pudl.helpers.convert_cols_dtypes, 'eia')\n",
    "    )\n",
    "    # we're left merging BC we've removed the retired gens, which are\n",
    "    # reported in the ownership table\n",
    "    gens_mega = (\n",
    "        gens_mega.merge(\n",
    "            own860,\n",
    "            how='left',\n",
    "            on=['plant_id_eia', 'generator_id', 'report_date'],\n",
    "            validate='1:m'\n",
    "        )\n",
    "        .assign(  # assume gens that don't show up in the own table have one 100% owner\n",
    "            fraction_owned=lambda x: x.fraction_owned.fillna(value=1),\n",
    "            # assign the operator id as the owner if null bc if a gen isn't\n",
    "            # reported in the own_eia860 table we can assume the operator\n",
    "            # is the owner\n",
    "            owner_utility_id_eia=lambda x:\n",
    "                x.owner_utility_id_eia.fillna(x.utility_id_eia),\n",
    "            ownership='owned'\n",
    "        )   # swap in the owner as the utility\n",
    "        .drop(columns=['utility_id_eia'])\n",
    "        .rename(columns={'owner_utility_id_eia': 'utility_id_eia'})\n",
    "    )\n",
    "\n",
    "    gens_mega.loc[:, SUM_COLS] = (\n",
    "        gens_mega.loc[:, SUM_COLS]\n",
    "        .multiply(gens_mega['fraction_owned'], axis='index')\n",
    "    )\n",
    "    return gens_mega\n",
    "\n",
    "\n",
    "def label_generators(gens_own):\n",
    "    gens_own.loc[:, 'fuel_category'] =gens_own.fuel_type_code_pudl.replace(FUEL_CATEGORY_MAP)\n",
    "    gens_own.loc[:, 'entity_category'] =gens_own.entity_type.replace(ENTITY_CATEGORY_MAP)\n",
    "    return gens_own"
   ]
  },
  {
   "cell_type": "code",
   "execution_count": null,
   "id": "ce41e566-fe4e-4ec6-9bcc-be8a426af322",
   "metadata": {},
   "outputs": [],
   "source": [
    "# Get inputs from pudl_out\n",
    "utils = pudl_out.utils_eia860()\n",
    "mcoe = pudl_out.mcoe(all_gens=True)\n",
    "own_eia860 = pudl_out.own_eia860()"
   ]
  },
  {
   "cell_type": "code",
   "execution_count": null,
   "id": "ff23a1b8-0e71-409b-91ba-c324a128a684",
   "metadata": {},
   "outputs": [],
   "source": [
    "# process inputs\n",
    "gens_own = (\n",
    "    slice_by_ownership(mcoe, own_eia860)\n",
    "    .merge(\n",
    "        utils[['utility_id_eia', 'report_date', 'entity_type']],\n",
    "        on=['utility_id_eia', 'report_date'],\n",
    "        how='left',\n",
    "        validate='m:1'\n",
    "    )\n",
    "    .pipe(label_generators)\n",
    ")"
   ]
  },
  {
   "cell_type": "markdown",
   "id": "ab17ea5b-c16d-4efb-a435-11637886a9c7",
   "metadata": {},
   "source": [
    "# Ownership Breakdown"
   ]
  },
  {
   "cell_type": "code",
   "execution_count": null,
   "id": "bffa3d72-c59f-46b4-b759-7fd060cd078c",
   "metadata": {},
   "outputs": [],
   "source": [
    "def group_generators(\n",
    "    data_col= 'capacity_mw',\n",
    "    years = [2020],\n",
    "    op_statuses = ['existing'],\n",
    "    gb_by = ['report_date', 'fuel_category', 'entity_category',],\n",
    "    entity_cats = None,\n",
    "    fuel_cats = None):\n",
    "    if not fuel_cats:\n",
    "        fuel_cats = gens_own.fuel_category.unique()\n",
    "    if not entity_cats:\n",
    "        entity_cats = gens_own.entity_category.unique()\n",
    "    gens_cap = (\n",
    "        gens_own[\n",
    "            gens_own.report_date.dt.year.isin(years)\n",
    "            & gens_own.operational_status.isin(op_statuses)\n",
    "            & gens_own.fuel_category.isin(fuel_cats)\n",
    "            & gens_own.entity_category.isin(entity_cats)\n",
    "        ]\n",
    "        .groupby(gb_by, dropna=False)\n",
    "        [[data_col]].sum()\n",
    "        .sort_values([data_col], ascending=False)\n",
    "    )\n",
    "\n",
    "    cap_total= gens_cap[data_col].sum()\n",
    "    return gens_cap.assign(percentage=lambda x: (x[data_col]/cap_total )*100).round(2)"
   ]
  },
  {
   "cell_type": "code",
   "execution_count": null,
   "id": "de6b9008-4f67-4fc9-8f3a-c96ce52d4702",
   "metadata": {},
   "outputs": [],
   "source": [
    "# proposed plants\n",
    "group_generators(\n",
    "    gb_by = ['report_date', 'entity_category','fuel_category',],\n",
    "    op_statuses=['proposed'],\n",
    "    entity_cats=None)"
   ]
  },
  {
   "cell_type": "code",
   "execution_count": null,
   "id": "5db08595-6bcb-43af-9ed0-a2d23d70e668",
   "metadata": {},
   "outputs": [],
   "source": [
    "group_generators(\n",
    "    gb_by = ['report_date', 'entity_category','fuel_type_code_pudl',],\n",
    "    fuel_cats=['fossil'],\n",
    "    op_statuses=['proposed'],\n",
    "    entity_cats=None)"
   ]
  },
  {
   "cell_type": "markdown",
   "id": "0160b202-c4c6-412f-a6e1-de79eda9879e",
   "metadata": {},
   "source": [
    "# Existing Plants"
   ]
  },
  {
   "cell_type": "code",
   "execution_count": null,
   "id": "19cdbd70-b175-49d2-a75f-1d396f1a294c",
   "metadata": {},
   "outputs": [],
   "source": [
    "group_generators(\n",
    "    gb_by = ['report_date', 'entity_category','fuel_category',],\n",
    "    op_statuses=['existing'],\n",
    "    entity_cats=None,\n",
    "    fuel_cats=['fossil'],\n",
    ")"
   ]
  },
  {
   "cell_type": "code",
   "execution_count": null,
   "id": "f8e6108d-2d72-475b-b7d9-b2291ff28cae",
   "metadata": {},
   "outputs": [],
   "source": [
    "gens_fossil = gens_own[\n",
    "    (gens_own.operational_status == 'existing')\n",
    "    & (gens_own.report_date.dt.year == 2020)\n",
    "    & (gens_own.fuel_category == 'fossil')\n",
    "]"
   ]
  },
  {
   "cell_type": "code",
   "execution_count": null,
   "id": "a2a8709e-8a52-4e91-acdd-2b7022dcf601",
   "metadata": {},
   "outputs": [],
   "source": [
    "not_retiring = gens_fossil[\n",
    "    gens_fossil.planned_retirement_date.isnull()\n",
    "].capacity_mw.sum()/gens_fossil.capacity_mw.sum()\n",
    "logger.info(\n",
    "    f\"Fossil plants w/ no retirement date: {not_retiring:.01%}\")"
   ]
  },
  {
   "cell_type": "code",
   "execution_count": null,
   "id": "ab49307e-7786-4213-b263-477dc5fabf2c",
   "metadata": {},
   "outputs": [],
   "source": [
    "(\n",
    "    gens_fossil[gens_fossil.planned_retirement_date.notnull()]\n",
    "    .assign(planned_retirement_year=lambda x: x.planned_retirement_date.dt.year)\n",
    "    .groupby(['planned_retirement_year', 'fuel_type_code_pudl'])[['capacity_mw', 'net_generation_mwh']].sum())"
   ]
  },
  {
   "cell_type": "code",
   "execution_count": null,
   "id": "aa1a2cb0-be46-4f74-b746-1d9a65c27ca1",
   "metadata": {},
   "outputs": [],
   "source": []
  }
 ],
 "metadata": {
  "kernelspec": {
   "display_name": "Python 3 (ipykernel)",
   "language": "python",
   "name": "python3"
  },
  "language_info": {
   "codemirror_mode": {
    "name": "ipython",
    "version": 3
   },
   "file_extension": ".py",
   "mimetype": "text/x-python",
   "name": "python",
   "nbconvert_exporter": "python",
   "pygments_lexer": "ipython3",
   "version": "3.9.7"
  }
 },
 "nbformat": 4,
 "nbformat_minor": 5
}
