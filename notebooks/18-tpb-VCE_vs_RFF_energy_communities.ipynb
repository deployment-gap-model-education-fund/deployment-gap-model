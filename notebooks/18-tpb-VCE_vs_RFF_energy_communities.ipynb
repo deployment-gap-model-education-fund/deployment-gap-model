{
 "cells": [
  {
   "cell_type": "code",
   "execution_count": 1,
   "id": "af310a19-6a36-4d71-9807-82b017852d56",
   "metadata": {},
   "outputs": [],
   "source": [
    "import pandas as pd\n",
    "import geopandas as gpd\n",
    "from pathlib import Path\n",
    "from shapely.validation import make_valid"
   ]
  },
  {
   "cell_type": "markdown",
   "id": "1a4286ea-392e-408f-a217-0898a5fc5236",
   "metadata": {},
   "source": [
    "Data Sources:\n",
    "* RFF (bottom of [this page](https://www.resources.org/common-resources/what-is-an-energy-community/))\n",
    "* VCE [here](https://www.vibrantcleanenergy.com/media/reports/)\n",
    "* [census](https://www2.census.gov/geo/tiger/TIGER2022/COUNTY/)"
   ]
  },
  {
   "cell_type": "code",
   "execution_count": 2,
   "id": "e736d02d-5ec9-4d6d-82c0-f74b7bc349f1",
   "metadata": {},
   "outputs": [],
   "source": [
    "shape_path_county = Path(\"./county_shapefile_2022/tl_2022_us_county.shp\")\n",
    "assert shape_path_county.exists()"
   ]
  },
  {
   "cell_type": "code",
   "execution_count": 3,
   "id": "c909a2fa-1076-4da3-aa8b-188d2fa427d5",
   "metadata": {},
   "outputs": [],
   "source": [
    "counties = gpd.read_file(shape_path_county)"
   ]
  },
  {
   "cell_type": "code",
   "execution_count": 4,
   "id": "a22a25ce-ae92-4378-868e-068226782c72",
   "metadata": {},
   "outputs": [
    {
     "data": {
      "text/html": [
       "<div>\n",
       "<style scoped>\n",
       "    .dataframe tbody tr th:only-of-type {\n",
       "        vertical-align: middle;\n",
       "    }\n",
       "\n",
       "    .dataframe tbody tr th {\n",
       "        vertical-align: top;\n",
       "    }\n",
       "\n",
       "    .dataframe thead th {\n",
       "        text-align: right;\n",
       "    }\n",
       "</style>\n",
       "<table border=\"1\" class=\"dataframe\">\n",
       "  <thead>\n",
       "    <tr style=\"text-align: right;\">\n",
       "      <th></th>\n",
       "      <th>STATEFP</th>\n",
       "      <th>COUNTYFP</th>\n",
       "      <th>COUNTYNS</th>\n",
       "      <th>GEOID</th>\n",
       "      <th>NAME</th>\n",
       "      <th>NAMELSAD</th>\n",
       "      <th>LSAD</th>\n",
       "      <th>CLASSFP</th>\n",
       "      <th>MTFCC</th>\n",
       "      <th>CSAFP</th>\n",
       "      <th>CBSAFP</th>\n",
       "      <th>METDIVFP</th>\n",
       "      <th>FUNCSTAT</th>\n",
       "      <th>ALAND</th>\n",
       "      <th>AWATER</th>\n",
       "      <th>INTPTLAT</th>\n",
       "      <th>INTPTLON</th>\n",
       "      <th>geometry</th>\n",
       "    </tr>\n",
       "  </thead>\n",
       "  <tbody>\n",
       "    <tr>\n",
       "      <th>0</th>\n",
       "      <td>31</td>\n",
       "      <td>039</td>\n",
       "      <td>00835841</td>\n",
       "      <td>31039</td>\n",
       "      <td>Cuming</td>\n",
       "      <td>Cuming County</td>\n",
       "      <td>06</td>\n",
       "      <td>H1</td>\n",
       "      <td>G4020</td>\n",
       "      <td>None</td>\n",
       "      <td>None</td>\n",
       "      <td>None</td>\n",
       "      <td>A</td>\n",
       "      <td>1477644346</td>\n",
       "      <td>10691216</td>\n",
       "      <td>+41.9158651</td>\n",
       "      <td>-096.7885168</td>\n",
       "      <td>POLYGON ((-96.55515 41.91587, -96.55515 41.914...</td>\n",
       "    </tr>\n",
       "    <tr>\n",
       "      <th>1</th>\n",
       "      <td>53</td>\n",
       "      <td>069</td>\n",
       "      <td>01513275</td>\n",
       "      <td>53069</td>\n",
       "      <td>Wahkiakum</td>\n",
       "      <td>Wahkiakum County</td>\n",
       "      <td>06</td>\n",
       "      <td>H1</td>\n",
       "      <td>G4020</td>\n",
       "      <td>None</td>\n",
       "      <td>None</td>\n",
       "      <td>None</td>\n",
       "      <td>A</td>\n",
       "      <td>680980770</td>\n",
       "      <td>61564427</td>\n",
       "      <td>+46.2946377</td>\n",
       "      <td>-123.4244583</td>\n",
       "      <td>POLYGON ((-123.72755 46.26449, -123.72755 46.2...</td>\n",
       "    </tr>\n",
       "  </tbody>\n",
       "</table>\n",
       "</div>"
      ],
      "text/plain": [
       "  STATEFP COUNTYFP  COUNTYNS  GEOID       NAME          NAMELSAD LSAD CLASSFP  \\\n",
       "0      31      039  00835841  31039     Cuming     Cuming County   06      H1   \n",
       "1      53      069  01513275  53069  Wahkiakum  Wahkiakum County   06      H1   \n",
       "\n",
       "   MTFCC CSAFP CBSAFP METDIVFP FUNCSTAT       ALAND    AWATER     INTPTLAT  \\\n",
       "0  G4020  None   None     None        A  1477644346  10691216  +41.9158651   \n",
       "1  G4020  None   None     None        A   680980770  61564427  +46.2946377   \n",
       "\n",
       "       INTPTLON                                           geometry  \n",
       "0  -096.7885168  POLYGON ((-96.55515 41.91587, -96.55515 41.914...  \n",
       "1  -123.4244583  POLYGON ((-123.72755 46.26449, -123.72755 46.2...  "
      ]
     },
     "execution_count": 4,
     "metadata": {},
     "output_type": "execute_result"
    }
   ],
   "source": [
    "counties.head(2)"
   ]
  },
  {
   "cell_type": "code",
   "execution_count": 5,
   "id": "1d56e061-ec26-4c9e-8cb8-e64457fd5bcc",
   "metadata": {},
   "outputs": [],
   "source": [
    "shape_vce_ec = Path(\"./ira_energy_communities_data/vce/EC_Shapefiles/EnergyCommunities_release.shp\")\n",
    "assert shape_vce_ec.exists()"
   ]
  },
  {
   "cell_type": "code",
   "execution_count": 6,
   "id": "3c996607-56eb-4049-ba54-a13019cac27c",
   "metadata": {},
   "outputs": [],
   "source": [
    "vce_ec = gpd.read_file(shape_vce_ec)"
   ]
  },
  {
   "cell_type": "code",
   "execution_count": 7,
   "id": "e9c0f42a-3b62-4387-8c73-b5bd033fef4d",
   "metadata": {},
   "outputs": [
    {
     "data": {
      "text/plain": [
       "(27816, 2)"
      ]
     },
     "execution_count": 7,
     "metadata": {},
     "output_type": "execute_result"
    }
   ],
   "source": [
    "vce_ec.shape"
   ]
  },
  {
   "cell_type": "code",
   "execution_count": 8,
   "id": "76cb3056-8889-44ce-8242-17d90a69627f",
   "metadata": {},
   "outputs": [
    {
     "data": {
      "text/html": [
       "<div>\n",
       "<style scoped>\n",
       "    .dataframe tbody tr th:only-of-type {\n",
       "        vertical-align: middle;\n",
       "    }\n",
       "\n",
       "    .dataframe tbody tr th {\n",
       "        vertical-align: top;\n",
       "    }\n",
       "\n",
       "    .dataframe thead th {\n",
       "        text-align: right;\n",
       "    }\n",
       "</style>\n",
       "<table border=\"1\" class=\"dataframe\">\n",
       "  <thead>\n",
       "    <tr style=\"text-align: right;\">\n",
       "      <th></th>\n",
       "      <th>Site</th>\n",
       "      <th>geometry</th>\n",
       "    </tr>\n",
       "  </thead>\n",
       "  <tbody>\n",
       "    <tr>\n",
       "      <th>0</th>\n",
       "      <td>0</td>\n",
       "      <td>POLYGON Z ((-86.62621 32.70622 0.00000, -86.62...</td>\n",
       "    </tr>\n",
       "    <tr>\n",
       "      <th>1</th>\n",
       "      <td>1</td>\n",
       "      <td>MULTIPOLYGON Z (((-87.81620 30.94044 0.00000, ...</td>\n",
       "    </tr>\n",
       "  </tbody>\n",
       "</table>\n",
       "</div>"
      ],
      "text/plain": [
       "   Site                                           geometry\n",
       "0     0  POLYGON Z ((-86.62621 32.70622 0.00000, -86.62...\n",
       "1     1  MULTIPOLYGON Z (((-87.81620 30.94044 0.00000, ..."
      ]
     },
     "execution_count": 8,
     "metadata": {},
     "output_type": "execute_result"
    }
   ],
   "source": [
    "vce_ec.head(2)"
   ]
  },
  {
   "cell_type": "code",
   "execution_count": 9,
   "id": "1b1b59e1-c20d-4956-89e1-cfe5eca567cb",
   "metadata": {},
   "outputs": [
    {
     "data": {
      "text/plain": [
       "shapely.geometry.polygon.Polygon"
      ]
     },
     "execution_count": 9,
     "metadata": {},
     "output_type": "execute_result"
    }
   ],
   "source": [
    "type(vce_ec.iat[0,1])"
   ]
  },
  {
   "cell_type": "code",
   "execution_count": 10,
   "id": "b648cfca-6a94-4eef-9812-61697fa41f2f",
   "metadata": {},
   "outputs": [
    {
     "data": {
      "text/plain": [
       "(-86.92123700099995, 32.52383000100008, -86.60437999799996, 32.70621562000008)"
      ]
     },
     "execution_count": 10,
     "metadata": {},
     "output_type": "execute_result"
    }
   ],
   "source": [
    "vce_ec.iat[0,1].bounds"
   ]
  },
  {
   "cell_type": "code",
   "execution_count": 11,
   "id": "3b6c68dd-e001-4cc8-8937-6d5ececd1709",
   "metadata": {},
   "outputs": [
    {
     "data": {
      "text/plain": [
       "<Geographic 2D CRS: EPSG:4326>\n",
       "Name: WGS 84\n",
       "Axis Info [ellipsoidal]:\n",
       "- Lat[north]: Geodetic latitude (degree)\n",
       "- Lon[east]: Geodetic longitude (degree)\n",
       "Area of Use:\n",
       "- name: World.\n",
       "- bounds: (-180.0, -90.0, 180.0, 90.0)\n",
       "Datum: World Geodetic System 1984 ensemble\n",
       "- Ellipsoid: WGS 84\n",
       "- Prime Meridian: Greenwich"
      ]
     },
     "execution_count": 11,
     "metadata": {},
     "output_type": "execute_result"
    }
   ],
   "source": [
    "vce_ec.crs"
   ]
  },
  {
   "cell_type": "code",
   "execution_count": 12,
   "id": "0e442736-44d8-459d-aabc-9476f501cd0d",
   "metadata": {},
   "outputs": [
    {
     "data": {
      "text/plain": [
       "<Geographic 2D CRS: EPSG:4269>\n",
       "Name: NAD83\n",
       "Axis Info [ellipsoidal]:\n",
       "- Lat[north]: Geodetic latitude (degree)\n",
       "- Lon[east]: Geodetic longitude (degree)\n",
       "Area of Use:\n",
       "- name: North America - onshore and offshore: Canada - Alberta; British Columbia; Manitoba; New Brunswick; Newfoundland and Labrador; Northwest Territories; Nova Scotia; Nunavut; Ontario; Prince Edward Island; Quebec; Saskatchewan; Yukon. Puerto Rico. United States (USA) - Alabama; Alaska; Arizona; Arkansas; California; Colorado; Connecticut; Delaware; Florida; Georgia; Hawaii; Idaho; Illinois; Indiana; Iowa; Kansas; Kentucky; Louisiana; Maine; Maryland; Massachusetts; Michigan; Minnesota; Mississippi; Missouri; Montana; Nebraska; Nevada; New Hampshire; New Jersey; New Mexico; New York; North Carolina; North Dakota; Ohio; Oklahoma; Oregon; Pennsylvania; Rhode Island; South Carolina; South Dakota; Tennessee; Texas; Utah; Vermont; Virginia; Washington; West Virginia; Wisconsin; Wyoming. US Virgin Islands. British Virgin Islands.\n",
       "- bounds: (167.65, 14.92, -40.73, 86.45)\n",
       "Datum: North American Datum 1983\n",
       "- Ellipsoid: GRS 1980\n",
       "- Prime Meridian: Greenwich"
      ]
     },
     "execution_count": 12,
     "metadata": {},
     "output_type": "execute_result"
    }
   ],
   "source": [
    "counties.crs"
   ]
  },
  {
   "cell_type": "code",
   "execution_count": 13,
   "id": "2ba721fd-de21-4597-8956-9e6b9dd75cbb",
   "metadata": {},
   "outputs": [],
   "source": [
    "brownfield_rff = gpd.read_file(Path(\"./ira_energy_communities_data/rff/brownfields/brownfields.shp\"))"
   ]
  },
  {
   "cell_type": "code",
   "execution_count": 14,
   "id": "4b0a7e99-8015-4a47-96be-ca93fc1e46f8",
   "metadata": {},
   "outputs": [
    {
     "data": {
      "text/plain": [
       "<Geographic 2D CRS: EPSG:4269>\n",
       "Name: NAD83\n",
       "Axis Info [ellipsoidal]:\n",
       "- Lat[north]: Geodetic latitude (degree)\n",
       "- Lon[east]: Geodetic longitude (degree)\n",
       "Area of Use:\n",
       "- name: North America - onshore and offshore: Canada - Alberta; British Columbia; Manitoba; New Brunswick; Newfoundland and Labrador; Northwest Territories; Nova Scotia; Nunavut; Ontario; Prince Edward Island; Quebec; Saskatchewan; Yukon. Puerto Rico. United States (USA) - Alabama; Alaska; Arizona; Arkansas; California; Colorado; Connecticut; Delaware; Florida; Georgia; Hawaii; Idaho; Illinois; Indiana; Iowa; Kansas; Kentucky; Louisiana; Maine; Maryland; Massachusetts; Michigan; Minnesota; Mississippi; Missouri; Montana; Nebraska; Nevada; New Hampshire; New Jersey; New Mexico; New York; North Carolina; North Dakota; Ohio; Oklahoma; Oregon; Pennsylvania; Rhode Island; South Carolina; South Dakota; Tennessee; Texas; Utah; Vermont; Virginia; Washington; West Virginia; Wisconsin; Wyoming. US Virgin Islands. British Virgin Islands.\n",
       "- bounds: (167.65, 14.92, -40.73, 86.45)\n",
       "Datum: North American Datum 1983\n",
       "- Ellipsoid: GRS 1980\n",
       "- Prime Meridian: Greenwich"
      ]
     },
     "execution_count": 14,
     "metadata": {},
     "output_type": "execute_result"
    }
   ],
   "source": [
    "brownfield_rff.crs"
   ]
  },
  {
   "cell_type": "markdown",
   "id": "37ed4e5b-2a9c-42bc-974a-5bb490f34bfe",
   "metadata": {},
   "source": [
    "2/3 use NAD83 so I'll convert vce to use it as well"
   ]
  },
  {
   "cell_type": "markdown",
   "id": "72ff67d2-6a94-48cd-a67f-99d85775bb70",
   "metadata": {},
   "source": [
    "# Fix VCE Shapefile\n",
    "* convert Coordinate Reference System to NAD83 to match the other two sources\n",
    "* fix broken polygons that break spatial joins based on 'touches'"
   ]
  },
  {
   "cell_type": "code",
   "execution_count": 15,
   "id": "93b83f9f-16d6-4f69-9b9f-587eb277b8a9",
   "metadata": {},
   "outputs": [
    {
     "data": {
      "text/plain": [
       "9"
      ]
     },
     "execution_count": 15,
     "metadata": {},
     "output_type": "execute_result"
    }
   ],
   "source": [
    "bad = [row[0] for row in vce_ec['geometry'].items() if not row[1].is_valid]\n",
    "len(bad)"
   ]
  },
  {
   "cell_type": "code",
   "execution_count": 16,
   "id": "cb7e33af-1636-4d3e-b141-dcde448ec3b2",
   "metadata": {},
   "outputs": [
    {
     "data": {
      "text/plain": [
       "[2602, 9478, 9996, 12542, 12813, 14417, 15489, 17135, 27698]"
      ]
     },
     "execution_count": 16,
     "metadata": {},
     "output_type": "execute_result"
    }
   ],
   "source": [
    "bad"
   ]
  },
  {
   "cell_type": "code",
   "execution_count": 17,
   "id": "a063dbb6-cb8e-492f-b516-37d699dcc604",
   "metadata": {},
   "outputs": [],
   "source": [
    "fixes = vce_ec.loc[bad,'geometry'].apply(lambda x: make_valid(x))"
   ]
  },
  {
   "cell_type": "code",
   "execution_count": 18,
   "id": "346b7d65-80bd-41f3-b78d-4cd3b5a8986e",
   "metadata": {},
   "outputs": [
    {
     "data": {
      "text/plain": [
       "2602     MULTIPOLYGON Z (((-113.17884 42.71619 0.00000,...\n",
       "9478     MULTIPOLYGON Z (((-82.51307 35.97529 0.00000, ...\n",
       "9996     MULTIPOLYGON Z (((-80.51851 37.40999 0.00000, ...\n",
       "12542    MULTIPOLYGON Z (((-80.51851 37.40999 0.00000, ...\n",
       "12813    MULTIPOLYGON Z (((-80.62693 37.43301 0.00000, ...\n",
       "14417    MULTIPOLYGON Z (((-82.78417 35.98186 0.00000, ...\n",
       "15489    MULTIPOLYGON Z (((-82.51307 35.97529 0.00000, ...\n",
       "17135    MULTIPOLYGON Z (((-80.51851 37.40999 0.00000, ...\n",
       "27698    MULTIPOLYGON Z (((-80.62693 37.43301 0.00000, ...\n",
       "Name: geometry, dtype: geometry"
      ]
     },
     "execution_count": 18,
     "metadata": {},
     "output_type": "execute_result"
    }
   ],
   "source": [
    "fixes"
   ]
  },
  {
   "cell_type": "code",
   "execution_count": 19,
   "id": "2cce270a-0423-4cc7-9568-bb93224bf41c",
   "metadata": {},
   "outputs": [],
   "source": [
    "vce_ec.loc[fixes.index, 'geometry'] = fixes"
   ]
  },
  {
   "cell_type": "code",
   "execution_count": 20,
   "id": "044647ff-cdfa-4d75-8649-aeb23c13668c",
   "metadata": {},
   "outputs": [],
   "source": [
    "vce_ec = vce_ec.to_crs(epsg=4269)"
   ]
  },
  {
   "cell_type": "markdown",
   "id": "23618f86-855a-4cb8-9c62-a98fc821d16a",
   "metadata": {},
   "source": [
    "# Compare spatial joins"
   ]
  },
  {
   "cell_type": "code",
   "execution_count": 21,
   "id": "9f8c1339-3b31-4003-9235-ec06fb114f0e",
   "metadata": {},
   "outputs": [
    {
     "data": {
      "text/plain": [
       "(56083, 20)"
      ]
     },
     "execution_count": 21,
     "metadata": {},
     "output_type": "execute_result"
    }
   ],
   "source": [
    "# \"intersect\" includes boundary points, so I need a second operation to\n",
    "#vremove intersections that don't share any interior space.\n",
    "counties.sjoin(vce_ec, how='left', predicate='intersects').shape"
   ]
  },
  {
   "cell_type": "code",
   "execution_count": 22,
   "id": "964054b6-e2ed-4680-81f5-d14047055115",
   "metadata": {},
   "outputs": [
    {
     "data": {
      "text/plain": [
       "(3235, 18)"
      ]
     },
     "execution_count": 22,
     "metadata": {},
     "output_type": "execute_result"
    }
   ],
   "source": [
    "counties.shape"
   ]
  },
  {
   "cell_type": "code",
   "execution_count": 28,
   "id": "7989e5cf-d1be-4426-bf71-0213b5faeb4f",
   "metadata": {},
   "outputs": [
    {
     "data": {
      "text/plain": [
       "(0, 20)"
      ]
     },
     "execution_count": 28,
     "metadata": {},
     "output_type": "execute_result"
    }
   ],
   "source": [
    "counties.sjoin(vce_ec, how='left', predicate='covered_by').drop_duplicates(subset='GEOID').dropna(subset='Site').shape"
   ]
  },
  {
   "cell_type": "code",
   "execution_count": 29,
   "id": "43056aef-aea7-4c46-9670-44a7b06c087a",
   "metadata": {},
   "outputs": [
    {
     "data": {
      "text/plain": [
       "(3013, 20)"
      ]
     },
     "execution_count": 29,
     "metadata": {},
     "output_type": "execute_result"
    }
   ],
   "source": [
    "counties.sjoin(vce_ec, how='left', predicate='intersects').drop_duplicates(subset='GEOID').dropna(subset='Site').shape"
   ]
  },
  {
   "cell_type": "code",
   "execution_count": 30,
   "id": "1d6a8357-19dd-4275-95de-9bae1800eb04",
   "metadata": {},
   "outputs": [
    {
     "data": {
      "text/plain": [
       "(0, 20)"
      ]
     },
     "execution_count": 30,
     "metadata": {},
     "output_type": "execute_result"
    }
   ],
   "source": [
    "counties.sjoin(vce_ec, how='left', predicate='touches').drop_duplicates(subset='GEOID').dropna(subset='Site').shape"
   ]
  },
  {
   "cell_type": "code",
   "execution_count": 26,
   "id": "0c2306bf-6145-4500-bae0-a98d3dbda58e",
   "metadata": {},
   "outputs": [
    {
     "data": {
      "text/plain": [
       "(93, 18)"
      ]
     },
     "execution_count": 26,
     "metadata": {},
     "output_type": "execute_result"
    }
   ],
   "source": [
    "#Look at nebraska only because VCE shapefile does not cover much of the state so it should not return many counties\n",
    "nebraska = counties[counties['STATEFP'].eq('31')]\n",
    "nebraska.shape"
   ]
  },
  {
   "cell_type": "code",
   "execution_count": 31,
   "id": "b5386236-9d07-4d56-b7ac-f92bd664e989",
   "metadata": {},
   "outputs": [],
   "source": [
    "neb_vce_intersect = nebraska.sjoin(vce_ec, how='left', predicate='intersects').drop_duplicates(subset='GEOID').dropna(subset='Site')"
   ]
  },
  {
   "cell_type": "code",
   "execution_count": 32,
   "id": "dee3a99d-a970-4a9e-b623-f9a2435a2994",
   "metadata": {},
   "outputs": [
    {
     "data": {
      "text/plain": [
       "(81, 20)"
      ]
     },
     "execution_count": 32,
     "metadata": {},
     "output_type": "execute_result"
    }
   ],
   "source": [
    "neb_vce_intersect.shape"
   ]
  },
  {
   "cell_type": "code",
   "execution_count": 33,
   "id": "eaea187f-f5f5-4584-90da-8f049c13b705",
   "metadata": {},
   "outputs": [
    {
     "data": {
      "text/plain": [
       "{'Hooker', 'Thomas'}"
      ]
     },
     "execution_count": 33,
     "metadata": {},
     "output_type": "execute_result"
    }
   ],
   "source": [
    "{'Cherry', 'Grant', 'Hooker', 'Thomas'}.difference(set(neb_vce_intersect['NAME'].to_list()))"
   ]
  },
  {
   "cell_type": "code",
   "execution_count": 36,
   "id": "0759ddbe-57bf-477d-a1d2-3891c1ea6d6a",
   "metadata": {},
   "outputs": [
    {
     "data": {
      "text/plain": [
       "<AxesSubplot: >"
      ]
     },
     "execution_count": 36,
     "metadata": {},
     "output_type": "execute_result"
    },
    {
     "data": {
      "image/png": "[encoded data removed]",
      "text/plain": [
       "<Figure size 640x480 with 1 Axes>"
      ]
     },
     "metadata": {},
     "output_type": "display_data"
    }
   ],
   "source": [
    "neb_vce_intersect['geometry'].plot()"
   ]
  },
  {
   "cell_type": "code",
   "execution_count": 45,
   "id": "d5f7a6b0-8684-4b32-91a7-25ca8edaec13",
   "metadata": {},
   "outputs": [
    {
     "data": {
      "text/plain": [
       "0    POLYGON ((-96.55515 41.91587, -96.55515 41.914...\n",
       "1    POLYGON ((-123.72755 46.26449, -123.72755 46.2...\n",
       "Name: geometry, dtype: geometry"
      ]
     },
     "execution_count": 45,
     "metadata": {},
     "output_type": "execute_result"
    }
   ],
   "source": [
    "counties.loc[:1, 'geometry']#.buffer(0.1)"
   ]
  },
  {
   "cell_type": "code",
   "execution_count": 47,
   "id": "db161ab0-ba5c-4c92-ab3c-b0f1606be4fa",
   "metadata": {},
   "outputs": [
    {
     "name": "stderr",
     "output_type": "stream",
     "text": [
      "/tmp/ipykernel_29774/329989330.py:1: UserWarning: Geometry is in a geographic CRS. Results from 'buffer' are likely incorrect. Use 'GeoSeries.to_crs()' to re-project geometries to a projected CRS before this operation.\n",
      "\n",
      "  counties.loc[:1, 'geometry'].buffer(0.2)\n"
     ]
    },
    {
     "data": {
      "text/plain": [
       "0    POLYGON ((-97.21981 41.75380, -97.21980 41.757...\n",
       "1    POLYGON ((-123.92775 46.27778, -123.92781 46.2...\n",
       "dtype: geometry"
      ]
     },
     "execution_count": 47,
     "metadata": {},
     "output_type": "execute_result"
    }
   ],
   "source": [
    "counties.loc[:1, 'geometry'].buffer(0.2)"
   ]
  },
  {
   "cell_type": "code",
   "execution_count": 48,
   "id": "47989cbf-ead8-4dcb-918b-6ab0c8c6b004",
   "metadata": {},
   "outputs": [
    {
     "name": "stderr",
     "output_type": "stream",
     "text": [
      "/tmp/ipykernel_29774/82828183.py:1: UserWarning: Geometry is in a geographic CRS. Results from 'buffer' are likely incorrect. Use 'GeoSeries.to_crs()' to re-project geometries to a projected CRS before this operation.\n",
      "\n",
      "  counties.loc[:1, 'geometry'].buffer(-0.2)\n"
     ]
    },
    {
     "data": {
      "text/plain": [
       "0    POLYGON EMPTY\n",
       "1    POLYGON EMPTY\n",
       "dtype: geometry"
      ]
     },
     "execution_count": 48,
     "metadata": {},
     "output_type": "execute_result"
    }
   ],
   "source": [
    "counties.loc[:1, 'geometry'].buffer(-0.2)"
   ]
  },
  {
   "cell_type": "code",
   "execution_count": 49,
   "id": "54949035-e2b1-4f66-88b5-a346b9c0e1c8",
   "metadata": {},
   "outputs": [
    {
     "data": {
      "text/plain": [
       "0    POLYGON ((-96.55539 41.91587, -96.55539 41.914...\n",
       "1    POLYGON ((-123.72730 46.26449, -123.72730 46.2...\n",
       "dtype: geometry"
      ]
     },
     "execution_count": 49,
     "metadata": {},
     "output_type": "execute_result"
    }
   ],
   "source": [
    "counties.loc[:1, 'geometry'].scale(0.999)"
   ]
  },
  {
   "cell_type": "code",
   "execution_count": 44,
   "id": "d8bd7460-c651-4f00-9c5c-b6cdb4f0c218",
   "metadata": {},
   "outputs": [
    {
     "name": "stderr",
     "output_type": "stream",
     "text": [
      "/tmp/ipykernel_29774/3849374542.py:1: UserWarning: Geometry is in a geographic CRS. Results from 'buffer' are likely incorrect. Use 'GeoSeries.to_crs()' to re-project geometries to a projected CRS before this operation.\n",
      "\n",
      "  counties.buffer(0.1)\n"
     ]
    },
    {
     "data": {
      "text/plain": [
       "0       POLYGON ((-97.11984 41.74417, -97.11980 41.745...\n",
       "1       POLYGON ((-123.82789 46.28828, -123.82789 46.2...\n",
       "2       POLYGON ((-104.99337 34.08950, -104.99337 34.0...\n",
       "3       POLYGON ((-97.01372 40.65820, -97.01372 40.658...\n",
       "4       POLYGON ((-98.37389 40.05798, -98.37402 40.064...\n",
       "                              ...                        \n",
       "3230    POLYGON ((-84.75524 34.68111, -84.75524 34.681...\n",
       "3231    POLYGON ((-96.50552 48.99204, -96.50556 48.993...\n",
       "3232    POLYGON ((-90.54985 32.55987, -90.54994 32.560...\n",
       "3233    POLYGON ((-101.79403 32.15711, -101.79406 32.1...\n",
       "3234    POLYGON ((-82.29349 37.82453, -82.29381 37.822...\n",
       "Length: 3235, dtype: geometry"
      ]
     },
     "execution_count": 44,
     "metadata": {},
     "output_type": "execute_result"
    }
   ],
   "source": [
    "counties.buffer(0.1)"
   ]
  },
  {
   "cell_type": "markdown",
   "id": "4153440a-c021-425c-b853-b39687169f1e",
   "metadata": {},
   "source": [
    "### Try scaling to remove intersections based only on boundary points"
   ]
  },
  {
   "cell_type": "code",
   "execution_count": 100,
   "id": "06fb1d27-6ea7-425b-824d-955681b70182",
   "metadata": {},
   "outputs": [
    {
     "data": {
      "text/plain": [
       "(93, 18)"
      ]
     },
     "execution_count": 100,
     "metadata": {},
     "output_type": "execute_result"
    }
   ],
   "source": [
    "#Look at SCALED nebraska\n",
    "scale_factor = 0.98\n",
    "scaled_nebraska = counties[counties['STATEFP'].eq('31')].copy()\n",
    "scaled_nebraska['geometry'] = scaled_nebraska['geometry'].scale(xfact=scale_factor, yfact=scale_factor)\n",
    "nebraska.shape"
   ]
  },
  {
   "cell_type": "code",
   "execution_count": 101,
   "id": "b793605c-f0e0-441a-8ee2-5e1e3b50b17c",
   "metadata": {},
   "outputs": [],
   "source": [
    "scaled_neb_vce_intersect = scaled_nebraska.sjoin(vce_ec, how='left', predicate='intersects').drop_duplicates(subset='GEOID').dropna(subset='Site')"
   ]
  },
  {
   "cell_type": "code",
   "execution_count": 102,
   "id": "282ff5eb-f28b-445b-8e34-04b70206322a",
   "metadata": {},
   "outputs": [
    {
     "data": {
      "text/plain": [
       "(68, 20)"
      ]
     },
     "execution_count": 102,
     "metadata": {},
     "output_type": "execute_result"
    }
   ],
   "source": [
    "scaled_neb_vce_intersect.shape"
   ]
  },
  {
   "cell_type": "code",
   "execution_count": 103,
   "id": "6d91580f-6fbb-4da7-8f46-34d4661523a4",
   "metadata": {},
   "outputs": [
    {
     "data": {
      "text/plain": [
       "{'Cherry', 'Grant', 'Hooker', 'Thomas'}"
      ]
     },
     "execution_count": 103,
     "metadata": {},
     "output_type": "execute_result"
    }
   ],
   "source": [
    "{'Cherry', 'Grant', 'Hooker', 'Thomas'}.difference(set(scaled_neb_vce_intersect['NAME'].to_list()))"
   ]
  },
  {
   "cell_type": "code",
   "execution_count": 104,
   "id": "0088ab01-f3f2-46c8-aadc-49d732b4ed22",
   "metadata": {},
   "outputs": [
    {
     "data": {
      "text/plain": [
       "<AxesSubplot: >"
      ]
     },
     "execution_count": 104,
     "metadata": {},
     "output_type": "execute_result"
    },
    {
     "data": {
      "image/png": "[encoded data removed]",
      "text/plain": [
       "<Figure size 640x480 with 1 Axes>"
      ]
     },
     "metadata": {},
     "output_type": "display_data"
    }
   ],
   "source": [
    "scaled_neb_vce_intersect['geometry'].plot()"
   ]
  },
  {
   "cell_type": "markdown",
   "id": "1eea6a43-de3f-4eff-91e2-8a6694c9d988",
   "metadata": {},
   "source": [
    "# Repeat Intersection calc with down-scaled counties"
   ]
  },
  {
   "cell_type": "code",
   "execution_count": 119,
   "id": "5adcbacb-a2ef-4cda-a553-5858d830c7bc",
   "metadata": {},
   "outputs": [
    {
     "data": {
      "text/plain": [
       "(3235, 18)"
      ]
     },
     "execution_count": 119,
     "metadata": {},
     "output_type": "execute_result"
    }
   ],
   "source": [
    "scale_factor = 0.98\n",
    "scaled_counties = counties.copy()\n",
    "scaled_counties['geometry'] = scaled_counties['geometry'].scale(xfact=scale_factor, yfact=scale_factor)\n",
    "scaled_counties.shape"
   ]
  },
  {
   "cell_type": "code",
   "execution_count": 120,
   "id": "384e472a-9584-436d-8de2-88fdd13a3d43",
   "metadata": {},
   "outputs": [],
   "source": [
    "scaled_vce_intersect = scaled_counties.sjoin(vce_ec, how='left', predicate='intersects').drop_duplicates(subset='GEOID').dropna(subset='Site')"
   ]
  },
  {
   "cell_type": "code",
   "execution_count": 121,
   "id": "5c83a0f3-90cb-4cb6-97dd-5a9c87dcba65",
   "metadata": {},
   "outputs": [
    {
     "data": {
      "text/plain": [
       "(2892, 20)"
      ]
     },
     "execution_count": 121,
     "metadata": {},
     "output_type": "execute_result"
    }
   ],
   "source": [
    "scaled_vce_intersect.shape"
   ]
  },
  {
   "cell_type": "code",
   "execution_count": 122,
   "id": "a32d7f4f-3961-4dab-829b-f7c38dd6d055",
   "metadata": {},
   "outputs": [
    {
     "data": {
      "text/plain": [
       "{'Cherry', 'Grant', 'Hooker', 'Thomas'}"
      ]
     },
     "execution_count": 122,
     "metadata": {},
     "output_type": "execute_result"
    }
   ],
   "source": [
    "# check some nebraska counties are correctly excluded\n",
    "{'Cherry', 'Grant', 'Hooker', 'Thomas'}.difference(set(scaled_vce_intersect.loc[scaled_vce_intersect['STATEFP'].eq('31'),'NAME'].to_list()))"
   ]
  },
  {
   "cell_type": "code",
   "execution_count": 123,
   "id": "448ddef1-53e5-415e-82d4-52818a505a06",
   "metadata": {},
   "outputs": [
    {
     "data": {
      "text/plain": [
       "<AxesSubplot: >"
      ]
     },
     "execution_count": 123,
     "metadata": {},
     "output_type": "execute_result"
    },
    {
     "data": {
      "image/png": "[encoded data removed]",
      "text/plain": [
       "<Figure size 640x480 with 1 Axes>"
      ]
     },
     "metadata": {},
     "output_type": "display_data"
    }
   ],
   "source": [
    "scaled_vce_intersect.loc[scaled_vce_intersect['STATEFP'].eq('31'), 'geometry'].plot()"
   ]
  },
  {
   "cell_type": "code",
   "execution_count": 162,
   "id": "6cd8f795-3005-4da0-9012-12b34fc4868b",
   "metadata": {},
   "outputs": [
    {
     "data": {
      "text/plain": [
       "(2892, 20)"
      ]
     },
     "execution_count": 162,
     "metadata": {},
     "output_type": "execute_result"
    }
   ],
   "source": [
    "scaled_vce_intersect.shape"
   ]
  },
  {
   "cell_type": "code",
   "execution_count": 124,
   "id": "547aa590-2949-4f6a-8f70-4278a8584cb7",
   "metadata": {},
   "outputs": [
    {
     "data": {
      "text/plain": [
       "0.8939721792890263"
      ]
     },
     "execution_count": 124,
     "metadata": {},
     "output_type": "execute_result"
    }
   ],
   "source": [
    "scaled_vce_intersect.shape[0] / counties.shape[0]"
   ]
  },
  {
   "cell_type": "markdown",
   "id": "c4136bbd-51fc-49c9-9378-b001b324c126",
   "metadata": {},
   "source": [
    "Only 10.6% of counties DONT qualify!"
   ]
  },
  {
   "cell_type": "markdown",
   "id": "35af84e7-5b93-4810-82ae-fb8e565f8e0d",
   "metadata": {},
   "source": [
    "# RFF version"
   ]
  },
  {
   "cell_type": "code",
   "execution_count": 125,
   "id": "81790790-605a-4355-b5b2-284faa29fe97",
   "metadata": {},
   "outputs": [],
   "source": [
    "brownfield_rff = gpd.read_file(Path(\"./ira_energy_communities_data/rff/brownfields/brownfields.shp\"))\n",
    "coal_mines_rff = gpd.read_file(Path(\"./ira_energy_communities_data/rff/closed_coal_mines/closed_coal_mines.shp\"))\n",
    "coal_plants_rff = gpd.read_file(Path(\"./ira_energy_communities_data/rff/retired_coal_plants/retired_coal_plants.shp\"))\n",
    "# energy_employment_rff = gpd.read_file(Path(\"./ira_energy_communities_data/rff/energy_employment/energy_employment.shp\"))\n",
    "energy_and_total_employment_rff = gpd.read_file(Path(\"./ira_energy_communities_data/rff/energy_employment_total_unemployment/energy_employment_total_unemployment.shp\"))"
   ]
  },
  {
   "cell_type": "code",
   "execution_count": 128,
   "id": "b5f423ee-eb50-46d1-b7f9-3ff55c118a6f",
   "metadata": {},
   "outputs": [
    {
     "data": {
      "text/html": [
       "<div>\n",
       "<style scoped>\n",
       "    .dataframe tbody tr th:only-of-type {\n",
       "        vertical-align: middle;\n",
       "    }\n",
       "\n",
       "    .dataframe tbody tr th {\n",
       "        vertical-align: top;\n",
       "    }\n",
       "\n",
       "    .dataframe thead th {\n",
       "        text-align: right;\n",
       "    }\n",
       "</style>\n",
       "<table border=\"1\" class=\"dataframe\">\n",
       "  <thead>\n",
       "    <tr style=\"text-align: right;\">\n",
       "      <th></th>\n",
       "      <th>Name</th>\n",
       "      <th>geometry</th>\n",
       "    </tr>\n",
       "  </thead>\n",
       "  <tbody>\n",
       "    <tr>\n",
       "      <th>0</th>\n",
       "      <td>BUCK CREEK MILL</td>\n",
       "      <td>POINT (-86.82603 33.23197)</td>\n",
       "    </tr>\n",
       "    <tr>\n",
       "      <th>1</th>\n",
       "      <td>ALATEX MILL (NEW MILL SECTION FORMERLY)</td>\n",
       "      <td>POINT (-86.49298 31.31609)</td>\n",
       "    </tr>\n",
       "  </tbody>\n",
       "</table>\n",
       "</div>"
      ],
      "text/plain": [
       "                                      Name                    geometry\n",
       "0                          BUCK CREEK MILL  POINT (-86.82603 33.23197)\n",
       "1  ALATEX MILL (NEW MILL SECTION FORMERLY)  POINT (-86.49298 31.31609)"
      ]
     },
     "execution_count": 128,
     "metadata": {},
     "output_type": "execute_result"
    }
   ],
   "source": [
    "brownfield_rff.head(2)"
   ]
  },
  {
   "cell_type": "code",
   "execution_count": 129,
   "id": "de4d5da4-6ca4-420d-899f-d8f3d5a160ee",
   "metadata": {},
   "outputs": [
    {
     "data": {
      "text/plain": [
       "Index(['STATEFP', 'COUNTYFP', 'COUNTYNS', 'GEOID', 'NAME', 'NAMELSAD', 'LSAD',\n",
       "       'CLASSFP', 'MTFCC', 'CSAFP', 'CBSAFP', 'METDIVFP', 'FUNCSTAT', 'ALAND',\n",
       "       'AWATER', 'INTPTLAT', 'INTPTLON', 'geometry'],\n",
       "      dtype='object')"
      ]
     },
     "execution_count": 129,
     "metadata": {},
     "output_type": "execute_result"
    }
   ],
   "source": [
    "counties.columns"
   ]
  },
  {
   "cell_type": "code",
   "execution_count": 130,
   "id": "93456716-c156-4850-a52b-743f56962ce7",
   "metadata": {},
   "outputs": [
    {
     "data": {
      "text/plain": [
       "Name        0\n",
       "geometry    0\n",
       "dtype: int64"
      ]
     },
     "execution_count": 130,
     "metadata": {},
     "output_type": "execute_result"
    }
   ],
   "source": [
    "brownfield_rff.isna().sum()"
   ]
  },
  {
   "cell_type": "code",
   "execution_count": 131,
   "id": "4b8c3852-895c-42df-9985-052ed0f54ce0",
   "metadata": {},
   "outputs": [
    {
     "data": {
      "text/plain": [
       "(2003, 20)"
      ]
     },
     "execution_count": 131,
     "metadata": {},
     "output_type": "execute_result"
    }
   ],
   "source": [
    "counties.sjoin(brownfield_rff, how='left', predicate='intersects').drop_duplicates(subset='GEOID').dropna(subset='Name').shape"
   ]
  },
  {
   "cell_type": "code",
   "execution_count": 148,
   "id": "406dd3a2-bd68-44eb-9de0-46f15f6a0861",
   "metadata": {},
   "outputs": [
    {
     "data": {
      "text/plain": [
       "(1988, 20)"
      ]
     },
     "execution_count": 148,
     "metadata": {},
     "output_type": "execute_result"
    }
   ],
   "source": [
    "# I don't think I should use scaled counties on brownfields because they are points, not areas, so shouldn't have the boundary point problems that areas have.\n",
    "scaled_counties.sjoin(brownfield_rff, how='left', predicate='intersects').drop_duplicates(subset='GEOID').dropna(subset='Name').shape"
   ]
  },
  {
   "cell_type": "code",
   "execution_count": 132,
   "id": "72154e5f-8668-46f3-9e65-ec35b65c2d4c",
   "metadata": {},
   "outputs": [
    {
     "data": {
      "text/plain": [
       "(2003, 20)"
      ]
     },
     "execution_count": 132,
     "metadata": {},
     "output_type": "execute_result"
    }
   ],
   "source": [
    "# can use contains because brownfields are represented with points, not areas\n",
    "counties.sjoin(brownfield_rff, how='left', predicate='contains').drop_duplicates(subset='GEOID').dropna(subset='Name').shape"
   ]
  },
  {
   "cell_type": "code",
   "execution_count": 133,
   "id": "d4e87584-3815-471f-991a-0d4f5b3db445",
   "metadata": {},
   "outputs": [
    {
     "data": {
      "text/html": [
       "<div>\n",
       "<style scoped>\n",
       "    .dataframe tbody tr th:only-of-type {\n",
       "        vertical-align: middle;\n",
       "    }\n",
       "\n",
       "    .dataframe tbody tr th {\n",
       "        vertical-align: top;\n",
       "    }\n",
       "\n",
       "    .dataframe thead th {\n",
       "        text-align: right;\n",
       "    }\n",
       "</style>\n",
       "<table border=\"1\" class=\"dataframe\">\n",
       "  <thead>\n",
       "    <tr style=\"text-align: right;\">\n",
       "      <th></th>\n",
       "      <th>GEOID</th>\n",
       "      <th>geometry</th>\n",
       "    </tr>\n",
       "  </thead>\n",
       "  <tbody>\n",
       "    <tr>\n",
       "      <th>0</th>\n",
       "      <td>01009050500</td>\n",
       "      <td>POLYGON ((846408.194 1253602.844, 846518.301 1...</td>\n",
       "    </tr>\n",
       "    <tr>\n",
       "      <th>1</th>\n",
       "      <td>01071950400</td>\n",
       "      <td>POLYGON ((873401.487 1357222.873, 873691.320 1...</td>\n",
       "    </tr>\n",
       "  </tbody>\n",
       "</table>\n",
       "</div>"
      ],
      "text/plain": [
       "         GEOID                                           geometry\n",
       "0  01009050500  POLYGON ((846408.194 1253602.844, 846518.301 1...\n",
       "1  01071950400  POLYGON ((873401.487 1357222.873, 873691.320 1..."
      ]
     },
     "execution_count": 133,
     "metadata": {},
     "output_type": "execute_result"
    }
   ],
   "source": [
    "coal_mines_rff.head(2)"
   ]
  },
  {
   "cell_type": "code",
   "execution_count": 134,
   "id": "192495cf-ce31-4ae4-bb2a-bc4ecc8a11ac",
   "metadata": {},
   "outputs": [
    {
     "data": {
      "text/plain": [
       "GEOID       0\n",
       "geometry    0\n",
       "dtype: int64"
      ]
     },
     "execution_count": 134,
     "metadata": {},
     "output_type": "execute_result"
    }
   ],
   "source": [
    "coal_mines_rff.isna().sum()"
   ]
  },
  {
   "cell_type": "code",
   "execution_count": 135,
   "id": "97dd922b-64f5-491b-af8e-3ae89cc1a0ea",
   "metadata": {},
   "outputs": [
    {
     "name": "stderr",
     "output_type": "stream",
     "text": [
      "/home/tpb/mambaforge/envs/pudl-impute/lib/python3.10/site-packages/geopandas/geodataframe.py:2061: UserWarning: CRS mismatch between the CRS of left geometries and the CRS of right geometries.\n",
      "Use `to_crs()` to reproject one of the input geometries to match the CRS of the other.\n",
      "\n",
      "Left CRS: EPSG:4269\n",
      "Right CRS: EPSG:5070\n",
      "\n",
      "  return geopandas.sjoin(left_df=self, right_df=df, *args, **kwargs)\n"
     ]
    },
    {
     "data": {
      "text/plain": [
       "(0, 20)"
      ]
     },
     "execution_count": 135,
     "metadata": {},
     "output_type": "execute_result"
    }
   ],
   "source": [
    "counties.sjoin(coal_mines_rff.rename(columns={'GEOID': 'tract_FIPS'}), how='left', predicate='intersects').drop_duplicates(subset='GEOID').dropna(subset='tract_FIPS').shape"
   ]
  },
  {
   "cell_type": "code",
   "execution_count": 136,
   "id": "2266070e-382e-4373-95f5-76ede9a86875",
   "metadata": {},
   "outputs": [
    {
     "data": {
      "text/plain": [
       "<Derived Projected CRS: EPSG:5070>\n",
       "Name: NAD83 / Conus Albers\n",
       "Axis Info [cartesian]:\n",
       "- X[east]: Easting (metre)\n",
       "- Y[north]: Northing (metre)\n",
       "Area of Use:\n",
       "- name: United States (USA) - CONUS onshore - Alabama; Arizona; Arkansas; California; Colorado; Connecticut; Delaware; Florida; Georgia; Idaho; Illinois; Indiana; Iowa; Kansas; Kentucky; Louisiana; Maine; Maryland; Massachusetts; Michigan; Minnesota; Mississippi; Missouri; Montana; Nebraska; Nevada; New Hampshire; New Jersey; New Mexico; New York; North Carolina; North Dakota; Ohio; Oklahoma; Oregon; Pennsylvania; Rhode Island; South Carolina; South Dakota; Tennessee; Texas; Utah; Vermont; Virginia; Washington; West Virginia; Wisconsin; Wyoming.\n",
       "- bounds: (-124.79, 24.41, -66.91, 49.38)\n",
       "Coordinate Operation:\n",
       "- name: Conus Albers\n",
       "- method: Albers Equal Area\n",
       "Datum: North American Datum 1983\n",
       "- Ellipsoid: GRS 1980\n",
       "- Prime Meridian: Greenwich"
      ]
     },
     "execution_count": 136,
     "metadata": {},
     "output_type": "execute_result"
    }
   ],
   "source": [
    "coal_mines_rff.crs"
   ]
  },
  {
   "cell_type": "code",
   "execution_count": 137,
   "id": "f27c55dc-d54d-47eb-86ae-4e188fc26593",
   "metadata": {},
   "outputs": [],
   "source": [
    "coal_mines_rff = coal_mines_rff.to_crs(epsg=4269)"
   ]
  },
  {
   "cell_type": "code",
   "execution_count": 138,
   "id": "de5afdfa-5db1-4394-a0b4-8a14dda1a66d",
   "metadata": {},
   "outputs": [
    {
     "data": {
      "text/plain": [
       "(859, 20)"
      ]
     },
     "execution_count": 138,
     "metadata": {},
     "output_type": "execute_result"
    }
   ],
   "source": [
    "counties.sjoin(coal_mines_rff.rename(columns={'GEOID': 'tract_FIPS'}), how='left', predicate='intersects').drop_duplicates(subset='GEOID').dropna(subset='tract_FIPS').shape"
   ]
  },
  {
   "cell_type": "code",
   "execution_count": 149,
   "id": "3859f131-f660-4e8a-b9f7-f000c168a67b",
   "metadata": {},
   "outputs": [
    {
     "data": {
      "text/plain": [
       "(711, 20)"
      ]
     },
     "execution_count": 149,
     "metadata": {},
     "output_type": "execute_result"
    }
   ],
   "source": [
    "scaled_counties.sjoin(coal_mines_rff.rename(columns={'GEOID': 'tract_FIPS'}), how='left', predicate='intersects').drop_duplicates(subset='GEOID').dropna(subset='tract_FIPS').shape"
   ]
  },
  {
   "cell_type": "code",
   "execution_count": 140,
   "id": "6aaa2349-35aa-4a5f-9a0b-491565541037",
   "metadata": {},
   "outputs": [],
   "source": [
    "coal_plants_rff = coal_plants_rff.to_crs(epsg=4269)"
   ]
  },
  {
   "cell_type": "code",
   "execution_count": 142,
   "id": "df155661-3839-42f7-8009-9ff50aa6b448",
   "metadata": {},
   "outputs": [
    {
     "data": {
      "text/plain": [
       "(1021, 20)"
      ]
     },
     "execution_count": 142,
     "metadata": {},
     "output_type": "execute_result"
    }
   ],
   "source": [
    "counties.sjoin(coal_plants_rff.rename(columns={'GEOID': 'tract_FIPS'}), how='left', predicate='intersects').drop_duplicates(subset='GEOID').dropna(subset='tract_FIPS').shape"
   ]
  },
  {
   "cell_type": "code",
   "execution_count": 152,
   "id": "d4b74137-4bdb-4733-b79b-77b31e03f044",
   "metadata": {},
   "outputs": [
    {
     "data": {
      "text/plain": [
       "(726, 20)"
      ]
     },
     "execution_count": 152,
     "metadata": {},
     "output_type": "execute_result"
    }
   ],
   "source": [
    "scaled_counties.sjoin(coal_plants_rff.rename(columns={'GEOID': 'tract_FIPS'}), how='left', predicate='intersects').drop_duplicates(subset='GEOID').dropna(subset='tract_FIPS').shape"
   ]
  },
  {
   "cell_type": "code",
   "execution_count": 144,
   "id": "363bf125-1534-4855-b0bb-bbc16e35e117",
   "metadata": {},
   "outputs": [],
   "source": [
    "energy_and_total_employment_rff = energy_and_total_employment_rff.to_crs(epsg=4269)"
   ]
  },
  {
   "cell_type": "code",
   "execution_count": 146,
   "id": "ad75505a-456f-432a-9490-ef147f8980c3",
   "metadata": {},
   "outputs": [
    {
     "data": {
      "text/plain": [
       "msa_code    0\n",
       "geometry    0\n",
       "dtype: int64"
      ]
     },
     "execution_count": 146,
     "metadata": {},
     "output_type": "execute_result"
    }
   ],
   "source": [
    "energy_and_total_employment_rff.isna().sum()"
   ]
  },
  {
   "cell_type": "code",
   "execution_count": 147,
   "id": "54b5825b-c3c4-4a6a-ae98-08bce9940287",
   "metadata": {},
   "outputs": [
    {
     "data": {
      "text/plain": [
       "(1200, 20)"
      ]
     },
     "execution_count": 147,
     "metadata": {},
     "output_type": "execute_result"
    }
   ],
   "source": [
    "counties.sjoin(energy_and_total_employment_rff, how='left', predicate='intersects').drop_duplicates(subset='GEOID').dropna(subset='msa_code').shape"
   ]
  },
  {
   "cell_type": "code",
   "execution_count": 153,
   "id": "a75c34b6-b302-40ff-aeb4-34e02c9815ed",
   "metadata": {},
   "outputs": [
    {
     "data": {
      "text/plain": [
       "(960, 20)"
      ]
     },
     "execution_count": 153,
     "metadata": {},
     "output_type": "execute_result"
    }
   ],
   "source": [
    "scaled_counties.sjoin(energy_and_total_employment_rff, how='left', predicate='intersects').drop_duplicates(subset='GEOID').dropna(subset='msa_code').shape"
   ]
  },
  {
   "cell_type": "markdown",
   "id": "89e91a5a-218b-4744-a188-d5cc9f4bad42",
   "metadata": {},
   "source": [
    "## Calculate and combine\n",
    "Will used scaled counties for all pieces EXCEPT brownfields. This is because brownfields are represetned with points, not areas, so should not produce erroneous joins due to shared boundary points."
   ]
  },
  {
   "cell_type": "code",
   "execution_count": 150,
   "id": "c33571e3-8a7a-4b30-8974-59b85531dc11",
   "metadata": {},
   "outputs": [],
   "source": [
    "rff_counties = []"
   ]
  },
  {
   "cell_type": "code",
   "execution_count": 151,
   "id": "e1a8def2-e7b3-4ccd-aa2a-f700b2dddf00",
   "metadata": {},
   "outputs": [],
   "source": [
    "rff_counties.append(counties.sjoin(brownfield_rff, how='left', predicate='contains').drop_duplicates(subset='GEOID').dropna(subset='Name'))"
   ]
  },
  {
   "cell_type": "code",
   "execution_count": 157,
   "id": "bfb3b4db-cf93-455c-baa9-7d05bf2d876f",
   "metadata": {},
   "outputs": [],
   "source": [
    "rff_counties.append(scaled_counties.sjoin(coal_mines_rff.rename(columns={'GEOID': 'tract_FIPS'}), how='left', predicate='intersects').drop_duplicates(subset='GEOID').dropna(subset='tract_FIPS'))"
   ]
  },
  {
   "cell_type": "code",
   "execution_count": 158,
   "id": "16c50dce-d707-48c6-8007-1c46a6babfb5",
   "metadata": {},
   "outputs": [],
   "source": [
    "rff_counties.append(scaled_counties.sjoin(coal_plants_rff.rename(columns={'GEOID': 'tract_FIPS'}), how='left', predicate='intersects').drop_duplicates(subset='GEOID').dropna(subset='tract_FIPS'))"
   ]
  },
  {
   "cell_type": "code",
   "execution_count": 159,
   "id": "503b615a-ae85-4400-be9d-91f1381c7a97",
   "metadata": {},
   "outputs": [],
   "source": [
    "rff_counties.append(scaled_counties.sjoin(energy_and_total_employment_rff, how='left', predicate='intersects').drop_duplicates(subset='GEOID').dropna(subset='msa_code'))"
   ]
  },
  {
   "cell_type": "code",
   "execution_count": 160,
   "id": "9faf2ddd-9494-4c7a-af16-248386d9905f",
   "metadata": {},
   "outputs": [
    {
     "data": {
      "text/plain": [
       "(2603, 2)"
      ]
     },
     "execution_count": 160,
     "metadata": {},
     "output_type": "execute_result"
    }
   ],
   "source": [
    "rff_final = pd.concat([df[['GEOID', 'NAME']] for df in rff_counties], ignore_index=True, axis=0).drop_duplicates(subset='GEOID')\n",
    "rff_final.shape"
   ]
  },
  {
   "cell_type": "code",
   "execution_count": 161,
   "id": "07c4c6e7-d49a-457b-bf2b-9028753edd57",
   "metadata": {},
   "outputs": [
    {
     "data": {
      "text/html": [
       "<div>\n",
       "<style scoped>\n",
       "    .dataframe tbody tr th:only-of-type {\n",
       "        vertical-align: middle;\n",
       "    }\n",
       "\n",
       "    .dataframe tbody tr th {\n",
       "        vertical-align: top;\n",
       "    }\n",
       "\n",
       "    .dataframe thead th {\n",
       "        text-align: right;\n",
       "    }\n",
       "</style>\n",
       "<table border=\"1\" class=\"dataframe\">\n",
       "  <thead>\n",
       "    <tr style=\"text-align: right;\">\n",
       "      <th></th>\n",
       "      <th>GEOID</th>\n",
       "      <th>NAME</th>\n",
       "    </tr>\n",
       "  </thead>\n",
       "  <tbody>\n",
       "    <tr>\n",
       "      <th>0</th>\n",
       "      <td>31039</td>\n",
       "      <td>Cuming</td>\n",
       "    </tr>\n",
       "    <tr>\n",
       "      <th>1</th>\n",
       "      <td>31109</td>\n",
       "      <td>Lancaster</td>\n",
       "    </tr>\n",
       "  </tbody>\n",
       "</table>\n",
       "</div>"
      ],
      "text/plain": [
       "   GEOID       NAME\n",
       "0  31039     Cuming\n",
       "1  31109  Lancaster"
      ]
     },
     "execution_count": 161,
     "metadata": {},
     "output_type": "execute_result"
    }
   ],
   "source": [
    "rff_final.head(2)"
   ]
  },
  {
   "cell_type": "code",
   "execution_count": 163,
   "id": "1981e138-a72a-4ec1-9ecf-512ef4e28ec3",
   "metadata": {},
   "outputs": [
    {
     "data": {
      "text/plain": [
       "0.8046367851622874"
      ]
     },
     "execution_count": 163,
     "metadata": {},
     "output_type": "execute_result"
    }
   ],
   "source": [
    "rff_final.shape[0] / counties.shape[0]"
   ]
  },
  {
   "cell_type": "code",
   "execution_count": null,
   "id": "70cef88e-577b-400b-b441-068863e73163",
   "metadata": {},
   "outputs": [],
   "source": []
  }
 ],
 "metadata": {
  "kernelspec": {
   "display_name": "Python 3 (ipykernel)",
   "language": "python",
   "name": "python3"
  },
  "language_info": {
   "codemirror_mode": {
    "name": "ipython",
    "version": 3
   },
   "file_extension": ".py",
   "mimetype": "text/x-python",
   "name": "python",
   "nbconvert_exporter": "python",
   "pygments_lexer": "ipython3",
   "version": "3.10.8"
  }
 },
 "nbformat": 4,
 "nbformat_minor": 5
}
