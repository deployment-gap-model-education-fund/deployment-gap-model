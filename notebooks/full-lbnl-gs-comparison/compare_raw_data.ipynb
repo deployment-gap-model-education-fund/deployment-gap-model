{
 "cells": [
  {
   "cell_type": "code",
   "execution_count": 1,
   "id": "d8f51827-8182-493d-ae63-2bcd2a6fb4ae",
   "metadata": {},
   "outputs": [
    {
     "name": "stderr",
     "output_type": "stream",
     "text": [
      "/app/.local/lib/python3.10/site-packages/geopandas/_compat.py:123: UserWarning: The Shapely GEOS version (3.11.3-CAPI-1.17.3) is incompatible with the GEOS version PyGEOS was compiled with (3.10.3-CAPI-1.16.1). Conversions between both will be slow.\n",
      "  warnings.warn(\n",
      "/app/.local/lib/python3.10/site-packages/pudl/analysis/spatial.py:7: UserWarning: Shapely 2.0 is installed, but because PyGEOS is also installed, GeoPandas will still use PyGEOS by default for now. To force to use and test Shapely 2.0, you have to set the environment variable USE_PYGEOS=0. You can do this before starting the Python process, or in your code before importing geopandas:\n",
      "\n",
      "import os\n",
      "os.environ['USE_PYGEOS'] = '0'\n",
      "import geopandas\n",
      "\n",
      "In a future release, GeoPandas will switch to using Shapely by default. If you are using PyGEOS directly (calling PyGEOS functions on geometries from GeoPandas), this will then stop working and you are encouraged to migrate from PyGEOS to Shapely 2.0 (https://shapely.readthedocs.io/en/latest/migration_pygeos.html).\n",
      "  import geopandas as gpd\n"
     ]
    }
   ],
   "source": [
    "import dbcp\n",
    "\n",
    "raw_gs_dfs = dbcp.extract.gridstatus_isoqueues.extract()"
   ]
  },
  {
   "cell_type": "code",
   "execution_count": 2,
   "id": "c3371d5c-a2af-4cd0-99e0-b0461e8236e0",
   "metadata": {},
   "outputs": [],
   "source": [
    "from pathlib import Path\n",
    "\n",
    "source_path = Path(\"/app/data/raw/queues_2022_clean_data.xlsx\")\n",
    "lbnl_raw = dbcp.extract.lbnl_iso_queue.extract(source_path)[\"lbnl_iso_queue\"]"
   ]
  },
  {
   "cell_type": "code",
   "execution_count": 3,
   "id": "381af2f6-b26b-4dbd-ac73-522dbdad7be7",
   "metadata": {},
   "outputs": [
    {
     "data": {
      "text/plain": [
       "False    25119\n",
       "True      3914\n",
       "dtype: int64"
      ]
     },
     "execution_count": 3,
     "metadata": {},
     "output_type": "execute_result"
    }
   ],
   "source": [
    "lbnl_raw.duplicated(subset=[\"queue_id\", \"region\"], keep=False).value_counts()"
   ]
  },
  {
   "cell_type": "code",
   "execution_count": 4,
   "id": "1720ced3-a455-4f00-9af5-80033a579ca6",
   "metadata": {},
   "outputs": [],
   "source": [
    "natural_key_fields = [\"queue_id\", \"region\"]"
   ]
  },
  {
   "cell_type": "code",
   "execution_count": 5,
   "id": "1a8170eb-bfb6-4530-9df5-b5dba8506974",
   "metadata": {},
   "outputs": [],
   "source": [
    "common_fields = None\n",
    "for iso, df in raw_gs_dfs.items():\n",
    "    if not common_fields:\n",
    "        common_fields = set(df.columns)\n",
    "    else:\n",
    "        common_fields = common_fields.intersection(set(df.columns))"
   ]
  },
  {
   "cell_type": "code",
   "execution_count": 6,
   "id": "78ac0d5f-22d3-45e5-8a1f-d000cbf482d5",
   "metadata": {},
   "outputs": [],
   "source": [
    "import pandas as pd\n",
    "\n",
    "gs = []\n",
    "for iso, df in raw_gs_dfs.items():\n",
    "    df[\"region\"] = iso.upper()\n",
    "    gs.append(df)\n",
    "gs = pd.concat(gs)\n",
    "\n",
    "gs[\"Queue ID\"] = gs[\"Queue ID\"].astype(\"string\")"
   ]
  },
  {
   "cell_type": "code",
   "execution_count": 7,
   "id": "9d439d82-5a33-4565-ad69-6060ef9ef6af",
   "metadata": {},
   "outputs": [
    {
     "name": "stderr",
     "output_type": "stream",
     "text": [
      "/tmp/ipykernel_47445/2365373187.py:2: SettingWithCopyWarning: \n",
      "A value is trying to be set on a copy of a slice from a DataFrame.\n",
      "Try using .loc[row_indexer,col_indexer] = value instead\n",
      "\n",
      "See the caveats in the documentation: https://pandas.pydata.org/pandas-docs/stable/user_guide/indexing.html#returning-a-view-versus-a-copy\n",
      "  lbnl[\"region\"] = lbnl[\"region\"].str.replace(\"ISO-NE\", \"ISONE\")\n",
      "/tmp/ipykernel_47445/2365373187.py:3: SettingWithCopyWarning: \n",
      "A value is trying to be set on a copy of a slice from a DataFrame.\n",
      "Try using .loc[row_indexer,col_indexer] = value instead\n",
      "\n",
      "See the caveats in the documentation: https://pandas.pydata.org/pandas-docs/stable/user_guide/indexing.html#returning-a-view-versus-a-copy\n",
      "  lbnl[\"queue_id\"] = lbnl[\"queue_id\"].astype(\"string\")\n"
     ]
    },
    {
     "data": {
      "text/plain": [
       "PJM      7738\n",
       "MISO     4071\n",
       "CAISO    2274\n",
       "ERCOT    1952\n",
       "NYISO    1260\n",
       "ISONE    1255\n",
       "SPP       802\n",
       "Name: region, dtype: int64"
      ]
     },
     "execution_count": 7,
     "metadata": {},
     "output_type": "execute_result"
    }
   ],
   "source": [
    "lbnl = lbnl_raw[~lbnl_raw.region.str.contains(\"non-ISO\").fillna(False)]\n",
    "lbnl[\"region\"] = lbnl[\"region\"].str.replace(\"ISO-NE\", \"ISONE\")\n",
    "lbnl[\"queue_id\"] = lbnl[\"queue_id\"].astype(\"string\")\n",
    "\n",
    "lbnl.region.value_counts()"
   ]
  },
  {
   "cell_type": "code",
   "execution_count": 8,
   "id": "f7db9a1a-b561-4851-815a-67bb717ce97c",
   "metadata": {},
   "outputs": [
    {
     "name": "stdout",
     "output_type": "stream",
     "text": [
      "(19353, 29)\n",
      "(21257, 116)\n"
     ]
    }
   ],
   "source": [
    "print(lbnl.shape)\n",
    "print(gs.shape)"
   ]
  },
  {
   "cell_type": "markdown",
   "id": "28d42942-b51a-46be-a940-b226bc5521d4",
   "metadata": {},
   "source": [
    "## Projects in GS not in LBNL\n",
    "- Expect projects that enetered the queue after 2023\n",
    "- Expect withdrawn projects from SPP\n"
   ]
  },
  {
   "cell_type": "markdown",
   "id": "db62e23a-cfbd-4102-a8e8-680bc0e3d8c6",
   "metadata": {
    "tags": []
   },
   "source": [
    "### Cleaning to make a fair comparison"
   ]
  },
  {
   "cell_type": "code",
   "execution_count": 9,
   "id": "efd35d4b-9c86-43b3-aed7-d7f8ba2636a5",
   "metadata": {},
   "outputs": [
    {
     "name": "stderr",
     "output_type": "stream",
     "text": [
      "/tmp/ipykernel_47445/3240595588.py:1: SettingWithCopyWarning: \n",
      "A value is trying to be set on a copy of a slice from a DataFrame.\n",
      "Try using .loc[row_indexer,col_indexer] = value instead\n",
      "\n",
      "See the caveats in the documentation: https://pandas.pydata.org/pandas-docs/stable/user_guide/indexing.html#returning-a-view-versus-a-copy\n",
      "  lbnl[\"queue_date\"] = pd.to_datetime(lbnl[\"queue_date\"])\n",
      "/tmp/ipykernel_47445/3240595588.py:18: SettingWithCopyWarning: \n",
      "A value is trying to be set on a copy of a slice from a DataFrame.\n",
      "Try using .loc[row_indexer,col_indexer] = value instead\n",
      "\n",
      "See the caveats in the documentation: https://pandas.pydata.org/pandas-docs/stable/user_guide/indexing.html#returning-a-view-versus-a-copy\n",
      "  lbnl[\"date_withdrawn\"] = pd.to_datetime(lbnl[\"date_withdrawn\"])\n",
      "/tmp/ipykernel_47445/3240595588.py:19: SettingWithCopyWarning: \n",
      "A value is trying to be set on a copy of a slice from a DataFrame.\n",
      "Try using .loc[row_indexer,col_indexer] = value instead\n",
      "\n",
      "See the caveats in the documentation: https://pandas.pydata.org/pandas-docs/stable/user_guide/indexing.html#returning-a-view-versus-a-copy\n",
      "  lbnl[\"date_operational\"] = pd.to_datetime(lbnl[\"date_operational\"])\n"
     ]
    }
   ],
   "source": [
    "lbnl[\"queue_date\"] = pd.to_datetime(lbnl[\"queue_date\"])\n",
    "\n",
    "# NYISO\n",
    "is_region = gs.region.eq(\"NYISO\")\n",
    "gs.loc[is_region, \"Queue ID\"] = gs.loc[is_region, \"Queue ID\"].str.zfill(4)\n",
    "\n",
    "is_region = lbnl.region.eq(\"NYISO\")\n",
    "lbnl.loc[is_region, \"queue_id\"] = lbnl.loc[is_region, \"queue_id\"].str.zfill(4)\n",
    "\n",
    "# SPP\n",
    "# is_region = gs.region.eq(\"SPP\")\n",
    "# gs[\"Withdrawn Date\"] = pd.to_datetime(gs[\"Withdrawn Date\"], utc=True)\n",
    "# gs = gs[~(gs[\"Withdrawn Date\"].dt.year.lt(2023) & is_region)]\n",
    "\n",
    "# PJM\n",
    "gs[\"Queue ID\"] = gs[\"Queue ID\"].str.replace(\" - moved to TC1\", \"\")\n",
    "\n",
    "lbnl[\"date_withdrawn\"] = pd.to_datetime(lbnl[\"date_withdrawn\"])\n",
    "lbnl[\"date_operational\"] = pd.to_datetime(lbnl[\"date_operational\"])"
   ]
  },
  {
   "cell_type": "code",
   "execution_count": 10,
   "id": "f78aa71a-883b-44d0-bb6a-e494361f7afc",
   "metadata": {},
   "outputs": [
    {
     "name": "stderr",
     "output_type": "stream",
     "text": [
      "/tmp/ipykernel_47445/2977960012.py:1: SettingWithCopyWarning: \n",
      "A value is trying to be set on a copy of a slice from a DataFrame.\n",
      "Try using .loc[row_indexer,col_indexer] = value instead\n",
      "\n",
      "See the caveats in the documentation: https://pandas.pydata.org/pandas-docs/stable/user_guide/indexing.html#returning-a-view-versus-a-copy\n",
      "  lbnl[\"dbcp_id\"] = lbnl[\"region\"] + \"-\" + lbnl[\"queue_id\"].astype(\"string\")\n"
     ]
    }
   ],
   "source": [
    "lbnl[\"dbcp_id\"] = lbnl[\"region\"] + \"-\" + lbnl[\"queue_id\"].astype(\"string\")\n",
    "gs[\"dbcp_id\"] = gs[\"region\"] + \"-\" + gs[\"Queue ID\"].astype(\"string\")"
   ]
  },
  {
   "cell_type": "code",
   "execution_count": 11,
   "id": "a75c05e3-e2f9-4b4e-9736-298abe354e01",
   "metadata": {},
   "outputs": [
    {
     "name": "stdout",
     "output_type": "stream",
     "text": [
      "False    19146\n",
      "True       207\n",
      "Name: dbcp_id, dtype: int64\n",
      "False    21011\n",
      "True       246\n",
      "Name: dbcp_id, dtype: int64\n"
     ]
    }
   ],
   "source": [
    "print(lbnl.dbcp_id.duplicated(keep=False).value_counts())\n",
    "print(gs.dbcp_id.duplicated(keep=False).value_counts())"
   ]
  },
  {
   "cell_type": "markdown",
   "id": "3b022342-b6c2-465e-9a41-af3fdaab4f10",
   "metadata": {},
   "source": [
    "## Projects in LBNL not in GS\n",
    "- Expect some ERCOT projects that have been withdrawn or completed\n",
    "- Expect projects from MISO prior to 2017\n"
   ]
  },
  {
   "cell_type": "code",
   "execution_count": 12,
   "id": "0c98619f-c6a2-49d3-87bb-bf0d7136af44",
   "metadata": {},
   "outputs": [
    {
     "name": "stdout",
     "output_type": "stream",
     "text": [
      "2952\n"
     ]
    }
   ],
   "source": [
    "ids_in_lbnl_not_in_gs = set(lbnl.dbcp_id) - set(gs.dbcp_id)\n",
    "print(len(ids_in_lbnl_not_in_gs))"
   ]
  },
  {
   "cell_type": "code",
   "execution_count": 13,
   "id": "6a72df69-12c7-4c72-9a38-72d724853044",
   "metadata": {},
   "outputs": [
    {
     "data": {
      "text/plain": [
       "['capacity_mw_resource_1', 'capacity_mw_resource_2', 'capacity_mw_resource_3']"
      ]
     },
     "execution_count": 13,
     "metadata": {},
     "output_type": "execute_result"
    }
   ],
   "source": [
    "cap_cols = [col for col in lbnl.columns if \"capacity\" in col]\n",
    "cap_cols"
   ]
  },
  {
   "cell_type": "code",
   "execution_count": 14,
   "id": "7c776f8c-58f8-4573-9466-a4d9ded3c019",
   "metadata": {},
   "outputs": [
    {
     "name": "stderr",
     "output_type": "stream",
     "text": [
      "/tmp/ipykernel_47445/1998448356.py:1: SettingWithCopyWarning: \n",
      "A value is trying to be set on a copy of a slice from a DataFrame.\n",
      "Try using .loc[row_indexer,col_indexer] = value instead\n",
      "\n",
      "See the caveats in the documentation: https://pandas.pydata.org/pandas-docs/stable/user_guide/indexing.html#returning-a-view-versus-a-copy\n",
      "  lbnl[\"total_capacity_mw\"] = lbnl[cap_cols].sum(axis=1)\n"
     ]
    }
   ],
   "source": [
    "lbnl[\"total_capacity_mw\"] = lbnl[cap_cols].sum(axis=1)"
   ]
  },
  {
   "cell_type": "code",
   "execution_count": 15,
   "id": "3e314ae3-75ed-4c05-bdf7-e27606474e09",
   "metadata": {},
   "outputs": [],
   "source": [
    "projects_in_lbnl_not_in_gs = lbnl[lbnl.dbcp_id.isin(ids_in_lbnl_not_in_gs)]"
   ]
  },
  {
   "cell_type": "code",
   "execution_count": 16,
   "id": "92c5dc68-b23d-4a0d-ac1e-11ad3c3112e0",
   "metadata": {},
   "outputs": [],
   "source": [
    "not_in_gs_capacity = projects_in_lbnl_not_in_gs.groupby(\"region\").sum()[\"total_capacity_mw\"]\n",
    "total_lbnl_capacity = lbnl.groupby(\"region\").sum()[\"total_capacity_mw\"]"
   ]
  },
  {
   "cell_type": "code",
   "execution_count": 17,
   "id": "dca0786d-f596-4876-8c37-05bf30d05a9a",
   "metadata": {},
   "outputs": [
    {
     "data": {
      "text/plain": [
       "region\n",
       "ERCOT    270789.40\n",
       "MISO     343885.32\n",
       "NYISO        87.40\n",
       "Name: total_capacity_mw, dtype: float64"
      ]
     },
     "execution_count": 17,
     "metadata": {},
     "output_type": "execute_result"
    }
   ],
   "source": [
    "not_in_gs_capacity"
   ]
  },
  {
   "cell_type": "code",
   "execution_count": 18,
   "id": "a9385c12-5ce8-44c5-851a-5b2a1d98f6b8",
   "metadata": {},
   "outputs": [
    {
     "data": {
      "text/plain": [
       "region\n",
       "CAISO    0.000000\n",
       "ERCOT    0.597196\n",
       "ISONE    0.000000\n",
       "MISO     0.455682\n",
       "NYISO    0.000367\n",
       "PJM      0.000000\n",
       "SPP      0.000000\n",
       "Name: total_capacity_mw, dtype: float64"
      ]
     },
     "execution_count": 18,
     "metadata": {},
     "output_type": "execute_result"
    }
   ],
   "source": [
    "(not_in_gs_capacity / total_lbnl_capacity).fillna(0)"
   ]
  },
  {
   "cell_type": "markdown",
   "id": "d216db9b-0eb9-4820-bbde-c740367c7b73",
   "metadata": {},
   "source": [
    "## TODO: ERCOT"
   ]
  },
  {
   "cell_type": "code",
   "execution_count": 19,
   "id": "6ad09c1c-a4c7-4258-a633-c4d02c6a0d93",
   "metadata": {},
   "outputs": [
    {
     "data": {
      "text/plain": [
       "withdrawn      736\n",
       "operational    313\n",
       "active         139\n",
       "Name: queue_status, dtype: int64"
      ]
     },
     "execution_count": 19,
     "metadata": {},
     "output_type": "execute_result"
    }
   ],
   "source": [
    "region = \"ERCOT\"\n",
    "region_not_in_gs = projects_in_lbnl_not_in_gs.query(\"region == @region\")\n",
    "\n",
    "region_not_in_gs.queue_status.value_counts()"
   ]
  },
  {
   "cell_type": "markdown",
   "id": "ac7e2452-5d5e-4a7a-ada2-9e93f6bd169e",
   "metadata": {},
   "source": [
    "Hopefully these active projects are all projects that have become withdrawn or operational."
   ]
  },
  {
   "cell_type": "code",
   "execution_count": 20,
   "id": "0395d083-84b2-4ad6-8d82-ede068c9a355",
   "metadata": {},
   "outputs": [
    {
     "data": {
      "text/plain": [
       "2019    77\n",
       "2007    73\n",
       "2013    62\n",
       "2018    60\n",
       "2008    58\n",
       "2017    50\n",
       "2014    45\n",
       "2006    44\n",
       "2016    37\n",
       "2015    31\n",
       "2020    30\n",
       "2009    30\n",
       "2010    26\n",
       "2011    26\n",
       "2012    24\n",
       "2021    20\n",
       "2005    18\n",
       "2004    10\n",
       "2022     7\n",
       "2002     5\n",
       "2003     2\n",
       "2001     1\n",
       "Name: queue_date, dtype: int64"
      ]
     },
     "execution_count": 20,
     "metadata": {},
     "output_type": "execute_result"
    }
   ],
   "source": [
    "region_not_in_gs.query(\"queue_status == 'withdrawn'\")[\"queue_date\"].dt.year.value_counts(dropna=False)"
   ]
  },
  {
   "cell_type": "code",
   "execution_count": 21,
   "id": "5feafd7e-145b-4298-b5f3-a8e22518da91",
   "metadata": {},
   "outputs": [
    {
     "data": {
      "text/plain": [
       "2017.0    33\n",
       "2013.0    30\n",
       "2006.0    24\n",
       "2007.0    24\n",
       "2018.0    22\n",
       "2014.0    21\n",
       "2012.0    21\n",
       "2005.0    18\n",
       "2015.0    16\n",
       "2004.0    14\n",
       "2019.0    14\n",
       "2016.0    14\n",
       "2011.0    14\n",
       "2009.0    13\n",
       "2008.0     9\n",
       "2010.0     9\n",
       "2020.0     8\n",
       "2003.0     5\n",
       "NaN        3\n",
       "2002.0     1\n",
       "Name: queue_date, dtype: int64"
      ]
     },
     "execution_count": 21,
     "metadata": {},
     "output_type": "execute_result"
    }
   ],
   "source": [
    "region_not_in_gs.query(\"queue_status == 'operational'\")[\"queue_date\"].dt.year.value_counts(dropna=False)"
   ]
  },
  {
   "cell_type": "markdown",
   "id": "5c841d87-4581-406b-bb03-c40230e7fde6",
   "metadata": {},
   "source": [
    "## MISO"
   ]
  },
  {
   "cell_type": "code",
   "execution_count": 22,
   "id": "aea600f0-ccfd-419d-a705-35a7cb76992d",
   "metadata": {},
   "outputs": [
    {
     "data": {
      "text/plain": [
       "withdrawn      1278\n",
       "operational     415\n",
       "active           64\n",
       "Name: queue_status, dtype: int64"
      ]
     },
     "execution_count": 22,
     "metadata": {},
     "output_type": "execute_result"
    }
   ],
   "source": [
    "region = \"MISO\"\n",
    "region_not_in_gs = projects_in_lbnl_not_in_gs.query(\"region == @region\")\n",
    "\n",
    "region_not_in_gs.queue_status.value_counts()"
   ]
  },
  {
   "cell_type": "code",
   "execution_count": 23,
   "id": "f2f41ed4-01f2-4f7f-bfb3-000417994ed4",
   "metadata": {},
   "outputs": [
    {
     "data": {
      "text/plain": [
       "False    0.967558\n",
       "True     0.032442\n",
       "Name: queue_year, dtype: float64"
      ]
     },
     "execution_count": 23,
     "metadata": {},
     "output_type": "execute_result"
    }
   ],
   "source": [
    "post_2017 = region_not_in_gs.queue_year.ge(2017)\n",
    "post_2017.value_counts(normalize=True)"
   ]
  },
  {
   "cell_type": "code",
   "execution_count": 24,
   "id": "47fef9ea-64d5-4035-97b5-9973377a364e",
   "metadata": {},
   "outputs": [
    {
     "data": {
      "text/plain": [
       "withdrawn      50\n",
       "operational     4\n",
       "active          3\n",
       "Name: queue_status, dtype: int64"
      ]
     },
     "execution_count": 24,
     "metadata": {},
     "output_type": "execute_result"
    }
   ],
   "source": [
    "region_not_in_gs[post_2017].queue_status.value_counts()"
   ]
  },
  {
   "cell_type": "code",
   "execution_count": 25,
   "id": "0002c697-ff5b-47f8-b01c-7bd2a740bf3c",
   "metadata": {},
   "outputs": [
    {
     "data": {
      "text/plain": [
       "2021.0    48\n",
       "2017.0     8\n",
       "Name: queue_date, dtype: int64"
      ]
     },
     "execution_count": 25,
     "metadata": {},
     "output_type": "execute_result"
    }
   ],
   "source": [
    "region_not_in_gs[post_2017].queue_date.dt.year.value_counts()"
   ]
  },
  {
   "cell_type": "markdown",
   "id": "19433521-1e7b-4532-81e0-cba410c2e017",
   "metadata": {},
   "source": [
    "- 45% of MISO capacity in LBNL does not appear in GS. 96% of the missing projects are before 2017. From MISO: \"MISO recently made some updates to the interactive queue, it will only show applications associated with the MISO 2017 study cycle going forward. So, if the projects you're referring to are older projects, yes they were removed. Regarding the older queue information, this will be provided in a separate download at a later time.\" \n",
    "- These missing projects could be pulled from LBNL or an earlier snapshot of MISO GS data.\n",
    "- There are 57 projects that are in LBNL but not in GS that entered the queue after 2017. **Does MISO sometimes remove projects?**"
   ]
  },
  {
   "cell_type": "markdown",
   "id": "043e91f7-1b87-421b-9c32-2ed0e4669102",
   "metadata": {},
   "source": [
    "## NYISO"
   ]
  },
  {
   "cell_type": "code",
   "execution_count": 26,
   "id": "9f2a0b43-0b59-4745-b8c2-18f2a7000c3c",
   "metadata": {},
   "outputs": [
    {
     "data": {
      "text/plain": [
       "operational    7\n",
       "Name: queue_status, dtype: int64"
      ]
     },
     "execution_count": 26,
     "metadata": {},
     "output_type": "execute_result"
    }
   ],
   "source": [
    "region = \"NYISO\"\n",
    "region_not_in_gs = projects_in_lbnl_not_in_gs.query(\"region == @region\")\n",
    "gs_region = gs.query(\"region == @region\")\n",
    "lbnl_region = lbnl.query(\"region == @region\")\n",
    "\n",
    "region_not_in_gs.queue_status.value_counts()"
   ]
  },
  {
   "cell_type": "code",
   "execution_count": 27,
   "id": "79094e45-e1c9-4c37-91fc-98962c1baeb6",
   "metadata": {},
   "outputs": [
    {
     "data": {
      "text/plain": [
       "13915    NYISO-201A\n",
       "14141    NYISO-224A\n",
       "14525    NYISO-201B\n",
       "14912    NYISO-160A\n",
       "14919    NYISO-209A\n",
       "14964    NYISO-237A\n",
       "15088    NYISO-127A\n",
       "Name: dbcp_id, dtype: string"
      ]
     },
     "execution_count": 27,
     "metadata": {},
     "output_type": "execute_result"
    }
   ],
   "source": [
    "# region_not_in_gs.queue_id.iloc[1]\n",
    "region_not_in_gs.dbcp_id"
   ]
  },
  {
   "cell_type": "code",
   "execution_count": 28,
   "id": "7f2d1aef-3621-4482-bed5-530ec129d2b1",
   "metadata": {},
   "outputs": [
    {
     "data": {
      "text/plain": [
       "4    1248\n",
       "5      12\n",
       "Name: queue_id, dtype: int64"
      ]
     },
     "execution_count": 28,
     "metadata": {},
     "output_type": "execute_result"
    }
   ],
   "source": [
    "lbnl_region.queue_id.apply(len).value_counts()"
   ]
  },
  {
   "cell_type": "code",
   "execution_count": 29,
   "id": "4f397a81-1ffc-48f1-a232-b67028102fe2",
   "metadata": {},
   "outputs": [
    {
     "data": {
      "text/plain": [
       "5    12\n",
       "4     7\n",
       "Name: queue_id, dtype: int64"
      ]
     },
     "execution_count": 29,
     "metadata": {},
     "output_type": "execute_result"
    }
   ],
   "source": [
    "lbnl_region[lbnl_region.queue_id.str.contains(r'[a-zA-Z]')].queue_id.apply(len).value_counts()"
   ]
  },
  {
   "cell_type": "code",
   "execution_count": 30,
   "id": "82946a12-f698-4747-8aaf-64f518ea7b2c",
   "metadata": {},
   "outputs": [
    {
     "data": {
      "text/html": [
       "<div>\n",
       "<style scoped>\n",
       "    .dataframe tbody tr th:only-of-type {\n",
       "        vertical-align: middle;\n",
       "    }\n",
       "\n",
       "    .dataframe tbody tr th {\n",
       "        vertical-align: top;\n",
       "    }\n",
       "\n",
       "    .dataframe thead th {\n",
       "        text-align: right;\n",
       "    }\n",
       "</style>\n",
       "<table border=\"1\" class=\"dataframe\">\n",
       "  <thead>\n",
       "    <tr style=\"text-align: right;\">\n",
       "      <th></th>\n",
       "      <th>Queue ID</th>\n",
       "      <th>Project Name</th>\n",
       "      <th>Interconnecting Entity</th>\n",
       "      <th>County</th>\n",
       "      <th>State</th>\n",
       "      <th>Interconnection Location</th>\n",
       "      <th>Transmission Owner</th>\n",
       "      <th>Generation Type</th>\n",
       "      <th>Capacity (MW)</th>\n",
       "      <th>Summer Capacity (MW)</th>\n",
       "      <th>Winter Capacity (MW)</th>\n",
       "      <th>Queue Date</th>\n",
       "      <th>Status</th>\n",
       "      <th>Proposed Completion Date</th>\n",
       "      <th>Withdrawn Date</th>\n",
       "      <th>Withdrawal Comment</th>\n",
       "      <th>Actual Completion Date</th>\n",
       "      <th>facilityType</th>\n",
       "      <th>Post Generator Interconnection Agreement Status</th>\n",
       "      <th>Interconnection Approval Date</th>\n",
       "      <th>inService</th>\n",
       "      <th>giaToExec</th>\n",
       "      <th>studyCycle</th>\n",
       "      <th>studyGroup</th>\n",
       "      <th>studyPhase</th>\n",
       "      <th>svcType</th>\n",
       "      <th>dp1ErisMw</th>\n",
       "      <th>dp1NrisMw</th>\n",
       "      <th>dp2ErisMw</th>\n",
       "      <th>dp2NrisMw</th>\n",
       "      <th>sisPhase1</th>\n",
       "      <th>region</th>\n",
       "      <th>Type-1</th>\n",
       "      <th>Type-2</th>\n",
       "      <th>Type-3</th>\n",
       "      <th>Fuel-1</th>\n",
       "      <th>Fuel-2</th>\n",
       "      <th>Fuel-3</th>\n",
       "      <th>MW-1</th>\n",
       "      <th>MW-2</th>\n",
       "      <th>MW-3</th>\n",
       "      <th>Interconnection Request Receive Date</th>\n",
       "      <th>Interconnection Agreement Status</th>\n",
       "      <th>Study Process</th>\n",
       "      <th>Proposed On-line Date (as filed with IR)</th>\n",
       "      <th>System Impact Study or Phase I Cluster Study</th>\n",
       "      <th>Facilities Study (FAS) or Phase II Cluster Study</th>\n",
       "      <th>Optional Study (OS)</th>\n",
       "      <th>Full Capacity, Partial or Energy Only (FC/P/EO)</th>\n",
       "      <th>Off-Peak Deliverability and Economic Only</th>\n",
       "      <th>Feasibility Study or Supplemental Review</th>\n",
       "      <th>MW In Service</th>\n",
       "      <th>Commercial Name</th>\n",
       "      <th>Initial Study</th>\n",
       "      <th>Feasibility Study</th>\n",
       "      <th>Feasibility Study Status</th>\n",
       "      <th>System Impact Study</th>\n",
       "      <th>System Impact Study Status</th>\n",
       "      <th>Facilities Study</th>\n",
       "      <th>Facilities Study Status</th>\n",
       "      <th>Interim Interconnection Service Agreement</th>\n",
       "      <th>Interim/Interconnection Service Agreement Status</th>\n",
       "      <th>Wholesale Market Participation Agreement</th>\n",
       "      <th>Construction Service Agreement</th>\n",
       "      <th>Construction Service Agreement Status</th>\n",
       "      <th>Upgrade Construction Service Agreement</th>\n",
       "      <th>Upgrade Construction Service Agreement Status</th>\n",
       "      <th>Backfeed Date</th>\n",
       "      <th>Long-Term Firm Service Start Date</th>\n",
       "      <th>Long-Term Firm Service End Date</th>\n",
       "      <th>Test Energy Date</th>\n",
       "      <th>Fuel</th>\n",
       "      <th>Technology</th>\n",
       "      <th>GIM Study Phase</th>\n",
       "      <th>Screening Study Started</th>\n",
       "      <th>Screening Study Complete</th>\n",
       "      <th>FIS Requested</th>\n",
       "      <th>FIS Approved</th>\n",
       "      <th>Economic Study Required</th>\n",
       "      <th>IA Signed</th>\n",
       "      <th>Air Permit</th>\n",
       "      <th>GHG Permit</th>\n",
       "      <th>Water Availability</th>\n",
       "      <th>Meets Planning</th>\n",
       "      <th>Meets All Planning</th>\n",
       "      <th>CDR Reporting Zone</th>\n",
       "      <th>Approved for Energization</th>\n",
       "      <th>Approved for Synchronization</th>\n",
       "      <th>Comment</th>\n",
       "      <th>In-Service Date</th>\n",
       "      <th>Commercial Operation Date</th>\n",
       "      <th>Cessation Date</th>\n",
       "      <th>Current Cluster</th>\n",
       "      <th>Cluster Group</th>\n",
       "      <th>Replacement Generator Commercial Op Date</th>\n",
       "      <th>Service Type</th>\n",
       "      <th>Status (Original)</th>\n",
       "      <th>Proposed In-Service Date</th>\n",
       "      <th>Proposed Initial-Sync Date</th>\n",
       "      <th>Last Updated Date</th>\n",
       "      <th>Z</th>\n",
       "      <th>S</th>\n",
       "      <th>Availability of Studies</th>\n",
       "      <th>SGIA Tender Date</th>\n",
       "      <th>Updated</th>\n",
       "      <th>Unit</th>\n",
       "      <th>Op Date</th>\n",
       "      <th>Sync Date</th>\n",
       "      <th>Serv</th>\n",
       "      <th>I39</th>\n",
       "      <th>Dev</th>\n",
       "      <th>Zone</th>\n",
       "      <th>System Impact Study Completed</th>\n",
       "      <th>Feasiblity Study Status</th>\n",
       "      <th>Optional Interconnection Study Status</th>\n",
       "      <th>Project Status</th>\n",
       "      <th>dbcp_id</th>\n",
       "    </tr>\n",
       "  </thead>\n",
       "  <tbody>\n",
       "  </tbody>\n",
       "</table>\n",
       "</div>"
      ],
      "text/plain": [
       "Empty DataFrame\n",
       "Columns: [Queue ID, Project Name, Interconnecting Entity, County, State, Interconnection Location, Transmission Owner, Generation Type, Capacity (MW), Summer Capacity (MW), Winter Capacity (MW), Queue Date, Status, Proposed Completion Date, Withdrawn Date, Withdrawal Comment, Actual Completion Date, facilityType, Post Generator Interconnection Agreement Status, Interconnection Approval Date, inService, giaToExec, studyCycle, studyGroup, studyPhase, svcType, dp1ErisMw, dp1NrisMw, dp2ErisMw, dp2NrisMw, sisPhase1, region, Type-1, Type-2, Type-3, Fuel-1, Fuel-2, Fuel-3, MW-1, MW-2, MW-3, Interconnection Request Receive Date, Interconnection Agreement Status, Study Process, Proposed On-line Date (as filed with IR), System Impact Study or Phase I Cluster Study, Facilities Study (FAS) or Phase II Cluster Study, Optional Study (OS), Full Capacity, Partial or Energy Only (FC/P/EO), Off-Peak Deliverability and Economic Only, Feasibility Study or Supplemental Review, MW In Service, Commercial Name, Initial Study, Feasibility Study, Feasibility Study Status, System Impact Study, System Impact Study Status, Facilities Study, Facilities Study Status, Interim Interconnection Service Agreement, Interim/Interconnection Service Agreement Status, Wholesale Market Participation Agreement, Construction Service Agreement, Construction Service Agreement Status, Upgrade Construction Service Agreement, Upgrade Construction Service Agreement Status, Backfeed Date, Long-Term Firm Service Start Date, Long-Term Firm Service End Date, Test Energy Date, Fuel, Technology, GIM Study Phase, Screening Study Started, Screening Study Complete, FIS Requested, FIS Approved, Economic Study Required, IA Signed, Air Permit, GHG Permit, Water Availability, Meets Planning, Meets All Planning, CDR Reporting Zone, Approved for Energization, Approved for Synchronization, Comment, In-Service Date, Commercial Operation Date, Cessation Date, Current Cluster, Cluster Group, Replacement Generator Commercial Op Date, Service Type, Status (Original), Proposed In-Service Date, Proposed Initial-Sync Date, Last Updated Date, ...]\n",
       "Index: []"
      ]
     },
     "execution_count": 30,
     "metadata": {},
     "output_type": "execute_result"
    }
   ],
   "source": [
    "gs_region.query(\"dbcp_id == 'NYISO-201A'\")"
   ]
  },
  {
   "cell_type": "markdown",
   "id": "5f767c21-fd62-4b37-a4c9-77ecd2090461",
   "metadata": {},
   "source": [
    "Ok all LBNL NYISO projects exist in GS. Just some queue id formatting issues."
   ]
  },
  {
   "cell_type": "markdown",
   "id": "08c2d4b0-e7db-4bff-8652-7b317fad5a67",
   "metadata": {},
   "source": [
    "## PJM"
   ]
  },
  {
   "cell_type": "code",
   "execution_count": 31,
   "id": "75734919-b588-4240-a42c-bc8b540e5fa8",
   "metadata": {},
   "outputs": [
    {
     "data": {
      "text/plain": [
       "Series([], Name: queue_status, dtype: int64)"
      ]
     },
     "execution_count": 31,
     "metadata": {},
     "output_type": "execute_result"
    }
   ],
   "source": [
    "region = \"PJM\"\n",
    "region_not_in_gs = projects_in_lbnl_not_in_gs.query(\"region == @region\")\n",
    "gs_region = gs.query(\"region == @region\")\n",
    "lbnl_region = lbnl.query(\"region == @region\")\n",
    "\n",
    "region_not_in_gs.queue_status.value_counts()"
   ]
  },
  {
   "cell_type": "code",
   "execution_count": 32,
   "id": "a1e6f9c7-51a2-4f7e-ae5b-d1a914a4be2d",
   "metadata": {},
   "outputs": [
    {
     "data": {
      "text/plain": [
       "Series([], Name: queue_id, dtype: string)"
      ]
     },
     "execution_count": 32,
     "metadata": {},
     "output_type": "execute_result"
    }
   ],
   "source": [
    "region_not_in_gs.queue_id"
   ]
  },
  {
   "cell_type": "code",
   "execution_count": 33,
   "id": "31e1b405-8c8d-40bd-be3a-6536d82444af",
   "metadata": {},
   "outputs": [
    {
     "name": "stderr",
     "output_type": "stream",
     "text": [
      "/tmp/ipykernel_47445/2757310770.py:1: SettingWithCopyWarning: \n",
      "A value is trying to be set on a copy of a slice from a DataFrame.\n",
      "Try using .loc[row_indexer,col_indexer] = value instead\n",
      "\n",
      "See the caveats in the documentation: https://pandas.pydata.org/pandas-docs/stable/user_guide/indexing.html#returning-a-view-versus-a-copy\n",
      "  gs_region[\"Queue ID\"] = gs_region[\"Queue ID\"].str.replace(\" - moved to TC1\", \"\")\n"
     ]
    }
   ],
   "source": [
    "gs_region[\"Queue ID\"] = gs_region[\"Queue ID\"].str.replace(\" - moved to TC1\", \"\")"
   ]
  },
  {
   "cell_type": "code",
   "execution_count": 34,
   "id": "c9ad0d61-888d-4d49-8eb1-e629005b195b",
   "metadata": {},
   "outputs": [
    {
     "data": {
      "text/plain": [
       "Series([], Name: queue_id, dtype: int64)"
      ]
     },
     "execution_count": 34,
     "metadata": {},
     "output_type": "execute_result"
    }
   ],
   "source": [
    "region_not_in_gs.queue_id.isin(gs_region[\"Queue ID\"]).value_counts()"
   ]
  },
  {
   "cell_type": "markdown",
   "id": "6953ef84-0a1a-4206-8f66-51095f99c05b",
   "metadata": {},
   "source": [
    "Yay! So all of the projects in LBNL not in GS are actually in grid status, PJM just added a weird string in the queue ID to signify the projects have been moved to TC1. What is **TC1**?"
   ]
  },
  {
   "cell_type": "markdown",
   "id": "6dd21acb-6a89-41b0-89e2-27e8b2900977",
   "metadata": {},
   "source": [
    "# Projects in GS not in LBNL"
   ]
  },
  {
   "cell_type": "code",
   "execution_count": 35,
   "id": "0d54ff66-2f35-48cc-a77d-dd0744fb16ad",
   "metadata": {},
   "outputs": [],
   "source": [
    "gs[\"Queue Date\"] = pd.to_datetime(gs[\"Queue Date\"], utc=True)"
   ]
  },
  {
   "cell_type": "code",
   "execution_count": 36,
   "id": "bf3fedc5-5ea0-4a40-9729-ffe0cd0b667a",
   "metadata": {},
   "outputs": [
    {
     "name": "stdout",
     "output_type": "stream",
     "text": [
      "4832\n"
     ]
    }
   ],
   "source": [
    "ids_in_gs_not_in_lbnl = set(gs.dbcp_id) - set(lbnl.dbcp_id)\n",
    "print(len(ids_in_gs_not_in_lbnl))"
   ]
  },
  {
   "cell_type": "code",
   "execution_count": 37,
   "id": "2b786208-20ad-49d1-9cba-e74bddf31be9",
   "metadata": {},
   "outputs": [],
   "source": [
    "projects_gs_not_in_lbnl = gs[gs.dbcp_id.isin(ids_in_gs_not_in_lbnl)]"
   ]
  },
  {
   "cell_type": "code",
   "execution_count": 38,
   "id": "fb9e5f54-c4a6-4dcb-b465-94e24dc34a01",
   "metadata": {},
   "outputs": [
    {
     "data": {
      "text/plain": [
       "SPP      1539\n",
       "PJM      1456\n",
       "ERCOT     762\n",
       "NYISO     433\n",
       "ISONE     399\n",
       "MISO      255\n",
       "CAISO       5\n",
       "Name: region, dtype: int64"
      ]
     },
     "execution_count": 38,
     "metadata": {},
     "output_type": "execute_result"
    }
   ],
   "source": [
    "projects_gs_not_in_lbnl.region.value_counts()"
   ]
  },
  {
   "cell_type": "code",
   "execution_count": 39,
   "id": "d7faf2c0-0685-455d-ae5a-68714abc8f87",
   "metadata": {},
   "outputs": [
    {
     "data": {
      "text/plain": [
       "2024.0    0.034955\n",
       "2023.0    0.340493\n",
       "2022.0    0.088650\n",
       "2021.0    0.042535\n",
       "2020.0    0.020004\n",
       "2019.0    0.022320\n",
       "2018.0    0.021899\n",
       "2017.0    0.037903\n",
       "2016.0    0.033691\n",
       "2015.0    0.034534\n",
       "2014.0    0.034112\n",
       "2013.0    0.030322\n",
       "2012.0    0.024847\n",
       "2011.0    0.021899\n",
       "2010.0    0.020425\n",
       "2009.0    0.030743\n",
       "2008.0    0.057275\n",
       "2007.0    0.040851\n",
       "2006.0    0.017056\n",
       "2005.0    0.008002\n",
       "2004.0    0.006317\n",
       "2003.0    0.005264\n",
       "2002.0    0.006317\n",
       "2001.0    0.012424\n",
       "2000.0    0.003369\n",
       "1999.0    0.001895\n",
       "1998.0    0.001685\n",
       "1989.0    0.000211\n",
       "Name: Queue Date, dtype: float64"
      ]
     },
     "execution_count": 39,
     "metadata": {},
     "output_type": "execute_result"
    }
   ],
   "source": [
    "projects_gs_not_in_lbnl[\"Queue Date\"].dt.year.value_counts(normalize=True).sort_index(ascending=False)"
   ]
  },
  {
   "cell_type": "code",
   "execution_count": 40,
   "id": "d089a47c-fbab-415e-9246-5426ea91cd68",
   "metadata": {},
   "outputs": [
    {
     "data": {
      "text/plain": [
       "SPP      1110\n",
       "PJM       881\n",
       "NYISO     261\n",
       "MISO      244\n",
       "ERCOT     236\n",
       "ISONE     233\n",
       "CAISO       1\n",
       "Name: region, dtype: int64"
      ]
     },
     "execution_count": 40,
     "metadata": {},
     "output_type": "execute_result"
    }
   ],
   "source": [
    "projects_gs_not_in_lbnl_pre_2023 = projects_gs_not_in_lbnl[projects_gs_not_in_lbnl[\"Queue Date\"].dt.year.lt(2023)]\n",
    "gs_projects_pre_2023 = gs[gs[\"Queue Date\"].dt.year.lt(2023)]\n",
    "projects_gs_not_in_lbnl_pre_2023.region.value_counts()"
   ]
  },
  {
   "cell_type": "code",
   "execution_count": 41,
   "id": "970e695a-43f8-484e-9faa-0dd738eb0373",
   "metadata": {},
   "outputs": [],
   "source": [
    "not_in_lbnl_capacity = projects_gs_not_in_lbnl_pre_2023.groupby(\"region\").sum()[\"Capacity (MW)\"]\n",
    "total_gs_capacity = gs_projects_pre_2023.groupby(\"region\").sum()[\"Capacity (MW)\"]"
   ]
  },
  {
   "cell_type": "code",
   "execution_count": 42,
   "id": "d4768f47-0c7a-4b76-adab-7ddba47ce385",
   "metadata": {},
   "outputs": [
    {
     "name": "stdout",
     "output_type": "stream",
     "text": [
      "region\n",
      "SPP      0.610493\n",
      "ISONE    0.320957\n",
      "NYISO     0.22132\n",
      "ERCOT     0.18682\n",
      "PJM      0.163046\n",
      "MISO     0.045623\n",
      "CAISO     0.00001\n",
      "Name: Capacity (MW), dtype: Float64\n"
     ]
    }
   ],
   "source": [
    "print((not_in_lbnl_capacity / total_gs_capacity).sort_values(ascending=False))"
   ]
  },
  {
   "cell_type": "markdown",
   "id": "143f1572-0936-4694-afd1-152496f1eb8f",
   "metadata": {},
   "source": [
    "### SPP"
   ]
  },
  {
   "cell_type": "code",
   "execution_count": 43,
   "id": "4625ccf0-f934-4a7c-9643-3080cd854730",
   "metadata": {},
   "outputs": [],
   "source": [
    "region = \"SPP\"\n",
    "region_gs = projects_gs_not_in_lbnl_pre_2023.query(\"region == @region\")"
   ]
  },
  {
   "cell_type": "code",
   "execution_count": 44,
   "id": "fc25ff5f-5b2b-4003-a677-3ce3276d80e9",
   "metadata": {},
   "outputs": [
    {
     "data": {
      "text/plain": [
       "Withdrawn     0.98018\n",
       "<NA>         0.017117\n",
       "Completed    0.002703\n",
       "Name: Status, dtype: Float64"
      ]
     },
     "execution_count": 44,
     "metadata": {},
     "output_type": "execute_result"
    }
   ],
   "source": [
    "region_gs[\"Status\"].value_counts(dropna=False, normalize=True)"
   ]
  },
  {
   "cell_type": "code",
   "execution_count": 45,
   "id": "953d5e55-394a-4ec5-bcfd-d6795ccde7e1",
   "metadata": {},
   "outputs": [
    {
     "data": {
      "text/plain": [
       "2017    129\n",
       "2008    124\n",
       "2016    104\n",
       "2007     75\n",
       "2009     71\n",
       "2015     68\n",
       "2006     58\n",
       "2014     56\n",
       "2018     53\n",
       "2010     50\n",
       "2011     43\n",
       "2019     39\n",
       "2001     33\n",
       "2012     30\n",
       "2013     30\n",
       "2020     24\n",
       "2002     22\n",
       "2005     20\n",
       "2004     20\n",
       "2003     20\n",
       "2021     19\n",
       "2022     14\n",
       "2000      7\n",
       "1999      1\n",
       "Name: Queue Date, dtype: int64"
      ]
     },
     "execution_count": 45,
     "metadata": {},
     "output_type": "execute_result"
    }
   ],
   "source": [
    "region_gs[\"Queue Date\"].dt.year.value_counts()"
   ]
  },
  {
   "cell_type": "code",
   "execution_count": 46,
   "id": "9d960900-40d6-4ee0-881d-ac15002614fa",
   "metadata": {},
   "outputs": [
    {
     "data": {
      "text/plain": [
       "False    655\n",
       "True     455\n",
       "Name: Withdrawn Date, dtype: int64"
      ]
     },
     "execution_count": 46,
     "metadata": {},
     "output_type": "execute_result"
    }
   ],
   "source": [
    "region_gs[\"Withdrawn Date\"].isna().value_counts()"
   ]
  },
  {
   "cell_type": "markdown",
   "id": "991f1bcc-54a4-4b81-bebe-afd07a618d3f",
   "metadata": {},
   "source": [
    "SPP projects that are in GS but not LBNL are older withdrawn projects that don't have a withdrawn date."
   ]
  },
  {
   "cell_type": "markdown",
   "id": "feff8c9b-82a6-4ee1-a2be-8dff2686cd63",
   "metadata": {},
   "source": [
    "### ISONE"
   ]
  },
  {
   "cell_type": "code",
   "execution_count": 47,
   "id": "87f4c814-297c-476f-9396-0efd591e0170",
   "metadata": {},
   "outputs": [],
   "source": [
    "region = \"ISONE\"\n",
    "not_in_lbnl_region_gs = projects_gs_not_in_lbnl_pre_2023.query(\"region == @region\")\n",
    "region_gs = gs.query(\"region == @region\")\n",
    "region_lbnl = lbnl.query(\"region == @region\")"
   ]
  },
  {
   "cell_type": "code",
   "execution_count": 48,
   "id": "8a063427-1368-4f33-bcce-c87600aa9157",
   "metadata": {},
   "outputs": [
    {
     "data": {
      "text/plain": [
       "withdrawn      0.478088\n",
       "active         0.278884\n",
       "operational    0.243028\n",
       "Name: queue_status, dtype: float64"
      ]
     },
     "execution_count": 48,
     "metadata": {},
     "output_type": "execute_result"
    }
   ],
   "source": [
    "region_lbnl.queue_status.value_counts(dropna=False, normalize=True)"
   ]
  },
  {
   "cell_type": "code",
   "execution_count": 49,
   "id": "dffa9980-5511-4e87-8311-45cf8caa7005",
   "metadata": {},
   "outputs": [
    {
     "data": {
      "text/plain": [
       "Withdrawn    0.526506\n",
       "Active       0.275301\n",
       "Completed    0.198193\n",
       "Name: Status, dtype: Float64"
      ]
     },
     "execution_count": 49,
     "metadata": {},
     "output_type": "execute_result"
    }
   ],
   "source": [
    "region_gs[\"Status\"].value_counts(dropna=False, normalize=True)"
   ]
  },
  {
   "cell_type": "code",
   "execution_count": 50,
   "id": "76fd5ef9-97be-4950-88e4-6601a1aa35e6",
   "metadata": {},
   "outputs": [
    {
     "data": {
      "text/plain": [
       "Withdrawn    0.703863\n",
       "Completed    0.167382\n",
       "Active       0.128755\n",
       "Name: Status, dtype: Float64"
      ]
     },
     "execution_count": 50,
     "metadata": {},
     "output_type": "execute_result"
    }
   ],
   "source": [
    "not_in_lbnl_region_gs[\"Status\"].value_counts(dropna=False, normalize=True)"
   ]
  },
  {
   "cell_type": "code",
   "execution_count": 51,
   "id": "9d672378-c9f4-424e-8ec6-ed20604763ec",
   "metadata": {},
   "outputs": [
    {
     "data": {
      "text/plain": [
       "2015    35\n",
       "2022    28\n",
       "2017    20\n",
       "2014    20\n",
       "2019    16\n",
       "2001    15\n",
       "2018    12\n",
       "2021    11\n",
       "2016    11\n",
       "2013    10\n",
       "2011     9\n",
       "2008     8\n",
       "1999     8\n",
       "2020     7\n",
       "2000     7\n",
       "1998     7\n",
       "2010     4\n",
       "2006     4\n",
       "2009     1\n",
       "Name: Queue Date, dtype: int64"
      ]
     },
     "execution_count": 51,
     "metadata": {},
     "output_type": "execute_result"
    }
   ],
   "source": [
    "not_in_lbnl_region_gs[\"Queue Date\"].dt.year.value_counts()"
   ]
  },
  {
   "cell_type": "code",
   "execution_count": 52,
   "id": "9c949517-8f1f-4852-88e8-a4ad35397c3d",
   "metadata": {},
   "outputs": [
    {
     "data": {
      "text/plain": [
       "<NA>       0.712446\n",
       "WND        0.098712\n",
       "SUN        0.060086\n",
       "NG         0.038627\n",
       "WAT        0.025751\n",
       "BAT        0.021459\n",
       "DFO NG     0.017167\n",
       "WDS        0.008584\n",
       "WND BAT    0.008584\n",
       "FC         0.004292\n",
       "DFO SUB    0.004292\n",
       "Name: Generation Type, dtype: Float64"
      ]
     },
     "execution_count": 52,
     "metadata": {},
     "output_type": "execute_result"
    }
   ],
   "source": [
    "not_in_lbnl_region_gs[\"Generation Type\"].value_counts(dropna=False, normalize=True)"
   ]
  },
  {
   "cell_type": "code",
   "execution_count": 53,
   "id": "689877be-0639-42c5-9131-d6ecf9f57e5d",
   "metadata": {},
   "outputs": [],
   "source": [
    "# region_gs[\"Generation Type\"].value_counts(dropna=False, normalize=True)"
   ]
  },
  {
   "cell_type": "code",
   "execution_count": 54,
   "id": "58a20fcb-60ac-4f44-8524-0d2f4c50cacc",
   "metadata": {},
   "outputs": [
    {
     "data": {
      "text/plain": [
       "2015    30\n",
       "2022    17\n",
       "2001    15\n",
       "2014    14\n",
       "2017    10\n",
       "2018     9\n",
       "2008     8\n",
       "1999     8\n",
       "2019     8\n",
       "2021     8\n",
       "2000     7\n",
       "1998     7\n",
       "2016     6\n",
       "2013     5\n",
       "2010     4\n",
       "2006     4\n",
       "2011     4\n",
       "2009     1\n",
       "2020     1\n",
       "Name: Queue Date, dtype: int64"
      ]
     },
     "execution_count": 54,
     "metadata": {},
     "output_type": "execute_result"
    }
   ],
   "source": [
    "not_in_lbnl_region_gs[not_in_lbnl_region_gs[\"Generation Type\"].isna()][\"Queue Date\"].dt.year.value_counts()"
   ]
  },
  {
   "cell_type": "code",
   "execution_count": 55,
   "id": "4e73d690-dcf7-4ac5-8ca3-777d6b7a50b1",
   "metadata": {
    "tags": []
   },
   "outputs": [
    {
     "data": {
      "text/html": [
       "<div>\n",
       "<style scoped>\n",
       "    .dataframe tbody tr th:only-of-type {\n",
       "        vertical-align: middle;\n",
       "    }\n",
       "\n",
       "    .dataframe tbody tr th {\n",
       "        vertical-align: top;\n",
       "    }\n",
       "\n",
       "    .dataframe thead th {\n",
       "        text-align: right;\n",
       "    }\n",
       "</style>\n",
       "<table border=\"1\" class=\"dataframe\">\n",
       "  <thead>\n",
       "    <tr style=\"text-align: right;\">\n",
       "      <th></th>\n",
       "      <th>Queue ID</th>\n",
       "      <th>Project Name</th>\n",
       "      <th>Interconnecting Entity</th>\n",
       "      <th>County</th>\n",
       "      <th>State</th>\n",
       "      <th>Interconnection Location</th>\n",
       "      <th>Transmission Owner</th>\n",
       "      <th>Generation Type</th>\n",
       "      <th>Capacity (MW)</th>\n",
       "      <th>Summer Capacity (MW)</th>\n",
       "      <th>Winter Capacity (MW)</th>\n",
       "      <th>Queue Date</th>\n",
       "      <th>Status</th>\n",
       "      <th>Proposed Completion Date</th>\n",
       "      <th>Withdrawn Date</th>\n",
       "      <th>Withdrawal Comment</th>\n",
       "      <th>Actual Completion Date</th>\n",
       "      <th>Updated</th>\n",
       "      <th>Unit</th>\n",
       "      <th>Op Date</th>\n",
       "      <th>Sync Date</th>\n",
       "      <th>Serv</th>\n",
       "      <th>I39</th>\n",
       "      <th>Dev</th>\n",
       "      <th>Zone</th>\n",
       "      <th>System Impact Study Completed</th>\n",
       "      <th>Feasiblity Study Status</th>\n",
       "      <th>System Impact Study Status</th>\n",
       "      <th>Optional Interconnection Study Status</th>\n",
       "      <th>Facilities Study Status</th>\n",
       "      <th>Interconnection Agreement Status</th>\n",
       "      <th>Project Status</th>\n",
       "      <th>region</th>\n",
       "    </tr>\n",
       "  </thead>\n",
       "  <tbody>\n",
       "    <tr>\n",
       "      <th>177</th>\n",
       "      <td>1333</td>\n",
       "      <td>2400 controllable ETU - unidirectional</td>\n",
       "      <td>&lt;NA&gt;</td>\n",
       "      <td>&lt;NA&gt;</td>\n",
       "      <td>CT</td>\n",
       "      <td>1. Singer 345kV Substation existing available ...</td>\n",
       "      <td>&lt;NA&gt;</td>\n",
       "      <td>&lt;NA&gt;</td>\n",
       "      <td>1100.0</td>\n",
       "      <td>&lt;NA&gt;</td>\n",
       "      <td>&lt;NA&gt;</td>\n",
       "      <td>2022-11-08 00:00:00+00:00</td>\n",
       "      <td>Withdrawn</td>\n",
       "      <td>3/31/2028</td>\n",
       "      <td>1/30/2024</td>\n",
       "      <td>&lt;NA&gt;</td>\n",
       "      <td>NaN</td>\n",
       "      <td>1/30/2024</td>\n",
       "      <td>&lt;NA&gt;</td>\n",
       "      <td>5/31/2028</td>\n",
       "      <td>3/31/2028</td>\n",
       "      <td>&lt;NA&gt;</td>\n",
       "      <td>N</td>\n",
       "      <td>&lt;NA&gt;</td>\n",
       "      <td>SWCT</td>\n",
       "      <td>N</td>\n",
       "      <td>Not Started</td>\n",
       "      <td>&lt;NA&gt;</td>\n",
       "      <td>&lt;NA&gt;</td>\n",
       "      <td>&lt;NA&gt;</td>\n",
       "      <td>&lt;NA&gt;</td>\n",
       "      <td>Under Study</td>\n",
       "      <td>ISONE</td>\n",
       "    </tr>\n",
       "    <tr>\n",
       "      <th>178</th>\n",
       "      <td>1332</td>\n",
       "      <td>Enable 1200 MW injection at Mystic</td>\n",
       "      <td>&lt;NA&gt;</td>\n",
       "      <td>&lt;NA&gt;</td>\n",
       "      <td>MA</td>\n",
       "      <td>&lt;NA&gt;</td>\n",
       "      <td>&lt;NA&gt;</td>\n",
       "      <td>&lt;NA&gt;</td>\n",
       "      <td>1200.0</td>\n",
       "      <td>&lt;NA&gt;</td>\n",
       "      <td>&lt;NA&gt;</td>\n",
       "      <td>2022-11-08 00:00:00+00:00</td>\n",
       "      <td>Withdrawn</td>\n",
       "      <td>5/1/2029</td>\n",
       "      <td>11/22/2023</td>\n",
       "      <td>&lt;NA&gt;</td>\n",
       "      <td>NaN</td>\n",
       "      <td>11/22/2023</td>\n",
       "      <td>&lt;NA&gt;</td>\n",
       "      <td>12/30/2029</td>\n",
       "      <td>5/1/2029</td>\n",
       "      <td>&lt;NA&gt;</td>\n",
       "      <td>N</td>\n",
       "      <td>PD</td>\n",
       "      <td>BOST</td>\n",
       "      <td>N</td>\n",
       "      <td>Document Posted</td>\n",
       "      <td>Not Started</td>\n",
       "      <td>&lt;NA&gt;</td>\n",
       "      <td>&lt;NA&gt;</td>\n",
       "      <td>&lt;NA&gt;</td>\n",
       "      <td>Under Study</td>\n",
       "      <td>ISONE</td>\n",
       "    </tr>\n",
       "    <tr>\n",
       "      <th>187</th>\n",
       "      <td>1323</td>\n",
       "      <td>Non-controllable ETU from Line 3023 substation...</td>\n",
       "      <td>&lt;NA&gt;</td>\n",
       "      <td>&lt;NA&gt;</td>\n",
       "      <td>ME</td>\n",
       "      <td>New substation on line 3023 (per QP1227 ) to C...</td>\n",
       "      <td>&lt;NA&gt;</td>\n",
       "      <td>&lt;NA&gt;</td>\n",
       "      <td>&lt;NA&gt;</td>\n",
       "      <td>&lt;NA&gt;</td>\n",
       "      <td>&lt;NA&gt;</td>\n",
       "      <td>2022-10-11 00:00:00+00:00</td>\n",
       "      <td>Withdrawn</td>\n",
       "      <td>10/8/2027</td>\n",
       "      <td>11/2/2022</td>\n",
       "      <td>&lt;NA&gt;</td>\n",
       "      <td>NaN</td>\n",
       "      <td>11/28/2022</td>\n",
       "      <td>&lt;NA&gt;</td>\n",
       "      <td>12/31/2027</td>\n",
       "      <td>10/8/2027</td>\n",
       "      <td>&lt;NA&gt;</td>\n",
       "      <td>N</td>\n",
       "      <td>PD</td>\n",
       "      <td>ME</td>\n",
       "      <td>N</td>\n",
       "      <td>&lt;NA&gt;</td>\n",
       "      <td>&lt;NA&gt;</td>\n",
       "      <td>&lt;NA&gt;</td>\n",
       "      <td>&lt;NA&gt;</td>\n",
       "      <td>&lt;NA&gt;</td>\n",
       "      <td>&lt;NA&gt;</td>\n",
       "      <td>ISONE</td>\n",
       "    </tr>\n",
       "    <tr>\n",
       "      <th>188</th>\n",
       "      <td>1322</td>\n",
       "      <td>Non-controllable ETU from Line 388 substation ...</td>\n",
       "      <td>&lt;NA&gt;</td>\n",
       "      <td>&lt;NA&gt;</td>\n",
       "      <td>ME</td>\n",
       "      <td>New substation on line 388 (per QP1228 ) to Co...</td>\n",
       "      <td>&lt;NA&gt;</td>\n",
       "      <td>&lt;NA&gt;</td>\n",
       "      <td>&lt;NA&gt;</td>\n",
       "      <td>&lt;NA&gt;</td>\n",
       "      <td>&lt;NA&gt;</td>\n",
       "      <td>2022-10-11 00:00:00+00:00</td>\n",
       "      <td>Withdrawn</td>\n",
       "      <td>10/8/2027</td>\n",
       "      <td>11/2/2022</td>\n",
       "      <td>&lt;NA&gt;</td>\n",
       "      <td>NaN</td>\n",
       "      <td>11/28/2022</td>\n",
       "      <td>&lt;NA&gt;</td>\n",
       "      <td>12/31/2027</td>\n",
       "      <td>10/8/2027</td>\n",
       "      <td>&lt;NA&gt;</td>\n",
       "      <td>N</td>\n",
       "      <td>PD</td>\n",
       "      <td>ME</td>\n",
       "      <td>N</td>\n",
       "      <td>&lt;NA&gt;</td>\n",
       "      <td>&lt;NA&gt;</td>\n",
       "      <td>&lt;NA&gt;</td>\n",
       "      <td>&lt;NA&gt;</td>\n",
       "      <td>&lt;NA&gt;</td>\n",
       "      <td>&lt;NA&gt;</td>\n",
       "      <td>ISONE</td>\n",
       "    </tr>\n",
       "    <tr>\n",
       "      <th>189</th>\n",
       "      <td>1321</td>\n",
       "      <td>NEP LNS</td>\n",
       "      <td>&lt;NA&gt;</td>\n",
       "      <td>Somerset</td>\n",
       "      <td>MA</td>\n",
       "      <td>NEP 115 kV Brayton Point</td>\n",
       "      <td>&lt;NA&gt;</td>\n",
       "      <td>&lt;NA&gt;</td>\n",
       "      <td>17.56</td>\n",
       "      <td>17.56</td>\n",
       "      <td>17.56</td>\n",
       "      <td>2022-10-06 00:00:00+00:00</td>\n",
       "      <td>Withdrawn</td>\n",
       "      <td>12/1/2024</td>\n",
       "      <td>11/30/2022</td>\n",
       "      <td>&lt;NA&gt;</td>\n",
       "      <td>NaN</td>\n",
       "      <td>12/1/2022</td>\n",
       "      <td>&lt;NA&gt;</td>\n",
       "      <td>12/1/2024</td>\n",
       "      <td>12/1/2024</td>\n",
       "      <td>&lt;NA&gt;</td>\n",
       "      <td>N</td>\n",
       "      <td>PD</td>\n",
       "      <td>SEMA</td>\n",
       "      <td>N</td>\n",
       "      <td>&lt;NA&gt;</td>\n",
       "      <td>&lt;NA&gt;</td>\n",
       "      <td>&lt;NA&gt;</td>\n",
       "      <td>&lt;NA&gt;</td>\n",
       "      <td>&lt;NA&gt;</td>\n",
       "      <td>&lt;NA&gt;</td>\n",
       "      <td>ISONE</td>\n",
       "    </tr>\n",
       "    <tr>\n",
       "      <th>...</th>\n",
       "      <td>...</td>\n",
       "      <td>...</td>\n",
       "      <td>...</td>\n",
       "      <td>...</td>\n",
       "      <td>...</td>\n",
       "      <td>...</td>\n",
       "      <td>...</td>\n",
       "      <td>...</td>\n",
       "      <td>...</td>\n",
       "      <td>...</td>\n",
       "      <td>...</td>\n",
       "      <td>...</td>\n",
       "      <td>...</td>\n",
       "      <td>...</td>\n",
       "      <td>...</td>\n",
       "      <td>...</td>\n",
       "      <td>...</td>\n",
       "      <td>...</td>\n",
       "      <td>...</td>\n",
       "      <td>...</td>\n",
       "      <td>...</td>\n",
       "      <td>...</td>\n",
       "      <td>...</td>\n",
       "      <td>...</td>\n",
       "      <td>...</td>\n",
       "      <td>...</td>\n",
       "      <td>...</td>\n",
       "      <td>...</td>\n",
       "      <td>...</td>\n",
       "      <td>...</td>\n",
       "      <td>...</td>\n",
       "      <td>...</td>\n",
       "      <td>...</td>\n",
       "    </tr>\n",
       "    <tr>\n",
       "      <th>1589</th>\n",
       "      <td>49</td>\n",
       "      <td>Irving Oil LTF PtP</td>\n",
       "      <td>&lt;NA&gt;</td>\n",
       "      <td>&lt;NA&gt;</td>\n",
       "      <td>&lt;NA&gt;</td>\n",
       "      <td>Import from NB Via MEPCO</td>\n",
       "      <td>&lt;NA&gt;</td>\n",
       "      <td>&lt;NA&gt;</td>\n",
       "      <td>&lt;NA&gt;</td>\n",
       "      <td>&lt;NA&gt;</td>\n",
       "      <td>&lt;NA&gt;</td>\n",
       "      <td>1998-09-14 00:00:00+00:00</td>\n",
       "      <td>Withdrawn</td>\n",
       "      <td>&lt;NA&gt;</td>\n",
       "      <td>&lt;NA&gt;</td>\n",
       "      <td>&lt;NA&gt;</td>\n",
       "      <td>NaN</td>\n",
       "      <td>&lt;NA&gt;</td>\n",
       "      <td>&lt;NA&gt;</td>\n",
       "      <td>4/1/2001</td>\n",
       "      <td>&lt;NA&gt;</td>\n",
       "      <td>ES</td>\n",
       "      <td>N</td>\n",
       "      <td>&lt;NA&gt;</td>\n",
       "      <td>&lt;NA&gt;</td>\n",
       "      <td>N</td>\n",
       "      <td>&lt;NA&gt;</td>\n",
       "      <td>&lt;NA&gt;</td>\n",
       "      <td>&lt;NA&gt;</td>\n",
       "      <td>&lt;NA&gt;</td>\n",
       "      <td>&lt;NA&gt;</td>\n",
       "      <td>&lt;NA&gt;</td>\n",
       "      <td>ISONE</td>\n",
       "    </tr>\n",
       "    <tr>\n",
       "      <th>1596</th>\n",
       "      <td>43</td>\n",
       "      <td>Tractebel LTF PtP</td>\n",
       "      <td>&lt;NA&gt;</td>\n",
       "      <td>&lt;NA&gt;</td>\n",
       "      <td>&lt;NA&gt;</td>\n",
       "      <td>Import from the New Brunswick System</td>\n",
       "      <td>&lt;NA&gt;</td>\n",
       "      <td>&lt;NA&gt;</td>\n",
       "      <td>&lt;NA&gt;</td>\n",
       "      <td>&lt;NA&gt;</td>\n",
       "      <td>&lt;NA&gt;</td>\n",
       "      <td>1998-06-08 00:00:00+00:00</td>\n",
       "      <td>Withdrawn</td>\n",
       "      <td>&lt;NA&gt;</td>\n",
       "      <td>&lt;NA&gt;</td>\n",
       "      <td>&lt;NA&gt;</td>\n",
       "      <td>NaN</td>\n",
       "      <td>&lt;NA&gt;</td>\n",
       "      <td>&lt;NA&gt;</td>\n",
       "      <td>12/31/2002</td>\n",
       "      <td>&lt;NA&gt;</td>\n",
       "      <td>&lt;NA&gt;</td>\n",
       "      <td>N</td>\n",
       "      <td>&lt;NA&gt;</td>\n",
       "      <td>&lt;NA&gt;</td>\n",
       "      <td>N</td>\n",
       "      <td>&lt;NA&gt;</td>\n",
       "      <td>&lt;NA&gt;</td>\n",
       "      <td>&lt;NA&gt;</td>\n",
       "      <td>&lt;NA&gt;</td>\n",
       "      <td>&lt;NA&gt;</td>\n",
       "      <td>&lt;NA&gt;</td>\n",
       "      <td>ISONE</td>\n",
       "    </tr>\n",
       "    <tr>\n",
       "      <th>1600</th>\n",
       "      <td>39</td>\n",
       "      <td>CVPS/GMP LTF PtP</td>\n",
       "      <td>&lt;NA&gt;</td>\n",
       "      <td>Clinton</td>\n",
       "      <td>NY</td>\n",
       "      <td>Import from NY via PV20</td>\n",
       "      <td>&lt;NA&gt;</td>\n",
       "      <td>&lt;NA&gt;</td>\n",
       "      <td>&lt;NA&gt;</td>\n",
       "      <td>&lt;NA&gt;</td>\n",
       "      <td>&lt;NA&gt;</td>\n",
       "      <td>1998-05-28 00:00:00+00:00</td>\n",
       "      <td>Withdrawn</td>\n",
       "      <td>&lt;NA&gt;</td>\n",
       "      <td>&lt;NA&gt;</td>\n",
       "      <td>&lt;NA&gt;</td>\n",
       "      <td>NaN</td>\n",
       "      <td>&lt;NA&gt;</td>\n",
       "      <td>&lt;NA&gt;</td>\n",
       "      <td>12/31/2001</td>\n",
       "      <td>&lt;NA&gt;</td>\n",
       "      <td>MIS</td>\n",
       "      <td>N</td>\n",
       "      <td>&lt;NA&gt;</td>\n",
       "      <td>VT</td>\n",
       "      <td>N</td>\n",
       "      <td>&lt;NA&gt;</td>\n",
       "      <td>&lt;NA&gt;</td>\n",
       "      <td>&lt;NA&gt;</td>\n",
       "      <td>&lt;NA&gt;</td>\n",
       "      <td>&lt;NA&gt;</td>\n",
       "      <td>&lt;NA&gt;</td>\n",
       "      <td>ISONE</td>\n",
       "    </tr>\n",
       "    <tr>\n",
       "      <th>1601</th>\n",
       "      <td>39</td>\n",
       "      <td>HQ Highgate2 HVDC</td>\n",
       "      <td>&lt;NA&gt;</td>\n",
       "      <td>Franklin</td>\n",
       "      <td>VT</td>\n",
       "      <td>Located on the Hydro Quebec sys. N. near Highg...</td>\n",
       "      <td>&lt;NA&gt;</td>\n",
       "      <td>&lt;NA&gt;</td>\n",
       "      <td>&lt;NA&gt;</td>\n",
       "      <td>&lt;NA&gt;</td>\n",
       "      <td>&lt;NA&gt;</td>\n",
       "      <td>1998-05-28 00:00:00+00:00</td>\n",
       "      <td>Withdrawn</td>\n",
       "      <td>&lt;NA&gt;</td>\n",
       "      <td>&lt;NA&gt;</td>\n",
       "      <td>&lt;NA&gt;</td>\n",
       "      <td>NaN</td>\n",
       "      <td>&lt;NA&gt;</td>\n",
       "      <td>&lt;NA&gt;</td>\n",
       "      <td>12/31/2001</td>\n",
       "      <td>&lt;NA&gt;</td>\n",
       "      <td>MIS</td>\n",
       "      <td>N</td>\n",
       "      <td>&lt;NA&gt;</td>\n",
       "      <td>VT</td>\n",
       "      <td>N</td>\n",
       "      <td>&lt;NA&gt;</td>\n",
       "      <td>&lt;NA&gt;</td>\n",
       "      <td>&lt;NA&gt;</td>\n",
       "      <td>&lt;NA&gt;</td>\n",
       "      <td>&lt;NA&gt;</td>\n",
       "      <td>&lt;NA&gt;</td>\n",
       "      <td>ISONE</td>\n",
       "    </tr>\n",
       "    <tr>\n",
       "      <th>1625</th>\n",
       "      <td>23</td>\n",
       "      <td>HQ-Surowiec</td>\n",
       "      <td>&lt;NA&gt;</td>\n",
       "      <td>Cumberland</td>\n",
       "      <td>ME</td>\n",
       "      <td>Surowiec 345 kV or MEPCO</td>\n",
       "      <td>CMP</td>\n",
       "      <td>&lt;NA&gt;</td>\n",
       "      <td>&lt;NA&gt;</td>\n",
       "      <td>&lt;NA&gt;</td>\n",
       "      <td>&lt;NA&gt;</td>\n",
       "      <td>1998-02-19 00:00:00+00:00</td>\n",
       "      <td>Withdrawn</td>\n",
       "      <td>&lt;NA&gt;</td>\n",
       "      <td>&lt;NA&gt;</td>\n",
       "      <td>&lt;NA&gt;</td>\n",
       "      <td>NaN</td>\n",
       "      <td>&lt;NA&gt;</td>\n",
       "      <td>&lt;NA&gt;</td>\n",
       "      <td>12/31/2002</td>\n",
       "      <td>&lt;NA&gt;</td>\n",
       "      <td>MIS</td>\n",
       "      <td>N</td>\n",
       "      <td>&lt;NA&gt;</td>\n",
       "      <td>ME</td>\n",
       "      <td>Y</td>\n",
       "      <td>&lt;NA&gt;</td>\n",
       "      <td>&lt;NA&gt;</td>\n",
       "      <td>&lt;NA&gt;</td>\n",
       "      <td>&lt;NA&gt;</td>\n",
       "      <td>&lt;NA&gt;</td>\n",
       "      <td>&lt;NA&gt;</td>\n",
       "      <td>ISONE</td>\n",
       "    </tr>\n",
       "  </tbody>\n",
       "</table>\n",
       "<p>166 rows × 33 columns</p>\n",
       "</div>"
      ],
      "text/plain": [
       "     Queue ID                                       Project Name Interconnecting Entity      County State                           Interconnection Location Transmission Owner Generation Type  Capacity (MW) Summer Capacity (MW) Winter Capacity (MW)                Queue Date     Status Proposed Completion Date Withdrawn Date Withdrawal Comment Actual Completion Date     Updated  Unit     Op Date  Sync Date  Serv I39   Dev  Zone System Impact Study Completed Feasiblity Study Status System Impact Study Status Optional Interconnection Study Status Facilities Study Status Interconnection Agreement Status Project Status region\n",
       "177      1333             2400 controllable ETU - unidirectional                   <NA>        <NA>    CT  1. Singer 345kV Substation existing available ...               <NA>            <NA>         1100.0                 <NA>                 <NA> 2022-11-08 00:00:00+00:00  Withdrawn                3/31/2028      1/30/2024               <NA>                    NaN   1/30/2024  <NA>   5/31/2028  3/31/2028  <NA>   N  <NA>  SWCT                             N             Not Started                       <NA>                                  <NA>                    <NA>                             <NA>    Under Study  ISONE\n",
       "178      1332                 Enable 1200 MW injection at Mystic                   <NA>        <NA>    MA                                               <NA>               <NA>            <NA>         1200.0                 <NA>                 <NA> 2022-11-08 00:00:00+00:00  Withdrawn                 5/1/2029     11/22/2023               <NA>                    NaN  11/22/2023  <NA>  12/30/2029   5/1/2029  <NA>   N    PD  BOST                             N         Document Posted                Not Started                                  <NA>                    <NA>                             <NA>    Under Study  ISONE\n",
       "187      1323  Non-controllable ETU from Line 3023 substation...                   <NA>        <NA>    ME  New substation on line 3023 (per QP1227 ) to C...               <NA>            <NA>           <NA>                 <NA>                 <NA> 2022-10-11 00:00:00+00:00  Withdrawn                10/8/2027      11/2/2022               <NA>                    NaN  11/28/2022  <NA>  12/31/2027  10/8/2027  <NA>   N    PD    ME                             N                    <NA>                       <NA>                                  <NA>                    <NA>                             <NA>           <NA>  ISONE\n",
       "188      1322  Non-controllable ETU from Line 388 substation ...                   <NA>        <NA>    ME  New substation on line 388 (per QP1228 ) to Co...               <NA>            <NA>           <NA>                 <NA>                 <NA> 2022-10-11 00:00:00+00:00  Withdrawn                10/8/2027      11/2/2022               <NA>                    NaN  11/28/2022  <NA>  12/31/2027  10/8/2027  <NA>   N    PD    ME                             N                    <NA>                       <NA>                                  <NA>                    <NA>                             <NA>           <NA>  ISONE\n",
       "189      1321                                            NEP LNS                   <NA>    Somerset    MA                           NEP 115 kV Brayton Point               <NA>            <NA>          17.56                17.56                17.56 2022-10-06 00:00:00+00:00  Withdrawn                12/1/2024     11/30/2022               <NA>                    NaN   12/1/2022  <NA>   12/1/2024  12/1/2024  <NA>   N    PD  SEMA                             N                    <NA>                       <NA>                                  <NA>                    <NA>                             <NA>           <NA>  ISONE\n",
       "...       ...                                                ...                    ...         ...   ...                                                ...                ...             ...            ...                  ...                  ...                       ...        ...                      ...            ...                ...                    ...         ...   ...         ...        ...   ...  ..   ...   ...                           ...                     ...                        ...                                   ...                     ...                              ...            ...    ...\n",
       "1589       49                                 Irving Oil LTF PtP                   <NA>        <NA>  <NA>                           Import from NB Via MEPCO               <NA>            <NA>           <NA>                 <NA>                 <NA> 1998-09-14 00:00:00+00:00  Withdrawn                     <NA>           <NA>               <NA>                    NaN        <NA>  <NA>    4/1/2001       <NA>    ES   N  <NA>  <NA>                             N                    <NA>                       <NA>                                  <NA>                    <NA>                             <NA>           <NA>  ISONE\n",
       "1596       43                                  Tractebel LTF PtP                   <NA>        <NA>  <NA>               Import from the New Brunswick System               <NA>            <NA>           <NA>                 <NA>                 <NA> 1998-06-08 00:00:00+00:00  Withdrawn                     <NA>           <NA>               <NA>                    NaN        <NA>  <NA>  12/31/2002       <NA>  <NA>   N  <NA>  <NA>                             N                    <NA>                       <NA>                                  <NA>                    <NA>                             <NA>           <NA>  ISONE\n",
       "1600       39                                   CVPS/GMP LTF PtP                   <NA>     Clinton    NY                            Import from NY via PV20               <NA>            <NA>           <NA>                 <NA>                 <NA> 1998-05-28 00:00:00+00:00  Withdrawn                     <NA>           <NA>               <NA>                    NaN        <NA>  <NA>  12/31/2001       <NA>   MIS   N  <NA>    VT                             N                    <NA>                       <NA>                                  <NA>                    <NA>                             <NA>           <NA>  ISONE\n",
       "1601       39                                  HQ Highgate2 HVDC                   <NA>    Franklin    VT  Located on the Hydro Quebec sys. N. near Highg...               <NA>            <NA>           <NA>                 <NA>                 <NA> 1998-05-28 00:00:00+00:00  Withdrawn                     <NA>           <NA>               <NA>                    NaN        <NA>  <NA>  12/31/2001       <NA>   MIS   N  <NA>    VT                             N                    <NA>                       <NA>                                  <NA>                    <NA>                             <NA>           <NA>  ISONE\n",
       "1625       23                                        HQ-Surowiec                   <NA>  Cumberland    ME                           Surowiec 345 kV or MEPCO                CMP            <NA>           <NA>                 <NA>                 <NA> 1998-02-19 00:00:00+00:00  Withdrawn                     <NA>           <NA>               <NA>                    NaN        <NA>  <NA>  12/31/2002       <NA>   MIS   N  <NA>    ME                             Y                    <NA>                       <NA>                                  <NA>                    <NA>                             <NA>           <NA>  ISONE\n",
       "\n",
       "[166 rows x 33 columns]"
      ]
     },
     "execution_count": 55,
     "metadata": {},
     "output_type": "execute_result"
    }
   ],
   "source": [
    "isone_cols = raw_gs_dfs[\"isone\"].columns\n",
    "not_in_lbnl_region_gs[not_in_lbnl_region_gs[\"Generation Type\"].isna()][isone_cols]"
   ]
  },
  {
   "cell_type": "code",
   "execution_count": 56,
   "id": "dc8329ad-3ed6-47e8-8e71-6b98af829d12",
   "metadata": {
    "tags": []
   },
   "outputs": [],
   "source": [
    "raw_isone = pd.read_excel(\"raw_isone.xlsx\", sheet_name=0, header=4)\n",
    "fields = [\"Position\", \"Type\"]\n",
    "raw_isone[\"Position\"] = raw_isone[\"Position\"].astype(\"string\")\n",
    "not_in_lbnl_region_gs = not_in_lbnl_region_gs.merge(raw_isone[fields], how=\"left\", left_on=\"Queue ID\", right_on=\"Position\")\n",
    "region_gs = region_gs.merge(raw_isone[fields], how=\"left\", left_on=\"Queue ID\", right_on=\"Position\")"
   ]
  },
  {
   "cell_type": "code",
   "execution_count": 57,
   "id": "b424d8a0-def3-4a7e-9b62-e3a6967fc1f7",
   "metadata": {},
   "outputs": [
    {
     "data": {
      "text/plain": [
       "G      1932\n",
       "ETU     220\n",
       "TS       18\n",
       "Name: Type, dtype: int64"
      ]
     },
     "execution_count": 57,
     "metadata": {},
     "output_type": "execute_result"
    }
   ],
   "source": [
    "region_gs[\"Type\"].value_counts(dropna=False, normalize=False)"
   ]
  },
  {
   "cell_type": "code",
   "execution_count": 58,
   "id": "0788eb46-0eb4-4dd2-89a3-59b1907e458d",
   "metadata": {},
   "outputs": [
    {
     "data": {
      "text/plain": [
       "ETU    201\n",
       "G       73\n",
       "TS      13\n",
       "Name: Type, dtype: int64"
      ]
     },
     "execution_count": 58,
     "metadata": {},
     "output_type": "execute_result"
    }
   ],
   "source": [
    "not_in_lbnl_region_gs[\"Type\"].value_counts(dropna=False, normalize=False)"
   ]
  },
  {
   "cell_type": "code",
   "execution_count": 59,
   "id": "7ddb2f1e-0646-46fe-b20b-3e57809651da",
   "metadata": {},
   "outputs": [
    {
     "data": {
      "text/plain": [
       "ETU    0.700348\n",
       "G      0.254355\n",
       "TS     0.045296\n",
       "Name: Type, dtype: float64"
      ]
     },
     "execution_count": 59,
     "metadata": {},
     "output_type": "execute_result"
    }
   ],
   "source": [
    "not_in_lbnl_region_gs[\"Type\"].value_counts(dropna=False, normalize=True)"
   ]
  },
  {
   "cell_type": "code",
   "execution_count": 60,
   "id": "658fb57f-ea2b-4782-a3b5-40da02a2d27a",
   "metadata": {},
   "outputs": [
    {
     "data": {
      "text/plain": [
       "Type\n",
       "ETU    0.989576\n",
       "G      0.001044\n",
       "TS      0.00938\n",
       "Name: Capacity (MW), dtype: Float64"
      ]
     },
     "execution_count": 60,
     "metadata": {},
     "output_type": "execute_result"
    }
   ],
   "source": [
    "not_in_lbnl_region_gs.groupby(\"Type\")[\"Capacity (MW)\"].sum() / not_in_lbnl_region_gs[\"Capacity (MW)\"].sum()"
   ]
  },
  {
   "cell_type": "markdown",
   "id": "8690b569-9b8c-4bc9-8931-c0338131cb5c",
   "metadata": {},
   "source": [
    "Wahoo! 99% of the capacity that is not in LBNL are \"Elective Transmission Upgrade Interconnection\" projects. LBNL must filter them out."
   ]
  },
  {
   "cell_type": "markdown",
   "id": "9d90a81a-1f41-4212-8a6f-6e4881d3b8f7",
   "metadata": {},
   "source": [
    "### PJM"
   ]
  },
  {
   "cell_type": "code",
   "execution_count": 61,
   "id": "186f9748-1001-4014-a179-d016a32071e1",
   "metadata": {},
   "outputs": [],
   "source": [
    "region = \"PJM\"\n",
    "not_in_lbnl_region_gs = projects_gs_not_in_lbnl_pre_2023.query(\"region == @region\")\n",
    "region_gs = gs.query(\"region == @region\")\n",
    "region_lbnl = lbnl.query(\"region == @region\")"
   ]
  },
  {
   "cell_type": "code",
   "execution_count": 62,
   "id": "e20b241d-8cf6-4a3c-baa7-be74b596d34a",
   "metadata": {},
   "outputs": [
    {
     "data": {
      "text/plain": [
       "2008    129\n",
       "2007    114\n",
       "2013     82\n",
       "2012     79\n",
       "2014     79\n",
       "2009     67\n",
       "2022     50\n",
       "2011     48\n",
       "2010     39\n",
       "2015     39\n",
       "2018     29\n",
       "2016     22\n",
       "2017     19\n",
       "2021     17\n",
       "2006     14\n",
       "2020     13\n",
       "2005     12\n",
       "2019     10\n",
       "2001      8\n",
       "2004      5\n",
       "2002      3\n",
       "2003      3\n",
       "Name: Queue Date, dtype: int64"
      ]
     },
     "execution_count": 62,
     "metadata": {},
     "output_type": "execute_result"
    }
   ],
   "source": [
    "not_in_lbnl_region_gs[\"Queue Date\"].dt.year.value_counts()"
   ]
  },
  {
   "cell_type": "code",
   "execution_count": 63,
   "id": "ac1be352-0cbe-4f4f-8252-3b390dc82cf8",
   "metadata": {},
   "outputs": [
    {
     "data": {
      "text/plain": [
       "Withdrawn                      499\n",
       "Confirmed                      182\n",
       "Retracted                      121\n",
       "Active                          34\n",
       "In Service                      25\n",
       "Annulled                        19\n",
       "Engineering and Procurement      1\n",
       "Name: Status, dtype: Int64"
      ]
     },
     "execution_count": 63,
     "metadata": {},
     "output_type": "execute_result"
    }
   ],
   "source": [
    "not_in_lbnl_region_gs[\"Status\"].value_counts()"
   ]
  },
  {
   "cell_type": "code",
   "execution_count": 64,
   "id": "0a08f8ee-d102-495b-b5c5-9c6a1e767536",
   "metadata": {},
   "outputs": [],
   "source": [
    "pjm_cols = raw_gs_dfs[\"pjm\"].columns"
   ]
  },
  {
   "cell_type": "code",
   "execution_count": 65,
   "id": "5733f816-2eba-4dbe-843f-3dda70c5031c",
   "metadata": {},
   "outputs": [],
   "source": [
    "raw_pjm = pd.read_excel(\"raw_pjm.xlsx\", sheet_name=0)"
   ]
  },
  {
   "cell_type": "code",
   "execution_count": 66,
   "id": "1235ba83-4bcd-4456-99d0-f641ef531d6e",
   "metadata": {},
   "outputs": [],
   "source": [
    "fields = [\"Project ID\", \"Project Type\"]\n",
    "raw_pjm[\"Project ID\"] = raw_pjm[\"Project ID\"].astype(\"string\").str.replace(\" - moved to TC1\", \"\")\n",
    "not_in_lbnl_region_gs = not_in_lbnl_region_gs.merge(raw_pjm[fields], how=\"left\", left_on=\"Queue ID\", right_on=\"Project ID\")\n",
    "region_gs = region_gs.merge(raw_pjm[fields], how=\"left\", left_on=\"Queue ID\", right_on=\"Project ID\")"
   ]
  },
  {
   "cell_type": "code",
   "execution_count": 67,
   "id": "871a890d-a95f-4a0e-9145-3e248d8192e0",
   "metadata": {},
   "outputs": [
    {
     "data": {
      "text/plain": [
       "Generation Interconnection     8184\n",
       "Long-Term Firm Transmission     743\n",
       "Merchant Transmission           193\n",
       "Upgrade Request                  74\n",
       "Name: Project Type, dtype: int64"
      ]
     },
     "execution_count": 67,
     "metadata": {},
     "output_type": "execute_result"
    }
   ],
   "source": [
    "region_gs[\"Project Type\"].value_counts()"
   ]
  },
  {
   "cell_type": "code",
   "execution_count": 68,
   "id": "28c37bee-6eda-48ef-9594-cf4cafda637d",
   "metadata": {},
   "outputs": [
    {
     "data": {
      "text/plain": [
       "Long-Term Firm Transmission    630\n",
       "Merchant Transmission          193\n",
       "Upgrade Request                 38\n",
       "Generation Interconnection      20\n",
       "Name: Project Type, dtype: int64"
      ]
     },
     "execution_count": 68,
     "metadata": {},
     "output_type": "execute_result"
    }
   ],
   "source": [
    "not_in_lbnl_region_gs[\"Project Type\"].value_counts()"
   ]
  },
  {
   "cell_type": "code",
   "execution_count": 69,
   "id": "f6132646-f883-4685-9166-ca7a176fc434",
   "metadata": {},
   "outputs": [
    {
     "data": {
      "text/plain": [
       "Generation Interconnection     0.002444\n",
       "Long-Term Firm Transmission    0.847914\n",
       "Merchant Transmission          1.000000\n",
       "Upgrade Request                0.513514\n",
       "Name: Project Type, dtype: float64"
      ]
     },
     "execution_count": 69,
     "metadata": {},
     "output_type": "execute_result"
    }
   ],
   "source": [
    "not_in_lbnl_region_gs[\"Project Type\"].value_counts() / region_gs[\"Project Type\"].value_counts()"
   ]
  },
  {
   "cell_type": "code",
   "execution_count": 70,
   "id": "cea752fa-5bbb-4e64-aafb-00f2202ea1f8",
   "metadata": {},
   "outputs": [
    {
     "data": {
      "text/plain": [
       "Project Type\n",
       "Generation Interconnection     0.022433\n",
       "Long-Term Firm Transmission    0.638084\n",
       "Merchant Transmission          0.322876\n",
       "Upgrade Request                0.016607\n",
       "Name: Capacity (MW), dtype: Float64"
      ]
     },
     "execution_count": 70,
     "metadata": {},
     "output_type": "execute_result"
    }
   ],
   "source": [
    "not_in_lbnl_region_gs.groupby([\"Project Type\"], dropna=False)[\"Capacity (MW)\"].sum() / not_in_lbnl_region_gs[\"Capacity (MW)\"].sum()"
   ]
  },
  {
   "cell_type": "code",
   "execution_count": 71,
   "id": "7af55288-68ac-4c0d-bd8e-59519c195796",
   "metadata": {},
   "outputs": [
    {
     "data": {
      "text/plain": [
       "2022-11-30 00:00:00+00:00    4\n",
       "2022-12-09 00:00:00+00:00    3\n",
       "2022-12-22 00:00:00+00:00    3\n",
       "2022-11-10 00:00:00+00:00    2\n",
       "2022-12-20 00:00:00+00:00    2\n",
       "2022-08-31 00:00:00+00:00    1\n",
       "2022-09-10 00:00:00+00:00    1\n",
       "2022-11-23 00:00:00+00:00    1\n",
       "2022-12-10 00:00:00+00:00    1\n",
       "2022-12-29 00:00:00+00:00    1\n",
       "2022-12-31 00:00:00+00:00    1\n",
       "Name: Queue Date, dtype: int64"
      ]
     },
     "execution_count": 71,
     "metadata": {},
     "output_type": "execute_result"
    }
   ],
   "source": [
    "not_in_lbnl_region_gs.query(\"`Project Type` == 'Generation Interconnection'\")[\"Queue Date\"].value_counts()"
   ]
  },
  {
   "cell_type": "markdown",
   "id": "3ace3d0b-828e-429c-abb4-610be437ec89",
   "metadata": {
    "tags": []
   },
   "source": [
    "## NYISO"
   ]
  },
  {
   "cell_type": "code",
   "execution_count": 72,
   "id": "b2794fdb-e22d-4296-b2db-1ae5b0ed3b75",
   "metadata": {},
   "outputs": [],
   "source": [
    "region = \"NYISO\"\n",
    "not_in_lbnl_region_gs = projects_gs_not_in_lbnl_pre_2023.query(\"region == @region\")\n",
    "region_gs = gs.query(\"region == @region\")\n",
    "region_lbnl = lbnl.query(\"region == @region\")"
   ]
  },
  {
   "cell_type": "code",
   "execution_count": 73,
   "id": "621abae5-631c-482d-9f61-99469b872537",
   "metadata": {},
   "outputs": [
    {
     "data": {
      "text/plain": [
       "AC Transmission    140\n",
       "DC Transmission     49\n",
       "Energy Storage      26\n",
       "Load                16\n",
       "Solar               13\n",
       "Wind                 6\n",
       "Methane              6\n",
       "Hydro                1\n",
       "Name: Generation Type, dtype: Int64"
      ]
     },
     "execution_count": 73,
     "metadata": {},
     "output_type": "execute_result"
    }
   ],
   "source": [
    "not_in_lbnl_region_gs[\"Generation Type\"].value_counts()"
   ]
  },
  {
   "cell_type": "code",
   "execution_count": 74,
   "id": "6835fc65-899c-40fd-95b0-5a231b95212c",
   "metadata": {},
   "outputs": [
    {
     "data": {
      "text/plain": [
       "Solar                    351\n",
       "Battery                  333\n",
       "Wind                     184\n",
       "Gas                      119\n",
       "Unknown                   86\n",
       "Offshore Wind             76\n",
       "Other Storage             42\n",
       "Solar+Battery             41\n",
       "Hydro                     17\n",
       "Nuclear                    6\n",
       "Other                      4\n",
       "Offshore Wind+Battery      1\n",
       "Name: resource_type_lbnl, dtype: int64"
      ]
     },
     "execution_count": 74,
     "metadata": {},
     "output_type": "execute_result"
    }
   ],
   "source": [
    "region_lbnl.resource_type_lbnl.value_counts()"
   ]
  },
  {
   "cell_type": "markdown",
   "id": "97a3f676-a8f1-4b34-9068-f718033e868a",
   "metadata": {},
   "source": [
    "Looks like a bulk of projects in GS not in LBNL are transmission."
   ]
  },
  {
   "cell_type": "code",
   "execution_count": 75,
   "id": "0abf4b46-cafa-4630-8790-0f1be034b8a4",
   "metadata": {},
   "outputs": [
    {
     "data": {
      "text/plain": [
       "Generation Type\n",
       "False    0.199189\n",
       "True     0.799003\n",
       "Name: Capacity (MW), dtype: Float64"
      ]
     },
     "execution_count": 75,
     "metadata": {},
     "output_type": "execute_result"
    }
   ],
   "source": [
    "is_transmission = not_in_lbnl_region_gs[\"Generation Type\"].str.contains(\"Transmission\")\n",
    "not_in_lbnl_region_gs.groupby(is_transmission)[\"Capacity (MW)\"].sum() / not_in_lbnl_region_gs[\"Capacity (MW)\"].sum()"
   ]
  },
  {
   "cell_type": "markdown",
   "id": "56842fc9-828c-4505-8b0d-f850ca560690",
   "metadata": {},
   "source": [
    "80% of the projects are transmission. What's going on with the remaining 30%?"
   ]
  },
  {
   "cell_type": "code",
   "execution_count": 76,
   "id": "5d9efe68-5348-44d2-92ef-9f03246d5515",
   "metadata": {},
   "outputs": [],
   "source": [
    "not_transmission_gs = not_in_lbnl_region_gs[~is_transmission]"
   ]
  },
  {
   "cell_type": "code",
   "execution_count": 77,
   "id": "986c3b45-dcb9-4b91-abb6-67bdb39ef8fd",
   "metadata": {},
   "outputs": [
    {
     "data": {
      "text/html": [
       "<div>\n",
       "<style scoped>\n",
       "    .dataframe tbody tr th:only-of-type {\n",
       "        vertical-align: middle;\n",
       "    }\n",
       "\n",
       "    .dataframe tbody tr th {\n",
       "        vertical-align: top;\n",
       "    }\n",
       "\n",
       "    .dataframe thead th {\n",
       "        text-align: right;\n",
       "    }\n",
       "</style>\n",
       "<table border=\"1\" class=\"dataframe\">\n",
       "  <thead>\n",
       "    <tr style=\"text-align: right;\">\n",
       "      <th></th>\n",
       "      <th>Queue ID</th>\n",
       "      <th>Project Name</th>\n",
       "      <th>Interconnecting Entity</th>\n",
       "      <th>County</th>\n",
       "      <th>State</th>\n",
       "      <th>Interconnection Location</th>\n",
       "      <th>Transmission Owner</th>\n",
       "      <th>Generation Type</th>\n",
       "      <th>Capacity (MW)</th>\n",
       "      <th>Summer Capacity (MW)</th>\n",
       "      <th>Winter Capacity (MW)</th>\n",
       "      <th>Queue Date</th>\n",
       "      <th>Status</th>\n",
       "      <th>Proposed Completion Date</th>\n",
       "      <th>Withdrawn Date</th>\n",
       "      <th>Withdrawal Comment</th>\n",
       "      <th>Actual Completion Date</th>\n",
       "      <th>Proposed In-Service Date</th>\n",
       "      <th>Proposed Initial-Sync Date</th>\n",
       "      <th>Last Updated Date</th>\n",
       "      <th>Z</th>\n",
       "      <th>S</th>\n",
       "      <th>Availability of Studies</th>\n",
       "      <th>SGIA Tender Date</th>\n",
       "      <th>region</th>\n",
       "    </tr>\n",
       "  </thead>\n",
       "  <tbody>\n",
       "    <tr>\n",
       "      <th>244</th>\n",
       "      <td>1184</td>\n",
       "      <td>NY125B - Two Rivers Solar</td>\n",
       "      <td>Boralex US Development</td>\n",
       "      <td>St-Lawrence</td>\n",
       "      <td>NY</td>\n",
       "      <td>Moses-Willis 230kV (MW2)</td>\n",
       "      <td>NYPA</td>\n",
       "      <td>Solar</td>\n",
       "      <td>200.0</td>\n",
       "      <td>200.0</td>\n",
       "      <td>200.0</td>\n",
       "      <td>2021-05-20 00:00:00+00:00</td>\n",
       "      <td>Active</td>\n",
       "      <td>2025-12-01 00:00:00</td>\n",
       "      <td>&lt;NA&gt;</td>\n",
       "      <td>&lt;NA&gt;</td>\n",
       "      <td>NaT</td>\n",
       "      <td>2025-10-01</td>\n",
       "      <td>2025-11-01</td>\n",
       "      <td>2023-04-30</td>\n",
       "      <td>D</td>\n",
       "      <td>9</td>\n",
       "      <td>SRIS</td>\n",
       "      <td>NaT</td>\n",
       "      <td>NYISO</td>\n",
       "    </tr>\n",
       "    <tr>\n",
       "      <th>273</th>\n",
       "      <td>1239</td>\n",
       "      <td>NY Interconnection 3</td>\n",
       "      <td>NY Interconnection LLC</td>\n",
       "      <td>New York</td>\n",
       "      <td>NY</td>\n",
       "      <td>Goethals - Fresh Kills 345kV</td>\n",
       "      <td>ConEd</td>\n",
       "      <td>Energy Storage</td>\n",
       "      <td>130.3</td>\n",
       "      <td>130.3</td>\n",
       "      <td>122.0</td>\n",
       "      <td>2021-09-02 00:00:00+00:00</td>\n",
       "      <td>Active</td>\n",
       "      <td>2030-06-01 00:00:00</td>\n",
       "      <td>&lt;NA&gt;</td>\n",
       "      <td>&lt;NA&gt;</td>\n",
       "      <td>NaT</td>\n",
       "      <td>2030-03-01</td>\n",
       "      <td>2030-03-01</td>\n",
       "      <td>2023-12-31</td>\n",
       "      <td>J</td>\n",
       "      <td>P</td>\n",
       "      <td>&lt;NA&gt;</td>\n",
       "      <td>NaT</td>\n",
       "      <td>NYISO</td>\n",
       "    </tr>\n",
       "    <tr>\n",
       "      <th>346</th>\n",
       "      <td>1397</td>\n",
       "      <td>Hell Gate Energy Storage</td>\n",
       "      <td>New York Power Authority</td>\n",
       "      <td>Bronx</td>\n",
       "      <td>NY</td>\n",
       "      <td>Hell Gate Bus Section 2 - 138kV</td>\n",
       "      <td>NYPA</td>\n",
       "      <td>Energy Storage</td>\n",
       "      <td>96.0</td>\n",
       "      <td>95.0</td>\n",
       "      <td>96.0</td>\n",
       "      <td>2022-07-01 00:00:00+00:00</td>\n",
       "      <td>Active</td>\n",
       "      <td>2025-12-01 00:00:00</td>\n",
       "      <td>&lt;NA&gt;</td>\n",
       "      <td>&lt;NA&gt;</td>\n",
       "      <td>NaT</td>\n",
       "      <td>2025-12-01</td>\n",
       "      <td>2025-12-01</td>\n",
       "      <td>2023-12-31</td>\n",
       "      <td>J</td>\n",
       "      <td>P</td>\n",
       "      <td>&lt;NA&gt;</td>\n",
       "      <td>NaT</td>\n",
       "      <td>NYISO</td>\n",
       "    </tr>\n",
       "    <tr>\n",
       "      <th>347</th>\n",
       "      <td>1398</td>\n",
       "      <td>Harlem River Yards Energy Storage</td>\n",
       "      <td>New York Power Authority</td>\n",
       "      <td>Bronx</td>\n",
       "      <td>NY</td>\n",
       "      <td>Hell Gate Annex - 138kV voltage</td>\n",
       "      <td>NYPA</td>\n",
       "      <td>Energy Storage</td>\n",
       "      <td>107.0</td>\n",
       "      <td>106.0</td>\n",
       "      <td>107.0</td>\n",
       "      <td>2022-07-01 00:00:00+00:00</td>\n",
       "      <td>Active</td>\n",
       "      <td>2030-12-01 00:00:00</td>\n",
       "      <td>&lt;NA&gt;</td>\n",
       "      <td>&lt;NA&gt;</td>\n",
       "      <td>NaT</td>\n",
       "      <td>2030-12-01</td>\n",
       "      <td>2030-12-01</td>\n",
       "      <td>2023-12-31</td>\n",
       "      <td>J</td>\n",
       "      <td>P</td>\n",
       "      <td>&lt;NA&gt;</td>\n",
       "      <td>NaT</td>\n",
       "      <td>NYISO</td>\n",
       "    </tr>\n",
       "    <tr>\n",
       "      <th>348</th>\n",
       "      <td>1399</td>\n",
       "      <td>Pouch Energy Storage</td>\n",
       "      <td>New York Power Authority</td>\n",
       "      <td>Staten Island</td>\n",
       "      <td>NY</td>\n",
       "      <td>Fox Hills 138kV Substation</td>\n",
       "      <td>ConEd</td>\n",
       "      <td>Energy Storage</td>\n",
       "      <td>52.0</td>\n",
       "      <td>51.0</td>\n",
       "      <td>52.0</td>\n",
       "      <td>2022-07-01 00:00:00+00:00</td>\n",
       "      <td>Active</td>\n",
       "      <td>2025-12-01 00:00:00</td>\n",
       "      <td>&lt;NA&gt;</td>\n",
       "      <td>&lt;NA&gt;</td>\n",
       "      <td>NaT</td>\n",
       "      <td>2025-12-01</td>\n",
       "      <td>2025-12-01</td>\n",
       "      <td>2023-12-31</td>\n",
       "      <td>J</td>\n",
       "      <td>P</td>\n",
       "      <td>&lt;NA&gt;</td>\n",
       "      <td>NaT</td>\n",
       "      <td>NYISO</td>\n",
       "    </tr>\n",
       "    <tr>\n",
       "      <th>349</th>\n",
       "      <td>1401</td>\n",
       "      <td>Brentwood Energy Storage</td>\n",
       "      <td>New York Power Authority</td>\n",
       "      <td>Suffolk</td>\n",
       "      <td>NY</td>\n",
       "      <td>Brentwood Substation Bus #1 - 69kV</td>\n",
       "      <td>LIPA</td>\n",
       "      <td>Energy Storage</td>\n",
       "      <td>52.0</td>\n",
       "      <td>51.0</td>\n",
       "      <td>52.0</td>\n",
       "      <td>2022-07-01 00:00:00+00:00</td>\n",
       "      <td>Active</td>\n",
       "      <td>2025-12-01 00:00:00</td>\n",
       "      <td>&lt;NA&gt;</td>\n",
       "      <td>&lt;NA&gt;</td>\n",
       "      <td>NaT</td>\n",
       "      <td>2025-12-01</td>\n",
       "      <td>2025-12-01</td>\n",
       "      <td>2023-12-31</td>\n",
       "      <td>K</td>\n",
       "      <td>P</td>\n",
       "      <td>&lt;NA&gt;</td>\n",
       "      <td>NaT</td>\n",
       "      <td>NYISO</td>\n",
       "    </tr>\n",
       "    <tr>\n",
       "      <th>350</th>\n",
       "      <td>1402</td>\n",
       "      <td>Flynn Energy Storage</td>\n",
       "      <td>New York Power Authority</td>\n",
       "      <td>Suffolk</td>\n",
       "      <td>NY</td>\n",
       "      <td>Holtsville 138 kV substation</td>\n",
       "      <td>LIPA</td>\n",
       "      <td>Energy Storage</td>\n",
       "      <td>160.0</td>\n",
       "      <td>160.0</td>\n",
       "      <td>160.0</td>\n",
       "      <td>2022-07-01 00:00:00+00:00</td>\n",
       "      <td>Active</td>\n",
       "      <td>2030-12-01 00:00:00</td>\n",
       "      <td>&lt;NA&gt;</td>\n",
       "      <td>&lt;NA&gt;</td>\n",
       "      <td>NaT</td>\n",
       "      <td>2030-12-01</td>\n",
       "      <td>2030-12-01</td>\n",
       "      <td>2023-12-31</td>\n",
       "      <td>K</td>\n",
       "      <td>P</td>\n",
       "      <td>&lt;NA&gt;</td>\n",
       "      <td>NaT</td>\n",
       "      <td>NYISO</td>\n",
       "    </tr>\n",
       "    <tr>\n",
       "      <th>352</th>\n",
       "      <td>1404</td>\n",
       "      <td>Winner Solar</td>\n",
       "      <td>Winner Solar, LLC</td>\n",
       "      <td>Clinton County</td>\n",
       "      <td>PA</td>\n",
       "      <td>Homer City - Mainesburg 345kV</td>\n",
       "      <td>NYSEG</td>\n",
       "      <td>Solar</td>\n",
       "      <td>120.0</td>\n",
       "      <td>120.0</td>\n",
       "      <td>120.0</td>\n",
       "      <td>2022-07-14 00:00:00+00:00</td>\n",
       "      <td>Active</td>\n",
       "      <td>2027-10-01 00:00:00</td>\n",
       "      <td>&lt;NA&gt;</td>\n",
       "      <td>&lt;NA&gt;</td>\n",
       "      <td>NaT</td>\n",
       "      <td>2027-05-01</td>\n",
       "      <td>2027-08-01</td>\n",
       "      <td>2023-04-30</td>\n",
       "      <td>C</td>\n",
       "      <td>2</td>\n",
       "      <td>&lt;NA&gt;</td>\n",
       "      <td>NaT</td>\n",
       "      <td>NYISO</td>\n",
       "    </tr>\n",
       "    <tr>\n",
       "      <th>354</th>\n",
       "      <td>1409</td>\n",
       "      <td>Grateful Storage, LLC</td>\n",
       "      <td>Grateful Storage LLC</td>\n",
       "      <td>Orange</td>\n",
       "      <td>NY</td>\n",
       "      <td>Rock Tavern - Roseton 345kV</td>\n",
       "      <td>CHG&amp;E</td>\n",
       "      <td>Energy Storage</td>\n",
       "      <td>250.0</td>\n",
       "      <td>250.0</td>\n",
       "      <td>250.0</td>\n",
       "      <td>2022-08-26 00:00:00+00:00</td>\n",
       "      <td>Active</td>\n",
       "      <td>2028-08-01 00:00:00</td>\n",
       "      <td>&lt;NA&gt;</td>\n",
       "      <td>&lt;NA&gt;</td>\n",
       "      <td>NaT</td>\n",
       "      <td>2028-05-01</td>\n",
       "      <td>2028-06-01</td>\n",
       "      <td>2023-06-01</td>\n",
       "      <td>G</td>\n",
       "      <td>4</td>\n",
       "      <td>&lt;NA&gt;</td>\n",
       "      <td>NaT</td>\n",
       "      <td>NYISO</td>\n",
       "    </tr>\n",
       "    <tr>\n",
       "      <th>364</th>\n",
       "      <td>1431</td>\n",
       "      <td>oyster shore III</td>\n",
       "      <td>Juno Power Management</td>\n",
       "      <td>Nassau</td>\n",
       "      <td>NY</td>\n",
       "      <td>Shore road 138 kV</td>\n",
       "      <td>LIPA</td>\n",
       "      <td>Energy Storage</td>\n",
       "      <td>300.0</td>\n",
       "      <td>300.0</td>\n",
       "      <td>300.0</td>\n",
       "      <td>2022-09-06 00:00:00+00:00</td>\n",
       "      <td>Active</td>\n",
       "      <td>2025-12-01 00:00:00</td>\n",
       "      <td>&lt;NA&gt;</td>\n",
       "      <td>&lt;NA&gt;</td>\n",
       "      <td>NaT</td>\n",
       "      <td>2025-10-01</td>\n",
       "      <td>2025-10-01</td>\n",
       "      <td>2023-04-30</td>\n",
       "      <td>K</td>\n",
       "      <td>2</td>\n",
       "      <td>&lt;NA&gt;</td>\n",
       "      <td>NaT</td>\n",
       "      <td>NYISO</td>\n",
       "    </tr>\n",
       "  </tbody>\n",
       "</table>\n",
       "</div>"
      ],
      "text/plain": [
       "    Queue ID                       Project Name    Interconnecting Entity          County State            Interconnection Location Transmission Owner Generation Type  Capacity (MW) Summer Capacity (MW) Winter Capacity (MW)                Queue Date  Status Proposed Completion Date Withdrawn Date Withdrawal Comment Actual Completion Date Proposed In-Service Date Proposed Initial-Sync Date Last Updated Date  Z  S Availability of Studies SGIA Tender Date region\n",
       "244     1184          NY125B - Two Rivers Solar    Boralex US Development     St-Lawrence    NY            Moses-Willis 230kV (MW2)               NYPA           Solar          200.0                200.0                200.0 2021-05-20 00:00:00+00:00  Active      2025-12-01 00:00:00           <NA>               <NA>                    NaT               2025-10-01                 2025-11-01        2023-04-30  D  9                    SRIS              NaT  NYISO\n",
       "273     1239               NY Interconnection 3    NY Interconnection LLC        New York    NY        Goethals - Fresh Kills 345kV              ConEd  Energy Storage          130.3                130.3                122.0 2021-09-02 00:00:00+00:00  Active      2030-06-01 00:00:00           <NA>               <NA>                    NaT               2030-03-01                 2030-03-01        2023-12-31  J  P                    <NA>              NaT  NYISO\n",
       "346     1397           Hell Gate Energy Storage  New York Power Authority           Bronx    NY     Hell Gate Bus Section 2 - 138kV               NYPA  Energy Storage           96.0                 95.0                 96.0 2022-07-01 00:00:00+00:00  Active      2025-12-01 00:00:00           <NA>               <NA>                    NaT               2025-12-01                 2025-12-01        2023-12-31  J  P                    <NA>              NaT  NYISO\n",
       "347     1398  Harlem River Yards Energy Storage  New York Power Authority           Bronx    NY     Hell Gate Annex - 138kV voltage               NYPA  Energy Storage          107.0                106.0                107.0 2022-07-01 00:00:00+00:00  Active      2030-12-01 00:00:00           <NA>               <NA>                    NaT               2030-12-01                 2030-12-01        2023-12-31  J  P                    <NA>              NaT  NYISO\n",
       "348     1399               Pouch Energy Storage  New York Power Authority   Staten Island    NY          Fox Hills 138kV Substation              ConEd  Energy Storage           52.0                 51.0                 52.0 2022-07-01 00:00:00+00:00  Active      2025-12-01 00:00:00           <NA>               <NA>                    NaT               2025-12-01                 2025-12-01        2023-12-31  J  P                    <NA>              NaT  NYISO\n",
       "349     1401           Brentwood Energy Storage  New York Power Authority         Suffolk    NY  Brentwood Substation Bus #1 - 69kV               LIPA  Energy Storage           52.0                 51.0                 52.0 2022-07-01 00:00:00+00:00  Active      2025-12-01 00:00:00           <NA>               <NA>                    NaT               2025-12-01                 2025-12-01        2023-12-31  K  P                    <NA>              NaT  NYISO\n",
       "350     1402               Flynn Energy Storage  New York Power Authority         Suffolk    NY        Holtsville 138 kV substation               LIPA  Energy Storage          160.0                160.0                160.0 2022-07-01 00:00:00+00:00  Active      2030-12-01 00:00:00           <NA>               <NA>                    NaT               2030-12-01                 2030-12-01        2023-12-31  K  P                    <NA>              NaT  NYISO\n",
       "352     1404                       Winner Solar         Winner Solar, LLC  Clinton County    PA       Homer City - Mainesburg 345kV              NYSEG           Solar          120.0                120.0                120.0 2022-07-14 00:00:00+00:00  Active      2027-10-01 00:00:00           <NA>               <NA>                    NaT               2027-05-01                 2027-08-01        2023-04-30  C  2                    <NA>              NaT  NYISO\n",
       "354     1409              Grateful Storage, LLC      Grateful Storage LLC          Orange    NY         Rock Tavern - Roseton 345kV              CHG&E  Energy Storage          250.0                250.0                250.0 2022-08-26 00:00:00+00:00  Active      2028-08-01 00:00:00           <NA>               <NA>                    NaT               2028-05-01                 2028-06-01        2023-06-01  G  4                    <NA>              NaT  NYISO\n",
       "364     1431                   oyster shore III     Juno Power Management          Nassau    NY                   Shore road 138 kV               LIPA  Energy Storage          300.0                300.0                300.0 2022-09-06 00:00:00+00:00  Active      2025-12-01 00:00:00           <NA>               <NA>                    NaT               2025-10-01                 2025-10-01        2023-04-30  K  2                    <NA>              NaT  NYISO"
      ]
     },
     "execution_count": 77,
     "metadata": {},
     "output_type": "execute_result"
    }
   ],
   "source": [
    "nyiso_cols = raw_gs_dfs[\"nyiso\"].columns\n",
    "not_transmission_gs[not_transmission_gs[\"Generation Type\"].ne(\"Load\")][nyiso_cols].head(10)"
   ]
  },
  {
   "cell_type": "code",
   "execution_count": 78,
   "id": "d8a48076-12ce-441e-ac81-3c2b88ddf411",
   "metadata": {},
   "outputs": [
    {
     "data": {
      "text/html": [
       "<div>\n",
       "<style scoped>\n",
       "    .dataframe tbody tr th:only-of-type {\n",
       "        vertical-align: middle;\n",
       "    }\n",
       "\n",
       "    .dataframe tbody tr th {\n",
       "        vertical-align: top;\n",
       "    }\n",
       "\n",
       "    .dataframe thead th {\n",
       "        text-align: right;\n",
       "    }\n",
       "</style>\n",
       "<table border=\"1\" class=\"dataframe\">\n",
       "  <thead>\n",
       "    <tr style=\"text-align: right;\">\n",
       "      <th></th>\n",
       "      <th>queue_id</th>\n",
       "      <th>queue_status</th>\n",
       "      <th>queue_date</th>\n",
       "      <th>queue_year</th>\n",
       "      <th>interconnection_date</th>\n",
       "      <th>date_withdrawn</th>\n",
       "      <th>date_operational</th>\n",
       "      <th>entity</th>\n",
       "      <th>project_name</th>\n",
       "      <th>developer</th>\n",
       "      <th>utility</th>\n",
       "      <th>county_1</th>\n",
       "      <th>county_2</th>\n",
       "      <th>county_3</th>\n",
       "      <th>state</th>\n",
       "      <th>region</th>\n",
       "      <th>interconnection_service_type</th>\n",
       "      <th>point_of_interconnection</th>\n",
       "      <th>date_proposed</th>\n",
       "      <th>year_proposed</th>\n",
       "      <th>interconnection_status_raw</th>\n",
       "      <th>interconnection_status_lbnl</th>\n",
       "      <th>resource_type_lbnl</th>\n",
       "      <th>resource_type_1</th>\n",
       "      <th>resource_type_2</th>\n",
       "      <th>resource_type_3</th>\n",
       "      <th>capacity_mw_resource_1</th>\n",
       "      <th>capacity_mw_resource_2</th>\n",
       "      <th>capacity_mw_resource_3</th>\n",
       "      <th>dbcp_id</th>\n",
       "      <th>total_capacity_mw</th>\n",
       "    </tr>\n",
       "  </thead>\n",
       "  <tbody>\n",
       "    <tr>\n",
       "      <th>13987</th>\n",
       "      <td>1085</td>\n",
       "      <td>active</td>\n",
       "      <td>2020-08-28</td>\n",
       "      <td>2020.0</td>\n",
       "      <td>NaN</td>\n",
       "      <td>NaT</td>\n",
       "      <td>NaT</td>\n",
       "      <td>NYISO</td>\n",
       "      <td>Oyster Shore BESS</td>\n",
       "      <td>Juno Power Management LLC</td>\n",
       "      <td>LIPA</td>\n",
       "      <td>nassau</td>\n",
       "      <td>NaN</td>\n",
       "      <td>NaN</td>\n",
       "      <td>NY</td>\n",
       "      <td>NYISO</td>\n",
       "      <td>NaN</td>\n",
       "      <td>Shore Road 345kV</td>\n",
       "      <td>8/1/2023</td>\n",
       "      <td>2023.0</td>\n",
       "      <td>FES</td>\n",
       "      <td>Feasibility Study</td>\n",
       "      <td>Battery</td>\n",
       "      <td>Battery</td>\n",
       "      <td>NaN</td>\n",
       "      <td>NaN</td>\n",
       "      <td>500.0</td>\n",
       "      <td>NaN</td>\n",
       "      <td>NaN</td>\n",
       "      <td>NYISO-1085</td>\n",
       "      <td>500.0</td>\n",
       "    </tr>\n",
       "  </tbody>\n",
       "</table>\n",
       "</div>"
      ],
      "text/plain": [
       "      queue_id queue_status queue_date  queue_year interconnection_date date_withdrawn date_operational entity       project_name                  developer utility county_1 county_2 county_3 state region interconnection_service_type point_of_interconnection date_proposed  year_proposed interconnection_status_raw interconnection_status_lbnl resource_type_lbnl resource_type_1 resource_type_2 resource_type_3  capacity_mw_resource_1  capacity_mw_resource_2  capacity_mw_resource_3     dbcp_id  total_capacity_mw\n",
       "13987     1085       active 2020-08-28      2020.0                  NaN            NaT              NaT  NYISO  Oyster Shore BESS  Juno Power Management LLC    LIPA   nassau      NaN      NaN    NY  NYISO                          NaN         Shore Road 345kV      8/1/2023         2023.0                        FES           Feasibility Study            Battery         Battery             NaN             NaN                   500.0                     NaN                     NaN  NYISO-1085              500.0"
      ]
     },
     "execution_count": 78,
     "metadata": {},
     "output_type": "execute_result"
    }
   ],
   "source": [
    "region_lbnl[region_lbnl.project_name.str.contains(\"Oyster\")]"
   ]
  },
  {
   "cell_type": "code",
   "execution_count": 79,
   "id": "4b926251-2429-46b9-b663-22282be43b24",
   "metadata": {},
   "outputs": [
    {
     "data": {
      "text/plain": [
       "2022    44\n",
       "2021     5\n",
       "2019     3\n",
       "2005     3\n",
       "2020     2\n",
       "2008     2\n",
       "2006     2\n",
       "2016     1\n",
       "2018     1\n",
       "2010     1\n",
       "2013     1\n",
       "2015     1\n",
       "2004     1\n",
       "2007     1\n",
       "Name: Queue Date, dtype: int64"
      ]
     },
     "execution_count": 79,
     "metadata": {},
     "output_type": "execute_result"
    }
   ],
   "source": [
    "not_transmission_gs[\"Queue Date\"].dt.year.value_counts()"
   ]
  },
  {
   "cell_type": "markdown",
   "id": "8f2b1932-7ba3-493b-b1d4-675eb015cdd8",
   "metadata": {},
   "source": [
    "## MISO"
   ]
  },
  {
   "cell_type": "code",
   "execution_count": 80,
   "id": "11a26cab-2b19-4900-8be3-05ba43a34a6f",
   "metadata": {},
   "outputs": [],
   "source": [
    "region = \"MISO\"\n",
    "not_in_lbnl_region_gs = projects_gs_not_in_lbnl_pre_2023.query(\"region == @region\")\n",
    "region_gs = gs.query(\"region == @region\")\n",
    "region_lbnl = lbnl.query(\"region == @region\")\n",
    "\n",
    "cols = raw_gs_dfs[region.lower()].columns"
   ]
  },
  {
   "cell_type": "code",
   "execution_count": 81,
   "id": "15342840-7676-49f4-940d-8e705948872f",
   "metadata": {},
   "outputs": [
    {
     "data": {
      "text/plain": [
       "Battery Storage    160\n",
       "                    72\n",
       "Wind                 5\n",
       "Solar                3\n",
       "High Voltage DC      3\n",
       "Hybrid               1\n",
       "Name: Generation Type, dtype: Int64"
      ]
     },
     "execution_count": 81,
     "metadata": {},
     "output_type": "execute_result"
    }
   ],
   "source": [
    "not_in_lbnl_region_gs[cols][\"Generation Type\"].value_counts(dropna=False)"
   ]
  },
  {
   "cell_type": "code",
   "execution_count": 82,
   "id": "ba7b61ba-1215-4d79-83d5-d0408907b4c1",
   "metadata": {},
   "outputs": [
    {
     "data": {
      "text/plain": [
       "Generation Type\n",
       "                   0.169045\n",
       "Battery Storage    0.673886\n",
       "High Voltage DC    0.080551\n",
       "Hybrid             0.009398\n",
       "Solar               0.02336\n",
       "Wind               0.043761\n",
       "Name: Capacity (MW), dtype: Float64"
      ]
     },
     "execution_count": 82,
     "metadata": {},
     "output_type": "execute_result"
    }
   ],
   "source": [
    "not_in_lbnl_region_gs.groupby([\"Generation Type\"])[\"Capacity (MW)\"].sum() / not_in_lbnl_region_gs[\"Capacity (MW)\"].sum()"
   ]
  },
  {
   "cell_type": "code",
   "execution_count": 83,
   "id": "103742dd-a5d6-4d6b-b0e3-8e5b492a6f06",
   "metadata": {},
   "outputs": [
    {
     "data": {
      "text/plain": [
       "2022    138\n",
       "2021     63\n",
       "2019     20\n",
       "2020     19\n",
       "2018      3\n",
       "2017      1\n",
       "Name: Queue Date, dtype: int64"
      ]
     },
     "execution_count": 83,
     "metadata": {},
     "output_type": "execute_result"
    }
   ],
   "source": [
    "not_in_lbnl_region_gs[cols][\"Queue Date\"].dt.year.value_counts()"
   ]
  },
  {
   "cell_type": "code",
   "execution_count": 84,
   "id": "be4f8dec-2b89-47ae-882f-02d7f0573654",
   "metadata": {},
   "outputs": [
    {
     "data": {
      "text/plain": [
       "False    244\n",
       "Name: Interconnection Location, dtype: int64"
      ]
     },
     "execution_count": 84,
     "metadata": {},
     "output_type": "execute_result"
    }
   ],
   "source": [
    "not_in_lbnl_region_gs[cols][\"Interconnection Location\"].isna().value_counts()"
   ]
  },
  {
   "cell_type": "code",
   "execution_count": 85,
   "id": "0ad2038d-0374-446e-862a-60e27a969399",
   "metadata": {},
   "outputs": [
    {
     "data": {
      "text/html": [
       "<div>\n",
       "<style scoped>\n",
       "    .dataframe tbody tr th:only-of-type {\n",
       "        vertical-align: middle;\n",
       "    }\n",
       "\n",
       "    .dataframe tbody tr th {\n",
       "        vertical-align: top;\n",
       "    }\n",
       "\n",
       "    .dataframe thead th {\n",
       "        text-align: right;\n",
       "    }\n",
       "</style>\n",
       "<table border=\"1\" class=\"dataframe\">\n",
       "  <thead>\n",
       "    <tr style=\"text-align: right;\">\n",
       "      <th></th>\n",
       "      <th>Queue ID</th>\n",
       "      <th>Project Name</th>\n",
       "      <th>Interconnecting Entity</th>\n",
       "      <th>County</th>\n",
       "      <th>State</th>\n",
       "      <th>Interconnection Location</th>\n",
       "      <th>Transmission Owner</th>\n",
       "      <th>Generation Type</th>\n",
       "      <th>Capacity (MW)</th>\n",
       "      <th>Summer Capacity (MW)</th>\n",
       "      <th>Winter Capacity (MW)</th>\n",
       "      <th>Queue Date</th>\n",
       "      <th>Status</th>\n",
       "      <th>Proposed Completion Date</th>\n",
       "      <th>Withdrawn Date</th>\n",
       "      <th>Withdrawal Comment</th>\n",
       "      <th>Actual Completion Date</th>\n",
       "      <th>facilityType</th>\n",
       "      <th>Post Generator Interconnection Agreement Status</th>\n",
       "      <th>Interconnection Approval Date</th>\n",
       "      <th>inService</th>\n",
       "      <th>giaToExec</th>\n",
       "      <th>studyCycle</th>\n",
       "      <th>studyGroup</th>\n",
       "      <th>studyPhase</th>\n",
       "      <th>svcType</th>\n",
       "      <th>dp1ErisMw</th>\n",
       "      <th>dp1NrisMw</th>\n",
       "      <th>dp2ErisMw</th>\n",
       "      <th>dp2NrisMw</th>\n",
       "      <th>sisPhase1</th>\n",
       "      <th>region</th>\n",
       "    </tr>\n",
       "  </thead>\n",
       "  <tbody>\n",
       "    <tr>\n",
       "      <th>10</th>\n",
       "      <td>J2329</td>\n",
       "      <td>&lt;NA&gt;</td>\n",
       "      <td>&lt;NA&gt;</td>\n",
       "      <td>Vigo</td>\n",
       "      <td>IN</td>\n",
       "      <td>Wabash River-Whitesville South 230 kV</td>\n",
       "      <td>DUKE ENERGY INDIANA, LLC</td>\n",
       "      <td>Battery Storage</td>\n",
       "      <td>100.0</td>\n",
       "      <td>100.0</td>\n",
       "      <td>100.0</td>\n",
       "      <td>2022-09-14 04:00:00+00:00</td>\n",
       "      <td>Active</td>\n",
       "      <td>&lt;NA&gt;</td>\n",
       "      <td>&lt;NA&gt;</td>\n",
       "      <td>&lt;NA&gt;</td>\n",
       "      <td>NaN</td>\n",
       "      <td>Battery Storage</td>\n",
       "      <td>Not Started</td>\n",
       "      <td>&lt;NA&gt;</td>\n",
       "      <td>2025-10-31T04:00:00+00:00</td>\n",
       "      <td>&lt;NA&gt;</td>\n",
       "      <td>DPP-2022</td>\n",
       "      <td>Central</td>\n",
       "      <td>Phase 1</td>\n",
       "      <td>Network Resource Interconnection Service (NRIS)</td>\n",
       "      <td>0.0</td>\n",
       "      <td>0.0</td>\n",
       "      <td>0.0</td>\n",
       "      <td>0.0</td>\n",
       "      <td></td>\n",
       "      <td>MISO</td>\n",
       "    </tr>\n",
       "    <tr>\n",
       "      <th>40</th>\n",
       "      <td>J2409</td>\n",
       "      <td>&lt;NA&gt;</td>\n",
       "      <td>&lt;NA&gt;</td>\n",
       "      <td>Independence</td>\n",
       "      <td>AR</td>\n",
       "      <td>INDEPENDENCE-ISES 500kV Substation</td>\n",
       "      <td>ENTERGY ARKANSAS, LLC</td>\n",
       "      <td>Battery Storage</td>\n",
       "      <td>150.0</td>\n",
       "      <td>150.0</td>\n",
       "      <td>150.0</td>\n",
       "      <td>2022-09-14 04:00:00+00:00</td>\n",
       "      <td>Active</td>\n",
       "      <td>&lt;NA&gt;</td>\n",
       "      <td>&lt;NA&gt;</td>\n",
       "      <td>&lt;NA&gt;</td>\n",
       "      <td>NaN</td>\n",
       "      <td>Battery Storage</td>\n",
       "      <td>Not Started</td>\n",
       "      <td>&lt;NA&gt;</td>\n",
       "      <td>2026-11-01T04:00:00+00:00</td>\n",
       "      <td>&lt;NA&gt;</td>\n",
       "      <td>DPP-2022</td>\n",
       "      <td>South</td>\n",
       "      <td>Study Not Started</td>\n",
       "      <td>Network Resource Interconnection Service (NRIS)</td>\n",
       "      <td>0.0</td>\n",
       "      <td>0.0</td>\n",
       "      <td>0.0</td>\n",
       "      <td>0.0</td>\n",
       "      <td></td>\n",
       "      <td>MISO</td>\n",
       "    </tr>\n",
       "    <tr>\n",
       "      <th>42</th>\n",
       "      <td>J2458</td>\n",
       "      <td>&lt;NA&gt;</td>\n",
       "      <td>&lt;NA&gt;</td>\n",
       "      <td>Conway</td>\n",
       "      <td>AR</td>\n",
       "      <td>Pleasant Hill 500kV Substation</td>\n",
       "      <td>ENTERGY ARKANSAS, LLC</td>\n",
       "      <td>Battery Storage</td>\n",
       "      <td>100.0</td>\n",
       "      <td>100.0</td>\n",
       "      <td>100.0</td>\n",
       "      <td>2022-09-14 04:00:00+00:00</td>\n",
       "      <td>Active</td>\n",
       "      <td>&lt;NA&gt;</td>\n",
       "      <td>&lt;NA&gt;</td>\n",
       "      <td>&lt;NA&gt;</td>\n",
       "      <td>NaN</td>\n",
       "      <td>Battery Storage</td>\n",
       "      <td>Not Started</td>\n",
       "      <td>&lt;NA&gt;</td>\n",
       "      <td>2026-11-01T04:00:00+00:00</td>\n",
       "      <td>&lt;NA&gt;</td>\n",
       "      <td>DPP-2022</td>\n",
       "      <td>South</td>\n",
       "      <td>Study Not Started</td>\n",
       "      <td>Network Resource Interconnection Service (NRIS)</td>\n",
       "      <td>0.0</td>\n",
       "      <td>0.0</td>\n",
       "      <td>0.0</td>\n",
       "      <td>0.0</td>\n",
       "      <td></td>\n",
       "      <td>MISO</td>\n",
       "    </tr>\n",
       "    <tr>\n",
       "      <th>44</th>\n",
       "      <td>J2459</td>\n",
       "      <td>&lt;NA&gt;</td>\n",
       "      <td>&lt;NA&gt;</td>\n",
       "      <td>Jefferson</td>\n",
       "      <td>AR</td>\n",
       "      <td>White Bluff EHV 500kV</td>\n",
       "      <td>ENTERGY ARKANSAS, LLC</td>\n",
       "      <td>Battery Storage</td>\n",
       "      <td>100.0</td>\n",
       "      <td>100.0</td>\n",
       "      <td>100.0</td>\n",
       "      <td>2022-09-14 04:00:00+00:00</td>\n",
       "      <td>Active</td>\n",
       "      <td>&lt;NA&gt;</td>\n",
       "      <td>&lt;NA&gt;</td>\n",
       "      <td>&lt;NA&gt;</td>\n",
       "      <td>NaN</td>\n",
       "      <td>Battery Storage</td>\n",
       "      <td>Not Started</td>\n",
       "      <td>&lt;NA&gt;</td>\n",
       "      <td>2026-11-01T04:00:00+00:00</td>\n",
       "      <td>&lt;NA&gt;</td>\n",
       "      <td>DPP-2022</td>\n",
       "      <td>South</td>\n",
       "      <td>Study Not Started</td>\n",
       "      <td>Network Resource Interconnection Service (NRIS)</td>\n",
       "      <td>0.0</td>\n",
       "      <td>0.0</td>\n",
       "      <td>0.0</td>\n",
       "      <td>0.0</td>\n",
       "      <td></td>\n",
       "      <td>MISO</td>\n",
       "    </tr>\n",
       "    <tr>\n",
       "      <th>46</th>\n",
       "      <td>J2460</td>\n",
       "      <td>&lt;NA&gt;</td>\n",
       "      <td>&lt;NA&gt;</td>\n",
       "      <td>Jefferson</td>\n",
       "      <td>AR</td>\n",
       "      <td>White Bluff EHV 500kV</td>\n",
       "      <td>ENTERGY ARKANSAS, LLC</td>\n",
       "      <td>Battery Storage</td>\n",
       "      <td>100.0</td>\n",
       "      <td>100.0</td>\n",
       "      <td>100.0</td>\n",
       "      <td>2022-09-14 04:00:00+00:00</td>\n",
       "      <td>Active</td>\n",
       "      <td>&lt;NA&gt;</td>\n",
       "      <td>&lt;NA&gt;</td>\n",
       "      <td>&lt;NA&gt;</td>\n",
       "      <td>NaN</td>\n",
       "      <td>Battery Storage</td>\n",
       "      <td>Not Started</td>\n",
       "      <td>&lt;NA&gt;</td>\n",
       "      <td>2026-11-01T04:00:00+00:00</td>\n",
       "      <td>&lt;NA&gt;</td>\n",
       "      <td>DPP-2022</td>\n",
       "      <td>South</td>\n",
       "      <td>Study Not Started</td>\n",
       "      <td>Network Resource Interconnection Service (NRIS)</td>\n",
       "      <td>0.0</td>\n",
       "      <td>0.0</td>\n",
       "      <td>0.0</td>\n",
       "      <td>0.0</td>\n",
       "      <td></td>\n",
       "      <td>MISO</td>\n",
       "    </tr>\n",
       "    <tr>\n",
       "      <th>...</th>\n",
       "      <td>...</td>\n",
       "      <td>...</td>\n",
       "      <td>...</td>\n",
       "      <td>...</td>\n",
       "      <td>...</td>\n",
       "      <td>...</td>\n",
       "      <td>...</td>\n",
       "      <td>...</td>\n",
       "      <td>...</td>\n",
       "      <td>...</td>\n",
       "      <td>...</td>\n",
       "      <td>...</td>\n",
       "      <td>...</td>\n",
       "      <td>...</td>\n",
       "      <td>...</td>\n",
       "      <td>...</td>\n",
       "      <td>...</td>\n",
       "      <td>...</td>\n",
       "      <td>...</td>\n",
       "      <td>...</td>\n",
       "      <td>...</td>\n",
       "      <td>...</td>\n",
       "      <td>...</td>\n",
       "      <td>...</td>\n",
       "      <td>...</td>\n",
       "      <td>...</td>\n",
       "      <td>...</td>\n",
       "      <td>...</td>\n",
       "      <td>...</td>\n",
       "      <td>...</td>\n",
       "      <td>...</td>\n",
       "      <td>...</td>\n",
       "    </tr>\n",
       "    <tr>\n",
       "      <th>2556</th>\n",
       "      <td>R1026</td>\n",
       "      <td>&lt;NA&gt;</td>\n",
       "      <td>&lt;NA&gt;</td>\n",
       "      <td></td>\n",
       "      <td></td>\n",
       "      <td></td>\n",
       "      <td></td>\n",
       "      <td></td>\n",
       "      <td>0.0</td>\n",
       "      <td>0.0</td>\n",
       "      <td>0.0</td>\n",
       "      <td>2022-11-22 05:00:00+00:00</td>\n",
       "      <td>Active</td>\n",
       "      <td>&lt;NA&gt;</td>\n",
       "      <td>&lt;NA&gt;</td>\n",
       "      <td>&lt;NA&gt;</td>\n",
       "      <td>NaN</td>\n",
       "      <td></td>\n",
       "      <td></td>\n",
       "      <td>&lt;NA&gt;</td>\n",
       "      <td>&lt;NA&gt;</td>\n",
       "      <td>&lt;NA&gt;</td>\n",
       "      <td></td>\n",
       "      <td></td>\n",
       "      <td></td>\n",
       "      <td></td>\n",
       "      <td>0.0</td>\n",
       "      <td>0.0</td>\n",
       "      <td>0.0</td>\n",
       "      <td>0.0</td>\n",
       "      <td></td>\n",
       "      <td>MISO</td>\n",
       "    </tr>\n",
       "    <tr>\n",
       "      <th>2557</th>\n",
       "      <td>R1027</td>\n",
       "      <td>&lt;NA&gt;</td>\n",
       "      <td>&lt;NA&gt;</td>\n",
       "      <td></td>\n",
       "      <td></td>\n",
       "      <td></td>\n",
       "      <td></td>\n",
       "      <td></td>\n",
       "      <td>0.0</td>\n",
       "      <td>0.0</td>\n",
       "      <td>0.0</td>\n",
       "      <td>2022-11-22 05:00:00+00:00</td>\n",
       "      <td>Active</td>\n",
       "      <td>&lt;NA&gt;</td>\n",
       "      <td>&lt;NA&gt;</td>\n",
       "      <td>&lt;NA&gt;</td>\n",
       "      <td>NaN</td>\n",
       "      <td></td>\n",
       "      <td></td>\n",
       "      <td>&lt;NA&gt;</td>\n",
       "      <td>&lt;NA&gt;</td>\n",
       "      <td>&lt;NA&gt;</td>\n",
       "      <td></td>\n",
       "      <td></td>\n",
       "      <td></td>\n",
       "      <td></td>\n",
       "      <td>0.0</td>\n",
       "      <td>0.0</td>\n",
       "      <td>0.0</td>\n",
       "      <td>0.0</td>\n",
       "      <td></td>\n",
       "      <td>MISO</td>\n",
       "    </tr>\n",
       "    <tr>\n",
       "      <th>2558</th>\n",
       "      <td>R1028</td>\n",
       "      <td>&lt;NA&gt;</td>\n",
       "      <td>&lt;NA&gt;</td>\n",
       "      <td></td>\n",
       "      <td></td>\n",
       "      <td></td>\n",
       "      <td></td>\n",
       "      <td></td>\n",
       "      <td>0.0</td>\n",
       "      <td>0.0</td>\n",
       "      <td>0.0</td>\n",
       "      <td>2022-11-22 05:00:00+00:00</td>\n",
       "      <td>Active</td>\n",
       "      <td>&lt;NA&gt;</td>\n",
       "      <td>&lt;NA&gt;</td>\n",
       "      <td>&lt;NA&gt;</td>\n",
       "      <td>NaN</td>\n",
       "      <td></td>\n",
       "      <td></td>\n",
       "      <td>&lt;NA&gt;</td>\n",
       "      <td>&lt;NA&gt;</td>\n",
       "      <td>&lt;NA&gt;</td>\n",
       "      <td></td>\n",
       "      <td></td>\n",
       "      <td></td>\n",
       "      <td></td>\n",
       "      <td>0.0</td>\n",
       "      <td>0.0</td>\n",
       "      <td>0.0</td>\n",
       "      <td>0.0</td>\n",
       "      <td></td>\n",
       "      <td>MISO</td>\n",
       "    </tr>\n",
       "    <tr>\n",
       "      <th>2559</th>\n",
       "      <td>R1029</td>\n",
       "      <td>&lt;NA&gt;</td>\n",
       "      <td>&lt;NA&gt;</td>\n",
       "      <td></td>\n",
       "      <td></td>\n",
       "      <td></td>\n",
       "      <td></td>\n",
       "      <td></td>\n",
       "      <td>0.0</td>\n",
       "      <td>0.0</td>\n",
       "      <td>0.0</td>\n",
       "      <td>2022-12-12 05:00:00+00:00</td>\n",
       "      <td>Active</td>\n",
       "      <td>2024-12-01T05:00:00+00:00</td>\n",
       "      <td>&lt;NA&gt;</td>\n",
       "      <td>&lt;NA&gt;</td>\n",
       "      <td>NaN</td>\n",
       "      <td></td>\n",
       "      <td></td>\n",
       "      <td>&lt;NA&gt;</td>\n",
       "      <td>&lt;NA&gt;</td>\n",
       "      <td>&lt;NA&gt;</td>\n",
       "      <td></td>\n",
       "      <td></td>\n",
       "      <td></td>\n",
       "      <td></td>\n",
       "      <td>0.0</td>\n",
       "      <td>0.0</td>\n",
       "      <td>0.0</td>\n",
       "      <td>0.0</td>\n",
       "      <td></td>\n",
       "      <td>MISO</td>\n",
       "    </tr>\n",
       "    <tr>\n",
       "      <th>2566</th>\n",
       "      <td>R1036</td>\n",
       "      <td>&lt;NA&gt;</td>\n",
       "      <td>&lt;NA&gt;</td>\n",
       "      <td></td>\n",
       "      <td></td>\n",
       "      <td></td>\n",
       "      <td></td>\n",
       "      <td></td>\n",
       "      <td>0.0</td>\n",
       "      <td>0.0</td>\n",
       "      <td>0.0</td>\n",
       "      <td>2022-12-28 05:00:00+00:00</td>\n",
       "      <td>Active</td>\n",
       "      <td>&lt;NA&gt;</td>\n",
       "      <td>&lt;NA&gt;</td>\n",
       "      <td>&lt;NA&gt;</td>\n",
       "      <td>NaN</td>\n",
       "      <td></td>\n",
       "      <td></td>\n",
       "      <td>&lt;NA&gt;</td>\n",
       "      <td>&lt;NA&gt;</td>\n",
       "      <td>&lt;NA&gt;</td>\n",
       "      <td></td>\n",
       "      <td></td>\n",
       "      <td></td>\n",
       "      <td></td>\n",
       "      <td>0.0</td>\n",
       "      <td>0.0</td>\n",
       "      <td>0.0</td>\n",
       "      <td>0.0</td>\n",
       "      <td></td>\n",
       "      <td>MISO</td>\n",
       "    </tr>\n",
       "  </tbody>\n",
       "</table>\n",
       "<p>244 rows × 32 columns</p>\n",
       "</div>"
      ],
      "text/plain": [
       "     Queue ID Project Name Interconnecting Entity        County State               Interconnection Location        Transmission Owner  Generation Type  Capacity (MW) Summer Capacity (MW) Winter Capacity (MW)                Queue Date  Status   Proposed Completion Date Withdrawn Date Withdrawal Comment Actual Completion Date     facilityType Post Generator Interconnection Agreement Status Interconnection Approval Date                  inService giaToExec studyCycle studyGroup         studyPhase                                          svcType  dp1ErisMw  dp1NrisMw  dp2ErisMw  dp2NrisMw sisPhase1 region\n",
       "10      J2329         <NA>                   <NA>          Vigo    IN  Wabash River-Whitesville South 230 kV  DUKE ENERGY INDIANA, LLC  Battery Storage          100.0                100.0                100.0 2022-09-14 04:00:00+00:00  Active                       <NA>           <NA>               <NA>                    NaN  Battery Storage                                     Not Started                          <NA>  2025-10-31T04:00:00+00:00      <NA>   DPP-2022    Central            Phase 1  Network Resource Interconnection Service (NRIS)        0.0        0.0        0.0        0.0             MISO\n",
       "40      J2409         <NA>                   <NA>  Independence    AR     INDEPENDENCE-ISES 500kV Substation     ENTERGY ARKANSAS, LLC  Battery Storage          150.0                150.0                150.0 2022-09-14 04:00:00+00:00  Active                       <NA>           <NA>               <NA>                    NaN  Battery Storage                                     Not Started                          <NA>  2026-11-01T04:00:00+00:00      <NA>   DPP-2022      South  Study Not Started  Network Resource Interconnection Service (NRIS)        0.0        0.0        0.0        0.0             MISO\n",
       "42      J2458         <NA>                   <NA>        Conway    AR         Pleasant Hill 500kV Substation     ENTERGY ARKANSAS, LLC  Battery Storage          100.0                100.0                100.0 2022-09-14 04:00:00+00:00  Active                       <NA>           <NA>               <NA>                    NaN  Battery Storage                                     Not Started                          <NA>  2026-11-01T04:00:00+00:00      <NA>   DPP-2022      South  Study Not Started  Network Resource Interconnection Service (NRIS)        0.0        0.0        0.0        0.0             MISO\n",
       "44      J2459         <NA>                   <NA>     Jefferson    AR                  White Bluff EHV 500kV     ENTERGY ARKANSAS, LLC  Battery Storage          100.0                100.0                100.0 2022-09-14 04:00:00+00:00  Active                       <NA>           <NA>               <NA>                    NaN  Battery Storage                                     Not Started                          <NA>  2026-11-01T04:00:00+00:00      <NA>   DPP-2022      South  Study Not Started  Network Resource Interconnection Service (NRIS)        0.0        0.0        0.0        0.0             MISO\n",
       "46      J2460         <NA>                   <NA>     Jefferson    AR                  White Bluff EHV 500kV     ENTERGY ARKANSAS, LLC  Battery Storage          100.0                100.0                100.0 2022-09-14 04:00:00+00:00  Active                       <NA>           <NA>               <NA>                    NaN  Battery Storage                                     Not Started                          <NA>  2026-11-01T04:00:00+00:00      <NA>   DPP-2022      South  Study Not Started  Network Resource Interconnection Service (NRIS)        0.0        0.0        0.0        0.0             MISO\n",
       "...       ...          ...                    ...           ...   ...                                    ...                       ...              ...            ...                  ...                  ...                       ...     ...                        ...            ...                ...                    ...              ...                                             ...                           ...                        ...       ...        ...        ...                ...                                              ...        ...        ...        ...        ...       ...    ...\n",
       "2556    R1026         <NA>                   <NA>                                                                                                                  0.0                  0.0                  0.0 2022-11-22 05:00:00+00:00  Active                       <NA>           <NA>               <NA>                    NaN                                                                                           <NA>                       <NA>      <NA>                                                                                                  0.0        0.0        0.0        0.0             MISO\n",
       "2557    R1027         <NA>                   <NA>                                                                                                                  0.0                  0.0                  0.0 2022-11-22 05:00:00+00:00  Active                       <NA>           <NA>               <NA>                    NaN                                                                                           <NA>                       <NA>      <NA>                                                                                                  0.0        0.0        0.0        0.0             MISO\n",
       "2558    R1028         <NA>                   <NA>                                                                                                                  0.0                  0.0                  0.0 2022-11-22 05:00:00+00:00  Active                       <NA>           <NA>               <NA>                    NaN                                                                                           <NA>                       <NA>      <NA>                                                                                                  0.0        0.0        0.0        0.0             MISO\n",
       "2559    R1029         <NA>                   <NA>                                                                                                                  0.0                  0.0                  0.0 2022-12-12 05:00:00+00:00  Active  2024-12-01T05:00:00+00:00           <NA>               <NA>                    NaN                                                                                           <NA>                       <NA>      <NA>                                                                                                  0.0        0.0        0.0        0.0             MISO\n",
       "2566    R1036         <NA>                   <NA>                                                                                                                  0.0                  0.0                  0.0 2022-12-28 05:00:00+00:00  Active                       <NA>           <NA>               <NA>                    NaN                                                                                           <NA>                       <NA>      <NA>                                                                                                  0.0        0.0        0.0        0.0             MISO\n",
       "\n",
       "[244 rows x 32 columns]"
      ]
     },
     "execution_count": 85,
     "metadata": {},
     "output_type": "execute_result"
    }
   ],
   "source": [
    "not_in_lbnl_region_gs[cols]"
   ]
  },
  {
   "cell_type": "code",
   "execution_count": 86,
   "id": "d641c8a5-8965-4691-a9c6-f5c961b71995",
   "metadata": {},
   "outputs": [
    {
     "data": {
      "text/html": [
       "<div>\n",
       "<style scoped>\n",
       "    .dataframe tbody tr th:only-of-type {\n",
       "        vertical-align: middle;\n",
       "    }\n",
       "\n",
       "    .dataframe tbody tr th {\n",
       "        vertical-align: top;\n",
       "    }\n",
       "\n",
       "    .dataframe thead th {\n",
       "        text-align: right;\n",
       "    }\n",
       "</style>\n",
       "<table border=\"1\" class=\"dataframe\">\n",
       "  <thead>\n",
       "    <tr style=\"text-align: right;\">\n",
       "      <th></th>\n",
       "      <th>queue_id</th>\n",
       "      <th>queue_status</th>\n",
       "      <th>queue_date</th>\n",
       "      <th>queue_year</th>\n",
       "      <th>interconnection_date</th>\n",
       "      <th>date_withdrawn</th>\n",
       "      <th>date_operational</th>\n",
       "      <th>entity</th>\n",
       "      <th>project_name</th>\n",
       "      <th>developer</th>\n",
       "      <th>utility</th>\n",
       "      <th>county_1</th>\n",
       "      <th>county_2</th>\n",
       "      <th>county_3</th>\n",
       "      <th>state</th>\n",
       "      <th>region</th>\n",
       "      <th>interconnection_service_type</th>\n",
       "      <th>point_of_interconnection</th>\n",
       "      <th>date_proposed</th>\n",
       "      <th>year_proposed</th>\n",
       "      <th>interconnection_status_raw</th>\n",
       "      <th>interconnection_status_lbnl</th>\n",
       "      <th>resource_type_lbnl</th>\n",
       "      <th>resource_type_1</th>\n",
       "      <th>resource_type_2</th>\n",
       "      <th>resource_type_3</th>\n",
       "      <th>capacity_mw_resource_1</th>\n",
       "      <th>capacity_mw_resource_2</th>\n",
       "      <th>capacity_mw_resource_3</th>\n",
       "      <th>dbcp_id</th>\n",
       "      <th>total_capacity_mw</th>\n",
       "    </tr>\n",
       "  </thead>\n",
       "  <tbody>\n",
       "    <tr>\n",
       "      <th>12585</th>\n",
       "      <td>J2523</td>\n",
       "      <td>active</td>\n",
       "      <td>2022-09-20</td>\n",
       "      <td>2022.0</td>\n",
       "      <td>NaN</td>\n",
       "      <td>NaT</td>\n",
       "      <td>NaT</td>\n",
       "      <td>MISO</td>\n",
       "      <td>NaN</td>\n",
       "      <td>NaN</td>\n",
       "      <td>Entergy Arkansas, LLC</td>\n",
       "      <td>independence</td>\n",
       "      <td>NaN</td>\n",
       "      <td>NaN</td>\n",
       "      <td>AR</td>\n",
       "      <td>MISO</td>\n",
       "      <td>NRIS</td>\n",
       "      <td>INDEPENDENCE-ISES 500kV Substation</td>\n",
       "      <td>11/1/2026</td>\n",
       "      <td>2026.0</td>\n",
       "      <td>Active</td>\n",
       "      <td>In Progress (unknown study)</td>\n",
       "      <td>Solar+Battery</td>\n",
       "      <td>Solar</td>\n",
       "      <td>Battery</td>\n",
       "      <td>NaN</td>\n",
       "      <td>250.0</td>\n",
       "      <td>150.0</td>\n",
       "      <td>NaN</td>\n",
       "      <td>MISO-J2523</td>\n",
       "      <td>400.0</td>\n",
       "    </tr>\n",
       "  </tbody>\n",
       "</table>\n",
       "</div>"
      ],
      "text/plain": [
       "      queue_id queue_status queue_date  queue_year interconnection_date date_withdrawn date_operational entity project_name developer                utility      county_1 county_2 county_3 state region interconnection_service_type            point_of_interconnection date_proposed  year_proposed interconnection_status_raw  interconnection_status_lbnl resource_type_lbnl resource_type_1 resource_type_2 resource_type_3  capacity_mw_resource_1  capacity_mw_resource_2  capacity_mw_resource_3     dbcp_id  total_capacity_mw\n",
       "12585    J2523       active 2022-09-20      2022.0                  NaN            NaT              NaT   MISO          NaN       NaN  Entergy Arkansas, LLC  independence      NaN      NaN    AR   MISO                         NRIS  INDEPENDENCE-ISES 500kV Substation     11/1/2026         2026.0                     Active  In Progress (unknown study)      Solar+Battery           Solar         Battery             NaN                   250.0                   150.0                     NaN  MISO-J2523              400.0"
      ]
     },
     "execution_count": 86,
     "metadata": {},
     "output_type": "execute_result"
    }
   ],
   "source": [
    "region_lbnl[region_lbnl.point_of_interconnection.eq(\"INDEPENDENCE-ISES 500kV Substation\")]"
   ]
  },
  {
   "cell_type": "code",
   "execution_count": 87,
   "id": "670b616b-c2e6-4acc-bf6e-e33dc1e55859",
   "metadata": {},
   "outputs": [
    {
     "data": {
      "text/html": [
       "<div>\n",
       "<style scoped>\n",
       "    .dataframe tbody tr th:only-of-type {\n",
       "        vertical-align: middle;\n",
       "    }\n",
       "\n",
       "    .dataframe tbody tr th {\n",
       "        vertical-align: top;\n",
       "    }\n",
       "\n",
       "    .dataframe thead th {\n",
       "        text-align: right;\n",
       "    }\n",
       "</style>\n",
       "<table border=\"1\" class=\"dataframe\">\n",
       "  <thead>\n",
       "    <tr style=\"text-align: right;\">\n",
       "      <th></th>\n",
       "      <th>Queue ID</th>\n",
       "      <th>Project Name</th>\n",
       "      <th>Interconnecting Entity</th>\n",
       "      <th>County</th>\n",
       "      <th>State</th>\n",
       "      <th>Interconnection Location</th>\n",
       "      <th>Transmission Owner</th>\n",
       "      <th>Generation Type</th>\n",
       "      <th>Capacity (MW)</th>\n",
       "      <th>Summer Capacity (MW)</th>\n",
       "      <th>Winter Capacity (MW)</th>\n",
       "      <th>Queue Date</th>\n",
       "      <th>Status</th>\n",
       "      <th>Proposed Completion Date</th>\n",
       "      <th>Withdrawn Date</th>\n",
       "      <th>Withdrawal Comment</th>\n",
       "      <th>Actual Completion Date</th>\n",
       "      <th>facilityType</th>\n",
       "      <th>Post Generator Interconnection Agreement Status</th>\n",
       "      <th>Interconnection Approval Date</th>\n",
       "      <th>inService</th>\n",
       "      <th>giaToExec</th>\n",
       "      <th>studyCycle</th>\n",
       "      <th>studyGroup</th>\n",
       "      <th>studyPhase</th>\n",
       "      <th>svcType</th>\n",
       "      <th>dp1ErisMw</th>\n",
       "      <th>dp1NrisMw</th>\n",
       "      <th>dp2ErisMw</th>\n",
       "      <th>dp2NrisMw</th>\n",
       "      <th>sisPhase1</th>\n",
       "      <th>region</th>\n",
       "      <th>Type-1</th>\n",
       "      <th>Type-2</th>\n",
       "      <th>Type-3</th>\n",
       "      <th>Fuel-1</th>\n",
       "      <th>Fuel-2</th>\n",
       "      <th>Fuel-3</th>\n",
       "      <th>MW-1</th>\n",
       "      <th>MW-2</th>\n",
       "      <th>MW-3</th>\n",
       "      <th>Interconnection Request Receive Date</th>\n",
       "      <th>Interconnection Agreement Status</th>\n",
       "      <th>Study Process</th>\n",
       "      <th>Proposed On-line Date (as filed with IR)</th>\n",
       "      <th>System Impact Study or Phase I Cluster Study</th>\n",
       "      <th>Facilities Study (FAS) or Phase II Cluster Study</th>\n",
       "      <th>Optional Study (OS)</th>\n",
       "      <th>Full Capacity, Partial or Energy Only (FC/P/EO)</th>\n",
       "      <th>Off-Peak Deliverability and Economic Only</th>\n",
       "      <th>Feasibility Study or Supplemental Review</th>\n",
       "      <th>MW In Service</th>\n",
       "      <th>Commercial Name</th>\n",
       "      <th>Initial Study</th>\n",
       "      <th>Feasibility Study</th>\n",
       "      <th>Feasibility Study Status</th>\n",
       "      <th>System Impact Study</th>\n",
       "      <th>System Impact Study Status</th>\n",
       "      <th>Facilities Study</th>\n",
       "      <th>Facilities Study Status</th>\n",
       "      <th>Interim Interconnection Service Agreement</th>\n",
       "      <th>Interim/Interconnection Service Agreement Status</th>\n",
       "      <th>Wholesale Market Participation Agreement</th>\n",
       "      <th>Construction Service Agreement</th>\n",
       "      <th>Construction Service Agreement Status</th>\n",
       "      <th>Upgrade Construction Service Agreement</th>\n",
       "      <th>Upgrade Construction Service Agreement Status</th>\n",
       "      <th>Backfeed Date</th>\n",
       "      <th>Long-Term Firm Service Start Date</th>\n",
       "      <th>Long-Term Firm Service End Date</th>\n",
       "      <th>Test Energy Date</th>\n",
       "      <th>Fuel</th>\n",
       "      <th>Technology</th>\n",
       "      <th>GIM Study Phase</th>\n",
       "      <th>Screening Study Started</th>\n",
       "      <th>Screening Study Complete</th>\n",
       "      <th>FIS Requested</th>\n",
       "      <th>FIS Approved</th>\n",
       "      <th>Economic Study Required</th>\n",
       "      <th>IA Signed</th>\n",
       "      <th>Air Permit</th>\n",
       "      <th>GHG Permit</th>\n",
       "      <th>Water Availability</th>\n",
       "      <th>Meets Planning</th>\n",
       "      <th>Meets All Planning</th>\n",
       "      <th>CDR Reporting Zone</th>\n",
       "      <th>Approved for Energization</th>\n",
       "      <th>Approved for Synchronization</th>\n",
       "      <th>Comment</th>\n",
       "      <th>In-Service Date</th>\n",
       "      <th>Commercial Operation Date</th>\n",
       "      <th>Cessation Date</th>\n",
       "      <th>Current Cluster</th>\n",
       "      <th>Cluster Group</th>\n",
       "      <th>Replacement Generator Commercial Op Date</th>\n",
       "      <th>Service Type</th>\n",
       "      <th>Status (Original)</th>\n",
       "      <th>Proposed In-Service Date</th>\n",
       "      <th>Proposed Initial-Sync Date</th>\n",
       "      <th>Last Updated Date</th>\n",
       "      <th>Z</th>\n",
       "      <th>S</th>\n",
       "      <th>Availability of Studies</th>\n",
       "      <th>SGIA Tender Date</th>\n",
       "      <th>Updated</th>\n",
       "      <th>Unit</th>\n",
       "      <th>Op Date</th>\n",
       "      <th>Sync Date</th>\n",
       "      <th>Serv</th>\n",
       "      <th>I39</th>\n",
       "      <th>Dev</th>\n",
       "      <th>Zone</th>\n",
       "      <th>System Impact Study Completed</th>\n",
       "      <th>Feasiblity Study Status</th>\n",
       "      <th>Optional Interconnection Study Status</th>\n",
       "      <th>Project Status</th>\n",
       "      <th>dbcp_id</th>\n",
       "    </tr>\n",
       "  </thead>\n",
       "  <tbody>\n",
       "    <tr>\n",
       "      <th>56</th>\n",
       "      <td>J2523</td>\n",
       "      <td>&lt;NA&gt;</td>\n",
       "      <td>&lt;NA&gt;</td>\n",
       "      <td>Independence</td>\n",
       "      <td>AR</td>\n",
       "      <td>INDEPENDENCE-ISES 500kV Substation</td>\n",
       "      <td>ENTERGY ARKANSAS, LLC</td>\n",
       "      <td>Solar</td>\n",
       "      <td>250.0</td>\n",
       "      <td>250.0</td>\n",
       "      <td>250.0</td>\n",
       "      <td>2022-09-14 04:00:00+00:00</td>\n",
       "      <td>Active</td>\n",
       "      <td>&lt;NA&gt;</td>\n",
       "      <td>&lt;NA&gt;</td>\n",
       "      <td>&lt;NA&gt;</td>\n",
       "      <td>NaN</td>\n",
       "      <td>Photovoltaic</td>\n",
       "      <td>Not Started</td>\n",
       "      <td>&lt;NA&gt;</td>\n",
       "      <td>2026-11-01T04:00:00+00:00</td>\n",
       "      <td>&lt;NA&gt;</td>\n",
       "      <td>DPP-2022</td>\n",
       "      <td>South</td>\n",
       "      <td>Study Not Started</td>\n",
       "      <td>Network Resource Interconnection Service (NRIS)</td>\n",
       "      <td>0.0</td>\n",
       "      <td>0.0</td>\n",
       "      <td>0.0</td>\n",
       "      <td>0.0</td>\n",
       "      <td></td>\n",
       "      <td>MISO</td>\n",
       "      <td>&lt;NA&gt;</td>\n",
       "      <td>&lt;NA&gt;</td>\n",
       "      <td>&lt;NA&gt;</td>\n",
       "      <td>&lt;NA&gt;</td>\n",
       "      <td>&lt;NA&gt;</td>\n",
       "      <td>&lt;NA&gt;</td>\n",
       "      <td>&lt;NA&gt;</td>\n",
       "      <td>&lt;NA&gt;</td>\n",
       "      <td>&lt;NA&gt;</td>\n",
       "      <td>NaT</td>\n",
       "      <td>&lt;NA&gt;</td>\n",
       "      <td>&lt;NA&gt;</td>\n",
       "      <td>NaT</td>\n",
       "      <td>&lt;NA&gt;</td>\n",
       "      <td>&lt;NA&gt;</td>\n",
       "      <td>&lt;NA&gt;</td>\n",
       "      <td>&lt;NA&gt;</td>\n",
       "      <td>&lt;NA&gt;</td>\n",
       "      <td>&lt;NA&gt;</td>\n",
       "      <td>&lt;NA&gt;</td>\n",
       "      <td>&lt;NA&gt;</td>\n",
       "      <td>&lt;NA&gt;</td>\n",
       "      <td>&lt;NA&gt;</td>\n",
       "      <td>&lt;NA&gt;</td>\n",
       "      <td>&lt;NA&gt;</td>\n",
       "      <td>&lt;NA&gt;</td>\n",
       "      <td>&lt;NA&gt;</td>\n",
       "      <td>&lt;NA&gt;</td>\n",
       "      <td>&lt;NA&gt;</td>\n",
       "      <td>&lt;NA&gt;</td>\n",
       "      <td>&lt;NA&gt;</td>\n",
       "      <td>&lt;NA&gt;</td>\n",
       "      <td>&lt;NA&gt;</td>\n",
       "      <td>&lt;NA&gt;</td>\n",
       "      <td>&lt;NA&gt;</td>\n",
       "      <td>&lt;NA&gt;</td>\n",
       "      <td>&lt;NA&gt;</td>\n",
       "      <td>&lt;NA&gt;</td>\n",
       "      <td>&lt;NA&gt;</td>\n",
       "      <td>&lt;NA&gt;</td>\n",
       "      <td>&lt;NA&gt;</td>\n",
       "      <td>&lt;NA&gt;</td>\n",
       "      <td>NaT</td>\n",
       "      <td>NaT</td>\n",
       "      <td>NaT</td>\n",
       "      <td>NaT</td>\n",
       "      <td>&lt;NA&gt;</td>\n",
       "      <td>NaT</td>\n",
       "      <td>&lt;NA&gt;</td>\n",
       "      <td>&lt;NA&gt;</td>\n",
       "      <td>&lt;NA&gt;</td>\n",
       "      <td>NaT</td>\n",
       "      <td>NaT</td>\n",
       "      <td>&lt;NA&gt;</td>\n",
       "      <td>NaT</td>\n",
       "      <td>NaT</td>\n",
       "      <td>&lt;NA&gt;</td>\n",
       "      <td>&lt;NA&gt;</td>\n",
       "      <td>&lt;NA&gt;</td>\n",
       "      <td>&lt;NA&gt;</td>\n",
       "      <td>&lt;NA&gt;</td>\n",
       "      <td>&lt;NA&gt;</td>\n",
       "      <td>&lt;NA&gt;</td>\n",
       "      <td>&lt;NA&gt;</td>\n",
       "      <td>&lt;NA&gt;</td>\n",
       "      <td>NaT</td>\n",
       "      <td>NaT</td>\n",
       "      <td>NaT</td>\n",
       "      <td>&lt;NA&gt;</td>\n",
       "      <td>&lt;NA&gt;</td>\n",
       "      <td>&lt;NA&gt;</td>\n",
       "      <td>NaT</td>\n",
       "      <td>&lt;NA&gt;</td>\n",
       "      <td>&lt;NA&gt;</td>\n",
       "      <td>&lt;NA&gt;</td>\n",
       "      <td>&lt;NA&gt;</td>\n",
       "      <td>&lt;NA&gt;</td>\n",
       "      <td>&lt;NA&gt;</td>\n",
       "      <td>&lt;NA&gt;</td>\n",
       "      <td>&lt;NA&gt;</td>\n",
       "      <td>&lt;NA&gt;</td>\n",
       "      <td>&lt;NA&gt;</td>\n",
       "      <td>&lt;NA&gt;</td>\n",
       "      <td>&lt;NA&gt;</td>\n",
       "      <td>MISO-J2523</td>\n",
       "    </tr>\n",
       "  </tbody>\n",
       "</table>\n",
       "</div>"
      ],
      "text/plain": [
       "   Queue ID Project Name Interconnecting Entity        County State            Interconnection Location     Transmission Owner Generation Type  Capacity (MW) Summer Capacity (MW) Winter Capacity (MW)                Queue Date  Status Proposed Completion Date Withdrawn Date Withdrawal Comment Actual Completion Date  facilityType Post Generator Interconnection Agreement Status Interconnection Approval Date                  inService giaToExec studyCycle studyGroup         studyPhase                                          svcType  dp1ErisMw  dp1NrisMw  dp2ErisMw  dp2NrisMw sisPhase1 region Type-1 Type-2 Type-3 Fuel-1 Fuel-2 Fuel-3  MW-1  MW-2  MW-3 Interconnection Request Receive Date Interconnection Agreement Status Study Process Proposed On-line Date (as filed with IR) System Impact Study or Phase I Cluster Study Facilities Study (FAS) or Phase II Cluster Study Optional Study (OS) Full Capacity, Partial or Energy Only (FC/P/EO) Off-Peak Deliverability and Economic Only  \\\n",
       "56    J2523         <NA>                   <NA>  Independence    AR  INDEPENDENCE-ISES 500kV Substation  ENTERGY ARKANSAS, LLC           Solar          250.0                250.0                250.0 2022-09-14 04:00:00+00:00  Active                     <NA>           <NA>               <NA>                    NaN  Photovoltaic                                     Not Started                          <NA>  2026-11-01T04:00:00+00:00      <NA>   DPP-2022      South  Study Not Started  Network Resource Interconnection Service (NRIS)        0.0        0.0        0.0        0.0             MISO   <NA>   <NA>   <NA>   <NA>   <NA>   <NA>  <NA>  <NA>  <NA>                                  NaT                             <NA>          <NA>                                      NaT                                         <NA>                                             <NA>                <NA>                                            <NA>                                      <NA>   \n",
       "\n",
       "   Feasibility Study or Supplemental Review  MW In Service Commercial Name Initial Study Feasibility Study Feasibility Study Status System Impact Study System Impact Study Status Facilities Study Facilities Study Status Interim Interconnection Service Agreement Interim/Interconnection Service Agreement Status Wholesale Market Participation Agreement Construction Service Agreement Construction Service Agreement Status Upgrade Construction Service Agreement Upgrade Construction Service Agreement Status Backfeed Date Long-Term Firm Service Start Date Long-Term Firm Service End Date Test Energy Date  Fuel Technology GIM Study Phase Screening Study Started Screening Study Complete FIS Requested FIS Approved Economic Study Required IA Signed Air Permit GHG Permit Water Availability Meets Planning Meets All Planning CDR Reporting Zone Approved for Energization Approved for Synchronization  Comment In-Service Date Commercial Operation Date Cessation Date Current Cluster Cluster Group  \\\n",
       "56                                     <NA>           <NA>            <NA>          <NA>              <NA>                     <NA>                <NA>                       <NA>             <NA>                    <NA>                                      <NA>                                             <NA>                                     <NA>                           <NA>                                  <NA>                                   <NA>                                          <NA>          <NA>                              <NA>                            <NA>             <NA>  <NA>       <NA>            <NA>                     NaT                      NaT           NaT          NaT                    <NA>       NaT       <NA>       <NA>               <NA>            NaT                NaT               <NA>                       NaT                          NaT     <NA>            <NA>                      <NA>           <NA>            <NA>          <NA>   \n",
       "\n",
       "   Replacement Generator Commercial Op Date Service Type Status (Original) Proposed In-Service Date Proposed Initial-Sync Date Last Updated Date     Z     S Availability of Studies SGIA Tender Date Updated  Unit Op Date Sync Date  Serv   I39   Dev  Zone System Impact Study Completed Feasiblity Study Status Optional Interconnection Study Status Project Status     dbcp_id  \n",
       "56                                     <NA>         <NA>              <NA>                      NaT                        NaT               NaT  <NA>  <NA>                    <NA>              NaT    <NA>  <NA>    <NA>      <NA>  <NA>  <NA>  <NA>  <NA>                          <NA>                    <NA>                                  <NA>           <NA>  MISO-J2523  "
      ]
     },
     "execution_count": 87,
     "metadata": {},
     "output_type": "execute_result"
    }
   ],
   "source": [
    "region_gs[region_gs[\"Queue ID\"].eq(\"J2523\")]"
   ]
  },
  {
   "cell_type": "code",
   "execution_count": 88,
   "id": "5314ffd9-000e-432a-bad0-7e488ea5432d",
   "metadata": {},
   "outputs": [
    {
     "data": {
      "text/plain": [
       "Solar+Battery         102\n",
       "Solar                   9\n",
       "Battery                 9\n",
       "Wind+Battery            4\n",
       "Solar+Wind              2\n",
       "Solar+Wind+Battery      1\n",
       "Wind                    1\n",
       "Name: resource_type_lbnl, dtype: int64"
      ]
     },
     "execution_count": 88,
     "metadata": {},
     "output_type": "execute_result"
    }
   ],
   "source": [
    "region_lbnl[region_lbnl.point_of_interconnection.isin(not_in_lbnl_region_gs[\"Interconnection Location\"])][\"resource_type_lbnl\"].value_counts()"
   ]
  },
  {
   "cell_type": "markdown",
   "id": "a55dd537-875e-4dd9-a076-e532de5dcf82",
   "metadata": {},
   "source": [
    "## ERCOT"
   ]
  },
  {
   "cell_type": "code",
   "execution_count": 89,
   "id": "f9ca4d92-8154-4c9b-b355-2928c13b9c5c",
   "metadata": {},
   "outputs": [],
   "source": [
    "region = \"ERCOT\"\n",
    "not_in_lbnl_region_gs = projects_gs_not_in_lbnl_pre_2023.query(\"region == @region\")\n",
    "region_gs = gs.query(\"region == @region\")\n",
    "region_lbnl = lbnl.query(\"region == @region\")\n",
    "\n",
    "cols = raw_gs_dfs[region.lower()].columns"
   ]
  },
  {
   "cell_type": "code",
   "execution_count": 90,
   "id": "8aed7caa-83d1-40b7-91f5-1b5f87808361",
   "metadata": {},
   "outputs": [
    {
     "data": {
      "text/plain": [
       "Other - Battery Energy Storage                       199\n",
       "Solar - Photovoltaic Solar                            32\n",
       "Wind - Wind Turbine                                    3\n",
       "Gas - Combustion (gas) Turbine, but not part o...      1\n",
       "Other - Energy Storage                                 1\n",
       "Name: Generation Type, dtype: Int64"
      ]
     },
     "execution_count": 90,
     "metadata": {},
     "output_type": "execute_result"
    }
   ],
   "source": [
    "not_in_lbnl_region_gs[\"Generation Type\"].value_counts()"
   ]
  },
  {
   "cell_type": "code",
   "execution_count": 91,
   "id": "265126d7-1571-4fdc-9cff-b2b4115abf8b",
   "metadata": {},
   "outputs": [
    {
     "data": {
      "text/plain": [
       "Generation Type\n",
       "Gas - Combustion (gas) Turbine, but not part o...    0.003953\n",
       "Other - Battery Energy Storage                       0.746435\n",
       "Other - Energy Storage                                0.03389\n",
       "Solar - Photovoltaic Solar                           0.194577\n",
       "Wind - Wind Turbine                                  0.021145\n",
       "Name: Capacity (MW), dtype: Float64"
      ]
     },
     "execution_count": 91,
     "metadata": {},
     "output_type": "execute_result"
    }
   ],
   "source": [
    "not_in_lbnl_region_gs.groupby([\"Generation Type\"])[\"Capacity (MW)\"].sum() / not_in_lbnl_region_gs[\"Capacity (MW)\"].sum()"
   ]
  },
  {
   "cell_type": "code",
   "execution_count": 92,
   "id": "22cf4432-9a7d-4fd9-8323-83d9a212418c",
   "metadata": {},
   "outputs": [
    {
     "data": {
      "text/html": [
       "<div>\n",
       "<style scoped>\n",
       "    .dataframe tbody tr th:only-of-type {\n",
       "        vertical-align: middle;\n",
       "    }\n",
       "\n",
       "    .dataframe tbody tr th {\n",
       "        vertical-align: top;\n",
       "    }\n",
       "\n",
       "    .dataframe thead th {\n",
       "        text-align: right;\n",
       "    }\n",
       "</style>\n",
       "<table border=\"1\" class=\"dataframe\">\n",
       "  <thead>\n",
       "    <tr style=\"text-align: right;\">\n",
       "      <th></th>\n",
       "      <th>Queue ID</th>\n",
       "      <th>Project Name</th>\n",
       "      <th>Interconnecting Entity</th>\n",
       "      <th>County</th>\n",
       "      <th>State</th>\n",
       "      <th>Interconnection Location</th>\n",
       "      <th>Transmission Owner</th>\n",
       "      <th>Generation Type</th>\n",
       "      <th>Capacity (MW)</th>\n",
       "      <th>Summer Capacity (MW)</th>\n",
       "      <th>Winter Capacity (MW)</th>\n",
       "      <th>Queue Date</th>\n",
       "      <th>Status</th>\n",
       "      <th>Proposed Completion Date</th>\n",
       "      <th>Withdrawn Date</th>\n",
       "      <th>Withdrawal Comment</th>\n",
       "      <th>Actual Completion Date</th>\n",
       "      <th>facilityType</th>\n",
       "      <th>Post Generator Interconnection Agreement Status</th>\n",
       "      <th>Interconnection Approval Date</th>\n",
       "      <th>inService</th>\n",
       "      <th>giaToExec</th>\n",
       "      <th>studyCycle</th>\n",
       "      <th>studyGroup</th>\n",
       "      <th>studyPhase</th>\n",
       "      <th>svcType</th>\n",
       "      <th>dp1ErisMw</th>\n",
       "      <th>dp1NrisMw</th>\n",
       "      <th>dp2ErisMw</th>\n",
       "      <th>dp2NrisMw</th>\n",
       "      <th>sisPhase1</th>\n",
       "      <th>region</th>\n",
       "      <th>Type-1</th>\n",
       "      <th>Type-2</th>\n",
       "      <th>Type-3</th>\n",
       "      <th>Fuel-1</th>\n",
       "      <th>Fuel-2</th>\n",
       "      <th>Fuel-3</th>\n",
       "      <th>MW-1</th>\n",
       "      <th>MW-2</th>\n",
       "      <th>MW-3</th>\n",
       "      <th>Interconnection Request Receive Date</th>\n",
       "      <th>Interconnection Agreement Status</th>\n",
       "      <th>Study Process</th>\n",
       "      <th>Proposed On-line Date (as filed with IR)</th>\n",
       "      <th>System Impact Study or Phase I Cluster Study</th>\n",
       "      <th>Facilities Study (FAS) or Phase II Cluster Study</th>\n",
       "      <th>Optional Study (OS)</th>\n",
       "      <th>Full Capacity, Partial or Energy Only (FC/P/EO)</th>\n",
       "      <th>Off-Peak Deliverability and Economic Only</th>\n",
       "      <th>Feasibility Study or Supplemental Review</th>\n",
       "      <th>MW In Service</th>\n",
       "      <th>Commercial Name</th>\n",
       "      <th>Initial Study</th>\n",
       "      <th>Feasibility Study</th>\n",
       "      <th>Feasibility Study Status</th>\n",
       "      <th>System Impact Study</th>\n",
       "      <th>System Impact Study Status</th>\n",
       "      <th>Facilities Study</th>\n",
       "      <th>Facilities Study Status</th>\n",
       "      <th>Interim Interconnection Service Agreement</th>\n",
       "      <th>Interim/Interconnection Service Agreement Status</th>\n",
       "      <th>Wholesale Market Participation Agreement</th>\n",
       "      <th>Construction Service Agreement</th>\n",
       "      <th>Construction Service Agreement Status</th>\n",
       "      <th>Upgrade Construction Service Agreement</th>\n",
       "      <th>Upgrade Construction Service Agreement Status</th>\n",
       "      <th>Backfeed Date</th>\n",
       "      <th>Long-Term Firm Service Start Date</th>\n",
       "      <th>Long-Term Firm Service End Date</th>\n",
       "      <th>Test Energy Date</th>\n",
       "      <th>Fuel</th>\n",
       "      <th>Technology</th>\n",
       "      <th>GIM Study Phase</th>\n",
       "      <th>Screening Study Started</th>\n",
       "      <th>Screening Study Complete</th>\n",
       "      <th>FIS Requested</th>\n",
       "      <th>FIS Approved</th>\n",
       "      <th>Economic Study Required</th>\n",
       "      <th>IA Signed</th>\n",
       "      <th>Air Permit</th>\n",
       "      <th>GHG Permit</th>\n",
       "      <th>Water Availability</th>\n",
       "      <th>Meets Planning</th>\n",
       "      <th>Meets All Planning</th>\n",
       "      <th>CDR Reporting Zone</th>\n",
       "      <th>Approved for Energization</th>\n",
       "      <th>Approved for Synchronization</th>\n",
       "      <th>Comment</th>\n",
       "      <th>In-Service Date</th>\n",
       "      <th>Commercial Operation Date</th>\n",
       "      <th>Cessation Date</th>\n",
       "      <th>Current Cluster</th>\n",
       "      <th>Cluster Group</th>\n",
       "      <th>Replacement Generator Commercial Op Date</th>\n",
       "      <th>Service Type</th>\n",
       "      <th>Status (Original)</th>\n",
       "      <th>Proposed In-Service Date</th>\n",
       "      <th>Proposed Initial-Sync Date</th>\n",
       "      <th>Last Updated Date</th>\n",
       "      <th>Z</th>\n",
       "      <th>S</th>\n",
       "      <th>Availability of Studies</th>\n",
       "      <th>SGIA Tender Date</th>\n",
       "      <th>Updated</th>\n",
       "      <th>Unit</th>\n",
       "      <th>Op Date</th>\n",
       "      <th>Sync Date</th>\n",
       "      <th>Serv</th>\n",
       "      <th>I39</th>\n",
       "      <th>Dev</th>\n",
       "      <th>Zone</th>\n",
       "      <th>System Impact Study Completed</th>\n",
       "      <th>Feasiblity Study Status</th>\n",
       "      <th>Optional Interconnection Study Status</th>\n",
       "      <th>Project Status</th>\n",
       "      <th>dbcp_id</th>\n",
       "    </tr>\n",
       "  </thead>\n",
       "  <tbody>\n",
       "    <tr>\n",
       "      <th>85</th>\n",
       "      <td>20INR0238</td>\n",
       "      <td>Voyager Storage</td>\n",
       "      <td>EDF Renewables Development, Inc.</td>\n",
       "      <td>Wharton</td>\n",
       "      <td>Texas</td>\n",
       "      <td>44200 Hillje 345kV</td>\n",
       "      <td>&lt;NA&gt;</td>\n",
       "      <td>Other - Battery Energy Storage</td>\n",
       "      <td>50.14</td>\n",
       "      <td>NaN</td>\n",
       "      <td>NaN</td>\n",
       "      <td>2019-01-14 00:00:00+00:00</td>\n",
       "      <td>Active</td>\n",
       "      <td>2026-04-08 00:00:00</td>\n",
       "      <td>NaN</td>\n",
       "      <td>&lt;NA&gt;</td>\n",
       "      <td>NaT</td>\n",
       "      <td>&lt;NA&gt;</td>\n",
       "      <td>&lt;NA&gt;</td>\n",
       "      <td>&lt;NA&gt;</td>\n",
       "      <td>&lt;NA&gt;</td>\n",
       "      <td>&lt;NA&gt;</td>\n",
       "      <td>&lt;NA&gt;</td>\n",
       "      <td>&lt;NA&gt;</td>\n",
       "      <td>&lt;NA&gt;</td>\n",
       "      <td>&lt;NA&gt;</td>\n",
       "      <td>&lt;NA&gt;</td>\n",
       "      <td>&lt;NA&gt;</td>\n",
       "      <td>&lt;NA&gt;</td>\n",
       "      <td>&lt;NA&gt;</td>\n",
       "      <td>&lt;NA&gt;</td>\n",
       "      <td>ERCOT</td>\n",
       "      <td>&lt;NA&gt;</td>\n",
       "      <td>&lt;NA&gt;</td>\n",
       "      <td>&lt;NA&gt;</td>\n",
       "      <td>&lt;NA&gt;</td>\n",
       "      <td>&lt;NA&gt;</td>\n",
       "      <td>&lt;NA&gt;</td>\n",
       "      <td>&lt;NA&gt;</td>\n",
       "      <td>&lt;NA&gt;</td>\n",
       "      <td>&lt;NA&gt;</td>\n",
       "      <td>NaT</td>\n",
       "      <td>&lt;NA&gt;</td>\n",
       "      <td>&lt;NA&gt;</td>\n",
       "      <td>NaT</td>\n",
       "      <td>&lt;NA&gt;</td>\n",
       "      <td>&lt;NA&gt;</td>\n",
       "      <td>&lt;NA&gt;</td>\n",
       "      <td>&lt;NA&gt;</td>\n",
       "      <td>&lt;NA&gt;</td>\n",
       "      <td>&lt;NA&gt;</td>\n",
       "      <td>&lt;NA&gt;</td>\n",
       "      <td>&lt;NA&gt;</td>\n",
       "      <td>&lt;NA&gt;</td>\n",
       "      <td>&lt;NA&gt;</td>\n",
       "      <td>&lt;NA&gt;</td>\n",
       "      <td>&lt;NA&gt;</td>\n",
       "      <td>&lt;NA&gt;</td>\n",
       "      <td>&lt;NA&gt;</td>\n",
       "      <td>&lt;NA&gt;</td>\n",
       "      <td>&lt;NA&gt;</td>\n",
       "      <td>&lt;NA&gt;</td>\n",
       "      <td>&lt;NA&gt;</td>\n",
       "      <td>&lt;NA&gt;</td>\n",
       "      <td>&lt;NA&gt;</td>\n",
       "      <td>&lt;NA&gt;</td>\n",
       "      <td>&lt;NA&gt;</td>\n",
       "      <td>&lt;NA&gt;</td>\n",
       "      <td>&lt;NA&gt;</td>\n",
       "      <td>&lt;NA&gt;</td>\n",
       "      <td>&lt;NA&gt;</td>\n",
       "      <td>Other</td>\n",
       "      <td>Battery Energy Storage</td>\n",
       "      <td>SS Completed, FIS Started, No IA</td>\n",
       "      <td>2019-01-14</td>\n",
       "      <td>2019-03-19</td>\n",
       "      <td>2019-04-26</td>\n",
       "      <td>NaT</td>\n",
       "      <td>&lt;NA&gt;</td>\n",
       "      <td>NaT</td>\n",
       "      <td>Not Required</td>\n",
       "      <td>Not Required</td>\n",
       "      <td>Not Required</td>\n",
       "      <td>NaT</td>\n",
       "      <td>NaT</td>\n",
       "      <td>SOUTH</td>\n",
       "      <td>NaT</td>\n",
       "      <td>NaT</td>\n",
       "      <td>&lt;NA&gt;</td>\n",
       "      <td>&lt;NA&gt;</td>\n",
       "      <td>&lt;NA&gt;</td>\n",
       "      <td>&lt;NA&gt;</td>\n",
       "      <td>&lt;NA&gt;</td>\n",
       "      <td>&lt;NA&gt;</td>\n",
       "      <td>&lt;NA&gt;</td>\n",
       "      <td>&lt;NA&gt;</td>\n",
       "      <td>&lt;NA&gt;</td>\n",
       "      <td>NaT</td>\n",
       "      <td>NaT</td>\n",
       "      <td>NaT</td>\n",
       "      <td>&lt;NA&gt;</td>\n",
       "      <td>&lt;NA&gt;</td>\n",
       "      <td>&lt;NA&gt;</td>\n",
       "      <td>NaT</td>\n",
       "      <td>&lt;NA&gt;</td>\n",
       "      <td>&lt;NA&gt;</td>\n",
       "      <td>&lt;NA&gt;</td>\n",
       "      <td>&lt;NA&gt;</td>\n",
       "      <td>&lt;NA&gt;</td>\n",
       "      <td>&lt;NA&gt;</td>\n",
       "      <td>&lt;NA&gt;</td>\n",
       "      <td>&lt;NA&gt;</td>\n",
       "      <td>&lt;NA&gt;</td>\n",
       "      <td>&lt;NA&gt;</td>\n",
       "      <td>&lt;NA&gt;</td>\n",
       "      <td>&lt;NA&gt;</td>\n",
       "      <td>ERCOT-20INR0238</td>\n",
       "    </tr>\n",
       "    <tr>\n",
       "      <th>104</th>\n",
       "      <td>21INR0027</td>\n",
       "      <td>Zier Storage</td>\n",
       "      <td>Zier Solar, LLC</td>\n",
       "      <td>Kinney</td>\n",
       "      <td>Texas</td>\n",
       "      <td>78255 Pinto Creek 138kV</td>\n",
       "      <td>&lt;NA&gt;</td>\n",
       "      <td>Other - Battery Energy Storage</td>\n",
       "      <td>40.41</td>\n",
       "      <td>NaN</td>\n",
       "      <td>NaN</td>\n",
       "      <td>2018-05-24 00:00:00+00:00</td>\n",
       "      <td>Completed</td>\n",
       "      <td>2024-04-19 00:00:00</td>\n",
       "      <td>NaN</td>\n",
       "      <td>&lt;NA&gt;</td>\n",
       "      <td>2023-12-21 00:00:00</td>\n",
       "      <td>&lt;NA&gt;</td>\n",
       "      <td>&lt;NA&gt;</td>\n",
       "      <td>&lt;NA&gt;</td>\n",
       "      <td>&lt;NA&gt;</td>\n",
       "      <td>&lt;NA&gt;</td>\n",
       "      <td>&lt;NA&gt;</td>\n",
       "      <td>&lt;NA&gt;</td>\n",
       "      <td>&lt;NA&gt;</td>\n",
       "      <td>&lt;NA&gt;</td>\n",
       "      <td>&lt;NA&gt;</td>\n",
       "      <td>&lt;NA&gt;</td>\n",
       "      <td>&lt;NA&gt;</td>\n",
       "      <td>&lt;NA&gt;</td>\n",
       "      <td>&lt;NA&gt;</td>\n",
       "      <td>ERCOT</td>\n",
       "      <td>&lt;NA&gt;</td>\n",
       "      <td>&lt;NA&gt;</td>\n",
       "      <td>&lt;NA&gt;</td>\n",
       "      <td>&lt;NA&gt;</td>\n",
       "      <td>&lt;NA&gt;</td>\n",
       "      <td>&lt;NA&gt;</td>\n",
       "      <td>&lt;NA&gt;</td>\n",
       "      <td>&lt;NA&gt;</td>\n",
       "      <td>&lt;NA&gt;</td>\n",
       "      <td>NaT</td>\n",
       "      <td>&lt;NA&gt;</td>\n",
       "      <td>&lt;NA&gt;</td>\n",
       "      <td>NaT</td>\n",
       "      <td>&lt;NA&gt;</td>\n",
       "      <td>&lt;NA&gt;</td>\n",
       "      <td>&lt;NA&gt;</td>\n",
       "      <td>&lt;NA&gt;</td>\n",
       "      <td>&lt;NA&gt;</td>\n",
       "      <td>&lt;NA&gt;</td>\n",
       "      <td>&lt;NA&gt;</td>\n",
       "      <td>&lt;NA&gt;</td>\n",
       "      <td>&lt;NA&gt;</td>\n",
       "      <td>&lt;NA&gt;</td>\n",
       "      <td>&lt;NA&gt;</td>\n",
       "      <td>&lt;NA&gt;</td>\n",
       "      <td>&lt;NA&gt;</td>\n",
       "      <td>&lt;NA&gt;</td>\n",
       "      <td>&lt;NA&gt;</td>\n",
       "      <td>&lt;NA&gt;</td>\n",
       "      <td>&lt;NA&gt;</td>\n",
       "      <td>&lt;NA&gt;</td>\n",
       "      <td>&lt;NA&gt;</td>\n",
       "      <td>&lt;NA&gt;</td>\n",
       "      <td>&lt;NA&gt;</td>\n",
       "      <td>&lt;NA&gt;</td>\n",
       "      <td>&lt;NA&gt;</td>\n",
       "      <td>&lt;NA&gt;</td>\n",
       "      <td>&lt;NA&gt;</td>\n",
       "      <td>&lt;NA&gt;</td>\n",
       "      <td>Other</td>\n",
       "      <td>Battery Energy Storage</td>\n",
       "      <td>SS Completed, FIS Completed, IA</td>\n",
       "      <td>2018-05-24</td>\n",
       "      <td>2018-07-20</td>\n",
       "      <td>2018-05-24</td>\n",
       "      <td>2023-01-24</td>\n",
       "      <td>No</td>\n",
       "      <td>2020-10-22</td>\n",
       "      <td>Not Required</td>\n",
       "      <td>Not Required</td>\n",
       "      <td>Not Required</td>\n",
       "      <td>2022-09-27</td>\n",
       "      <td>2023-01-31</td>\n",
       "      <td>SOUTH</td>\n",
       "      <td>2023-11-08</td>\n",
       "      <td>2023-12-21</td>\n",
       "      <td>&lt;NA&gt;</td>\n",
       "      <td>&lt;NA&gt;</td>\n",
       "      <td>&lt;NA&gt;</td>\n",
       "      <td>&lt;NA&gt;</td>\n",
       "      <td>&lt;NA&gt;</td>\n",
       "      <td>&lt;NA&gt;</td>\n",
       "      <td>&lt;NA&gt;</td>\n",
       "      <td>&lt;NA&gt;</td>\n",
       "      <td>&lt;NA&gt;</td>\n",
       "      <td>NaT</td>\n",
       "      <td>NaT</td>\n",
       "      <td>NaT</td>\n",
       "      <td>&lt;NA&gt;</td>\n",
       "      <td>&lt;NA&gt;</td>\n",
       "      <td>&lt;NA&gt;</td>\n",
       "      <td>NaT</td>\n",
       "      <td>&lt;NA&gt;</td>\n",
       "      <td>&lt;NA&gt;</td>\n",
       "      <td>&lt;NA&gt;</td>\n",
       "      <td>&lt;NA&gt;</td>\n",
       "      <td>&lt;NA&gt;</td>\n",
       "      <td>&lt;NA&gt;</td>\n",
       "      <td>&lt;NA&gt;</td>\n",
       "      <td>&lt;NA&gt;</td>\n",
       "      <td>&lt;NA&gt;</td>\n",
       "      <td>&lt;NA&gt;</td>\n",
       "      <td>&lt;NA&gt;</td>\n",
       "      <td>&lt;NA&gt;</td>\n",
       "      <td>ERCOT-21INR0027</td>\n",
       "    </tr>\n",
       "    <tr>\n",
       "      <th>105</th>\n",
       "      <td>21INR0029</td>\n",
       "      <td>Green Holly Storage</td>\n",
       "      <td>GreenGo Energy</td>\n",
       "      <td>Dawson</td>\n",
       "      <td>Texas</td>\n",
       "      <td>tap 345kV 59900 Longdraw - 79641 Farmland</td>\n",
       "      <td>&lt;NA&gt;</td>\n",
       "      <td>Other - Battery Energy Storage</td>\n",
       "      <td>50.0</td>\n",
       "      <td>NaN</td>\n",
       "      <td>NaN</td>\n",
       "      <td>2018-07-11 00:00:00+00:00</td>\n",
       "      <td>Completed</td>\n",
       "      <td>2026-05-30 00:00:00</td>\n",
       "      <td>NaN</td>\n",
       "      <td>&lt;NA&gt;</td>\n",
       "      <td>NaT</td>\n",
       "      <td>&lt;NA&gt;</td>\n",
       "      <td>&lt;NA&gt;</td>\n",
       "      <td>&lt;NA&gt;</td>\n",
       "      <td>&lt;NA&gt;</td>\n",
       "      <td>&lt;NA&gt;</td>\n",
       "      <td>&lt;NA&gt;</td>\n",
       "      <td>&lt;NA&gt;</td>\n",
       "      <td>&lt;NA&gt;</td>\n",
       "      <td>&lt;NA&gt;</td>\n",
       "      <td>&lt;NA&gt;</td>\n",
       "      <td>&lt;NA&gt;</td>\n",
       "      <td>&lt;NA&gt;</td>\n",
       "      <td>&lt;NA&gt;</td>\n",
       "      <td>&lt;NA&gt;</td>\n",
       "      <td>ERCOT</td>\n",
       "      <td>&lt;NA&gt;</td>\n",
       "      <td>&lt;NA&gt;</td>\n",
       "      <td>&lt;NA&gt;</td>\n",
       "      <td>&lt;NA&gt;</td>\n",
       "      <td>&lt;NA&gt;</td>\n",
       "      <td>&lt;NA&gt;</td>\n",
       "      <td>&lt;NA&gt;</td>\n",
       "      <td>&lt;NA&gt;</td>\n",
       "      <td>&lt;NA&gt;</td>\n",
       "      <td>NaT</td>\n",
       "      <td>&lt;NA&gt;</td>\n",
       "      <td>&lt;NA&gt;</td>\n",
       "      <td>NaT</td>\n",
       "      <td>&lt;NA&gt;</td>\n",
       "      <td>&lt;NA&gt;</td>\n",
       "      <td>&lt;NA&gt;</td>\n",
       "      <td>&lt;NA&gt;</td>\n",
       "      <td>&lt;NA&gt;</td>\n",
       "      <td>&lt;NA&gt;</td>\n",
       "      <td>&lt;NA&gt;</td>\n",
       "      <td>&lt;NA&gt;</td>\n",
       "      <td>&lt;NA&gt;</td>\n",
       "      <td>&lt;NA&gt;</td>\n",
       "      <td>&lt;NA&gt;</td>\n",
       "      <td>&lt;NA&gt;</td>\n",
       "      <td>&lt;NA&gt;</td>\n",
       "      <td>&lt;NA&gt;</td>\n",
       "      <td>&lt;NA&gt;</td>\n",
       "      <td>&lt;NA&gt;</td>\n",
       "      <td>&lt;NA&gt;</td>\n",
       "      <td>&lt;NA&gt;</td>\n",
       "      <td>&lt;NA&gt;</td>\n",
       "      <td>&lt;NA&gt;</td>\n",
       "      <td>&lt;NA&gt;</td>\n",
       "      <td>&lt;NA&gt;</td>\n",
       "      <td>&lt;NA&gt;</td>\n",
       "      <td>&lt;NA&gt;</td>\n",
       "      <td>&lt;NA&gt;</td>\n",
       "      <td>&lt;NA&gt;</td>\n",
       "      <td>Other</td>\n",
       "      <td>Battery Energy Storage</td>\n",
       "      <td>SS Completed, FIS Started, IA</td>\n",
       "      <td>2018-07-11</td>\n",
       "      <td>2018-08-16</td>\n",
       "      <td>2018-07-11</td>\n",
       "      <td>NaT</td>\n",
       "      <td>&lt;NA&gt;</td>\n",
       "      <td>2020-10-19</td>\n",
       "      <td>Not Required</td>\n",
       "      <td>Not Required</td>\n",
       "      <td>Not Required</td>\n",
       "      <td>NaT</td>\n",
       "      <td>NaT</td>\n",
       "      <td>WEST</td>\n",
       "      <td>NaT</td>\n",
       "      <td>NaT</td>\n",
       "      <td>&lt;NA&gt;</td>\n",
       "      <td>&lt;NA&gt;</td>\n",
       "      <td>&lt;NA&gt;</td>\n",
       "      <td>&lt;NA&gt;</td>\n",
       "      <td>&lt;NA&gt;</td>\n",
       "      <td>&lt;NA&gt;</td>\n",
       "      <td>&lt;NA&gt;</td>\n",
       "      <td>&lt;NA&gt;</td>\n",
       "      <td>&lt;NA&gt;</td>\n",
       "      <td>NaT</td>\n",
       "      <td>NaT</td>\n",
       "      <td>NaT</td>\n",
       "      <td>&lt;NA&gt;</td>\n",
       "      <td>&lt;NA&gt;</td>\n",
       "      <td>&lt;NA&gt;</td>\n",
       "      <td>NaT</td>\n",
       "      <td>&lt;NA&gt;</td>\n",
       "      <td>&lt;NA&gt;</td>\n",
       "      <td>&lt;NA&gt;</td>\n",
       "      <td>&lt;NA&gt;</td>\n",
       "      <td>&lt;NA&gt;</td>\n",
       "      <td>&lt;NA&gt;</td>\n",
       "      <td>&lt;NA&gt;</td>\n",
       "      <td>&lt;NA&gt;</td>\n",
       "      <td>&lt;NA&gt;</td>\n",
       "      <td>&lt;NA&gt;</td>\n",
       "      <td>&lt;NA&gt;</td>\n",
       "      <td>&lt;NA&gt;</td>\n",
       "      <td>ERCOT-21INR0029</td>\n",
       "    </tr>\n",
       "    <tr>\n",
       "      <th>107</th>\n",
       "      <td>21INR0033</td>\n",
       "      <td>Red Holly Storage</td>\n",
       "      <td>GreenGo Energy</td>\n",
       "      <td>Dawson</td>\n",
       "      <td>Texas</td>\n",
       "      <td>tap 345kV 59900 Longdraw - 79641 Farmland</td>\n",
       "      <td>&lt;NA&gt;</td>\n",
       "      <td>Other - Battery Energy Storage</td>\n",
       "      <td>50.0</td>\n",
       "      <td>NaN</td>\n",
       "      <td>NaN</td>\n",
       "      <td>2018-09-27 00:00:00+00:00</td>\n",
       "      <td>Completed</td>\n",
       "      <td>2026-05-30 00:00:00</td>\n",
       "      <td>NaN</td>\n",
       "      <td>&lt;NA&gt;</td>\n",
       "      <td>NaT</td>\n",
       "      <td>&lt;NA&gt;</td>\n",
       "      <td>&lt;NA&gt;</td>\n",
       "      <td>&lt;NA&gt;</td>\n",
       "      <td>&lt;NA&gt;</td>\n",
       "      <td>&lt;NA&gt;</td>\n",
       "      <td>&lt;NA&gt;</td>\n",
       "      <td>&lt;NA&gt;</td>\n",
       "      <td>&lt;NA&gt;</td>\n",
       "      <td>&lt;NA&gt;</td>\n",
       "      <td>&lt;NA&gt;</td>\n",
       "      <td>&lt;NA&gt;</td>\n",
       "      <td>&lt;NA&gt;</td>\n",
       "      <td>&lt;NA&gt;</td>\n",
       "      <td>&lt;NA&gt;</td>\n",
       "      <td>ERCOT</td>\n",
       "      <td>&lt;NA&gt;</td>\n",
       "      <td>&lt;NA&gt;</td>\n",
       "      <td>&lt;NA&gt;</td>\n",
       "      <td>&lt;NA&gt;</td>\n",
       "      <td>&lt;NA&gt;</td>\n",
       "      <td>&lt;NA&gt;</td>\n",
       "      <td>&lt;NA&gt;</td>\n",
       "      <td>&lt;NA&gt;</td>\n",
       "      <td>&lt;NA&gt;</td>\n",
       "      <td>NaT</td>\n",
       "      <td>&lt;NA&gt;</td>\n",
       "      <td>&lt;NA&gt;</td>\n",
       "      <td>NaT</td>\n",
       "      <td>&lt;NA&gt;</td>\n",
       "      <td>&lt;NA&gt;</td>\n",
       "      <td>&lt;NA&gt;</td>\n",
       "      <td>&lt;NA&gt;</td>\n",
       "      <td>&lt;NA&gt;</td>\n",
       "      <td>&lt;NA&gt;</td>\n",
       "      <td>&lt;NA&gt;</td>\n",
       "      <td>&lt;NA&gt;</td>\n",
       "      <td>&lt;NA&gt;</td>\n",
       "      <td>&lt;NA&gt;</td>\n",
       "      <td>&lt;NA&gt;</td>\n",
       "      <td>&lt;NA&gt;</td>\n",
       "      <td>&lt;NA&gt;</td>\n",
       "      <td>&lt;NA&gt;</td>\n",
       "      <td>&lt;NA&gt;</td>\n",
       "      <td>&lt;NA&gt;</td>\n",
       "      <td>&lt;NA&gt;</td>\n",
       "      <td>&lt;NA&gt;</td>\n",
       "      <td>&lt;NA&gt;</td>\n",
       "      <td>&lt;NA&gt;</td>\n",
       "      <td>&lt;NA&gt;</td>\n",
       "      <td>&lt;NA&gt;</td>\n",
       "      <td>&lt;NA&gt;</td>\n",
       "      <td>&lt;NA&gt;</td>\n",
       "      <td>&lt;NA&gt;</td>\n",
       "      <td>&lt;NA&gt;</td>\n",
       "      <td>Other</td>\n",
       "      <td>Battery Energy Storage</td>\n",
       "      <td>SS Completed, FIS Started, IA</td>\n",
       "      <td>2018-09-27</td>\n",
       "      <td>2018-12-18</td>\n",
       "      <td>2018-12-11</td>\n",
       "      <td>NaT</td>\n",
       "      <td>No</td>\n",
       "      <td>2020-10-19</td>\n",
       "      <td>Not Required</td>\n",
       "      <td>Not Required</td>\n",
       "      <td>Not Required</td>\n",
       "      <td>NaT</td>\n",
       "      <td>NaT</td>\n",
       "      <td>WEST</td>\n",
       "      <td>NaT</td>\n",
       "      <td>NaT</td>\n",
       "      <td>&lt;NA&gt;</td>\n",
       "      <td>&lt;NA&gt;</td>\n",
       "      <td>&lt;NA&gt;</td>\n",
       "      <td>&lt;NA&gt;</td>\n",
       "      <td>&lt;NA&gt;</td>\n",
       "      <td>&lt;NA&gt;</td>\n",
       "      <td>&lt;NA&gt;</td>\n",
       "      <td>&lt;NA&gt;</td>\n",
       "      <td>&lt;NA&gt;</td>\n",
       "      <td>NaT</td>\n",
       "      <td>NaT</td>\n",
       "      <td>NaT</td>\n",
       "      <td>&lt;NA&gt;</td>\n",
       "      <td>&lt;NA&gt;</td>\n",
       "      <td>&lt;NA&gt;</td>\n",
       "      <td>NaT</td>\n",
       "      <td>&lt;NA&gt;</td>\n",
       "      <td>&lt;NA&gt;</td>\n",
       "      <td>&lt;NA&gt;</td>\n",
       "      <td>&lt;NA&gt;</td>\n",
       "      <td>&lt;NA&gt;</td>\n",
       "      <td>&lt;NA&gt;</td>\n",
       "      <td>&lt;NA&gt;</td>\n",
       "      <td>&lt;NA&gt;</td>\n",
       "      <td>&lt;NA&gt;</td>\n",
       "      <td>&lt;NA&gt;</td>\n",
       "      <td>&lt;NA&gt;</td>\n",
       "      <td>&lt;NA&gt;</td>\n",
       "      <td>ERCOT-21INR0033</td>\n",
       "    </tr>\n",
       "    <tr>\n",
       "      <th>125</th>\n",
       "      <td>21INR0258</td>\n",
       "      <td>Mercury Storage</td>\n",
       "      <td>Mercury Storage, LLC</td>\n",
       "      <td>Hill</td>\n",
       "      <td>Texas</td>\n",
       "      <td>68092 Liberty Station 345kV</td>\n",
       "      <td>&lt;NA&gt;</td>\n",
       "      <td>Other - Battery Energy Storage</td>\n",
       "      <td>0.0</td>\n",
       "      <td>NaN</td>\n",
       "      <td>NaN</td>\n",
       "      <td>2019-02-14 00:00:00+00:00</td>\n",
       "      <td>Active</td>\n",
       "      <td>2026-07-01 00:00:00</td>\n",
       "      <td>NaN</td>\n",
       "      <td>&lt;NA&gt;</td>\n",
       "      <td>NaT</td>\n",
       "      <td>&lt;NA&gt;</td>\n",
       "      <td>&lt;NA&gt;</td>\n",
       "      <td>&lt;NA&gt;</td>\n",
       "      <td>&lt;NA&gt;</td>\n",
       "      <td>&lt;NA&gt;</td>\n",
       "      <td>&lt;NA&gt;</td>\n",
       "      <td>&lt;NA&gt;</td>\n",
       "      <td>&lt;NA&gt;</td>\n",
       "      <td>&lt;NA&gt;</td>\n",
       "      <td>&lt;NA&gt;</td>\n",
       "      <td>&lt;NA&gt;</td>\n",
       "      <td>&lt;NA&gt;</td>\n",
       "      <td>&lt;NA&gt;</td>\n",
       "      <td>&lt;NA&gt;</td>\n",
       "      <td>ERCOT</td>\n",
       "      <td>&lt;NA&gt;</td>\n",
       "      <td>&lt;NA&gt;</td>\n",
       "      <td>&lt;NA&gt;</td>\n",
       "      <td>&lt;NA&gt;</td>\n",
       "      <td>&lt;NA&gt;</td>\n",
       "      <td>&lt;NA&gt;</td>\n",
       "      <td>&lt;NA&gt;</td>\n",
       "      <td>&lt;NA&gt;</td>\n",
       "      <td>&lt;NA&gt;</td>\n",
       "      <td>NaT</td>\n",
       "      <td>&lt;NA&gt;</td>\n",
       "      <td>&lt;NA&gt;</td>\n",
       "      <td>NaT</td>\n",
       "      <td>&lt;NA&gt;</td>\n",
       "      <td>&lt;NA&gt;</td>\n",
       "      <td>&lt;NA&gt;</td>\n",
       "      <td>&lt;NA&gt;</td>\n",
       "      <td>&lt;NA&gt;</td>\n",
       "      <td>&lt;NA&gt;</td>\n",
       "      <td>&lt;NA&gt;</td>\n",
       "      <td>&lt;NA&gt;</td>\n",
       "      <td>&lt;NA&gt;</td>\n",
       "      <td>&lt;NA&gt;</td>\n",
       "      <td>&lt;NA&gt;</td>\n",
       "      <td>&lt;NA&gt;</td>\n",
       "      <td>&lt;NA&gt;</td>\n",
       "      <td>&lt;NA&gt;</td>\n",
       "      <td>&lt;NA&gt;</td>\n",
       "      <td>&lt;NA&gt;</td>\n",
       "      <td>&lt;NA&gt;</td>\n",
       "      <td>&lt;NA&gt;</td>\n",
       "      <td>&lt;NA&gt;</td>\n",
       "      <td>&lt;NA&gt;</td>\n",
       "      <td>&lt;NA&gt;</td>\n",
       "      <td>&lt;NA&gt;</td>\n",
       "      <td>&lt;NA&gt;</td>\n",
       "      <td>&lt;NA&gt;</td>\n",
       "      <td>&lt;NA&gt;</td>\n",
       "      <td>&lt;NA&gt;</td>\n",
       "      <td>Other</td>\n",
       "      <td>Battery Energy Storage</td>\n",
       "      <td>SS Completed, FIS Started, No IA</td>\n",
       "      <td>2019-02-14</td>\n",
       "      <td>2019-05-03</td>\n",
       "      <td>2019-02-07</td>\n",
       "      <td>NaT</td>\n",
       "      <td>&lt;NA&gt;</td>\n",
       "      <td>NaT</td>\n",
       "      <td>Not Required</td>\n",
       "      <td>Not Required</td>\n",
       "      <td>Not Required</td>\n",
       "      <td>NaT</td>\n",
       "      <td>NaT</td>\n",
       "      <td>NORTH</td>\n",
       "      <td>NaT</td>\n",
       "      <td>NaT</td>\n",
       "      <td>&lt;NA&gt;</td>\n",
       "      <td>&lt;NA&gt;</td>\n",
       "      <td>&lt;NA&gt;</td>\n",
       "      <td>&lt;NA&gt;</td>\n",
       "      <td>&lt;NA&gt;</td>\n",
       "      <td>&lt;NA&gt;</td>\n",
       "      <td>&lt;NA&gt;</td>\n",
       "      <td>&lt;NA&gt;</td>\n",
       "      <td>&lt;NA&gt;</td>\n",
       "      <td>NaT</td>\n",
       "      <td>NaT</td>\n",
       "      <td>NaT</td>\n",
       "      <td>&lt;NA&gt;</td>\n",
       "      <td>&lt;NA&gt;</td>\n",
       "      <td>&lt;NA&gt;</td>\n",
       "      <td>NaT</td>\n",
       "      <td>&lt;NA&gt;</td>\n",
       "      <td>&lt;NA&gt;</td>\n",
       "      <td>&lt;NA&gt;</td>\n",
       "      <td>&lt;NA&gt;</td>\n",
       "      <td>&lt;NA&gt;</td>\n",
       "      <td>&lt;NA&gt;</td>\n",
       "      <td>&lt;NA&gt;</td>\n",
       "      <td>&lt;NA&gt;</td>\n",
       "      <td>&lt;NA&gt;</td>\n",
       "      <td>&lt;NA&gt;</td>\n",
       "      <td>&lt;NA&gt;</td>\n",
       "      <td>&lt;NA&gt;</td>\n",
       "      <td>ERCOT-21INR0258</td>\n",
       "    </tr>\n",
       "  </tbody>\n",
       "</table>\n",
       "</div>"
      ],
      "text/plain": [
       "      Queue ID         Project Name            Interconnecting Entity   County  State                   Interconnection Location Transmission Owner                 Generation Type  Capacity (MW) Summer Capacity (MW) Winter Capacity (MW)                Queue Date     Status Proposed Completion Date Withdrawn Date Withdrawal Comment Actual Completion Date facilityType Post Generator Interconnection Agreement Status Interconnection Approval Date inService giaToExec studyCycle studyGroup studyPhase svcType  dp1ErisMw  dp1NrisMw  dp2ErisMw  dp2NrisMw sisPhase1 region Type-1 Type-2 Type-3 Fuel-1 Fuel-2 Fuel-3  MW-1  MW-2  MW-3 Interconnection Request Receive Date Interconnection Agreement Status Study Process Proposed On-line Date (as filed with IR) System Impact Study or Phase I Cluster Study Facilities Study (FAS) or Phase II Cluster Study Optional Study (OS) Full Capacity, Partial or Energy Only (FC/P/EO) Off-Peak Deliverability and Economic Only  \\\n",
       "85   20INR0238      Voyager Storage  EDF Renewables Development, Inc.  Wharton  Texas                         44200 Hillje 345kV               <NA>  Other - Battery Energy Storage          50.14                  NaN                  NaN 2019-01-14 00:00:00+00:00     Active      2026-04-08 00:00:00            NaN               <NA>                    NaT         <NA>                                            <NA>                          <NA>      <NA>      <NA>       <NA>       <NA>       <NA>    <NA>       <NA>       <NA>       <NA>       <NA>      <NA>  ERCOT   <NA>   <NA>   <NA>   <NA>   <NA>   <NA>  <NA>  <NA>  <NA>                                  NaT                             <NA>          <NA>                                      NaT                                         <NA>                                             <NA>                <NA>                                            <NA>                                      <NA>   \n",
       "104  21INR0027         Zier Storage                   Zier Solar, LLC   Kinney  Texas                    78255 Pinto Creek 138kV               <NA>  Other - Battery Energy Storage          40.41                  NaN                  NaN 2018-05-24 00:00:00+00:00  Completed      2024-04-19 00:00:00            NaN               <NA>    2023-12-21 00:00:00         <NA>                                            <NA>                          <NA>      <NA>      <NA>       <NA>       <NA>       <NA>    <NA>       <NA>       <NA>       <NA>       <NA>      <NA>  ERCOT   <NA>   <NA>   <NA>   <NA>   <NA>   <NA>  <NA>  <NA>  <NA>                                  NaT                             <NA>          <NA>                                      NaT                                         <NA>                                             <NA>                <NA>                                            <NA>                                      <NA>   \n",
       "105  21INR0029  Green Holly Storage                    GreenGo Energy   Dawson  Texas  tap 345kV 59900 Longdraw - 79641 Farmland               <NA>  Other - Battery Energy Storage           50.0                  NaN                  NaN 2018-07-11 00:00:00+00:00  Completed      2026-05-30 00:00:00            NaN               <NA>                    NaT         <NA>                                            <NA>                          <NA>      <NA>      <NA>       <NA>       <NA>       <NA>    <NA>       <NA>       <NA>       <NA>       <NA>      <NA>  ERCOT   <NA>   <NA>   <NA>   <NA>   <NA>   <NA>  <NA>  <NA>  <NA>                                  NaT                             <NA>          <NA>                                      NaT                                         <NA>                                             <NA>                <NA>                                            <NA>                                      <NA>   \n",
       "107  21INR0033    Red Holly Storage                    GreenGo Energy   Dawson  Texas  tap 345kV 59900 Longdraw - 79641 Farmland               <NA>  Other - Battery Energy Storage           50.0                  NaN                  NaN 2018-09-27 00:00:00+00:00  Completed      2026-05-30 00:00:00            NaN               <NA>                    NaT         <NA>                                            <NA>                          <NA>      <NA>      <NA>       <NA>       <NA>       <NA>    <NA>       <NA>       <NA>       <NA>       <NA>      <NA>  ERCOT   <NA>   <NA>   <NA>   <NA>   <NA>   <NA>  <NA>  <NA>  <NA>                                  NaT                             <NA>          <NA>                                      NaT                                         <NA>                                             <NA>                <NA>                                            <NA>                                      <NA>   \n",
       "125  21INR0258      Mercury Storage              Mercury Storage, LLC     Hill  Texas                68092 Liberty Station 345kV               <NA>  Other - Battery Energy Storage            0.0                  NaN                  NaN 2019-02-14 00:00:00+00:00     Active      2026-07-01 00:00:00            NaN               <NA>                    NaT         <NA>                                            <NA>                          <NA>      <NA>      <NA>       <NA>       <NA>       <NA>    <NA>       <NA>       <NA>       <NA>       <NA>      <NA>  ERCOT   <NA>   <NA>   <NA>   <NA>   <NA>   <NA>  <NA>  <NA>  <NA>                                  NaT                             <NA>          <NA>                                      NaT                                         <NA>                                             <NA>                <NA>                                            <NA>                                      <NA>   \n",
       "\n",
       "    Feasibility Study or Supplemental Review  MW In Service Commercial Name Initial Study Feasibility Study Feasibility Study Status System Impact Study System Impact Study Status Facilities Study Facilities Study Status Interim Interconnection Service Agreement Interim/Interconnection Service Agreement Status Wholesale Market Participation Agreement Construction Service Agreement Construction Service Agreement Status Upgrade Construction Service Agreement Upgrade Construction Service Agreement Status Backfeed Date Long-Term Firm Service Start Date Long-Term Firm Service End Date Test Energy Date   Fuel              Technology                   GIM Study Phase Screening Study Started Screening Study Complete FIS Requested FIS Approved Economic Study Required  IA Signed    Air Permit    GHG Permit Water Availability Meets Planning Meets All Planning CDR Reporting Zone Approved for Energization Approved for Synchronization  Comment In-Service Date Commercial Operation Date  \\\n",
       "85                                      <NA>           <NA>            <NA>          <NA>              <NA>                     <NA>                <NA>                       <NA>             <NA>                    <NA>                                      <NA>                                             <NA>                                     <NA>                           <NA>                                  <NA>                                   <NA>                                          <NA>          <NA>                              <NA>                            <NA>             <NA>  Other  Battery Energy Storage  SS Completed, FIS Started, No IA              2019-01-14               2019-03-19    2019-04-26          NaT                    <NA>        NaT  Not Required  Not Required       Not Required            NaT                NaT              SOUTH                       NaT                          NaT     <NA>            <NA>                      <NA>   \n",
       "104                                     <NA>           <NA>            <NA>          <NA>              <NA>                     <NA>                <NA>                       <NA>             <NA>                    <NA>                                      <NA>                                             <NA>                                     <NA>                           <NA>                                  <NA>                                   <NA>                                          <NA>          <NA>                              <NA>                            <NA>             <NA>  Other  Battery Energy Storage   SS Completed, FIS Completed, IA              2018-05-24               2018-07-20    2018-05-24   2023-01-24                      No 2020-10-22  Not Required  Not Required       Not Required     2022-09-27         2023-01-31              SOUTH                2023-11-08                   2023-12-21     <NA>            <NA>                      <NA>   \n",
       "105                                     <NA>           <NA>            <NA>          <NA>              <NA>                     <NA>                <NA>                       <NA>             <NA>                    <NA>                                      <NA>                                             <NA>                                     <NA>                           <NA>                                  <NA>                                   <NA>                                          <NA>          <NA>                              <NA>                            <NA>             <NA>  Other  Battery Energy Storage     SS Completed, FIS Started, IA              2018-07-11               2018-08-16    2018-07-11          NaT                    <NA> 2020-10-19  Not Required  Not Required       Not Required            NaT                NaT               WEST                       NaT                          NaT     <NA>            <NA>                      <NA>   \n",
       "107                                     <NA>           <NA>            <NA>          <NA>              <NA>                     <NA>                <NA>                       <NA>             <NA>                    <NA>                                      <NA>                                             <NA>                                     <NA>                           <NA>                                  <NA>                                   <NA>                                          <NA>          <NA>                              <NA>                            <NA>             <NA>  Other  Battery Energy Storage     SS Completed, FIS Started, IA              2018-09-27               2018-12-18    2018-12-11          NaT                      No 2020-10-19  Not Required  Not Required       Not Required            NaT                NaT               WEST                       NaT                          NaT     <NA>            <NA>                      <NA>   \n",
       "125                                     <NA>           <NA>            <NA>          <NA>              <NA>                     <NA>                <NA>                       <NA>             <NA>                    <NA>                                      <NA>                                             <NA>                                     <NA>                           <NA>                                  <NA>                                   <NA>                                          <NA>          <NA>                              <NA>                            <NA>             <NA>  Other  Battery Energy Storage  SS Completed, FIS Started, No IA              2019-02-14               2019-05-03    2019-02-07          NaT                    <NA>        NaT  Not Required  Not Required       Not Required            NaT                NaT              NORTH                       NaT                          NaT     <NA>            <NA>                      <NA>   \n",
       "\n",
       "    Cessation Date Current Cluster Cluster Group Replacement Generator Commercial Op Date Service Type Status (Original) Proposed In-Service Date Proposed Initial-Sync Date Last Updated Date     Z     S Availability of Studies SGIA Tender Date Updated  Unit Op Date Sync Date  Serv   I39   Dev  Zone System Impact Study Completed Feasiblity Study Status Optional Interconnection Study Status Project Status          dbcp_id  \n",
       "85            <NA>            <NA>          <NA>                                     <NA>         <NA>              <NA>                      NaT                        NaT               NaT  <NA>  <NA>                    <NA>              NaT    <NA>  <NA>    <NA>      <NA>  <NA>  <NA>  <NA>  <NA>                          <NA>                    <NA>                                  <NA>           <NA>  ERCOT-20INR0238  \n",
       "104           <NA>            <NA>          <NA>                                     <NA>         <NA>              <NA>                      NaT                        NaT               NaT  <NA>  <NA>                    <NA>              NaT    <NA>  <NA>    <NA>      <NA>  <NA>  <NA>  <NA>  <NA>                          <NA>                    <NA>                                  <NA>           <NA>  ERCOT-21INR0027  \n",
       "105           <NA>            <NA>          <NA>                                     <NA>         <NA>              <NA>                      NaT                        NaT               NaT  <NA>  <NA>                    <NA>              NaT    <NA>  <NA>    <NA>      <NA>  <NA>  <NA>  <NA>  <NA>                          <NA>                    <NA>                                  <NA>           <NA>  ERCOT-21INR0029  \n",
       "107           <NA>            <NA>          <NA>                                     <NA>         <NA>              <NA>                      NaT                        NaT               NaT  <NA>  <NA>                    <NA>              NaT    <NA>  <NA>    <NA>      <NA>  <NA>  <NA>  <NA>  <NA>                          <NA>                    <NA>                                  <NA>           <NA>  ERCOT-21INR0033  \n",
       "125           <NA>            <NA>          <NA>                                     <NA>         <NA>              <NA>                      NaT                        NaT               NaT  <NA>  <NA>                    <NA>              NaT    <NA>  <NA>    <NA>      <NA>  <NA>  <NA>  <NA>  <NA>                          <NA>                    <NA>                                  <NA>           <NA>  ERCOT-21INR0258  "
      ]
     },
     "execution_count": 92,
     "metadata": {},
     "output_type": "execute_result"
    }
   ],
   "source": [
    "not_in_lbnl_region_gs_battery = not_in_lbnl_region_gs[not_in_lbnl_region_gs[\"Generation Type\"].eq(\"Other - Battery Energy Storage\")]\n",
    "not_in_lbnl_region_gs_battery.head()"
   ]
  },
  {
   "cell_type": "code",
   "execution_count": 93,
   "id": "9385cd54-14e9-4f36-bdc3-48b5a789aee1",
   "metadata": {},
   "outputs": [
    {
     "data": {
      "text/html": [
       "<div>\n",
       "<style scoped>\n",
       "    .dataframe tbody tr th:only-of-type {\n",
       "        vertical-align: middle;\n",
       "    }\n",
       "\n",
       "    .dataframe tbody tr th {\n",
       "        vertical-align: top;\n",
       "    }\n",
       "\n",
       "    .dataframe thead th {\n",
       "        text-align: right;\n",
       "    }\n",
       "</style>\n",
       "<table border=\"1\" class=\"dataframe\">\n",
       "  <thead>\n",
       "    <tr style=\"text-align: right;\">\n",
       "      <th></th>\n",
       "      <th>queue_id</th>\n",
       "      <th>queue_status</th>\n",
       "      <th>queue_date</th>\n",
       "      <th>queue_year</th>\n",
       "      <th>interconnection_date</th>\n",
       "      <th>date_withdrawn</th>\n",
       "      <th>date_operational</th>\n",
       "      <th>entity</th>\n",
       "      <th>project_name</th>\n",
       "      <th>developer</th>\n",
       "      <th>utility</th>\n",
       "      <th>county_1</th>\n",
       "      <th>county_2</th>\n",
       "      <th>county_3</th>\n",
       "      <th>state</th>\n",
       "      <th>region</th>\n",
       "      <th>interconnection_service_type</th>\n",
       "      <th>point_of_interconnection</th>\n",
       "      <th>date_proposed</th>\n",
       "      <th>year_proposed</th>\n",
       "      <th>interconnection_status_raw</th>\n",
       "      <th>interconnection_status_lbnl</th>\n",
       "      <th>resource_type_lbnl</th>\n",
       "      <th>resource_type_1</th>\n",
       "      <th>resource_type_2</th>\n",
       "      <th>resource_type_3</th>\n",
       "      <th>capacity_mw_resource_1</th>\n",
       "      <th>capacity_mw_resource_2</th>\n",
       "      <th>capacity_mw_resource_3</th>\n",
       "      <th>dbcp_id</th>\n",
       "      <th>total_capacity_mw</th>\n",
       "    </tr>\n",
       "  </thead>\n",
       "  <tbody>\n",
       "    <tr>\n",
       "      <th>4936</th>\n",
       "      <td>19INR0169</td>\n",
       "      <td>active</td>\n",
       "      <td>2018-03-02</td>\n",
       "      <td>2018.0</td>\n",
       "      <td>3/15/2020</td>\n",
       "      <td>NaT</td>\n",
       "      <td>NaT</td>\n",
       "      <td>ERCOT</td>\n",
       "      <td>Sun Valley Solar</td>\n",
       "      <td>Sun Valley Solar LLC</td>\n",
       "      <td>NaN</td>\n",
       "      <td>hill</td>\n",
       "      <td>NaN</td>\n",
       "      <td>NaN</td>\n",
       "      <td>TX</td>\n",
       "      <td>ERCOT</td>\n",
       "      <td>NaN</td>\n",
       "      <td>tap 345kV 68090 Sam Sw - 3405 Tradinghouse</td>\n",
       "      <td>1/30/2023</td>\n",
       "      <td>2023.0</td>\n",
       "      <td>SS Completed, FIS Completed, IA</td>\n",
       "      <td>IA Executed</td>\n",
       "      <td>Solar+Battery</td>\n",
       "      <td>Solar</td>\n",
       "      <td>Battery</td>\n",
       "      <td>NaN</td>\n",
       "      <td>2.0</td>\n",
       "      <td>101.0</td>\n",
       "      <td>NaN</td>\n",
       "      <td>ERCOT-19INR0169</td>\n",
       "      <td>103.0</td>\n",
       "    </tr>\n",
       "    <tr>\n",
       "      <th>5119</th>\n",
       "      <td>24INR0139</td>\n",
       "      <td>active</td>\n",
       "      <td>2021-10-15</td>\n",
       "      <td>2021.0</td>\n",
       "      <td>NaN</td>\n",
       "      <td>NaT</td>\n",
       "      <td>NaT</td>\n",
       "      <td>ERCOT</td>\n",
       "      <td>Midpoint Solar</td>\n",
       "      <td>Midpoint Solar, LLC</td>\n",
       "      <td>NaN</td>\n",
       "      <td>hill</td>\n",
       "      <td>NaN</td>\n",
       "      <td>NaN</td>\n",
       "      <td>TX</td>\n",
       "      <td>ERCOT</td>\n",
       "      <td>NaN</td>\n",
       "      <td>138 KV Tap #3518 BLUM to #237 Blanton</td>\n",
       "      <td>8/30/2025</td>\n",
       "      <td>2025.0</td>\n",
       "      <td>SS Completed, FIS Started, No IA</td>\n",
       "      <td>Facility Study</td>\n",
       "      <td>Solar+Battery</td>\n",
       "      <td>Solar</td>\n",
       "      <td>Battery</td>\n",
       "      <td>NaN</td>\n",
       "      <td>104.0</td>\n",
       "      <td>52.0</td>\n",
       "      <td>NaN</td>\n",
       "      <td>ERCOT-24INR0139</td>\n",
       "      <td>156.0</td>\n",
       "    </tr>\n",
       "    <tr>\n",
       "      <th>5164</th>\n",
       "      <td>21INR0257</td>\n",
       "      <td>active</td>\n",
       "      <td>2019-02-07</td>\n",
       "      <td>2019.0</td>\n",
       "      <td>10/18/2021</td>\n",
       "      <td>NaT</td>\n",
       "      <td>NaT</td>\n",
       "      <td>ERCOT</td>\n",
       "      <td>Mercury Solar</td>\n",
       "      <td>Mercury Solar, LLC</td>\n",
       "      <td>NaN</td>\n",
       "      <td>hill</td>\n",
       "      <td>NaN</td>\n",
       "      <td>NaN</td>\n",
       "      <td>TX</td>\n",
       "      <td>ERCOT</td>\n",
       "      <td>NaN</td>\n",
       "      <td>68092 Liberty Station 345kV</td>\n",
       "      <td>12/31/2023</td>\n",
       "      <td>2023.0</td>\n",
       "      <td>SS Completed, FIS Completed, IA</td>\n",
       "      <td>IA Executed</td>\n",
       "      <td>Solar+Battery</td>\n",
       "      <td>Solar</td>\n",
       "      <td>Battery</td>\n",
       "      <td>NaN</td>\n",
       "      <td>206.0</td>\n",
       "      <td>206.0</td>\n",
       "      <td>NaN</td>\n",
       "      <td>ERCOT-21INR0257</td>\n",
       "      <td>412.0</td>\n",
       "    </tr>\n",
       "    <tr>\n",
       "      <th>5826</th>\n",
       "      <td>21INR0379</td>\n",
       "      <td>active</td>\n",
       "      <td>2019-07-29</td>\n",
       "      <td>2019.0</td>\n",
       "      <td>11/11/2022</td>\n",
       "      <td>NaT</td>\n",
       "      <td>NaT</td>\n",
       "      <td>ERCOT</td>\n",
       "      <td>Ash Creek Solar</td>\n",
       "      <td>Ash Creek Solar LLC</td>\n",
       "      <td>NaN</td>\n",
       "      <td>hill</td>\n",
       "      <td>NaN</td>\n",
       "      <td>NaN</td>\n",
       "      <td>TX</td>\n",
       "      <td>ERCOT</td>\n",
       "      <td>NaN</td>\n",
       "      <td>68090 SAM SW 345kV</td>\n",
       "      <td>12/31/2023</td>\n",
       "      <td>2023.0</td>\n",
       "      <td>SS Completed, FIS Completed, IA</td>\n",
       "      <td>IA Executed</td>\n",
       "      <td>Solar+Battery</td>\n",
       "      <td>Solar</td>\n",
       "      <td>Battery</td>\n",
       "      <td>NaN</td>\n",
       "      <td>409.0</td>\n",
       "      <td>309.0</td>\n",
       "      <td>NaN</td>\n",
       "      <td>ERCOT-21INR0379</td>\n",
       "      <td>718.0</td>\n",
       "    </tr>\n",
       "    <tr>\n",
       "      <th>6023</th>\n",
       "      <td>25INR0229</td>\n",
       "      <td>active</td>\n",
       "      <td>2022-11-11</td>\n",
       "      <td>2022.0</td>\n",
       "      <td>NaN</td>\n",
       "      <td>NaT</td>\n",
       "      <td>NaT</td>\n",
       "      <td>ERCOT</td>\n",
       "      <td>OCI Cobb Creek Solar</td>\n",
       "      <td>OCI Hillsboro Solar LLC</td>\n",
       "      <td>NaN</td>\n",
       "      <td>hill</td>\n",
       "      <td>NaN</td>\n",
       "      <td>NaN</td>\n",
       "      <td>TX</td>\n",
       "      <td>ERCOT</td>\n",
       "      <td>NaN</td>\n",
       "      <td>tap 345kV 1907 Venus - 68090 Sam Sw</td>\n",
       "      <td>6/1/2025</td>\n",
       "      <td>2025.0</td>\n",
       "      <td>SS Started, FIS Started, No IA</td>\n",
       "      <td>System Impact Study</td>\n",
       "      <td>Solar+Battery</td>\n",
       "      <td>Solar</td>\n",
       "      <td>Battery</td>\n",
       "      <td>NaN</td>\n",
       "      <td>204.0</td>\n",
       "      <td>202.0</td>\n",
       "      <td>NaN</td>\n",
       "      <td>ERCOT-25INR0229</td>\n",
       "      <td>406.0</td>\n",
       "    </tr>\n",
       "    <tr>\n",
       "      <th>6366</th>\n",
       "      <td>24INR0124</td>\n",
       "      <td>active</td>\n",
       "      <td>2021-11-02</td>\n",
       "      <td>2021.0</td>\n",
       "      <td>NaN</td>\n",
       "      <td>NaT</td>\n",
       "      <td>NaT</td>\n",
       "      <td>ERCOT</td>\n",
       "      <td>High Noon Solar</td>\n",
       "      <td>High Noon Solar Project, LLC</td>\n",
       "      <td>NaN</td>\n",
       "      <td>hill</td>\n",
       "      <td>NaN</td>\n",
       "      <td>NaN</td>\n",
       "      <td>TX</td>\n",
       "      <td>ERCOT</td>\n",
       "      <td>NaN</td>\n",
       "      <td>Tap 138kV 445 Yates - 444 Covington</td>\n",
       "      <td>12/31/2024</td>\n",
       "      <td>2024.0</td>\n",
       "      <td>SS Completed, FIS Started, No IA</td>\n",
       "      <td>Facility Study</td>\n",
       "      <td>Solar+Battery</td>\n",
       "      <td>Solar</td>\n",
       "      <td>Battery</td>\n",
       "      <td>NaN</td>\n",
       "      <td>182.0</td>\n",
       "      <td>94.0</td>\n",
       "      <td>NaN</td>\n",
       "      <td>ERCOT-24INR0124</td>\n",
       "      <td>276.0</td>\n",
       "    </tr>\n",
       "  </tbody>\n",
       "</table>\n",
       "</div>"
      ],
      "text/plain": [
       "       queue_id queue_status queue_date  queue_year interconnection_date date_withdrawn date_operational entity          project_name                     developer utility county_1 county_2 county_3 state region interconnection_service_type                    point_of_interconnection date_proposed  year_proposed        interconnection_status_raw interconnection_status_lbnl resource_type_lbnl resource_type_1 resource_type_2 resource_type_3  capacity_mw_resource_1  capacity_mw_resource_2  capacity_mw_resource_3          dbcp_id  total_capacity_mw\n",
       "4936  19INR0169       active 2018-03-02      2018.0            3/15/2020            NaT              NaT  ERCOT      Sun Valley Solar          Sun Valley Solar LLC     NaN     hill      NaN      NaN    TX  ERCOT                          NaN  tap 345kV 68090 Sam Sw - 3405 Tradinghouse     1/30/2023         2023.0   SS Completed, FIS Completed, IA                 IA Executed      Solar+Battery           Solar         Battery             NaN                     2.0                   101.0                     NaN  ERCOT-19INR0169              103.0\n",
       "5119  24INR0139       active 2021-10-15      2021.0                  NaN            NaT              NaT  ERCOT        Midpoint Solar           Midpoint Solar, LLC     NaN     hill      NaN      NaN    TX  ERCOT                          NaN       138 KV Tap #3518 BLUM to #237 Blanton     8/30/2025         2025.0  SS Completed, FIS Started, No IA              Facility Study      Solar+Battery           Solar         Battery             NaN                   104.0                    52.0                     NaN  ERCOT-24INR0139              156.0\n",
       "5164  21INR0257       active 2019-02-07      2019.0           10/18/2021            NaT              NaT  ERCOT         Mercury Solar            Mercury Solar, LLC     NaN     hill      NaN      NaN    TX  ERCOT                          NaN                 68092 Liberty Station 345kV    12/31/2023         2023.0   SS Completed, FIS Completed, IA                 IA Executed      Solar+Battery           Solar         Battery             NaN                   206.0                   206.0                     NaN  ERCOT-21INR0257              412.0\n",
       "5826  21INR0379       active 2019-07-29      2019.0           11/11/2022            NaT              NaT  ERCOT       Ash Creek Solar           Ash Creek Solar LLC     NaN     hill      NaN      NaN    TX  ERCOT                          NaN                          68090 SAM SW 345kV    12/31/2023         2023.0   SS Completed, FIS Completed, IA                 IA Executed      Solar+Battery           Solar         Battery             NaN                   409.0                   309.0                     NaN  ERCOT-21INR0379              718.0\n",
       "6023  25INR0229       active 2022-11-11      2022.0                  NaN            NaT              NaT  ERCOT  OCI Cobb Creek Solar       OCI Hillsboro Solar LLC     NaN     hill      NaN      NaN    TX  ERCOT                          NaN         tap 345kV 1907 Venus - 68090 Sam Sw      6/1/2025         2025.0    SS Started, FIS Started, No IA         System Impact Study      Solar+Battery           Solar         Battery             NaN                   204.0                   202.0                     NaN  ERCOT-25INR0229              406.0\n",
       "6366  24INR0124       active 2021-11-02      2021.0                  NaN            NaT              NaT  ERCOT       High Noon Solar  High Noon Solar Project, LLC     NaN     hill      NaN      NaN    TX  ERCOT                          NaN         Tap 138kV 445 Yates - 444 Covington    12/31/2024         2024.0  SS Completed, FIS Started, No IA              Facility Study      Solar+Battery           Solar         Battery             NaN                   182.0                    94.0                     NaN  ERCOT-24INR0124              276.0"
      ]
     },
     "execution_count": 93,
     "metadata": {},
     "output_type": "execute_result"
    }
   ],
   "source": [
    "region_lbnl[region_lbnl[\"county_1\"].str.contains(\"hill\") & region_lbnl.resource_type_lbnl.eq(\"Solar+Battery\")]"
   ]
  },
  {
   "cell_type": "code",
   "execution_count": 94,
   "id": "22136fa7-26dd-43b3-8b67-1ac3b2b7467a",
   "metadata": {
    "tags": []
   },
   "outputs": [
    {
     "name": "stderr",
     "output_type": "stream",
     "text": [
      "/tmp/ipykernel_47445/1072767161.py:1: SettingWithCopyWarning: \n",
      "A value is trying to be set on a copy of a slice from a DataFrame.\n",
      "Try using .loc[row_indexer,col_indexer] = value instead\n",
      "\n",
      "See the caveats in the documentation: https://pandas.pydata.org/pandas-docs/stable/user_guide/indexing.html#returning-a-view-versus-a-copy\n",
      "  not_in_lbnl_region_gs_battery[\"clean_project_name\"] = not_in_lbnl_region_gs_battery[\"Project Name\"].str.split(\" Storage\").apply(lambda x: x[0]).str.replace(\" BESS\", \"\").str.strip()\n",
      "/tmp/ipykernel_47445/1072767161.py:4: UserWarning: This pattern is interpreted as a regular expression, and has match groups. To actually get the groups, use str.extract.\n",
      "  not_in_lbnl_region_gs_battery[\"clean_project_name\"].apply(lambda x: region_lbnl[\"project_name\"].str.contains(x).any()).value_counts()\n"
     ]
    },
    {
     "data": {
      "text/plain": [
       "True     129\n",
       "False     70\n",
       "Name: clean_project_name, dtype: int64"
      ]
     },
     "execution_count": 94,
     "metadata": {},
     "output_type": "execute_result"
    }
   ],
   "source": [
    "not_in_lbnl_region_gs_battery[\"clean_project_name\"] = not_in_lbnl_region_gs_battery[\"Project Name\"].str.split(\" Storage\").apply(lambda x: x[0]).str.replace(\" BESS\", \"\").str.strip()\n",
    "    \n",
    "\n",
    "not_in_lbnl_region_gs_battery[\"clean_project_name\"].apply(lambda x: region_lbnl[\"project_name\"].str.contains(x).any()).value_counts()"
   ]
  },
  {
   "cell_type": "markdown",
   "id": "2b536884-0d21-4a3a-9b31-48bfb6c38c48",
   "metadata": {},
   "source": [
    "Ok using super rough project name maping, a majority of battery projects are Solar + Battery projects in LBNL."
   ]
  }
 ],
 "metadata": {
  "kernelspec": {
   "display_name": "Python 3 (ipykernel)",
   "language": "python",
   "name": "python3"
  },
  "language_info": {
   "codemirror_mode": {
    "name": "ipython",
    "version": 3
   },
   "file_extension": ".py",
   "mimetype": "text/x-python",
   "name": "python",
   "nbconvert_exporter": "python",
   "pygments_lexer": "ipython3",
   "version": "3.10.13"
  }
 },
 "nbformat": 4,
 "nbformat_minor": 5
}
