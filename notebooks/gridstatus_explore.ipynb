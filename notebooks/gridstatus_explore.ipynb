{
 "cells": [
  {
   "cell_type": "code",
   "execution_count": 1,
   "id": "3624a5f9-7233-4b3d-be60-58619f976a0d",
   "metadata": {},
   "outputs": [
    {
     "data": {
      "text/plain": [
       "'0.18.0'"
      ]
     },
     "execution_count": 1,
     "metadata": {},
     "output_type": "execute_result"
    }
   ],
   "source": [
    "import pandas as pd\n",
    "import gridstatus as gs\n",
    "gs.__version__"
   ]
  },
  {
   "cell_type": "markdown",
   "id": "06de6bbd-12de-40c5-bce0-dce2d34c0744",
   "metadata": {},
   "source": [
    "Which ISO apis work? Which columns are aligned?"
   ]
  },
  {
   "cell_type": "code",
   "execution_count": 2,
   "id": "1214b14c-5300-4cf1-bb50-756c545d1c2f",
   "metadata": {},
   "outputs": [
    {
     "data": {
      "text/plain": [
       "['miso', 'caiso', 'pjm', 'ercot', 'spp', 'nyiso', 'isone']"
      ]
     },
     "execution_count": 2,
     "metadata": {},
     "output_type": "execute_result"
    }
   ],
   "source": [
    "gs.list_isos()[\"Id\"].to_list()"
   ]
  },
  {
   "cell_type": "code",
   "execution_count": 3,
   "id": "5eec6f34-f646-405d-ba52-7d768e114f07",
   "metadata": {},
   "outputs": [],
   "source": [
    "iso_classes = {\"miso\": gs.MISO,\n",
    "\"caiso\": gs.CAISO,\n",
    "\"pjm\": gs.PJM,\n",
    "\"ercot\": gs.Ercot,\n",
    "\"spp\": gs.SPP,\n",
    "\"nyiso\": gs.NYISO,\n",
    "\"isone\": gs.ISONE}"
   ]
  },
  {
   "cell_type": "code",
   "execution_count": 4,
   "id": "143d50cc-ae64-45de-8465-89668bd58932",
   "metadata": {},
   "outputs": [],
   "source": [
    "queue_dfs = {}\n",
    "for iso_id, iso_class in iso_classes.items():\n",
    "    try:\n",
    "        df = iso_class().get_interconnection_queue()\n",
    "        df[\"iso_id\"] = iso_id\n",
    "        queue_dfs[iso_id] = df\n",
    "    except:\n",
    "        print(iso_id)\n",
    "        "
   ]
  },
  {
   "cell_type": "code",
   "execution_count": 5,
   "id": "cf3f3a9b-73c6-4eae-b57f-23f0ac25fe61",
   "metadata": {},
   "outputs": [
    {
     "data": {
      "text/plain": [
       "{'Actual Completion Date',\n",
       " 'Capacity (MW)',\n",
       " 'County',\n",
       " 'Generation Type',\n",
       " 'Interconnecting Entity',\n",
       " 'Interconnection Location',\n",
       " 'Project Name',\n",
       " 'Proposed Completion Date',\n",
       " 'Queue Date',\n",
       " 'Queue ID',\n",
       " 'State',\n",
       " 'Status',\n",
       " 'Summer Capacity (MW)',\n",
       " 'Transmission Owner',\n",
       " 'Winter Capacity (MW)',\n",
       " 'Withdrawal Comment',\n",
       " 'Withdrawn Date',\n",
       " 'iso_id'}"
      ]
     },
     "execution_count": 5,
     "metadata": {},
     "output_type": "execute_result"
    }
   ],
   "source": [
    "shared_columns = set.intersection(*[set(df.columns) for df in queue_dfs.values()])\n",
    "\n",
    "shared_columns"
   ]
  },
  {
   "cell_type": "code",
   "execution_count": 6,
   "id": "cc509613-f5cb-4e6f-a4f2-c52255c8e2a1",
   "metadata": {},
   "outputs": [],
   "source": [
    "queues = pd.concat(queue_dfs.values())\n",
    "queues = queues[shared_columns]"
   ]
  },
  {
   "cell_type": "code",
   "execution_count": 7,
   "id": "a11f3b33-f34b-4074-a5ac-26e87788092d",
   "metadata": {},
   "outputs": [
    {
     "name": "stdout",
     "output_type": "stream",
     "text": [
      "<class 'pandas.core.frame.DataFrame'>\n",
      "Int64Index: 19879 entries, 0 to 1300\n",
      "Data columns (total 18 columns):\n",
      " #   Column                    Non-Null Count  Dtype  \n",
      "---  ------                    --------------  -----  \n",
      " 0   Actual Completion Date    1513 non-null   object \n",
      " 1   Project Name              14599 non-null  object \n",
      " 2   iso_id                    19879 non-null  object \n",
      " 3   Capacity (MW)             19474 non-null  float64\n",
      " 4   Queue Date                19478 non-null  object \n",
      " 5   State                     18979 non-null  object \n",
      " 6   Queue ID                  19879 non-null  object \n",
      " 7   Transmission Owner        17318 non-null  object \n",
      " 8   Winter Capacity (MW)      15193 non-null  object \n",
      " 9   Interconnecting Entity    1919 non-null   object \n",
      " 10  Proposed Completion Date  9297 non-null   object \n",
      " 11  Summer Capacity (MW)      15223 non-null  object \n",
      " 12  Status                    19865 non-null  object \n",
      " 13  Withdrawn Date            8641 non-null   object \n",
      " 14  Withdrawal Comment        2446 non-null   object \n",
      " 15  Generation Type           18687 non-null  object \n",
      " 16  County                    18877 non-null  object \n",
      " 17  Interconnection Location  10523 non-null  object \n",
      "dtypes: float64(1), object(17)\n",
      "memory usage: 2.9+ MB\n"
     ]
    }
   ],
   "source": [
    "queues.info()"
   ]
  },
  {
   "cell_type": "markdown",
   "id": "18da47df-467c-46a6-a89d-684dbdc3bf3e",
   "metadata": {},
   "source": [
    "## Clean up Queue Date"
   ]
  },
  {
   "cell_type": "code",
   "execution_count": 8,
   "id": "8e222389-ee4e-49b1-88dc-f6bd20a82347",
   "metadata": {},
   "outputs": [],
   "source": [
    "queues[\"Queue Date\"] = pd.to_datetime(queues[\"Queue Date\"], utc=True, errors=\"coerce\")"
   ]
  },
  {
   "cell_type": "markdown",
   "id": "42fccee0-4517-4883-904d-ae301885775c",
   "metadata": {},
   "source": [
    "## Capacity"
   ]
  },
  {
   "cell_type": "code",
   "execution_count": 9,
   "id": "f8b277ad-50ca-4d01-9175-d1bcf3ec9bbb",
   "metadata": {},
   "outputs": [
    {
     "data": {
      "text/plain": [
       "False    19474\n",
       "True       405\n",
       "Name: Capacity (MW), dtype: int64"
      ]
     },
     "execution_count": 9,
     "metadata": {},
     "output_type": "execute_result"
    }
   ],
   "source": [
    "queues[\"Capacity (MW)\"].isna().value_counts()"
   ]
  },
  {
   "cell_type": "code",
   "execution_count": 10,
   "id": "503bb856-6eee-447e-8d35-d45a6278f4a2",
   "metadata": {},
   "outputs": [
    {
     "data": {
      "text/plain": [
       "False    19361\n",
       "True       518\n",
       "Name: Capacity (MW), dtype: int64"
      ]
     },
     "execution_count": 10,
     "metadata": {},
     "output_type": "execute_result"
    }
   ],
   "source": [
    "no_capacity = (queues[\"Capacity (MW)\"] <= 0)\n",
    "no_capacity.value_counts()"
   ]
  },
  {
   "cell_type": "markdown",
   "id": "dbbf5a38-3bd3-428f-b1a7-75a544401fa6",
   "metadata": {},
   "source": [
    "There are a few hundred projects that are missing capacity or have 0 capacity."
   ]
  },
  {
   "cell_type": "code",
   "execution_count": 11,
   "id": "a9a18acd-f0d0-49aa-8f7b-dee82cad7994",
   "metadata": {},
   "outputs": [
    {
     "data": {
      "text/plain": [
       "<AxesSubplot: >"
      ]
     },
     "execution_count": 11,
     "metadata": {},
     "output_type": "execute_result"
    },
    {
     "data": {
      "image/png": "[encoded data removed]",
      "text/plain": [
       "<Figure size 640x480 with 1 Axes>"
      ]
     },
     "metadata": {},
     "output_type": "display_data"
    }
   ],
   "source": [
    "queues[\"Capacity (MW)\"].plot.box()"
   ]
  },
  {
   "cell_type": "markdown",
   "id": "0e277d52-8774-4c44-89b6-4f9f76be1a9d",
   "metadata": {},
   "source": [
    "## Status"
   ]
  },
  {
   "cell_type": "code",
   "execution_count": 12,
   "id": "f1c7d974-d8ab-42d9-a0dd-7da6bdda905e",
   "metadata": {},
   "outputs": [
    {
     "data": {
      "text/plain": [
       "Withdrawn                                    7467\n",
       "Active                                       6608\n",
       "WITHDRAWN                                    1610\n",
       "In Service                                   1032\n",
       "Done                                          775\n",
       "Completed                                     758\n",
       "ACTIVE                                        463\n",
       "Engineering and Procurement                   326\n",
       "Confirmed                                     223\n",
       "COMPLETED                                     202\n",
       "Retracted                                     131\n",
       "Suspended                                      77\n",
       "Deactivated                                    57\n",
       "Partially in Service - Under Construction      56\n",
       "Under Construction                             52\n",
       "Annulled                                       24\n",
       "Withdrawn - Pending Cure                        3\n",
       "                                                1\n",
       "Name: Status, dtype: int64"
      ]
     },
     "execution_count": 12,
     "metadata": {},
     "output_type": "execute_result"
    }
   ],
   "source": [
    "queues[\"Status\"].value_counts()"
   ]
  },
  {
   "cell_type": "code",
   "execution_count": 13,
   "id": "75f363fd-b392-4f9c-a4d9-6c95e6ae1907",
   "metadata": {},
   "outputs": [],
   "source": [
    "queues[\"Status\"] = queues[\"Status\"].str.strip().str.lower()"
   ]
  },
  {
   "cell_type": "code",
   "execution_count": 14,
   "id": "e083c2aa-2300-433c-a876-bc6a98453b7f",
   "metadata": {},
   "outputs": [
    {
     "data": {
      "text/plain": [
       "withdrawn                                    9077\n",
       "active                                       7071\n",
       "in service                                   1032\n",
       "completed                                     960\n",
       "done                                          775\n",
       "engineering and procurement                   326\n",
       "confirmed                                     223\n",
       "retracted                                     131\n",
       "suspended                                      77\n",
       "deactivated                                    57\n",
       "partially in service - under construction      56\n",
       "under construction                             52\n",
       "annulled                                       24\n",
       "withdrawn - pending cure                        3\n",
       "                                                1\n",
       "Name: Status, dtype: int64"
      ]
     },
     "execution_count": 14,
     "metadata": {},
     "output_type": "execute_result"
    }
   ],
   "source": [
    "queues[\"Status\"].value_counts()"
   ]
  },
  {
   "cell_type": "code",
   "execution_count": 15,
   "id": "721d5798-248f-4e6e-8994-381a44746c4e",
   "metadata": {},
   "outputs": [
    {
     "data": {
      "text/plain": [
       "False    19865\n",
       "True        14\n",
       "Name: Status, dtype: int64"
      ]
     },
     "execution_count": 15,
     "metadata": {},
     "output_type": "execute_result"
    }
   ],
   "source": [
    "queues[\"Status\"].isna().value_counts()"
   ]
  },
  {
   "cell_type": "markdown",
   "id": "885c3b6a-9f9f-4d3a-9364-9c95c3250c64",
   "metadata": {},
   "source": [
    "Cool! Most of the projects have a status though the values need some harmonizing."
   ]
  },
  {
   "cell_type": "markdown",
   "id": "4bd7a6cf-fccc-47f0-82b8-50a9d8f9e0eb",
   "metadata": {},
   "source": [
    "## Location"
   ]
  },
  {
   "cell_type": "code",
   "execution_count": 16,
   "id": "3fff17f4-8cab-462e-811c-56d0e06958e2",
   "metadata": {},
   "outputs": [],
   "source": [
    "def replace_whitespace(s: pd.Series) -> pd.Series:\n",
    "    return s.str.strip().replace(\"\", pd.NA).fillna(pd.NA)"
   ]
  },
  {
   "cell_type": "code",
   "execution_count": 17,
   "id": "897d981c-f65f-4c94-a84d-13fb0808e5d5",
   "metadata": {},
   "outputs": [
    {
     "data": {
      "text/plain": [
       "False    18870\n",
       "True      1009\n",
       "Name: County, dtype: int64"
      ]
     },
     "execution_count": 17,
     "metadata": {},
     "output_type": "execute_result"
    }
   ],
   "source": [
    "queues[\"County\"] = queues[\"County\"].pipe(replace_whitespace)\n",
    "queues[\"County\"].isna().value_counts()"
   ]
  },
  {
   "cell_type": "code",
   "execution_count": 18,
   "id": "d2ee8bc2-ae6b-4740-8ef2-357ac97237af",
   "metadata": {},
   "outputs": [
    {
     "data": {
      "text/plain": [
       "False    18973\n",
       "True       906\n",
       "Name: State, dtype: int64"
      ]
     },
     "execution_count": 18,
     "metadata": {},
     "output_type": "execute_result"
    }
   ],
   "source": [
    "queues[\"State\"] = queues[\"State\"].pipe(replace_whitespace)\n",
    "queues[\"State\"].isna().value_counts()"
   ]
  },
  {
   "cell_type": "markdown",
   "id": "7ba27ebb-5159-4de0-8c92-2dd4794dc227",
   "metadata": {},
   "source": [
    "There are a couple hundred of projects that do not have state or county information."
   ]
  },
  {
   "cell_type": "markdown",
   "id": "f4f5127b-3981-4c3b-a6fc-7c6a7f0e604d",
   "metadata": {},
   "source": [
    "## Resource Type"
   ]
  },
  {
   "cell_type": "code",
   "execution_count": 19,
   "id": "dddd7367-53e6-48f3-be22-25528848b77f",
   "metadata": {},
   "outputs": [
    {
     "data": {
      "text/plain": [
       "False    18541\n",
       "True      1338\n",
       "Name: Generation Type, dtype: int64"
      ]
     },
     "execution_count": 19,
     "metadata": {},
     "output_type": "execute_result"
    }
   ],
   "source": [
    "queues[\"Generation Type\"] = replace_whitespace(queues[\"Generation Type\"])\n",
    "queues[\"Generation Type\"].isna().value_counts()"
   ]
  },
  {
   "cell_type": "code",
   "execution_count": 20,
   "id": "3b1ce0c5-68e5-4be5-a4f2-2b15483520fa",
   "metadata": {},
   "outputs": [
    {
     "data": {
      "text/plain": [
       "Solar                             5724\n",
       "Wind                              2625\n",
       "Storage                           1453\n",
       "Natural Gas                       1108\n",
       "Photovoltaic                       708\n",
       "Solar; Storage                     535\n",
       "Solar - Photovoltaic Solar         469\n",
       "Other - Battery Energy Storage     467\n",
       "Battery Storage                    456\n",
       "Energy Storage                     333\n",
       "SUN                                330\n",
       "Hybrid                             272\n",
       "Coal                               237\n",
       "Photovoltaic + Storage             233\n",
       "Gas                                233\n",
       "WND                                225\n",
       "Methane                            215\n",
       "Wind Turbine                       195\n",
       "Combined Cycle                     186\n",
       "Storage + Photovoltaic             184\n",
       "Name: Generation Type, dtype: int64"
      ]
     },
     "execution_count": 20,
     "metadata": {},
     "output_type": "execute_result"
    }
   ],
   "source": [
    "queues[\"Generation Type\"].value_counts().head(20)"
   ]
  },
  {
   "cell_type": "markdown",
   "id": "823a584d-d98a-42f7-9759-7f8e0d7439a7",
   "metadata": {},
   "source": [
    "Ooof about 1200 projects are missing a fuel type. Maybe the projects with missing fuel type are from a specific ISO or time range."
   ]
  },
  {
   "cell_type": "code",
   "execution_count": 21,
   "id": "ea65ac0e-1706-40d1-9574-97fe23cb4a63",
   "metadata": {},
   "outputs": [
    {
     "data": {
      "text/plain": [
       "withdrawn                                    851\n",
       "confirmed                                    223\n",
       "retracted                                    131\n",
       "active                                        64\n",
       "in service                                    29\n",
       "annulled                                      24\n",
       "done                                          14\n",
       "                                               1\n",
       "partially in service - under construction      1\n",
       "Name: Status, dtype: int64"
      ]
     },
     "execution_count": 21,
     "metadata": {},
     "output_type": "execute_result"
    }
   ],
   "source": [
    "missing_type = queues[queues[\"Generation Type\"].isna()].copy()\n",
    "missing_type[\"Status\"].value_counts()"
   ]
  },
  {
   "cell_type": "code",
   "execution_count": 22,
   "id": "a0c978c9-baec-41ab-9a91-d67036091a31",
   "metadata": {},
   "outputs": [
    {
     "data": {
      "text/plain": [
       "<AxesSubplot: >"
      ]
     },
     "execution_count": 22,
     "metadata": {},
     "output_type": "execute_result"
    },
    {
     "data": {
      "image/png": "[encoded data removed]",
      "text/plain": [
       "<Figure size 640x480 with 1 Axes>"
      ]
     },
     "metadata": {},
     "output_type": "display_data"
    }
   ],
   "source": [
    "missing_type[\"Queue Date\"].dt.year.value_counts().sort_index().plot.bar()"
   ]
  },
  {
   "cell_type": "markdown",
   "id": "35c0861b-9c93-4632-959f-7dbe3a592f34",
   "metadata": {},
   "source": [
    "It looks like most are withdrawn so that's good."
   ]
  },
  {
   "cell_type": "markdown",
   "id": "f0358f2f-ff89-4ece-9f7a-9a80799d5c1d",
   "metadata": {},
   "source": [
    "## Time range"
   ]
  },
  {
   "cell_type": "markdown",
   "id": "4947847a-b097-4619-abbf-429be4835362",
   "metadata": {},
   "source": [
    "### Project status counts by year"
   ]
  },
  {
   "cell_type": "code",
   "execution_count": 23,
   "id": "c220ae5b-8062-4d73-8309-a31b253f71c4",
   "metadata": {},
   "outputs": [
    {
     "data": {
      "text/html": [
       "<div>\n",
       "<style scoped>\n",
       "    .dataframe tbody tr th:only-of-type {\n",
       "        vertical-align: middle;\n",
       "    }\n",
       "\n",
       "    .dataframe tbody tr th {\n",
       "        vertical-align: top;\n",
       "    }\n",
       "\n",
       "    .dataframe thead th {\n",
       "        text-align: right;\n",
       "    }\n",
       "</style>\n",
       "<table border=\"1\" class=\"dataframe\">\n",
       "  <thead>\n",
       "    <tr style=\"text-align: right;\">\n",
       "      <th></th>\n",
       "      <th>Queue Date</th>\n",
       "      <th>Status</th>\n",
       "      <th>Queue ID</th>\n",
       "    </tr>\n",
       "  </thead>\n",
       "  <tbody>\n",
       "    <tr>\n",
       "      <th>0</th>\n",
       "      <td>1900.0</td>\n",
       "      <td>done</td>\n",
       "      <td>1</td>\n",
       "    </tr>\n",
       "    <tr>\n",
       "      <th>1</th>\n",
       "      <td>1989.0</td>\n",
       "      <td>completed</td>\n",
       "      <td>1</td>\n",
       "    </tr>\n",
       "    <tr>\n",
       "      <th>2</th>\n",
       "      <td>1995.0</td>\n",
       "      <td>withdrawn</td>\n",
       "      <td>1</td>\n",
       "    </tr>\n",
       "    <tr>\n",
       "      <th>3</th>\n",
       "      <td>1996.0</td>\n",
       "      <td>withdrawn</td>\n",
       "      <td>1</td>\n",
       "    </tr>\n",
       "    <tr>\n",
       "      <th>4</th>\n",
       "      <td>1997.0</td>\n",
       "      <td>in service</td>\n",
       "      <td>10</td>\n",
       "    </tr>\n",
       "    <tr>\n",
       "      <th>...</th>\n",
       "      <td>...</td>\n",
       "      <td>...</td>\n",
       "      <td>...</td>\n",
       "    </tr>\n",
       "    <tr>\n",
       "      <th>208</th>\n",
       "      <td>2022.0</td>\n",
       "      <td>active</td>\n",
       "      <td>2085</td>\n",
       "    </tr>\n",
       "    <tr>\n",
       "      <th>209</th>\n",
       "      <td>2022.0</td>\n",
       "      <td>completed</td>\n",
       "      <td>4</td>\n",
       "    </tr>\n",
       "    <tr>\n",
       "      <th>210</th>\n",
       "      <td>2022.0</td>\n",
       "      <td>done</td>\n",
       "      <td>4</td>\n",
       "    </tr>\n",
       "    <tr>\n",
       "      <th>211</th>\n",
       "      <td>2022.0</td>\n",
       "      <td>withdrawn</td>\n",
       "      <td>203</td>\n",
       "    </tr>\n",
       "    <tr>\n",
       "      <th>212</th>\n",
       "      <td>2023.0</td>\n",
       "      <td>active</td>\n",
       "      <td>2</td>\n",
       "    </tr>\n",
       "  </tbody>\n",
       "</table>\n",
       "<p>213 rows × 3 columns</p>\n",
       "</div>"
      ],
      "text/plain": [
       "     Queue Date      Status  Queue ID\n",
       "0        1900.0        done         1\n",
       "1        1989.0   completed         1\n",
       "2        1995.0   withdrawn         1\n",
       "3        1996.0   withdrawn         1\n",
       "4        1997.0  in service        10\n",
       "..          ...         ...       ...\n",
       "208      2022.0      active      2085\n",
       "209      2022.0   completed         4\n",
       "210      2022.0        done         4\n",
       "211      2022.0   withdrawn       203\n",
       "212      2023.0      active         2\n",
       "\n",
       "[213 rows x 3 columns]"
      ]
     },
     "execution_count": 23,
     "metadata": {},
     "output_type": "execute_result"
    }
   ],
   "source": [
    "status_by_year = queues.groupby([queues[\"Queue Date\"].dt.year, queues[\"Status\"]]).count()[\"Queue ID\"].reset_index()\n",
    "status_by_year"
   ]
  },
  {
   "cell_type": "code",
   "execution_count": 24,
   "id": "b7c4d4e0-5ff9-49e9-bcc5-75046eb83746",
   "metadata": {},
   "outputs": [
    {
     "data": {
      "text/plain": [
       "<AxesSubplot: xlabel='Queue Date'>"
      ]
     },
     "execution_count": 24,
     "metadata": {},
     "output_type": "execute_result"
    },
    {
     "data": {
      "image/png": "[encoded data removed]",
      "text/plain": [
       "<Figure size 2000x1000 with 1 Axes>"
      ]
     },
     "metadata": {},
     "output_type": "display_data"
    }
   ],
   "source": [
    "status_by_year.pivot(index=\"Queue Date\", columns=\"Status\", values=\"Queue ID\").plot.bar(stacked=True, figsize=(20,10))"
   ]
  },
  {
   "cell_type": "markdown",
   "id": "3309a65a-2e09-4aa9-a391-32d7d926ab9f",
   "metadata": {},
   "source": [
    "### Project type total Capacity by year"
   ]
  },
  {
   "cell_type": "code",
   "execution_count": 25,
   "id": "acde51d7-dfcb-4bc6-ba27-81360d2f99a5",
   "metadata": {},
   "outputs": [
    {
     "data": {
      "text/html": [
       "<div>\n",
       "<style scoped>\n",
       "    .dataframe tbody tr th:only-of-type {\n",
       "        vertical-align: middle;\n",
       "    }\n",
       "\n",
       "    .dataframe tbody tr th {\n",
       "        vertical-align: top;\n",
       "    }\n",
       "\n",
       "    .dataframe thead th {\n",
       "        text-align: right;\n",
       "    }\n",
       "</style>\n",
       "<table border=\"1\" class=\"dataframe\">\n",
       "  <thead>\n",
       "    <tr style=\"text-align: right;\">\n",
       "      <th></th>\n",
       "      <th>Queue Date</th>\n",
       "      <th>Generation Type</th>\n",
       "      <th>Capacity (MW)</th>\n",
       "    </tr>\n",
       "  </thead>\n",
       "  <tbody>\n",
       "    <tr>\n",
       "      <th>0</th>\n",
       "      <td>1900.0</td>\n",
       "      <td>Wind</td>\n",
       "      <td>80.00</td>\n",
       "    </tr>\n",
       "    <tr>\n",
       "      <th>1</th>\n",
       "      <td>1989.0</td>\n",
       "      <td>AC Transmission</td>\n",
       "      <td>0.00</td>\n",
       "    </tr>\n",
       "    <tr>\n",
       "      <th>2</th>\n",
       "      <td>1996.0</td>\n",
       "      <td>NG</td>\n",
       "      <td>0.00</td>\n",
       "    </tr>\n",
       "    <tr>\n",
       "      <th>3</th>\n",
       "      <td>1997.0</td>\n",
       "      <td>Coal</td>\n",
       "      <td>6.00</td>\n",
       "    </tr>\n",
       "    <tr>\n",
       "      <th>4</th>\n",
       "      <td>1997.0</td>\n",
       "      <td>DFO NG</td>\n",
       "      <td>0.00</td>\n",
       "    </tr>\n",
       "    <tr>\n",
       "      <th>...</th>\n",
       "      <td>...</td>\n",
       "      <td>...</td>\n",
       "      <td>...</td>\n",
       "    </tr>\n",
       "    <tr>\n",
       "      <th>898</th>\n",
       "      <td>2022.0</td>\n",
       "      <td>WND</td>\n",
       "      <td>4775.00</td>\n",
       "    </tr>\n",
       "    <tr>\n",
       "      <th>899</th>\n",
       "      <td>2022.0</td>\n",
       "      <td>Wind</td>\n",
       "      <td>58854.19</td>\n",
       "    </tr>\n",
       "    <tr>\n",
       "      <th>900</th>\n",
       "      <td>2022.0</td>\n",
       "      <td>Wind - Wind Turbine</td>\n",
       "      <td>2573.22</td>\n",
       "    </tr>\n",
       "    <tr>\n",
       "      <th>901</th>\n",
       "      <td>2023.0</td>\n",
       "      <td>Storage</td>\n",
       "      <td>44.00</td>\n",
       "    </tr>\n",
       "    <tr>\n",
       "      <th>902</th>\n",
       "      <td>2023.0</td>\n",
       "      <td>Wind</td>\n",
       "      <td>300.00</td>\n",
       "    </tr>\n",
       "  </tbody>\n",
       "</table>\n",
       "<p>903 rows × 3 columns</p>\n",
       "</div>"
      ],
      "text/plain": [
       "     Queue Date      Generation Type  Capacity (MW)\n",
       "0        1900.0                 Wind          80.00\n",
       "1        1989.0      AC Transmission           0.00\n",
       "2        1996.0                   NG           0.00\n",
       "3        1997.0                 Coal           6.00\n",
       "4        1997.0               DFO NG           0.00\n",
       "..          ...                  ...            ...\n",
       "898      2022.0                  WND        4775.00\n",
       "899      2022.0                 Wind       58854.19\n",
       "900      2022.0  Wind - Wind Turbine        2573.22\n",
       "901      2023.0              Storage          44.00\n",
       "902      2023.0                 Wind         300.00\n",
       "\n",
       "[903 rows x 3 columns]"
      ]
     },
     "execution_count": 25,
     "metadata": {},
     "output_type": "execute_result"
    }
   ],
   "source": [
    "type_by_year = queues.groupby([queues[\"Queue Date\"].dt.year, queues[\"Generation Type\"]]).sum()[\"Capacity (MW)\"].reset_index()\n",
    "type_by_year"
   ]
  },
  {
   "cell_type": "code",
   "execution_count": 26,
   "id": "5a29a524-7f1b-4f7c-93e3-0d4f10c4d380",
   "metadata": {},
   "outputs": [],
   "source": [
    "# This is pretty unreadable due to the number of categories\n",
    "# type_by_year.pivot(index=\"Queue Date\", columns=\"Generation Type\", values=\"Capacity (MW)\").plot.bar(stacked=True, figsize=(20,10))"
   ]
  },
  {
   "cell_type": "markdown",
   "id": "cc7c6d4f-925b-4d10-a127-d2bf1621a755",
   "metadata": {
    "tags": []
   },
   "source": [
    "## Most recent projects"
   ]
  },
  {
   "cell_type": "code",
   "execution_count": 27,
   "id": "73715466-5fe1-443c-8710-3ba5b220689d",
   "metadata": {},
   "outputs": [
    {
     "data": {
      "text/plain": [
       "iso_id\n",
       "caiso   2023-01-04 08:00:00+00:00\n",
       "ercot   2022-12-15 00:00:00+00:00\n",
       "isone   2022-09-30 00:00:00+00:00\n",
       "miso    2023-01-06 05:00:00+00:00\n",
       "nyiso   2022-12-01 00:00:00+00:00\n",
       "pjm     2022-12-20 00:00:00+00:00\n",
       "spp     2022-12-16 00:00:00+00:00\n",
       "Name: Queue Date, dtype: datetime64[ns, UTC]"
      ]
     },
     "execution_count": 27,
     "metadata": {},
     "output_type": "execute_result"
    }
   ],
   "source": [
    "queues.groupby(\"iso_id\")[\"Queue Date\"].max()"
   ]
  },
  {
   "cell_type": "markdown",
   "id": "d3d5a1ba-510b-4e2e-8c02-9a9cc7932e59",
   "metadata": {},
   "source": [
    "- When was the most recent queue in the NBLN dataset?\n",
    "- Read the ISO API docs to understand how often these update. Looks like they're all pretty current."
   ]
  },
  {
   "cell_type": "markdown",
   "id": "46654307-c104-4c84-af78-97521e8fceb8",
   "metadata": {},
   "source": [
    "## Duplicates"
   ]
  },
  {
   "cell_type": "code",
   "execution_count": 28,
   "id": "63c582ae-d321-459d-aadf-c339da64b434",
   "metadata": {},
   "outputs": [
    {
     "name": "stdout",
     "output_type": "stream",
     "text": [
      "iso_id\n",
      "caiso    1.000000\n",
      "ercot    1.000000\n",
      "isone    0.900846\n",
      "miso     0.999765\n",
      "nyiso    1.000000\n",
      "pjm      1.000000\n",
      "spp      1.000000\n",
      "Name: Queue ID, dtype: float64\n"
     ]
    }
   ],
   "source": [
    "iso_queue_id_group = queues.groupby(\"iso_id\")[\"Queue ID\"]\n",
    "\n",
    "print(iso_queue_id_group.nunique() / iso_queue_id_group.count())"
   ]
  },
  {
   "cell_type": "code",
   "execution_count": 29,
   "id": "59354303-1c16-4043-b238-f04a6eaa1e60",
   "metadata": {},
   "outputs": [
    {
     "data": {
      "text/plain": [
       "False    19669\n",
       "True       210\n",
       "dtype: int64"
      ]
     },
     "execution_count": 29,
     "metadata": {},
     "output_type": "execute_result"
    }
   ],
   "source": [
    "has_duplicates = queues[[\"iso_id\", \"Queue ID\"]].duplicated(keep=False)\n",
    "has_duplicates.value_counts()"
   ]
  },
  {
   "cell_type": "markdown",
   "id": "fc5cfb64-256f-4cb3-b57e-93337dbe4005",
   "metadata": {},
   "source": [
    "Surprisingly few duplicates! Should look potential projects that have different queues ids but similar project attributes."
   ]
  },
  {
   "cell_type": "code",
   "execution_count": 30,
   "id": "233c97db-bd60-4d21-9f2c-ff5d82c83cc3",
   "metadata": {},
   "outputs": [
    {
     "data": {
      "text/plain": [
       "<AxesSubplot: >"
      ]
     },
     "execution_count": 30,
     "metadata": {},
     "output_type": "execute_result"
    },
    {
     "data": {
      "image/png": "[encoded data removed]",
      "text/plain": [
       "<Figure size 640x480 with 1 Axes>"
      ]
     },
     "metadata": {},
     "output_type": "display_data"
    }
   ],
   "source": [
    "duplicate_projects = queues[has_duplicates]\n",
    "duplicate_projects[\"Queue Date\"].dt.year.value_counts().sort_index().plot.bar()"
   ]
  },
  {
   "cell_type": "code",
   "execution_count": 31,
   "id": "095d38be-b780-4564-8289-541ae6a5f1fe",
   "metadata": {},
   "outputs": [
    {
     "data": {
      "text/plain": [
       "<AxesSubplot: >"
      ]
     },
     "execution_count": 31,
     "metadata": {},
     "output_type": "execute_result"
    },
    {
     "data": {
      "image/png": "[encoded data removed]",
      "text/plain": [
       "<Figure size 640x480 with 1 Axes>"
      ]
     },
     "metadata": {},
     "output_type": "display_data"
    }
   ],
   "source": [
    "queues.query(\"iso_id == 'isone'\")[\"Queue Date\"].dt.year.value_counts().sort_index().plot.bar()"
   ]
  },
  {
   "cell_type": "code",
   "execution_count": 32,
   "id": "9d04a444-2a1b-4f64-aaf3-a40f1a055879",
   "metadata": {},
   "outputs": [
    {
     "data": {
      "text/plain": [
       "isone    208\n",
       "miso       2\n",
       "Name: iso_id, dtype: int64"
      ]
     },
     "execution_count": 32,
     "metadata": {},
     "output_type": "execute_result"
    }
   ],
   "source": [
    "duplicate_projects.iso_id.value_counts()"
   ]
  },
  {
   "cell_type": "markdown",
   "id": "21c873b1-1f3b-4ebe-9e64-213e89fc408b",
   "metadata": {},
   "source": [
    "It looks like ISONE is the trouble maker here. ISONE hasn't created a duplicate queue id since 2015 despite having hundreds of project in their queue since then. For the sake of time I'm going to assume they no longer produce duplicate queue ids."
   ]
  },
  {
   "cell_type": "code",
   "execution_count": 33,
   "id": "7a0ba61e-6277-4923-950e-a7686b34a9bc",
   "metadata": {},
   "outputs": [
    {
     "data": {
      "text/plain": [
       "Queue ID  iso_id\n",
       "73        isone     8\n",
       "33        isone     6\n",
       "272       isone     6\n",
       "84        isone     6\n",
       "161       isone     5\n",
       "                   ..\n",
       "254       isone     2\n",
       "255       isone     2\n",
       "257       isone     2\n",
       "259       isone     2\n",
       "J392      miso      2\n",
       "Length: 80, dtype: int64"
      ]
     },
     "execution_count": 33,
     "metadata": {},
     "output_type": "execute_result"
    }
   ],
   "source": [
    "duplicate_projects[[\"Queue ID\", \"iso_id\"]].value_counts()"
   ]
  },
  {
   "cell_type": "code",
   "execution_count": 34,
   "id": "beb7bbff-cd73-4740-b891-977e24a08290",
   "metadata": {},
   "outputs": [
    {
     "data": {
      "text/html": [
       "<div>\n",
       "<style scoped>\n",
       "    .dataframe tbody tr th:only-of-type {\n",
       "        vertical-align: middle;\n",
       "    }\n",
       "\n",
       "    .dataframe tbody tr th {\n",
       "        vertical-align: top;\n",
       "    }\n",
       "\n",
       "    .dataframe thead th {\n",
       "        text-align: right;\n",
       "    }\n",
       "</style>\n",
       "<table border=\"1\" class=\"dataframe\">\n",
       "  <thead>\n",
       "    <tr style=\"text-align: right;\">\n",
       "      <th></th>\n",
       "      <th>Actual Completion Date</th>\n",
       "      <th>Project Name</th>\n",
       "      <th>iso_id</th>\n",
       "      <th>Capacity (MW)</th>\n",
       "      <th>Queue Date</th>\n",
       "      <th>State</th>\n",
       "      <th>Queue ID</th>\n",
       "      <th>Transmission Owner</th>\n",
       "      <th>Winter Capacity (MW)</th>\n",
       "      <th>Interconnecting Entity</th>\n",
       "      <th>Proposed Completion Date</th>\n",
       "      <th>Summer Capacity (MW)</th>\n",
       "      <th>Status</th>\n",
       "      <th>Withdrawn Date</th>\n",
       "      <th>Withdrawal Comment</th>\n",
       "      <th>Generation Type</th>\n",
       "      <th>County</th>\n",
       "      <th>Interconnection Location</th>\n",
       "    </tr>\n",
       "  </thead>\n",
       "  <tbody>\n",
       "    <tr>\n",
       "      <th>79</th>\n",
       "      <td>None</td>\n",
       "      <td>Devon A</td>\n",
       "      <td>isone</td>\n",
       "      <td>NaN</td>\n",
       "      <td>2000-07-07 00:00:00+00:00</td>\n",
       "      <td>CT</td>\n",
       "      <td>73</td>\n",
       "      <td>NaN</td>\n",
       "      <td>NaN</td>\n",
       "      <td>None</td>\n",
       "      <td>NaT</td>\n",
       "      <td>NaN</td>\n",
       "      <td>withdrawn</td>\n",
       "      <td>NaT</td>\n",
       "      <td>None</td>\n",
       "      <td>&lt;NA&gt;</td>\n",
       "      <td>New Haven</td>\n",
       "      <td>Devon 115 kV Substation</td>\n",
       "    </tr>\n",
       "    <tr>\n",
       "      <th>80</th>\n",
       "      <td>None</td>\n",
       "      <td>Norwalk Harbor A</td>\n",
       "      <td>isone</td>\n",
       "      <td>NaN</td>\n",
       "      <td>2000-07-07 00:00:00+00:00</td>\n",
       "      <td>CT</td>\n",
       "      <td>73</td>\n",
       "      <td>NaN</td>\n",
       "      <td>NaN</td>\n",
       "      <td>None</td>\n",
       "      <td>NaT</td>\n",
       "      <td>NaN</td>\n",
       "      <td>withdrawn</td>\n",
       "      <td>NaT</td>\n",
       "      <td>None</td>\n",
       "      <td>&lt;NA&gt;</td>\n",
       "      <td>Fairfield</td>\n",
       "      <td>Norwalk 115 kV Station</td>\n",
       "    </tr>\n",
       "    <tr>\n",
       "      <th>81</th>\n",
       "      <td>None</td>\n",
       "      <td>Norwalk Harbor B</td>\n",
       "      <td>isone</td>\n",
       "      <td>NaN</td>\n",
       "      <td>2000-07-07 00:00:00+00:00</td>\n",
       "      <td>CT</td>\n",
       "      <td>73</td>\n",
       "      <td>NaN</td>\n",
       "      <td>NaN</td>\n",
       "      <td>None</td>\n",
       "      <td>NaT</td>\n",
       "      <td>NaN</td>\n",
       "      <td>withdrawn</td>\n",
       "      <td>NaT</td>\n",
       "      <td>None</td>\n",
       "      <td>&lt;NA&gt;</td>\n",
       "      <td>Fairfield</td>\n",
       "      <td>Norwalk 115 kV Station</td>\n",
       "    </tr>\n",
       "    <tr>\n",
       "      <th>82</th>\n",
       "      <td>None</td>\n",
       "      <td>Middletown A</td>\n",
       "      <td>isone</td>\n",
       "      <td>NaN</td>\n",
       "      <td>2000-07-07 00:00:00+00:00</td>\n",
       "      <td>CT</td>\n",
       "      <td>73</td>\n",
       "      <td>NaN</td>\n",
       "      <td>NaN</td>\n",
       "      <td>None</td>\n",
       "      <td>NaT</td>\n",
       "      <td>NaN</td>\n",
       "      <td>withdrawn</td>\n",
       "      <td>NaT</td>\n",
       "      <td>None</td>\n",
       "      <td>&lt;NA&gt;</td>\n",
       "      <td>Middlesex</td>\n",
       "      <td>Middletown Station</td>\n",
       "    </tr>\n",
       "    <tr>\n",
       "      <th>83</th>\n",
       "      <td>None</td>\n",
       "      <td>Montville A</td>\n",
       "      <td>isone</td>\n",
       "      <td>NaN</td>\n",
       "      <td>2000-07-07 00:00:00+00:00</td>\n",
       "      <td>CT</td>\n",
       "      <td>73</td>\n",
       "      <td>NaN</td>\n",
       "      <td>NaN</td>\n",
       "      <td>None</td>\n",
       "      <td>NaT</td>\n",
       "      <td>NaN</td>\n",
       "      <td>withdrawn</td>\n",
       "      <td>NaT</td>\n",
       "      <td>None</td>\n",
       "      <td>&lt;NA&gt;</td>\n",
       "      <td>New London</td>\n",
       "      <td>Montville Station</td>\n",
       "    </tr>\n",
       "    <tr>\n",
       "      <th>84</th>\n",
       "      <td>None</td>\n",
       "      <td>Somerset A</td>\n",
       "      <td>isone</td>\n",
       "      <td>NaN</td>\n",
       "      <td>2000-07-07 00:00:00+00:00</td>\n",
       "      <td>MA</td>\n",
       "      <td>73</td>\n",
       "      <td>NaN</td>\n",
       "      <td>NaN</td>\n",
       "      <td>None</td>\n",
       "      <td>NaT</td>\n",
       "      <td>NaN</td>\n",
       "      <td>withdrawn</td>\n",
       "      <td>NaT</td>\n",
       "      <td>None</td>\n",
       "      <td>&lt;NA&gt;</td>\n",
       "      <td>Bristol</td>\n",
       "      <td>Somerset 115 kV Station</td>\n",
       "    </tr>\n",
       "    <tr>\n",
       "      <th>85</th>\n",
       "      <td>None</td>\n",
       "      <td>Middletown B</td>\n",
       "      <td>isone</td>\n",
       "      <td>NaN</td>\n",
       "      <td>2000-07-07 00:00:00+00:00</td>\n",
       "      <td>CT</td>\n",
       "      <td>73</td>\n",
       "      <td>NaN</td>\n",
       "      <td>NaN</td>\n",
       "      <td>None</td>\n",
       "      <td>NaT</td>\n",
       "      <td>NaN</td>\n",
       "      <td>withdrawn</td>\n",
       "      <td>NaT</td>\n",
       "      <td>None</td>\n",
       "      <td>&lt;NA&gt;</td>\n",
       "      <td>Middlesex</td>\n",
       "      <td>Middletown Station</td>\n",
       "    </tr>\n",
       "    <tr>\n",
       "      <th>86</th>\n",
       "      <td>None</td>\n",
       "      <td>Somerset Diversity</td>\n",
       "      <td>isone</td>\n",
       "      <td>NaN</td>\n",
       "      <td>2000-07-07 00:00:00+00:00</td>\n",
       "      <td>MA</td>\n",
       "      <td>73</td>\n",
       "      <td>NaN</td>\n",
       "      <td>NaN</td>\n",
       "      <td>None</td>\n",
       "      <td>NaT</td>\n",
       "      <td>NaN</td>\n",
       "      <td>withdrawn</td>\n",
       "      <td>NaT</td>\n",
       "      <td>None</td>\n",
       "      <td>&lt;NA&gt;</td>\n",
       "      <td>Bristol</td>\n",
       "      <td>Somerset 115 kV Station</td>\n",
       "    </tr>\n",
       "  </tbody>\n",
       "</table>\n",
       "</div>"
      ],
      "text/plain": [
       "   Actual Completion Date        Project Name iso_id  Capacity (MW)  \\\n",
       "79                   None             Devon A  isone            NaN   \n",
       "80                   None    Norwalk Harbor A  isone            NaN   \n",
       "81                   None    Norwalk Harbor B  isone            NaN   \n",
       "82                   None        Middletown A  isone            NaN   \n",
       "83                   None         Montville A  isone            NaN   \n",
       "84                   None          Somerset A  isone            NaN   \n",
       "85                   None        Middletown B  isone            NaN   \n",
       "86                   None  Somerset Diversity  isone            NaN   \n",
       "\n",
       "                  Queue Date State Queue ID Transmission Owner  \\\n",
       "79 2000-07-07 00:00:00+00:00    CT       73                NaN   \n",
       "80 2000-07-07 00:00:00+00:00    CT       73                NaN   \n",
       "81 2000-07-07 00:00:00+00:00    CT       73                NaN   \n",
       "82 2000-07-07 00:00:00+00:00    CT       73                NaN   \n",
       "83 2000-07-07 00:00:00+00:00    CT       73                NaN   \n",
       "84 2000-07-07 00:00:00+00:00    MA       73                NaN   \n",
       "85 2000-07-07 00:00:00+00:00    CT       73                NaN   \n",
       "86 2000-07-07 00:00:00+00:00    MA       73                NaN   \n",
       "\n",
       "   Winter Capacity (MW) Interconnecting Entity Proposed Completion Date  \\\n",
       "79                  NaN                   None                      NaT   \n",
       "80                  NaN                   None                      NaT   \n",
       "81                  NaN                   None                      NaT   \n",
       "82                  NaN                   None                      NaT   \n",
       "83                  NaN                   None                      NaT   \n",
       "84                  NaN                   None                      NaT   \n",
       "85                  NaN                   None                      NaT   \n",
       "86                  NaN                   None                      NaT   \n",
       "\n",
       "   Summer Capacity (MW)     Status Withdrawn Date Withdrawal Comment  \\\n",
       "79                  NaN  withdrawn            NaT               None   \n",
       "80                  NaN  withdrawn            NaT               None   \n",
       "81                  NaN  withdrawn            NaT               None   \n",
       "82                  NaN  withdrawn            NaT               None   \n",
       "83                  NaN  withdrawn            NaT               None   \n",
       "84                  NaN  withdrawn            NaT               None   \n",
       "85                  NaN  withdrawn            NaT               None   \n",
       "86                  NaN  withdrawn            NaT               None   \n",
       "\n",
       "   Generation Type      County Interconnection Location  \n",
       "79            <NA>   New Haven  Devon 115 kV Substation  \n",
       "80            <NA>   Fairfield   Norwalk 115 kV Station  \n",
       "81            <NA>   Fairfield   Norwalk 115 kV Station  \n",
       "82            <NA>   Middlesex      Middletown Station   \n",
       "83            <NA>  New London        Montville Station  \n",
       "84            <NA>     Bristol  Somerset 115 kV Station  \n",
       "85            <NA>   Middlesex       Middletown Station  \n",
       "86            <NA>     Bristol  Somerset 115 kV Station  "
      ]
     },
     "execution_count": 34,
     "metadata": {},
     "output_type": "execute_result"
    }
   ],
   "source": [
    "iso_id = \"isone\"\n",
    "queue_id = 73\n",
    "duplicate_projects.query(\"iso_id == @iso_id & `Queue ID` == @queue_id\")"
   ]
  },
  {
   "cell_type": "markdown",
   "id": "7f3862b1-8f1e-46f6-8c03-0d6d6432b309",
   "metadata": {},
   "source": [
    "## Are there duplicates with different Queue IDs?"
   ]
  },
  {
   "cell_type": "code",
   "execution_count": 35,
   "id": "24f2a424-987d-4b6f-8288-9acbcd3991c3",
   "metadata": {},
   "outputs": [],
   "source": [
    "caiso_queue = queues.query(\"iso_id == 'caiso'\")"
   ]
  },
  {
   "cell_type": "code",
   "execution_count": 36,
   "id": "703bd092-2076-4e82-b240-189fe664baba",
   "metadata": {},
   "outputs": [
    {
     "data": {
      "text/plain": [
       "False    11316\n",
       "True      8563\n",
       "dtype: int64"
      ]
     },
     "execution_count": 36,
     "metadata": {},
     "output_type": "execute_result"
    }
   ],
   "source": [
    "# identity_columns = [\"State\", \"County\", \"Queue Date\", \"Capacity (MW)\", \"Project Name\"]\n",
    "identity_columns = [\"State\", \"County\", \"Project Name\"]\n",
    "potential_dups = queues.duplicated(subset=identity_columns, keep=False)\n",
    "potential_dups.value_counts()"
   ]
  },
  {
   "cell_type": "code",
   "execution_count": 37,
   "id": "bf48253a-cece-4eb3-b730-0994fdcf25e0",
   "metadata": {},
   "outputs": [
    {
     "data": {
      "text/html": [
       "<div>\n",
       "<style scoped>\n",
       "    .dataframe tbody tr th:only-of-type {\n",
       "        vertical-align: middle;\n",
       "    }\n",
       "\n",
       "    .dataframe tbody tr th {\n",
       "        vertical-align: top;\n",
       "    }\n",
       "\n",
       "    .dataframe thead th {\n",
       "        text-align: right;\n",
       "    }\n",
       "</style>\n",
       "<table border=\"1\" class=\"dataframe\">\n",
       "  <thead>\n",
       "    <tr style=\"text-align: right;\">\n",
       "      <th></th>\n",
       "      <th>Actual Completion Date</th>\n",
       "      <th>Project Name</th>\n",
       "      <th>iso_id</th>\n",
       "      <th>Capacity (MW)</th>\n",
       "      <th>Queue Date</th>\n",
       "      <th>State</th>\n",
       "      <th>Queue ID</th>\n",
       "      <th>Transmission Owner</th>\n",
       "      <th>Winter Capacity (MW)</th>\n",
       "      <th>Interconnecting Entity</th>\n",
       "      <th>Proposed Completion Date</th>\n",
       "      <th>Summer Capacity (MW)</th>\n",
       "      <th>Status</th>\n",
       "      <th>Withdrawn Date</th>\n",
       "      <th>Withdrawal Comment</th>\n",
       "      <th>Generation Type</th>\n",
       "      <th>County</th>\n",
       "      <th>Interconnection Location</th>\n",
       "    </tr>\n",
       "  </thead>\n",
       "  <tbody>\n",
       "    <tr>\n",
       "      <th>310</th>\n",
       "      <td>NaT</td>\n",
       "      <td>ALLIUM</td>\n",
       "      <td>caiso</td>\n",
       "      <td>110.0</td>\n",
       "      <td>2021-04-15 07:00:00+00:00</td>\n",
       "      <td>CA</td>\n",
       "      <td>1921</td>\n",
       "      <td>PGAE</td>\n",
       "      <td>None</td>\n",
       "      <td>None</td>\n",
       "      <td>2025-06-01 07:00:00</td>\n",
       "      <td>None</td>\n",
       "      <td>active</td>\n",
       "      <td>NaT</td>\n",
       "      <td>NaN</td>\n",
       "      <td>Storage + Photovoltaic</td>\n",
       "      <td>SAN BENITO</td>\n",
       "      <td>Crazy Horse Canyon - Hollister 115 lV</td>\n",
       "    </tr>\n",
       "    <tr>\n",
       "      <th>2057</th>\n",
       "      <td>NaT</td>\n",
       "      <td>ALLIUM</td>\n",
       "      <td>caiso</td>\n",
       "      <td>110.0</td>\n",
       "      <td>2020-04-15 07:00:00+00:00</td>\n",
       "      <td>CA</td>\n",
       "      <td>1711</td>\n",
       "      <td>PGAE</td>\n",
       "      <td>None</td>\n",
       "      <td>None</td>\n",
       "      <td>2023-12-01 08:00:00</td>\n",
       "      <td>None</td>\n",
       "      <td>withdrawn</td>\n",
       "      <td>2021-04-14 07:00:00</td>\n",
       "      <td>IC Request</td>\n",
       "      <td>Photovoltaic + Storage</td>\n",
       "      <td>SAN BENITO</td>\n",
       "      <td>Hollister Substation 115kV</td>\n",
       "    </tr>\n",
       "    <tr>\n",
       "      <th>2520</th>\n",
       "      <td>NaN</td>\n",
       "      <td>ALTE-PJM</td>\n",
       "      <td>pjm</td>\n",
       "      <td>156.0</td>\n",
       "      <td>2011-12-29 00:00:00+00:00</td>\n",
       "      <td>&lt;NA&gt;</td>\n",
       "      <td>X4-029C 3396292</td>\n",
       "      <td>NaN</td>\n",
       "      <td>NaN</td>\n",
       "      <td>None</td>\n",
       "      <td>NaN</td>\n",
       "      <td>NaN</td>\n",
       "      <td>retracted</td>\n",
       "      <td>NaN</td>\n",
       "      <td>NaN</td>\n",
       "      <td>&lt;NA&gt;</td>\n",
       "      <td>&lt;NA&gt;</td>\n",
       "      <td>None</td>\n",
       "    </tr>\n",
       "    <tr>\n",
       "      <th>2521</th>\n",
       "      <td>NaN</td>\n",
       "      <td>ALTE-PJM</td>\n",
       "      <td>pjm</td>\n",
       "      <td>156.0</td>\n",
       "      <td>2011-12-29 00:00:00+00:00</td>\n",
       "      <td>&lt;NA&gt;</td>\n",
       "      <td>X4-029D 3396293</td>\n",
       "      <td>NaN</td>\n",
       "      <td>NaN</td>\n",
       "      <td>None</td>\n",
       "      <td>NaN</td>\n",
       "      <td>NaN</td>\n",
       "      <td>confirmed</td>\n",
       "      <td>NaN</td>\n",
       "      <td>NaN</td>\n",
       "      <td>&lt;NA&gt;</td>\n",
       "      <td>&lt;NA&gt;</td>\n",
       "      <td>None</td>\n",
       "    </tr>\n",
       "    <tr>\n",
       "      <th>2582</th>\n",
       "      <td>NaN</td>\n",
       "      <td>ALTE-PJM</td>\n",
       "      <td>pjm</td>\n",
       "      <td>156.0</td>\n",
       "      <td>2012-03-27 00:00:00+00:00</td>\n",
       "      <td>&lt;NA&gt;</td>\n",
       "      <td>Y1-041 4019603</td>\n",
       "      <td>NaN</td>\n",
       "      <td>NaN</td>\n",
       "      <td>None</td>\n",
       "      <td>NaN</td>\n",
       "      <td>NaN</td>\n",
       "      <td>confirmed</td>\n",
       "      <td>NaN</td>\n",
       "      <td>NaN</td>\n",
       "      <td>&lt;NA&gt;</td>\n",
       "      <td>&lt;NA&gt;</td>\n",
       "      <td>None</td>\n",
       "    </tr>\n",
       "    <tr>\n",
       "      <th>...</th>\n",
       "      <td>...</td>\n",
       "      <td>...</td>\n",
       "      <td>...</td>\n",
       "      <td>...</td>\n",
       "      <td>...</td>\n",
       "      <td>...</td>\n",
       "      <td>...</td>\n",
       "      <td>...</td>\n",
       "      <td>...</td>\n",
       "      <td>...</td>\n",
       "      <td>...</td>\n",
       "      <td>...</td>\n",
       "      <td>...</td>\n",
       "      <td>...</td>\n",
       "      <td>...</td>\n",
       "      <td>...</td>\n",
       "      <td>...</td>\n",
       "      <td>...</td>\n",
       "    </tr>\n",
       "    <tr>\n",
       "      <th>783</th>\n",
       "      <td>None</td>\n",
       "      <td>None</td>\n",
       "      <td>spp</td>\n",
       "      <td>99.0</td>\n",
       "      <td>2003-06-05 00:00:00+00:00</td>\n",
       "      <td>OK</td>\n",
       "      <td>GEN-2003-005</td>\n",
       "      <td>WFEC</td>\n",
       "      <td>99.0</td>\n",
       "      <td>None</td>\n",
       "      <td>NaN</td>\n",
       "      <td>99.0</td>\n",
       "      <td>completed</td>\n",
       "      <td>None</td>\n",
       "      <td>None</td>\n",
       "      <td>Wind</td>\n",
       "      <td>Apache</td>\n",
       "      <td>Anadarko - Paradise (Blue Canyon) 138kV</td>\n",
       "    </tr>\n",
       "    <tr>\n",
       "      <th>784</th>\n",
       "      <td>None</td>\n",
       "      <td>None</td>\n",
       "      <td>spp</td>\n",
       "      <td>100.0</td>\n",
       "      <td>2003-06-05 00:00:00+00:00</td>\n",
       "      <td>OK</td>\n",
       "      <td>GEN-2003-004</td>\n",
       "      <td>WFEC</td>\n",
       "      <td>100.0</td>\n",
       "      <td>None</td>\n",
       "      <td>12/15/2005</td>\n",
       "      <td>100.0</td>\n",
       "      <td>completed</td>\n",
       "      <td>None</td>\n",
       "      <td>None</td>\n",
       "      <td>Wind</td>\n",
       "      <td>Apache</td>\n",
       "      <td>Washita 138kV</td>\n",
       "    </tr>\n",
       "    <tr>\n",
       "      <th>788</th>\n",
       "      <td>None</td>\n",
       "      <td>None</td>\n",
       "      <td>spp</td>\n",
       "      <td>67.2</td>\n",
       "      <td>2002-07-19 00:00:00+00:00</td>\n",
       "      <td>TX</td>\n",
       "      <td>GEN-2002-009</td>\n",
       "      <td>SPS</td>\n",
       "      <td>67.2</td>\n",
       "      <td>None</td>\n",
       "      <td>9/30/2006</td>\n",
       "      <td>67.2</td>\n",
       "      <td>completed</td>\n",
       "      <td>None</td>\n",
       "      <td>None</td>\n",
       "      <td>Wind</td>\n",
       "      <td>Hansford County</td>\n",
       "      <td>Hansford 115kV</td>\n",
       "    </tr>\n",
       "    <tr>\n",
       "      <th>789</th>\n",
       "      <td>None</td>\n",
       "      <td>None</td>\n",
       "      <td>spp</td>\n",
       "      <td>240.0</td>\n",
       "      <td>2002-07-19 00:00:00+00:00</td>\n",
       "      <td>TX</td>\n",
       "      <td>GEN-2002-008</td>\n",
       "      <td>SPS</td>\n",
       "      <td>240.0</td>\n",
       "      <td>None</td>\n",
       "      <td>12/30/2008</td>\n",
       "      <td>240.0</td>\n",
       "      <td>completed</td>\n",
       "      <td>None</td>\n",
       "      <td>None</td>\n",
       "      <td>Wind</td>\n",
       "      <td>Hansford County</td>\n",
       "      <td>Hitchland 345kV</td>\n",
       "    </tr>\n",
       "    <tr>\n",
       "      <th>796</th>\n",
       "      <td>None</td>\n",
       "      <td>None</td>\n",
       "      <td>spp</td>\n",
       "      <td>102.0</td>\n",
       "      <td>2001-10-18 00:00:00+00:00</td>\n",
       "      <td>OK</td>\n",
       "      <td>GEN-2001-037</td>\n",
       "      <td>OGE</td>\n",
       "      <td>102.0</td>\n",
       "      <td>None</td>\n",
       "      <td>11/12/2003</td>\n",
       "      <td>102.0</td>\n",
       "      <td>completed</td>\n",
       "      <td>None</td>\n",
       "      <td>None</td>\n",
       "      <td>Wind</td>\n",
       "      <td>Woodward</td>\n",
       "      <td>FPL Moreland Tap 138kV</td>\n",
       "    </tr>\n",
       "  </tbody>\n",
       "</table>\n",
       "<p>8563 rows × 18 columns</p>\n",
       "</div>"
      ],
      "text/plain": [
       "     Actual Completion Date Project Name iso_id  Capacity (MW)  \\\n",
       "310                     NaT       ALLIUM  caiso          110.0   \n",
       "2057                    NaT       ALLIUM  caiso          110.0   \n",
       "2520                    NaN     ALTE-PJM    pjm          156.0   \n",
       "2521                    NaN     ALTE-PJM    pjm          156.0   \n",
       "2582                    NaN     ALTE-PJM    pjm          156.0   \n",
       "...                     ...          ...    ...            ...   \n",
       "783                    None         None    spp           99.0   \n",
       "784                    None         None    spp          100.0   \n",
       "788                    None         None    spp           67.2   \n",
       "789                    None         None    spp          240.0   \n",
       "796                    None         None    spp          102.0   \n",
       "\n",
       "                    Queue Date State         Queue ID Transmission Owner  \\\n",
       "310  2021-04-15 07:00:00+00:00    CA             1921               PGAE   \n",
       "2057 2020-04-15 07:00:00+00:00    CA             1711               PGAE   \n",
       "2520 2011-12-29 00:00:00+00:00  <NA>  X4-029C 3396292                NaN   \n",
       "2521 2011-12-29 00:00:00+00:00  <NA>  X4-029D 3396293                NaN   \n",
       "2582 2012-03-27 00:00:00+00:00  <NA>   Y1-041 4019603                NaN   \n",
       "...                        ...   ...              ...                ...   \n",
       "783  2003-06-05 00:00:00+00:00    OK     GEN-2003-005               WFEC   \n",
       "784  2003-06-05 00:00:00+00:00    OK     GEN-2003-004               WFEC   \n",
       "788  2002-07-19 00:00:00+00:00    TX     GEN-2002-009                SPS   \n",
       "789  2002-07-19 00:00:00+00:00    TX     GEN-2002-008                SPS   \n",
       "796  2001-10-18 00:00:00+00:00    OK     GEN-2001-037                OGE   \n",
       "\n",
       "     Winter Capacity (MW) Interconnecting Entity Proposed Completion Date  \\\n",
       "310                  None                   None      2025-06-01 07:00:00   \n",
       "2057                 None                   None      2023-12-01 08:00:00   \n",
       "2520                  NaN                   None                      NaN   \n",
       "2521                  NaN                   None                      NaN   \n",
       "2582                  NaN                   None                      NaN   \n",
       "...                   ...                    ...                      ...   \n",
       "783                  99.0                   None                      NaN   \n",
       "784                 100.0                   None               12/15/2005   \n",
       "788                  67.2                   None                9/30/2006   \n",
       "789                 240.0                   None               12/30/2008   \n",
       "796                 102.0                   None               11/12/2003   \n",
       "\n",
       "     Summer Capacity (MW)     Status       Withdrawn Date Withdrawal Comment  \\\n",
       "310                  None     active                  NaT                NaN   \n",
       "2057                 None  withdrawn  2021-04-14 07:00:00         IC Request   \n",
       "2520                  NaN  retracted                  NaN                NaN   \n",
       "2521                  NaN  confirmed                  NaN                NaN   \n",
       "2582                  NaN  confirmed                  NaN                NaN   \n",
       "...                   ...        ...                  ...                ...   \n",
       "783                  99.0  completed                 None               None   \n",
       "784                 100.0  completed                 None               None   \n",
       "788                  67.2  completed                 None               None   \n",
       "789                 240.0  completed                 None               None   \n",
       "796                 102.0  completed                 None               None   \n",
       "\n",
       "             Generation Type           County  \\\n",
       "310   Storage + Photovoltaic       SAN BENITO   \n",
       "2057  Photovoltaic + Storage       SAN BENITO   \n",
       "2520                    <NA>             <NA>   \n",
       "2521                    <NA>             <NA>   \n",
       "2582                    <NA>             <NA>   \n",
       "...                      ...              ...   \n",
       "783                     Wind           Apache   \n",
       "784                     Wind           Apache   \n",
       "788                     Wind  Hansford County   \n",
       "789                     Wind  Hansford County   \n",
       "796                     Wind         Woodward   \n",
       "\n",
       "                     Interconnection Location  \n",
       "310     Crazy Horse Canyon - Hollister 115 lV  \n",
       "2057               Hollister Substation 115kV  \n",
       "2520                                     None  \n",
       "2521                                     None  \n",
       "2582                                     None  \n",
       "...                                       ...  \n",
       "783   Anadarko - Paradise (Blue Canyon) 138kV  \n",
       "784                             Washita 138kV  \n",
       "788                            Hansford 115kV  \n",
       "789                           Hitchland 345kV  \n",
       "796                    FPL Moreland Tap 138kV  \n",
       "\n",
       "[8563 rows x 18 columns]"
      ]
     },
     "execution_count": 37,
     "metadata": {},
     "output_type": "execute_result"
    }
   ],
   "source": [
    "queues[potential_dups].sort_values(by=\"Project Name\")"
   ]
  },
  {
   "cell_type": "code",
   "execution_count": 38,
   "id": "c41de6f3-6459-4ad0-a3e6-4146b880bffd",
   "metadata": {},
   "outputs": [
    {
     "data": {
      "text/plain": [
       "iso_id\n",
       "caiso    2275\n",
       "ercot    1083\n",
       "isone    1301\n",
       "miso        0\n",
       "nyiso    1469\n",
       "pjm      8471\n",
       "spp         0\n",
       "Name: Project Name, dtype: int64"
      ]
     },
     "execution_count": 38,
     "metadata": {},
     "output_type": "execute_result"
    }
   ],
   "source": [
    "queues.groupby(\"iso_id\", dropna=False)[\"Project Name\"].count()"
   ]
  },
  {
   "cell_type": "code",
   "execution_count": 39,
   "id": "f3eb9a4b-90e5-434d-aace-c3c3fbba2055",
   "metadata": {},
   "outputs": [
    {
     "data": {
      "text/plain": [
       "{'miso': gridstatus.miso.MISO,\n",
       " 'caiso': gridstatus.caiso.CAISO,\n",
       " 'pjm': gridstatus.pjm.PJM,\n",
       " 'ercot': gridstatus.ercot.Ercot,\n",
       " 'spp': gridstatus.spp.SPP,\n",
       " 'nyiso': gridstatus.nyiso.NYISO,\n",
       " 'isone': gridstatus.isone.ISONE}"
      ]
     },
     "execution_count": 39,
     "metadata": {},
     "output_type": "execute_result"
    }
   ],
   "source": [
    "iso_classes"
   ]
  },
  {
   "cell_type": "markdown",
   "id": "5ad38ba6-1042-4bac-9d0c-fdb9cee60c6e",
   "metadata": {},
   "source": [
    "## Sources\n",
    "- NYISO: Excel sheet that [updated monthly](https://www.nyiso.com/interconnections).\n",
    "- MISO: API\n",
    "- PJM: Reads from an excel file.  Most recent project was 2022-12-20\n",
    "- CAISO: Reads from an [excel file](http://www.caiso.com/planning/Pages/GeneratorInterconnection/Default.aspx). Not clear how often it is updated. Most recent projects was 2023-01-04\n",
    "- ERCOT: Reads from an excel file that is [updated monthly](https://www.ercot.com/mp/data-products/data-product-details?id=PG7-200-ER).\n",
    "- ISONE: Reads from an excel file that is [updated daily](https://irtt.iso-ne.com/reports/external). Some [important notes](https://www.iso-ne.com/system-planning/interconnection-service/interconnection-request-queue/) about working with the data.\n",
    "- SPP: CSV [updated daily](https://opsportal.spp.org/Studies/GIActive). [Information page](https://www.spp.org/engineering/generator-interconnection/)"
   ]
  },
  {
   "cell_type": "markdown",
   "id": "0eb3b85a-12a4-4434-a7dc-8b4eb5d1a530",
   "metadata": {},
   "source": [
    "# Compare to LBNL"
   ]
  },
  {
   "cell_type": "code",
   "execution_count": 40,
   "id": "b9adc512-ee11-4b33-b980-e8d702b8d701",
   "metadata": {},
   "outputs": [
    {
     "name": "stderr",
     "output_type": "stream",
     "text": [
      "/app/.local/lib/python3.9/site-packages/geopandas/_compat.py:111: UserWarning: The Shapely GEOS version (3.11.1-CAPI-1.17.1) is incompatible with the GEOS version PyGEOS was compiled with (3.10.1-CAPI-1.16.0). Conversions between both will be slow.\n",
      "  warnings.warn(\n"
     ]
    }
   ],
   "source": [
    "from dbcp.helpers import get_sql_engine\n",
    "\n",
    "engine = get_sql_engine()"
   ]
  },
  {
   "cell_type": "code",
   "execution_count": 106,
   "id": "579b9bc5-7970-41f9-829d-a559c73a9d15",
   "metadata": {},
   "outputs": [],
   "source": [
    "with engine.connect() as con:\n",
    "    iso_projects_2021 = pd.read_sql_table(\"iso_projects_wide_format\", con, schema=\"data_mart\")"
   ]
  },
  {
   "cell_type": "code",
   "execution_count": 107,
   "id": "49e87230-835c-4841-8c4a-3a7069586f3d",
   "metadata": {},
   "outputs": [
    {
     "name": "stdout",
     "output_type": "stream",
     "text": [
      "<class 'pandas.core.frame.DataFrame'>\n",
      "RangeIndex: 7630 entries, 0 to 7629\n",
      "Data columns (total 30 columns):\n",
      " #   Column                             Non-Null Count  Dtype         \n",
      "---  ------                             --------------  -----         \n",
      " 0   project_id                         7630 non-null   int64         \n",
      " 1   project_name                       2298 non-null   object        \n",
      " 2   iso_region                         7630 non-null   object        \n",
      " 3   entity                             7630 non-null   object        \n",
      " 4   utility                            6332 non-null   object        \n",
      " 5   developer                          1087 non-null   object        \n",
      " 6   state                              7441 non-null   object        \n",
      " 7   county                             7424 non-null   object        \n",
      " 8   state_id_fips                      7441 non-null   object        \n",
      " 9   county_id_fips                     7424 non-null   object        \n",
      " 10  resource_class                     7585 non-null   object        \n",
      " 11  is_hybrid                          7630 non-null   bool          \n",
      " 12  generation_type_1                  6145 non-null   object        \n",
      " 13  generation_capacity_mw_1           6005 non-null   float64       \n",
      " 14  generation_type_2                  37 non-null     object        \n",
      " 15  generation_capacity_mw_2           25 non-null     float64       \n",
      " 16  storage_type                       2181 non-null   object        \n",
      " 17  storage_capacity_mw                2083 non-null   float64       \n",
      " 18  co2e_tonnes_per_year               7630 non-null   float64       \n",
      " 19  date_entered_queue                 7628 non-null   datetime64[ns]\n",
      " 20  date_proposed_online               6449 non-null   datetime64[ns]\n",
      " 21  interconnection_status             7630 non-null   object        \n",
      " 22  point_of_interconnection           7582 non-null   object        \n",
      " 23  queue_status                       7630 non-null   object        \n",
      " 24  has_ordinance                      7630 non-null   bool          \n",
      " 25  ordinance_jurisdiction_name        735 non-null    object        \n",
      " 26  ordinance_jurisdiction_type        735 non-null    object        \n",
      " 27  ordinance_earliest_year_mentioned  649 non-null    float64       \n",
      " 28  ordinance                          735 non-null    object        \n",
      " 29  state_permitting_type              7345 non-null   object        \n",
      "dtypes: bool(2), datetime64[ns](2), float64(5), int64(1), object(20)\n",
      "memory usage: 1.6+ MB\n"
     ]
    }
   ],
   "source": [
    "iso_projects_2021.info()"
   ]
  },
  {
   "cell_type": "code",
   "execution_count": 109,
   "id": "793f192c-8b22-4044-9385-1ea29c8cdebb",
   "metadata": {},
   "outputs": [
    {
     "data": {
      "text/plain": [
       "PJM                    2577\n",
       "West (non-ISO)         1080\n",
       "MISO                    927\n",
       "ERCOT                   647\n",
       "Southeast (non-ISO)     606\n",
       "CAISO                   593\n",
       "SPP                     520\n",
       "NYISO                   374\n",
       "ISO-NE                  306\n",
       "Name: iso_region, dtype: int64"
      ]
     },
     "execution_count": 109,
     "metadata": {},
     "output_type": "execute_result"
    }
   ],
   "source": [
    "iso_projects_2021.iso_region.value_counts()"
   ]
  },
  {
   "cell_type": "code",
   "execution_count": 111,
   "id": "285add3f-047b-40f4-a60c-4a2774f438c8",
   "metadata": {},
   "outputs": [
    {
     "data": {
      "text/plain": [
       "<AxesSubplot: >"
      ]
     },
     "execution_count": 111,
     "metadata": {},
     "output_type": "execute_result"
    },
    {
     "data": {
      "image/png": "[encoded data removed]",
      "text/plain": [
       "<Figure size 640x480 with 1 Axes>"
      ]
     },
     "metadata": {},
     "output_type": "display_data"
    }
   ],
   "source": [
    "iso_projects_2021.date_entered_queue.dt.year.value_counts().sort_index().plot.bar()"
   ]
  },
  {
   "cell_type": "markdown",
   "id": "9f1ef34e-8e8e-464f-bf51-b52add004648",
   "metadata": {},
   "source": [
    "These are Active project through the end of 2021 in ISOs plus some non ISO utilities. To compare these two datasets we need to:\n",
    "- Filter gridstatus to just active projects. Status is not a harmonized column so we may need to filter on multiple values\n",
    "- Find all withrawn or complete projects that entered the queue prior to the end of 2021 but have a withdrawn data in 2022 and set the status to active.\n",
    "- Filter lbnl to just ISOs"
   ]
  },
  {
   "cell_type": "markdown",
   "id": "e961faae-90c6-4935-854a-a4951f8c2b6b",
   "metadata": {},
   "source": [
    "## Filter LBNL\n"
   ]
  },
  {
   "cell_type": "code",
   "execution_count": 112,
   "id": "fe370be7-cf5c-41f5-af76-d7f54e654a9b",
   "metadata": {},
   "outputs": [
    {
     "data": {
      "text/plain": [
       "PJM       2577\n",
       "MISO       927\n",
       "ERCOT      647\n",
       "CAISO      593\n",
       "SPP        520\n",
       "NYISO      374\n",
       "ISO-NE     306\n",
       "Name: iso_region, dtype: int64"
      ]
     },
     "execution_count": 112,
     "metadata": {},
     "output_type": "execute_result"
    }
   ],
   "source": [
    "isos = [\"PJM\",\n",
    "\"MISO\",\n",
    "\"ERCOT\",\n",
    "\"CAISO\",\n",
    "\"SPP\",\n",
    "\"NYISO\",\n",
    "\"ISO-NE\",]\n",
    "\n",
    "lbnl_iso_projects = iso_projects_2021[iso_projects_2021.iso_region.isin(isos)].copy()\n",
    "lbnl_iso_projects.iso_region.value_counts()"
   ]
  },
  {
   "cell_type": "markdown",
   "id": "a355948f-f361-4a26-8aef-fcfcadf8edab",
   "metadata": {},
   "source": [
    "## Filter gridstatus"
   ]
  },
  {
   "cell_type": "code",
   "execution_count": 64,
   "id": "93cb3861-84c5-46a6-9840-d18557213afd",
   "metadata": {},
   "outputs": [
    {
     "data": {
      "text/plain": [
       "withdrawn                                    9077\n",
       "active                                       7071\n",
       "in service                                   1032\n",
       "completed                                     960\n",
       "done                                          775\n",
       "engineering and procurement                   326\n",
       "confirmed                                     223\n",
       "retracted                                     131\n",
       "suspended                                      77\n",
       "deactivated                                    57\n",
       "partially in service - under construction      56\n",
       "under construction                             52\n",
       "annulled                                       24\n",
       "withdrawn - pending cure                        3\n",
       "                                                1\n",
       "Name: Status, dtype: int64"
      ]
     },
     "execution_count": 64,
     "metadata": {},
     "output_type": "execute_result"
    }
   ],
   "source": [
    "queues[\"Status\"].value_counts()"
   ]
  },
  {
   "cell_type": "code",
   "execution_count": 75,
   "id": "fa4a6754-e65c-4e01-9282-ae9f324bdb30",
   "metadata": {},
   "outputs": [],
   "source": [
    "queues[\"Withdrawn Date\"] = pd.to_datetime(queues[\"Withdrawn Date\"], utc=True, errors=\"coerce\")"
   ]
  },
  {
   "cell_type": "code",
   "execution_count": 78,
   "id": "d364e963-a4e7-4435-ac10-34d7db42fcb8",
   "metadata": {},
   "outputs": [
    {
     "data": {
      "text/plain": [
       "False    19479\n",
       "True       400\n",
       "dtype: int64"
      ]
     },
     "execution_count": 78,
     "metadata": {},
     "output_type": "execute_result"
    }
   ],
   "source": [
    "formerly_active_projects = (queues[\"Withdrawn Date\"].dt.year > 2021) & (queues[\"Queue Date\"].dt.year < 2022)\n",
    "\n",
    "formerly_active_projects.value_counts()"
   ]
  },
  {
   "cell_type": "code",
   "execution_count": 82,
   "id": "658f5c8e-282d-4110-bc43-0f34d178431f",
   "metadata": {},
   "outputs": [
    {
     "data": {
      "text/plain": [
       "withdrawn    361\n",
       "active        37\n",
       "done           2\n",
       "Name: Status, dtype: int64"
      ]
     },
     "execution_count": 82,
     "metadata": {},
     "output_type": "execute_result"
    }
   ],
   "source": [
    "queues[formerly_active_projects][\"Status\"].value_counts()"
   ]
  },
  {
   "cell_type": "markdown",
   "id": "f79f996d-e623-4880-a388-c0ba3abf920a",
   "metadata": {},
   "source": [
    "Not sure why some active projects have a withdraw date. Most with a withdrawn date are are actually withdrawn so I will continue to set them active for this comparison."
   ]
  },
  {
   "cell_type": "code",
   "execution_count": 84,
   "id": "291d8e88-a874-4e1f-8a52-c2a28f63a248",
   "metadata": {},
   "outputs": [],
   "source": [
    "queues[\"lbnl_status\"] = queues[\"Status\"]"
   ]
  },
  {
   "cell_type": "code",
   "execution_count": 97,
   "id": "5b5b9dfb-85a5-4265-8bbb-e31aa1ab4568",
   "metadata": {},
   "outputs": [],
   "source": [
    "queues[\"lbnl_status\"] = queues[\"Status\"].mask(formerly_active_projects, \"active\")\n",
    "\n",
    "# Make sure the mask worked as expected. 37 is the number of active projects that have a withdrawn date\n",
    "assert len(queues.query(\"Status == 'active'\")) + formerly_active_projects.sum() - 37 == len(queues.query(\"lbnl_status == 'active'\"))"
   ]
  },
  {
   "cell_type": "code",
   "execution_count": 98,
   "id": "03b3c69f-83ec-4e5f-ac9b-e89f4c448553",
   "metadata": {},
   "outputs": [
    {
     "data": {
      "text/plain": [
       "withdrawn                                    9077\n",
       "active                                       7071\n",
       "in service                                   1032\n",
       "completed                                     960\n",
       "done                                          775\n",
       "engineering and procurement                   326\n",
       "confirmed                                     223\n",
       "retracted                                     131\n",
       "suspended                                      77\n",
       "deactivated                                    57\n",
       "partially in service - under construction      56\n",
       "under construction                             52\n",
       "annulled                                       24\n",
       "withdrawn - pending cure                        3\n",
       "                                                1\n",
       "Name: Status, dtype: int64"
      ]
     },
     "execution_count": 98,
     "metadata": {},
     "output_type": "execute_result"
    }
   ],
   "source": [
    "queues[\"Status\"].value_counts()"
   ]
  },
  {
   "cell_type": "code",
   "execution_count": 99,
   "id": "f342c3d1-426d-4e7a-9c2d-e0cb420e2091",
   "metadata": {},
   "outputs": [
    {
     "data": {
      "text/plain": [
       "withdrawn                                    8716\n",
       "active                                       7434\n",
       "in service                                   1032\n",
       "completed                                     960\n",
       "done                                          773\n",
       "engineering and procurement                   326\n",
       "confirmed                                     223\n",
       "retracted                                     131\n",
       "suspended                                      77\n",
       "deactivated                                    57\n",
       "partially in service - under construction      56\n",
       "under construction                             52\n",
       "annulled                                       24\n",
       "withdrawn - pending cure                        3\n",
       "                                                1\n",
       "Name: lbnl_status, dtype: int64"
      ]
     },
     "execution_count": 99,
     "metadata": {},
     "output_type": "execute_result"
    }
   ],
   "source": [
    "queues.lbnl_status.value_counts()"
   ]
  },
  {
   "cell_type": "code",
   "execution_count": 100,
   "id": "868783ff-bd58-46e6-ad2f-8549b7c7d033",
   "metadata": {},
   "outputs": [
    {
     "data": {
      "text/plain": [
       "active    7434\n",
       "Name: lbnl_status, dtype: int64"
      ]
     },
     "execution_count": 100,
     "metadata": {},
     "output_type": "execute_result"
    }
   ],
   "source": [
    "gridstatus_iso_projects = queues.query(\"lbnl_status == 'active'\").copy()\n",
    "gridstatus_iso_projects.lbnl_status.value_counts()"
   ]
  },
  {
   "cell_type": "markdown",
   "id": "1c363847-a60c-42be-b96e-7072b717eed5",
   "metadata": {},
   "source": [
    "## Compare!\n",
    "- Number of projects, by year, by region\n",
    "- Capcity by year, and region"
   ]
  },
  {
   "cell_type": "code",
   "execution_count": 134,
   "id": "878c7186-3259-49fa-969f-66652efa6884",
   "metadata": {},
   "outputs": [
    {
     "name": "stdout",
     "output_type": "stream",
     "text": [
      "pjm      2827\n",
      "miso     1661\n",
      "ercot     775\n",
      "caiso     599\n",
      "nyiso     561\n",
      "isone     549\n",
      "spp       462\n",
      "Name: iso_id, dtype: int64\n",
      "\n",
      "PJM       2577\n",
      "MISO       927\n",
      "ERCOT      647\n",
      "CAISO      593\n",
      "SPP        520\n",
      "NYISO      374\n",
      "ISO-NE     306\n",
      "Name: iso_region, dtype: int64\n"
     ]
    }
   ],
   "source": [
    "print(gridstatus_iso_projects.iso_id.value_counts())\n",
    "print()\n",
    "print(lbnl_iso_projects.iso_region.value_counts())"
   ]
  },
  {
   "cell_type": "markdown",
   "id": "1403774b-ed82-4d51-b3d7-7d5d92d02f45",
   "metadata": {},
   "source": [
    "LBNL generally has less projects but that could be do to the deduplication we do for LBNL. There are probably some duplicates in gridstatus I didn't have time to  The distribution of projects between ISO is pretty similar."
   ]
  },
  {
   "cell_type": "code",
   "execution_count": 135,
   "id": "a10c65ce-e10b-4992-bdf0-1412d3fdcb6a",
   "metadata": {},
   "outputs": [
    {
     "name": "stdout",
     "output_type": "stream",
     "text": [
      "count    7371.000000\n",
      "mean      173.848182\n",
      "std       221.589475\n",
      "min       -53.300000\n",
      "25%        50.000000\n",
      "50%       110.000000\n",
      "75%       200.000000\n",
      "max      3200.000000\n",
      "Name: Capacity (MW), dtype: float64\n"
     ]
    },
    {
     "data": {
      "text/plain": [
       "<AxesSubplot: >"
      ]
     },
     "execution_count": 135,
     "metadata": {},
     "output_type": "execute_result"
    },
    {
     "data": {
      "image/png": "[encoded data removed]",
      "text/plain": [
       "<Figure size 640x480 with 1 Axes>"
      ]
     },
     "metadata": {},
     "output_type": "display_data"
    }
   ],
   "source": [
    "print(gridstatus_iso_projects[\"Capacity (MW)\"].describe())\n",
    "gridstatus_iso_projects[\"Capacity (MW)\"].plot.box()"
   ]
  },
  {
   "cell_type": "code",
   "execution_count": 136,
   "id": "c574e57f-9ca5-4374-b017-35143631adf0",
   "metadata": {},
   "outputs": [
    {
     "name": "stdout",
     "output_type": "stream",
     "text": [
      "count    4544.000000\n",
      "mean      153.684120\n",
      "std       199.960698\n",
      "min         0.170000\n",
      "25%        29.000000\n",
      "50%       100.000000\n",
      "75%       200.000000\n",
      "max      3200.000000\n",
      "Name: generation_capacity_mw_1, dtype: float64\n"
     ]
    }
   ],
   "source": [
    "print(lbnl_iso_projects.generation_capacity_mw_1.describe())"
   ]
  },
  {
   "cell_type": "code",
   "execution_count": 137,
   "id": "e44e3c38-1a3d-4914-87ee-de89fca747fc",
   "metadata": {},
   "outputs": [
    {
     "data": {
      "text/plain": [
       "<AxesSubplot: >"
      ]
     },
     "execution_count": 137,
     "metadata": {},
     "output_type": "execute_result"
    },
    {
     "data": {
      "image/png": "[encoded data removed]",
      "text/plain": [
       "<Figure size 640x480 with 1 Axes>"
      ]
     },
     "metadata": {},
     "output_type": "display_data"
    }
   ],
   "source": [
    "lbnl_iso_projects.generation_capacity_mw_1.plot.box()"
   ]
  },
  {
   "cell_type": "code",
   "execution_count": 113,
   "id": "2593c4cd-6bf7-4d35-accc-403ec95c59c0",
   "metadata": {},
   "outputs": [
    {
     "name": "stdout",
     "output_type": "stream",
     "text": [
      "<class 'pandas.core.frame.DataFrame'>\n",
      "Int64Index: 5944 entries, 0 to 5946\n",
      "Data columns (total 30 columns):\n",
      " #   Column                             Non-Null Count  Dtype         \n",
      "---  ------                             --------------  -----         \n",
      " 0   project_id                         5944 non-null   int64         \n",
      " 1   project_name                       2190 non-null   object        \n",
      " 2   iso_region                         5944 non-null   object        \n",
      " 3   entity                             5944 non-null   object        \n",
      " 4   utility                            4733 non-null   object        \n",
      " 5   developer                          1021 non-null   object        \n",
      " 6   state                              5867 non-null   object        \n",
      " 7   county                             5854 non-null   object        \n",
      " 8   state_id_fips                      5867 non-null   object        \n",
      " 9   county_id_fips                     5854 non-null   object        \n",
      " 10  resource_class                     5904 non-null   object        \n",
      " 11  is_hybrid                          5944 non-null   bool          \n",
      " 12  generation_type_1                  4668 non-null   object        \n",
      " 13  generation_capacity_mw_1           4544 non-null   float64       \n",
      " 14  generation_type_2                  20 non-null     object        \n",
      " 15  generation_capacity_mw_2           13 non-null     float64       \n",
      " 16  storage_type                       1754 non-null   object        \n",
      " 17  storage_capacity_mw                1726 non-null   float64       \n",
      " 18  co2e_tonnes_per_year               5944 non-null   float64       \n",
      " 19  date_entered_queue                 5943 non-null   datetime64[ns]\n",
      " 20  date_proposed_online               5922 non-null   datetime64[ns]\n",
      " 21  interconnection_status             5944 non-null   object        \n",
      " 22  point_of_interconnection           5944 non-null   object        \n",
      " 23  queue_status                       5944 non-null   object        \n",
      " 24  has_ordinance                      5944 non-null   bool          \n",
      " 25  ordinance_jurisdiction_name        601 non-null    object        \n",
      " 26  ordinance_jurisdiction_type        601 non-null    object        \n",
      " 27  ordinance_earliest_year_mentioned  519 non-null    float64       \n",
      " 28  ordinance                          601 non-null    object        \n",
      " 29  state_permitting_type              5771 non-null   object        \n",
      "dtypes: bool(2), datetime64[ns](2), float64(5), int64(1), object(20)\n",
      "memory usage: 1.3+ MB\n"
     ]
    }
   ],
   "source": [
    "lbnl_iso_projects.info()"
   ]
  },
  {
   "cell_type": "markdown",
   "id": "9f25ca3c-792c-47c7-8869-cc1b87bc1ee3",
   "metadata": {},
   "source": [
    "The MW capacities are pretty dang similar! Should do a proper comparison but looks pretty good just comparing the quantiles."
   ]
  },
  {
   "cell_type": "markdown",
   "id": "8c287f04-d45a-414d-b24f-4de8174f3900",
   "metadata": {},
   "source": [
    "## Looks at 2022\n",
    "What are we missing out on by using LBNL?"
   ]
  },
  {
   "cell_type": "code",
   "execution_count": 142,
   "id": "ba5c7ae5-ec50-459e-9e12-b6dcb2ab2b99",
   "metadata": {},
   "outputs": [
    {
     "data": {
      "text/plain": [
       "<AxesSubplot: >"
      ]
     },
     "execution_count": 142,
     "metadata": {},
     "output_type": "execute_result"
    },
    {
     "data": {
      "image/png": "[encoded data removed]",
      "text/plain": [
       "<Figure size 640x480 with 1 Axes>"
      ]
     },
     "metadata": {},
     "output_type": "display_data"
    }
   ],
   "source": [
    "queues[\"Queue Date\"].dt.year.value_counts().sort_index().plot.bar()"
   ]
  },
  {
   "cell_type": "code",
   "execution_count": 148,
   "id": "aa307b45-d30c-44d1-92df-ee7800080b35",
   "metadata": {},
   "outputs": [
    {
     "data": {
      "text/plain": [
       "<AxesSubplot: xlabel='Queue Date'>"
      ]
     },
     "execution_count": 148,
     "metadata": {},
     "output_type": "execute_result"
    },
    {
     "data": {
      "image/png": "[encoded data removed]",
      "text/plain": [
       "<Figure size 640x480 with 1 Axes>"
      ]
     },
     "metadata": {},
     "output_type": "display_data"
    }
   ],
   "source": [
    "queues.groupby(queues[\"Queue Date\"].dt.year)[\"Capacity (MW)\"].sum().plot.bar()"
   ]
  },
  {
   "cell_type": "markdown",
   "id": "0a07faf2-5152-4f23-a8fb-b381d4fd6e40",
   "metadata": {},
   "source": [
    "ISO Queues actually got a little smaller in 2022 in terms of projects and capacity. Still missing out on > 2000 projects and 400 GW of electricity though."
   ]
  }
 ],
 "metadata": {
  "kernelspec": {
   "display_name": "Python 3 (ipykernel)",
   "language": "python",
   "name": "python3"
  },
  "language_info": {
   "codemirror_mode": {
    "name": "ipython",
    "version": 3
   },
   "file_extension": ".py",
   "mimetype": "text/x-python",
   "name": "python",
   "nbconvert_exporter": "python",
   "pygments_lexer": "ipython3",
   "version": "3.9.16"
  }
 },
 "nbformat": 4,
 "nbformat_minor": 5
}
