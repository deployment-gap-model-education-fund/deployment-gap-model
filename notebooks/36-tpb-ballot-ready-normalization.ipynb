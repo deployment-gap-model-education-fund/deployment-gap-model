{
 "cells": [
  {
   "cell_type": "code",
   "execution_count": 1,
   "id": "27b8d0af-63da-4b7e-8c03-ae2fec3d5b1e",
   "metadata": {},
   "outputs": [
    {
     "name": "stderr",
     "output_type": "stream",
     "text": [
      "/app/.local/lib/python3.10/site-packages/geopandas/_compat.py:123: UserWarning: The Shapely GEOS version (3.11.1-CAPI-1.17.1) is incompatible with the GEOS version PyGEOS was compiled with (3.10.3-CAPI-1.16.1). Conversions between both will be slow.\n",
      "  warnings.warn(\n",
      "/app/.local/lib/python3.10/site-packages/pudl/analysis/spatial.py:7: UserWarning: Shapely 2.0 is installed, but because PyGEOS is also installed, GeoPandas will still use PyGEOS by default for now. To force to use and test Shapely 2.0, you have to set the environment variable USE_PYGEOS=0. You can do this before starting the Python process, or in your code before importing geopandas:\n",
      "\n",
      "import os\n",
      "os.environ['USE_PYGEOS'] = '0'\n",
      "import geopandas\n",
      "\n",
      "In a future release, GeoPandas will switch to using Shapely by default. If you are using PyGEOS directly (calling PyGEOS functions on geometries from GeoPandas), this will then stop working and you are encouraged to migrate from PyGEOS to Shapely 2.0 (https://shapely.readthedocs.io/en/latest/migration_pygeos.html).\n",
      "  import geopandas as gpd\n",
      "2023-09-12 03:57:46 [    INFO] catalystcoop.pudl.helpers:203 Assigned state FIPS codes for 100.00% of records.\n",
      "2023-09-12 03:57:50 [    INFO] catalystcoop.pudl.helpers:219 Assigned county FIPS codes for 99.61% of records.\n"
     ]
    }
   ],
   "source": [
    "import pandas as pd\n",
    "import dbcp\n",
    "\n",
    "source_uri = \"gs://dgm-archive/ballot_ready/BallotReady_upcoming_races_with_counties_08_14_2023.csv\"\n",
    "raw_dfs = dbcp.extract.ballot_ready.extract(source_uri)\n",
    "raw_ballot_ready = raw_dfs[\"raw_ballot_ready\"]\n",
    "br_election_data = dbcp.transform.ballot_ready._explode_counties(raw_ballot_ready)"
   ]
  },
  {
   "cell_type": "code",
   "execution_count": 2,
   "id": "5a67b7aa-9be1-4a9e-9787-02a968d452a6",
   "metadata": {},
   "outputs": [
    {
     "name": "stdout",
     "output_type": "stream",
     "text": [
      "<class 'pandas.core.frame.DataFrame'>\n",
      "Int64Index: 188074 entries, 1543 to 82775\n",
      "Data columns (total 29 columns):\n",
      " #   Column                    Non-Null Count   Dtype         \n",
      "---  ------                    --------------   -----         \n",
      " 0   election_id               188074 non-null  Int64         \n",
      " 1   election_name             188074 non-null  string        \n",
      " 2   election_day              188074 non-null  datetime64[ns]\n",
      " 3   race_id                   188074 non-null  Int64         \n",
      " 4   is_primary                188074 non-null  boolean       \n",
      " 5   is_runoff                 188074 non-null  boolean       \n",
      " 6   is_unexpired              188074 non-null  boolean       \n",
      " 7   position_id               188074 non-null  Int64         \n",
      " 8   position_name             188074 non-null  string        \n",
      " 9   sub_area_name             114957 non-null  string        \n",
      " 10  sub_area_value            125790 non-null  string        \n",
      " 11  sub_area_name_secondary   11501 non-null   string        \n",
      " 12  sub_area_value_secondary  12522 non-null   string        \n",
      " 13  raw_state                 188074 non-null  string        \n",
      " 14  level                     188074 non-null  string        \n",
      " 15  tier                      188074 non-null  Int64         \n",
      " 16  is_judicial               188074 non-null  boolean       \n",
      " 17  is_retention              188074 non-null  boolean       \n",
      " 18  number_of_seats           188074 non-null  Int64         \n",
      " 19  normalized_position_id    188074 non-null  Int64         \n",
      " 20  normalized_position_name  188074 non-null  string        \n",
      " 21  frequency                 188074 non-null  string        \n",
      " 22  reference_year            188074 non-null  Int64         \n",
      " 23  partisan_type             188060 non-null  string        \n",
      " 24  raw_county                188074 non-null  object        \n",
      " 25  race_created_at           188074 non-null  datetime64[ns]\n",
      " 26  race_updated_at           188074 non-null  datetime64[ns]\n",
      " 27  state_id_fips             188074 non-null  string        \n",
      " 28  county_id_fips            188074 non-null  object        \n",
      "dtypes: Int64(7), boolean(5), datetime64[ns](3), object(2), string(12)\n",
      "memory usage: 38.9+ MB\n"
     ]
    }
   ],
   "source": [
    "br_election_data.info()"
   ]
  },
  {
   "cell_type": "code",
   "execution_count": 3,
   "id": "a8870a44-0b83-44c4-b4be-e85e87e3431c",
   "metadata": {},
   "outputs": [
    {
     "data": {
      "text/plain": [
       "election_id                   298\n",
       "election_name                 189\n",
       "election_day                   87\n",
       "race_id                     82760\n",
       "is_primary                      2\n",
       "is_runoff                       2\n",
       "is_unexpired                    2\n",
       "position_id                 37406\n",
       "position_name               35306\n",
       "sub_area_name                  41\n",
       "sub_area_value               2559\n",
       "sub_area_name_secondary        18\n",
       "sub_area_value_secondary      183\n",
       "raw_state                      51\n",
       "level                           5\n",
       "tier                            3\n",
       "is_judicial                     2\n",
       "is_retention                    2\n",
       "number_of_seats                19\n",
       "normalized_position_id        191\n",
       "normalized_position_name      191\n",
       "frequency                      15\n",
       "reference_year                  8\n",
       "partisan_type                   3\n",
       "raw_county                   1878\n",
       "race_created_at             27027\n",
       "race_updated_at             40152\n",
       "state_id_fips                  51\n",
       "county_id_fips               3143\n",
       "dtype: int64"
      ]
     },
     "execution_count": 3,
     "metadata": {},
     "output_type": "execute_result"
    }
   ],
   "source": [
    "br_election_data.nunique()"
   ]
  },
  {
   "cell_type": "markdown",
   "id": "0b7d489d",
   "metadata": {},
   "source": [
    "### Frequency\n",
    "Looks like it should be a position field, but there is one erroneous value. Apply a manual correction."
   ]
  },
  {
   "cell_type": "code",
   "execution_count": 4,
   "id": "7acb7eaf",
   "metadata": {},
   "outputs": [
    {
     "data": {
      "text/plain": [
       "1    37405\n",
       "2        1\n",
       "Name: frequency, dtype: int64"
      ]
     },
     "execution_count": 4,
     "metadata": {},
     "output_type": "execute_result"
    }
   ],
   "source": [
    "freq_group = br_election_data.groupby(\"position_id\")[\"frequency\"]\n",
    "freq_group.nunique().value_counts()"
   ]
  },
  {
   "cell_type": "code",
   "execution_count": 5,
   "id": "da2f2b13",
   "metadata": {},
   "outputs": [
    {
     "data": {
      "text/plain": [
       "position_id\n",
       "156594    [[4], [2]]\n",
       "Name: frequency, dtype: object"
      ]
     },
     "execution_count": 5,
     "metadata": {},
     "output_type": "execute_result"
    }
   ],
   "source": [
    "freq_group.unique()[freq_group.nunique() > 1]"
   ]
  },
  {
   "cell_type": "code",
   "execution_count": 6,
   "id": "045871f6",
   "metadata": {},
   "outputs": [
    {
     "data": {
      "text/html": [
       "<div>\n",
       "<style scoped>\n",
       "    .dataframe tbody tr th:only-of-type {\n",
       "        vertical-align: middle;\n",
       "    }\n",
       "\n",
       "    .dataframe tbody tr th {\n",
       "        vertical-align: top;\n",
       "    }\n",
       "\n",
       "    .dataframe thead th {\n",
       "        text-align: right;\n",
       "    }\n",
       "</style>\n",
       "<table border=\"1\" class=\"dataframe\">\n",
       "  <thead>\n",
       "    <tr style=\"text-align: right;\">\n",
       "      <th></th>\n",
       "      <th>election_id</th>\n",
       "      <th>election_name</th>\n",
       "      <th>election_day</th>\n",
       "      <th>race_id</th>\n",
       "      <th>is_primary</th>\n",
       "      <th>is_runoff</th>\n",
       "      <th>is_unexpired</th>\n",
       "      <th>position_id</th>\n",
       "      <th>position_name</th>\n",
       "      <th>sub_area_name</th>\n",
       "      <th>sub_area_value</th>\n",
       "      <th>sub_area_name_secondary</th>\n",
       "      <th>sub_area_value_secondary</th>\n",
       "      <th>raw_state</th>\n",
       "      <th>level</th>\n",
       "      <th>tier</th>\n",
       "      <th>is_judicial</th>\n",
       "      <th>is_retention</th>\n",
       "      <th>number_of_seats</th>\n",
       "      <th>normalized_position_id</th>\n",
       "      <th>normalized_position_name</th>\n",
       "      <th>frequency</th>\n",
       "      <th>reference_year</th>\n",
       "      <th>partisan_type</th>\n",
       "      <th>raw_county</th>\n",
       "      <th>race_created_at</th>\n",
       "      <th>race_updated_at</th>\n",
       "      <th>state_id_fips</th>\n",
       "      <th>county_id_fips</th>\n",
       "    </tr>\n",
       "  </thead>\n",
       "  <tbody>\n",
       "    <tr>\n",
       "      <th>78383</th>\n",
       "      <td>4317</td>\n",
       "      <td>California General Election</td>\n",
       "      <td>2024-11-05</td>\n",
       "      <td>2020782</td>\n",
       "      <td>False</td>\n",
       "      <td>False</td>\n",
       "      <td>False</td>\n",
       "      <td>156594</td>\n",
       "      <td>San Jose City Mayor</td>\n",
       "      <td>&lt;NA&gt;</td>\n",
       "      <td>&lt;NA&gt;</td>\n",
       "      <td>&lt;NA&gt;</td>\n",
       "      <td>&lt;NA&gt;</td>\n",
       "      <td>CA</td>\n",
       "      <td>city</td>\n",
       "      <td>3</td>\n",
       "      <td>False</td>\n",
       "      <td>False</td>\n",
       "      <td>1</td>\n",
       "      <td>1500</td>\n",
       "      <td>City Executive//Mayor</td>\n",
       "      <td>[4]</td>\n",
       "      <td>2024</td>\n",
       "      <td>nonpartisan</td>\n",
       "      <td>Santa Clara County</td>\n",
       "      <td>2023-01-26 22:12:14.544</td>\n",
       "      <td>2023-01-26 22:12:14.544</td>\n",
       "      <td>06</td>\n",
       "      <td>06085</td>\n",
       "    </tr>\n",
       "    <tr>\n",
       "      <th>78384</th>\n",
       "      <td>5367</td>\n",
       "      <td>California Primary Election</td>\n",
       "      <td>2024-03-05</td>\n",
       "      <td>2020783</td>\n",
       "      <td>True</td>\n",
       "      <td>False</td>\n",
       "      <td>False</td>\n",
       "      <td>156594</td>\n",
       "      <td>San Jose City Mayor</td>\n",
       "      <td>&lt;NA&gt;</td>\n",
       "      <td>&lt;NA&gt;</td>\n",
       "      <td>&lt;NA&gt;</td>\n",
       "      <td>&lt;NA&gt;</td>\n",
       "      <td>CA</td>\n",
       "      <td>city</td>\n",
       "      <td>3</td>\n",
       "      <td>False</td>\n",
       "      <td>False</td>\n",
       "      <td>1</td>\n",
       "      <td>1500</td>\n",
       "      <td>City Executive//Mayor</td>\n",
       "      <td>[2]</td>\n",
       "      <td>2022</td>\n",
       "      <td>nonpartisan</td>\n",
       "      <td>Santa Clara County</td>\n",
       "      <td>2023-01-26 22:12:14.646</td>\n",
       "      <td>2023-01-26 22:12:14.646</td>\n",
       "      <td>06</td>\n",
       "      <td>06085</td>\n",
       "    </tr>\n",
       "  </tbody>\n",
       "</table>\n",
       "</div>"
      ],
      "text/plain": [
       "       election_id                election_name election_day  race_id  is_primary  is_runoff  is_unexpired  position_id        position_name sub_area_name sub_area_value sub_area_name_secondary sub_area_value_secondary raw_state level  tier  is_judicial  is_retention  number_of_seats  normalized_position_id normalized_position_name frequency  reference_year partisan_type          raw_county         race_created_at         race_updated_at state_id_fips county_id_fips\n",
       "78383         4317  California General Election   2024-11-05  2020782       False      False         False       156594  San Jose City Mayor          <NA>           <NA>                    <NA>                     <NA>        CA  city     3        False         False                1                    1500    City Executive//Mayor       [4]            2024   nonpartisan  Santa Clara County 2023-01-26 22:12:14.544 2023-01-26 22:12:14.544            06          06085\n",
       "78384         5367  California Primary Election   2024-03-05  2020783        True      False         False       156594  San Jose City Mayor          <NA>           <NA>                    <NA>                     <NA>        CA  city     3        False         False                1                    1500    City Executive//Mayor       [2]            2022   nonpartisan  Santa Clara County 2023-01-26 22:12:14.646 2023-01-26 22:12:14.646            06          06085"
      ]
     },
     "execution_count": 6,
     "metadata": {},
     "output_type": "execute_result"
    }
   ],
   "source": [
    "br_election_data.query(\"position_id == 156594\")"
   ]
  },
  {
   "cell_type": "markdown",
   "id": "8e01b807",
   "metadata": {},
   "source": [
    "Not sure if this is on instance of a non unique frequency is a ballot ready issue or expected."
   ]
  },
  {
   "cell_type": "markdown",
   "id": "9f9f578a",
   "metadata": {},
   "source": [
    "### reference year"
   ]
  },
  {
   "cell_type": "code",
   "execution_count": 7,
   "id": "fe1c5dc2",
   "metadata": {},
   "outputs": [
    {
     "data": {
      "text/plain": [
       "1    37405\n",
       "2        1\n",
       "Name: reference_year, dtype: int64"
      ]
     },
     "execution_count": 7,
     "metadata": {},
     "output_type": "execute_result"
    }
   ],
   "source": [
    "ref_group = br_election_data.groupby(\"position_id\")[\"reference_year\"]\n",
    "ref_group.nunique().value_counts()"
   ]
  },
  {
   "cell_type": "code",
   "execution_count": 8,
   "id": "adc897bd",
   "metadata": {},
   "outputs": [
    {
     "data": {
      "text/plain": [
       "position_id\n",
       "156594    [2024, 2022]\n",
       "Name: reference_year, dtype: object"
      ]
     },
     "execution_count": 8,
     "metadata": {},
     "output_type": "execute_result"
    }
   ],
   "source": [
    "ref_group.unique()[ref_group.nunique() > 1]"
   ]
  },
  {
   "cell_type": "markdown",
   "id": "cfa1fdf0",
   "metadata": {},
   "source": [
    "Ok same same problem county."
   ]
  },
  {
   "cell_type": "code",
   "execution_count": 9,
   "metadata": {},
   "outputs": [],
   "source": [
    "# manually assign a new position id\n",
    "new_index = br_election_data.position_id.max() + 1\n",
    "assert new_index not in br_election_data.position_id\n",
    "br_election_data.loc[br_election_data.race_id == 2020783, \"position_id\"] = new_index"
   ]
  },
  {
   "cell_type": "markdown",
   "id": "87c956b2",
   "metadata": {},
   "source": [
    "## Normalization"
   ]
  },
  {
   "cell_type": "code",
   "execution_count": 10,
   "id": "28aad8f5",
   "metadata": {},
   "outputs": [],
   "source": [
    "id_cols = [\"election_id\", \"position_id\", \"race_id\"]\n",
    "levels = pd.concat([\n",
    "    br_election_data.groupby(id_col).nunique().le(1).all().rename(id_col) for id_col in id_cols\n",
    "    ], axis=1)"
   ]
  },
  {
   "cell_type": "code",
   "execution_count": 11,
   "id": "9e684152",
   "metadata": {},
   "outputs": [
    {
     "data": {
      "text/html": [
       "<div>\n",
       "<style scoped>\n",
       "    .dataframe tbody tr th:only-of-type {\n",
       "        vertical-align: middle;\n",
       "    }\n",
       "\n",
       "    .dataframe tbody tr th {\n",
       "        vertical-align: top;\n",
       "    }\n",
       "\n",
       "    .dataframe thead th {\n",
       "        text-align: right;\n",
       "    }\n",
       "</style>\n",
       "<table border=\"1\" class=\"dataframe\">\n",
       "  <thead>\n",
       "    <tr style=\"text-align: right;\">\n",
       "      <th></th>\n",
       "      <th>election_id</th>\n",
       "      <th>position_id</th>\n",
       "      <th>race_id</th>\n",
       "    </tr>\n",
       "  </thead>\n",
       "  <tbody>\n",
       "    <tr>\n",
       "      <th>raw_state</th>\n",
       "      <td>True</td>\n",
       "      <td>True</td>\n",
       "      <td>True</td>\n",
       "    </tr>\n",
       "    <tr>\n",
       "      <th>state_id_fips</th>\n",
       "      <td>True</td>\n",
       "      <td>True</td>\n",
       "      <td>True</td>\n",
       "    </tr>\n",
       "    <tr>\n",
       "      <th>election_name</th>\n",
       "      <td>True</td>\n",
       "      <td>False</td>\n",
       "      <td>True</td>\n",
       "    </tr>\n",
       "    <tr>\n",
       "      <th>election_day</th>\n",
       "      <td>True</td>\n",
       "      <td>False</td>\n",
       "      <td>True</td>\n",
       "    </tr>\n",
       "    <tr>\n",
       "      <th>position_name</th>\n",
       "      <td>False</td>\n",
       "      <td>True</td>\n",
       "      <td>True</td>\n",
       "    </tr>\n",
       "    <tr>\n",
       "      <th>sub_area_name</th>\n",
       "      <td>False</td>\n",
       "      <td>True</td>\n",
       "      <td>True</td>\n",
       "    </tr>\n",
       "    <tr>\n",
       "      <th>sub_area_value</th>\n",
       "      <td>False</td>\n",
       "      <td>True</td>\n",
       "      <td>True</td>\n",
       "    </tr>\n",
       "    <tr>\n",
       "      <th>sub_area_name_secondary</th>\n",
       "      <td>False</td>\n",
       "      <td>True</td>\n",
       "      <td>True</td>\n",
       "    </tr>\n",
       "    <tr>\n",
       "      <th>sub_area_value_secondary</th>\n",
       "      <td>False</td>\n",
       "      <td>True</td>\n",
       "      <td>True</td>\n",
       "    </tr>\n",
       "    <tr>\n",
       "      <th>level</th>\n",
       "      <td>False</td>\n",
       "      <td>True</td>\n",
       "      <td>True</td>\n",
       "    </tr>\n",
       "    <tr>\n",
       "      <th>tier</th>\n",
       "      <td>False</td>\n",
       "      <td>True</td>\n",
       "      <td>True</td>\n",
       "    </tr>\n",
       "    <tr>\n",
       "      <th>is_judicial</th>\n",
       "      <td>False</td>\n",
       "      <td>True</td>\n",
       "      <td>True</td>\n",
       "    </tr>\n",
       "    <tr>\n",
       "      <th>is_retention</th>\n",
       "      <td>False</td>\n",
       "      <td>True</td>\n",
       "      <td>True</td>\n",
       "    </tr>\n",
       "    <tr>\n",
       "      <th>number_of_seats</th>\n",
       "      <td>False</td>\n",
       "      <td>True</td>\n",
       "      <td>True</td>\n",
       "    </tr>\n",
       "    <tr>\n",
       "      <th>normalized_position_id</th>\n",
       "      <td>False</td>\n",
       "      <td>True</td>\n",
       "      <td>True</td>\n",
       "    </tr>\n",
       "    <tr>\n",
       "      <th>normalized_position_name</th>\n",
       "      <td>False</td>\n",
       "      <td>True</td>\n",
       "      <td>True</td>\n",
       "    </tr>\n",
       "    <tr>\n",
       "      <th>frequency</th>\n",
       "      <td>False</td>\n",
       "      <td>True</td>\n",
       "      <td>True</td>\n",
       "    </tr>\n",
       "    <tr>\n",
       "      <th>reference_year</th>\n",
       "      <td>False</td>\n",
       "      <td>True</td>\n",
       "      <td>True</td>\n",
       "    </tr>\n",
       "    <tr>\n",
       "      <th>partisan_type</th>\n",
       "      <td>False</td>\n",
       "      <td>True</td>\n",
       "      <td>True</td>\n",
       "    </tr>\n",
       "    <tr>\n",
       "      <th>is_primary</th>\n",
       "      <td>False</td>\n",
       "      <td>False</td>\n",
       "      <td>True</td>\n",
       "    </tr>\n",
       "    <tr>\n",
       "      <th>is_runoff</th>\n",
       "      <td>False</td>\n",
       "      <td>False</td>\n",
       "      <td>True</td>\n",
       "    </tr>\n",
       "    <tr>\n",
       "      <th>is_unexpired</th>\n",
       "      <td>False</td>\n",
       "      <td>False</td>\n",
       "      <td>True</td>\n",
       "    </tr>\n",
       "    <tr>\n",
       "      <th>race_created_at</th>\n",
       "      <td>False</td>\n",
       "      <td>False</td>\n",
       "      <td>True</td>\n",
       "    </tr>\n",
       "    <tr>\n",
       "      <th>race_updated_at</th>\n",
       "      <td>False</td>\n",
       "      <td>False</td>\n",
       "      <td>True</td>\n",
       "    </tr>\n",
       "    <tr>\n",
       "      <th>raw_county</th>\n",
       "      <td>False</td>\n",
       "      <td>False</td>\n",
       "      <td>False</td>\n",
       "    </tr>\n",
       "    <tr>\n",
       "      <th>county_id_fips</th>\n",
       "      <td>False</td>\n",
       "      <td>False</td>\n",
       "      <td>False</td>\n",
       "    </tr>\n",
       "  </tbody>\n",
       "</table>\n",
       "</div>"
      ],
      "text/plain": [
       "                         election_id position_id race_id\n",
       "raw_state                       True        True    True\n",
       "state_id_fips                   True        True    True\n",
       "election_name                   True       False    True\n",
       "election_day                    True       False    True\n",
       "position_name                  False        True    True\n",
       "sub_area_name                  False        True    True\n",
       "sub_area_value                 False        True    True\n",
       "sub_area_name_secondary        False        True    True\n",
       "sub_area_value_secondary       False        True    True\n",
       "level                          False        True    True\n",
       "tier                           False        True    True\n",
       "is_judicial                    False        True    True\n",
       "is_retention                   False        True    True\n",
       "number_of_seats                False        True    True\n",
       "normalized_position_id         False        True    True\n",
       "normalized_position_name       False        True    True\n",
       "frequency                      False        True    True\n",
       "reference_year                 False        True    True\n",
       "partisan_type                  False        True    True\n",
       "is_primary                     False       False    True\n",
       "is_runoff                      False       False    True\n",
       "is_unexpired                   False       False    True\n",
       "race_created_at                False       False    True\n",
       "race_updated_at                False       False    True\n",
       "raw_county                     False       False   False\n",
       "county_id_fips                 False       False   False"
      ]
     },
     "execution_count": 11,
     "metadata": {},
     "output_type": "execute_result"
    }
   ],
   "source": [
    "levels.sort_values(id_cols, ascending=False).dropna()  # dropna just removes the id fields themselves, which are 'missing' due to being in the index"
   ]
  },
  {
   "cell_type": "code",
   "execution_count": 12,
   "id": "54baf736",
   "metadata": {},
   "outputs": [
    {
     "data": {
      "text/plain": [
       "False"
      ]
     },
     "execution_count": 12,
     "metadata": {},
     "output_type": "execute_result"
    }
   ],
   "source": [
    "# are all fields unique on some level?\n",
    "levels.dropna().any(axis=1).all()"
   ]
  },
  {
   "cell_type": "code",
   "execution_count": 13,
   "id": "69ca7359",
   "metadata": {},
   "outputs": [
    {
     "data": {
      "text/html": [
       "<div>\n",
       "<style scoped>\n",
       "    .dataframe tbody tr th:only-of-type {\n",
       "        vertical-align: middle;\n",
       "    }\n",
       "\n",
       "    .dataframe tbody tr th {\n",
       "        vertical-align: top;\n",
       "    }\n",
       "\n",
       "    .dataframe thead th {\n",
       "        text-align: right;\n",
       "    }\n",
       "</style>\n",
       "<table border=\"1\" class=\"dataframe\">\n",
       "  <thead>\n",
       "    <tr style=\"text-align: right;\">\n",
       "      <th></th>\n",
       "      <th>election_id</th>\n",
       "      <th>position_id</th>\n",
       "      <th>race_id</th>\n",
       "    </tr>\n",
       "  </thead>\n",
       "  <tbody>\n",
       "    <tr>\n",
       "      <th>race_id</th>\n",
       "      <td>False</td>\n",
       "      <td>False</td>\n",
       "      <td>NaN</td>\n",
       "    </tr>\n",
       "    <tr>\n",
       "      <th>raw_county</th>\n",
       "      <td>False</td>\n",
       "      <td>False</td>\n",
       "      <td>False</td>\n",
       "    </tr>\n",
       "    <tr>\n",
       "      <th>county_id_fips</th>\n",
       "      <td>False</td>\n",
       "      <td>False</td>\n",
       "      <td>False</td>\n",
       "    </tr>\n",
       "  </tbody>\n",
       "</table>\n",
       "</div>"
      ],
      "text/plain": [
       "               election_id position_id race_id\n",
       "race_id              False       False     NaN\n",
       "raw_county           False       False   False\n",
       "county_id_fips       False       False   False"
      ]
     },
     "execution_count": 13,
     "metadata": {},
     "output_type": "execute_result"
    }
   ],
   "source": [
    "# which ones fail?\n",
    "levels.loc[~levels.any(axis=1)]"
   ]
  },
  {
   "cell_type": "markdown",
   "id": "8b17f290",
   "metadata": {},
   "source": [
    "`race_id` is an ID, so it should fail in this test. Counties should be a m:m relationship with districts, which are either position level or maybe race level fields. I'm not sure which one because I'm not sure which (if either) encodes the temporal changes in geography due to redistricting. Have to test it. [update: it's position level. So it doesn't change over time, despite the fact that the underlying districts do.]"
   ]
  },
  {
   "cell_type": "code",
   "execution_count": 14,
   "id": "19a4f91c",
   "metadata": {},
   "outputs": [
    {
     "data": {
      "text/plain": [
       "1    82760\n",
       "Name: race_id, dtype: int64"
      ]
     },
     "execution_count": 14,
     "metadata": {},
     "output_type": "execute_result"
    }
   ],
   "source": [
    "# a race is a specific instance of a position in an election. It is a m:m relationship between position and election.\n",
    "br_election_data.groupby([\"election_id\", \"position_id\"])['race_id'].nunique().value_counts()"
   ]
  },
  {
   "cell_type": "code",
   "execution_count": 15,
   "id": "6ab203de",
   "metadata": {},
   "outputs": [
    {
     "data": {
      "text/plain": [
       "{'election_day', 'election_name', 'raw_state', 'state_id_fips'}"
      ]
     },
     "execution_count": 15,
     "metadata": {},
     "output_type": "execute_result"
    }
   ],
   "source": [
    "election_fields = set(levels.loc[levels.election_id.fillna(False)].index)\n",
    "election_fields"
   ]
  },
  {
   "cell_type": "code",
   "execution_count": 16,
   "id": "20531251",
   "metadata": {},
   "outputs": [
    {
     "data": {
      "text/plain": [
       "{'frequency',\n",
       " 'is_judicial',\n",
       " 'is_retention',\n",
       " 'level',\n",
       " 'normalized_position_id',\n",
       " 'normalized_position_name',\n",
       " 'number_of_seats',\n",
       " 'partisan_type',\n",
       " 'position_name',\n",
       " 'reference_year',\n",
       " 'sub_area_name',\n",
       " 'sub_area_name_secondary',\n",
       " 'sub_area_value',\n",
       " 'sub_area_value_secondary',\n",
       " 'tier'}"
      ]
     },
     "execution_count": 16,
     "metadata": {},
     "output_type": "execute_result"
    }
   ],
   "source": [
    "position_fields = set(levels.loc[levels.position_id.fillna(False)].index) - election_fields - set(id_cols)\n",
    "position_fields"
   ]
  },
  {
   "cell_type": "code",
   "execution_count": 17,
   "id": "f657851c",
   "metadata": {},
   "outputs": [
    {
     "data": {
      "text/plain": [
       "{'is_primary',\n",
       " 'is_runoff',\n",
       " 'is_unexpired',\n",
       " 'race_created_at',\n",
       " 'race_updated_at'}"
      ]
     },
     "execution_count": 17,
     "metadata": {},
     "output_type": "execute_result"
    }
   ],
   "source": [
    "race_fields = set(levels.loc[levels.race_id.fillna(False)].index) - election_fields - position_fields - set(id_cols)\n",
    "race_fields"
   ]
  },
  {
   "cell_type": "markdown",
   "id": "c140bcf8",
   "metadata": {},
   "source": [
    "### Check geography relationships\n",
    "It turns out that counties are consistent between races for the same position. So it is a position-level attribute."
   ]
  },
  {
   "cell_type": "code",
   "execution_count": 18,
   "id": "bdd4cf06",
   "metadata": {},
   "outputs": [
    {
     "data": {
      "text/plain": [
       "(82760,)"
      ]
     },
     "execution_count": 18,
     "metadata": {},
     "output_type": "execute_result"
    }
   ],
   "source": [
    "counties_by_race = br_election_data.groupby(id_cols[1:])['county_id_fips'].agg(lambda x: set(x.unique()))\n",
    "counties_by_race.shape"
   ]
  },
  {
   "cell_type": "code",
   "execution_count": 19,
   "id": "4b61be82",
   "metadata": {},
   "outputs": [
    {
     "data": {
      "text/plain": [
       "position_id  race_id\n",
       "2            1472432    {02070, 02013, 02180, 02063, 02158, 02195, 022...\n",
       "3            1536258    {01079, 01057, 01025, 01067, 01065, 01075, 010...\n",
       "             1729666    {01079, 01057, 01025, 01067, 01065, 01075, 010...\n",
       "4            1446390    {04021, 04013, 04027, 04015, 04017, 04019, 040...\n",
       "5            1377495    {05039, 05109, 05149, 05147, 05043, 05023, 050...\n",
       "Name: county_id_fips, dtype: object"
      ]
     },
     "execution_count": 19,
     "metadata": {},
     "output_type": "execute_result"
    }
   ],
   "source": [
    "counties_by_race.head()"
   ]
  },
  {
   "cell_type": "code",
   "execution_count": 20,
   "id": "272c3f65",
   "metadata": {},
   "outputs": [
    {
     "data": {
      "text/plain": [
       "0    37407\n",
       "Name: county_id_fips, dtype: int64"
      ]
     },
     "execution_count": 20,
     "metadata": {},
     "output_type": "execute_result"
    }
   ],
   "source": [
    "# Do counties differ within a position group? [no.]\n",
    "from functools import reduce\n",
    "diffs = counties_by_race.groupby(level='position_id').agg(lambda x: reduce(set.union, x) - reduce(set.intersection, x))\n",
    "diffs.apply(len).value_counts()"
   ]
  },
  {
   "cell_type": "markdown",
   "id": "01a985ca-7f60-42ba-b3b7-71a7a4f7660d",
   "metadata": {},
   "source": [
    "## Normalize"
   ]
  },
  {
   "cell_type": "markdown",
   "id": "6114388c-7179-46a7-8a60-2ae34c6b2510",
   "metadata": {},
   "source": [
    "### Elections\n"
   ]
  },
  {
   "cell_type": "code",
   "execution_count": 21,
   "id": "411c7b67-855e-4181-88e9-4aa034d1cbde",
   "metadata": {},
   "outputs": [],
   "source": [
    "br_elections = br_election_data.drop_duplicates(subset='election_id')[list(election_fields) + ['election_id']].copy()\n",
    "\n",
    "assert br_elections.duplicated(subset=list(election_fields)).sum() == 0"
   ]
  },
  {
   "cell_type": "markdown",
   "id": "61237f44-1a90-46bb-bb2e-a31be82d0b5c",
   "metadata": {},
   "source": [
    "### Positions"
   ]
  },
  {
   "cell_type": "code",
   "execution_count": 22,
   "id": "9f3117c1",
   "metadata": {},
   "outputs": [],
   "source": [
    "br_positions = br_election_data.drop_duplicates(subset='position_id')[list(position_fields) + ['position_id']].copy()"
   ]
  },
  {
   "cell_type": "code",
   "execution_count": 23,
   "id": "b06f3db2",
   "metadata": {},
   "outputs": [
    {
     "data": {
      "text/plain": [
       "(37407, 16)"
      ]
     },
     "execution_count": 23,
     "metadata": {},
     "output_type": "execute_result"
    }
   ],
   "source": [
    "br_positions.shape"
   ]
  },
  {
   "cell_type": "code",
   "execution_count": 24,
   "id": "1e5c0ddc",
   "metadata": {},
   "outputs": [
    {
     "ename": "AssertionError",
     "evalue": "",
     "output_type": "error",
     "traceback": [
      "\u001b[0;31m---------------------------------------------------------------------------\u001b[0m",
      "\u001b[0;31mAssertionError\u001b[0m                            Traceback (most recent call last)",
      "Cell \u001b[0;32mIn[24], line 1\u001b[0m\n\u001b[0;32m----> 1\u001b[0m \u001b[39massert\u001b[39;00m br_positions\u001b[39m.\u001b[39mduplicated(subset\u001b[39m=\u001b[39m\u001b[39mlist\u001b[39m(position_fields))\u001b[39m.\u001b[39msum() \u001b[39m==\u001b[39m \u001b[39m0\u001b[39m\n",
      "\u001b[0;31mAssertionError\u001b[0m: "
     ]
    }
   ],
   "source": [
    "assert br_positions.duplicated(subset=list(position_fields)).sum() == 0"
   ]
  },
  {
   "cell_type": "code",
   "execution_count": null,
   "id": "d76b4925-92d8-4390-bddc-d4e7cf5453c5",
   "metadata": {},
   "outputs": [
    {
     "data": {
      "text/html": [
       "<div>\n",
       "<style scoped>\n",
       "    .dataframe tbody tr th:only-of-type {\n",
       "        vertical-align: middle;\n",
       "    }\n",
       "\n",
       "    .dataframe tbody tr th {\n",
       "        vertical-align: top;\n",
       "    }\n",
       "\n",
       "    .dataframe thead th {\n",
       "        text-align: right;\n",
       "    }\n",
       "</style>\n",
       "<table border=\"1\" class=\"dataframe\">\n",
       "  <thead>\n",
       "    <tr style=\"text-align: right;\">\n",
       "      <th></th>\n",
       "      <th>is_judicial</th>\n",
       "      <th>position_name</th>\n",
       "      <th>sub_area_name</th>\n",
       "      <th>sub_area_value_secondary</th>\n",
       "      <th>sub_area_value</th>\n",
       "      <th>is_retention</th>\n",
       "      <th>tier</th>\n",
       "      <th>frequency</th>\n",
       "      <th>sub_area_name_secondary</th>\n",
       "      <th>number_of_seats</th>\n",
       "      <th>normalized_position_name</th>\n",
       "      <th>reference_year</th>\n",
       "      <th>normalized_position_id</th>\n",
       "      <th>partisan_type</th>\n",
       "      <th>level</th>\n",
       "    </tr>\n",
       "  </thead>\n",
       "  <tbody>\n",
       "    <tr>\n",
       "      <th>515</th>\n",
       "      <td>False</td>\n",
       "      <td>Adair County Sheriff</td>\n",
       "      <td>&lt;NA&gt;</td>\n",
       "      <td>&lt;NA&gt;</td>\n",
       "      <td>&lt;NA&gt;</td>\n",
       "      <td>False</td>\n",
       "      <td>3</td>\n",
       "      <td>[4]</td>\n",
       "      <td>&lt;NA&gt;</td>\n",
       "      <td>1</td>\n",
       "      <td>County Sheriff</td>\n",
       "      <td>2024</td>\n",
       "      <td>980</td>\n",
       "      <td>partisan</td>\n",
       "      <td>county</td>\n",
       "    </tr>\n",
       "    <tr>\n",
       "      <th>10357</th>\n",
       "      <td>False</td>\n",
       "      <td>Adair County Sheriff</td>\n",
       "      <td>&lt;NA&gt;</td>\n",
       "      <td>&lt;NA&gt;</td>\n",
       "      <td>&lt;NA&gt;</td>\n",
       "      <td>False</td>\n",
       "      <td>3</td>\n",
       "      <td>[4]</td>\n",
       "      <td>&lt;NA&gt;</td>\n",
       "      <td>1</td>\n",
       "      <td>County Sheriff</td>\n",
       "      <td>2024</td>\n",
       "      <td>980</td>\n",
       "      <td>partisan</td>\n",
       "      <td>county</td>\n",
       "    </tr>\n",
       "    <tr>\n",
       "      <th>21489</th>\n",
       "      <td>False</td>\n",
       "      <td>Adair County Sheriff</td>\n",
       "      <td>&lt;NA&gt;</td>\n",
       "      <td>&lt;NA&gt;</td>\n",
       "      <td>&lt;NA&gt;</td>\n",
       "      <td>False</td>\n",
       "      <td>3</td>\n",
       "      <td>[4]</td>\n",
       "      <td>&lt;NA&gt;</td>\n",
       "      <td>1</td>\n",
       "      <td>County Sheriff</td>\n",
       "      <td>2024</td>\n",
       "      <td>980</td>\n",
       "      <td>partisan</td>\n",
       "      <td>county</td>\n",
       "    </tr>\n",
       "    <tr>\n",
       "      <th>21175</th>\n",
       "      <td>False</td>\n",
       "      <td>Adams County Auditor</td>\n",
       "      <td>&lt;NA&gt;</td>\n",
       "      <td>&lt;NA&gt;</td>\n",
       "      <td>&lt;NA&gt;</td>\n",
       "      <td>False</td>\n",
       "      <td>3</td>\n",
       "      <td>[4]</td>\n",
       "      <td>&lt;NA&gt;</td>\n",
       "      <td>1</td>\n",
       "      <td>County Auditor</td>\n",
       "      <td>2024</td>\n",
       "      <td>930</td>\n",
       "      <td>partisan</td>\n",
       "      <td>county</td>\n",
       "    </tr>\n",
       "    <tr>\n",
       "      <th>21522</th>\n",
       "      <td>False</td>\n",
       "      <td>Adams County Auditor</td>\n",
       "      <td>&lt;NA&gt;</td>\n",
       "      <td>&lt;NA&gt;</td>\n",
       "      <td>&lt;NA&gt;</td>\n",
       "      <td>False</td>\n",
       "      <td>3</td>\n",
       "      <td>[4]</td>\n",
       "      <td>&lt;NA&gt;</td>\n",
       "      <td>1</td>\n",
       "      <td>County Auditor</td>\n",
       "      <td>2024</td>\n",
       "      <td>930</td>\n",
       "      <td>partisan</td>\n",
       "      <td>county</td>\n",
       "    </tr>\n",
       "    <tr>\n",
       "      <th>...</th>\n",
       "      <td>...</td>\n",
       "      <td>...</td>\n",
       "      <td>...</td>\n",
       "      <td>...</td>\n",
       "      <td>...</td>\n",
       "      <td>...</td>\n",
       "      <td>...</td>\n",
       "      <td>...</td>\n",
       "      <td>...</td>\n",
       "      <td>...</td>\n",
       "      <td>...</td>\n",
       "      <td>...</td>\n",
       "      <td>...</td>\n",
       "      <td>...</td>\n",
       "      <td>...</td>\n",
       "    </tr>\n",
       "    <tr>\n",
       "      <th>64396</th>\n",
       "      <td>True</td>\n",
       "      <td>Florida Appeals Court Judge - District 1 (Reta...</td>\n",
       "      <td>District</td>\n",
       "      <td>&lt;NA&gt;</td>\n",
       "      <td>1</td>\n",
       "      <td>True</td>\n",
       "      <td>2</td>\n",
       "      <td>[6]</td>\n",
       "      <td>&lt;NA&gt;</td>\n",
       "      <td>1</td>\n",
       "      <td>State Appellate Court Justice - Retention</td>\n",
       "      <td>2024</td>\n",
       "      <td>4052</td>\n",
       "      <td>nonpartisan</td>\n",
       "      <td>state</td>\n",
       "    </tr>\n",
       "    <tr>\n",
       "      <th>55388</th>\n",
       "      <td>True</td>\n",
       "      <td>Lincoln County Probate Judge</td>\n",
       "      <td>&lt;NA&gt;</td>\n",
       "      <td>&lt;NA&gt;</td>\n",
       "      <td>&lt;NA&gt;</td>\n",
       "      <td>False</td>\n",
       "      <td>3</td>\n",
       "      <td>[4]</td>\n",
       "      <td>&lt;NA&gt;</td>\n",
       "      <td>1</td>\n",
       "      <td>County Court Judge - Probate//County Court Jud...</td>\n",
       "      <td>2024</td>\n",
       "      <td>4475</td>\n",
       "      <td>partisan</td>\n",
       "      <td>county</td>\n",
       "    </tr>\n",
       "    <tr>\n",
       "      <th>82303</th>\n",
       "      <td>True</td>\n",
       "      <td>Lincoln County Probate Judge</td>\n",
       "      <td>&lt;NA&gt;</td>\n",
       "      <td>&lt;NA&gt;</td>\n",
       "      <td>&lt;NA&gt;</td>\n",
       "      <td>False</td>\n",
       "      <td>3</td>\n",
       "      <td>[4]</td>\n",
       "      <td>&lt;NA&gt;</td>\n",
       "      <td>1</td>\n",
       "      <td>County Court Judge - Probate//County Court Jud...</td>\n",
       "      <td>2024</td>\n",
       "      <td>4475</td>\n",
       "      <td>partisan</td>\n",
       "      <td>county</td>\n",
       "    </tr>\n",
       "    <tr>\n",
       "      <th>65265</th>\n",
       "      <td>True</td>\n",
       "      <td>New York Supreme Court - District 10</td>\n",
       "      <td>District</td>\n",
       "      <td>&lt;NA&gt;</td>\n",
       "      <td>10</td>\n",
       "      <td>False</td>\n",
       "      <td>3</td>\n",
       "      <td>[14]</td>\n",
       "      <td>&lt;NA&gt;</td>\n",
       "      <td>1</td>\n",
       "      <td>State Trial Court Judge - General</td>\n",
       "      <td>2023</td>\n",
       "      <td>4027</td>\n",
       "      <td>partisan</td>\n",
       "      <td>state</td>\n",
       "    </tr>\n",
       "    <tr>\n",
       "      <th>65273</th>\n",
       "      <td>True</td>\n",
       "      <td>New York Supreme Court - District 10</td>\n",
       "      <td>District</td>\n",
       "      <td>&lt;NA&gt;</td>\n",
       "      <td>10</td>\n",
       "      <td>False</td>\n",
       "      <td>3</td>\n",
       "      <td>[14]</td>\n",
       "      <td>&lt;NA&gt;</td>\n",
       "      <td>1</td>\n",
       "      <td>State Trial Court Judge - General</td>\n",
       "      <td>2023</td>\n",
       "      <td>4027</td>\n",
       "      <td>partisan</td>\n",
       "      <td>state</td>\n",
       "    </tr>\n",
       "  </tbody>\n",
       "</table>\n",
       "<p>2106 rows × 15 columns</p>\n",
       "</div>"
      ],
      "text/plain": [
       "       is_judicial                                      position_name sub_area_name sub_area_value_secondary sub_area_value  is_retention  tier frequency sub_area_name_secondary  number_of_seats                           normalized_position_name  reference_year  normalized_position_id partisan_type   level\n",
       "515          False                               Adair County Sheriff          <NA>                     <NA>           <NA>         False     3       [4]                    <NA>                1                                     County Sheriff            2024                     980      partisan  county\n",
       "10357        False                               Adair County Sheriff          <NA>                     <NA>           <NA>         False     3       [4]                    <NA>                1                                     County Sheriff            2024                     980      partisan  county\n",
       "21489        False                               Adair County Sheriff          <NA>                     <NA>           <NA>         False     3       [4]                    <NA>                1                                     County Sheriff            2024                     980      partisan  county\n",
       "21175        False                               Adams County Auditor          <NA>                     <NA>           <NA>         False     3       [4]                    <NA>                1                                     County Auditor            2024                     930      partisan  county\n",
       "21522        False                               Adams County Auditor          <NA>                     <NA>           <NA>         False     3       [4]                    <NA>                1                                     County Auditor            2024                     930      partisan  county\n",
       "...            ...                                                ...           ...                      ...            ...           ...   ...       ...                     ...              ...                                                ...             ...                     ...           ...     ...\n",
       "64396         True  Florida Appeals Court Judge - District 1 (Reta...      District                     <NA>              1          True     2       [6]                    <NA>                1          State Appellate Court Justice - Retention            2024                    4052   nonpartisan   state\n",
       "55388         True                       Lincoln County Probate Judge          <NA>                     <NA>           <NA>         False     3       [4]                    <NA>                1  County Court Judge - Probate//County Court Jud...            2024                    4475      partisan  county\n",
       "82303         True                       Lincoln County Probate Judge          <NA>                     <NA>           <NA>         False     3       [4]                    <NA>                1  County Court Judge - Probate//County Court Jud...            2024                    4475      partisan  county\n",
       "65265         True               New York Supreme Court - District 10      District                     <NA>             10         False     3      [14]                    <NA>                1                  State Trial Court Judge - General            2023                    4027      partisan   state\n",
       "65273         True               New York Supreme Court - District 10      District                     <NA>             10         False     3      [14]                    <NA>                1                  State Trial Court Judge - General            2023                    4027      partisan   state\n",
       "\n",
       "[2106 rows x 15 columns]"
      ]
     },
     "execution_count": 70,
     "metadata": {},
     "output_type": "execute_result"
    }
   ],
   "source": [
    "# is normalized_position_id the de-duplicated version of position_id? [Update: no]\n",
    "br_positions.loc[br_positions.duplicated(subset=list(position_fields), keep=False),:].sort_values(list(position_fields))"
   ]
  },
  {
   "cell_type": "code",
   "execution_count": 25,
   "id": "5ab991a3",
   "metadata": {},
   "outputs": [
    {
     "data": {
      "text/plain": [
       "1       41\n",
       "2       20\n",
       "4       11\n",
       "5        8\n",
       "3        8\n",
       "        ..\n",
       "282      1\n",
       "1535     1\n",
       "467      1\n",
       "36       1\n",
       "141      1\n",
       "Name: position_id, Length: 84, dtype: int64"
      ]
     },
     "execution_count": 25,
     "metadata": {},
     "output_type": "execute_result"
    }
   ],
   "source": [
    "br_election_data.groupby('normalized_position_id')['position_id'].nunique().value_counts()"
   ]
  },
  {
   "cell_type": "code",
   "execution_count": 26,
   "id": "c531b35f",
   "metadata": {},
   "outputs": [
    {
     "data": {
      "text/plain": [
       "frequency                   False\n",
       "position_name               False\n",
       "sub_area_value_secondary    False\n",
       "is_retention                 True\n",
       "reference_year              False\n",
       "number_of_seats             False\n",
       "sub_area_value              False\n",
       "sub_area_name_secondary     False\n",
       "level                       False\n",
       "tier                         True\n",
       "normalized_position_name     True\n",
       "partisan_type               False\n",
       "is_judicial                  True\n",
       "normalized_position_id       True\n",
       "sub_area_name               False\n",
       "dtype: bool"
      ]
     },
     "execution_count": 26,
     "metadata": {},
     "output_type": "execute_result"
    }
   ],
   "source": [
    "br_election_data.groupby('normalized_position_id')[list(position_fields)].nunique().le(1).all()"
   ]
  },
  {
   "cell_type": "markdown",
   "id": "306b8352",
   "metadata": {},
   "source": [
    "I guess I'll just leave the dupes in. The IDs are unique, and I need to be able to define them."
   ]
  },
  {
   "cell_type": "markdown",
   "id": "5f87b801-d419-432d-bdb3-a64e0041b2f5",
   "metadata": {},
   "source": [
    "### Races"
   ]
  },
  {
   "cell_type": "code",
   "execution_count": 27,
   "id": "e61112a0-2ce0-4d52-a7ed-9edda948d40a",
   "metadata": {},
   "outputs": [],
   "source": [
    "race_fields_ids = race_fields | set(id_cols)\n",
    "br_position_election_assoc = br_election_data.drop_duplicates('race_id')[list(race_fields_ids)].copy()"
   ]
  },
  {
   "cell_type": "code",
   "execution_count": 28,
   "id": "58e460fa-e018-4d55-91ec-457e2ea3cd70",
   "metadata": {},
   "outputs": [
    {
     "data": {
      "text/plain": [
       "(82760, 8)"
      ]
     },
     "execution_count": 28,
     "metadata": {},
     "output_type": "execute_result"
    }
   ],
   "source": [
    "br_position_election_assoc.shape"
   ]
  },
  {
   "cell_type": "code",
   "execution_count": 29,
   "id": "36b175a6",
   "metadata": {},
   "outputs": [],
   "source": [
    "assert br_position_election_assoc.duplicated(subset=race_fields_ids).sum() == 0"
   ]
  },
  {
   "cell_type": "markdown",
   "id": "71703591",
   "metadata": {},
   "source": [
    "### Position : Counties"
   ]
  },
  {
   "cell_type": "code",
   "execution_count": 30,
   "id": "012dd2cc",
   "metadata": {},
   "outputs": [],
   "source": [
    "br_position_county_assoc = br_election_data.groupby(['position_id', 'county_id_fips'], as_index=False)['raw_county'].first()"
   ]
  },
  {
   "cell_type": "code",
   "execution_count": 31,
   "id": "eb03693b",
   "metadata": {},
   "outputs": [
    {
     "data": {
      "text/plain": [
       "(90751, 3)"
      ]
     },
     "execution_count": 31,
     "metadata": {},
     "output_type": "execute_result"
    }
   ],
   "source": [
    "br_position_county_assoc.shape"
   ]
  },
  {
   "cell_type": "markdown",
   "id": "f65f34cb-569e-4fa5-8ebe-f4b3f74f1ca0",
   "metadata": {},
   "source": [
    "## Test"
   ]
  },
  {
   "cell_type": "code",
   "execution_count": 32,
   "id": "405170cc",
   "metadata": {},
   "outputs": [],
   "source": [
    "# check all columns are accounted for\n",
    "assert set(br_election_data.columns).symmetric_difference(set(id_cols) | election_fields | position_fields | race_fields | {'raw_county', 'county_id_fips'}) == set()"
   ]
  }
 ],
 "metadata": {
  "kernelspec": {
   "display_name": "Python 3 (ipykernel)",
   "language": "python",
   "name": "python3"
  },
  "language_info": {
   "codemirror_mode": {
    "name": "ipython",
    "version": 3
   },
   "file_extension": ".py",
   "mimetype": "text/x-python",
   "name": "python",
   "nbconvert_exporter": "python",
   "pygments_lexer": "ipython3",
   "version": "3.10.11"
  }
 },
 "nbformat": 4,
 "nbformat_minor": 5
}
