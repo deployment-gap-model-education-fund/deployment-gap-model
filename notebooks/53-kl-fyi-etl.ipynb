{
 "cells": [
  {
   "cell_type": "code",
   "execution_count": 1,
   "metadata": {},
   "outputs": [],
   "source": [
    "%load_ext autoreload\n",
    "%autoreload 2"
   ]
  },
  {
   "cell_type": "code",
   "execution_count": 2,
   "metadata": {},
   "outputs": [],
   "source": [
    "import pandas as pd\n",
    "import dbcp"
   ]
  },
  {
   "cell_type": "code",
   "execution_count": 3,
   "metadata": {},
   "outputs": [],
   "source": [
    "pd.set_option('display.max_columns', None)"
   ]
  },
  {
   "cell_type": "markdown",
   "metadata": {},
   "source": [
    "# Run Extract"
   ]
  },
  {
   "cell_type": "code",
   "execution_count": 36,
   "metadata": {},
   "outputs": [],
   "source": [
    "fyi_uri = (\n",
    "    \"gs://dgm-archive/inconnection.fyi/interconnection_fyi_dataset_2025-09-01.csv\"\n",
    ")\n",
    "fyi_raw_dfs = dbcp.extract.fyi_queue.extract(fyi_uri)"
   ]
  },
  {
   "cell_type": "code",
   "execution_count": 37,
   "metadata": {},
   "outputs": [],
   "source": [
    "raw_df = fyi_raw_dfs[\"fyi_queue\"]"
   ]
  },
  {
   "cell_type": "markdown",
   "metadata": {},
   "source": [
    "# Look at raw data"
   ]
  },
  {
   "cell_type": "markdown",
   "metadata": {},
   "source": [
    "Check if there are any projects that don't have queue date or status."
   ]
  },
  {
   "cell_type": "code",
   "execution_count": 38,
   "metadata": {},
   "outputs": [
    {
     "data": {
      "text/html": [
       "<div>\n",
       "<style scoped>\n",
       "    .dataframe tbody tr th:only-of-type {\n",
       "        vertical-align: middle;\n",
       "    }\n",
       "\n",
       "    .dataframe tbody tr th {\n",
       "        vertical-align: top;\n",
       "    }\n",
       "\n",
       "    .dataframe thead th {\n",
       "        text-align: right;\n",
       "    }\n",
       "</style>\n",
       "<table border=\"1\" class=\"dataframe\">\n",
       "  <thead>\n",
       "    <tr style=\"text-align: right;\">\n",
       "      <th></th>\n",
       "      <th>unique_id</th>\n",
       "      <th>project_type</th>\n",
       "      <th>power_market</th>\n",
       "      <th>transmission_owner</th>\n",
       "      <th>canonical_transmission_owners</th>\n",
       "      <th>queue_id</th>\n",
       "      <th>project_name</th>\n",
       "      <th>actual_completion_date</th>\n",
       "      <th>proposed_completion_date</th>\n",
       "      <th>withdrawn_date</th>\n",
       "      <th>queue_date</th>\n",
       "      <th>county_state_pairs</th>\n",
       "      <th>point_of_interconnection</th>\n",
       "      <th>county</th>\n",
       "      <th>state</th>\n",
       "      <th>canonical_generation_types</th>\n",
       "      <th>interconnection_service_type</th>\n",
       "      <th>capacity_mw</th>\n",
       "      <th>summer_capacity_mw</th>\n",
       "      <th>winter_capacity_mw</th>\n",
       "      <th>queue_status</th>\n",
       "      <th>current_phase_or_stage_raw</th>\n",
       "      <th>interconnection_status_raw</th>\n",
       "      <th>interconnection_status_fyi</th>\n",
       "      <th>interconnection_date</th>\n",
       "      <th>developer</th>\n",
       "      <th>raw_developer</th>\n",
       "      <th>project_spv</th>\n",
       "      <th>utility</th>\n",
       "      <th>iso</th>\n",
       "      <th>cluster</th>\n",
       "      <th>general_comments</th>\n",
       "      <th>latitude</th>\n",
       "      <th>longitude</th>\n",
       "      <th>capacity_by_generation_type_breakdown</th>\n",
       "      <th>interconnection_voltage_kv</th>\n",
       "      <th>fips_codes</th>\n",
       "      <th>schedule_next_event_date</th>\n",
       "      <th>schedule_next_event_name</th>\n",
       "      <th>most_recent_study_date</th>\n",
       "      <th>most_recent_allocated_network_upgrade_cost</th>\n",
       "      <th>most_recent_study_url</th>\n",
       "    </tr>\n",
       "  </thead>\n",
       "  <tbody>\n",
       "  </tbody>\n",
       "</table>\n",
       "</div>"
      ],
      "text/plain": [
       "Empty DataFrame\n",
       "Columns: [unique_id, project_type, power_market, transmission_owner, canonical_transmission_owners, queue_id, project_name, actual_completion_date, proposed_completion_date, withdrawn_date, queue_date, county_state_pairs, point_of_interconnection, county, state, canonical_generation_types, interconnection_service_type, capacity_mw, summer_capacity_mw, winter_capacity_mw, queue_status, current_phase_or_stage_raw, interconnection_status_raw, interconnection_status_fyi, interconnection_date, developer, raw_developer, project_spv, utility, iso, cluster, general_comments, latitude, longitude, capacity_by_generation_type_breakdown, interconnection_voltage_kv, fips_codes, schedule_next_event_date, schedule_next_event_name, most_recent_study_date, most_recent_allocated_network_upgrade_cost, most_recent_study_url]\n",
       "Index: []"
      ]
     },
     "execution_count": 38,
     "metadata": {},
     "output_type": "execute_result"
    }
   ],
   "source": [
    "raw_df[(raw_df.queue_date.isnull()) & (raw_df.queue_status.isnull())]"
   ]
  },
  {
   "cell_type": "markdown",
   "metadata": {},
   "source": [
    "Check if `unique_id` is really unique. We will rename this column to `project_id`"
   ]
  },
  {
   "cell_type": "code",
   "execution_count": 39,
   "metadata": {},
   "outputs": [
    {
     "data": {
      "text/plain": [
       "True"
      ]
     },
     "execution_count": 39,
     "metadata": {},
     "output_type": "execute_result"
    }
   ],
   "source": [
    "raw_df.unique_id.is_unique"
   ]
  },
  {
   "cell_type": "markdown",
   "metadata": {},
   "source": [
    "Harmonize interconnection statuses."
   ]
  },
  {
   "cell_type": "code",
   "execution_count": 8,
   "metadata": {},
   "outputs": [],
   "source": [
    "date_cols = [\n",
    "        col\n",
    "        for col in raw_df.columns\n",
    "        if (\n",
    "            (col.startswith(\"date_\") or col.endswith(\"_date\"))\n",
    "            and not pd.api.types.is_datetime64_any_dtype(raw_df.loc[:, col])\n",
    "        )\n",
    "    ]"
   ]
  },
  {
   "cell_type": "code",
   "execution_count": 9,
   "metadata": {},
   "outputs": [
    {
     "data": {
      "text/plain": [
       "['queue_status', 'interconnection_status_raw', 'interconnection_status_fyi']"
      ]
     },
     "execution_count": 9,
     "metadata": {},
     "output_type": "execute_result"
    }
   ],
   "source": [
    "[col for col in raw_df.columns if \"status\" in col]"
   ]
  },
  {
   "cell_type": "code",
   "execution_count": 10,
   "metadata": {},
   "outputs": [
    {
     "data": {
      "text/plain": [
       "IA Executed                    7276\n",
       "Withdrawn                      7249\n",
       "System Impact Study            5029\n",
       "Feasibility Study              4400\n",
       "Facility Study                 2270\n",
       "Cluster Study                  2103\n",
       "In Progress (unknown study)    1943\n",
       "Operational                    1104\n",
       "Not Started                     805\n",
       "Suspended                       339\n",
       "IA Pending                      273\n",
       "Construction                    180\n",
       "Name: interconnection_status_fyi, dtype: int64"
      ]
     },
     "execution_count": 10,
     "metadata": {},
     "output_type": "execute_result"
    }
   ],
   "source": [
    "raw_df[\"interconnection_status_fyi\"].value_counts()"
   ]
  },
  {
   "cell_type": "code",
   "execution_count": 10,
   "metadata": {},
   "outputs": [],
   "source": [
    "allowed_statuses = {\n",
    "        \"Cluster Study\",\n",
    "        \"Combined\",\n",
    "        \"Construction\",\n",
    "        \"Facility Study\",\n",
    "        \"Feasibility Study\",\n",
    "        \"IA Executed\",\n",
    "        \"IA Pending\",\n",
    "        \"In Progress (unknown study)\",\n",
    "        \"Not Started\",\n",
    "        \"Operational\",\n",
    "        \"Phase 4 Study\",\n",
    "        \"Suspended\",\n",
    "        \"System Impact Study\",\n",
    "        \"Withdrawn\",\n",
    "    }"
   ]
  },
  {
   "cell_type": "code",
   "execution_count": 11,
   "metadata": {},
   "outputs": [],
   "source": [
    "fyi_status_values = set(raw_df[\"interconnection_status_fyi\"].unique())"
   ]
  },
  {
   "cell_type": "code",
   "execution_count": 12,
   "metadata": {},
   "outputs": [
    {
     "data": {
      "text/plain": [
       "{nan}"
      ]
     },
     "execution_count": 12,
     "metadata": {},
     "output_type": "execute_result"
    }
   ],
   "source": [
    "fyi_status_values - allowed_statuses"
   ]
  },
  {
   "cell_type": "markdown",
   "metadata": {},
   "source": [
    "Look at the `capacity_by_generation_type_breakdown` column"
   ]
  },
  {
   "cell_type": "code",
   "execution_count": 42,
   "metadata": {},
   "outputs": [
    {
     "data": {
      "text/plain": [
       "['capacity_mw',\n",
       " 'summer_capacity_mw',\n",
       " 'winter_capacity_mw',\n",
       " 'capacity_by_generation_type_breakdown']"
      ]
     },
     "execution_count": 42,
     "metadata": {},
     "output_type": "execute_result"
    }
   ],
   "source": [
    "[col for col in raw_df if \"capacity\" in col]"
   ]
  },
  {
   "cell_type": "code",
   "execution_count": 40,
   "metadata": {},
   "outputs": [
    {
     "data": {
      "text/plain": [
       "True     35600\n",
       "False     4107\n",
       "Name: capacity_by_generation_type_breakdown, dtype: int64"
      ]
     },
     "execution_count": 40,
     "metadata": {},
     "output_type": "execute_result"
    }
   ],
   "source": [
    "raw_df[\"capacity_by_generation_type_breakdown\"].isnull().value_counts()"
   ]
  },
  {
   "cell_type": "code",
   "execution_count": 41,
   "metadata": {},
   "outputs": [
    {
     "data": {
      "text/plain": [
       "False    38961\n",
       "True       746\n",
       "Name: capacity_mw, dtype: int64"
      ]
     },
     "execution_count": 41,
     "metadata": {},
     "output_type": "execute_result"
    }
   ],
   "source": [
    "raw_df[\"capacity_mw\"].isnull().value_counts()"
   ]
  },
  {
   "cell_type": "code",
   "execution_count": 21,
   "metadata": {},
   "outputs": [
    {
     "data": {
      "text/html": [
       "<div>\n",
       "<style scoped>\n",
       "    .dataframe tbody tr th:only-of-type {\n",
       "        vertical-align: middle;\n",
       "    }\n",
       "\n",
       "    .dataframe tbody tr th {\n",
       "        vertical-align: top;\n",
       "    }\n",
       "\n",
       "    .dataframe thead th {\n",
       "        text-align: right;\n",
       "    }\n",
       "</style>\n",
       "<table border=\"1\" class=\"dataframe\">\n",
       "  <thead>\n",
       "    <tr style=\"text-align: right;\">\n",
       "      <th></th>\n",
       "      <th>capacity_mw</th>\n",
       "      <th>capacity_by_generation_type_breakdown</th>\n",
       "    </tr>\n",
       "  </thead>\n",
       "  <tbody>\n",
       "    <tr>\n",
       "      <th>1065</th>\n",
       "      <td>375.0</td>\n",
       "      <td>- canonical_gen_type: Solar\\n  mw: 100\\n- cano...</td>\n",
       "    </tr>\n",
       "    <tr>\n",
       "      <th>1066</th>\n",
       "      <td>375.0</td>\n",
       "      <td>- canonical_gen_type: Battery\\n  mw: 185\\n- ca...</td>\n",
       "    </tr>\n",
       "    <tr>\n",
       "      <th>1067</th>\n",
       "      <td>125.0</td>\n",
       "      <td>- canonical_gen_type: Battery\\n  mw: 65\\n- can...</td>\n",
       "    </tr>\n",
       "    <tr>\n",
       "      <th>1134</th>\n",
       "      <td>80.0</td>\n",
       "      <td>- canonical_gen_type: Battery\\n  mw: 30\\n- can...</td>\n",
       "    </tr>\n",
       "    <tr>\n",
       "      <th>1341</th>\n",
       "      <td>50.0</td>\n",
       "      <td>- canonical_gen_type: Wind\\n  mw: 50\\n</td>\n",
       "    </tr>\n",
       "    <tr>\n",
       "      <th>...</th>\n",
       "      <td>...</td>\n",
       "      <td>...</td>\n",
       "    </tr>\n",
       "    <tr>\n",
       "      <th>39238</th>\n",
       "      <td>200.0</td>\n",
       "      <td>- canonical_gen_type: Solar\\n  mw: 200\\n- cano...</td>\n",
       "    </tr>\n",
       "    <tr>\n",
       "      <th>39239</th>\n",
       "      <td>500.0</td>\n",
       "      <td>- canonical_gen_type: Solar\\n  mw: 500\\n- cano...</td>\n",
       "    </tr>\n",
       "    <tr>\n",
       "      <th>39244</th>\n",
       "      <td>600.0</td>\n",
       "      <td>- canonical_gen_type: Battery\\n  mw: 200\\n- ca...</td>\n",
       "    </tr>\n",
       "    <tr>\n",
       "      <th>39247</th>\n",
       "      <td>350.0</td>\n",
       "      <td>- canonical_gen_type: Solar\\n  mw: 350\\n- cano...</td>\n",
       "    </tr>\n",
       "    <tr>\n",
       "      <th>39248</th>\n",
       "      <td>600.0</td>\n",
       "      <td>- canonical_gen_type: Solar\\n  mw: 255\\n- cano...</td>\n",
       "    </tr>\n",
       "  </tbody>\n",
       "</table>\n",
       "<p>4107 rows × 2 columns</p>\n",
       "</div>"
      ],
      "text/plain": [
       "       capacity_mw              capacity_by_generation_type_breakdown\n",
       "1065         375.0  - canonical_gen_type: Solar\\n  mw: 100\\n- cano...\n",
       "1066         375.0  - canonical_gen_type: Battery\\n  mw: 185\\n- ca...\n",
       "1067         125.0  - canonical_gen_type: Battery\\n  mw: 65\\n- can...\n",
       "1134          80.0  - canonical_gen_type: Battery\\n  mw: 30\\n- can...\n",
       "1341          50.0             - canonical_gen_type: Wind\\n  mw: 50\\n\n",
       "...            ...                                                ...\n",
       "39238        200.0  - canonical_gen_type: Solar\\n  mw: 200\\n- cano...\n",
       "39239        500.0  - canonical_gen_type: Solar\\n  mw: 500\\n- cano...\n",
       "39244        600.0  - canonical_gen_type: Battery\\n  mw: 200\\n- ca...\n",
       "39247        350.0  - canonical_gen_type: Solar\\n  mw: 350\\n- cano...\n",
       "39248        600.0  - canonical_gen_type: Solar\\n  mw: 255\\n- cano...\n",
       "\n",
       "[4107 rows x 2 columns]"
      ]
     },
     "execution_count": 21,
     "metadata": {},
     "output_type": "execute_result"
    }
   ],
   "source": [
    "raw_df[~raw_df[\"capacity_by_generation_type_breakdown\"].isnull()][[\"capacity_mw\", \"capacity_by_generation_type_breakdown\"]]"
   ]
  },
  {
   "cell_type": "code",
   "execution_count": 25,
   "metadata": {},
   "outputs": [
    {
     "data": {
      "text/plain": [
       "'- canonical_gen_type: Solar\\n  mw: 100\\n- canonical_gen_type: Battery\\n  mw: 185\\n- canonical_gen_type: Wind\\n  mw: 275\\n'"
      ]
     },
     "execution_count": 25,
     "metadata": {},
     "output_type": "execute_result"
    }
   ],
   "source": [
    "raw_df[~raw_df[\"capacity_by_generation_type_breakdown\"].isnull()][\"capacity_by_generation_type_breakdown\"].iloc[0]"
   ]
  },
  {
   "cell_type": "markdown",
   "metadata": {},
   "source": [
    "Look at the capacity by generation type breakdown. Capacity is a sum of the capacities in capacity_by_generation_type_breakdown (excluding battery)"
   ]
  },
  {
   "cell_type": "code",
   "execution_count": 51,
   "metadata": {},
   "outputs": [],
   "source": [
    "raw_df[\"capacity_by_generation_type_breakdown\"] = raw_df[\"capacity_by_generation_type_breakdown\"].astype(str)"
   ]
  },
  {
   "cell_type": "code",
   "execution_count": 53,
   "metadata": {},
   "outputs": [
    {
     "data": {
      "text/plain": [
       "nan    35600\n",
       "Name: capacity_by_generation_type_breakdown, dtype: int64"
      ]
     },
     "execution_count": 53,
     "metadata": {},
     "output_type": "execute_result"
    }
   ],
   "source": [
    "raw_df[(~raw_df[\"capacity_by_generation_type_breakdown\"].isnull()) &\n",
    "~(raw_df[\"capacity_by_generation_type_breakdown\"].str.startswith(\"- canonical_gen_type:\"))\n",
    "][\"capacity_by_generation_type_breakdown\"].value_counts()"
   ]
  },
  {
   "cell_type": "code",
   "execution_count": 59,
   "metadata": {},
   "outputs": [
    {
     "data": {
      "text/html": [
       "<div>\n",
       "<style scoped>\n",
       "    .dataframe tbody tr th:only-of-type {\n",
       "        vertical-align: middle;\n",
       "    }\n",
       "\n",
       "    .dataframe tbody tr th {\n",
       "        vertical-align: top;\n",
       "    }\n",
       "\n",
       "    .dataframe thead th {\n",
       "        text-align: right;\n",
       "    }\n",
       "</style>\n",
       "<table border=\"1\" class=\"dataframe\">\n",
       "  <thead>\n",
       "    <tr style=\"text-align: right;\">\n",
       "      <th></th>\n",
       "      <th>capacity_by_generation_type_breakdown</th>\n",
       "      <th>capacity_mw</th>\n",
       "      <th>canonical_generation_types</th>\n",
       "    </tr>\n",
       "  </thead>\n",
       "  <tbody>\n",
       "    <tr>\n",
       "      <th>1065</th>\n",
       "      <td>- canonical_gen_type: Solar\\n  mw: 100\\n- cano...</td>\n",
       "      <td>375.0</td>\n",
       "      <td>Battery + Solar + Wind</td>\n",
       "    </tr>\n",
       "    <tr>\n",
       "      <th>1066</th>\n",
       "      <td>- canonical_gen_type: Battery\\n  mw: 185\\n- ca...</td>\n",
       "      <td>375.0</td>\n",
       "      <td>Battery + Solar</td>\n",
       "    </tr>\n",
       "    <tr>\n",
       "      <th>1067</th>\n",
       "      <td>- canonical_gen_type: Battery\\n  mw: 65\\n- can...</td>\n",
       "      <td>125.0</td>\n",
       "      <td>Battery + Solar</td>\n",
       "    </tr>\n",
       "    <tr>\n",
       "      <th>1134</th>\n",
       "      <td>- canonical_gen_type: Battery\\n  mw: 30\\n- can...</td>\n",
       "      <td>80.0</td>\n",
       "      <td>Battery + Solar</td>\n",
       "    </tr>\n",
       "    <tr>\n",
       "      <th>1341</th>\n",
       "      <td>- canonical_gen_type: Wind\\n  mw: 50\\n</td>\n",
       "      <td>50.0</td>\n",
       "      <td>Wind</td>\n",
       "    </tr>\n",
       "    <tr>\n",
       "      <th>...</th>\n",
       "      <td>...</td>\n",
       "      <td>...</td>\n",
       "      <td>...</td>\n",
       "    </tr>\n",
       "    <tr>\n",
       "      <th>39238</th>\n",
       "      <td>- canonical_gen_type: Solar\\n  mw: 200\\n- cano...</td>\n",
       "      <td>200.0</td>\n",
       "      <td>Battery + Solar</td>\n",
       "    </tr>\n",
       "    <tr>\n",
       "      <th>39239</th>\n",
       "      <td>- canonical_gen_type: Solar\\n  mw: 500\\n- cano...</td>\n",
       "      <td>500.0</td>\n",
       "      <td>Other</td>\n",
       "    </tr>\n",
       "    <tr>\n",
       "      <th>39244</th>\n",
       "      <td>- canonical_gen_type: Battery\\n  mw: 200\\n- ca...</td>\n",
       "      <td>600.0</td>\n",
       "      <td>Other</td>\n",
       "    </tr>\n",
       "    <tr>\n",
       "      <th>39247</th>\n",
       "      <td>- canonical_gen_type: Solar\\n  mw: 350\\n- cano...</td>\n",
       "      <td>350.0</td>\n",
       "      <td>Other</td>\n",
       "    </tr>\n",
       "    <tr>\n",
       "      <th>39248</th>\n",
       "      <td>- canonical_gen_type: Solar\\n  mw: 255\\n- cano...</td>\n",
       "      <td>600.0</td>\n",
       "      <td>Battery + Solar</td>\n",
       "    </tr>\n",
       "  </tbody>\n",
       "</table>\n",
       "<p>4107 rows × 3 columns</p>\n",
       "</div>"
      ],
      "text/plain": [
       "                   capacity_by_generation_type_breakdown  capacity_mw  \\\n",
       "1065   - canonical_gen_type: Solar\\n  mw: 100\\n- cano...        375.0   \n",
       "1066   - canonical_gen_type: Battery\\n  mw: 185\\n- ca...        375.0   \n",
       "1067   - canonical_gen_type: Battery\\n  mw: 65\\n- can...        125.0   \n",
       "1134   - canonical_gen_type: Battery\\n  mw: 30\\n- can...         80.0   \n",
       "1341              - canonical_gen_type: Wind\\n  mw: 50\\n         50.0   \n",
       "...                                                  ...          ...   \n",
       "39238  - canonical_gen_type: Solar\\n  mw: 200\\n- cano...        200.0   \n",
       "39239  - canonical_gen_type: Solar\\n  mw: 500\\n- cano...        500.0   \n",
       "39244  - canonical_gen_type: Battery\\n  mw: 200\\n- ca...        600.0   \n",
       "39247  - canonical_gen_type: Solar\\n  mw: 350\\n- cano...        350.0   \n",
       "39248  - canonical_gen_type: Solar\\n  mw: 255\\n- cano...        600.0   \n",
       "\n",
       "      canonical_generation_types  \n",
       "1065      Battery + Solar + Wind  \n",
       "1066             Battery + Solar  \n",
       "1067             Battery + Solar  \n",
       "1134             Battery + Solar  \n",
       "1341                        Wind  \n",
       "...                          ...  \n",
       "39238            Battery + Solar  \n",
       "39239                      Other  \n",
       "39244                      Other  \n",
       "39247                      Other  \n",
       "39248            Battery + Solar  \n",
       "\n",
       "[4107 rows x 3 columns]"
      ]
     },
     "execution_count": 59,
     "metadata": {},
     "output_type": "execute_result"
    }
   ],
   "source": [
    "raw_df[raw_df[\"capacity_by_generation_type_breakdown\"]!=\"nan\"][[\"capacity_by_generation_type_breakdown\", \"capacity_mw\", \"canonical_generation_types\"]]"
   ]
  },
  {
   "cell_type": "markdown",
   "metadata": {
    "jp-MarkdownHeadingCollapsed": true
   },
   "source": [
    "# Run Transform"
   ]
  },
  {
   "cell_type": "code",
   "execution_count": 20,
   "metadata": {},
   "outputs": [
    {
     "name": "stderr",
     "output_type": "stream",
     "text": [
      "/app/dbcp/transform/fyi_queue.py:234: SettingWithCopyWarning: \n",
      "A value is trying to be set on a copy of a slice from a DataFrame\n",
      "\n",
      "See the caveats in the documentation: https://pandas.pydata.org/pandas-docs/stable/user_guide/indexing.html#returning-a-view-versus-a-copy\n",
      "  # reset project_id index\n"
     ]
    }
   ],
   "source": [
    "transformed = dbcp.transform.fyi_queue.transform(fyi_raw_dfs)"
   ]
  },
  {
   "cell_type": "code",
   "execution_count": 21,
   "metadata": {},
   "outputs": [
    {
     "data": {
      "text/plain": [
       "dict_keys(['fyi_projects', 'fyi_locations', 'fyi_resource_capacity'])"
      ]
     },
     "execution_count": 21,
     "metadata": {},
     "output_type": "execute_result"
    }
   ],
   "source": [
    "transformed.keys()"
   ]
  },
  {
   "cell_type": "code",
   "execution_count": 34,
   "metadata": {},
   "outputs": [
    {
     "data": {
      "text/plain": [
       "Solar             1619\n",
       "Battery           1545\n",
       "Wind               539\n",
       "Other              415\n",
       "Gas                373\n",
       "Biofuel             82\n",
       "Geothermal          43\n",
       "Hydro               35\n",
       "Pumped Storage      22\n",
       "Nuclear              6\n",
       "Flywheel             3\n",
       "Wave                 2\n",
       "Other Storage        1\n",
       "Biomass              1\n",
       "Compressed Air       1\n",
       "Name: resource, dtype: int64"
      ]
     },
     "execution_count": 34,
     "metadata": {},
     "output_type": "execute_result"
    }
   ],
   "source": [
    "transformed[\"fyi_resource_capacity\"].resource.value_counts()"
   ]
  },
  {
   "cell_type": "code",
   "execution_count": 33,
   "metadata": {},
   "outputs": [
    {
     "data": {
      "text/html": [
       "<div>\n",
       "<style scoped>\n",
       "    .dataframe tbody tr th:only-of-type {\n",
       "        vertical-align: middle;\n",
       "    }\n",
       "\n",
       "    .dataframe tbody tr th {\n",
       "        vertical-align: top;\n",
       "    }\n",
       "\n",
       "    .dataframe thead th {\n",
       "        text-align: right;\n",
       "    }\n",
       "</style>\n",
       "<table border=\"1\" class=\"dataframe\">\n",
       "  <thead>\n",
       "    <tr style=\"text-align: right;\">\n",
       "      <th></th>\n",
       "      <th>project_id</th>\n",
       "      <th>raw_county_name</th>\n",
       "      <th>raw_state_name</th>\n",
       "      <th>state_id_fips</th>\n",
       "      <th>county_id_fips</th>\n",
       "      <th>geocoded_locality_name</th>\n",
       "      <th>geocoded_locality_type</th>\n",
       "      <th>geocoded_containing_county</th>\n",
       "    </tr>\n",
       "  </thead>\n",
       "  <tbody>\n",
       "    <tr>\n",
       "      <th>0</th>\n",
       "      <td>aeso-p1756</td>\n",
       "      <td>Yellowhead County</td>\n",
       "      <td>AB</td>\n",
       "      <td>&lt;NA&gt;</td>\n",
       "      <td>&lt;NA&gt;</td>\n",
       "      <td>&lt;NA&gt;</td>\n",
       "      <td>&lt;NA&gt;</td>\n",
       "      <td>&lt;NA&gt;</td>\n",
       "    </tr>\n",
       "    <tr>\n",
       "      <th>1</th>\n",
       "      <td>aeso-p1828</td>\n",
       "      <td>Cypress County</td>\n",
       "      <td>AB</td>\n",
       "      <td>&lt;NA&gt;</td>\n",
       "      <td>&lt;NA&gt;</td>\n",
       "      <td>Cypress</td>\n",
       "      <td>city</td>\n",
       "      <td>Orange County</td>\n",
       "    </tr>\n",
       "    <tr>\n",
       "      <th>2</th>\n",
       "      <td>aeso-p1885</td>\n",
       "      <td>Big Lakes County</td>\n",
       "      <td>AB</td>\n",
       "      <td>&lt;NA&gt;</td>\n",
       "      <td>&lt;NA&gt;</td>\n",
       "      <td>&lt;NA&gt;</td>\n",
       "      <td>&lt;NA&gt;</td>\n",
       "      <td>&lt;NA&gt;</td>\n",
       "    </tr>\n",
       "    <tr>\n",
       "      <th>3</th>\n",
       "      <td>aeso-p1926</td>\n",
       "      <td>Taber</td>\n",
       "      <td>AB</td>\n",
       "      <td>&lt;NA&gt;</td>\n",
       "      <td>&lt;NA&gt;</td>\n",
       "      <td>Taber</td>\n",
       "      <td>city</td>\n",
       "      <td>Bingham County</td>\n",
       "    </tr>\n",
       "    <tr>\n",
       "      <th>4</th>\n",
       "      <td>aeso-p1927</td>\n",
       "      <td>Newell County</td>\n",
       "      <td>AB</td>\n",
       "      <td>&lt;NA&gt;</td>\n",
       "      <td>&lt;NA&gt;</td>\n",
       "      <td>Newell</td>\n",
       "      <td>city</td>\n",
       "      <td>Hancock County</td>\n",
       "    </tr>\n",
       "    <tr>\n",
       "      <th>...</th>\n",
       "      <td>...</td>\n",
       "      <td>...</td>\n",
       "      <td>...</td>\n",
       "      <td>...</td>\n",
       "      <td>...</td>\n",
       "      <td>...</td>\n",
       "      <td>...</td>\n",
       "      <td>...</td>\n",
       "    </tr>\n",
       "    <tr>\n",
       "      <th>35640</th>\n",
       "      <td>wapa-ti-1001</td>\n",
       "      <td>Woodbury</td>\n",
       "      <td>IA</td>\n",
       "      <td>19</td>\n",
       "      <td>19193</td>\n",
       "      <td>woodbury</td>\n",
       "      <td>county</td>\n",
       "      <td>woodbury</td>\n",
       "    </tr>\n",
       "    <tr>\n",
       "      <th>35641</th>\n",
       "      <td>wapa-ti-1301</td>\n",
       "      <td>Holt</td>\n",
       "      <td>NE</td>\n",
       "      <td>31</td>\n",
       "      <td>31089</td>\n",
       "      <td>holt</td>\n",
       "      <td>county</td>\n",
       "      <td>holt</td>\n",
       "    </tr>\n",
       "    <tr>\n",
       "      <th>35642</th>\n",
       "      <td>wapa-ti-1302</td>\n",
       "      <td>Scotts Bluff</td>\n",
       "      <td>NE</td>\n",
       "      <td>31</td>\n",
       "      <td>31157</td>\n",
       "      <td>scotts bluff</td>\n",
       "      <td>county</td>\n",
       "      <td>scotts bluff</td>\n",
       "    </tr>\n",
       "    <tr>\n",
       "      <th>35643</th>\n",
       "      <td>wapa-ti-1401</td>\n",
       "      <td>Cass</td>\n",
       "      <td>ND</td>\n",
       "      <td>38</td>\n",
       "      <td>38017</td>\n",
       "      <td>cass</td>\n",
       "      <td>county</td>\n",
       "      <td>cass</td>\n",
       "    </tr>\n",
       "    <tr>\n",
       "      <th>35644</th>\n",
       "      <td>wapa-ti-1502</td>\n",
       "      <td>McKenzie</td>\n",
       "      <td>ND</td>\n",
       "      <td>38</td>\n",
       "      <td>38053</td>\n",
       "      <td>mckenzie</td>\n",
       "      <td>county</td>\n",
       "      <td>mckenzie</td>\n",
       "    </tr>\n",
       "  </tbody>\n",
       "</table>\n",
       "<p>35645 rows × 8 columns</p>\n",
       "</div>"
      ],
      "text/plain": [
       "         project_id    raw_county_name raw_state_name state_id_fips  \\\n",
       "0        aeso-p1756  Yellowhead County             AB          <NA>   \n",
       "1        aeso-p1828     Cypress County             AB          <NA>   \n",
       "2        aeso-p1885   Big Lakes County             AB          <NA>   \n",
       "3        aeso-p1926              Taber             AB          <NA>   \n",
       "4        aeso-p1927      Newell County             AB          <NA>   \n",
       "...             ...                ...            ...           ...   \n",
       "35640  wapa-ti-1001           Woodbury             IA            19   \n",
       "35641  wapa-ti-1301               Holt             NE            31   \n",
       "35642  wapa-ti-1302       Scotts Bluff             NE            31   \n",
       "35643  wapa-ti-1401               Cass             ND            38   \n",
       "35644  wapa-ti-1502           McKenzie             ND            38   \n",
       "\n",
       "      county_id_fips geocoded_locality_name geocoded_locality_type  \\\n",
       "0               <NA>                   <NA>                   <NA>   \n",
       "1               <NA>                Cypress                   city   \n",
       "2               <NA>                   <NA>                   <NA>   \n",
       "3               <NA>                  Taber                   city   \n",
       "4               <NA>                 Newell                   city   \n",
       "...              ...                    ...                    ...   \n",
       "35640          19193               woodbury                 county   \n",
       "35641          31089                   holt                 county   \n",
       "35642          31157           scotts bluff                 county   \n",
       "35643          38017                   cass                 county   \n",
       "35644          38053               mckenzie                 county   \n",
       "\n",
       "      geocoded_containing_county  \n",
       "0                           <NA>  \n",
       "1                  Orange County  \n",
       "2                           <NA>  \n",
       "3                 Bingham County  \n",
       "4                 Hancock County  \n",
       "...                          ...  \n",
       "35640                   woodbury  \n",
       "35641                       holt  \n",
       "35642               scotts bluff  \n",
       "35643                       cass  \n",
       "35644                   mckenzie  \n",
       "\n",
       "[35645 rows x 8 columns]"
      ]
     },
     "execution_count": 33,
     "metadata": {},
     "output_type": "execute_result"
    }
   ],
   "source": [
    "transformed[\"fyi_locations\"]"
   ]
  },
  {
   "cell_type": "code",
   "execution_count": 29,
   "metadata": {},
   "outputs": [
    {
     "data": {
      "text/plain": [
       "Withdrawn      21415\n",
       "Active         10130\n",
       "Operational     4162\n",
       "Suspended        632\n",
       "Unknown           25\n",
       "Name: queue_status, dtype: int64"
      ]
     },
     "execution_count": 29,
     "metadata": {},
     "output_type": "execute_result"
    }
   ],
   "source": [
    "transformed[\"fyi_projects\"].queue_status.value_counts()"
   ]
  },
  {
   "cell_type": "code",
   "execution_count": 30,
   "metadata": {},
   "outputs": [],
   "source": [
    "transformed[\"fyi_projects\"].to_parquet(\"fyi_projects.parquet\")"
   ]
  },
  {
   "cell_type": "code",
   "execution_count": 31,
   "metadata": {},
   "outputs": [],
   "source": [
    "transformed[\"fyi_locations\"].to_parquet(\"fyi_locations.parquet\")"
   ]
  },
  {
   "cell_type": "code",
   "execution_count": 32,
   "metadata": {},
   "outputs": [],
   "source": [
    "transformed[\"fyi_resource_capacity\"].to_parquet(\"fyi_resource_capacity.parquet\")"
   ]
  },
  {
   "cell_type": "code",
   "execution_count": 35,
   "metadata": {},
   "outputs": [],
   "source": [
    "proj = transformed[\"fyi_projects\"]"
   ]
  },
  {
   "cell_type": "code",
   "execution_count": 39,
   "metadata": {},
   "outputs": [
    {
     "data": {
      "text/html": [
       "<div>\n",
       "<style scoped>\n",
       "    .dataframe tbody tr th:only-of-type {\n",
       "        vertical-align: middle;\n",
       "    }\n",
       "\n",
       "    .dataframe tbody tr th {\n",
       "        vertical-align: top;\n",
       "    }\n",
       "\n",
       "    .dataframe thead th {\n",
       "        text-align: right;\n",
       "    }\n",
       "</style>\n",
       "<table border=\"1\" class=\"dataframe\">\n",
       "  <thead>\n",
       "    <tr style=\"text-align: right;\">\n",
       "      <th></th>\n",
       "      <th>project_id</th>\n",
       "      <th>project_type</th>\n",
       "      <th>power_market</th>\n",
       "      <th>transmission_owner</th>\n",
       "      <th>canonical_transmission_owners</th>\n",
       "      <th>queue_id</th>\n",
       "      <th>project_name</th>\n",
       "      <th>actual_completion_date</th>\n",
       "      <th>proposed_completion_date</th>\n",
       "      <th>withdrawn_date</th>\n",
       "      <th>queue_date</th>\n",
       "      <th>county_state_pairs</th>\n",
       "      <th>point_of_interconnection</th>\n",
       "      <th>canonical_generation_types</th>\n",
       "      <th>interconnection_service_type</th>\n",
       "      <th>capacity_mw</th>\n",
       "      <th>summer_capacity_mw</th>\n",
       "      <th>winter_capacity_mw</th>\n",
       "      <th>queue_status</th>\n",
       "      <th>current_phase_or_stage_raw</th>\n",
       "      <th>interconnection_status_raw</th>\n",
       "      <th>interconnection_status_fyi</th>\n",
       "      <th>interconnection_date</th>\n",
       "      <th>developer</th>\n",
       "      <th>raw_developer</th>\n",
       "      <th>project_spv</th>\n",
       "      <th>utility</th>\n",
       "      <th>iso</th>\n",
       "      <th>cluster</th>\n",
       "      <th>general_comments</th>\n",
       "      <th>latitude</th>\n",
       "      <th>longitude</th>\n",
       "      <th>capacity_by_generation_type_breakdown</th>\n",
       "      <th>interconnection_voltage_kv</th>\n",
       "      <th>fips_codes</th>\n",
       "      <th>schedule_next_event_date</th>\n",
       "      <th>schedule_next_event_name</th>\n",
       "      <th>most_recent_study_date</th>\n",
       "      <th>most_recent_allocated_network_upgrade_cost</th>\n",
       "      <th>most_recent_study_url</th>\n",
       "      <th>is_actionable</th>\n",
       "      <th>is_nearly_certain</th>\n",
       "    </tr>\n",
       "  </thead>\n",
       "  <tbody>\n",
       "    <tr>\n",
       "      <th>0</th>\n",
       "      <td>aeso-p1756</td>\n",
       "      <td>Generation</td>\n",
       "      <td>AESO</td>\n",
       "      <td>Alberta Electric System Operator</td>\n",
       "      <td>Alberta Electric System Operator</td>\n",
       "      <td>P1756</td>\n",
       "      <td>P1756 TPG Canyon Creek PHES Storage Project</td>\n",
       "      <td>NaT</td>\n",
       "      <td>2027-05-01</td>\n",
       "      <td>NaT</td>\n",
       "      <td>2016-03-02</td>\n",
       "      <td>Yellowhead County, AB</td>\n",
       "      <td>29-Hinton/Edson</td>\n",
       "      <td>Pumped Storage</td>\n",
       "      <td>NaN</td>\n",
       "      <td>139.000</td>\n",
       "      <td>NaN</td>\n",
       "      <td>NaN</td>\n",
       "      <td>Active</td>\n",
       "      <td>3</td>\n",
       "      <td>NaN</td>\n",
       "      <td>In Progress (unknown study)</td>\n",
       "      <td>NaT</td>\n",
       "      <td>WindRiver Power Corporation</td>\n",
       "      <td>NaN</td>\n",
       "      <td>NaN</td>\n",
       "      <td>NaN</td>\n",
       "      <td>aeso</td>\n",
       "      <td>NaN</td>\n",
       "      <td>NaN</td>\n",
       "      <td>NaN</td>\n",
       "      <td>NaN</td>\n",
       "      <td>NaN</td>\n",
       "      <td>NaN</td>\n",
       "      <td>NaN</td>\n",
       "      <td>NaT</td>\n",
       "      <td>NaN</td>\n",
       "      <td>NaT</td>\n",
       "      <td>NaN</td>\n",
       "      <td>NaN</td>\n",
       "      <td>&lt;NA&gt;</td>\n",
       "      <td>&lt;NA&gt;</td>\n",
       "    </tr>\n",
       "    <tr>\n",
       "      <th>1</th>\n",
       "      <td>aeso-p1828</td>\n",
       "      <td>Generation</td>\n",
       "      <td>AESO</td>\n",
       "      <td>Alberta Electric System Operator</td>\n",
       "      <td>Alberta Electric System Operator</td>\n",
       "      <td>P1828</td>\n",
       "      <td>P1828 hep Energy Alderson MPC Solar</td>\n",
       "      <td>NaT</td>\n",
       "      <td>2026-03-05</td>\n",
       "      <td>NaT</td>\n",
       "      <td>2016-07-29</td>\n",
       "      <td>Cypress County, AB</td>\n",
       "      <td>04-Medicine Hat</td>\n",
       "      <td>Solar</td>\n",
       "      <td>NaN</td>\n",
       "      <td>100.500</td>\n",
       "      <td>NaN</td>\n",
       "      <td>NaN</td>\n",
       "      <td>Active</td>\n",
       "      <td>5</td>\n",
       "      <td>NaN</td>\n",
       "      <td>In Progress (unknown study)</td>\n",
       "      <td>NaT</td>\n",
       "      <td>NaN</td>\n",
       "      <td>NaN</td>\n",
       "      <td>NaN</td>\n",
       "      <td>NaN</td>\n",
       "      <td>aeso</td>\n",
       "      <td>NaN</td>\n",
       "      <td>NaN</td>\n",
       "      <td>NaN</td>\n",
       "      <td>NaN</td>\n",
       "      <td>NaN</td>\n",
       "      <td>NaN</td>\n",
       "      <td>NaN</td>\n",
       "      <td>NaT</td>\n",
       "      <td>NaN</td>\n",
       "      <td>NaT</td>\n",
       "      <td>NaN</td>\n",
       "      <td>NaN</td>\n",
       "      <td>&lt;NA&gt;</td>\n",
       "      <td>&lt;NA&gt;</td>\n",
       "    </tr>\n",
       "    <tr>\n",
       "      <th>2</th>\n",
       "      <td>aeso-p1885</td>\n",
       "      <td>Generation</td>\n",
       "      <td>AESO</td>\n",
       "      <td>Alberta Electric System Operator</td>\n",
       "      <td>Alberta Electric System Operator</td>\n",
       "      <td>P1885</td>\n",
       "      <td>P1885 Northern Lights WAGF</td>\n",
       "      <td>NaT</td>\n",
       "      <td>NaT</td>\n",
       "      <td>NaT</td>\n",
       "      <td>2016-11-01</td>\n",
       "      <td>Big Lakes County, AB</td>\n",
       "      <td>26-Swan Hills</td>\n",
       "      <td>Wind</td>\n",
       "      <td>NaN</td>\n",
       "      <td>403.000</td>\n",
       "      <td>NaN</td>\n",
       "      <td>NaN</td>\n",
       "      <td>Withdrawn</td>\n",
       "      <td>3</td>\n",
       "      <td>NaN</td>\n",
       "      <td>In Progress (unknown study)</td>\n",
       "      <td>NaT</td>\n",
       "      <td>NaN</td>\n",
       "      <td>NaN</td>\n",
       "      <td>NaN</td>\n",
       "      <td>NaN</td>\n",
       "      <td>aeso</td>\n",
       "      <td>NaN</td>\n",
       "      <td>NaN</td>\n",
       "      <td>NaN</td>\n",
       "      <td>NaN</td>\n",
       "      <td>NaN</td>\n",
       "      <td>NaN</td>\n",
       "      <td>NaN</td>\n",
       "      <td>NaT</td>\n",
       "      <td>NaN</td>\n",
       "      <td>NaT</td>\n",
       "      <td>NaN</td>\n",
       "      <td>NaN</td>\n",
       "      <td>&lt;NA&gt;</td>\n",
       "      <td>&lt;NA&gt;</td>\n",
       "    </tr>\n",
       "    <tr>\n",
       "      <th>3</th>\n",
       "      <td>aeso-p1926</td>\n",
       "      <td>Generation</td>\n",
       "      <td>AESO</td>\n",
       "      <td>Alberta Electric System Operator</td>\n",
       "      <td>Alberta Electric System Operator</td>\n",
       "      <td>P1926</td>\n",
       "      <td>P1926 Solar Krafte Vauxhall</td>\n",
       "      <td>NaT</td>\n",
       "      <td>2025-12-15</td>\n",
       "      <td>NaT</td>\n",
       "      <td>2017-03-23</td>\n",
       "      <td>Taber, AB</td>\n",
       "      <td>52-Vauxhall</td>\n",
       "      <td>Solar</td>\n",
       "      <td>NaN</td>\n",
       "      <td>60.375</td>\n",
       "      <td>NaN</td>\n",
       "      <td>NaN</td>\n",
       "      <td>Active</td>\n",
       "      <td>5</td>\n",
       "      <td>NaN</td>\n",
       "      <td>In Progress (unknown study)</td>\n",
       "      <td>NaT</td>\n",
       "      <td>NaN</td>\n",
       "      <td>NaN</td>\n",
       "      <td>NaN</td>\n",
       "      <td>NaN</td>\n",
       "      <td>aeso</td>\n",
       "      <td>NaN</td>\n",
       "      <td>NaN</td>\n",
       "      <td>NaN</td>\n",
       "      <td>NaN</td>\n",
       "      <td>NaN</td>\n",
       "      <td>NaN</td>\n",
       "      <td>NaN</td>\n",
       "      <td>NaT</td>\n",
       "      <td>NaN</td>\n",
       "      <td>NaT</td>\n",
       "      <td>NaN</td>\n",
       "      <td>NaN</td>\n",
       "      <td>&lt;NA&gt;</td>\n",
       "      <td>&lt;NA&gt;</td>\n",
       "    </tr>\n",
       "    <tr>\n",
       "      <th>4</th>\n",
       "      <td>aeso-p1927</td>\n",
       "      <td>Generation</td>\n",
       "      <td>AESO</td>\n",
       "      <td>Alberta Electric System Operator</td>\n",
       "      <td>Alberta Electric System Operator</td>\n",
       "      <td>P1927</td>\n",
       "      <td>P1927 Beargrass Solar</td>\n",
       "      <td>NaT</td>\n",
       "      <td>2026-10-01</td>\n",
       "      <td>NaT</td>\n",
       "      <td>2017-03-23</td>\n",
       "      <td>Newell County, AB</td>\n",
       "      <td>47-Brooks</td>\n",
       "      <td>Solar</td>\n",
       "      <td>NaN</td>\n",
       "      <td>360.990</td>\n",
       "      <td>NaN</td>\n",
       "      <td>NaN</td>\n",
       "      <td>Active</td>\n",
       "      <td>5</td>\n",
       "      <td>NaN</td>\n",
       "      <td>In Progress (unknown study)</td>\n",
       "      <td>NaT</td>\n",
       "      <td>NaN</td>\n",
       "      <td>NaN</td>\n",
       "      <td>NaN</td>\n",
       "      <td>NaN</td>\n",
       "      <td>aeso</td>\n",
       "      <td>NaN</td>\n",
       "      <td>NaN</td>\n",
       "      <td>NaN</td>\n",
       "      <td>NaN</td>\n",
       "      <td>NaN</td>\n",
       "      <td>NaN</td>\n",
       "      <td>NaN</td>\n",
       "      <td>NaT</td>\n",
       "      <td>NaN</td>\n",
       "      <td>NaT</td>\n",
       "      <td>NaN</td>\n",
       "      <td>NaN</td>\n",
       "      <td>&lt;NA&gt;</td>\n",
       "      <td>&lt;NA&gt;</td>\n",
       "    </tr>\n",
       "    <tr>\n",
       "      <th>5</th>\n",
       "      <td>aeso-p1984</td>\n",
       "      <td>Generation</td>\n",
       "      <td>AESO</td>\n",
       "      <td>Alberta Electric System Operator</td>\n",
       "      <td>Alberta Electric System Operator</td>\n",
       "      <td>P1984</td>\n",
       "      <td>P1984 FortisAlberta Gleichen DG Solar</td>\n",
       "      <td>2025-04-25</td>\n",
       "      <td>2025-04-25</td>\n",
       "      <td>NaT</td>\n",
       "      <td>2017-07-17</td>\n",
       "      <td>Wheatland County, AB</td>\n",
       "      <td>45-Strathmore/Blackie</td>\n",
       "      <td>Solar</td>\n",
       "      <td>NaN</td>\n",
       "      <td>11.900</td>\n",
       "      <td>NaN</td>\n",
       "      <td>NaN</td>\n",
       "      <td>Operational</td>\n",
       "      <td>6</td>\n",
       "      <td>NaN</td>\n",
       "      <td>In Progress (unknown study)</td>\n",
       "      <td>NaT</td>\n",
       "      <td>NaN</td>\n",
       "      <td>NaN</td>\n",
       "      <td>NaN</td>\n",
       "      <td>NaN</td>\n",
       "      <td>aeso</td>\n",
       "      <td>NaN</td>\n",
       "      <td>NaN</td>\n",
       "      <td>NaN</td>\n",
       "      <td>NaN</td>\n",
       "      <td>NaN</td>\n",
       "      <td>NaN</td>\n",
       "      <td>NaN</td>\n",
       "      <td>NaT</td>\n",
       "      <td>NaN</td>\n",
       "      <td>NaT</td>\n",
       "      <td>NaN</td>\n",
       "      <td>NaN</td>\n",
       "      <td>&lt;NA&gt;</td>\n",
       "      <td>&lt;NA&gt;</td>\n",
       "    </tr>\n",
       "    <tr>\n",
       "      <th>6</th>\n",
       "      <td>aeso-p2034</td>\n",
       "      <td>Generation</td>\n",
       "      <td>AESO</td>\n",
       "      <td>Alberta Electric System Operator</td>\n",
       "      <td>Alberta Electric System Operator</td>\n",
       "      <td>P2034</td>\n",
       "      <td>P2034 Cold Lake Energy (Lindbergh Cogeneration)</td>\n",
       "      <td>NaT</td>\n",
       "      <td>2027-10-01</td>\n",
       "      <td>NaT</td>\n",
       "      <td>2018-01-02</td>\n",
       "      <td>Bonnyville No. 87, AB</td>\n",
       "      <td>28-Cold Lake</td>\n",
       "      <td>Gas</td>\n",
       "      <td>NaN</td>\n",
       "      <td>75.000</td>\n",
       "      <td>NaN</td>\n",
       "      <td>NaN</td>\n",
       "      <td>Active</td>\n",
       "      <td>5</td>\n",
       "      <td>NaN</td>\n",
       "      <td>In Progress (unknown study)</td>\n",
       "      <td>NaT</td>\n",
       "      <td>NaN</td>\n",
       "      <td>NaN</td>\n",
       "      <td>NaN</td>\n",
       "      <td>NaN</td>\n",
       "      <td>aeso</td>\n",
       "      <td>NaN</td>\n",
       "      <td>NaN</td>\n",
       "      <td>NaN</td>\n",
       "      <td>NaN</td>\n",
       "      <td>NaN</td>\n",
       "      <td>NaN</td>\n",
       "      <td>NaN</td>\n",
       "      <td>NaT</td>\n",
       "      <td>NaN</td>\n",
       "      <td>NaT</td>\n",
       "      <td>NaN</td>\n",
       "      <td>NaN</td>\n",
       "      <td>&lt;NA&gt;</td>\n",
       "      <td>&lt;NA&gt;</td>\n",
       "    </tr>\n",
       "    <tr>\n",
       "      <th>7</th>\n",
       "      <td>aeso-p2091</td>\n",
       "      <td>Generation</td>\n",
       "      <td>AESO</td>\n",
       "      <td>Alberta Electric System Operator</td>\n",
       "      <td>Alberta Electric System Operator</td>\n",
       "      <td>P2091</td>\n",
       "      <td>P2091 Arenosum Solar</td>\n",
       "      <td>NaT</td>\n",
       "      <td>2028-05-26</td>\n",
       "      <td>NaT</td>\n",
       "      <td>2018-05-22</td>\n",
       "      <td>Special Area No. 2, AB</td>\n",
       "      <td>48-Empress</td>\n",
       "      <td>Solar</td>\n",
       "      <td>NaN</td>\n",
       "      <td>151.000</td>\n",
       "      <td>NaN</td>\n",
       "      <td>NaN</td>\n",
       "      <td>Active</td>\n",
       "      <td>4</td>\n",
       "      <td>NaN</td>\n",
       "      <td>In Progress (unknown study)</td>\n",
       "      <td>NaT</td>\n",
       "      <td>NaN</td>\n",
       "      <td>NaN</td>\n",
       "      <td>NaN</td>\n",
       "      <td>NaN</td>\n",
       "      <td>aeso</td>\n",
       "      <td>NaN</td>\n",
       "      <td>NaN</td>\n",
       "      <td>NaN</td>\n",
       "      <td>NaN</td>\n",
       "      <td>NaN</td>\n",
       "      <td>NaN</td>\n",
       "      <td>NaN</td>\n",
       "      <td>NaT</td>\n",
       "      <td>NaN</td>\n",
       "      <td>NaT</td>\n",
       "      <td>NaN</td>\n",
       "      <td>NaN</td>\n",
       "      <td>&lt;NA&gt;</td>\n",
       "      <td>&lt;NA&gt;</td>\n",
       "    </tr>\n",
       "    <tr>\n",
       "      <th>8</th>\n",
       "      <td>aeso-p2102</td>\n",
       "      <td>Load</td>\n",
       "      <td>AESO</td>\n",
       "      <td>Alberta Electric System Operator</td>\n",
       "      <td>Alberta Electric System Operator</td>\n",
       "      <td>P2102</td>\n",
       "      <td>P2102 EPC East Calgary Area Reliability</td>\n",
       "      <td>2025-06-25</td>\n",
       "      <td>2025-06-25</td>\n",
       "      <td>NaT</td>\n",
       "      <td>2018-06-07</td>\n",
       "      <td>Calgary, AB</td>\n",
       "      <td>06-Calgary</td>\n",
       "      <td>Other</td>\n",
       "      <td>NaN</td>\n",
       "      <td>26.000</td>\n",
       "      <td>NaN</td>\n",
       "      <td>NaN</td>\n",
       "      <td>Operational</td>\n",
       "      <td>6</td>\n",
       "      <td>NaN</td>\n",
       "      <td>In Progress (unknown study)</td>\n",
       "      <td>NaT</td>\n",
       "      <td>NaN</td>\n",
       "      <td>NaN</td>\n",
       "      <td>NaN</td>\n",
       "      <td>NaN</td>\n",
       "      <td>aeso</td>\n",
       "      <td>NaN</td>\n",
       "      <td>NaN</td>\n",
       "      <td>NaN</td>\n",
       "      <td>NaN</td>\n",
       "      <td>NaN</td>\n",
       "      <td>NaN</td>\n",
       "      <td>NaN</td>\n",
       "      <td>NaT</td>\n",
       "      <td>NaN</td>\n",
       "      <td>NaT</td>\n",
       "      <td>NaN</td>\n",
       "      <td>NaN</td>\n",
       "      <td>&lt;NA&gt;</td>\n",
       "      <td>&lt;NA&gt;</td>\n",
       "    </tr>\n",
       "    <tr>\n",
       "      <th>9</th>\n",
       "      <td>aeso-p2195</td>\n",
       "      <td>Generation</td>\n",
       "      <td>AESO</td>\n",
       "      <td>Alberta Electric System Operator</td>\n",
       "      <td>Alberta Electric System Operator</td>\n",
       "      <td>P2195</td>\n",
       "      <td>P2195 FortisAlberta Bassano 435S DER Solar</td>\n",
       "      <td>NaT</td>\n",
       "      <td>NaT</td>\n",
       "      <td>NaT</td>\n",
       "      <td>2019-01-07</td>\n",
       "      <td>Newell County, AB</td>\n",
       "      <td>47-Brooks</td>\n",
       "      <td>Solar</td>\n",
       "      <td>NaN</td>\n",
       "      <td>4.650</td>\n",
       "      <td>NaN</td>\n",
       "      <td>NaN</td>\n",
       "      <td>Active</td>\n",
       "      <td>5</td>\n",
       "      <td>NaN</td>\n",
       "      <td>In Progress (unknown study)</td>\n",
       "      <td>NaT</td>\n",
       "      <td>NaN</td>\n",
       "      <td>NaN</td>\n",
       "      <td>NaN</td>\n",
       "      <td>NaN</td>\n",
       "      <td>aeso</td>\n",
       "      <td>NaN</td>\n",
       "      <td>NaN</td>\n",
       "      <td>NaN</td>\n",
       "      <td>NaN</td>\n",
       "      <td>NaN</td>\n",
       "      <td>NaN</td>\n",
       "      <td>NaN</td>\n",
       "      <td>NaT</td>\n",
       "      <td>NaN</td>\n",
       "      <td>NaT</td>\n",
       "      <td>NaN</td>\n",
       "      <td>NaN</td>\n",
       "      <td>&lt;NA&gt;</td>\n",
       "      <td>&lt;NA&gt;</td>\n",
       "    </tr>\n",
       "  </tbody>\n",
       "</table>\n",
       "</div>"
      ],
      "text/plain": [
       "   project_id project_type power_market                transmission_owner  \\\n",
       "0  aeso-p1756   Generation         AESO  Alberta Electric System Operator   \n",
       "1  aeso-p1828   Generation         AESO  Alberta Electric System Operator   \n",
       "2  aeso-p1885   Generation         AESO  Alberta Electric System Operator   \n",
       "3  aeso-p1926   Generation         AESO  Alberta Electric System Operator   \n",
       "4  aeso-p1927   Generation         AESO  Alberta Electric System Operator   \n",
       "5  aeso-p1984   Generation         AESO  Alberta Electric System Operator   \n",
       "6  aeso-p2034   Generation         AESO  Alberta Electric System Operator   \n",
       "7  aeso-p2091   Generation         AESO  Alberta Electric System Operator   \n",
       "8  aeso-p2102         Load         AESO  Alberta Electric System Operator   \n",
       "9  aeso-p2195   Generation         AESO  Alberta Electric System Operator   \n",
       "\n",
       "      canonical_transmission_owners queue_id  \\\n",
       "0  Alberta Electric System Operator    P1756   \n",
       "1  Alberta Electric System Operator    P1828   \n",
       "2  Alberta Electric System Operator    P1885   \n",
       "3  Alberta Electric System Operator    P1926   \n",
       "4  Alberta Electric System Operator    P1927   \n",
       "5  Alberta Electric System Operator    P1984   \n",
       "6  Alberta Electric System Operator    P2034   \n",
       "7  Alberta Electric System Operator    P2091   \n",
       "8  Alberta Electric System Operator    P2102   \n",
       "9  Alberta Electric System Operator    P2195   \n",
       "\n",
       "                                      project_name actual_completion_date  \\\n",
       "0      P1756 TPG Canyon Creek PHES Storage Project                    NaT   \n",
       "1              P1828 hep Energy Alderson MPC Solar                    NaT   \n",
       "2                       P1885 Northern Lights WAGF                    NaT   \n",
       "3                      P1926 Solar Krafte Vauxhall                    NaT   \n",
       "4                            P1927 Beargrass Solar                    NaT   \n",
       "5            P1984 FortisAlberta Gleichen DG Solar             2025-04-25   \n",
       "6  P2034 Cold Lake Energy (Lindbergh Cogeneration)                    NaT   \n",
       "7                             P2091 Arenosum Solar                    NaT   \n",
       "8          P2102 EPC East Calgary Area Reliability             2025-06-25   \n",
       "9       P2195 FortisAlberta Bassano 435S DER Solar                    NaT   \n",
       "\n",
       "  proposed_completion_date withdrawn_date queue_date      county_state_pairs  \\\n",
       "0               2027-05-01            NaT 2016-03-02   Yellowhead County, AB   \n",
       "1               2026-03-05            NaT 2016-07-29      Cypress County, AB   \n",
       "2                      NaT            NaT 2016-11-01    Big Lakes County, AB   \n",
       "3               2025-12-15            NaT 2017-03-23               Taber, AB   \n",
       "4               2026-10-01            NaT 2017-03-23       Newell County, AB   \n",
       "5               2025-04-25            NaT 2017-07-17    Wheatland County, AB   \n",
       "6               2027-10-01            NaT 2018-01-02   Bonnyville No. 87, AB   \n",
       "7               2028-05-26            NaT 2018-05-22  Special Area No. 2, AB   \n",
       "8               2025-06-25            NaT 2018-06-07             Calgary, AB   \n",
       "9                      NaT            NaT 2019-01-07       Newell County, AB   \n",
       "\n",
       "  point_of_interconnection canonical_generation_types  \\\n",
       "0          29-Hinton/Edson             Pumped Storage   \n",
       "1          04-Medicine Hat                      Solar   \n",
       "2            26-Swan Hills                       Wind   \n",
       "3              52-Vauxhall                      Solar   \n",
       "4                47-Brooks                      Solar   \n",
       "5    45-Strathmore/Blackie                      Solar   \n",
       "6             28-Cold Lake                        Gas   \n",
       "7               48-Empress                      Solar   \n",
       "8               06-Calgary                      Other   \n",
       "9                47-Brooks                      Solar   \n",
       "\n",
       "  interconnection_service_type  capacity_mw  summer_capacity_mw  \\\n",
       "0                          NaN      139.000                 NaN   \n",
       "1                          NaN      100.500                 NaN   \n",
       "2                          NaN      403.000                 NaN   \n",
       "3                          NaN       60.375                 NaN   \n",
       "4                          NaN      360.990                 NaN   \n",
       "5                          NaN       11.900                 NaN   \n",
       "6                          NaN       75.000                 NaN   \n",
       "7                          NaN      151.000                 NaN   \n",
       "8                          NaN       26.000                 NaN   \n",
       "9                          NaN        4.650                 NaN   \n",
       "\n",
       "   winter_capacity_mw queue_status current_phase_or_stage_raw  \\\n",
       "0                 NaN       Active                          3   \n",
       "1                 NaN       Active                          5   \n",
       "2                 NaN    Withdrawn                          3   \n",
       "3                 NaN       Active                          5   \n",
       "4                 NaN       Active                          5   \n",
       "5                 NaN  Operational                          6   \n",
       "6                 NaN       Active                          5   \n",
       "7                 NaN       Active                          4   \n",
       "8                 NaN  Operational                          6   \n",
       "9                 NaN       Active                          5   \n",
       "\n",
       "  interconnection_status_raw   interconnection_status_fyi  \\\n",
       "0                        NaN  In Progress (unknown study)   \n",
       "1                        NaN  In Progress (unknown study)   \n",
       "2                        NaN  In Progress (unknown study)   \n",
       "3                        NaN  In Progress (unknown study)   \n",
       "4                        NaN  In Progress (unknown study)   \n",
       "5                        NaN  In Progress (unknown study)   \n",
       "6                        NaN  In Progress (unknown study)   \n",
       "7                        NaN  In Progress (unknown study)   \n",
       "8                        NaN  In Progress (unknown study)   \n",
       "9                        NaN  In Progress (unknown study)   \n",
       "\n",
       "  interconnection_date                    developer raw_developer project_spv  \\\n",
       "0                  NaT  WindRiver Power Corporation           NaN         NaN   \n",
       "1                  NaT                          NaN           NaN         NaN   \n",
       "2                  NaT                          NaN           NaN         NaN   \n",
       "3                  NaT                          NaN           NaN         NaN   \n",
       "4                  NaT                          NaN           NaN         NaN   \n",
       "5                  NaT                          NaN           NaN         NaN   \n",
       "6                  NaT                          NaN           NaN         NaN   \n",
       "7                  NaT                          NaN           NaN         NaN   \n",
       "8                  NaT                          NaN           NaN         NaN   \n",
       "9                  NaT                          NaN           NaN         NaN   \n",
       "\n",
       "  utility   iso cluster general_comments  latitude  longitude  \\\n",
       "0     NaN  aeso     NaN              NaN       NaN        NaN   \n",
       "1     NaN  aeso     NaN              NaN       NaN        NaN   \n",
       "2     NaN  aeso     NaN              NaN       NaN        NaN   \n",
       "3     NaN  aeso     NaN              NaN       NaN        NaN   \n",
       "4     NaN  aeso     NaN              NaN       NaN        NaN   \n",
       "5     NaN  aeso     NaN              NaN       NaN        NaN   \n",
       "6     NaN  aeso     NaN              NaN       NaN        NaN   \n",
       "7     NaN  aeso     NaN              NaN       NaN        NaN   \n",
       "8     NaN  aeso     NaN              NaN       NaN        NaN   \n",
       "9     NaN  aeso     NaN              NaN       NaN        NaN   \n",
       "\n",
       "  capacity_by_generation_type_breakdown  interconnection_voltage_kv  \\\n",
       "0                                   NaN                         NaN   \n",
       "1                                   NaN                         NaN   \n",
       "2                                   NaN                         NaN   \n",
       "3                                   NaN                         NaN   \n",
       "4                                   NaN                         NaN   \n",
       "5                                   NaN                         NaN   \n",
       "6                                   NaN                         NaN   \n",
       "7                                   NaN                         NaN   \n",
       "8                                   NaN                         NaN   \n",
       "9                                   NaN                         NaN   \n",
       "\n",
       "  fips_codes schedule_next_event_date schedule_next_event_name  \\\n",
       "0        NaN                      NaT                      NaN   \n",
       "1        NaN                      NaT                      NaN   \n",
       "2        NaN                      NaT                      NaN   \n",
       "3        NaN                      NaT                      NaN   \n",
       "4        NaN                      NaT                      NaN   \n",
       "5        NaN                      NaT                      NaN   \n",
       "6        NaN                      NaT                      NaN   \n",
       "7        NaN                      NaT                      NaN   \n",
       "8        NaN                      NaT                      NaN   \n",
       "9        NaN                      NaT                      NaN   \n",
       "\n",
       "  most_recent_study_date  most_recent_allocated_network_upgrade_cost  \\\n",
       "0                    NaT                                         NaN   \n",
       "1                    NaT                                         NaN   \n",
       "2                    NaT                                         NaN   \n",
       "3                    NaT                                         NaN   \n",
       "4                    NaT                                         NaN   \n",
       "5                    NaT                                         NaN   \n",
       "6                    NaT                                         NaN   \n",
       "7                    NaT                                         NaN   \n",
       "8                    NaT                                         NaN   \n",
       "9                    NaT                                         NaN   \n",
       "\n",
       "  most_recent_study_url is_actionable is_nearly_certain  \n",
       "0                   NaN          <NA>              <NA>  \n",
       "1                   NaN          <NA>              <NA>  \n",
       "2                   NaN          <NA>              <NA>  \n",
       "3                   NaN          <NA>              <NA>  \n",
       "4                   NaN          <NA>              <NA>  \n",
       "5                   NaN          <NA>              <NA>  \n",
       "6                   NaN          <NA>              <NA>  \n",
       "7                   NaN          <NA>              <NA>  \n",
       "8                   NaN          <NA>              <NA>  \n",
       "9                   NaN          <NA>              <NA>  "
      ]
     },
     "execution_count": 39,
     "metadata": {},
     "output_type": "execute_result"
    }
   ],
   "source": [
    "proj.head(10)"
   ]
  },
  {
   "cell_type": "code",
   "execution_count": 47,
   "metadata": {},
   "outputs": [
    {
     "data": {
      "text/plain": [
       "['county_state_pairs']"
      ]
     },
     "execution_count": 47,
     "metadata": {},
     "output_type": "execute_result"
    }
   ],
   "source": [
    "[col for col in proj.columns if \"county\" in col]"
   ]
  },
  {
   "cell_type": "markdown",
   "metadata": {
    "jp-MarkdownHeadingCollapsed": true
   },
   "source": [
    "# Look at LBNL data"
   ]
  },
  {
   "cell_type": "code",
   "execution_count": 13,
   "metadata": {},
   "outputs": [],
   "source": [
    "lbnl_uri = \"gs://dgm-archive/lbnl_iso_queue/queues_2023_clean_data.xlsx\"\n",
    "lbnl_raw_dfs = dbcp.extract.lbnl_iso_queue.extract(lbnl_uri)"
   ]
  },
  {
   "cell_type": "code",
   "execution_count": 14,
   "metadata": {},
   "outputs": [],
   "source": [
    "lbnl_raw_df = lbnl_raw_dfs['lbnl_iso_queue']"
   ]
  },
  {
   "cell_type": "code",
   "execution_count": 28,
   "metadata": {},
   "outputs": [
    {
     "data": {
      "text/plain": [
       "Index(['unique_id', 'project_type', 'power_market', 'transmission_owner',\n",
       "       'canonical_transmission_owners', 'queue_id', 'project_name',\n",
       "       'actual_completion_date', 'proposed_completion_date', 'withdrawn_date',\n",
       "       'queue_date', 'county_state_pairs', 'point_of_interconnection',\n",
       "       'county', 'state', 'canonical_generation_types',\n",
       "       'interconnection_service_type', 'capacity_mw', 'summer_capacity_mw',\n",
       "       'winter_capacity_mw', 'queue_status', 'current_phase_or_stage_raw',\n",
       "       'interconnection_status_raw', 'interconnection_status_fyi',\n",
       "       'interconnection_date', 'developer', 'raw_developer', 'project_spv',\n",
       "       'utility', 'iso', 'cluster', 'general_comments', 'latitude',\n",
       "       'longitude', 'capacity_by_generation_type_breakdown',\n",
       "       'interconnection_voltage_kv', 'fips_codes', 'schedule_next_event_date',\n",
       "       'schedule_next_event_name', 'most_recent_study_date',\n",
       "       'most_recent_allocated_network_upgrade_cost', 'most_recent_study_url'],\n",
       "      dtype='object')"
      ]
     },
     "execution_count": 28,
     "metadata": {},
     "output_type": "execute_result"
    }
   ],
   "source": [
    "raw_df.columns"
   ]
  },
  {
   "cell_type": "markdown",
   "metadata": {
    "jp-MarkdownHeadingCollapsed": true
   },
   "source": [
    "# Create a data mart table"
   ]
  },
  {
   "cell_type": "code",
   "execution_count": 55,
   "metadata": {},
   "outputs": [],
   "source": [
    "from google.cloud import bigquery\n",
    "\n",
    "# Initialize client\n",
    "client = bigquery.Client(project=\"dbcp-dev-350818\")"
   ]
  },
  {
   "cell_type": "code",
   "execution_count": 58,
   "metadata": {},
   "outputs": [],
   "source": [
    "query = \"\"\"\n",
    "WITH\n",
    "    fyi_proj_res as (\n",
    "        SELECT\n",
    "            proj.project_id,\n",
    "            proj.queue_id,\n",
    "            proj.proposed_completion_date as date_proposed_online,\n",
    "            proj.developer,\n",
    "            proj.power_market, -- does entity in LBNL map to power_market?\n",
    "            proj.interconnection_status_fyi as interconnection_status,\n",
    "            proj.point_of_interconnection,\n",
    "            proj.project_name,\n",
    "            proj.queue_date as date_entered_queue,\n",
    "            proj.queue_status,\n",
    "            proj.iso as iso_region, -- does region in LBNL map to iso?\n",
    "            proj.utility,\n",
    "            proj.is_actionable,\n",
    "            proj.is_nearly_certain,\n",
    "            proj.actual_completion_date,\n",
    "            proj.withdrawn_date,\n",
    "            res.capacity_mw,\n",
    "            res.resource_clean\n",
    "        FROM `dbcp-dev-350818.private_data_warehouse_dev.fyi_projects` as proj\n",
    "        INNER JOIN `dbcp-dev-350818.private_data_warehouse_dev.fyi_resource_capacity` as res\n",
    "        ON proj.project_id = res.project_id\n",
    "    ),\n",
    "    loc as (\n",
    "        -- Remember that projects can have multiple locations, though 99 percent have only one.\n",
    "        -- Can optionally multiply capacity by frac_locations_in_county to allocate it equally.\n",
    "        -- Note that there are some duplicates of (project_id, county_id_fips) as well.\n",
    "        -- This happens when the original data lists multiple city names that are in the\n",
    "        -- same county. This does not cause double counting because of frac_locations_in_county.\n",
    "        SELECT\n",
    "            project_id,\n",
    "            state_id_fips,\n",
    "            county_id_fips,\n",
    "            raw_county_name, -- for validation only\n",
    "            CAST(1.0 / COUNT(*) OVER (PARTITION BY project_id) AS FLOAT64) AS frac_locations_in_county\n",
    "        FROM `dbcp-dev-350818.private_data_warehouse_dev.fyi_locations`\n",
    "    ),\n",
    "    iso as (\n",
    "        SELECT\n",
    "            fyi_proj_res.*,\n",
    "            loc.state_id_fips,\n",
    "            loc.county_id_fips,\n",
    "            loc.raw_county_name, -- for validation only\n",
    "            -- projects with missing location info get full capacity allocation\n",
    "            coalesce(loc.frac_locations_in_county, 1.0) as frac_locations_in_county\n",
    "        from fyi_proj_res\n",
    "        LEFT JOIN loc\n",
    "        ON fyi_proj_res.project_id = loc.project_id\n",
    "    )\n",
    "    SELECT\n",
    "        sfip.state_name as state,\n",
    "        cfip.county_name as county,\n",
    "        iso.*,\n",
    "        'fyi' as source,\n",
    "        ncsl.permitting_type as state_permitting_type\n",
    "    from iso\n",
    "    left join `dbcp-dev-350818.data_warehouse.state_fips` as sfip\n",
    "        on iso.state_id_fips = sfip.state_id_fips\n",
    "    left join `dbcp-dev-350818.data_warehouse.county_fips` as cfip\n",
    "        on iso.county_id_fips = cfip.county_id_fips\n",
    "    left join `dbcp-dev-350818.data_warehouse.ncsl_state_permitting` as ncsl\n",
    "        on iso.state_id_fips = ncsl.state_id_fips\n",
    "    ;\n",
    "\"\"\""
   ]
  },
  {
   "cell_type": "code",
   "execution_count": 59,
   "metadata": {},
   "outputs": [
    {
     "name": "stderr",
     "output_type": "stream",
     "text": [
      "/app/.local/lib/python3.10/site-packages/google/cloud/bigquery/table.py:2575: UserWarning: Unable to represent RANGE schema as struct using pandas ArrowDtype. Using `object` instead. To use ArrowDtype, use pandas >= 1.5 and pyarrow >= 10.0.1.\n",
      "  warnings.warn(_RANGE_PYARROW_WARNING)\n",
      "/app/.local/lib/python3.10/site-packages/google/cloud/bigquery/table.py:2589: UserWarning: Unable to represent RANGE schema as struct using pandas ArrowDtype. Using `object` instead. To use ArrowDtype, use pandas >= 1.5 and pyarrow >= 10.0.1.\n",
      "  warnings.warn(_RANGE_PYARROW_WARNING)\n",
      "/app/.local/lib/python3.10/site-packages/google/cloud/bigquery/table.py:2603: UserWarning: Unable to represent RANGE schema as struct using pandas ArrowDtype. Using `object` instead. To use ArrowDtype, use pandas >= 1.5 and pyarrow >= 10.0.1.\n",
      "  warnings.warn(_RANGE_PYARROW_WARNING)\n"
     ]
    }
   ],
   "source": [
    "df = client.query(query).to_dataframe()"
   ]
  },
  {
   "cell_type": "code",
   "execution_count": 63,
   "metadata": {},
   "outputs": [],
   "source": [
    "df.to_parquet(\"fyi_projects_long_format.parquet\")"
   ]
  },
  {
   "cell_type": "code",
   "execution_count": 73,
   "metadata": {},
   "outputs": [],
   "source": [
    "from dbcp.data_mart.helpers import _estimate_proposed_power_co2e\n",
    "import numpy as np"
   ]
  },
  {
   "cell_type": "code",
   "execution_count": 68,
   "metadata": {},
   "outputs": [],
   "source": [
    "_estimate_proposed_power_co2e(df)"
   ]
  },
  {
   "cell_type": "code",
   "execution_count": 74,
   "metadata": {},
   "outputs": [],
   "source": [
    "# Distribute project-level quantities across locations, when there are multiple.\n",
    "# A handful of ISO projects are in multiple counties and the proprietary offshore\n",
    "# wind projects have an entry for each cable landing.\n",
    "# This approximation assumes an equal distribution between sites.\n",
    "# Also note that this model represents everything relevant to each county,\n",
    "# so multi-county projects are intentionally double-counted; for each relevant county.\n",
    "df.loc[:, [\"capacity_mw\", \"co2e_tonnes_per_year\"]] = df.loc[\n",
    "    :, [\"capacity_mw\", \"co2e_tonnes_per_year\"]\n",
    "].mul(df[\"frac_locations_in_county\"], axis=0)\n",
    "\n",
    "grp = df.groupby([\"county_id_fips\", \"resource_clean\"])\n",
    "aggs = grp.agg(\n",
    "    {\n",
    "        \"co2e_tonnes_per_year\": \"sum\",  # type: ignore\n",
    "        \"capacity_mw\": \"sum\",\n",
    "        \"project_id\": \"count\",\n",
    "    }\n",
    ")\n",
    "aggs.loc[:, \"co2e_tonnes_per_year\"].replace(\n",
    "    0, np.nan, inplace=True\n",
    ")  # sums of 0 are simply unmodeled\n",
    "aggs[\"facility_type\"] = \"power plant\"\n",
    "aggs[\"status\"] = \"proposed\"\n",
    "aggs.reset_index(inplace=True)\n",
    "aggs.rename(\n",
    "    columns={\n",
    "        \"project_id\": \"facility_count\",\n",
    "        \"resource_clean\": \"resource_or_sector\",\n",
    "    },\n",
    "    inplace=True,\n",
    ")"
   ]
  },
  {
   "cell_type": "code",
   "execution_count": 76,
   "metadata": {},
   "outputs": [
    {
     "data": {
      "text/html": [
       "<div>\n",
       "<style scoped>\n",
       "    .dataframe tbody tr th:only-of-type {\n",
       "        vertical-align: middle;\n",
       "    }\n",
       "\n",
       "    .dataframe tbody tr th {\n",
       "        vertical-align: top;\n",
       "    }\n",
       "\n",
       "    .dataframe thead th {\n",
       "        text-align: right;\n",
       "    }\n",
       "</style>\n",
       "<table border=\"1\" class=\"dataframe\">\n",
       "  <thead>\n",
       "    <tr style=\"text-align: right;\">\n",
       "      <th></th>\n",
       "      <th>county_id_fips</th>\n",
       "      <th>resource_or_sector</th>\n",
       "      <th>co2e_tonnes_per_year</th>\n",
       "      <th>capacity_mw</th>\n",
       "      <th>facility_count</th>\n",
       "      <th>facility_type</th>\n",
       "      <th>status</th>\n",
       "    </tr>\n",
       "  </thead>\n",
       "  <tbody>\n",
       "    <tr>\n",
       "      <th>0</th>\n",
       "      <td>04001</td>\n",
       "      <td>Battery Storage</td>\n",
       "      <td>NaN</td>\n",
       "      <td>350.0000</td>\n",
       "      <td>1</td>\n",
       "      <td>power plant</td>\n",
       "      <td>proposed</td>\n",
       "    </tr>\n",
       "    <tr>\n",
       "      <th>1</th>\n",
       "      <td>04001</td>\n",
       "      <td>Solar</td>\n",
       "      <td>NaN</td>\n",
       "      <td>350.0000</td>\n",
       "      <td>1</td>\n",
       "      <td>power plant</td>\n",
       "      <td>proposed</td>\n",
       "    </tr>\n",
       "    <tr>\n",
       "      <th>2</th>\n",
       "      <td>04003</td>\n",
       "      <td>Battery Storage</td>\n",
       "      <td>NaN</td>\n",
       "      <td>0.0000</td>\n",
       "      <td>1</td>\n",
       "      <td>power plant</td>\n",
       "      <td>proposed</td>\n",
       "    </tr>\n",
       "    <tr>\n",
       "      <th>3</th>\n",
       "      <td>04003</td>\n",
       "      <td>Solar</td>\n",
       "      <td>NaN</td>\n",
       "      <td>80.0000</td>\n",
       "      <td>1</td>\n",
       "      <td>power plant</td>\n",
       "      <td>proposed</td>\n",
       "    </tr>\n",
       "    <tr>\n",
       "      <th>4</th>\n",
       "      <td>04012</td>\n",
       "      <td>Battery Storage</td>\n",
       "      <td>NaN</td>\n",
       "      <td>8099.8103</td>\n",
       "      <td>8</td>\n",
       "      <td>power plant</td>\n",
       "      <td>proposed</td>\n",
       "    </tr>\n",
       "    <tr>\n",
       "      <th>...</th>\n",
       "      <td>...</td>\n",
       "      <td>...</td>\n",
       "      <td>...</td>\n",
       "      <td>...</td>\n",
       "      <td>...</td>\n",
       "      <td>...</td>\n",
       "      <td>...</td>\n",
       "    </tr>\n",
       "    <tr>\n",
       "      <th>620</th>\n",
       "      <td>53077</td>\n",
       "      <td>Pumped Storage</td>\n",
       "      <td>NaN</td>\n",
       "      <td>600.0000</td>\n",
       "      <td>1</td>\n",
       "      <td>power plant</td>\n",
       "      <td>proposed</td>\n",
       "    </tr>\n",
       "    <tr>\n",
       "      <th>621</th>\n",
       "      <td>53077</td>\n",
       "      <td>Solar</td>\n",
       "      <td>NaN</td>\n",
       "      <td>1224.0000</td>\n",
       "      <td>9</td>\n",
       "      <td>power plant</td>\n",
       "      <td>proposed</td>\n",
       "    </tr>\n",
       "    <tr>\n",
       "      <th>622</th>\n",
       "      <td>56009</td>\n",
       "      <td>Battery Storage</td>\n",
       "      <td>NaN</td>\n",
       "      <td>199.0000</td>\n",
       "      <td>1</td>\n",
       "      <td>power plant</td>\n",
       "      <td>proposed</td>\n",
       "    </tr>\n",
       "    <tr>\n",
       "      <th>623</th>\n",
       "      <td>56009</td>\n",
       "      <td>Solar</td>\n",
       "      <td>NaN</td>\n",
       "      <td>199.0000</td>\n",
       "      <td>1</td>\n",
       "      <td>power plant</td>\n",
       "      <td>proposed</td>\n",
       "    </tr>\n",
       "    <tr>\n",
       "      <th>624</th>\n",
       "      <td>56031</td>\n",
       "      <td>Onshore Wind</td>\n",
       "      <td>NaN</td>\n",
       "      <td>3000.0000</td>\n",
       "      <td>1</td>\n",
       "      <td>power plant</td>\n",
       "      <td>proposed</td>\n",
       "    </tr>\n",
       "  </tbody>\n",
       "</table>\n",
       "<p>625 rows × 7 columns</p>\n",
       "</div>"
      ],
      "text/plain": [
       "    county_id_fips resource_or_sector  co2e_tonnes_per_year  capacity_mw  \\\n",
       "0            04001    Battery Storage                   NaN     350.0000   \n",
       "1            04001              Solar                   NaN     350.0000   \n",
       "2            04003    Battery Storage                   NaN       0.0000   \n",
       "3            04003              Solar                   NaN      80.0000   \n",
       "4            04012    Battery Storage                   NaN    8099.8103   \n",
       "..             ...                ...                   ...          ...   \n",
       "620          53077     Pumped Storage                   NaN     600.0000   \n",
       "621          53077              Solar                   NaN    1224.0000   \n",
       "622          56009    Battery Storage                   NaN     199.0000   \n",
       "623          56009              Solar                   NaN     199.0000   \n",
       "624          56031       Onshore Wind                   NaN    3000.0000   \n",
       "\n",
       "     facility_count facility_type    status  \n",
       "0                 1   power plant  proposed  \n",
       "1                 1   power plant  proposed  \n",
       "2                 1   power plant  proposed  \n",
       "3                 1   power plant  proposed  \n",
       "4                 8   power plant  proposed  \n",
       "..              ...           ...       ...  \n",
       "620               1   power plant  proposed  \n",
       "621               9   power plant  proposed  \n",
       "622               1   power plant  proposed  \n",
       "623               1   power plant  proposed  \n",
       "624               1   power plant  proposed  \n",
       "\n",
       "[625 rows x 7 columns]"
      ]
     },
     "execution_count": 76,
     "metadata": {},
     "output_type": "execute_result"
    }
   ],
   "source": [
    "aggs"
   ]
  },
  {
   "cell_type": "code",
   "execution_count": 77,
   "metadata": {},
   "outputs": [],
   "source": [
    "aggs.to_parquet(\"fyi_counties_agg.parquet\")"
   ]
  },
  {
   "cell_type": "markdown",
   "metadata": {},
   "source": [
    "# Look at data mart tables"
   ]
  },
  {
   "cell_type": "code",
   "execution_count": 7,
   "metadata": {},
   "outputs": [],
   "source": [
    "loc_df = pd.read_parquet(\"/app/data/output/private_data_warehouse/fyi_locations.parquet\")"
   ]
  },
  {
   "cell_type": "code",
   "execution_count": 8,
   "metadata": {},
   "outputs": [
    {
     "data": {
      "text/plain": [
       "2641"
      ]
     },
     "execution_count": 8,
     "metadata": {},
     "output_type": "execute_result"
    }
   ],
   "source": [
    "len(loc_df.county_id_fips.unique())"
   ]
  },
  {
   "cell_type": "code",
   "execution_count": 13,
   "metadata": {},
   "outputs": [],
   "source": [
    "res_df = pd.read_parquet(\"/app/data/output/private_data_warehouse/fyi_resource_capacity.parquet\")"
   ]
  },
  {
   "cell_type": "code",
   "execution_count": 35,
   "metadata": {},
   "outputs": [
    {
     "data": {
      "text/plain": [
       "36364"
      ]
     },
     "execution_count": 35,
     "metadata": {},
     "output_type": "execute_result"
    }
   ],
   "source": [
    "len(proj_df)"
   ]
  },
  {
   "cell_type": "code",
   "execution_count": 19,
   "metadata": {},
   "outputs": [
    {
     "data": {
      "text/html": [
       "<div>\n",
       "<style scoped>\n",
       "    .dataframe tbody tr th:only-of-type {\n",
       "        vertical-align: middle;\n",
       "    }\n",
       "\n",
       "    .dataframe tbody tr th {\n",
       "        vertical-align: top;\n",
       "    }\n",
       "\n",
       "    .dataframe thead th {\n",
       "        text-align: right;\n",
       "    }\n",
       "</style>\n",
       "<table border=\"1\" class=\"dataframe\">\n",
       "  <thead>\n",
       "    <tr style=\"text-align: right;\">\n",
       "      <th></th>\n",
       "      <th>project_id</th>\n",
       "      <th>resource</th>\n",
       "      <th>resource_clean</th>\n",
       "      <th>capacity_mw</th>\n",
       "    </tr>\n",
       "  </thead>\n",
       "  <tbody>\n",
       "    <tr>\n",
       "      <th>0</th>\n",
       "      <td>avista-110</td>\n",
       "      <td>Solar</td>\n",
       "      <td>Solar</td>\n",
       "      <td>100.0</td>\n",
       "    </tr>\n",
       "    <tr>\n",
       "      <th>1</th>\n",
       "      <td>avista-110</td>\n",
       "      <td>Wind</td>\n",
       "      <td>Onshore Wind</td>\n",
       "      <td>275.0</td>\n",
       "    </tr>\n",
       "    <tr>\n",
       "      <th>2</th>\n",
       "      <td>avista-110</td>\n",
       "      <td>Battery</td>\n",
       "      <td>Battery Storage</td>\n",
       "      <td>185.0</td>\n",
       "    </tr>\n",
       "    <tr>\n",
       "      <th>3</th>\n",
       "      <td>avista-111</td>\n",
       "      <td>Solar</td>\n",
       "      <td>Solar</td>\n",
       "      <td>375.0</td>\n",
       "    </tr>\n",
       "    <tr>\n",
       "      <th>4</th>\n",
       "      <td>avista-111</td>\n",
       "      <td>Battery</td>\n",
       "      <td>Battery Storage</td>\n",
       "      <td>185.0</td>\n",
       "    </tr>\n",
       "    <tr>\n",
       "      <th>...</th>\n",
       "      <td>...</td>\n",
       "      <td>...</td>\n",
       "      <td>...</td>\n",
       "      <td>...</td>\n",
       "    </tr>\n",
       "    <tr>\n",
       "      <th>4682</th>\n",
       "      <td>tucson-electric-power-93</td>\n",
       "      <td>Solar</td>\n",
       "      <td>Solar</td>\n",
       "      <td>350.0</td>\n",
       "    </tr>\n",
       "    <tr>\n",
       "      <th>4683</th>\n",
       "      <td>tucson-electric-power-93</td>\n",
       "      <td>Battery</td>\n",
       "      <td>Battery Storage</td>\n",
       "      <td>350.0</td>\n",
       "    </tr>\n",
       "    <tr>\n",
       "      <th>4684</th>\n",
       "      <td>tucson-electric-power-94</td>\n",
       "      <td>Solar</td>\n",
       "      <td>Solar</td>\n",
       "      <td>255.0</td>\n",
       "    </tr>\n",
       "    <tr>\n",
       "      <th>4685</th>\n",
       "      <td>tucson-electric-power-94</td>\n",
       "      <td>Battery</td>\n",
       "      <td>Battery Storage</td>\n",
       "      <td>255.0</td>\n",
       "    </tr>\n",
       "    <tr>\n",
       "      <th>4686</th>\n",
       "      <td>tucson-electric-power-94</td>\n",
       "      <td>Solar</td>\n",
       "      <td>Solar</td>\n",
       "      <td>300.0</td>\n",
       "    </tr>\n",
       "  </tbody>\n",
       "</table>\n",
       "<p>4687 rows × 4 columns</p>\n",
       "</div>"
      ],
      "text/plain": [
       "                    project_id resource   resource_clean  capacity_mw\n",
       "0                   avista-110    Solar            Solar        100.0\n",
       "1                   avista-110     Wind     Onshore Wind        275.0\n",
       "2                   avista-110  Battery  Battery Storage        185.0\n",
       "3                   avista-111    Solar            Solar        375.0\n",
       "4                   avista-111  Battery  Battery Storage        185.0\n",
       "...                        ...      ...              ...          ...\n",
       "4682  tucson-electric-power-93    Solar            Solar        350.0\n",
       "4683  tucson-electric-power-93  Battery  Battery Storage        350.0\n",
       "4684  tucson-electric-power-94    Solar            Solar        255.0\n",
       "4685  tucson-electric-power-94  Battery  Battery Storage        255.0\n",
       "4686  tucson-electric-power-94    Solar            Solar        300.0\n",
       "\n",
       "[4687 rows x 4 columns]"
      ]
     },
     "execution_count": 19,
     "metadata": {},
     "output_type": "execute_result"
    }
   ],
   "source": [
    "res_df"
   ]
  },
  {
   "cell_type": "code",
   "execution_count": 15,
   "metadata": {},
   "outputs": [],
   "source": [
    "proj_df = pd.read_parquet(\"/app/data/output/private_data_warehouse/fyi_projects.parquet\")"
   ]
  },
  {
   "cell_type": "code",
   "execution_count": 31,
   "metadata": {},
   "outputs": [],
   "source": [
    "df = proj_df.merge(res_df, on=\"project_id\", how=\"inner\")"
   ]
  },
  {
   "cell_type": "code",
   "execution_count": 32,
   "metadata": {},
   "outputs": [
    {
     "data": {
      "text/plain": [
       "4687"
      ]
     },
     "execution_count": 32,
     "metadata": {},
     "output_type": "execute_result"
    }
   ],
   "source": [
    "len(df)"
   ]
  },
  {
   "cell_type": "code",
   "execution_count": 33,
   "metadata": {},
   "outputs": [],
   "source": [
    "df = df.merge(loc_df, on=\"project_id\", how=\"left\")"
   ]
  },
  {
   "cell_type": "code",
   "execution_count": 34,
   "metadata": {},
   "outputs": [
    {
     "data": {
      "text/plain": [
       "240"
      ]
     },
     "execution_count": 34,
     "metadata": {},
     "output_type": "execute_result"
    }
   ],
   "source": [
    "len(df.county_id_fips.unique())"
   ]
  },
  {
   "cell_type": "code",
   "execution_count": 26,
   "metadata": {},
   "outputs": [
    {
     "data": {
      "text/plain": [
       "withdrawn      21817\n",
       "active         10485\n",
       "operational     4209\n",
       "suspended        641\n",
       "unknown           25\n",
       "Name: queue_status, dtype: Int64"
      ]
     },
     "execution_count": 26,
     "metadata": {},
     "output_type": "execute_result"
    }
   ],
   "source": [
    "df[\"queue_status\"].value_counts()"
   ]
  },
  {
   "cell_type": "code",
   "execution_count": 28,
   "metadata": {},
   "outputs": [
    {
     "data": {
      "text/plain": [
       "1912"
      ]
     },
     "execution_count": 28,
     "metadata": {},
     "output_type": "execute_result"
    }
   ],
   "source": [
    "len(df[df.queue_status == \"active\"].county_id_fips.unique())"
   ]
  },
  {
   "cell_type": "code",
   "execution_count": 10,
   "metadata": {},
   "outputs": [],
   "source": [
    "long_df = pd.read_parquet(\"/app/data/output/data_mart/fyi_projects_long_format.parquet\")"
   ]
  },
  {
   "cell_type": "code",
   "execution_count": 12,
   "metadata": {},
   "outputs": [
    {
     "data": {
      "text/plain": [
       "240"
      ]
     },
     "execution_count": 12,
     "metadata": {},
     "output_type": "execute_result"
    }
   ],
   "source": [
    "len(long_df.county_id_fips.unique())"
   ]
  },
  {
   "cell_type": "code",
   "execution_count": 4,
   "metadata": {},
   "outputs": [],
   "source": [
    "from dbcp.constants import OUTPUT_DIR"
   ]
  },
  {
   "cell_type": "code",
   "execution_count": 5,
   "metadata": {},
   "outputs": [],
   "source": [
    "fyi_proj_df = pd.read_parquet(OUTPUT_DIR / \"data_mart/fyi_projects_long_format.parquet\")"
   ]
  },
  {
   "cell_type": "code",
   "execution_count": 20,
   "metadata": {},
   "outputs": [],
   "source": [
    "prop_proj_df = pd.read_parquet(OUTPUT_DIR / \"data_mart/counties_proposed_clean_projects.parquet\")"
   ]
  },
  {
   "cell_type": "code",
   "execution_count": 21,
   "metadata": {},
   "outputs": [
    {
     "data": {
      "text/html": [
       "<div>\n",
       "<style scoped>\n",
       "    .dataframe tbody tr th:only-of-type {\n",
       "        vertical-align: middle;\n",
       "    }\n",
       "\n",
       "    .dataframe tbody tr th {\n",
       "        vertical-align: top;\n",
       "    }\n",
       "\n",
       "    .dataframe thead th {\n",
       "        text-align: right;\n",
       "    }\n",
       "</style>\n",
       "<table border=\"1\" class=\"dataframe\">\n",
       "  <thead>\n",
       "    <tr style=\"text-align: right;\">\n",
       "      <th></th>\n",
       "      <th>county_id_fips</th>\n",
       "      <th>resource_clean</th>\n",
       "      <th>capacity_mw</th>\n",
       "      <th>facility_count</th>\n",
       "    </tr>\n",
       "  </thead>\n",
       "  <tbody>\n",
       "    <tr>\n",
       "      <th>0</th>\n",
       "      <td>04001</td>\n",
       "      <td>Battery Storage</td>\n",
       "      <td>350.0000</td>\n",
       "      <td>1</td>\n",
       "    </tr>\n",
       "    <tr>\n",
       "      <th>1</th>\n",
       "      <td>04001</td>\n",
       "      <td>Solar</td>\n",
       "      <td>350.0000</td>\n",
       "      <td>1</td>\n",
       "    </tr>\n",
       "    <tr>\n",
       "      <th>2</th>\n",
       "      <td>04012</td>\n",
       "      <td>Battery Storage</td>\n",
       "      <td>6570.3303</td>\n",
       "      <td>6</td>\n",
       "    </tr>\n",
       "    <tr>\n",
       "      <th>3</th>\n",
       "      <td>04012</td>\n",
       "      <td>Solar</td>\n",
       "      <td>6900.8605</td>\n",
       "      <td>6</td>\n",
       "    </tr>\n",
       "    <tr>\n",
       "      <th>4</th>\n",
       "      <td>04013</td>\n",
       "      <td>Battery Storage</td>\n",
       "      <td>2326.2781</td>\n",
       "      <td>6</td>\n",
       "    </tr>\n",
       "    <tr>\n",
       "      <th>...</th>\n",
       "      <td>...</td>\n",
       "      <td>...</td>\n",
       "      <td>...</td>\n",
       "      <td>...</td>\n",
       "    </tr>\n",
       "    <tr>\n",
       "      <th>259</th>\n",
       "      <td>53071</td>\n",
       "      <td>Hydro</td>\n",
       "      <td>210.0000</td>\n",
       "      <td>1</td>\n",
       "    </tr>\n",
       "    <tr>\n",
       "      <th>260</th>\n",
       "      <td>53071</td>\n",
       "      <td>Onshore Wind</td>\n",
       "      <td>300.0000</td>\n",
       "      <td>2</td>\n",
       "    </tr>\n",
       "    <tr>\n",
       "      <th>261</th>\n",
       "      <td>53071</td>\n",
       "      <td>Solar</td>\n",
       "      <td>325.0000</td>\n",
       "      <td>2</td>\n",
       "    </tr>\n",
       "    <tr>\n",
       "      <th>262</th>\n",
       "      <td>53077</td>\n",
       "      <td>Battery Storage</td>\n",
       "      <td>588.5000</td>\n",
       "      <td>4</td>\n",
       "    </tr>\n",
       "    <tr>\n",
       "      <th>263</th>\n",
       "      <td>53077</td>\n",
       "      <td>Solar</td>\n",
       "      <td>765.0000</td>\n",
       "      <td>4</td>\n",
       "    </tr>\n",
       "  </tbody>\n",
       "</table>\n",
       "<p>264 rows × 4 columns</p>\n",
       "</div>"
      ],
      "text/plain": [
       "    county_id_fips   resource_clean  capacity_mw  facility_count\n",
       "0            04001  Battery Storage     350.0000               1\n",
       "1            04001            Solar     350.0000               1\n",
       "2            04012  Battery Storage    6570.3303               6\n",
       "3            04012            Solar    6900.8605               6\n",
       "4            04013  Battery Storage    2326.2781               6\n",
       "..             ...              ...          ...             ...\n",
       "259          53071            Hydro     210.0000               1\n",
       "260          53071     Onshore Wind     300.0000               2\n",
       "261          53071            Solar     325.0000               2\n",
       "262          53077  Battery Storage     588.5000               4\n",
       "263          53077            Solar     765.0000               4\n",
       "\n",
       "[264 rows x 4 columns]"
      ]
     },
     "execution_count": 21,
     "metadata": {},
     "output_type": "execute_result"
    }
   ],
   "source": [
    "prop_proj_df"
   ]
  },
  {
   "cell_type": "code",
   "execution_count": null,
   "metadata": {},
   "outputs": [],
   "source": []
  }
 ],
 "metadata": {
  "kernelspec": {
   "display_name": "Python 3 (ipykernel)",
   "language": "python",
   "name": "python3"
  },
  "language_info": {
   "codemirror_mode": {
    "name": "ipython",
    "version": 3
   },
   "file_extension": ".py",
   "mimetype": "text/x-python",
   "name": "python",
   "nbconvert_exporter": "python",
   "pygments_lexer": "ipython3",
   "version": "3.10.18"
  }
 },
 "nbformat": 4,
 "nbformat_minor": 4
}
