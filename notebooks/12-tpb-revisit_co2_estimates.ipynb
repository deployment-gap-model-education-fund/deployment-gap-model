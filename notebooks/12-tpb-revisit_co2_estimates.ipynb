{
 "cells": [
  {
   "cell_type": "markdown",
   "id": "4d7f7d18-61a0-4a66-bc93-90ad28db3b85",
   "metadata": {},
   "source": [
    "# Revisit CO2e Estimates\n",
    "This repeats the \"manual decision tree\" methodology used in notebook 05, but with two changes to data aggregation:\n",
    "1. fixes a mistake where CA and CT capacity factors were simply averaged together instead of weighted by energy.\n",
    "2. interprets the marginal build of the ISO queue as plants instead of generators. I'm not sure this is correct for GTs, but is certainly true for CCs.\n",
    "\n",
    "The primary impact of these changes was to increase CC cap factor from 0.52 to 0.62, a nearly 20% increase in CO2e.  Small GTs also saw a large increase, from 0.44 to 0.6, a 33% increase in CO2e. Large GTs were about the same."
   ]
  },
  {
   "cell_type": "code",
   "execution_count": 1,
   "id": "42e76e19-8f31-43e3-b74d-cad33025f46b",
   "metadata": {},
   "outputs": [],
   "source": [
    "import pandas as pd\n",
    "import sqlalchemy as sa\n",
    "import numpy as np"
   ]
  },
  {
   "cell_type": "code",
   "execution_count": 2,
   "id": "19892fec-dce3-4e86-9482-ae23c4220a3d",
   "metadata": {},
   "outputs": [
    {
     "name": "stderr",
     "output_type": "stream",
     "text": [
      "/app/.local/lib/python3.9/site-packages/geopandas/_compat.py:111: UserWarning: The Shapely GEOS version (3.10.2-CAPI-1.16.0) is incompatible with the GEOS version PyGEOS was compiled with (3.10.0-CAPI-1.16.0). Conversions between both will be slow.\n",
      "  warnings.warn(\n"
     ]
    }
   ],
   "source": [
    "from dbcp.helpers import download_pudl_data, get_sql_engine"
   ]
  },
  {
   "cell_type": "code",
   "execution_count": 3,
   "id": "3b779fd3-25d8-4342-9e7b-adb4d82cba12",
   "metadata": {},
   "outputs": [],
   "source": [
    "pudl_data_path = download_pudl_data()\n",
    "pudl_engine = sa.create_engine(\n",
    "    f\"sqlite:////{pudl_data_path}/pudl_data/sqlite/pudl.sqlite\"\n",
    ")"
   ]
  },
  {
   "cell_type": "code",
   "execution_count": 35,
   "id": "6a70f372-ec35-4039-9b30-9525d4262300",
   "metadata": {},
   "outputs": [],
   "source": [
    "query = \"\"\"\n",
    "with\n",
    "plants as (\n",
    "    select\n",
    "        plant_id_eia,\n",
    "        CASE prime_mover_code\n",
    "            WHEN 'CA' THEN 'CC'\n",
    "            WHEN 'CT' THEN 'CC'\n",
    "            ELSE prime_mover_code\n",
    "        END as mod_prime_mover,\n",
    "        sum(fuel_consumed_for_electricity_mmbtu) as mmbtu,\n",
    "        sum(net_generation_mwh) as mwh\n",
    "    from generation_fuel_eia923\n",
    "    where report_date >= date('2020-01-01') -- this is monthly data\n",
    "    AND fuel_type_code_pudl = 'gas'\n",
    "    AND prime_mover_code in ('CA', 'CT', 'CS', 'GT')\n",
    "    group by 1,2\n",
    "),\n",
    "gen_cap as (\n",
    "    select\n",
    "        plant_id_eia,\n",
    "        generator_id,\n",
    "        report_date,\n",
    "        capacity_mw\n",
    "    from generators_eia860\n",
    "    where report_date = date('2020-01-01') -- annual data\n",
    "    AND fuel_type_code_pudl = 'gas'\n",
    "    AND operational_status = 'existing'\n",
    "),\n",
    "gens as (\n",
    "    select\n",
    "        cap.*,\n",
    "        CASE prime_mover_code\n",
    "            WHEN 'CA' THEN 'CC'\n",
    "            WHEN 'CT' THEN 'CC'\n",
    "            ELSE prime_mover_code\n",
    "        END as mod_prime_mover\n",
    "    from gen_cap as cap\n",
    "    INNER JOIN generators_entity_eia as ent\n",
    "    on cap.plant_id_eia = ent.plant_id_eia\n",
    "    and cap.generator_id = ent.generator_id\n",
    "    where ent.operating_date >= date('2015-01-01')\n",
    "),\n",
    "agg_gens as (\n",
    "    select\n",
    "        plant_id_eia,\n",
    "        mod_prime_mover,\n",
    "        sum(capacity_mw) as mw\n",
    "    from gens\n",
    "    group by 1, 2\n",
    ")\n",
    "select\n",
    "    plants.*,\n",
    "    agg.mw,\n",
    "    plants.mwh / agg.mw / 8784.0 as cap_factor,\n",
    "    mmbtu / mwh as heat_rate\n",
    "from agg_gens as agg\n",
    "inner join plants\n",
    "on plants.plant_id_eia = agg.plant_id_eia\n",
    "and plants.mod_prime_mover = agg.mod_prime_mover\n",
    ";\n",
    "\"\"\"\n",
    "plant = pd.read_sql(query, pudl_engine)"
   ]
  },
  {
   "cell_type": "code",
   "execution_count": 36,
   "id": "cb12e3a0-6bbf-4c82-a81c-270b4f7afc49",
   "metadata": {},
   "outputs": [
    {
     "data": {
      "text/html": [
       "<div>\n",
       "<style scoped>\n",
       "    .dataframe tbody tr th:only-of-type {\n",
       "        vertical-align: middle;\n",
       "    }\n",
       "\n",
       "    .dataframe tbody tr th {\n",
       "        vertical-align: top;\n",
       "    }\n",
       "\n",
       "    .dataframe thead th {\n",
       "        text-align: right;\n",
       "    }\n",
       "</style>\n",
       "<table border=\"1\" class=\"dataframe\">\n",
       "  <thead>\n",
       "    <tr style=\"text-align: right;\">\n",
       "      <th></th>\n",
       "      <th>plant_id_eia</th>\n",
       "      <th>mod_prime_mover</th>\n",
       "      <th>mmbtu</th>\n",
       "      <th>mwh</th>\n",
       "      <th>mw</th>\n",
       "      <th>cap_factor</th>\n",
       "      <th>heat_rate</th>\n",
       "    </tr>\n",
       "  </thead>\n",
       "  <tbody>\n",
       "    <tr>\n",
       "      <th>0</th>\n",
       "      <td>116</td>\n",
       "      <td>GT</td>\n",
       "      <td>7370739.0</td>\n",
       "      <td>740914.000</td>\n",
       "      <td>809.5</td>\n",
       "      <td>0.104198</td>\n",
       "      <td>9.948171</td>\n",
       "    </tr>\n",
       "    <tr>\n",
       "      <th>1</th>\n",
       "      <td>165</td>\n",
       "      <td>CC</td>\n",
       "      <td>16964140.0</td>\n",
       "      <td>2452600.000</td>\n",
       "      <td>600.3</td>\n",
       "      <td>0.465121</td>\n",
       "      <td>6.916798</td>\n",
       "    </tr>\n",
       "    <tr>\n",
       "      <th>2</th>\n",
       "      <td>404</td>\n",
       "      <td>CC</td>\n",
       "      <td>9962119.0</td>\n",
       "      <td>1369374.000</td>\n",
       "      <td>335.8</td>\n",
       "      <td>0.464247</td>\n",
       "      <td>7.274944</td>\n",
       "    </tr>\n",
       "    <tr>\n",
       "      <th>3</th>\n",
       "      <td>404</td>\n",
       "      <td>GT</td>\n",
       "      <td>1270722.0</td>\n",
       "      <td>130703.000</td>\n",
       "      <td>213.8</td>\n",
       "      <td>0.069596</td>\n",
       "      <td>9.722210</td>\n",
       "    </tr>\n",
       "    <tr>\n",
       "      <th>4</th>\n",
       "      <td>422</td>\n",
       "      <td>CC</td>\n",
       "      <td>284639.0</td>\n",
       "      <td>33257.000</td>\n",
       "      <td>87.0</td>\n",
       "      <td>0.043518</td>\n",
       "      <td>8.558770</td>\n",
       "    </tr>\n",
       "    <tr>\n",
       "      <th>...</th>\n",
       "      <td>...</td>\n",
       "      <td>...</td>\n",
       "      <td>...</td>\n",
       "      <td>...</td>\n",
       "      <td>...</td>\n",
       "      <td>...</td>\n",
       "      <td>...</td>\n",
       "    </tr>\n",
       "    <tr>\n",
       "      <th>146</th>\n",
       "      <td>63285</td>\n",
       "      <td>GT</td>\n",
       "      <td>2130307.0</td>\n",
       "      <td>227758.000</td>\n",
       "      <td>33.5</td>\n",
       "      <td>0.773992</td>\n",
       "      <td>9.353379</td>\n",
       "    </tr>\n",
       "    <tr>\n",
       "      <th>147</th>\n",
       "      <td>63347</td>\n",
       "      <td>GT</td>\n",
       "      <td>657196.0</td>\n",
       "      <td>56628.384</td>\n",
       "      <td>7.5</td>\n",
       "      <td>0.859569</td>\n",
       "      <td>11.605417</td>\n",
       "    </tr>\n",
       "    <tr>\n",
       "      <th>148</th>\n",
       "      <td>63423</td>\n",
       "      <td>GT</td>\n",
       "      <td>520501.0</td>\n",
       "      <td>55156.000</td>\n",
       "      <td>16.5</td>\n",
       "      <td>0.380554</td>\n",
       "      <td>9.436888</td>\n",
       "    </tr>\n",
       "    <tr>\n",
       "      <th>149</th>\n",
       "      <td>63632</td>\n",
       "      <td>GT</td>\n",
       "      <td>3705842.0</td>\n",
       "      <td>328991.000</td>\n",
       "      <td>61.4</td>\n",
       "      <td>0.609991</td>\n",
       "      <td>11.264266</td>\n",
       "    </tr>\n",
       "    <tr>\n",
       "      <th>150</th>\n",
       "      <td>64020</td>\n",
       "      <td>CC</td>\n",
       "      <td>13970849.0</td>\n",
       "      <td>1936467.000</td>\n",
       "      <td>723.2</td>\n",
       "      <td>0.304831</td>\n",
       "      <td>7.214607</td>\n",
       "    </tr>\n",
       "  </tbody>\n",
       "</table>\n",
       "<p>151 rows × 7 columns</p>\n",
       "</div>"
      ],
      "text/plain": [
       "     plant_id_eia mod_prime_mover       mmbtu          mwh     mw  cap_factor  \\\n",
       "0             116              GT   7370739.0   740914.000  809.5    0.104198   \n",
       "1             165              CC  16964140.0  2452600.000  600.3    0.465121   \n",
       "2             404              CC   9962119.0  1369374.000  335.8    0.464247   \n",
       "3             404              GT   1270722.0   130703.000  213.8    0.069596   \n",
       "4             422              CC    284639.0    33257.000   87.0    0.043518   \n",
       "..            ...             ...         ...          ...    ...         ...   \n",
       "146         63285              GT   2130307.0   227758.000   33.5    0.773992   \n",
       "147         63347              GT    657196.0    56628.384    7.5    0.859569   \n",
       "148         63423              GT    520501.0    55156.000   16.5    0.380554   \n",
       "149         63632              GT   3705842.0   328991.000   61.4    0.609991   \n",
       "150         64020              CC  13970849.0  1936467.000  723.2    0.304831   \n",
       "\n",
       "     heat_rate  \n",
       "0     9.948171  \n",
       "1     6.916798  \n",
       "2     7.274944  \n",
       "3     9.722210  \n",
       "4     8.558770  \n",
       "..         ...  \n",
       "146   9.353379  \n",
       "147  11.605417  \n",
       "148   9.436888  \n",
       "149  11.264266  \n",
       "150   7.214607  \n",
       "\n",
       "[151 rows x 7 columns]"
      ]
     },
     "execution_count": 36,
     "metadata": {},
     "output_type": "execute_result"
    }
   ],
   "source": [
    "plant"
   ]
  },
  {
   "cell_type": "code",
   "execution_count": 37,
   "id": "cfdd7886-e296-4496-8dea-ceeb6c6eaacb",
   "metadata": {},
   "outputs": [
    {
     "data": {
      "text/html": [
       "<div>\n",
       "<style scoped>\n",
       "    .dataframe tbody tr th:only-of-type {\n",
       "        vertical-align: middle;\n",
       "    }\n",
       "\n",
       "    .dataframe tbody tr th {\n",
       "        vertical-align: top;\n",
       "    }\n",
       "\n",
       "    .dataframe thead th {\n",
       "        text-align: right;\n",
       "    }\n",
       "</style>\n",
       "<table border=\"1\" class=\"dataframe\">\n",
       "  <thead>\n",
       "    <tr style=\"text-align: right;\">\n",
       "      <th></th>\n",
       "      <th>plant_id_eia</th>\n",
       "      <th>mmbtu</th>\n",
       "      <th>mwh</th>\n",
       "      <th>mw</th>\n",
       "      <th>cap_factor</th>\n",
       "      <th>heat_rate</th>\n",
       "    </tr>\n",
       "  </thead>\n",
       "  <tbody>\n",
       "    <tr>\n",
       "      <th>count</th>\n",
       "      <td>151.000000</td>\n",
       "      <td>1.510000e+02</td>\n",
       "      <td>1.510000e+02</td>\n",
       "      <td>151.000000</td>\n",
       "      <td>151.000000</td>\n",
       "      <td>150.000000</td>\n",
       "    </tr>\n",
       "    <tr>\n",
       "      <th>mean</th>\n",
       "      <td>45835.503311</td>\n",
       "      <td>1.379265e+07</td>\n",
       "      <td>1.942106e+06</td>\n",
       "      <td>409.725166</td>\n",
       "      <td>0.533121</td>\n",
       "      <td>8.880403</td>\n",
       "    </tr>\n",
       "    <tr>\n",
       "      <th>std</th>\n",
       "      <td>23687.294895</td>\n",
       "      <td>1.824337e+07</td>\n",
       "      <td>2.687873e+06</td>\n",
       "      <td>457.455936</td>\n",
       "      <td>0.439637</td>\n",
       "      <td>3.077642</td>\n",
       "    </tr>\n",
       "    <tr>\n",
       "      <th>min</th>\n",
       "      <td>116.000000</td>\n",
       "      <td>0.000000e+00</td>\n",
       "      <td>0.000000e+00</td>\n",
       "      <td>0.500000</td>\n",
       "      <td>0.000000</td>\n",
       "      <td>4.014125</td>\n",
       "    </tr>\n",
       "    <tr>\n",
       "      <th>25%</th>\n",
       "      <td>50215.000000</td>\n",
       "      <td>4.553225e+05</td>\n",
       "      <td>4.660800e+04</td>\n",
       "      <td>24.200000</td>\n",
       "      <td>0.175921</td>\n",
       "      <td>6.786192</td>\n",
       "    </tr>\n",
       "    <tr>\n",
       "      <th>50%</th>\n",
       "      <td>58284.000000</td>\n",
       "      <td>3.461605e+06</td>\n",
       "      <td>3.478270e+05</td>\n",
       "      <td>151.700000</td>\n",
       "      <td>0.593177</td>\n",
       "      <td>7.385890</td>\n",
       "    </tr>\n",
       "    <tr>\n",
       "      <th>75%</th>\n",
       "      <td>60351.000000</td>\n",
       "      <td>2.463247e+07</td>\n",
       "      <td>3.643579e+06</td>\n",
       "      <td>752.500000</td>\n",
       "      <td>0.725392</td>\n",
       "      <td>11.049314</td>\n",
       "    </tr>\n",
       "    <tr>\n",
       "      <th>max</th>\n",
       "      <td>64020.000000</td>\n",
       "      <td>7.967028e+07</td>\n",
       "      <td>1.166045e+07</td>\n",
       "      <td>1970.600000</td>\n",
       "      <td>3.272274</td>\n",
       "      <td>24.881269</td>\n",
       "    </tr>\n",
       "  </tbody>\n",
       "</table>\n",
       "</div>"
      ],
      "text/plain": [
       "       plant_id_eia         mmbtu           mwh           mw  cap_factor  \\\n",
       "count    151.000000  1.510000e+02  1.510000e+02   151.000000  151.000000   \n",
       "mean   45835.503311  1.379265e+07  1.942106e+06   409.725166    0.533121   \n",
       "std    23687.294895  1.824337e+07  2.687873e+06   457.455936    0.439637   \n",
       "min      116.000000  0.000000e+00  0.000000e+00     0.500000    0.000000   \n",
       "25%    50215.000000  4.553225e+05  4.660800e+04    24.200000    0.175921   \n",
       "50%    58284.000000  3.461605e+06  3.478270e+05   151.700000    0.593177   \n",
       "75%    60351.000000  2.463247e+07  3.643579e+06   752.500000    0.725392   \n",
       "max    64020.000000  7.967028e+07  1.166045e+07  1970.600000    3.272274   \n",
       "\n",
       "        heat_rate  \n",
       "count  150.000000  \n",
       "mean     8.880403  \n",
       "std      3.077642  \n",
       "min      4.014125  \n",
       "25%      6.786192  \n",
       "50%      7.385890  \n",
       "75%     11.049314  \n",
       "max     24.881269  "
      ]
     },
     "execution_count": 37,
     "metadata": {},
     "output_type": "execute_result"
    }
   ],
   "source": [
    "plant.describe()"
   ]
  },
  {
   "cell_type": "code",
   "execution_count": 38,
   "id": "2e47b216-4820-4d3f-af07-339485835ed6",
   "metadata": {},
   "outputs": [
    {
     "data": {
      "text/plain": [
       "mod_prime_mover\n",
       "CC    AxesSubplot(0.125,0.125;0.775x0.755)\n",
       "CS    AxesSubplot(0.125,0.125;0.775x0.755)\n",
       "GT    AxesSubplot(0.125,0.125;0.775x0.755)\n",
       "Name: mw, dtype: object"
      ]
     },
     "execution_count": 38,
     "metadata": {},
     "output_type": "execute_result"
    },
    {
     "data": {
      "image/png": "[encoded data removed]",
      "text/plain": [
       "<Figure size 864x360 with 1 Axes>"
      ]
     },
     "metadata": {
      "needs_background": "light"
     },
     "output_type": "display_data"
    }
   ],
   "source": [
    "plant.query('1500 > mw > 20').groupby('mod_prime_mover')['mw'].hist(bins=50, histtype='stepfilled', alpha=0.3, figsize = (12,5))"
   ]
  },
  {
   "cell_type": "code",
   "execution_count": 39,
   "id": "a6c62ff9-f3c3-4a75-872c-89b54225d089",
   "metadata": {},
   "outputs": [
    {
     "data": {
      "text/plain": [
       "mod_prime_mover\n",
       "CC    AxesSubplot(0.125,0.125;0.775x0.755)\n",
       "CS    AxesSubplot(0.125,0.125;0.775x0.755)\n",
       "GT    AxesSubplot(0.125,0.125;0.775x0.755)\n",
       "Name: heat_rate, dtype: object"
      ]
     },
     "execution_count": 39,
     "metadata": {},
     "output_type": "execute_result"
    },
    {
     "data": {
      "image/png": "[encoded data removed]",
      "text/plain": [
       "<Figure size 432x288 with 1 Axes>"
      ]
     },
     "metadata": {
      "needs_background": "light"
     },
     "output_type": "display_data"
    }
   ],
   "source": [
    "plant.groupby('mod_prime_mover')['heat_rate'].hist(bins=20, histtype='stepfilled', alpha=0.3)"
   ]
  },
  {
   "cell_type": "code",
   "execution_count": 12,
   "id": "ef0c6a2f-6302-4798-a89c-362f1ad452a2",
   "metadata": {},
   "outputs": [
    {
     "data": {
      "text/plain": [
       "mod_prime_mover\n",
       "CC    AxesSubplot(0.125,0.125;0.775x0.755)\n",
       "CS    AxesSubplot(0.125,0.125;0.775x0.755)\n",
       "GT    AxesSubplot(0.125,0.125;0.775x0.755)\n",
       "dtype: object"
      ]
     },
     "execution_count": 12,
     "metadata": {},
     "output_type": "execute_result"
    },
    {
     "data": {
      "image/png": "[encoded data removed]",
      "text/plain": [
       "<Figure size 432x288 with 1 Axes>"
      ]
     },
     "metadata": {
      "needs_background": "light"
     },
     "output_type": "display_data"
    },
    {
     "data": {
      "image/png": "[encoded data removed]",
      "text/plain": [
       "<Figure size 432x288 with 1 Axes>"
      ]
     },
     "metadata": {
      "needs_background": "light"
     },
     "output_type": "display_data"
    },
    {
     "data": {
      "image/png": "[encoded data removed]",
      "text/plain": [
       "<Figure size 432x288 with 1 Axes>"
      ]
     },
     "metadata": {
      "needs_background": "light"
     },
     "output_type": "display_data"
    }
   ],
   "source": [
    "plant.groupby('mod_prime_mover')[['mw', 'mwh']].plot.scatter(x='mw', y='mwh')"
   ]
  },
  {
   "cell_type": "code",
   "execution_count": 16,
   "id": "2cfbd32f-0ab8-4805-accd-6d9fc863c4ec",
   "metadata": {},
   "outputs": [
    {
     "data": {
      "text/plain": [
       "mod_prime_mover\n",
       "CC    AxesSubplot(0.125,0.125;0.775x0.755)\n",
       "CS    AxesSubplot(0.125,0.125;0.775x0.755)\n",
       "GT    AxesSubplot(0.125,0.125;0.775x0.755)\n",
       "dtype: object"
      ]
     },
     "execution_count": 16,
     "metadata": {},
     "output_type": "execute_result"
    },
    {
     "data": {
      "image/png": "[encoded data removed]",
      "text/plain": [
       "<Figure size 432x288 with 1 Axes>"
      ]
     },
     "metadata": {
      "needs_background": "light"
     },
     "output_type": "display_data"
    },
    {
     "data": {
      "image/png": "[encoded data removed]",
      "text/plain": [
       "<Figure size 432x288 with 1 Axes>"
      ]
     },
     "metadata": {
      "needs_background": "light"
     },
     "output_type": "display_data"
    },
    {
     "data": {
      "image/png": "[encoded data removed]",
      "text/plain": [
       "<Figure size 432x288 with 1 Axes>"
      ]
     },
     "metadata": {
      "needs_background": "light"
     },
     "output_type": "display_data"
    }
   ],
   "source": [
    "plant.groupby('mod_prime_mover')[['cap_factor', 'heat_rate']].plot.scatter(x='cap_factor', y='heat_rate', xlim=(0,1))"
   ]
  },
  {
   "cell_type": "code",
   "execution_count": 15,
   "id": "5b91014e-bbff-4056-9e6e-e0c64ac0bfb6",
   "metadata": {},
   "outputs": [
    {
     "data": {
      "text/plain": [
       "mod_prime_mover\n",
       "CC    AxesSubplot(0.125,0.125;0.775x0.755)\n",
       "CS    AxesSubplot(0.125,0.125;0.775x0.755)\n",
       "GT    AxesSubplot(0.125,0.125;0.775x0.755)\n",
       "dtype: object"
      ]
     },
     "execution_count": 15,
     "metadata": {},
     "output_type": "execute_result"
    },
    {
     "data": {
      "image/png": "[encoded data removed]",
      "text/plain": [
       "<Figure size 432x288 with 1 Axes>"
      ]
     },
     "metadata": {
      "needs_background": "light"
     },
     "output_type": "display_data"
    },
    {
     "data": {
      "image/png": "[encoded data removed]",
      "text/plain": [
       "<Figure size 432x288 with 1 Axes>"
      ]
     },
     "metadata": {
      "needs_background": "light"
     },
     "output_type": "display_data"
    },
    {
     "data": {
      "image/png": "[encoded data removed]",
      "text/plain": [
       "<Figure size 432x288 with 1 Axes>"
      ]
     },
     "metadata": {
      "needs_background": "light"
     },
     "output_type": "display_data"
    }
   ],
   "source": [
    "plant.groupby('mod_prime_mover')[['cap_factor', 'mw']].plot.scatter(y='cap_factor', x='mw', ylim=(0,1))"
   ]
  },
  {
   "cell_type": "markdown",
   "id": "209c1893-b2d8-4fa3-90a4-4de5a7ba64e0",
   "metadata": {},
   "source": [
    "Estimate capacity factors. Split CC vs GT at 450 MW"
   ]
  },
  {
   "cell_type": "code",
   "execution_count": 64,
   "id": "1d4c2f75-7377-424f-98c7-d2e4020aaf83",
   "metadata": {},
   "outputs": [
    {
     "data": {
      "text/plain": [
       "<AxesSubplot:xlabel='mw'>"
      ]
     },
     "execution_count": 64,
     "metadata": {},
     "output_type": "execute_result"
    },
    {
     "data": {
      "image/png": "[encoded data removed]",
      "text/plain": [
       "<Figure size 432x288 with 1 Axes>"
      ]
     },
     "metadata": {
      "needs_background": "light"
     },
     "output_type": "display_data"
    }
   ],
   "source": [
    "(plant.query('mod_prime_mover == \"GT\"')[['cap_factor', 'mw']]\n",
    " .sort_values('mw')\n",
    " .rolling(10).mean()\n",
    " .plot(x='mw', y='cap_factor', grid=True)\n",
    ")"
   ]
  },
  {
   "cell_type": "code",
   "execution_count": 43,
   "id": "f9e16be8-170e-4f9d-bc49-dba2667a2581",
   "metadata": {},
   "outputs": [
    {
     "data": {
      "text/plain": [
       "0.6219281428674367"
      ]
     },
     "execution_count": 43,
     "metadata": {},
     "output_type": "execute_result"
    }
   ],
   "source": [
    "plant.query('mod_prime_mover == \"CC\" and mw > 450')['cap_factor'].mean()"
   ]
  },
  {
   "cell_type": "code",
   "execution_count": 65,
   "id": "8f53c2c8-555a-4b63-91f4-49ab915f2d74",
   "metadata": {},
   "outputs": [
    {
     "data": {
      "text/plain": [
       "0.10668748474014222"
      ]
     },
     "execution_count": 65,
     "metadata": {},
     "output_type": "execute_result"
    }
   ],
   "source": [
    "plant.query('mod_prime_mover == \"GT\" and 110 < mw < 450')['cap_factor'].mean()"
   ]
  },
  {
   "cell_type": "code",
   "execution_count": 66,
   "id": "cd824b0f-f98f-46b0-947b-ed2e1a08abe3",
   "metadata": {},
   "outputs": [
    {
     "data": {
      "text/plain": [
       "0.6081328166567699"
      ]
     },
     "execution_count": 66,
     "metadata": {},
     "output_type": "execute_result"
    }
   ],
   "source": [
    "plant.query('mod_prime_mover == \"GT\" and mw < 110')['cap_factor'].mean()"
   ]
  },
  {
   "cell_type": "code",
   "execution_count": 47,
   "id": "f7f4e745-3a5a-4006-95e3-f2d26ca2e388",
   "metadata": {},
   "outputs": [],
   "source": [
    "postgres_engine = get_sql_engine()"
   ]
  },
  {
   "cell_type": "code",
   "execution_count": 48,
   "id": "6bbb3f2a-4c6b-4b35-86f8-cfd8c874a09e",
   "metadata": {},
   "outputs": [
    {
     "data": {
      "text/html": [
       "<div>\n",
       "<style scoped>\n",
       "    .dataframe tbody tr th:only-of-type {\n",
       "        vertical-align: middle;\n",
       "    }\n",
       "\n",
       "    .dataframe tbody tr th {\n",
       "        vertical-align: top;\n",
       "    }\n",
       "\n",
       "    .dataframe thead th {\n",
       "        text-align: right;\n",
       "    }\n",
       "</style>\n",
       "<table border=\"1\" class=\"dataframe\">\n",
       "  <thead>\n",
       "    <tr style=\"text-align: right;\">\n",
       "      <th></th>\n",
       "      <th>state</th>\n",
       "      <th>county</th>\n",
       "      <th>state_id_fips</th>\n",
       "      <th>project_id</th>\n",
       "      <th>county_id_fips</th>\n",
       "      <th>capacity_mw</th>\n",
       "      <th>resource</th>\n",
       "    </tr>\n",
       "  </thead>\n",
       "  <tbody>\n",
       "    <tr>\n",
       "      <th>0</th>\n",
       "      <td>Washington</td>\n",
       "      <td>Grays Harbor County</td>\n",
       "      <td>53</td>\n",
       "      <td>41</td>\n",
       "      <td>53027</td>\n",
       "      <td>255.0</td>\n",
       "      <td>Natural Gas</td>\n",
       "    </tr>\n",
       "    <tr>\n",
       "      <th>1</th>\n",
       "      <td>Idaho</td>\n",
       "      <td>Minidoka County</td>\n",
       "      <td>16</td>\n",
       "      <td>43</td>\n",
       "      <td>16067</td>\n",
       "      <td>6.0</td>\n",
       "      <td>Natural Gas</td>\n",
       "    </tr>\n",
       "    <tr>\n",
       "      <th>2</th>\n",
       "      <td>Kansas</td>\n",
       "      <td>Cowley County</td>\n",
       "      <td>20</td>\n",
       "      <td>44</td>\n",
       "      <td>20035</td>\n",
       "      <td>58.0</td>\n",
       "      <td>Natural Gas</td>\n",
       "    </tr>\n",
       "    <tr>\n",
       "      <th>3</th>\n",
       "      <td>West Virginia</td>\n",
       "      <td>Monongalia County</td>\n",
       "      <td>54</td>\n",
       "      <td>51</td>\n",
       "      <td>54061</td>\n",
       "      <td>0.0</td>\n",
       "      <td>Natural Gas</td>\n",
       "    </tr>\n",
       "    <tr>\n",
       "      <th>4</th>\n",
       "      <td>Texas</td>\n",
       "      <td>Anderson County</td>\n",
       "      <td>48</td>\n",
       "      <td>54</td>\n",
       "      <td>48001</td>\n",
       "      <td>200.0</td>\n",
       "      <td>Natural Gas</td>\n",
       "    </tr>\n",
       "  </tbody>\n",
       "</table>\n",
       "</div>"
      ],
      "text/plain": [
       "           state               county state_id_fips  project_id  \\\n",
       "0     Washington  Grays Harbor County            53          41   \n",
       "1          Idaho      Minidoka County            16          43   \n",
       "2         Kansas        Cowley County            20          44   \n",
       "3  West Virginia    Monongalia County            54          51   \n",
       "4          Texas      Anderson County            48          54   \n",
       "\n",
       "  county_id_fips  capacity_mw     resource  \n",
       "0          53027        255.0  Natural Gas  \n",
       "1          16067          6.0  Natural Gas  \n",
       "2          20035         58.0  Natural Gas  \n",
       "3          54061          0.0  Natural Gas  \n",
       "4          48001        200.0  Natural Gas  "
      ]
     },
     "execution_count": 48,
     "metadata": {},
     "output_type": "execute_result"
    }
   ],
   "source": [
    "query = \"\"\"\n",
    "WITH\n",
    "active_loc as (\n",
    "    select\n",
    "        proj.project_id,\n",
    "        loc.county_id_fips\n",
    "    from data_warehouse.iso_projects as proj\n",
    "    left join data_warehouse.iso_locations as loc\n",
    "        on loc.project_id = proj.project_id\n",
    "    where proj.queue_status = 'active'\n",
    "),\n",
    "projects as (\n",
    "    select\n",
    "        loc.project_id,\n",
    "        loc.county_id_fips,\n",
    "        res.capacity_mw,\n",
    "        res.resource_clean as resource\n",
    "    from active_loc as loc\n",
    "    left join data_warehouse.iso_resource_capacity as res\n",
    "        on res.project_id = loc.project_id\n",
    "    where res.capacity_mw is not NULL\n",
    "    and res.resource_clean in ('Natural Gas', 'Coal', 'Oil')\n",
    "),\n",
    "w_county_names as (\n",
    "select\n",
    "    cfip.county_name as county,\n",
    "    cfip.state_id_fips,\n",
    "    proj.*\n",
    "from projects as proj\n",
    "left join data_warehouse.county_fips as cfip\n",
    "    on proj.county_id_fips = cfip.county_id_fips\n",
    ")\n",
    "SELECT\n",
    "    sfip.state_name as state,\n",
    "    proj.*\n",
    "from w_county_names as proj\n",
    "left join data_warehouse.state_fips as sfip\n",
    "    on proj.state_id_fips = sfip.state_id_fips\n",
    ";\"\"\"\n",
    "iso = pd.read_sql(query, postgres_engine)\n",
    "iso.head()"
   ]
  },
  {
   "cell_type": "code",
   "execution_count": 60,
   "id": "b6602c62-f7cc-4d03-9be9-f732f0aecfc8",
   "metadata": {},
   "outputs": [
    {
     "data": {
      "text/plain": [
       "<AxesSubplot:>"
      ]
     },
     "execution_count": 60,
     "metadata": {},
     "output_type": "execute_result"
    },
    {
     "data": {
      "image/png": "[encoded data removed]",
      "text/plain": [
       "<Figure size 432x288 with 1 Axes>"
      ]
     },
     "metadata": {
      "needs_background": "light"
     },
     "output_type": "display_data"
    }
   ],
   "source": [
    "iso['capacity_mw'].hist(bins=40)"
   ]
  },
  {
   "cell_type": "code",
   "execution_count": 50,
   "id": "78b47402-bf8e-464f-a0d8-23f64ee26feb",
   "metadata": {},
   "outputs": [
    {
     "data": {
      "text/plain": [
       "263.01910569105695"
      ]
     },
     "execution_count": 50,
     "metadata": {},
     "output_type": "execute_result"
    }
   ],
   "source": [
    "iso['capacity_mw'].mean()"
   ]
  },
  {
   "cell_type": "code",
   "execution_count": 56,
   "id": "61424a61-6ccd-4b4f-9f92-519722983071",
   "metadata": {},
   "outputs": [
    {
     "data": {
      "text/plain": [
       "Natural Gas    239\n",
       "Coal             7\n",
       "Name: resource, dtype: int64"
      ]
     },
     "execution_count": 56,
     "metadata": {},
     "output_type": "execute_result"
    }
   ],
   "source": [
    "iso['resource'].value_counts()"
   ]
  },
  {
   "cell_type": "code",
   "execution_count": 59,
   "id": "58af6a16-f1d8-4838-bf11-eeef6e0daea3",
   "metadata": {},
   "outputs": [
    {
     "data": {
      "text/plain": [
       "True"
      ]
     },
     "execution_count": 59,
     "metadata": {},
     "output_type": "execute_result"
    }
   ],
   "source": [
    "set(iso['resource'].unique()) == {'Coal', 'Natural Gas'}"
   ]
  },
  {
   "cell_type": "code",
   "execution_count": null,
   "id": "87e3a007-7db0-49c5-b3c2-3f157e98711b",
   "metadata": {},
   "outputs": [],
   "source": []
  }
 ],
 "metadata": {
  "kernelspec": {
   "display_name": "Python 3 (ipykernel)",
   "language": "python",
   "name": "python3"
  },
  "language_info": {
   "codemirror_mode": {
    "name": "ipython",
    "version": 3
   },
   "file_extension": ".py",
   "mimetype": "text/x-python",
   "name": "python",
   "nbconvert_exporter": "python",
   "pygments_lexer": "ipython3",
   "version": "3.9.10"
  }
 },
 "nbformat": 4,
 "nbformat_minor": 5
}
