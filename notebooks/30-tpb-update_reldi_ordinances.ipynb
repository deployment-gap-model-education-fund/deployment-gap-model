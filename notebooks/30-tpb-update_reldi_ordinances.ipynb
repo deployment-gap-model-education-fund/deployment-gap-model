{
 "cells": [
  {
   "cell_type": "code",
   "execution_count": 1,
   "id": "ae06cf35",
   "metadata": {},
   "outputs": [],
   "source": [
    "%load_ext autoreload"
   ]
  },
  {
   "cell_type": "code",
   "execution_count": 2,
   "id": "7510a5fc",
   "metadata": {},
   "outputs": [],
   "source": [
    "%autoreload 2"
   ]
  },
  {
   "cell_type": "code",
   "execution_count": 3,
   "id": "5b1da60b-9ddc-4ca5-9de4-4999bead5513",
   "metadata": {},
   "outputs": [
    {
     "name": "stderr",
     "output_type": "stream",
     "text": [
      "/app/.local/lib/python3.10/site-packages/geopandas/_compat.py:123: UserWarning: The Shapely GEOS version (3.11.1-CAPI-1.17.1) is incompatible with the GEOS version PyGEOS was compiled with (3.10.3-CAPI-1.16.1). Conversions between both will be slow.\n",
      "  warnings.warn(\n",
      "/app/.local/lib/python3.10/site-packages/pudl/analysis/spatial.py:7: UserWarning: Shapely 2.0 is installed, but because PyGEOS is also installed, GeoPandas will still use PyGEOS by default for now. To force to use and test Shapely 2.0, you have to set the environment variable USE_PYGEOS=0. You can do this before starting the Python process, or in your code before importing geopandas:\n",
      "\n",
      "import os\n",
      "os.environ['USE_PYGEOS'] = '0'\n",
      "import geopandas\n",
      "\n",
      "In a future release, GeoPandas will switch to using Shapely by default. If you are using PyGEOS directly (calling PyGEOS functions on geometries from GeoPandas), this will then stop working and you are encouraged to migrate from PyGEOS to Shapely 2.0 (https://shapely.readthedocs.io/en/latest/migration_pygeos.html).\n",
      "  import geopandas as gpd\n"
     ]
    }
   ],
   "source": [
    "import dbcp\n",
    "import pandas as pd\n",
    "import numpy as np\n",
    "from pathlib import Path"
   ]
  },
  {
   "cell_type": "code",
   "execution_count": 4,
   "id": "7551845b",
   "metadata": {},
   "outputs": [],
   "source": [
    "path_new = Path(\"/app/data/raw/2023.05.30 Opposition to Renewable Energy Facilities - FINAL.docx\")\n",
    "assert path_new.exists()"
   ]
  },
  {
   "cell_type": "code",
   "execution_count": 5,
   "id": "9a29b90d",
   "metadata": {},
   "outputs": [],
   "source": [
    "new = dbcp.extract.local_opposition.ColumbiaDocxParser()\n",
    "new.load_docx(path_new)"
   ]
  },
  {
   "cell_type": "code",
   "execution_count": 6,
   "id": "9bdc009b",
   "metadata": {},
   "outputs": [],
   "source": [
    "extracted_new = new.extract()"
   ]
  },
  {
   "cell_type": "code",
   "execution_count": 7,
   "id": "6e44b8c1",
   "metadata": {},
   "outputs": [
    {
     "data": {
      "text/plain": [
       "((16, 2), (10, 2))"
      ]
     },
     "execution_count": 7,
     "metadata": {},
     "output_type": "execute_result"
    }
   ],
   "source": [
    "extracted_new['state_notes'].shape, extracted_new['state_policy'].shape"
   ]
  },
  {
   "cell_type": "code",
   "execution_count": 8,
   "id": "96eed22a",
   "metadata": {},
   "outputs": [
    {
     "data": {
      "text/html": [
       "<div>\n",
       "<style scoped>\n",
       "    .dataframe tbody tr th:only-of-type {\n",
       "        vertical-align: middle;\n",
       "    }\n",
       "\n",
       "    .dataframe tbody tr th {\n",
       "        vertical-align: top;\n",
       "    }\n",
       "\n",
       "    .dataframe thead th {\n",
       "        text-align: right;\n",
       "    }\n",
       "</style>\n",
       "<table border=\"1\" class=\"dataframe\">\n",
       "  <thead>\n",
       "    <tr style=\"text-align: right;\">\n",
       "      <th></th>\n",
       "      <th>state</th>\n",
       "      <th>notes</th>\n",
       "    </tr>\n",
       "  </thead>\n",
       "  <tbody>\n",
       "    <tr>\n",
       "      <th>0</th>\n",
       "      <td>California</td>\n",
       "      <td>Note on state preemption of local restrictions: On June 30, 2022, the State of California adopted legislation that allows the California Energy Commission to bypass local laws when permitting large-scale renewable energy projects. Under the new law, the commission has jurisdiction to issue a certificate for any: (a) photovoltaic solar facility, on-shore wind facility, or thermal energy facility not powered by fossil fuels or nuclear fuels, with a generating capacity of at least 50 MW; (b) energy storage system with a storage capacity of least 200 MW hours (MWh); (c) electric transmission line from any such generating or storage facility to an interconnected transmission system; and (d) facility that manufactures, produces, or assembles wind, solar, or storage systems with a capital investment of at least $250,000,000 over a period of 5 years. The law provides that the issuance of a certificate shall “be in lieu of any permit, certificate, or similar document required by any state, local, or regional agency,” and “supersede any applicable statute, ordinance, or regulation of any state, local, or regional agency.”</td>\n",
       "    </tr>\n",
       "    <tr>\n",
       "      <th>1</th>\n",
       "      <td>Connecticut</td>\n",
       "      <td>Note on state preemption of local restrictions: The Connecticut Siting Council has exclusive jurisdiction over renewable energy facilities, excluding certain emergency facilities with a capacity of 1 MW or less. While state law allows local governments to “regulate and restrict the location of a proposed location of a facility,” the Siting Council can approve projects that violate local zoning restrictions. The Appellate Court of Connecticut has held that the Connecticut Siting Council “is empowered to review decisions from zoning commissions on a de novo basis, applying concerns that transcend those involved in local zoning decisions, and that review may . . . result in the approval of a particular site although the facility failed to meet the requirements of local zoning regulations.”</td>\n",
       "    </tr>\n",
       "    <tr>\n",
       "      <th>2</th>\n",
       "      <td>Florida</td>\n",
       "      <td>Note on state preemption of local restrictions: In Florida, a siting board comprised of the governor and the governor’s cabinet has the authority to set aside local restrictions on a case-by-case basis. If the siting board determines that a proposed facility “does not conform with existing land use plans and zoning ordinances,” it may “authorize a variance or other necessary approval to the adopted land use plan and zoning ordinances required to render the proposed site or associated facility consistent with local land use plans and zoning ordinances.” Further, in 2021, Florida enacted legislation preventing local governments from restricting solar energy facilities on agricultural land. The law provides that “[a] solar facility shall be a permitted use in all agricultural land use categories in a local government comprehensive plan and all agricultural zoning districts within an unincorporated area.” The law further provides that, although counties may adopt ordinances specifying buffer and landscaping requirements, any such requirements “may not exceed the requirements for similar uses involving the construction of other facilities that are permitted uses in agricultural land use categories and zoning districts.”</td>\n",
       "    </tr>\n",
       "  </tbody>\n",
       "</table>\n",
       "</div>"
      ],
      "text/plain": [
       "         state  \\\n",
       "0   California   \n",
       "1  Connecticut   \n",
       "2      Florida   \n",
       "\n",
       "                                                                                                                                                                                                                                                                                                                                                                                                                                                                                                                                                                                                                                                                                                                                                                                                                                                                                                                                                                                                                                                                                                                                                                                                                                                                                notes  \n",
       "0                                                                                                           Note on state preemption of local restrictions: On June 30, 2022, the State of California adopted legislation that allows the California Energy Commission to bypass local laws when permitting large-scale renewable energy projects. Under the new law, the commission has jurisdiction to issue a certificate for any: (a) photovoltaic solar facility, on-shore wind facility, or thermal energy facility not powered by fossil fuels or nuclear fuels, with a generating capacity of at least 50 MW; (b) energy storage system with a storage capacity of least 200 MW hours (MWh); (c) electric transmission line from any such generating or storage facility to an interconnected transmission system; and (d) facility that manufactures, produces, or assembles wind, solar, or storage systems with a capital investment of at least $250,000,000 over a period of 5 years. The law provides that the issuance of a certificate shall “be in lieu of any permit, certificate, or similar document required by any state, local, or regional agency,” and “supersede any applicable statute, ordinance, or regulation of any state, local, or regional agency.”  \n",
       "1                                                                                                                                                                                                                                                                                                                                                                                                                                                       Note on state preemption of local restrictions: The Connecticut Siting Council has exclusive jurisdiction over renewable energy facilities, excluding certain emergency facilities with a capacity of 1 MW or less. While state law allows local governments to “regulate and restrict the location of a proposed location of a facility,” the Siting Council can approve projects that violate local zoning restrictions. The Appellate Court of Connecticut has held that the Connecticut Siting Council “is empowered to review decisions from zoning commissions on a de novo basis, applying concerns that transcend those involved in local zoning decisions, and that review may . . . result in the approval of a particular site although the facility failed to meet the requirements of local zoning regulations.”  \n",
       "2  Note on state preemption of local restrictions: In Florida, a siting board comprised of the governor and the governor’s cabinet has the authority to set aside local restrictions on a case-by-case basis. If the siting board determines that a proposed facility “does not conform with existing land use plans and zoning ordinances,” it may “authorize a variance or other necessary approval to the adopted land use plan and zoning ordinances required to render the proposed site or associated facility consistent with local land use plans and zoning ordinances.” Further, in 2021, Florida enacted legislation preventing local governments from restricting solar energy facilities on agricultural land. The law provides that “[a] solar facility shall be a permitted use in all agricultural land use categories in a local government comprehensive plan and all agricultural zoning districts within an unincorporated area.” The law further provides that, although counties may adopt ordinances specifying buffer and landscaping requirements, any such requirements “may not exceed the requirements for similar uses involving the construction of other facilities that are permitted uses in agricultural land use categories and zoning districts.”  "
      ]
     },
     "metadata": {},
     "output_type": "display_data"
    }
   ],
   "source": [
    "with pd.option_context(\"display.max_colwidth\", None):\n",
    "    display(extracted_new['state_notes'].head(3))\n"
   ]
  },
  {
   "cell_type": "code",
   "execution_count": 9,
   "id": "692898a7",
   "metadata": {},
   "outputs": [
    {
     "data": {
      "text/html": [
       "<div>\n",
       "<style scoped>\n",
       "    .dataframe tbody tr th:only-of-type {\n",
       "        vertical-align: middle;\n",
       "    }\n",
       "\n",
       "    .dataframe tbody tr th {\n",
       "        vertical-align: top;\n",
       "    }\n",
       "\n",
       "    .dataframe thead th {\n",
       "        text-align: right;\n",
       "    }\n",
       "</style>\n",
       "<table border=\"1\" class=\"dataframe\">\n",
       "  <thead>\n",
       "    <tr style=\"text-align: right;\">\n",
       "      <th></th>\n",
       "      <th>state</th>\n",
       "      <th>policy</th>\n",
       "    </tr>\n",
       "  </thead>\n",
       "  <tbody>\n",
       "  </tbody>\n",
       "</table>\n",
       "</div>"
      ],
      "text/plain": [
       "Empty DataFrame\n",
       "Columns: [state, policy]\n",
       "Index: []"
      ]
     },
     "execution_count": 9,
     "metadata": {},
     "output_type": "execute_result"
    }
   ],
   "source": [
    "extracted_new['state_policy'].loc[extracted_new['state_policy'].duplicated(subset=['state'], keep=False), :]"
   ]
  },
  {
   "cell_type": "code",
   "execution_count": 10,
   "id": "0f7e9b9c",
   "metadata": {},
   "outputs": [
    {
     "data": {
      "text/html": [
       "<div>\n",
       "<style scoped>\n",
       "    .dataframe tbody tr th:only-of-type {\n",
       "        vertical-align: middle;\n",
       "    }\n",
       "\n",
       "    .dataframe tbody tr th {\n",
       "        vertical-align: top;\n",
       "    }\n",
       "\n",
       "    .dataframe thead th {\n",
       "        text-align: right;\n",
       "    }\n",
       "</style>\n",
       "<table border=\"1\" class=\"dataframe\">\n",
       "  <thead>\n",
       "    <tr style=\"text-align: right;\">\n",
       "      <th></th>\n",
       "      <th>state</th>\n",
       "      <th>policy</th>\n",
       "    </tr>\n",
       "  </thead>\n",
       "  <tbody>\n",
       "    <tr>\n",
       "      <th>0</th>\n",
       "      <td>Connecticut</td>\n",
       "      <td>In 2017, the Legislature enacted Public Act No...</td>\n",
       "    </tr>\n",
       "    <tr>\n",
       "      <th>1</th>\n",
       "      <td>Iowa</td>\n",
       "      <td>No restrictive state laws or policies were fou...</td>\n",
       "    </tr>\n",
       "    <tr>\n",
       "      <th>2</th>\n",
       "      <td>Kansas</td>\n",
       "      <td>In 2004, Kansas Governor Kathleen Sebelius ins...</td>\n",
       "    </tr>\n",
       "    <tr>\n",
       "      <th>3</th>\n",
       "      <td>Kentucky</td>\n",
       "      <td>Under House Bill 291, adopted in 2014, wind tu...</td>\n",
       "    </tr>\n",
       "    <tr>\n",
       "      <th>4</th>\n",
       "      <td>Maine</td>\n",
       "      <td>Governor LePage signed an executive order in J...</td>\n",
       "    </tr>\n",
       "    <tr>\n",
       "      <th>5</th>\n",
       "      <td>Minnesota</td>\n",
       "      <td>A Minnesota administrative rule provides that ...</td>\n",
       "    </tr>\n",
       "    <tr>\n",
       "      <th>6</th>\n",
       "      <td>New York</td>\n",
       "      <td>On May 3, 2023, the state adopted a law direct...</td>\n",
       "    </tr>\n",
       "    <tr>\n",
       "      <th>7</th>\n",
       "      <td>Ohio</td>\n",
       "      <td>Ohio Senate Bill 52 of 2021 (“S.B. 52”), which...</td>\n",
       "    </tr>\n",
       "    <tr>\n",
       "      <th>8</th>\n",
       "      <td>Oklahoma</td>\n",
       "      <td>Since August 21, 2015, Oklahoma has required t...</td>\n",
       "    </tr>\n",
       "    <tr>\n",
       "      <th>9</th>\n",
       "      <td>Oregon</td>\n",
       "      <td>On May 23, 2019, the Oregon Department of Land...</td>\n",
       "    </tr>\n",
       "  </tbody>\n",
       "</table>\n",
       "</div>"
      ],
      "text/plain": [
       "         state                                             policy\n",
       "0  Connecticut  In 2017, the Legislature enacted Public Act No...\n",
       "1         Iowa  No restrictive state laws or policies were fou...\n",
       "2       Kansas  In 2004, Kansas Governor Kathleen Sebelius ins...\n",
       "3     Kentucky  Under House Bill 291, adopted in 2014, wind tu...\n",
       "4        Maine  Governor LePage signed an executive order in J...\n",
       "5    Minnesota  A Minnesota administrative rule provides that ...\n",
       "6     New York  On May 3, 2023, the state adopted a law direct...\n",
       "7         Ohio  Ohio Senate Bill 52 of 2021 (“S.B. 52”), which...\n",
       "8     Oklahoma  Since August 21, 2015, Oklahoma has required t...\n",
       "9       Oregon  On May 23, 2019, the Oregon Department of Land..."
      ]
     },
     "execution_count": 10,
     "metadata": {},
     "output_type": "execute_result"
    }
   ],
   "source": [
    "extracted_new['state_policy']"
   ]
  },
  {
   "cell_type": "code",
   "execution_count": 17,
   "id": "ff4f3c60",
   "metadata": {},
   "outputs": [
    {
     "data": {
      "text/plain": [
       "(228, 3)"
      ]
     },
     "execution_count": 17,
     "metadata": {},
     "output_type": "execute_result"
    }
   ],
   "source": [
    "extracted_new['local_ordinance'].shape"
   ]
  },
  {
   "cell_type": "code",
   "execution_count": 19,
   "id": "0455d5ee",
   "metadata": {},
   "outputs": [],
   "source": [
    "ordn = extracted_new['local_ordinance'].copy()"
   ]
  },
  {
   "cell_type": "code",
   "execution_count": 20,
   "id": "95bc75e3",
   "metadata": {},
   "outputs": [
    {
     "data": {
      "text/html": [
       "<div>\n",
       "<style scoped>\n",
       "    .dataframe tbody tr th:only-of-type {\n",
       "        vertical-align: middle;\n",
       "    }\n",
       "\n",
       "    .dataframe tbody tr th {\n",
       "        vertical-align: top;\n",
       "    }\n",
       "\n",
       "    .dataframe thead th {\n",
       "        text-align: right;\n",
       "    }\n",
       "</style>\n",
       "<table border=\"1\" class=\"dataframe\">\n",
       "  <thead>\n",
       "    <tr style=\"text-align: right;\">\n",
       "      <th></th>\n",
       "      <th>state</th>\n",
       "      <th>locality</th>\n",
       "      <th>ordinance_text</th>\n",
       "    </tr>\n",
       "  </thead>\n",
       "  <tbody>\n",
       "    <tr>\n",
       "      <th>0</th>\n",
       "      <td>Alabama</td>\n",
       "      <td>Baldwin County</td>\n",
       "      <td>Wind energy systems with a capacity of 50 kW o...</td>\n",
       "    </tr>\n",
       "    <tr>\n",
       "      <th>1</th>\n",
       "      <td>Alabama</td>\n",
       "      <td>Cherokee County</td>\n",
       "      <td>In 2014, the Alabama state legislature enacted...</td>\n",
       "    </tr>\n",
       "    <tr>\n",
       "      <th>2</th>\n",
       "      <td>Alabama</td>\n",
       "      <td>DeKalb County</td>\n",
       "      <td>In DeKalb County, wind turbines must be set ba...</td>\n",
       "    </tr>\n",
       "    <tr>\n",
       "      <th>3</th>\n",
       "      <td>Alabama</td>\n",
       "      <td>Etowah County</td>\n",
       "      <td>In 2014, the Alabama state legislature enacted...</td>\n",
       "    </tr>\n",
       "    <tr>\n",
       "      <th>4</th>\n",
       "      <td>California</td>\n",
       "      <td>Los Angeles County</td>\n",
       "      <td>The Los Angeles County Code prohibits “[u]tili...</td>\n",
       "    </tr>\n",
       "  </tbody>\n",
       "</table>\n",
       "</div>"
      ],
      "text/plain": [
       "        state            locality                                     ordinance_text\n",
       "0     Alabama      Baldwin County  Wind energy systems with a capacity of 50 kW o...\n",
       "1     Alabama     Cherokee County  In 2014, the Alabama state legislature enacted...\n",
       "2     Alabama       DeKalb County  In DeKalb County, wind turbines must be set ba...\n",
       "3     Alabama       Etowah County  In 2014, the Alabama state legislature enacted...\n",
       "4  California  Los Angeles County  The Los Angeles County Code prohibits “[u]tili..."
      ]
     },
     "execution_count": 20,
     "metadata": {},
     "output_type": "execute_result"
    }
   ],
   "source": [
    "ordn.head()"
   ]
  },
  {
   "cell_type": "code",
   "execution_count": 21,
   "id": "7eef734f",
   "metadata": {},
   "outputs": [
    {
     "data": {
      "text/plain": [
       "0"
      ]
     },
     "execution_count": 21,
     "metadata": {},
     "output_type": "execute_result"
    }
   ],
   "source": [
    "ordn.duplicated(subset=['state', 'locality'], keep=False).sum()"
   ]
  },
  {
   "cell_type": "code",
   "execution_count": 22,
   "id": "74fa4e6a",
   "metadata": {},
   "outputs": [
    {
     "data": {
      "text/plain": [
       "91"
      ]
     },
     "execution_count": 22,
     "metadata": {},
     "output_type": "execute_result"
    }
   ],
   "source": [
    "ordn['locality'].str.contains('(', regex=False).sum()"
   ]
  },
  {
   "cell_type": "code",
   "execution_count": 23,
   "id": "6986e2b8",
   "metadata": {},
   "outputs": [
    {
     "data": {
      "text/plain": [
       "220"
      ]
     },
     "execution_count": 23,
     "metadata": {},
     "output_type": "execute_result"
    }
   ],
   "source": [
    "ordn['locality'].str.lower().str.contains('county', regex=False).sum()"
   ]
  },
  {
   "cell_type": "code",
   "execution_count": 24,
   "id": "00a1e6da",
   "metadata": {},
   "outputs": [
    {
     "data": {
      "text/html": [
       "<div>\n",
       "<style scoped>\n",
       "    .dataframe tbody tr th:only-of-type {\n",
       "        vertical-align: middle;\n",
       "    }\n",
       "\n",
       "    .dataframe tbody tr th {\n",
       "        vertical-align: top;\n",
       "    }\n",
       "\n",
       "    .dataframe thead th {\n",
       "        text-align: right;\n",
       "    }\n",
       "</style>\n",
       "<table border=\"1\" class=\"dataframe\">\n",
       "  <thead>\n",
       "    <tr style=\"text-align: right;\">\n",
       "      <th></th>\n",
       "      <th>state</th>\n",
       "      <th>locality</th>\n",
       "      <th>ordinance_text</th>\n",
       "    </tr>\n",
       "  </thead>\n",
       "  <tbody>\n",
       "    <tr>\n",
       "      <th>62</th>\n",
       "      <td>Louisiana</td>\n",
       "      <td>St. James Parish</td>\n",
       "      <td>On August 17, 2022, the St. James Parish Counc...</td>\n",
       "    </tr>\n",
       "    <tr>\n",
       "      <th>63</th>\n",
       "      <td>Louisiana</td>\n",
       "      <td>Jefferson Davis Parish</td>\n",
       "      <td>Under a January 2020 ordinance, no wind turbin...</td>\n",
       "    </tr>\n",
       "    <tr>\n",
       "      <th>179</th>\n",
       "      <td>Oklahoma</td>\n",
       "      <td>City of Owasso (Rogers and Tulsa Counties)</td>\n",
       "      <td>A 2019 ordinance prohibits wind turbines over ...</td>\n",
       "    </tr>\n",
       "    <tr>\n",
       "      <th>195</th>\n",
       "      <td>Texas</td>\n",
       "      <td>City of Burleson (Tarrant and Johnson Counties)</td>\n",
       "      <td>The City of Burleson stipulates that turbines ...</td>\n",
       "    </tr>\n",
       "    <tr>\n",
       "      <th>197</th>\n",
       "      <td>Texas</td>\n",
       "      <td>City of Garland (Collin, Dallas, and Rockwall ...</td>\n",
       "      <td>An ordinance adopted May 2015 provides that wi...</td>\n",
       "    </tr>\n",
       "    <tr>\n",
       "      <th>198</th>\n",
       "      <td>Texas</td>\n",
       "      <td>City of Grand Prairie (Dallas, Tarrant, and El...</td>\n",
       "      <td>The only wind energy systems allowed in the Ci...</td>\n",
       "    </tr>\n",
       "    <tr>\n",
       "      <th>203</th>\n",
       "      <td>Texas</td>\n",
       "      <td>City of Ovilla (Dallas and Ellis Counties)</td>\n",
       "      <td>The city zoning ordinance provides that noise ...</td>\n",
       "    </tr>\n",
       "    <tr>\n",
       "      <th>204</th>\n",
       "      <td>Texas</td>\n",
       "      <td>City of Waller (Waller and Harris Counties)</td>\n",
       "      <td>The City of Waller allows small wind energy sy...</td>\n",
       "    </tr>\n",
       "  </tbody>\n",
       "</table>\n",
       "</div>"
      ],
      "text/plain": [
       "         state                                           locality                                     ordinance_text\n",
       "62   Louisiana                                   St. James Parish  On August 17, 2022, the St. James Parish Counc...\n",
       "63   Louisiana                             Jefferson Davis Parish  Under a January 2020 ordinance, no wind turbin...\n",
       "179   Oklahoma         City of Owasso (Rogers and Tulsa Counties)  A 2019 ordinance prohibits wind turbines over ...\n",
       "195      Texas    City of Burleson (Tarrant and Johnson Counties)  The City of Burleson stipulates that turbines ...\n",
       "197      Texas  City of Garland (Collin, Dallas, and Rockwall ...  An ordinance adopted May 2015 provides that wi...\n",
       "198      Texas  City of Grand Prairie (Dallas, Tarrant, and El...  The only wind energy systems allowed in the Ci...\n",
       "203      Texas         City of Ovilla (Dallas and Ellis Counties)  The city zoning ordinance provides that noise ...\n",
       "204      Texas        City of Waller (Waller and Harris Counties)  The City of Waller allows small wind energy sy..."
      ]
     },
     "execution_count": 24,
     "metadata": {},
     "output_type": "execute_result"
    }
   ],
   "source": [
    "ordn.loc[~ordn['locality'].str.lower().str.contains('county', regex=False), :]"
   ]
  },
  {
   "cell_type": "code",
   "execution_count": 28,
   "id": "4bf0533e",
   "metadata": {},
   "outputs": [
    {
     "name": "stderr",
     "output_type": "stream",
     "text": [
      "2023-06-21 01:48:12 [    INFO] catalystcoop.pudl.helpers:203 Assigned state FIPS codes for 100.00% of records.\n",
      "2023-06-21 01:48:12 [    INFO] catalystcoop.pudl.helpers:219 Assigned county FIPS codes for 0.00% of records.\n",
      "2023-06-21 01:48:12 [    INFO] catalystcoop.pudl.helpers:203 Assigned state FIPS codes for 100.00% of records.\n",
      "2023-06-21 01:48:12 [    INFO] catalystcoop.pudl.helpers:219 Assigned county FIPS codes for 0.00% of records.\n",
      "2023-06-21 01:48:12 [    INFO] catalystcoop.pudl.helpers:203 Assigned state FIPS codes for 100.00% of records.\n",
      "2023-06-21 01:48:12 [    INFO] catalystcoop.pudl.helpers:219 Assigned county FIPS codes for 60.09% of records.\n",
      "2023-06-21 01:48:12 [    INFO] catalystcoop.pudl.helpers:203 Assigned state FIPS codes for 100.00% of records.\n",
      "2023-06-21 01:48:12 [    INFO] catalystcoop.pudl.helpers:219 Assigned county FIPS codes for 100.00% of records.\n",
      "2023-06-21 01:48:12 [    INFO] catalystcoop.pudl.helpers:203 Assigned state FIPS codes for 100.00% of records.\n",
      "2023-06-21 01:48:12 [    INFO] catalystcoop.pudl.helpers:219 Assigned county FIPS codes for 0.00% of records.\n"
     ]
    }
   ],
   "source": [
    "transformed = dbcp.transform.local_opposition.transform(extracted_new)"
   ]
  },
  {
   "cell_type": "code",
   "execution_count": 25,
   "id": "fc01dcee",
   "metadata": {},
   "outputs": [],
   "source": [
    "trans_ordn = transformed['local_ordinance'].copy()"
   ]
  },
  {
   "cell_type": "code",
   "execution_count": 26,
   "id": "e5df0b33",
   "metadata": {},
   "outputs": [
    {
     "data": {
      "text/html": [
       "<div>\n",
       "<style scoped>\n",
       "    .dataframe tbody tr th:only-of-type {\n",
       "        vertical-align: middle;\n",
       "    }\n",
       "\n",
       "    .dataframe tbody tr th {\n",
       "        vertical-align: top;\n",
       "    }\n",
       "\n",
       "    .dataframe thead th {\n",
       "        text-align: right;\n",
       "    }\n",
       "</style>\n",
       "<table border=\"1\" class=\"dataframe\">\n",
       "  <thead>\n",
       "    <tr style=\"text-align: right;\">\n",
       "      <th></th>\n",
       "      <th>raw_state_name</th>\n",
       "      <th>raw_locality_name</th>\n",
       "      <th>county_id_fips</th>\n",
       "      <th>geocoded_locality_name</th>\n",
       "      <th>geocoded_locality_type</th>\n",
       "      <th>geocoded_containing_county</th>\n",
       "    </tr>\n",
       "  </thead>\n",
       "  <tbody>\n",
       "    <tr>\n",
       "      <th>62</th>\n",
       "      <td>Louisiana</td>\n",
       "      <td>St. James Parish</td>\n",
       "      <td>22093</td>\n",
       "      <td>St. James Parish</td>\n",
       "      <td>county</td>\n",
       "      <td>St. James Parish</td>\n",
       "    </tr>\n",
       "    <tr>\n",
       "      <th>63</th>\n",
       "      <td>Louisiana</td>\n",
       "      <td>Jefferson Davis Parish</td>\n",
       "      <td>22053</td>\n",
       "      <td>Jefferson Davis Parish</td>\n",
       "      <td>county</td>\n",
       "      <td>Jefferson Davis Parish</td>\n",
       "    </tr>\n",
       "    <tr>\n",
       "      <th>179</th>\n",
       "      <td>Oklahoma</td>\n",
       "      <td>City of Owasso (Rogers and Tulsa Counties)</td>\n",
       "      <td>40143</td>\n",
       "      <td>Owasso</td>\n",
       "      <td>city</td>\n",
       "      <td>Tulsa County</td>\n",
       "    </tr>\n",
       "    <tr>\n",
       "      <th>195</th>\n",
       "      <td>Texas</td>\n",
       "      <td>City of Burleson (Tarrant and Johnson Counties)</td>\n",
       "      <td>48251</td>\n",
       "      <td>Burleson</td>\n",
       "      <td>city</td>\n",
       "      <td>Johnson County</td>\n",
       "    </tr>\n",
       "    <tr>\n",
       "      <th>197</th>\n",
       "      <td>Texas</td>\n",
       "      <td>City of Garland (Collin, Dallas, and Rockwall ...</td>\n",
       "      <td>48397</td>\n",
       "      <td>Rockwall</td>\n",
       "      <td>city</td>\n",
       "      <td>Rockwall County</td>\n",
       "    </tr>\n",
       "    <tr>\n",
       "      <th>198</th>\n",
       "      <td>Texas</td>\n",
       "      <td>City of Grand Prairie (Dallas, Tarrant, and El...</td>\n",
       "      <td>48113</td>\n",
       "      <td>Grand Prairie</td>\n",
       "      <td>city</td>\n",
       "      <td>Dallas County</td>\n",
       "    </tr>\n",
       "    <tr>\n",
       "      <th>203</th>\n",
       "      <td>Texas</td>\n",
       "      <td>City of Ovilla (Dallas and Ellis Counties)</td>\n",
       "      <td>48139</td>\n",
       "      <td>Ovilla</td>\n",
       "      <td>city</td>\n",
       "      <td>Ellis County</td>\n",
       "    </tr>\n",
       "    <tr>\n",
       "      <th>204</th>\n",
       "      <td>Texas</td>\n",
       "      <td>City of Waller (Waller and Harris Counties)</td>\n",
       "      <td>48473</td>\n",
       "      <td>Waller</td>\n",
       "      <td>city</td>\n",
       "      <td>Waller County</td>\n",
       "    </tr>\n",
       "  </tbody>\n",
       "</table>\n",
       "</div>"
      ],
      "text/plain": [
       "    raw_state_name                                  raw_locality_name county_id_fips  geocoded_locality_name geocoded_locality_type geocoded_containing_county\n",
       "62       Louisiana                                   St. James Parish          22093        St. James Parish                 county           St. James Parish\n",
       "63       Louisiana                             Jefferson Davis Parish          22053  Jefferson Davis Parish                 county     Jefferson Davis Parish\n",
       "179       Oklahoma         City of Owasso (Rogers and Tulsa Counties)          40143                  Owasso                   city               Tulsa County\n",
       "195          Texas    City of Burleson (Tarrant and Johnson Counties)          48251                Burleson                   city             Johnson County\n",
       "197          Texas  City of Garland (Collin, Dallas, and Rockwall ...          48397                Rockwall                   city            Rockwall County\n",
       "198          Texas  City of Grand Prairie (Dallas, Tarrant, and El...          48113           Grand Prairie                   city              Dallas County\n",
       "203          Texas         City of Ovilla (Dallas and Ellis Counties)          48139                  Ovilla                   city               Ellis County\n",
       "204          Texas        City of Waller (Waller and Harris Counties)          48473                  Waller                   city              Waller County"
      ]
     },
     "execution_count": 26,
     "metadata": {},
     "output_type": "execute_result"
    }
   ],
   "source": [
    "# geocoding takes care of the multi-county cities with no special treatment\n",
    "col_subset = [\n",
    "        \"raw_state_name\",\n",
    "        \"raw_locality_name\",\n",
    "        \"county_id_fips\",\n",
    "        \"geocoded_locality_name\",\n",
    "        \"geocoded_locality_type\",\n",
    "        \"geocoded_containing_county\",\n",
    "    ]\n",
    "trans_ordn.loc[\n",
    "    ~trans_ordn[\"raw_locality_name\"].str.lower().str.contains(\"county\", regex=False),\n",
    "    col_subset,\n",
    "]\n"
   ]
  },
  {
   "cell_type": "code",
   "execution_count": 27,
   "id": "f45b9d79",
   "metadata": {},
   "outputs": [
    {
     "data": {
      "text/plain": [
       "['geocoded_locality_name',\n",
       " 'geocoded_locality_type',\n",
       " 'geocoded_containing_county']"
      ]
     },
     "execution_count": 27,
     "metadata": {},
     "output_type": "execute_result"
    }
   ],
   "source": [
    "geo = [col for col in col_subset if 'geo' in col]\n",
    "geo"
   ]
  },
  {
   "attachments": {},
   "cell_type": "markdown",
   "id": "027a5c4a",
   "metadata": {},
   "source": [
    "I altered the transform code to remove county names prior to geocoding and compared the results below."
   ]
  },
  {
   "cell_type": "code",
   "execution_count": 48,
   "id": "0687707a",
   "metadata": {},
   "outputs": [],
   "source": [
    "not_equal = transformed['local_ordinance'][geo].ne(trans_ordn[geo]).any(axis=1)"
   ]
  },
  {
   "cell_type": "code",
   "execution_count": 50,
   "id": "656a1e4c",
   "metadata": {},
   "outputs": [
    {
     "data": {
      "text/html": [
       "<div>\n",
       "<style scoped>\n",
       "    .dataframe tbody tr th:only-of-type {\n",
       "        vertical-align: middle;\n",
       "    }\n",
       "\n",
       "    .dataframe tbody tr th {\n",
       "        vertical-align: top;\n",
       "    }\n",
       "\n",
       "    .dataframe thead th {\n",
       "        text-align: right;\n",
       "    }\n",
       "</style>\n",
       "<table border=\"1\" class=\"dataframe\">\n",
       "  <thead>\n",
       "    <tr style=\"text-align: right;\">\n",
       "      <th></th>\n",
       "      <th>raw_state_name</th>\n",
       "      <th>raw_locality_name</th>\n",
       "      <th>county_id_fips</th>\n",
       "      <th>geocoded_locality_name</th>\n",
       "      <th>geocoded_locality_type</th>\n",
       "      <th>geocoded_containing_county</th>\n",
       "      <th>geocoded_locality_name_new</th>\n",
       "      <th>geocoded_locality_type_new</th>\n",
       "      <th>geocoded_containing_county_new</th>\n",
       "    </tr>\n",
       "  </thead>\n",
       "  <tbody>\n",
       "    <tr>\n",
       "      <th>84</th>\n",
       "      <td>Michigan</td>\n",
       "      <td>Leroy Township (Ingham County)</td>\n",
       "      <td>26065</td>\n",
       "      <td>Leroy Township</td>\n",
       "      <td>town</td>\n",
       "      <td>Ingham County</td>\n",
       "      <td>Leroy Township</td>\n",
       "      <td>town</td>\n",
       "      <td>Calhoun County</td>\n",
       "    </tr>\n",
       "    <tr>\n",
       "      <th>98</th>\n",
       "      <td>Michigan</td>\n",
       "      <td>Batavia Township (Clermont County)</td>\n",
       "      <td>&lt;NA&gt;</td>\n",
       "      <td>MI</td>\n",
       "      <td></td>\n",
       "      <td></td>\n",
       "      <td>Batavia Township</td>\n",
       "      <td>town</td>\n",
       "      <td>Branch County</td>\n",
       "    </tr>\n",
       "    <tr>\n",
       "      <th>137</th>\n",
       "      <td>New York</td>\n",
       "      <td>Town of Clinton (Dutchess County)</td>\n",
       "      <td>36027</td>\n",
       "      <td>1215</td>\n",
       "      <td></td>\n",
       "      <td>Dutchess County</td>\n",
       "      <td>Clinton</td>\n",
       "      <td>city</td>\n",
       "      <td>Oneida County</td>\n",
       "    </tr>\n",
       "    <tr>\n",
       "      <th>139</th>\n",
       "      <td>New York</td>\n",
       "      <td>Town of Enfield (Tompkins County)</td>\n",
       "      <td>36109</td>\n",
       "      <td>168</td>\n",
       "      <td></td>\n",
       "      <td>Tompkins County</td>\n",
       "      <td>Enfield</td>\n",
       "      <td>city</td>\n",
       "      <td>Tompkins County</td>\n",
       "    </tr>\n",
       "    <tr>\n",
       "      <th>141</th>\n",
       "      <td>New York</td>\n",
       "      <td>Town of Hartland (Niagara County)</td>\n",
       "      <td>36063</td>\n",
       "      <td>8942</td>\n",
       "      <td></td>\n",
       "      <td>Niagara County</td>\n",
       "      <td>Hartland</td>\n",
       "      <td>city</td>\n",
       "      <td>Niagara County</td>\n",
       "    </tr>\n",
       "    <tr>\n",
       "      <th>144</th>\n",
       "      <td>New York</td>\n",
       "      <td>Town of Clifton Park (Saratoga County)</td>\n",
       "      <td>36091</td>\n",
       "      <td>Town of Clifton Park</td>\n",
       "      <td></td>\n",
       "      <td>Saratoga County</td>\n",
       "      <td>Clifton Park</td>\n",
       "      <td>town</td>\n",
       "      <td>Saratoga County</td>\n",
       "    </tr>\n",
       "    <tr>\n",
       "      <th>148</th>\n",
       "      <td>New York</td>\n",
       "      <td>Town of Porter (Niagara County)</td>\n",
       "      <td>36063</td>\n",
       "      <td>3265</td>\n",
       "      <td></td>\n",
       "      <td>Niagara County</td>\n",
       "      <td>Porter</td>\n",
       "      <td>town</td>\n",
       "      <td>Niagara County</td>\n",
       "    </tr>\n",
       "    <tr>\n",
       "      <th>149</th>\n",
       "      <td>New York</td>\n",
       "      <td>Town of Seneca (Ontario County)</td>\n",
       "      <td>36069</td>\n",
       "      <td>3675</td>\n",
       "      <td></td>\n",
       "      <td>Ontario County</td>\n",
       "      <td>Seneca County</td>\n",
       "      <td>county</td>\n",
       "      <td>Seneca County</td>\n",
       "    </tr>\n",
       "    <tr>\n",
       "      <th>150</th>\n",
       "      <td>New York</td>\n",
       "      <td>Town of Somerset (Niagara County)</td>\n",
       "      <td>36063</td>\n",
       "      <td>Somerset Town Park</td>\n",
       "      <td></td>\n",
       "      <td>Niagara County</td>\n",
       "      <td>Somerset</td>\n",
       "      <td>city</td>\n",
       "      <td>Niagara County</td>\n",
       "    </tr>\n",
       "    <tr>\n",
       "      <th>152</th>\n",
       "      <td>New York</td>\n",
       "      <td>Town of Worth (Jefferson County)</td>\n",
       "      <td>36045</td>\n",
       "      <td>24625</td>\n",
       "      <td></td>\n",
       "      <td>Jefferson County</td>\n",
       "      <td>Worth</td>\n",
       "      <td>city</td>\n",
       "      <td>Jefferson County</td>\n",
       "    </tr>\n",
       "    <tr>\n",
       "      <th>197</th>\n",
       "      <td>Texas</td>\n",
       "      <td>City of Garland (Collin, Dallas, and Rockwall ...</td>\n",
       "      <td>48397</td>\n",
       "      <td>Rockwall County</td>\n",
       "      <td>county</td>\n",
       "      <td>Rockwall County</td>\n",
       "      <td>Garland</td>\n",
       "      <td>city</td>\n",
       "      <td>Dallas County</td>\n",
       "    </tr>\n",
       "    <tr>\n",
       "      <th>224</th>\n",
       "      <td>Wisconsin</td>\n",
       "      <td>Town of Westport (Dane County)</td>\n",
       "      <td>55025</td>\n",
       "      <td>Westport</td>\n",
       "      <td>city</td>\n",
       "      <td>Dane County</td>\n",
       "      <td>Westport</td>\n",
       "      <td>city</td>\n",
       "      <td>Richland County</td>\n",
       "    </tr>\n",
       "  </tbody>\n",
       "</table>\n",
       "</div>"
      ],
      "text/plain": [
       "    raw_state_name                                  raw_locality_name county_id_fips geocoded_locality_name geocoded_locality_type geocoded_containing_county geocoded_locality_name_new geocoded_locality_type_new geocoded_containing_county_new\n",
       "84        Michigan                     Leroy Township (Ingham County)          26065         Leroy Township                   town              Ingham County             Leroy Township                       town                 Calhoun County\n",
       "98        Michigan                 Batavia Township (Clermont County)           <NA>                     MI                                                             Batavia Township                       town                  Branch County\n",
       "137       New York                  Town of Clinton (Dutchess County)          36027                   1215                                   Dutchess County                    Clinton                       city                  Oneida County\n",
       "139       New York                  Town of Enfield (Tompkins County)          36109                    168                                   Tompkins County                    Enfield                       city                Tompkins County\n",
       "141       New York                  Town of Hartland (Niagara County)          36063                   8942                                    Niagara County                   Hartland                       city                 Niagara County\n",
       "144       New York             Town of Clifton Park (Saratoga County)          36091   Town of Clifton Park                                   Saratoga County               Clifton Park                       town                Saratoga County\n",
       "148       New York                    Town of Porter (Niagara County)          36063                   3265                                    Niagara County                     Porter                       town                 Niagara County\n",
       "149       New York                    Town of Seneca (Ontario County)          36069                   3675                                    Ontario County              Seneca County                     county                  Seneca County\n",
       "150       New York                  Town of Somerset (Niagara County)          36063     Somerset Town Park                                    Niagara County                   Somerset                       city                 Niagara County\n",
       "152       New York                   Town of Worth (Jefferson County)          36045                  24625                                  Jefferson County                      Worth                       city               Jefferson County\n",
       "197          Texas  City of Garland (Collin, Dallas, and Rockwall ...          48397        Rockwall County                 county            Rockwall County                    Garland                       city                  Dallas County\n",
       "224      Wisconsin                     Town of Westport (Dane County)          55025               Westport                   city                Dane County                   Westport                       city                Richland County"
      ]
     },
     "execution_count": 50,
     "metadata": {},
     "output_type": "execute_result"
    }
   ],
   "source": [
    "trans_ordn.loc[not_equal, col_subset].join(transformed['local_ordinance'].loc[not_equal, geo], rsuffix='_new')"
   ]
  },
  {
   "cell_type": "code",
   "execution_count": 38,
   "id": "d03d52fb",
   "metadata": {},
   "outputs": [],
   "source": [
    "has_labeled_county = trans_ordn['raw_locality_name'].str.contains('(', regex=False)\n",
    "labeled_counties = trans_ordn['raw_locality_name'].str.extract(r'.+\\((.+)\\)')\n",
    "is_multi_county = trans_ordn['raw_locality_name'].str.contains('counties', regex=False, case=False)"
   ]
  },
  {
   "cell_type": "code",
   "execution_count": 32,
   "id": "69053d66",
   "metadata": {},
   "outputs": [
    {
     "data": {
      "text/html": [
       "<div>\n",
       "<style scoped>\n",
       "    .dataframe tbody tr th:only-of-type {\n",
       "        vertical-align: middle;\n",
       "    }\n",
       "\n",
       "    .dataframe tbody tr th {\n",
       "        vertical-align: top;\n",
       "    }\n",
       "\n",
       "    .dataframe thead th {\n",
       "        text-align: right;\n",
       "    }\n",
       "</style>\n",
       "<table border=\"1\" class=\"dataframe\">\n",
       "  <thead>\n",
       "    <tr style=\"text-align: right;\">\n",
       "      <th></th>\n",
       "      <th>0</th>\n",
       "    </tr>\n",
       "  </thead>\n",
       "  <tbody>\n",
       "    <tr>\n",
       "      <th>0</th>\n",
       "      <td>&lt;NA&gt;</td>\n",
       "    </tr>\n",
       "    <tr>\n",
       "      <th>1</th>\n",
       "      <td>&lt;NA&gt;</td>\n",
       "    </tr>\n",
       "    <tr>\n",
       "      <th>2</th>\n",
       "      <td>&lt;NA&gt;</td>\n",
       "    </tr>\n",
       "    <tr>\n",
       "      <th>3</th>\n",
       "      <td>&lt;NA&gt;</td>\n",
       "    </tr>\n",
       "    <tr>\n",
       "      <th>4</th>\n",
       "      <td>&lt;NA&gt;</td>\n",
       "    </tr>\n",
       "    <tr>\n",
       "      <th>...</th>\n",
       "      <td>...</td>\n",
       "    </tr>\n",
       "    <tr>\n",
       "      <th>223</th>\n",
       "      <td>False</td>\n",
       "    </tr>\n",
       "    <tr>\n",
       "      <th>224</th>\n",
       "      <td>False</td>\n",
       "    </tr>\n",
       "    <tr>\n",
       "      <th>225</th>\n",
       "      <td>&lt;NA&gt;</td>\n",
       "    </tr>\n",
       "    <tr>\n",
       "      <th>226</th>\n",
       "      <td>False</td>\n",
       "    </tr>\n",
       "    <tr>\n",
       "      <th>227</th>\n",
       "      <td>&lt;NA&gt;</td>\n",
       "    </tr>\n",
       "  </tbody>\n",
       "</table>\n",
       "<p>228 rows × 1 columns</p>\n",
       "</div>"
      ],
      "text/plain": [
       "         0\n",
       "0     <NA>\n",
       "1     <NA>\n",
       "2     <NA>\n",
       "3     <NA>\n",
       "4     <NA>\n",
       "..     ...\n",
       "223  False\n",
       "224  False\n",
       "225   <NA>\n",
       "226  False\n",
       "227   <NA>\n",
       "\n",
       "[228 rows x 1 columns]"
      ]
     },
     "execution_count": 32,
     "metadata": {},
     "output_type": "execute_result"
    }
   ],
   "source": [
    "labeled_counties.ne(trans_ordn['geocoded_containing_county'], axis=0)"
   ]
  },
  {
   "cell_type": "code",
   "execution_count": 39,
   "id": "85356bd3",
   "metadata": {},
   "outputs": [
    {
     "data": {
      "text/html": [
       "<div>\n",
       "<style scoped>\n",
       "    .dataframe tbody tr th:only-of-type {\n",
       "        vertical-align: middle;\n",
       "    }\n",
       "\n",
       "    .dataframe tbody tr th {\n",
       "        vertical-align: top;\n",
       "    }\n",
       "\n",
       "    .dataframe thead th {\n",
       "        text-align: right;\n",
       "    }\n",
       "</style>\n",
       "<table border=\"1\" class=\"dataframe\">\n",
       "  <thead>\n",
       "    <tr style=\"text-align: right;\">\n",
       "      <th></th>\n",
       "      <th>raw_state_name</th>\n",
       "      <th>raw_locality_name</th>\n",
       "      <th>county_id_fips</th>\n",
       "      <th>geocoded_locality_name</th>\n",
       "      <th>geocoded_locality_type</th>\n",
       "      <th>geocoded_containing_county</th>\n",
       "    </tr>\n",
       "  </thead>\n",
       "  <tbody>\n",
       "    <tr>\n",
       "      <th>98</th>\n",
       "      <td>Michigan</td>\n",
       "      <td>Batavia Township (Clermont County)</td>\n",
       "      <td>&lt;NA&gt;</td>\n",
       "      <td>MI</td>\n",
       "      <td></td>\n",
       "      <td></td>\n",
       "    </tr>\n",
       "    <tr>\n",
       "      <th>199</th>\n",
       "      <td>Texas</td>\n",
       "      <td>City of Kingsville (Kleburg County)</td>\n",
       "      <td>48273</td>\n",
       "      <td>Kingsville</td>\n",
       "      <td>city</td>\n",
       "      <td>Kleberg County</td>\n",
       "    </tr>\n",
       "  </tbody>\n",
       "</table>\n",
       "</div>"
      ],
      "text/plain": [
       "    raw_state_name                    raw_locality_name county_id_fips geocoded_locality_name geocoded_locality_type geocoded_containing_county\n",
       "98        Michigan   Batavia Township (Clermont County)           <NA>                     MI                                                  \n",
       "199          Texas  City of Kingsville (Kleburg County)          48273             Kingsville                   city             Kleberg County"
      ]
     },
     "execution_count": 39,
     "metadata": {},
     "output_type": "execute_result"
    }
   ],
   "source": [
    "# where to labeled counties not match geocoded counties? (except multi-county cities)\n",
    "# Looks like one typo and one error in the original data\n",
    "trans_ordn.loc[\n",
    "    has_labeled_county.astype(\"boolean\")\n",
    "    & ~is_multi_county\n",
    "    & labeled_counties.ne(trans_ordn[\"geocoded_containing_county\"], axis=0)\n",
    "    .astype(\"boolean\")\n",
    "    .squeeze(),\n",
    "    col_subset,\n",
    "]"
   ]
  },
  {
   "cell_type": "code",
   "execution_count": 43,
   "id": "7ec628cd",
   "metadata": {},
   "outputs": [
    {
     "data": {
      "text/plain": [
       "(0    Kleburg County\n",
       " Name: 199, dtype: object,\n",
       " 'Kleberg County')"
      ]
     },
     "execution_count": 43,
     "metadata": {},
     "output_type": "execute_result"
    }
   ],
   "source": [
    "labeled_counties.iloc[199], trans_ordn['geocoded_containing_county'].iloc[199]"
   ]
  },
  {
   "attachments": {},
   "cell_type": "markdown",
   "id": "e7d144ae",
   "metadata": {},
   "source": [
    "My takeaway is that the geocoder does a better job than the Sabin Center at identifying containing counties. No parsing required."
   ]
  },
  {
   "cell_type": "code",
   "execution_count": 44,
   "id": "2a2040c9",
   "metadata": {},
   "outputs": [
    {
     "data": {
      "text/plain": [
       "0"
      ]
     },
     "execution_count": 44,
     "metadata": {},
     "output_type": "execute_result"
    }
   ],
   "source": [
    "ordn.loc[:, \"locality\"].str.contains(\n",
    "        \" Solar$| Wind$| Zoning Ordinance$\", \"\", regex=True\n",
    "    ).sum()"
   ]
  },
  {
   "cell_type": "code",
   "execution_count": 51,
   "id": "935ad7a3",
   "metadata": {},
   "outputs": [
    {
     "data": {
      "text/plain": [
       "raw_state_name                                                         New York\n",
       "raw_locality_name                             Town of Enfield (Tompkins County)\n",
       "ordinance_text                The Town of Enfield imposed a moratorium on co...\n",
       "state_id_fips                                                                36\n",
       "county_id_fips                                                            36109\n",
       "geocoded_locality_name                                                      168\n",
       "geocoded_locality_type                                                         \n",
       "geocoded_containing_county                                      Tompkins County\n",
       "earliest_year_mentioned                                                    2017\n",
       "latest_year_mentioned                                                      2019\n",
       "n_years_mentioned                                                             3\n",
       "Name: 139, dtype: object"
      ]
     },
     "execution_count": 51,
     "metadata": {},
     "output_type": "execute_result"
    }
   ],
   "source": [
    "trans_ordn.iloc[139]"
   ]
  },
  {
   "cell_type": "code",
   "execution_count": 53,
   "id": "3e360332",
   "metadata": {},
   "outputs": [
    {
     "data": {
      "text/html": [
       "<div>\n",
       "<style scoped>\n",
       "    .dataframe tbody tr th:only-of-type {\n",
       "        vertical-align: middle;\n",
       "    }\n",
       "\n",
       "    .dataframe tbody tr th {\n",
       "        vertical-align: top;\n",
       "    }\n",
       "\n",
       "    .dataframe thead th {\n",
       "        text-align: right;\n",
       "    }\n",
       "</style>\n",
       "<table border=\"1\" class=\"dataframe\">\n",
       "  <thead>\n",
       "    <tr style=\"text-align: right;\">\n",
       "      <th></th>\n",
       "      <th>raw_state_name</th>\n",
       "      <th>raw_locality_name</th>\n",
       "      <th>county_id_fips</th>\n",
       "      <th>geocoded_locality_name</th>\n",
       "      <th>geocoded_locality_type</th>\n",
       "      <th>geocoded_containing_county</th>\n",
       "    </tr>\n",
       "  </thead>\n",
       "  <tbody>\n",
       "    <tr>\n",
       "      <th>137</th>\n",
       "      <td>New York</td>\n",
       "      <td>Town of Clinton (Dutchess County)</td>\n",
       "      <td>36027</td>\n",
       "      <td>1215</td>\n",
       "      <td></td>\n",
       "      <td>Dutchess County</td>\n",
       "    </tr>\n",
       "    <tr>\n",
       "      <th>139</th>\n",
       "      <td>New York</td>\n",
       "      <td>Town of Enfield (Tompkins County)</td>\n",
       "      <td>36109</td>\n",
       "      <td>168</td>\n",
       "      <td></td>\n",
       "      <td>Tompkins County</td>\n",
       "    </tr>\n",
       "    <tr>\n",
       "      <th>141</th>\n",
       "      <td>New York</td>\n",
       "      <td>Town of Hartland (Niagara County)</td>\n",
       "      <td>36063</td>\n",
       "      <td>8942</td>\n",
       "      <td></td>\n",
       "      <td>Niagara County</td>\n",
       "    </tr>\n",
       "    <tr>\n",
       "      <th>148</th>\n",
       "      <td>New York</td>\n",
       "      <td>Town of Porter (Niagara County)</td>\n",
       "      <td>36063</td>\n",
       "      <td>3265</td>\n",
       "      <td></td>\n",
       "      <td>Niagara County</td>\n",
       "    </tr>\n",
       "    <tr>\n",
       "      <th>149</th>\n",
       "      <td>New York</td>\n",
       "      <td>Town of Seneca (Ontario County)</td>\n",
       "      <td>36069</td>\n",
       "      <td>3675</td>\n",
       "      <td></td>\n",
       "      <td>Ontario County</td>\n",
       "    </tr>\n",
       "    <tr>\n",
       "      <th>152</th>\n",
       "      <td>New York</td>\n",
       "      <td>Town of Worth (Jefferson County)</td>\n",
       "      <td>36045</td>\n",
       "      <td>24625</td>\n",
       "      <td></td>\n",
       "      <td>Jefferson County</td>\n",
       "    </tr>\n",
       "  </tbody>\n",
       "</table>\n",
       "</div>"
      ],
      "text/plain": [
       "    raw_state_name                  raw_locality_name county_id_fips geocoded_locality_name geocoded_locality_type geocoded_containing_county\n",
       "137       New York  Town of Clinton (Dutchess County)          36027                   1215                                   Dutchess County\n",
       "139       New York  Town of Enfield (Tompkins County)          36109                    168                                   Tompkins County\n",
       "141       New York  Town of Hartland (Niagara County)          36063                   8942                                    Niagara County\n",
       "148       New York    Town of Porter (Niagara County)          36063                   3265                                    Niagara County\n",
       "149       New York    Town of Seneca (Ontario County)          36069                   3675                                    Ontario County\n",
       "152       New York   Town of Worth (Jefferson County)          36045                  24625                                  Jefferson County"
      ]
     },
     "execution_count": 53,
     "metadata": {},
     "output_type": "execute_result"
    }
   ],
   "source": [
    "# special case for some NY towns that get geocoded to the address of the town hall.\n",
    "# The geocoding code used to simply take the first part of the address, which in these cases are street numbers.\n",
    "# This is now fixed.\n",
    "trans_ordn.loc[trans_ordn['geocoded_locality_name'].str.match(r'\\d+'), col_subset]"
   ]
  },
  {
   "cell_type": "code",
   "execution_count": 4,
   "id": "1044d230",
   "metadata": {},
   "outputs": [],
   "source": [
    "gc = dbcp.transform.geocoding.GoogleGeocoder()"
   ]
  },
  {
   "cell_type": "code",
   "execution_count": 55,
   "id": "829ae60c",
   "metadata": {},
   "outputs": [
    {
     "data": {
      "text/plain": [
       "['3675', '', 'Ontario County']"
      ]
     },
     "execution_count": 55,
     "metadata": {},
     "output_type": "execute_result"
    }
   ],
   "source": [
    "gc.geocode_request(name=\"Town of Seneca (Ontario County)\", state=\"NY\", country=\"US\")\n",
    "gc.describe()"
   ]
  },
  {
   "cell_type": "code",
   "execution_count": 56,
   "id": "a3b47841",
   "metadata": {},
   "outputs": [
    {
     "data": {
      "text/plain": [
       "{'address_components': [{'long_name': '3675',\n",
       "   'short_name': '3675',\n",
       "   'types': ['street_number']},\n",
       "  {'long_name': 'Flint Road', 'short_name': 'Flint Rd', 'types': ['route']},\n",
       "  {'long_name': 'Stanley',\n",
       "   'short_name': 'Stanley',\n",
       "   'types': ['locality', 'political']},\n",
       "  {'long_name': 'Seneca',\n",
       "   'short_name': 'Seneca',\n",
       "   'types': ['administrative_area_level_3', 'political']},\n",
       "  {'long_name': 'Ontario County',\n",
       "   'short_name': 'Ontario County',\n",
       "   'types': ['administrative_area_level_2', 'political']},\n",
       "  {'long_name': 'New York',\n",
       "   'short_name': 'NY',\n",
       "   'types': ['administrative_area_level_1', 'political']},\n",
       "  {'long_name': 'United States',\n",
       "   'short_name': 'US',\n",
       "   'types': ['country', 'political']},\n",
       "  {'long_name': '14561', 'short_name': '14561', 'types': ['postal_code']},\n",
       "  {'long_name': '9575',\n",
       "   'short_name': '9575',\n",
       "   'types': ['postal_code_suffix']}],\n",
       " 'formatted_address': '3675 Flint Rd, Stanley, NY 14561, USA',\n",
       " 'geometry': {'location': {'lat': 42.8541221, 'lng': -77.1051406},\n",
       "  'location_type': 'ROOFTOP',\n",
       "  'viewport': {'northeast': {'lat': 42.8553854302915,\n",
       "    'lng': -77.10381056970849},\n",
       "   'southwest': {'lat': 42.8526874697085, 'lng': -77.10650853029149}}},\n",
       " 'partial_match': True,\n",
       " 'place_id': 'ChIJF6jKpmHZ0IkRD2NFOpPjNaA',\n",
       " 'plus_code': {'compound_code': 'VV3V+JW Stanley, NY',\n",
       "  'global_code': '87J4VV3V+JW'},\n",
       " 'types': ['establishment', 'local_government_office', 'point_of_interest']}"
      ]
     },
     "execution_count": 56,
     "metadata": {},
     "output_type": "execute_result"
    }
   ],
   "source": [
    "gc._response"
   ]
  }
 ],
 "metadata": {
  "kernelspec": {
   "display_name": "Python 3 (ipykernel)",
   "language": "python",
   "name": "python3"
  },
  "language_info": {
   "codemirror_mode": {
    "name": "ipython",
    "version": 3
   },
   "file_extension": ".py",
   "mimetype": "text/x-python",
   "name": "python",
   "nbconvert_exporter": "python",
   "pygments_lexer": "ipython3",
   "version": "3.10.11"
  }
 },
 "nbformat": 4,
 "nbformat_minor": 5
}
