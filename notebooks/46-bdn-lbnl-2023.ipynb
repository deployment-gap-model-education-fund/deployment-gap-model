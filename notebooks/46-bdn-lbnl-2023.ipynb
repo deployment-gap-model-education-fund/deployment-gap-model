{
 "cells": [
  {
   "cell_type": "markdown",
   "id": "4012c949-f6fd-4fbc-8601-7fac99b753b4",
   "metadata": {},
   "source": [
    "## Purpose\n",
    "This notebooks compares some high level metrics about two versions of the `iso_projects_long_format`. This is helpful for running sanity checks when updating queue data."
   ]
  },
  {
   "cell_type": "code",
   "execution_count": null,
   "id": "57c9155c-f91f-4d71-a73e-16273b3d84bd",
   "metadata": {
    "tags": []
   },
   "outputs": [],
   "source": [
    "from dbcp.helpers import get_sql_engine\n",
    "import pandas as pd\n",
    "\n",
    "engine = get_sql_engine()\n",
    "\n",
    "with engine.connect() as con:\n",
    "    projects_long = pd.read_sql_table(\"iso_projects_long_format\", con, schema=\"data_mart\")\n",
    "    \n",
    "projects_long = projects_long.convert_dtypes()\n",
    "print(projects_long.date_entered_queue.max())\n",
    "# projects_long.to_parquet(\"iso_projects_long_format_gs_9e8eed8.parquet\")"
   ]
  },
  {
   "cell_type": "markdown",
   "id": "59a4aa6a-1bfa-4331-a8dc-a72b375a42f2",
   "metadata": {
    "tags": []
   },
   "source": [
    "## Load projects"
   ]
  },
  {
   "cell_type": "code",
   "execution_count": null,
   "id": "f2144cc1-a3f2-436f-bc46-bbdf8b283f71",
   "metadata": {},
   "outputs": [],
   "source": [
    "import pandas as pd"
   ]
  },
  {
   "cell_type": "code",
   "execution_count": null,
   "id": "c5c14b8f-328e-4c7f-bc2a-c61d14997f50",
   "metadata": {},
   "outputs": [],
   "source": [
    "from pathlib import Path\n",
    "\n",
    "parquet_dir = Path(\"/app/data/output\")\n",
    "data_mart_dir = parquet_dir / \"data_mart\"\n",
    "lbnl_23_iso_projects_long_format = pd.read_parquet(\"iso_projects_long_format_gs_9e8eed8.parquet\")"
   ]
  },
  {
   "cell_type": "code",
   "execution_count": null,
   "id": "254661e5",
   "metadata": {},
   "outputs": [],
   "source": [
    "lbnl_22_iso_projects_long_format = pd.read_parquet(\"iso_projects_long_format_gs_278cb90.parquet\")\n",
    "lbnl_22_iso_projects_long_format[\"iso_region\"] = lbnl_22_iso_projects_long_format[\"iso_region\"].replace(\"ISO-NE\", \"ISONE\")\n",
    "lbnl_22_iso_projects_long_format = lbnl_22_iso_projects_long_format"
   ]
  },
  {
   "cell_type": "code",
   "execution_count": null,
   "id": "2f0b0fe6",
   "metadata": {},
   "outputs": [],
   "source": [
    "new_region_max_date = lbnl_23_iso_projects_long_format.groupby(\"iso_region\").date_entered_queue.max()\n",
    "new_region_max_date"
   ]
  },
  {
   "cell_type": "code",
   "execution_count": null,
   "id": "de8fc244",
   "metadata": {},
   "outputs": [],
   "source": [
    "old_region_max_date = lbnl_22_iso_projects_long_format.groupby(\"iso_region\").date_entered_queue.max()\n",
    "old_region_max_date"
   ]
  },
  {
   "cell_type": "code",
   "execution_count": null,
   "id": "30be639b",
   "metadata": {},
   "outputs": [],
   "source": [
    "new_region_max_date - old_region_max_date"
   ]
  },
  {
   "cell_type": "markdown",
   "id": "4a65acaf-9b50-4e0e-9844-c3942f5a9e1b",
   "metadata": {},
   "source": [
    "## Load raw data"
   ]
  },
  {
   "cell_type": "code",
   "execution_count": null,
   "id": "e37a460f-294d-4ab5-9ab5-e3048048819d",
   "metadata": {},
   "outputs": [],
   "source": [
    "import dbcp\n",
    "\n",
    "lbnl_uri = \"gs://dgm-archive/lbnl_iso_queue/queues_2023_clean_data.xlsx\"\n",
    "raw_lbnl_23 = dbcp.extract.lbnl_iso_queue.extract(lbnl_uri)[\"lbnl_iso_queue\"].query(\"queue_status == 'active'\")\n",
    "\n",
    "lbnl_uri = \"gs://dgm-archive/lbnl_iso_queue/queues_2022_clean_data.xlsx\"\n",
    "raw_lbnl_22 = dbcp.extract.lbnl_iso_queue.extract(lbnl_uri)[\"lbnl_iso_queue\"].query(\"queue_status == 'active'\")\n",
    "\n",
    "print(raw_lbnl_22.shape)\n",
    "print(raw_lbnl_23.shape)"
   ]
  },
  {
   "cell_type": "markdown",
   "id": "bd535146-f29b-449f-8dc3-2c3dd95921a5",
   "metadata": {},
   "source": [
    "## Compare Raw and data mart differences"
   ]
  },
  {
   "cell_type": "code",
   "execution_count": null,
   "id": "1839b9ec-bd31-44d2-a38c-2ff1e29590d0",
   "metadata": {},
   "outputs": [],
   "source": [
    "raw_lbnl_22[\"total_capacity_mw\"] = raw_lbnl_22.capacity_mw_resource_1.fillna(0) \\\n",
    "    + raw_lbnl_22.capacity_mw_resource_2.fillna(0) \\\n",
    "    + raw_lbnl_22.capacity_mw_resource_3.fillna(0)\n",
    "\n",
    "raw_lbnl_23[\"total_capacity_mw\"] = raw_lbnl_23.capacity_mw_resource_1.fillna(0) \\\n",
    "    + raw_lbnl_23.capacity_mw_resource_2.fillna(0) \\\n",
    "    + raw_lbnl_23.capacity_mw_resource_3.fillna(0)\n",
    "\n",
    "raw_lbnl_22[\"region\"] = raw_lbnl_22[\"region\"].replace({\"ISO-NE\":\"ISONE\"})\n",
    "raw_lbnl_23[\"region\"] = raw_lbnl_23[\"region\"].replace({\"ISO-NE\":\"ISONE\"})"
   ]
  },
  {
   "cell_type": "code",
   "execution_count": null,
   "id": "5db3e4f8-d9ac-41bb-bba4-666109746ed4",
   "metadata": {},
   "outputs": [],
   "source": [
    "raw_agg_22 = raw_lbnl_22.groupby(\"region\").total_capacity_mw.sum()\n",
    "raw_agg_23 = raw_lbnl_23.groupby(\"region\").total_capacity_mw.sum()\n",
    "\n",
    "# raw_agg = pd.concat([raw_lbnl_22.groupby(\"region\").total_capacity_mw.sum(), raw_lbnl_23.groupby(\"region\").total_capacity_mw.sum()], axis=1)\n",
    "                    \n",
    "# raw_agg.columns = [\"22_capacity_mw\", \"23_capacity_mw\"]\n",
    "# raw_agg"
   ]
  },
  {
   "cell_type": "code",
   "execution_count": null,
   "id": "a0183861-0caf-44ea-aab1-8b9d270d8f90",
   "metadata": {},
   "outputs": [],
   "source": [
    "mart_agg_22 = lbnl_22_iso_projects_long_format.groupby(\"iso_region\").capacity_mw.sum()\n",
    "mart_agg_23 = lbnl_23_iso_projects_long_format.groupby(\"iso_region\").capacity_mw.sum()"
   ]
  },
  {
   "cell_type": "code",
   "execution_count": null,
   "id": "d3fdd971-a3a4-4337-ae73-072e89555581",
   "metadata": {},
   "outputs": [],
   "source": [
    "agg_22 = pd.concat([raw_agg_22, mart_agg_22], axis=1)\n",
    "agg_22.columns = [\"raw_capacity_mw\", \"mart_capacity_mw\"]\n",
    "agg_22[\"pct_diff\"] = (agg_22.mart_capacity_mw - agg_22.raw_capacity_mw) / agg_22.raw_capacity_mw\n",
    "\n",
    "agg_23 = pd.concat([raw_agg_23, mart_agg_23], axis=1)\n",
    "agg_23.columns = [\"raw_capacity_mw\", \"mart_capacity_mw\"]\n",
    "agg_23[\"pct_diff\"] = (agg_23.mart_capacity_mw - agg_23.raw_capacity_mw) / agg_23.raw_capacity_mw\n"
   ]
  },
  {
   "cell_type": "code",
   "execution_count": null,
   "id": "ccc34e99-3107-4510-91f7-74f378104bf8",
   "metadata": {},
   "outputs": [],
   "source": [
    "agg_22[agg_22.index.str.contains(\"non-ISO\")].sort_values(by=\"pct_diff\")"
   ]
  },
  {
   "cell_type": "code",
   "execution_count": null,
   "id": "b04e4e89-fe3a-4c1e-9709-f3d3414f3110",
   "metadata": {},
   "outputs": [],
   "source": [
    "agg_23[agg_23.index.str.contains(\"non-ISO\")].sort_values(by=\"pct_diff\")\n",
    "# agg_23.sort_values(by=\"pct_diff\")"
   ]
  },
  {
   "cell_type": "markdown",
   "id": "16ab7b21-5e42-4c74-a1d0-3921790a9889",
   "metadata": {},
   "source": [
    "We are removing 5 percent more capacity in West in 23 than in 22."
   ]
  },
  {
   "cell_type": "markdown",
   "id": "c5f96a1c-4936-49da-b618-de427278bc40",
   "metadata": {},
   "source": [
    "## Aggregate project dataframes by county"
   ]
  },
  {
   "cell_type": "code",
   "execution_count": null,
   "id": "92d6bb46-fc02-4fc0-a916-d9d61d3f6673",
   "metadata": {},
   "outputs": [],
   "source": [
    "def aggregate_iso_projects_by_count(df):\n",
    "\n",
    "    def contains_iso_project(grp):\n",
    "        return any([\"non-ISO\" not in region for region in grp if not isinstance(region, type(pd.NA))])\n",
    "    \n",
    "    def get_primary_iso(grp):\n",
    "        # There are 16 counties that have equal number of projects in multiple regions. Select the first one\n",
    "        return grp.mode().head(1)\n",
    "\n",
    "    agg_df = df.groupby(\"county_id_fips\").agg(\n",
    "        has_iso_project=pd.NamedAgg(column=\"iso_region\", aggfunc=contains_iso_project),\n",
    "        primary_iso_region=pd.NamedAgg(column=\"iso_region\", aggfunc=get_primary_iso),\n",
    "        capacity_mw=pd.NamedAgg(column=\"capacity_mw\", aggfunc=\"sum\"),\n",
    "        co2e_tonnes_per_year=pd.NamedAgg(column=\"co2e_tonnes_per_year\", aggfunc=\"sum\")\n",
    "    )\n",
    "    \n",
    "    def agg_actionable_mw(grp_df):\n",
    "        return grp_df[grp_df.is_actionable].capacity_mw.sum()\n",
    "\n",
    "    def agg_certain_mw(grp_df):\n",
    "        return grp_df[grp_df.is_nearly_certain].capacity_mw.sum()\n",
    "\n",
    "\n",
    "    agg_df[\"actionable_capacity_mw\"] = df.groupby(\"county_id_fips\").apply(agg_actionable_mw)\n",
    "    agg_df[\"nearly_certain_capacity_mw\"] = df.groupby(\"county_id_fips\").apply(agg_certain_mw)\n",
    "    \n",
    "    agg_df[\"actionable_n_projects\"] = df.groupby(\"county_id_fips\").is_actionable.sum()\n",
    "    agg_df[\"nearly_certain_n_projects\"] = df.groupby(\"county_id_fips\").is_nearly_certain.count()\n",
    "    return agg_df.reset_index()\n",
    "\n",
    "new_projects_counties = aggregate_iso_projects_by_count(lbnl_23_iso_projects_long_format)\n",
    "old_projects_counties = aggregate_iso_projects_by_count(lbnl_22_iso_projects_long_format)"
   ]
  },
  {
   "cell_type": "markdown",
   "id": "44d2ab53-6b17-40b6-b294-ba8654f59a66",
   "metadata": {},
   "source": [
    "## Number of counties with projects"
   ]
  },
  {
   "cell_type": "code",
   "execution_count": null,
   "id": "9d42e25e-8366-4326-98c1-384f2f34b1bf",
   "metadata": {},
   "outputs": [],
   "source": [
    "n_counties_with_projects_in_new_not_in_old = len(set(new_projects_counties.county_id_fips) - set(old_projects_counties.county_id_fips))\n",
    "n_counties_with_projects_in_old_not_in_new = len(set(old_projects_counties.county_id_fips) - set(new_projects_counties.county_id_fips))\n",
    "\n",
    "print(n_counties_with_projects_in_new_not_in_old)\n",
    "print(n_counties_with_projects_in_old_not_in_new)"
   ]
  },
  {
   "cell_type": "code",
   "execution_count": null,
   "id": "c07c6cbf-4989-47f3-81f9-6a7ff08a30fe",
   "metadata": {},
   "outputs": [],
   "source": [
    "print(len(old_projects_counties))\n",
    "print(len(new_projects_counties))"
   ]
  },
  {
   "cell_type": "code",
   "execution_count": null,
   "id": "284fe450",
   "metadata": {},
   "outputs": [],
   "source": [
    "merged = old_projects_counties.merge(new_projects_counties, how=\"outer\", on=\"county_id_fips\", suffixes=(\"_old\", \"_new\"))"
   ]
  },
  {
   "cell_type": "code",
   "execution_count": null,
   "id": "79c8ab30",
   "metadata": {},
   "outputs": [],
   "source": [
    "merged[\"pct_mw_change\"] = (merged.capacity_mw_new - merged.capacity_mw_old) / merged.capacity_mw_old"
   ]
  },
  {
   "cell_type": "code",
   "execution_count": null,
   "id": "c1c1f4ef",
   "metadata": {},
   "outputs": [],
   "source": [
    "import plotly.offline as pyo\n",
    "pyo.init_notebook_mode()\n",
    "\n",
    "# https://stackoverflow.com/questions/52771328/plotly-chart-not-showing-in-jupyter-notebook\n",
    "from urllib.request import urlopen\n",
    "import json\n",
    "with urlopen('https://raw.githubusercontent.com/plotly/datasets/master/geojson-counties-fips.json') as response:\n",
    "    counties = json.load(response)\n",
    "\n",
    "\n",
    "import plotly.express as px\n",
    "\n",
    "fig = px.choropleth(merged, geojson=counties, locations='county_id_fips', color='pct_mw_change',\n",
    "                           color_continuous_scale=\"RdYlGn\",\n",
    "                           range_color=(-4, 4),\n",
    "                           scope=\"usa\",\n",
    "                           labels={'pct_mw_change': \"% Change in capacity between data on dev and LBNL 2023 branch\"},\n",
    "                          )\n",
    "fig.update_layout(margin={\"r\":0,\"t\":0,\"l\":0,\"b\":0})\n"
   ]
  },
  {
   "cell_type": "code",
   "execution_count": null,
   "id": "5ad08b55",
   "metadata": {},
   "outputs": [],
   "source": [
    "region_caps = pd.concat([lbnl_23_iso_projects_long_format.groupby(\"iso_region\").capacity_mw.sum(), lbnl_22_iso_projects_long_format.groupby(\"iso_region\").capacity_mw.sum()], axis=1)\n",
    "region_caps.columns = [\"23_mw_capacity\", \"22_mw_capacity\"]"
   ]
  },
  {
   "cell_type": "code",
   "execution_count": null,
   "id": "4dee4a0b",
   "metadata": {},
   "outputs": [],
   "source": [
    "region_caps"
   ]
  },
  {
   "cell_type": "code",
   "execution_count": null,
   "id": "afbef1b6",
   "metadata": {},
   "outputs": [],
   "source": [
    "region_caps.plot.bar()"
   ]
  }
 ],
 "metadata": {
  "kernelspec": {
   "display_name": "Python 3 (ipykernel)",
   "language": "python",
   "name": "python3"
  },
  "language_info": {
   "codemirror_mode": {
    "name": "ipython",
    "version": 3
   },
   "file_extension": ".py",
   "mimetype": "text/x-python",
   "name": "python",
   "nbconvert_exporter": "python",
   "pygments_lexer": "ipython3",
   "version": "3.10.14"
  }
 },
 "nbformat": 4,
 "nbformat_minor": 5
}
