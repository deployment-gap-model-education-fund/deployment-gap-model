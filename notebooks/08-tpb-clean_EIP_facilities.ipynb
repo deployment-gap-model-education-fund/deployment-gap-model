{
 "cells": [
  {
   "cell_type": "code",
   "execution_count": null,
   "id": "e2c4ba01-efa8-41f4-93ab-85d9452d6fe2",
   "metadata": {},
   "outputs": [],
   "source": [
    "%load_ext autoreload"
   ]
  },
  {
   "cell_type": "code",
   "execution_count": null,
   "id": "c5fc3217-d4ed-4e3e-8a98-6fdc06769175",
   "metadata": {},
   "outputs": [],
   "source": [
    "%autoreload 2"
   ]
  },
  {
   "cell_type": "code",
   "execution_count": null,
   "id": "baeedb9e-01aa-4702-9a82-174d677751b9",
   "metadata": {},
   "outputs": [],
   "source": [
    "import pandas as pd\n",
    "import numpy as np\n",
    "from pathlib import Path"
   ]
  },
  {
   "cell_type": "code",
   "execution_count": null,
   "id": "c6d862f9-e588-451c-a679-1176589b0705",
   "metadata": {},
   "outputs": [],
   "source": [
    "path = Path('/app/data/raw/2022.03.22OGW.xlsx')\n",
    "assert path.exists()"
   ]
  },
  {
   "cell_type": "code",
   "execution_count": null,
   "id": "89f17641-8b0d-45dd-970c-a3faa79e17b0",
   "metadata": {},
   "outputs": [],
   "source": [
    "# eip = dbcp.extract.eip_infrastructure.extract(path)\n",
    "# hardcode the extract function so this notebook can be easily rerun in the future without maintenance\n",
    "sheets_to_read = [\n",
    "    'Facility',\n",
    "    'Company',\n",
    "    'Project',\n",
    "    'Air Construction',  # permit status is key to identifying actionable projects\n",
    "    'Pipelines',\n",
    "]\n",
    "eip = pd.read_excel(path, sheet_name=sheets_to_read)\n",
    "rename_dict = {\n",
    "    'Facility': 'eip_facilities',\n",
    "    'Company': 'eip_companies',\n",
    "    'Project': 'eip_projects',\n",
    "    'Air Construction': 'eip_air_constr_permits',\n",
    "    'Pipelines': 'eip_pipelines',\n",
    "}\n",
    "eip = {rename_dict[key]: df for key, df in eip.items()}"
   ]
  },
  {
   "cell_type": "code",
   "execution_count": null,
   "id": "97b35b21-85c0-407e-82a5-4b146a662fe2",
   "metadata": {},
   "outputs": [],
   "source": [
    "eip.keys()"
   ]
  },
  {
   "cell_type": "code",
   "execution_count": null,
   "id": "6423b4af-1971-47b7-bc91-f2ef639ebec5",
   "metadata": {},
   "outputs": [],
   "source": [
    "{k: df.shape for k, df in eip.items()}"
   ]
  },
  {
   "cell_type": "code",
   "execution_count": null,
   "id": "956821db-2798-467e-ba75-78534afcd85a",
   "metadata": {},
   "outputs": [],
   "source": [
    "pd.options.display.max_columns = 100\n",
    "pd.options.display.max_rows = 100"
   ]
  },
  {
   "cell_type": "code",
   "execution_count": null,
   "id": "f20883b9-8047-4f50-935b-14afb51d6bc3",
   "metadata": {},
   "outputs": [],
   "source": [
    "fac = eip['eip_facilities']\n",
    "cos = eip['eip_companies']\n",
    "proj = eip['eip_projects']\n",
    "air = eip['eip_air_constr_permits']\n",
    "pipe = eip['eip_pipelines']"
   ]
  },
  {
   "cell_type": "markdown",
   "id": "71a9290c-6b79-471e-ab56-fde501c2f34c",
   "metadata": {},
   "source": [
    "Outline of work\n",
    "Two parts: data cleaning and data normalization/structuring\n",
    "# Structuring and Normalizaing\n",
    "**5 entities and 5 many:many relationships means 10 tables...** But utting both pipelines and companies drops the total tables in half to 5.\n",
    "\n",
    "The *only* purpose of bringing in the companies table is to add one column with ownership info. But the marginal cost is 3 tables (2 if cutting pipelines), or 30% of tables. I'll confirm with DBCP that this is OK.\n",
    "\n",
    "Pipelines are approved at the federal level so I'm not sure they are actionable for Down Ballot people. They also have only very coarse location information (state). We punted on them last time so I would like to do so again. Marginal cost is also 3 tables, or 2 additional if cutting companies.\n",
    "\n",
    "## Entity Relationships\n",
    "### Entities\n",
    "* facilities\n",
    "* companies\n",
    "* projects\n",
    "* permits (air construction permits. there are many other permit types that I didn't integrate)\n",
    "* pipelines\n",
    "\n",
    "### Relationships\n",
    "many : many\n",
    "* facilities : companies\n",
    "* facilities : projects\n",
    "* facilities : pipelines\n",
    "* companies : pipelines\n",
    "* projects : permits\n",
    "\n",
    "one : many\n",
    "* none\n",
    "\n",
    "one : one\n",
    "* none\n",
    "\n",
    "no direct relationship\n",
    "* facilities : permits (air construction permits are mediated through projects. Other permits not considered here do have direct relationships)\n",
    "* companies : projects (mediated through facilities)\n",
    "* companies : permits (mediated through projects then through facilities)\n",
    "* projects : pipelines (mediated through facilities)\n",
    "* permits : pipelines (mediated through projects then through facilities)\n",
    "\n",
    "# Cleaning\n",
    "Need to clean facilities, projects, and permits via the usual checklist. But I can ignore many unecessary columns and prefix them 'raw_' to discourage use.\n",
    "## Facilities Cleaning\n",
    "- [x] Accuracy\n",
    "- [x] Atomicity\n",
    "- [ ] Consistency\n",
    "- [x] Completeness\n",
    "- [x] Uniformity\n",
    "- [x] Validity\n",
    "    - [x] Range Validation\n",
    "    - [x] Uniqueness Validation\n",
    "    - [x] Set Membership Validation\n",
    "    - [x] Type Validation\n",
    "    - [x] Cross-Field Validation\n",
    "\n",
    "### Accuracy\n",
    "I'm mostly using this table for location information, so I'll focus on the \"street address\" and \"coordinates\" columns. I don't have \"golden data\" to compare against, but I can at least spot check some items by googling them. \\[Update: 3/3 spot checks of location are good. Obviously this is far from comprehensive but gives a small measure of confidence.]"
   ]
  },
  {
   "cell_type": "code",
   "execution_count": null,
   "id": "90eeaf6e-e70e-4b7f-bbc3-7f9913d28884",
   "metadata": {},
   "outputs": [],
   "source": [
    "fac.sample(3, random_state=42)"
   ]
  },
  {
   "cell_type": "markdown",
   "id": "b1a656d2-7f6b-4d20-8476-0078d98f8aaa",
   "metadata": {},
   "source": [
    "Googling \"Oak Grove Gas Plant\" turns up the facility. [Street address](https://www.google.com/maps/place/Williams+Natural+Gas+Oak+Grove+Facility/@39.871189,-80.6944623,1177m/data=!3m1!1e3!4m13!1m7!3m6!1s0x0:0x6769abd010d373f9!2zMznCsDUyJzMyLjkiTiA4MMKwNDEnNDUuMiJX!3b1!8m2!3d39.8758!4d-80.6959!3m4!1s0x8835e69402fb74cd:0x94b44b7720f51c5!8m2!3d39.8690544!4d-80.693195) and coordinates match. Owner also matches.\n",
    "\n",
    "MarkWest Houston Complex location is also good. Google maps labels the [corporate office](https://www.google.com/maps/place/MarkWest+Houston+Plant/@40.262237,-80.2596898,1240m/data=!3m1!1e3!4m13!1m7!3m6!1s0x8834528cbcacb571:0xbd8b49797f3fdd4!2s800+Western+Ave,+Washington,+PA+15301!3b1!8m2!3d40.2584361!4d-80.2555021!3m4!1s0x8834539d500f0e45:0x248d758337e3de37!8m2!3d40.2585062!4d-80.254957) as across the street from the given address, which belongs to a different facility building. But that doesn't matter for our purposes -- we aren't sending them a letter. Owner also matches.\n",
    "\n",
    "Formosa Point Comfort plant street address matches [google maps](https://www.google.com/maps/place/Formosa+Plastics+Corporation,+Texas/@28.6804226,-96.5626898,13964m/data=!3m1!1e3!4m5!3m4!1s0x0:0x469e4fbb5f6d12a1!8m2!3d28.6975144!4d-96.5449333) and coordinates are inside the facility. Owner also matches."
   ]
  },
  {
   "cell_type": "markdown",
   "id": "c26eb9fa-d49d-45d1-8bd0-55cfdd2bf79f",
   "metadata": {},
   "source": [
    "### Atomicity\n",
    "By inspection I see that all the ID and associated name fields can contain multiple values: company, project, pipelines, and permits. The location fields are mercifully single valued"
   ]
  },
  {
   "cell_type": "code",
   "execution_count": null,
   "id": "add0a42c-0553-4853-90b2-c74892ddd507",
   "metadata": {},
   "outputs": [],
   "source": [
    "# street address does not look multi-valued but has other problems. Thankfully lat lon is still available\n",
    "# a little more digging suggests bad addresses are because these have not yet been built.\n",
    "# Can't check for sure until I can join project status on to facilities\n",
    "pd.options.display.max_colwidth = 0\n",
    "fac.loc[fac['Street Address'].str.len().nlargest(10).index, ['id', 'name', 'Street Address', 'Location']]"
   ]
  },
  {
   "cell_type": "code",
   "execution_count": null,
   "id": "8c0851ac-81ee-4db5-8587-4d93baf5f8cc",
   "metadata": {},
   "outputs": [],
   "source": [
    "# location is not multi-valued - exactly two decimal points per coordinate pair\n",
    "fac['Location'].str.count('\\.').agg(['min', 'max'])"
   ]
  },
  {
   "cell_type": "code",
   "execution_count": null,
   "id": "37bf7420-045f-4133-b3d9-a3fb5785819d",
   "metadata": {},
   "outputs": [],
   "source": [
    "# a shitload of missing facility IDs, but no multi-valued ones\n",
    "fac['Facility ID'].describe()"
   ]
  },
  {
   "cell_type": "markdown",
   "id": "d2cad23f-ae34-4def-8d92-f0170795324a",
   "metadata": {},
   "source": [
    "### Completeness\n",
    "Notable missing values and lack of missing values:\n",
    "* 93/563 (16.5%) missing street address. Plus some addresses are not missing but look unusable.\n",
    "* 4/563 (0.7%) of facilities are missing linked Project IDs\n",
    "* 9/563 (1.6%) missing \"Location\" (coordinates)\n",
    "* 3/563 (tiny%) missing county (none missing state). But the true test is how successful `addfips` is with these pairs\n",
    "* 60 to 100 (10% to 18%) missing EJ Screen metrics, depending on which metric\n",
    "\n",
    "I don't know what `Facility ID` is (vs `id` of this facility table), but 179/563 (31.8%) rows are missing `Facility ID`. They have different numerical ranges and I see that the companies and project tables thankfully use the `id` numbers, which are 100% complete.\n",
    "\n",
    "Based on these nan counts, I should first try `addfips` on state/county pairs. If too many fail, the most complete option is to geocode via coordinates."
   ]
  },
  {
   "cell_type": "code",
   "execution_count": null,
   "id": "785834ff-c1b8-4a8b-a1ab-5ab1caaae064",
   "metadata": {},
   "outputs": [],
   "source": [
    "len(fac)"
   ]
  },
  {
   "cell_type": "code",
   "execution_count": null,
   "id": "703409bf-08bc-4f9c-96e5-01bc1afe2908",
   "metadata": {},
   "outputs": [],
   "source": [
    "fac.count().T"
   ]
  },
  {
   "cell_type": "markdown",
   "id": "ba7ce60a-5785-48bb-8e45-faedcb66ae50",
   "metadata": {},
   "source": [
    "### Consistency - defer\n",
    "Defer until I've cleaned the related datasets\n",
    "### Uniformity\n",
    "Important columns to check consistent representation:\n",
    "* coordinates\n",
    "* ID fields (check consistent array delimiters)\n",
    "\n",
    "Secondary importance:\n",
    "* street address (this is a luxury field)\n",
    "* modified_on\n",
    "\n",
    "#### Coordinates"
   ]
  },
  {
   "cell_type": "code",
   "execution_count": null,
   "id": "0d5b0f4f-581c-47d1-afdf-3bb4d0ef2287",
   "metadata": {},
   "outputs": [],
   "source": [
    "# \"-XX.X, YY.Y\" with 2 or 3 digits before the decimal and 2 to 7 digits after.\n",
    "# Plus optional leading/trailing whitespace.\n",
    "coord_pattern = r'\\s*-\\d{2,3}\\.\\d{2,7}, \\d{2,3}\\.\\d{2,7}\\s*'\n",
    "fac['Location'].str.match(coord_pattern).sum()"
   ]
  },
  {
   "cell_type": "code",
   "execution_count": null,
   "id": "f6c22f1c-b927-4219-bc4b-eed38c2b5cea",
   "metadata": {},
   "outputs": [],
   "source": [
    "# matches count, so they all have the same formatting\n",
    "fac['Location'].count()"
   ]
  },
  {
   "cell_type": "code",
   "execution_count": null,
   "id": "ca553376-d111-413e-80ae-ffadba844e8d",
   "metadata": {},
   "outputs": [],
   "source": [
    "# tighten criteria to 3+ digits after decimal\n",
    "# Reveals that only 2 facilities have poor precision (plus or minus about a km)\n",
    "coord_pattern = r'\\s*-\\d{2,3}\\.\\d{3,7}, \\d{2,3}\\.\\d{3,7}\\s*'\n",
    "fac['Location'].str.match(coord_pattern).sum()"
   ]
  },
  {
   "cell_type": "markdown",
   "id": "81618c73-29a6-4c6e-918e-35e315adc7c6",
   "metadata": {},
   "source": [
    "#### ID Fields\n",
    "Want to check for consistent array delimiters."
   ]
  },
  {
   "cell_type": "code",
   "execution_count": null,
   "id": "4192a0cf-af5e-4ecc-9b99-a02372ac86cf",
   "metadata": {},
   "outputs": [],
   "source": [
    "# exclude ID cols with numeric types (no arrays present)\n",
    "id_cols = [col for col in fac.columns if '(ID)' in col and pd.api.types.is_object_dtype(fac[col])]\n",
    "id_cols"
   ]
  },
  {
   "cell_type": "code",
   "execution_count": null,
   "id": "61e14d01-63c2-48fb-bc94-24681e31aa8b",
   "metadata": {},
   "outputs": [],
   "source": [
    "# mandatory opening pattern, optional delimiter, optional repeating pattern, optional closing pattern, mandatory end of line\n",
    "array_pattern = r'(?:\\d{3,5})(?:, ?)?(?:\\d{3,5}, ?)*(?:\\d{3,5})?$'"
   ]
  },
  {
   "cell_type": "code",
   "execution_count": null,
   "id": "4581b919-0f49-4e2d-bb26-7ef34de04e0c",
   "metadata": {},
   "outputs": [],
   "source": [
    "test_case = pd.Series([\n",
    "    '1234',\n",
    "    '1234,567',\n",
    "    '1234, 567',\n",
    "    '12345, 678, 9012',\n",
    "    '1234\\t5678', # tab is bad, no comma\n",
    "    '12, 3456', # too short\n",
    "    '1234    5678', # too many spaces, no comma\n",
    "])\n",
    "pd.concat([test_case, test_case.str.match(array_pattern)], axis=1)"
   ]
  },
  {
   "cell_type": "code",
   "execution_count": null,
   "id": "3557314c-34c4-4597-b390-5bd98b55c8f7",
   "metadata": {},
   "outputs": [],
   "source": [
    "# all pass the formatting test\n",
    "for col in id_cols:\n",
    "    assert fac[col].str.match(array_pattern).all()"
   ]
  },
  {
   "cell_type": "markdown",
   "id": "bf55c928-4a98-4d3c-8589-326fa56dfcd0",
   "metadata": {},
   "source": [
    "#### Date Modified"
   ]
  },
  {
   "cell_type": "code",
   "execution_count": null,
   "id": "b15fc622-b691-4362-a0b0-0425c66e73c7",
   "metadata": {},
   "outputs": [],
   "source": [
    "# to_datetime works on all values present\n",
    "timestamps = pd.to_datetime(fac['modified_on'])\n",
    "timestamps.dtypes, timestamps.isna().sum()"
   ]
  },
  {
   "cell_type": "markdown",
   "id": "ea9e9210-93bc-4846-9779-05528ffbc2da",
   "metadata": {},
   "source": [
    "#### Street Address - defer\n",
    "hard to test and I don't care that much if it's wrong. Best way to test is probably to outsource to a pre-built geocoder"
   ]
  },
  {
   "cell_type": "markdown",
   "id": "ab2e7376-ddba-425b-be75-12a2ec54d668",
   "metadata": {},
   "source": [
    "### Range Validation\n",
    "Check IDs and Coordinates\n",
    "#### Coordinates\n",
    "All the extreme coordinates are real places! No \"Null Island\" dwellers either."
   ]
  },
  {
   "cell_type": "code",
   "execution_count": null,
   "id": "1d79450e-f179-4bd0-b907-eac20db4b40c",
   "metadata": {},
   "outputs": [],
   "source": [
    "coords = fac['Location'].str.split(',', expand=True)\n",
    "for col in coords.columns:\n",
    "    coords.loc[:, col] = pd.to_numeric(coords.loc[:, col], errors='coerce')\n",
    "coords.head()"
   ]
  },
  {
   "cell_type": "code",
   "execution_count": null,
   "id": "aac837f7-3b28-4481-a4d4-fd4cd055cb99",
   "metadata": {},
   "outputs": [],
   "source": [
    "coords.describe()"
   ]
  },
  {
   "cell_type": "code",
   "execution_count": null,
   "id": "b1eecbf0-7d66-4f46-a0b8-f6d15f03f9b5",
   "metadata": {},
   "outputs": [],
   "source": [
    "# look at extreme coordinates\n",
    "# max longitude\n",
    "fac.loc[coords[0].idxmax(), ['Location', 'City', 'ZIP Code', 'Facility Description']]"
   ]
  },
  {
   "cell_type": "code",
   "execution_count": null,
   "id": "a9c6c958-4a8e-4f1e-9204-a6d6b36d0f65",
   "metadata": {},
   "outputs": [],
   "source": [
    "# Min longitude\n",
    "fac.loc[coords[0].idxmin(), ['Location', 'City', 'ZIP Code', 'Facility Description']]"
   ]
  },
  {
   "cell_type": "code",
   "execution_count": null,
   "id": "d2872f90-cd79-4ddd-a92a-4ad9d7034108",
   "metadata": {},
   "outputs": [],
   "source": [
    "# max latitude\n",
    "fac.loc[coords[1].idxmax(), ['Location', 'City', 'ZIP Code', 'Facility Description']]"
   ]
  },
  {
   "cell_type": "code",
   "execution_count": null,
   "id": "9ac0f1ba-3365-4415-b3dd-42163fb0ac36",
   "metadata": {},
   "outputs": [],
   "source": [
    "# Min Latitude\n",
    "fac.loc[coords[1].idxmin(), ['Location', 'City', 'ZIP Code', 'Facility Description']]"
   ]
  },
  {
   "cell_type": "markdown",
   "id": "89dc9a3d-8791-4794-8f66-724ea3728d08",
   "metadata": {},
   "source": [
    "#### IDs\n",
    "There are lots of ID columns, but I only care about project IDs and associated facilities"
   ]
  },
  {
   "cell_type": "code",
   "execution_count": null,
   "id": "68fc4a1b-4d99-46a8-b3bf-8233af429023",
   "metadata": {},
   "outputs": [],
   "source": [
    "# defined way up near the top\n",
    "id_cols"
   ]
  },
  {
   "cell_type": "code",
   "execution_count": null,
   "id": "f09ee92b-c24d-47bd-80be-b105fefdad96",
   "metadata": {},
   "outputs": [],
   "source": [
    "proj_ids = fac['Project (ID)'].str.split(',', expand=True)\n",
    "for col in proj_ids.columns:\n",
    "    proj_ids.loc[:, col] = pd.to_numeric(proj_ids.loc[:, col], errors='coerce')\n",
    "\n",
    "proj_ids.head()"
   ]
  },
  {
   "cell_type": "code",
   "execution_count": null,
   "id": "3e7db424-53e9-43c3-aa0a-c6da2fb81023",
   "metadata": {},
   "outputs": [],
   "source": [
    "# they all look in the same range\n",
    "proj_ids.describe()"
   ]
  },
  {
   "cell_type": "code",
   "execution_count": null,
   "id": "398b7d49-c594-46e7-b444-f5e03004ae62",
   "metadata": {},
   "outputs": [],
   "source": [
    "assoc_ids = fac['Associated Facilities (ID)'].str.split(',', expand=True)\n",
    "for col in assoc_ids.columns:\n",
    "    assoc_ids.loc[:, col] = pd.to_numeric(assoc_ids.loc[:, col], errors='coerce')\n",
    "\n",
    "assoc_ids.head()"
   ]
  },
  {
   "cell_type": "code",
   "execution_count": null,
   "id": "f7b92f4d-2b2c-4d87-ad01-a0f0a8daebed",
   "metadata": {},
   "outputs": [],
   "source": [
    "# they all look in the same range\n",
    "assoc_ids.describe()"
   ]
  },
  {
   "cell_type": "markdown",
   "id": "99034a5d-072a-4cc3-a6b2-c93dd979ce41",
   "metadata": {},
   "source": [
    "### Uniqueness Validation\n",
    "Check the `id` field (NOT `Facility ID`)"
   ]
  },
  {
   "cell_type": "code",
   "execution_count": null,
   "id": "164ac0af-1cb1-499d-ac71-55ba4ba8c101",
   "metadata": {},
   "outputs": [],
   "source": [
    "fac['id'].duplicated().sum()"
   ]
  },
  {
   "cell_type": "markdown",
   "id": "155fd657-398b-4e25-bed6-ec5d7108c79a",
   "metadata": {},
   "source": [
    "### Set Membership Validation\n",
    "Check state/county only. A few takeaways:\n",
    "* state 'TDB' values need conversion to NULL\n",
    "* a few states are arrays (but only one value, duplicated)\n",
    "* 4 counties are arrays. Probably just take the first one. The better but more expensive way is to use the given lat, lon coords. Not worth it for 4 facilities."
   ]
  },
  {
   "cell_type": "code",
   "execution_count": null,
   "id": "aaf2fd70-4f7e-487c-9fb1-7a229d998eb3",
   "metadata": {},
   "outputs": [],
   "source": [
    "from pudl.helpers import add_fips_ids"
   ]
  },
  {
   "cell_type": "code",
   "execution_count": null,
   "id": "9367d748-dc42-423a-b6a6-d9e932b1c7ee",
   "metadata": {},
   "outputs": [],
   "source": [
    "w_fips = add_fips_ids(fac[['State', 'County or Parish']], state_col='State', county_col='County or Parish', vintage=2020)\n",
    "w_fips.head()"
   ]
  },
  {
   "cell_type": "code",
   "execution_count": null,
   "id": "710a6f01-e91c-41e7-a288-cf71f0b77983",
   "metadata": {},
   "outputs": [],
   "source": [
    "w_fips.shape"
   ]
  },
  {
   "cell_type": "code",
   "execution_count": null,
   "id": "370d6382-47f7-412c-b6e1-dbe06c590c48",
   "metadata": {},
   "outputs": [],
   "source": [
    "# 9 bad states and 20 bad state/county combos\n",
    "w_fips.describe()"
   ]
  },
  {
   "cell_type": "code",
   "execution_count": null,
   "id": "3578dd98-7c3b-49ac-9fd5-11cda3b6f6cf",
   "metadata": {},
   "outputs": [],
   "source": [
    "w_fips[w_fips['county_id_fips'].isna()]"
   ]
  },
  {
   "cell_type": "markdown",
   "id": "7e13c29d-107b-4755-84c8-e3f9ae06b3db",
   "metadata": {
    "tags": []
   },
   "source": [
    "### Type Validation\n",
    "All the ID columns and the coordinates are CSV string arrays that need parsing and conversion to numeric.\n",
    "### Cross-Field Validation - Defer\n",
    "A thorough cleaning would involve geocoding the given coordinates and making sure they match the given state, county values. Also reverse geocoding the given street address and computing distance vs given coordinates. But I'll defer that until we actually do something with the lat, lon values."
   ]
  }
 ],
 "metadata": {
  "kernelspec": {
   "display_name": "Python 3 (ipykernel)",
   "language": "python",
   "name": "python3"
  },
  "language_info": {
   "codemirror_mode": {
    "name": "ipython",
    "version": 3
   },
   "file_extension": ".py",
   "mimetype": "text/x-python",
   "name": "python",
   "nbconvert_exporter": "python",
   "pygments_lexer": "ipython3",
   "version": "3.9.10"
  }
 },
 "nbformat": 4,
 "nbformat_minor": 5
}
