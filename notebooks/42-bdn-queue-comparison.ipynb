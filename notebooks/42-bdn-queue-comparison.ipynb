{
 "cells": [
  {
   "cell_type": "code",
   "execution_count": null,
   "id": "57c9155c-f91f-4d71-a73e-16273b3d84bd",
   "metadata": {
    "tags": []
   },
   "outputs": [],
   "source": [
    "# import dbcp\n",
    "# from dbcp.helpers import get_sql_engine\n",
    "\n",
    "# import pandas as pd\n",
    "\n",
    "\n",
    "# engine = get_sql_engine()\n",
    "# iso_projects = dbcp.data_mart.projects._get_and_join_iso_tables(engine)\n",
    "\n",
    "# iso_projects.to_parquet(\"iso_projects_without_gs.parquet\")"
   ]
  },
  {
   "cell_type": "markdown",
   "id": "59a4aa6a-1bfa-4331-a8dc-a72b375a42f2",
   "metadata": {},
   "source": [
    "## Load projects\n",
    "I didn't pull `county_wide` because I wanted project level information to create aggregated column like \"primary iso\" and \"has an ISO project\" for a given county. To do this I created parquet files of the dataframe retruned by `dbcp.data_mart.projects._get_and_join_iso_tables(engine)` on `dev` and `rebase-gridstatus-iso-queues-to-dev`. The projects on `rebase-gridstatus-iso-queues-to-dev` use the old archives we have for GS data except for SPP and ISONE because the certainty and actionable columns weren't available until archives from 12/23. This isn't ideal because it is difficult to recreate but felt like the best way to observe differences between the versions."
   ]
  },
  {
   "cell_type": "code",
   "execution_count": null,
   "id": "c5c14b8f-328e-4c7f-bc2a-c61d14997f50",
   "metadata": {},
   "outputs": [],
   "source": [
    "old_projects = pd.read_parquet(\"iso_projects_without_gs.parquet\")\n",
    "# old_counties_wide[\"county_id_fips\"] = old_counties_wide.county_id_fips.astype(\"string\").str.zfill(5)\n",
    "old_projects.head()"
   ]
  },
  {
   "cell_type": "code",
   "execution_count": null,
   "id": "9309a473-db97-4165-baf0-215665d94d19",
   "metadata": {},
   "outputs": [],
   "source": [
    "old_projects.select_dtypes(\"object\").columns"
   ]
  },
  {
   "cell_type": "code",
   "execution_count": null,
   "id": "32101976-90dc-4bf7-8811-a23ba9eec825",
   "metadata": {},
   "outputs": [],
   "source": [
    "new_projects  = pd.read_parquet(\"iso_projects_with_gs.parquet\")\n",
    "\n",
    "new_projects.select_dtypes(\"object\").columns"
   ]
  },
  {
   "cell_type": "markdown",
   "id": "bf79c873-0da2-4c0b-b297-a152b3862f55",
   "metadata": {},
   "source": [
    "## Explore data variations"
   ]
  },
  {
   "cell_type": "code",
   "execution_count": null,
   "id": "00f78ff9-e336-428c-a3bf-d0635f8e6531",
   "metadata": {},
   "outputs": [],
   "source": [
    "print(new_projects.date_entered_queue.max())\n",
    "print(old_projects.date_entered_queue.max())"
   ]
  },
  {
   "cell_type": "code",
   "execution_count": null,
   "id": "9a2dd7ec-76c7-44d3-98df-e0f3b90d6f28",
   "metadata": {},
   "outputs": [],
   "source": [
    "new_projects_2023 = new_projects[new_projects.date_entered_queue.dt.year == 2023]\n",
    "new_projects_2023.iso_region.value_counts()"
   ]
  },
  {
   "cell_type": "code",
   "execution_count": null,
   "id": "6459f2e3-744f-4e1f-b8d8-90025cb635e7",
   "metadata": {},
   "outputs": [],
   "source": [
    "new_projects_2023.date_entered_queue.dt.month.value_counts()"
   ]
  },
  {
   "cell_type": "code",
   "execution_count": null,
   "id": "f5cabbaf-819b-4c94-b020-9135990e348a",
   "metadata": {},
   "outputs": [],
   "source": [
    "new_projects_2023[new_projects_2023.date_entered_queue.dt.month.gt(4)].iso_region.value_counts()"
   ]
  },
  {
   "cell_type": "markdown",
   "id": "9f98d389-c761-4a61-ab8d-77d559dc7757",
   "metadata": {},
   "source": [
    "This makes sense given the earliest snapshot we have for ISOs (excluding SPP and ISONE) is April 2023. Also, everything after april 2024 is from ISONE and SPP."
   ]
  },
  {
   "cell_type": "markdown",
   "id": "c5f96a1c-4936-49da-b618-de427278bc40",
   "metadata": {},
   "source": [
    "## Aggregate project dataframes by county"
   ]
  },
  {
   "cell_type": "code",
   "execution_count": null,
   "id": "92d6bb46-fc02-4fc0-a916-d9d61d3f6673",
   "metadata": {},
   "outputs": [],
   "source": [
    "def aggregate_iso_projects_by_count(df):\n",
    "\n",
    "    def contains_iso_project(grp):\n",
    "        return any([\"non-ISO\" not in region for region in grp])\n",
    "    \n",
    "    def get_primary_iso(grp):\n",
    "        # There are 16 counties that have equal number of projects in multiple regions. Select the first one\n",
    "        return grp.mode().head(1)\n",
    "\n",
    "    agg_df = df.groupby(\"county_id_fips\").agg(\n",
    "        has_iso_project=pd.NamedAgg(column=\"iso_region\", aggfunc=contains_iso_project),\n",
    "        primary_iso_region=pd.NamedAgg(column=\"iso_region\", aggfunc=get_primary_iso),\n",
    "        capacity_mw=pd.NamedAgg(column=\"capacity_mw\", aggfunc=\"sum\")\n",
    "    )\n",
    "    \n",
    "    def agg_actionable_mw(grp_df):\n",
    "        return grp_df[grp_df.is_actionable].capacity_mw.sum()\n",
    "\n",
    "    def agg_certain_mw(grp_df):\n",
    "        return grp_df[grp_df.is_nearly_certain].capacity_mw.sum()\n",
    "\n",
    "\n",
    "    agg_df[\"actionable_capacity_mw\"] = df.groupby(\"county_id_fips\").apply(agg_actionable_mw)\n",
    "    agg_df[\"nearly_certain_capacity_mw\"] = df.groupby(\"county_id_fips\").apply(agg_certain_mw)\n",
    "    \n",
    "    agg_df[\"actionable_n_projects\"] = df.groupby(\"county_id_fips\").is_actionable.sum()\n",
    "    agg_df[\"nearly_certain_n_projects\"] = df.groupby(\"county_id_fips\").is_nearly_certain.count()\n",
    "    return agg_df.reset_index()\n",
    "\n",
    "new_projects_counties = aggregate_iso_projects_by_count(new_projects)\n",
    "old_projects_counties = aggregate_iso_projects_by_count(old_projects)"
   ]
  },
  {
   "cell_type": "code",
   "execution_count": null,
   "id": "5a802f57-e9c4-46a0-babb-36d586db0fb5",
   "metadata": {},
   "outputs": [],
   "source": [
    "old_projects_counties.query(\"actionable_capacity_mw > 0 & nearly_certain_capacity_mw > 0\")"
   ]
  },
  {
   "cell_type": "code",
   "execution_count": null,
   "id": "17c93489-f003-4b2d-94d5-c0e34c5045dd",
   "metadata": {},
   "outputs": [],
   "source": [
    "new_projects_counties.query(\"actionable_capacity_mw > 0 & nearly_certain_capacity_mw > 0\")"
   ]
  },
  {
   "cell_type": "markdown",
   "id": "44d2ab53-6b17-40b6-b294-ba8654f59a66",
   "metadata": {},
   "source": [
    "## Number of counties with projects"
   ]
  },
  {
   "cell_type": "code",
   "execution_count": null,
   "id": "9d42e25e-8366-4326-98c1-384f2f34b1bf",
   "metadata": {},
   "outputs": [],
   "source": [
    "n_counties_with_projects_in_new_not_in_old = len(set(new_projects_counties.county_id_fips) - set(old_projects_counties.county_id_fips))\n",
    "n_counties_with_projects_in_old_not_in_new = len(set(old_projects_counties.county_id_fips) - set(new_projects_counties.county_id_fips))\n",
    "\n",
    "print(n_counties_with_projects_in_new_not_in_old)\n",
    "print(n_counties_with_projects_in_old_not_in_new)"
   ]
  },
  {
   "cell_type": "code",
   "execution_count": null,
   "id": "c07c6cbf-4989-47f3-81f9-6a7ff08a30fe",
   "metadata": {},
   "outputs": [],
   "source": [
    "print(len(old_projects_counties))\n",
    "print(len(new_projects_counties))"
   ]
  },
  {
   "cell_type": "markdown",
   "id": "0f5303c5-9af8-4536-8644-b03d368e22f0",
   "metadata": {},
   "source": [
    "## Make sure counties that don't have any ISO projects capacity remain unchanged"
   ]
  },
  {
   "cell_type": "code",
   "execution_count": null,
   "id": "aeb284db-416f-494d-a7ce-19f0357c05ae",
   "metadata": {},
   "outputs": [],
   "source": [
    "project_counties = old_projects_counties.merge(new_projects_counties, on=\"county_id_fips\", how=\"outer\", validate=\"1:1\", suffixes=(\"_old\", \"_new\"))"
   ]
  },
  {
   "cell_type": "code",
   "execution_count": null,
   "id": "6cee0549-f231-4e68-a5a1-e0626ff515b4",
   "metadata": {},
   "outputs": [],
   "source": [
    "project_counties[\"has_iso_project_old\"] = project_counties.has_iso_project_old.astype(\"boolean\")\n",
    "project_counties[\"has_iso_project_new\"] = project_counties.has_iso_project_new.astype(\"boolean\")"
   ]
  },
  {
   "cell_type": "code",
   "execution_count": null,
   "id": "63a8a454-0bfc-4543-82d8-040a023c5cc8",
   "metadata": {},
   "outputs": [],
   "source": [
    "print((~project_counties.has_iso_project_old).value_counts())\n",
    "print()\n",
    "print((~project_counties.has_iso_project_new).value_counts())"
   ]
  },
  {
   "cell_type": "markdown",
   "id": "eded13f5-0897-4700-bf09-009c44c86a23",
   "metadata": {},
   "source": [
    "Pretty similar number of counties that don't have any ISO projects. Lets plot them to make sure it makes sense with the ISO boundaries."
   ]
  },
  {
   "cell_type": "code",
   "execution_count": null,
   "id": "ea8dc6eb-38c4-4689-86c7-098d093d7e64",
   "metadata": {},
   "outputs": [],
   "source": [
    "is_county_without_iso_projects = (~project_counties.has_iso_project_new) & (~project_counties.has_iso_project_old)\n",
    "print(is_county_without_iso_projects.value_counts())\n",
    "\n",
    "counties_without_iso_projects = project_counties[is_county_without_iso_projects]"
   ]
  },
  {
   "cell_type": "code",
   "execution_count": null,
   "id": "71769541-b078-45b1-be27-05b40735fbca",
   "metadata": {},
   "outputs": [],
   "source": [
    "import plotly.offline as pyo\n",
    "pyo.init_notebook_mode()\n",
    "\n",
    "# https://stackoverflow.com/questions/52771328/plotly-chart-not-showing-in-jupyter-notebook\n",
    "from urllib.request import urlopen\n",
    "import json\n",
    "with urlopen('https://raw.githubusercontent.com/plotly/datasets/master/geojson-counties-fips.json') as response:\n",
    "    counties = json.load(response)\n",
    "\n",
    "\n",
    "import plotly.express as px\n",
    "\n",
    "fig = px.choropleth(counties_without_iso_projects, geojson=counties, locations='county_id_fips', color='has_iso_project_new',\n",
    "                           color_continuous_scale=\"RdYlGn\",\n",
    "                           range_color=(-4, 4),\n",
    "                           scope=\"usa\",\n",
    "                           labels={'has_iso_project_new': \"Counties that don't have any ISO projects in new and old data\"},\n",
    "                          )\n",
    "fig.update_layout(margin={\"r\":0,\"t\":0,\"l\":0,\"b\":0})\n"
   ]
  },
  {
   "cell_type": "markdown",
   "id": "37c05446-e4aa-4129-997c-4b46892d44db",
   "metadata": {},
   "source": [
    "Great! That rougly aligns with [ISO borders](https://hifld-geoplatform.opendata.arcgis.com/datasets/50f80920d36e435d9a34db2bd0fd3ad8/explore?location=32.163459%2C-97.519448%2C5.23)."
   ]
  },
  {
   "cell_type": "code",
   "execution_count": null,
   "id": "9d1573b9-912f-4389-a305-c2d710f4fdc3",
   "metadata": {},
   "outputs": [],
   "source": [
    "assert (counties_without_iso_projects.capacity_mw_old.eq(counties_without_iso_projects.capacity_mw_new)).all(), \"Capacity in counties without ISO projects has changed!\""
   ]
  },
  {
   "cell_type": "markdown",
   "id": "8db021e8-a705-4185-89a3-cd2209c8f1fe",
   "metadata": {},
   "source": [
    "## Compare overall capacity between new and old data amongst counties with ISO projecdts"
   ]
  },
  {
   "cell_type": "code",
   "execution_count": null,
   "id": "0d673028-d8f7-4fb0-96fc-8e3414bf7eac",
   "metadata": {},
   "outputs": [],
   "source": [
    "is_county_with_iso_projects = project_counties.has_iso_project_new | project_counties.has_iso_project_old\n",
    "print(is_county_with_iso_projects.value_counts())\n",
    "\n",
    "counties_with_iso_projects = project_counties[is_county_with_iso_projects].copy()"
   ]
  },
  {
   "cell_type": "code",
   "execution_count": null,
   "id": "ebe10ba7-a880-4791-9310-d68fd4e7b9eb",
   "metadata": {},
   "outputs": [],
   "source": [
    "counties_with_iso_projects[\"capacity_mw_diff\"] = (counties_with_iso_projects.capacity_mw_new - counties_with_iso_projects.capacity_mw_old)\n",
    "counties_with_iso_projects[\"capacity_mw_pct_change\"] = (counties_with_iso_projects[\"capacity_mw_diff\"] / counties_with_iso_projects.capacity_mw_old) * 100"
   ]
  },
  {
   "cell_type": "code",
   "execution_count": null,
   "id": "cea8bf6d-146e-498d-ae68-3a7fb54854dc",
   "metadata": {},
   "outputs": [],
   "source": [
    "print(counties_with_iso_projects.capacity_mw_diff.describe())\n",
    "print()\n",
    "counties_with_iso_projects.capacity_mw_diff.plot.box()"
   ]
  },
  {
   "cell_type": "code",
   "execution_count": null,
   "id": "be3a9ead-a0b2-43c6-9299-b00a0d8db3e9",
   "metadata": {},
   "outputs": [],
   "source": [
    "counties_with_iso_projects.groupby(\"primary_iso_region_new\").capacity_mw_diff.describe()"
   ]
  },
  {
   "cell_type": "code",
   "execution_count": null,
   "id": "25cf8753-b9fa-4be1-bfbe-7d30bd4ae8fa",
   "metadata": {},
   "outputs": [],
   "source": [
    "print(counties_with_iso_projects.capacity_mw_pct_change.abs().describe())\n",
    "print()\n",
    "counties_with_iso_projects.capacity_mw_pct_change.abs().plot.box()"
   ]
  },
  {
   "cell_type": "markdown",
   "id": "48843c63-dddd-4a03-b94a-bcfda6731446",
   "metadata": {},
   "source": [
    "Somewhat reasonable numbers. 50% of counties capacity changed by no more than 11%. 75% of counties capacity changed by no more than 38%. "
   ]
  },
  {
   "cell_type": "code",
   "execution_count": null,
   "id": "b06925ca-450c-43fe-b4ec-9f3d9cc5eded",
   "metadata": {},
   "outputs": [],
   "source": [
    "counties_with_iso_projects.primary_iso_region_new.apply(type).value_counts()"
   ]
  },
  {
   "cell_type": "code",
   "execution_count": null,
   "id": "a51288eb-571b-4318-8357-266a651fabaa",
   "metadata": {},
   "outputs": [],
   "source": [
    "counties_with_iso_projects.boxplot(column='capacity_mw_pct_change', by='primary_iso_region_new', grid=False)\n",
    "\n"
   ]
  },
  {
   "cell_type": "code",
   "execution_count": null,
   "id": "32db4dde-8c58-49d8-856f-7764e60b87b3",
   "metadata": {},
   "outputs": [],
   "source": [
    "counties_with_iso_projects[\"capacity_mw_abs_pct_change\"] = counties_with_iso_projects.capacity_mw_pct_change.abs()\n",
    "\n",
    "counties_with_iso_projects.groupby(\"primary_iso_region_new\").capacity_mw_pct_change.describe()"
   ]
  },
  {
   "cell_type": "markdown",
   "id": "6ea0a3c2-d594-4235-9d23-b93b96bd780d",
   "metadata": {},
   "source": [
    "- Looks like CAISO took an unexpected drop across the board. Probably because of the one to many relationship?\n",
    "- ERCOT also took a drop. Not sure why. Variability could be explained by the 4 month delay of the data.\n",
    "- It looks like ISONE generally increased which kind of makes sense given we have a whole other year of data for this ISO.\n",
    "- MISO's distribution suggests it mostly went unchaned. Variability could be explained by the 4 month delay of the data.\n",
    "- NYISO distribution suggests it mostly went unchaned. Variability could be explained by the 4 month delay of the data.\n",
    "- PJM distribution suggests it mostly went unchaned. Variability could be explained by the 4 month delay of the data.\n",
    "- Capacity change in SPP has a pretty wide distribution which could be explained by the additional year of data. "
   ]
  },
  {
   "cell_type": "code",
   "execution_count": null,
   "id": "fa155859-95de-42ea-a55d-a0c2d4682af6",
   "metadata": {},
   "outputs": [],
   "source": [
    "fig = px.choropleth(counties_with_iso_projects, geojson=counties, locations='county_id_fips', color='capacity_mw_pct_change',\n",
    "                           color_continuous_scale=\"RdYlGn\",\n",
    "                           range_color=(-100, 100),\n",
    "                           scope=\"usa\",\n",
    "                           labels={'capacity_mw_pct_change': \"Capcity MW % change between old and new data\"},\n",
    "                          )\n",
    "fig.update_layout(margin={\"r\":0,\"t\":0,\"l\":0,\"b\":0})"
   ]
  },
  {
   "cell_type": "markdown",
   "id": "ceeb7733-818c-495d-aceb-22acd0d7a5f4",
   "metadata": {},
   "source": [
    "## Compare **actionable** capacity between new and old data amongst counties with ISO projecdts"
   ]
  },
  {
   "cell_type": "code",
   "execution_count": null,
   "id": "51a9c92b-2bac-45b2-9e2c-3e6f5439b781",
   "metadata": {},
   "outputs": [],
   "source": [
    "counties_with_iso_projects[\"actionable_capacity_mw_diff\"] = (counties_with_iso_projects.actionable_capacity_mw_new - counties_with_iso_projects.actionable_capacity_mw_old)\n",
    "counties_with_iso_projects[\"actionable_capacity_mw_diff_pct_change\"] = (counties_with_iso_projects[\"actionable_capacity_mw_diff\"] / counties_with_iso_projects.actionable_capacity_mw_old) * 100"
   ]
  },
  {
   "cell_type": "code",
   "execution_count": null,
   "id": "e28f4038-3b56-4128-bc05-8d4d227a7cfb",
   "metadata": {},
   "outputs": [],
   "source": [
    "print(counties_with_iso_projects.actionable_capacity_mw_diff.describe())\n",
    "print()\n",
    "counties_with_iso_projects.actionable_capacity_mw_diff.plot.box()"
   ]
  },
  {
   "cell_type": "code",
   "execution_count": null,
   "id": "05fe5816-6447-4d2a-b9f9-2c7edc639697",
   "metadata": {},
   "outputs": [],
   "source": [
    "print(counties_with_iso_projects.actionable_capacity_mw_diff_pct_change.abs().describe())\n",
    "print()\n",
    "counties_with_iso_projects.actionable_capacity_mw_diff_pct_change.abs().plot.box()"
   ]
  },
  {
   "cell_type": "code",
   "execution_count": null,
   "id": "e0d75223-5d5d-44d3-9768-90497fe83372",
   "metadata": {},
   "outputs": [],
   "source": [
    "counties_with_iso_projects.groupby(\"primary_iso_region_new\").actionable_capacity_mw_diff_pct_change.describe()"
   ]
  },
  {
   "cell_type": "markdown",
   "id": "94852f7b-720d-4ea1-aae0-5a7ef99ae87c",
   "metadata": {},
   "source": [
    "- Are we marking anything as actionable in CAISO?"
   ]
  },
  {
   "cell_type": "code",
   "execution_count": null,
   "id": "19496362-cd19-46ee-a4ed-9f9a9e3230fb",
   "metadata": {},
   "outputs": [],
   "source": [
    "fig = px.choropleth(counties_with_iso_projects, geojson=counties, locations='county_id_fips', color='actionable_capacity_mw_diff_pct_change',\n",
    "                           color_continuous_scale=\"RdYlGn\",\n",
    "                           range_color=(-100, 100),\n",
    "                           scope=\"usa\",\n",
    "                           labels={'actionable_capacity_mw_diff_pct_change': \"Actionable Capacity MW % change\"},\n",
    "                          )\n",
    "fig.update_layout(margin={\"r\":0,\"t\":0,\"l\":0,\"b\":0})\n"
   ]
  },
  {
   "cell_type": "markdown",
   "id": "1399d91f-f4b9-40f9-9145-211cc4527dee",
   "metadata": {},
   "source": [
    "Looks like we are not categorizing CAISO project correctly given all counties had dramatically decreases in actionable capacity. other regions it's kind of a mixed bag. Given the new and old data contains data from different time periods it's hard to tell if we are incorrectly categorizing the projects or if the number of projects changed. I think we need to compare at the project level."
   ]
  },
  {
   "cell_type": "code",
   "execution_count": null,
   "id": "9f181e92-6642-4447-865b-0c50f36821f0",
   "metadata": {},
   "outputs": [],
   "source": [
    "counties_with_iso_projects[\"actionable_n_projects_diff\"] = (counties_with_iso_projects.actionable_n_projects_new - counties_with_iso_projects.actionable_n_projects_old)\n",
    "counties_with_iso_projects[\"actionable_n_projects_diff_pct_change\"] = (counties_with_iso_projects[\"actionable_n_projects_diff\"] / counties_with_iso_projects.actionable_n_projects_old) * 100\n",
    "\n",
    "print(counties_with_iso_projects.actionable_n_projects_diff_pct_change.describe())\n",
    "print()\n",
    "counties_with_iso_projects.actionable_n_projects_diff_pct_change.plot.box()"
   ]
  },
  {
   "cell_type": "code",
   "execution_count": null,
   "id": "ac935191-c47b-425a-ba44-400c296530b8",
   "metadata": {},
   "outputs": [],
   "source": [
    "fig = px.choropleth(counties_with_iso_projects, geojson=counties, locations='county_id_fips', color='actionable_n_projects_diff_pct_change',\n",
    "                           color_continuous_scale=\"RdYlGn\",\n",
    "                           range_color=(-100, 100),\n",
    "                           scope=\"usa\",\n",
    "                           labels={'actionable_n_projects_diff_pct_change': \"Counties that don't have any ISO projects in new and old data\"},\n",
    "                          )\n",
    "fig.update_layout(margin={\"r\":0,\"t\":0,\"l\":0,\"b\":0})\n"
   ]
  },
  {
   "cell_type": "markdown",
   "id": "f783c0b5-1955-40a2-b362-9929224b2fb3",
   "metadata": {},
   "source": [
    "### Compare nearly certain capacity"
   ]
  },
  {
   "cell_type": "code",
   "execution_count": null,
   "id": "a19ac690-a89a-4e0a-931c-94eaa6bce42a",
   "metadata": {},
   "outputs": [],
   "source": [
    "counties_with_iso_projects[\"nearly_certain_capacity_mw_diff\"] = (counties_with_iso_projects.nearly_certain_capacity_mw_new - counties_with_iso_projects.nearly_certain_capacity_mw_old)\n",
    "counties_with_iso_projects[\"nearly_certain_capacity_mw_diff_pct_change\"] = (counties_with_iso_projects[\"nearly_certain_capacity_mw_diff\"] / counties_with_iso_projects.nearly_certain_capacity_mw_old) * 100"
   ]
  },
  {
   "cell_type": "code",
   "execution_count": null,
   "id": "8a40792a-5c01-4e94-8aa8-c620c5a1b2aa",
   "metadata": {},
   "outputs": [],
   "source": [
    "print(counties_with_iso_projects.nearly_certain_capacity_mw_diff.describe())\n",
    "print()\n",
    "counties_with_iso_projects.nearly_certain_capacity_mw_diff.plot.box()"
   ]
  },
  {
   "cell_type": "code",
   "execution_count": null,
   "id": "3b1aade9-2e11-4001-ad32-5f4e46658152",
   "metadata": {},
   "outputs": [],
   "source": [
    "counties_with_iso_projects.nearly_certain_capacity_mw_diff.isna().value_counts()"
   ]
  },
  {
   "cell_type": "code",
   "execution_count": null,
   "id": "7e6137cc-65fd-4626-9546-eed4d98bb004",
   "metadata": {},
   "outputs": [],
   "source": [
    "counties_with_iso_projects[[\"nearly_certain_capacity_mw_diff\", \"nearly_certain_capacity_mw_new\", \"nearly_certain_capacity_mw_old\"]].sample(10)"
   ]
  },
  {
   "cell_type": "code",
   "execution_count": null,
   "id": "b6f7c174-8f17-435d-86e9-060bca4f26a2",
   "metadata": {},
   "outputs": [],
   "source": [
    "counties_with_iso_projects.nearly_certain_capacity_mw_diff / counties_with_iso_projects.nearly_certain_capacity_mw_old"
   ]
  },
  {
   "cell_type": "code",
   "execution_count": null,
   "id": "a16cd668-3570-4a19-aa2d-63b227506523",
   "metadata": {},
   "outputs": [],
   "source": [
    "print(counties_with_iso_projects.nearly_certain_capacity_mw_diff_pct_change.fillna(0).describe())\n",
    "print()\n",
    "counties_with_iso_projects.nearly_certain_capacity_mw_diff_pct_change.plot.box()"
   ]
  },
  {
   "cell_type": "code",
   "execution_count": null,
   "id": "6bb81714-8b9b-43eb-ae6e-23ebd6c9c436",
   "metadata": {},
   "outputs": [],
   "source": [
    "counties_with_iso_projects.groupby(\"primary_iso_region_new\").nearly_certain_capacity_mw_diff_pct_change.fillna(0).describe()"
   ]
  },
  {
   "cell_type": "code",
   "execution_count": null,
   "id": "901ad58b-5712-4a2e-847d-8fefc3df7ca3",
   "metadata": {},
   "outputs": [],
   "source": [
    "fig = px.choropleth(counties_with_iso_projects, geojson=counties, locations='county_id_fips', color='nearly_certain_capacity_mw_diff_pct_change',\n",
    "                           color_continuous_scale=\"RdYlGn\",\n",
    "                           range_color=(-100, 100),\n",
    "                           scope=\"usa\",\n",
    "                           labels={'nearly_certain_capacity_mw_diff_pct_change': \"Counties that don't have any ISO projects in new and old data\"},\n",
    "                          )\n",
    "fig.update_layout(margin={\"r\":0,\"t\":0,\"l\":0,\"b\":0})\n"
   ]
  },
  {
   "cell_type": "markdown",
   "id": "2dbf3b04-09a5-4927-b561-69565297f247",
   "metadata": {},
   "source": [
    "Jeez really miscategorizing nearly certain projects across the board."
   ]
  },
  {
   "cell_type": "markdown",
   "id": "c8ec8d7f-b3e4-40bd-ba38-bfe63a0829fa",
   "metadata": {},
   "source": [
    "## (WIP) Compare projects\n",
    "I'm not sure if merging on queue_id and iso_region is the way to go."
   ]
  },
  {
   "cell_type": "code",
   "execution_count": null,
   "id": "dc630c0e-797a-4662-802d-d6e9b7768bfd",
   "metadata": {},
   "outputs": [],
   "source": [
    "print(new_projects[[\"queue_id\", \"iso_region\"]].duplicated().value_counts())\n",
    "print(old_projects[[\"queue_id\", \"iso_region\"]].duplicated().value_counts())"
   ]
  },
  {
   "cell_type": "code",
   "execution_count": null,
   "id": "76753fae-85d0-43a5-9071-933fa2e5a948",
   "metadata": {},
   "outputs": [],
   "source": [
    "old_projects[old_projects[[\"queue_id\", \"iso_region\"]].duplicated()].iso_region.value_counts()"
   ]
  },
  {
   "cell_type": "code",
   "execution_count": null,
   "id": "4269ef4a-a6c8-495e-ab61-2a46e1f5e342",
   "metadata": {},
   "outputs": [],
   "source": [
    "merged_projects = new_projects.merge(old_projects, how=\"outer\", on=[\"queue_id\", \"iso_region\"], suffixes=(\"_new\", \"_old\"))"
   ]
  },
  {
   "cell_type": "code",
   "execution_count": null,
   "id": "11ac452d-3c41-4133-8acb-de6bd981d1a0",
   "metadata": {},
   "outputs": [],
   "source": [
    "(merged_projects.is_nearly_certain_new & merged_projects.is_nearly_certain_old).value_counts()"
   ]
  },
  {
   "cell_type": "code",
   "execution_count": null,
   "id": "aeaf39c9-0038-4349-8b05-8a1c24504313",
   "metadata": {},
   "outputs": [],
   "source": [
    "merged_projects[\"is_nearly_certain_both\"] = merged_projects.is_nearly_certain_new.eq(merged_projects.is_nearly_certain_old)\n",
    "merged_projects[\"is_actionable_both\"] = merged_projects.is_actionable_new.eq(merged_projects.is_actionable_old)\n",
    "print(is_nearly_certain_both.value_counts())"
   ]
  },
  {
   "cell_type": "code",
   "execution_count": null,
   "id": "e537912f-6fa3-473e-aa6d-3e59c5d11905",
   "metadata": {},
   "outputs": [],
   "source": [
    "merged_projects[[\"is_actionable_new\", \"is_actionable_old\", \"is_actionable_both\"]]"
   ]
  },
  {
   "cell_type": "code",
   "execution_count": null,
   "id": "86a91946-fc5f-4cd9-8023-430b4083e931",
   "metadata": {},
   "outputs": [],
   "source": [
    "ercot = merged_projects.query(\"iso_region == 'ERCOT'\")\n",
    "print(ercot.is_nearly_certain_both.sum() / len(ercot))\n",
    "print(ercot.is_actionable_both.sum() / len(ercot))"
   ]
  },
  {
   "cell_type": "code",
   "execution_count": null,
   "id": "cbc45511-7912-4b73-8883-ef4b1ec955bb",
   "metadata": {},
   "outputs": [],
   "source": [
    "ercot"
   ]
  },
  {
   "cell_type": "code",
   "execution_count": null,
   "id": "bb24d4ea-cb7e-419c-b182-6e47fda91c6e",
   "metadata": {},
   "outputs": [],
   "source": []
  },
  {
   "cell_type": "code",
   "execution_count": null,
   "id": "706ecb64-51ea-43bd-8fd9-23d3bef5d3f3",
   "metadata": {},
   "outputs": [],
   "source": [
    "((merged_projects.groupby(\"iso_region\").is_nearly_certain_both.sum() / merged_projects.groupby(\"iso_region\").is_nearly_certain_both.count()) * 100).sort_values()"
   ]
  },
  {
   "cell_type": "code",
   "execution_count": null,
   "id": "3d10f5d8-5cb0-4110-bfbb-218b7f56dc10",
   "metadata": {},
   "outputs": [],
   "source": [
    "merged_projects[\"is_actionable_both\"] = merged_projects.is_actionable_new.eq(merged_projects.is_actionable_old)\n",
    "\n",
    "((merged_projects.groupby(\"iso_region\").is_actionable_both.sum() / merged_projects.groupby(\"iso_region\").is_actionable_both.count()) * 100).sort_values()"
   ]
  },
  {
   "cell_type": "code",
   "execution_count": null,
   "id": "c1025b7e-b9a0-4e63-a629-000968190938",
   "metadata": {},
   "outputs": [],
   "source": [
    "merged_projects.query(\"iso_region == 'SPP'\")[[\"is_nearly_certain_new\", \"is_nearly_certain_old\"]]"
   ]
  },
  {
   "cell_type": "markdown",
   "id": "daa37fff-e7da-444d-8b68-296295375f65",
   "metadata": {},
   "source": [
    "- ISONE and IS-ONE aren't merging correctly\n",
    "- I'm worried queue_id and iso_region isn't the correct way to merge these together."
   ]
  },
  {
   "cell_type": "code",
   "execution_count": null,
   "id": "fd9784f5-f408-4d6c-85f3-1d9a2bedb81d",
   "metadata": {},
   "outputs": [],
   "source": []
  },
  {
   "cell_type": "code",
   "execution_count": null,
   "id": "0fcefbd7-769a-4fc6-ab02-e82c5c5d6aaf",
   "metadata": {},
   "outputs": [],
   "source": []
  },
  {
   "cell_type": "code",
   "execution_count": null,
   "id": "3f8c61dc-809b-40d2-a4f7-5a4fb31036be",
   "metadata": {},
   "outputs": [],
   "source": []
  },
  {
   "cell_type": "code",
   "execution_count": null,
   "id": "0e8c1339-d134-4fe2-a493-b618cc0fb0a0",
   "metadata": {},
   "outputs": [],
   "source": []
  },
  {
   "cell_type": "code",
   "execution_count": null,
   "id": "b5fcdead-d8b2-40b7-813a-ec41f0726efa",
   "metadata": {},
   "outputs": [],
   "source": []
  },
  {
   "cell_type": "code",
   "execution_count": null,
   "id": "794b1c33-2146-48d0-9fd1-72f2d7af140b",
   "metadata": {},
   "outputs": [],
   "source": []
  },
  {
   "cell_type": "code",
   "execution_count": null,
   "id": "fc47a6a8-127f-47ff-9bf3-18eb781d938f",
   "metadata": {},
   "outputs": [],
   "source": []
  },
  {
   "cell_type": "code",
   "execution_count": null,
   "id": "0d1f274a-628a-4290-83fe-9a3857ac6c24",
   "metadata": {},
   "outputs": [],
   "source": [
    "merged_projects[is_nearly_certain_both].iso_region.value_counts()"
   ]
  },
  {
   "cell_type": "code",
   "execution_count": null,
   "id": "557015ea-b7b4-4294-b018-27146fc94cd0",
   "metadata": {},
   "outputs": [],
   "source": [
    "merged_projects[~is_nearly_certain_both].iso_region.value_counts()"
   ]
  },
  {
   "cell_type": "code",
   "execution_count": null,
   "id": "378df54d-0d94-48ed-8adf-a667e1cd9575",
   "metadata": {},
   "outputs": [],
   "source": []
  },
  {
   "cell_type": "code",
   "execution_count": null,
   "id": "0f3d0ca0-0b3a-492d-8362-998b606179ed",
   "metadata": {},
   "outputs": [],
   "source": []
  },
  {
   "cell_type": "code",
   "execution_count": null,
   "id": "25324184-5d02-46a2-8aa2-a4e80c086d74",
   "metadata": {},
   "outputs": [],
   "source": []
  },
  {
   "cell_type": "code",
   "execution_count": null,
   "id": "680154df-6463-4948-a959-6cc41ffe7bbb",
   "metadata": {},
   "outputs": [],
   "source": []
  },
  {
   "cell_type": "code",
   "execution_count": null,
   "id": "8702e954-a4a8-49b7-9ea3-edcbeb3b8dec",
   "metadata": {},
   "outputs": [],
   "source": [
    "counties_wide = old_counties_wide.merge(new_counties_wide, on=\"county_id_fips\", how=\"left\", suffixes=('_old', '_new'))"
   ]
  },
  {
   "cell_type": "code",
   "execution_count": null,
   "id": "2442e7c5-5ef9-4bd1-9d46-cf62b2af88e2",
   "metadata": {},
   "outputs": [],
   "source": [
    "counties_wide"
   ]
  },
  {
   "cell_type": "code",
   "execution_count": null,
   "id": "69928d3d-e74c-4633-ba80-2a41d4c0b4d3",
   "metadata": {
    "tags": []
   },
   "outputs": [],
   "source": [
    "old_counties_wide.info(verbose=True)"
   ]
  },
  {
   "cell_type": "code",
   "execution_count": null,
   "id": "b7087594-13c9-4068-9690-36486916813d",
   "metadata": {
    "tags": []
   },
   "outputs": [],
   "source": [
    "for version in (\"old\", \"new\"):\n",
    "    col = f\"renewable_and_battery_proposed_capacity_mw_{version}\"\n",
    "    print(counties_wide[col].isna().value_counts())\n",
    "    print()\n",
    "    "
   ]
  },
  {
   "cell_type": "code",
   "execution_count": null,
   "id": "909dd786-1ee8-4c16-a435-7a9b2b20d9e3",
   "metadata": {},
   "outputs": [],
   "source": [
    "new_has_capacity = ~counties_wide.renewable_and_battery_proposed_capacity_mw_new.isna()\n",
    "old_has_capacity = ~counties_wide.renewable_and_battery_proposed_capacity_mw_old.isna()\n",
    "\n",
    "counties_wide[\"capacity_in_old_none_in_new\"] = new_has_capacity\n",
    "counties_wide[\"capacity_in_new_none_in_old\"] = old_has_capacity\n",
    "\n",
    "# print(f\"Counties that have renewable capacity in both LBNL and GS data:\\n{(old_has_capacity & new_has_capacity).value_counts()}\")\n",
    "# print()\n",
    "# print(f\"Counties that have renewable capacity in LBNL and NOT in GS data:\\n{(old_has_capacity & ~new_has_capacity).value_counts()}\")\n",
    "# print()\n",
    "# print(f\"Counties that have renewable capacity NOT in LBNL and in GS data:\\n{(~old_has_capacity & new_has_capacity).value_counts()}\")"
   ]
  },
  {
   "cell_type": "code",
   "execution_count": null,
   "id": "3ea05152-5ea4-49c5-8650-d525be69265d",
   "metadata": {},
   "outputs": [],
   "source": [
    "set((\"a\", \"b\")) - set((\"b\", \"c\"))"
   ]
  },
  {
   "cell_type": "code",
   "execution_count": null,
   "id": "f6ec376a-fa29-4668-9961-b1c3d0bf3831",
   "metadata": {},
   "outputs": [],
   "source": [
    "county_id_fips_with_capacity_in_old = set(counties_wide[old_has_capacity].county_id_fips)\n",
    "county_id_fips_with_capacity_in_new = set(counties_wide[new_has_capacity].county_id_fips)\n",
    "\n",
    "counties_capacity_removed = county_id_fips_with_capacity_in_old - county_id_fips_with_capacity_in_new\n",
    "counties_capacity_added = county_id_fips_with_capacity_in_new - county_id_fips_with_capacity_in_old"
   ]
  },
  {
   "cell_type": "code",
   "execution_count": null,
   "id": "50d508d9-c506-44a3-a631-117691341ff3",
   "metadata": {},
   "outputs": [],
   "source": [
    "counties_wide[\"counties_capacity_removed\"] = counties_wide.county_id_fips.isin(counties_capacity_removed)\n",
    "counties_wide[\"counties_capacity_added\"] = counties_wide.county_id_fips.isin(counties_capacity_added)"
   ]
  },
  {
   "cell_type": "code",
   "execution_count": null,
   "id": "3ee54800-e365-444e-a129-c62f30184f2c",
   "metadata": {},
   "outputs": [],
   "source": [
    "import plotly.offline as pyo\n",
    "pyo.init_notebook_mode()\n",
    "\n",
    "# https://stackoverflow.com/questions/52771328/plotly-chart-not-showing-in-jupyter-notebook\n",
    "from urllib.request import urlopen\n",
    "import json\n",
    "with urlopen('https://raw.githubusercontent.com/plotly/datasets/master/geojson-counties-fips.json') as response:\n",
    "    counties = json.load(response)\n",
    "\n",
    "\n",
    "import plotly.express as px\n",
    "\n",
    "fig = px.choropleth(counties_wide, geojson=counties, locations='county_id_fips', color='counties_capacity_removed',\n",
    "                           color_continuous_scale=\"RdYlGn\",\n",
    "                           range_color=(-4, 4),\n",
    "                           scope=\"usa\",\n",
    "                           labels={'counties_capacity_removed': \"Counties that had renewable capacity in old version but don't in new versoin\"},\n",
    "                          )\n",
    "fig.update_layout(margin={\"r\":0,\"t\":0,\"l\":0,\"b\":0})\n"
   ]
  },
  {
   "cell_type": "code",
   "execution_count": null,
   "id": "e83f379f-c5cc-47a5-9591-56b9f0ddcc2d",
   "metadata": {},
   "outputs": [],
   "source": [
    "fig = px.choropleth(counties_wide, geojson=counties, locations='county_id_fips', color='counties_capacity_added',\n",
    "                           color_continuous_scale=\"RdYlGn\",\n",
    "                           range_color=(-4, 4),\n",
    "                           scope=\"usa\",\n",
    "                           labels={'counties_capacity_added': \"Counties that had renewable capacity in new version but don't in old versoin\"},\n",
    "                          )\n",
    "fig.update_layout(margin={\"r\":0,\"t\":0,\"l\":0,\"b\":0})\n"
   ]
  },
  {
   "cell_type": "code",
   "execution_count": null,
   "id": "6de36b6c-e2ab-4fb8-b6a2-746045bcebc1",
   "metadata": {},
   "outputs": [],
   "source": [
    "counties_wide[\"renewable_and_battery_proposed_capacity_mw_diff\"] = counties_wide[\"renewable_and_battery_proposed_capacity_mw_new\"] - counties_wide[\"renewable_and_battery_proposed_capacity_mw_old\"]\n",
    "counties_wide[\"renewable_and_battery_proposed_capacity_mw_pct_change\"] = counties_wide[\"renewable_and_battery_proposed_capacity_mw_diff\"] / counties_wide[\"renewable_and_battery_proposed_capacity_mw_old\"]"
   ]
  },
  {
   "cell_type": "code",
   "execution_count": null,
   "id": "1d794912-ddfb-4b2e-8f7a-08513f32c9a2",
   "metadata": {},
   "outputs": [],
   "source": [
    "counties_wide[\"renewable_and_battery_proposed_capacity_mw_diff\"].plot.box()"
   ]
  },
  {
   "cell_type": "code",
   "execution_count": null,
   "id": "83075b35-5992-4f0e-828a-8544a7cb0996",
   "metadata": {},
   "outputs": [],
   "source": [
    "counties_wide[\"renewable_and_battery_proposed_capacity_mw_pct_change\"].plot.box()"
   ]
  },
  {
   "cell_type": "code",
   "execution_count": null,
   "id": "3d6ab3cd-44e6-405a-a00d-5714d996347f",
   "metadata": {},
   "outputs": [],
   "source": [
    "fig = px.choropleth(counties_wide, geojson=counties, locations='county_id_fips', color='renewable_and_battery_proposed_capacity_mw_pct_change',\n",
    "                           color_continuous_scale=\"RdYlGn\",\n",
    "                           range_color=(-4, 4),\n",
    "                           scope=\"usa\",\n",
    "                           labels={'renewable_and_battery_proposed_capacity_mw_pct_change': \"Counties that had renewable capacity in new version but don't in old versoin\"},\n",
    "                          )\n",
    "fig.update_layout(margin={\"r\":0,\"t\":0,\"l\":0,\"b\":0})\n"
   ]
  },
  {
   "cell_type": "code",
   "execution_count": null,
   "id": "5976b52c-0613-4616-bc29-1e419bac0188",
   "metadata": {},
   "outputs": [],
   "source": []
  },
  {
   "cell_type": "code",
   "execution_count": null,
   "id": "1ee45700-aef2-4ba1-b25b-fa7626a786bd",
   "metadata": {},
   "outputs": [],
   "source": []
  },
  {
   "cell_type": "code",
   "execution_count": null,
   "id": "38e277d9-0f3d-4644-a273-07f7e8272f13",
   "metadata": {},
   "outputs": [],
   "source": []
  },
  {
   "cell_type": "code",
   "execution_count": null,
   "id": "a26f9e7d-aa9c-4a40-888a-58e07afbc0ca",
   "metadata": {},
   "outputs": [],
   "source": []
  },
  {
   "cell_type": "code",
   "execution_count": null,
   "id": "947f853d-390d-4064-8ddc-076d2dec0157",
   "metadata": {},
   "outputs": [],
   "source": []
  },
  {
   "cell_type": "code",
   "execution_count": null,
   "id": "5476ab04-e508-490a-bec0-a910cbfcc456",
   "metadata": {},
   "outputs": [],
   "source": [
    "counties_wide[\"renewable_and_battery_proposed_capacity_mw_pct_change\"].describe()"
   ]
  },
  {
   "cell_type": "code",
   "execution_count": null,
   "id": "a764aca2-8c89-4c96-9ed1-b546ef33ee67",
   "metadata": {},
   "outputs": [],
   "source": [
    "counties_wide[~counties_wide[\"renewable_and_battery_proposed_capacity_mw_pct_change\"].isna()].renewable_and_battery_proposed_capacity_mw_pct_change"
   ]
  },
  {
   "cell_type": "code",
   "execution_count": null,
   "id": "25b0a67d-f7c6-48db-b1e0-68bd73b65ecc",
   "metadata": {},
   "outputs": [],
   "source": [
    "import plotly.offline as pyo\n",
    "pyo.init_notebook_mode()\n",
    "\n",
    "# https://stackoverflow.com/questions/52771328/plotly-chart-not-showing-in-jupyter-notebook\n",
    "from urllib.request import urlopen\n",
    "import json\n",
    "with urlopen('https://raw.githubusercontent.com/plotly/datasets/master/geojson-counties-fips.json') as response:\n",
    "    counties = json.load(response)\n",
    "\n",
    "\n",
    "import plotly.express as px\n",
    "\n",
    "fig = px.choropleth(counties_wide, geojson=counties, locations='county_id_fips', color='renewable_and_battery_proposed_capacity_mw_pct_change',\n",
    "                           color_continuous_scale=\"RdYlGn\",\n",
    "                           range_color=(-4, 4),\n",
    "                           scope=\"usa\",\n",
    "                           labels={'renewable_and_battery_proposed_capacity_mw_pct_change':'Total proposed renewable MW % change'},\n",
    "                          )\n",
    "fig"
   ]
  },
  {
   "cell_type": "code",
   "execution_count": null,
   "id": "0d5f95b0-e421-46e1-a22e-5a925e4b6b41",
   "metadata": {},
   "outputs": [],
   "source": []
  },
  {
   "cell_type": "code",
   "execution_count": null,
   "id": "66ad673c-7fcc-42cf-b43c-b5a3418a8194",
   "metadata": {},
   "outputs": [],
   "source": []
  }
 ],
 "metadata": {
  "kernelspec": {
   "display_name": "Python 3 (ipykernel)",
   "language": "python",
   "name": "python3"
  },
  "language_info": {
   "codemirror_mode": {
    "name": "ipython",
    "version": 3
   },
   "file_extension": ".py",
   "mimetype": "text/x-python",
   "name": "python",
   "nbconvert_exporter": "python",
   "pygments_lexer": "ipython3",
   "version": "3.10.12"
  }
 },
 "nbformat": 4,
 "nbformat_minor": 5
}
