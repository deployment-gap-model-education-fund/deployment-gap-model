{
 "cells": [
  {
   "cell_type": "code",
   "execution_count": 15,
   "id": "eb834aa2-c2e5-4b88-b10f-7e893629f926",
   "metadata": {},
   "outputs": [],
   "source": [
    "import pandas as pd\n",
    "from pathlib import Path\n",
    "from sqlalchemy.engine import create_engine\n",
    "import numpy as np\n",
    "\n",
    "import dbcp"
   ]
  },
  {
   "cell_type": "code",
   "execution_count": 2,
   "id": "cfc683e6-95c0-4dbc-b6e2-ed6be03c4690",
   "metadata": {},
   "outputs": [],
   "source": [
    "pudl_path = Path('../data/data_cache/pudl-v0.5.0-2021-11-14/pudl_data/sqlite/pudl.sqlite')\n",
    "assert pudl_path.exists()\n",
    "pudl_engine = create_engine(f\"sqlite:///{pudl_path}\")"
   ]
  },
  {
   "cell_type": "code",
   "execution_count": 3,
   "id": "5d9636a9-ccf2-4f05-8b43-0465f76f5a25",
   "metadata": {},
   "outputs": [],
   "source": [
    "postgres_engine = dbcp.helpers.get_sql_engine()"
   ]
  },
  {
   "cell_type": "markdown",
   "id": "c142f67a-d5dd-4bdc-94ac-e5922dd0c52d",
   "metadata": {},
   "source": [
    "## Load county_wide"
   ]
  },
  {
   "cell_type": "code",
   "execution_count": 4,
   "id": "3a5a4e24-fbdb-48eb-9348-4ad6f0d1f40b",
   "metadata": {},
   "outputs": [],
   "source": [
    "cw = pd.read_csv('../data/output/county_wide_deck.csv')"
   ]
  },
  {
   "cell_type": "code",
   "execution_count": 5,
   "id": "b67fd4ee-00ba-406b-90df-de13cfe4d691",
   "metadata": {},
   "outputs": [
    {
     "data": {
      "text/html": [
       "<div>\n",
       "<style scoped>\n",
       "    .dataframe tbody tr th:only-of-type {\n",
       "        vertical-align: middle;\n",
       "    }\n",
       "\n",
       "    .dataframe tbody tr th {\n",
       "        vertical-align: top;\n",
       "    }\n",
       "\n",
       "    .dataframe thead th {\n",
       "        text-align: right;\n",
       "    }\n",
       "</style>\n",
       "<table border=\"1\" class=\"dataframe\">\n",
       "  <thead>\n",
       "    <tr style=\"text-align: right;\">\n",
       "      <th></th>\n",
       "      <th>has_ordinance</th>\n",
       "      <th>state_permitting_type</th>\n",
       "      <th>county_total_co2e_tonnes_per_year</th>\n",
       "      <th>fossil_existing_capacity_mw</th>\n",
       "      <th>fossil_existing_co2e_tonnes_per_year</th>\n",
       "      <th>fossil_existing_facility_count</th>\n",
       "      <th>fossil_proposed_capacity_mw</th>\n",
       "      <th>fossil_proposed_co2e_tonnes_per_year</th>\n",
       "      <th>fossil_proposed_facility_count</th>\n",
       "      <th>renewable_existing_capacity_mw</th>\n",
       "      <th>...</th>\n",
       "      <th>pct_college_grad_2022_voters</th>\n",
       "      <th>pct_gender_female_2022_voters</th>\n",
       "      <th>pct_race_aapi_2022_voters</th>\n",
       "      <th>pct_race_black_2022_voters</th>\n",
       "      <th>pct_race_latinx_2022_voters</th>\n",
       "      <th>pct_race_white_2022_voters</th>\n",
       "      <th>county</th>\n",
       "      <th>county_short</th>\n",
       "      <th>state</th>\n",
       "      <th>state_abbrev</th>\n",
       "    </tr>\n",
       "  </thead>\n",
       "  <tbody>\n",
       "    <tr>\n",
       "      <th>0</th>\n",
       "      <td>False</td>\n",
       "      <td>Local</td>\n",
       "      <td>0.0</td>\n",
       "      <td>0.0</td>\n",
       "      <td>0.0</td>\n",
       "      <td>0.0</td>\n",
       "      <td>0.0</td>\n",
       "      <td>0.0</td>\n",
       "      <td>0.0</td>\n",
       "      <td>143.0</td>\n",
       "      <td>...</td>\n",
       "      <td>0.348</td>\n",
       "      <td>0.522</td>\n",
       "      <td>0.032</td>\n",
       "      <td>0.012</td>\n",
       "      <td>0.389</td>\n",
       "      <td>0.555</td>\n",
       "      <td>San Benito County</td>\n",
       "      <td>San Benito</td>\n",
       "      <td>California</td>\n",
       "      <td>CA</td>\n",
       "    </tr>\n",
       "    <tr>\n",
       "      <th>1</th>\n",
       "      <td>False</td>\n",
       "      <td>Hybrid</td>\n",
       "      <td>0.0</td>\n",
       "      <td>0.0</td>\n",
       "      <td>0.0</td>\n",
       "      <td>0.0</td>\n",
       "      <td>0.0</td>\n",
       "      <td>0.0</td>\n",
       "      <td>0.0</td>\n",
       "      <td>70.0</td>\n",
       "      <td>...</td>\n",
       "      <td>0.463</td>\n",
       "      <td>0.489</td>\n",
       "      <td>0.042</td>\n",
       "      <td>0.027</td>\n",
       "      <td>0.119</td>\n",
       "      <td>0.797</td>\n",
       "      <td>Washoe County</td>\n",
       "      <td>Washoe</td>\n",
       "      <td>Nevada</td>\n",
       "      <td>NV</td>\n",
       "    </tr>\n",
       "  </tbody>\n",
       "</table>\n",
       "<p>2 rows × 116 columns</p>\n",
       "</div>"
      ],
      "text/plain": [
       "  has_ordinance state_permitting_type  county_total_co2e_tonnes_per_year  \\\n",
       "0         False                 Local                                0.0   \n",
       "1         False                Hybrid                                0.0   \n",
       "\n",
       "   fossil_existing_capacity_mw  fossil_existing_co2e_tonnes_per_year  \\\n",
       "0                          0.0                                   0.0   \n",
       "1                          0.0                                   0.0   \n",
       "\n",
       "   fossil_existing_facility_count  fossil_proposed_capacity_mw  \\\n",
       "0                             0.0                          0.0   \n",
       "1                             0.0                          0.0   \n",
       "\n",
       "   fossil_proposed_co2e_tonnes_per_year  fossil_proposed_facility_count  \\\n",
       "0                                   0.0                             0.0   \n",
       "1                                   0.0                             0.0   \n",
       "\n",
       "   renewable_existing_capacity_mw  ...  pct_college_grad_2022_voters  \\\n",
       "0                           143.0  ...                         0.348   \n",
       "1                            70.0  ...                         0.463   \n",
       "\n",
       "   pct_gender_female_2022_voters  pct_race_aapi_2022_voters  \\\n",
       "0                          0.522                      0.032   \n",
       "1                          0.489                      0.042   \n",
       "\n",
       "   pct_race_black_2022_voters  pct_race_latinx_2022_voters  \\\n",
       "0                       0.012                        0.389   \n",
       "1                       0.027                        0.119   \n",
       "\n",
       "   pct_race_white_2022_voters             county  county_short       state  \\\n",
       "0                       0.555  San Benito County    San Benito  California   \n",
       "1                       0.797      Washoe County        Washoe      Nevada   \n",
       "\n",
       "   state_abbrev  \n",
       "0            CA  \n",
       "1            NV  \n",
       "\n",
       "[2 rows x 116 columns]"
      ]
     },
     "execution_count": 5,
     "metadata": {},
     "output_type": "execute_result"
    }
   ],
   "source": [
    "cw.head(2)"
   ]
  },
  {
   "cell_type": "code",
   "execution_count": 6,
   "id": "568aafe2-9204-46b1-a2eb-f4cd6d933a98",
   "metadata": {},
   "outputs": [
    {
     "data": {
      "text/plain": [
       "['renewable_existing_capacity_mw',\n",
       " 'renewable_existing_co2e_tonnes_per_year',\n",
       " 'renewable_existing_facility_count',\n",
       " 'renewable_proposed_capacity_mw',\n",
       " 'renewable_proposed_facility_count']"
      ]
     },
     "execution_count": 6,
     "metadata": {},
     "output_type": "execute_result"
    }
   ],
   "source": [
    "[col for col in cw.columns if col.startswith('renewable')]"
   ]
  },
  {
   "cell_type": "code",
   "execution_count": 11,
   "id": "4dadad8f-bfca-4e93-b02d-73035cac818b",
   "metadata": {},
   "outputs": [
    {
     "data": {
      "text/plain": [
       "['county_total_co2e_tonnes_per_year',\n",
       " 'infra_total_proposed_co2e_tonnes_per_year',\n",
       " 'infra_total_proposed_facility_count',\n",
       " 'infra_total_proposed_nox_tonnes_per_year',\n",
       " 'infra_total_proposed_pm2_5_tonnes_per_year',\n",
       " 'cvap_total',\n",
       " 'households_total']"
      ]
     },
     "execution_count": 11,
     "metadata": {},
     "output_type": "execute_result"
    }
   ],
   "source": [
    "[col for col in cw.columns if 'total' in col]"
   ]
  },
  {
   "cell_type": "code",
   "execution_count": null,
   "id": "78eec99d-23fa-4590-9359-efe8cfa6946d",
   "metadata": {},
   "outputs": [],
   "source": []
  },
  {
   "cell_type": "code",
   "execution_count": 8,
   "id": "ae6cd2c9-f18d-41ae-8ea1-806dee9b1de2",
   "metadata": {},
   "outputs": [
    {
     "data": {
      "text/plain": [
       "['pres_2020_votes_biden', 'pres_2020_percent_biden']"
      ]
     },
     "execution_count": 8,
     "metadata": {},
     "output_type": "execute_result"
    }
   ],
   "source": [
    "[col for col in cw.columns if 'biden' in col]"
   ]
  },
  {
   "cell_type": "code",
   "execution_count": 9,
   "id": "1623cfd6-c8a8-45ac-8309-4484adefda93",
   "metadata": {},
   "outputs": [
    {
     "data": {
      "text/plain": [
       "['cvap_minority_percent']"
      ]
     },
     "execution_count": 9,
     "metadata": {},
     "output_type": "execute_result"
    }
   ],
   "source": [
    "[col for col in cw.columns if 'minority' in col]"
   ]
  },
  {
   "cell_type": "code",
   "execution_count": 12,
   "id": "ecf96562-f194-4554-858a-d70d2f03e912",
   "metadata": {},
   "outputs": [],
   "source": [
    "clean_mw = 'renewable_proposed_capacity_mw'\n",
    "co2 = 'county_total_co2e_tonnes_per_year'\n",
    "partisan = 'pres_2020_percent_biden'\n",
    "diversity = 'cvap_minority_percent'"
   ]
  },
  {
   "cell_type": "markdown",
   "id": "1d89ef37-fffb-4f71-8683-9cc9a9a4c003",
   "metadata": {},
   "source": [
    "## Examine Bin sizing"
   ]
  },
  {
   "cell_type": "markdown",
   "id": "93a7ddf9-bbb1-4c92-9616-641368d3c73f",
   "metadata": {},
   "source": [
    "### Clean MW"
   ]
  },
  {
   "cell_type": "code",
   "execution_count": 13,
   "id": "ef901594-47cf-47a3-b3bb-94aae294a2b9",
   "metadata": {},
   "outputs": [
    {
     "data": {
      "text/plain": [
       "<AxesSubplot:>"
      ]
     },
     "execution_count": 13,
     "metadata": {},
     "output_type": "execute_result"
    },
    {
     "data": {
      "image/png": "[encoded data removed]",
      "text/plain": [
       "<Figure size 432x288 with 1 Axes>"
      ]
     },
     "metadata": {
      "needs_background": "light"
     },
     "output_type": "display_data"
    }
   ],
   "source": [
    "cw[clean_mw].hist(bins=50)"
   ]
  },
  {
   "cell_type": "code",
   "execution_count": 17,
   "id": "40b5322a-c587-44d9-ad9f-68004ba4d984",
   "metadata": {},
   "outputs": [
    {
     "data": {
      "text/plain": [
       "<AxesSubplot:>"
      ]
     },
     "execution_count": 17,
     "metadata": {},
     "output_type": "execute_result"
    },
    {
     "data": {
      "image/png": "[encoded data removed]",
      "text/plain": [
       "<Figure size 432x288 with 1 Axes>"
      ]
     },
     "metadata": {
      "needs_background": "light"
     },
     "output_type": "display_data"
    }
   ],
   "source": [
    "cw[clean_mw].replace(0, np.nan).transform(np.log10).hist(bins=50)"
   ]
  },
  {
   "cell_type": "code",
   "execution_count": 31,
   "id": "cd273381-2552-4404-8ee8-a598953f4ae8",
   "metadata": {},
   "outputs": [
    {
     "data": {
      "text/plain": [
       "[-1e-06,\n",
       " 0,\n",
       " 31.622776601683793,\n",
       " 100,\n",
       " 794.3282347242813,\n",
       " 3162.2776601683795,\n",
       " inf]"
      ]
     },
     "execution_count": 31,
     "metadata": {},
     "output_type": "execute_result"
    }
   ],
   "source": [
    "cutoffs_clean = [-1e-6, 0, 10**1.5, 10**2, 10**2.9, 10**3.5, np.inf]\n",
    "cutoffs_clean"
   ]
  },
  {
   "cell_type": "code",
   "execution_count": 33,
   "id": "2138de69-baed-4e8b-a024-bb731950255c",
   "metadata": {},
   "outputs": [
    {
     "data": {
      "text/plain": [
       "(-1e-06, 0.0]          740\n",
       "(0.0, 31.623]           80\n",
       "(31.623, 100.0]        234\n",
       "(100.0, 794.328]       935\n",
       "(794.328, 3162.278]    217\n",
       "(3162.278, inf]         33\n",
       "Name: renewable_proposed_capacity_mw, dtype: int64"
      ]
     },
     "execution_count": 33,
     "metadata": {},
     "output_type": "execute_result"
    }
   ],
   "source": [
    "pd.cut(cw[clean_mw], cutoffs_clean).value_counts().sort_index()"
   ]
  },
  {
   "cell_type": "markdown",
   "id": "5d10c3fc-680c-4f40-b491-b999182f2597",
   "metadata": {},
   "source": [
    "### CO2"
   ]
  },
  {
   "cell_type": "code",
   "execution_count": 34,
   "id": "0de391d1-0896-493c-a728-2ddd0e53ad5e",
   "metadata": {},
   "outputs": [
    {
     "data": {
      "text/plain": [
       "<AxesSubplot:>"
      ]
     },
     "execution_count": 34,
     "metadata": {},
     "output_type": "execute_result"
    },
    {
     "data": {
      "image/png": "[encoded data removed]",
      "text/plain": [
       "<Figure size 432x288 with 1 Axes>"
      ]
     },
     "metadata": {
      "needs_background": "light"
     },
     "output_type": "display_data"
    }
   ],
   "source": [
    "cw[co2].hist(bins=50)"
   ]
  },
  {
   "cell_type": "code",
   "execution_count": 35,
   "id": "b6c99085-2302-4068-a180-affc1576ac2c",
   "metadata": {},
   "outputs": [
    {
     "data": {
      "text/plain": [
       "<AxesSubplot:>"
      ]
     },
     "execution_count": 35,
     "metadata": {},
     "output_type": "execute_result"
    },
    {
     "data": {
      "image/png": "[encoded data removed]",
      "text/plain": [
       "<Figure size 432x288 with 1 Axes>"
      ]
     },
     "metadata": {
      "needs_background": "light"
     },
     "output_type": "display_data"
    }
   ],
   "source": [
    "cw[co2].replace(0, np.nan).transform(np.log10).hist(bins=50)"
   ]
  },
  {
   "cell_type": "code",
   "execution_count": 38,
   "id": "73f2abef-41d3-4e5d-ae49-5268ef65dbf3",
   "metadata": {},
   "outputs": [
    {
     "data": {
      "text/plain": [
       "[-1e-06,\n",
       " 0,\n",
       " 1000,\n",
       " 31622.776601683792,\n",
       " 316227.7660168379,\n",
       " 3162277.6601683795,\n",
       " inf]"
      ]
     },
     "execution_count": 38,
     "metadata": {},
     "output_type": "execute_result"
    }
   ],
   "source": [
    "cutoffs_co2 = [-1e-6, 0, 10**3, 10**4.5, 10**5.5, 10**6.5, np.inf]\n",
    "cutoffs_co2"
   ]
  },
  {
   "cell_type": "code",
   "execution_count": 39,
   "id": "d37dc263-1437-4e34-82e3-b594136f6f15",
   "metadata": {},
   "outputs": [
    {
     "data": {
      "text/plain": [
       "(-1e-06, 0.0]               1082\n",
       "(0.0, 1000.0]                237\n",
       "(1000.0, 31622.777]          198\n",
       "(31622.777, 316227.766]      218\n",
       "(316227.766, 3162277.66]     333\n",
       "(3162277.66, inf]            171\n",
       "Name: county_total_co2e_tonnes_per_year, dtype: int64"
      ]
     },
     "execution_count": 39,
     "metadata": {},
     "output_type": "execute_result"
    }
   ],
   "source": [
    "pd.cut(cw[co2].abs(), cutoffs_co2).value_counts().sort_index()"
   ]
  },
  {
   "cell_type": "markdown",
   "id": "0fbbfbbf-a178-4740-bbaa-b4c0d9bfa617",
   "metadata": {},
   "source": [
    "### Partisanship"
   ]
  },
  {
   "cell_type": "code",
   "execution_count": 44,
   "id": "20fd5e74-0beb-497b-bcef-be50e2ced58c",
   "metadata": {},
   "outputs": [
    {
     "data": {
      "text/plain": [
       "<AxesSubplot:>"
      ]
     },
     "execution_count": 44,
     "metadata": {},
     "output_type": "execute_result"
    },
    {
     "data": {
      "image/png": "[encoded data removed]",
      "text/plain": [
       "<Figure size 432x288 with 1 Axes>"
      ]
     },
     "metadata": {
      "needs_background": "light"
     },
     "output_type": "display_data"
    }
   ],
   "source": [
    "cw[partisan].hist(bins=50)"
   ]
  },
  {
   "cell_type": "code",
   "execution_count": 46,
   "id": "44ec9e3e-39f8-475f-bc1a-2f6691b9f091",
   "metadata": {},
   "outputs": [
    {
     "data": {
      "text/plain": [
       "[0.0, 0.2, 0.4, 0.6000000000000001, 0.8, 1.0]"
      ]
     },
     "execution_count": 46,
     "metadata": {},
     "output_type": "execute_result"
    }
   ],
   "source": [
    "cutoffs_partisan = [0.2 * n for n in range(6)]\n",
    "cutoffs_partisan"
   ]
  },
  {
   "cell_type": "code",
   "execution_count": 47,
   "id": "518324f5-0ad1-4e79-b31a-1788a5480c28",
   "metadata": {},
   "outputs": [
    {
     "data": {
      "text/plain": [
       "(0.0, 0.2]     651\n",
       "(0.2, 0.4]    1509\n",
       "(0.4, 0.6]     699\n",
       "(0.6, 0.8]     224\n",
       "(0.8, 1.0]      30\n",
       "Name: pres_2020_percent_biden, dtype: int64"
      ]
     },
     "execution_count": 47,
     "metadata": {},
     "output_type": "execute_result"
    }
   ],
   "source": [
    "pd.cut(cw[partisan], cutoffs_partisan).value_counts().sort_index()"
   ]
  },
  {
   "cell_type": "markdown",
   "id": "b68a6fa8-9c0a-4d5e-820f-40ba2a4d4c3d",
   "metadata": {},
   "source": [
    "### Diversity"
   ]
  },
  {
   "cell_type": "code",
   "execution_count": 48,
   "id": "1a7ab500-7a7f-4074-bb6a-2d93aef8f8f3",
   "metadata": {},
   "outputs": [
    {
     "data": {
      "text/plain": [
       "<AxesSubplot:>"
      ]
     },
     "execution_count": 48,
     "metadata": {},
     "output_type": "execute_result"
    },
    {
     "data": {
      "image/png": "[encoded data removed]",
      "text/plain": [
       "<Figure size 432x288 with 1 Axes>"
      ]
     },
     "metadata": {
      "needs_background": "light"
     },
     "output_type": "display_data"
    }
   ],
   "source": [
    "cw[diversity].hist(bins=50)"
   ]
  },
  {
   "cell_type": "code",
   "execution_count": 51,
   "id": "6942de13-61c6-4e75-9553-c641bedcc3a8",
   "metadata": {},
   "outputs": [
    {
     "data": {
      "text/plain": [
       "<AxesSubplot:>"
      ]
     },
     "execution_count": 51,
     "metadata": {},
     "output_type": "execute_result"
    },
    {
     "data": {
      "image/png": "[encoded data removed]",
      "text/plain": [
       "<Figure size 432x288 with 1 Axes>"
      ]
     },
     "metadata": {
      "needs_background": "light"
     },
     "output_type": "display_data"
    }
   ],
   "source": [
    "cw[diversity].replace(0, np.nan).transform(np.log10).hist(bins=50)"
   ]
  },
  {
   "cell_type": "code",
   "execution_count": 53,
   "id": "8c83f2a0-c124-4050-a785-610a7c5e9c35",
   "metadata": {},
   "outputs": [
    {
     "data": {
      "text/plain": [
       "[0, 0.03162277660168379, 0.15, 0.3, 0.6, 1]"
      ]
     },
     "execution_count": 53,
     "metadata": {},
     "output_type": "execute_result"
    }
   ],
   "source": [
    "cutoffs_diversity = [0, 10**-1.5, 0.15, 0.3, 0.6, 1]\n",
    "cutoffs_diversity"
   ]
  },
  {
   "cell_type": "code",
   "execution_count": 54,
   "id": "a867db1f-940c-4a6a-86d6-27b793463aae",
   "metadata": {},
   "outputs": [
    {
     "data": {
      "text/plain": [
       "(0.0, 0.0316]      482\n",
       "(0.0316, 0.15]    1350\n",
       "(0.15, 0.3]        575\n",
       "(0.3, 0.6]         589\n",
       "(0.6, 1.0]         138\n",
       "Name: cvap_minority_percent, dtype: int64"
      ]
     },
     "execution_count": 54,
     "metadata": {},
     "output_type": "execute_result"
    }
   ],
   "source": [
    "pd.cut(cw[diversity], cutoffs_diversity).value_counts().sort_index()"
   ]
  },
  {
   "cell_type": "code",
   "execution_count": null,
   "id": "2fcf3795-697e-4418-8083-8f3f01e4d7b5",
   "metadata": {},
   "outputs": [],
   "source": []
  }
 ],
 "metadata": {
  "kernelspec": {
   "display_name": "Python 3 (ipykernel)",
   "language": "python",
   "name": "python3"
  },
  "language_info": {
   "codemirror_mode": {
    "name": "ipython",
    "version": 3
   },
   "file_extension": ".py",
   "mimetype": "text/x-python",
   "name": "python",
   "nbconvert_exporter": "python",
   "pygments_lexer": "ipython3",
   "version": "3.9.10"
  }
 },
 "nbformat": 4,
 "nbformat_minor": 5
}
