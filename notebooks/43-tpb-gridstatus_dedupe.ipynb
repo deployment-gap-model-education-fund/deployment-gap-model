{
 "cells": [
  {
   "cell_type": "markdown",
   "metadata": {},
   "source": [
    "# Revisit De-duplication\n",
    "LBNL queues were deduplicated based on a specific definition of \"duplicate\".  This notebook revisits the deduplication process to see if it 1) should and 2) can be applied directly to GridStatus data.\n",
    "\n",
    "## Get Data\n",
    "### LBNL Queues"
   ]
  },
  {
   "cell_type": "code",
   "execution_count": 1,
   "metadata": {},
   "outputs": [
    {
     "name": "stderr",
     "output_type": "stream",
     "text": [
      "/app/.local/lib/python3.10/site-packages/geopandas/_compat.py:123: UserWarning: The Shapely GEOS version (3.11.1-CAPI-1.17.1) is incompatible with the GEOS version PyGEOS was compiled with (3.10.3-CAPI-1.16.1). Conversions between both will be slow.\n",
      "  warnings.warn(\n",
      "/app/.local/lib/python3.10/site-packages/pudl/analysis/spatial.py:7: UserWarning: Shapely 2.0 is installed, but because PyGEOS is also installed, GeoPandas will still use PyGEOS by default for now. To force to use and test Shapely 2.0, you have to set the environment variable USE_PYGEOS=0. You can do this before starting the Python process, or in your code before importing geopandas:\n",
      "\n",
      "import os\n",
      "os.environ['USE_PYGEOS'] = '0'\n",
      "import geopandas\n",
      "\n",
      "In a future release, GeoPandas will switch to using Shapely by default. If you are using PyGEOS directly (calling PyGEOS functions on geometries from GeoPandas), this will then stop working and you are encouraged to migrate from PyGEOS to Shapely 2.0 (https://shapely.readthedocs.io/en/latest/migration_pygeos.html).\n",
      "  import geopandas as gpd\n"
     ]
    }
   ],
   "source": [
    "import pandas as pd\n",
    "from pathlib import Path\n",
    "import numpy as np\n",
    "\n",
    "from dbcp.extract.lbnl_iso_queue import extract"
   ]
  },
  {
   "cell_type": "code",
   "execution_count": 2,
   "metadata": {},
   "outputs": [],
   "source": [
    "from dbcp.transform.lbnl_iso_queue import parse_date_columns\n",
    "# partial implementation of transform. I don't want to include deduplication.\n",
    "def partial_transform(active_projects: pd.DataFrame) -> pd.DataFrame:\n",
    "    \"\"\"Transform active iso queue data.\"\"\"\n",
    "    rename_dict = {\n",
    "        \"state\": \"raw_state_name\",\n",
    "        \"county\": \"raw_county_name\",\n",
    "    }\n",
    "    active_projects = active_projects.rename(columns=rename_dict)  # copy\n",
    "    # Harmonize the interconnection_status_lbnl values.\n",
    "    mapping = {\n",
    "        \"Feasability Study\": \"Feasibility Study\",\n",
    "        \"Feasibility\": \"Feasibility Study\",\n",
    "        \"Facilities Study\": \"Facility Study\",\n",
    "        \"IA in Progress\": \"In Progress (unknown study)\",\n",
    "        \"Unknown\": \"In Progress (unknown study)\",\n",
    "        \"Withdrawn, Feasibility Study\": \"Withdrawn\",\n",
    "    }\n",
    "    active_projects.loc[:, \"interconnection_status_lbnl\"] = active_projects.loc[\n",
    "        :, \"interconnection_status_lbnl\"\n",
    "    ].replace(mapping)\n",
    "    # drop irrelevant columns (structurally all nan due to 'active' filter)\n",
    "    active_projects.drop(columns=[\"date_withdrawn\", \"date_operational\"], inplace=True)\n",
    "    parse_date_columns(active_projects)\n",
    "    return active_projects\n",
    "\n",
    "\n",
    "source_path = Path(\"/app/data/raw/queues_2022_clean_data.xlsx\")\n",
    "raw_lbnl = extract(source_path)[\"lbnl_iso_queue\"]\n",
    "lbnl = partial_transform(raw_lbnl)\n"
   ]
  },
  {
   "cell_type": "code",
   "execution_count": 3,
   "metadata": {},
   "outputs": [
    {
     "data": {
      "text/plain": [
       "((29033, 30),\n",
       " Index(['queue_id', 'queue_status', 'queue_date_raw', 'queue_year', 'interconnection_date_raw', 'entity', 'project_name', 'developer', 'utility', 'county_1', 'county_2', 'county_3', 'raw_state_name', 'region', 'interconnection_service_type', 'point_of_interconnection', 'date_proposed_raw', 'year_proposed', 'interconnection_status_raw', 'interconnection_status_lbnl', 'resource_type_lbnl', 'resource_type_1', 'resource_type_2', 'resource_type_3', 'capacity_mw_resource_1', 'capacity_mw_resource_2', 'capacity_mw_resource_3', 'queue_date', 'interconnection_date', 'date_proposed'], dtype='object'))"
      ]
     },
     "execution_count": 3,
     "metadata": {},
     "output_type": "execute_result"
    }
   ],
   "source": [
    "lbnl.shape, lbnl.columns"
   ]
  },
  {
   "cell_type": "code",
   "execution_count": 4,
   "metadata": {},
   "outputs": [
    {
     "data": {
      "text/html": [
       "<div>\n",
       "<style scoped>\n",
       "    .dataframe tbody tr th:only-of-type {\n",
       "        vertical-align: middle;\n",
       "    }\n",
       "\n",
       "    .dataframe tbody tr th {\n",
       "        vertical-align: top;\n",
       "    }\n",
       "\n",
       "    .dataframe thead th {\n",
       "        text-align: right;\n",
       "    }\n",
       "</style>\n",
       "<table border=\"1\" class=\"dataframe\">\n",
       "  <thead>\n",
       "    <tr style=\"text-align: right;\">\n",
       "      <th></th>\n",
       "      <th>queue_id</th>\n",
       "      <th>queue_status</th>\n",
       "      <th>queue_date_raw</th>\n",
       "      <th>queue_year</th>\n",
       "      <th>interconnection_date_raw</th>\n",
       "      <th>entity</th>\n",
       "      <th>project_name</th>\n",
       "      <th>developer</th>\n",
       "      <th>utility</th>\n",
       "      <th>county_1</th>\n",
       "      <th>county_2</th>\n",
       "      <th>county_3</th>\n",
       "      <th>raw_state_name</th>\n",
       "      <th>region</th>\n",
       "      <th>interconnection_service_type</th>\n",
       "      <th>point_of_interconnection</th>\n",
       "      <th>date_proposed_raw</th>\n",
       "      <th>year_proposed</th>\n",
       "      <th>interconnection_status_raw</th>\n",
       "      <th>interconnection_status_lbnl</th>\n",
       "      <th>resource_type_lbnl</th>\n",
       "      <th>resource_type_1</th>\n",
       "      <th>resource_type_2</th>\n",
       "      <th>resource_type_3</th>\n",
       "      <th>capacity_mw_resource_1</th>\n",
       "      <th>capacity_mw_resource_2</th>\n",
       "      <th>capacity_mw_resource_3</th>\n",
       "      <th>queue_date</th>\n",
       "      <th>interconnection_date</th>\n",
       "      <th>date_proposed</th>\n",
       "    </tr>\n",
       "  </thead>\n",
       "  <tbody>\n",
       "    <tr>\n",
       "      <th>0</th>\n",
       "      <td>GIA-97</td>\n",
       "      <td>withdrawn</td>\n",
       "      <td>1/7/2022</td>\n",
       "      <td>2022.0</td>\n",
       "      <td>NaN</td>\n",
       "      <td>AEC</td>\n",
       "      <td>NaN</td>\n",
       "      <td>NaN</td>\n",
       "      <td>AEC</td>\n",
       "      <td>new madrid</td>\n",
       "      <td>NaN</td>\n",
       "      <td>NaN</td>\n",
       "      <td>MO</td>\n",
       "      <td>Southeast (non-ISO)</td>\n",
       "      <td>Network</td>\n",
       "      <td>New Madrid - Essex 345kV</td>\n",
       "      <td>10/31/2024</td>\n",
       "      <td>2024.0</td>\n",
       "      <td>Withdrawn</td>\n",
       "      <td>Withdrawn</td>\n",
       "      <td>Solar</td>\n",
       "      <td>Solar</td>\n",
       "      <td>NaN</td>\n",
       "      <td>NaN</td>\n",
       "      <td>350.0</td>\n",
       "      <td>NaN</td>\n",
       "      <td>NaN</td>\n",
       "      <td>2022-01-07</td>\n",
       "      <td>NaT</td>\n",
       "      <td>2024-10-31</td>\n",
       "    </tr>\n",
       "    <tr>\n",
       "      <th>1</th>\n",
       "      <td>GIA-40</td>\n",
       "      <td>active</td>\n",
       "      <td>10/24/2009</td>\n",
       "      <td>2009.0</td>\n",
       "      <td>NaN</td>\n",
       "      <td>AEC</td>\n",
       "      <td>NaN</td>\n",
       "      <td>NaN</td>\n",
       "      <td>AEC</td>\n",
       "      <td>new madrid</td>\n",
       "      <td>NaN</td>\n",
       "      <td>NaN</td>\n",
       "      <td>MO</td>\n",
       "      <td>Southeast (non-ISO)</td>\n",
       "      <td>Network Resource</td>\n",
       "      <td>NM Switchyard (345 kV Bus)</td>\n",
       "      <td>11/1/2011</td>\n",
       "      <td>2011.0</td>\n",
       "      <td>Upgrade Approved</td>\n",
       "      <td>IA Executed</td>\n",
       "      <td>Coal</td>\n",
       "      <td>Coal</td>\n",
       "      <td>NaN</td>\n",
       "      <td>NaN</td>\n",
       "      <td>20.0</td>\n",
       "      <td>NaN</td>\n",
       "      <td>NaN</td>\n",
       "      <td>2009-10-24</td>\n",
       "      <td>NaT</td>\n",
       "      <td>2011-11-01</td>\n",
       "    </tr>\n",
       "  </tbody>\n",
       "</table>\n",
       "</div>"
      ],
      "text/plain": [
       "  queue_id queue_status queue_date_raw  queue_year interconnection_date_raw entity project_name developer utility    county_1 county_2 county_3 raw_state_name               region interconnection_service_type    point_of_interconnection date_proposed_raw  year_proposed interconnection_status_raw interconnection_status_lbnl resource_type_lbnl resource_type_1 resource_type_2 resource_type_3  capacity_mw_resource_1  capacity_mw_resource_2  capacity_mw_resource_3 queue_date interconnection_date date_proposed\n",
       "0   GIA-97    withdrawn       1/7/2022      2022.0                      NaN    AEC          NaN       NaN     AEC  new madrid      NaN      NaN             MO  Southeast (non-ISO)                     Network     New Madrid - Essex 345kV        10/31/2024         2024.0                  Withdrawn                   Withdrawn              Solar           Solar             NaN             NaN                   350.0                     NaN                     NaN 2022-01-07                  NaT    2024-10-31\n",
       "1   GIA-40       active     10/24/2009      2009.0                      NaN    AEC          NaN       NaN     AEC  new madrid      NaN      NaN             MO  Southeast (non-ISO)             Network Resource  NM Switchyard (345 kV Bus)         11/1/2011         2011.0           Upgrade Approved                 IA Executed               Coal            Coal             NaN             NaN                    20.0                     NaN                     NaN 2009-10-24                  NaT    2011-11-01"
      ]
     },
     "execution_count": 4,
     "metadata": {},
     "output_type": "execute_result"
    }
   ],
   "source": [
    "lbnl.head(2)"
   ]
  },
  {
   "cell_type": "markdown",
   "metadata": {},
   "source": [
    "### GridStatus"
   ]
  },
  {
   "cell_type": "code",
   "execution_count": 5,
   "metadata": {},
   "outputs": [
    {
     "name": "stderr",
     "output_type": "stream",
     "text": [
      "/app/.local/lib/python3.10/site-packages/google/auth/_default.py:78: UserWarning: Your application has authenticated using end user credentials from Google Cloud SDK without a quota project. You might receive a \"quota exceeded\" or \"API not enabled\" error. See the following page for troubleshooting: https://cloud.google.com/docs/authentication/adc-troubleshooting/user-creds. \n",
      "  warnings.warn(_CLOUD_SDK_CREDENTIALS_WARNING)\n",
      "/app/.local/lib/python3.10/site-packages/google/auth/_default.py:78: UserWarning: Your application has authenticated using end user credentials from Google Cloud SDK without a quota project. You might receive a \"quota exceeded\" or \"API not enabled\" error. See the following page for troubleshooting: https://cloud.google.com/docs/authentication/adc-troubleshooting/user-creds. \n",
      "  warnings.warn(_CLOUD_SDK_CREDENTIALS_WARNING)\n",
      "/app/.local/lib/python3.10/site-packages/google/auth/_default.py:78: UserWarning: Your application has authenticated using end user credentials from Google Cloud SDK without a quota project. You might receive a \"quota exceeded\" or \"API not enabled\" error. See the following page for troubleshooting: https://cloud.google.com/docs/authentication/adc-troubleshooting/user-creds. \n",
      "  warnings.warn(_CLOUD_SDK_CREDENTIALS_WARNING)\n",
      "/app/.local/lib/python3.10/site-packages/google/auth/_default.py:78: UserWarning: Your application has authenticated using end user credentials from Google Cloud SDK without a quota project. You might receive a \"quota exceeded\" or \"API not enabled\" error. See the following page for troubleshooting: https://cloud.google.com/docs/authentication/adc-troubleshooting/user-creds. \n",
      "  warnings.warn(_CLOUD_SDK_CREDENTIALS_WARNING)\n",
      "/app/.local/lib/python3.10/site-packages/google/auth/_default.py:78: UserWarning: Your application has authenticated using end user credentials from Google Cloud SDK without a quota project. You might receive a \"quota exceeded\" or \"API not enabled\" error. See the following page for troubleshooting: https://cloud.google.com/docs/authentication/adc-troubleshooting/user-creds. \n",
      "  warnings.warn(_CLOUD_SDK_CREDENTIALS_WARNING)\n",
      "/app/.local/lib/python3.10/site-packages/google/auth/_default.py:78: UserWarning: Your application has authenticated using end user credentials from Google Cloud SDK without a quota project. You might receive a \"quota exceeded\" or \"API not enabled\" error. See the following page for troubleshooting: https://cloud.google.com/docs/authentication/adc-troubleshooting/user-creds. \n",
      "  warnings.warn(_CLOUD_SDK_CREDENTIALS_WARNING)\n",
      "/app/.local/lib/python3.10/site-packages/google/auth/_default.py:78: UserWarning: Your application has authenticated using end user credentials from Google Cloud SDK without a quota project. You might receive a \"quota exceeded\" or \"API not enabled\" error. See the following page for troubleshooting: https://cloud.google.com/docs/authentication/adc-troubleshooting/user-creds. \n",
      "  warnings.warn(_CLOUD_SDK_CREDENTIALS_WARNING)\n"
     ]
    },
    {
     "data": {
      "text/plain": [
       "((8233, 121),\n",
       " Index(['queue_id', 'project_name', 'interconnecting_entity', 'county', 'state', 'point_of_interconnection', 'utility', 'resource', 'capacity_mw', 'summer_capacity_mw',\n",
       "        ...\n",
       "        'Serv', 'I39', 'Dev', 'Zone', 'System Impact Study Completed', 'Feasiblity Study Status', 'Optional Interconnection Study Status', 'Project Status', 'project_id', 'resource_clean'], dtype='object', length=121))"
      ]
     },
     "execution_count": 5,
     "metadata": {},
     "output_type": "execute_result"
    }
   ],
   "source": [
    "from dbcp.extract.gridstatus_isoqueues import extract as extract_gs\n",
    "from dbcp.transform.gridstatus import (\n",
    "    _transform_miso,\n",
    "    _transform_caiso,\n",
    "    _transform_pjm,\n",
    "    _transform_ercot,\n",
    "    _transform_spp,\n",
    "    _transform_nyiso,\n",
    "    _transform_isone,\n",
    "    COLUMN_RENAME_DICT,\n",
    "    _clean_resource_type,\n",
    ")\n",
    "def partial_transform_gs(raw_dfs: dict[str, pd.DataFrame]) -> pd.DataFrame:\n",
    "    # exclude the normalization step\n",
    "    # create one dataframe\n",
    "    iso_cleaning_functions = {\n",
    "        \"miso\": _transform_miso,\n",
    "        \"caiso\": _transform_caiso,\n",
    "        \"pjm\": _transform_pjm,\n",
    "        \"ercot\": _transform_ercot,\n",
    "        \"spp\": _transform_spp,\n",
    "        \"nyiso\": _transform_nyiso,\n",
    "        \"isone\": _transform_isone,\n",
    "    }\n",
    "\n",
    "    projects = []\n",
    "    for iso, df in raw_dfs.items():\n",
    "        # Apply rename\n",
    "        renamed_df = df.rename(columns=COLUMN_RENAME_DICT).copy()\n",
    "\n",
    "        # Apply iso specific cleaning functions\n",
    "        renamed_df = iso_cleaning_functions[iso](renamed_df)\n",
    "\n",
    "        renamed_df[\"region\"] = iso\n",
    "        renamed_df[\"entity\"] = iso.upper()\n",
    "        projects.append(renamed_df)\n",
    "\n",
    "    active_projects = pd.concat(projects)\n",
    "    active_projects[\"queue_status\"] = active_projects.queue_status.str.lower()\n",
    "\n",
    "    # parse dates\n",
    "    date_cols = [col for col in list(active_projects) if \"date\" in col]\n",
    "    for col in date_cols:\n",
    "        active_projects[col] = pd.to_datetime(active_projects[col], utc=True)\n",
    "\n",
    "    # create project_id\n",
    "    active_projects[\"project_id\"] = np.arange(len(active_projects), dtype=np.int32)\n",
    "\n",
    "    # Normalize data\n",
    "    # (\n",
    "    #     normalized_projects,\n",
    "    #     normalized_capacities,\n",
    "    #     normalized_locations,\n",
    "    # ) = _normalize_projects(active_projects)\n",
    "\n",
    "    # harmonize types\n",
    "    active_projects = _clean_resource_type(active_projects)\n",
    "    return active_projects\n",
    "\n",
    "raw_gs = extract_gs()\n",
    "gs = partial_transform_gs(raw_gs)\n",
    "gs.shape, gs.columns"
   ]
  },
  {
   "cell_type": "markdown",
   "metadata": {},
   "source": [
    "## Analyze Duplicates\n",
    "### ID Duplicates in LBNL"
   ]
  },
  {
   "cell_type": "code",
   "execution_count": 6,
   "metadata": {},
   "outputs": [
    {
     "data": {
      "text/plain": [
       "mean      0.017532\n",
       "sum     509.000000\n",
       "dtype: float64"
      ]
     },
     "execution_count": 6,
     "metadata": {},
     "output_type": "execute_result"
    }
   ],
   "source": [
    "ids_lbnl = ['entity', 'queue_id']\n",
    "lbnl.duplicated(subset=ids_lbnl, keep=False).agg(['mean', 'sum'])"
   ]
  },
  {
   "cell_type": "code",
   "execution_count": 7,
   "metadata": {},
   "outputs": [
    {
     "data": {
      "text/plain": [
       "mean      0.011125\n",
       "sum     114.000000\n",
       "dtype: float64"
      ]
     },
     "execution_count": 7,
     "metadata": {},
     "output_type": "execute_result"
    }
   ],
   "source": [
    "# most ID dupes are from withdrawn or operational projects\n",
    "lbnl.query('queue_status == \"active\"').duplicated(subset=ids_lbnl, keep=False).agg(['mean', 'sum'])"
   ]
  },
  {
   "cell_type": "code",
   "execution_count": 19,
   "metadata": {},
   "outputs": [],
   "source": [
    "active_lbnl = lbnl.query('queue_status == \"active\"').copy()\n",
    "is_id_dupe_active = active_lbnl.duplicated(subset=ids_lbnl, keep=False)\n",
    "id_dupe_lbnl_active = active_lbnl.loc[is_id_dupe_active,:]"
   ]
  },
  {
   "cell_type": "code",
   "execution_count": 20,
   "metadata": {},
   "outputs": [
    {
     "data": {
      "text/plain": [
       "Duke          34\n",
       "WAPA          29\n",
       "DominionSC    24\n",
       "SRP           15\n",
       "LADWP         10\n",
       "PNM            2\n",
       "Name: entity, dtype: int64"
      ]
     },
     "execution_count": 20,
     "metadata": {},
     "output_type": "execute_result"
    }
   ],
   "source": [
    "# only in non-ISO regions\n",
    "id_dupe_lbnl_active['entity'].value_counts(dropna=False)"
   ]
  },
  {
   "cell_type": "code",
   "execution_count": 21,
   "metadata": {},
   "outputs": [
    {
     "data": {
      "text/html": [
       "<div>\n",
       "<style scoped>\n",
       "    .dataframe tbody tr th:only-of-type {\n",
       "        vertical-align: middle;\n",
       "    }\n",
       "\n",
       "    .dataframe tbody tr th {\n",
       "        vertical-align: top;\n",
       "    }\n",
       "\n",
       "    .dataframe thead th {\n",
       "        text-align: right;\n",
       "    }\n",
       "</style>\n",
       "<table border=\"1\" class=\"dataframe\">\n",
       "  <thead>\n",
       "    <tr style=\"text-align: right;\">\n",
       "      <th></th>\n",
       "      <th>mean</th>\n",
       "      <th>sum</th>\n",
       "      <th>count</th>\n",
       "    </tr>\n",
       "  </thead>\n",
       "  <tbody>\n",
       "    <tr>\n",
       "      <th>resource_type_3</th>\n",
       "      <td>0.000000</td>\n",
       "      <td>0.0</td>\n",
       "      <td>1.0</td>\n",
       "    </tr>\n",
       "    <tr>\n",
       "      <th>developer</th>\n",
       "      <td>0.000000</td>\n",
       "      <td>0.0</td>\n",
       "      <td>17.0</td>\n",
       "    </tr>\n",
       "    <tr>\n",
       "      <th>interconnection_date</th>\n",
       "      <td>0.000000</td>\n",
       "      <td>0.0</td>\n",
       "      <td>2.0</td>\n",
       "    </tr>\n",
       "    <tr>\n",
       "      <th>interconnection_date_raw</th>\n",
       "      <td>0.000000</td>\n",
       "      <td>0.0</td>\n",
       "      <td>2.0</td>\n",
       "    </tr>\n",
       "    <tr>\n",
       "      <th>capacity_mw_resource_2</th>\n",
       "      <td>0.142857</td>\n",
       "      <td>2.0</td>\n",
       "      <td>14.0</td>\n",
       "    </tr>\n",
       "    <tr>\n",
       "      <th>date_proposed_raw</th>\n",
       "      <td>0.160714</td>\n",
       "      <td>9.0</td>\n",
       "      <td>56.0</td>\n",
       "    </tr>\n",
       "    <tr>\n",
       "      <th>date_proposed</th>\n",
       "      <td>0.163636</td>\n",
       "      <td>9.0</td>\n",
       "      <td>55.0</td>\n",
       "    </tr>\n",
       "    <tr>\n",
       "      <th>year_proposed</th>\n",
       "      <td>0.358491</td>\n",
       "      <td>19.0</td>\n",
       "      <td>53.0</td>\n",
       "    </tr>\n",
       "    <tr>\n",
       "      <th>point_of_interconnection</th>\n",
       "      <td>0.443396</td>\n",
       "      <td>47.0</td>\n",
       "      <td>106.0</td>\n",
       "    </tr>\n",
       "    <tr>\n",
       "      <th>queue_date</th>\n",
       "      <td>0.509434</td>\n",
       "      <td>54.0</td>\n",
       "      <td>106.0</td>\n",
       "    </tr>\n",
       "    <tr>\n",
       "      <th>queue_date_raw</th>\n",
       "      <td>0.509434</td>\n",
       "      <td>54.0</td>\n",
       "      <td>106.0</td>\n",
       "    </tr>\n",
       "    <tr>\n",
       "      <th>interconnection_status_raw</th>\n",
       "      <td>0.551724</td>\n",
       "      <td>48.0</td>\n",
       "      <td>87.0</td>\n",
       "    </tr>\n",
       "    <tr>\n",
       "      <th>capacity_mw_resource_1</th>\n",
       "      <td>0.557522</td>\n",
       "      <td>63.0</td>\n",
       "      <td>113.0</td>\n",
       "    </tr>\n",
       "    <tr>\n",
       "      <th>county_1</th>\n",
       "      <td>0.607143</td>\n",
       "      <td>68.0</td>\n",
       "      <td>112.0</td>\n",
       "    </tr>\n",
       "    <tr>\n",
       "      <th>resource_type_2</th>\n",
       "      <td>0.685714</td>\n",
       "      <td>24.0</td>\n",
       "      <td>35.0</td>\n",
       "    </tr>\n",
       "    <tr>\n",
       "      <th>raw_state_name</th>\n",
       "      <td>0.747748</td>\n",
       "      <td>83.0</td>\n",
       "      <td>111.0</td>\n",
       "    </tr>\n",
       "    <tr>\n",
       "      <th>resource_type_lbnl</th>\n",
       "      <td>0.807018</td>\n",
       "      <td>92.0</td>\n",
       "      <td>114.0</td>\n",
       "    </tr>\n",
       "    <tr>\n",
       "      <th>resource_type_1</th>\n",
       "      <td>0.877193</td>\n",
       "      <td>100.0</td>\n",
       "      <td>114.0</td>\n",
       "    </tr>\n",
       "    <tr>\n",
       "      <th>queue_year</th>\n",
       "      <td>0.905660</td>\n",
       "      <td>96.0</td>\n",
       "      <td>106.0</td>\n",
       "    </tr>\n",
       "    <tr>\n",
       "      <th>interconnection_status_lbnl</th>\n",
       "      <td>0.938596</td>\n",
       "      <td>107.0</td>\n",
       "      <td>114.0</td>\n",
       "    </tr>\n",
       "    <tr>\n",
       "      <th>utility</th>\n",
       "      <td>0.947368</td>\n",
       "      <td>108.0</td>\n",
       "      <td>114.0</td>\n",
       "    </tr>\n",
       "    <tr>\n",
       "      <th>queue_status</th>\n",
       "      <td>1.000000</td>\n",
       "      <td>114.0</td>\n",
       "      <td>114.0</td>\n",
       "    </tr>\n",
       "    <tr>\n",
       "      <th>region</th>\n",
       "      <td>1.000000</td>\n",
       "      <td>114.0</td>\n",
       "      <td>114.0</td>\n",
       "    </tr>\n",
       "    <tr>\n",
       "      <th>interconnection_service_type</th>\n",
       "      <td>1.000000</td>\n",
       "      <td>50.0</td>\n",
       "      <td>50.0</td>\n",
       "    </tr>\n",
       "    <tr>\n",
       "      <th>capacity_mw_resource_3</th>\n",
       "      <td>NaN</td>\n",
       "      <td>0.0</td>\n",
       "      <td>0.0</td>\n",
       "    </tr>\n",
       "    <tr>\n",
       "      <th>county_2</th>\n",
       "      <td>NaN</td>\n",
       "      <td>0.0</td>\n",
       "      <td>0.0</td>\n",
       "    </tr>\n",
       "    <tr>\n",
       "      <th>county_3</th>\n",
       "      <td>NaN</td>\n",
       "      <td>0.0</td>\n",
       "      <td>0.0</td>\n",
       "    </tr>\n",
       "    <tr>\n",
       "      <th>project_name</th>\n",
       "      <td>NaN</td>\n",
       "      <td>0.0</td>\n",
       "      <td>0.0</td>\n",
       "    </tr>\n",
       "  </tbody>\n",
       "</table>\n",
       "</div>"
      ],
      "text/plain": [
       "                                  mean    sum  count\n",
       "resource_type_3               0.000000    0.0    1.0\n",
       "developer                     0.000000    0.0   17.0\n",
       "interconnection_date          0.000000    0.0    2.0\n",
       "interconnection_date_raw      0.000000    0.0    2.0\n",
       "capacity_mw_resource_2        0.142857    2.0   14.0\n",
       "date_proposed_raw             0.160714    9.0   56.0\n",
       "date_proposed                 0.163636    9.0   55.0\n",
       "year_proposed                 0.358491   19.0   53.0\n",
       "point_of_interconnection      0.443396   47.0  106.0\n",
       "queue_date                    0.509434   54.0  106.0\n",
       "queue_date_raw                0.509434   54.0  106.0\n",
       "interconnection_status_raw    0.551724   48.0   87.0\n",
       "capacity_mw_resource_1        0.557522   63.0  113.0\n",
       "county_1                      0.607143   68.0  112.0\n",
       "resource_type_2               0.685714   24.0   35.0\n",
       "raw_state_name                0.747748   83.0  111.0\n",
       "resource_type_lbnl            0.807018   92.0  114.0\n",
       "resource_type_1               0.877193  100.0  114.0\n",
       "queue_year                    0.905660   96.0  106.0\n",
       "interconnection_status_lbnl   0.938596  107.0  114.0\n",
       "utility                       0.947368  108.0  114.0\n",
       "queue_status                  1.000000  114.0  114.0\n",
       "region                        1.000000  114.0  114.0\n",
       "interconnection_service_type  1.000000   50.0   50.0\n",
       "capacity_mw_resource_3             NaN    0.0    0.0\n",
       "county_2                           NaN    0.0    0.0\n",
       "county_3                           NaN    0.0    0.0\n",
       "project_name                       NaN    0.0    0.0"
      ]
     },
     "execution_count": 21,
     "metadata": {},
     "output_type": "execute_result"
    }
   ],
   "source": [
    "# what is the duplicate structure of the rest of the columns?\n",
    "# Excluding nulls, count the number of duplicates for each column.\n",
    "# Compare the fraction of duplicates (and absolute number of duplicates).\n",
    "# Values <= ~0.5 indicate that the column is a good candidate for differentiating ID dupes.\n",
    "pd.concat(\n",
    "    [\n",
    "        (\n",
    "            id_dupe_lbnl_active\n",
    "            .dropna(subset=c)\n",
    "            .duplicated(subset=ids_lbnl + [c], keep=False)\n",
    "            .agg(['mean', 'sum', 'count'])\n",
    "            .rename(c)\n",
    "        )\n",
    "    for c in id_dupe_lbnl_active.columns.difference(set(ids_lbnl))\n",
    "    ],\n",
    "    axis=1\n",
    ").T.sort_values('mean')"
   ]
  },
  {
   "cell_type": "markdown",
   "metadata": {},
   "source": [
    "Based on the above, the columns that usually differentiate ID duplicates are:\n",
    "* `date_proposed`\n",
    "* `year_proposed`\n",
    "* `capacity_mw_resource_1`\n",
    "* `county_1`\n",
    "* `point_of_interconnection`\n",
    "* `queue_date`\n",
    "\n",
    "Columns that are usually the same for ID duplicates are:\n",
    "* `queue_year`\n",
    "* `queue_status`\n",
    "* `interconnection_service_type`\n",
    "* `interconnection_status_lbnl`\n",
    "* `utility`\n",
    "* `resource_type_X`\n",
    "\n",
    "**Assumption / value judgment: if the only differences are dates, then the project is probably the same. The date differences are probably due to the project being resubmitted for contingency.**"
   ]
  },
  {
   "cell_type": "code",
   "execution_count": 22,
   "metadata": {},
   "outputs": [
    {
     "data": {
      "text/plain": [
       "mean    0.0\n",
       "sum     0.0\n",
       "dtype: float64"
      ]
     },
     "execution_count": 22,
     "metadata": {},
     "output_type": "execute_result"
    }
   ],
   "source": [
    "# zero dupes in GS! This matches up with the zero dupes in active LBNL projects because it only includes ISO regions.\n",
    "ids_gs = ['region', 'queue_id']\n",
    "gs.duplicated(subset=ids_gs, keep=False).agg(['mean', 'sum'])"
   ]
  },
  {
   "cell_type": "markdown",
   "metadata": {},
   "source": [
    "I lost a bunch of work here when the container crashed while I updated drivers in the host OS. I'm not going to re-do it, but here were some takeaways:\n",
    "* PJM is missing proposed_completion_date due to a bug in GridStatus's ETL code.\n",
    "* fixed some misidentified columns in GS ETL code\n",
    "* updated LBNL duplicate prioritization to take the keep the record with the latest `date_proposed`, `queue_date`, and `interconnection_status_lbnl`\n",
    "  * this fixes all but one ID duplicate (excepting LADWP and DominionSC, which have errors in the source data for queue_id, and WAPA, whose queue_id needs to be combined with state into a composite key)"
   ]
  },
  {
   "cell_type": "code",
   "execution_count": 23,
   "metadata": {},
   "outputs": [],
   "source": [
    "dupe_keys_lbnl = [\n",
    "        \"point_of_interconnection_clean\",  # string normalization on point_of_interconnection\n",
    "        \"capacity_mw_resource_1\",\n",
    "        \"county_1\",\n",
    "        \"raw_state_name\",  # not often useful but is a nearly certain differentiator\n",
    "        \"utility_clean\",  # utility.fillna(region)\n",
    "        \"resource_type_1\",  # not often useful but is a nearly certain differentiator\n",
    "    ]\n",
    "dupe_keys_gs = [\n",
    "        \"point_of_interconnection_clean\",\n",
    "        \"capacity_mw\",\n",
    "        \"county\",\n",
    "        \"state\",\n",
    "        \"utility_clean\",\n",
    "        \"resource\",\n",
    "    ]"
   ]
  },
  {
   "cell_type": "code",
   "execution_count": 24,
   "metadata": {},
   "outputs": [],
   "source": [
    "def normalize_poi(ser: pd.Series) -> pd.Series:\n",
    "    # Essentially a poor man's bag-of-words model.\n",
    "    out = (\n",
    "        ser\n",
    "        .astype(\"string\")\n",
    "        .str.lower()\n",
    "        .str.replace(\"-| +\", \" \", regex=True)\n",
    "        .str.replace(r\"(?:sub)station|kv| at |tbd\", \"\", regex=True)\n",
    "        .fillna(\"\")\n",
    "    )\n",
    "    out = pd.Series(\n",
    "       [\" \".join(sorted(x)) for x in out.str.split()],\n",
    "        index=out.index,\n",
    "       dtype=\"string\",\n",
    "    ).str.strip()\n",
    "    out.replace(\"\", pd.NA, inplace=True)\n",
    "    return out\n",
    "gs.loc[:, 'point_of_interconnection_clean'] = normalize_poi(gs['point_of_interconnection'])\n",
    "gs['utility_clean'] = gs['utility'].fillna(gs['region'])"
   ]
  },
  {
   "cell_type": "code",
   "execution_count": 25,
   "metadata": {},
   "outputs": [
    {
     "name": "stdout",
     "output_type": "stream",
     "text": [
      "<class 'pandas.core.frame.DataFrame'>\n",
      "Int64Index: 8233 entries, 0 to 987\n",
      "Data columns (total 2 columns):\n",
      " #   Column                          Non-Null Count  Dtype \n",
      "---  ------                          --------------  ----- \n",
      " 0   point_of_interconnection        7706 non-null   string\n",
      " 1   point_of_interconnection_clean  7705 non-null   string\n",
      "dtypes: string(2)\n",
      "memory usage: 193.0 KB\n"
     ]
    }
   ],
   "source": [
    "gs[['point_of_interconnection', 'point_of_interconnection_clean']].info()"
   ]
  },
  {
   "cell_type": "code",
   "execution_count": 26,
   "metadata": {},
   "outputs": [
    {
     "data": {
      "text/html": [
       "<div>\n",
       "<style scoped>\n",
       "    .dataframe tbody tr th:only-of-type {\n",
       "        vertical-align: middle;\n",
       "    }\n",
       "\n",
       "    .dataframe tbody tr th {\n",
       "        vertical-align: top;\n",
       "    }\n",
       "\n",
       "    .dataframe thead th {\n",
       "        text-align: right;\n",
       "    }\n",
       "</style>\n",
       "<table border=\"1\" class=\"dataframe\">\n",
       "  <thead>\n",
       "    <tr style=\"text-align: right;\">\n",
       "      <th></th>\n",
       "      <th>mean</th>\n",
       "      <th>sum</th>\n",
       "    </tr>\n",
       "  </thead>\n",
       "  <tbody>\n",
       "    <tr>\n",
       "      <th>point_of_interconnection_clean</th>\n",
       "      <td>0.064132</td>\n",
       "      <td>528.0</td>\n",
       "    </tr>\n",
       "    <tr>\n",
       "      <th>capacity_mw</th>\n",
       "      <td>0.002429</td>\n",
       "      <td>20.0</td>\n",
       "    </tr>\n",
       "    <tr>\n",
       "      <th>county</th>\n",
       "      <td>0.012268</td>\n",
       "      <td>101.0</td>\n",
       "    </tr>\n",
       "    <tr>\n",
       "      <th>state</th>\n",
       "      <td>0.003401</td>\n",
       "      <td>28.0</td>\n",
       "    </tr>\n",
       "    <tr>\n",
       "      <th>utility_clean</th>\n",
       "      <td>0.000000</td>\n",
       "      <td>0.0</td>\n",
       "    </tr>\n",
       "    <tr>\n",
       "      <th>resource</th>\n",
       "      <td>0.013118</td>\n",
       "      <td>108.0</td>\n",
       "    </tr>\n",
       "    <tr>\n",
       "      <th>utility</th>\n",
       "      <td>0.210009</td>\n",
       "      <td>1729.0</td>\n",
       "    </tr>\n",
       "    <tr>\n",
       "      <th>point_of_interconnection</th>\n",
       "      <td>0.064011</td>\n",
       "      <td>527.0</td>\n",
       "    </tr>\n",
       "  </tbody>\n",
       "</table>\n",
       "</div>"
      ],
      "text/plain": [
       "                                    mean     sum\n",
       "point_of_interconnection_clean  0.064132   528.0\n",
       "capacity_mw                     0.002429    20.0\n",
       "county                          0.012268   101.0\n",
       "state                           0.003401    28.0\n",
       "utility_clean                   0.000000     0.0\n",
       "resource                        0.013118   108.0\n",
       "utility                         0.210009  1729.0\n",
       "point_of_interconnection        0.064011   527.0"
      ]
     },
     "execution_count": 26,
     "metadata": {},
     "output_type": "execute_result"
    }
   ],
   "source": [
    "gs[dupe_keys_gs + ['utility', 'point_of_interconnection']].isna().agg(['mean', 'sum']).T"
   ]
  },
  {
   "cell_type": "code",
   "execution_count": 27,
   "metadata": {},
   "outputs": [
    {
     "data": {
      "text/plain": [
       "mean      0.091704\n",
       "sum     755.000000\n",
       "dtype: float64"
      ]
     },
     "execution_count": 27,
     "metadata": {},
     "output_type": "execute_result"
    }
   ],
   "source": [
    "is_dupe_gs = gs.duplicated(subset=dupe_keys_gs, keep=False)\n",
    "is_dupe_gs.agg(['mean', 'sum'])"
   ]
  },
  {
   "cell_type": "code",
   "execution_count": 28,
   "metadata": {},
   "outputs": [
    {
     "data": {
      "text/plain": [
       "mean       0.109495\n",
       "sum     1122.000000\n",
       "dtype: float64"
      ]
     },
     "execution_count": 28,
     "metadata": {},
     "output_type": "execute_result"
    }
   ],
   "source": [
    "# compare to LBNL\n",
    "active_lbnl['utility_clean'] = active_lbnl['utility'].fillna(active_lbnl['entity'])\n",
    "active_lbnl['point_of_interconnection_clean'] = normalize_poi(active_lbnl['point_of_interconnection'])\n",
    "is_dupe_lbnl = active_lbnl.duplicated(subset=dupe_keys_lbnl, keep=False)\n",
    "is_dupe_lbnl.agg(['mean', 'sum'])"
   ]
  },
  {
   "cell_type": "code",
   "execution_count": 30,
   "metadata": {},
   "outputs": [
    {
     "data": {
      "text/plain": [
       "(10247, 32)"
      ]
     },
     "execution_count": 30,
     "metadata": {},
     "output_type": "execute_result"
    }
   ],
   "source": [
    "active_lbnl.shape"
   ]
  },
  {
   "cell_type": "code",
   "execution_count": 29,
   "metadata": {},
   "outputs": [
    {
     "data": {
      "text/html": [
       "<div>\n",
       "<style scoped>\n",
       "    .dataframe tbody tr th:only-of-type {\n",
       "        vertical-align: middle;\n",
       "    }\n",
       "\n",
       "    .dataframe tbody tr th {\n",
       "        vertical-align: top;\n",
       "    }\n",
       "\n",
       "    .dataframe thead th {\n",
       "        text-align: right;\n",
       "    }\n",
       "</style>\n",
       "<table border=\"1\" class=\"dataframe\">\n",
       "  <thead>\n",
       "    <tr style=\"text-align: right;\">\n",
       "      <th></th>\n",
       "      <th>mean</th>\n",
       "      <th>sum</th>\n",
       "    </tr>\n",
       "  </thead>\n",
       "  <tbody>\n",
       "    <tr>\n",
       "      <th>point_of_interconnection_clean</th>\n",
       "      <td>0.007514</td>\n",
       "      <td>77.0</td>\n",
       "    </tr>\n",
       "    <tr>\n",
       "      <th>capacity_mw_resource_1</th>\n",
       "      <td>0.016005</td>\n",
       "      <td>164.0</td>\n",
       "    </tr>\n",
       "    <tr>\n",
       "      <th>county_1</th>\n",
       "      <td>0.036791</td>\n",
       "      <td>377.0</td>\n",
       "    </tr>\n",
       "    <tr>\n",
       "      <th>raw_state_name</th>\n",
       "      <td>0.033961</td>\n",
       "      <td>348.0</td>\n",
       "    </tr>\n",
       "    <tr>\n",
       "      <th>utility_clean</th>\n",
       "      <td>0.000000</td>\n",
       "      <td>0.0</td>\n",
       "    </tr>\n",
       "    <tr>\n",
       "      <th>resource_type_1</th>\n",
       "      <td>0.000390</td>\n",
       "      <td>4.0</td>\n",
       "    </tr>\n",
       "    <tr>\n",
       "      <th>utility</th>\n",
       "      <td>0.147946</td>\n",
       "      <td>1516.0</td>\n",
       "    </tr>\n",
       "    <tr>\n",
       "      <th>point_of_interconnection</th>\n",
       "      <td>0.006636</td>\n",
       "      <td>68.0</td>\n",
       "    </tr>\n",
       "  </tbody>\n",
       "</table>\n",
       "</div>"
      ],
      "text/plain": [
       "                                    mean     sum\n",
       "point_of_interconnection_clean  0.007514    77.0\n",
       "capacity_mw_resource_1          0.016005   164.0\n",
       "county_1                        0.036791   377.0\n",
       "raw_state_name                  0.033961   348.0\n",
       "utility_clean                   0.000000     0.0\n",
       "resource_type_1                 0.000390     4.0\n",
       "utility                         0.147946  1516.0\n",
       "point_of_interconnection        0.006636    68.0"
      ]
     },
     "execution_count": 29,
     "metadata": {},
     "output_type": "execute_result"
    }
   ],
   "source": [
    "active_lbnl[dupe_keys_lbnl + ['utility', 'point_of_interconnection']].isna().agg(['mean', 'sum']).T"
   ]
  },
  {
   "cell_type": "markdown",
   "metadata": {},
   "source": [
    "Now determine which duplicate to keep. Can use the same general approach as for LBNL queues, but GS doesn't have a standardized interconnection status, and PJM is currently missing proposed completion date (but will not in the future)."
   ]
  }
 ],
 "metadata": {
  "kernelspec": {
   "display_name": "Python 3",
   "language": "python",
   "name": "python3"
  },
  "language_info": {
   "codemirror_mode": {
    "name": "ipython",
    "version": 3
   },
   "file_extension": ".py",
   "mimetype": "text/x-python",
   "name": "python",
   "nbconvert_exporter": "python",
   "pygments_lexer": "ipython3",
   "version": "3.10.11"
  }
 },
 "nbformat": 4,
 "nbformat_minor": 2
}
