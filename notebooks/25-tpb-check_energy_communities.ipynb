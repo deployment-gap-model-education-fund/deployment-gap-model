{
 "cells": [
  {
   "cell_type": "code",
   "execution_count": 1,
   "id": "35a93864-0131-4ac9-92d9-a5b08b50a722",
   "metadata": {},
   "outputs": [],
   "source": [
    "import pandas as pd\n",
    "import numpy as np\n",
    "import matplotlib.pyplot as plt"
   ]
  },
  {
   "cell_type": "code",
   "execution_count": 4,
   "id": "6b5f8a1c-2ffe-42ad-b09d-b919140a7ff4",
   "metadata": {},
   "outputs": [],
   "source": [
    "ec = pd.read_parquet('../data/raw/rmi_energy_communities_counties.parquet')"
   ]
  },
  {
   "cell_type": "code",
   "execution_count": 5,
   "id": "848617dd-f261-404b-9cbc-42326fb516db",
   "metadata": {},
   "outputs": [
    {
     "name": "stdout",
     "output_type": "stream",
     "text": [
      "<class 'pandas.core.frame.DataFrame'>\n",
      "Index: 2927 entries, 01043 to 48235\n",
      "Data columns (total 9 columns):\n",
      " #   Column                            Non-Null Count  Dtype  \n",
      "---  ------                            --------------  -----  \n",
      " 0   county_name                       2927 non-null   object \n",
      " 1   state_name                        2927 non-null   object \n",
      " 2   num_brownfields                   2927 non-null   int64  \n",
      " 3   brownfield_acreage                2927 non-null   float64\n",
      " 4   brownfield_acreage_mean_fill      2927 non-null   float64\n",
      " 5   brownfield_acreage_median_fill    2927 non-null   float64\n",
      " 6   num_coal_qualifying_tracts        2927 non-null   int64  \n",
      " 7   percent_of_county_coal_qualified  2927 non-null   float64\n",
      " 8   qualifies_by_employment_criteria  2927 non-null   bool   \n",
      "dtypes: bool(1), float64(4), int64(2), object(2)\n",
      "memory usage: 208.7+ KB\n"
     ]
    }
   ],
   "source": [
    "ec.info()"
   ]
  },
  {
   "cell_type": "code",
   "execution_count": 6,
   "id": "2a047f98-c0df-44cd-b542-374520db81bf",
   "metadata": {},
   "outputs": [],
   "source": [
    "brownfield_acreages = ['brownfield_acreage', 'brownfield_acreage_mean_fill', 'brownfield_acreage_median_fill']"
   ]
  },
  {
   "cell_type": "code",
   "execution_count": 7,
   "id": "b44a0736-73b8-491e-97ac-605d42bf61d1",
   "metadata": {},
   "outputs": [
    {
     "data": {
      "text/plain": [
       "brownfield_acreage                30458851.44\n",
       "brownfield_acreage_mean_fill      71928448.65\n",
       "brownfield_acreage_median_fill    30813940.72\n",
       "dtype: float64"
      ]
     },
     "execution_count": 7,
     "metadata": {},
     "output_type": "execute_result"
    }
   ],
   "source": [
    "ec[brownfield_acreages].sum()"
   ]
  },
  {
   "cell_type": "code",
   "execution_count": 8,
   "id": "1b584ba8-cd1a-420f-ab22-90ca5e2f53c6",
   "metadata": {},
   "outputs": [
    {
     "data": {
      "text/plain": [
       "array([[<AxesSubplot: title={'center': 'brownfield_acreage'}>,\n",
       "        <AxesSubplot: title={'center': 'brownfield_acreage_mean_fill'}>],\n",
       "       [<AxesSubplot: title={'center': 'brownfield_acreage_median_fill'}>,\n",
       "        <AxesSubplot: >]], dtype=object)"
      ]
     },
     "execution_count": 8,
     "metadata": {},
     "output_type": "execute_result"
    },
    {
     "data": {
      "image/png": "[encoded data removed]",
      "text/plain": [
       "<Figure size 640x480 with 4 Axes>"
      ]
     },
     "metadata": {},
     "output_type": "display_data"
    }
   ],
   "source": [
    "ec[brownfield_acreages].hist(bins=50, log=True)"
   ]
  },
  {
   "cell_type": "code",
   "execution_count": 9,
   "id": "ae55b484-3566-4780-a5cf-5ba87351e187",
   "metadata": {},
   "outputs": [
    {
     "data": {
      "text/html": [
       "<div>\n",
       "<style scoped>\n",
       "    .dataframe tbody tr th:only-of-type {\n",
       "        vertical-align: middle;\n",
       "    }\n",
       "\n",
       "    .dataframe tbody tr th {\n",
       "        vertical-align: top;\n",
       "    }\n",
       "\n",
       "    .dataframe thead th {\n",
       "        text-align: right;\n",
       "    }\n",
       "</style>\n",
       "<table border=\"1\" class=\"dataframe\">\n",
       "  <thead>\n",
       "    <tr style=\"text-align: right;\">\n",
       "      <th></th>\n",
       "      <th>brownfield_acreage</th>\n",
       "      <th>brownfield_acreage_mean_fill</th>\n",
       "      <th>brownfield_acreage_median_fill</th>\n",
       "    </tr>\n",
       "  </thead>\n",
       "  <tbody>\n",
       "    <tr>\n",
       "      <th>sum</th>\n",
       "      <td>419.00000</td>\n",
       "      <td>148.000000</td>\n",
       "      <td>148.000000</td>\n",
       "    </tr>\n",
       "    <tr>\n",
       "      <th>mean</th>\n",
       "      <td>0.14315</td>\n",
       "      <td>0.050564</td>\n",
       "      <td>0.050564</td>\n",
       "    </tr>\n",
       "  </tbody>\n",
       "</table>\n",
       "</div>"
      ],
      "text/plain": [
       "      brownfield_acreage  brownfield_acreage_mean_fill  \\\n",
       "sum            419.00000                    148.000000   \n",
       "mean             0.14315                      0.050564   \n",
       "\n",
       "      brownfield_acreage_median_fill  \n",
       "sum                       148.000000  \n",
       "mean                        0.050564  "
      ]
     },
     "execution_count": 9,
     "metadata": {},
     "output_type": "execute_result"
    }
   ],
   "source": [
    "ec[brownfield_acreages].eq(0).agg(['sum', 'mean'])"
   ]
  },
  {
   "cell_type": "code",
   "execution_count": 10,
   "id": "3ca795ff-c2bf-45a2-88ac-b84bd709e9cf",
   "metadata": {},
   "outputs": [
    {
     "data": {
      "text/plain": [
       "array([[<AxesSubplot: title={'center': 'brownfield_acreage'}>,\n",
       "        <AxesSubplot: title={'center': 'brownfield_acreage_mean_fill'}>],\n",
       "       [<AxesSubplot: title={'center': 'brownfield_acreage_median_fill'}>,\n",
       "        <AxesSubplot: >]], dtype=object)"
      ]
     },
     "execution_count": 10,
     "metadata": {},
     "output_type": "execute_result"
    },
    {
     "data": {
      "image/png": "[encoded data removed]",
      "text/plain": [
       "<Figure size 640x480 with 4 Axes>"
      ]
     },
     "metadata": {},
     "output_type": "display_data"
    }
   ],
   "source": [
    "ec[brownfield_acreages].replace(0, np.nan).transform(np.log10).hist(bins=50, log=True)"
   ]
  },
  {
   "cell_type": "markdown",
   "id": "b011d6ff-9098-4c91-bf31-61299302233c",
   "metadata": {},
   "source": [
    "## Look at raw data"
   ]
  },
  {
   "cell_type": "code",
   "execution_count": 12,
   "id": "8750844e-6c7b-4e09-bc34-98016eb557ff",
   "metadata": {},
   "outputs": [],
   "source": [
    "# this data is stored locally, not on git. See RMI repo for source URL\n",
    "# https://github.com/catalyst-cooperative/rmi-energy-communities/blob/brownfields-acreage/src/energy_comms/extract/epa.py\n",
    "raw = pd.read_excel('../data/data_cache/re-powering-screening-dataset-2022.xlsx', sheet_name='RE-Powering Sites ')"
   ]
  },
  {
   "cell_type": "code",
   "execution_count": 13,
   "id": "524180e7-5351-429e-aefd-ec5f10108cf0",
   "metadata": {},
   "outputs": [
    {
     "name": "stdout",
     "output_type": "stream",
     "text": [
      "<class 'pandas.core.frame.DataFrame'>\n",
      "RangeIndex: 190976 entries, 0 to 190975\n",
      "Data columns (total 50 columns):\n",
      " #   Column                                                                 Non-Null Count   Dtype  \n",
      "---  ------                                                                 --------------   -----  \n",
      " 0   Cross-Reference Number                                                 190976 non-null  int64  \n",
      " 1   EPA Region                                                             190976 non-null  int64  \n",
      " 2   State                                                                  190976 non-null  object \n",
      " 3   Program                                                                190976 non-null  object \n",
      " 4   Site ID                                                                190976 non-null  object \n",
      " 5   Site Information                                                       190961 non-null  object \n",
      " 6   Site Name                                                              189301 non-null  object \n",
      " 7   Address                                                                168433 non-null  object \n",
      " 8   City                                                                   171299 non-null  object \n",
      " 9   County                                                                 190976 non-null  object \n",
      " 10  Zip Code                                                               129443 non-null  object \n",
      " 11  Acreage (Acres)                                                        82089 non-null   float64\n",
      " 12  Known Landfill                                                         18298 non-null   object \n",
      " 13  Known Abandoned Mine Land                                              17756 non-null   object \n",
      " 14  RE-Powering Profile                                                    190976 non-null  object \n",
      " 15  Estimated PV Capacity (MW)                                             72754 non-null   float64\n",
      " 16  Utility Scale PV                                                       8486 non-null    object \n",
      " 17  Distributed Scale PV                                                   64268 non-null   object \n",
      " 18  Off-grid PV                                                            82090 non-null   object \n",
      " 19  No Acreage PV                                                          108886 non-null  object \n",
      " 20  Maximum Annual GHI (kWh/m2/day)                                        187314 non-null  float64\n",
      " 21  Estimated Wind Energy Capacity (MW)                                    10286 non-null   float64\n",
      " 22  Utility Scale Wind                                                     516 non-null     object \n",
      " 23  Community Scale Wind                                                   9770 non-null    object \n",
      " 24  Facility Scale Wind                                                    18851 non-null   object \n",
      " 25  No Acreage Wind                                                        82627 non-null   object \n",
      " 26  Wind speed at 40 m (m/s)                                               190323 non-null  float64\n",
      " 27  Wind speed at 80 m (m/s)                                               190323 non-null  float64\n",
      " 28  Wind speed at 100 m (m/s)                                              189650 non-null  float64\n",
      " 29  Biopower Facility Potential                                            16990 non-null   object \n",
      " 30  Biorefinery Facility Potential                                         3667 non-null    object \n",
      " 31  Cumulative Biopower  Residues (metric tons / year within 50 miles)     190699 non-null  float64\n",
      " 32  Cumulative Biorefinery  Residues (metric tons / year within 50 miles)  190699 non-null  float64\n",
      " 33  Crop Residues (metric tons / year within 50 miles)                     190699 non-null  float64\n",
      " 34  Forest Residues (metric tons / year within 50 miles)                   190699 non-null  float64\n",
      " 35  Primary Mill Residues (metric tons / year within 50 miles)             190699 non-null  float64\n",
      " 36  Secondary Mill Residues (metric tons / year within 50 miles)           190699 non-null  float64\n",
      " 37  Urban Waste Wood Residues (metric tons / year within 50 miles)         190699 non-null  float64\n",
      " 38  Geothermal Heat Pump Potential                                         190956 non-null  object \n",
      " 39  Surface Temperature (°C)                                               181807 non-null  float64\n",
      " 40  Permafrost Presence                                                    20 non-null      object \n",
      " 41  Distance to Nearest Substation (miles)                                 190975 non-null  float64\n",
      " 42  Nearest Substation Voltage (Volts)                                     136937 non-null  float64\n",
      " 43  Distance to Nearest Transmission Line (miles)                          190975 non-null  float64\n",
      " 44  Nearest Transmission Line Status                                       190976 non-null  object \n",
      " 45  Nearest Transmission Line kV (kilovolts)                               162687 non-null  float64\n",
      " 46  Distance to Nearest Road (miles)                                       190975 non-null  float64\n",
      " 47  Distance to Nearest Rail (miles)                                       190975 non-null  float64\n",
      " 48  Latitude                                                               190976 non-null  float64\n",
      " 49  Longitude                                                              190976 non-null  float64\n",
      "dtypes: float64(23), int64(2), object(25)\n",
      "memory usage: 72.9+ MB\n"
     ]
    }
   ],
   "source": [
    "raw.info()"
   ]
  },
  {
   "cell_type": "code",
   "execution_count": 14,
   "id": "10dd8be6-bcff-4537-8bf0-5b0b8c895f3f",
   "metadata": {},
   "outputs": [
    {
     "data": {
      "text/plain": [
       "BROWNFIELDS                                                                                  35067\n",
       "WISCONSIN DEPARTMENT OF NATURAL RESOURCES REMEDIATION SITES                                  29659\n",
       "MINNESOTA POLLUTION CONTROL AGENCY REMEDIATION SITES                                         23828\n",
       "NEW JERSEY SITE REMEDIATION                                                                  13639\n",
       "FLORIDA WASTE CLEANUP PROGRAM                                                                11492\n",
       "WEST VIRGINIA ABANDONED COAL MINE AREAS                                                       6339\n",
       "FLORIDA SOLID WASTE MANAGEMENT                                                                6051\n",
       "CALIFORNIA DTSC CLEANUP PROGRAM                                                               6030\n",
       "ILLINOIS SITE REMEDIATION PROGRAM                                                             6028\n",
       "PENNSYLVANIA ABANDONED COAL MINE LANDS                                                        5586\n",
       "OREGON DEQ ENVIRONMENTAL CLEANUP PROGRAM                                                      5488\n",
       "NEW YORK ENVIRONMENTAL SITE REMEDIATION PROGRAM                                               3949\n",
       "RCRA                                                                                          3864\n",
       "TEXAS VOLUNTARY CLEANUP PROGRAM                                                               2995\n",
       "WISCONSIN DEPARTMENT OF NATURAL RESOURCES - WASTE MATERIALS MANAGEMENT PROGRAM                2886\n",
       "NORTH CAROLINA HAZARDOUS WASTE SITES                                                          2577\n",
       "MAINE REMEDIATION SITES                                                                       2504\n",
       "LANDFILL METHANE OUTREACH PROGRAM                                                             2295\n",
       "SUPERFUND                                                                                     1885\n",
       "MARYLAND LAND RESTORATION PROGRAM                                                             1796\n",
       "IOWA LAND RECYCLING PROGRAM                                                                   1694\n",
       "VIRGINIA ABANDONED COAL MINE AREAS                                                            1647\n",
       "MISSOURI INDUSTRIAL MINERALS UNIT                                                             1473\n",
       "FLORIDA INSTITUTIONAL CONTROL REGISTRY                                                        1427\n",
       "COLORADO VOLUNTARY CLEANUP AND REDEVELOPMENT PROGRAM                                          1239\n",
       "NEW JERSEY GEOLOGICAL AND WATER SURVEY                                                        1121\n",
       "TEXAS MUNICIPAL SOLID WASTE                                                                   1005\n",
       "MASSACHUSETTS CONTAMINATED LANDS                                                               994\n",
       "NORTH CAROLINA BROWNFIELD PROJECTS                                                             973\n",
       "HAWAII HAZARD EVALUATION AND EMERGENCY RESPONSE OFFICE                                         682\n",
       "NORTH CAROLINA PERMITTED SOLID WASTE LANDFILLS                                                 673\n",
       "NORTH CAROLINA PREREGULATORY LANDFILLS                                                         656\n",
       "VIRGINIA ORPHAN LAND PROGRAM                                                                   621\n",
       "CONNECTICUT DEPARTMENT OF ENERGY & ENVIRONMENTAL PROTECTION                                    486\n",
       "MASSACHUSETTS LANDFILL                                                                         485\n",
       "FLORIDA BROWNFIELD                                                                             404\n",
       "AML                                                                                            315\n",
       "CONNECTICUT CLOSED LANDFILLS                                                                   240\n",
       "COLORADO INSTITUTIONAL CONTROL                                                                 225\n",
       "ILLINOIS OFFICE OF SITE EVALUATIONS ASSESSMENT                                                 125\n",
       "NEW JERSEY SOLID & HAZARDOUS WASTE                                                             102\n",
       "COLORADO BROWNFIELD                                                                             95\n",
       "TEXAS STATE SUPERFUND PROGRAM                                                                   95\n",
       "MISSOURI ABANDONED MINE LAND                                                                    93\n",
       "COLORADO  MUNICIPAL LANDFILLS                                                                   54\n",
       "UNDERGROUND STORAGE TANKS                                                                       50\n",
       "COLORADO URANIUM MILL TAILINGS RADIATION CONTROL ACT                                            18\n",
       "RHODE ISLAND DEM'S OFFICE OF LAND REVITALIZATION & SUSTAINABLE MATERIALS MANAGEMENT SITES       14\n",
       "MISSOURI METALLIC MINERALS UNIT                                                                 12\n",
       "Name: Program, dtype: int64"
      ]
     },
     "execution_count": 14,
     "metadata": {},
     "output_type": "execute_result"
    }
   ],
   "source": [
    "raw['Program'].value_counts()"
   ]
  },
  {
   "cell_type": "code",
   "execution_count": 15,
   "id": "11f3a224-45ad-4c7b-85cc-76a3cf283b5c",
   "metadata": {},
   "outputs": [],
   "source": [
    "bf = raw.loc[raw['Program'].ne('SUPERFUND'),:]  # exclude superfund sites because they are not IRA elligible"
   ]
  },
  {
   "cell_type": "code",
   "execution_count": 16,
   "id": "fc4c116e-6b6d-49bb-9503-778956126e5b",
   "metadata": {},
   "outputs": [
    {
     "data": {
      "text/plain": [
       "30584722.394913986"
      ]
     },
     "execution_count": 16,
     "metadata": {},
     "output_type": "execute_result"
    }
   ],
   "source": [
    "bf['Acreage (Acres)'].sum()"
   ]
  },
  {
   "cell_type": "code",
   "execution_count": 17,
   "id": "99a1014c-1b10-4511-9224-1e64a8b629c5",
   "metadata": {},
   "outputs": [],
   "source": [
    "program_acres = raw.groupby('Program')['Acreage (Acres)'].agg(['size', 'count', 'mean', 'median', 'min', 'max', 'sum'])"
   ]
  },
  {
   "cell_type": "code",
   "execution_count": 18,
   "id": "70efea38-45da-4d89-a792-7dc5621e4cc9",
   "metadata": {},
   "outputs": [
    {
     "data": {
      "text/html": [
       "<div>\n",
       "<style scoped>\n",
       "    .dataframe tbody tr th:only-of-type {\n",
       "        vertical-align: middle;\n",
       "    }\n",
       "\n",
       "    .dataframe tbody tr th {\n",
       "        vertical-align: top;\n",
       "    }\n",
       "\n",
       "    .dataframe thead th {\n",
       "        text-align: right;\n",
       "    }\n",
       "</style>\n",
       "<table border=\"1\" class=\"dataframe\">\n",
       "  <thead>\n",
       "    <tr style=\"text-align: right;\">\n",
       "      <th></th>\n",
       "      <th>size</th>\n",
       "      <th>count</th>\n",
       "      <th>mean</th>\n",
       "      <th>median</th>\n",
       "      <th>min</th>\n",
       "      <th>max</th>\n",
       "      <th>sum</th>\n",
       "    </tr>\n",
       "    <tr>\n",
       "      <th>Program</th>\n",
       "      <th></th>\n",
       "      <th></th>\n",
       "      <th></th>\n",
       "      <th></th>\n",
       "      <th></th>\n",
       "      <th></th>\n",
       "      <th></th>\n",
       "    </tr>\n",
       "  </thead>\n",
       "  <tbody>\n",
       "    <tr>\n",
       "      <th>RCRA</th>\n",
       "      <td>3864</td>\n",
       "      <td>3464</td>\n",
       "      <td>4421.900595</td>\n",
       "      <td>30.000000</td>\n",
       "      <td>0.010000</td>\n",
       "      <td>2.669225e+06</td>\n",
       "      <td>1.531746e+07</td>\n",
       "    </tr>\n",
       "    <tr>\n",
       "      <th>CALIFORNIA DTSC CLEANUP PROGRAM</th>\n",
       "      <td>6030</td>\n",
       "      <td>2126</td>\n",
       "      <td>4588.184855</td>\n",
       "      <td>7.000000</td>\n",
       "      <td>0.003000</td>\n",
       "      <td>1.100000e+06</td>\n",
       "      <td>9.754481e+06</td>\n",
       "    </tr>\n",
       "    <tr>\n",
       "      <th>SUPERFUND</th>\n",
       "      <td>1885</td>\n",
       "      <td>1732</td>\n",
       "      <td>5207.480276</td>\n",
       "      <td>40.000000</td>\n",
       "      <td>0.010000</td>\n",
       "      <td>9.180000e+05</td>\n",
       "      <td>9.019356e+06</td>\n",
       "    </tr>\n",
       "    <tr>\n",
       "      <th>BROWNFIELDS</th>\n",
       "      <td>35067</td>\n",
       "      <td>32263</td>\n",
       "      <td>45.990887</td>\n",
       "      <td>1.000000</td>\n",
       "      <td>0.010000</td>\n",
       "      <td>1.680000e+05</td>\n",
       "      <td>1.483804e+06</td>\n",
       "    </tr>\n",
       "    <tr>\n",
       "      <th>OREGON DEQ ENVIRONMENTAL CLEANUP PROGRAM</th>\n",
       "      <td>5488</td>\n",
       "      <td>2870</td>\n",
       "      <td>409.473710</td>\n",
       "      <td>4.610000</td>\n",
       "      <td>0.020000</td>\n",
       "      <td>8.770000e+05</td>\n",
       "      <td>1.175190e+06</td>\n",
       "    </tr>\n",
       "    <tr>\n",
       "      <th>PENNSYLVANIA ABANDONED COAL MINE LANDS</th>\n",
       "      <td>5586</td>\n",
       "      <td>5586</td>\n",
       "      <td>192.503744</td>\n",
       "      <td>150.902018</td>\n",
       "      <td>0.209345</td>\n",
       "      <td>3.768390e+03</td>\n",
       "      <td>1.075326e+06</td>\n",
       "    </tr>\n",
       "    <tr>\n",
       "      <th>WEST VIRGINIA ABANDONED COAL MINE AREAS</th>\n",
       "      <td>6339</td>\n",
       "      <td>6338</td>\n",
       "      <td>69.932873</td>\n",
       "      <td>21.645368</td>\n",
       "      <td>0.017512</td>\n",
       "      <td>2.925027e+03</td>\n",
       "      <td>4.432345e+05</td>\n",
       "    </tr>\n",
       "    <tr>\n",
       "      <th>VIRGINIA ABANDONED COAL MINE AREAS</th>\n",
       "      <td>1647</td>\n",
       "      <td>1647</td>\n",
       "      <td>160.279704</td>\n",
       "      <td>5.499233</td>\n",
       "      <td>0.000015</td>\n",
       "      <td>6.695354e+04</td>\n",
       "      <td>2.639807e+05</td>\n",
       "    </tr>\n",
       "    <tr>\n",
       "      <th>NEW YORK ENVIRONMENTAL SITE REMEDIATION PROGRAM</th>\n",
       "      <td>3949</td>\n",
       "      <td>3949</td>\n",
       "      <td>62.145394</td>\n",
       "      <td>2.802946</td>\n",
       "      <td>0.010268</td>\n",
       "      <td>8.133778e+04</td>\n",
       "      <td>2.454122e+05</td>\n",
       "    </tr>\n",
       "    <tr>\n",
       "      <th>LANDFILL METHANE OUTREACH PROGRAM</th>\n",
       "      <td>2295</td>\n",
       "      <td>1782</td>\n",
       "      <td>120.254506</td>\n",
       "      <td>80.000000</td>\n",
       "      <td>1.000000</td>\n",
       "      <td>1.620000e+03</td>\n",
       "      <td>2.142935e+05</td>\n",
       "    </tr>\n",
       "    <tr>\n",
       "      <th>MINNESOTA POLLUTION CONTROL AGENCY REMEDIATION SITES</th>\n",
       "      <td>23828</td>\n",
       "      <td>7011</td>\n",
       "      <td>23.162883</td>\n",
       "      <td>1.990000</td>\n",
       "      <td>0.010000</td>\n",
       "      <td>4.800000e+04</td>\n",
       "      <td>1.623950e+05</td>\n",
       "    </tr>\n",
       "    <tr>\n",
       "      <th>MISSOURI INDUSTRIAL MINERALS UNIT</th>\n",
       "      <td>1473</td>\n",
       "      <td>1473</td>\n",
       "      <td>89.428358</td>\n",
       "      <td>20.139903</td>\n",
       "      <td>0.175875</td>\n",
       "      <td>2.151083e+03</td>\n",
       "      <td>1.317280e+05</td>\n",
       "    </tr>\n",
       "    <tr>\n",
       "      <th>MARYLAND LAND RESTORATION PROGRAM</th>\n",
       "      <td>1796</td>\n",
       "      <td>1343</td>\n",
       "      <td>61.208012</td>\n",
       "      <td>6.070000</td>\n",
       "      <td>0.000600</td>\n",
       "      <td>1.600000e+04</td>\n",
       "      <td>8.220236e+04</td>\n",
       "    </tr>\n",
       "    <tr>\n",
       "      <th>MAINE REMEDIATION SITES</th>\n",
       "      <td>2504</td>\n",
       "      <td>1799</td>\n",
       "      <td>21.815153</td>\n",
       "      <td>2.500000</td>\n",
       "      <td>0.020000</td>\n",
       "      <td>6.608000e+03</td>\n",
       "      <td>3.924546e+04</td>\n",
       "    </tr>\n",
       "    <tr>\n",
       "      <th>VIRGINIA ORPHAN LAND PROGRAM</th>\n",
       "      <td>621</td>\n",
       "      <td>621</td>\n",
       "      <td>52.665055</td>\n",
       "      <td>18.166921</td>\n",
       "      <td>0.545425</td>\n",
       "      <td>1.906934e+03</td>\n",
       "      <td>3.270500e+04</td>\n",
       "    </tr>\n",
       "    <tr>\n",
       "      <th>WISCONSIN DEPARTMENT OF NATURAL RESOURCES - WASTE MATERIALS MANAGEMENT PROGRAM</th>\n",
       "      <td>2886</td>\n",
       "      <td>2886</td>\n",
       "      <td>7.510799</td>\n",
       "      <td>1.997432</td>\n",
       "      <td>0.012455</td>\n",
       "      <td>6.601632e+02</td>\n",
       "      <td>2.167617e+04</td>\n",
       "    </tr>\n",
       "    <tr>\n",
       "      <th>NORTH CAROLINA BROWNFIELD PROJECTS</th>\n",
       "      <td>973</td>\n",
       "      <td>973</td>\n",
       "      <td>20.705150</td>\n",
       "      <td>5.200000</td>\n",
       "      <td>0.053000</td>\n",
       "      <td>1.358970e+03</td>\n",
       "      <td>2.014611e+04</td>\n",
       "    </tr>\n",
       "    <tr>\n",
       "      <th>NEW JERSEY SOLID &amp; HAZARDOUS WASTE</th>\n",
       "      <td>102</td>\n",
       "      <td>102</td>\n",
       "      <td>188.333333</td>\n",
       "      <td>100.500000</td>\n",
       "      <td>13.000000</td>\n",
       "      <td>1.885000e+03</td>\n",
       "      <td>1.921000e+04</td>\n",
       "    </tr>\n",
       "    <tr>\n",
       "      <th>FLORIDA INSTITUTIONAL CONTROL REGISTRY</th>\n",
       "      <td>1427</td>\n",
       "      <td>1427</td>\n",
       "      <td>12.945659</td>\n",
       "      <td>1.450133</td>\n",
       "      <td>0.002007</td>\n",
       "      <td>1.425827e+03</td>\n",
       "      <td>1.847346e+04</td>\n",
       "    </tr>\n",
       "    <tr>\n",
       "      <th>COLORADO INSTITUTIONAL CONTROL</th>\n",
       "      <td>225</td>\n",
       "      <td>225</td>\n",
       "      <td>71.110932</td>\n",
       "      <td>5.001836</td>\n",
       "      <td>0.001631</td>\n",
       "      <td>2.270901e+03</td>\n",
       "      <td>1.599996e+04</td>\n",
       "    </tr>\n",
       "    <tr>\n",
       "      <th>MASSACHUSETTS CONTAMINATED LANDS</th>\n",
       "      <td>994</td>\n",
       "      <td>986</td>\n",
       "      <td>14.587272</td>\n",
       "      <td>2.440000</td>\n",
       "      <td>0.020000</td>\n",
       "      <td>1.060240e+03</td>\n",
       "      <td>1.438305e+04</td>\n",
       "    </tr>\n",
       "    <tr>\n",
       "      <th>CONNECTICUT CLOSED LANDFILLS</th>\n",
       "      <td>240</td>\n",
       "      <td>240</td>\n",
       "      <td>57.863833</td>\n",
       "      <td>23.375000</td>\n",
       "      <td>0.920000</td>\n",
       "      <td>1.718390e+03</td>\n",
       "      <td>1.388732e+04</td>\n",
       "    </tr>\n",
       "    <tr>\n",
       "      <th>MASSACHUSETTS LANDFILL</th>\n",
       "      <td>485</td>\n",
       "      <td>485</td>\n",
       "      <td>19.234474</td>\n",
       "      <td>11.040000</td>\n",
       "      <td>0.080000</td>\n",
       "      <td>1.876500e+02</td>\n",
       "      <td>9.328720e+03</td>\n",
       "    </tr>\n",
       "    <tr>\n",
       "      <th>MISSOURI METALLIC MINERALS UNIT</th>\n",
       "      <td>12</td>\n",
       "      <td>12</td>\n",
       "      <td>755.666667</td>\n",
       "      <td>447.000000</td>\n",
       "      <td>10.000000</td>\n",
       "      <td>3.105000e+03</td>\n",
       "      <td>9.068000e+03</td>\n",
       "    </tr>\n",
       "    <tr>\n",
       "      <th>MISSOURI ABANDONED MINE LAND</th>\n",
       "      <td>93</td>\n",
       "      <td>93</td>\n",
       "      <td>79.850144</td>\n",
       "      <td>33.676277</td>\n",
       "      <td>1.509386</td>\n",
       "      <td>1.806973e+03</td>\n",
       "      <td>7.426063e+03</td>\n",
       "    </tr>\n",
       "    <tr>\n",
       "      <th>FLORIDA BROWNFIELD</th>\n",
       "      <td>404</td>\n",
       "      <td>404</td>\n",
       "      <td>17.350135</td>\n",
       "      <td>4.520273</td>\n",
       "      <td>0.112902</td>\n",
       "      <td>6.116125e+02</td>\n",
       "      <td>7.009455e+03</td>\n",
       "    </tr>\n",
       "    <tr>\n",
       "      <th>COLORADO BROWNFIELD</th>\n",
       "      <td>95</td>\n",
       "      <td>88</td>\n",
       "      <td>25.713523</td>\n",
       "      <td>4.750000</td>\n",
       "      <td>0.100000</td>\n",
       "      <td>4.000000e+02</td>\n",
       "      <td>2.262790e+03</td>\n",
       "    </tr>\n",
       "    <tr>\n",
       "      <th>AML</th>\n",
       "      <td>315</td>\n",
       "      <td>7</td>\n",
       "      <td>226.142857</td>\n",
       "      <td>80.000000</td>\n",
       "      <td>3.000000</td>\n",
       "      <td>1.240000e+03</td>\n",
       "      <td>1.583000e+03</td>\n",
       "    </tr>\n",
       "    <tr>\n",
       "      <th>ILLINOIS OFFICE OF SITE EVALUATIONS ASSESSMENT</th>\n",
       "      <td>125</td>\n",
       "      <td>125</td>\n",
       "      <td>12.028960</td>\n",
       "      <td>2.750000</td>\n",
       "      <td>0.050000</td>\n",
       "      <td>1.570000e+02</td>\n",
       "      <td>1.503620e+03</td>\n",
       "    </tr>\n",
       "    <tr>\n",
       "      <th>COLORADO URANIUM MILL TAILINGS RADIATION CONTROL ACT</th>\n",
       "      <td>18</td>\n",
       "      <td>18</td>\n",
       "      <td>60.887997</td>\n",
       "      <td>46.870035</td>\n",
       "      <td>13.863773</td>\n",
       "      <td>1.293594e+02</td>\n",
       "      <td>1.095984e+03</td>\n",
       "    </tr>\n",
       "    <tr>\n",
       "      <th>RHODE ISLAND DEM'S OFFICE OF LAND REVITALIZATION &amp; SUSTAINABLE MATERIALS MANAGEMENT SITES</th>\n",
       "      <td>14</td>\n",
       "      <td>14</td>\n",
       "      <td>14.850500</td>\n",
       "      <td>8.720000</td>\n",
       "      <td>5.750000</td>\n",
       "      <td>3.700000e+01</td>\n",
       "      <td>2.079070e+02</td>\n",
       "    </tr>\n",
       "    <tr>\n",
       "      <th>FLORIDA SOLID WASTE MANAGEMENT</th>\n",
       "      <td>6051</td>\n",
       "      <td>0</td>\n",
       "      <td>NaN</td>\n",
       "      <td>NaN</td>\n",
       "      <td>NaN</td>\n",
       "      <td>NaN</td>\n",
       "      <td>0.000000e+00</td>\n",
       "    </tr>\n",
       "    <tr>\n",
       "      <th>COLORADO  MUNICIPAL LANDFILLS</th>\n",
       "      <td>54</td>\n",
       "      <td>0</td>\n",
       "      <td>NaN</td>\n",
       "      <td>NaN</td>\n",
       "      <td>NaN</td>\n",
       "      <td>NaN</td>\n",
       "      <td>0.000000e+00</td>\n",
       "    </tr>\n",
       "    <tr>\n",
       "      <th>COLORADO VOLUNTARY CLEANUP AND REDEVELOPMENT PROGRAM</th>\n",
       "      <td>1239</td>\n",
       "      <td>0</td>\n",
       "      <td>NaN</td>\n",
       "      <td>NaN</td>\n",
       "      <td>NaN</td>\n",
       "      <td>NaN</td>\n",
       "      <td>0.000000e+00</td>\n",
       "    </tr>\n",
       "    <tr>\n",
       "      <th>CONNECTICUT DEPARTMENT OF ENERGY &amp; ENVIRONMENTAL PROTECTION</th>\n",
       "      <td>486</td>\n",
       "      <td>0</td>\n",
       "      <td>NaN</td>\n",
       "      <td>NaN</td>\n",
       "      <td>NaN</td>\n",
       "      <td>NaN</td>\n",
       "      <td>0.000000e+00</td>\n",
       "    </tr>\n",
       "    <tr>\n",
       "      <th>UNDERGROUND STORAGE TANKS</th>\n",
       "      <td>50</td>\n",
       "      <td>0</td>\n",
       "      <td>NaN</td>\n",
       "      <td>NaN</td>\n",
       "      <td>NaN</td>\n",
       "      <td>NaN</td>\n",
       "      <td>0.000000e+00</td>\n",
       "    </tr>\n",
       "    <tr>\n",
       "      <th>TEXAS VOLUNTARY CLEANUP PROGRAM</th>\n",
       "      <td>2995</td>\n",
       "      <td>0</td>\n",
       "      <td>NaN</td>\n",
       "      <td>NaN</td>\n",
       "      <td>NaN</td>\n",
       "      <td>NaN</td>\n",
       "      <td>0.000000e+00</td>\n",
       "    </tr>\n",
       "    <tr>\n",
       "      <th>TEXAS STATE SUPERFUND PROGRAM</th>\n",
       "      <td>95</td>\n",
       "      <td>0</td>\n",
       "      <td>NaN</td>\n",
       "      <td>NaN</td>\n",
       "      <td>NaN</td>\n",
       "      <td>NaN</td>\n",
       "      <td>0.000000e+00</td>\n",
       "    </tr>\n",
       "    <tr>\n",
       "      <th>TEXAS MUNICIPAL SOLID WASTE</th>\n",
       "      <td>1005</td>\n",
       "      <td>0</td>\n",
       "      <td>NaN</td>\n",
       "      <td>NaN</td>\n",
       "      <td>NaN</td>\n",
       "      <td>NaN</td>\n",
       "      <td>0.000000e+00</td>\n",
       "    </tr>\n",
       "    <tr>\n",
       "      <th>NEW JERSEY SITE REMEDIATION</th>\n",
       "      <td>13639</td>\n",
       "      <td>0</td>\n",
       "      <td>NaN</td>\n",
       "      <td>NaN</td>\n",
       "      <td>NaN</td>\n",
       "      <td>NaN</td>\n",
       "      <td>0.000000e+00</td>\n",
       "    </tr>\n",
       "    <tr>\n",
       "      <th>NEW JERSEY GEOLOGICAL AND WATER SURVEY</th>\n",
       "      <td>1121</td>\n",
       "      <td>0</td>\n",
       "      <td>NaN</td>\n",
       "      <td>NaN</td>\n",
       "      <td>NaN</td>\n",
       "      <td>NaN</td>\n",
       "      <td>0.000000e+00</td>\n",
       "    </tr>\n",
       "    <tr>\n",
       "      <th>FLORIDA WASTE CLEANUP PROGRAM</th>\n",
       "      <td>11492</td>\n",
       "      <td>0</td>\n",
       "      <td>NaN</td>\n",
       "      <td>NaN</td>\n",
       "      <td>NaN</td>\n",
       "      <td>NaN</td>\n",
       "      <td>0.000000e+00</td>\n",
       "    </tr>\n",
       "    <tr>\n",
       "      <th>HAWAII HAZARD EVALUATION AND EMERGENCY RESPONSE OFFICE</th>\n",
       "      <td>682</td>\n",
       "      <td>0</td>\n",
       "      <td>NaN</td>\n",
       "      <td>NaN</td>\n",
       "      <td>NaN</td>\n",
       "      <td>NaN</td>\n",
       "      <td>0.000000e+00</td>\n",
       "    </tr>\n",
       "    <tr>\n",
       "      <th>NORTH CAROLINA PREREGULATORY LANDFILLS</th>\n",
       "      <td>656</td>\n",
       "      <td>0</td>\n",
       "      <td>NaN</td>\n",
       "      <td>NaN</td>\n",
       "      <td>NaN</td>\n",
       "      <td>NaN</td>\n",
       "      <td>0.000000e+00</td>\n",
       "    </tr>\n",
       "    <tr>\n",
       "      <th>NORTH CAROLINA PERMITTED SOLID WASTE LANDFILLS</th>\n",
       "      <td>673</td>\n",
       "      <td>0</td>\n",
       "      <td>NaN</td>\n",
       "      <td>NaN</td>\n",
       "      <td>NaN</td>\n",
       "      <td>NaN</td>\n",
       "      <td>0.000000e+00</td>\n",
       "    </tr>\n",
       "    <tr>\n",
       "      <th>NORTH CAROLINA HAZARDOUS WASTE SITES</th>\n",
       "      <td>2577</td>\n",
       "      <td>0</td>\n",
       "      <td>NaN</td>\n",
       "      <td>NaN</td>\n",
       "      <td>NaN</td>\n",
       "      <td>NaN</td>\n",
       "      <td>0.000000e+00</td>\n",
       "    </tr>\n",
       "    <tr>\n",
       "      <th>ILLINOIS SITE REMEDIATION PROGRAM</th>\n",
       "      <td>6028</td>\n",
       "      <td>0</td>\n",
       "      <td>NaN</td>\n",
       "      <td>NaN</td>\n",
       "      <td>NaN</td>\n",
       "      <td>NaN</td>\n",
       "      <td>0.000000e+00</td>\n",
       "    </tr>\n",
       "    <tr>\n",
       "      <th>IOWA LAND RECYCLING PROGRAM</th>\n",
       "      <td>1694</td>\n",
       "      <td>0</td>\n",
       "      <td>NaN</td>\n",
       "      <td>NaN</td>\n",
       "      <td>NaN</td>\n",
       "      <td>NaN</td>\n",
       "      <td>0.000000e+00</td>\n",
       "    </tr>\n",
       "    <tr>\n",
       "      <th>WISCONSIN DEPARTMENT OF NATURAL RESOURCES REMEDIATION SITES</th>\n",
       "      <td>29659</td>\n",
       "      <td>0</td>\n",
       "      <td>NaN</td>\n",
       "      <td>NaN</td>\n",
       "      <td>NaN</td>\n",
       "      <td>NaN</td>\n",
       "      <td>0.000000e+00</td>\n",
       "    </tr>\n",
       "  </tbody>\n",
       "</table>\n",
       "</div>"
      ],
      "text/plain": [
       "                                                     size  count         mean  \\\n",
       "Program                                                                         \n",
       "RCRA                                                 3864   3464  4421.900595   \n",
       "CALIFORNIA DTSC CLEANUP PROGRAM                      6030   2126  4588.184855   \n",
       "SUPERFUND                                            1885   1732  5207.480276   \n",
       "BROWNFIELDS                                         35067  32263    45.990887   \n",
       "OREGON DEQ ENVIRONMENTAL CLEANUP PROGRAM             5488   2870   409.473710   \n",
       "PENNSYLVANIA ABANDONED COAL MINE LANDS               5586   5586   192.503744   \n",
       "WEST VIRGINIA ABANDONED COAL MINE AREAS              6339   6338    69.932873   \n",
       "VIRGINIA ABANDONED COAL MINE AREAS                   1647   1647   160.279704   \n",
       "NEW YORK ENVIRONMENTAL SITE REMEDIATION PROGRAM      3949   3949    62.145394   \n",
       "LANDFILL METHANE OUTREACH PROGRAM                    2295   1782   120.254506   \n",
       "MINNESOTA POLLUTION CONTROL AGENCY REMEDIATION ...  23828   7011    23.162883   \n",
       "MISSOURI INDUSTRIAL MINERALS UNIT                    1473   1473    89.428358   \n",
       "MARYLAND LAND RESTORATION PROGRAM                    1796   1343    61.208012   \n",
       "MAINE REMEDIATION SITES                              2504   1799    21.815153   \n",
       "VIRGINIA ORPHAN LAND PROGRAM                          621    621    52.665055   \n",
       "WISCONSIN DEPARTMENT OF NATURAL RESOURCES - WAS...   2886   2886     7.510799   \n",
       "NORTH CAROLINA BROWNFIELD PROJECTS                    973    973    20.705150   \n",
       "NEW JERSEY SOLID & HAZARDOUS WASTE                    102    102   188.333333   \n",
       "FLORIDA INSTITUTIONAL CONTROL REGISTRY               1427   1427    12.945659   \n",
       "COLORADO INSTITUTIONAL CONTROL                        225    225    71.110932   \n",
       "MASSACHUSETTS CONTAMINATED LANDS                      994    986    14.587272   \n",
       "CONNECTICUT CLOSED LANDFILLS                          240    240    57.863833   \n",
       "MASSACHUSETTS LANDFILL                                485    485    19.234474   \n",
       "MISSOURI METALLIC MINERALS UNIT                        12     12   755.666667   \n",
       "MISSOURI ABANDONED MINE LAND                           93     93    79.850144   \n",
       "FLORIDA BROWNFIELD                                    404    404    17.350135   \n",
       "COLORADO BROWNFIELD                                    95     88    25.713523   \n",
       "AML                                                   315      7   226.142857   \n",
       "ILLINOIS OFFICE OF SITE EVALUATIONS ASSESSMENT        125    125    12.028960   \n",
       "COLORADO URANIUM MILL TAILINGS RADIATION CONTRO...     18     18    60.887997   \n",
       "RHODE ISLAND DEM'S OFFICE OF LAND REVITALIZATIO...     14     14    14.850500   \n",
       "FLORIDA SOLID WASTE MANAGEMENT                       6051      0          NaN   \n",
       "COLORADO  MUNICIPAL LANDFILLS                          54      0          NaN   \n",
       "COLORADO VOLUNTARY CLEANUP AND REDEVELOPMENT PR...   1239      0          NaN   \n",
       "CONNECTICUT DEPARTMENT OF ENERGY & ENVIRONMENTA...    486      0          NaN   \n",
       "UNDERGROUND STORAGE TANKS                              50      0          NaN   \n",
       "TEXAS VOLUNTARY CLEANUP PROGRAM                      2995      0          NaN   \n",
       "TEXAS STATE SUPERFUND PROGRAM                          95      0          NaN   \n",
       "TEXAS MUNICIPAL SOLID WASTE                          1005      0          NaN   \n",
       "NEW JERSEY SITE REMEDIATION                         13639      0          NaN   \n",
       "NEW JERSEY GEOLOGICAL AND WATER SURVEY               1121      0          NaN   \n",
       "FLORIDA WASTE CLEANUP PROGRAM                       11492      0          NaN   \n",
       "HAWAII HAZARD EVALUATION AND EMERGENCY RESPONSE...    682      0          NaN   \n",
       "NORTH CAROLINA PREREGULATORY LANDFILLS                656      0          NaN   \n",
       "NORTH CAROLINA PERMITTED SOLID WASTE LANDFILLS        673      0          NaN   \n",
       "NORTH CAROLINA HAZARDOUS WASTE SITES                 2577      0          NaN   \n",
       "ILLINOIS SITE REMEDIATION PROGRAM                    6028      0          NaN   \n",
       "IOWA LAND RECYCLING PROGRAM                          1694      0          NaN   \n",
       "WISCONSIN DEPARTMENT OF NATURAL RESOURCES REMED...  29659      0          NaN   \n",
       "\n",
       "                                                        median        min  \\\n",
       "Program                                                                     \n",
       "RCRA                                                 30.000000   0.010000   \n",
       "CALIFORNIA DTSC CLEANUP PROGRAM                       7.000000   0.003000   \n",
       "SUPERFUND                                            40.000000   0.010000   \n",
       "BROWNFIELDS                                           1.000000   0.010000   \n",
       "OREGON DEQ ENVIRONMENTAL CLEANUP PROGRAM              4.610000   0.020000   \n",
       "PENNSYLVANIA ABANDONED COAL MINE LANDS              150.902018   0.209345   \n",
       "WEST VIRGINIA ABANDONED COAL MINE AREAS              21.645368   0.017512   \n",
       "VIRGINIA ABANDONED COAL MINE AREAS                    5.499233   0.000015   \n",
       "NEW YORK ENVIRONMENTAL SITE REMEDIATION PROGRAM       2.802946   0.010268   \n",
       "LANDFILL METHANE OUTREACH PROGRAM                    80.000000   1.000000   \n",
       "MINNESOTA POLLUTION CONTROL AGENCY REMEDIATION ...    1.990000   0.010000   \n",
       "MISSOURI INDUSTRIAL MINERALS UNIT                    20.139903   0.175875   \n",
       "MARYLAND LAND RESTORATION PROGRAM                     6.070000   0.000600   \n",
       "MAINE REMEDIATION SITES                               2.500000   0.020000   \n",
       "VIRGINIA ORPHAN LAND PROGRAM                         18.166921   0.545425   \n",
       "WISCONSIN DEPARTMENT OF NATURAL RESOURCES - WAS...    1.997432   0.012455   \n",
       "NORTH CAROLINA BROWNFIELD PROJECTS                    5.200000   0.053000   \n",
       "NEW JERSEY SOLID & HAZARDOUS WASTE                  100.500000  13.000000   \n",
       "FLORIDA INSTITUTIONAL CONTROL REGISTRY                1.450133   0.002007   \n",
       "COLORADO INSTITUTIONAL CONTROL                        5.001836   0.001631   \n",
       "MASSACHUSETTS CONTAMINATED LANDS                      2.440000   0.020000   \n",
       "CONNECTICUT CLOSED LANDFILLS                         23.375000   0.920000   \n",
       "MASSACHUSETTS LANDFILL                               11.040000   0.080000   \n",
       "MISSOURI METALLIC MINERALS UNIT                     447.000000  10.000000   \n",
       "MISSOURI ABANDONED MINE LAND                         33.676277   1.509386   \n",
       "FLORIDA BROWNFIELD                                    4.520273   0.112902   \n",
       "COLORADO BROWNFIELD                                   4.750000   0.100000   \n",
       "AML                                                  80.000000   3.000000   \n",
       "ILLINOIS OFFICE OF SITE EVALUATIONS ASSESSMENT        2.750000   0.050000   \n",
       "COLORADO URANIUM MILL TAILINGS RADIATION CONTRO...   46.870035  13.863773   \n",
       "RHODE ISLAND DEM'S OFFICE OF LAND REVITALIZATIO...    8.720000   5.750000   \n",
       "FLORIDA SOLID WASTE MANAGEMENT                             NaN        NaN   \n",
       "COLORADO  MUNICIPAL LANDFILLS                              NaN        NaN   \n",
       "COLORADO VOLUNTARY CLEANUP AND REDEVELOPMENT PR...         NaN        NaN   \n",
       "CONNECTICUT DEPARTMENT OF ENERGY & ENVIRONMENTA...         NaN        NaN   \n",
       "UNDERGROUND STORAGE TANKS                                  NaN        NaN   \n",
       "TEXAS VOLUNTARY CLEANUP PROGRAM                            NaN        NaN   \n",
       "TEXAS STATE SUPERFUND PROGRAM                              NaN        NaN   \n",
       "TEXAS MUNICIPAL SOLID WASTE                                NaN        NaN   \n",
       "NEW JERSEY SITE REMEDIATION                                NaN        NaN   \n",
       "NEW JERSEY GEOLOGICAL AND WATER SURVEY                     NaN        NaN   \n",
       "FLORIDA WASTE CLEANUP PROGRAM                              NaN        NaN   \n",
       "HAWAII HAZARD EVALUATION AND EMERGENCY RESPONSE...         NaN        NaN   \n",
       "NORTH CAROLINA PREREGULATORY LANDFILLS                     NaN        NaN   \n",
       "NORTH CAROLINA PERMITTED SOLID WASTE LANDFILLS             NaN        NaN   \n",
       "NORTH CAROLINA HAZARDOUS WASTE SITES                       NaN        NaN   \n",
       "ILLINOIS SITE REMEDIATION PROGRAM                          NaN        NaN   \n",
       "IOWA LAND RECYCLING PROGRAM                                NaN        NaN   \n",
       "WISCONSIN DEPARTMENT OF NATURAL RESOURCES REMED...         NaN        NaN   \n",
       "\n",
       "                                                             max           sum  \n",
       "Program                                                                         \n",
       "RCRA                                                2.669225e+06  1.531746e+07  \n",
       "CALIFORNIA DTSC CLEANUP PROGRAM                     1.100000e+06  9.754481e+06  \n",
       "SUPERFUND                                           9.180000e+05  9.019356e+06  \n",
       "BROWNFIELDS                                         1.680000e+05  1.483804e+06  \n",
       "OREGON DEQ ENVIRONMENTAL CLEANUP PROGRAM            8.770000e+05  1.175190e+06  \n",
       "PENNSYLVANIA ABANDONED COAL MINE LANDS              3.768390e+03  1.075326e+06  \n",
       "WEST VIRGINIA ABANDONED COAL MINE AREAS             2.925027e+03  4.432345e+05  \n",
       "VIRGINIA ABANDONED COAL MINE AREAS                  6.695354e+04  2.639807e+05  \n",
       "NEW YORK ENVIRONMENTAL SITE REMEDIATION PROGRAM     8.133778e+04  2.454122e+05  \n",
       "LANDFILL METHANE OUTREACH PROGRAM                   1.620000e+03  2.142935e+05  \n",
       "MINNESOTA POLLUTION CONTROL AGENCY REMEDIATION ...  4.800000e+04  1.623950e+05  \n",
       "MISSOURI INDUSTRIAL MINERALS UNIT                   2.151083e+03  1.317280e+05  \n",
       "MARYLAND LAND RESTORATION PROGRAM                   1.600000e+04  8.220236e+04  \n",
       "MAINE REMEDIATION SITES                             6.608000e+03  3.924546e+04  \n",
       "VIRGINIA ORPHAN LAND PROGRAM                        1.906934e+03  3.270500e+04  \n",
       "WISCONSIN DEPARTMENT OF NATURAL RESOURCES - WAS...  6.601632e+02  2.167617e+04  \n",
       "NORTH CAROLINA BROWNFIELD PROJECTS                  1.358970e+03  2.014611e+04  \n",
       "NEW JERSEY SOLID & HAZARDOUS WASTE                  1.885000e+03  1.921000e+04  \n",
       "FLORIDA INSTITUTIONAL CONTROL REGISTRY              1.425827e+03  1.847346e+04  \n",
       "COLORADO INSTITUTIONAL CONTROL                      2.270901e+03  1.599996e+04  \n",
       "MASSACHUSETTS CONTAMINATED LANDS                    1.060240e+03  1.438305e+04  \n",
       "CONNECTICUT CLOSED LANDFILLS                        1.718390e+03  1.388732e+04  \n",
       "MASSACHUSETTS LANDFILL                              1.876500e+02  9.328720e+03  \n",
       "MISSOURI METALLIC MINERALS UNIT                     3.105000e+03  9.068000e+03  \n",
       "MISSOURI ABANDONED MINE LAND                        1.806973e+03  7.426063e+03  \n",
       "FLORIDA BROWNFIELD                                  6.116125e+02  7.009455e+03  \n",
       "COLORADO BROWNFIELD                                 4.000000e+02  2.262790e+03  \n",
       "AML                                                 1.240000e+03  1.583000e+03  \n",
       "ILLINOIS OFFICE OF SITE EVALUATIONS ASSESSMENT      1.570000e+02  1.503620e+03  \n",
       "COLORADO URANIUM MILL TAILINGS RADIATION CONTRO...  1.293594e+02  1.095984e+03  \n",
       "RHODE ISLAND DEM'S OFFICE OF LAND REVITALIZATIO...  3.700000e+01  2.079070e+02  \n",
       "FLORIDA SOLID WASTE MANAGEMENT                               NaN  0.000000e+00  \n",
       "COLORADO  MUNICIPAL LANDFILLS                                NaN  0.000000e+00  \n",
       "COLORADO VOLUNTARY CLEANUP AND REDEVELOPMENT PR...           NaN  0.000000e+00  \n",
       "CONNECTICUT DEPARTMENT OF ENERGY & ENVIRONMENTA...           NaN  0.000000e+00  \n",
       "UNDERGROUND STORAGE TANKS                                    NaN  0.000000e+00  \n",
       "TEXAS VOLUNTARY CLEANUP PROGRAM                              NaN  0.000000e+00  \n",
       "TEXAS STATE SUPERFUND PROGRAM                                NaN  0.000000e+00  \n",
       "TEXAS MUNICIPAL SOLID WASTE                                  NaN  0.000000e+00  \n",
       "NEW JERSEY SITE REMEDIATION                                  NaN  0.000000e+00  \n",
       "NEW JERSEY GEOLOGICAL AND WATER SURVEY                       NaN  0.000000e+00  \n",
       "FLORIDA WASTE CLEANUP PROGRAM                                NaN  0.000000e+00  \n",
       "HAWAII HAZARD EVALUATION AND EMERGENCY RESPONSE...           NaN  0.000000e+00  \n",
       "NORTH CAROLINA PREREGULATORY LANDFILLS                       NaN  0.000000e+00  \n",
       "NORTH CAROLINA PERMITTED SOLID WASTE LANDFILLS               NaN  0.000000e+00  \n",
       "NORTH CAROLINA HAZARDOUS WASTE SITES                         NaN  0.000000e+00  \n",
       "ILLINOIS SITE REMEDIATION PROGRAM                            NaN  0.000000e+00  \n",
       "IOWA LAND RECYCLING PROGRAM                                  NaN  0.000000e+00  \n",
       "WISCONSIN DEPARTMENT OF NATURAL RESOURCES REMED...           NaN  0.000000e+00  "
      ]
     },
     "execution_count": 18,
     "metadata": {},
     "output_type": "execute_result"
    }
   ],
   "source": [
    "program_acres.sort_values('sum', ascending=False)"
   ]
  },
  {
   "cell_type": "code",
   "execution_count": 19,
   "id": "4395ae50-354f-4f2c-a8dc-e367bf3c212f",
   "metadata": {},
   "outputs": [
    {
     "data": {
      "text/plain": [
       "size      1.909760e+05\n",
       "count     8.208900e+04\n",
       "mean      4.824529e+02\n",
       "median    3.500000e+00\n",
       "min       1.542143e-05\n",
       "max       2.669225e+06\n",
       "sum       3.960408e+07\n",
       "Name: Acreage (Acres), dtype: float64"
      ]
     },
     "execution_count": 19,
     "metadata": {},
     "output_type": "execute_result"
    }
   ],
   "source": [
    "# overall\n",
    "raw['Acreage (Acres)'].agg(['size', 'count', 'mean', 'median', 'min', 'max', 'sum'])"
   ]
  },
  {
   "cell_type": "code",
   "execution_count": 20,
   "id": "b97e26e6-7d5a-4089-a8ff-cbaed9c00c87",
   "metadata": {},
   "outputs": [
    {
     "data": {
      "text/plain": [
       "<AxesSubplot: >"
      ]
     },
     "execution_count": 20,
     "metadata": {},
     "output_type": "execute_result"
    },
    {
     "data": {
      "image/png": "[encoded data removed]",
      "text/plain": [
       "<Figure size 640x480 with 1 Axes>"
      ]
     },
     "metadata": {},
     "output_type": "display_data"
    }
   ],
   "source": [
    "raw['Acreage (Acres)'].transform(np.log10).hist(bins=50)"
   ]
  },
  {
   "cell_type": "code",
   "execution_count": 21,
   "id": "53c0a0fc-334a-499c-a544-7a97dd561776",
   "metadata": {
    "tags": []
   },
   "outputs": [
    {
     "data": {
      "text/plain": [
       "<AxesSubplot: >"
      ]
     },
     "execution_count": 21,
     "metadata": {},
     "output_type": "execute_result"
    },
    {
     "data": {
      "image/png": "[encoded data removed]",
      "text/plain": [
       "<Figure size 640x480 with 1 Axes>"
      ]
     },
     "metadata": {},
     "output_type": "display_data"
    }
   ],
   "source": [
    "bf['Acreage (Acres)'].transform(np.log10).hist(bins=50)"
   ]
  },
  {
   "cell_type": "code",
   "execution_count": 22,
   "id": "6814f2cb-cb4b-42eb-92e1-832a6d1b9191",
   "metadata": {
    "tags": []
   },
   "outputs": [
    {
     "data": {
      "text/plain": [
       "<AxesSubplot: >"
      ]
     },
     "execution_count": 22,
     "metadata": {},
     "output_type": "execute_result"
    },
    {
     "data": {
      "image/png": "[encoded data removed]",
      "text/plain": [
       "<Figure size 640x480 with 1 Axes>"
      ]
     },
     "metadata": {},
     "output_type": "display_data"
    }
   ],
   "source": [
    "# area-weighted distribution is dominated by huge sites\n",
    "logged = bf['Acreage (Acres)'].transform(np.log10) # annoying null handling\n",
    "logged.hist(bins=50, weights=bf.loc[logged.notnull(), 'Acreage (Acres)'])"
   ]
  },
  {
   "cell_type": "code",
   "execution_count": 23,
   "id": "372103a7-9898-42ce-b55f-743da31faea4",
   "metadata": {
    "tags": []
   },
   "outputs": [
    {
     "data": {
      "text/plain": [
       "<AxesSubplot: >"
      ]
     },
     "execution_count": 23,
     "metadata": {},
     "output_type": "execute_result"
    },
    {
     "data": {
      "image/png": "[encoded data removed]",
      "text/plain": [
       "<Figure size 640x480 with 1 Axes>"
      ]
     },
     "metadata": {},
     "output_type": "display_data"
    }
   ],
   "source": [
    "# cumulative area-weighted distribution\n",
    "# shows that 80% of the area is in sites larger than about 20,000 acres\n",
    "# 50% in sites larger than about 500,000 acres\n",
    "logged.hist(bins=50, weights=bf.loc[logged.notnull(), 'Acreage (Acres)'], cumulative=True, density=True)"
   ]
  },
  {
   "cell_type": "code",
   "execution_count": 25,
   "id": "ee6ab433-4cf0-49e1-ac7a-3a3f0369a92c",
   "metadata": {},
   "outputs": [
    {
     "data": {
      "text/plain": [
       "<AxesSubplot: >"
      ]
     },
     "execution_count": 25,
     "metadata": {},
     "output_type": "execute_result"
    },
    {
     "data": {
      "image/png": "[encoded data removed]",
      "text/plain": [
       "<Figure size 640x480 with 1 Axes>"
      ]
     },
     "metadata": {},
     "output_type": "display_data"
    }
   ],
   "source": [
    "bf.dropna(subset=['Acreage (Acres)']).groupby(['State', 'County'])['Acreage (Acres)'].sum().replace(0, np.nan).transform(np.log10).hist(bins=50)"
   ]
  },
  {
   "cell_type": "code",
   "execution_count": 27,
   "id": "f5dc9f0b-7054-4913-8ac7-a044f5af3737",
   "metadata": {},
   "outputs": [
    {
     "data": {
      "text/plain": [
       "<AxesSubplot: >"
      ]
     },
     "execution_count": 27,
     "metadata": {},
     "output_type": "execute_result"
    },
    {
     "data": {
      "image/png": "[encoded data removed]",
      "text/plain": [
       "<Figure size 640x480 with 1 Axes>"
      ]
     },
     "metadata": {},
     "output_type": "display_data"
    }
   ],
   "source": [
    "bf.dropna(subset=['Acreage (Acres)']).groupby(['State', 'County']).size().replace(0, np.nan).transform(np.log10).hist(bins=50)"
   ]
  },
  {
   "cell_type": "code",
   "execution_count": 28,
   "id": "ef2c1aa8-cadd-4918-8aaf-d04bdd6582a6",
   "metadata": {},
   "outputs": [
    {
     "data": {
      "text/plain": [
       "count    2775.000000\n",
       "mean       68.140901\n",
       "std       245.745721\n",
       "min         1.000000\n",
       "25%         3.000000\n",
       "50%         9.000000\n",
       "75%        40.000000\n",
       "max      5917.000000\n",
       "dtype: float64"
      ]
     },
     "execution_count": 28,
     "metadata": {},
     "output_type": "execute_result"
    }
   ],
   "source": [
    "bf.groupby(['State', 'County']).size().describe()"
   ]
  },
  {
   "cell_type": "markdown",
   "id": "d0c22fdf-4cbd-4ac0-bfe4-910c2861c447",
   "metadata": {},
   "source": [
    "The top of the list seems to be dominated by military facilities. My hypothesis is that military facilities are already accounted for in existing data and so should be excluded from the model used to impute the remaining facilities."
   ]
  },
  {
   "cell_type": "code",
   "execution_count": 29,
   "id": "fc6a5b25-74d7-4e0a-8523-51afde7fa7bd",
   "metadata": {},
   "outputs": [],
   "source": [
    "military_keywords = [\n",
    "    'usmc',\n",
    "    'weapons',\n",
    "    'army',\n",
    "    'naval', \n",
    "    'navy',\n",
    "    '^fort',\n",
    "    '^camp',\n",
    "    'marine',\n",
    "    'dept of energy',\n",
    "    'corps',\n",
    "    'mcas',\n",
    "    'doe',\n",
    "    'range',\n",
    "    'afb',\n",
    "    'air force',\n",
    "    'usaf'\n",
    "    'arsenal',\n",
    "    'military',\n",
    "]"
   ]
  },
  {
   "cell_type": "code",
   "execution_count": 30,
   "id": "60489360-c1c6-4b8c-a7a9-f148fdeade9a",
   "metadata": {},
   "outputs": [],
   "source": [
    "# I'm sure there are plenty of false positives/negatives but let's start here\n",
    "is_military = bf['Site Name'].str.lower().str.contains('|'.join(military_keywords), regex=True)"
   ]
  },
  {
   "cell_type": "code",
   "execution_count": 31,
   "id": "fa2fb1ab-4588-4cd2-a463-fd4333585720",
   "metadata": {},
   "outputs": [
    {
     "data": {
      "text/plain": [
       "False    184689\n",
       "True       2727\n",
       "NaN        1675\n",
       "Name: Site Name, dtype: int64"
      ]
     },
     "execution_count": 31,
     "metadata": {},
     "output_type": "execute_result"
    }
   ],
   "source": [
    "is_military.value_counts(dropna=False)"
   ]
  },
  {
   "cell_type": "code",
   "execution_count": 33,
   "id": "f0eeb305-29f6-449c-abf6-5816fa5c941e",
   "metadata": {},
   "outputs": [
    {
     "data": {
      "text/plain": [
       "Site Name\n",
       "False    1.178429e+07\n",
       "True     1.853627e+07\n",
       "NaN      2.641661e+05\n",
       "Name: Acreage (Acres), dtype: float64"
      ]
     },
     "execution_count": 33,
     "metadata": {},
     "output_type": "execute_result"
    }
   ],
   "source": [
    "bf['Acreage (Acres)'].groupby(is_military, dropna=False).sum()  # most land is military land"
   ]
  },
  {
   "cell_type": "code",
   "execution_count": 37,
   "id": "ee3414cc-5f8d-48c8-8dbe-0fe476325f65",
   "metadata": {},
   "outputs": [
    {
     "data": {
      "text/html": [
       "<div>\n",
       "<style scoped>\n",
       "    .dataframe tbody tr th:only-of-type {\n",
       "        vertical-align: middle;\n",
       "    }\n",
       "\n",
       "    .dataframe tbody tr th {\n",
       "        vertical-align: top;\n",
       "    }\n",
       "\n",
       "    .dataframe thead th {\n",
       "        text-align: right;\n",
       "    }\n",
       "</style>\n",
       "<table border=\"1\" class=\"dataframe\">\n",
       "  <thead>\n",
       "    <tr style=\"text-align: right;\">\n",
       "      <th></th>\n",
       "      <th>mean</th>\n",
       "      <th>sum</th>\n",
       "    </tr>\n",
       "    <tr>\n",
       "      <th>Site Name</th>\n",
       "      <th></th>\n",
       "      <th></th>\n",
       "    </tr>\n",
       "  </thead>\n",
       "  <tbody>\n",
       "    <tr>\n",
       "      <th>False</th>\n",
       "      <td>0.580533</td>\n",
       "      <td>107218</td>\n",
       "    </tr>\n",
       "    <tr>\n",
       "      <th>True</th>\n",
       "      <td>0.555922</td>\n",
       "      <td>1516</td>\n",
       "    </tr>\n",
       "    <tr>\n",
       "      <th>NaN</th>\n",
       "      <td>0.000000</td>\n",
       "      <td>0</td>\n",
       "    </tr>\n",
       "  </tbody>\n",
       "</table>\n",
       "</div>"
      ],
      "text/plain": [
       "               mean     sum\n",
       "Site Name                  \n",
       "False      0.580533  107218\n",
       "True       0.555922    1516\n",
       "NaN        0.000000       0"
      ]
     },
     "execution_count": 37,
     "metadata": {},
     "output_type": "execute_result"
    }
   ],
   "source": [
    "# more than half of military sites have null acreage ☹️\n",
    "bf['Acreage (Acres)'].isna().groupby(is_military, dropna=False).agg(['mean', 'sum'])"
   ]
  },
  {
   "cell_type": "code",
   "execution_count": 34,
   "id": "843d9f67-5553-4448-ad3e-f3f35347d1eb",
   "metadata": {},
   "outputs": [
    {
     "data": {
      "text/plain": [
       "<AxesSubplot: >"
      ]
     },
     "execution_count": 34,
     "metadata": {},
     "output_type": "execute_result"
    },
    {
     "data": {
      "image/png": "[encoded data removed]",
      "text/plain": [
       "<Figure size 640x480 with 1 Axes>"
      ]
     },
     "metadata": {},
     "output_type": "display_data"
    }
   ],
   "source": [
    "# distribution is much more top heavy\n",
    "bf.loc[is_military.fillna(False), 'Acreage (Acres)'].transform(np.log10).hist(bins=50)"
   ]
  },
  {
   "cell_type": "code",
   "execution_count": 35,
   "id": "f9996c1e-9d95-4606-a874-3bc8c4630673",
   "metadata": {},
   "outputs": [
    {
     "data": {
      "text/plain": [
       "3847                            MARINER'S WAY\n",
       "3996              STRATFORD ARMY ENGINE PLANT\n",
       "4259                    LAFB OPERABLE UNIT 12\n",
       "4725                 ARMY GUARD TRAINING SITE\n",
       "4769                            FORT WILLIAMS\n",
       "                         ...                 \n",
       "190665         FORT STEVENS MILITARY CEMETERY\n",
       "190669    COLUMBIA BEACH MILITARY RESERVATION\n",
       "190676      FORT CLATSOP - RIVER DAY USE SITE\n",
       "190742                      CAMP WINEMA SPILL\n",
       "190774       US ARMY GARRISON FORT WAINWRIGHT\n",
       "Name: Site Name, Length: 1516, dtype: object"
      ]
     },
     "execution_count": 35,
     "metadata": {},
     "output_type": "execute_result"
    }
   ],
   "source": [
    "bf.loc[is_military.fillna(False) & bf['Acreage (Acres)'].isna(), 'Site Name']"
   ]
  },
  {
   "cell_type": "code",
   "execution_count": 36,
   "id": "af807552-3bdb-4b1d-a153-27fa1ee48de0",
   "metadata": {},
   "outputs": [
    {
     "data": {
      "text/plain": [
       "WISCONSIN DEPARTMENT OF NATURAL RESOURCES REMEDIATION SITES    389\n",
       "FLORIDA WASTE CLEANUP PROGRAM                                  203\n",
       "CALIFORNIA DTSC CLEANUP PROGRAM                                183\n",
       "MINNESOTA POLLUTION CONTROL AGENCY REMEDIATION SITES           123\n",
       "NEW JERSEY SITE REMEDIATION                                    108\n",
       "FLORIDA SOLID WASTE MANAGEMENT                                  95\n",
       "MAINE REMEDIATION SITES                                         69\n",
       "OREGON DEQ ENVIRONMENTAL CLEANUP PROGRAM                        62\n",
       "IOWA LAND RECYCLING PROGRAM                                     55\n",
       "ILLINOIS SITE REMEDIATION PROGRAM                               38\n",
       "HAWAII HAZARD EVALUATION AND EMERGENCY RESPONSE OFFICE          33\n",
       "BROWNFIELDS                                                     24\n",
       "TEXAS VOLUNTARY CLEANUP PROGRAM                                 23\n",
       "COLORADO VOLUNTARY CLEANUP AND REDEVELOPMENT PROGRAM            18\n",
       "RCRA                                                            18\n",
       "NORTH CAROLINA HAZARDOUS WASTE SITES                            18\n",
       "TEXAS MUNICIPAL SOLID WASTE                                     14\n",
       "NORTH CAROLINA PERMITTED SOLID WASTE LANDFILLS                  13\n",
       "MARYLAND LAND RESTORATION PROGRAM                               10\n",
       "LANDFILL METHANE OUTREACH PROGRAM                               10\n",
       "NORTH CAROLINA PREREGULATORY LANDFILLS                           3\n",
       "AML                                                              2\n",
       "NEW JERSEY GEOLOGICAL AND WATER SURVEY                           2\n",
       "CONNECTICUT DEPARTMENT OF ENERGY & ENVIRONMENTAL PROTECTION      2\n",
       "COLORADO BROWNFIELD                                              1\n",
       "Name: Program, dtype: int64"
      ]
     },
     "execution_count": 36,
     "metadata": {},
     "output_type": "execute_result"
    }
   ],
   "source": [
    "bf.loc[is_military.fillna(False) & bf['Acreage (Acres)'].isna(), 'Program'].value_counts()"
   ]
  },
  {
   "cell_type": "markdown",
   "id": "9dfb7a44-9d70-408c-9370-e52946f914c2",
   "metadata": {},
   "source": [
    "OK nevermind, there are tons of military facilities with missing acreage numbers."
   ]
  }
 ],
 "metadata": {
  "kernelspec": {
   "display_name": "Python 3 (ipykernel)",
   "language": "python",
   "name": "python3"
  },
  "language_info": {
   "codemirror_mode": {
    "name": "ipython",
    "version": 3
   },
   "file_extension": ".py",
   "mimetype": "text/x-python",
   "name": "python",
   "nbconvert_exporter": "python",
   "pygments_lexer": "ipython3",
   "version": "3.9.14"
  }
 },
 "nbformat": 4,
 "nbformat_minor": 5
}
