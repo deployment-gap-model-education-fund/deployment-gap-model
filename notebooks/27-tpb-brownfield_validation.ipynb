{
 "cells": [
  {
   "cell_type": "code",
   "execution_count": 5,
   "id": "28b0f633-12dc-4756-8242-0e846540b493",
   "metadata": {},
   "outputs": [],
   "source": [
    "import dbcp\n",
    "import pandas as pd\n",
    "import numpy as np"
   ]
  },
  {
   "cell_type": "code",
   "execution_count": 2,
   "id": "386d1fa8-90e2-4fdf-8c52-1518c40269da",
   "metadata": {},
   "outputs": [],
   "source": [
    "eng = dbcp.helpers.get_sql_engine()"
   ]
  },
  {
   "cell_type": "code",
   "execution_count": 12,
   "id": "9659cf54-0f21-4a34-8f49-e35876824b59",
   "metadata": {},
   "outputs": [],
   "source": [
    "query = \"\"\"\n",
    "SELECT\n",
    "    ec.county_id_fips,\n",
    "    brownfield_acreage_mean_fill / fips.land_area_km2 as brownfield_mean_frac,\n",
    "    brownfield_acreage_median_fill / fips.land_area_km2 as brownfield_median_frac,\n",
    "    brownfield_acreage / fips.land_area_km2 as brownfield_frac,\n",
    "    (coal_qualifying_area_fraction / fips.land_area_km2) as coal_closure_frac,\n",
    "    qualifies_by_employment_criteria as ec_qualifies_via_employment,\n",
    "    fips.land_area_km2,\n",
    "    fips.county_name\n",
    "FROM data_warehouse.energy_communities_by_county AS ec\n",
    "LEFT JOIN data_warehouse.county_fips AS fips\n",
    "USING (county_id_fips)\n",
    "\"\"\"\n",
    "ec = pd.read_sql(query, eng)"
   ]
  },
  {
   "cell_type": "code",
   "execution_count": 13,
   "id": "d0675345-d817-4b46-92c1-915f3415157d",
   "metadata": {},
   "outputs": [
    {
     "data": {
      "text/html": [
       "<div>\n",
       "<style scoped>\n",
       "    .dataframe tbody tr th:only-of-type {\n",
       "        vertical-align: middle;\n",
       "    }\n",
       "\n",
       "    .dataframe tbody tr th {\n",
       "        vertical-align: top;\n",
       "    }\n",
       "\n",
       "    .dataframe thead th {\n",
       "        text-align: right;\n",
       "    }\n",
       "</style>\n",
       "<table border=\"1\" class=\"dataframe\">\n",
       "  <thead>\n",
       "    <tr style=\"text-align: right;\">\n",
       "      <th></th>\n",
       "      <th>county_id_fips</th>\n",
       "      <th>brownfield_mean_frac</th>\n",
       "      <th>brownfield_median_frac</th>\n",
       "      <th>brownfield_frac</th>\n",
       "      <th>coal_closure_frac</th>\n",
       "      <th>ec_qualifies_via_employment</th>\n",
       "      <th>land_area_km2</th>\n",
       "      <th>county_name</th>\n",
       "    </tr>\n",
       "  </thead>\n",
       "  <tbody>\n",
       "    <tr>\n",
       "      <th>0</th>\n",
       "      <td>31039</td>\n",
       "      <td>0.005346</td>\n",
       "      <td>0.005346</td>\n",
       "      <td>0.005346</td>\n",
       "      <td>0.0</td>\n",
       "      <td>False</td>\n",
       "      <td>1477.645345</td>\n",
       "      <td>Cuming</td>\n",
       "    </tr>\n",
       "    <tr>\n",
       "      <th>1</th>\n",
       "      <td>31109</td>\n",
       "      <td>0.791675</td>\n",
       "      <td>0.268062</td>\n",
       "      <td>0.263540</td>\n",
       "      <td>0.0</td>\n",
       "      <td>False</td>\n",
       "      <td>2169.272970</td>\n",
       "      <td>Lancaster</td>\n",
       "    </tr>\n",
       "    <tr>\n",
       "      <th>2</th>\n",
       "      <td>31129</td>\n",
       "      <td>0.000510</td>\n",
       "      <td>0.000510</td>\n",
       "      <td>0.000510</td>\n",
       "      <td>0.0</td>\n",
       "      <td>False</td>\n",
       "      <td>1489.645185</td>\n",
       "      <td>Nuckolls</td>\n",
       "    </tr>\n",
       "    <tr>\n",
       "      <th>3</th>\n",
       "      <td>46099</td>\n",
       "      <td>0.647978</td>\n",
       "      <td>0.285610</td>\n",
       "      <td>0.282481</td>\n",
       "      <td>0.0</td>\n",
       "      <td>False</td>\n",
       "      <td>2089.701444</td>\n",
       "      <td>Minnehaha</td>\n",
       "    </tr>\n",
       "    <tr>\n",
       "      <th>4</th>\n",
       "      <td>48327</td>\n",
       "      <td>0.163464</td>\n",
       "      <td>0.001400</td>\n",
       "      <td>0.000000</td>\n",
       "      <td>0.0</td>\n",
       "      <td>False</td>\n",
       "      <td>2336.237980</td>\n",
       "      <td>Menard</td>\n",
       "    </tr>\n",
       "  </tbody>\n",
       "</table>\n",
       "</div>"
      ],
      "text/plain": [
       "  county_id_fips  brownfield_mean_frac  brownfield_median_frac  brownfield_frac  coal_closure_frac  ec_qualifies_via_employment  land_area_km2 county_name\n",
       "0          31039              0.005346                0.005346         0.005346                0.0                        False    1477.645345      Cuming\n",
       "1          31109              0.791675                0.268062         0.263540                0.0                        False    2169.272970   Lancaster\n",
       "2          31129              0.000510                0.000510         0.000510                0.0                        False    1489.645185    Nuckolls\n",
       "3          46099              0.647978                0.285610         0.282481                0.0                        False    2089.701444   Minnehaha\n",
       "4          48327              0.163464                0.001400         0.000000                0.0                        False    2336.237980      Menard"
      ]
     },
     "execution_count": 13,
     "metadata": {},
     "output_type": "execute_result"
    }
   ],
   "source": [
    "ec.head()"
   ]
  },
  {
   "cell_type": "code",
   "execution_count": 14,
   "id": "dfb868ae-c246-4261-a74f-96c96be796cd",
   "metadata": {},
   "outputs": [],
   "source": [
    "bf_cols = [\n",
    "    'brownfield_frac',\n",
    "    'brownfield_mean_frac',\n",
    "    'brownfield_median_frac',\n",
    "]"
   ]
  },
  {
   "cell_type": "code",
   "execution_count": 15,
   "id": "e33283ba-10df-4522-8668-53b95e734498",
   "metadata": {},
   "outputs": [
    {
     "data": {
      "text/plain": [
       "677     346.846649\n",
       "866     324.752869\n",
       "1492    255.102000\n",
       "578     254.003205\n",
       "362     245.634213\n",
       "Name: brownfield_frac, dtype: float64"
      ]
     },
     "execution_count": 15,
     "metadata": {},
     "output_type": "execute_result"
    }
   ],
   "source": [
    "ec['brownfield_frac'].nlargest(5)  # lol"
   ]
  },
  {
   "cell_type": "code",
   "execution_count": 18,
   "id": "1596186d-8f01-4e9c-aec3-b257b424a4ee",
   "metadata": {},
   "outputs": [
    {
     "data": {
      "text/plain": [
       "array([[<AxesSubplot: title={'center': 'brownfield_frac'}>,\n",
       "        <AxesSubplot: title={'center': 'brownfield_mean_frac'}>],\n",
       "       [<AxesSubplot: title={'center': 'brownfield_median_frac'}>,\n",
       "        <AxesSubplot: >]], dtype=object)"
      ]
     },
     "execution_count": 18,
     "metadata": {},
     "output_type": "execute_result"
    },
    {
     "data": {
      "image/png": "[encoded data removed]",
      "text/plain": [
       "<Figure size 640x480 with 4 Axes>"
      ]
     },
     "metadata": {},
     "output_type": "display_data"
    }
   ],
   "source": [
    "# this data is garbage.\n",
    "ec[bf_cols].replace(0, np.nan).transform(np.log10).hist(bins=50)"
   ]
  },
  {
   "cell_type": "code",
   "execution_count": 19,
   "id": "a4e4a10b-31c6-4125-9373-dfed4fe89eac",
   "metadata": {},
   "outputs": [
    {
     "data": {
      "text/html": [
       "<div>\n",
       "<style scoped>\n",
       "    .dataframe tbody tr th:only-of-type {\n",
       "        vertical-align: middle;\n",
       "    }\n",
       "\n",
       "    .dataframe tbody tr th {\n",
       "        vertical-align: top;\n",
       "    }\n",
       "\n",
       "    .dataframe thead th {\n",
       "        text-align: right;\n",
       "    }\n",
       "</style>\n",
       "<table border=\"1\" class=\"dataframe\">\n",
       "  <thead>\n",
       "    <tr style=\"text-align: right;\">\n",
       "      <th></th>\n",
       "      <th>brownfield_frac</th>\n",
       "      <th>brownfield_mean_frac</th>\n",
       "      <th>brownfield_median_frac</th>\n",
       "    </tr>\n",
       "  </thead>\n",
       "  <tbody>\n",
       "    <tr>\n",
       "      <th>sum</th>\n",
       "      <td>554.000000</td>\n",
       "      <td>1186.000000</td>\n",
       "      <td>587.000000</td>\n",
       "    </tr>\n",
       "    <tr>\n",
       "      <th>mean</th>\n",
       "      <td>0.189272</td>\n",
       "      <td>0.405193</td>\n",
       "      <td>0.200547</td>\n",
       "    </tr>\n",
       "  </tbody>\n",
       "</table>\n",
       "</div>"
      ],
      "text/plain": [
       "      brownfield_frac  brownfield_mean_frac  brownfield_median_frac\n",
       "sum        554.000000           1186.000000              587.000000\n",
       "mean         0.189272              0.405193                0.200547"
      ]
     },
     "execution_count": 19,
     "metadata": {},
     "output_type": "execute_result"
    }
   ],
   "source": [
    "ec[bf_cols].gt(1.0).agg(['sum', 'mean'])"
   ]
  },
  {
   "cell_type": "code",
   "execution_count": 10,
   "id": "4da18e89-4b9e-4b91-a63e-8d533d4c624b",
   "metadata": {},
   "outputs": [
    {
     "data": {
      "text/plain": [
       "1223    5053.711767\n",
       "629     3402.311729\n",
       "2051    1886.194120\n",
       "434     1501.566178\n",
       "1501    1318.804306\n",
       "Name: brownfield_frac, dtype: float64"
      ]
     },
     "execution_count": 10,
     "metadata": {},
     "output_type": "execute_result"
    }
   ],
   "source": [
    "ec['brownfield_frac'].nlargest(5)  # lol"
   ]
  },
  {
   "cell_type": "code",
   "execution_count": 11,
   "id": "24604a7c-67d6-497a-8b40-655416e38102",
   "metadata": {},
   "outputs": [
    {
     "data": {
      "text/plain": [
       "<AxesSubplot: >"
      ]
     },
     "execution_count": 11,
     "metadata": {},
     "output_type": "execute_result"
    },
    {
     "data": {
      "image/png": "[encoded data removed]",
      "text/plain": [
       "<Figure size 640x480 with 1 Axes>"
      ]
     },
     "metadata": {},
     "output_type": "display_data"
    }
   ],
   "source": [
    "ec['brownfield_frac'].clip(upper=1.0).replace(0, np.nan).hist(bins=50)"
   ]
  },
  {
   "cell_type": "code",
   "execution_count": null,
   "id": "043a88e6-883f-4098-9e33-cdb6a91467d4",
   "metadata": {},
   "outputs": [],
   "source": []
  }
 ],
 "metadata": {
  "kernelspec": {
   "display_name": "Python 3 (ipykernel)",
   "language": "python",
   "name": "python3"
  },
  "language_info": {
   "codemirror_mode": {
    "name": "ipython",
    "version": 3
   },
   "file_extension": ".py",
   "mimetype": "text/x-python",
   "name": "python",
   "nbconvert_exporter": "python",
   "pygments_lexer": "ipython3",
   "version": "3.9.14"
  }
 },
 "nbformat": 4,
 "nbformat_minor": 5
}
