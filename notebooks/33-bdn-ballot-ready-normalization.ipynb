{
 "cells": [
  {
   "cell_type": "code",
   "execution_count": 1,
   "id": "27b8d0af-63da-4b7e-8c03-ae2fec3d5b1e",
   "metadata": {},
   "outputs": [
    {
     "name": "stderr",
     "output_type": "stream",
     "text": [
      "/app/.local/lib/python3.10/site-packages/geopandas/_compat.py:123: UserWarning: The Shapely GEOS version (3.11.1-CAPI-1.17.1) is incompatible with the GEOS version PyGEOS was compiled with (3.10.3-CAPI-1.16.1). Conversions between both will be slow.\n",
      "  warnings.warn(\n",
      "/app/.local/lib/python3.10/site-packages/pudl/analysis/spatial.py:7: UserWarning: Shapely 2.0 is installed, but because PyGEOS is also installed, GeoPandas will still use PyGEOS by default for now. To force to use and test Shapely 2.0, you have to set the environment variable USE_PYGEOS=0. You can do this before starting the Python process, or in your code before importing geopandas:\n",
      "\n",
      "import os\n",
      "os.environ['USE_PYGEOS'] = '0'\n",
      "import geopandas\n",
      "\n",
      "In a future release, GeoPandas will switch to using Shapely by default. If you are using PyGEOS directly (calling PyGEOS functions on geometries from GeoPandas), this will then stop working and you are encouraged to migrate from PyGEOS to Shapely 2.0 (https://shapely.readthedocs.io/en/latest/migration_pygeos.html).\n",
      "  import geopandas as gpd\n",
      "2023-09-01 15:36:43 [    INFO] catalystcoop.pudl.helpers:203 Assigned state FIPS codes for 100.00% of records.\n",
      "2023-09-01 15:36:45 [    INFO] catalystcoop.pudl.helpers:219 Assigned county FIPS codes for 99.61% of records.\n"
     ]
    }
   ],
   "source": [
    "import pandas as pd\n",
    "import dbcp\n",
    "\n",
    "source_uri = \"gs://dgm-archive/ballot_ready/BallotReady_upcoming_races_with_counties_08_14_2023.csv\"\n",
    "raw_dfs = dbcp.extract.ballot_ready.extract(source_uri)\n",
    "raw_ballot_ready = raw_dfs[\"raw_ballot_ready\"]\n",
    "br_election_data = dbcp.transform.ballot_ready._explode_counties(raw_ballot_ready)"
   ]
  },
  {
   "cell_type": "code",
   "execution_count": 18,
   "id": "5a67b7aa-9be1-4a9e-9787-02a968d452a6",
   "metadata": {},
   "outputs": [
    {
     "name": "stdout",
     "output_type": "stream",
     "text": [
      "<class 'pandas.core.frame.DataFrame'>\n",
      "Int64Index: 188074 entries, 1543 to 82775\n",
      "Data columns (total 30 columns):\n",
      " #   Column                    Non-Null Count   Dtype         \n",
      "---  ------                    --------------   -----         \n",
      " 0   election_id               188074 non-null  Int64         \n",
      " 1   election_name             188074 non-null  string        \n",
      " 2   election_day              188074 non-null  datetime64[ns]\n",
      " 3   race_id                   188074 non-null  Int64         \n",
      " 4   is_primary                188074 non-null  boolean       \n",
      " 5   is_runoff                 188074 non-null  boolean       \n",
      " 6   is_unexpired              188074 non-null  boolean       \n",
      " 7   position_id               188074 non-null  Int64         \n",
      " 8   position_name             188074 non-null  string        \n",
      " 9   sub_area_name             114957 non-null  string        \n",
      " 10  sub_area_value            125790 non-null  string        \n",
      " 11  sub_area_name_secondary   11501 non-null   string        \n",
      " 12  sub_area_value_secondary  12522 non-null   string        \n",
      " 13  raw_state                 188074 non-null  string        \n",
      " 14  level                     188074 non-null  string        \n",
      " 15  tier                      188074 non-null  Int64         \n",
      " 16  is_judicial               188074 non-null  boolean       \n",
      " 17  is_retention              188074 non-null  boolean       \n",
      " 18  number_of_seats           188074 non-null  Int64         \n",
      " 19  normalized_position_id    188074 non-null  Int64         \n",
      " 20  normalized_position_name  188074 non-null  string        \n",
      " 21  frequency                 188074 non-null  string        \n",
      " 22  reference_year            188074 non-null  Int64         \n",
      " 23  partisan_type             188060 non-null  string        \n",
      " 24  raw_county                188074 non-null  string        \n",
      " 25  race_created_at           188074 non-null  datetime64[ns]\n",
      " 26  race_updated_at           188074 non-null  datetime64[ns]\n",
      " 27  state_id_fips             188074 non-null  string        \n",
      " 28  county_id_fips            188074 non-null  object        \n",
      " 29  raw_county                40 non-null      object        \n",
      "dtypes: Int64(7), boolean(5), datetime64[ns](3), object(2), string(13)\n",
      "memory usage: 40.4+ MB\n"
     ]
    }
   ],
   "source": [
    "br_election_data.info()"
   ]
  },
  {
   "cell_type": "code",
   "execution_count": 5,
   "id": "a8870a44-0b83-44c4-b4be-e85e87e3431c",
   "metadata": {},
   "outputs": [
    {
     "data": {
      "text/html": [
       "<div>\n",
       "<style scoped>\n",
       "    .dataframe tbody tr th:only-of-type {\n",
       "        vertical-align: middle;\n",
       "    }\n",
       "\n",
       "    .dataframe tbody tr th {\n",
       "        vertical-align: top;\n",
       "    }\n",
       "\n",
       "    .dataframe thead th {\n",
       "        text-align: right;\n",
       "    }\n",
       "</style>\n",
       "<table border=\"1\" class=\"dataframe\">\n",
       "  <thead>\n",
       "    <tr style=\"text-align: right;\">\n",
       "      <th></th>\n",
       "      <th>raw_county</th>\n",
       "      <th>raw_county</th>\n",
       "    </tr>\n",
       "  </thead>\n",
       "  <tbody>\n",
       "    <tr>\n",
       "      <th>1543</th>\n",
       "      <td>False</td>\n",
       "      <td>False</td>\n",
       "    </tr>\n",
       "    <tr>\n",
       "      <th>1545</th>\n",
       "      <td>False</td>\n",
       "      <td>False</td>\n",
       "    </tr>\n",
       "    <tr>\n",
       "      <th>1546</th>\n",
       "      <td>False</td>\n",
       "      <td>False</td>\n",
       "    </tr>\n",
       "    <tr>\n",
       "      <th>9958</th>\n",
       "      <td>False</td>\n",
       "      <td>False</td>\n",
       "    </tr>\n",
       "    <tr>\n",
       "      <th>41760</th>\n",
       "      <td>False</td>\n",
       "      <td>False</td>\n",
       "    </tr>\n",
       "    <tr>\n",
       "      <th>...</th>\n",
       "      <td>...</td>\n",
       "      <td>...</td>\n",
       "    </tr>\n",
       "    <tr>\n",
       "      <th>82771</th>\n",
       "      <td>False</td>\n",
       "      <td>True</td>\n",
       "    </tr>\n",
       "    <tr>\n",
       "      <th>82772</th>\n",
       "      <td>False</td>\n",
       "      <td>True</td>\n",
       "    </tr>\n",
       "    <tr>\n",
       "      <th>82773</th>\n",
       "      <td>False</td>\n",
       "      <td>True</td>\n",
       "    </tr>\n",
       "    <tr>\n",
       "      <th>82774</th>\n",
       "      <td>False</td>\n",
       "      <td>True</td>\n",
       "    </tr>\n",
       "    <tr>\n",
       "      <th>82775</th>\n",
       "      <td>False</td>\n",
       "      <td>True</td>\n",
       "    </tr>\n",
       "  </tbody>\n",
       "</table>\n",
       "<p>188074 rows × 2 columns</p>\n",
       "</div>"
      ],
      "text/plain": [
       "       raw_county  raw_county\n",
       "1543        False       False\n",
       "1545        False       False\n",
       "1546        False       False\n",
       "9958        False       False\n",
       "41760       False       False\n",
       "...           ...         ...\n",
       "82771       False        True\n",
       "82772       False        True\n",
       "82773       False        True\n",
       "82774       False        True\n",
       "82775       False        True\n",
       "\n",
       "[188074 rows x 2 columns]"
      ]
     },
     "execution_count": 5,
     "metadata": {},
     "output_type": "execute_result"
    }
   ],
   "source": [
    "br_election_data.raw_county.isna()"
   ]
  },
  {
   "cell_type": "markdown",
   "id": "8d910585-4b93-4cf0-b428-d8816f1011e7",
   "metadata": {},
   "source": [
    "## Elections"
   ]
  },
  {
   "cell_type": "code",
   "execution_count": 2,
   "id": "59627963-428e-4e52-b20f-8469eb72fe5b",
   "metadata": {},
   "outputs": [
    {
     "name": "stdout",
     "output_type": "stream",
     "text": [
      "<class 'pandas.core.frame.DataFrame'>\n",
      "Int64Index: 188790 entries, 0 to 82775\n",
      "Data columns (total 29 columns):\n",
      " #   Column                    Non-Null Count   Dtype         \n",
      "---  ------                    --------------   -----         \n",
      " 0   election_id               188790 non-null  Int64         \n",
      " 1   election_name             188790 non-null  string        \n",
      " 2   election_day              188790 non-null  datetime64[ns]\n",
      " 3   race_id                   188790 non-null  Int64         \n",
      " 4   is_primary                188790 non-null  boolean       \n",
      " 5   is_runoff                 188790 non-null  boolean       \n",
      " 6   is_unexpired              188790 non-null  boolean       \n",
      " 7   position_id               188790 non-null  Int64         \n",
      " 8   position_name             188790 non-null  string        \n",
      " 9   sub_area_name             115480 non-null  string        \n",
      " 10  sub_area_value            126339 non-null  string        \n",
      " 11  sub_area_name_secondary   11501 non-null   string        \n",
      " 12  sub_area_value_secondary  12522 non-null   string        \n",
      " 13  raw_state                 188790 non-null  string        \n",
      " 14  level                     188790 non-null  string        \n",
      " 15  tier                      188790 non-null  Int64         \n",
      " 16  is_judicial               188790 non-null  boolean       \n",
      " 17  is_retention              188790 non-null  boolean       \n",
      " 18  number_of_seats           188790 non-null  Int64         \n",
      " 19  normalized_position_id    188790 non-null  Int64         \n",
      " 20  normalized_position_name  188790 non-null  string        \n",
      " 21  frequency                 188790 non-null  string        \n",
      " 22  reference_year            188790 non-null  Int64         \n",
      " 23  partisan_type             188776 non-null  string        \n",
      " 24  raw_county                188790 non-null  string        \n",
      " 25  race_created_at           188790 non-null  datetime64[ns]\n",
      " 26  race_updated_at           188790 non-null  datetime64[ns]\n",
      " 27  state_id_fips             188790 non-null  string        \n",
      " 28  county_id_fips            188054 non-null  string        \n",
      "dtypes: Int64(7), boolean(5), datetime64[ns](3), string(14)\n",
      "memory usage: 39.1 MB\n"
     ]
    }
   ],
   "source": [
    "br_election_data.info()"
   ]
  },
  {
   "cell_type": "code",
   "execution_count": 3,
   "id": "b1ea7c03-362d-4777-aa62-415495d04d18",
   "metadata": {},
   "outputs": [
    {
     "data": {
      "text/plain": [
       "election_id      True\n",
       "election_name    True\n",
       "election_day     True\n",
       "dtype: bool"
      ]
     },
     "execution_count": 3,
     "metadata": {},
     "output_type": "execute_result"
    }
   ],
   "source": [
    "election_fields = [\n",
    "    \"election_id\",\n",
    "    \"election_name\",\n",
    "    \"election_day\",\n",
    "]\n",
    "(br_election_data.groupby(\"election_id\")[election_fields].nunique() <= 1).all()"
   ]
  },
  {
   "cell_type": "markdown",
   "id": "d85b81e7-58eb-46c0-ba55-4b614a6853e2",
   "metadata": {},
   "source": [
    "## Position"
   ]
  },
  {
   "cell_type": "code",
   "execution_count": 4,
   "id": "cceda727-eb0b-4d3e-864b-3b02ba58c6a4",
   "metadata": {},
   "outputs": [
    {
     "data": {
      "text/plain": [
       "reference_year              False\n",
       "position_id                  True\n",
       "position_name                True\n",
       "sub_area_name                True\n",
       "sub_area_value               True\n",
       "sub_area_name_secondary      True\n",
       "sub_area_value_secondary     True\n",
       "raw_state                    True\n",
       "level                        True\n",
       "tier                         True\n",
       "is_judicial                  True\n",
       "is_retention                 True\n",
       "normalized_position_id       True\n",
       "normalized_position_name     True\n",
       "frequency                   False\n",
       "partisan_type                True\n",
       "dtype: bool"
      ]
     },
     "execution_count": 4,
     "metadata": {},
     "output_type": "execute_result"
    }
   ],
   "source": [
    "position_fields = [\n",
    "    \"reference_year\",\n",
    "    \"position_id\",\n",
    "    \"position_name\",\n",
    "    \"sub_area_name\",\n",
    "    \"sub_area_value\",\n",
    "    \"sub_area_name_secondary\",\n",
    "    \"sub_area_value_secondary\",\n",
    "    \"raw_state\",\n",
    "    \"level\",\n",
    "    \"tier\",\n",
    "    \"is_judicial\",\n",
    "    \"is_retention\",\n",
    "    \"normalized_position_id\",\n",
    "    \"normalized_position_name\",\n",
    "    \"frequency\",\n",
    "    \"partisan_type\",   \n",
    "]\n",
    "\n",
    "(br_election_data.groupby(\"position_id\")[position_fields].nunique() <= 1).all()"
   ]
  },
  {
   "cell_type": "markdown",
   "id": "f9bec5d3-9e2f-4b66-965a-019dfabdcae4",
   "metadata": {},
   "source": [
    "### Frequency"
   ]
  },
  {
   "cell_type": "code",
   "execution_count": 5,
   "id": "b3600e10-5515-47e1-896b-44ec933d8a96",
   "metadata": {},
   "outputs": [
    {
     "data": {
      "text/plain": [
       "1    37413\n",
       "2        1\n",
       "Name: frequency, dtype: int64"
      ]
     },
     "execution_count": 5,
     "metadata": {},
     "output_type": "execute_result"
    }
   ],
   "source": [
    "freq_group = br_election_data.groupby(\"position_id\")[\"frequency\"]\n",
    "freq_group.nunique().value_counts()"
   ]
  },
  {
   "cell_type": "code",
   "execution_count": 6,
   "id": "a41c6129-f414-4b31-83b9-704a1b62ed0c",
   "metadata": {},
   "outputs": [
    {
     "data": {
      "text/plain": [
       "position_id\n",
       "156594    [[4], [2]]\n",
       "Name: frequency, dtype: object"
      ]
     },
     "execution_count": 6,
     "metadata": {},
     "output_type": "execute_result"
    }
   ],
   "source": [
    "freq_group.unique()[freq_group.nunique() > 1]"
   ]
  },
  {
   "cell_type": "code",
   "execution_count": 7,
   "id": "f116b062-ef43-4470-8bd2-2e1da6001d1f",
   "metadata": {},
   "outputs": [
    {
     "data": {
      "text/html": [
       "<div>\n",
       "<style scoped>\n",
       "    .dataframe tbody tr th:only-of-type {\n",
       "        vertical-align: middle;\n",
       "    }\n",
       "\n",
       "    .dataframe tbody tr th {\n",
       "        vertical-align: top;\n",
       "    }\n",
       "\n",
       "    .dataframe thead th {\n",
       "        text-align: right;\n",
       "    }\n",
       "</style>\n",
       "<table border=\"1\" class=\"dataframe\">\n",
       "  <thead>\n",
       "    <tr style=\"text-align: right;\">\n",
       "      <th></th>\n",
       "      <th>election_id</th>\n",
       "      <th>election_name</th>\n",
       "      <th>election_day</th>\n",
       "      <th>race_id</th>\n",
       "      <th>is_primary</th>\n",
       "      <th>is_runoff</th>\n",
       "      <th>is_unexpired</th>\n",
       "      <th>position_id</th>\n",
       "      <th>position_name</th>\n",
       "      <th>sub_area_name</th>\n",
       "      <th>sub_area_value</th>\n",
       "      <th>sub_area_name_secondary</th>\n",
       "      <th>sub_area_value_secondary</th>\n",
       "      <th>raw_state</th>\n",
       "      <th>level</th>\n",
       "      <th>tier</th>\n",
       "      <th>is_judicial</th>\n",
       "      <th>is_retention</th>\n",
       "      <th>number_of_seats</th>\n",
       "      <th>normalized_position_id</th>\n",
       "      <th>normalized_position_name</th>\n",
       "      <th>frequency</th>\n",
       "      <th>reference_year</th>\n",
       "      <th>partisan_type</th>\n",
       "      <th>raw_county</th>\n",
       "      <th>race_created_at</th>\n",
       "      <th>race_updated_at</th>\n",
       "      <th>state_id_fips</th>\n",
       "      <th>county_id_fips</th>\n",
       "    </tr>\n",
       "  </thead>\n",
       "  <tbody>\n",
       "    <tr>\n",
       "      <th>78383</th>\n",
       "      <td>4317</td>\n",
       "      <td>California General Election</td>\n",
       "      <td>2024-11-05</td>\n",
       "      <td>2020782</td>\n",
       "      <td>False</td>\n",
       "      <td>False</td>\n",
       "      <td>False</td>\n",
       "      <td>156594</td>\n",
       "      <td>San Jose City Mayor</td>\n",
       "      <td>&lt;NA&gt;</td>\n",
       "      <td>&lt;NA&gt;</td>\n",
       "      <td>&lt;NA&gt;</td>\n",
       "      <td>&lt;NA&gt;</td>\n",
       "      <td>CA</td>\n",
       "      <td>city</td>\n",
       "      <td>3</td>\n",
       "      <td>False</td>\n",
       "      <td>False</td>\n",
       "      <td>1</td>\n",
       "      <td>1500</td>\n",
       "      <td>City Executive//Mayor</td>\n",
       "      <td>[4]</td>\n",
       "      <td>2024</td>\n",
       "      <td>nonpartisan</td>\n",
       "      <td>Santa Clara County</td>\n",
       "      <td>2023-01-26 22:12:14.544</td>\n",
       "      <td>2023-01-26 22:12:14.544</td>\n",
       "      <td>06</td>\n",
       "      <td>06085</td>\n",
       "    </tr>\n",
       "    <tr>\n",
       "      <th>78384</th>\n",
       "      <td>5367</td>\n",
       "      <td>California Primary Election</td>\n",
       "      <td>2024-03-05</td>\n",
       "      <td>2020783</td>\n",
       "      <td>True</td>\n",
       "      <td>False</td>\n",
       "      <td>False</td>\n",
       "      <td>156594</td>\n",
       "      <td>San Jose City Mayor</td>\n",
       "      <td>&lt;NA&gt;</td>\n",
       "      <td>&lt;NA&gt;</td>\n",
       "      <td>&lt;NA&gt;</td>\n",
       "      <td>&lt;NA&gt;</td>\n",
       "      <td>CA</td>\n",
       "      <td>city</td>\n",
       "      <td>3</td>\n",
       "      <td>False</td>\n",
       "      <td>False</td>\n",
       "      <td>1</td>\n",
       "      <td>1500</td>\n",
       "      <td>City Executive//Mayor</td>\n",
       "      <td>[2]</td>\n",
       "      <td>2022</td>\n",
       "      <td>nonpartisan</td>\n",
       "      <td>Santa Clara County</td>\n",
       "      <td>2023-01-26 22:12:14.646</td>\n",
       "      <td>2023-01-26 22:12:14.646</td>\n",
       "      <td>06</td>\n",
       "      <td>06085</td>\n",
       "    </tr>\n",
       "  </tbody>\n",
       "</table>\n",
       "</div>"
      ],
      "text/plain": [
       "       election_id                election_name election_day  race_id  is_primary  is_runoff  is_unexpired  position_id        position_name sub_area_name sub_area_value sub_area_name_secondary sub_area_value_secondary raw_state level  tier  is_judicial  is_retention  number_of_seats  normalized_position_id normalized_position_name frequency  reference_year partisan_type          raw_county         race_created_at         race_updated_at state_id_fips county_id_fips\n",
       "78383         4317  California General Election   2024-11-05  2020782       False      False         False       156594  San Jose City Mayor          <NA>           <NA>                    <NA>                     <NA>        CA  city     3        False         False                1                    1500    City Executive//Mayor       [4]            2024   nonpartisan  Santa Clara County 2023-01-26 22:12:14.544 2023-01-26 22:12:14.544            06          06085\n",
       "78384         5367  California Primary Election   2024-03-05  2020783        True      False         False       156594  San Jose City Mayor          <NA>           <NA>                    <NA>                     <NA>        CA  city     3        False         False                1                    1500    City Executive//Mayor       [2]            2022   nonpartisan  Santa Clara County 2023-01-26 22:12:14.646 2023-01-26 22:12:14.646            06          06085"
      ]
     },
     "execution_count": 7,
     "metadata": {},
     "output_type": "execute_result"
    }
   ],
   "source": [
    "br_election_data.query(\"position_id == 156594\")"
   ]
  },
  {
   "cell_type": "markdown",
   "id": "e6e960d5-76e3-4aeb-8044-bc5b4bb4ba67",
   "metadata": {},
   "source": [
    "Not sure if this is on instance of a non unique frequency is a ballot ready issue or expected."
   ]
  },
  {
   "cell_type": "code",
   "execution_count": 15,
   "id": "cd073ca8-ed4d-49b1-8690-773ed64b4809",
   "metadata": {},
   "outputs": [],
   "source": [
    "new_index = br_election_data.position_id.max() + 1\n",
    "assert new_index not in br_election_data.position_id\n",
    "br_election_data.loc[br_election_data.race_id == 2020783, \"position_id\"] = new_index"
   ]
  },
  {
   "cell_type": "code",
   "execution_count": 16,
   "id": "cdd710d3-8557-406f-aac0-e7cc308777db",
   "metadata": {},
   "outputs": [
    {
     "data": {
      "text/plain": [
       "reference_year              True\n",
       "position_id                 True\n",
       "position_name               True\n",
       "sub_area_name               True\n",
       "sub_area_value              True\n",
       "sub_area_name_secondary     True\n",
       "sub_area_value_secondary    True\n",
       "raw_state                   True\n",
       "level                       True\n",
       "tier                        True\n",
       "is_judicial                 True\n",
       "is_retention                True\n",
       "normalized_position_id      True\n",
       "normalized_position_name    True\n",
       "frequency                   True\n",
       "partisan_type               True\n",
       "dtype: bool"
      ]
     },
     "execution_count": 16,
     "metadata": {},
     "output_type": "execute_result"
    }
   ],
   "source": [
    "(br_election_data.groupby(\"position_id\")[position_fields].nunique() <= 1).all()"
   ]
  },
  {
   "cell_type": "markdown",
   "id": "2bb8cb2b-acf4-4a93-8b3a-499fb90d9fa3",
   "metadata": {
    "jp-MarkdownHeadingCollapsed": true,
    "tags": []
   },
   "source": [
    "### reference year"
   ]
  },
  {
   "cell_type": "code",
   "execution_count": 38,
   "id": "61bb412f-7206-4660-8047-b65148267617",
   "metadata": {},
   "outputs": [
    {
     "data": {
      "text/plain": [
       "1    37413\n",
       "2        1\n",
       "Name: reference_year, dtype: int64"
      ]
     },
     "execution_count": 38,
     "metadata": {},
     "output_type": "execute_result"
    }
   ],
   "source": [
    "ref_group = br_election_data.groupby(\"position_id\")[\"reference_year\"]\n",
    "ref_group.nunique().value_counts()"
   ]
  },
  {
   "cell_type": "code",
   "execution_count": 39,
   "id": "f93b088f-a0ae-432f-bbe8-9a2bbd0c96e7",
   "metadata": {},
   "outputs": [
    {
     "data": {
      "text/plain": [
       "position_id\n",
       "156594    [2024, 2022]\n",
       "Name: reference_year, dtype: object"
      ]
     },
     "execution_count": 39,
     "metadata": {},
     "output_type": "execute_result"
    }
   ],
   "source": [
    "ref_group.unique()[ref_group.nunique() > 1]"
   ]
  },
  {
   "cell_type": "markdown",
   "id": "03c2f35d-a52a-4a18-94b0-af31c20dde1a",
   "metadata": {},
   "source": [
    "Ok same same problem county."
   ]
  },
  {
   "cell_type": "markdown",
   "id": "ac095fbc-f8c7-4756-8b78-311f05c2a98f",
   "metadata": {},
   "source": [
    "## Race"
   ]
  },
  {
   "cell_type": "code",
   "execution_count": 57,
   "id": "c5332a63-7b24-40f9-8a64-df606c8f3b8a",
   "metadata": {},
   "outputs": [
    {
     "data": {
      "text/plain": [
       "race_id             True\n",
       "is_primary          True\n",
       "is_runoff           True\n",
       "is_unexpired        True\n",
       "number_of_seats     True\n",
       "race_created_at     True\n",
       "race_updated_at     True\n",
       "raw_state           True\n",
       "raw_county         False\n",
       "state_id_fips       True\n",
       "county_id_fips     False\n",
       "dtype: bool"
      ]
     },
     "execution_count": 57,
     "metadata": {},
     "output_type": "execute_result"
    }
   ],
   "source": [
    "race_fields = [\n",
    "    \"race_id\",\n",
    "    \"is_primary\",\n",
    "    \"is_runoff\",\n",
    "    \"is_unexpired\",\n",
    "    \"number_of_seats\",\n",
    "    \"race_created_at\",\n",
    "    \"race_updated_at\",\n",
    "    \"raw_state\",\n",
    "    \"raw_county\",\n",
    "    \"state_id_fips\",\n",
    "    \"county_id_fips\"\n",
    "]\n",
    "\n",
    "(br_election_data.groupby(\"race_id\")[race_fields].nunique() <= 1).all()"
   ]
  },
  {
   "cell_type": "code",
   "execution_count": 65,
   "id": "d26fcd3e-9cae-41d5-88bb-e7a90abecee2",
   "metadata": {},
   "outputs": [
    {
     "data": {
      "text/html": [
       "<div>\n",
       "<style scoped>\n",
       "    .dataframe tbody tr th:only-of-type {\n",
       "        vertical-align: middle;\n",
       "    }\n",
       "\n",
       "    .dataframe tbody tr th {\n",
       "        vertical-align: top;\n",
       "    }\n",
       "\n",
       "    .dataframe thead th {\n",
       "        text-align: right;\n",
       "    }\n",
       "</style>\n",
       "<table border=\"1\" class=\"dataframe\">\n",
       "  <thead>\n",
       "    <tr style=\"text-align: right;\">\n",
       "      <th></th>\n",
       "      <th>raw_county</th>\n",
       "    </tr>\n",
       "    <tr>\n",
       "      <th>race_id</th>\n",
       "      <th></th>\n",
       "    </tr>\n",
       "  </thead>\n",
       "  <tbody>\n",
       "    <tr>\n",
       "      <th>1368973</th>\n",
       "      <td>5</td>\n",
       "    </tr>\n",
       "    <tr>\n",
       "      <th>1368974</th>\n",
       "      <td>4</td>\n",
       "    </tr>\n",
       "    <tr>\n",
       "      <th>1368976</th>\n",
       "      <td>39</td>\n",
       "    </tr>\n",
       "    <tr>\n",
       "      <th>1368979</th>\n",
       "      <td>39</td>\n",
       "    </tr>\n",
       "    <tr>\n",
       "      <th>1368981</th>\n",
       "      <td>6</td>\n",
       "    </tr>\n",
       "    <tr>\n",
       "      <th>...</th>\n",
       "      <td>...</td>\n",
       "    </tr>\n",
       "    <tr>\n",
       "      <th>2778001</th>\n",
       "      <td>14</td>\n",
       "    </tr>\n",
       "    <tr>\n",
       "      <th>2778002</th>\n",
       "      <td>6</td>\n",
       "    </tr>\n",
       "    <tr>\n",
       "      <th>2778003</th>\n",
       "      <td>6</td>\n",
       "    </tr>\n",
       "    <tr>\n",
       "      <th>2778004</th>\n",
       "      <td>5</td>\n",
       "    </tr>\n",
       "    <tr>\n",
       "      <th>2778005</th>\n",
       "      <td>6</td>\n",
       "    </tr>\n",
       "  </tbody>\n",
       "</table>\n",
       "<p>16111 rows × 1 columns</p>\n",
       "</div>"
      ],
      "text/plain": [
       "         raw_county\n",
       "race_id            \n",
       "1368973           5\n",
       "1368974           4\n",
       "1368976          39\n",
       "1368979          39\n",
       "1368981           6\n",
       "...             ...\n",
       "2778001          14\n",
       "2778002           6\n",
       "2778003           6\n",
       "2778004           5\n",
       "2778005           6\n",
       "\n",
       "[16111 rows x 1 columns]"
      ]
     },
     "execution_count": 65,
     "metadata": {},
     "output_type": "execute_result"
    }
   ],
   "source": [
    "br_election_data.groupby(\"race_id\")[race_fields].nunique()[\"raw_county\"].to_frame().query(\"raw_county > 1\")"
   ]
  },
  {
   "cell_type": "markdown",
   "id": "01a985ca-7f60-42ba-b3b7-71a7a4f7660d",
   "metadata": {},
   "source": [
    "## Normalize"
   ]
  },
  {
   "cell_type": "markdown",
   "id": "6114388c-7179-46a7-8a60-2ae34c6b2510",
   "metadata": {},
   "source": [
    "### Elections\n"
   ]
  },
  {
   "cell_type": "code",
   "execution_count": 67,
   "id": "411c7b67-855e-4181-88e9-4aa034d1cbde",
   "metadata": {},
   "outputs": [],
   "source": [
    "br_elections = br_election_data.drop_duplicates(subset=election_fields)[election_fields].copy()\n",
    "\n",
    "assert br_elections.election_id.is_unique"
   ]
  },
  {
   "cell_type": "markdown",
   "id": "61237f44-1a90-46bb-bb2e-a31be82d0b5c",
   "metadata": {},
   "source": [
    "### Positions"
   ]
  },
  {
   "cell_type": "code",
   "execution_count": 51,
   "id": "d76b4925-92d8-4390-bddc-d4e7cf5453c5",
   "metadata": {},
   "outputs": [
    {
     "ename": "AssertionError",
     "evalue": "",
     "output_type": "error",
     "traceback": [
      "\u001b[0;31m---------------------------------------------------------------------------\u001b[0m",
      "\u001b[0;31mAssertionError\u001b[0m                            Traceback (most recent call last)",
      "Cell \u001b[0;32mIn[51], line 5\u001b[0m\n\u001b[1;32m      1\u001b[0m \u001b[38;5;66;03m# br_election_data[\"frequency\"] = br_election_data[\"frequency\"].astype(\"string\")\u001b[39;00m\n\u001b[1;32m      3\u001b[0m br_positions \u001b[38;5;241m=\u001b[39m br_election_data\u001b[38;5;241m.\u001b[39mdrop_duplicates(subset\u001b[38;5;241m=\u001b[39mposition_fields)[position_fields]\u001b[38;5;241m.\u001b[39mcopy()\n\u001b[0;32m----> 5\u001b[0m \u001b[38;5;28;01massert\u001b[39;00m br_positions\u001b[38;5;241m.\u001b[39mposition_id\u001b[38;5;241m.\u001b[39mis_unique\n",
      "\u001b[0;31mAssertionError\u001b[0m: "
     ]
    }
   ],
   "source": [
    "br_positions = br_election_data.drop_duplicates(subset=position_fields)[position_fields].copy()\n",
    "\n",
    "assert br_positions.position_id.is_unique"
   ]
  },
  {
   "cell_type": "markdown",
   "id": "5f87b801-d419-432d-bdb3-a64e0041b2f5",
   "metadata": {},
   "source": [
    "### Races"
   ]
  },
  {
   "cell_type": "code",
   "execution_count": 73,
   "id": "e61112a0-2ce0-4d52-a7ed-9edda948d40a",
   "metadata": {},
   "outputs": [],
   "source": [
    "race_fields = race_fields + [\"election_id\", \"position_id\"]\n",
    "br_races = br_election_data.drop_duplicates(subset=race_fields)[race_fields].copy()"
   ]
  },
  {
   "cell_type": "code",
   "execution_count": 78,
   "id": "067b9120-1b4b-44bd-af58-3643109de2ad",
   "metadata": {},
   "outputs": [
    {
     "data": {
      "text/plain": [
       "True"
      ]
     },
     "execution_count": 78,
     "metadata": {},
     "output_type": "execute_result"
    }
   ],
   "source": [
    "len(br_races) == len(br_election_data)"
   ]
  },
  {
   "cell_type": "code",
   "execution_count": 79,
   "id": "58e460fa-e018-4d55-91ec-457e2ea3cd70",
   "metadata": {},
   "outputs": [
    {
     "data": {
      "text/html": [
       "<div>\n",
       "<style scoped>\n",
       "    .dataframe tbody tr th:only-of-type {\n",
       "        vertical-align: middle;\n",
       "    }\n",
       "\n",
       "    .dataframe tbody tr th {\n",
       "        vertical-align: top;\n",
       "    }\n",
       "\n",
       "    .dataframe thead th {\n",
       "        text-align: right;\n",
       "    }\n",
       "</style>\n",
       "<table border=\"1\" class=\"dataframe\">\n",
       "  <thead>\n",
       "    <tr style=\"text-align: right;\">\n",
       "      <th></th>\n",
       "      <th>race_id</th>\n",
       "      <th>is_primary</th>\n",
       "      <th>is_runoff</th>\n",
       "      <th>is_unexpired</th>\n",
       "      <th>number_of_seats</th>\n",
       "      <th>race_created_at</th>\n",
       "      <th>race_updated_at</th>\n",
       "      <th>raw_state</th>\n",
       "      <th>raw_county</th>\n",
       "      <th>state_id_fips</th>\n",
       "      <th>county_id_fips</th>\n",
       "      <th>election_id</th>\n",
       "      <th>position_id</th>\n",
       "    </tr>\n",
       "  </thead>\n",
       "  <tbody>\n",
       "    <tr>\n",
       "      <th>0</th>\n",
       "      <td>1365674</td>\n",
       "      <td>False</td>\n",
       "      <td>False</td>\n",
       "      <td>False</td>\n",
       "      <td>3</td>\n",
       "      <td>2020-01-14 23:08:21.016</td>\n",
       "      <td>2021-09-30 19:37:57.406</td>\n",
       "      <td>IL</td>\n",
       "      <td>Macon County</td>\n",
       "      <td>17</td>\n",
       "      <td>17115</td>\n",
       "      <td>4206</td>\n",
       "      <td>247556</td>\n",
       "    </tr>\n",
       "    <tr>\n",
       "      <th>1</th>\n",
       "      <td>1365754</td>\n",
       "      <td>False</td>\n",
       "      <td>False</td>\n",
       "      <td>False</td>\n",
       "      <td>1</td>\n",
       "      <td>2020-01-14 23:08:21.016</td>\n",
       "      <td>2023-02-02 19:54:36.541</td>\n",
       "      <td>IL</td>\n",
       "      <td>Cook County</td>\n",
       "      <td>17</td>\n",
       "      <td>17031</td>\n",
       "      <td>4206</td>\n",
       "      <td>226054</td>\n",
       "    </tr>\n",
       "    <tr>\n",
       "      <th>2</th>\n",
       "      <td>1365856</td>\n",
       "      <td>False</td>\n",
       "      <td>False</td>\n",
       "      <td>False</td>\n",
       "      <td>1</td>\n",
       "      <td>2020-01-14 23:08:21.016</td>\n",
       "      <td>2023-02-02 19:54:49.430</td>\n",
       "      <td>IL</td>\n",
       "      <td>Cook County</td>\n",
       "      <td>17</td>\n",
       "      <td>17031</td>\n",
       "      <td>4206</td>\n",
       "      <td>226051</td>\n",
       "    </tr>\n",
       "    <tr>\n",
       "      <th>3</th>\n",
       "      <td>1365861</td>\n",
       "      <td>False</td>\n",
       "      <td>False</td>\n",
       "      <td>False</td>\n",
       "      <td>1</td>\n",
       "      <td>2020-01-14 23:08:21.016</td>\n",
       "      <td>2023-02-02 19:53:14.016</td>\n",
       "      <td>IL</td>\n",
       "      <td>Cook County</td>\n",
       "      <td>17</td>\n",
       "      <td>17031</td>\n",
       "      <td>4206</td>\n",
       "      <td>226035</td>\n",
       "    </tr>\n",
       "    <tr>\n",
       "      <th>4</th>\n",
       "      <td>1365863</td>\n",
       "      <td>False</td>\n",
       "      <td>False</td>\n",
       "      <td>False</td>\n",
       "      <td>1</td>\n",
       "      <td>2020-01-14 23:08:21.016</td>\n",
       "      <td>2023-02-02 19:53:39.554</td>\n",
       "      <td>IL</td>\n",
       "      <td>Cook County</td>\n",
       "      <td>17</td>\n",
       "      <td>17031</td>\n",
       "      <td>4206</td>\n",
       "      <td>226030</td>\n",
       "    </tr>\n",
       "    <tr>\n",
       "      <th>...</th>\n",
       "      <td>...</td>\n",
       "      <td>...</td>\n",
       "      <td>...</td>\n",
       "      <td>...</td>\n",
       "      <td>...</td>\n",
       "      <td>...</td>\n",
       "      <td>...</td>\n",
       "      <td>...</td>\n",
       "      <td>...</td>\n",
       "      <td>...</td>\n",
       "      <td>...</td>\n",
       "      <td>...</td>\n",
       "      <td>...</td>\n",
       "    </tr>\n",
       "    <tr>\n",
       "      <th>82771</th>\n",
       "      <td>2778453</td>\n",
       "      <td>False</td>\n",
       "      <td>True</td>\n",
       "      <td>False</td>\n",
       "      <td>1</td>\n",
       "      <td>2023-08-09 23:45:46.281</td>\n",
       "      <td>2023-08-09 23:45:46.281</td>\n",
       "      <td>TN</td>\n",
       "      <td>Davidson County</td>\n",
       "      <td>47</td>\n",
       "      <td>47037</td>\n",
       "      <td>5002</td>\n",
       "      <td>233401</td>\n",
       "    </tr>\n",
       "    <tr>\n",
       "      <th>82772</th>\n",
       "      <td>2778454</td>\n",
       "      <td>False</td>\n",
       "      <td>True</td>\n",
       "      <td>False</td>\n",
       "      <td>1</td>\n",
       "      <td>2023-08-09 23:45:56.423</td>\n",
       "      <td>2023-08-09 23:45:56.423</td>\n",
       "      <td>TN</td>\n",
       "      <td>Davidson County</td>\n",
       "      <td>47</td>\n",
       "      <td>47037</td>\n",
       "      <td>5002</td>\n",
       "      <td>233376</td>\n",
       "    </tr>\n",
       "    <tr>\n",
       "      <th>82773</th>\n",
       "      <td>2778472</td>\n",
       "      <td>False</td>\n",
       "      <td>False</td>\n",
       "      <td>False</td>\n",
       "      <td>1</td>\n",
       "      <td>2023-08-10 17:01:23.443</td>\n",
       "      <td>2023-08-10 17:01:23.443</td>\n",
       "      <td>SC</td>\n",
       "      <td>Greenville County</td>\n",
       "      <td>45</td>\n",
       "      <td>45045</td>\n",
       "      <td>4693</td>\n",
       "      <td>416058</td>\n",
       "    </tr>\n",
       "    <tr>\n",
       "      <th>82774</th>\n",
       "      <td>2778473</td>\n",
       "      <td>True</td>\n",
       "      <td>False</td>\n",
       "      <td>False</td>\n",
       "      <td>1</td>\n",
       "      <td>2023-08-10 17:01:23.478</td>\n",
       "      <td>2023-08-10 17:01:23.478</td>\n",
       "      <td>SC</td>\n",
       "      <td>Greenville County</td>\n",
       "      <td>45</td>\n",
       "      <td>45045</td>\n",
       "      <td>5392</td>\n",
       "      <td>416058</td>\n",
       "    </tr>\n",
       "    <tr>\n",
       "      <th>82775</th>\n",
       "      <td>2778491</td>\n",
       "      <td>False</td>\n",
       "      <td>False</td>\n",
       "      <td>True</td>\n",
       "      <td>1</td>\n",
       "      <td>2023-08-10 20:31:12.825</td>\n",
       "      <td>2023-08-10 20:35:25.196</td>\n",
       "      <td>VA</td>\n",
       "      <td>Buena Vista city</td>\n",
       "      <td>51</td>\n",
       "      <td>51530</td>\n",
       "      <td>4333</td>\n",
       "      <td>330808</td>\n",
       "    </tr>\n",
       "  </tbody>\n",
       "</table>\n",
       "<p>188790 rows × 13 columns</p>\n",
       "</div>"
      ],
      "text/plain": [
       "       race_id  is_primary  is_runoff  is_unexpired  number_of_seats         race_created_at         race_updated_at raw_state         raw_county state_id_fips county_id_fips  election_id  position_id\n",
       "0      1365674       False      False         False                3 2020-01-14 23:08:21.016 2021-09-30 19:37:57.406        IL       Macon County            17          17115         4206       247556\n",
       "1      1365754       False      False         False                1 2020-01-14 23:08:21.016 2023-02-02 19:54:36.541        IL        Cook County            17          17031         4206       226054\n",
       "2      1365856       False      False         False                1 2020-01-14 23:08:21.016 2023-02-02 19:54:49.430        IL        Cook County            17          17031         4206       226051\n",
       "3      1365861       False      False         False                1 2020-01-14 23:08:21.016 2023-02-02 19:53:14.016        IL        Cook County            17          17031         4206       226035\n",
       "4      1365863       False      False         False                1 2020-01-14 23:08:21.016 2023-02-02 19:53:39.554        IL        Cook County            17          17031         4206       226030\n",
       "...        ...         ...        ...           ...              ...                     ...                     ...       ...                ...           ...            ...          ...          ...\n",
       "82771  2778453       False       True         False                1 2023-08-09 23:45:46.281 2023-08-09 23:45:46.281        TN    Davidson County            47          47037         5002       233401\n",
       "82772  2778454       False       True         False                1 2023-08-09 23:45:56.423 2023-08-09 23:45:56.423        TN    Davidson County            47          47037         5002       233376\n",
       "82773  2778472       False      False         False                1 2023-08-10 17:01:23.443 2023-08-10 17:01:23.443        SC  Greenville County            45          45045         4693       416058\n",
       "82774  2778473        True      False         False                1 2023-08-10 17:01:23.478 2023-08-10 17:01:23.478        SC  Greenville County            45          45045         5392       416058\n",
       "82775  2778491       False      False          True                1 2023-08-10 20:31:12.825 2023-08-10 20:35:25.196        VA   Buena Vista city            51          51530         4333       330808\n",
       "\n",
       "[188790 rows x 13 columns]"
      ]
     },
     "execution_count": 79,
     "metadata": {},
     "output_type": "execute_result"
    }
   ],
   "source": [
    "br_races"
   ]
  },
  {
   "cell_type": "markdown",
   "id": "f65f34cb-569e-4fa5-8ebe-f4b3f74f1ca0",
   "metadata": {},
   "source": [
    "## Test"
   ]
  },
  {
   "cell_type": "code",
   "execution_count": 6,
   "id": "02f84caf-696b-4f3e-8882-5ca6f15fceae",
   "metadata": {},
   "outputs": [
    {
     "name": "stderr",
     "output_type": "stream",
     "text": [
      "2023-09-01 15:37:47 [    INFO] catalystcoop.pudl.helpers:203 Assigned state FIPS codes for 100.00% of records.\n",
      "2023-09-01 15:37:49 [    INFO] catalystcoop.pudl.helpers:219 Assigned county FIPS codes for 99.61% of records.\n"
     ]
    }
   ],
   "source": [
    "import pandas as pd\n",
    "import dbcp\n",
    "\n",
    "source_uri = \"gs://dgm-archive/ballot_ready/BallotReady_upcoming_races_with_counties_08_14_2023.csv\"\n",
    "raw_df = dbcp.extract.ballot_ready.extract(source_uri)\n",
    "transformed = dbcp.transform.ballot_ready.transform(raw_df)"
   ]
  },
  {
   "cell_type": "code",
   "execution_count": 7,
   "id": "58c39b22-29a0-401a-9577-eba7d67a023e",
   "metadata": {},
   "outputs": [
    {
     "data": {
      "text/plain": [
       "(82776, 29)"
      ]
     },
     "execution_count": 7,
     "metadata": {},
     "output_type": "execute_result"
    }
   ],
   "source": [
    "raw_df[\"raw_ballot_ready\"].shape"
   ]
  },
  {
   "cell_type": "markdown",
   "id": "4567af15-3170-476b-8c60-9161f8492d3c",
   "metadata": {},
   "source": [
    "## construct data mart table"
   ]
  },
  {
   "cell_type": "code",
   "execution_count": 19,
   "id": "323ed662-a6ad-444b-93da-4b227bb9de69",
   "metadata": {},
   "outputs": [
    {
     "name": "stderr",
     "output_type": "stream",
     "text": [
      "2023-09-01 15:46:39 [    INFO] catalystcoop.pudl.helpers:203 Assigned state FIPS codes for 100.00% of records.\n",
      "2023-09-01 15:46:41 [    INFO] catalystcoop.pudl.helpers:219 Assigned county FIPS codes for 99.61% of records.\n"
     ]
    }
   ],
   "source": [
    "import pandas as pd\n",
    "import dbcp\n",
    "\n",
    "source_uri = \"gs://dgm-archive/ballot_ready/BallotReady_upcoming_races_with_counties_08_14_2023.csv\"\n",
    "raw_df = dbcp.extract.ballot_ready.extract(source_uri)\n",
    "transformed = dbcp.transform.ballot_ready.transform(raw_df)"
   ]
  },
  {
   "cell_type": "code",
   "execution_count": 29,
   "id": "75da1cb1-98f3-4df3-8bdd-b9f8e3642823",
   "metadata": {},
   "outputs": [],
   "source": [
    "engine = dbcp.helpers.get_sql_engine()\n",
    "with engine.connect() as con:\n",
    "    br_elections = pd.read_sql_table(\"br_elections\", con, schema=\"data_warehouse\")\n",
    "    br_races = pd.read_sql_table(\"br_races\", con, schema=\"data_warehouse\")\n",
    "    br_positions = pd.read_sql_table(\"br_positions\", con, schema=\"data_warehouse\")"
   ]
  },
  {
   "cell_type": "code",
   "execution_count": 30,
   "id": "6e0e024b-dbf4-42e5-aacf-61563379799d",
   "metadata": {},
   "outputs": [],
   "source": [
    "br_election_data = br_races.merge(br_elections, how=\"left\", on=\"election_id\", validate=\"m:1\")\n",
    "br_election_data = br_election_data.merge(br_positions, how=\"left\", on=\"position_id\", validate=\"m:1\")"
   ]
  },
  {
   "cell_type": "code",
   "execution_count": 32,
   "id": "30c04347-467a-4368-bf3d-1de0ad67a226",
   "metadata": {},
   "outputs": [
    {
     "name": "stdout",
     "output_type": "stream",
     "text": [
      "<class 'pandas.core.frame.DataFrame'>\n",
      "Int64Index: 188074 entries, 0 to 188073\n",
      "Data columns (total 29 columns):\n",
      " #   Column                    Non-Null Count   Dtype         \n",
      "---  ------                    --------------   -----         \n",
      " 0   race_id                   188074 non-null  int64         \n",
      " 1   raw_county                188074 non-null  object        \n",
      " 2   is_primary                188074 non-null  bool          \n",
      " 3   is_runoff                 188074 non-null  bool          \n",
      " 4   is_unexpired              188074 non-null  bool          \n",
      " 5   number_of_seats           188074 non-null  int64         \n",
      " 6   race_created_at           188074 non-null  datetime64[ns]\n",
      " 7   race_updated_at           188074 non-null  datetime64[ns]\n",
      " 8   raw_state                 188074 non-null  object        \n",
      " 9   state_id_fips             188074 non-null  object        \n",
      " 10  county_id_fips            188074 non-null  object        \n",
      " 11  election_id               188074 non-null  int64         \n",
      " 12  position_id               188074 non-null  int64         \n",
      " 13  election_name             188074 non-null  object        \n",
      " 14  election_day              188074 non-null  datetime64[ns]\n",
      " 15  position_name             188074 non-null  object        \n",
      " 16  reference_year            188074 non-null  int64         \n",
      " 17  sub_area_name             114957 non-null  object        \n",
      " 18  sub_area_value            125790 non-null  object        \n",
      " 19  sub_area_name_secondary   11501 non-null   object        \n",
      " 20  sub_area_value_secondary  12522 non-null   object        \n",
      " 21  level                     188074 non-null  object        \n",
      " 22  tier                      188074 non-null  int64         \n",
      " 23  is_judicial               188074 non-null  bool          \n",
      " 24  is_retention              188074 non-null  bool          \n",
      " 25  normalized_position_id    188074 non-null  int64         \n",
      " 26  normalized_position_name  188074 non-null  object        \n",
      " 27  frequency                 188074 non-null  object        \n",
      " 28  partisan_type             188060 non-null  object        \n",
      "dtypes: bool(5), datetime64[ns](3), int64(7), object(14)\n",
      "memory usage: 36.8+ MB\n"
     ]
    }
   ],
   "source": [
    "br_election_data.info()"
   ]
  },
  {
   "cell_type": "code",
   "execution_count": 8,
   "id": "a6d42ef0-fa8e-44ba-802d-9beb9beb30fb",
   "metadata": {},
   "outputs": [
    {
     "data": {
      "text/plain": [
       "dict_keys(['br_elections', 'br_positions', 'br_races'])"
      ]
     },
     "execution_count": 8,
     "metadata": {},
     "output_type": "execute_result"
    }
   ],
   "source": [
    "transformed.keys()"
   ]
  },
  {
   "cell_type": "code",
   "execution_count": 9,
   "id": "0d2d9fef-ef28-4b98-a93a-3ed6c24d558c",
   "metadata": {},
   "outputs": [
    {
     "name": "stdout",
     "output_type": "stream",
     "text": [
      "Index(['election_id', 'election_name', 'election_day'], dtype='object')\n",
      "\n",
      "Index(['reference_year', 'position_id', 'position_name', 'sub_area_name', 'sub_area_value', 'sub_area_name_secondary', 'sub_area_value_secondary', 'raw_state', 'level', 'tier', 'is_judicial', 'is_retention', 'normalized_position_id', 'normalized_position_name', 'frequency', 'partisan_type'], dtype='object')\n",
      "\n",
      "Index(['race_id', 'is_primary', 'is_runoff', 'is_unexpired', 'number_of_seats', 'race_created_at', 'race_updated_at', 'raw_state', 'raw_county', 'raw_county', 'state_id_fips', 'county_id_fips', 'election_id', 'position_id'], dtype='object')\n",
      "\n"
     ]
    }
   ],
   "source": [
    "for df in transformed.values():\n",
    "    print(df.columns)\n",
    "    print()"
   ]
  },
  {
   "cell_type": "code",
   "execution_count": 10,
   "id": "d463e5ce-1c9a-4d79-a3d7-ed9fa9ba864b",
   "metadata": {},
   "outputs": [
    {
     "data": {
      "text/plain": [
       "False    188074\n",
       "dtype: int64"
      ]
     },
     "execution_count": 10,
     "metadata": {},
     "output_type": "execute_result"
    }
   ],
   "source": [
    "transformed[\"br_races\"].duplicated(subset=[\"race_id\", \"raw_county\"]).value_counts()"
   ]
  },
  {
   "cell_type": "markdown",
   "id": "ecffc286-f29c-4e0f-978b-0d7e7caa8a87",
   "metadata": {},
   "source": [
    "## Fips business"
   ]
  },
  {
   "cell_type": "code",
   "execution_count": 11,
   "id": "c5a32318-fafb-4512-8134-8f09008958a3",
   "metadata": {},
   "outputs": [],
   "source": [
    "census_uri = \"gs://dgm-archive/census/tl_2021_us_county.zip\"\n",
    "fips = dbcp.extract.fips_tables._extract_census_counties(census_uri)"
   ]
  },
  {
   "cell_type": "code",
   "execution_count": 12,
   "id": "ac5f998f-273e-4441-9604-574e52b1394c",
   "metadata": {},
   "outputs": [
    {
     "data": {
      "text/html": [
       "<div>\n",
       "<style scoped>\n",
       "    .dataframe tbody tr th:only-of-type {\n",
       "        vertical-align: middle;\n",
       "    }\n",
       "\n",
       "    .dataframe tbody tr th {\n",
       "        vertical-align: top;\n",
       "    }\n",
       "\n",
       "    .dataframe thead th {\n",
       "        text-align: right;\n",
       "    }\n",
       "</style>\n",
       "<table border=\"1\" class=\"dataframe\">\n",
       "  <thead>\n",
       "    <tr style=\"text-align: right;\">\n",
       "      <th></th>\n",
       "      <th>STATEFP</th>\n",
       "      <th>COUNTYFP</th>\n",
       "      <th>COUNTYNS</th>\n",
       "      <th>GEOID</th>\n",
       "      <th>NAME</th>\n",
       "      <th>NAMELSAD</th>\n",
       "      <th>LSAD</th>\n",
       "      <th>CLASSFP</th>\n",
       "      <th>MTFCC</th>\n",
       "      <th>CSAFP</th>\n",
       "      <th>CBSAFP</th>\n",
       "      <th>METDIVFP</th>\n",
       "      <th>FUNCSTAT</th>\n",
       "      <th>ALAND</th>\n",
       "      <th>AWATER</th>\n",
       "      <th>INTPTLAT</th>\n",
       "      <th>INTPTLON</th>\n",
       "      <th>geometry</th>\n",
       "    </tr>\n",
       "  </thead>\n",
       "  <tbody>\n",
       "    <tr>\n",
       "      <th>2956</th>\n",
       "      <td>02</td>\n",
       "      <td>066</td>\n",
       "      <td>02804401</td>\n",
       "      <td>02066</td>\n",
       "      <td>Copper River</td>\n",
       "      <td>Copper River Census Area</td>\n",
       "      <td>05</td>\n",
       "      <td>H5</td>\n",
       "      <td>G4020</td>\n",
       "      <td>NaN</td>\n",
       "      <td>NaN</td>\n",
       "      <td>NaN</td>\n",
       "      <td>S</td>\n",
       "      <td>63952335592</td>\n",
       "      <td>1217429937</td>\n",
       "      <td>+62.0344790</td>\n",
       "      <td>-143.9221674</td>\n",
       "      <td>POLYGON ((-147.74430 61.42628, -147.71096 61.4...</td>\n",
       "    </tr>\n",
       "  </tbody>\n",
       "</table>\n",
       "</div>"
      ],
      "text/plain": [
       "     STATEFP COUNTYFP  COUNTYNS  GEOID          NAME                  NAMELSAD LSAD CLASSFP  MTFCC CSAFP CBSAFP METDIVFP FUNCSTAT        ALAND      AWATER     INTPTLAT      INTPTLON                                           geometry\n",
       "2956      02      066  02804401  02066  Copper River  Copper River Census Area   05      H5  G4020   NaN    NaN      NaN        S  63952335592  1217429937  +62.0344790  -143.9221674  POLYGON ((-147.74430 61.42628, -147.71096 61.4..."
      ]
     },
     "execution_count": 12,
     "metadata": {},
     "output_type": "execute_result"
    }
   ],
   "source": [
    "fips.query(\"GEOID == '02066'\")"
   ]
  },
  {
   "cell_type": "code",
   "execution_count": 13,
   "id": "e42d25e4-a691-41a2-a0a2-d661f2e4113e",
   "metadata": {},
   "outputs": [
    {
     "data": {
      "text/html": [
       "<div>\n",
       "<style scoped>\n",
       "    .dataframe tbody tr th:only-of-type {\n",
       "        vertical-align: middle;\n",
       "    }\n",
       "\n",
       "    .dataframe tbody tr th {\n",
       "        vertical-align: top;\n",
       "    }\n",
       "\n",
       "    .dataframe thead th {\n",
       "        text-align: right;\n",
       "    }\n",
       "</style>\n",
       "<table border=\"1\" class=\"dataframe\">\n",
       "  <thead>\n",
       "    <tr style=\"text-align: right;\">\n",
       "      <th></th>\n",
       "      <th>race_id</th>\n",
       "      <th>is_primary</th>\n",
       "      <th>is_runoff</th>\n",
       "      <th>is_unexpired</th>\n",
       "      <th>number_of_seats</th>\n",
       "      <th>race_created_at</th>\n",
       "      <th>race_updated_at</th>\n",
       "      <th>raw_state</th>\n",
       "      <th>raw_county</th>\n",
       "      <th>raw_county</th>\n",
       "      <th>state_id_fips</th>\n",
       "      <th>county_id_fips</th>\n",
       "      <th>election_id</th>\n",
       "      <th>position_id</th>\n",
       "    </tr>\n",
       "  </thead>\n",
       "  <tbody>\n",
       "  </tbody>\n",
       "</table>\n",
       "</div>"
      ],
      "text/plain": [
       "Empty DataFrame\n",
       "Columns: [race_id, is_primary, is_runoff, is_unexpired, number_of_seats, race_created_at, race_updated_at, raw_state, raw_county, raw_county, state_id_fips, county_id_fips, election_id, position_id]\n",
       "Index: []"
      ]
     },
     "execution_count": 13,
     "metadata": {},
     "output_type": "execute_result"
    }
   ],
   "source": [
    "br_races = transformed[\"br_races\"]\n",
    "\n",
    "br_races.query(\"county_id_fips == '02261'\")"
   ]
  },
  {
   "cell_type": "code",
   "execution_count": 14,
   "id": "9e3b3608-50af-498e-a1bf-adaf117eaafb",
   "metadata": {},
   "outputs": [
    {
     "data": {
      "text/plain": [
       "(0, 14)"
      ]
     },
     "execution_count": 14,
     "metadata": {},
     "output_type": "execute_result"
    }
   ],
   "source": [
    "valdez = br_races.query(\"county_id_fips == '02261'\").copy()\n",
    "valdez.shape"
   ]
  },
  {
   "cell_type": "code",
   "execution_count": 15,
   "id": "7604e0c6-27ff-4ea9-a9e7-1bef80e6823e",
   "metadata": {},
   "outputs": [],
   "source": [
    "br_races = br_races[br_races.county_id_fips != '02261'].copy()"
   ]
  },
  {
   "cell_type": "code",
   "execution_count": 16,
   "id": "79991fed-523d-49f7-b03f-3a8bcef4b8f4",
   "metadata": {},
   "outputs": [],
   "source": [
    "valdez_corrections = [\n",
    "    {'raw_county': 'Chugach Census Area', 'county_id_fips': '02063'},\n",
    "    {'raw_county': 'Copper River Census Area', 'county_id_fips': '02066'},\n",
    "]\n",
    "\n",
    "valdez_corrections_dfs = []\n",
    "for cor in valdez_corrections:\n",
    "    corrected_df = valdez.copy()\n",
    "    for field, value in cor.items():\n",
    "        corrected_df[field] = value\n",
    "    valdez_corrections_dfs.append(corrected_df)"
   ]
  },
  {
   "cell_type": "code",
   "execution_count": 17,
   "id": "840ae452-c1ce-449c-8917-0bf371437f60",
   "metadata": {},
   "outputs": [
    {
     "data": {
      "text/html": [
       "<div>\n",
       "<style scoped>\n",
       "    .dataframe tbody tr th:only-of-type {\n",
       "        vertical-align: middle;\n",
       "    }\n",
       "\n",
       "    .dataframe tbody tr th {\n",
       "        vertical-align: top;\n",
       "    }\n",
       "\n",
       "    .dataframe thead th {\n",
       "        text-align: right;\n",
       "    }\n",
       "</style>\n",
       "<table border=\"1\" class=\"dataframe\">\n",
       "  <thead>\n",
       "    <tr style=\"text-align: right;\">\n",
       "      <th></th>\n",
       "      <th>race_id</th>\n",
       "      <th>is_primary</th>\n",
       "      <th>is_runoff</th>\n",
       "      <th>is_unexpired</th>\n",
       "      <th>number_of_seats</th>\n",
       "      <th>race_created_at</th>\n",
       "      <th>race_updated_at</th>\n",
       "      <th>raw_state</th>\n",
       "      <th>raw_county</th>\n",
       "      <th>raw_county</th>\n",
       "      <th>state_id_fips</th>\n",
       "      <th>county_id_fips</th>\n",
       "      <th>election_id</th>\n",
       "      <th>position_id</th>\n",
       "    </tr>\n",
       "  </thead>\n",
       "  <tbody>\n",
       "    <tr>\n",
       "      <th>1543</th>\n",
       "      <td>1385101</td>\n",
       "      <td>False</td>\n",
       "      <td>False</td>\n",
       "      <td>False</td>\n",
       "      <td>1</td>\n",
       "      <td>2020-01-14 23:09:11.733</td>\n",
       "      <td>2021-09-30 19:37:57.406</td>\n",
       "      <td>AK</td>\n",
       "      <td>Valdez-Cordova Census Area</td>\n",
       "      <td>Chugach Census Area</td>\n",
       "      <td>02</td>\n",
       "      <td>02063</td>\n",
       "      <td>4325</td>\n",
       "      <td>225906</td>\n",
       "    </tr>\n",
       "    <tr>\n",
       "      <th>1545</th>\n",
       "      <td>1385103</td>\n",
       "      <td>False</td>\n",
       "      <td>False</td>\n",
       "      <td>False</td>\n",
       "      <td>1</td>\n",
       "      <td>2020-01-14 23:09:11.733</td>\n",
       "      <td>2021-09-30 19:37:57.406</td>\n",
       "      <td>AK</td>\n",
       "      <td>Valdez-Cordova Census Area</td>\n",
       "      <td>Chugach Census Area</td>\n",
       "      <td>02</td>\n",
       "      <td>02063</td>\n",
       "      <td>4325</td>\n",
       "      <td>225908</td>\n",
       "    </tr>\n",
       "    <tr>\n",
       "      <th>1546</th>\n",
       "      <td>1385104</td>\n",
       "      <td>False</td>\n",
       "      <td>False</td>\n",
       "      <td>False</td>\n",
       "      <td>1</td>\n",
       "      <td>2020-01-14 23:09:11.733</td>\n",
       "      <td>2021-09-30 19:37:57.406</td>\n",
       "      <td>AK</td>\n",
       "      <td>Valdez-Cordova Census Area</td>\n",
       "      <td>Chugach Census Area</td>\n",
       "      <td>02</td>\n",
       "      <td>02063</td>\n",
       "      <td>4325</td>\n",
       "      <td>225909</td>\n",
       "    </tr>\n",
       "    <tr>\n",
       "      <th>9958</th>\n",
       "      <td>1472432</td>\n",
       "      <td>False</td>\n",
       "      <td>False</td>\n",
       "      <td>False</td>\n",
       "      <td>1</td>\n",
       "      <td>2020-01-14 23:13:16.097</td>\n",
       "      <td>2020-01-14 23:13:16.097</td>\n",
       "      <td>AK</td>\n",
       "      <td>Valdez-Cordova Census Area</td>\n",
       "      <td>Chugach Census Area</td>\n",
       "      <td>02</td>\n",
       "      <td>02063</td>\n",
       "      <td>4325</td>\n",
       "      <td>2</td>\n",
       "    </tr>\n",
       "    <tr>\n",
       "      <th>41760</th>\n",
       "      <td>1675001</td>\n",
       "      <td>False</td>\n",
       "      <td>False</td>\n",
       "      <td>False</td>\n",
       "      <td>1</td>\n",
       "      <td>2020-01-15 22:48:10.749</td>\n",
       "      <td>2020-01-15 22:48:10.749</td>\n",
       "      <td>AK</td>\n",
       "      <td>Valdez-Cordova Census Area</td>\n",
       "      <td>Chugach Census Area</td>\n",
       "      <td>02</td>\n",
       "      <td>02063</td>\n",
       "      <td>4325</td>\n",
       "      <td>46255</td>\n",
       "    </tr>\n",
       "    <tr>\n",
       "      <th>...</th>\n",
       "      <td>...</td>\n",
       "      <td>...</td>\n",
       "      <td>...</td>\n",
       "      <td>...</td>\n",
       "      <td>...</td>\n",
       "      <td>...</td>\n",
       "      <td>...</td>\n",
       "      <td>...</td>\n",
       "      <td>...</td>\n",
       "      <td>...</td>\n",
       "      <td>...</td>\n",
       "      <td>...</td>\n",
       "      <td>...</td>\n",
       "      <td>...</td>\n",
       "    </tr>\n",
       "    <tr>\n",
       "      <th>82771</th>\n",
       "      <td>2778453</td>\n",
       "      <td>False</td>\n",
       "      <td>True</td>\n",
       "      <td>False</td>\n",
       "      <td>1</td>\n",
       "      <td>2023-08-09 23:45:46.281</td>\n",
       "      <td>2023-08-09 23:45:46.281</td>\n",
       "      <td>TN</td>\n",
       "      <td>Davidson County</td>\n",
       "      <td>NaN</td>\n",
       "      <td>47</td>\n",
       "      <td>47037</td>\n",
       "      <td>5002</td>\n",
       "      <td>233401</td>\n",
       "    </tr>\n",
       "    <tr>\n",
       "      <th>82772</th>\n",
       "      <td>2778454</td>\n",
       "      <td>False</td>\n",
       "      <td>True</td>\n",
       "      <td>False</td>\n",
       "      <td>1</td>\n",
       "      <td>2023-08-09 23:45:56.423</td>\n",
       "      <td>2023-08-09 23:45:56.423</td>\n",
       "      <td>TN</td>\n",
       "      <td>Davidson County</td>\n",
       "      <td>NaN</td>\n",
       "      <td>47</td>\n",
       "      <td>47037</td>\n",
       "      <td>5002</td>\n",
       "      <td>233376</td>\n",
       "    </tr>\n",
       "    <tr>\n",
       "      <th>82773</th>\n",
       "      <td>2778472</td>\n",
       "      <td>False</td>\n",
       "      <td>False</td>\n",
       "      <td>False</td>\n",
       "      <td>1</td>\n",
       "      <td>2023-08-10 17:01:23.443</td>\n",
       "      <td>2023-08-10 17:01:23.443</td>\n",
       "      <td>SC</td>\n",
       "      <td>Greenville County</td>\n",
       "      <td>NaN</td>\n",
       "      <td>45</td>\n",
       "      <td>45045</td>\n",
       "      <td>4693</td>\n",
       "      <td>416058</td>\n",
       "    </tr>\n",
       "    <tr>\n",
       "      <th>82774</th>\n",
       "      <td>2778473</td>\n",
       "      <td>True</td>\n",
       "      <td>False</td>\n",
       "      <td>False</td>\n",
       "      <td>1</td>\n",
       "      <td>2023-08-10 17:01:23.478</td>\n",
       "      <td>2023-08-10 17:01:23.478</td>\n",
       "      <td>SC</td>\n",
       "      <td>Greenville County</td>\n",
       "      <td>NaN</td>\n",
       "      <td>45</td>\n",
       "      <td>45045</td>\n",
       "      <td>5392</td>\n",
       "      <td>416058</td>\n",
       "    </tr>\n",
       "    <tr>\n",
       "      <th>82775</th>\n",
       "      <td>2778491</td>\n",
       "      <td>False</td>\n",
       "      <td>False</td>\n",
       "      <td>True</td>\n",
       "      <td>1</td>\n",
       "      <td>2023-08-10 20:31:12.825</td>\n",
       "      <td>2023-08-10 20:35:25.196</td>\n",
       "      <td>VA</td>\n",
       "      <td>Buena Vista city</td>\n",
       "      <td>NaN</td>\n",
       "      <td>51</td>\n",
       "      <td>51530</td>\n",
       "      <td>4333</td>\n",
       "      <td>330808</td>\n",
       "    </tr>\n",
       "  </tbody>\n",
       "</table>\n",
       "<p>188074 rows × 14 columns</p>\n",
       "</div>"
      ],
      "text/plain": [
       "       race_id  is_primary  is_runoff  is_unexpired  number_of_seats         race_created_at         race_updated_at raw_state                  raw_county           raw_county state_id_fips county_id_fips  election_id  position_id\n",
       "1543   1385101       False      False         False                1 2020-01-14 23:09:11.733 2021-09-30 19:37:57.406        AK  Valdez-Cordova Census Area  Chugach Census Area            02          02063         4325       225906\n",
       "1545   1385103       False      False         False                1 2020-01-14 23:09:11.733 2021-09-30 19:37:57.406        AK  Valdez-Cordova Census Area  Chugach Census Area            02          02063         4325       225908\n",
       "1546   1385104       False      False         False                1 2020-01-14 23:09:11.733 2021-09-30 19:37:57.406        AK  Valdez-Cordova Census Area  Chugach Census Area            02          02063         4325       225909\n",
       "9958   1472432       False      False         False                1 2020-01-14 23:13:16.097 2020-01-14 23:13:16.097        AK  Valdez-Cordova Census Area  Chugach Census Area            02          02063         4325            2\n",
       "41760  1675001       False      False         False                1 2020-01-15 22:48:10.749 2020-01-15 22:48:10.749        AK  Valdez-Cordova Census Area  Chugach Census Area            02          02063         4325        46255\n",
       "...        ...         ...        ...           ...              ...                     ...                     ...       ...                         ...                  ...           ...            ...          ...          ...\n",
       "82771  2778453       False       True         False                1 2023-08-09 23:45:46.281 2023-08-09 23:45:46.281        TN             Davidson County                  NaN            47          47037         5002       233401\n",
       "82772  2778454       False       True         False                1 2023-08-09 23:45:56.423 2023-08-09 23:45:56.423        TN             Davidson County                  NaN            47          47037         5002       233376\n",
       "82773  2778472       False      False         False                1 2023-08-10 17:01:23.443 2023-08-10 17:01:23.443        SC           Greenville County                  NaN            45          45045         4693       416058\n",
       "82774  2778473        True      False         False                1 2023-08-10 17:01:23.478 2023-08-10 17:01:23.478        SC           Greenville County                  NaN            45          45045         5392       416058\n",
       "82775  2778491       False      False          True                1 2023-08-10 20:31:12.825 2023-08-10 20:35:25.196        VA            Buena Vista city                  NaN            51          51530         4333       330808\n",
       "\n",
       "[188074 rows x 14 columns]"
      ]
     },
     "execution_count": 17,
     "metadata": {},
     "output_type": "execute_result"
    }
   ],
   "source": [
    "pd.concat(valdez_corrections_dfs + [br_races])"
   ]
  },
  {
   "cell_type": "code",
   "execution_count": 34,
   "id": "96a4d873-c483-4cb5-9243-05e1dbe29248",
   "metadata": {},
   "outputs": [
    {
     "data": {
      "text/html": [
       "<div>\n",
       "<style scoped>\n",
       "    .dataframe tbody tr th:only-of-type {\n",
       "        vertical-align: middle;\n",
       "    }\n",
       "\n",
       "    .dataframe tbody tr th {\n",
       "        vertical-align: top;\n",
       "    }\n",
       "\n",
       "    .dataframe thead th {\n",
       "        text-align: right;\n",
       "    }\n",
       "</style>\n",
       "<table border=\"1\" class=\"dataframe\">\n",
       "  <thead>\n",
       "    <tr style=\"text-align: right;\">\n",
       "      <th></th>\n",
       "      <th>race_id</th>\n",
       "      <th>is_primary</th>\n",
       "      <th>is_runoff</th>\n",
       "      <th>is_unexpired</th>\n",
       "      <th>number_of_seats</th>\n",
       "      <th>race_created_at</th>\n",
       "      <th>race_updated_at</th>\n",
       "      <th>raw_state</th>\n",
       "      <th>raw_county</th>\n",
       "      <th>state_id_fips</th>\n",
       "      <th>county_id_fips</th>\n",
       "      <th>election_id</th>\n",
       "      <th>position_id</th>\n",
       "    </tr>\n",
       "  </thead>\n",
       "  <tbody>\n",
       "    <tr>\n",
       "      <th>0</th>\n",
       "      <td>1365674</td>\n",
       "      <td>False</td>\n",
       "      <td>False</td>\n",
       "      <td>False</td>\n",
       "      <td>3</td>\n",
       "      <td>2020-01-14 23:08:21.016</td>\n",
       "      <td>2021-09-30 19:37:57.406</td>\n",
       "      <td>IL</td>\n",
       "      <td>Macon County</td>\n",
       "      <td>17</td>\n",
       "      <td>17115</td>\n",
       "      <td>4206</td>\n",
       "      <td>247556</td>\n",
       "    </tr>\n",
       "    <tr>\n",
       "      <th>1</th>\n",
       "      <td>1365754</td>\n",
       "      <td>False</td>\n",
       "      <td>False</td>\n",
       "      <td>False</td>\n",
       "      <td>1</td>\n",
       "      <td>2020-01-14 23:08:21.016</td>\n",
       "      <td>2023-02-02 19:54:36.541</td>\n",
       "      <td>IL</td>\n",
       "      <td>Cook County</td>\n",
       "      <td>17</td>\n",
       "      <td>17031</td>\n",
       "      <td>4206</td>\n",
       "      <td>226054</td>\n",
       "    </tr>\n",
       "    <tr>\n",
       "      <th>2</th>\n",
       "      <td>1365856</td>\n",
       "      <td>False</td>\n",
       "      <td>False</td>\n",
       "      <td>False</td>\n",
       "      <td>1</td>\n",
       "      <td>2020-01-14 23:08:21.016</td>\n",
       "      <td>2023-02-02 19:54:49.430</td>\n",
       "      <td>IL</td>\n",
       "      <td>Cook County</td>\n",
       "      <td>17</td>\n",
       "      <td>17031</td>\n",
       "      <td>4206</td>\n",
       "      <td>226051</td>\n",
       "    </tr>\n",
       "    <tr>\n",
       "      <th>3</th>\n",
       "      <td>1365861</td>\n",
       "      <td>False</td>\n",
       "      <td>False</td>\n",
       "      <td>False</td>\n",
       "      <td>1</td>\n",
       "      <td>2020-01-14 23:08:21.016</td>\n",
       "      <td>2023-02-02 19:53:14.016</td>\n",
       "      <td>IL</td>\n",
       "      <td>Cook County</td>\n",
       "      <td>17</td>\n",
       "      <td>17031</td>\n",
       "      <td>4206</td>\n",
       "      <td>226035</td>\n",
       "    </tr>\n",
       "    <tr>\n",
       "      <th>4</th>\n",
       "      <td>1365863</td>\n",
       "      <td>False</td>\n",
       "      <td>False</td>\n",
       "      <td>False</td>\n",
       "      <td>1</td>\n",
       "      <td>2020-01-14 23:08:21.016</td>\n",
       "      <td>2023-02-02 19:53:39.554</td>\n",
       "      <td>IL</td>\n",
       "      <td>Cook County</td>\n",
       "      <td>17</td>\n",
       "      <td>17031</td>\n",
       "      <td>4206</td>\n",
       "      <td>226030</td>\n",
       "    </tr>\n",
       "    <tr>\n",
       "      <th>...</th>\n",
       "      <td>...</td>\n",
       "      <td>...</td>\n",
       "      <td>...</td>\n",
       "      <td>...</td>\n",
       "      <td>...</td>\n",
       "      <td>...</td>\n",
       "      <td>...</td>\n",
       "      <td>...</td>\n",
       "      <td>...</td>\n",
       "      <td>...</td>\n",
       "      <td>...</td>\n",
       "      <td>...</td>\n",
       "      <td>...</td>\n",
       "    </tr>\n",
       "    <tr>\n",
       "      <th>82771</th>\n",
       "      <td>2778453</td>\n",
       "      <td>False</td>\n",
       "      <td>True</td>\n",
       "      <td>False</td>\n",
       "      <td>1</td>\n",
       "      <td>2023-08-09 23:45:46.281</td>\n",
       "      <td>2023-08-09 23:45:46.281</td>\n",
       "      <td>TN</td>\n",
       "      <td>Davidson County</td>\n",
       "      <td>47</td>\n",
       "      <td>47037</td>\n",
       "      <td>5002</td>\n",
       "      <td>233401</td>\n",
       "    </tr>\n",
       "    <tr>\n",
       "      <th>82772</th>\n",
       "      <td>2778454</td>\n",
       "      <td>False</td>\n",
       "      <td>True</td>\n",
       "      <td>False</td>\n",
       "      <td>1</td>\n",
       "      <td>2023-08-09 23:45:56.423</td>\n",
       "      <td>2023-08-09 23:45:56.423</td>\n",
       "      <td>TN</td>\n",
       "      <td>Davidson County</td>\n",
       "      <td>47</td>\n",
       "      <td>47037</td>\n",
       "      <td>5002</td>\n",
       "      <td>233376</td>\n",
       "    </tr>\n",
       "    <tr>\n",
       "      <th>82773</th>\n",
       "      <td>2778472</td>\n",
       "      <td>False</td>\n",
       "      <td>False</td>\n",
       "      <td>False</td>\n",
       "      <td>1</td>\n",
       "      <td>2023-08-10 17:01:23.443</td>\n",
       "      <td>2023-08-10 17:01:23.443</td>\n",
       "      <td>SC</td>\n",
       "      <td>Greenville County</td>\n",
       "      <td>45</td>\n",
       "      <td>45045</td>\n",
       "      <td>4693</td>\n",
       "      <td>416058</td>\n",
       "    </tr>\n",
       "    <tr>\n",
       "      <th>82774</th>\n",
       "      <td>2778473</td>\n",
       "      <td>True</td>\n",
       "      <td>False</td>\n",
       "      <td>False</td>\n",
       "      <td>1</td>\n",
       "      <td>2023-08-10 17:01:23.478</td>\n",
       "      <td>2023-08-10 17:01:23.478</td>\n",
       "      <td>SC</td>\n",
       "      <td>Greenville County</td>\n",
       "      <td>45</td>\n",
       "      <td>45045</td>\n",
       "      <td>5392</td>\n",
       "      <td>416058</td>\n",
       "    </tr>\n",
       "    <tr>\n",
       "      <th>82775</th>\n",
       "      <td>2778491</td>\n",
       "      <td>False</td>\n",
       "      <td>False</td>\n",
       "      <td>True</td>\n",
       "      <td>1</td>\n",
       "      <td>2023-08-10 20:31:12.825</td>\n",
       "      <td>2023-08-10 20:35:25.196</td>\n",
       "      <td>VA</td>\n",
       "      <td>Buena Vista city</td>\n",
       "      <td>51</td>\n",
       "      <td>51530</td>\n",
       "      <td>4333</td>\n",
       "      <td>330808</td>\n",
       "    </tr>\n",
       "  </tbody>\n",
       "</table>\n",
       "<p>188034 rows × 13 columns</p>\n",
       "</div>"
      ],
      "text/plain": [
       "       race_id  is_primary  is_runoff  is_unexpired  number_of_seats         race_created_at         race_updated_at raw_state         raw_county state_id_fips county_id_fips  election_id  position_id\n",
       "0      1365674       False      False         False                3 2020-01-14 23:08:21.016 2021-09-30 19:37:57.406        IL       Macon County            17          17115         4206       247556\n",
       "1      1365754       False      False         False                1 2020-01-14 23:08:21.016 2023-02-02 19:54:36.541        IL        Cook County            17          17031         4206       226054\n",
       "2      1365856       False      False         False                1 2020-01-14 23:08:21.016 2023-02-02 19:54:49.430        IL        Cook County            17          17031         4206       226051\n",
       "3      1365861       False      False         False                1 2020-01-14 23:08:21.016 2023-02-02 19:53:14.016        IL        Cook County            17          17031         4206       226035\n",
       "4      1365863       False      False         False                1 2020-01-14 23:08:21.016 2023-02-02 19:53:39.554        IL        Cook County            17          17031         4206       226030\n",
       "...        ...         ...        ...           ...              ...                     ...                     ...       ...                ...           ...            ...          ...          ...\n",
       "82771  2778453       False       True         False                1 2023-08-09 23:45:46.281 2023-08-09 23:45:46.281        TN    Davidson County            47          47037         5002       233401\n",
       "82772  2778454       False       True         False                1 2023-08-09 23:45:56.423 2023-08-09 23:45:56.423        TN    Davidson County            47          47037         5002       233376\n",
       "82773  2778472       False      False         False                1 2023-08-10 17:01:23.443 2023-08-10 17:01:23.443        SC  Greenville County            45          45045         4693       416058\n",
       "82774  2778473        True      False         False                1 2023-08-10 17:01:23.478 2023-08-10 17:01:23.478        SC  Greenville County            45          45045         5392       416058\n",
       "82775  2778491       False      False          True                1 2023-08-10 20:31:12.825 2023-08-10 20:35:25.196        VA   Buena Vista city            51          51530         4333       330808\n",
       "\n",
       "[188034 rows x 13 columns]"
      ]
     },
     "execution_count": 34,
     "metadata": {},
     "output_type": "execute_result"
    }
   ],
   "source": [
    "br_races"
   ]
  },
  {
   "cell_type": "code",
   "execution_count": null,
   "id": "56defb80-b7c7-42a9-96be-f4a6647c3677",
   "metadata": {},
   "outputs": [],
   "source": []
  }
 ],
 "metadata": {
  "kernelspec": {
   "display_name": "Python 3 (ipykernel)",
   "language": "python",
   "name": "python3"
  },
  "language_info": {
   "codemirror_mode": {
    "name": "ipython",
    "version": 3
   },
   "file_extension": ".py",
   "mimetype": "text/x-python",
   "name": "python",
   "nbconvert_exporter": "python",
   "pygments_lexer": "ipython3",
   "version": "3.10.12"
  }
 },
 "nbformat": 4,
 "nbformat_minor": 5
}
