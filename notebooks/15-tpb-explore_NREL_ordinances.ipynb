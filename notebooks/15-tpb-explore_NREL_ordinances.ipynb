{
 "cells": [
  {
   "cell_type": "code",
   "execution_count": 1,
   "id": "7aa47cac-8915-442b-93b8-db31580418f6",
   "metadata": {
    "tags": []
   },
   "outputs": [],
   "source": [
    "import pandas as pd\n",
    "import numpy as np\n",
    "from pathlib import Path"
   ]
  },
  {
   "cell_type": "code",
   "execution_count": 2,
   "id": "32934195-85f3-4af0-ab29-722af65a24c5",
   "metadata": {},
   "outputs": [
    {
     "name": "stdout",
     "output_type": "stream",
     "text": [
      "/app/notebooks\n"
     ]
    }
   ],
   "source": [
    "!pwd"
   ]
  },
  {
   "cell_type": "code",
   "execution_count": 3,
   "id": "5170e272-d714-4be7-b87f-9e4e6b997317",
   "metadata": {},
   "outputs": [],
   "source": [
    "wind_path = Path('../data/raw/NREL_Wind_Ordinances.xlsx')\n",
    "solar_path = Path('../data/raw/NREL_Solar_Ordinances.xlsx')\n",
    "assert wind_path.exists\n",
    "assert solar_path.exists"
   ]
  },
  {
   "cell_type": "code",
   "execution_count": 4,
   "id": "ee3dc97b-c296-48e1-921c-807f48bb1812",
   "metadata": {},
   "outputs": [
    {
     "name": "stderr",
     "output_type": "stream",
     "text": [
      "/app/.local/lib/python3.9/site-packages/openpyxl/worksheet/_reader.py:312: UserWarning: Data Validation extension is not supported and will be removed\n",
      "  warn(msg)\n"
     ]
    }
   ],
   "source": [
    "wind = pd.read_excel(wind_path, sheet_name=\"County, State\")\n",
    "solar = pd.read_excel(solar_path, sheet_name=\"County, State\")"
   ]
  },
  {
   "cell_type": "code",
   "execution_count": 5,
   "id": "e6b65e67-b40c-4946-9903-17030699d11b",
   "metadata": {},
   "outputs": [
    {
     "data": {
      "text/html": [
       "<div>\n",
       "<style scoped>\n",
       "    .dataframe tbody tr th:only-of-type {\n",
       "        vertical-align: middle;\n",
       "    }\n",
       "\n",
       "    .dataframe tbody tr th {\n",
       "        vertical-align: top;\n",
       "    }\n",
       "\n",
       "    .dataframe thead th {\n",
       "        text-align: right;\n",
       "    }\n",
       "</style>\n",
       "<table border=\"1\" class=\"dataframe\">\n",
       "  <thead>\n",
       "    <tr style=\"text-align: right;\">\n",
       "      <th></th>\n",
       "      <th>State</th>\n",
       "      <th>City/Town</th>\n",
       "      <th>County</th>\n",
       "      <th>Feature Type</th>\n",
       "      <th>Value Type</th>\n",
       "      <th>Value</th>\n",
       "      <th>Citation</th>\n",
       "      <th>Comment</th>\n",
       "      <th>Updated Type</th>\n",
       "      <th>Updated Value</th>\n",
       "      <th>Updated Comment</th>\n",
       "      <th>Ordinance Year</th>\n",
       "      <th>Original Captured Date</th>\n",
       "      <th>New Capture Date</th>\n",
       "      <th>Update Status</th>\n",
       "    </tr>\n",
       "  </thead>\n",
       "  <tbody>\n",
       "    <tr>\n",
       "      <th>0</th>\n",
       "      <td>Alabama</td>\n",
       "      <td>NaN</td>\n",
       "      <td>Baldwin</td>\n",
       "      <td>Banned</td>\n",
       "      <td>NaN</td>\n",
       "      <td>NaN</td>\n",
       "      <td>Baldwin County Zoning Ordinance Sec. 13.13</td>\n",
       "      <td>NaN</td>\n",
       "      <td>NaN</td>\n",
       "      <td>NaN</td>\n",
       "      <td>NaN</td>\n",
       "      <td>NaN</td>\n",
       "      <td>2018.0</td>\n",
       "      <td>NaN</td>\n",
       "      <td>No Change</td>\n",
       "    </tr>\n",
       "    <tr>\n",
       "      <th>1</th>\n",
       "      <td>Alabama</td>\n",
       "      <td>NaN</td>\n",
       "      <td>Cherokee</td>\n",
       "      <td>Sound</td>\n",
       "      <td>dBA</td>\n",
       "      <td>40</td>\n",
       "      <td>Ala. Code § 45-10-260.05</td>\n",
       "      <td>NaN</td>\n",
       "      <td>NaN</td>\n",
       "      <td>NaN</td>\n",
       "      <td>NaN</td>\n",
       "      <td>NaN</td>\n",
       "      <td>2021.0</td>\n",
       "      <td>NaN</td>\n",
       "      <td>NaN</td>\n",
       "    </tr>\n",
       "    <tr>\n",
       "      <th>2</th>\n",
       "      <td>Alabama</td>\n",
       "      <td>NaN</td>\n",
       "      <td>Cherokee</td>\n",
       "      <td>Property Line</td>\n",
       "      <td>Meters</td>\n",
       "      <td>782</td>\n",
       "      <td>Ala. Code § 45-10-260.05</td>\n",
       "      <td>NaN</td>\n",
       "      <td>NaN</td>\n",
       "      <td>NaN</td>\n",
       "      <td>NaN</td>\n",
       "      <td>NaN</td>\n",
       "      <td>2021.0</td>\n",
       "      <td>NaN</td>\n",
       "      <td>NaN</td>\n",
       "    </tr>\n",
       "    <tr>\n",
       "      <th>3</th>\n",
       "      <td>Alabama</td>\n",
       "      <td>NaN</td>\n",
       "      <td>Cherokee</td>\n",
       "      <td>Transmission</td>\n",
       "      <td>Max tip-height Multiplier</td>\n",
       "      <td>1.5</td>\n",
       "      <td>Ala. Code § 45-10-260.05</td>\n",
       "      <td>Minimum Setback of 1.5 the max height to an ov...</td>\n",
       "      <td>NaN</td>\n",
       "      <td>NaN</td>\n",
       "      <td>NaN</td>\n",
       "      <td>NaN</td>\n",
       "      <td>2021.0</td>\n",
       "      <td>NaN</td>\n",
       "      <td>NaN</td>\n",
       "    </tr>\n",
       "    <tr>\n",
       "      <th>4</th>\n",
       "      <td>Alabama</td>\n",
       "      <td>NaN</td>\n",
       "      <td>Dekalb</td>\n",
       "      <td>Sound</td>\n",
       "      <td>dBA</td>\n",
       "      <td>40</td>\n",
       "      <td>Ala. Code § 45-25-260.05</td>\n",
       "      <td>NaN</td>\n",
       "      <td>NaN</td>\n",
       "      <td>NaN</td>\n",
       "      <td>NaN</td>\n",
       "      <td>NaN</td>\n",
       "      <td>2021.0</td>\n",
       "      <td>NaN</td>\n",
       "      <td>NaN</td>\n",
       "    </tr>\n",
       "  </tbody>\n",
       "</table>\n",
       "</div>"
      ],
      "text/plain": [
       "     State City/Town    County   Feature Type                  Value Type  \\\n",
       "0  Alabama       NaN   Baldwin         Banned                         NaN   \n",
       "1  Alabama       NaN  Cherokee          Sound                         dBA   \n",
       "2  Alabama       NaN  Cherokee  Property Line                      Meters   \n",
       "3  Alabama       NaN  Cherokee   Transmission  Max tip-height Multiplier    \n",
       "4  Alabama       NaN    Dekalb          Sound                         dBA   \n",
       "\n",
       "  Value                                    Citation  \\\n",
       "0   NaN  Baldwin County Zoning Ordinance Sec. 13.13   \n",
       "1    40                    Ala. Code § 45-10-260.05   \n",
       "2   782                    Ala. Code § 45-10-260.05   \n",
       "3   1.5                    Ala. Code § 45-10-260.05   \n",
       "4    40                    Ala. Code § 45-25-260.05   \n",
       "\n",
       "                                             Comment Updated Type  \\\n",
       "0                                                NaN          NaN   \n",
       "1                                                NaN          NaN   \n",
       "2                                                NaN          NaN   \n",
       "3  Minimum Setback of 1.5 the max height to an ov...          NaN   \n",
       "4                                                NaN          NaN   \n",
       "\n",
       "   Updated Value Updated Comment  Ordinance Year  Original Captured Date  \\\n",
       "0            NaN             NaN             NaN                  2018.0   \n",
       "1            NaN             NaN             NaN                  2021.0   \n",
       "2            NaN             NaN             NaN                  2021.0   \n",
       "3            NaN             NaN             NaN                  2021.0   \n",
       "4            NaN             NaN             NaN                  2021.0   \n",
       "\n",
       "   New Capture Date Update Status  \n",
       "0               NaN     No Change  \n",
       "1               NaN           NaN  \n",
       "2               NaN           NaN  \n",
       "3               NaN           NaN  \n",
       "4               NaN           NaN  "
      ]
     },
     "execution_count": 5,
     "metadata": {},
     "output_type": "execute_result"
    }
   ],
   "source": [
    "wind.head()"
   ]
  },
  {
   "cell_type": "markdown",
   "id": "a525e924-6031-4bf4-82fc-c22d0cb90571",
   "metadata": {},
   "source": [
    "## Data Cleaning\n",
    "- [ ] Accuracy\n",
    "- [x] Atomicity\n",
    "- [x] Consistency\n",
    "- [x] Completeness\n",
    "- [x] Uniformity\n",
    "- [x] Validity\n",
    "    - [x] Range Validation\n",
    "    - [x] Uniqueness Validation\n",
    "    - [x] Set Membership Validation\n",
    "    - [x] Type Validation\n",
    "    - [x] Cross-Field Validation"
   ]
  },
  {
   "cell_type": "markdown",
   "id": "c59b1dc7-a6ea-49bb-a584-05419573e05f",
   "metadata": {},
   "source": [
    "## Accuracy\n",
    "Spot check a few values by googling for permitting restrictions. Checkbox indicates the restriction is present in the NREL database.\n",
    "\n",
    "#### Douglas County, Kansas\n",
    "[Wind regulation source](https://www.douglascountyks.org/sites/default/files/media/depts/administration/pdf/county-code-chapter-12-zoning-and-land-use-regulations.pdf#page=107) and [solar regulation source](https://www.jocogov.org/sites/default/files/files/2022-05/Douglas%20County%20Solar%20Regulations%20-%20FINAL.pdf)\n",
    "\n",
    "Wind:\n",
    "- [x] property line setback of 1.1x total height \n",
    "- [x] 1500 feet from residential structure [NREL does not specify \"residential\"]\n",
    "- [ ] blades must be at least 100 feet off the ground at lowest point\n",
    "\n",
    "Solar: not present in database\n",
    "- [ ] height limit of 15 feet\n",
    "- [ ] size limit of 1000 acres\n",
    "- [ ] ground must maintain vegetation cover\n",
    "- [ ] residential setback of 500 feet\n",
    "- [ ] 60dBA noise limit at 500 feet\n",
    "#### Hughes County, South Dakota\n",
    "Not present in NREL database. Many other SD counties are, but not this one. [Source](https://hughescounty.org/media/cmshughescountyorg/web_images/zoning/1997-03%20article%202%20exceptions.pdf) These exact ordinances *are* present in the adjacent Hyde county\n",
    "\n",
    "Wind:\n",
    "- [ ] Established dwelling – The greater of 2,640 feet or 4.9 times the tower height unless written permission obtained from landowners, in which case the minimum is 1400 feet.\n",
    "- [ ] County roads – the greater of 750 feet or 1.4 times the system height\n",
    "- [ ] Exterior boundary – greater of 500 feet or 1.1 times the system height.\n",
    "- [ ] 45dBA from residences\n",
    "\n",
    "#### Navajo County, AZ\n",
    "[Wind](https://www.navajocountyaz.gov/Portals/0/Departments/Planning%20and%20Zoning/Documents/Zoning/Navajo%20County%20Zoning%20Ordinance%20-%202019%20.pdf?ver=2019-11-26-164059-347): \n",
    "- [x] Sound: 45dBa to residential\n",
    "- [x] residential setback: 1/2 mile\n",
    "- [ ] property line: 1/4 mile to private land > 2.5 acres, 1/2 mile to private land <= 2.5 acres, 1.1x system height otherwise [NREL only has the 1.1x part]\n",
    "- [x] roadways: 1/4 mile\n",
    "- [x] rail, transmission: 1.5x system height\n",
    "\n",
    "Solar:\n",
    "No specific regulations, currently available only through Special Use permits from the county.\n",
    "\n",
    "#### Marlboro County\n",
    "[Source](https://marlborocounty.sc.gov/sites/marlborocounty/files/Documents/%23%20818%20-%20Conditions%20for%20Solar%20Energy%20Systems.pdf)\n",
    "Solar:\n",
    "- [ ] max capacity: 75 MW (or is that merely their definition? hard to interpret)\n",
    "- [x] height: max 25 feet\n",
    "- [x] property line setback: 100 feet\n",
    "- [x] residence setback: 400 feet\n",
    "- [ ] water setback: 50 feet\n",
    "\n",
    "Wind: not present in database\n",
    "- [ ] max capacity 75 MW (or is that merely their definition? hard to interpret)"
   ]
  },
  {
   "cell_type": "markdown",
   "id": "08f8f3b2-185b-435a-956c-732590c93e48",
   "metadata": {
    "tags": []
   },
   "source": [
    "## Atomicity\n",
    "\"Value\" column has some multivalued entries, eg. sound levels that depend on time of day. Maybe model this with a simplified version and an indicator column letting you know to check the description for full details."
   ]
  },
  {
   "cell_type": "code",
   "execution_count": 6,
   "id": "b618f3ed-8190-4bbc-a5fb-66ee57556078",
   "metadata": {},
   "outputs": [
    {
     "ename": "ValueError",
     "evalue": "Unable to parse string \"55/50/45\" at position 28",
     "output_type": "error",
     "traceback": [
      "\u001b[0;31m---------------------------------------------------------------------------\u001b[0m",
      "\u001b[0;31mValueError\u001b[0m                                Traceback (most recent call last)",
      "File \u001b[0;32m~/.local/lib/python3.9/site-packages/pandas/_libs/lib.pyx:2305\u001b[0m, in \u001b[0;36mpandas._libs.lib.maybe_convert_numeric\u001b[0;34m()\u001b[0m\n",
      "\u001b[0;31mValueError\u001b[0m: Unable to parse string \"55/50/45\"",
      "\nDuring handling of the above exception, another exception occurred:\n",
      "\u001b[0;31mValueError\u001b[0m                                Traceback (most recent call last)",
      "Cell \u001b[0;32mIn [6], line 1\u001b[0m\n\u001b[0;32m----> 1\u001b[0m pd\u001b[38;5;241m.\u001b[39mto_numeric(wind[\u001b[38;5;124m'\u001b[39m\u001b[38;5;124mValue\u001b[39m\u001b[38;5;124m'\u001b[39m])\n",
      "File \u001b[0;32m~/.local/lib/python3.9/site-packages/pandas/core/tools/numeric.py:183\u001b[0m, in \u001b[0;36mto_numeric\u001b[0;34m(arg, errors, downcast)\u001b[0m\n\u001b[1;32m    181\u001b[0m coerce_numeric \u001b[38;5;241m=\u001b[39m errors \u001b[38;5;129;01mnot\u001b[39;00m \u001b[38;5;129;01min\u001b[39;00m (\u001b[38;5;124m\"\u001b[39m\u001b[38;5;124mignore\u001b[39m\u001b[38;5;124m\"\u001b[39m, \u001b[38;5;124m\"\u001b[39m\u001b[38;5;124mraise\u001b[39m\u001b[38;5;124m\"\u001b[39m)\n\u001b[1;32m    182\u001b[0m \u001b[38;5;28;01mtry\u001b[39;00m:\n\u001b[0;32m--> 183\u001b[0m     values, _ \u001b[38;5;241m=\u001b[39m \u001b[43mlib\u001b[49m\u001b[38;5;241;43m.\u001b[39;49m\u001b[43mmaybe_convert_numeric\u001b[49m\u001b[43m(\u001b[49m\n\u001b[1;32m    184\u001b[0m \u001b[43m        \u001b[49m\u001b[43mvalues\u001b[49m\u001b[43m,\u001b[49m\u001b[43m \u001b[49m\u001b[38;5;28;43mset\u001b[39;49m\u001b[43m(\u001b[49m\u001b[43m)\u001b[49m\u001b[43m,\u001b[49m\u001b[43m \u001b[49m\u001b[43mcoerce_numeric\u001b[49m\u001b[38;5;241;43m=\u001b[39;49m\u001b[43mcoerce_numeric\u001b[49m\n\u001b[1;32m    185\u001b[0m \u001b[43m    \u001b[49m\u001b[43m)\u001b[49m\n\u001b[1;32m    186\u001b[0m \u001b[38;5;28;01mexcept\u001b[39;00m (\u001b[38;5;167;01mValueError\u001b[39;00m, \u001b[38;5;167;01mTypeError\u001b[39;00m):\n\u001b[1;32m    187\u001b[0m     \u001b[38;5;28;01mif\u001b[39;00m errors \u001b[38;5;241m==\u001b[39m \u001b[38;5;124m\"\u001b[39m\u001b[38;5;124mraise\u001b[39m\u001b[38;5;124m\"\u001b[39m:\n",
      "File \u001b[0;32m~/.local/lib/python3.9/site-packages/pandas/_libs/lib.pyx:2347\u001b[0m, in \u001b[0;36mpandas._libs.lib.maybe_convert_numeric\u001b[0;34m()\u001b[0m\n",
      "\u001b[0;31mValueError\u001b[0m: Unable to parse string \"55/50/45\" at position 28"
     ]
    }
   ],
   "source": [
    "pd.to_numeric(wind['Value'])"
   ]
  },
  {
   "cell_type": "code",
   "execution_count": 7,
   "id": "8bd25664-0921-4e40-9a6c-4ad8bf27ed0f",
   "metadata": {},
   "outputs": [
    {
     "data": {
      "text/plain": [
       "sum     6.000000\n",
       "mean    0.003273\n",
       "Name: Value, dtype: float64"
      ]
     },
     "execution_count": 7,
     "metadata": {},
     "output_type": "execute_result"
    }
   ],
   "source": [
    "# 6 (0.3%) multivalued entries\n",
    "wind['Value'].str.contains('/').fillna(False).agg(['sum', 'mean'])"
   ]
  },
  {
   "cell_type": "code",
   "execution_count": 8,
   "id": "eb9da2d8-1908-455e-9eba-fbf2ddb0e0d2",
   "metadata": {},
   "outputs": [
    {
     "data": {
      "text/html": [
       "<div>\n",
       "<style scoped>\n",
       "    .dataframe tbody tr th:only-of-type {\n",
       "        vertical-align: middle;\n",
       "    }\n",
       "\n",
       "    .dataframe tbody tr th {\n",
       "        vertical-align: top;\n",
       "    }\n",
       "\n",
       "    .dataframe thead th {\n",
       "        text-align: right;\n",
       "    }\n",
       "</style>\n",
       "<table border=\"1\" class=\"dataframe\">\n",
       "  <thead>\n",
       "    <tr style=\"text-align: right;\">\n",
       "      <th></th>\n",
       "      <th>State</th>\n",
       "      <th>City/Town</th>\n",
       "      <th>County</th>\n",
       "      <th>Feature Type</th>\n",
       "      <th>Value Type</th>\n",
       "      <th>Value</th>\n",
       "      <th>Citation</th>\n",
       "      <th>Comment</th>\n",
       "      <th>Updated Type</th>\n",
       "      <th>Updated Value</th>\n",
       "      <th>Updated Comment</th>\n",
       "      <th>Ordinance Year</th>\n",
       "      <th>Original Captured Date</th>\n",
       "      <th>New Capture Date</th>\n",
       "      <th>Update Status</th>\n",
       "    </tr>\n",
       "  </thead>\n",
       "  <tbody>\n",
       "    <tr>\n",
       "      <th>28</th>\n",
       "      <td>California</td>\n",
       "      <td>NaN</td>\n",
       "      <td>Butte</td>\n",
       "      <td>Sound</td>\n",
       "      <td>dBA</td>\n",
       "      <td>55/50/45</td>\n",
       "      <td>Butte County Code § 24-157(E); Butte County Co...</td>\n",
       "      <td>55 dbA daytime; 50 dBa evening (7-10pm); 45 db...</td>\n",
       "      <td>NaN</td>\n",
       "      <td>NaN</td>\n",
       "      <td>NaN</td>\n",
       "      <td>NaN</td>\n",
       "      <td>2021.0</td>\n",
       "      <td>NaN</td>\n",
       "      <td>NaN</td>\n",
       "    </tr>\n",
       "    <tr>\n",
       "      <th>72</th>\n",
       "      <td>California</td>\n",
       "      <td>NaN</td>\n",
       "      <td>San Luis Obispo</td>\n",
       "      <td>Sound</td>\n",
       "      <td>dBa</td>\n",
       "      <td>70/65</td>\n",
       "      <td>San Luis Obispo County Code § 22.32.060(d)(4);...</td>\n",
       "      <td>70 dBa maximum daytime (7am-10pm), 65 dBa Nigh...</td>\n",
       "      <td>NaN</td>\n",
       "      <td>NaN</td>\n",
       "      <td>NaN</td>\n",
       "      <td>NaN</td>\n",
       "      <td>2021.0</td>\n",
       "      <td>NaN</td>\n",
       "      <td>NaN</td>\n",
       "    </tr>\n",
       "    <tr>\n",
       "      <th>78</th>\n",
       "      <td>California</td>\n",
       "      <td>NaN</td>\n",
       "      <td>Tehama</td>\n",
       "      <td>Sound</td>\n",
       "      <td>dBa</td>\n",
       "      <td>50/45</td>\n",
       "      <td>Tehama County Code § 17.83.080</td>\n",
       "      <td>50 dBa Day time/ 45 dBa Nighttime</td>\n",
       "      <td>NaN</td>\n",
       "      <td>NaN</td>\n",
       "      <td>NaN</td>\n",
       "      <td>NaN</td>\n",
       "      <td>2021.0</td>\n",
       "      <td>NaN</td>\n",
       "      <td>NaN</td>\n",
       "    </tr>\n",
       "    <tr>\n",
       "      <th>114</th>\n",
       "      <td>Colorado</td>\n",
       "      <td>NaN</td>\n",
       "      <td>Lincoln</td>\n",
       "      <td>Sound</td>\n",
       "      <td>dBA</td>\n",
       "      <td>60/50</td>\n",
       "      <td>Lincoln County Zoning Resolution 3-210 (F)(7)</td>\n",
       "      <td>60 dBa daytime (7am to 7pm) 50 dBa nighttime (...</td>\n",
       "      <td>NaN</td>\n",
       "      <td>NaN</td>\n",
       "      <td>NaN</td>\n",
       "      <td>NaN</td>\n",
       "      <td>2021.0</td>\n",
       "      <td>NaN</td>\n",
       "      <td>NaN</td>\n",
       "    </tr>\n",
       "    <tr>\n",
       "      <th>141</th>\n",
       "      <td>Florida</td>\n",
       "      <td>NaN</td>\n",
       "      <td>Osceola</td>\n",
       "      <td>Sound</td>\n",
       "      <td>dBA</td>\n",
       "      <td>55/45</td>\n",
       "      <td>Osceola County Code § 3.9(G)</td>\n",
       "      <td>55 dBa daytime (7am to sunset) 45 dBa nighttim...</td>\n",
       "      <td>NaN</td>\n",
       "      <td>NaN</td>\n",
       "      <td>NaN</td>\n",
       "      <td>NaN</td>\n",
       "      <td>2021.0</td>\n",
       "      <td>NaN</td>\n",
       "      <td>NaN</td>\n",
       "    </tr>\n",
       "    <tr>\n",
       "      <th>1103</th>\n",
       "      <td>Nebraska</td>\n",
       "      <td>NaN</td>\n",
       "      <td>Hamilton</td>\n",
       "      <td>Sound</td>\n",
       "      <td>dBA</td>\n",
       "      <td>37/40</td>\n",
       "      <td>Hamilton County Zoning Regs. § 8.08.07</td>\n",
       "      <td>37 dB from 8pm to 8am; 40 dB from 8am to 8pm</td>\n",
       "      <td>NaN</td>\n",
       "      <td>NaN</td>\n",
       "      <td>NaN</td>\n",
       "      <td>2019.0</td>\n",
       "      <td>2022.0</td>\n",
       "      <td>NaN</td>\n",
       "      <td>NaN</td>\n",
       "    </tr>\n",
       "  </tbody>\n",
       "</table>\n",
       "</div>"
      ],
      "text/plain": [
       "           State City/Town           County Feature Type Value Type     Value  \\\n",
       "28    California       NaN            Butte        Sound        dBA  55/50/45   \n",
       "72    California       NaN  San Luis Obispo        Sound        dBa     70/65   \n",
       "78    California       NaN           Tehama        Sound        dBa     50/45   \n",
       "114     Colorado       NaN          Lincoln        Sound        dBA     60/50   \n",
       "141     Florida        NaN         Osceola         Sound        dBA     55/45   \n",
       "1103    Nebraska       NaN        Hamilton         Sound        dBA     37/40   \n",
       "\n",
       "                                               Citation  \\\n",
       "28    Butte County Code § 24-157(E); Butte County Co...   \n",
       "72    San Luis Obispo County Code § 22.32.060(d)(4);...   \n",
       "78                       Tehama County Code § 17.83.080   \n",
       "114       Lincoln County Zoning Resolution 3-210 (F)(7)   \n",
       "141                        Osceola County Code § 3.9(G)   \n",
       "1103             Hamilton County Zoning Regs. § 8.08.07   \n",
       "\n",
       "                                                Comment Updated Type  \\\n",
       "28    55 dbA daytime; 50 dBa evening (7-10pm); 45 db...          NaN   \n",
       "72    70 dBa maximum daytime (7am-10pm), 65 dBa Nigh...          NaN   \n",
       "78                    50 dBa Day time/ 45 dBa Nighttime          NaN   \n",
       "114   60 dBa daytime (7am to 7pm) 50 dBa nighttime (...          NaN   \n",
       "141   55 dBa daytime (7am to sunset) 45 dBa nighttim...          NaN   \n",
       "1103       37 dB from 8pm to 8am; 40 dB from 8am to 8pm          NaN   \n",
       "\n",
       "      Updated Value Updated Comment  Ordinance Year  Original Captured Date  \\\n",
       "28              NaN             NaN             NaN                  2021.0   \n",
       "72              NaN             NaN             NaN                  2021.0   \n",
       "78              NaN             NaN             NaN                  2021.0   \n",
       "114             NaN             NaN             NaN                  2021.0   \n",
       "141             NaN             NaN             NaN                  2021.0   \n",
       "1103            NaN             NaN          2019.0                  2022.0   \n",
       "\n",
       "      New Capture Date Update Status  \n",
       "28                 NaN           NaN  \n",
       "72                 NaN           NaN  \n",
       "78                 NaN           NaN  \n",
       "114                NaN           NaN  \n",
       "141                NaN           NaN  \n",
       "1103               NaN           NaN  "
      ]
     },
     "execution_count": 8,
     "metadata": {},
     "output_type": "execute_result"
    }
   ],
   "source": [
    "wind[wind['Value'].str.contains('/').fillna(False)]"
   ]
  },
  {
   "cell_type": "code",
   "execution_count": 158,
   "id": "8d999265-6db8-4f02-a9b4-06fad391a20e",
   "metadata": {},
   "outputs": [
    {
     "data": {
      "text/plain": [
       "28      55.0\n",
       "72      70.0\n",
       "78      50.0\n",
       "114     60.0\n",
       "141     55.0\n",
       "1103    40.0\n",
       "dtype: float64"
      ]
     },
     "execution_count": 158,
     "metadata": {},
     "output_type": "execute_result"
    }
   ],
   "source": [
    "wind.loc[wind['Value'].str.contains('/').fillna(False), \"Value\"].str.split('/', expand=True).apply(pd.to_numeric, axis=1).max(axis=1)"
   ]
  },
  {
   "cell_type": "code",
   "execution_count": 9,
   "id": "0e60fd5e-1120-4e57-9a29-f8c57fe27f5f",
   "metadata": {},
   "outputs": [
    {
     "ename": "ValueError",
     "evalue": "Unable to parse string \"22.86/60.96\" at position 52",
     "output_type": "error",
     "traceback": [
      "\u001b[0;31m---------------------------------------------------------------------------\u001b[0m",
      "\u001b[0;31mValueError\u001b[0m                                Traceback (most recent call last)",
      "File \u001b[0;32m~/.local/lib/python3.9/site-packages/pandas/_libs/lib.pyx:2305\u001b[0m, in \u001b[0;36mpandas._libs.lib.maybe_convert_numeric\u001b[0;34m()\u001b[0m\n",
      "\u001b[0;31mValueError\u001b[0m: Unable to parse string \"22.86/60.96\"",
      "\nDuring handling of the above exception, another exception occurred:\n",
      "\u001b[0;31mValueError\u001b[0m                                Traceback (most recent call last)",
      "Cell \u001b[0;32mIn [9], line 1\u001b[0m\n\u001b[0;32m----> 1\u001b[0m pd\u001b[38;5;241m.\u001b[39mto_numeric(solar[\u001b[38;5;124m'\u001b[39m\u001b[38;5;124mValue\u001b[39m\u001b[38;5;124m'\u001b[39m])\n",
      "File \u001b[0;32m~/.local/lib/python3.9/site-packages/pandas/core/tools/numeric.py:183\u001b[0m, in \u001b[0;36mto_numeric\u001b[0;34m(arg, errors, downcast)\u001b[0m\n\u001b[1;32m    181\u001b[0m coerce_numeric \u001b[38;5;241m=\u001b[39m errors \u001b[38;5;129;01mnot\u001b[39;00m \u001b[38;5;129;01min\u001b[39;00m (\u001b[38;5;124m\"\u001b[39m\u001b[38;5;124mignore\u001b[39m\u001b[38;5;124m\"\u001b[39m, \u001b[38;5;124m\"\u001b[39m\u001b[38;5;124mraise\u001b[39m\u001b[38;5;124m\"\u001b[39m)\n\u001b[1;32m    182\u001b[0m \u001b[38;5;28;01mtry\u001b[39;00m:\n\u001b[0;32m--> 183\u001b[0m     values, _ \u001b[38;5;241m=\u001b[39m \u001b[43mlib\u001b[49m\u001b[38;5;241;43m.\u001b[39;49m\u001b[43mmaybe_convert_numeric\u001b[49m\u001b[43m(\u001b[49m\n\u001b[1;32m    184\u001b[0m \u001b[43m        \u001b[49m\u001b[43mvalues\u001b[49m\u001b[43m,\u001b[49m\u001b[43m \u001b[49m\u001b[38;5;28;43mset\u001b[39;49m\u001b[43m(\u001b[49m\u001b[43m)\u001b[49m\u001b[43m,\u001b[49m\u001b[43m \u001b[49m\u001b[43mcoerce_numeric\u001b[49m\u001b[38;5;241;43m=\u001b[39;49m\u001b[43mcoerce_numeric\u001b[49m\n\u001b[1;32m    185\u001b[0m \u001b[43m    \u001b[49m\u001b[43m)\u001b[49m\n\u001b[1;32m    186\u001b[0m \u001b[38;5;28;01mexcept\u001b[39;00m (\u001b[38;5;167;01mValueError\u001b[39;00m, \u001b[38;5;167;01mTypeError\u001b[39;00m):\n\u001b[1;32m    187\u001b[0m     \u001b[38;5;28;01mif\u001b[39;00m errors \u001b[38;5;241m==\u001b[39m \u001b[38;5;124m\"\u001b[39m\u001b[38;5;124mraise\u001b[39m\u001b[38;5;124m\"\u001b[39m:\n",
      "File \u001b[0;32m~/.local/lib/python3.9/site-packages/pandas/_libs/lib.pyx:2347\u001b[0m, in \u001b[0;36mpandas._libs.lib.maybe_convert_numeric\u001b[0;34m()\u001b[0m\n",
      "\u001b[0;31mValueError\u001b[0m: Unable to parse string \"22.86/60.96\" at position 52"
     ]
    }
   ],
   "source": [
    "pd.to_numeric(solar['Value'])"
   ]
  },
  {
   "cell_type": "code",
   "execution_count": 10,
   "id": "92b6a080-620f-4134-9dac-81732d2b895b",
   "metadata": {},
   "outputs": [
    {
     "data": {
      "text/plain": [
       "sum     5.000000\n",
       "mean    0.005967\n",
       "Name: Value, dtype: float64"
      ]
     },
     "execution_count": 10,
     "metadata": {},
     "output_type": "execute_result"
    }
   ],
   "source": [
    "# 5 (0.6%) multivalued entries\n",
    "solar['Value'].str.contains('/').fillna(False).agg(['sum', 'mean'])"
   ]
  },
  {
   "cell_type": "code",
   "execution_count": 11,
   "id": "5d22b1ab-03a5-4efb-a24a-499f5763de74",
   "metadata": {},
   "outputs": [
    {
     "data": {
      "text/html": [
       "<div>\n",
       "<style scoped>\n",
       "    .dataframe tbody tr th:only-of-type {\n",
       "        vertical-align: middle;\n",
       "    }\n",
       "\n",
       "    .dataframe tbody tr th {\n",
       "        vertical-align: top;\n",
       "    }\n",
       "\n",
       "    .dataframe thead th {\n",
       "        text-align: right;\n",
       "    }\n",
       "</style>\n",
       "<table border=\"1\" class=\"dataframe\">\n",
       "  <thead>\n",
       "    <tr style=\"text-align: right;\">\n",
       "      <th></th>\n",
       "      <th>State</th>\n",
       "      <th>City/Town</th>\n",
       "      <th>County</th>\n",
       "      <th>Feature Type</th>\n",
       "      <th>Value Type</th>\n",
       "      <th>Value</th>\n",
       "      <th>Citation</th>\n",
       "      <th>Comment</th>\n",
       "      <th>Updated Type</th>\n",
       "      <th>Updated Value</th>\n",
       "      <th>Updated Comment</th>\n",
       "      <th>Ordinance Year</th>\n",
       "      <th>Original Captured Date</th>\n",
       "      <th>New Capture Date</th>\n",
       "      <th>Update Status</th>\n",
       "    </tr>\n",
       "  </thead>\n",
       "  <tbody>\n",
       "    <tr>\n",
       "      <th>52</th>\n",
       "      <td>Florida</td>\n",
       "      <td>NaN</td>\n",
       "      <td>Leon</td>\n",
       "      <td>Property Line</td>\n",
       "      <td>Meters</td>\n",
       "      <td>22.86/60.96</td>\n",
       "      <td>Leon County Land Development Code § 10-6.820</td>\n",
       "      <td>75' setback if facility is less than 50 acres,...</td>\n",
       "      <td>NaN</td>\n",
       "      <td>NaN</td>\n",
       "      <td>NaN</td>\n",
       "      <td>NaN</td>\n",
       "      <td>2021.0</td>\n",
       "      <td>NaN</td>\n",
       "      <td>NaN</td>\n",
       "    </tr>\n",
       "    <tr>\n",
       "      <th>53</th>\n",
       "      <td>Florida</td>\n",
       "      <td>NaN</td>\n",
       "      <td>Leon</td>\n",
       "      <td>Roads</td>\n",
       "      <td>Meters</td>\n",
       "      <td>22.86/60.96</td>\n",
       "      <td>Leon County Land Development Code § 10-6.820</td>\n",
       "      <td>See above</td>\n",
       "      <td>NaN</td>\n",
       "      <td>NaN</td>\n",
       "      <td>NaN</td>\n",
       "      <td>NaN</td>\n",
       "      <td>2021.0</td>\n",
       "      <td>NaN</td>\n",
       "      <td>NaN</td>\n",
       "    </tr>\n",
       "    <tr>\n",
       "      <th>54</th>\n",
       "      <td>Florida</td>\n",
       "      <td>NaN</td>\n",
       "      <td>Leon</td>\n",
       "      <td>Structures</td>\n",
       "      <td>Meters</td>\n",
       "      <td>22.86/60.96</td>\n",
       "      <td>Leon County Land Development Code § 10-6.820</td>\n",
       "      <td>See above</td>\n",
       "      <td>NaN</td>\n",
       "      <td>NaN</td>\n",
       "      <td>NaN</td>\n",
       "      <td>NaN</td>\n",
       "      <td>2021.0</td>\n",
       "      <td>NaN</td>\n",
       "      <td>NaN</td>\n",
       "    </tr>\n",
       "    <tr>\n",
       "      <th>60</th>\n",
       "      <td>Florida</td>\n",
       "      <td>NaN</td>\n",
       "      <td>Palm Beach</td>\n",
       "      <td>Property Line</td>\n",
       "      <td>Meters</td>\n",
       "      <td>7.62/5</td>\n",
       "      <td>Palm Beach Unified Development Land Code § 7(C...</td>\n",
       "      <td>25 foot setback if lot size is greater than 50...</td>\n",
       "      <td>NaN</td>\n",
       "      <td>NaN</td>\n",
       "      <td>NaN</td>\n",
       "      <td>NaN</td>\n",
       "      <td>2021.0</td>\n",
       "      <td>NaN</td>\n",
       "      <td>NaN</td>\n",
       "    </tr>\n",
       "    <tr>\n",
       "      <th>730</th>\n",
       "      <td>Utah</td>\n",
       "      <td>NaN</td>\n",
       "      <td>Kane</td>\n",
       "      <td>Sound</td>\n",
       "      <td>dBA</td>\n",
       "      <td>65/50</td>\n",
       "      <td>Kane County Code Ords. § 9-24-3</td>\n",
       "      <td>65 db at property line; 50 db at nearest resid...</td>\n",
       "      <td>NaN</td>\n",
       "      <td>NaN</td>\n",
       "      <td>NaN</td>\n",
       "      <td>2013.0</td>\n",
       "      <td>NaN</td>\n",
       "      <td>NaN</td>\n",
       "      <td>NaN</td>\n",
       "    </tr>\n",
       "  </tbody>\n",
       "</table>\n",
       "</div>"
      ],
      "text/plain": [
       "        State City/Town       County   Feature Type Value Type        Value  \\\n",
       "52   Florida        NaN         Leon  Property Line    Meters   22.86/60.96   \n",
       "53   Florida        NaN         Leon          Roads     Meters  22.86/60.96   \n",
       "54   Florida        NaN         Leon     Structures     Meters  22.86/60.96   \n",
       "60   Florida        NaN  Palm Beach   Property Line     Meters       7.62/5   \n",
       "730      Utah       NaN         Kane          Sound        dBA        65/50   \n",
       "\n",
       "                                              Citation  \\\n",
       "52        Leon County Land Development Code § 10-6.820   \n",
       "53        Leon County Land Development Code § 10-6.820   \n",
       "54        Leon County Land Development Code § 10-6.820   \n",
       "60   Palm Beach Unified Development Land Code § 7(C...   \n",
       "730                    Kane County Code Ords. § 9-24-3   \n",
       "\n",
       "                                               Comment  Updated Type  \\\n",
       "52   75' setback if facility is less than 50 acres,...           NaN   \n",
       "53                                           See above           NaN   \n",
       "54                                           See above           NaN   \n",
       "60   25 foot setback if lot size is greater than 50...           NaN   \n",
       "730  65 db at property line; 50 db at nearest resid...           NaN   \n",
       "\n",
       "     Updated Value  Updated Comment  Ordinance Year  Original Captured Date  \\\n",
       "52             NaN              NaN             NaN                  2021.0   \n",
       "53             NaN              NaN             NaN                  2021.0   \n",
       "54             NaN              NaN             NaN                  2021.0   \n",
       "60             NaN              NaN             NaN                  2021.0   \n",
       "730            NaN              NaN          2013.0                     NaN   \n",
       "\n",
       "     New Capture Date  Update Status  \n",
       "52                NaN            NaN  \n",
       "53                NaN            NaN  \n",
       "54                NaN            NaN  \n",
       "60                NaN            NaN  \n",
       "730               NaN            NaN  "
      ]
     },
     "execution_count": 11,
     "metadata": {},
     "output_type": "execute_result"
    }
   ],
   "source": [
    "solar[solar['Value'].str.contains('/').fillna(False)]"
   ]
  },
  {
   "cell_type": "markdown",
   "id": "3046da63-d32a-4e6b-b77b-46488c80fa17",
   "metadata": {
    "tags": []
   },
   "source": [
    "## Consistency (vs other datasets in our database)\n",
    "* replace county names with standard census names\n",
    "* political jurisdictions need IDs to join with the rest of the datasets\n",
    "* what to do with city/towns? They don't have FIPS codes\n",
    "* wind and solar datasets look consistent with each other"
   ]
  },
  {
   "cell_type": "markdown",
   "id": "48f6c440-3f73-474f-9f35-47efb98cb9cd",
   "metadata": {
    "tags": []
   },
   "source": [
    "## Completeness\n",
    "* wind:\n",
    "    * brownsville is missing its state (should be TX)\n",
    "    * Cochise, AZ values weren't entered (present in comment but not in \"Value\" column)\n",
    "* solar:\n",
    "    * Lee County is missing its state (should be GA)"
   ]
  },
  {
   "cell_type": "code",
   "execution_count": 12,
   "id": "29df642e-804c-4d03-a2b3-d2a3bef007f4",
   "metadata": {},
   "outputs": [
    {
     "name": "stdout",
     "output_type": "stream",
     "text": [
      "<class 'pandas.core.frame.DataFrame'>\n",
      "RangeIndex: 1833 entries, 0 to 1832\n",
      "Data columns (total 15 columns):\n",
      " #   Column                  Non-Null Count  Dtype  \n",
      "---  ------                  --------------  -----  \n",
      " 0   State                   1832 non-null   object \n",
      " 1   City/Town               105 non-null    object \n",
      " 2   County                  1736 non-null   object \n",
      " 3   Feature Type            1833 non-null   object \n",
      " 4   Value Type              1776 non-null   object \n",
      " 5   Value                   1776 non-null   object \n",
      " 6   Citation                1833 non-null   object \n",
      " 7   Comment                 261 non-null    object \n",
      " 8   Updated Type            12 non-null     object \n",
      " 9   Updated Value           11 non-null     float64\n",
      " 10  Updated Comment         12 non-null     object \n",
      " 11  Ordinance Year          484 non-null    float64\n",
      " 12  Original Captured Date  1816 non-null   float64\n",
      " 13  New Capture Date        242 non-null    float64\n",
      " 14  Update Status           228 non-null    object \n",
      "dtypes: float64(4), object(11)\n",
      "memory usage: 214.9+ KB\n"
     ]
    }
   ],
   "source": [
    "wind.info()"
   ]
  },
  {
   "cell_type": "code",
   "execution_count": 13,
   "id": "9086a6c7-ce3d-48e7-9b3f-5ba5eeb5ea98",
   "metadata": {},
   "outputs": [
    {
     "data": {
      "text/html": [
       "<div>\n",
       "<style scoped>\n",
       "    .dataframe tbody tr th:only-of-type {\n",
       "        vertical-align: middle;\n",
       "    }\n",
       "\n",
       "    .dataframe tbody tr th {\n",
       "        vertical-align: top;\n",
       "    }\n",
       "\n",
       "    .dataframe thead th {\n",
       "        text-align: right;\n",
       "    }\n",
       "</style>\n",
       "<table border=\"1\" class=\"dataframe\">\n",
       "  <thead>\n",
       "    <tr style=\"text-align: right;\">\n",
       "      <th></th>\n",
       "      <th>State</th>\n",
       "      <th>City/Town</th>\n",
       "      <th>County</th>\n",
       "      <th>Feature Type</th>\n",
       "      <th>Value Type</th>\n",
       "      <th>Value</th>\n",
       "      <th>Citation</th>\n",
       "      <th>Comment</th>\n",
       "      <th>Updated Type</th>\n",
       "      <th>Updated Value</th>\n",
       "      <th>Updated Comment</th>\n",
       "      <th>Ordinance Year</th>\n",
       "      <th>Original Captured Date</th>\n",
       "      <th>New Capture Date</th>\n",
       "      <th>Update Status</th>\n",
       "    </tr>\n",
       "  </thead>\n",
       "  <tbody>\n",
       "    <tr>\n",
       "      <th>1656</th>\n",
       "      <td>NaN</td>\n",
       "      <td>Brownsville</td>\n",
       "      <td>NaN</td>\n",
       "      <td>Banned</td>\n",
       "      <td>NaN</td>\n",
       "      <td>NaN</td>\n",
       "      <td>Code of ordinances Division 2 - Wind Energy Sy...</td>\n",
       "      <td>WECs only used as secondary use; cannot exceed...</td>\n",
       "      <td>NaN</td>\n",
       "      <td>NaN</td>\n",
       "      <td>NaN</td>\n",
       "      <td>NaN</td>\n",
       "      <td>2022.0</td>\n",
       "      <td>NaN</td>\n",
       "      <td>NaN</td>\n",
       "    </tr>\n",
       "  </tbody>\n",
       "</table>\n",
       "</div>"
      ],
      "text/plain": [
       "     State    City/Town County Feature Type Value Type Value  \\\n",
       "1656   NaN  Brownsville    NaN       Banned        NaN   NaN   \n",
       "\n",
       "                                               Citation  \\\n",
       "1656  Code of ordinances Division 2 - Wind Energy Sy...   \n",
       "\n",
       "                                                Comment Updated Type  \\\n",
       "1656  WECs only used as secondary use; cannot exceed...          NaN   \n",
       "\n",
       "      Updated Value Updated Comment  Ordinance Year  Original Captured Date  \\\n",
       "1656            NaN             NaN             NaN                  2022.0   \n",
       "\n",
       "      New Capture Date Update Status  \n",
       "1656               NaN           NaN  "
      ]
     },
     "execution_count": 13,
     "metadata": {},
     "output_type": "execute_result"
    }
   ],
   "source": [
    "wind.loc[wind['State'].isna(),:]"
   ]
  },
  {
   "cell_type": "code",
   "execution_count": 14,
   "id": "be8d012e-7ca0-42c4-be3a-9b387117263b",
   "metadata": {
    "tags": []
   },
   "outputs": [
    {
     "data": {
      "text/plain": [
       "Banned           54\n",
       "Property Line     1\n",
       "Roads             1\n",
       "Moratorium        1\n",
       "Name: Feature Type, dtype: int64"
      ]
     },
     "execution_count": 14,
     "metadata": {},
     "output_type": "execute_result"
    }
   ],
   "source": [
    "# null \"Value\" entries are almost all bans. Makes sense.\n",
    "# Cochise, AZ has setbacks that weren't properly entered.\n",
    "wind.loc[wind['Value'].isna(),\"Feature Type\"].str.strip().value_counts(dropna=False)"
   ]
  },
  {
   "cell_type": "code",
   "execution_count": 15,
   "id": "fd54e549-bb6b-4cdb-bf83-89a0a669294a",
   "metadata": {},
   "outputs": [
    {
     "name": "stdout",
     "output_type": "stream",
     "text": [
      "<class 'pandas.core.frame.DataFrame'>\n",
      "RangeIndex: 838 entries, 0 to 837\n",
      "Data columns (total 15 columns):\n",
      " #   Column                  Non-Null Count  Dtype  \n",
      "---  ------                  --------------  -----  \n",
      " 0   State                   837 non-null    object \n",
      " 1   City/Town               33 non-null     object \n",
      " 2   County                  812 non-null    object \n",
      " 3   Feature Type            838 non-null    object \n",
      " 4   Value Type              836 non-null    object \n",
      " 5   Value                   834 non-null    object \n",
      " 6   Citation                838 non-null    object \n",
      " 7   Comment                 160 non-null    object \n",
      " 8   Updated Type            0 non-null      float64\n",
      " 9   Updated Value           0 non-null      float64\n",
      " 10  Updated Comment         0 non-null      float64\n",
      " 11  Ordinance Year          194 non-null    float64\n",
      " 12  Original Captured Date  284 non-null    float64\n",
      " 13  New Capture Date        0 non-null      float64\n",
      " 14  Update Status           0 non-null      float64\n",
      "dtypes: float64(7), object(8)\n",
      "memory usage: 98.3+ KB\n"
     ]
    }
   ],
   "source": [
    "solar.info()"
   ]
  },
  {
   "cell_type": "code",
   "execution_count": 16,
   "id": "6afa6efd-0828-413c-9a1f-43f58b0f8045",
   "metadata": {},
   "outputs": [
    {
     "data": {
      "text/html": [
       "<div>\n",
       "<style scoped>\n",
       "    .dataframe tbody tr th:only-of-type {\n",
       "        vertical-align: middle;\n",
       "    }\n",
       "\n",
       "    .dataframe tbody tr th {\n",
       "        vertical-align: top;\n",
       "    }\n",
       "\n",
       "    .dataframe thead th {\n",
       "        text-align: right;\n",
       "    }\n",
       "</style>\n",
       "<table border=\"1\" class=\"dataframe\">\n",
       "  <thead>\n",
       "    <tr style=\"text-align: right;\">\n",
       "      <th></th>\n",
       "      <th>State</th>\n",
       "      <th>City/Town</th>\n",
       "      <th>County</th>\n",
       "      <th>Feature Type</th>\n",
       "      <th>Value Type</th>\n",
       "      <th>Value</th>\n",
       "      <th>Citation</th>\n",
       "      <th>Comment</th>\n",
       "      <th>Updated Type</th>\n",
       "      <th>Updated Value</th>\n",
       "      <th>Updated Comment</th>\n",
       "      <th>Ordinance Year</th>\n",
       "      <th>Original Captured Date</th>\n",
       "      <th>New Capture Date</th>\n",
       "      <th>Update Status</th>\n",
       "    </tr>\n",
       "  </thead>\n",
       "  <tbody>\n",
       "    <tr>\n",
       "      <th>107</th>\n",
       "      <td>NaN</td>\n",
       "      <td>NaN</td>\n",
       "      <td>Lee</td>\n",
       "      <td>Structures</td>\n",
       "      <td>Meters</td>\n",
       "      <td>30.48</td>\n",
       "      <td>Lee County Code of Ordinances § 70-694</td>\n",
       "      <td>NaN</td>\n",
       "      <td>NaN</td>\n",
       "      <td>NaN</td>\n",
       "      <td>NaN</td>\n",
       "      <td>NaN</td>\n",
       "      <td>NaN</td>\n",
       "      <td>NaN</td>\n",
       "      <td>NaN</td>\n",
       "    </tr>\n",
       "  </tbody>\n",
       "</table>\n",
       "</div>"
      ],
      "text/plain": [
       "    State City/Town County Feature Type Value Type  Value  \\\n",
       "107   NaN       NaN    Lee   Structures     Meters  30.48   \n",
       "\n",
       "                                   Citation Comment  Updated Type  \\\n",
       "107  Lee County Code of Ordinances § 70-694     NaN           NaN   \n",
       "\n",
       "     Updated Value  Updated Comment  Ordinance Year  Original Captured Date  \\\n",
       "107            NaN              NaN             NaN                     NaN   \n",
       "\n",
       "     New Capture Date  Update Status  \n",
       "107               NaN            NaN  "
      ]
     },
     "execution_count": 16,
     "metadata": {},
     "output_type": "execute_result"
    }
   ],
   "source": [
    "solar.loc[solar['State'].isna(),:]"
   ]
  },
  {
   "cell_type": "code",
   "execution_count": 17,
   "id": "5f42716c-647b-47cc-994a-1e28008d10c0",
   "metadata": {},
   "outputs": [
    {
     "data": {
      "text/html": [
       "<div>\n",
       "<style scoped>\n",
       "    .dataframe tbody tr th:only-of-type {\n",
       "        vertical-align: middle;\n",
       "    }\n",
       "\n",
       "    .dataframe tbody tr th {\n",
       "        vertical-align: top;\n",
       "    }\n",
       "\n",
       "    .dataframe thead th {\n",
       "        text-align: right;\n",
       "    }\n",
       "</style>\n",
       "<table border=\"1\" class=\"dataframe\">\n",
       "  <thead>\n",
       "    <tr style=\"text-align: right;\">\n",
       "      <th></th>\n",
       "      <th>State</th>\n",
       "      <th>City/Town</th>\n",
       "      <th>County</th>\n",
       "      <th>Feature Type</th>\n",
       "      <th>Value Type</th>\n",
       "      <th>Value</th>\n",
       "      <th>Citation</th>\n",
       "      <th>Comment</th>\n",
       "      <th>Updated Type</th>\n",
       "      <th>Updated Value</th>\n",
       "      <th>Updated Comment</th>\n",
       "      <th>Ordinance Year</th>\n",
       "      <th>Original Captured Date</th>\n",
       "      <th>New Capture Date</th>\n",
       "      <th>Update Status</th>\n",
       "    </tr>\n",
       "  </thead>\n",
       "  <tbody>\n",
       "  </tbody>\n",
       "</table>\n",
       "</div>"
      ],
      "text/plain": [
       "Empty DataFrame\n",
       "Columns: [State, City/Town, County, Feature Type, Value Type, Value, Citation, Comment, Updated Type, Updated Value, Updated Comment, Ordinance Year, Original Captured Date, New Capture Date, Update Status]\n",
       "Index: []"
      ]
     },
     "execution_count": 17,
     "metadata": {},
     "output_type": "execute_result"
    }
   ],
   "source": [
    "solar.loc[solar['County'].isna() & solar['City/Town'].isna(),:]"
   ]
  },
  {
   "cell_type": "code",
   "execution_count": null,
   "id": "48c17f4f-2974-46ec-8940-54b9e9d12f8f",
   "metadata": {},
   "outputs": [],
   "source": []
  },
  {
   "cell_type": "code",
   "execution_count": 18,
   "id": "1302cbda-4a54-48b7-8139-d5ef8a8af7fd",
   "metadata": {
    "tags": []
   },
   "outputs": [
    {
     "data": {
      "text/html": [
       "<div>\n",
       "<style scoped>\n",
       "    .dataframe tbody tr th:only-of-type {\n",
       "        vertical-align: middle;\n",
       "    }\n",
       "\n",
       "    .dataframe tbody tr th {\n",
       "        vertical-align: top;\n",
       "    }\n",
       "\n",
       "    .dataframe thead th {\n",
       "        text-align: right;\n",
       "    }\n",
       "</style>\n",
       "<table border=\"1\" class=\"dataframe\">\n",
       "  <thead>\n",
       "    <tr style=\"text-align: right;\">\n",
       "      <th></th>\n",
       "      <th>State</th>\n",
       "      <th>City/Town</th>\n",
       "      <th>County</th>\n",
       "      <th>Feature Type</th>\n",
       "      <th>Value Type</th>\n",
       "      <th>Value</th>\n",
       "      <th>Citation</th>\n",
       "      <th>Comment</th>\n",
       "      <th>Updated Type</th>\n",
       "      <th>Updated Value</th>\n",
       "      <th>Updated Comment</th>\n",
       "      <th>Ordinance Year</th>\n",
       "      <th>Original Captured Date</th>\n",
       "      <th>New Capture Date</th>\n",
       "      <th>Update Status</th>\n",
       "    </tr>\n",
       "  </thead>\n",
       "  <tbody>\n",
       "    <tr>\n",
       "      <th>4</th>\n",
       "      <td>Arizona</td>\n",
       "      <td>NaN</td>\n",
       "      <td>Pinal</td>\n",
       "      <td>Banned</td>\n",
       "      <td>N/a</td>\n",
       "      <td>NaN</td>\n",
       "      <td>Pinal Cnty. Ord. § 2.210.030(A)</td>\n",
       "      <td>Solar PV is restricted from being the primary ...</td>\n",
       "      <td>NaN</td>\n",
       "      <td>NaN</td>\n",
       "      <td>NaN</td>\n",
       "      <td>NaN</td>\n",
       "      <td>2021.0</td>\n",
       "      <td>NaN</td>\n",
       "      <td>NaN</td>\n",
       "    </tr>\n",
       "    <tr>\n",
       "      <th>34</th>\n",
       "      <td>Colorado</td>\n",
       "      <td>NaN</td>\n",
       "      <td>Washington</td>\n",
       "      <td>Moratorium</td>\n",
       "      <td>N/a</td>\n",
       "      <td>NaN</td>\n",
       "      <td>Washington County Resolution 64-2020</td>\n",
       "      <td>NaN</td>\n",
       "      <td>NaN</td>\n",
       "      <td>NaN</td>\n",
       "      <td>NaN</td>\n",
       "      <td>NaN</td>\n",
       "      <td>NaN</td>\n",
       "      <td>NaN</td>\n",
       "      <td>NaN</td>\n",
       "    </tr>\n",
       "    <tr>\n",
       "      <th>455</th>\n",
       "      <td>Minnesota</td>\n",
       "      <td>NaN</td>\n",
       "      <td>Wright</td>\n",
       "      <td>Moratorium</td>\n",
       "      <td>NaN</td>\n",
       "      <td>NaN</td>\n",
       "      <td>Wright County Amendment Ord. 21-1</td>\n",
       "      <td>Moratorium on Commercial Solar as of May 18, 2021</td>\n",
       "      <td>NaN</td>\n",
       "      <td>NaN</td>\n",
       "      <td>NaN</td>\n",
       "      <td>NaN</td>\n",
       "      <td>2018.0</td>\n",
       "      <td>NaN</td>\n",
       "      <td>NaN</td>\n",
       "    </tr>\n",
       "    <tr>\n",
       "      <th>818</th>\n",
       "      <td>Washington</td>\n",
       "      <td>NaN</td>\n",
       "      <td>Grant</td>\n",
       "      <td>Banned</td>\n",
       "      <td>NaN</td>\n",
       "      <td>NaN</td>\n",
       "      <td>Grant County Ord. No. 21-080-CC</td>\n",
       "      <td>Six month moratorium beginning in august 2021(...</td>\n",
       "      <td>NaN</td>\n",
       "      <td>NaN</td>\n",
       "      <td>NaN</td>\n",
       "      <td>2021.0</td>\n",
       "      <td>NaN</td>\n",
       "      <td>NaN</td>\n",
       "      <td>NaN</td>\n",
       "    </tr>\n",
       "  </tbody>\n",
       "</table>\n",
       "</div>"
      ],
      "text/plain": [
       "          State City/Town      County Feature Type Value Type Value  \\\n",
       "4      Arizona        NaN      Pinal        Banned       N/a    NaN   \n",
       "34     Colorado       NaN  Washington   Moratorium        N/a   NaN   \n",
       "455   Minnesota       NaN     Wright   Moratorium         NaN   NaN   \n",
       "818  Washington       NaN       Grant       Banned        NaN   NaN   \n",
       "\n",
       "                                 Citation  \\\n",
       "4         Pinal Cnty. Ord. § 2.210.030(A)   \n",
       "34   Washington County Resolution 64-2020   \n",
       "455     Wright County Amendment Ord. 21-1   \n",
       "818       Grant County Ord. No. 21-080-CC   \n",
       "\n",
       "                                               Comment  Updated Type  \\\n",
       "4    Solar PV is restricted from being the primary ...           NaN   \n",
       "34                                                 NaN           NaN   \n",
       "455  Moratorium on Commercial Solar as of May 18, 2021           NaN   \n",
       "818  Six month moratorium beginning in august 2021(...           NaN   \n",
       "\n",
       "     Updated Value  Updated Comment  Ordinance Year  Original Captured Date  \\\n",
       "4              NaN              NaN             NaN                  2021.0   \n",
       "34             NaN              NaN             NaN                     NaN   \n",
       "455            NaN              NaN             NaN                  2018.0   \n",
       "818            NaN              NaN          2021.0                     NaN   \n",
       "\n",
       "     New Capture Date  Update Status  \n",
       "4                 NaN            NaN  \n",
       "34                NaN            NaN  \n",
       "455               NaN            NaN  \n",
       "818               NaN            NaN  "
      ]
     },
     "execution_count": 18,
     "metadata": {},
     "output_type": "execute_result"
    }
   ],
   "source": [
    "# null \"Value\" entries are all bans. Makes sense.\n",
    "solar.loc[solar['Value'].isna(), :]"
   ]
  },
  {
   "cell_type": "markdown",
   "id": "55e5d2f6-153d-480c-9071-e549996b75b1",
   "metadata": {
    "tags": []
   },
   "source": [
    "## Uniformity\n",
    "* string values need whitespace stripped\n",
    "* replace \"N/a\" with NaN (watch out for whitespace)\n",
    "* fix a handful of erroneous unit conversions\n",
    "* some \"Updated Type\" entries look like misplaced comments\n",
    "* Looking in Excel, the \"Updated\" columns have inconsistent formatting and will need some wrangling."
   ]
  },
  {
   "cell_type": "markdown",
   "id": "102b2087-fb20-41c7-8469-73dde87c15aa",
   "metadata": {
    "tags": []
   },
   "source": [
    "#### NaN values\n",
    "Pandas automatically converts many common NaN representations, but the mixed capitalization of \"N/a\" seems to have fooled it"
   ]
  },
  {
   "cell_type": "code",
   "execution_count": 19,
   "id": "c767458d-34d6-48a3-af5b-844d066cd15f",
   "metadata": {},
   "outputs": [],
   "source": [
    "other_nan_values = {'n/a', 'none'}"
   ]
  },
  {
   "cell_type": "code",
   "execution_count": 20,
   "id": "3fe5bc9b-be6d-464d-95e3-c6e94d9a46d2",
   "metadata": {},
   "outputs": [
    {
     "data": {
      "text/plain": [
       "2"
      ]
     },
     "execution_count": 20,
     "metadata": {},
     "output_type": "execute_result"
    }
   ],
   "source": [
    "solar['Value Type'].str.strip().str.lower().isin(other_nan_values).sum()"
   ]
  },
  {
   "cell_type": "code",
   "execution_count": 21,
   "id": "2cd8d4c8-dc94-4e9b-b38c-5ada86ac252d",
   "metadata": {},
   "outputs": [
    {
     "data": {
      "text/plain": [
       "State                     0\n",
       "City/Town                 0\n",
       "County                    0\n",
       "Feature Type              0\n",
       "Value Type                1\n",
       "Value                     0\n",
       "Citation                  0\n",
       "Comment                   0\n",
       "Updated Type              0\n",
       "Updated Value             0\n",
       "Updated Comment           0\n",
       "Ordinance Year            0\n",
       "Original Captured Date    0\n",
       "New Capture Date          0\n",
       "Update Status             0\n",
       "dtype: int64"
      ]
     },
     "execution_count": 21,
     "metadata": {},
     "output_type": "execute_result"
    }
   ],
   "source": [
    "solar.eq('N/a').sum(axis=0)"
   ]
  },
  {
   "cell_type": "code",
   "execution_count": 22,
   "id": "341bffca-c5ce-46db-b0fb-caf6ad650a2e",
   "metadata": {},
   "outputs": [
    {
     "data": {
      "text/plain": [
       "State                     0\n",
       "City/Town                 0\n",
       "County                    0\n",
       "Feature Type              0\n",
       "Value Type                0\n",
       "Value                     0\n",
       "Citation                  0\n",
       "Comment                   0\n",
       "Updated Type              0\n",
       "Updated Value             0\n",
       "Updated Comment           0\n",
       "Ordinance Year            0\n",
       "Original Captured Date    0\n",
       "New Capture Date          0\n",
       "Update Status             0\n",
       "dtype: int64"
      ]
     },
     "execution_count": 22,
     "metadata": {},
     "output_type": "execute_result"
    }
   ],
   "source": [
    "wind.eq('N/a').sum(axis=0)"
   ]
  },
  {
   "cell_type": "markdown",
   "id": "9304bd06-601f-4765-bba9-8297c6e4171c",
   "metadata": {
    "tags": []
   },
   "source": [
    "#### Distances in Meters vs Feet"
   ]
  },
  {
   "cell_type": "code",
   "execution_count": 23,
   "id": "88295111-ce3f-4956-9b26-d61e03d75ec5",
   "metadata": {},
   "outputs": [],
   "source": [
    "feet = wind[\"Comment\"].str.lower().str.extract(\".*?(\\d*,?\\d+\\.?\\d*)(?:'| feet).*\").squeeze().str.replace(',', '').astype(float)\n",
    "is_distance = wind[\"Value Type\"].str.lower().eq(\"meters\")"
   ]
  },
  {
   "cell_type": "code",
   "execution_count": 24,
   "id": "564147f4-c019-428f-84df-ac2e584e2e7d",
   "metadata": {},
   "outputs": [
    {
     "data": {
      "text/plain": [
       "510"
      ]
     },
     "execution_count": 24,
     "metadata": {},
     "output_type": "execute_result"
    }
   ],
   "source": [
    "is_distance.sum()"
   ]
  },
  {
   "cell_type": "code",
   "execution_count": 25,
   "id": "b8a28597-1ffe-4622-a067-8c66204e6b0c",
   "metadata": {},
   "outputs": [
    {
     "data": {
      "text/plain": [
       "88"
      ]
     },
     "execution_count": 25,
     "metadata": {},
     "output_type": "execute_result"
    }
   ],
   "source": [
    "# not great coverage\n",
    "feet.loc[is_distance].count()"
   ]
  },
  {
   "cell_type": "code",
   "execution_count": 26,
   "id": "2ee17b3c-9da3-4d5b-9e72-19fa9663c643",
   "metadata": {},
   "outputs": [],
   "source": [
    "ratios = feet.loc[is_distance].div(wind.loc[is_distance, \"Value\"].astype(float).values)"
   ]
  },
  {
   "cell_type": "code",
   "execution_count": 27,
   "id": "ccdc42e3-7e56-48cb-8778-eeba434681bd",
   "metadata": {},
   "outputs": [
    {
     "data": {
      "text/plain": [
       "3.2808398950131235"
      ]
     },
     "execution_count": 27,
     "metadata": {},
     "output_type": "execute_result"
    }
   ],
   "source": [
    "# feet_per_meter\n",
    "100 / 2.54 / 12"
   ]
  },
  {
   "cell_type": "code",
   "execution_count": 28,
   "id": "ece81efd-9968-4a45-91a1-fb323449b528",
   "metadata": {},
   "outputs": [
    {
     "data": {
      "text/plain": [
       "<AxesSubplot: >"
      ]
     },
     "execution_count": 28,
     "metadata": {},
     "output_type": "execute_result"
    },
    {
     "data": {
      "image/png": "[encoded data removed]",
      "text/plain": [
       "<Figure size 640x480 with 1 Axes>"
      ]
     },
     "metadata": {},
     "output_type": "display_data"
    }
   ],
   "source": [
    "# most look good\n",
    "ratios.hist(bins=60)"
   ]
  },
  {
   "cell_type": "code",
   "execution_count": 29,
   "id": "11e2d31c-dc6b-4065-a9ab-24cbdfdafcb7",
   "metadata": {},
   "outputs": [
    {
     "data": {
      "text/plain": [
       "26     3.375959\n",
       "46     3.003003\n",
       "647    1.000000\n",
       "Name: 0, dtype: float64"
      ]
     },
     "execution_count": 29,
     "metadata": {},
     "output_type": "execute_result"
    }
   ],
   "source": [
    "errors = ratios[ratios.lt(3.2) | ratios.gt(3.35)]\n",
    "errors"
   ]
  },
  {
   "cell_type": "code",
   "execution_count": 30,
   "id": "d4ef6721-18dc-4f10-8dac-30769a9755f8",
   "metadata": {},
   "outputs": [
    {
     "data": {
      "text/html": [
       "<div>\n",
       "<style scoped>\n",
       "    .dataframe tbody tr th:only-of-type {\n",
       "        vertical-align: middle;\n",
       "    }\n",
       "\n",
       "    .dataframe tbody tr th {\n",
       "        vertical-align: top;\n",
       "    }\n",
       "\n",
       "    .dataframe thead th {\n",
       "        text-align: right;\n",
       "    }\n",
       "</style>\n",
       "<table border=\"1\" class=\"dataframe\">\n",
       "  <thead>\n",
       "    <tr style=\"text-align: right;\">\n",
       "      <th></th>\n",
       "      <th>State</th>\n",
       "      <th>City/Town</th>\n",
       "      <th>County</th>\n",
       "      <th>Feature Type</th>\n",
       "      <th>Value Type</th>\n",
       "      <th>Value</th>\n",
       "      <th>Citation</th>\n",
       "      <th>Comment</th>\n",
       "      <th>Updated Type</th>\n",
       "      <th>Updated Value</th>\n",
       "      <th>Updated Comment</th>\n",
       "      <th>Ordinance Year</th>\n",
       "      <th>Original Captured Date</th>\n",
       "      <th>New Capture Date</th>\n",
       "      <th>Update Status</th>\n",
       "    </tr>\n",
       "  </thead>\n",
       "  <tbody>\n",
       "    <tr>\n",
       "      <th>26</th>\n",
       "      <td>Arizona</td>\n",
       "      <td>NaN</td>\n",
       "      <td>Navajo</td>\n",
       "      <td>Structures</td>\n",
       "      <td>Meters</td>\n",
       "      <td>782</td>\n",
       "      <td>Navajo County Ord. Art 20, 6-10(4)(w)</td>\n",
       "      <td>Setback is minimum half mile (2640 Feet) to re...</td>\n",
       "      <td>NaN</td>\n",
       "      <td>NaN</td>\n",
       "      <td>NaN</td>\n",
       "      <td>NaN</td>\n",
       "      <td>2021.0</td>\n",
       "      <td>NaN</td>\n",
       "      <td>NaN</td>\n",
       "    </tr>\n",
       "    <tr>\n",
       "      <th>46</th>\n",
       "      <td>California</td>\n",
       "      <td>NaN</td>\n",
       "      <td>Lassen</td>\n",
       "      <td>Height</td>\n",
       "      <td>Meters</td>\n",
       "      <td>33.3</td>\n",
       "      <td>Lassen County Code § 18.108.280(1)</td>\n",
       "      <td>Maximum Height of 100 feet without use permit</td>\n",
       "      <td>NaN</td>\n",
       "      <td>NaN</td>\n",
       "      <td>NaN</td>\n",
       "      <td>NaN</td>\n",
       "      <td>2021.0</td>\n",
       "      <td>NaN</td>\n",
       "      <td>NaN</td>\n",
       "    </tr>\n",
       "    <tr>\n",
       "      <th>647</th>\n",
       "      <td>Iowa</td>\n",
       "      <td>NaN</td>\n",
       "      <td>Johnson</td>\n",
       "      <td>Structures</td>\n",
       "      <td>Meters</td>\n",
       "      <td>1000</td>\n",
       "      <td>Johnson County Dev. Ord. § 8:5.8</td>\n",
       "      <td>Greater of 1000' setback or 1.1 max tip height</td>\n",
       "      <td>NaN</td>\n",
       "      <td>NaN</td>\n",
       "      <td>NaN</td>\n",
       "      <td>NaN</td>\n",
       "      <td>2021.0</td>\n",
       "      <td>NaN</td>\n",
       "      <td>NaN</td>\n",
       "    </tr>\n",
       "  </tbody>\n",
       "</table>\n",
       "</div>"
      ],
      "text/plain": [
       "          State City/Town   County Feature Type Value Type Value  \\\n",
       "26     Arizona        NaN   Navajo   Structures     Meters   782   \n",
       "46   California       NaN   Lassen       Height     Meters  33.3   \n",
       "647        Iowa       NaN  Johnson   Structures     Meters  1000   \n",
       "\n",
       "                                  Citation  \\\n",
       "26   Navajo County Ord. Art 20, 6-10(4)(w)   \n",
       "46      Lassen County Code § 18.108.280(1)   \n",
       "647       Johnson County Dev. Ord. § 8:5.8   \n",
       "\n",
       "                                               Comment Updated Type  \\\n",
       "26   Setback is minimum half mile (2640 Feet) to re...          NaN   \n",
       "46       Maximum Height of 100 feet without use permit          NaN   \n",
       "647    Greater of 1000' setback or 1.1 max tip height           NaN   \n",
       "\n",
       "     Updated Value Updated Comment  Ordinance Year  Original Captured Date  \\\n",
       "26             NaN             NaN             NaN                  2021.0   \n",
       "46             NaN             NaN             NaN                  2021.0   \n",
       "647            NaN             NaN             NaN                  2021.0   \n",
       "\n",
       "     New Capture Date Update Status  \n",
       "26                NaN           NaN  \n",
       "46                NaN           NaN  \n",
       "647               NaN           NaN  "
      ]
     },
     "execution_count": 30,
     "metadata": {},
     "output_type": "execute_result"
    }
   ],
   "source": [
    "# Only three errors: one is small, one in yards, one in feet\n",
    "wind.loc[errors.index,:]"
   ]
  },
  {
   "cell_type": "markdown",
   "id": "5a226555-9f43-4d5e-986a-2cb7954ee89d",
   "metadata": {},
   "source": [
    "Now for solar"
   ]
  },
  {
   "cell_type": "code",
   "execution_count": 31,
   "id": "9ef28bbe-fc7f-403c-83f2-4d41f02a2be5",
   "metadata": {},
   "outputs": [],
   "source": [
    "feet = solar[\"Comment\"].str.lower().str.extract(\".*?(\\d*,?\\d+\\.?\\d*)(?:'| feet).*\").squeeze().str.replace(',', '').astype(float)\n",
    "is_distance = solar[\"Value Type\"].str.lower().eq(\"meters\")"
   ]
  },
  {
   "cell_type": "code",
   "execution_count": 32,
   "id": "37976922-0128-4ab1-ae35-e506b7e6fd4b",
   "metadata": {},
   "outputs": [
    {
     "data": {
      "text/plain": [
       "703"
      ]
     },
     "execution_count": 32,
     "metadata": {},
     "output_type": "execute_result"
    }
   ],
   "source": [
    "is_distance.sum()"
   ]
  },
  {
   "cell_type": "code",
   "execution_count": 33,
   "id": "1319598e-b36a-4e9c-8007-1248371bb45c",
   "metadata": {},
   "outputs": [
    {
     "data": {
      "text/plain": [
       "132"
      ]
     },
     "execution_count": 33,
     "metadata": {},
     "output_type": "execute_result"
    }
   ],
   "source": [
    "# not great coverage\n",
    "feet.loc[is_distance].count()"
   ]
  },
  {
   "cell_type": "code",
   "execution_count": 34,
   "id": "d431461c-5001-43d3-8529-970c0c0a1296",
   "metadata": {},
   "outputs": [],
   "source": [
    "ratios = feet.loc[is_distance].div(pd.to_numeric(solar.loc[is_distance, \"Value\"], errors='coerce').values)"
   ]
  },
  {
   "cell_type": "code",
   "execution_count": 35,
   "id": "d39f0780-7a67-4cd6-b7d0-12f2f0bb6314",
   "metadata": {},
   "outputs": [
    {
     "data": {
      "text/plain": [
       "<AxesSubplot: >"
      ]
     },
     "execution_count": 35,
     "metadata": {},
     "output_type": "execute_result"
    },
    {
     "data": {
      "image/png": "[encoded data removed]",
      "text/plain": [
       "<Figure size 640x480 with 1 Axes>"
      ]
     },
     "metadata": {},
     "output_type": "display_data"
    }
   ],
   "source": [
    "# most look good\n",
    "ratios.hist(bins=60)"
   ]
  },
  {
   "cell_type": "code",
   "execution_count": 36,
   "id": "e21c16e9-7796-4bac-9ff1-a2fba28c6c6d",
   "metadata": {},
   "outputs": [
    {
     "data": {
      "text/plain": [
       "6       1.415094\n",
       "126     3.000000\n",
       "130    16.666667\n",
       "476     3.199692\n",
       "479     3.199692\n",
       "Name: 0, dtype: float64"
      ]
     },
     "execution_count": 36,
     "metadata": {},
     "output_type": "execute_result"
    }
   ],
   "source": [
    "errors = ratios[ratios.lt(3.2) | ratios.gt(3.35)]\n",
    "errors"
   ]
  },
  {
   "cell_type": "code",
   "execution_count": 37,
   "id": "c4d90133-040d-48ef-b6d2-4e735e8c6d1d",
   "metadata": {},
   "outputs": [
    {
     "data": {
      "text/html": [
       "<div>\n",
       "<style scoped>\n",
       "    .dataframe tbody tr th:only-of-type {\n",
       "        vertical-align: middle;\n",
       "    }\n",
       "\n",
       "    .dataframe tbody tr th {\n",
       "        vertical-align: top;\n",
       "    }\n",
       "\n",
       "    .dataframe thead th {\n",
       "        text-align: right;\n",
       "    }\n",
       "</style>\n",
       "<table border=\"1\" class=\"dataframe\">\n",
       "  <thead>\n",
       "    <tr style=\"text-align: right;\">\n",
       "      <th></th>\n",
       "      <th>State</th>\n",
       "      <th>City/Town</th>\n",
       "      <th>County</th>\n",
       "      <th>Feature Type</th>\n",
       "      <th>Value Type</th>\n",
       "      <th>Value</th>\n",
       "      <th>Citation</th>\n",
       "      <th>Comment</th>\n",
       "      <th>Updated Type</th>\n",
       "      <th>Updated Value</th>\n",
       "      <th>Updated Comment</th>\n",
       "      <th>Ordinance Year</th>\n",
       "      <th>Original Captured Date</th>\n",
       "      <th>New Capture Date</th>\n",
       "      <th>Update Status</th>\n",
       "    </tr>\n",
       "  </thead>\n",
       "  <tbody>\n",
       "    <tr>\n",
       "      <th>6</th>\n",
       "      <td>California</td>\n",
       "      <td>NaN</td>\n",
       "      <td>Butte</td>\n",
       "      <td>Property Line</td>\n",
       "      <td>Meters</td>\n",
       "      <td>10.6</td>\n",
       "      <td>Butte County Code § 24-157(c)</td>\n",
       "      <td>20 foot setback plus an additional 15' adjacen...</td>\n",
       "      <td>NaN</td>\n",
       "      <td>NaN</td>\n",
       "      <td>NaN</td>\n",
       "      <td>NaN</td>\n",
       "      <td>2021.0</td>\n",
       "      <td>NaN</td>\n",
       "      <td>NaN</td>\n",
       "    </tr>\n",
       "    <tr>\n",
       "      <th>126</th>\n",
       "      <td>Illinois</td>\n",
       "      <td>NaN</td>\n",
       "      <td>Adams</td>\n",
       "      <td>Height</td>\n",
       "      <td>Meters</td>\n",
       "      <td>10</td>\n",
       "      <td>Adams County Code Ord. § 5-7-3(c)</td>\n",
       "      <td>30' Max Height</td>\n",
       "      <td>NaN</td>\n",
       "      <td>NaN</td>\n",
       "      <td>NaN</td>\n",
       "      <td>NaN</td>\n",
       "      <td>2021.0</td>\n",
       "      <td>NaN</td>\n",
       "      <td>NaN</td>\n",
       "    </tr>\n",
       "    <tr>\n",
       "      <th>130</th>\n",
       "      <td>Illinois</td>\n",
       "      <td>NaN</td>\n",
       "      <td>Carroll</td>\n",
       "      <td>Property Line</td>\n",
       "      <td>Meters</td>\n",
       "      <td>6</td>\n",
       "      <td>Carroll County Code § 725.1(f)</td>\n",
       "      <td>20 foot setback unless next to residential zon...</td>\n",
       "      <td>NaN</td>\n",
       "      <td>NaN</td>\n",
       "      <td>NaN</td>\n",
       "      <td>NaN</td>\n",
       "      <td>2021.0</td>\n",
       "      <td>NaN</td>\n",
       "      <td>NaN</td>\n",
       "    </tr>\n",
       "    <tr>\n",
       "      <th>476</th>\n",
       "      <td>Nebraska</td>\n",
       "      <td>NaN</td>\n",
       "      <td>Madison</td>\n",
       "      <td>Roads</td>\n",
       "      <td>Meters</td>\n",
       "      <td>25.94</td>\n",
       "      <td>Madison County Zoning Regs. § 603(C)</td>\n",
       "      <td>83' setback to centerline of roads</td>\n",
       "      <td>NaN</td>\n",
       "      <td>NaN</td>\n",
       "      <td>NaN</td>\n",
       "      <td>NaN</td>\n",
       "      <td>2018.0</td>\n",
       "      <td>NaN</td>\n",
       "      <td>NaN</td>\n",
       "    </tr>\n",
       "    <tr>\n",
       "      <th>479</th>\n",
       "      <td>Nebraska</td>\n",
       "      <td>NaN</td>\n",
       "      <td>Pierce</td>\n",
       "      <td>Roads</td>\n",
       "      <td>Meters</td>\n",
       "      <td>25.94</td>\n",
       "      <td>Pierce County Zoning Regs. § 6.04.01</td>\n",
       "      <td>83' setback to centerline of roads</td>\n",
       "      <td>NaN</td>\n",
       "      <td>NaN</td>\n",
       "      <td>NaN</td>\n",
       "      <td>NaN</td>\n",
       "      <td>2018.0</td>\n",
       "      <td>NaN</td>\n",
       "      <td>NaN</td>\n",
       "    </tr>\n",
       "  </tbody>\n",
       "</table>\n",
       "</div>"
      ],
      "text/plain": [
       "           State City/Town    County   Feature Type Value Type  Value  \\\n",
       "6    California        NaN     Butte  Property Line     Meters   10.6   \n",
       "126     Illinois       NaN    Adams          Height     Meters     10   \n",
       "130     Illinois       NaN   Carroll  Property Line     Meters      6   \n",
       "476     Nebraska       NaN  Madison           Roads     Meters  25.94   \n",
       "479     Nebraska       NaN    Pierce          Roads     Meters  25.94   \n",
       "\n",
       "                                 Citation  \\\n",
       "6          Butte County Code § 24-157(c)    \n",
       "126     Adams County Code Ord. § 5-7-3(c)   \n",
       "130        Carroll County Code § 725.1(f)   \n",
       "476  Madison County Zoning Regs. § 603(C)   \n",
       "479  Pierce County Zoning Regs. § 6.04.01   \n",
       "\n",
       "                                               Comment  Updated Type  \\\n",
       "6    20 foot setback plus an additional 15' adjacen...           NaN   \n",
       "126                                    30' Max Height            NaN   \n",
       "130  20 foot setback unless next to residential zon...           NaN   \n",
       "476                83' setback to centerline of roads            NaN   \n",
       "479                83' setback to centerline of roads            NaN   \n",
       "\n",
       "     Updated Value  Updated Comment  Ordinance Year  Original Captured Date  \\\n",
       "6              NaN              NaN             NaN                  2021.0   \n",
       "126            NaN              NaN             NaN                  2021.0   \n",
       "130            NaN              NaN             NaN                  2021.0   \n",
       "476            NaN              NaN             NaN                  2018.0   \n",
       "479            NaN              NaN             NaN                  2018.0   \n",
       "\n",
       "     New Capture Date  Update Status  \n",
       "6                 NaN            NaN  \n",
       "126               NaN            NaN  \n",
       "130               NaN            NaN  \n",
       "476               NaN            NaN  \n",
       "479               NaN            NaN  "
      ]
     },
     "execution_count": 37,
     "metadata": {},
     "output_type": "execute_result"
    }
   ],
   "source": [
    "# parsing error, yards, parsing error, rounding, rounding\n",
    "solar.loc[errors.index,:]"
   ]
  },
  {
   "cell_type": "markdown",
   "id": "485d6087-2883-4fab-aa19-c5a9ec932460",
   "metadata": {
    "tags": []
   },
   "source": [
    "#### Distance formulas: Tip Height multipliers, constants, or both\n",
    "Setbacks are commonly expressed as either constant distances (eg 100 meters) or as a multiple of turbine max tip height (eg 1.1x). But sometimes they are both, aka a linear equation (eg 1.1x + 20 meters).\n",
    "\n",
    "* to facilitate computation, the linear expressions should be broken into pieces."
   ]
  },
  {
   "cell_type": "code",
   "execution_count": 38,
   "id": "3a5a13e3-fcf7-45a6-90f4-cccc2205b161",
   "metadata": {},
   "outputs": [
    {
     "data": {
      "text/plain": [
       "sum     22.000000\n",
       "mean     0.012002\n",
       "Name: Value, dtype: float64"
      ]
     },
     "execution_count": 38,
     "metadata": {},
     "output_type": "execute_result"
    }
   ],
   "source": [
    "# 22 (1.2%) entries have a linear equation\n",
    "wind['Value'].str.contains('\\+').fillna(False).agg(['sum', 'mean'])"
   ]
  },
  {
   "cell_type": "code",
   "execution_count": 39,
   "id": "a623ff8a-e8ce-42dc-a66d-04e7622133c0",
   "metadata": {},
   "outputs": [
    {
     "data": {
      "text/html": [
       "<div>\n",
       "<style scoped>\n",
       "    .dataframe tbody tr th:only-of-type {\n",
       "        vertical-align: middle;\n",
       "    }\n",
       "\n",
       "    .dataframe tbody tr th {\n",
       "        vertical-align: top;\n",
       "    }\n",
       "\n",
       "    .dataframe thead th {\n",
       "        text-align: right;\n",
       "    }\n",
       "</style>\n",
       "<table border=\"1\" class=\"dataframe\">\n",
       "  <thead>\n",
       "    <tr style=\"text-align: right;\">\n",
       "      <th></th>\n",
       "      <th>State</th>\n",
       "      <th>City/Town</th>\n",
       "      <th>County</th>\n",
       "      <th>Feature Type</th>\n",
       "      <th>Value Type</th>\n",
       "      <th>Value</th>\n",
       "      <th>Citation</th>\n",
       "      <th>Comment</th>\n",
       "      <th>Updated Type</th>\n",
       "      <th>Updated Value</th>\n",
       "      <th>Updated Comment</th>\n",
       "      <th>Ordinance Year</th>\n",
       "      <th>Original Captured Date</th>\n",
       "      <th>New Capture Date</th>\n",
       "      <th>Update Status</th>\n",
       "    </tr>\n",
       "  </thead>\n",
       "  <tbody>\n",
       "    <tr>\n",
       "      <th>823</th>\n",
       "      <td>Kansas</td>\n",
       "      <td>NaN</td>\n",
       "      <td>Seward</td>\n",
       "      <td>Transmission</td>\n",
       "      <td>Max tip-height Multiplier</td>\n",
       "      <td>1 + 12.19 Meters</td>\n",
       "      <td>Seward County Zoning Art. 27</td>\n",
       "      <td>NaN</td>\n",
       "      <td>NaN</td>\n",
       "      <td>NaN</td>\n",
       "      <td>NaN</td>\n",
       "      <td>NaN</td>\n",
       "      <td>2022.0</td>\n",
       "      <td>NaN</td>\n",
       "      <td>NaN</td>\n",
       "    </tr>\n",
       "    <tr>\n",
       "      <th>757</th>\n",
       "      <td>Kansas</td>\n",
       "      <td>NaN</td>\n",
       "      <td>Geary</td>\n",
       "      <td>Roads</td>\n",
       "      <td>Max tip-height Multiplier</td>\n",
       "      <td>1 + 15.24 meters</td>\n",
       "      <td>Geary County Zoning Regulations</td>\n",
       "      <td>NaN</td>\n",
       "      <td>NaN</td>\n",
       "      <td>NaN</td>\n",
       "      <td>NaN</td>\n",
       "      <td>NaN</td>\n",
       "      <td>2022.0</td>\n",
       "      <td>NaN</td>\n",
       "      <td>NaN</td>\n",
       "    </tr>\n",
       "    <tr>\n",
       "      <th>1441</th>\n",
       "      <td>North Dakota</td>\n",
       "      <td>NaN</td>\n",
       "      <td>Oliver</td>\n",
       "      <td>Roads</td>\n",
       "      <td>Max tip-height Multiplier</td>\n",
       "      <td>1 + 22.86 Meters</td>\n",
       "      <td>Section 14 wind energy facilities</td>\n",
       "      <td>NaN</td>\n",
       "      <td>NaN</td>\n",
       "      <td>NaN</td>\n",
       "      <td>NaN</td>\n",
       "      <td>NaN</td>\n",
       "      <td>2022.0</td>\n",
       "      <td>NaN</td>\n",
       "      <td>NaN</td>\n",
       "    </tr>\n",
       "    <tr>\n",
       "      <th>770</th>\n",
       "      <td>Kansas</td>\n",
       "      <td>NaN</td>\n",
       "      <td>Jefferson</td>\n",
       "      <td>Roads</td>\n",
       "      <td>Max tip-height Multiplier</td>\n",
       "      <td>1 + 15.24 meters</td>\n",
       "      <td>Jefferson County Zoning Regulations</td>\n",
       "      <td>NaN</td>\n",
       "      <td>NaN</td>\n",
       "      <td>NaN</td>\n",
       "      <td>NaN</td>\n",
       "      <td>NaN</td>\n",
       "      <td>2022.0</td>\n",
       "      <td>NaN</td>\n",
       "      <td>NaN</td>\n",
       "    </tr>\n",
       "    <tr>\n",
       "      <th>795</th>\n",
       "      <td>Kansas</td>\n",
       "      <td>NaN</td>\n",
       "      <td>Osage</td>\n",
       "      <td>Roads</td>\n",
       "      <td>Max tip-height Multiplier</td>\n",
       "      <td>1+ 15.24 Meters</td>\n",
       "      <td>Osage County Wind Energy Ordinance Sec 11-102(5)</td>\n",
       "      <td>NaN</td>\n",
       "      <td>NaN</td>\n",
       "      <td>NaN</td>\n",
       "      <td>NaN</td>\n",
       "      <td>2010.0</td>\n",
       "      <td>2022.0</td>\n",
       "      <td>NaN</td>\n",
       "      <td>NaN</td>\n",
       "    </tr>\n",
       "  </tbody>\n",
       "</table>\n",
       "</div>"
      ],
      "text/plain": [
       "             State City/Town     County  Feature Type  \\\n",
       "823         Kansas       NaN     Seward  Transmission   \n",
       "757         Kansas       NaN      Geary         Roads   \n",
       "1441  North Dakota       NaN     Oliver         Roads   \n",
       "770         Kansas       NaN  Jefferson         Roads   \n",
       "795         Kansas       NaN      Osage         Roads   \n",
       "\n",
       "                     Value Type             Value  \\\n",
       "823   Max tip-height Multiplier  1 + 12.19 Meters   \n",
       "757   Max tip-height Multiplier  1 + 15.24 meters   \n",
       "1441  Max tip-height Multiplier  1 + 22.86 Meters   \n",
       "770   Max tip-height Multiplier  1 + 15.24 meters   \n",
       "795   Max tip-height Multiplier   1+ 15.24 Meters   \n",
       "\n",
       "                                              Citation Comment Updated Type  \\\n",
       "823                       Seward County Zoning Art. 27     NaN          NaN   \n",
       "757                    Geary County Zoning Regulations     NaN          NaN   \n",
       "1441                 Section 14 wind energy facilities     NaN          NaN   \n",
       "770                Jefferson County Zoning Regulations     NaN          NaN   \n",
       "795   Osage County Wind Energy Ordinance Sec 11-102(5)     NaN          NaN   \n",
       "\n",
       "      Updated Value Updated Comment  Ordinance Year  Original Captured Date  \\\n",
       "823             NaN             NaN             NaN                  2022.0   \n",
       "757             NaN             NaN             NaN                  2022.0   \n",
       "1441            NaN             NaN             NaN                  2022.0   \n",
       "770             NaN             NaN             NaN                  2022.0   \n",
       "795             NaN             NaN          2010.0                  2022.0   \n",
       "\n",
       "      New Capture Date Update Status  \n",
       "823                NaN           NaN  \n",
       "757                NaN           NaN  \n",
       "1441               NaN           NaN  \n",
       "770                NaN           NaN  \n",
       "795                NaN           NaN  "
      ]
     },
     "execution_count": 39,
     "metadata": {},
     "output_type": "execute_result"
    }
   ],
   "source": [
    "wind[wind['Value'].str.contains('\\+').fillna(False)].sample(5)"
   ]
  },
  {
   "cell_type": "code",
   "execution_count": 40,
   "id": "e13e52d5-21f2-4029-aef2-77437881628b",
   "metadata": {},
   "outputs": [
    {
     "data": {
      "text/plain": [
       "sum     0.0\n",
       "mean    0.0\n",
       "Name: Value, dtype: float64"
      ]
     },
     "execution_count": 40,
     "metadata": {},
     "output_type": "execute_result"
    }
   ],
   "source": [
    "# no linear solar stuff\n",
    "solar['Value'].str.contains('\\+').fillna(False).agg(['sum', 'mean'])"
   ]
  },
  {
   "cell_type": "markdown",
   "id": "531eb335-77c0-48d8-b026-2ae1da0f9139",
   "metadata": {
    "tags": []
   },
   "source": [
    "## Uniqueness Validation\n",
    "Primary key is row number. The tuple (state, city/town, county, feature type, value type) does not uniquely identify rows because of conditionals buried in the \"Comment\" field.\n",
    "\n",
    "For wind:\n",
    "* there are a few duplicates with conflicting values. Most look like updates (one has a later \"Captured Date\") so I'll plan to use the latest one.\n",
    "* one (Allegany County, MD) is a triple-valued conditional. Other rows like that were expressed with a single value \"1/2/3\"\n",
    "* Adams and LaSalle IL have multiple structure setbacks conditional on either on/off site or whether they are residential.\n",
    "\n",
    "For solar:\n",
    "* a handful of duplicates that differ only in the \"updated\" columns\n",
    "* some places have different setbacks conditioned on residential zoning or front/side of parcel"
   ]
  },
  {
   "cell_type": "code",
   "execution_count": 41,
   "id": "fbf8ae36-f180-4cc2-894f-e74cb8bab861",
   "metadata": {},
   "outputs": [
    {
     "data": {
      "text/html": [
       "<div>\n",
       "<style scoped>\n",
       "    .dataframe tbody tr th:only-of-type {\n",
       "        vertical-align: middle;\n",
       "    }\n",
       "\n",
       "    .dataframe tbody tr th {\n",
       "        vertical-align: top;\n",
       "    }\n",
       "\n",
       "    .dataframe thead th {\n",
       "        text-align: right;\n",
       "    }\n",
       "</style>\n",
       "<table border=\"1\" class=\"dataframe\">\n",
       "  <thead>\n",
       "    <tr style=\"text-align: right;\">\n",
       "      <th></th>\n",
       "      <th>State</th>\n",
       "      <th>City/Town</th>\n",
       "      <th>County</th>\n",
       "      <th>Feature Type</th>\n",
       "      <th>Value Type</th>\n",
       "      <th>Value</th>\n",
       "      <th>Citation</th>\n",
       "      <th>Comment</th>\n",
       "      <th>Updated Type</th>\n",
       "      <th>Updated Value</th>\n",
       "      <th>Updated Comment</th>\n",
       "      <th>Ordinance Year</th>\n",
       "      <th>Original Captured Date</th>\n",
       "      <th>New Capture Date</th>\n",
       "      <th>Update Status</th>\n",
       "    </tr>\n",
       "  </thead>\n",
       "  <tbody>\n",
       "    <tr>\n",
       "      <th>38</th>\n",
       "      <td>California</td>\n",
       "      <td>NaN</td>\n",
       "      <td>Kern</td>\n",
       "      <td>Property Line</td>\n",
       "      <td>Max tip-height Multiplier</td>\n",
       "      <td>2</td>\n",
       "      <td>Kern County Code § 19.64.140(F)</td>\n",
       "      <td>lesser of 2x max tip height or 500 feet to property line unless owned by same project developer if project is less than 40 acres in size</td>\n",
       "      <td>NaN</td>\n",
       "      <td>NaN</td>\n",
       "      <td>NaN</td>\n",
       "      <td>NaN</td>\n",
       "      <td>NaN</td>\n",
       "      <td>NaN</td>\n",
       "      <td>NaN</td>\n",
       "    </tr>\n",
       "    <tr>\n",
       "      <th>39</th>\n",
       "      <td>California</td>\n",
       "      <td>NaN</td>\n",
       "      <td>Kern</td>\n",
       "      <td>Property Line</td>\n",
       "      <td>Max tip-height Multiplier</td>\n",
       "      <td>1.5</td>\n",
       "      <td>Kern County Code § 19.64.140(F)</td>\n",
       "      <td>lesser of 1.5x max tip height or 500 feet to property line unless owned by same project developer if project is more than 40 acres in size</td>\n",
       "      <td>NaN</td>\n",
       "      <td>NaN</td>\n",
       "      <td>NaN</td>\n",
       "      <td>NaN</td>\n",
       "      <td>2018.0</td>\n",
       "      <td>2021.0</td>\n",
       "      <td>No Change</td>\n",
       "    </tr>\n",
       "    <tr>\n",
       "      <th>45</th>\n",
       "      <td>California</td>\n",
       "      <td>NaN</td>\n",
       "      <td>Lassen</td>\n",
       "      <td>Structures</td>\n",
       "      <td>Meters</td>\n",
       "      <td>6</td>\n",
       "      <td>Lassen County Code § 18.108.280 (2)</td>\n",
       "      <td>NaN</td>\n",
       "      <td>20 foot setback to any structure on the property</td>\n",
       "      <td>NaN</td>\n",
       "      <td>NaN</td>\n",
       "      <td>NaN</td>\n",
       "      <td>2021.0</td>\n",
       "      <td>NaN</td>\n",
       "      <td>NaN</td>\n",
       "    </tr>\n",
       "    <tr>\n",
       "      <th>47</th>\n",
       "      <td>California</td>\n",
       "      <td>NaN</td>\n",
       "      <td>Lassen</td>\n",
       "      <td>Structures</td>\n",
       "      <td>Meters</td>\n",
       "      <td>3.6576</td>\n",
       "      <td>Lassen County Code § 18.108.280 (2)</td>\n",
       "      <td>NaN</td>\n",
       "      <td>NaN</td>\n",
       "      <td>NaN</td>\n",
       "      <td>NaN</td>\n",
       "      <td>NaN</td>\n",
       "      <td>2018.0</td>\n",
       "      <td>2021.0</td>\n",
       "      <td>No Change</td>\n",
       "    </tr>\n",
       "    <tr>\n",
       "      <th>65</th>\n",
       "      <td>California</td>\n",
       "      <td>NaN</td>\n",
       "      <td>San Bernardino</td>\n",
       "      <td>Property Line</td>\n",
       "      <td>Max tip-height Multiplier</td>\n",
       "      <td>2</td>\n",
       "      <td>San Bernadino County Dev. Code § 84.29.030</td>\n",
       "      <td>Setback of 2x max tip height if project is on less than 40 acres, waived if common property line is shared by project owner</td>\n",
       "      <td>NaN</td>\n",
       "      <td>NaN</td>\n",
       "      <td>NaN</td>\n",
       "      <td>NaN</td>\n",
       "      <td>NaN</td>\n",
       "      <td>2022.0</td>\n",
       "      <td>NaN</td>\n",
       "    </tr>\n",
       "    <tr>\n",
       "      <th>66</th>\n",
       "      <td>California</td>\n",
       "      <td>NaN</td>\n",
       "      <td>San Bernardino</td>\n",
       "      <td>Property Line</td>\n",
       "      <td>Max tip-height Multiplier</td>\n",
       "      <td>1.5</td>\n",
       "      <td>San Bernadino County Dev. Code § 84.29.030</td>\n",
       "      <td>Setback of 1.5x max tip height if project is on more than 40 acres, waived if common property line is shared by project owner</td>\n",
       "      <td>NaN</td>\n",
       "      <td>NaN</td>\n",
       "      <td>NaN</td>\n",
       "      <td>NaN</td>\n",
       "      <td>NaN</td>\n",
       "      <td>2022.0</td>\n",
       "      <td>NaN</td>\n",
       "    </tr>\n",
       "    <tr>\n",
       "      <th>161</th>\n",
       "      <td>Illinois</td>\n",
       "      <td>NaN</td>\n",
       "      <td>Adams</td>\n",
       "      <td>Structures</td>\n",
       "      <td>Meters</td>\n",
       "      <td>402.3</td>\n",
       "      <td>Adams County Code § 5-6-7(f)</td>\n",
       "      <td>Primary Structures offsite</td>\n",
       "      <td>NaN</td>\n",
       "      <td>NaN</td>\n",
       "      <td>NaN</td>\n",
       "      <td>NaN</td>\n",
       "      <td>2021.0</td>\n",
       "      <td>NaN</td>\n",
       "      <td>NaN</td>\n",
       "    </tr>\n",
       "    <tr>\n",
       "      <th>164</th>\n",
       "      <td>Illinois</td>\n",
       "      <td>NaN</td>\n",
       "      <td>Adams</td>\n",
       "      <td>Structures</td>\n",
       "      <td>Max tip-height Multiplier</td>\n",
       "      <td>1.1</td>\n",
       "      <td>Adams County Code § 5-6-7(f)</td>\n",
       "      <td>Primary structure onsite</td>\n",
       "      <td>NaN</td>\n",
       "      <td>NaN</td>\n",
       "      <td>NaN</td>\n",
       "      <td>NaN</td>\n",
       "      <td>2021.0</td>\n",
       "      <td>NaN</td>\n",
       "      <td>NaN</td>\n",
       "    </tr>\n",
       "    <tr>\n",
       "      <th>268</th>\n",
       "      <td>Illinois</td>\n",
       "      <td>NaN</td>\n",
       "      <td>LaSalle</td>\n",
       "      <td>Structures</td>\n",
       "      <td>Meters</td>\n",
       "      <td>365.76</td>\n",
       "      <td>LaSalle County Ord. § 7.1(RR)</td>\n",
       "      <td>1200 foot setback to residences</td>\n",
       "      <td>NaN</td>\n",
       "      <td>NaN</td>\n",
       "      <td>NaN</td>\n",
       "      <td>NaN</td>\n",
       "      <td>2021.0</td>\n",
       "      <td>NaN</td>\n",
       "      <td>NaN</td>\n",
       "    </tr>\n",
       "    <tr>\n",
       "      <th>270</th>\n",
       "      <td>Illinois</td>\n",
       "      <td>NaN</td>\n",
       "      <td>LaSalle</td>\n",
       "      <td>Structures</td>\n",
       "      <td>Hub-height Multiplier</td>\n",
       "      <td>1.5</td>\n",
       "      <td>LaSalle County Ord. § 7.1(RR)</td>\n",
       "      <td>1.5 x tower height for \"other structures\"</td>\n",
       "      <td>NaN</td>\n",
       "      <td>NaN</td>\n",
       "      <td>NaN</td>\n",
       "      <td>NaN</td>\n",
       "      <td>2021.0</td>\n",
       "      <td>NaN</td>\n",
       "      <td>NaN</td>\n",
       "    </tr>\n",
       "    <tr>\n",
       "      <th>831</th>\n",
       "      <td>Maryland</td>\n",
       "      <td>NaN</td>\n",
       "      <td>Allegany</td>\n",
       "      <td>Property Line</td>\n",
       "      <td>Max tip-height Multiplier</td>\n",
       "      <td>1</td>\n",
       "      <td>Allegany County Zoning sec. 360-107</td>\n",
       "      <td>For turbines with height of 200 ft or less</td>\n",
       "      <td>NaN</td>\n",
       "      <td>NaN</td>\n",
       "      <td>NaN</td>\n",
       "      <td>NaN</td>\n",
       "      <td>2022.0</td>\n",
       "      <td>NaN</td>\n",
       "      <td>NaN</td>\n",
       "    </tr>\n",
       "    <tr>\n",
       "      <th>832</th>\n",
       "      <td>Maryland</td>\n",
       "      <td>NaN</td>\n",
       "      <td>Allegany</td>\n",
       "      <td>Property Line</td>\n",
       "      <td>Max tip-height Multiplier</td>\n",
       "      <td>2</td>\n",
       "      <td>Allegany County Zoning sec. 360-107</td>\n",
       "      <td>For turbines with height of 201-300 ft</td>\n",
       "      <td>NaN</td>\n",
       "      <td>NaN</td>\n",
       "      <td>NaN</td>\n",
       "      <td>NaN</td>\n",
       "      <td>2022.0</td>\n",
       "      <td>NaN</td>\n",
       "      <td>NaN</td>\n",
       "    </tr>\n",
       "    <tr>\n",
       "      <th>833</th>\n",
       "      <td>Maryland</td>\n",
       "      <td>NaN</td>\n",
       "      <td>Allegany</td>\n",
       "      <td>Property Line</td>\n",
       "      <td>Max tip-height Multiplier</td>\n",
       "      <td>3</td>\n",
       "      <td>Allegany County Zoning sec. 360-107</td>\n",
       "      <td>For turbines with height greater than 300 ft</td>\n",
       "      <td>NaN</td>\n",
       "      <td>NaN</td>\n",
       "      <td>NaN</td>\n",
       "      <td>NaN</td>\n",
       "      <td>2022.0</td>\n",
       "      <td>NaN</td>\n",
       "      <td>NaN</td>\n",
       "    </tr>\n",
       "    <tr>\n",
       "      <th>852</th>\n",
       "      <td>Michigan</td>\n",
       "      <td>NaN</td>\n",
       "      <td>Huron</td>\n",
       "      <td>Roads</td>\n",
       "      <td>Max tip-height Multiplier</td>\n",
       "      <td>1.5</td>\n",
       "      <td>Huron County Wind Energy Ordinance</td>\n",
       "      <td>NaN</td>\n",
       "      <td>NaN</td>\n",
       "      <td>NaN</td>\n",
       "      <td>NaN</td>\n",
       "      <td>2015.0</td>\n",
       "      <td>2018.0</td>\n",
       "      <td>2022.0</td>\n",
       "      <td>No change</td>\n",
       "    </tr>\n",
       "    <tr>\n",
       "      <th>857</th>\n",
       "      <td>Michigan</td>\n",
       "      <td>NaN</td>\n",
       "      <td>Huron</td>\n",
       "      <td>Roads</td>\n",
       "      <td>Max tip-height Multiplier</td>\n",
       "      <td>1.5</td>\n",
       "      <td>Huron County Wind Energy Ordinance</td>\n",
       "      <td>NaN</td>\n",
       "      <td>NaN</td>\n",
       "      <td>NaN</td>\n",
       "      <td>NaN</td>\n",
       "      <td>NaN</td>\n",
       "      <td>2022.0</td>\n",
       "      <td>NaN</td>\n",
       "      <td>NaN</td>\n",
       "    </tr>\n",
       "  </tbody>\n",
       "</table>\n",
       "</div>"
      ],
      "text/plain": [
       "          State City/Town          County   Feature Type  \\\n",
       "38   California       NaN            Kern  Property Line   \n",
       "39   California       NaN            Kern  Property Line   \n",
       "45   California       NaN          Lassen     Structures   \n",
       "47   California       NaN          Lassen     Structures   \n",
       "65   California       NaN  San Bernardino  Property Line   \n",
       "66   California       NaN  San Bernardino  Property Line   \n",
       "161    Illinois       NaN           Adams     Structures   \n",
       "164    Illinois       NaN           Adams     Structures   \n",
       "268   Illinois        NaN        LaSalle      Structures   \n",
       "270   Illinois        NaN        LaSalle      Structures   \n",
       "831    Maryland       NaN        Allegany  Property Line   \n",
       "832    Maryland       NaN        Allegany  Property Line   \n",
       "833    Maryland       NaN        Allegany  Property Line   \n",
       "852    Michigan       NaN           Huron          Roads   \n",
       "857    Michigan       NaN           Huron          Roads   \n",
       "\n",
       "                     Value Type   Value  \\\n",
       "38    Max tip-height Multiplier       2   \n",
       "39    Max tip-height Multiplier     1.5   \n",
       "45                       Meters       6   \n",
       "47                       Meters  3.6576   \n",
       "65    Max tip-height Multiplier       2   \n",
       "66    Max tip-height Multiplier     1.5   \n",
       "161                     Meters    402.3   \n",
       "164  Max tip-height Multiplier      1.1   \n",
       "268                      Meters  365.76   \n",
       "270       Hub-height Multiplier     1.5   \n",
       "831   Max tip-height Multiplier       1   \n",
       "832   Max tip-height Multiplier       2   \n",
       "833   Max tip-height Multiplier       3   \n",
       "852   Max tip-height Multiplier     1.5   \n",
       "857   Max tip-height Multiplier     1.5   \n",
       "\n",
       "                                       Citation  \\\n",
       "38              Kern County Code § 19.64.140(F)   \n",
       "39              Kern County Code § 19.64.140(F)   \n",
       "45          Lassen County Code § 18.108.280 (2)   \n",
       "47          Lassen County Code § 18.108.280 (2)   \n",
       "65   San Bernadino County Dev. Code § 84.29.030   \n",
       "66   San Bernadino County Dev. Code § 84.29.030   \n",
       "161                Adams County Code § 5-6-7(f)   \n",
       "164                Adams County Code § 5-6-7(f)   \n",
       "268               LaSalle County Ord. § 7.1(RR)   \n",
       "270               LaSalle County Ord. § 7.1(RR)   \n",
       "831         Allegany County Zoning sec. 360-107   \n",
       "832         Allegany County Zoning sec. 360-107   \n",
       "833         Allegany County Zoning sec. 360-107   \n",
       "852         Huron County Wind Energy Ordinance    \n",
       "857         Huron County Wind Energy Ordinance    \n",
       "\n",
       "                                                                                                                                         Comment  \\\n",
       "38     lesser of 2x max tip height or 500 feet to property line unless owned by same project developer if project is less than 40 acres in size    \n",
       "39   lesser of 1.5x max tip height or 500 feet to property line unless owned by same project developer if project is more than 40 acres in size    \n",
       "45                                                                                                                                           NaN   \n",
       "47                                                                                                                                           NaN   \n",
       "65                  Setback of 2x max tip height if project is on less than 40 acres, waived if common property line is shared by project owner    \n",
       "66                Setback of 1.5x max tip height if project is on more than 40 acres, waived if common property line is shared by project owner    \n",
       "161                                                                                                                  Primary Structures offsite    \n",
       "164                                                                                                                    Primary structure onsite    \n",
       "268                                                                                                             1200 foot setback to residences    \n",
       "270                                                                                                    1.5 x tower height for \"other structures\"   \n",
       "831                                                                                                   For turbines with height of 200 ft or less   \n",
       "832                                                                                                       For turbines with height of 201-300 ft   \n",
       "833                                                                                                 For turbines with height greater than 300 ft   \n",
       "852                                                                                                                                          NaN   \n",
       "857                                                                                                                                          NaN   \n",
       "\n",
       "                                          Updated Type  Updated Value  \\\n",
       "38                                                 NaN            NaN   \n",
       "39                                                 NaN            NaN   \n",
       "45   20 foot setback to any structure on the property             NaN   \n",
       "47                                                 NaN            NaN   \n",
       "65                                                 NaN            NaN   \n",
       "66                                                 NaN            NaN   \n",
       "161                                                NaN            NaN   \n",
       "164                                                NaN            NaN   \n",
       "268                                                NaN            NaN   \n",
       "270                                                NaN            NaN   \n",
       "831                                                NaN            NaN   \n",
       "832                                                NaN            NaN   \n",
       "833                                                NaN            NaN   \n",
       "852                                                NaN            NaN   \n",
       "857                                                NaN            NaN   \n",
       "\n",
       "    Updated Comment  Ordinance Year  Original Captured Date  New Capture Date  \\\n",
       "38              NaN             NaN                     NaN               NaN   \n",
       "39              NaN             NaN                  2018.0            2021.0   \n",
       "45              NaN             NaN                  2021.0               NaN   \n",
       "47              NaN             NaN                  2018.0            2021.0   \n",
       "65              NaN             NaN                     NaN            2022.0   \n",
       "66              NaN             NaN                     NaN            2022.0   \n",
       "161             NaN             NaN                  2021.0               NaN   \n",
       "164             NaN             NaN                  2021.0               NaN   \n",
       "268             NaN             NaN                  2021.0               NaN   \n",
       "270             NaN             NaN                  2021.0               NaN   \n",
       "831             NaN             NaN                  2022.0               NaN   \n",
       "832             NaN             NaN                  2022.0               NaN   \n",
       "833             NaN             NaN                  2022.0               NaN   \n",
       "852             NaN          2015.0                  2018.0            2022.0   \n",
       "857             NaN             NaN                  2022.0               NaN   \n",
       "\n",
       "    Update Status  \n",
       "38            NaN  \n",
       "39     No Change   \n",
       "45            NaN  \n",
       "47     No Change   \n",
       "65            NaN  \n",
       "66            NaN  \n",
       "161           NaN  \n",
       "164           NaN  \n",
       "268           NaN  \n",
       "270           NaN  \n",
       "831           NaN  \n",
       "832           NaN  \n",
       "833           NaN  \n",
       "852    No change   \n",
       "857           NaN  "
      ]
     },
     "execution_count": 41,
     "metadata": {},
     "output_type": "execute_result"
    }
   ],
   "source": [
    "pd.options.display.max_colwidth = None\n",
    "wind[wind.duplicated(subset=['State', 'City/Town', 'County', 'Feature Type'], keep=False)]"
   ]
  },
  {
   "cell_type": "code",
   "execution_count": 42,
   "id": "b00ec95a-299a-4f4f-9b84-cdddfd2a4373",
   "metadata": {},
   "outputs": [
    {
     "data": {
      "text/html": [
       "<div>\n",
       "<style scoped>\n",
       "    .dataframe tbody tr th:only-of-type {\n",
       "        vertical-align: middle;\n",
       "    }\n",
       "\n",
       "    .dataframe tbody tr th {\n",
       "        vertical-align: top;\n",
       "    }\n",
       "\n",
       "    .dataframe thead th {\n",
       "        text-align: right;\n",
       "    }\n",
       "</style>\n",
       "<table border=\"1\" class=\"dataframe\">\n",
       "  <thead>\n",
       "    <tr style=\"text-align: right;\">\n",
       "      <th></th>\n",
       "      <th>State</th>\n",
       "      <th>City/Town</th>\n",
       "      <th>County</th>\n",
       "      <th>Feature Type</th>\n",
       "      <th>Value Type</th>\n",
       "      <th>Value</th>\n",
       "      <th>Citation</th>\n",
       "      <th>Comment</th>\n",
       "      <th>Updated Type</th>\n",
       "      <th>Updated Value</th>\n",
       "      <th>Updated Comment</th>\n",
       "      <th>Ordinance Year</th>\n",
       "      <th>Original Captured Date</th>\n",
       "      <th>New Capture Date</th>\n",
       "      <th>Update Status</th>\n",
       "    </tr>\n",
       "  </thead>\n",
       "  <tbody>\n",
       "    <tr>\n",
       "      <th>37</th>\n",
       "      <td>Florida</td>\n",
       "      <td>NaN</td>\n",
       "      <td>Clay</td>\n",
       "      <td>Property Line</td>\n",
       "      <td>Meters</td>\n",
       "      <td>7.62</td>\n",
       "      <td>Clay County Land Development Code § 3-2(bo)</td>\n",
       "      <td>25' Setbacks if not adjacent to residential zones</td>\n",
       "      <td>NaN</td>\n",
       "      <td>NaN</td>\n",
       "      <td>NaN</td>\n",
       "      <td>NaN</td>\n",
       "      <td>2021.0</td>\n",
       "      <td>NaN</td>\n",
       "      <td>NaN</td>\n",
       "    </tr>\n",
       "    <tr>\n",
       "      <th>38</th>\n",
       "      <td>Florida</td>\n",
       "      <td>NaN</td>\n",
       "      <td>Clay</td>\n",
       "      <td>Property Line</td>\n",
       "      <td>Meters</td>\n",
       "      <td>30.48</td>\n",
       "      <td>Clay County Land Development Code § 3-2(bo)</td>\n",
       "      <td>100' setback if adjacent to residential zone</td>\n",
       "      <td>NaN</td>\n",
       "      <td>NaN</td>\n",
       "      <td>NaN</td>\n",
       "      <td>NaN</td>\n",
       "      <td>2021.0</td>\n",
       "      <td>NaN</td>\n",
       "      <td>NaN</td>\n",
       "    </tr>\n",
       "    <tr>\n",
       "      <th>50</th>\n",
       "      <td>Florida</td>\n",
       "      <td>NaN</td>\n",
       "      <td>Jefferson</td>\n",
       "      <td>Property Line</td>\n",
       "      <td>Meters</td>\n",
       "      <td>30.48</td>\n",
       "      <td>Jefferson County Land Development Code § 2.11.4</td>\n",
       "      <td>100' landscape buffer from vacant or nonresidential parcels</td>\n",
       "      <td>NaN</td>\n",
       "      <td>NaN</td>\n",
       "      <td>NaN</td>\n",
       "      <td>NaN</td>\n",
       "      <td>2021.0</td>\n",
       "      <td>NaN</td>\n",
       "      <td>NaN</td>\n",
       "    </tr>\n",
       "    <tr>\n",
       "      <th>51</th>\n",
       "      <td>Florida</td>\n",
       "      <td>NaN</td>\n",
       "      <td>Jefferson</td>\n",
       "      <td>Property Line</td>\n",
       "      <td>Meters</td>\n",
       "      <td>60.96</td>\n",
       "      <td>Jefferson County Land Development Code § 2.11.4</td>\n",
       "      <td>200' landscape buffer for residential parcels</td>\n",
       "      <td>NaN</td>\n",
       "      <td>NaN</td>\n",
       "      <td>NaN</td>\n",
       "      <td>NaN</td>\n",
       "      <td>2021.0</td>\n",
       "      <td>NaN</td>\n",
       "      <td>NaN</td>\n",
       "    </tr>\n",
       "    <tr>\n",
       "      <th>219</th>\n",
       "      <td>Indiana</td>\n",
       "      <td>NaN</td>\n",
       "      <td>Clinton</td>\n",
       "      <td>Property Line</td>\n",
       "      <td>Meters</td>\n",
       "      <td>15.24</td>\n",
       "      <td>Clinton County Ord. §406.02</td>\n",
       "      <td>NaN</td>\n",
       "      <td>NaN</td>\n",
       "      <td>NaN</td>\n",
       "      <td>NaN</td>\n",
       "      <td>NaN</td>\n",
       "      <td>2022.0</td>\n",
       "      <td>NaN</td>\n",
       "      <td>NaN</td>\n",
       "    </tr>\n",
       "    <tr>\n",
       "      <th>220</th>\n",
       "      <td>Indiana</td>\n",
       "      <td>NaN</td>\n",
       "      <td>Clinton</td>\n",
       "      <td>Structures</td>\n",
       "      <td>Meters</td>\n",
       "      <td>60.96</td>\n",
       "      <td>Clinton County Ord. §406.02</td>\n",
       "      <td>NaN</td>\n",
       "      <td>NaN</td>\n",
       "      <td>NaN</td>\n",
       "      <td>NaN</td>\n",
       "      <td>NaN</td>\n",
       "      <td>2022.0</td>\n",
       "      <td>NaN</td>\n",
       "      <td>NaN</td>\n",
       "    </tr>\n",
       "    <tr>\n",
       "      <th>221</th>\n",
       "      <td>Indiana</td>\n",
       "      <td>NaN</td>\n",
       "      <td>Clinton</td>\n",
       "      <td>Height</td>\n",
       "      <td>Meters</td>\n",
       "      <td>6.096</td>\n",
       "      <td>Clinton County Ord. §406.02</td>\n",
       "      <td>NaN</td>\n",
       "      <td>NaN</td>\n",
       "      <td>NaN</td>\n",
       "      <td>NaN</td>\n",
       "      <td>NaN</td>\n",
       "      <td>NaN</td>\n",
       "      <td>NaN</td>\n",
       "      <td>NaN</td>\n",
       "    </tr>\n",
       "    <tr>\n",
       "      <th>226</th>\n",
       "      <td>Indiana</td>\n",
       "      <td>NaN</td>\n",
       "      <td>Clinton</td>\n",
       "      <td>Property Line</td>\n",
       "      <td>Meters</td>\n",
       "      <td>15.24</td>\n",
       "      <td>Clinton County Ord. §406.02</td>\n",
       "      <td>NaN</td>\n",
       "      <td>NaN</td>\n",
       "      <td>NaN</td>\n",
       "      <td>NaN</td>\n",
       "      <td>NaN</td>\n",
       "      <td>NaN</td>\n",
       "      <td>NaN</td>\n",
       "      <td>NaN</td>\n",
       "    </tr>\n",
       "    <tr>\n",
       "      <th>227</th>\n",
       "      <td>Indiana</td>\n",
       "      <td>NaN</td>\n",
       "      <td>Clinton</td>\n",
       "      <td>Structures</td>\n",
       "      <td>Meters</td>\n",
       "      <td>60.96</td>\n",
       "      <td>Clinton County Ord. §406.02</td>\n",
       "      <td>NaN</td>\n",
       "      <td>NaN</td>\n",
       "      <td>NaN</td>\n",
       "      <td>NaN</td>\n",
       "      <td>NaN</td>\n",
       "      <td>NaN</td>\n",
       "      <td>NaN</td>\n",
       "      <td>NaN</td>\n",
       "    </tr>\n",
       "    <tr>\n",
       "      <th>228</th>\n",
       "      <td>Indiana</td>\n",
       "      <td>NaN</td>\n",
       "      <td>Clinton</td>\n",
       "      <td>Height</td>\n",
       "      <td>Meters</td>\n",
       "      <td>6.096</td>\n",
       "      <td>Clinton County Ord. §406.02</td>\n",
       "      <td>NaN</td>\n",
       "      <td>NaN</td>\n",
       "      <td>NaN</td>\n",
       "      <td>NaN</td>\n",
       "      <td>NaN</td>\n",
       "      <td>NaN</td>\n",
       "      <td>NaN</td>\n",
       "      <td>NaN</td>\n",
       "    </tr>\n",
       "    <tr>\n",
       "      <th>505</th>\n",
       "      <td>New York</td>\n",
       "      <td>Lenox</td>\n",
       "      <td>NaN</td>\n",
       "      <td>Property Line</td>\n",
       "      <td>Meters</td>\n",
       "      <td>30.48</td>\n",
       "      <td>Lenox Town Code § 134-152.9</td>\n",
       "      <td>100' rear and side setbacks</td>\n",
       "      <td>NaN</td>\n",
       "      <td>NaN</td>\n",
       "      <td>NaN</td>\n",
       "      <td>2017.0</td>\n",
       "      <td>NaN</td>\n",
       "      <td>NaN</td>\n",
       "      <td>NaN</td>\n",
       "    </tr>\n",
       "    <tr>\n",
       "      <th>506</th>\n",
       "      <td>New York</td>\n",
       "      <td>Lenox</td>\n",
       "      <td>NaN</td>\n",
       "      <td>Property Line</td>\n",
       "      <td>Meters</td>\n",
       "      <td>76.2</td>\n",
       "      <td>Lenox Town Code § 134-152.9</td>\n",
       "      <td>250' front setback</td>\n",
       "      <td>NaN</td>\n",
       "      <td>NaN</td>\n",
       "      <td>NaN</td>\n",
       "      <td>2017.0</td>\n",
       "      <td>NaN</td>\n",
       "      <td>NaN</td>\n",
       "      <td>NaN</td>\n",
       "    </tr>\n",
       "  </tbody>\n",
       "</table>\n",
       "</div>"
      ],
      "text/plain": [
       "        State City/Town     County   Feature Type Value Type  Value  \\\n",
       "37   Florida        NaN      Clay   Property Line     Meters   7.62   \n",
       "38   Florida        NaN      Clay   Property Line     Meters  30.48   \n",
       "50   Florida        NaN  Jefferson  Property Line     Meters  30.48   \n",
       "51   Florida        NaN  Jefferson  Property Line     Meters  60.96   \n",
       "219   Indiana       NaN    Clinton  Property Line     Meters  15.24   \n",
       "220   Indiana       NaN    Clinton     Structures     Meters  60.96   \n",
       "221   Indiana       NaN    Clinton         Height     Meters  6.096   \n",
       "226   Indiana       NaN    Clinton  Property Line     Meters  15.24   \n",
       "227   Indiana       NaN    Clinton     Structures     Meters  60.96   \n",
       "228   Indiana       NaN    Clinton         Height     Meters  6.096   \n",
       "505  New York     Lenox        NaN  Property Line     Meters  30.48   \n",
       "506  New York     Lenox        NaN  Property Line     Meters   76.2   \n",
       "\n",
       "                                            Citation  \\\n",
       "37       Clay County Land Development Code § 3-2(bo)   \n",
       "38       Clay County Land Development Code § 3-2(bo)   \n",
       "50   Jefferson County Land Development Code § 2.11.4   \n",
       "51   Jefferson County Land Development Code § 2.11.4   \n",
       "219                      Clinton County Ord. §406.02   \n",
       "220                      Clinton County Ord. §406.02   \n",
       "221                      Clinton County Ord. §406.02   \n",
       "226                      Clinton County Ord. §406.02   \n",
       "227                      Clinton County Ord. §406.02   \n",
       "228                      Clinton County Ord. §406.02   \n",
       "505                      Lenox Town Code § 134-152.9   \n",
       "506                      Lenox Town Code § 134-152.9   \n",
       "\n",
       "                                                         Comment  \\\n",
       "37            25' Setbacks if not adjacent to residential zones    \n",
       "38                 100' setback if adjacent to residential zone    \n",
       "50   100' landscape buffer from vacant or nonresidential parcels   \n",
       "51                200' landscape buffer for residential parcels    \n",
       "219                                                          NaN   \n",
       "220                                                          NaN   \n",
       "221                                                          NaN   \n",
       "226                                                          NaN   \n",
       "227                                                          NaN   \n",
       "228                                                          NaN   \n",
       "505                                  100' rear and side setbacks   \n",
       "506                                           250' front setback   \n",
       "\n",
       "     Updated Type  Updated Value  Updated Comment  Ordinance Year  \\\n",
       "37            NaN            NaN              NaN             NaN   \n",
       "38            NaN            NaN              NaN             NaN   \n",
       "50            NaN            NaN              NaN             NaN   \n",
       "51            NaN            NaN              NaN             NaN   \n",
       "219           NaN            NaN              NaN             NaN   \n",
       "220           NaN            NaN              NaN             NaN   \n",
       "221           NaN            NaN              NaN             NaN   \n",
       "226           NaN            NaN              NaN             NaN   \n",
       "227           NaN            NaN              NaN             NaN   \n",
       "228           NaN            NaN              NaN             NaN   \n",
       "505           NaN            NaN              NaN          2017.0   \n",
       "506           NaN            NaN              NaN          2017.0   \n",
       "\n",
       "     Original Captured Date  New Capture Date  Update Status  \n",
       "37                   2021.0               NaN            NaN  \n",
       "38                   2021.0               NaN            NaN  \n",
       "50                   2021.0               NaN            NaN  \n",
       "51                   2021.0               NaN            NaN  \n",
       "219                  2022.0               NaN            NaN  \n",
       "220                  2022.0               NaN            NaN  \n",
       "221                     NaN               NaN            NaN  \n",
       "226                     NaN               NaN            NaN  \n",
       "227                     NaN               NaN            NaN  \n",
       "228                     NaN               NaN            NaN  \n",
       "505                     NaN               NaN            NaN  \n",
       "506                     NaN               NaN            NaN  "
      ]
     },
     "execution_count": 42,
     "metadata": {},
     "output_type": "execute_result"
    }
   ],
   "source": [
    "solar[solar.duplicated(subset=['State', 'City/Town', 'County', 'Feature Type'], keep=False)]"
   ]
  },
  {
   "cell_type": "markdown",
   "id": "7b777143-1851-47a9-a12b-ebc69415763f",
   "metadata": {
    "tags": []
   },
   "source": [
    "## Set Membership Validation"
   ]
  },
  {
   "cell_type": "markdown",
   "id": "30a18168-e37c-4688-858d-505668d55175",
   "metadata": {
    "tags": []
   },
   "source": [
    "#### State\n",
    "Will check exact values when assigning FIPS codes"
   ]
  },
  {
   "cell_type": "code",
   "execution_count": 43,
   "id": "6116a649-f121-4c06-8221-5dac3bcc9887",
   "metadata": {},
   "outputs": [
    {
     "data": {
      "text/plain": [
       "44"
      ]
     },
     "execution_count": 43,
     "metadata": {},
     "output_type": "execute_result"
    }
   ],
   "source": [
    "# <= 51\n",
    "wind['State'].nunique()"
   ]
  },
  {
   "cell_type": "code",
   "execution_count": 44,
   "id": "fa06af5a-ca07-4997-a3f0-ffdcc6831eb2",
   "metadata": {},
   "outputs": [
    {
     "data": {
      "text/plain": [
       "36"
      ]
     },
     "execution_count": 44,
     "metadata": {},
     "output_type": "execute_result"
    }
   ],
   "source": [
    "# <= 51\n",
    "solar['State'].nunique()"
   ]
  },
  {
   "cell_type": "markdown",
   "id": "11acf2c4-bc79-4d98-81b3-26ca8a610d13",
   "metadata": {
    "tags": []
   },
   "source": [
    "#### Feature Type\n",
    "* some mis-spellings and mixed plurals\n",
    "* bunch of named entities like rivers/lakes/highways"
   ]
  },
  {
   "cell_type": "code",
   "execution_count": 45,
   "id": "cb43523e-520e-466a-9185-6ca36e69ed5e",
   "metadata": {
    "tags": []
   },
   "outputs": [
    {
     "data": {
      "text/plain": [
       "structures                   372\n",
       "property line                353\n",
       "roads                        344\n",
       "sound                        219\n",
       "transmission                 182\n",
       "height                        91\n",
       "railroads                     61\n",
       "banned                        54\n",
       "water                         35\n",
       "minimum lot size              22\n",
       "tower density                 18\n",
       "density                       15\n",
       "shadow flicker                13\n",
       "rivers                         8\n",
       "highways                       7\n",
       "total installation             3\n",
       "missouri river                 3\n",
       "wabash river                   2\n",
       "oil & gas pipelines            2\n",
       "maximum installation size      1\n",
       "property                       1\n",
       "lake audubon                   1\n",
       "lake sakakawea                 1\n",
       "appalachian trail              1\n",
       "waccamaw river                 1\n",
       "pee dee river                  1\n",
       "lake oahe                      1\n",
       "highway                        1\n",
       "black river                    1\n",
       "north santee river             1\n",
       "mississippi river              1\n",
       "maximum instillation size      1\n",
       "pine creek                     1\n",
       "iowa river                     1\n",
       "significant ridgeline          1\n",
       "oil & gas pipeline             1\n",
       "lakes                          1\n",
       "rivers/lakes                   1\n",
       "salamonie reservoir            1\n",
       "huntington reservoir           1\n",
       "little river                   1\n",
       "noise                          1\n",
       "kankakee river                 1\n",
       "iroquis river                  1\n",
       "moratorium                     1\n",
       "tower denisty                  1\n",
       "highway 111                    1\n",
       "sampit river                   1\n",
       "Name: Feature Type, dtype: int64"
      ]
     },
     "execution_count": 45,
     "metadata": {},
     "output_type": "execute_result"
    }
   ],
   "source": [
    "wind['Feature Type'].str.strip().str.lower().value_counts(dropna=False)"
   ]
  },
  {
   "cell_type": "code",
   "execution_count": 46,
   "id": "046fc752-f387-408a-ae29-a0d762f1f7bb",
   "metadata": {},
   "outputs": [
    {
     "data": {
      "text/plain": [
       "property line              232\n",
       "height                     190\n",
       "structures                 137\n",
       "roads                      117\n",
       "minimum lot size            49\n",
       "sound                       33\n",
       "highway                     20\n",
       "maximum lot size            14\n",
       "waters                       7\n",
       "density                      5\n",
       "maximum lot coverage         4\n",
       "coverage                     4\n",
       "total installation           4\n",
       "moratorium                   2\n",
       "noise                        2\n",
       "total installation size      2\n",
       "banned                       2\n",
       "maximum project size         2\n",
       "rivers                       2\n",
       "lakes                        1\n",
       "mimimum lot size             1\n",
       "property lines               1\n",
       "wetlands                     1\n",
       "sounds                       1\n",
       "m.d. route 413               1\n",
       "u.s. route 13                1\n",
       "railroads                    1\n",
       "road                         1\n",
       "lankford highway             1\n",
       "Name: Feature Type, dtype: int64"
      ]
     },
     "execution_count": 46,
     "metadata": {},
     "output_type": "execute_result"
    }
   ],
   "source": [
    "solar['Feature Type'].str.strip().str.lower().value_counts(dropna=False)"
   ]
  },
  {
   "cell_type": "markdown",
   "id": "3e6fd15a-ead3-4f5f-98ee-51cef908e0d5",
   "metadata": {
    "tags": []
   },
   "source": [
    "#### Value Type\n",
    "* some mis-spellings and mixed plurals\n",
    "* mixed \"n/a\" and NaN"
   ]
  },
  {
   "cell_type": "code",
   "execution_count": 47,
   "id": "aebedfa9-149b-43ef-9cf6-d7dfcb723a3c",
   "metadata": {},
   "outputs": [
    {
     "data": {
      "text/plain": [
       "max tip-height multiplier    928\n",
       "meters                       516\n",
       "dba                          218\n",
       "NaN                           57\n",
       "rotor-diameter multiplier     28\n",
       "rotor diameter multiplier     28\n",
       "acres                         23\n",
       "hrs/year                      13\n",
       "hub-height multiplier          8\n",
       "turbines                       3\n",
       "kw                             2\n",
       "meter                          2\n",
       "turbine count                  1\n",
       "minimum lot size               1\n",
       "rotor-radius                   1\n",
       "max tip-height                 1\n",
       "rotor diameter mutliplier      1\n",
       "rotor diameter                 1\n",
       "max-tip height multiplier      1\n",
       "Name: Value Type, dtype: int64"
      ]
     },
     "execution_count": 47,
     "metadata": {},
     "output_type": "execute_result"
    }
   ],
   "source": [
    "wind['Value Type'].str.strip().str.lower().value_counts(dropna=False)"
   ]
  },
  {
   "cell_type": "code",
   "execution_count": 48,
   "id": "4899a684-cc89-4437-96c3-3413aa1352ac",
   "metadata": {},
   "outputs": [
    {
     "data": {
      "text/plain": [
       "meters                                 706\n",
       "acres                                   71\n",
       "dba                                     36\n",
       "maximum structure height                 9\n",
       "percentage                               9\n",
       "n/a                                      2\n",
       "NaN                                      2\n",
       "maximum structure height multiplier      1\n",
       "meter                                    1\n",
       "megawatt                                 1\n",
       "Name: Value Type, dtype: int64"
      ]
     },
     "execution_count": 48,
     "metadata": {},
     "output_type": "execute_result"
    }
   ],
   "source": [
    "solar['Value Type'].str.strip().str.lower().value_counts(dropna=False)"
   ]
  },
  {
   "cell_type": "markdown",
   "id": "9d016461-b754-4af3-902f-dbbd5baf2eac",
   "metadata": {
    "tags": []
   },
   "source": [
    "#### \"Updated Type\"\n",
    "* some misplaced entires that look like they belong in the \"comments\" column"
   ]
  },
  {
   "cell_type": "code",
   "execution_count": 52,
   "id": "c6645e91-38a0-4838-93c2-78cb7da55b23",
   "metadata": {},
   "outputs": [
    {
     "data": {
      "text/plain": [
       "NaN                                                 1821\n",
       "meters                                                 5\n",
       "max tip-height multiplier                              3\n",
       "20 foot setback to any structure on the property       1\n",
       "prohibition on utility scale wind energy systems       1\n",
       "max tip height multiplier + ft                         1\n",
       "dba                                                    1\n",
       "Name: Updated Type, dtype: int64"
      ]
     },
     "execution_count": 52,
     "metadata": {},
     "output_type": "execute_result"
    }
   ],
   "source": [
    "wind['Updated Type'].str.strip().str.lower().value_counts(dropna=False)"
   ]
  },
  {
   "cell_type": "code",
   "execution_count": 54,
   "id": "791673ff-4418-455c-94dc-dc4ffd981da1",
   "metadata": {},
   "outputs": [
    {
     "data": {
      "text/plain": [
       "NaN    838\n",
       "Name: Updated Type, dtype: int64"
      ]
     },
     "execution_count": 54,
     "metadata": {},
     "output_type": "execute_result"
    }
   ],
   "source": [
    "# all empty\n",
    "solar['Updated Type'].value_counts(dropna=False)"
   ]
  },
  {
   "cell_type": "markdown",
   "id": "2b4acabe-55eb-4741-83bc-7819faadb394",
   "metadata": {
    "tags": []
   },
   "source": [
    "#### Update Status\n",
    "* many of these look like they should be \"Updated Comment\""
   ]
  },
  {
   "cell_type": "code",
   "execution_count": 55,
   "id": "a07ac6e0-ea33-463b-b105-458e8b73d235",
   "metadata": {},
   "outputs": [
    {
     "data": {
      "text/plain": [
       "NaN                                                        1605\n",
       "no change                                                   192\n",
       "changed                                                      13\n",
       "change from meters to multiplier                              4\n",
       "changed from 1.1 to 1.5                                       3\n",
       "changed max tip-height to meters                              1\n",
       "changed from 50 to 45                                         1\n",
       "changed from 305 to 457.2                                     1\n",
       "changed from \"highways\" to \"banned\"                           1\n",
       "changed from 304.5 to 1.1 max tip height                      1\n",
       "changed from 228.6 to 304.5                                   1\n",
       "changed from 228.6 to 304.8                                   1\n",
       "marshall county banned commercial wind in 2013                1\n",
       "change from 50 to 60 dba                                      1\n",
       "changed from 160.2 to 182.88 meters                           1\n",
       "changed from 152 to 213 meters                                1\n",
       "change from 1.25 x setback to 1.1 x times setback             1\n",
       "change from 2 to 3 times height of tower for structures       1\n",
       "change from 80 meters to 152.4 (500 feet max height)          1\n",
       "change from 80 meters to 60 (200 feet max height)             1\n",
       "changed from 50 to 60 db                                      1\n",
       "Name: Update Status, dtype: int64"
      ]
     },
     "execution_count": 55,
     "metadata": {},
     "output_type": "execute_result"
    }
   ],
   "source": [
    "wind['Update Status'].str.strip().str.lower().value_counts(dropna=False)"
   ]
  },
  {
   "cell_type": "code",
   "execution_count": 57,
   "id": "82c1343a-9c0e-4b99-80ef-fe5ac7f6567b",
   "metadata": {},
   "outputs": [
    {
     "data": {
      "text/plain": [
       "NaN    838\n",
       "Name: Update Status, dtype: int64"
      ]
     },
     "execution_count": 57,
     "metadata": {},
     "output_type": "execute_result"
    }
   ],
   "source": [
    "# all NaN\n",
    "solar['Update Status'].value_counts(dropna=False)"
   ]
  },
  {
   "cell_type": "markdown",
   "id": "1075a529-0c44-49c9-b497-46ed313a42e6",
   "metadata": {
    "tags": []
   },
   "source": [
    "## Type Validation"
   ]
  },
  {
   "cell_type": "markdown",
   "id": "c59c1f14-e5ae-42e8-a16b-e38e925343f9",
   "metadata": {
    "tags": []
   },
   "source": [
    "#### Value\n",
    "Should be numeric, but a few multivalued, equation, or range entries break that assumption."
   ]
  },
  {
   "cell_type": "code",
   "execution_count": 49,
   "id": "af9d2cee-1e30-474e-8b5d-5bf41e8b7092",
   "metadata": {},
   "outputs": [
    {
     "data": {
      "text/plain": [
       "sum     6.000000\n",
       "mean    0.003273\n",
       "Name: Value, dtype: float64"
      ]
     },
     "execution_count": 49,
     "metadata": {},
     "output_type": "execute_result"
    }
   ],
   "source": [
    "wind['Value'].str.contains('/').fillna(False).agg(['sum', 'mean'])"
   ]
  },
  {
   "cell_type": "code",
   "execution_count": 166,
   "id": "8394126b-0091-4de7-9701-a628dcac4051",
   "metadata": {},
   "outputs": [
    {
     "data": {
      "text/html": [
       "<div>\n",
       "<style scoped>\n",
       "    .dataframe tbody tr th:only-of-type {\n",
       "        vertical-align: middle;\n",
       "    }\n",
       "\n",
       "    .dataframe tbody tr th {\n",
       "        vertical-align: top;\n",
       "    }\n",
       "\n",
       "    .dataframe thead th {\n",
       "        text-align: right;\n",
       "    }\n",
       "</style>\n",
       "<table border=\"1\" class=\"dataframe\">\n",
       "  <thead>\n",
       "    <tr style=\"text-align: right;\">\n",
       "      <th></th>\n",
       "      <th>State</th>\n",
       "      <th>City/Town</th>\n",
       "      <th>County</th>\n",
       "      <th>Feature Type</th>\n",
       "      <th>Value Type</th>\n",
       "      <th>Value</th>\n",
       "      <th>Citation</th>\n",
       "      <th>Comment</th>\n",
       "      <th>Updated Type</th>\n",
       "      <th>Updated Value</th>\n",
       "      <th>Updated Comment</th>\n",
       "      <th>Ordinance Year</th>\n",
       "      <th>Original Captured Date</th>\n",
       "      <th>New Capture Date</th>\n",
       "      <th>Update Status</th>\n",
       "    </tr>\n",
       "  </thead>\n",
       "  <tbody>\n",
       "    <tr>\n",
       "      <th>28</th>\n",
       "      <td>California</td>\n",
       "      <td>NaN</td>\n",
       "      <td>Butte</td>\n",
       "      <td>Sound</td>\n",
       "      <td>dBA</td>\n",
       "      <td>55/50/45</td>\n",
       "      <td>Butte County Code § 24-157(E); Butte County Code 41A(7)</td>\n",
       "      <td>55 dbA daytime; 50 dBa evening (7-10pm); 45 dba nighttime (10pm-7am)</td>\n",
       "      <td>NaN</td>\n",
       "      <td>NaN</td>\n",
       "      <td>NaN</td>\n",
       "      <td>NaN</td>\n",
       "      <td>2021.0</td>\n",
       "      <td>NaN</td>\n",
       "      <td>NaN</td>\n",
       "    </tr>\n",
       "    <tr>\n",
       "      <th>72</th>\n",
       "      <td>California</td>\n",
       "      <td>NaN</td>\n",
       "      <td>San Luis Obispo</td>\n",
       "      <td>Sound</td>\n",
       "      <td>dBa</td>\n",
       "      <td>70/65</td>\n",
       "      <td>San Luis Obispo County Code § 22.32.060(d)(4); San Luis Obispo County Code 22.10.120(B)</td>\n",
       "      <td>70 dBa maximum daytime (7am-10pm), 65 dBa Nighttime (10pm-7am)</td>\n",
       "      <td>NaN</td>\n",
       "      <td>NaN</td>\n",
       "      <td>NaN</td>\n",
       "      <td>NaN</td>\n",
       "      <td>2021.0</td>\n",
       "      <td>NaN</td>\n",
       "      <td>NaN</td>\n",
       "    </tr>\n",
       "    <tr>\n",
       "      <th>78</th>\n",
       "      <td>California</td>\n",
       "      <td>NaN</td>\n",
       "      <td>Tehama</td>\n",
       "      <td>Sound</td>\n",
       "      <td>dBa</td>\n",
       "      <td>50/45</td>\n",
       "      <td>Tehama County Code § 17.83.080</td>\n",
       "      <td>50 dBa Day time/ 45 dBa Nighttime</td>\n",
       "      <td>NaN</td>\n",
       "      <td>NaN</td>\n",
       "      <td>NaN</td>\n",
       "      <td>NaN</td>\n",
       "      <td>2021.0</td>\n",
       "      <td>NaN</td>\n",
       "      <td>NaN</td>\n",
       "    </tr>\n",
       "    <tr>\n",
       "      <th>114</th>\n",
       "      <td>Colorado</td>\n",
       "      <td>NaN</td>\n",
       "      <td>Lincoln</td>\n",
       "      <td>Sound</td>\n",
       "      <td>dBA</td>\n",
       "      <td>60/50</td>\n",
       "      <td>Lincoln County Zoning Resolution 3-210 (F)(7)</td>\n",
       "      <td>60 dBa daytime (7am to 7pm) 50 dBa nighttime (7pm to 7am)</td>\n",
       "      <td>NaN</td>\n",
       "      <td>NaN</td>\n",
       "      <td>NaN</td>\n",
       "      <td>NaN</td>\n",
       "      <td>2021.0</td>\n",
       "      <td>NaN</td>\n",
       "      <td>NaN</td>\n",
       "    </tr>\n",
       "    <tr>\n",
       "      <th>141</th>\n",
       "      <td>Florida</td>\n",
       "      <td>NaN</td>\n",
       "      <td>Osceola</td>\n",
       "      <td>Sound</td>\n",
       "      <td>dBA</td>\n",
       "      <td>55/45</td>\n",
       "      <td>Osceola County Code § 3.9(G)</td>\n",
       "      <td>55 dBa daytime (7am to sunset) 45 dBa nighttime (Sunset to 7am</td>\n",
       "      <td>NaN</td>\n",
       "      <td>NaN</td>\n",
       "      <td>NaN</td>\n",
       "      <td>NaN</td>\n",
       "      <td>2021.0</td>\n",
       "      <td>NaN</td>\n",
       "      <td>NaN</td>\n",
       "    </tr>\n",
       "    <tr>\n",
       "      <th>1103</th>\n",
       "      <td>Nebraska</td>\n",
       "      <td>NaN</td>\n",
       "      <td>Hamilton</td>\n",
       "      <td>Sound</td>\n",
       "      <td>dBA</td>\n",
       "      <td>37/40</td>\n",
       "      <td>Hamilton County Zoning Regs. § 8.08.07</td>\n",
       "      <td>37 dB from 8pm to 8am; 40 dB from 8am to 8pm</td>\n",
       "      <td>NaN</td>\n",
       "      <td>NaN</td>\n",
       "      <td>NaN</td>\n",
       "      <td>2019.0</td>\n",
       "      <td>2022.0</td>\n",
       "      <td>NaN</td>\n",
       "      <td>NaN</td>\n",
       "    </tr>\n",
       "  </tbody>\n",
       "</table>\n",
       "</div>"
      ],
      "text/plain": [
       "           State City/Town           County Feature Type Value Type     Value  \\\n",
       "28    California       NaN            Butte        Sound        dBA  55/50/45   \n",
       "72    California       NaN  San Luis Obispo        Sound        dBa     70/65   \n",
       "78    California       NaN           Tehama        Sound        dBa     50/45   \n",
       "114     Colorado       NaN          Lincoln        Sound        dBA     60/50   \n",
       "141     Florida        NaN         Osceola         Sound        dBA     55/45   \n",
       "1103    Nebraska       NaN        Hamilton         Sound        dBA     37/40   \n",
       "\n",
       "                                                                                     Citation  \\\n",
       "28                                    Butte County Code § 24-157(E); Butte County Code 41A(7)   \n",
       "72    San Luis Obispo County Code § 22.32.060(d)(4); San Luis Obispo County Code 22.10.120(B)   \n",
       "78                                                             Tehama County Code § 17.83.080   \n",
       "114                                             Lincoln County Zoning Resolution 3-210 (F)(7)   \n",
       "141                                                              Osceola County Code § 3.9(G)   \n",
       "1103                                                   Hamilton County Zoning Regs. § 8.08.07   \n",
       "\n",
       "                                                                   Comment  \\\n",
       "28    55 dbA daytime; 50 dBa evening (7-10pm); 45 dba nighttime (10pm-7am)   \n",
       "72          70 dBa maximum daytime (7am-10pm), 65 dBa Nighttime (10pm-7am)   \n",
       "78                                       50 dBa Day time/ 45 dBa Nighttime   \n",
       "114              60 dBa daytime (7am to 7pm) 50 dBa nighttime (7pm to 7am)   \n",
       "141         55 dBa daytime (7am to sunset) 45 dBa nighttime (Sunset to 7am   \n",
       "1103                          37 dB from 8pm to 8am; 40 dB from 8am to 8pm   \n",
       "\n",
       "     Updated Type  Updated Value Updated Comment  Ordinance Year  \\\n",
       "28            NaN            NaN             NaN             NaN   \n",
       "72            NaN            NaN             NaN             NaN   \n",
       "78            NaN            NaN             NaN             NaN   \n",
       "114           NaN            NaN             NaN             NaN   \n",
       "141           NaN            NaN             NaN             NaN   \n",
       "1103          NaN            NaN             NaN          2019.0   \n",
       "\n",
       "      Original Captured Date  New Capture Date Update Status  \n",
       "28                    2021.0               NaN           NaN  \n",
       "72                    2021.0               NaN           NaN  \n",
       "78                    2021.0               NaN           NaN  \n",
       "114                   2021.0               NaN           NaN  \n",
       "141                   2021.0               NaN           NaN  \n",
       "1103                  2022.0               NaN           NaN  "
      ]
     },
     "execution_count": 166,
     "metadata": {},
     "output_type": "execute_result"
    }
   ],
   "source": [
    "wind.loc[wind['Value'].str.contains('/').fillna(False),:]"
   ]
  },
  {
   "cell_type": "code",
   "execution_count": 60,
   "id": "24db9c5d-b1ee-43b9-840c-b445a661ce26",
   "metadata": {},
   "outputs": [
    {
     "data": {
      "text/plain": [
       "sum     22.000000\n",
       "mean     0.012002\n",
       "Name: Value, dtype: float64"
      ]
     },
     "execution_count": 60,
     "metadata": {},
     "output_type": "execute_result"
    }
   ],
   "source": [
    "wind['Value'].str.contains('\\+').fillna(False).agg(['sum', 'mean'])"
   ]
  },
  {
   "cell_type": "code",
   "execution_count": 167,
   "id": "03e2052a-3f30-4710-acc7-484890e3a6f6",
   "metadata": {},
   "outputs": [
    {
     "data": {
      "text/html": [
       "<div>\n",
       "<style scoped>\n",
       "    .dataframe tbody tr th:only-of-type {\n",
       "        vertical-align: middle;\n",
       "    }\n",
       "\n",
       "    .dataframe tbody tr th {\n",
       "        vertical-align: top;\n",
       "    }\n",
       "\n",
       "    .dataframe thead th {\n",
       "        text-align: right;\n",
       "    }\n",
       "</style>\n",
       "<table border=\"1\" class=\"dataframe\">\n",
       "  <thead>\n",
       "    <tr style=\"text-align: right;\">\n",
       "      <th></th>\n",
       "      <th>State</th>\n",
       "      <th>City/Town</th>\n",
       "      <th>County</th>\n",
       "      <th>Feature Type</th>\n",
       "      <th>Value Type</th>\n",
       "      <th>Value</th>\n",
       "      <th>Citation</th>\n",
       "      <th>Comment</th>\n",
       "      <th>Updated Type</th>\n",
       "      <th>Updated Value</th>\n",
       "      <th>Updated Comment</th>\n",
       "      <th>Ordinance Year</th>\n",
       "      <th>Original Captured Date</th>\n",
       "      <th>New Capture Date</th>\n",
       "      <th>Update Status</th>\n",
       "    </tr>\n",
       "  </thead>\n",
       "  <tbody>\n",
       "    <tr>\n",
       "      <th>102</th>\n",
       "      <td>Colorado</td>\n",
       "      <td>NaN</td>\n",
       "      <td>Elbert</td>\n",
       "      <td>Property Line</td>\n",
       "      <td>Max tip-height Multiplier</td>\n",
       "      <td>1 + 25 ft</td>\n",
       "      <td>Elbert County Zoning Regulations Art. 5 § 26</td>\n",
       "      <td>NaN</td>\n",
       "      <td>NaN</td>\n",
       "      <td>NaN</td>\n",
       "      <td>NaN</td>\n",
       "      <td>NaN</td>\n",
       "      <td>2021.0</td>\n",
       "      <td>NaN</td>\n",
       "      <td>NaN</td>\n",
       "    </tr>\n",
       "    <tr>\n",
       "      <th>738</th>\n",
       "      <td>Kansas</td>\n",
       "      <td>NaN</td>\n",
       "      <td>Crawford</td>\n",
       "      <td>Roads</td>\n",
       "      <td>Max tip-height Multiplier</td>\n",
       "      <td>1 + 15.24 meters</td>\n",
       "      <td>Crawford County Zoning Art. 16</td>\n",
       "      <td>NaN</td>\n",
       "      <td>NaN</td>\n",
       "      <td>NaN</td>\n",
       "      <td>NaN</td>\n",
       "      <td>NaN</td>\n",
       "      <td>2022.0</td>\n",
       "      <td>NaN</td>\n",
       "      <td>NaN</td>\n",
       "    </tr>\n",
       "    <tr>\n",
       "      <th>757</th>\n",
       "      <td>Kansas</td>\n",
       "      <td>NaN</td>\n",
       "      <td>Geary</td>\n",
       "      <td>Roads</td>\n",
       "      <td>Max tip-height Multiplier</td>\n",
       "      <td>1 + 15.24 meters</td>\n",
       "      <td>Geary County Zoning Regulations</td>\n",
       "      <td>NaN</td>\n",
       "      <td>NaN</td>\n",
       "      <td>NaN</td>\n",
       "      <td>NaN</td>\n",
       "      <td>NaN</td>\n",
       "      <td>2022.0</td>\n",
       "      <td>NaN</td>\n",
       "      <td>NaN</td>\n",
       "    </tr>\n",
       "    <tr>\n",
       "      <th>770</th>\n",
       "      <td>Kansas</td>\n",
       "      <td>NaN</td>\n",
       "      <td>Jefferson</td>\n",
       "      <td>Roads</td>\n",
       "      <td>Max tip-height Multiplier</td>\n",
       "      <td>1 + 15.24 meters</td>\n",
       "      <td>Jefferson County Zoning Regulations</td>\n",
       "      <td>NaN</td>\n",
       "      <td>NaN</td>\n",
       "      <td>NaN</td>\n",
       "      <td>NaN</td>\n",
       "      <td>NaN</td>\n",
       "      <td>2022.0</td>\n",
       "      <td>NaN</td>\n",
       "      <td>NaN</td>\n",
       "    </tr>\n",
       "    <tr>\n",
       "      <th>772</th>\n",
       "      <td>Kansas</td>\n",
       "      <td>NaN</td>\n",
       "      <td>Kearny</td>\n",
       "      <td>Roads</td>\n",
       "      <td>Max tip-height Multiplier</td>\n",
       "      <td>1 + 15.24 meters</td>\n",
       "      <td>Kearny County Zoning Ordinance</td>\n",
       "      <td>NaN</td>\n",
       "      <td>NaN</td>\n",
       "      <td>NaN</td>\n",
       "      <td>NaN</td>\n",
       "      <td>NaN</td>\n",
       "      <td>2022.0</td>\n",
       "      <td>NaN</td>\n",
       "      <td>NaN</td>\n",
       "    </tr>\n",
       "    <tr>\n",
       "      <th>778</th>\n",
       "      <td>Kansas</td>\n",
       "      <td>NaN</td>\n",
       "      <td>Lyon</td>\n",
       "      <td>Roads</td>\n",
       "      <td>Max tip-height Multiplier</td>\n",
       "      <td>1+ 22.86 Meters</td>\n",
       "      <td>Lyon County Wind Energy Ordinance Art. 8 Sec. 808</td>\n",
       "      <td>NaN</td>\n",
       "      <td>Max tip Height Multiplier + ft</td>\n",
       "      <td>22.86</td>\n",
       "      <td>Changed from 22.86 Meters to one times the WECS height plus 22.86 Meters</td>\n",
       "      <td>2008.0</td>\n",
       "      <td>2018.0</td>\n",
       "      <td>2022.0</td>\n",
       "      <td>Changed</td>\n",
       "    </tr>\n",
       "    <tr>\n",
       "      <th>779</th>\n",
       "      <td>Kansas</td>\n",
       "      <td>NaN</td>\n",
       "      <td>Lyon</td>\n",
       "      <td>Transmission</td>\n",
       "      <td>Max tip-height Multiplier</td>\n",
       "      <td>1 + 12.19 Meters</td>\n",
       "      <td>Lyon County Wind Energy Ordinance Art. 8 Sec. 808</td>\n",
       "      <td>NaN</td>\n",
       "      <td>NaN</td>\n",
       "      <td>NaN</td>\n",
       "      <td>NaN</td>\n",
       "      <td>2008.0</td>\n",
       "      <td>2022.0</td>\n",
       "      <td>NaN</td>\n",
       "      <td>NaN</td>\n",
       "    </tr>\n",
       "    <tr>\n",
       "      <th>795</th>\n",
       "      <td>Kansas</td>\n",
       "      <td>NaN</td>\n",
       "      <td>Osage</td>\n",
       "      <td>Roads</td>\n",
       "      <td>Max tip-height Multiplier</td>\n",
       "      <td>1+ 15.24 Meters</td>\n",
       "      <td>Osage County Wind Energy Ordinance Sec 11-102(5)</td>\n",
       "      <td>NaN</td>\n",
       "      <td>NaN</td>\n",
       "      <td>NaN</td>\n",
       "      <td>NaN</td>\n",
       "      <td>2010.0</td>\n",
       "      <td>2022.0</td>\n",
       "      <td>NaN</td>\n",
       "      <td>NaN</td>\n",
       "    </tr>\n",
       "    <tr>\n",
       "      <th>807</th>\n",
       "      <td>Kansas</td>\n",
       "      <td>NaN</td>\n",
       "      <td>Reno</td>\n",
       "      <td>Property Line</td>\n",
       "      <td>Max tip-height Multiplier</td>\n",
       "      <td>1+ 15.24 Meters</td>\n",
       "      <td>Reno County Zoning Ordinance Art. 23 CWECS Regulations</td>\n",
       "      <td>NaN</td>\n",
       "      <td>NaN</td>\n",
       "      <td>NaN</td>\n",
       "      <td>NaN</td>\n",
       "      <td>NaN</td>\n",
       "      <td>2022.0</td>\n",
       "      <td>NaN</td>\n",
       "      <td>NaN</td>\n",
       "    </tr>\n",
       "    <tr>\n",
       "      <th>808</th>\n",
       "      <td>Kansas</td>\n",
       "      <td>NaN</td>\n",
       "      <td>Reno</td>\n",
       "      <td>Roads</td>\n",
       "      <td>Max tip-height Multiplier</td>\n",
       "      <td>1+ 15.24 Meters</td>\n",
       "      <td>Reno County Zoning Ordinance Art. 23 CWECS Regulations</td>\n",
       "      <td>NaN</td>\n",
       "      <td>NaN</td>\n",
       "      <td>NaN</td>\n",
       "      <td>NaN</td>\n",
       "      <td>NaN</td>\n",
       "      <td>2022.0</td>\n",
       "      <td>NaN</td>\n",
       "      <td>NaN</td>\n",
       "    </tr>\n",
       "    <tr>\n",
       "      <th>821</th>\n",
       "      <td>Kansas</td>\n",
       "      <td>NaN</td>\n",
       "      <td>Seward</td>\n",
       "      <td>Roads</td>\n",
       "      <td>Max tip-height Multiplier</td>\n",
       "      <td>1 + 22.86 meters</td>\n",
       "      <td>Seward County Zoning Art. 27</td>\n",
       "      <td>NaN</td>\n",
       "      <td>NaN</td>\n",
       "      <td>NaN</td>\n",
       "      <td>NaN</td>\n",
       "      <td>NaN</td>\n",
       "      <td>2022.0</td>\n",
       "      <td>NaN</td>\n",
       "      <td>NaN</td>\n",
       "    </tr>\n",
       "    <tr>\n",
       "      <th>823</th>\n",
       "      <td>Kansas</td>\n",
       "      <td>NaN</td>\n",
       "      <td>Seward</td>\n",
       "      <td>Transmission</td>\n",
       "      <td>Max tip-height Multiplier</td>\n",
       "      <td>1 + 12.19 Meters</td>\n",
       "      <td>Seward County Zoning Art. 27</td>\n",
       "      <td>NaN</td>\n",
       "      <td>NaN</td>\n",
       "      <td>NaN</td>\n",
       "      <td>NaN</td>\n",
       "      <td>NaN</td>\n",
       "      <td>2022.0</td>\n",
       "      <td>NaN</td>\n",
       "      <td>NaN</td>\n",
       "    </tr>\n",
       "    <tr>\n",
       "      <th>1242</th>\n",
       "      <td>New York</td>\n",
       "      <td>Cohocton Town</td>\n",
       "      <td>NaN</td>\n",
       "      <td>Roads</td>\n",
       "      <td>Max tip-height Multiplier</td>\n",
       "      <td>1 + 30.48 Meters</td>\n",
       "      <td>Cohocton Zoning II. Industrial Windmills</td>\n",
       "      <td>NaN</td>\n",
       "      <td>NaN</td>\n",
       "      <td>NaN</td>\n",
       "      <td>NaN</td>\n",
       "      <td>NaN</td>\n",
       "      <td>2022.0</td>\n",
       "      <td>NaN</td>\n",
       "      <td>NaN</td>\n",
       "    </tr>\n",
       "    <tr>\n",
       "      <th>1243</th>\n",
       "      <td>New York</td>\n",
       "      <td>Cohocton Town</td>\n",
       "      <td>NaN</td>\n",
       "      <td>Property Line</td>\n",
       "      <td>Max tip-height Multiplier</td>\n",
       "      <td>2 + 30.48 Meters</td>\n",
       "      <td>Cohocton Zoning II. Industrial Windmills</td>\n",
       "      <td>NaN</td>\n",
       "      <td>NaN</td>\n",
       "      <td>NaN</td>\n",
       "      <td>NaN</td>\n",
       "      <td>NaN</td>\n",
       "      <td>2022.0</td>\n",
       "      <td>NaN</td>\n",
       "      <td>NaN</td>\n",
       "    </tr>\n",
       "    <tr>\n",
       "      <th>1244</th>\n",
       "      <td>New York</td>\n",
       "      <td>Cohocton Town</td>\n",
       "      <td>NaN</td>\n",
       "      <td>Transmission</td>\n",
       "      <td>Max tip-height Multiplier</td>\n",
       "      <td>3 + 30.48 Meters</td>\n",
       "      <td>Cohocton Zoning II. Industrial Windmills</td>\n",
       "      <td>NaN</td>\n",
       "      <td>NaN</td>\n",
       "      <td>NaN</td>\n",
       "      <td>NaN</td>\n",
       "      <td>NaN</td>\n",
       "      <td>2022.0</td>\n",
       "      <td>NaN</td>\n",
       "      <td>NaN</td>\n",
       "    </tr>\n",
       "    <tr>\n",
       "      <th>1278</th>\n",
       "      <td>New York</td>\n",
       "      <td>Lowville Town</td>\n",
       "      <td>NaN</td>\n",
       "      <td>Roads</td>\n",
       "      <td>Max tip-height Multiplier</td>\n",
       "      <td>1.5 + 76.2 Meters</td>\n",
       "      <td>Lowville Zoning § 100-14 Setbacks for wind energy conversion systems.</td>\n",
       "      <td>NaN</td>\n",
       "      <td>NaN</td>\n",
       "      <td>NaN</td>\n",
       "      <td>NaN</td>\n",
       "      <td>NaN</td>\n",
       "      <td>2022.0</td>\n",
       "      <td>NaN</td>\n",
       "      <td>NaN</td>\n",
       "    </tr>\n",
       "    <tr>\n",
       "      <th>1423</th>\n",
       "      <td>North Dakota</td>\n",
       "      <td>NaN</td>\n",
       "      <td>McLean</td>\n",
       "      <td>Property Line</td>\n",
       "      <td>Max tip-height Multiplier</td>\n",
       "      <td>1 + 22.86 Meters</td>\n",
       "      <td>6.5.11 WIND ENERGY FACILITES</td>\n",
       "      <td>NaN</td>\n",
       "      <td>NaN</td>\n",
       "      <td>NaN</td>\n",
       "      <td>NaN</td>\n",
       "      <td>NaN</td>\n",
       "      <td>2018.0</td>\n",
       "      <td>2022.0</td>\n",
       "      <td>No change</td>\n",
       "    </tr>\n",
       "    <tr>\n",
       "      <th>1424</th>\n",
       "      <td>North Dakota</td>\n",
       "      <td>NaN</td>\n",
       "      <td>McLean</td>\n",
       "      <td>Roads</td>\n",
       "      <td>Max tip-height Multiplier</td>\n",
       "      <td>1 + 22.86 Meters</td>\n",
       "      <td>6.5.11 WIND ENERGY FACILITES</td>\n",
       "      <td>NaN</td>\n",
       "      <td>NaN</td>\n",
       "      <td>NaN</td>\n",
       "      <td>NaN</td>\n",
       "      <td>NaN</td>\n",
       "      <td>2018.0</td>\n",
       "      <td>2022.0</td>\n",
       "      <td>No change</td>\n",
       "    </tr>\n",
       "    <tr>\n",
       "      <th>1433</th>\n",
       "      <td>North Dakota</td>\n",
       "      <td>NaN</td>\n",
       "      <td>Morton</td>\n",
       "      <td>Roads</td>\n",
       "      <td>Max tip-height Multiplier</td>\n",
       "      <td>1 + 22.86 Meters</td>\n",
       "      <td>land development code Section 5-180</td>\n",
       "      <td>NaN</td>\n",
       "      <td>NaN</td>\n",
       "      <td>NaN</td>\n",
       "      <td>NaN</td>\n",
       "      <td>NaN</td>\n",
       "      <td>2022.0</td>\n",
       "      <td>NaN</td>\n",
       "      <td>NaN</td>\n",
       "    </tr>\n",
       "    <tr>\n",
       "      <th>1434</th>\n",
       "      <td>North Dakota</td>\n",
       "      <td>NaN</td>\n",
       "      <td>Morton</td>\n",
       "      <td>Transmission</td>\n",
       "      <td>Max tip-height Multiplier</td>\n",
       "      <td>1 + 22.86 Meters</td>\n",
       "      <td>land development code Section 5-180</td>\n",
       "      <td>NaN</td>\n",
       "      <td>NaN</td>\n",
       "      <td>NaN</td>\n",
       "      <td>NaN</td>\n",
       "      <td>NaN</td>\n",
       "      <td>2022.0</td>\n",
       "      <td>NaN</td>\n",
       "      <td>NaN</td>\n",
       "    </tr>\n",
       "    <tr>\n",
       "      <th>1441</th>\n",
       "      <td>North Dakota</td>\n",
       "      <td>NaN</td>\n",
       "      <td>Oliver</td>\n",
       "      <td>Roads</td>\n",
       "      <td>Max tip-height Multiplier</td>\n",
       "      <td>1 + 22.86 Meters</td>\n",
       "      <td>Section 14 wind energy facilities</td>\n",
       "      <td>NaN</td>\n",
       "      <td>NaN</td>\n",
       "      <td>NaN</td>\n",
       "      <td>NaN</td>\n",
       "      <td>NaN</td>\n",
       "      <td>2022.0</td>\n",
       "      <td>NaN</td>\n",
       "      <td>NaN</td>\n",
       "    </tr>\n",
       "    <tr>\n",
       "      <th>1442</th>\n",
       "      <td>North Dakota</td>\n",
       "      <td>NaN</td>\n",
       "      <td>Oliver</td>\n",
       "      <td>Transmission</td>\n",
       "      <td>Max tip-height Multiplier</td>\n",
       "      <td>1 + 22.86 Meters</td>\n",
       "      <td>Section 14 wind energy facilities</td>\n",
       "      <td>NaN</td>\n",
       "      <td>NaN</td>\n",
       "      <td>NaN</td>\n",
       "      <td>NaN</td>\n",
       "      <td>NaN</td>\n",
       "      <td>2022.0</td>\n",
       "      <td>NaN</td>\n",
       "      <td>NaN</td>\n",
       "    </tr>\n",
       "  </tbody>\n",
       "</table>\n",
       "</div>"
      ],
      "text/plain": [
       "             State      City/Town     County   Feature Type  \\\n",
       "102       Colorado            NaN     Elbert  Property Line   \n",
       "738         Kansas            NaN   Crawford          Roads   \n",
       "757         Kansas            NaN      Geary          Roads   \n",
       "770         Kansas            NaN  Jefferson          Roads   \n",
       "772         Kansas            NaN     Kearny          Roads   \n",
       "778         Kansas            NaN       Lyon          Roads   \n",
       "779         Kansas            NaN       Lyon   Transmission   \n",
       "795         Kansas            NaN      Osage          Roads   \n",
       "807         Kansas            NaN       Reno  Property Line   \n",
       "808         Kansas            NaN       Reno          Roads   \n",
       "821         Kansas            NaN     Seward          Roads   \n",
       "823         Kansas            NaN     Seward   Transmission   \n",
       "1242      New York  Cohocton Town        NaN          Roads   \n",
       "1243      New York  Cohocton Town        NaN  Property Line   \n",
       "1244      New York  Cohocton Town        NaN   Transmission   \n",
       "1278      New York  Lowville Town        NaN          Roads   \n",
       "1423  North Dakota            NaN     McLean  Property Line   \n",
       "1424  North Dakota            NaN     McLean          Roads   \n",
       "1433  North Dakota            NaN     Morton          Roads   \n",
       "1434  North Dakota            NaN     Morton   Transmission   \n",
       "1441  North Dakota            NaN     Oliver          Roads   \n",
       "1442  North Dakota            NaN     Oliver   Transmission   \n",
       "\n",
       "                     Value Type              Value  \\\n",
       "102   Max tip-height Multiplier          1 + 25 ft   \n",
       "738   Max tip-height Multiplier   1 + 15.24 meters   \n",
       "757   Max tip-height Multiplier   1 + 15.24 meters   \n",
       "770   Max tip-height Multiplier   1 + 15.24 meters   \n",
       "772   Max tip-height Multiplier   1 + 15.24 meters   \n",
       "778   Max tip-height Multiplier    1+ 22.86 Meters   \n",
       "779   Max tip-height Multiplier   1 + 12.19 Meters   \n",
       "795   Max tip-height Multiplier    1+ 15.24 Meters   \n",
       "807   Max tip-height Multiplier    1+ 15.24 Meters   \n",
       "808   Max tip-height Multiplier    1+ 15.24 Meters   \n",
       "821   Max tip-height Multiplier   1 + 22.86 meters   \n",
       "823   Max tip-height Multiplier   1 + 12.19 Meters   \n",
       "1242  Max tip-height Multiplier   1 + 30.48 Meters   \n",
       "1243  Max tip-height Multiplier   2 + 30.48 Meters   \n",
       "1244  Max tip-height Multiplier   3 + 30.48 Meters   \n",
       "1278  Max tip-height Multiplier  1.5 + 76.2 Meters   \n",
       "1423  Max tip-height Multiplier   1 + 22.86 Meters   \n",
       "1424  Max tip-height Multiplier   1 + 22.86 Meters   \n",
       "1433  Max tip-height Multiplier   1 + 22.86 Meters   \n",
       "1434  Max tip-height Multiplier   1 + 22.86 Meters   \n",
       "1441  Max tip-height Multiplier   1 + 22.86 Meters   \n",
       "1442  Max tip-height Multiplier   1 + 22.86 Meters   \n",
       "\n",
       "                                                                   Citation  \\\n",
       "102                            Elbert County Zoning Regulations Art. 5 § 26   \n",
       "738                                          Crawford County Zoning Art. 16   \n",
       "757                                         Geary County Zoning Regulations   \n",
       "770                                     Jefferson County Zoning Regulations   \n",
       "772                                          Kearny County Zoning Ordinance   \n",
       "778                       Lyon County Wind Energy Ordinance Art. 8 Sec. 808   \n",
       "779                       Lyon County Wind Energy Ordinance Art. 8 Sec. 808   \n",
       "795                        Osage County Wind Energy Ordinance Sec 11-102(5)   \n",
       "807                  Reno County Zoning Ordinance Art. 23 CWECS Regulations   \n",
       "808                  Reno County Zoning Ordinance Art. 23 CWECS Regulations   \n",
       "821                                            Seward County Zoning Art. 27   \n",
       "823                                            Seward County Zoning Art. 27   \n",
       "1242                               Cohocton Zoning II. Industrial Windmills   \n",
       "1243                               Cohocton Zoning II. Industrial Windmills   \n",
       "1244                               Cohocton Zoning II. Industrial Windmills   \n",
       "1278  Lowville Zoning § 100-14 Setbacks for wind energy conversion systems.   \n",
       "1423                                          6.5.11 WIND ENERGY FACILITES    \n",
       "1424                                          6.5.11 WIND ENERGY FACILITES    \n",
       "1433                                    land development code Section 5-180   \n",
       "1434                                    land development code Section 5-180   \n",
       "1441                                      Section 14 wind energy facilities   \n",
       "1442                                      Section 14 wind energy facilities   \n",
       "\n",
       "     Comment                    Updated Type  Updated Value  \\\n",
       "102      NaN                             NaN            NaN   \n",
       "738      NaN                             NaN            NaN   \n",
       "757      NaN                             NaN            NaN   \n",
       "770      NaN                             NaN            NaN   \n",
       "772      NaN                             NaN            NaN   \n",
       "778      NaN  Max tip Height Multiplier + ft          22.86   \n",
       "779      NaN                             NaN            NaN   \n",
       "795      NaN                             NaN            NaN   \n",
       "807      NaN                             NaN            NaN   \n",
       "808      NaN                             NaN            NaN   \n",
       "821      NaN                             NaN            NaN   \n",
       "823      NaN                             NaN            NaN   \n",
       "1242     NaN                             NaN            NaN   \n",
       "1243     NaN                             NaN            NaN   \n",
       "1244     NaN                             NaN            NaN   \n",
       "1278     NaN                             NaN            NaN   \n",
       "1423     NaN                             NaN            NaN   \n",
       "1424     NaN                             NaN            NaN   \n",
       "1433     NaN                             NaN            NaN   \n",
       "1434     NaN                             NaN            NaN   \n",
       "1441     NaN                             NaN            NaN   \n",
       "1442     NaN                             NaN            NaN   \n",
       "\n",
       "                                                               Updated Comment  \\\n",
       "102                                                                        NaN   \n",
       "738                                                                        NaN   \n",
       "757                                                                        NaN   \n",
       "770                                                                        NaN   \n",
       "772                                                                        NaN   \n",
       "778   Changed from 22.86 Meters to one times the WECS height plus 22.86 Meters   \n",
       "779                                                                        NaN   \n",
       "795                                                                        NaN   \n",
       "807                                                                        NaN   \n",
       "808                                                                        NaN   \n",
       "821                                                                        NaN   \n",
       "823                                                                        NaN   \n",
       "1242                                                                       NaN   \n",
       "1243                                                                       NaN   \n",
       "1244                                                                       NaN   \n",
       "1278                                                                       NaN   \n",
       "1423                                                                       NaN   \n",
       "1424                                                                       NaN   \n",
       "1433                                                                       NaN   \n",
       "1434                                                                       NaN   \n",
       "1441                                                                       NaN   \n",
       "1442                                                                       NaN   \n",
       "\n",
       "      Ordinance Year  Original Captured Date  New Capture Date Update Status  \n",
       "102              NaN                  2021.0               NaN           NaN  \n",
       "738              NaN                  2022.0               NaN           NaN  \n",
       "757              NaN                  2022.0               NaN           NaN  \n",
       "770              NaN                  2022.0               NaN           NaN  \n",
       "772              NaN                  2022.0               NaN           NaN  \n",
       "778           2008.0                  2018.0            2022.0      Changed   \n",
       "779           2008.0                  2022.0               NaN           NaN  \n",
       "795           2010.0                  2022.0               NaN           NaN  \n",
       "807              NaN                  2022.0               NaN           NaN  \n",
       "808              NaN                  2022.0               NaN           NaN  \n",
       "821              NaN                  2022.0               NaN           NaN  \n",
       "823              NaN                  2022.0               NaN           NaN  \n",
       "1242             NaN                  2022.0               NaN           NaN  \n",
       "1243             NaN                  2022.0               NaN           NaN  \n",
       "1244             NaN                  2022.0               NaN           NaN  \n",
       "1278             NaN                  2022.0               NaN           NaN  \n",
       "1423             NaN                  2018.0            2022.0     No change  \n",
       "1424             NaN                  2018.0            2022.0     No change  \n",
       "1433             NaN                  2022.0               NaN           NaN  \n",
       "1434             NaN                  2022.0               NaN           NaN  \n",
       "1441             NaN                  2022.0               NaN           NaN  \n",
       "1442             NaN                  2022.0               NaN           NaN  "
      ]
     },
     "execution_count": 167,
     "metadata": {},
     "output_type": "execute_result"
    }
   ],
   "source": [
    "wind.loc[wind['Value'].str.contains('\\+').fillna(False),:]"
   ]
  },
  {
   "cell_type": "code",
   "execution_count": 61,
   "id": "c6118cfb-33f3-42dc-9cb0-5c2b90ddcba3",
   "metadata": {},
   "outputs": [
    {
     "data": {
      "text/plain": [
       "sum     2.000000\n",
       "mean    0.001091\n",
       "Name: Value, dtype: float64"
      ]
     },
     "execution_count": 61,
     "metadata": {},
     "output_type": "execute_result"
    }
   ],
   "source": [
    "wind['Value'].str.contains('or less').fillna(False).agg(['sum', 'mean'])"
   ]
  },
  {
   "cell_type": "code",
   "execution_count": 59,
   "id": "2dfe1377-d30c-46d3-863d-45af06dff3a1",
   "metadata": {},
   "outputs": [
    {
     "data": {
      "text/plain": [
       "0         NaN\n",
       "1        40.0\n",
       "2       782.0\n",
       "3         1.5\n",
       "4        40.0\n",
       "        ...  \n",
       "1828     45.0\n",
       "1829      1.1\n",
       "1830      1.1\n",
       "1831      5.5\n",
       "1832      5.5\n",
       "Name: Value, Length: 1803, dtype: float64"
      ]
     },
     "execution_count": 59,
     "metadata": {},
     "output_type": "execute_result"
    }
   ],
   "source": [
    "# all the rest work\n",
    "pd.to_numeric(wind.loc[~wind['Value'].str.contains('/|\\+|or less').fillna(False), \"Value\"])"
   ]
  },
  {
   "cell_type": "code",
   "execution_count": 63,
   "id": "5349c347-4010-40e4-96fa-bf93eaa081ab",
   "metadata": {},
   "outputs": [
    {
     "data": {
      "text/plain": [
       "sum     5.000000\n",
       "mean    0.005967\n",
       "Name: Value, dtype: float64"
      ]
     },
     "execution_count": 63,
     "metadata": {},
     "output_type": "execute_result"
    }
   ],
   "source": [
    "solar['Value'].str.contains('/').fillna(False).agg(['sum', 'mean'])"
   ]
  },
  {
   "cell_type": "code",
   "execution_count": 65,
   "id": "14c749d4-3eea-4039-934c-bacd3674dacb",
   "metadata": {},
   "outputs": [
    {
     "data": {
      "text/plain": [
       "sum     1.000000\n",
       "mean    0.001193\n",
       "Name: Value, dtype: float64"
      ]
     },
     "execution_count": 65,
     "metadata": {},
     "output_type": "execute_result"
    }
   ],
   "source": [
    "solar['Value'].str.contains('-').fillna(False).agg(['sum', 'mean'])"
   ]
  },
  {
   "cell_type": "code",
   "execution_count": 66,
   "id": "3b6dfd3c-24ad-4add-8502-ad8f5f9a8c7e",
   "metadata": {},
   "outputs": [
    {
     "data": {
      "text/plain": [
       "0       2.000\n",
       "1       6.100\n",
       "2      23.000\n",
       "3       6.100\n",
       "4         NaN\n",
       "        ...  \n",
       "833    60.960\n",
       "834    30.480\n",
       "835     4.572\n",
       "836    10.000\n",
       "837     4.572\n",
       "Name: Value, Length: 832, dtype: float64"
      ]
     },
     "execution_count": 66,
     "metadata": {},
     "output_type": "execute_result"
    }
   ],
   "source": [
    "# all the rest are numeric\n",
    "pd.to_numeric(solar.loc[~solar['Value'].str.contains('/|-').fillna(False), \"Value\"])"
   ]
  },
  {
   "cell_type": "code",
   "execution_count": 172,
   "id": "7c97410d-5e3c-4a13-a3fd-0df85773b0cc",
   "metadata": {},
   "outputs": [
    {
     "data": {
      "text/html": [
       "<div>\n",
       "<style scoped>\n",
       "    .dataframe tbody tr th:only-of-type {\n",
       "        vertical-align: middle;\n",
       "    }\n",
       "\n",
       "    .dataframe tbody tr th {\n",
       "        vertical-align: top;\n",
       "    }\n",
       "\n",
       "    .dataframe thead th {\n",
       "        text-align: right;\n",
       "    }\n",
       "</style>\n",
       "<table border=\"1\" class=\"dataframe\">\n",
       "  <thead>\n",
       "    <tr style=\"text-align: right;\">\n",
       "      <th></th>\n",
       "      <th>State</th>\n",
       "      <th>City/Town</th>\n",
       "      <th>County</th>\n",
       "      <th>Feature Type</th>\n",
       "      <th>Value Type</th>\n",
       "      <th>Value</th>\n",
       "      <th>Citation</th>\n",
       "      <th>Comment</th>\n",
       "      <th>Updated Type</th>\n",
       "      <th>Updated Value</th>\n",
       "      <th>Updated Comment</th>\n",
       "      <th>Ordinance Year</th>\n",
       "      <th>Original Captured Date</th>\n",
       "      <th>New Capture Date</th>\n",
       "      <th>Update Status</th>\n",
       "    </tr>\n",
       "  </thead>\n",
       "  <tbody>\n",
       "    <tr>\n",
       "      <th>52</th>\n",
       "      <td>Florida</td>\n",
       "      <td>NaN</td>\n",
       "      <td>Leon</td>\n",
       "      <td>Property Line</td>\n",
       "      <td>Meters</td>\n",
       "      <td>22.86/60.96</td>\n",
       "      <td>Leon County Land Development Code § 10-6.820</td>\n",
       "      <td>75' setback if facility is less than 50 acres, 200' if greater than 50 acres</td>\n",
       "      <td>NaN</td>\n",
       "      <td>NaN</td>\n",
       "      <td>NaN</td>\n",
       "      <td>NaN</td>\n",
       "      <td>2021.0</td>\n",
       "      <td>NaN</td>\n",
       "      <td>NaN</td>\n",
       "    </tr>\n",
       "    <tr>\n",
       "      <th>53</th>\n",
       "      <td>Florida</td>\n",
       "      <td>NaN</td>\n",
       "      <td>Leon</td>\n",
       "      <td>Roads</td>\n",
       "      <td>Meters</td>\n",
       "      <td>22.86/60.96</td>\n",
       "      <td>Leon County Land Development Code § 10-6.820</td>\n",
       "      <td>See above</td>\n",
       "      <td>NaN</td>\n",
       "      <td>NaN</td>\n",
       "      <td>NaN</td>\n",
       "      <td>NaN</td>\n",
       "      <td>2021.0</td>\n",
       "      <td>NaN</td>\n",
       "      <td>NaN</td>\n",
       "    </tr>\n",
       "    <tr>\n",
       "      <th>54</th>\n",
       "      <td>Florida</td>\n",
       "      <td>NaN</td>\n",
       "      <td>Leon</td>\n",
       "      <td>Structures</td>\n",
       "      <td>Meters</td>\n",
       "      <td>22.86/60.96</td>\n",
       "      <td>Leon County Land Development Code § 10-6.820</td>\n",
       "      <td>See above</td>\n",
       "      <td>NaN</td>\n",
       "      <td>NaN</td>\n",
       "      <td>NaN</td>\n",
       "      <td>NaN</td>\n",
       "      <td>2021.0</td>\n",
       "      <td>NaN</td>\n",
       "      <td>NaN</td>\n",
       "    </tr>\n",
       "    <tr>\n",
       "      <th>60</th>\n",
       "      <td>Florida</td>\n",
       "      <td>NaN</td>\n",
       "      <td>Palm Beach</td>\n",
       "      <td>Property Line</td>\n",
       "      <td>Meters</td>\n",
       "      <td>7.62/5</td>\n",
       "      <td>Palm Beach Unified Development Land Code § 7(C)(8)</td>\n",
       "      <td>25 foot setback if lot size is greater than 50 Acres/15' if less than 50 acres</td>\n",
       "      <td>NaN</td>\n",
       "      <td>NaN</td>\n",
       "      <td>NaN</td>\n",
       "      <td>NaN</td>\n",
       "      <td>2021.0</td>\n",
       "      <td>NaN</td>\n",
       "      <td>NaN</td>\n",
       "    </tr>\n",
       "    <tr>\n",
       "      <th>730</th>\n",
       "      <td>Utah</td>\n",
       "      <td>NaN</td>\n",
       "      <td>Kane</td>\n",
       "      <td>Sound</td>\n",
       "      <td>dBA</td>\n",
       "      <td>65/50</td>\n",
       "      <td>Kane County Code Ords. § 9-24-3</td>\n",
       "      <td>65 db at property line; 50 db at nearest residence</td>\n",
       "      <td>NaN</td>\n",
       "      <td>NaN</td>\n",
       "      <td>NaN</td>\n",
       "      <td>2013.0</td>\n",
       "      <td>NaN</td>\n",
       "      <td>NaN</td>\n",
       "      <td>NaN</td>\n",
       "    </tr>\n",
       "    <tr>\n",
       "      <th>821</th>\n",
       "      <td>Washington</td>\n",
       "      <td>NaN</td>\n",
       "      <td>Klickitat</td>\n",
       "      <td>Structures</td>\n",
       "      <td>Meters</td>\n",
       "      <td>152.4 - 457.2</td>\n",
       "      <td>Klickitat County Code Ords. § 19.39:8</td>\n",
       "      <td>Range of setbacks ranging from 500-1500 feet based on geographic factors</td>\n",
       "      <td>NaN</td>\n",
       "      <td>NaN</td>\n",
       "      <td>NaN</td>\n",
       "      <td>2010.0</td>\n",
       "      <td>NaN</td>\n",
       "      <td>NaN</td>\n",
       "      <td>NaN</td>\n",
       "    </tr>\n",
       "  </tbody>\n",
       "</table>\n",
       "</div>"
      ],
      "text/plain": [
       "          State City/Town       County   Feature Type Value Type          Value                                            Citation                                                                         Comment  Updated Type  Updated Value  Updated Comment  Ordinance Year  Original Captured Date  New Capture Date  Update Status\n",
       "52     Florida        NaN         Leon  Property Line    Meters     22.86/60.96        Leon County Land Development Code § 10-6.820   75' setback if facility is less than 50 acres, 200' if greater than 50 acres            NaN            NaN              NaN             NaN                  2021.0               NaN            NaN\n",
       "53     Florida        NaN         Leon          Roads     Meters    22.86/60.96        Leon County Land Development Code § 10-6.820                                                                       See above           NaN            NaN              NaN             NaN                  2021.0               NaN            NaN\n",
       "54     Florida        NaN         Leon     Structures     Meters    22.86/60.96        Leon County Land Development Code § 10-6.820                                                                       See above           NaN            NaN              NaN             NaN                  2021.0               NaN            NaN\n",
       "60     Florida        NaN  Palm Beach   Property Line     Meters         7.62/5  Palm Beach Unified Development Land Code § 7(C)(8)  25 foot setback if lot size is greater than 50 Acres/15' if less than 50 acres           NaN            NaN              NaN             NaN                  2021.0               NaN            NaN\n",
       "730        Utah       NaN         Kane          Sound        dBA          65/50                     Kane County Code Ords. § 9-24-3                             65 db at property line; 50 db at nearest residence            NaN            NaN              NaN          2013.0                     NaN               NaN            NaN\n",
       "821  Washington       NaN    Klickitat     Structures     Meters  152.4 - 457.2              Klickitat County Code Ords. § 19.39:8        Range of setbacks ranging from 500-1500 feet based on geographic factors            NaN            NaN              NaN          2010.0                     NaN               NaN            NaN"
      ]
     },
     "execution_count": 172,
     "metadata": {},
     "output_type": "execute_result"
    }
   ],
   "source": [
    "# all the rest are numeric\n",
    "(solar.loc[solar['Value'].str.contains('/|-').fillna(False), :])"
   ]
  },
  {
   "cell_type": "markdown",
   "id": "e49c0492-6a41-41a5-a804-8534fb45a99f",
   "metadata": {
    "tags": []
   },
   "source": [
    "#### Ordinance Year\n",
    "all numeric"
   ]
  },
  {
   "cell_type": "code",
   "execution_count": 79,
   "id": "d54ab932-6cda-42eb-8060-49b20e0eb553",
   "metadata": {
    "tags": []
   },
   "outputs": [
    {
     "data": {
      "text/plain": [
       "0      NaT\n",
       "1      NaT\n",
       "2      NaT\n",
       "3      NaT\n",
       "4      NaT\n",
       "        ..\n",
       "1828   NaT\n",
       "1829   NaT\n",
       "1830   NaT\n",
       "1831   NaT\n",
       "1832   NaT\n",
       "Name: Ordinance Year, Length: 1833, dtype: datetime64[ns]"
      ]
     },
     "execution_count": 79,
     "metadata": {},
     "output_type": "execute_result"
    }
   ],
   "source": [
    "# All valid years or missing\n",
    "pd.to_datetime(wind['Ordinance Year'], format='%Y')"
   ]
  },
  {
   "cell_type": "code",
   "execution_count": 80,
   "id": "d2c99ce0-d69a-40d8-a11a-1e3b36dd37fb",
   "metadata": {
    "tags": []
   },
   "outputs": [
    {
     "data": {
      "text/plain": [
       "0     NaT\n",
       "1     NaT\n",
       "2     NaT\n",
       "3     NaT\n",
       "4     NaT\n",
       "       ..\n",
       "833   NaT\n",
       "834   NaT\n",
       "835   NaT\n",
       "836   NaT\n",
       "837   NaT\n",
       "Name: Ordinance Year, Length: 838, dtype: datetime64[ns]"
      ]
     },
     "execution_count": 80,
     "metadata": {},
     "output_type": "execute_result"
    }
   ],
   "source": [
    "# All valid years or missing\n",
    "pd.to_datetime(solar['Ordinance Year'], format='%Y')"
   ]
  },
  {
   "cell_type": "markdown",
   "id": "400eb1bb-f7cd-490e-862c-2825d5a39a2e",
   "metadata": {
    "jp-MarkdownHeadingCollapsed": true,
    "tags": []
   },
   "source": [
    "#### Original Captured Date\n"
   ]
  },
  {
   "cell_type": "code",
   "execution_count": 74,
   "id": "2c6dcc38-f955-46f1-8266-e3e89a69c88b",
   "metadata": {
    "tags": []
   },
   "outputs": [
    {
     "data": {
      "text/plain": [
       "0      2018-01-01\n",
       "1      2021-01-01\n",
       "2      2021-01-01\n",
       "3      2021-01-01\n",
       "4      2021-01-01\n",
       "          ...    \n",
       "1828   2022-01-01\n",
       "1829   2022-01-01\n",
       "1830   2022-01-01\n",
       "1831   2022-01-01\n",
       "1832   2022-01-01\n",
       "Name: Original Captured Date, Length: 1833, dtype: datetime64[ns]"
      ]
     },
     "execution_count": 74,
     "metadata": {},
     "output_type": "execute_result"
    }
   ],
   "source": [
    "# All valid years or missing\n",
    "pd.to_datetime(wind['Original Captured Date'], format=\"%Y\")"
   ]
  },
  {
   "cell_type": "code",
   "execution_count": 75,
   "id": "ee4c6ade-5aca-46a3-b2c3-06163912c611",
   "metadata": {
    "tags": []
   },
   "outputs": [
    {
     "data": {
      "text/plain": [
       "0     2021-01-01\n",
       "1     2021-01-01\n",
       "2     2021-01-01\n",
       "3     2021-01-01\n",
       "4     2021-01-01\n",
       "         ...    \n",
       "833          NaT\n",
       "834          NaT\n",
       "835          NaT\n",
       "836          NaT\n",
       "837          NaT\n",
       "Name: Original Captured Date, Length: 838, dtype: datetime64[ns]"
      ]
     },
     "execution_count": 75,
     "metadata": {},
     "output_type": "execute_result"
    }
   ],
   "source": [
    "# All valid years or missing\n",
    "pd.to_datetime(solar['Original Captured Date'], format=\"%Y\")"
   ]
  },
  {
   "cell_type": "markdown",
   "id": "34789f90-a423-4629-ab3c-b73ed947d9e7",
   "metadata": {
    "jp-MarkdownHeadingCollapsed": true,
    "tags": []
   },
   "source": [
    "#### New Capture Date"
   ]
  },
  {
   "cell_type": "code",
   "execution_count": 76,
   "id": "8748cc54-afb0-46e3-b765-bc908aa05e32",
   "metadata": {
    "tags": []
   },
   "outputs": [
    {
     "data": {
      "text/plain": [
       "0      NaT\n",
       "1      NaT\n",
       "2      NaT\n",
       "3      NaT\n",
       "4      NaT\n",
       "        ..\n",
       "1828   NaT\n",
       "1829   NaT\n",
       "1830   NaT\n",
       "1831   NaT\n",
       "1832   NaT\n",
       "Name: New Capture Date, Length: 1833, dtype: datetime64[ns]"
      ]
     },
     "execution_count": 76,
     "metadata": {},
     "output_type": "execute_result"
    }
   ],
   "source": [
    "# All valid years or missing\n",
    "pd.to_datetime(wind['New Capture Date'], format=\"%Y\")"
   ]
  },
  {
   "cell_type": "code",
   "execution_count": 77,
   "id": "84acbfda-df5d-44f1-8ea2-7519d5b45b21",
   "metadata": {
    "tags": []
   },
   "outputs": [
    {
     "data": {
      "text/plain": [
       "0     NaT\n",
       "1     NaT\n",
       "2     NaT\n",
       "3     NaT\n",
       "4     NaT\n",
       "       ..\n",
       "833   NaT\n",
       "834   NaT\n",
       "835   NaT\n",
       "836   NaT\n",
       "837   NaT\n",
       "Name: New Capture Date, Length: 838, dtype: datetime64[ns]"
      ]
     },
     "execution_count": 77,
     "metadata": {},
     "output_type": "execute_result"
    }
   ],
   "source": [
    "# All valid years or missing\n",
    "pd.to_datetime(solar['New Capture Date'], format=\"%Y\")"
   ]
  },
  {
   "cell_type": "markdown",
   "id": "4bdf929e-869c-4020-b68c-2ec9efdf306e",
   "metadata": {
    "tags": []
   },
   "source": [
    "## Range Validation"
   ]
  },
  {
   "cell_type": "markdown",
   "id": "2f49d99a-9f59-4b2a-9247-719083256059",
   "metadata": {
    "jp-MarkdownHeadingCollapsed": true,
    "tags": []
   },
   "source": [
    "#### Ordinance Year"
   ]
  },
  {
   "cell_type": "code",
   "execution_count": 81,
   "id": "f82561ba-ddcd-4eed-babe-f3468f28bf43",
   "metadata": {
    "tags": []
   },
   "outputs": [
    {
     "data": {
      "text/plain": [
       "<AxesSubplot: >"
      ]
     },
     "execution_count": 81,
     "metadata": {},
     "output_type": "execute_result"
    },
    {
     "data": {
      "image/png": "[encoded data removed]",
      "text/plain": [
       "<Figure size 640x480 with 1 Axes>"
      ]
     },
     "metadata": {},
     "output_type": "display_data"
    }
   ],
   "source": [
    "# All valid years or missing\n",
    "pd.to_datetime(wind['Ordinance Year'], format='%Y').dt.year.hist()"
   ]
  },
  {
   "cell_type": "code",
   "execution_count": 82,
   "id": "afce08b3-aa8a-43ff-b819-6a8cc1c96ee1",
   "metadata": {
    "tags": []
   },
   "outputs": [
    {
     "data": {
      "text/plain": [
       "<AxesSubplot: >"
      ]
     },
     "execution_count": 82,
     "metadata": {},
     "output_type": "execute_result"
    },
    {
     "data": {
      "image/png": "[encoded data removed]",
      "text/plain": [
       "<Figure size 640x480 with 1 Axes>"
      ]
     },
     "metadata": {},
     "output_type": "display_data"
    }
   ],
   "source": [
    "# All valid years or missing\n",
    "pd.to_datetime(solar['Ordinance Year'], format='%Y').dt.year.hist()"
   ]
  },
  {
   "cell_type": "markdown",
   "id": "225473d5-ecdf-4eae-87db-181782c819ba",
   "metadata": {
    "jp-MarkdownHeadingCollapsed": true,
    "tags": []
   },
   "source": [
    "#### Original Captured Date\n"
   ]
  },
  {
   "cell_type": "code",
   "execution_count": 83,
   "id": "3f64cd9e-6e5f-488f-826a-bc96cc2ca569",
   "metadata": {
    "tags": []
   },
   "outputs": [
    {
     "data": {
      "text/plain": [
       "<AxesSubplot: >"
      ]
     },
     "execution_count": 83,
     "metadata": {},
     "output_type": "execute_result"
    },
    {
     "data": {
      "image/png": "[encoded data removed]",
      "text/plain": [
       "<Figure size 640x480 with 1 Axes>"
      ]
     },
     "metadata": {},
     "output_type": "display_data"
    }
   ],
   "source": [
    "# All valid years or missing\n",
    "pd.to_datetime(wind['Original Captured Date'], format=\"%Y\").dt.year.hist()"
   ]
  },
  {
   "cell_type": "code",
   "execution_count": 84,
   "id": "c1c7c019-dfb2-49fd-a358-a14814c314ce",
   "metadata": {
    "tags": []
   },
   "outputs": [
    {
     "data": {
      "text/plain": [
       "<AxesSubplot: >"
      ]
     },
     "execution_count": 84,
     "metadata": {},
     "output_type": "execute_result"
    },
    {
     "data": {
      "image/png": "[encoded data removed]",
      "text/plain": [
       "<Figure size 640x480 with 1 Axes>"
      ]
     },
     "metadata": {},
     "output_type": "display_data"
    }
   ],
   "source": [
    "# All valid years or missing\n",
    "pd.to_datetime(solar['Original Captured Date'], format=\"%Y\").dt.year.hist()"
   ]
  },
  {
   "cell_type": "markdown",
   "id": "30f29316-dab1-410c-9979-74edbb8eacbb",
   "metadata": {
    "jp-MarkdownHeadingCollapsed": true,
    "tags": []
   },
   "source": [
    "#### New Capture Date"
   ]
  },
  {
   "cell_type": "code",
   "execution_count": 85,
   "id": "661310e5-ad00-4888-8b61-e2ff6c590b29",
   "metadata": {
    "tags": []
   },
   "outputs": [
    {
     "data": {
      "text/plain": [
       "<AxesSubplot: >"
      ]
     },
     "execution_count": 85,
     "metadata": {},
     "output_type": "execute_result"
    },
    {
     "data": {
      "image/png": "[encoded data removed]",
      "text/plain": [
       "<Figure size 640x480 with 1 Axes>"
      ]
     },
     "metadata": {},
     "output_type": "display_data"
    }
   ],
   "source": [
    "# All valid years or missing\n",
    "pd.to_datetime(wind['New Capture Date'], format=\"%Y\").dt.year.hist()"
   ]
  },
  {
   "cell_type": "code",
   "execution_count": 86,
   "id": "7f7aa617-76f8-4ca4-94a1-3af68487c6e4",
   "metadata": {
    "tags": []
   },
   "outputs": [
    {
     "data": {
      "text/plain": [
       "<AxesSubplot: >"
      ]
     },
     "execution_count": 86,
     "metadata": {},
     "output_type": "execute_result"
    },
    {
     "data": {
      "image/png": "[encoded data removed]",
      "text/plain": [
       "<Figure size 640x480 with 1 Axes>"
      ]
     },
     "metadata": {},
     "output_type": "display_data"
    }
   ],
   "source": [
    "# All valid years or missing\n",
    "pd.to_datetime(solar['New Capture Date'], format=\"%Y\").dt.year.hist()"
   ]
  },
  {
   "cell_type": "markdown",
   "id": "59605879-981d-4561-a643-b92a131b1a74",
   "metadata": {
    "jp-MarkdownHeadingCollapsed": true,
    "tags": []
   },
   "source": [
    "#### Value"
   ]
  },
  {
   "cell_type": "code",
   "execution_count": 88,
   "id": "316c4bf3-7d3a-4bc0-82b5-7bc80d0403d8",
   "metadata": {},
   "outputs": [
    {
     "data": {
      "text/plain": [
       "<AxesSubplot: >"
      ]
     },
     "execution_count": 88,
     "metadata": {},
     "output_type": "execute_result"
    },
    {
     "data": {
      "image/png": "[encoded data removed]",
      "text/plain": [
       "<Figure size 640x480 with 1 Axes>"
      ]
     },
     "metadata": {},
     "output_type": "display_data"
    }
   ],
   "source": [
    "# ignore the handful of weird values for now\n",
    "pd.to_numeric(wind.loc[~wind['Value'].str.contains('/|\\+|or less').fillna(False), \"Value\"]).hist(bins=100)"
   ]
  },
  {
   "cell_type": "code",
   "execution_count": 89,
   "id": "b25f939c-d93e-4d17-a400-a9971415aa8e",
   "metadata": {},
   "outputs": [
    {
     "data": {
      "text/plain": [
       "<AxesSubplot: >"
      ]
     },
     "execution_count": 89,
     "metadata": {},
     "output_type": "execute_result"
    },
    {
     "data": {
      "image/png": "[encoded data removed]",
      "text/plain": [
       "<Figure size 640x480 with 1 Axes>"
      ]
     },
     "metadata": {},
     "output_type": "display_data"
    }
   ],
   "source": [
    "# ignore the handful of weird values for now\n",
    "pd.to_numeric(solar.loc[~solar['Value'].str.contains('/|-').fillna(False), \"Value\"]).hist(bins=50)"
   ]
  },
  {
   "cell_type": "markdown",
   "id": "faf5f9eb-c00d-48c0-a3ca-2ae4ff874279",
   "metadata": {
    "tags": []
   },
   "source": [
    "## Cross-Field Validation\n",
    "New Capture Date >= Original Capture Date >= Ordinance Year\n",
    "* poor date modeling by NREL makes these values hard to interpret\n",
    "* Some \"Original Capture Date\"s are less than \"Ordinance Year\" even when \"New Capture Date\" is null, indicating no update has occured.\n",
    "* wind: some Ordinance year appear to have been updated (between orignal and new capture dates) even though there are no entries for other update columns"
   ]
  },
  {
   "cell_type": "code",
   "execution_count": 140,
   "id": "ede419fe-26a1-4347-8557-ef7599d84270",
   "metadata": {
    "tags": []
   },
   "outputs": [],
   "source": [
    "# fill with dates that satisfy the condition. This is because comparisions with NaN output False, but I want them to produce True\n",
    "ord_yr_wind = pd.to_datetime(wind['Ordinance Year'], format='%Y').fillna(pd.Timestamp('1990-01-01'))\n",
    "orig_cap_yr_wind = pd.to_datetime(wind['Original Captured Date'], format='%Y').fillna(ord_yr_wind)\n",
    "new_cap_yr_wind = pd.to_datetime(wind['New Capture Date'], format='%Y').fillna(new_cap_yr_wind)"
   ]
  },
  {
   "cell_type": "code",
   "execution_count": 144,
   "id": "c65210b0-19a8-41fd-801b-072e167985e9",
   "metadata": {
    "tags": []
   },
   "outputs": [],
   "source": [
    "ord_yr_solar = pd.to_datetime(solar['Ordinance Year'], format='%Y').fillna(pd.Timestamp('1990-01-01'))\n",
    "orig_cap_yr_solar = pd.to_datetime(solar['Original Captured Date'], format='%Y').fillna(ord_yr_solar)\n",
    "new_cap_yr_solar = pd.to_datetime(solar['New Capture Date'], format='%Y').fillna(new_cap_yr_solar)"
   ]
  },
  {
   "cell_type": "code",
   "execution_count": 132,
   "id": "e287a571-124a-4700-9bbe-1e954b32aa8d",
   "metadata": {
    "tags": []
   },
   "outputs": [
    {
     "data": {
      "text/plain": [
       "<AxesSubplot: >"
      ]
     },
     "execution_count": 132,
     "metadata": {},
     "output_type": "execute_result"
    },
    {
     "data": {
      "image/png": "[encoded data removed]",
      "text/plain": [
       "<Figure size 640x480 with 1 Axes>"
      ]
     },
     "metadata": {},
     "output_type": "display_data"
    }
   ],
   "source": [
    "# All valid years or missing\n",
    "pd.to_datetime(solar['New Capture Date'], format=\"%Y\").dt.year.hist()"
   ]
  },
  {
   "cell_type": "code",
   "execution_count": 141,
   "id": "12fa0761-dfe3-44f6-85bf-c99b355e32ef",
   "metadata": {},
   "outputs": [
    {
     "data": {
      "text/plain": [
       "True"
      ]
     },
     "execution_count": 141,
     "metadata": {},
     "output_type": "execute_result"
    }
   ],
   "source": [
    "new_cap_yr_wind.ge(orig_cap_yr_wind).all()"
   ]
  },
  {
   "cell_type": "code",
   "execution_count": 145,
   "id": "b4a0b6bc-0f44-4cb7-a9e0-003460ac3909",
   "metadata": {},
   "outputs": [
    {
     "data": {
      "text/plain": [
       "True"
      ]
     },
     "execution_count": 145,
     "metadata": {},
     "output_type": "execute_result"
    }
   ],
   "source": [
    "new_cap_yr_solar.ge(orig_cap_yr_solar).all()"
   ]
  },
  {
   "cell_type": "code",
   "execution_count": 146,
   "id": "4ef8fd67-6f74-45ce-a5f2-45762564c218",
   "metadata": {},
   "outputs": [
    {
     "data": {
      "text/plain": [
       "False"
      ]
     },
     "execution_count": 146,
     "metadata": {},
     "output_type": "execute_result"
    }
   ],
   "source": [
    "orig_cap_yr_wind.ge(ord_yr_wind).all()"
   ]
  },
  {
   "cell_type": "code",
   "execution_count": 147,
   "id": "f99e4570-555e-4f3e-91d2-49b4f1e151b5",
   "metadata": {},
   "outputs": [
    {
     "data": {
      "text/html": [
       "<div>\n",
       "<style scoped>\n",
       "    .dataframe tbody tr th:only-of-type {\n",
       "        vertical-align: middle;\n",
       "    }\n",
       "\n",
       "    .dataframe tbody tr th {\n",
       "        vertical-align: top;\n",
       "    }\n",
       "\n",
       "    .dataframe thead th {\n",
       "        text-align: right;\n",
       "    }\n",
       "</style>\n",
       "<table border=\"1\" class=\"dataframe\">\n",
       "  <thead>\n",
       "    <tr style=\"text-align: right;\">\n",
       "      <th></th>\n",
       "      <th>State</th>\n",
       "      <th>City/Town</th>\n",
       "      <th>County</th>\n",
       "      <th>Feature Type</th>\n",
       "      <th>Value Type</th>\n",
       "      <th>Value</th>\n",
       "      <th>Citation</th>\n",
       "      <th>Comment</th>\n",
       "      <th>Updated Type</th>\n",
       "      <th>Updated Value</th>\n",
       "      <th>Updated Comment</th>\n",
       "      <th>Ordinance Year</th>\n",
       "      <th>Original Captured Date</th>\n",
       "      <th>New Capture Date</th>\n",
       "      <th>Update Status</th>\n",
       "    </tr>\n",
       "  </thead>\n",
       "  <tbody>\n",
       "    <tr>\n",
       "      <th>1325</th>\n",
       "      <td>North Carolina</td>\n",
       "      <td>NaN</td>\n",
       "      <td>Currituck</td>\n",
       "      <td>Banned</td>\n",
       "      <td>NaN</td>\n",
       "      <td>NaN</td>\n",
       "      <td>In 2019, Carrituck County amended the UDO to prohibit large scale wind energy facilities</td>\n",
       "      <td>NaN</td>\n",
       "      <td>NaN</td>\n",
       "      <td>NaN</td>\n",
       "      <td>NaN</td>\n",
       "      <td>2019.0</td>\n",
       "      <td>2018.0</td>\n",
       "      <td>2022.0</td>\n",
       "      <td>Changed from \"Highways\" to \"Banned\"</td>\n",
       "    </tr>\n",
       "    <tr>\n",
       "      <th>1628</th>\n",
       "      <td>South Dakota</td>\n",
       "      <td>NaN</td>\n",
       "      <td>Pennington</td>\n",
       "      <td>Transmission</td>\n",
       "      <td>Max tip-height Multiplier</td>\n",
       "      <td>1.5</td>\n",
       "      <td>Pennington County Zoning Ord. § 317(B)(5)</td>\n",
       "      <td>NaN</td>\n",
       "      <td>NaN</td>\n",
       "      <td>NaN</td>\n",
       "      <td>NaN</td>\n",
       "      <td>2021.0</td>\n",
       "      <td>2018.0</td>\n",
       "      <td>2022.0</td>\n",
       "      <td>Changed from 1.1 to 1.5</td>\n",
       "    </tr>\n",
       "    <tr>\n",
       "      <th>1629</th>\n",
       "      <td>South Dakota</td>\n",
       "      <td>NaN</td>\n",
       "      <td>Pennington</td>\n",
       "      <td>Roads</td>\n",
       "      <td>Max tip-height Multiplier</td>\n",
       "      <td>1.5</td>\n",
       "      <td>Pennington County Zoning Ord. § 317(B)(5)</td>\n",
       "      <td>NaN</td>\n",
       "      <td>NaN</td>\n",
       "      <td>NaN</td>\n",
       "      <td>NaN</td>\n",
       "      <td>2021.0</td>\n",
       "      <td>2018.0</td>\n",
       "      <td>2022.0</td>\n",
       "      <td>Changed from 1.1 to 1.5</td>\n",
       "    </tr>\n",
       "    <tr>\n",
       "      <th>1630</th>\n",
       "      <td>South Dakota</td>\n",
       "      <td>NaN</td>\n",
       "      <td>Pennington</td>\n",
       "      <td>Structures</td>\n",
       "      <td>Max tip-height Multiplier</td>\n",
       "      <td>1.5</td>\n",
       "      <td>Pennington County Zoning Ord. § 317(B)(5)</td>\n",
       "      <td>NaN</td>\n",
       "      <td>NaN</td>\n",
       "      <td>NaN</td>\n",
       "      <td>NaN</td>\n",
       "      <td>2021.0</td>\n",
       "      <td>2018.0</td>\n",
       "      <td>2022.0</td>\n",
       "      <td>Changed from 1.1 to 1.5</td>\n",
       "    </tr>\n",
       "    <tr>\n",
       "      <th>1631</th>\n",
       "      <td>South Dakota</td>\n",
       "      <td>NaN</td>\n",
       "      <td>Pennington</td>\n",
       "      <td>Sound</td>\n",
       "      <td>dBA</td>\n",
       "      <td>55</td>\n",
       "      <td>Pennington County Zoning Ord. § 317(B)(5)</td>\n",
       "      <td>NaN</td>\n",
       "      <td>NaN</td>\n",
       "      <td>NaN</td>\n",
       "      <td>NaN</td>\n",
       "      <td>2021.0</td>\n",
       "      <td>2018.0</td>\n",
       "      <td>2022.0</td>\n",
       "      <td>No change</td>\n",
       "    </tr>\n",
       "  </tbody>\n",
       "</table>\n",
       "</div>"
      ],
      "text/plain": [
       "               State City/Town      County  Feature Type  \\\n",
       "1325  North Carolina       NaN   Currituck        Banned   \n",
       "1628    South Dakota       NaN  Pennington  Transmission   \n",
       "1629    South Dakota       NaN  Pennington         Roads   \n",
       "1630    South Dakota       NaN  Pennington    Structures   \n",
       "1631    South Dakota       NaN  Pennington         Sound   \n",
       "\n",
       "                     Value Type Value  \\\n",
       "1325                        NaN   NaN   \n",
       "1628  Max tip-height Multiplier   1.5   \n",
       "1629  Max tip-height Multiplier   1.5   \n",
       "1630  Max tip-height Multiplier   1.5   \n",
       "1631                        dBA    55   \n",
       "\n",
       "                                                                                       Citation  \\\n",
       "1325  In 2019, Carrituck County amended the UDO to prohibit large scale wind energy facilities    \n",
       "1628                                                  Pennington County Zoning Ord. § 317(B)(5)   \n",
       "1629                                                  Pennington County Zoning Ord. § 317(B)(5)   \n",
       "1630                                                  Pennington County Zoning Ord. § 317(B)(5)   \n",
       "1631                                                  Pennington County Zoning Ord. § 317(B)(5)   \n",
       "\n",
       "     Comment Updated Type  Updated Value Updated Comment  Ordinance Year  \\\n",
       "1325     NaN          NaN            NaN             NaN          2019.0   \n",
       "1628     NaN          NaN            NaN             NaN          2021.0   \n",
       "1629     NaN          NaN            NaN             NaN          2021.0   \n",
       "1630     NaN          NaN            NaN             NaN          2021.0   \n",
       "1631     NaN          NaN            NaN             NaN          2021.0   \n",
       "\n",
       "      Original Captured Date  New Capture Date  \\\n",
       "1325                  2018.0            2022.0   \n",
       "1628                  2018.0            2022.0   \n",
       "1629                  2018.0            2022.0   \n",
       "1630                  2018.0            2022.0   \n",
       "1631                  2018.0            2022.0   \n",
       "\n",
       "                            Update Status  \n",
       "1325  Changed from \"Highways\" to \"Banned\"  \n",
       "1628             Changed from 1.1 to 1.5   \n",
       "1629             Changed from 1.1 to 1.5   \n",
       "1630             Changed from 1.1 to 1.5   \n",
       "1631                            No change  "
      ]
     },
     "execution_count": 147,
     "metadata": {},
     "output_type": "execute_result"
    }
   ],
   "source": [
    "wind[~orig_cap_yr_wind.ge(ord_yr_wind)]"
   ]
  },
  {
   "cell_type": "code",
   "execution_count": 148,
   "id": "c745ea21-b2c2-4ee7-8b01-fe4cff510862",
   "metadata": {},
   "outputs": [
    {
     "data": {
      "text/plain": [
       "False"
      ]
     },
     "execution_count": 148,
     "metadata": {},
     "output_type": "execute_result"
    }
   ],
   "source": [
    "orig_cap_yr_solar.ge(ord_yr_solar).all()"
   ]
  },
  {
   "cell_type": "code",
   "execution_count": 149,
   "id": "060ad22e-8392-4a1c-964f-8457696164d7",
   "metadata": {},
   "outputs": [
    {
     "data": {
      "text/html": [
       "<div>\n",
       "<style scoped>\n",
       "    .dataframe tbody tr th:only-of-type {\n",
       "        vertical-align: middle;\n",
       "    }\n",
       "\n",
       "    .dataframe tbody tr th {\n",
       "        vertical-align: top;\n",
       "    }\n",
       "\n",
       "    .dataframe thead th {\n",
       "        text-align: right;\n",
       "    }\n",
       "</style>\n",
       "<table border=\"1\" class=\"dataframe\">\n",
       "  <thead>\n",
       "    <tr style=\"text-align: right;\">\n",
       "      <th></th>\n",
       "      <th>State</th>\n",
       "      <th>City/Town</th>\n",
       "      <th>County</th>\n",
       "      <th>Feature Type</th>\n",
       "      <th>Value Type</th>\n",
       "      <th>Value</th>\n",
       "      <th>Citation</th>\n",
       "      <th>Comment</th>\n",
       "      <th>Updated Type</th>\n",
       "      <th>Updated Value</th>\n",
       "      <th>Updated Comment</th>\n",
       "      <th>Ordinance Year</th>\n",
       "      <th>Original Captured Date</th>\n",
       "      <th>New Capture Date</th>\n",
       "      <th>Update Status</th>\n",
       "    </tr>\n",
       "  </thead>\n",
       "  <tbody>\n",
       "    <tr>\n",
       "      <th>458</th>\n",
       "      <td>Missouri</td>\n",
       "      <td>NaN</td>\n",
       "      <td>Warren</td>\n",
       "      <td>Structures</td>\n",
       "      <td>Meters</td>\n",
       "      <td>60.96</td>\n",
       "      <td>Warren County Dev. Code Appdx D. § 4(A)(2)</td>\n",
       "      <td>NaN</td>\n",
       "      <td>NaN</td>\n",
       "      <td>NaN</td>\n",
       "      <td>NaN</td>\n",
       "      <td>2020.0</td>\n",
       "      <td>2018.0</td>\n",
       "      <td>NaN</td>\n",
       "      <td>NaN</td>\n",
       "    </tr>\n",
       "    <tr>\n",
       "      <th>459</th>\n",
       "      <td>Nebraska</td>\n",
       "      <td>NaN</td>\n",
       "      <td>Cass</td>\n",
       "      <td>Property Line</td>\n",
       "      <td>Meters</td>\n",
       "      <td>9.144</td>\n",
       "      <td>Cass County Zoning Regs. § 8.21.05</td>\n",
       "      <td>30' setback</td>\n",
       "      <td>NaN</td>\n",
       "      <td>NaN</td>\n",
       "      <td>NaN</td>\n",
       "      <td>2021.0</td>\n",
       "      <td>2018.0</td>\n",
       "      <td>NaN</td>\n",
       "      <td>NaN</td>\n",
       "    </tr>\n",
       "    <tr>\n",
       "      <th>460</th>\n",
       "      <td>Nebraska</td>\n",
       "      <td>NaN</td>\n",
       "      <td>Cass</td>\n",
       "      <td>Height</td>\n",
       "      <td>Meters</td>\n",
       "      <td>7.62</td>\n",
       "      <td>Cass County Zoning Regs. § 8.21.05</td>\n",
       "      <td>NaN</td>\n",
       "      <td>NaN</td>\n",
       "      <td>NaN</td>\n",
       "      <td>NaN</td>\n",
       "      <td>2021.0</td>\n",
       "      <td>2018.0</td>\n",
       "      <td>NaN</td>\n",
       "      <td>NaN</td>\n",
       "    </tr>\n",
       "    <tr>\n",
       "      <th>463</th>\n",
       "      <td>Nebraska</td>\n",
       "      <td>NaN</td>\n",
       "      <td>Dawson</td>\n",
       "      <td>Property Line</td>\n",
       "      <td>Meters</td>\n",
       "      <td>9.144</td>\n",
       "      <td>Dawson County Zoning Regs. § 6.09.05</td>\n",
       "      <td>NaN</td>\n",
       "      <td>NaN</td>\n",
       "      <td>NaN</td>\n",
       "      <td>NaN</td>\n",
       "      <td>2019.0</td>\n",
       "      <td>2018.0</td>\n",
       "      <td>NaN</td>\n",
       "      <td>NaN</td>\n",
       "    </tr>\n",
       "    <tr>\n",
       "      <th>464</th>\n",
       "      <td>Nebraska</td>\n",
       "      <td>NaN</td>\n",
       "      <td>Dawson</td>\n",
       "      <td>Height</td>\n",
       "      <td>Meters</td>\n",
       "      <td>3.65</td>\n",
       "      <td>Dawson County Zoning Regs. § 6.09.05</td>\n",
       "      <td>NaN</td>\n",
       "      <td>NaN</td>\n",
       "      <td>NaN</td>\n",
       "      <td>NaN</td>\n",
       "      <td>2019.0</td>\n",
       "      <td>2018.0</td>\n",
       "      <td>NaN</td>\n",
       "      <td>NaN</td>\n",
       "    </tr>\n",
       "    <tr>\n",
       "      <th>467</th>\n",
       "      <td>Nebraska</td>\n",
       "      <td>NaN</td>\n",
       "      <td>Hamilton</td>\n",
       "      <td>Property Line</td>\n",
       "      <td>Meters</td>\n",
       "      <td>9.144</td>\n",
       "      <td>Hamilton County Zoning Regs. § 8.09.06</td>\n",
       "      <td>NaN</td>\n",
       "      <td>NaN</td>\n",
       "      <td>NaN</td>\n",
       "      <td>NaN</td>\n",
       "      <td>2019.0</td>\n",
       "      <td>2018.0</td>\n",
       "      <td>NaN</td>\n",
       "      <td>NaN</td>\n",
       "    </tr>\n",
       "    <tr>\n",
       "      <th>468</th>\n",
       "      <td>Nebraska</td>\n",
       "      <td>NaN</td>\n",
       "      <td>Hamilton</td>\n",
       "      <td>Height</td>\n",
       "      <td>Meters</td>\n",
       "      <td>3.65</td>\n",
       "      <td>Hamilton County Zoning Regs. § 8.09.06</td>\n",
       "      <td>NaN</td>\n",
       "      <td>NaN</td>\n",
       "      <td>NaN</td>\n",
       "      <td>NaN</td>\n",
       "      <td>2019.0</td>\n",
       "      <td>2018.0</td>\n",
       "      <td>NaN</td>\n",
       "      <td>NaN</td>\n",
       "    </tr>\n",
       "    <tr>\n",
       "      <th>472</th>\n",
       "      <td>Nebraska</td>\n",
       "      <td>NaN</td>\n",
       "      <td>Kearney</td>\n",
       "      <td>Wetlands</td>\n",
       "      <td>Meters</td>\n",
       "      <td>402.33</td>\n",
       "      <td>Kearney County Zoning Regs. § 7.42.12</td>\n",
       "      <td>1320' Setback to USFW designated type III, IV, or V wetlands</td>\n",
       "      <td>NaN</td>\n",
       "      <td>NaN</td>\n",
       "      <td>NaN</td>\n",
       "      <td>2020.0</td>\n",
       "      <td>2018.0</td>\n",
       "      <td>NaN</td>\n",
       "      <td>NaN</td>\n",
       "    </tr>\n",
       "    <tr>\n",
       "      <th>473</th>\n",
       "      <td>Nebraska</td>\n",
       "      <td>NaN</td>\n",
       "      <td>Kimball</td>\n",
       "      <td>Property Line</td>\n",
       "      <td>Meters</td>\n",
       "      <td>15.24</td>\n",
       "      <td>Kimball County Zoning Regs. § 20.04.4</td>\n",
       "      <td>NaN</td>\n",
       "      <td>NaN</td>\n",
       "      <td>NaN</td>\n",
       "      <td>NaN</td>\n",
       "      <td>2020.0</td>\n",
       "      <td>2018.0</td>\n",
       "      <td>NaN</td>\n",
       "      <td>NaN</td>\n",
       "    </tr>\n",
       "    <tr>\n",
       "      <th>474</th>\n",
       "      <td>Nebraska</td>\n",
       "      <td>NaN</td>\n",
       "      <td>Kimball</td>\n",
       "      <td>Structures</td>\n",
       "      <td>Meters</td>\n",
       "      <td>30.48</td>\n",
       "      <td>Kimball County Zoning Regs. § 20.04.4</td>\n",
       "      <td>NaN</td>\n",
       "      <td>NaN</td>\n",
       "      <td>NaN</td>\n",
       "      <td>NaN</td>\n",
       "      <td>2020.0</td>\n",
       "      <td>2018.0</td>\n",
       "      <td>NaN</td>\n",
       "      <td>NaN</td>\n",
       "    </tr>\n",
       "    <tr>\n",
       "      <th>519</th>\n",
       "      <td>North Carolina</td>\n",
       "      <td>NaN</td>\n",
       "      <td>Alamance</td>\n",
       "      <td>Minimum Lot Size</td>\n",
       "      <td>Acres</td>\n",
       "      <td>10</td>\n",
       "      <td>Alamance County Unified Dev. Ord. § 6.8.3</td>\n",
       "      <td>NaN</td>\n",
       "      <td>NaN</td>\n",
       "      <td>NaN</td>\n",
       "      <td>NaN</td>\n",
       "      <td>2020.0</td>\n",
       "      <td>2018.0</td>\n",
       "      <td>NaN</td>\n",
       "      <td>NaN</td>\n",
       "    </tr>\n",
       "    <tr>\n",
       "      <th>520</th>\n",
       "      <td>North Carolina</td>\n",
       "      <td>NaN</td>\n",
       "      <td>Alamance</td>\n",
       "      <td>Property Line</td>\n",
       "      <td>Meters</td>\n",
       "      <td>22.86</td>\n",
       "      <td>Alamance County Unified Dev. Ord. § 6.8.3</td>\n",
       "      <td>75' setback</td>\n",
       "      <td>NaN</td>\n",
       "      <td>NaN</td>\n",
       "      <td>NaN</td>\n",
       "      <td>2020.0</td>\n",
       "      <td>2018.0</td>\n",
       "      <td>NaN</td>\n",
       "      <td>NaN</td>\n",
       "    </tr>\n",
       "    <tr>\n",
       "      <th>535</th>\n",
       "      <td>North Carolina</td>\n",
       "      <td>NaN</td>\n",
       "      <td>Camden</td>\n",
       "      <td>Minimum Lot Size</td>\n",
       "      <td>Acres</td>\n",
       "      <td>5</td>\n",
       "      <td>Camden County Unified Dev. Ord. § 4.4.5(D)(1)</td>\n",
       "      <td>NaN</td>\n",
       "      <td>NaN</td>\n",
       "      <td>NaN</td>\n",
       "      <td>NaN</td>\n",
       "      <td>2019.0</td>\n",
       "      <td>2018.0</td>\n",
       "      <td>NaN</td>\n",
       "      <td>NaN</td>\n",
       "    </tr>\n",
       "    <tr>\n",
       "      <th>536</th>\n",
       "      <td>North Carolina</td>\n",
       "      <td>NaN</td>\n",
       "      <td>Camden</td>\n",
       "      <td>Property Line</td>\n",
       "      <td>Meters</td>\n",
       "      <td>30.48</td>\n",
       "      <td>Camden County Unified Dev. Ord. § 4.4.5(D)(1)</td>\n",
       "      <td>NaN</td>\n",
       "      <td>NaN</td>\n",
       "      <td>NaN</td>\n",
       "      <td>NaN</td>\n",
       "      <td>2019.0</td>\n",
       "      <td>2018.0</td>\n",
       "      <td>NaN</td>\n",
       "      <td>NaN</td>\n",
       "    </tr>\n",
       "    <tr>\n",
       "      <th>537</th>\n",
       "      <td>North Carolina</td>\n",
       "      <td>NaN</td>\n",
       "      <td>Camden</td>\n",
       "      <td>Height</td>\n",
       "      <td>Meters</td>\n",
       "      <td>4.5</td>\n",
       "      <td>Camden County Unified Dev. Ord. § 4.4.5(D)(1)</td>\n",
       "      <td>15' max height</td>\n",
       "      <td>NaN</td>\n",
       "      <td>NaN</td>\n",
       "      <td>NaN</td>\n",
       "      <td>2019.0</td>\n",
       "      <td>2018.0</td>\n",
       "      <td>NaN</td>\n",
       "      <td>NaN</td>\n",
       "    </tr>\n",
       "  </tbody>\n",
       "</table>\n",
       "</div>"
      ],
      "text/plain": [
       "               State City/Town    County       Feature Type Value Type  \\\n",
       "458         Missouri       NaN    Warren         Structures     Meters   \n",
       "459         Nebraska       NaN      Cass      Property Line     Meters   \n",
       "460         Nebraska       NaN      Cass             Height     Meters   \n",
       "463         Nebraska       NaN    Dawson      Property Line     Meters   \n",
       "464         Nebraska       NaN    Dawson             Height     Meters   \n",
       "467         Nebraska       NaN  Hamilton      Property Line     Meters   \n",
       "468         Nebraska       NaN  Hamilton             Height     Meters   \n",
       "472         Nebraska       NaN   Kearney           Wetlands     Meters   \n",
       "473         Nebraska       NaN   Kimball      Property Line     Meters   \n",
       "474         Nebraska       NaN   Kimball         Structures     Meters   \n",
       "519  North Carolina        NaN  Alamance  Minimum Lot Size       Acres   \n",
       "520  North Carolina        NaN  Alamance      Property Line     Meters   \n",
       "535  North Carolina        NaN    Camden   Minimum Lot Size      Acres   \n",
       "536  North Carolina        NaN    Camden      Property Line     Meters   \n",
       "537  North Carolina        NaN    Camden             Height     Meters   \n",
       "\n",
       "      Value                                       Citation  \\\n",
       "458   60.96     Warren County Dev. Code Appdx D. § 4(A)(2)   \n",
       "459   9.144             Cass County Zoning Regs. § 8.21.05   \n",
       "460    7.62             Cass County Zoning Regs. § 8.21.05   \n",
       "463   9.144           Dawson County Zoning Regs. § 6.09.05   \n",
       "464    3.65           Dawson County Zoning Regs. § 6.09.05   \n",
       "467   9.144         Hamilton County Zoning Regs. § 8.09.06   \n",
       "468    3.65         Hamilton County Zoning Regs. § 8.09.06   \n",
       "472  402.33          Kearney County Zoning Regs. § 7.42.12   \n",
       "473   15.24          Kimball County Zoning Regs. § 20.04.4   \n",
       "474   30.48          Kimball County Zoning Regs. § 20.04.4   \n",
       "519      10      Alamance County Unified Dev. Ord. § 6.8.3   \n",
       "520   22.86      Alamance County Unified Dev. Ord. § 6.8.3   \n",
       "535       5  Camden County Unified Dev. Ord. § 4.4.5(D)(1)   \n",
       "536   30.48  Camden County Unified Dev. Ord. § 4.4.5(D)(1)   \n",
       "537     4.5  Camden County Unified Dev. Ord. § 4.4.5(D)(1)   \n",
       "\n",
       "                                                          Comment  \\\n",
       "458                                                           NaN   \n",
       "459                                                   30' setback   \n",
       "460                                                           NaN   \n",
       "463                                                           NaN   \n",
       "464                                                           NaN   \n",
       "467                                                           NaN   \n",
       "468                                                           NaN   \n",
       "472  1320' Setback to USFW designated type III, IV, or V wetlands   \n",
       "473                                                           NaN   \n",
       "474                                                           NaN   \n",
       "519                                                           NaN   \n",
       "520                                                   75' setback   \n",
       "535                                                           NaN   \n",
       "536                                                           NaN   \n",
       "537                                               15' max height    \n",
       "\n",
       "     Updated Type  Updated Value  Updated Comment  Ordinance Year  \\\n",
       "458           NaN            NaN              NaN          2020.0   \n",
       "459           NaN            NaN              NaN          2021.0   \n",
       "460           NaN            NaN              NaN          2021.0   \n",
       "463           NaN            NaN              NaN          2019.0   \n",
       "464           NaN            NaN              NaN          2019.0   \n",
       "467           NaN            NaN              NaN          2019.0   \n",
       "468           NaN            NaN              NaN          2019.0   \n",
       "472           NaN            NaN              NaN          2020.0   \n",
       "473           NaN            NaN              NaN          2020.0   \n",
       "474           NaN            NaN              NaN          2020.0   \n",
       "519           NaN            NaN              NaN          2020.0   \n",
       "520           NaN            NaN              NaN          2020.0   \n",
       "535           NaN            NaN              NaN          2019.0   \n",
       "536           NaN            NaN              NaN          2019.0   \n",
       "537           NaN            NaN              NaN          2019.0   \n",
       "\n",
       "     Original Captured Date  New Capture Date  Update Status  \n",
       "458                  2018.0               NaN            NaN  \n",
       "459                  2018.0               NaN            NaN  \n",
       "460                  2018.0               NaN            NaN  \n",
       "463                  2018.0               NaN            NaN  \n",
       "464                  2018.0               NaN            NaN  \n",
       "467                  2018.0               NaN            NaN  \n",
       "468                  2018.0               NaN            NaN  \n",
       "472                  2018.0               NaN            NaN  \n",
       "473                  2018.0               NaN            NaN  \n",
       "474                  2018.0               NaN            NaN  \n",
       "519                  2018.0               NaN            NaN  \n",
       "520                  2018.0               NaN            NaN  \n",
       "535                  2018.0               NaN            NaN  \n",
       "536                  2018.0               NaN            NaN  \n",
       "537                  2018.0               NaN            NaN  "
      ]
     },
     "execution_count": 149,
     "metadata": {},
     "output_type": "execute_result"
    }
   ],
   "source": [
    "solar[~orig_cap_yr_solar.ge(ord_yr_solar)]"
   ]
  },
  {
   "cell_type": "code",
   "execution_count": null,
   "id": "0902415e-c626-47da-9ca0-dd39cbff59bd",
   "metadata": {},
   "outputs": [],
   "source": []
  }
 ],
 "metadata": {
  "kernelspec": {
   "display_name": "Python 3 (ipykernel)",
   "language": "python",
   "name": "python3"
  },
  "language_info": {
   "codemirror_mode": {
    "name": "ipython",
    "version": 3
   },
   "file_extension": ".py",
   "mimetype": "text/x-python",
   "name": "python",
   "nbconvert_exporter": "python",
   "pygments_lexer": "ipython3",
   "version": "3.9.14"
  }
 },
 "nbformat": 4,
 "nbformat_minor": 5
}
