{
 "cells": [
  {
   "cell_type": "code",
   "execution_count": 2,
   "metadata": {},
   "outputs": [],
   "source": [
    "import pandas as pd\n",
    "import numpy as np\n",
    "from pathlib import Path"
   ]
  },
  {
   "cell_type": "code",
   "execution_count": 3,
   "metadata": {},
   "outputs": [],
   "source": [
    "path = Path('../data/data_cache/pudl/v2024.5.0/core_eia860m__changelog_generators.parquet')\n",
    "assert path.exists()"
   ]
  },
  {
   "cell_type": "code",
   "execution_count": 4,
   "metadata": {},
   "outputs": [
    {
     "data": {
      "text/plain": [
       "(195978, 32)"
      ]
     },
     "execution_count": 4,
     "metadata": {},
     "output_type": "execute_result"
    }
   ],
   "source": [
    "ch = pd.read_parquet(path, use_nullable_dtypes=True)\n",
    "ch.shape"
   ]
  },
  {
   "cell_type": "code",
   "execution_count": 5,
   "metadata": {},
   "outputs": [
    {
     "name": "stdout",
     "output_type": "stream",
     "text": [
      "<class 'pandas.core.frame.DataFrame'>\n",
      "RangeIndex: 195978 entries, 0 to 195977\n",
      "Data columns (total 32 columns):\n",
      " #   Column                                    Non-Null Count   Dtype   \n",
      "---  ------                                    --------------   -----   \n",
      " 0   report_date                               195978 non-null  object  \n",
      " 1   valid_until_date                          194777 non-null  object  \n",
      " 2   plant_id_eia                              195978 non-null  Int32   \n",
      " 3   plant_name_eia                            195978 non-null  string  \n",
      " 4   utility_id_eia                            195978 non-null  Int32   \n",
      " 5   utility_name_eia                          195907 non-null  string  \n",
      " 6   generator_id                              195978 non-null  string  \n",
      " 7   balancing_authority_code_eia              109223 non-null  string  \n",
      " 8   capacity_mw                               142176 non-null  float32 \n",
      " 9   county                                    169757 non-null  string  \n",
      " 10  current_planned_generator_operating_date  36009 non-null   object  \n",
      " 11  data_maturity                             195978 non-null  string  \n",
      " 12  energy_source_code_1                      195943 non-null  string  \n",
      " 13  energy_storage_capacity_mwh               749 non-null     float32 \n",
      " 14  fuel_type_code_pudl                       195943 non-null  category\n",
      " 15  generator_retirement_date                 20621 non-null   object  \n",
      " 16  latitude                                  169737 non-null  float32 \n",
      " 17  longitude                                 169729 non-null  float32 \n",
      " 18  net_capacity_mwdc                         7721 non-null    float32 \n",
      " 19  operational_status                        195978 non-null  string  \n",
      " 20  operational_status_code                   195978 non-null  string  \n",
      " 21  planned_derate_date                       228 non-null     object  \n",
      " 22  planned_generator_retirement_date         5094 non-null    object  \n",
      " 23  planned_net_summer_capacity_derate_mw     212 non-null     float32 \n",
      " 24  planned_net_summer_capacity_uprate_mw     1894 non-null    float32 \n",
      " 25  planned_uprate_date                       1912 non-null    object  \n",
      " 26  prime_mover_code                          195978 non-null  string  \n",
      " 27  sector_id_eia                             195951 non-null  Int32   \n",
      " 28  state                                     195976 non-null  string  \n",
      " 29  summer_capacity_mw                        194907 non-null  float32 \n",
      " 30  technology_description                    195940 non-null  string  \n",
      " 31  winter_capacity_mw                        115382 non-null  float32 \n",
      "dtypes: Int32(3), category(1), float32(9), object(7), string(12)\n",
      "memory usage: 38.1+ MB\n"
     ]
    }
   ],
   "source": [
    "ch.info()"
   ]
  },
  {
   "cell_type": "code",
   "execution_count": 6,
   "metadata": {},
   "outputs": [
    {
     "data": {
      "text/plain": [
       "operational_status\n",
       "existing    0.519633\n",
       "proposed    0.801738\n",
       "retired     0.385126\n",
       "Name: balancing_authority_code_eia, dtype: float64"
      ]
     },
     "execution_count": 6,
     "metadata": {},
     "output_type": "execute_result"
    }
   ],
   "source": [
    "# coverage by operational_status\n",
    "ch.groupby('operational_status')['balancing_authority_code_eia'].agg(lambda x: x.notna().mean())"
   ]
  },
  {
   "cell_type": "code",
   "execution_count": 18,
   "metadata": {},
   "outputs": [
    {
     "name": "stderr",
     "output_type": "stream",
     "text": [
      "/home/tpb/mambaforge/envs/dbcp-dev/lib/python3.10/site-packages/pandas/core/ops/array_ops.py:73: FutureWarning: Comparison of Timestamp with datetime.date is deprecated in order to match the standard library behavior. In a future version these will be considered non-comparable. Use 'ts == pd.Timestamp(date)' or 'ts.date() == date' instead.\n",
      "  result = libops.scalar_compare(x.ravel(), y, op)\n"
     ]
    },
    {
     "data": {
      "text/plain": [
       "operational_status\n",
       "existing    0.970888\n",
       "proposed    0.992342\n",
       "retired     0.605713\n",
       "Name: balancing_authority_code_eia, dtype: float64"
      ]
     },
     "execution_count": 18,
     "metadata": {},
     "output_type": "execute_result"
    }
   ],
   "source": [
    "# coverage by operational_status, looking only at current projects\n",
    "max_date = pd.to_datetime(ch['valid_until_date']).max()\n",
    "ch.loc[ch['valid_until_date'].eq(max_date),:].groupby('operational_status')['balancing_authority_code_eia'].agg(lambda x: x.notna().mean())"
   ]
  },
  {
   "cell_type": "code",
   "execution_count": 7,
   "metadata": {},
   "outputs": [
    {
     "data": {
      "text/plain": [
       "<NA>    86755\n",
       "MISO    20147\n",
       "PJM     16767\n",
       "CISO    12338\n",
       "ISNE     8854\n",
       "ERCO     8113\n",
       "NYIS     7075\n",
       "SWPP     5659\n",
       "DUK      3225\n",
       "CPLE     3113\n",
       "SOCO     2945\n",
       "PACE     1352\n",
       "TVA      1337\n",
       "BPAT     1204\n",
       "FPL      1154\n",
       "NEVP     1126\n",
       "PSCO     1090\n",
       "FPC       969\n",
       "WACM      950\n",
       "IPCO      901\n",
       "LDWP      808\n",
       "PGE       670\n",
       "PNM       669\n",
       "SCEG      649\n",
       "NWMT      588\n",
       "AZPS      556\n",
       "PACW      527\n",
       "AECI      507\n",
       "BANC      481\n",
       "IID       461\n",
       "TEC       442\n",
       "SRP       408\n",
       "TEPC      346\n",
       "WALC      295\n",
       "PSEI      261\n",
       "HECO      250\n",
       "FMPP      246\n",
       "SC        241\n",
       "EPE       229\n",
       "AVA       227\n",
       "WAUW      197\n",
       "SPA       180\n",
       "JEA       164\n",
       "LGEE      155\n",
       "SCL       131\n",
       "SEC        86\n",
       "AEC        84\n",
       "TAL        83\n",
       "TIDC       82\n",
       "AVRN       81\n",
       "NBSO       72\n",
       "SEPA       71\n",
       "CHPD       64\n",
       "GCPD       64\n",
       "CPLW       61\n",
       "EEI        57\n",
       "TPWR       55\n",
       "GVL        55\n",
       "YAD        54\n",
       "GRMA       51\n",
       "DOPD       36\n",
       "HST        27\n",
       "GLHB       22\n",
       "HGMA       18\n",
       "NSB        14\n",
       "MPS        14\n",
       "GRIF       13\n",
       "SECI       12\n",
       "OVEC       11\n",
       "NPPD        8\n",
       "CSTO        6\n",
       "GRID        6\n",
       "DEAA        3\n",
       "WWA         2\n",
       "GRIS        2\n",
       "GWA         2\n",
       "Name: balancing_authority_code_eia, dtype: Int64"
      ]
     },
     "metadata": {},
     "output_type": "display_data"
    }
   ],
   "source": [
    "# how many BAs?\n",
    "with pd.option_context('display.max_rows', 80):\n",
    "    display(ch['balancing_authority_code_eia'].value_counts(dropna=False))"
   ]
  },
  {
   "cell_type": "code",
   "execution_count": 8,
   "metadata": {},
   "outputs": [
    {
     "data": {
      "text/plain": [
       "state  county         \n",
       "CA     Los Angeles        955\n",
       "       Kern               593\n",
       "       San Bernardino     462\n",
       "HI     Honolulu           449\n",
       "CA     Riverside          416\n",
       "                         ... \n",
       "OH     Columbiana           1\n",
       "AR     Jackson              1\n",
       "TX     Zapata               1\n",
       "IL     Fayette              1\n",
       "VA     Petersburg City      1\n",
       "Length: 2488, dtype: int64"
      ]
     },
     "execution_count": 8,
     "metadata": {},
     "output_type": "execute_result"
    }
   ],
   "source": [
    "# what places are most frequently missing BAs?\n",
    "ch.loc[ch['balancing_authority_code_eia'].isna(), ['state', 'county']].value_counts(dropna=True)"
   ]
  },
  {
   "cell_type": "code",
   "execution_count": 9,
   "metadata": {},
   "outputs": [
    {
     "data": {
      "text/plain": [
       "1    1932\n",
       "2     370\n",
       "0      96\n",
       "3      77\n",
       "4      11\n",
       "8       1\n",
       "5       1\n",
       "Name: nunique, dtype: int64"
      ]
     },
     "execution_count": 9,
     "metadata": {},
     "output_type": "execute_result"
    }
   ],
   "source": [
    "# the overwhelming majority of counties with missing BA codes have\n",
    "# only one unique BA code. Imputation is low risk there.\n",
    "cty = ch.groupby(['state', 'county'])['balancing_authority_code_eia'].agg(['size', 'count', 'nunique'])\n",
    "cty.loc[cty['count'].lt(cty['size']), 'nunique'].value_counts()"
   ]
  },
  {
   "cell_type": "code",
   "execution_count": 10,
   "metadata": {},
   "outputs": [
    {
     "data": {
      "text/plain": [
       "Index(['sector_id_eia'], dtype='object')"
      ]
     },
     "execution_count": 10,
     "metadata": {},
     "output_type": "execute_result"
    }
   ],
   "source": [
    "meta_cols = {\n",
    "    \"report_date\",\n",
    "    \"generator_id\",\n",
    "    \"plant_id_eia\",\n",
    "    \"valid_until_date\",\n",
    "    \"plant_name_eia\",\n",
    "    \"utility_id_eia\",\n",
    "    \"utility_name_eia\",\n",
    "    \"capacity_mw\",\n",
    "    \"county\",\n",
    "    \"current_planned_generator_operating_date\",\n",
    "    \"balancing_authority_code_eia\",\n",
    "    \"data_maturity\",\n",
    "    \"energy_source_code_1\",\n",
    "    \"energy_storage_capacity_mwh\",\n",
    "    \"fuel_type_code_pudl\",\n",
    "    \"generator_retirement_date\",\n",
    "    \"latitude\",\n",
    "    \"longitude\",\n",
    "    \"net_capacity_mwdc\",\n",
    "    \"operational_status\",\n",
    "    \"raw_operational_status_code\",\n",
    "    \"operational_status_code\",\n",
    "    \"planned_derate_date\",\n",
    "    \"planned_generator_retirement_date\",\n",
    "    \"planned_net_summer_capacity_derate_mw\",\n",
    "    \"planned_net_summer_capacity_uprate_mw\",\n",
    "    \"planned_uprate_date\",\n",
    "    \"prime_mover_code\",\n",
    "    \"state\",\n",
    "    \"summer_capacity_mw\",\n",
    "    \"technology_description\",\n",
    "    \"winter_capacity_mw\",\n",
    "    \"state_id_fips\",\n",
    "    \"county_id_fips\",\n",
    "}\n",
    "ch.columns.difference(meta_cols)"
   ]
  },
  {
   "cell_type": "code",
   "execution_count": 11,
   "metadata": {},
   "outputs": [
    {
     "data": {
      "text/plain": [
       "2       93932\n",
       "1       74206\n",
       "7        9671\n",
       "4        4951\n",
       "5        4740\n",
       "3        4608\n",
       "6        3843\n",
       "<NA>       27\n",
       "Name: sector_id_eia, dtype: Int64"
      ]
     },
     "execution_count": 11,
     "metadata": {},
     "output_type": "execute_result"
    }
   ],
   "source": [
    "ch['sector_id_eia'].value_counts(dropna=False)"
   ]
  },
  {
   "cell_type": "code",
   "execution_count": null,
   "metadata": {},
   "outputs": [],
   "source": []
  }
 ],
 "metadata": {
  "kernelspec": {
   "display_name": "dbcp-dev",
   "language": "python",
   "name": "python3"
  },
  "language_info": {
   "codemirror_mode": {
    "name": "ipython",
    "version": 3
   },
   "file_extension": ".py",
   "mimetype": "text/x-python",
   "name": "python",
   "nbconvert_exporter": "python",
   "pygments_lexer": "ipython3",
   "version": "3.10.12"
  }
 },
 "nbformat": 4,
 "nbformat_minor": 2
}
