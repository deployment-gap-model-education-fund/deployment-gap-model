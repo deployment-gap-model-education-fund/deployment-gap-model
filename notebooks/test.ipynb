{
 "cells": [
  {
   "cell_type": "code",
   "execution_count": 11,
   "metadata": {},
   "outputs": [
    {
     "data": {
      "text/plain": [
       "Index(['proj_id', 'status', 'plant_id_eia', 'project_name', 'phase_name',\n",
       "       'resource', 'developers', 'owners', 'iso_region', 'owner_types',\n",
       "       'capacity_mw', 'state_id_fips', 'county_id_fips', 'avg_latitude',\n",
       "       'avg_longitude', 'geocoded_locality_name', 'geocoded_locality_type',\n",
       "       'geocoded_containing_county', 'geocoded_county_id_fips',\n",
       "       'geocoded_state_id_fips', 'census_county_id_fips',\n",
       "       'raw_mw_total_capacity', 'raw_units_total', 'raw_mw_online_capacity',\n",
       "       'raw_mw_under_construction_capacity', 'raw_mw_adv_development_capacity',\n",
       "       'raw_mw_decommissioned_capacity', 'raw_units_online',\n",
       "       'raw_units_under_construction', 'raw_units_adv_development',\n",
       "       'raw_units_decommissioned', 'raw_years_online', 'raw_quarters_online',\n",
       "       'raw_countries', 'raw_states', 'raw_counties', 'raw_community',\n",
       "       'raw_repower_type', 'raw_repower_phases', 'raw_owner_types',\n",
       "       'raw_constructors', 'raw_servicers', 'raw_manufacturers', 'raw_models',\n",
       "       'raw_hub_heights', 'raw_rotor_diameters', 'raw_total_heights',\n",
       "       'raw_avg_latitude', 'raw_avg_longitude', 'raw_offtake_types',\n",
       "       'raw_power_purchasers', 'raw_power_purchaser_types',\n",
       "       'raw_power_purchaser_type_details', 'raw_ppa_rates',\n",
       "       'raw_ppa_start_years', 'raw_ppa_end_years', 'raw_ppa_durations',\n",
       "       'raw_interconnected_utilities', 'raw_iso_rtos', 'raw_nercs',\n",
       "       'raw_balancing_authorities', 'raw_state_houses', 'raw_state_senates',\n",
       "       'raw_congressional_districts', 'raw_secondary_offtake_types',\n",
       "       'raw_secondary_purchaser_ids', 'raw_secondary_purchaser_types',\n",
       "       'raw_tracking_types', 'raw_ilrs', 'raw_nameplate_mws',\n",
       "       'raw_storage_energies', 'raw_storage_durations'],\n",
       "      dtype='object')"
      ]
     },
     "execution_count": 11,
     "metadata": {},
     "output_type": "execute_result"
    }
   ],
   "source": [
    "import pandas as pd\n",
    "\n",
    "\n",
    "pd.read_parquet('../data/output/private_data_warehouse/acp_projects.parquet').columns"
   ]
  }
 ],
 "metadata": {
  "kernelspec": {
   "display_name": "dbcp-dev",
   "language": "python",
   "name": "python3"
  },
  "language_info": {
   "codemirror_mode": {
    "name": "ipython",
    "version": 3
   },
   "file_extension": ".py",
   "mimetype": "text/x-python",
   "name": "python",
   "nbconvert_exporter": "python",
   "pygments_lexer": "ipython3",
   "version": "3.10.13"
  }
 },
 "nbformat": 4,
 "nbformat_minor": 2
}
