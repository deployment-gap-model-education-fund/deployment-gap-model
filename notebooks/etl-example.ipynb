{
 "cells": [
  {
   "cell_type": "code",
   "execution_count": 6,
   "id": "2486165d-7c53-4bbb-b237-4847dbb8a35f",
   "metadata": {},
   "outputs": [],
   "source": [
    "import dbcp\n",
    "\n",
    "from dbcp.constants import WORKING_PARTITIONS"
   ]
  },
  {
   "cell_type": "code",
   "execution_count": 7,
   "id": "c2907090-84e6-49ee-8f88-b7f7c8b88be5",
   "metadata": {},
   "outputs": [],
   "source": [
    "from dbcp.workspace.datastore import DBCPDatastore\n",
    "ds = DBCPDatastore(sandbox=True, local_cache_path=\"/app/input\")\n",
    "\n",
    "eip_raw_dfs = dbcp.extract.eipinfrastructure.Extractor(ds).extract(\n",
    "        update_date=WORKING_PARTITIONS[\"eipinfrastructure\"][\"update_date\"])"
   ]
  },
  {
   "cell_type": "code",
   "execution_count": 10,
   "id": "87b6a1c4-26d5-46f8-ade4-29ce3986959d",
   "metadata": {},
   "outputs": [
    {
     "data": {
      "text/plain": [
       "cancer_risk                              float64\n",
       "classification                            object\n",
       "co2_tpy                                   object\n",
       "co_typ                                    object\n",
       "company                                   object\n",
       "completion_date                           object\n",
       "congressional_rep_party                   object\n",
       "county                                    object\n",
       "description                               object\n",
       "ejscreen_report_url                       object\n",
       "epa_compliance_report_url                 object\n",
       "ghg_permit_status                         object\n",
       "haps_tpy                                  object\n",
       "latitude                                 float64\n",
       "longitude                                float64\n",
       "nox_tpy                                   object\n",
       "o3_ppb                                   float64\n",
       "operating_status                          object\n",
       "operating_status_last_updated     datetime64[ns]\n",
       "operational_status_links                  object\n",
       "operational_status_sources                object\n",
       "permit_documents_url                      object\n",
       "permit_history                            object\n",
       "permit_status_last_updated        datetime64[ns]\n",
       "permit_type                               object\n",
       "pm10_tpy                                  object\n",
       "pm2_5_tpy                                 object\n",
       "pm2_5_ugpm3                              float64\n",
       "population_low_income_pct                 object\n",
       "population_over_64_pct                    object\n",
       "population_people_of_color_pct            object\n",
       "population_under_5_pct                    object\n",
       "population_within_3_miles                float64\n",
       "project_name                              object\n",
       "respiratory_hazard_index                 float64\n",
       "sector                                    object\n",
       "so2_tpy                                   object\n",
       "state                                     object\n",
       "state_enforcement_records_url             object\n",
       "state_facility_id                         object\n",
       "state_permitting_url                      object\n",
       "type_s                                    object\n",
       "voc_tpy                                   object\n",
       "wastewater_discharge_indicator           float64\n",
       "dtype: object"
      ]
     },
     "execution_count": 10,
     "metadata": {},
     "output_type": "execute_result"
    }
   ],
   "source": [
    "eip_raw_dfs['emissions_increase'].dtypes"
   ]
  },
  {
   "cell_type": "code",
   "execution_count": 1,
   "id": "b720a0cd-6531-473b-bb0c-0defe37e28f0",
   "metadata": {},
   "outputs": [],
   "source": [
    "import sys\n",
    "\n",
    "# sys.path.append(\"/app\")"
   ]
  },
  {
   "cell_type": "code",
   "execution_count": 3,
   "id": "d7af6221-8df2-4e5c-8418-b8e142642194",
   "metadata": {},
   "outputs": [
    {
     "ename": "ModuleNotFoundError",
     "evalue": "No module named 'dbcp'",
     "output_type": "error",
     "traceback": [
      "\u001b[0;31m---------------------------------------------------------------------------\u001b[0m",
      "\u001b[0;31mModuleNotFoundError\u001b[0m                       Traceback (most recent call last)",
      "\u001b[0;32m/tmp/ipykernel_57/2405936102.py\u001b[0m in \u001b[0;36m<module>\u001b[0;34m\u001b[0m\n\u001b[0;32m----> 1\u001b[0;31m \u001b[0;32mimport\u001b[0m \u001b[0mdbcp\u001b[0m\u001b[0;34m\u001b[0m\u001b[0;34m\u001b[0m\u001b[0m\n\u001b[0m",
      "\u001b[0;31mModuleNotFoundError\u001b[0m: No module named 'dbcp'"
     ]
    }
   ],
   "source": [
    "import dbcp"
   ]
  },
  {
   "cell_type": "code",
   "execution_count": null,
   "id": "9485f9bb-c319-4ef1-ae35-63d880e1fe5a",
   "metadata": {},
   "outputs": [],
   "source": [
    "sys"
   ]
  }
 ],
 "metadata": {
  "kernelspec": {
   "display_name": "Python 3 (ipykernel)",
   "language": "python",
   "name": "python3"
  },
  "language_info": {
   "codemirror_mode": {
    "name": "ipython",
    "version": 3
   },
   "file_extension": ".py",
   "mimetype": "text/x-python",
   "name": "python",
   "nbconvert_exporter": "python",
   "pygments_lexer": "ipython3",
   "version": "3.8.12"
  }
 },
 "nbformat": 4,
 "nbformat_minor": 5
}
