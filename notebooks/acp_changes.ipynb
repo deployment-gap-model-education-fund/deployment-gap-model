{
 "cells": [
  {
   "cell_type": "code",
   "execution_count": null,
   "id": "e1124db8-1894-4500-b350-70d295028597",
   "metadata": {},
   "outputs": [],
   "source": [
    "acp_new = pd.read_csv(\"../data/acp_export_20250827.csv\")"
   ]
  },
  {
   "cell_type": "code",
   "execution_count": null,
   "id": "157f07ba-0546-474b-8b81-ac08dfbca062",
   "metadata": {},
   "outputs": [],
   "source": [
    "acp_old = pd.read_csv(\"../data/acp_export_20250725.csv\")"
   ]
  },
  {
   "cell_type": "code",
   "execution_count": null,
   "id": "599a8e69-9865-4416-b09a-bcdaf7805fb5",
   "metadata": {},
   "outputs": [],
   "source": [
    "rename_dict1 = {\n",
    "        \"pparates\": \"ppa_rates\",\n",
    "        \"ppastart_years\": \"ppa_start_years\",\n",
    "        \"ppaend_years\": \"ppa_end_years\",\n",
    "        \"ppadurations\": \"ppa_durations\",\n",
    "        \"isortos\": \"iso_rtos\",\n",
    "        \"eiaplant_code\": \"eia_plant_code\",\n",
    "    }\n",
    "\n",
    "cols_to_drop = [\n",
    "        \"raw_status\",\n",
    "        \"raw_eia_plant_code\",\n",
    "        \"raw_project_name\",\n",
    "        \"raw_phase_name\",\n",
    "        \"raw_phase_type\",\n",
    "        \"raw_developers\",\n",
    "        \"raw_owners\",\n",
    "    ]\n",
    "# standardize some column names to match existing sources\n",
    "rename_dict2 = {\n",
    "    \"eia_plant_code\": \"plant_id_eia\",  # match PUDL\n",
    "    \"iso_rtos\": \"iso_region\",  # match LBNL\n",
    "    \"phase_type\": \"resource\",  # match LBNL/gridstatus\n",
    "    \"mw_total_capacity\": \"capacity_mw\",  # match PUDL/LBNL/gridstatus\n",
    "}"
   ]
  },
  {
   "cell_type": "code",
   "execution_count": null,
   "id": "7063cc19-e36c-46e3-a53d-1d799521ed74",
   "metadata": {},
   "outputs": [],
   "source": [
    "acp_old = acp_old.rename(columns=rename_dict1)"
   ]
  },
  {
   "cell_type": "code",
   "execution_count": null,
   "id": "f67ea750-0bad-4d5a-aef1-f240ad0f3f14",
   "metadata": {},
   "outputs": [],
   "source": [
    "acp_col_map = {\n",
    "    \"ProjectName\": \"Project\",\n",
    "    \"PhaseName\": \"Phase\",\n",
    "    \"PhaseType\": \"Technology\",\n",
    "    \"MW_Total_Capacity\": \"Capacity (MW)\",\n",
    "    \"Units_Online\": \"Units Online\",\n",
    "    \"YearsOnline\": \"Year Online\", # assume these year online and quarters online columns are the same\n",
    "    \"QuartersOnline\": \"Quarter\",\n",
    "    \"States\": \"State\",\n",
    "    \"StateHouses\": \"State House\",\n",
    "    \"CongressionalDistricts\": \"Congressional District\",\n",
    "    \"StateSenates\": \"State Senate\",\n",
    "    \"ISORTOs\": \"RTO/ISO\",\n",
    "    \"Developers\": \"Developer\",\n",
    "    \"Owners\": \"Owner\",\n",
    "    \"Manufacturers\": \"Manufacturer\",\n",
    "    \"Models\": \"Model\",\n",
    "    \"NameplateMWs\": \"Nameplate (MW)\",\n",
    "    \"StorageDurations\": \"Duration (hr)\",\n",
    "    \"PowerPurchasers\": \"Power Purchaser\"\n",
    "}"
   ]
  },
  {
   "cell_type": "code",
   "execution_count": null,
   "id": "3765d1da-609a-4e28-b9e5-d527db7a16f9",
   "metadata": {},
   "outputs": [],
   "source": [
    "acp_rename = acp_old.rename(columns=acp_col_map)"
   ]
  },
  {
   "cell_type": "code",
   "execution_count": null,
   "id": "8d883801-8c3f-49a7-a74b-fb6f174b39fe",
   "metadata": {},
   "outputs": [],
   "source": [
    "lost_cols = set(acp_rename.columns) - set(acp_new.columns)"
   ]
  }
 ],
 "metadata": {
  "kernelspec": {
   "display_name": "Python 3 (ipykernel)",
   "language": "python",
   "name": "python3"
  },
  "language_info": {
   "codemirror_mode": {
    "name": "ipython",
    "version": 3
   },
   "file_extension": ".py",
   "mimetype": "text/x-python",
   "name": "python",
   "nbconvert_exporter": "python",
   "pygments_lexer": "ipython3",
   "version": "3.10.18"
  }
 },
 "nbformat": 4,
 "nbformat_minor": 5
}
