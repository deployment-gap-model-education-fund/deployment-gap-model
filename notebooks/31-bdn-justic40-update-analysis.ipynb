{
 "cells": [
  {
   "cell_type": "code",
   "execution_count": 1,
   "id": "49b61c4b-3b9b-460f-b24c-3e261e5b1965",
   "metadata": {},
   "outputs": [],
   "source": [
    "import pandas as pd"
   ]
  },
  {
   "cell_type": "code",
   "execution_count": 4,
   "id": "dff8a553-606c-4781-8a0c-381dedd58417",
   "metadata": {},
   "outputs": [],
   "source": [
    "from dbcp.helpers import get_sql_engine\n",
    "\n",
    "engine = get_sql_engine()"
   ]
  },
  {
   "cell_type": "code",
   "execution_count": 10,
   "id": "d91060c7-43f4-4860-abe7-89d300420aea",
   "metadata": {},
   "outputs": [],
   "source": [
    "with engine.connect() as con:\n",
    "    counties_1 = pd.read_sql_table(\"counties_wide_format\", con, schema=\"data_mart\")"
   ]
  },
  {
   "cell_type": "code",
   "execution_count": 19,
   "id": "eda25ae9-0980-4a75-856d-98c94227c0b0",
   "metadata": {},
   "outputs": [
    {
     "data": {
      "text/plain": [
       "False    3230\n",
       "True        4\n",
       "Name: justice40_dbcp_index, dtype: int64"
      ]
     },
     "execution_count": 19,
     "metadata": {},
     "output_type": "execute_result"
    }
   ],
   "source": [
    "counties_1.justice40_dbcp_index.isna().value_counts()"
   ]
  },
  {
   "cell_type": "markdown",
   "id": "366793ef-7f92-40fa-87e2-9a58e58c346b",
   "metadata": {},
   "source": [
    "## Load snapshot"
   ]
  },
  {
   "cell_type": "code",
   "execution_count": 20,
   "id": "a0c62202-f94c-409b-b112-83582db8fde5",
   "metadata": {},
   "outputs": [
    {
     "name": "stdout",
     "output_type": "stream",
     "text": [
      "Please visit this URL to authorize this application: https://accounts.google.com/o/oauth2/auth?response_type=code&client_id=262006177488-ka1m0ue4fptfmt9siejdd5lom7p39upa.apps.googleusercontent.com&redirect_uri=https%3A%2F%2Fpydata-google-auth.readthedocs.io%2Fen%2Flatest%2Foauth.html&scope=https%3A%2F%2Fwww.googleapis.com%2Fauth%2Fcloud-platform&state=ge1WF8gFk6SZWJiJg7kbZ6SphwSjCO&access_type=offline\n"
     ]
    },
    {
     "name": "stdin",
     "output_type": "stream",
     "text": [
      "Enter the authorization code:  4/0AZEOvhXnXsyw0QjqcCFeDgUrQAEx9bbtLw9TFdYEz2vu1Eh0lYzdazldJxByh2mtByD_ZA\n"
     ]
    }
   ],
   "source": [
    "import os\n",
    "import pydata_google_auth\n",
    "\n",
    "GCP_PROJECT_ID = os.environ.get(\"GCP_PROJECT_ID\")\n",
    "\n",
    "SCOPES = [\n",
    "    \"https://www.googleapis.com/auth/cloud-platform\",\n",
    "]\n",
    "\n",
    "credentials = pydata_google_auth.get_user_credentials(\n",
    "    SCOPES, use_local_webserver=False\n",
    ")"
   ]
  },
  {
   "cell_type": "code",
   "execution_count": 26,
   "id": "b67eb415-64ee-4582-a668-6854f3d22268",
   "metadata": {},
   "outputs": [],
   "source": [
    "import pandas_gbq\n",
    "\n",
    "# Update the in-memory credentials cache (added in pandas-gbq 0.7.0).\n",
    "pandas_gbq.context.credentials = credentials\n",
    "pandas_gbq.context.project = \"dbcp-dev-350818\""
   ]
  },
  {
   "cell_type": "code",
   "execution_count": 27,
   "id": "b229a1cf-88a2-49f1-93dc-0f6bfeaf86e1",
   "metadata": {},
   "outputs": [
    {
     "name": "stdout",
     "output_type": "stream",
     "text": [
      "Downloading: 100%|\u001b[32m██████████\u001b[0m|\n"
     ]
    }
   ],
   "source": [
    "counties_beta = pandas_gbq.read_gbq(\"select * from dbcp-dev-350818.data_mart_dev.counties_wide_format_justice40_beta\")"
   ]
  },
  {
   "cell_type": "markdown",
   "id": "2186bff3-41a3-4009-9419-4b247aba0fa1",
   "metadata": {},
   "source": [
    "## Compare"
   ]
  },
  {
   "cell_type": "code",
   "execution_count": 13,
   "id": "e156d135-3673-4c6e-987c-b92b75acb57f",
   "metadata": {},
   "outputs": [
    {
     "data": {
      "text/plain": [
       "count    3230.000000\n",
       "mean        1.860139\n",
       "std         1.438222\n",
       "min         0.000000\n",
       "25%         0.500000\n",
       "50%         2.000000\n",
       "75%         3.000000\n",
       "max         6.000000\n",
       "Name: justice40_dbcp_index, dtype: float64"
      ]
     },
     "execution_count": 13,
     "metadata": {},
     "output_type": "execute_result"
    }
   ],
   "source": [
    "counties_1.justice40_dbcp_index.describe()"
   ]
  },
  {
   "cell_type": "code",
   "execution_count": 28,
   "id": "60a40a0f-4094-4818-b2e1-08d1984d5f4e",
   "metadata": {},
   "outputs": [
    {
     "data": {
      "text/plain": [
       "count    3230.000000\n",
       "mean        1.799536\n",
       "std         1.508551\n",
       "min         0.000000\n",
       "25%         0.000000\n",
       "50%         1.750000\n",
       "75%         3.000000\n",
       "max         6.000000\n",
       "Name: justice40_dbcp_index, dtype: float64"
      ]
     },
     "execution_count": 28,
     "metadata": {},
     "output_type": "execute_result"
    }
   ],
   "source": [
    "counties_beta.justice40_dbcp_index.describe()"
   ]
  },
  {
   "cell_type": "code",
   "execution_count": 15,
   "id": "84eb5165-d593-444f-90f5-cbce58e32643",
   "metadata": {},
   "outputs": [
    {
     "data": {
      "text/plain": [
       "<AxesSubplot: ylabel='Frequency'>"
      ]
     },
     "execution_count": 15,
     "metadata": {},
     "output_type": "execute_result"
    },
    {
     "data": {
      "image/png": "[encoded data removed]",
      "text/plain": [
       "<Figure size 640x480 with 1 Axes>"
      ]
     },
     "metadata": {},
     "output_type": "display_data"
    }
   ],
   "source": [
    "counties_1.justice40_dbcp_index.plot.hist(bins=20)"
   ]
  },
  {
   "cell_type": "code",
   "execution_count": 36,
   "id": "bf2ccf3d-1ca5-4ea2-845e-b6e794db87f6",
   "metadata": {},
   "outputs": [],
   "source": [
    "cols = [\"county_id_fips\", \"justice40_dbcp_index\"]\n",
    "\n",
    "counties_merged = counties_1[cols].merge(counties_beta[cols], on=\"county_id_fips\", how=\"outer\", validate=\"1:1\", suffixes=(\"_1\", \"_beta\"))"
   ]
  },
  {
   "cell_type": "code",
   "execution_count": 37,
   "id": "beb509a8-9eba-4b3f-9be3-24a7a222d4b8",
   "metadata": {},
   "outputs": [
    {
     "data": {
      "text/html": [
       "<div>\n",
       "<style scoped>\n",
       "    .dataframe tbody tr th:only-of-type {\n",
       "        vertical-align: middle;\n",
       "    }\n",
       "\n",
       "    .dataframe tbody tr th {\n",
       "        vertical-align: top;\n",
       "    }\n",
       "\n",
       "    .dataframe thead th {\n",
       "        text-align: right;\n",
       "    }\n",
       "</style>\n",
       "<table border=\"1\" class=\"dataframe\">\n",
       "  <thead>\n",
       "    <tr style=\"text-align: right;\">\n",
       "      <th></th>\n",
       "      <th>county_id_fips</th>\n",
       "      <th>justice40_dbcp_index_1</th>\n",
       "      <th>justice40_dbcp_index_beta</th>\n",
       "    </tr>\n",
       "  </thead>\n",
       "  <tbody>\n",
       "    <tr>\n",
       "      <th>0</th>\n",
       "      <td>31039</td>\n",
       "      <td>0.00</td>\n",
       "      <td>0.00</td>\n",
       "    </tr>\n",
       "    <tr>\n",
       "      <th>1</th>\n",
       "      <td>53069</td>\n",
       "      <td>0.00</td>\n",
       "      <td>0.00</td>\n",
       "    </tr>\n",
       "    <tr>\n",
       "      <th>2</th>\n",
       "      <td>35011</td>\n",
       "      <td>0.50</td>\n",
       "      <td>0.50</td>\n",
       "    </tr>\n",
       "    <tr>\n",
       "      <th>3</th>\n",
       "      <td>31109</td>\n",
       "      <td>5.25</td>\n",
       "      <td>4.25</td>\n",
       "    </tr>\n",
       "    <tr>\n",
       "      <th>4</th>\n",
       "      <td>31129</td>\n",
       "      <td>2.50</td>\n",
       "      <td>0.00</td>\n",
       "    </tr>\n",
       "    <tr>\n",
       "      <th>...</th>\n",
       "      <td>...</td>\n",
       "      <td>...</td>\n",
       "      <td>...</td>\n",
       "    </tr>\n",
       "    <tr>\n",
       "      <th>3229</th>\n",
       "      <td>26091</td>\n",
       "      <td>1.50</td>\n",
       "      <td>2.25</td>\n",
       "    </tr>\n",
       "    <tr>\n",
       "      <th>3230</th>\n",
       "      <td>27135</td>\n",
       "      <td>0.00</td>\n",
       "      <td>0.00</td>\n",
       "    </tr>\n",
       "    <tr>\n",
       "      <th>3231</th>\n",
       "      <td>28089</td>\n",
       "      <td>3.75</td>\n",
       "      <td>3.75</td>\n",
       "    </tr>\n",
       "    <tr>\n",
       "      <th>3232</th>\n",
       "      <td>48227</td>\n",
       "      <td>3.00</td>\n",
       "      <td>3.75</td>\n",
       "    </tr>\n",
       "    <tr>\n",
       "      <th>3233</th>\n",
       "      <td>54099</td>\n",
       "      <td>3.75</td>\n",
       "      <td>4.50</td>\n",
       "    </tr>\n",
       "  </tbody>\n",
       "</table>\n",
       "<p>3234 rows × 3 columns</p>\n",
       "</div>"
      ],
      "text/plain": [
       "     county_id_fips  justice40_dbcp_index_1  justice40_dbcp_index_beta\n",
       "0             31039                    0.00                       0.00\n",
       "1             53069                    0.00                       0.00\n",
       "2             35011                    0.50                       0.50\n",
       "3             31109                    5.25                       4.25\n",
       "4             31129                    2.50                       0.00\n",
       "...             ...                     ...                        ...\n",
       "3229          26091                    1.50                       2.25\n",
       "3230          27135                    0.00                       0.00\n",
       "3231          28089                    3.75                       3.75\n",
       "3232          48227                    3.00                       3.75\n",
       "3233          54099                    3.75                       4.50\n",
       "\n",
       "[3234 rows x 3 columns]"
      ]
     },
     "execution_count": 37,
     "metadata": {},
     "output_type": "execute_result"
    }
   ],
   "source": [
    "counties_merged"
   ]
  },
  {
   "cell_type": "markdown",
   "id": "89e43910-5f0a-45a4-9815-d9e1ce35be8f",
   "metadata": {},
   "source": [
    "- How many counties have different values?\n",
    "- Of the counties that have new numbers, what's the distribution of how they changed?"
   ]
  },
  {
   "cell_type": "code",
   "execution_count": 47,
   "id": "c41dd792-a43e-4a31-9b21-f7f897787eaf",
   "metadata": {},
   "outputs": [],
   "source": [
    "# (counties_merged.justice40_dbcp_index_1 - counties_merged.justice40_dbcp_index_beta) / counties_merged.justice40_dbcp_index_beta\n",
    "counties_merged[\"index_diff\"] = (counties_merged.justice40_dbcp_index_1 - counties_merged.justice40_dbcp_index_beta)"
   ]
  },
  {
   "cell_type": "code",
   "execution_count": 50,
   "id": "a477fcae-ab59-490f-8ff0-a90e88458c80",
   "metadata": {},
   "outputs": [
    {
     "data": {
      "text/plain": [
       "True     0.705318\n",
       "False    0.294682\n",
       "Name: index_diff, dtype: float64"
      ]
     },
     "execution_count": 50,
     "metadata": {},
     "output_type": "execute_result"
    }
   ],
   "source": [
    "unchanged_index = (counties_merged.index_diff == 0.0)\n",
    "\n",
    "unchanged_index.value_counts(normalize=True)"
   ]
  },
  {
   "cell_type": "code",
   "execution_count": 56,
   "id": "f6f636ba-659b-48e5-b63e-52a5da3b77ba",
   "metadata": {},
   "outputs": [],
   "source": [
    "counties_changed_index = counties_merged[~unchanged_index]\n",
    "\n",
    "counties_changed_index_pct = counties_changed_index.index_diff / counties_changed_index.justice40_dbcp_index_beta"
   ]
  },
  {
   "cell_type": "code",
   "execution_count": 59,
   "id": "f7624879-1d8a-4a8b-beef-d596e0a3c1d4",
   "metadata": {},
   "outputs": [
    {
     "data": {
      "text/plain": [
       "count    949.000000\n",
       "mean            inf\n",
       "std             NaN\n",
       "min       -1.000000\n",
       "25%       -0.230769\n",
       "50%        0.200000\n",
       "75%        1.500000\n",
       "max             inf\n",
       "dtype: float64"
      ]
     },
     "execution_count": 59,
     "metadata": {},
     "output_type": "execute_result"
    }
   ],
   "source": [
    "counties_changed_index_pct.describe()"
   ]
  },
  {
   "cell_type": "code",
   "execution_count": 58,
   "id": "659b0b16-d0f6-4432-8486-ea3f8ce36ad0",
   "metadata": {},
   "outputs": [
    {
     "data": {
      "text/plain": [
       "<AxesSubplot: >"
      ]
     },
     "execution_count": 58,
     "metadata": {},
     "output_type": "execute_result"
    },
    {
     "data": {
      "image/png": "[encoded data removed]",
      "text/plain": [
       "<Figure size 640x480 with 1 Axes>"
      ]
     },
     "metadata": {},
     "output_type": "display_data"
    }
   ],
   "source": [
    "counties_changed_index_pct.plot.box()"
   ]
  },
  {
   "cell_type": "code",
   "execution_count": 60,
   "id": "34a9f1ab-1452-4472-a9ed-4b6dd41fbed3",
   "metadata": {},
   "outputs": [
    {
     "data": {
      "text/plain": [
       " inf         200\n",
       "-0.333333     59\n",
       "-0.200000     47\n",
       "-0.272727     44\n",
       "-0.230769     32\n",
       "            ... \n",
       " 0.083333      1\n",
       " 0.071429      1\n",
       " 0.187500      1\n",
       "-0.066667      1\n",
       "-0.100000      1\n",
       "Length: 99, dtype: int64"
      ]
     },
     "execution_count": 60,
     "metadata": {},
     "output_type": "execute_result"
    }
   ],
   "source": [
    "counties_changed_index_pct.value_counts()"
   ]
  },
  {
   "cell_type": "code",
   "execution_count": 63,
   "id": "9a3e99e2-5c0b-4d11-b6c7-521f0cd1a7f2",
   "metadata": {},
   "outputs": [
    {
     "data": {
      "text/plain": [
       "True     530\n",
       "False    423\n",
       "dtype: int64"
      ]
     },
     "execution_count": 63,
     "metadata": {},
     "output_type": "execute_result"
    }
   ],
   "source": [
    "(counties_changed_index.justice40_dbcp_index_1 > counties_changed_index.justice40_dbcp_index_beta).value_counts()"
   ]
  },
  {
   "cell_type": "code",
   "execution_count": null,
   "id": "96be05ba-46d4-4384-8c1c-0c018dca3e0b",
   "metadata": {},
   "outputs": [],
   "source": []
  }
 ],
 "metadata": {
  "kernelspec": {
   "display_name": "Python 3 (ipykernel)",
   "language": "python",
   "name": "python3"
  },
  "language_info": {
   "codemirror_mode": {
    "name": "ipython",
    "version": 3
   },
   "file_extension": ".py",
   "mimetype": "text/x-python",
   "name": "python",
   "nbconvert_exporter": "python",
   "pygments_lexer": "ipython3",
   "version": "3.10.11"
  }
 },
 "nbformat": 4,
 "nbformat_minor": 5
}
