{
 "cells": [
  {
   "cell_type": "code",
   "execution_count": 1,
   "id": "46b6a1ab-786a-4632-bc07-0bcbc79f93a0",
   "metadata": {},
   "outputs": [
    {
     "name": "stderr",
     "output_type": "stream",
     "text": [
      "/app/.local/lib/python3.10/site-packages/geopandas/_compat.py:123: UserWarning: The Shapely GEOS version (3.11.1-CAPI-1.17.1) is incompatible with the GEOS version PyGEOS was compiled with (3.10.3-CAPI-1.16.1). Conversions between both will be slow.\n",
      "  warnings.warn(\n",
      "/app/.local/lib/python3.10/site-packages/pudl/analysis/spatial.py:7: UserWarning: Shapely 2.0 is installed, but because PyGEOS is also installed, GeoPandas will still use PyGEOS by default for now. To force to use and test Shapely 2.0, you have to set the environment variable USE_PYGEOS=0. You can do this before starting the Python process, or in your code before importing geopandas:\n",
      "\n",
      "import os\n",
      "os.environ['USE_PYGEOS'] = '0'\n",
      "import geopandas\n",
      "\n",
      "In a future release, GeoPandas will switch to using Shapely by default. If you are using PyGEOS directly (calling PyGEOS functions on geometries from GeoPandas), this will then stop working and you are encouraged to migrate from PyGEOS to Shapely 2.0 (https://shapely.readthedocs.io/en/latest/migration_pygeos.html).\n",
      "  import geopandas as gpd\n"
     ]
    }
   ],
   "source": [
    "import dbcp"
   ]
  },
  {
   "cell_type": "code",
   "execution_count": 2,
   "id": "4838a807-0f29-4c04-ac76-bcc39f6c870e",
   "metadata": {},
   "outputs": [],
   "source": [
    "source_uri = \"gs://dgm-archive/ballot_ready/BallotReady_upcoming_races_with_counties_08_14_2023.csv\"\n",
    "raw_df = dbcp.extract.ballot_ready.extract(source_uri)"
   ]
  },
  {
   "cell_type": "code",
   "execution_count": 5,
   "id": "f671c540-12d0-4295-88aa-8d67730d5eb5",
   "metadata": {},
   "outputs": [],
   "source": [
    "raw_ballot_ready = raw_df[\"raw_ballot_ready\"]"
   ]
  },
  {
   "cell_type": "code",
   "execution_count": 7,
   "id": "1bde508d-217b-4475-b07d-0f171b185239",
   "metadata": {},
   "outputs": [],
   "source": [
    "ballot_ready = raw_ballot_ready.convert_dtypes()\n",
    "\n",
    "# Explode counties column\n",
    "ballot_ready[\"counties\"] = (\n",
    "    ballot_ready.counties.str.replace('\"', \"\").str[1:-1].str.split(\", \")\n",
    ")\n",
    "\n",
    "exp_ballot_ready = ballot_ready.explode(\"counties\").rename(\n",
    "    columns={\"counties\": \"county\"}\n",
    ")"
   ]
  },
  {
   "cell_type": "code",
   "execution_count": 11,
   "id": "a42e77c8-4002-4979-9d51-29b84f89bf5b",
   "metadata": {},
   "outputs": [],
   "source": [
    "duplicate_race = exp_ballot_ready.duplicated(\n",
    "        subset=[\"county\", \"race_id\"], keep=False\n",
    "    )"
   ]
  },
  {
   "cell_type": "code",
   "execution_count": 16,
   "id": "07db98a7-1aca-4d27-bb25-e07f94b6ec33",
   "metadata": {},
   "outputs": [
    {
     "data": {
      "text/plain": [
       "False    188780\n",
       "True         20\n",
       "dtype: int64"
      ]
     },
     "execution_count": 16,
     "metadata": {},
     "output_type": "execute_result"
    }
   ],
   "source": [
    "duplicate_race.value_counts()"
   ]
  },
  {
   "cell_type": "code",
   "execution_count": 17,
   "id": "2cd0ebcd-4270-40ea-8264-1ab935d4ac55",
   "metadata": {},
   "outputs": [
    {
     "data": {
      "text/plain": [
       "20"
      ]
     },
     "execution_count": 17,
     "metadata": {},
     "output_type": "execute_result"
    }
   ],
   "source": [
    "duplicate_race.sum()"
   ]
  },
  {
   "cell_type": "code",
   "execution_count": 18,
   "id": "73dd6752-26f3-4aa0-a95d-1a3f46fb47e1",
   "metadata": {},
   "outputs": [],
   "source": [
    "exp_ballot_ready[duplicate_race].to_csv(\"br_duplicate_raw_counties.csv\")"
   ]
  },
  {
   "cell_type": "code",
   "execution_count": 19,
   "id": "7e45a70c-c943-44b9-877d-2d88464a162d",
   "metadata": {},
   "outputs": [
    {
     "data": {
      "text/html": [
       "<div>\n",
       "<style scoped>\n",
       "    .dataframe tbody tr th:only-of-type {\n",
       "        vertical-align: middle;\n",
       "    }\n",
       "\n",
       "    .dataframe tbody tr th {\n",
       "        vertical-align: top;\n",
       "    }\n",
       "\n",
       "    .dataframe thead th {\n",
       "        text-align: right;\n",
       "    }\n",
       "</style>\n",
       "<table border=\"1\" class=\"dataframe\">\n",
       "  <thead>\n",
       "    <tr style=\"text-align: right;\">\n",
       "      <th></th>\n",
       "      <th>id</th>\n",
       "      <th>election_id</th>\n",
       "      <th>election_name</th>\n",
       "      <th>election_day</th>\n",
       "      <th>race_id</th>\n",
       "      <th>is_primary</th>\n",
       "      <th>is_runoff</th>\n",
       "      <th>is_unexpired</th>\n",
       "      <th>position_id</th>\n",
       "      <th>position_name</th>\n",
       "      <th>sub_area_name</th>\n",
       "      <th>sub_area_value</th>\n",
       "      <th>sub_area_name_secondary</th>\n",
       "      <th>sub_area_value_secondary</th>\n",
       "      <th>state</th>\n",
       "      <th>level</th>\n",
       "      <th>tier</th>\n",
       "      <th>is_judicial</th>\n",
       "      <th>is_retention</th>\n",
       "      <th>number_of_seats</th>\n",
       "      <th>normalized_position_id</th>\n",
       "      <th>normalized_position_name</th>\n",
       "      <th>position_description</th>\n",
       "      <th>frequency</th>\n",
       "      <th>reference_year</th>\n",
       "      <th>partisan_type</th>\n",
       "      <th>county</th>\n",
       "      <th>race_created_at</th>\n",
       "      <th>race_updated_at</th>\n",
       "    </tr>\n",
       "  </thead>\n",
       "  <tbody>\n",
       "    <tr>\n",
       "      <th>218</th>\n",
       "      <td>1371024</td>\n",
       "      <td>4245</td>\n",
       "      <td>Idaho General Election</td>\n",
       "      <td>2024-11-05</td>\n",
       "      <td>1371024</td>\n",
       "      <td>False</td>\n",
       "      <td>False</td>\n",
       "      <td>False</td>\n",
       "      <td>269679</td>\n",
       "      <td>Latah County Commission - District 3</td>\n",
       "      <td>District</td>\n",
       "      <td>3</td>\n",
       "      <td>&lt;NA&gt;</td>\n",
       "      <td>&lt;NA&gt;</td>\n",
       "      <td>ID</td>\n",
       "      <td>county</td>\n",
       "      <td>3</td>\n",
       "      <td>False</td>\n",
       "      <td>False</td>\n",
       "      <td>1</td>\n",
       "      <td>910</td>\n",
       "      <td>County Legislature//Executive Board</td>\n",
       "      <td>The County Legislature or Executive Board is t...</td>\n",
       "      <td>[2, 4]</td>\n",
       "      <td>2022</td>\n",
       "      <td>partisan</td>\n",
       "      <td>Benewah County</td>\n",
       "      <td>2020-01-14 23:08:36.661</td>\n",
       "      <td>2020-01-14 23:08:36.661</td>\n",
       "    </tr>\n",
       "    <tr>\n",
       "      <th>218</th>\n",
       "      <td>1371024</td>\n",
       "      <td>4245</td>\n",
       "      <td>Idaho General Election</td>\n",
       "      <td>2024-11-05</td>\n",
       "      <td>1371024</td>\n",
       "      <td>False</td>\n",
       "      <td>False</td>\n",
       "      <td>False</td>\n",
       "      <td>269679</td>\n",
       "      <td>Latah County Commission - District 3</td>\n",
       "      <td>District</td>\n",
       "      <td>3</td>\n",
       "      <td>&lt;NA&gt;</td>\n",
       "      <td>&lt;NA&gt;</td>\n",
       "      <td>ID</td>\n",
       "      <td>county</td>\n",
       "      <td>3</td>\n",
       "      <td>False</td>\n",
       "      <td>False</td>\n",
       "      <td>1</td>\n",
       "      <td>910</td>\n",
       "      <td>County Legislature//Executive Board</td>\n",
       "      <td>The County Legislature or Executive Board is t...</td>\n",
       "      <td>[2, 4]</td>\n",
       "      <td>2022</td>\n",
       "      <td>partisan</td>\n",
       "      <td>Clearwater County</td>\n",
       "      <td>2020-01-14 23:08:36.661</td>\n",
       "      <td>2020-01-14 23:08:36.661</td>\n",
       "    </tr>\n",
       "    <tr>\n",
       "      <th>218</th>\n",
       "      <td>1371024</td>\n",
       "      <td>4245</td>\n",
       "      <td>Idaho General Election</td>\n",
       "      <td>2024-11-05</td>\n",
       "      <td>1371024</td>\n",
       "      <td>False</td>\n",
       "      <td>False</td>\n",
       "      <td>False</td>\n",
       "      <td>269679</td>\n",
       "      <td>Latah County Commission - District 3</td>\n",
       "      <td>District</td>\n",
       "      <td>3</td>\n",
       "      <td>&lt;NA&gt;</td>\n",
       "      <td>&lt;NA&gt;</td>\n",
       "      <td>ID</td>\n",
       "      <td>county</td>\n",
       "      <td>3</td>\n",
       "      <td>False</td>\n",
       "      <td>False</td>\n",
       "      <td>1</td>\n",
       "      <td>910</td>\n",
       "      <td>County Legislature//Executive Board</td>\n",
       "      <td>The County Legislature or Executive Board is t...</td>\n",
       "      <td>[2, 4]</td>\n",
       "      <td>2022</td>\n",
       "      <td>partisan</td>\n",
       "      <td>Latah County</td>\n",
       "      <td>2020-01-14 23:08:36.661</td>\n",
       "      <td>2020-01-14 23:08:36.661</td>\n",
       "    </tr>\n",
       "    <tr>\n",
       "      <th>218</th>\n",
       "      <td>1371024</td>\n",
       "      <td>4245</td>\n",
       "      <td>Idaho General Election</td>\n",
       "      <td>2024-11-05</td>\n",
       "      <td>1371024</td>\n",
       "      <td>False</td>\n",
       "      <td>False</td>\n",
       "      <td>False</td>\n",
       "      <td>269679</td>\n",
       "      <td>Latah County Commission - District 3</td>\n",
       "      <td>District</td>\n",
       "      <td>3</td>\n",
       "      <td>&lt;NA&gt;</td>\n",
       "      <td>&lt;NA&gt;</td>\n",
       "      <td>ID</td>\n",
       "      <td>county</td>\n",
       "      <td>3</td>\n",
       "      <td>False</td>\n",
       "      <td>False</td>\n",
       "      <td>1</td>\n",
       "      <td>910</td>\n",
       "      <td>County Legislature//Executive Board</td>\n",
       "      <td>The County Legislature or Executive Board is t...</td>\n",
       "      <td>[2, 4]</td>\n",
       "      <td>2022</td>\n",
       "      <td>partisan</td>\n",
       "      <td>Nez Perce County</td>\n",
       "      <td>2020-01-14 23:08:36.661</td>\n",
       "      <td>2020-01-14 23:08:36.661</td>\n",
       "    </tr>\n",
       "  </tbody>\n",
       "</table>\n",
       "</div>"
      ],
      "text/plain": [
       "          id  election_id           election_name election_day  race_id  is_primary  is_runoff  is_unexpired  position_id                         position_name sub_area_name sub_area_value sub_area_name_secondary sub_area_value_secondary state   level  tier  is_judicial  is_retention  number_of_seats  normalized_position_id             normalized_position_name                               position_description frequency  reference_year partisan_type             county          race_created_at          race_updated_at\n",
       "218  1371024         4245  Idaho General Election   2024-11-05  1371024       False      False         False       269679  Latah County Commission - District 3      District              3                    <NA>                     <NA>    ID  county     3        False         False                1                     910  County Legislature//Executive Board  The County Legislature or Executive Board is t...    [2, 4]            2022      partisan     Benewah County  2020-01-14 23:08:36.661  2020-01-14 23:08:36.661\n",
       "218  1371024         4245  Idaho General Election   2024-11-05  1371024       False      False         False       269679  Latah County Commission - District 3      District              3                    <NA>                     <NA>    ID  county     3        False         False                1                     910  County Legislature//Executive Board  The County Legislature or Executive Board is t...    [2, 4]            2022      partisan  Clearwater County  2020-01-14 23:08:36.661  2020-01-14 23:08:36.661\n",
       "218  1371024         4245  Idaho General Election   2024-11-05  1371024       False      False         False       269679  Latah County Commission - District 3      District              3                    <NA>                     <NA>    ID  county     3        False         False                1                     910  County Legislature//Executive Board  The County Legislature or Executive Board is t...    [2, 4]            2022      partisan       Latah County  2020-01-14 23:08:36.661  2020-01-14 23:08:36.661\n",
       "218  1371024         4245  Idaho General Election   2024-11-05  1371024       False      False         False       269679  Latah County Commission - District 3      District              3                    <NA>                     <NA>    ID  county     3        False         False                1                     910  County Legislature//Executive Board  The County Legislature or Executive Board is t...    [2, 4]            2022      partisan   Nez Perce County  2020-01-14 23:08:36.661  2020-01-14 23:08:36.661"
      ]
     },
     "execution_count": 19,
     "metadata": {},
     "output_type": "execute_result"
    }
   ],
   "source": [
    "raw_ballot_r.query(\"race_id == 1371024\")"
   ]
  },
  {
   "cell_type": "code",
   "execution_count": null,
   "id": "7c87ac13-1f9c-4a6b-aff1-2134fb8367f7",
   "metadata": {},
   "outputs": [],
   "source": []
  }
 ],
 "metadata": {
  "kernelspec": {
   "display_name": "Python 3 (ipykernel)",
   "language": "python",
   "name": "python3"
  },
  "language_info": {
   "codemirror_mode": {
    "name": "ipython",
    "version": 3
   },
   "file_extension": ".py",
   "mimetype": "text/x-python",
   "name": "python",
   "nbconvert_exporter": "python",
   "pygments_lexer": "ipython3",
   "version": "3.10.12"
  }
 },
 "nbformat": 4,
 "nbformat_minor": 5
}
