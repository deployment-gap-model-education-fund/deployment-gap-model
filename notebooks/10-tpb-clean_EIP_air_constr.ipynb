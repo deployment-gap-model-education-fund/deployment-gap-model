{
 "cells": [
  {
   "cell_type": "code",
   "execution_count": 1,
   "id": "e2c4ba01-efa8-41f4-93ab-85d9452d6fe2",
   "metadata": {},
   "outputs": [],
   "source": [
    "%load_ext autoreload"
   ]
  },
  {
   "cell_type": "code",
   "execution_count": 2,
   "id": "c5fc3217-d4ed-4e3e-8a98-6fdc06769175",
   "metadata": {},
   "outputs": [],
   "source": [
    "%autoreload 2"
   ]
  },
  {
   "cell_type": "code",
   "execution_count": 3,
   "id": "baeedb9e-01aa-4702-9a82-174d677751b9",
   "metadata": {},
   "outputs": [],
   "source": [
    "import pandas as pd\n",
    "import numpy as np\n",
    "from pathlib import Path"
   ]
  },
  {
   "cell_type": "code",
   "execution_count": 4,
   "id": "c6d862f9-e588-451c-a679-1176589b0705",
   "metadata": {},
   "outputs": [],
   "source": [
    "path = Path('/app/data/raw/2022.03.22OGW.xlsx')\n",
    "assert path.exists()"
   ]
  },
  {
   "cell_type": "code",
   "execution_count": 5,
   "id": "89f17641-8b0d-45dd-970c-a3faa79e17b0",
   "metadata": {},
   "outputs": [],
   "source": [
    "# eip = dbcp.extract.eip_infrastructure.extract(path)\n",
    "# hardcode the extract function so this notebook can be easily rerun in the future without maintenance\n",
    "air = pd.read_excel(path, sheet_name='Air Construction')"
   ]
  },
  {
   "cell_type": "code",
   "execution_count": 6,
   "id": "956821db-2798-467e-ba75-78534afcd85a",
   "metadata": {},
   "outputs": [],
   "source": [
    "pd.options.display.max_columns = 100\n",
    "pd.options.display.max_rows = 100"
   ]
  },
  {
   "cell_type": "code",
   "execution_count": 7,
   "id": "f20883b9-8047-4f50-935b-14afb51d6bc3",
   "metadata": {},
   "outputs": [
    {
     "data": {
      "text/plain": [
       "(836, 26)"
      ]
     },
     "execution_count": 7,
     "metadata": {},
     "output_type": "execute_result"
    }
   ],
   "source": [
    "air.shape"
   ]
  },
  {
   "cell_type": "markdown",
   "id": "ca8a087d-f556-4cb2-b9a7-540ab84a27a6",
   "metadata": {},
   "source": [
    "# Cleaning\n",
    "## Projects Cleaning\n",
    "Columns I care about:\n",
    "* id\n",
    "* name\n",
    "* modified on\n",
    "* project ID (1:m as arrays)\n",
    "* statute (1:m as arrays)\n",
    "* permit type (1:m as arrays)\n",
    "* permitting action (1:m as arrays)\n",
    "* permit status\n",
    "* description\n",
    "* research notes\n",
    "\n",
    "Cleaning Checklist:\n",
    "- [x] Accuracy\n",
    "- [x] Atomicity\n",
    "- [ ] Consistency\n",
    "- [x] Completeness\n",
    "- [x] Uniformity\n",
    "- [x] Validity\n",
    "    - [x] Range Validation\n",
    "    - [x] Uniqueness Validation\n",
    "    - [x] Set Membership Validation\n",
    "    - [x] Type Validation\n",
    "    - [x] Cross-Field Validation"
   ]
  },
  {
   "cell_type": "markdown",
   "id": "ff749ff2-dea9-4d5b-ac51-950666adc19a",
   "metadata": {},
   "source": [
    "### Accuracy\n",
    "The most important item to spot check here is the permit status. \"Final\" permit statuses are of little interest and also presumably don't change over time, so I'll only check 1 of those.\n",
    "\n",
    "Results: 4/4 match dates and status 👍🏼"
   ]
  },
  {
   "cell_type": "code",
   "execution_count": 8,
   "id": "90eeaf6e-e70e-4b7f-bbc3-7f9913d28884",
   "metadata": {},
   "outputs": [
    {
     "data": {
      "text/html": [
       "<div>\n",
       "<style scoped>\n",
       "    .dataframe tbody tr th:only-of-type {\n",
       "        vertical-align: middle;\n",
       "    }\n",
       "\n",
       "    .dataframe tbody tr th {\n",
       "        vertical-align: top;\n",
       "    }\n",
       "\n",
       "    .dataframe thead th {\n",
       "        text-align: right;\n",
       "    }\n",
       "</style>\n",
       "<table border=\"1\" class=\"dataframe\">\n",
       "  <thead>\n",
       "    <tr style=\"text-align: right;\">\n",
       "      <th></th>\n",
       "      <th>id</th>\n",
       "      <th>name</th>\n",
       "      <th>created_by</th>\n",
       "      <th>created_on</th>\n",
       "      <th>modified_by</th>\n",
       "      <th>modified_on</th>\n",
       "      <th>private</th>\n",
       "      <th>Date Last Checked</th>\n",
       "      <th>Project (ID)</th>\n",
       "      <th>Project</th>\n",
       "      <th>Statute</th>\n",
       "      <th>Permit Type</th>\n",
       "      <th>Permitting Action</th>\n",
       "      <th>Permit Status</th>\n",
       "      <th>Description or Purpose</th>\n",
       "      <th>Application Date</th>\n",
       "      <th>Draft Permit Issuance Date</th>\n",
       "      <th>Last Day to Comment</th>\n",
       "      <th>Final Permit Issuance Date</th>\n",
       "      <th>Deadline to Begin Construction</th>\n",
       "      <th>Document(s)</th>\n",
       "      <th>Detailed Permitting History</th>\n",
       "      <th>Research Notes</th>\n",
       "      <th>Document URL</th>\n",
       "      <th>Review Flag</th>\n",
       "      <th>FOIA Flag</th>\n",
       "    </tr>\n",
       "  </thead>\n",
       "  <tbody>\n",
       "    <tr>\n",
       "      <th>5</th>\n",
       "      <td>1591</td>\n",
       "      <td>AQ1539CPT01</td>\n",
       "      <td>EIP Test Account</td>\n",
       "      <td>2021-05-20T19:18:48.607217</td>\n",
       "      <td>Griffin Bird</td>\n",
       "      <td>2022-02-09T16:26:23.548159</td>\n",
       "      <td>False</td>\n",
       "      <td>NaN</td>\n",
       "      <td>2944</td>\n",
       "      <td>Alaska LNG - New Liquefaction Plant[2944]</td>\n",
       "      <td>Clean Air Act</td>\n",
       "      <td>Major</td>\n",
       "      <td>Initial</td>\n",
       "      <td>Draft Issued</td>\n",
       "      <td>Permits authorizing initial construction of th...</td>\n",
       "      <td>2018-05-01</td>\n",
       "      <td>2020-09-11</td>\n",
       "      <td>2020-12-10</td>\n",
       "      <td>NaN</td>\n",
       "      <td>NaN</td>\n",
       "      <td>{u'url': u'https://api.oilandgaswatch.org/d/9a...</td>\n",
       "      <td>AQ1539CPT01 (draft permit issued 9/11/2020)</td>\n",
       "      <td>Public comment period ends 12/10/2020. Emissio...</td>\n",
       "      <td>NaN</td>\n",
       "      <td>NaN</td>\n",
       "      <td>NaN</td>\n",
       "    </tr>\n",
       "    <tr>\n",
       "      <th>294</th>\n",
       "      <td>1979</td>\n",
       "      <td>1280-00132</td>\n",
       "      <td>EIP Test Account</td>\n",
       "      <td>2021-05-20T19:18:48.607217</td>\n",
       "      <td>Alexandra Shaykevich</td>\n",
       "      <td>2022-03-09T17:46:37.380210</td>\n",
       "      <td>False</td>\n",
       "      <td>NaN</td>\n",
       "      <td>2892</td>\n",
       "      <td>Gulf LNG Liquefaction Project[2892]</td>\n",
       "      <td>Clean Air Act</td>\n",
       "      <td>Major</td>\n",
       "      <td>Initial</td>\n",
       "      <td>Application Pending</td>\n",
       "      <td>This application, if approved, would authorize...</td>\n",
       "      <td>2015-06-17</td>\n",
       "      <td>NaN</td>\n",
       "      <td>NaN</td>\n",
       "      <td>NaN</td>\n",
       "      <td>NaN</td>\n",
       "      <td>{u'url': u'https://api.oilandgaswatch.org/d/ce...</td>\n",
       "      <td>Application submitted 9/30/2015, revised 3/29/...</td>\n",
       "      <td>No final permit as of 2/10/2022. GB</td>\n",
       "      <td>NaN</td>\n",
       "      <td>NaN</td>\n",
       "      <td>NaN</td>\n",
       "    </tr>\n",
       "    <tr>\n",
       "      <th>719</th>\n",
       "      <td>4278</td>\n",
       "      <td>0560-00990-V1</td>\n",
       "      <td>Alexandra Shaykevich</td>\n",
       "      <td>2021-10-20T14:53:16.529822</td>\n",
       "      <td>Griffin Bird</td>\n",
       "      <td>2022-02-23T19:34:06.789121</td>\n",
       "      <td>False</td>\n",
       "      <td>2022-02-23</td>\n",
       "      <td>2825</td>\n",
       "      <td>Delfin Onshore Facility - Initial Construction...</td>\n",
       "      <td>Clean Air Act</td>\n",
       "      <td>True Minor</td>\n",
       "      <td>Renewal, Extension</td>\n",
       "      <td>Draft Issued</td>\n",
       "      <td>Application to renew Permit No. 0560-00990-V0,...</td>\n",
       "      <td>2021-01-05</td>\n",
       "      <td>2022-02-22</td>\n",
       "      <td>2022-03-29</td>\n",
       "      <td>NaN</td>\n",
       "      <td>NaN</td>\n",
       "      <td>{u'url': u'https://api.oilandgaswatch.org/d/4f...</td>\n",
       "      <td>NaN</td>\n",
       "      <td>NaN</td>\n",
       "      <td>NaN</td>\n",
       "      <td>NaN</td>\n",
       "      <td>NaN</td>\n",
       "    </tr>\n",
       "  </tbody>\n",
       "</table>\n",
       "</div>"
      ],
      "text/plain": [
       "       id           name            created_by                  created_on  \\\n",
       "5    1591    AQ1539CPT01      EIP Test Account  2021-05-20T19:18:48.607217   \n",
       "294  1979     1280-00132      EIP Test Account  2021-05-20T19:18:48.607217   \n",
       "719  4278  0560-00990-V1  Alexandra Shaykevich  2021-10-20T14:53:16.529822   \n",
       "\n",
       "              modified_by                 modified_on  private  \\\n",
       "5            Griffin Bird  2022-02-09T16:26:23.548159    False   \n",
       "294  Alexandra Shaykevich  2022-03-09T17:46:37.380210    False   \n",
       "719          Griffin Bird  2022-02-23T19:34:06.789121    False   \n",
       "\n",
       "    Date Last Checked Project (ID)  \\\n",
       "5                 NaN         2944   \n",
       "294               NaN         2892   \n",
       "719        2022-02-23         2825   \n",
       "\n",
       "                                               Project        Statute  \\\n",
       "5            Alaska LNG - New Liquefaction Plant[2944]  Clean Air Act   \n",
       "294                Gulf LNG Liquefaction Project[2892]  Clean Air Act   \n",
       "719  Delfin Onshore Facility - Initial Construction...  Clean Air Act   \n",
       "\n",
       "    Permit Type   Permitting Action        Permit Status  \\\n",
       "5         Major             Initial         Draft Issued   \n",
       "294       Major             Initial  Application Pending   \n",
       "719  True Minor  Renewal, Extension         Draft Issued   \n",
       "\n",
       "                                Description or Purpose Application Date  \\\n",
       "5    Permits authorizing initial construction of th...       2018-05-01   \n",
       "294  This application, if approved, would authorize...       2015-06-17   \n",
       "719  Application to renew Permit No. 0560-00990-V0,...       2021-01-05   \n",
       "\n",
       "    Draft Permit Issuance Date Last Day to Comment Final Permit Issuance Date  \\\n",
       "5                   2020-09-11          2020-12-10                        NaN   \n",
       "294                        NaN                 NaN                        NaN   \n",
       "719                 2022-02-22          2022-03-29                        NaN   \n",
       "\n",
       "    Deadline to Begin Construction  \\\n",
       "5                              NaN   \n",
       "294                            NaN   \n",
       "719                            NaN   \n",
       "\n",
       "                                           Document(s)  \\\n",
       "5    {u'url': u'https://api.oilandgaswatch.org/d/9a...   \n",
       "294  {u'url': u'https://api.oilandgaswatch.org/d/ce...   \n",
       "719  {u'url': u'https://api.oilandgaswatch.org/d/4f...   \n",
       "\n",
       "                           Detailed Permitting History  \\\n",
       "5          AQ1539CPT01 (draft permit issued 9/11/2020)   \n",
       "294  Application submitted 9/30/2015, revised 3/29/...   \n",
       "719                                                NaN   \n",
       "\n",
       "                                        Research Notes Document URL  \\\n",
       "5    Public comment period ends 12/10/2020. Emissio...          NaN   \n",
       "294                No final permit as of 2/10/2022. GB          NaN   \n",
       "719                                                NaN          NaN   \n",
       "\n",
       "    Review Flag FOIA Flag  \n",
       "5           NaN       NaN  \n",
       "294         NaN       NaN  \n",
       "719         NaN       NaN  "
      ]
     },
     "execution_count": 8,
     "metadata": {},
     "output_type": "execute_result"
    }
   ],
   "source": [
    "filter_ = air['Permit Status'].isin({\"Application Pending\", \"Draft Issued\"})\n",
    "air.loc[filter_,:].sample(3, random_state=42)"
   ]
  },
  {
   "cell_type": "markdown",
   "id": "41e44fd6-625b-4f2f-b565-7146d2d697cf",
   "metadata": {},
   "source": [
    "Alaska LNG Liquifaction Plant: confirmed on [AK DEC website](https://dec.alaska.gov/Applications/Air/airtoolsweb/AirPermitsApprovalsAndPublicNotices). Dates match, status is a little more ambiguous but I think \"draft\" is right.\n",
    "\n",
    "Gulf LNG: confirmed on [MS state website](https://opcgis.deq.state.ms.us/enonline/ai_info.aspx?ai=23844). Application date and status match.\n",
    "\n",
    "Delfin LNG: confirmed on [LA DEQ website](https://deq.louisiana.gov/public-notices?keyword=delfin&startDate=&endDate=). Dates and status match."
   ]
  },
  {
   "cell_type": "code",
   "execution_count": 9,
   "id": "87037267-65b8-480a-a55f-bc69ea60b723",
   "metadata": {},
   "outputs": [
    {
     "data": {
      "text/html": [
       "<div>\n",
       "<style scoped>\n",
       "    .dataframe tbody tr th:only-of-type {\n",
       "        vertical-align: middle;\n",
       "    }\n",
       "\n",
       "    .dataframe tbody tr th {\n",
       "        vertical-align: top;\n",
       "    }\n",
       "\n",
       "    .dataframe thead th {\n",
       "        text-align: right;\n",
       "    }\n",
       "</style>\n",
       "<table border=\"1\" class=\"dataframe\">\n",
       "  <thead>\n",
       "    <tr style=\"text-align: right;\">\n",
       "      <th></th>\n",
       "      <th>id</th>\n",
       "      <th>name</th>\n",
       "      <th>created_by</th>\n",
       "      <th>created_on</th>\n",
       "      <th>modified_by</th>\n",
       "      <th>modified_on</th>\n",
       "      <th>private</th>\n",
       "      <th>Date Last Checked</th>\n",
       "      <th>Project (ID)</th>\n",
       "      <th>Project</th>\n",
       "      <th>Statute</th>\n",
       "      <th>Permit Type</th>\n",
       "      <th>Permitting Action</th>\n",
       "      <th>Permit Status</th>\n",
       "      <th>Description or Purpose</th>\n",
       "      <th>Application Date</th>\n",
       "      <th>Draft Permit Issuance Date</th>\n",
       "      <th>Last Day to Comment</th>\n",
       "      <th>Final Permit Issuance Date</th>\n",
       "      <th>Deadline to Begin Construction</th>\n",
       "      <th>Document(s)</th>\n",
       "      <th>Detailed Permitting History</th>\n",
       "      <th>Research Notes</th>\n",
       "      <th>Document URL</th>\n",
       "      <th>Review Flag</th>\n",
       "      <th>FOIA Flag</th>\n",
       "    </tr>\n",
       "  </thead>\n",
       "  <tbody>\n",
       "    <tr>\n",
       "      <th>789</th>\n",
       "      <td>4688</td>\n",
       "      <td>159014 - Heim Plant Expansion</td>\n",
       "      <td>Alexandra Shaykevich</td>\n",
       "      <td>2022-01-03T19:58:39.079966</td>\n",
       "      <td>Alexandra Shaykevich</td>\n",
       "      <td>2022-01-15T23:10:06.193460</td>\n",
       "      <td>False</td>\n",
       "      <td>NaN</td>\n",
       "      <td>4684</td>\n",
       "      <td>Heim Gas Plant - Initial Construction[4684]</td>\n",
       "      <td>Clean Air Act</td>\n",
       "      <td>True Minor</td>\n",
       "      <td>Major Modification</td>\n",
       "      <td>Final Issued</td>\n",
       "      <td>Permit by Rule authorized maintenance, startup...</td>\n",
       "      <td>2021-08-04</td>\n",
       "      <td>NaN</td>\n",
       "      <td>NaN</td>\n",
       "      <td>2021-08-30</td>\n",
       "      <td>NaN</td>\n",
       "      <td>{u'url': u'https://api.oilandgaswatch.org/d/97...</td>\n",
       "      <td>NaN</td>\n",
       "      <td>https://www15.tceq.texas.gov/crpub/index.cfm?f...</td>\n",
       "      <td>NaN</td>\n",
       "      <td>NaN</td>\n",
       "      <td>NaN</td>\n",
       "    </tr>\n",
       "  </tbody>\n",
       "</table>\n",
       "</div>"
      ],
      "text/plain": [
       "       id                           name            created_by  \\\n",
       "789  4688  159014 - Heim Plant Expansion  Alexandra Shaykevich   \n",
       "\n",
       "                     created_on           modified_by  \\\n",
       "789  2022-01-03T19:58:39.079966  Alexandra Shaykevich   \n",
       "\n",
       "                    modified_on  private Date Last Checked Project (ID)  \\\n",
       "789  2022-01-15T23:10:06.193460    False               NaN         4684   \n",
       "\n",
       "                                         Project        Statute Permit Type  \\\n",
       "789  Heim Gas Plant - Initial Construction[4684]  Clean Air Act  True Minor   \n",
       "\n",
       "      Permitting Action Permit Status  \\\n",
       "789  Major Modification  Final Issued   \n",
       "\n",
       "                                Description or Purpose Application Date  \\\n",
       "789  Permit by Rule authorized maintenance, startup...       2021-08-04   \n",
       "\n",
       "    Draft Permit Issuance Date Last Day to Comment Final Permit Issuance Date  \\\n",
       "789                        NaN                 NaN                 2021-08-30   \n",
       "\n",
       "    Deadline to Begin Construction  \\\n",
       "789                            NaN   \n",
       "\n",
       "                                           Document(s)  \\\n",
       "789  {u'url': u'https://api.oilandgaswatch.org/d/97...   \n",
       "\n",
       "    Detailed Permitting History  \\\n",
       "789                         NaN   \n",
       "\n",
       "                                        Research Notes Document URL  \\\n",
       "789  https://www15.tceq.texas.gov/crpub/index.cfm?f...          NaN   \n",
       "\n",
       "    Review Flag FOIA Flag  \n",
       "789         NaN       NaN  "
      ]
     },
     "execution_count": 9,
     "metadata": {},
     "output_type": "execute_result"
    }
   ],
   "source": [
    "filter_ = air['Permit Status'].eq(\"Final Issued\")\n",
    "air.loc[filter_,:].sample(1, random_state=42)"
   ]
  },
  {
   "cell_type": "markdown",
   "id": "851dd81d-a162-4d57-84b3-cc8db8b661a3",
   "metadata": {},
   "source": [
    "Heim Gas Plant Expansion: confirmed at [TX CEQ website](https://www15.tceq.texas.gov/crpub/index.cfm?fuseaction=iwr.pgmdetail&addn_id=120534092019308&re_id=578462662019220&program_code=AIRNSR&lgcy_sys_cd=NSR&program=AIR%20NEW%20SOURCE%20PERMITS&IdType=REG). Dates and status match."
   ]
  },
  {
   "cell_type": "markdown",
   "id": "c26eb9fa-d49d-45d1-8bd0-55cfdd2bf79f",
   "metadata": {},
   "source": [
    "### Atomicity\n",
    "Most of the columns are 1:m values encoded as csv array strings, but most values are singletons. See Range Validation and Set Membership Validation for decisions on modeling as 1:1 vs 1:m."
   ]
  },
  {
   "cell_type": "markdown",
   "id": "d2cad23f-ae34-4def-8d92-f0170795324a",
   "metadata": {},
   "source": [
    "### Completeness\n",
    "For this purpose, I'll limit the scope of 'completeness' to only look at missing values within the data. For better or worse, it is EIP's job to ensure projects are in the dataset at all.\n",
    "\n",
    "We are not interested in already-issued permits, so I'll remove those and assess completeness based on the remaining subset.\n",
    "\n",
    "Notable missing values and lack of missing values:\n",
    "* The only 3 records missing project ID + permit info are entirely NaN rows"
   ]
  },
  {
   "cell_type": "code",
   "execution_count": 14,
   "id": "657869cb-3d9a-4aa8-b59b-effd1937e880",
   "metadata": {},
   "outputs": [],
   "source": [
    "def calc(num, denom=105):\n",
    "    percent = 1- num/denom\n",
    "    n = denom - num\n",
    "    return f\"{n}/{denom} ({percent*100:.1f}%)\""
   ]
  },
  {
   "cell_type": "code",
   "execution_count": 15,
   "id": "d800298e-66fc-4945-9391-c2cb64525ddc",
   "metadata": {},
   "outputs": [
    {
     "data": {
      "text/plain": [
       "'3/105 (2.9%)'"
      ]
     },
     "execution_count": 15,
     "metadata": {},
     "output_type": "execute_result"
    }
   ],
   "source": [
    "calc(102)"
   ]
  },
  {
   "cell_type": "code",
   "execution_count": 11,
   "id": "785834ff-c1b8-4a8b-a1ab-5ab1caaae064",
   "metadata": {},
   "outputs": [
    {
     "data": {
      "text/plain": [
       "836"
      ]
     },
     "execution_count": 11,
     "metadata": {},
     "output_type": "execute_result"
    }
   ],
   "source": [
    "len(air)"
   ]
  },
  {
   "cell_type": "code",
   "execution_count": 12,
   "id": "f7f3e23e-18a4-4926-b9d3-97f1cedbefe2",
   "metadata": {},
   "outputs": [
    {
     "data": {
      "text/plain": [
       "Final Issued                                      731\n",
       "Application Pending                                29\n",
       "Draft Issued                                       28\n",
       "Expired                                            20\n",
       "Withdrawn (UARG v. EPA 134 S. Ct. 2427 (2014))     12\n",
       "Withdrawn                                           8\n",
       "Void                                                4\n",
       "Denied                                              1\n",
       "Name: Permit Status, dtype: int64"
      ]
     },
     "execution_count": 12,
     "metadata": {},
     "output_type": "execute_result"
    }
   ],
   "source": [
    "air['Permit Status'].value_counts()"
   ]
  },
  {
   "cell_type": "code",
   "execution_count": 13,
   "id": "8e61e153-c971-4697-8519-111774343618",
   "metadata": {},
   "outputs": [
    {
     "data": {
      "text/plain": [
       "id                                105\n",
       "name                              103\n",
       "created_by                        105\n",
       "created_on                        105\n",
       "modified_by                       105\n",
       "modified_on                       105\n",
       "private                           105\n",
       "Date Last Checked                  38\n",
       "Project (ID)                      102\n",
       "Project                           102\n",
       "Statute                           102\n",
       "Permit Type                       102\n",
       "Permitting Action                 101\n",
       "Permit Status                     102\n",
       "Description or Purpose             90\n",
       "Application Date                   95\n",
       "Draft Permit Issuance Date         32\n",
       "Last Day to Comment                31\n",
       "Final Permit Issuance Date         40\n",
       "Deadline to Begin Construction     26\n",
       "Document(s)                        89\n",
       "Detailed Permitting History        43\n",
       "Research Notes                     80\n",
       "Document URL                        4\n",
       "Review Flag                         1\n",
       "FOIA Flag                           3\n",
       "dtype: int64"
      ]
     },
     "execution_count": 13,
     "metadata": {},
     "output_type": "execute_result"
    }
   ],
   "source": [
    "air.loc[air['Permit Status'].ne('Final Issued'),:].count().T"
   ]
  },
  {
   "cell_type": "code",
   "execution_count": 17,
   "id": "93b4b985-e6a6-40b3-a057-12fd43dc2b81",
   "metadata": {},
   "outputs": [
    {
     "data": {
      "text/html": [
       "<div>\n",
       "<style scoped>\n",
       "    .dataframe tbody tr th:only-of-type {\n",
       "        vertical-align: middle;\n",
       "    }\n",
       "\n",
       "    .dataframe tbody tr th {\n",
       "        vertical-align: top;\n",
       "    }\n",
       "\n",
       "    .dataframe thead th {\n",
       "        text-align: right;\n",
       "    }\n",
       "</style>\n",
       "<table border=\"1\" class=\"dataframe\">\n",
       "  <thead>\n",
       "    <tr style=\"text-align: right;\">\n",
       "      <th></th>\n",
       "      <th>id</th>\n",
       "      <th>name</th>\n",
       "      <th>created_by</th>\n",
       "      <th>created_on</th>\n",
       "      <th>modified_by</th>\n",
       "      <th>modified_on</th>\n",
       "      <th>private</th>\n",
       "      <th>Date Last Checked</th>\n",
       "      <th>Project (ID)</th>\n",
       "      <th>Project</th>\n",
       "      <th>Statute</th>\n",
       "      <th>Permit Type</th>\n",
       "      <th>Permitting Action</th>\n",
       "      <th>Permit Status</th>\n",
       "      <th>Description or Purpose</th>\n",
       "      <th>Application Date</th>\n",
       "      <th>Draft Permit Issuance Date</th>\n",
       "      <th>Last Day to Comment</th>\n",
       "      <th>Final Permit Issuance Date</th>\n",
       "      <th>Deadline to Begin Construction</th>\n",
       "      <th>Document(s)</th>\n",
       "      <th>Detailed Permitting History</th>\n",
       "      <th>Research Notes</th>\n",
       "      <th>Document URL</th>\n",
       "      <th>Review Flag</th>\n",
       "      <th>FOIA Flag</th>\n",
       "    </tr>\n",
       "  </thead>\n",
       "  <tbody>\n",
       "    <tr>\n",
       "      <th>613</th>\n",
       "      <td>3169</td>\n",
       "      <td>NaN</td>\n",
       "      <td>Courtney Bernhardt</td>\n",
       "      <td>2021-07-06T12:27:00.231068</td>\n",
       "      <td>Commons Cloud Bot</td>\n",
       "      <td>2021-07-06T12:27:00.231068</td>\n",
       "      <td>True</td>\n",
       "      <td>NaN</td>\n",
       "      <td>NaN</td>\n",
       "      <td>NaN</td>\n",
       "      <td>NaN</td>\n",
       "      <td>NaN</td>\n",
       "      <td>NaN</td>\n",
       "      <td>NaN</td>\n",
       "      <td>NaN</td>\n",
       "      <td>NaN</td>\n",
       "      <td>NaN</td>\n",
       "      <td>NaN</td>\n",
       "      <td>NaN</td>\n",
       "      <td>NaN</td>\n",
       "      <td>NaN</td>\n",
       "      <td>NaN</td>\n",
       "      <td>NaN</td>\n",
       "      <td>NaN</td>\n",
       "      <td>NaN</td>\n",
       "      <td>NaN</td>\n",
       "    </tr>\n",
       "    <tr>\n",
       "      <th>614</th>\n",
       "      <td>3170</td>\n",
       "      <td>NaN</td>\n",
       "      <td>Courtney Bernhardt</td>\n",
       "      <td>2021-07-06T12:27:32.120889</td>\n",
       "      <td>Commons Cloud Bot</td>\n",
       "      <td>2021-07-06T12:27:32.120889</td>\n",
       "      <td>True</td>\n",
       "      <td>NaN</td>\n",
       "      <td>NaN</td>\n",
       "      <td>NaN</td>\n",
       "      <td>NaN</td>\n",
       "      <td>NaN</td>\n",
       "      <td>NaN</td>\n",
       "      <td>NaN</td>\n",
       "      <td>NaN</td>\n",
       "      <td>NaN</td>\n",
       "      <td>NaN</td>\n",
       "      <td>NaN</td>\n",
       "      <td>NaN</td>\n",
       "      <td>NaN</td>\n",
       "      <td>NaN</td>\n",
       "      <td>NaN</td>\n",
       "      <td>NaN</td>\n",
       "      <td>NaN</td>\n",
       "      <td>NaN</td>\n",
       "      <td>NaN</td>\n",
       "    </tr>\n",
       "    <tr>\n",
       "      <th>831</th>\n",
       "      <td>4874</td>\n",
       "      <td>156320, PSDTX1558M1, GHGPSDTX193M1</td>\n",
       "      <td>Griffin Bird</td>\n",
       "      <td>2022-03-17T02:30:28.758823</td>\n",
       "      <td>Griffin Bird</td>\n",
       "      <td>2022-03-17T02:30:33.514155</td>\n",
       "      <td>True</td>\n",
       "      <td>NaN</td>\n",
       "      <td>NaN</td>\n",
       "      <td>NaN</td>\n",
       "      <td>NaN</td>\n",
       "      <td>NaN</td>\n",
       "      <td>NaN</td>\n",
       "      <td>NaN</td>\n",
       "      <td>NaN</td>\n",
       "      <td>NaN</td>\n",
       "      <td>NaN</td>\n",
       "      <td>NaN</td>\n",
       "      <td>NaN</td>\n",
       "      <td>NaN</td>\n",
       "      <td>NaN</td>\n",
       "      <td>NaN</td>\n",
       "      <td>NaN</td>\n",
       "      <td>NaN</td>\n",
       "      <td>NaN</td>\n",
       "      <td>NaN</td>\n",
       "    </tr>\n",
       "  </tbody>\n",
       "</table>\n",
       "</div>"
      ],
      "text/plain": [
       "       id                                name          created_by  \\\n",
       "613  3169                                 NaN  Courtney Bernhardt   \n",
       "614  3170                                 NaN  Courtney Bernhardt   \n",
       "831  4874  156320, PSDTX1558M1, GHGPSDTX193M1        Griffin Bird   \n",
       "\n",
       "                     created_on        modified_by  \\\n",
       "613  2021-07-06T12:27:00.231068  Commons Cloud Bot   \n",
       "614  2021-07-06T12:27:32.120889  Commons Cloud Bot   \n",
       "831  2022-03-17T02:30:28.758823       Griffin Bird   \n",
       "\n",
       "                    modified_on  private Date Last Checked Project (ID)  \\\n",
       "613  2021-07-06T12:27:00.231068     True               NaN          NaN   \n",
       "614  2021-07-06T12:27:32.120889     True               NaN          NaN   \n",
       "831  2022-03-17T02:30:33.514155     True               NaN          NaN   \n",
       "\n",
       "    Project Statute Permit Type Permitting Action Permit Status  \\\n",
       "613     NaN     NaN         NaN               NaN           NaN   \n",
       "614     NaN     NaN         NaN               NaN           NaN   \n",
       "831     NaN     NaN         NaN               NaN           NaN   \n",
       "\n",
       "    Description or Purpose Application Date Draft Permit Issuance Date  \\\n",
       "613                    NaN              NaN                        NaN   \n",
       "614                    NaN              NaN                        NaN   \n",
       "831                    NaN              NaN                        NaN   \n",
       "\n",
       "    Last Day to Comment Final Permit Issuance Date  \\\n",
       "613                 NaN                        NaN   \n",
       "614                 NaN                        NaN   \n",
       "831                 NaN                        NaN   \n",
       "\n",
       "    Deadline to Begin Construction Document(s) Detailed Permitting History  \\\n",
       "613                            NaN         NaN                         NaN   \n",
       "614                            NaN         NaN                         NaN   \n",
       "831                            NaN         NaN                         NaN   \n",
       "\n",
       "    Research Notes Document URL Review Flag FOIA Flag  \n",
       "613            NaN          NaN         NaN       NaN  \n",
       "614            NaN          NaN         NaN       NaN  \n",
       "831            NaN          NaN         NaN       NaN  "
      ]
     },
     "execution_count": 17,
     "metadata": {},
     "output_type": "execute_result"
    }
   ],
   "source": [
    "air.loc[air['Permit Status'].isna(),:]"
   ]
  },
  {
   "cell_type": "markdown",
   "id": "ba7ce60a-5785-48bb-8e45-faedcb66ae50",
   "metadata": {},
   "source": [
    "### Consistency - defer\n",
    "Defer until I've cleaned the related datasets\n",
    "### Uniformity\n",
    "Important columns to check consistent representation:\n",
    "* all array fields -- check consistent delimiters\n",
    "    * project ID (1:m as arrays)\n",
    "    * statute (1:m as arrays)\n",
    "    * permit type (1:m as arrays)\n",
    "    * permitting action (1:m as arrays)\n",
    "* modified on -- check consistent date format"
   ]
  },
  {
   "cell_type": "markdown",
   "id": "81618c73-29a6-4c6e-918e-35e315adc7c6",
   "metadata": {},
   "source": [
    "#### Array Fields\n",
    "Want to check for consistent array delimiters."
   ]
  },
  {
   "cell_type": "code",
   "execution_count": 26,
   "id": "4192a0cf-af5e-4ecc-9b99-a02372ac86cf",
   "metadata": {},
   "outputs": [],
   "source": [
    "# exclude ID cols with numeric types (no arrays present)\n",
    "id_cols = [\n",
    "    'Project (ID)',    \n",
    "]"
   ]
  },
  {
   "cell_type": "code",
   "execution_count": 22,
   "id": "61e14d01-63c2-48fb-bc94-24681e31aa8b",
   "metadata": {},
   "outputs": [],
   "source": [
    "# mandatory opening pattern, optional delimiter, optional repeating pattern, optional closing pattern, mandatory end of line\n",
    "array_pattern = r'(?:\\d{3,5})(?:, ?)?(?:\\d{3,5}, ?)*(?:\\d{3,5})?$'"
   ]
  },
  {
   "cell_type": "code",
   "execution_count": 23,
   "id": "4581b919-0f49-4e2d-bb26-7ef34de04e0c",
   "metadata": {},
   "outputs": [
    {
     "data": {
      "text/html": [
       "<div>\n",
       "<style scoped>\n",
       "    .dataframe tbody tr th:only-of-type {\n",
       "        vertical-align: middle;\n",
       "    }\n",
       "\n",
       "    .dataframe tbody tr th {\n",
       "        vertical-align: top;\n",
       "    }\n",
       "\n",
       "    .dataframe thead th {\n",
       "        text-align: right;\n",
       "    }\n",
       "</style>\n",
       "<table border=\"1\" class=\"dataframe\">\n",
       "  <thead>\n",
       "    <tr style=\"text-align: right;\">\n",
       "      <th></th>\n",
       "      <th>0</th>\n",
       "      <th>1</th>\n",
       "    </tr>\n",
       "  </thead>\n",
       "  <tbody>\n",
       "    <tr>\n",
       "      <th>0</th>\n",
       "      <td>1234</td>\n",
       "      <td>True</td>\n",
       "    </tr>\n",
       "    <tr>\n",
       "      <th>1</th>\n",
       "      <td>1234,567</td>\n",
       "      <td>True</td>\n",
       "    </tr>\n",
       "    <tr>\n",
       "      <th>2</th>\n",
       "      <td>1234, 567</td>\n",
       "      <td>True</td>\n",
       "    </tr>\n",
       "    <tr>\n",
       "      <th>3</th>\n",
       "      <td>12345, 678, 9012</td>\n",
       "      <td>True</td>\n",
       "    </tr>\n",
       "    <tr>\n",
       "      <th>4</th>\n",
       "      <td>1234\\t5678</td>\n",
       "      <td>False</td>\n",
       "    </tr>\n",
       "    <tr>\n",
       "      <th>5</th>\n",
       "      <td>12, 3456</td>\n",
       "      <td>False</td>\n",
       "    </tr>\n",
       "    <tr>\n",
       "      <th>6</th>\n",
       "      <td>1234    5678</td>\n",
       "      <td>False</td>\n",
       "    </tr>\n",
       "  </tbody>\n",
       "</table>\n",
       "</div>"
      ],
      "text/plain": [
       "                  0      1\n",
       "0              1234   True\n",
       "1          1234,567   True\n",
       "2         1234, 567   True\n",
       "3  12345, 678, 9012   True\n",
       "4        1234\\t5678  False\n",
       "5          12, 3456  False\n",
       "6      1234    5678  False"
      ]
     },
     "execution_count": 23,
     "metadata": {},
     "output_type": "execute_result"
    }
   ],
   "source": [
    "test_case = pd.Series([\n",
    "    '1234',\n",
    "    '1234,567',\n",
    "    '1234, 567',\n",
    "    '12345, 678, 9012',\n",
    "    '1234\\t5678', # tab is bad, no comma\n",
    "    '12, 3456', # too short\n",
    "    '1234    5678', # too many spaces, no comma\n",
    "])\n",
    "pd.concat([test_case, test_case.str.match(array_pattern)], axis=1)"
   ]
  },
  {
   "cell_type": "code",
   "execution_count": 27,
   "id": "3557314c-34c4-4597-b390-5bd98b55c8f7",
   "metadata": {},
   "outputs": [],
   "source": [
    "# all pass the formatting test\n",
    "for col in id_cols:\n",
    "    assert air[col].str.match(array_pattern).all()"
   ]
  },
  {
   "cell_type": "code",
   "execution_count": 36,
   "id": "57066b86-4577-4c6f-9355-34d1e12c8c83",
   "metadata": {},
   "outputs": [],
   "source": [
    "array_cols = [\n",
    "    'Permitting Action', \n",
    "    'Permit Type',\n",
    "    'Statute',\n",
    "]"
   ]
  },
  {
   "cell_type": "code",
   "execution_count": 37,
   "id": "e8902f98-a856-41ff-80e9-ee48a60f6358",
   "metadata": {},
   "outputs": [],
   "source": [
    "special_chars = air.loc[:, array_cols].copy()\n",
    "for col in array_cols:\n",
    "    special_chars.loc[:, col] = special_chars.loc[:, col].str.replace('\\w|\\s|,', '', regex=True)"
   ]
  },
  {
   "cell_type": "code",
   "execution_count": 38,
   "id": "a068c30c-b3a6-4f2f-873f-479f394942f6",
   "metadata": {},
   "outputs": [
    {
     "data": {
      "text/html": [
       "<div>\n",
       "<style scoped>\n",
       "    .dataframe tbody tr th:only-of-type {\n",
       "        vertical-align: middle;\n",
       "    }\n",
       "\n",
       "    .dataframe tbody tr th {\n",
       "        vertical-align: top;\n",
       "    }\n",
       "\n",
       "    .dataframe thead th {\n",
       "        text-align: right;\n",
       "    }\n",
       "</style>\n",
       "<table border=\"1\" class=\"dataframe\">\n",
       "  <thead>\n",
       "    <tr style=\"text-align: right;\">\n",
       "      <th></th>\n",
       "      <th>Permitting Action</th>\n",
       "      <th>Permit Type</th>\n",
       "      <th>Statute</th>\n",
       "    </tr>\n",
       "  </thead>\n",
       "  <tbody>\n",
       "  </tbody>\n",
       "</table>\n",
       "</div>"
      ],
      "text/plain": [
       "Empty DataFrame\n",
       "Columns: [Permitting Action, Permit Type, Statute]\n",
       "Index: []"
      ]
     },
     "execution_count": 38,
     "metadata": {},
     "output_type": "execute_result"
    }
   ],
   "source": [
    "# no other delimiters present\n",
    "special_chars.loc[special_chars.fillna('').ne('').any(axis=1),:]"
   ]
  },
  {
   "cell_type": "markdown",
   "id": "bf55c928-4a98-4d3c-8589-326fa56dfcd0",
   "metadata": {},
   "source": [
    "#### Date Modified"
   ]
  },
  {
   "cell_type": "code",
   "execution_count": 29,
   "id": "b15fc622-b691-4362-a0b0-0425c66e73c7",
   "metadata": {},
   "outputs": [
    {
     "data": {
      "text/plain": [
       "(dtype('<M8[ns]'), 0)"
      ]
     },
     "execution_count": 29,
     "metadata": {},
     "output_type": "execute_result"
    }
   ],
   "source": [
    "# to_datetime works on all values present\n",
    "timestamps = pd.to_datetime(air['modified_on'], errors='raise')\n",
    "timestamps.dtypes, timestamps.isna().sum()"
   ]
  },
  {
   "cell_type": "markdown",
   "id": "ab2e7376-ddba-425b-be75-12a2ec54d668",
   "metadata": {},
   "source": [
    "### Range Validation\n",
    "Check project ID and date modified"
   ]
  },
  {
   "cell_type": "markdown",
   "id": "89dc9a3d-8791-4794-8f66-724ea3728d08",
   "metadata": {},
   "source": [
    "#### Project ID"
   ]
  },
  {
   "cell_type": "code",
   "execution_count": 43,
   "id": "f09ee92b-c24d-47bd-80be-b105fefdad96",
   "metadata": {},
   "outputs": [
    {
     "data": {
      "text/html": [
       "<div>\n",
       "<style scoped>\n",
       "    .dataframe tbody tr th:only-of-type {\n",
       "        vertical-align: middle;\n",
       "    }\n",
       "\n",
       "    .dataframe tbody tr th {\n",
       "        vertical-align: top;\n",
       "    }\n",
       "\n",
       "    .dataframe thead th {\n",
       "        text-align: right;\n",
       "    }\n",
       "</style>\n",
       "<table border=\"1\" class=\"dataframe\">\n",
       "  <thead>\n",
       "    <tr style=\"text-align: right;\">\n",
       "      <th></th>\n",
       "      <th>0</th>\n",
       "      <th>1</th>\n",
       "    </tr>\n",
       "  </thead>\n",
       "  <tbody>\n",
       "    <tr>\n",
       "      <th>0</th>\n",
       "      <td>2723.0</td>\n",
       "      <td>NaN</td>\n",
       "    </tr>\n",
       "    <tr>\n",
       "      <th>1</th>\n",
       "      <td>2723.0</td>\n",
       "      <td>NaN</td>\n",
       "    </tr>\n",
       "    <tr>\n",
       "      <th>2</th>\n",
       "      <td>2728.0</td>\n",
       "      <td>NaN</td>\n",
       "    </tr>\n",
       "    <tr>\n",
       "      <th>3</th>\n",
       "      <td>2727.0</td>\n",
       "      <td>NaN</td>\n",
       "    </tr>\n",
       "    <tr>\n",
       "      <th>4</th>\n",
       "      <td>2875.0</td>\n",
       "      <td>NaN</td>\n",
       "    </tr>\n",
       "  </tbody>\n",
       "</table>\n",
       "</div>"
      ],
      "text/plain": [
       "        0   1\n",
       "0  2723.0 NaN\n",
       "1  2723.0 NaN\n",
       "2  2728.0 NaN\n",
       "3  2727.0 NaN\n",
       "4  2875.0 NaN"
      ]
     },
     "execution_count": 43,
     "metadata": {},
     "output_type": "execute_result"
    }
   ],
   "source": [
    "proj_ids = air['Project (ID)'].str.split(',', expand=True)\n",
    "for col in fac_ids.columns:\n",
    "    proj_ids.loc[:, col] = pd.to_numeric(proj_ids.loc[:, col], errors='raise')\n",
    "\n",
    "proj_ids.head()"
   ]
  },
  {
   "cell_type": "code",
   "execution_count": 44,
   "id": "3e7db424-53e9-43c3-aa0a-c6da2fb81023",
   "metadata": {},
   "outputs": [
    {
     "data": {
      "text/html": [
       "<div>\n",
       "<style scoped>\n",
       "    .dataframe tbody tr th:only-of-type {\n",
       "        vertical-align: middle;\n",
       "    }\n",
       "\n",
       "    .dataframe tbody tr th {\n",
       "        vertical-align: top;\n",
       "    }\n",
       "\n",
       "    .dataframe thead th {\n",
       "        text-align: right;\n",
       "    }\n",
       "</style>\n",
       "<table border=\"1\" class=\"dataframe\">\n",
       "  <thead>\n",
       "    <tr style=\"text-align: right;\">\n",
       "      <th></th>\n",
       "      <th>0</th>\n",
       "      <th>1</th>\n",
       "    </tr>\n",
       "  </thead>\n",
       "  <tbody>\n",
       "    <tr>\n",
       "      <th>count</th>\n",
       "      <td>821.000000</td>\n",
       "      <td>3.000000</td>\n",
       "    </tr>\n",
       "    <tr>\n",
       "      <th>mean</th>\n",
       "      <td>3213.851401</td>\n",
       "      <td>3936.666667</td>\n",
       "    </tr>\n",
       "    <tr>\n",
       "      <th>std</th>\n",
       "      <td>555.051120</td>\n",
       "      <td>895.577095</td>\n",
       "    </tr>\n",
       "    <tr>\n",
       "      <th>min</th>\n",
       "      <td>2723.000000</td>\n",
       "      <td>2930.000000</td>\n",
       "    </tr>\n",
       "    <tr>\n",
       "      <th>25%</th>\n",
       "      <td>2861.000000</td>\n",
       "      <td>3582.500000</td>\n",
       "    </tr>\n",
       "    <tr>\n",
       "      <th>50%</th>\n",
       "      <td>2998.000000</td>\n",
       "      <td>4235.000000</td>\n",
       "    </tr>\n",
       "    <tr>\n",
       "      <th>75%</th>\n",
       "      <td>3148.000000</td>\n",
       "      <td>4440.000000</td>\n",
       "    </tr>\n",
       "    <tr>\n",
       "      <th>max</th>\n",
       "      <td>4880.000000</td>\n",
       "      <td>4645.000000</td>\n",
       "    </tr>\n",
       "  </tbody>\n",
       "</table>\n",
       "</div>"
      ],
      "text/plain": [
       "                 0            1\n",
       "count   821.000000     3.000000\n",
       "mean   3213.851401  3936.666667\n",
       "std     555.051120   895.577095\n",
       "min    2723.000000  2930.000000\n",
       "25%    2861.000000  3582.500000\n",
       "50%    2998.000000  4235.000000\n",
       "75%    3148.000000  4440.000000\n",
       "max    4880.000000  4645.000000"
      ]
     },
     "execution_count": 44,
     "metadata": {},
     "output_type": "execute_result"
    }
   ],
   "source": [
    "# they all look in the same range\n",
    "proj_ids.describe()"
   ]
  },
  {
   "cell_type": "markdown",
   "id": "8f74d3ea-73af-478c-b5df-b89b105f471c",
   "metadata": {},
   "source": [
    "#### Date Modified\n",
    "range looks fine"
   ]
  },
  {
   "cell_type": "code",
   "execution_count": 45,
   "id": "e15f8f0e-9d02-4caa-8641-d3cd40efe1aa",
   "metadata": {},
   "outputs": [
    {
     "name": "stderr",
     "output_type": "stream",
     "text": [
      "/tmp/ipykernel_32/521204348.py:1: FutureWarning: Treating datetime data as categorical rather than numeric in `.describe` is deprecated and will be removed in a future version of pandas. Specify `datetime_is_numeric=True` to silence this warning and adopt the future behavior now.\n",
      "  pd.to_datetime(air['modified_on']).describe()\n"
     ]
    },
    {
     "data": {
      "text/plain": [
       "count                            836\n",
       "unique                           657\n",
       "top       2021-05-21 15:13:50.395199\n",
       "freq                             180\n",
       "first     2021-05-21 15:13:50.395199\n",
       "last      2022-03-22 14:29:27.480232\n",
       "Name: modified_on, dtype: object"
      ]
     },
     "execution_count": 45,
     "metadata": {},
     "output_type": "execute_result"
    }
   ],
   "source": [
    "pd.to_datetime(air['modified_on']).describe()"
   ]
  },
  {
   "cell_type": "markdown",
   "id": "99034a5d-072a-4cc3-a6b2-c93dd979ce41",
   "metadata": {},
   "source": [
    "### Uniqueness Validation\n",
    "Check the `id` field"
   ]
  },
  {
   "cell_type": "code",
   "execution_count": 46,
   "id": "164ac0af-1cb1-499d-ac71-55ba4ba8c101",
   "metadata": {},
   "outputs": [
    {
     "data": {
      "text/plain": [
       "0"
      ]
     },
     "execution_count": 46,
     "metadata": {},
     "output_type": "execute_result"
    }
   ],
   "source": [
    "air['id'].duplicated().sum()"
   ]
  },
  {
   "cell_type": "markdown",
   "id": "155fd657-398b-4e25-bed6-ec5d7108c79a",
   "metadata": {},
   "source": [
    "### Set Membership Validation\n",
    "* statute (1:m as arrays)\n",
    "* permit type (1:m as arrays)\n",
    "* permitting action (1:m as arrays)\n",
    "* permit status\n",
    "\n",
    "#### Statute"
   ]
  },
  {
   "cell_type": "code",
   "execution_count": 47,
   "id": "a8c6c7af-8ca3-4e35-937c-e14dbd4a22da",
   "metadata": {},
   "outputs": [
    {
     "data": {
      "text/plain": [
       "Clean Air Act                        813\n",
       "Clean Air Act, Natural Gas Act        18\n",
       "Clean Air Act, Deepwater Port Act      1\n",
       "Name: Statute, dtype: int64"
      ]
     },
     "execution_count": 47,
     "metadata": {},
     "output_type": "execute_result"
    }
   ],
   "source": [
    "air['Statute'].value_counts()"
   ]
  },
  {
   "cell_type": "code",
   "execution_count": 51,
   "id": "38d42561-bf39-43eb-9d7a-c9c3ef01b188",
   "metadata": {},
   "outputs": [
    {
     "data": {
      "text/plain": [
       "Clean Air Act         832\n",
       "Natural Gas Act        18\n",
       "Deepwater Port Act      1\n",
       "dtype: int64"
      ]
     },
     "execution_count": 51,
     "metadata": {},
     "output_type": "execute_result"
    }
   ],
   "source": [
    "# split and combine value counts\n",
    "air['Statute'].str.split(',', expand=True).stack().str.strip().value_counts()"
   ]
  },
  {
   "cell_type": "markdown",
   "id": "db9e8f95-0ba4-4573-909b-574e5e84588c",
   "metadata": {},
   "source": [
    "#### Permit Type"
   ]
  },
  {
   "cell_type": "code",
   "execution_count": 48,
   "id": "8573059c-965d-4c8b-972f-a33e0982a7a7",
   "metadata": {},
   "outputs": [
    {
     "data": {
      "text/plain": [
       "Major                                                                      379\n",
       "Air Construction Major                                                     216\n",
       "True Minor                                                                 170\n",
       "Synthetic Minor                                                             33\n",
       "Air Construction Major, Certificate of Public Convenience and Necessity     20\n",
       "Air Construction Minor                                                       9\n",
       "Air Construction Major, Deepwater Port License                               1\n",
       "Name: Permit Type, dtype: int64"
      ]
     },
     "execution_count": 48,
     "metadata": {},
     "output_type": "execute_result"
    }
   ],
   "source": [
    "air['Permit Type'].value_counts()"
   ]
  },
  {
   "cell_type": "code",
   "execution_count": 50,
   "id": "434e3032-1708-4c30-986c-7145ab27560e",
   "metadata": {},
   "outputs": [
    {
     "data": {
      "text/plain": [
       "Major                                              379\n",
       "Air Construction Major                             237\n",
       "True Minor                                         170\n",
       "Synthetic Minor                                     33\n",
       "Certificate of Public Convenience and Necessity     20\n",
       "Air Construction Minor                               9\n",
       "Deepwater Port License                               1\n",
       "dtype: int64"
      ]
     },
     "execution_count": 50,
     "metadata": {},
     "output_type": "execute_result"
    }
   ],
   "source": [
    "# split and combine value counts\n",
    "air['Permit Type'].str.split(',', expand=True).stack().str.strip().value_counts()"
   ]
  },
  {
   "cell_type": "markdown",
   "id": "257ef1e9-31ea-4e7c-abf2-259cf83b51fc",
   "metadata": {},
   "source": [
    "#### Permitting Action\n",
    "A bunch of 1:m categories, but very few actual values"
   ]
  },
  {
   "cell_type": "code",
   "execution_count": 49,
   "id": "80324b70-286d-48c7-b2f8-979d86d692e5",
   "metadata": {},
   "outputs": [
    {
     "data": {
      "text/plain": [
       "Initial                                   328\n",
       "Major Modification                        181\n",
       "Minor Modification                         52\n",
       "Extension                                   7\n",
       "Administrative Amendment                    4\n",
       "Minor Modification, Renewal                 4\n",
       "Major Modification, Initial                 2\n",
       "Renewal, Extension                          2\n",
       "Initial, Renewal                            1\n",
       "Major Modification, Renewal                 1\n",
       "Initial, Major Modification                 1\n",
       "Initial, Minor Modification                 1\n",
       "Extension, Renewal, Major Modification      1\n",
       "Extension, Renewal                          1\n",
       "Renewal                                     1\n",
       "Extension, Initial                          1\n",
       "Name: Permitting Action, dtype: int64"
      ]
     },
     "execution_count": 49,
     "metadata": {},
     "output_type": "execute_result"
    }
   ],
   "source": [
    "air['Permitting Action'].value_counts()"
   ]
  },
  {
   "cell_type": "code",
   "execution_count": 53,
   "id": "fdec6277-3143-4539-bdf5-2f737dbda60d",
   "metadata": {},
   "outputs": [
    {
     "data": {
      "text/plain": [
       "Initial                     334\n",
       "Major Modification          186\n",
       "Minor Modification           57\n",
       "Extension                    12\n",
       "Renewal                      11\n",
       "Administrative Amendment      4\n",
       "dtype: int64"
      ]
     },
     "execution_count": 53,
     "metadata": {},
     "output_type": "execute_result"
    }
   ],
   "source": [
    "# split and combine value counts\n",
    "air['Permitting Action'].str.split(',', expand=True).stack().str.strip().value_counts()"
   ]
  },
  {
   "cell_type": "markdown",
   "id": "d5bbb4bd-42d3-410a-8591-3d2631e583dc",
   "metadata": {},
   "source": [
    "#### Permit Status\n",
    "Will combine at least the two `withdrawn` categories, maybe even all of `expired`, `withdrawn`, `void`, `denied` into a single \"Nope\" category."
   ]
  },
  {
   "cell_type": "code",
   "execution_count": 52,
   "id": "45fb31c0-684c-4574-89fa-7effc3e8e18e",
   "metadata": {},
   "outputs": [
    {
     "data": {
      "text/plain": [
       "Final Issued                                      731\n",
       "Application Pending                                29\n",
       "Draft Issued                                       28\n",
       "Expired                                            20\n",
       "Withdrawn (UARG v. EPA 134 S. Ct. 2427 (2014))     12\n",
       "Withdrawn                                           8\n",
       "Void                                                4\n",
       "Denied                                              1\n",
       "Name: Permit Status, dtype: int64"
      ]
     },
     "execution_count": 52,
     "metadata": {},
     "output_type": "execute_result"
    }
   ],
   "source": [
    "air['Permit Status'].value_counts()"
   ]
  },
  {
   "cell_type": "markdown",
   "id": "5d8ec8bf-d7e1-4177-bc2d-7545275818f6",
   "metadata": {
    "tags": []
   },
   "source": [
    "### Type Validation\n",
    "Only the project ID and date modified fields will change type after transformation"
   ]
  },
  {
   "cell_type": "markdown",
   "id": "4c493fbe-f311-44a9-a218-361d4a9dbea8",
   "metadata": {
    "tags": []
   },
   "source": [
    "### Cross-Field Validation\n",
    "None really needed. I could check that the date columns are in a logical order (application < draft issued < last comment date < final issued < construction deadline) but I'm not planning to really use those columns. So I skipped it."
   ]
  }
 ],
 "metadata": {
  "kernelspec": {
   "display_name": "Python 3 (ipykernel)",
   "language": "python",
   "name": "python3"
  },
  "language_info": {
   "codemirror_mode": {
    "name": "ipython",
    "version": 3
   },
   "file_extension": ".py",
   "mimetype": "text/x-python",
   "name": "python",
   "nbconvert_exporter": "python",
   "pygments_lexer": "ipython3",
   "version": "3.9.10"
  }
 },
 "nbformat": 4,
 "nbformat_minor": 5
}
