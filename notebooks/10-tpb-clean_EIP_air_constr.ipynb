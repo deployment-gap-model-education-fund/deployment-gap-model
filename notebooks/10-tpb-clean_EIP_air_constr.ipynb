{
 "cells": [
  {
   "cell_type": "code",
   "execution_count": 1,
   "id": "e2c4ba01-efa8-41f4-93ab-85d9452d6fe2",
   "metadata": {},
   "outputs": [],
   "source": [
    "%load_ext autoreload"
   ]
  },
  {
   "cell_type": "code",
   "execution_count": 2,
   "id": "c5fc3217-d4ed-4e3e-8a98-6fdc06769175",
   "metadata": {},
   "outputs": [],
   "source": [
    "%autoreload 2"
   ]
  },
  {
   "cell_type": "code",
   "execution_count": 3,
   "id": "baeedb9e-01aa-4702-9a82-174d677751b9",
   "metadata": {},
   "outputs": [],
   "source": [
    "import pandas as pd\n",
    "import numpy as np\n",
    "from pathlib import Path"
   ]
  },
  {
   "cell_type": "code",
   "execution_count": 5,
   "id": "c6d862f9-e588-451c-a679-1176589b0705",
   "metadata": {},
   "outputs": [],
   "source": [
    "path = Path('/app/data/raw/2023.05.24 OGW database.xlsx')\n",
    "assert path.exists()"
   ]
  },
  {
   "cell_type": "code",
   "execution_count": 6,
   "id": "89f17641-8b0d-45dd-970c-a3faa79e17b0",
   "metadata": {},
   "outputs": [],
   "source": [
    "# dbcp.extract.eip_infrastructure.extract(path)\n",
    "# vendor the extract function so this notebook can be easily rerun in the future without maintenance\n",
    "def _convert_object_to_string_dtypes(df: pd.DataFrame) -> None:\n",
    "    strings = df.select_dtypes(\"object\")\n",
    "    df.loc[:, list(strings.columns)] = strings.astype(pd.StringDtype())\n",
    "\n",
    "\n",
    "def _downcast_ints(df: pd.DataFrame) -> None:\n",
    "    ints = df.select_dtypes(np.int64)\n",
    "    for col in ints.columns:\n",
    "        ser = df.loc[:, col]\n",
    "        assert (\n",
    "            ser.ge(0).fillna(True).all()\n",
    "        )  # didn't implement this for negative numbers\n",
    "        assert np.all((ser.values >> 32) == 0)  # check for high bits\n",
    "        df.loc[:, col] = ser.astype(pd.Int32Dtype())\n",
    "\n",
    "\n",
    "def extract(path: Path) -> dict[str, pd.DataFrame]:\n",
    "    \"\"\"Read EIP excel database.\n",
    "\n",
    "    Args:\n",
    "        path (Path): filepath\n",
    "\n",
    "    Returns:\n",
    "        Dict[str, pd.DataFrame]: output dictionary of dataframes\n",
    "    \"\"\"\n",
    "    sheets_to_read = [\n",
    "        \"Facility\",\n",
    "        # 'Company',\n",
    "        \"Project\",\n",
    "        \"Air Construction\",  # permit status is key to identifying actionable projects\n",
    "        # 'Pipelines',\n",
    "        # 'NGA',\n",
    "        # 'NAICS',\n",
    "        # 'CWA-NPDES',\n",
    "        # 'CWA Wetland',\n",
    "        # 'Air Operating',\n",
    "        # 'Glossary',  # useful for data dictionary\n",
    "        # 'Data Sources',\n",
    "        # 'Map Layers',\n",
    "        # 'Other Permits',\n",
    "        # 'Test Collection',\n",
    "        # 'Featured Facility Descriptors',\n",
    "        # 'MARAD',\n",
    "        # 'TEST',\n",
    "        # 'Pipeline Digitization',\n",
    "    ]\n",
    "    raw_dfs = pd.read_excel(path, sheet_name=sheets_to_read)\n",
    "    rename_dict = {\n",
    "        \"Facility\": \"eip_facilities\",\n",
    "        \"Project\": \"eip_projects\",\n",
    "        \"Air Construction\": \"eip_air_constr_permits\",\n",
    "    }\n",
    "    raw_dfs = {rename_dict[key]: df for key, df in raw_dfs.items()}\n",
    "    for df in raw_dfs.values():\n",
    "        _convert_object_to_string_dtypes(df)\n",
    "        _downcast_ints(df)\n",
    "\n",
    "    return raw_dfs\n",
    "\n",
    "air = extract(path)['eip_air_constr_permits']"
   ]
  },
  {
   "cell_type": "code",
   "execution_count": 7,
   "id": "956821db-2798-467e-ba75-78534afcd85a",
   "metadata": {},
   "outputs": [],
   "source": [
    "pd.options.display.max_columns = 100\n",
    "pd.options.display.max_rows = 100"
   ]
  },
  {
   "cell_type": "code",
   "execution_count": 8,
   "id": "f20883b9-8047-4f50-935b-14afb51d6bc3",
   "metadata": {},
   "outputs": [
    {
     "name": "stdout",
     "output_type": "stream",
     "text": [
      "<class 'pandas.core.frame.DataFrame'>\n",
      "RangeIndex: 945 entries, 0 to 944\n",
      "Data columns (total 23 columns):\n",
      " #   Column                          Non-Null Count  Dtype  \n",
      "---  ------                          --------------  -----  \n",
      " 0   id                              945 non-null    Int32  \n",
      " 1   name                            943 non-null    string \n",
      " 2   created_on                      945 non-null    string \n",
      " 3   modified_on                     945 non-null    string \n",
      " 4   Date Last Checked               381 non-null    string \n",
      " 5   Facility-wide PTE: CO           46 non-null     float64\n",
      " 6   Facility-wide PTE: CO2e         26 non-null     float64\n",
      " 7   Facility-wide PTE: HAPs         33 non-null     string \n",
      " 8   Facility-wide PTE: NOx          46 non-null     float64\n",
      " 9   Facility-wide PTE: PM2.5        42 non-null     string \n",
      " 10  Facility-wide PTE: SO2          42 non-null     float64\n",
      " 11  Facility-wide PTE: VOCs         46 non-null     float64\n",
      " 12  Project (ID)                    927 non-null    string \n",
      " 13  Project                         927 non-null    string \n",
      " 14  Permit Status                   940 non-null    string \n",
      " 15  Description or Purpose          884 non-null    string \n",
      " 16  Application Date                779 non-null    string \n",
      " 17  Draft Permit Issuance Date      125 non-null    string \n",
      " 18  Last Day to Comment             103 non-null    string \n",
      " 19  Final Permit Issuance Date      837 non-null    string \n",
      " 20  Deadline to Begin Construction  118 non-null    string \n",
      " 21  Detailed Permitting History     421 non-null    string \n",
      " 22  Document URL                    37 non-null     string \n",
      "dtypes: Int32(1), float64(5), string(17)\n",
      "memory usage: 167.2 KB\n"
     ]
    }
   ],
   "source": [
    "air.info()"
   ]
  },
  {
   "cell_type": "markdown",
   "id": "ca8a087d-f556-4cb2-b9a7-540ab84a27a6",
   "metadata": {},
   "source": [
    "# Cleaning\n",
    "## Projects Cleaning\n",
    "Columns I care about:\n",
    "* id\n",
    "* name\n",
    "* project ID (1:m as arrays)\n",
    "* permit type (1:m as arrays)\n",
    "* permitting action (1:m as arrays)\n",
    "* permit status\n",
    "* description\n",
    "\n",
    "Cleaning Checklist:\n",
    "- [x] Accuracy\n",
    "- [x] Atomicity\n",
    "- [ ] Consistency\n",
    "- [x] Completeness\n",
    "- [x] Uniformity\n",
    "- [x] Validity\n",
    "    - [x] Range Validation\n",
    "    - [x] Uniqueness Validation\n",
    "    - [x] Set Membership Validation\n",
    "    - [x] Type Validation\n",
    "    - [x] Cross-Field Validation"
   ]
  },
  {
   "cell_type": "markdown",
   "id": "ff749ff2-dea9-4d5b-ac51-950666adc19a",
   "metadata": {},
   "source": [
    "### Accuracy\n",
    "The most important item to spot check here is the permit status. \"Final\" permit statuses are of little interest and also presumably don't change over time, so I'll only check 1 of those.\n",
    "\n",
    "Deferred."
   ]
  },
  {
   "cell_type": "code",
   "execution_count": 9,
   "id": "90eeaf6e-e70e-4b7f-bbc3-7f9913d28884",
   "metadata": {},
   "outputs": [
    {
     "data": {
      "text/html": [
       "<div>\n",
       "<style scoped>\n",
       "    .dataframe tbody tr th:only-of-type {\n",
       "        vertical-align: middle;\n",
       "    }\n",
       "\n",
       "    .dataframe tbody tr th {\n",
       "        vertical-align: top;\n",
       "    }\n",
       "\n",
       "    .dataframe thead th {\n",
       "        text-align: right;\n",
       "    }\n",
       "</style>\n",
       "<table border=\"1\" class=\"dataframe\">\n",
       "  <thead>\n",
       "    <tr style=\"text-align: right;\">\n",
       "      <th></th>\n",
       "      <th>id</th>\n",
       "      <th>name</th>\n",
       "      <th>created_on</th>\n",
       "      <th>modified_on</th>\n",
       "      <th>Date Last Checked</th>\n",
       "      <th>Facility-wide PTE: CO</th>\n",
       "      <th>Facility-wide PTE: CO2e</th>\n",
       "      <th>Facility-wide PTE: HAPs</th>\n",
       "      <th>Facility-wide PTE: NOx</th>\n",
       "      <th>Facility-wide PTE: PM2.5</th>\n",
       "      <th>Facility-wide PTE: SO2</th>\n",
       "      <th>Facility-wide PTE: VOCs</th>\n",
       "      <th>Project (ID)</th>\n",
       "      <th>Project</th>\n",
       "      <th>Permit Status</th>\n",
       "      <th>Description or Purpose</th>\n",
       "      <th>Application Date</th>\n",
       "      <th>Draft Permit Issuance Date</th>\n",
       "      <th>Last Day to Comment</th>\n",
       "      <th>Final Permit Issuance Date</th>\n",
       "      <th>Deadline to Begin Construction</th>\n",
       "      <th>Detailed Permitting History</th>\n",
       "      <th>Document URL</th>\n",
       "    </tr>\n",
       "  </thead>\n",
       "  <tbody>\n",
       "    <tr>\n",
       "      <th>855</th>\n",
       "      <td>5817</td>\n",
       "      <td>PSD-LA-851 and 2560-00295-V5</td>\n",
       "      <td>2022-11-14T21:18:52.696189</td>\n",
       "      <td>2023-04-13T14:40:07.109984</td>\n",
       "      <td>2023-04-13</td>\n",
       "      <td>183.08</td>\n",
       "      <td>1401099.0</td>\n",
       "      <td>&lt;NA&gt;</td>\n",
       "      <td>155.79</td>\n",
       "      <td>75.4</td>\n",
       "      <td>6.18</td>\n",
       "      <td>174.88</td>\n",
       "      <td>5816</td>\n",
       "      <td>KMe Optimization Project[5816]</td>\n",
       "      <td>Application Pending</td>\n",
       "      <td>This permit would authorize construction of th...</td>\n",
       "      <td>2022-11-02</td>\n",
       "      <td>&lt;NA&gt;</td>\n",
       "      <td>&lt;NA&gt;</td>\n",
       "      <td>&lt;NA&gt;</td>\n",
       "      <td>&lt;NA&gt;</td>\n",
       "      <td>&lt;NA&gt;</td>\n",
       "      <td>&lt;NA&gt;</td>\n",
       "    </tr>\n",
       "    <tr>\n",
       "      <th>758</th>\n",
       "      <td>5190</td>\n",
       "      <td>3136-V3</td>\n",
       "      <td>2022-06-08T17:01:57.435111</td>\n",
       "      <td>2023-04-13T15:27:34.520766</td>\n",
       "      <td>2022-04-13</td>\n",
       "      <td>NaN</td>\n",
       "      <td>NaN</td>\n",
       "      <td>&lt;NA&gt;</td>\n",
       "      <td>NaN</td>\n",
       "      <td>&lt;NA&gt;</td>\n",
       "      <td>NaN</td>\n",
       "      <td>NaN</td>\n",
       "      <td>5189</td>\n",
       "      <td>LACC - Package Boiler 2[5189]</td>\n",
       "      <td>Draft Issued</td>\n",
       "      <td>This permit would authorize construction and o...</td>\n",
       "      <td>2022-05-31</td>\n",
       "      <td>2023-01-31</td>\n",
       "      <td>2023-03-07</td>\n",
       "      <td>&lt;NA&gt;</td>\n",
       "      <td>&lt;NA&gt;</td>\n",
       "      <td>&lt;NA&gt;</td>\n",
       "      <td>&lt;NA&gt;</td>\n",
       "    </tr>\n",
       "    <tr>\n",
       "      <th>890</th>\n",
       "      <td>6003</td>\n",
       "      <td>46-00069A</td>\n",
       "      <td>2023-01-10T19:58:42.806241</td>\n",
       "      <td>2023-01-10T21:48:16.500927</td>\n",
       "      <td>&lt;NA&gt;</td>\n",
       "      <td>NaN</td>\n",
       "      <td>NaN</td>\n",
       "      <td>&lt;NA&gt;</td>\n",
       "      <td>NaN</td>\n",
       "      <td>&lt;NA&gt;</td>\n",
       "      <td>NaN</td>\n",
       "      <td>NaN</td>\n",
       "      <td>5475</td>\n",
       "      <td>Point Township Circular Manufacturing Facility...</td>\n",
       "      <td>Application Pending</td>\n",
       "      <td>Plan Approval application for Phase 1 of the E...</td>\n",
       "      <td>2022-11-16</td>\n",
       "      <td>&lt;NA&gt;</td>\n",
       "      <td>&lt;NA&gt;</td>\n",
       "      <td>&lt;NA&gt;</td>\n",
       "      <td>&lt;NA&gt;</td>\n",
       "      <td>&lt;NA&gt;</td>\n",
       "      <td>&lt;NA&gt;</td>\n",
       "    </tr>\n",
       "  </tbody>\n",
       "</table>\n",
       "</div>"
      ],
      "text/plain": [
       "       id                          name                  created_on  \\\n",
       "855  5817  PSD-LA-851 and 2560-00295-V5  2022-11-14T21:18:52.696189   \n",
       "758  5190                       3136-V3  2022-06-08T17:01:57.435111   \n",
       "890  6003                     46-00069A  2023-01-10T19:58:42.806241   \n",
       "\n",
       "                    modified_on Date Last Checked  Facility-wide PTE: CO  \\\n",
       "855  2023-04-13T14:40:07.109984        2023-04-13                 183.08   \n",
       "758  2023-04-13T15:27:34.520766        2022-04-13                    NaN   \n",
       "890  2023-01-10T21:48:16.500927              <NA>                    NaN   \n",
       "\n",
       "     Facility-wide PTE: CO2e Facility-wide PTE: HAPs  Facility-wide PTE: NOx  \\\n",
       "855                1401099.0                    <NA>                  155.79   \n",
       "758                      NaN                    <NA>                     NaN   \n",
       "890                      NaN                    <NA>                     NaN   \n",
       "\n",
       "    Facility-wide PTE: PM2.5  Facility-wide PTE: SO2  Facility-wide PTE: VOCs  \\\n",
       "855                     75.4                    6.18                   174.88   \n",
       "758                     <NA>                     NaN                      NaN   \n",
       "890                     <NA>                     NaN                      NaN   \n",
       "\n",
       "    Project (ID)                                            Project  \\\n",
       "855         5816                     KMe Optimization Project[5816]   \n",
       "758         5189                      LACC - Package Boiler 2[5189]   \n",
       "890         5475  Point Township Circular Manufacturing Facility...   \n",
       "\n",
       "           Permit Status                             Description or Purpose  \\\n",
       "855  Application Pending  This permit would authorize construction of th...   \n",
       "758         Draft Issued  This permit would authorize construction and o...   \n",
       "890  Application Pending  Plan Approval application for Phase 1 of the E...   \n",
       "\n",
       "    Application Date Draft Permit Issuance Date Last Day to Comment  \\\n",
       "855       2022-11-02                       <NA>                <NA>   \n",
       "758       2022-05-31                 2023-01-31          2023-03-07   \n",
       "890       2022-11-16                       <NA>                <NA>   \n",
       "\n",
       "    Final Permit Issuance Date Deadline to Begin Construction  \\\n",
       "855                       <NA>                           <NA>   \n",
       "758                       <NA>                           <NA>   \n",
       "890                       <NA>                           <NA>   \n",
       "\n",
       "    Detailed Permitting History Document URL  \n",
       "855                        <NA>         <NA>  \n",
       "758                        <NA>         <NA>  \n",
       "890                        <NA>         <NA>  "
      ]
     },
     "execution_count": 9,
     "metadata": {},
     "output_type": "execute_result"
    }
   ],
   "source": [
    "filter_ = air['Permit Status'].isin({\"Application Pending\", \"Draft Issued\"})\n",
    "air.loc[filter_,:].sample(3, random_state=42)"
   ]
  },
  {
   "cell_type": "code",
   "execution_count": 10,
   "id": "87037267-65b8-480a-a55f-bc69ea60b723",
   "metadata": {},
   "outputs": [
    {
     "data": {
      "text/html": [
       "<div>\n",
       "<style scoped>\n",
       "    .dataframe tbody tr th:only-of-type {\n",
       "        vertical-align: middle;\n",
       "    }\n",
       "\n",
       "    .dataframe tbody tr th {\n",
       "        vertical-align: top;\n",
       "    }\n",
       "\n",
       "    .dataframe thead th {\n",
       "        text-align: right;\n",
       "    }\n",
       "</style>\n",
       "<table border=\"1\" class=\"dataframe\">\n",
       "  <thead>\n",
       "    <tr style=\"text-align: right;\">\n",
       "      <th></th>\n",
       "      <th>id</th>\n",
       "      <th>name</th>\n",
       "      <th>created_on</th>\n",
       "      <th>modified_on</th>\n",
       "      <th>Date Last Checked</th>\n",
       "      <th>Facility-wide PTE: CO</th>\n",
       "      <th>Facility-wide PTE: CO2e</th>\n",
       "      <th>Facility-wide PTE: HAPs</th>\n",
       "      <th>Facility-wide PTE: NOx</th>\n",
       "      <th>Facility-wide PTE: PM2.5</th>\n",
       "      <th>Facility-wide PTE: SO2</th>\n",
       "      <th>Facility-wide PTE: VOCs</th>\n",
       "      <th>Project (ID)</th>\n",
       "      <th>Project</th>\n",
       "      <th>Permit Status</th>\n",
       "      <th>Description or Purpose</th>\n",
       "      <th>Application Date</th>\n",
       "      <th>Draft Permit Issuance Date</th>\n",
       "      <th>Last Day to Comment</th>\n",
       "      <th>Final Permit Issuance Date</th>\n",
       "      <th>Deadline to Begin Construction</th>\n",
       "      <th>Detailed Permitting History</th>\n",
       "      <th>Document URL</th>\n",
       "    </tr>\n",
       "  </thead>\n",
       "  <tbody>\n",
       "    <tr>\n",
       "      <th>774</th>\n",
       "      <td>5330</td>\n",
       "      <td>168854</td>\n",
       "      <td>2022-07-27T20:44:58.304291</td>\n",
       "      <td>2023-04-04T14:49:54.986680</td>\n",
       "      <td>2023-04-04</td>\n",
       "      <td>NaN</td>\n",
       "      <td>NaN</td>\n",
       "      <td>&lt;NA&gt;</td>\n",
       "      <td>NaN</td>\n",
       "      <td>&lt;NA&gt;</td>\n",
       "      <td>NaN</td>\n",
       "      <td>NaN</td>\n",
       "      <td>4579</td>\n",
       "      <td>Project Stratos - Initial Construction[4579]</td>\n",
       "      <td>Final Issued</td>\n",
       "      <td>This permit will authorize a facility to captu...</td>\n",
       "      <td>2022-04-27</td>\n",
       "      <td>2023-01-21</td>\n",
       "      <td>2023-02-21</td>\n",
       "      <td>2023-03-08</td>\n",
       "      <td>&lt;NA&gt;</td>\n",
       "      <td>&lt;NA&gt;</td>\n",
       "      <td>https://www.tceq.texas.gov/permitting/air/news...</td>\n",
       "    </tr>\n",
       "  </tbody>\n",
       "</table>\n",
       "</div>"
      ],
      "text/plain": [
       "       id    name                  created_on                 modified_on  \\\n",
       "774  5330  168854  2022-07-27T20:44:58.304291  2023-04-04T14:49:54.986680   \n",
       "\n",
       "    Date Last Checked  Facility-wide PTE: CO  Facility-wide PTE: CO2e  \\\n",
       "774        2023-04-04                    NaN                      NaN   \n",
       "\n",
       "    Facility-wide PTE: HAPs  Facility-wide PTE: NOx Facility-wide PTE: PM2.5  \\\n",
       "774                    <NA>                     NaN                     <NA>   \n",
       "\n",
       "     Facility-wide PTE: SO2  Facility-wide PTE: VOCs Project (ID)  \\\n",
       "774                     NaN                      NaN         4579   \n",
       "\n",
       "                                          Project Permit Status  \\\n",
       "774  Project Stratos - Initial Construction[4579]  Final Issued   \n",
       "\n",
       "                                Description or Purpose Application Date  \\\n",
       "774  This permit will authorize a facility to captu...       2022-04-27   \n",
       "\n",
       "    Draft Permit Issuance Date Last Day to Comment Final Permit Issuance Date  \\\n",
       "774                 2023-01-21          2023-02-21                 2023-03-08   \n",
       "\n",
       "    Deadline to Begin Construction Detailed Permitting History  \\\n",
       "774                           <NA>                        <NA>   \n",
       "\n",
       "                                          Document URL  \n",
       "774  https://www.tceq.texas.gov/permitting/air/news...  "
      ]
     },
     "execution_count": 10,
     "metadata": {},
     "output_type": "execute_result"
    }
   ],
   "source": [
    "filter_ = air['Permit Status'].eq(\"Final Issued\")\n",
    "air.loc[filter_,:].sample(1, random_state=42)"
   ]
  },
  {
   "cell_type": "markdown",
   "id": "c26eb9fa-d49d-45d1-8bd0-55cfdd2bf79f",
   "metadata": {},
   "source": [
    "### Atomicity\n",
    "Most of the columns are 1:m values encoded as csv array strings, but most values are singletons. See Range Validation and Set Membership Validation for decisions on modeling as 1:1 vs 1:m."
   ]
  },
  {
   "cell_type": "markdown",
   "id": "d2cad23f-ae34-4def-8d92-f0170795324a",
   "metadata": {},
   "source": [
    "### Completeness\n",
    "For this purpose, I'll limit the scope of 'completeness' to only look at missing values within the data. Ensuring projects are in the dataset at all is out of scope for this notebook.\n",
    "\n",
    "We are not interested in already-issued permits, so I'll remove those and assess completeness based on the remaining subset.\n",
    "\n",
    "Notable missing values and lack of missing values:\n",
    "* all projects have IDs"
   ]
  },
  {
   "cell_type": "code",
   "execution_count": 11,
   "id": "f7f3e23e-18a4-4926-b9d3-97f1cedbefe2",
   "metadata": {},
   "outputs": [
    {
     "data": {
      "text/plain": [
       "Final Issued                                      795\n",
       "Application Pending                                66\n",
       "Draft Issued                                       24\n",
       "Expired                                            18\n",
       "Withdrawn                                          14\n",
       "Withdrawn (UARG v. EPA 134 S. Ct. 2427 (2014))     12\n",
       "Void                                                8\n",
       "Denied                                              2\n",
       "Revoked                                             1\n",
       "Name: Permit Status, dtype: Int64"
      ]
     },
     "execution_count": 11,
     "metadata": {},
     "output_type": "execute_result"
    }
   ],
   "source": [
    "air['Permit Status'].value_counts()"
   ]
  },
  {
   "cell_type": "code",
   "execution_count": 14,
   "id": "8e61e153-c971-4697-8519-111774343618",
   "metadata": {},
   "outputs": [
    {
     "data": {
      "text/html": [
       "<div>\n",
       "<style scoped>\n",
       "    .dataframe tbody tr th:only-of-type {\n",
       "        vertical-align: middle;\n",
       "    }\n",
       "\n",
       "    .dataframe tbody tr th {\n",
       "        vertical-align: top;\n",
       "    }\n",
       "\n",
       "    .dataframe thead th {\n",
       "        text-align: right;\n",
       "    }\n",
       "</style>\n",
       "<table border=\"1\" class=\"dataframe\">\n",
       "  <thead>\n",
       "    <tr style=\"text-align: right;\">\n",
       "      <th></th>\n",
       "      <th>sum</th>\n",
       "      <th>mean</th>\n",
       "    </tr>\n",
       "  </thead>\n",
       "  <tbody>\n",
       "    <tr>\n",
       "      <th>id</th>\n",
       "      <td>0.0</td>\n",
       "      <td>0.000000</td>\n",
       "    </tr>\n",
       "    <tr>\n",
       "      <th>name</th>\n",
       "      <td>0.0</td>\n",
       "      <td>0.000000</td>\n",
       "    </tr>\n",
       "    <tr>\n",
       "      <th>created_on</th>\n",
       "      <td>0.0</td>\n",
       "      <td>0.000000</td>\n",
       "    </tr>\n",
       "    <tr>\n",
       "      <th>modified_on</th>\n",
       "      <td>0.0</td>\n",
       "      <td>0.000000</td>\n",
       "    </tr>\n",
       "    <tr>\n",
       "      <th>Date Last Checked</th>\n",
       "      <td>36.0</td>\n",
       "      <td>0.248276</td>\n",
       "    </tr>\n",
       "    <tr>\n",
       "      <th>Facility-wide PTE: CO</th>\n",
       "      <td>141.0</td>\n",
       "      <td>0.972414</td>\n",
       "    </tr>\n",
       "    <tr>\n",
       "      <th>Facility-wide PTE: CO2e</th>\n",
       "      <td>143.0</td>\n",
       "      <td>0.986207</td>\n",
       "    </tr>\n",
       "    <tr>\n",
       "      <th>Facility-wide PTE: HAPs</th>\n",
       "      <td>145.0</td>\n",
       "      <td>1.000000</td>\n",
       "    </tr>\n",
       "    <tr>\n",
       "      <th>Facility-wide PTE: NOx</th>\n",
       "      <td>141.0</td>\n",
       "      <td>0.972414</td>\n",
       "    </tr>\n",
       "    <tr>\n",
       "      <th>Facility-wide PTE: PM2.5</th>\n",
       "      <td>142.0</td>\n",
       "      <td>0.979310</td>\n",
       "    </tr>\n",
       "    <tr>\n",
       "      <th>Facility-wide PTE: SO2</th>\n",
       "      <td>142.0</td>\n",
       "      <td>0.979310</td>\n",
       "    </tr>\n",
       "    <tr>\n",
       "      <th>Facility-wide PTE: VOCs</th>\n",
       "      <td>141.0</td>\n",
       "      <td>0.972414</td>\n",
       "    </tr>\n",
       "    <tr>\n",
       "      <th>Project (ID)</th>\n",
       "      <td>0.0</td>\n",
       "      <td>0.000000</td>\n",
       "    </tr>\n",
       "    <tr>\n",
       "      <th>Project</th>\n",
       "      <td>0.0</td>\n",
       "      <td>0.000000</td>\n",
       "    </tr>\n",
       "    <tr>\n",
       "      <th>Permit Status</th>\n",
       "      <td>0.0</td>\n",
       "      <td>0.000000</td>\n",
       "    </tr>\n",
       "    <tr>\n",
       "      <th>Description or Purpose</th>\n",
       "      <td>6.0</td>\n",
       "      <td>0.041379</td>\n",
       "    </tr>\n",
       "    <tr>\n",
       "      <th>Application Date</th>\n",
       "      <td>7.0</td>\n",
       "      <td>0.048276</td>\n",
       "    </tr>\n",
       "    <tr>\n",
       "      <th>Draft Permit Issuance Date</th>\n",
       "      <td>115.0</td>\n",
       "      <td>0.793103</td>\n",
       "    </tr>\n",
       "    <tr>\n",
       "      <th>Last Day to Comment</th>\n",
       "      <td>114.0</td>\n",
       "      <td>0.786207</td>\n",
       "    </tr>\n",
       "    <tr>\n",
       "      <th>Final Permit Issuance Date</th>\n",
       "      <td>101.0</td>\n",
       "      <td>0.696552</td>\n",
       "    </tr>\n",
       "    <tr>\n",
       "      <th>Deadline to Begin Construction</th>\n",
       "      <td>120.0</td>\n",
       "      <td>0.827586</td>\n",
       "    </tr>\n",
       "    <tr>\n",
       "      <th>Detailed Permitting History</th>\n",
       "      <td>100.0</td>\n",
       "      <td>0.689655</td>\n",
       "    </tr>\n",
       "    <tr>\n",
       "      <th>Document URL</th>\n",
       "      <td>137.0</td>\n",
       "      <td>0.944828</td>\n",
       "    </tr>\n",
       "  </tbody>\n",
       "</table>\n",
       "</div>"
      ],
      "text/plain": [
       "                                  sum      mean\n",
       "id                                0.0  0.000000\n",
       "name                              0.0  0.000000\n",
       "created_on                        0.0  0.000000\n",
       "modified_on                       0.0  0.000000\n",
       "Date Last Checked                36.0  0.248276\n",
       "Facility-wide PTE: CO           141.0  0.972414\n",
       "Facility-wide PTE: CO2e         143.0  0.986207\n",
       "Facility-wide PTE: HAPs         145.0  1.000000\n",
       "Facility-wide PTE: NOx          141.0  0.972414\n",
       "Facility-wide PTE: PM2.5        142.0  0.979310\n",
       "Facility-wide PTE: SO2          142.0  0.979310\n",
       "Facility-wide PTE: VOCs         141.0  0.972414\n",
       "Project (ID)                      0.0  0.000000\n",
       "Project                           0.0  0.000000\n",
       "Permit Status                     0.0  0.000000\n",
       "Description or Purpose            6.0  0.041379\n",
       "Application Date                  7.0  0.048276\n",
       "Draft Permit Issuance Date      115.0  0.793103\n",
       "Last Day to Comment             114.0  0.786207\n",
       "Final Permit Issuance Date      101.0  0.696552\n",
       "Deadline to Begin Construction  120.0  0.827586\n",
       "Detailed Permitting History     100.0  0.689655\n",
       "Document URL                    137.0  0.944828"
      ]
     },
     "execution_count": 14,
     "metadata": {},
     "output_type": "execute_result"
    }
   ],
   "source": [
    "air.loc[air['Permit Status'].ne('Final Issued'),:].isna().agg(['sum', 'mean']).T"
   ]
  },
  {
   "cell_type": "code",
   "execution_count": 16,
   "id": "93b4b985-e6a6-40b3-a057-12fd43dc2b81",
   "metadata": {},
   "outputs": [
    {
     "data": {
      "text/html": [
       "<div>\n",
       "<style scoped>\n",
       "    .dataframe tbody tr th:only-of-type {\n",
       "        vertical-align: middle;\n",
       "    }\n",
       "\n",
       "    .dataframe tbody tr th {\n",
       "        vertical-align: top;\n",
       "    }\n",
       "\n",
       "    .dataframe thead th {\n",
       "        text-align: right;\n",
       "    }\n",
       "</style>\n",
       "<table border=\"1\" class=\"dataframe\">\n",
       "  <thead>\n",
       "    <tr style=\"text-align: right;\">\n",
       "      <th></th>\n",
       "      <th>sum</th>\n",
       "      <th>mean</th>\n",
       "    </tr>\n",
       "    <tr>\n",
       "      <th>Permit Status</th>\n",
       "      <th></th>\n",
       "      <th></th>\n",
       "    </tr>\n",
       "  </thead>\n",
       "  <tbody>\n",
       "    <tr>\n",
       "      <th>Application Pending</th>\n",
       "      <td>1</td>\n",
       "      <td>0.015152</td>\n",
       "    </tr>\n",
       "    <tr>\n",
       "      <th>Denied</th>\n",
       "      <td>0</td>\n",
       "      <td>0.000000</td>\n",
       "    </tr>\n",
       "    <tr>\n",
       "      <th>Draft Issued</th>\n",
       "      <td>0</td>\n",
       "      <td>0.000000</td>\n",
       "    </tr>\n",
       "    <tr>\n",
       "      <th>Expired</th>\n",
       "      <td>1</td>\n",
       "      <td>0.055556</td>\n",
       "    </tr>\n",
       "    <tr>\n",
       "      <th>Final Issued</th>\n",
       "      <td>50</td>\n",
       "      <td>0.062893</td>\n",
       "    </tr>\n",
       "    <tr>\n",
       "      <th>Revoked</th>\n",
       "      <td>0</td>\n",
       "      <td>0.000000</td>\n",
       "    </tr>\n",
       "    <tr>\n",
       "      <th>Void</th>\n",
       "      <td>0</td>\n",
       "      <td>0.000000</td>\n",
       "    </tr>\n",
       "    <tr>\n",
       "      <th>Withdrawn</th>\n",
       "      <td>1</td>\n",
       "      <td>0.071429</td>\n",
       "    </tr>\n",
       "    <tr>\n",
       "      <th>Withdrawn (UARG v. EPA 134 S. Ct. 2427 (2014))</th>\n",
       "      <td>3</td>\n",
       "      <td>0.250000</td>\n",
       "    </tr>\n",
       "  </tbody>\n",
       "</table>\n",
       "</div>"
      ],
      "text/plain": [
       "                                                sum      mean\n",
       "Permit Status                                                \n",
       "Application Pending                               1  0.015152\n",
       "Denied                                            0  0.000000\n",
       "Draft Issued                                      0  0.000000\n",
       "Expired                                           1  0.055556\n",
       "Final Issued                                     50  0.062893\n",
       "Revoked                                           0  0.000000\n",
       "Void                                              0  0.000000\n",
       "Withdrawn                                         1  0.071429\n",
       "Withdrawn (UARG v. EPA 134 S. Ct. 2427 (2014))    3  0.250000"
      ]
     },
     "execution_count": 16,
     "metadata": {},
     "output_type": "execute_result"
    }
   ],
   "source": [
    "air['Description or Purpose'].isna().groupby(air['Permit Status']).agg(['sum', 'mean'])"
   ]
  },
  {
   "cell_type": "markdown",
   "id": "ba7ce60a-5785-48bb-8e45-faedcb66ae50",
   "metadata": {},
   "source": [
    "### Consistency - defer\n",
    "Defer until I've cleaned the related datasets\n",
    "### Uniformity\n",
    "Important columns to check consistent representation:\n",
    "* all array fields -- check consistent delimiters\n",
    "    * project ID (1:m as arrays)\n",
    "    * statute (1:m as arrays)\n",
    "    * permit type (1:m as arrays)\n",
    "    * permitting action (1:m as arrays)\n",
    "* modified on -- check consistent date format"
   ]
  },
  {
   "cell_type": "markdown",
   "id": "81618c73-29a6-4c6e-918e-35e315adc7c6",
   "metadata": {},
   "source": [
    "#### Array Fields\n",
    "Want to check for consistent array delimiters."
   ]
  },
  {
   "cell_type": "code",
   "execution_count": 17,
   "id": "4192a0cf-af5e-4ecc-9b99-a02372ac86cf",
   "metadata": {},
   "outputs": [],
   "source": [
    "# exclude ID cols with numeric types (no arrays present)\n",
    "id_cols = [\n",
    "    'Project (ID)',\n",
    "]"
   ]
  },
  {
   "cell_type": "code",
   "execution_count": 18,
   "id": "61e14d01-63c2-48fb-bc94-24681e31aa8b",
   "metadata": {},
   "outputs": [],
   "source": [
    "# mandatory opening pattern, optional delimiter, optional repeating pattern, optional closing pattern, mandatory end of line\n",
    "array_pattern = r'(?:\\d{3,5})(?:, ?)?(?:\\d{3,5}, ?)*(?:\\d{3,5})?$'"
   ]
  },
  {
   "cell_type": "code",
   "execution_count": 19,
   "id": "4581b919-0f49-4e2d-bb26-7ef34de04e0c",
   "metadata": {},
   "outputs": [
    {
     "data": {
      "text/html": [
       "<div>\n",
       "<style scoped>\n",
       "    .dataframe tbody tr th:only-of-type {\n",
       "        vertical-align: middle;\n",
       "    }\n",
       "\n",
       "    .dataframe tbody tr th {\n",
       "        vertical-align: top;\n",
       "    }\n",
       "\n",
       "    .dataframe thead th {\n",
       "        text-align: right;\n",
       "    }\n",
       "</style>\n",
       "<table border=\"1\" class=\"dataframe\">\n",
       "  <thead>\n",
       "    <tr style=\"text-align: right;\">\n",
       "      <th></th>\n",
       "      <th>0</th>\n",
       "      <th>1</th>\n",
       "    </tr>\n",
       "  </thead>\n",
       "  <tbody>\n",
       "    <tr>\n",
       "      <th>0</th>\n",
       "      <td>1234</td>\n",
       "      <td>True</td>\n",
       "    </tr>\n",
       "    <tr>\n",
       "      <th>1</th>\n",
       "      <td>1234,567</td>\n",
       "      <td>True</td>\n",
       "    </tr>\n",
       "    <tr>\n",
       "      <th>2</th>\n",
       "      <td>1234, 567</td>\n",
       "      <td>True</td>\n",
       "    </tr>\n",
       "    <tr>\n",
       "      <th>3</th>\n",
       "      <td>12345, 678, 9012</td>\n",
       "      <td>True</td>\n",
       "    </tr>\n",
       "    <tr>\n",
       "      <th>4</th>\n",
       "      <td>1234\\t5678</td>\n",
       "      <td>False</td>\n",
       "    </tr>\n",
       "    <tr>\n",
       "      <th>5</th>\n",
       "      <td>12, 3456</td>\n",
       "      <td>False</td>\n",
       "    </tr>\n",
       "    <tr>\n",
       "      <th>6</th>\n",
       "      <td>1234    5678</td>\n",
       "      <td>False</td>\n",
       "    </tr>\n",
       "  </tbody>\n",
       "</table>\n",
       "</div>"
      ],
      "text/plain": [
       "                  0      1\n",
       "0              1234   True\n",
       "1          1234,567   True\n",
       "2         1234, 567   True\n",
       "3  12345, 678, 9012   True\n",
       "4        1234\\t5678  False\n",
       "5          12, 3456  False\n",
       "6      1234    5678  False"
      ]
     },
     "execution_count": 19,
     "metadata": {},
     "output_type": "execute_result"
    }
   ],
   "source": [
    "test_case = pd.Series([\n",
    "    '1234',\n",
    "    '1234,567',\n",
    "    '1234, 567',\n",
    "    '12345, 678, 9012',\n",
    "    '1234\\t5678', # tab is bad, no comma\n",
    "    '12, 3456', # too short\n",
    "    '1234    5678', # too many spaces, no comma\n",
    "])\n",
    "pd.concat([test_case, test_case.str.match(array_pattern)], axis=1)"
   ]
  },
  {
   "cell_type": "code",
   "execution_count": 20,
   "id": "3557314c-34c4-4597-b390-5bd98b55c8f7",
   "metadata": {},
   "outputs": [],
   "source": [
    "# all pass the formatting test\n",
    "for col in id_cols:\n",
    "    assert air[col].str.match(array_pattern).all()"
   ]
  },
  {
   "cell_type": "markdown",
   "id": "bf55c928-4a98-4d3c-8589-326fa56dfcd0",
   "metadata": {},
   "source": [
    "#### Date Modified"
   ]
  },
  {
   "cell_type": "code",
   "execution_count": 21,
   "id": "b15fc622-b691-4362-a0b0-0425c66e73c7",
   "metadata": {},
   "outputs": [
    {
     "data": {
      "text/plain": [
       "(dtype('<M8[ns]'), 0)"
      ]
     },
     "execution_count": 21,
     "metadata": {},
     "output_type": "execute_result"
    }
   ],
   "source": [
    "# to_datetime works on all values present\n",
    "timestamps = pd.to_datetime(air['modified_on'], errors='raise')\n",
    "timestamps.dtypes, timestamps.isna().sum()"
   ]
  },
  {
   "cell_type": "markdown",
   "id": "ab2e7376-ddba-425b-be75-12a2ec54d668",
   "metadata": {},
   "source": [
    "### Range Validation\n",
    "Check project ID and date modified"
   ]
  },
  {
   "cell_type": "markdown",
   "id": "89dc9a3d-8791-4794-8f66-724ea3728d08",
   "metadata": {},
   "source": [
    "#### Project ID"
   ]
  },
  {
   "cell_type": "code",
   "execution_count": 22,
   "id": "f09ee92b-c24d-47bd-80be-b105fefdad96",
   "metadata": {},
   "outputs": [
    {
     "data": {
      "text/html": [
       "<div>\n",
       "<style scoped>\n",
       "    .dataframe tbody tr th:only-of-type {\n",
       "        vertical-align: middle;\n",
       "    }\n",
       "\n",
       "    .dataframe tbody tr th {\n",
       "        vertical-align: top;\n",
       "    }\n",
       "\n",
       "    .dataframe thead th {\n",
       "        text-align: right;\n",
       "    }\n",
       "</style>\n",
       "<table border=\"1\" class=\"dataframe\">\n",
       "  <thead>\n",
       "    <tr style=\"text-align: right;\">\n",
       "      <th></th>\n",
       "      <th>0</th>\n",
       "      <th>1</th>\n",
       "      <th>2</th>\n",
       "    </tr>\n",
       "  </thead>\n",
       "  <tbody>\n",
       "    <tr>\n",
       "      <th>0</th>\n",
       "      <td>2723.0</td>\n",
       "      <td>NaN</td>\n",
       "      <td>NaN</td>\n",
       "    </tr>\n",
       "    <tr>\n",
       "      <th>1</th>\n",
       "      <td>2723.0</td>\n",
       "      <td>NaN</td>\n",
       "      <td>NaN</td>\n",
       "    </tr>\n",
       "    <tr>\n",
       "      <th>2</th>\n",
       "      <td>2728.0</td>\n",
       "      <td>NaN</td>\n",
       "      <td>NaN</td>\n",
       "    </tr>\n",
       "    <tr>\n",
       "      <th>3</th>\n",
       "      <td>2727.0</td>\n",
       "      <td>NaN</td>\n",
       "      <td>NaN</td>\n",
       "    </tr>\n",
       "    <tr>\n",
       "      <th>4</th>\n",
       "      <td>2875.0</td>\n",
       "      <td>NaN</td>\n",
       "      <td>NaN</td>\n",
       "    </tr>\n",
       "  </tbody>\n",
       "</table>\n",
       "</div>"
      ],
      "text/plain": [
       "        0   1   2\n",
       "0  2723.0 NaN NaN\n",
       "1  2723.0 NaN NaN\n",
       "2  2728.0 NaN NaN\n",
       "3  2727.0 NaN NaN\n",
       "4  2875.0 NaN NaN"
      ]
     },
     "execution_count": 22,
     "metadata": {},
     "output_type": "execute_result"
    }
   ],
   "source": [
    "proj_ids = air['Project (ID)'].str.split(',', expand=True)\n",
    "for col in proj_ids.columns:\n",
    "    proj_ids.loc[:, col] = pd.to_numeric(proj_ids.loc[:, col], errors='raise')\n",
    "\n",
    "proj_ids.head()"
   ]
  },
  {
   "cell_type": "code",
   "execution_count": 23,
   "id": "3e7db424-53e9-43c3-aa0a-c6da2fb81023",
   "metadata": {},
   "outputs": [
    {
     "data": {
      "text/html": [
       "<div>\n",
       "<style scoped>\n",
       "    .dataframe tbody tr th:only-of-type {\n",
       "        vertical-align: middle;\n",
       "    }\n",
       "\n",
       "    .dataframe tbody tr th {\n",
       "        vertical-align: top;\n",
       "    }\n",
       "\n",
       "    .dataframe thead th {\n",
       "        text-align: right;\n",
       "    }\n",
       "</style>\n",
       "<table border=\"1\" class=\"dataframe\">\n",
       "  <thead>\n",
       "    <tr style=\"text-align: right;\">\n",
       "      <th></th>\n",
       "      <th>0</th>\n",
       "      <th>1</th>\n",
       "      <th>2</th>\n",
       "    </tr>\n",
       "  </thead>\n",
       "  <tbody>\n",
       "    <tr>\n",
       "      <th>count</th>\n",
       "      <td>927.000000</td>\n",
       "      <td>11.000000</td>\n",
       "      <td>1.0</td>\n",
       "    </tr>\n",
       "    <tr>\n",
       "      <th>mean</th>\n",
       "      <td>3628.423948</td>\n",
       "      <td>4281.454545</td>\n",
       "      <td>2733.0</td>\n",
       "    </tr>\n",
       "    <tr>\n",
       "      <th>std</th>\n",
       "      <td>1043.567402</td>\n",
       "      <td>1130.689556</td>\n",
       "      <td>NaN</td>\n",
       "    </tr>\n",
       "    <tr>\n",
       "      <th>min</th>\n",
       "      <td>2723.000000</td>\n",
       "      <td>2733.000000</td>\n",
       "      <td>2733.0</td>\n",
       "    </tr>\n",
       "    <tr>\n",
       "      <th>25%</th>\n",
       "      <td>2883.500000</td>\n",
       "      <td>3080.000000</td>\n",
       "      <td>2733.0</td>\n",
       "    </tr>\n",
       "    <tr>\n",
       "      <th>50%</th>\n",
       "      <td>3060.000000</td>\n",
       "      <td>4645.000000</td>\n",
       "      <td>2733.0</td>\n",
       "    </tr>\n",
       "    <tr>\n",
       "      <th>75%</th>\n",
       "      <td>4217.000000</td>\n",
       "      <td>5049.500000</td>\n",
       "      <td>2733.0</td>\n",
       "    </tr>\n",
       "    <tr>\n",
       "      <th>max</th>\n",
       "      <td>6385.000000</td>\n",
       "      <td>6006.000000</td>\n",
       "      <td>2733.0</td>\n",
       "    </tr>\n",
       "  </tbody>\n",
       "</table>\n",
       "</div>"
      ],
      "text/plain": [
       "                 0            1       2\n",
       "count   927.000000    11.000000     1.0\n",
       "mean   3628.423948  4281.454545  2733.0\n",
       "std    1043.567402  1130.689556     NaN\n",
       "min    2723.000000  2733.000000  2733.0\n",
       "25%    2883.500000  3080.000000  2733.0\n",
       "50%    3060.000000  4645.000000  2733.0\n",
       "75%    4217.000000  5049.500000  2733.0\n",
       "max    6385.000000  6006.000000  2733.0"
      ]
     },
     "execution_count": 23,
     "metadata": {},
     "output_type": "execute_result"
    }
   ],
   "source": [
    "# they all look in the same range\n",
    "proj_ids.describe()"
   ]
  },
  {
   "cell_type": "markdown",
   "id": "8f74d3ea-73af-478c-b5df-b89b105f471c",
   "metadata": {},
   "source": [
    "#### Date Modified\n",
    "range looks fine"
   ]
  },
  {
   "cell_type": "code",
   "execution_count": 24,
   "id": "e15f8f0e-9d02-4caa-8641-d3cd40efe1aa",
   "metadata": {},
   "outputs": [
    {
     "name": "stderr",
     "output_type": "stream",
     "text": [
      "/tmp/ipykernel_296033/521204348.py:1: FutureWarning: Treating datetime data as categorical rather than numeric in `.describe` is deprecated and will be removed in a future version of pandas. Specify `datetime_is_numeric=True` to silence this warning and adopt the future behavior now.\n",
      "  pd.to_datetime(air['modified_on']).describe()\n"
     ]
    },
    {
     "data": {
      "text/plain": [
       "count                            945\n",
       "unique                           924\n",
       "top       2021-05-21 15:13:50.395199\n",
       "freq                              22\n",
       "first     2021-05-21 15:13:50.395199\n",
       "last      2023-05-24 20:42:41.252920\n",
       "Name: modified_on, dtype: object"
      ]
     },
     "execution_count": 24,
     "metadata": {},
     "output_type": "execute_result"
    }
   ],
   "source": [
    "pd.to_datetime(air['modified_on']).describe()"
   ]
  },
  {
   "cell_type": "markdown",
   "id": "99034a5d-072a-4cc3-a6b2-c93dd979ce41",
   "metadata": {},
   "source": [
    "### Uniqueness Validation\n",
    "Check the `id` field"
   ]
  },
  {
   "cell_type": "code",
   "execution_count": 25,
   "id": "164ac0af-1cb1-499d-ac71-55ba4ba8c101",
   "metadata": {},
   "outputs": [
    {
     "data": {
      "text/plain": [
       "0"
      ]
     },
     "execution_count": 25,
     "metadata": {},
     "output_type": "execute_result"
    }
   ],
   "source": [
    "air['id'].duplicated().sum()"
   ]
  },
  {
   "cell_type": "markdown",
   "id": "155fd657-398b-4e25-bed6-ec5d7108c79a",
   "metadata": {},
   "source": [
    "### Set Membership Validation\n",
    "* permit status"
   ]
  },
  {
   "cell_type": "code",
   "execution_count": 26,
   "id": "1b16aed4-281a-46d2-bfde-18f33b19564b",
   "metadata": {},
   "outputs": [
    {
     "data": {
      "text/plain": [
       "Index(['id', 'name', 'created_on', 'modified_on', 'Date Last Checked',\n",
       "       'Facility-wide PTE: CO', 'Facility-wide PTE: CO2e',\n",
       "       'Facility-wide PTE: HAPs', 'Facility-wide PTE: NOx',\n",
       "       'Facility-wide PTE: PM2.5', 'Facility-wide PTE: SO2',\n",
       "       'Facility-wide PTE: VOCs', 'Project (ID)', 'Project', 'Permit Status',\n",
       "       'Description or Purpose', 'Application Date',\n",
       "       'Draft Permit Issuance Date', 'Last Day to Comment',\n",
       "       'Final Permit Issuance Date', 'Deadline to Begin Construction',\n",
       "       'Detailed Permitting History', 'Document URL'],\n",
       "      dtype='object')"
      ]
     },
     "execution_count": 26,
     "metadata": {},
     "output_type": "execute_result"
    }
   ],
   "source": [
    "air.columns"
   ]
  },
  {
   "cell_type": "markdown",
   "id": "d5bbb4bd-42d3-410a-8591-3d2631e583dc",
   "metadata": {},
   "source": [
    "#### Permit Status\n",
    "Will combine at least the two `withdrawn` categories, maybe even all of `expired`, `withdrawn`, `void`, `denied`, `revoked` into a single \"Nope\" category."
   ]
  },
  {
   "cell_type": "code",
   "execution_count": 27,
   "id": "45fb31c0-684c-4574-89fa-7effc3e8e18e",
   "metadata": {},
   "outputs": [
    {
     "data": {
      "text/plain": [
       "Final Issued                                      795\n",
       "Application Pending                                66\n",
       "Draft Issued                                       24\n",
       "Expired                                            18\n",
       "Withdrawn                                          14\n",
       "Withdrawn (UARG v. EPA 134 S. Ct. 2427 (2014))     12\n",
       "Void                                                8\n",
       "Denied                                              2\n",
       "Revoked                                             1\n",
       "Name: Permit Status, dtype: Int64"
      ]
     },
     "execution_count": 27,
     "metadata": {},
     "output_type": "execute_result"
    }
   ],
   "source": [
    "air['Permit Status'].value_counts()"
   ]
  },
  {
   "cell_type": "markdown",
   "id": "5d8ec8bf-d7e1-4177-bc2d-7545275818f6",
   "metadata": {
    "tags": []
   },
   "source": [
    "### Type Validation\n",
    "Only the project ID and date modified fields will change type after transformation"
   ]
  },
  {
   "cell_type": "markdown",
   "id": "4c493fbe-f311-44a9-a218-361d4a9dbea8",
   "metadata": {
    "tags": []
   },
   "source": [
    "### Cross-Field Validation\n",
    "None really needed. I could check that the date columns are in a logical order (application < draft issued < last comment date < final issued < construction deadline) but I'm not planning to really use those columns. So I skipped it."
   ]
  },
  {
   "cell_type": "code",
   "execution_count": 28,
   "id": "8651052a",
   "metadata": {},
   "outputs": [],
   "source": [
    "from dbcp.transform.eip_infrastructure import air_construction_transform"
   ]
  },
  {
   "cell_type": "code",
   "execution_count": 31,
   "id": "873e3635",
   "metadata": {},
   "outputs": [],
   "source": [
    "trans = air_construction_transform(extract(path)['eip_air_constr_permits'])"
   ]
  },
  {
   "cell_type": "code",
   "execution_count": 32,
   "id": "b6fcd8d2",
   "metadata": {},
   "outputs": [
    {
     "name": "stdout",
     "output_type": "stream",
     "text": [
      "<class 'pandas.core.frame.DataFrame'>\n",
      "RangeIndex: 945 entries, 0 to 944\n",
      "Data columns (total 17 columns):\n",
      " #   Column                              Non-Null Count  Dtype         \n",
      "---  ------                              --------------  -----         \n",
      " 0   air_construction_id                 945 non-null    Int32         \n",
      " 1   name                                943 non-null    string        \n",
      " 2   raw_created_on                      945 non-null    string        \n",
      " 3   raw_modified_on                     945 non-null    string        \n",
      " 4   raw_date_last_checked               381 non-null    string        \n",
      " 5   raw_project_id                      927 non-null    string        \n",
      " 6   raw_permit_status                   940 non-null    string        \n",
      " 7   description_or_purpose              884 non-null    string        \n",
      " 8   raw_application_date                779 non-null    string        \n",
      " 9   raw_draft_permit_issuance_date      125 non-null    string        \n",
      " 10  raw_last_day_to_comment             103 non-null    string        \n",
      " 11  raw_final_permit_issuance_date      837 non-null    string        \n",
      " 12  raw_deadline_to_begin_construction  118 non-null    string        \n",
      " 13  detailed_permitting_history         421 non-null    string        \n",
      " 14  document_url                        37 non-null     string        \n",
      " 15  date_modified                       945 non-null    datetime64[ns]\n",
      " 16  permit_status                       940 non-null    string        \n",
      "dtypes: Int32(1), datetime64[ns](1), string(15)\n",
      "memory usage: 122.9 KB\n"
     ]
    }
   ],
   "source": [
    "trans.info()"
   ]
  }
 ],
 "metadata": {
  "kernelspec": {
   "display_name": "Python 3 (ipykernel)",
   "language": "python",
   "name": "python3"
  },
  "language_info": {
   "codemirror_mode": {
    "name": "ipython",
    "version": 3
   },
   "file_extension": ".py",
   "mimetype": "text/x-python",
   "name": "python",
   "nbconvert_exporter": "python",
   "pygments_lexer": "ipython3",
   "version": "3.10.11"
  }
 },
 "nbformat": 4,
 "nbformat_minor": 5
}
