{
 "cells": [
  {
   "cell_type": "code",
   "execution_count": 1,
   "id": "e2c4ba01-efa8-41f4-93ab-85d9452d6fe2",
   "metadata": {},
   "outputs": [],
   "source": [
    "%load_ext autoreload"
   ]
  },
  {
   "cell_type": "code",
   "execution_count": 2,
   "id": "c5fc3217-d4ed-4e3e-8a98-6fdc06769175",
   "metadata": {},
   "outputs": [],
   "source": [
    "%autoreload 2"
   ]
  },
  {
   "cell_type": "code",
   "execution_count": 3,
   "id": "baeedb9e-01aa-4702-9a82-174d677751b9",
   "metadata": {},
   "outputs": [],
   "source": [
    "import pandas as pd\n",
    "import numpy as np\n",
    "from pathlib import Path"
   ]
  },
  {
   "cell_type": "code",
   "execution_count": 4,
   "id": "c6d862f9-e588-451c-a679-1176589b0705",
   "metadata": {},
   "outputs": [],
   "source": [
    "path = Path('/app/data/raw/fossil_infrastructure.xlsx')\n",
    "assert path.exists()"
   ]
  },
  {
   "cell_type": "code",
   "execution_count": 5,
   "id": "89f17641-8b0d-45dd-970c-a3faa79e17b0",
   "metadata": {},
   "outputs": [],
   "source": [
    "# eip = dbcp.extract.eip_infrastructure.extract(path)\n",
    "# hardcode the extract function so this notebook can be easily rerun in the future without maintenance\n",
    "air = pd.read_excel(path, sheet_name='Air Construction')"
   ]
  },
  {
   "cell_type": "code",
   "execution_count": 6,
   "id": "956821db-2798-467e-ba75-78534afcd85a",
   "metadata": {},
   "outputs": [],
   "source": [
    "pd.options.display.max_columns = 100\n",
    "pd.options.display.max_rows = 100"
   ]
  },
  {
   "cell_type": "code",
   "execution_count": 7,
   "id": "f20883b9-8047-4f50-935b-14afb51d6bc3",
   "metadata": {},
   "outputs": [
    {
     "data": {
      "text/plain": [
       "(879, 16)"
      ]
     },
     "execution_count": 7,
     "metadata": {},
     "output_type": "execute_result"
    }
   ],
   "source": [
    "air.shape"
   ]
  },
  {
   "cell_type": "markdown",
   "id": "ca8a087d-f556-4cb2-b9a7-540ab84a27a6",
   "metadata": {},
   "source": [
    "# Cleaning\n",
    "## Projects Cleaning\n",
    "Columns I care about:\n",
    "* id\n",
    "* name\n",
    "* modified on\n",
    "* project ID (1:m as arrays)\n",
    "* statute (1:m as arrays)\n",
    "* permit type (1:m as arrays)\n",
    "* permitting action (1:m as arrays)\n",
    "* permit status\n",
    "* description\n",
    "* research notes\n",
    "\n",
    "Cleaning Checklist:\n",
    "- [x] Accuracy\n",
    "- [x] Atomicity\n",
    "- [ ] Consistency\n",
    "- [x] Completeness\n",
    "- [x] Uniformity\n",
    "- [x] Validity\n",
    "    - [x] Range Validation\n",
    "    - [x] Uniqueness Validation\n",
    "    - [x] Set Membership Validation\n",
    "    - [x] Type Validation\n",
    "    - [x] Cross-Field Validation"
   ]
  },
  {
   "cell_type": "markdown",
   "id": "ff749ff2-dea9-4d5b-ac51-950666adc19a",
   "metadata": {},
   "source": [
    "### Accuracy\n",
    "The most important item to spot check here is the permit status. \"Final\" permit statuses are of little interest and also presumably don't change over time, so I'll only check 1 of those.\n",
    "\n",
    "Results: 4/4 match dates and status 👍🏼"
   ]
  },
  {
   "cell_type": "code",
   "execution_count": 8,
   "id": "90eeaf6e-e70e-4b7f-bbc3-7f9913d28884",
   "metadata": {},
   "outputs": [
    {
     "data": {
      "text/html": [
       "<div>\n",
       "<style scoped>\n",
       "    .dataframe tbody tr th:only-of-type {\n",
       "        vertical-align: middle;\n",
       "    }\n",
       "\n",
       "    .dataframe tbody tr th {\n",
       "        vertical-align: top;\n",
       "    }\n",
       "\n",
       "    .dataframe thead th {\n",
       "        text-align: right;\n",
       "    }\n",
       "</style>\n",
       "<table border=\"1\" class=\"dataframe\">\n",
       "  <thead>\n",
       "    <tr style=\"text-align: right;\">\n",
       "      <th></th>\n",
       "      <th>id</th>\n",
       "      <th>name</th>\n",
       "      <th>created_on</th>\n",
       "      <th>modified_on</th>\n",
       "      <th>Date Last Checked</th>\n",
       "      <th>Project (ID)</th>\n",
       "      <th>Project</th>\n",
       "      <th>Permit Status</th>\n",
       "      <th>Description or Purpose</th>\n",
       "      <th>Application Date</th>\n",
       "      <th>Draft Permit Issuance Date</th>\n",
       "      <th>Last Day to Comment</th>\n",
       "      <th>Final Permit Issuance Date</th>\n",
       "      <th>Deadline to Begin Construction</th>\n",
       "      <th>Detailed Permitting History</th>\n",
       "      <th>Document URL</th>\n",
       "    </tr>\n",
       "  </thead>\n",
       "  <tbody>\n",
       "    <tr>\n",
       "      <th>755</th>\n",
       "      <td>4558</td>\n",
       "      <td>0520-00492-V2 and PSD-LA-803 (M-2)</td>\n",
       "      <td>2021-11-24T08:48:13.060662</td>\n",
       "      <td>2022-08-10T19:21:53.139398</td>\n",
       "      <td>2022-08-10</td>\n",
       "      <td>2933</td>\n",
       "      <td>Lake Charles Methanol - Initial Construction[2...</td>\n",
       "      <td>Draft Issued</td>\n",
       "      <td>This permit application would renew the facili...</td>\n",
       "      <td>2020-08-21</td>\n",
       "      <td>2022-01-20</td>\n",
       "      <td>2022-02-28</td>\n",
       "      <td>NaN</td>\n",
       "      <td>NaN</td>\n",
       "      <td>NaN</td>\n",
       "      <td>NaN</td>\n",
       "    </tr>\n",
       "    <tr>\n",
       "      <th>106</th>\n",
       "      <td>1720</td>\n",
       "      <td>R6PSD-DWP-GM8</td>\n",
       "      <td>2021-05-20T19:18:48.607217</td>\n",
       "      <td>2022-09-02T17:16:52.422962</td>\n",
       "      <td>2022-08-19</td>\n",
       "      <td>2762</td>\n",
       "      <td>Bluewater SPM Deepwater Port - Initial Constru...</td>\n",
       "      <td>Draft Issued</td>\n",
       "      <td>EPA Region 6 permit authorizing construction o...</td>\n",
       "      <td>2019-05-30</td>\n",
       "      <td>2020-11-12</td>\n",
       "      <td>2021-01-11</td>\n",
       "      <td>NaN</td>\n",
       "      <td>NaN</td>\n",
       "      <td>NaN</td>\n",
       "      <td>NaN</td>\n",
       "    </tr>\n",
       "    <tr>\n",
       "      <th>847</th>\n",
       "      <td>5260</td>\n",
       "      <td>169207</td>\n",
       "      <td>2022-06-27T14:23:14.151646</td>\n",
       "      <td>2022-08-26T18:07:50.889054</td>\n",
       "      <td>2022-08-26</td>\n",
       "      <td>5258</td>\n",
       "      <td>Cedar Bayou Hydrogen Plant - Initial Construct...</td>\n",
       "      <td>Application Pending</td>\n",
       "      <td>This permit would authorize construction of th...</td>\n",
       "      <td>2022-05-27</td>\n",
       "      <td>NaN</td>\n",
       "      <td>NaN</td>\n",
       "      <td>NaN</td>\n",
       "      <td>NaN</td>\n",
       "      <td>NaN</td>\n",
       "      <td>NaN</td>\n",
       "    </tr>\n",
       "  </tbody>\n",
       "</table>\n",
       "</div>"
      ],
      "text/plain": [
       "       id                                name                  created_on  \\\n",
       "755  4558  0520-00492-V2 and PSD-LA-803 (M-2)  2021-11-24T08:48:13.060662   \n",
       "106  1720                       R6PSD-DWP-GM8  2021-05-20T19:18:48.607217   \n",
       "847  5260                              169207  2022-06-27T14:23:14.151646   \n",
       "\n",
       "                    modified_on Date Last Checked Project (ID)  \\\n",
       "755  2022-08-10T19:21:53.139398        2022-08-10         2933   \n",
       "106  2022-09-02T17:16:52.422962        2022-08-19         2762   \n",
       "847  2022-08-26T18:07:50.889054        2022-08-26         5258   \n",
       "\n",
       "                                               Project        Permit Status  \\\n",
       "755  Lake Charles Methanol - Initial Construction[2...         Draft Issued   \n",
       "106  Bluewater SPM Deepwater Port - Initial Constru...         Draft Issued   \n",
       "847  Cedar Bayou Hydrogen Plant - Initial Construct...  Application Pending   \n",
       "\n",
       "                                Description or Purpose Application Date  \\\n",
       "755  This permit application would renew the facili...       2020-08-21   \n",
       "106  EPA Region 6 permit authorizing construction o...       2019-05-30   \n",
       "847  This permit would authorize construction of th...       2022-05-27   \n",
       "\n",
       "    Draft Permit Issuance Date Last Day to Comment Final Permit Issuance Date  \\\n",
       "755                 2022-01-20          2022-02-28                        NaN   \n",
       "106                 2020-11-12          2021-01-11                        NaN   \n",
       "847                        NaN                 NaN                        NaN   \n",
       "\n",
       "    Deadline to Begin Construction Detailed Permitting History Document URL  \n",
       "755                            NaN                         NaN          NaN  \n",
       "106                            NaN                         NaN          NaN  \n",
       "847                            NaN                         NaN          NaN  "
      ]
     },
     "execution_count": 8,
     "metadata": {},
     "output_type": "execute_result"
    }
   ],
   "source": [
    "filter_ = air['Permit Status'].isin({\"Application Pending\", \"Draft Issued\"})\n",
    "air.loc[filter_,:].sample(3, random_state=42)"
   ]
  },
  {
   "cell_type": "markdown",
   "id": "41e44fd6-625b-4f2f-b565-7146d2d697cf",
   "metadata": {},
   "source": [
    "Alaska LNG Liquifaction Plant: confirmed on [AK DEC website](https://dec.alaska.gov/Applications/Air/airtoolsweb/AirPermitsApprovalsAndPublicNotices). Dates match, status is a little more ambiguous but I think \"draft\" is right.\n",
    "\n",
    "Gulf LNG: confirmed on [MS state website](https://opcgis.deq.state.ms.us/enonline/ai_info.aspx?ai=23844). Application date and status match.\n",
    "\n",
    "Delfin LNG: confirmed on [LA DEQ website](https://deq.louisiana.gov/public-notices?keyword=delfin&startDate=&endDate=). Dates and status match."
   ]
  },
  {
   "cell_type": "code",
   "execution_count": 9,
   "id": "87037267-65b8-480a-a55f-bc69ea60b723",
   "metadata": {},
   "outputs": [
    {
     "data": {
      "text/html": [
       "<div>\n",
       "<style scoped>\n",
       "    .dataframe tbody tr th:only-of-type {\n",
       "        vertical-align: middle;\n",
       "    }\n",
       "\n",
       "    .dataframe tbody tr th {\n",
       "        vertical-align: top;\n",
       "    }\n",
       "\n",
       "    .dataframe thead th {\n",
       "        text-align: right;\n",
       "    }\n",
       "</style>\n",
       "<table border=\"1\" class=\"dataframe\">\n",
       "  <thead>\n",
       "    <tr style=\"text-align: right;\">\n",
       "      <th></th>\n",
       "      <th>id</th>\n",
       "      <th>name</th>\n",
       "      <th>created_on</th>\n",
       "      <th>modified_on</th>\n",
       "      <th>Date Last Checked</th>\n",
       "      <th>Project (ID)</th>\n",
       "      <th>Project</th>\n",
       "      <th>Permit Status</th>\n",
       "      <th>Description or Purpose</th>\n",
       "      <th>Application Date</th>\n",
       "      <th>Draft Permit Issuance Date</th>\n",
       "      <th>Last Day to Comment</th>\n",
       "      <th>Final Permit Issuance Date</th>\n",
       "      <th>Deadline to Begin Construction</th>\n",
       "      <th>Detailed Permitting History</th>\n",
       "      <th>Document URL</th>\n",
       "    </tr>\n",
       "  </thead>\n",
       "  <tbody>\n",
       "    <tr>\n",
       "      <th>638</th>\n",
       "      <td>3670</td>\n",
       "      <td>152723</td>\n",
       "      <td>2021-08-24T17:03:45.752043</td>\n",
       "      <td>2022-02-17T20:00:59.538202</td>\n",
       "      <td>NaN</td>\n",
       "      <td>3664</td>\n",
       "      <td>Enterprise Mont Belvieu - Frac X[3664]</td>\n",
       "      <td>Final Issued</td>\n",
       "      <td>Permit authorizing construction of a tenth fra...</td>\n",
       "      <td>2018-07-12</td>\n",
       "      <td>NaN</td>\n",
       "      <td>NaN</td>\n",
       "      <td>2018-07-31</td>\n",
       "      <td>NaN</td>\n",
       "      <td>Registration No. 152723 (issued 7/31/2018, rev...</td>\n",
       "      <td>NaN</td>\n",
       "    </tr>\n",
       "  </tbody>\n",
       "</table>\n",
       "</div>"
      ],
      "text/plain": [
       "       id    name                  created_on                 modified_on  \\\n",
       "638  3670  152723  2021-08-24T17:03:45.752043  2022-02-17T20:00:59.538202   \n",
       "\n",
       "    Date Last Checked Project (ID)                                 Project  \\\n",
       "638               NaN         3664  Enterprise Mont Belvieu - Frac X[3664]   \n",
       "\n",
       "    Permit Status                             Description or Purpose  \\\n",
       "638  Final Issued  Permit authorizing construction of a tenth fra...   \n",
       "\n",
       "    Application Date Draft Permit Issuance Date Last Day to Comment  \\\n",
       "638       2018-07-12                        NaN                 NaN   \n",
       "\n",
       "    Final Permit Issuance Date Deadline to Begin Construction  \\\n",
       "638                 2018-07-31                            NaN   \n",
       "\n",
       "                           Detailed Permitting History Document URL  \n",
       "638  Registration No. 152723 (issued 7/31/2018, rev...          NaN  "
      ]
     },
     "execution_count": 9,
     "metadata": {},
     "output_type": "execute_result"
    }
   ],
   "source": [
    "filter_ = air['Permit Status'].eq(\"Final Issued\")\n",
    "air.loc[filter_,:].sample(1, random_state=42)"
   ]
  },
  {
   "cell_type": "markdown",
   "id": "851dd81d-a162-4d57-84b3-cc8db8b661a3",
   "metadata": {},
   "source": [
    "Heim Gas Plant Expansion: confirmed at [TX CEQ website](https://www15.tceq.texas.gov/crpub/index.cfm?fuseaction=iwr.pgmdetail&addn_id=120534092019308&re_id=578462662019220&program_code=AIRNSR&lgcy_sys_cd=NSR&program=AIR%20NEW%20SOURCE%20PERMITS&IdType=REG). Dates and status match."
   ]
  },
  {
   "cell_type": "markdown",
   "id": "c26eb9fa-d49d-45d1-8bd0-55cfdd2bf79f",
   "metadata": {},
   "source": [
    "### Atomicity\n",
    "Most of the columns are 1:m values encoded as csv array strings, but most values are singletons. See Range Validation and Set Membership Validation for decisions on modeling as 1:1 vs 1:m."
   ]
  },
  {
   "cell_type": "markdown",
   "id": "d2cad23f-ae34-4def-8d92-f0170795324a",
   "metadata": {},
   "source": [
    "### Completeness\n",
    "For this purpose, I'll limit the scope of 'completeness' to only look at missing values within the data. For better or worse, it is EIP's job to ensure projects are in the dataset at all.\n",
    "\n",
    "We are not interested in already-issued permits, so I'll remove those and assess completeness based on the remaining subset.\n",
    "\n",
    "Notable missing values and lack of missing values:\n",
    "* The only 3 records missing project ID + permit info are entirely NaN rows"
   ]
  },
  {
   "cell_type": "code",
   "execution_count": 10,
   "id": "657869cb-3d9a-4aa8-b59b-effd1937e880",
   "metadata": {},
   "outputs": [],
   "source": [
    "def calc(num, denom=105):\n",
    "    percent = 1- num/denom\n",
    "    n = denom - num\n",
    "    return f\"{n}/{denom} ({percent*100:.1f}%)\""
   ]
  },
  {
   "cell_type": "code",
   "execution_count": 11,
   "id": "d800298e-66fc-4945-9391-c2cb64525ddc",
   "metadata": {},
   "outputs": [
    {
     "data": {
      "text/plain": [
       "'3/105 (2.9%)'"
      ]
     },
     "execution_count": 11,
     "metadata": {},
     "output_type": "execute_result"
    }
   ],
   "source": [
    "calc(102)"
   ]
  },
  {
   "cell_type": "code",
   "execution_count": 12,
   "id": "785834ff-c1b8-4a8b-a1ab-5ab1caaae064",
   "metadata": {},
   "outputs": [
    {
     "data": {
      "text/plain": [
       "879"
      ]
     },
     "execution_count": 12,
     "metadata": {},
     "output_type": "execute_result"
    }
   ],
   "source": [
    "len(air)"
   ]
  },
  {
   "cell_type": "code",
   "execution_count": 13,
   "id": "f7f3e23e-18a4-4926-b9d3-97f1cedbefe2",
   "metadata": {},
   "outputs": [
    {
     "data": {
      "text/plain": [
       "Final Issued                                      754\n",
       "Application Pending                                43\n",
       "Draft Issued                                       27\n",
       "Expired                                            20\n",
       "Withdrawn (UARG v. EPA 134 S. Ct. 2427 (2014))     12\n",
       "Withdrawn                                           9\n",
       "Void                                                6\n",
       "Denied                                              2\n",
       "Name: Permit Status, dtype: int64"
      ]
     },
     "execution_count": 13,
     "metadata": {},
     "output_type": "execute_result"
    }
   ],
   "source": [
    "air['Permit Status'].value_counts()"
   ]
  },
  {
   "cell_type": "code",
   "execution_count": 14,
   "id": "8e61e153-c971-4697-8519-111774343618",
   "metadata": {},
   "outputs": [
    {
     "data": {
      "text/plain": [
       "id                                125\n",
       "name                              123\n",
       "created_on                        125\n",
       "modified_on                       125\n",
       "Date Last Checked                  82\n",
       "Project (ID)                      120\n",
       "Project                           120\n",
       "Permit Status                     119\n",
       "Description or Purpose            110\n",
       "Application Date                  112\n",
       "Draft Permit Issuance Date         32\n",
       "Last Day to Comment                28\n",
       "Final Permit Issuance Date         40\n",
       "Deadline to Begin Construction     27\n",
       "Detailed Permitting History        42\n",
       "Document URL                       11\n",
       "dtype: int64"
      ]
     },
     "execution_count": 14,
     "metadata": {},
     "output_type": "execute_result"
    }
   ],
   "source": [
    "air.loc[air['Permit Status'].ne('Final Issued'),:].count().T"
   ]
  },
  {
   "cell_type": "code",
   "execution_count": 15,
   "id": "93b4b985-e6a6-40b3-a057-12fd43dc2b81",
   "metadata": {},
   "outputs": [
    {
     "data": {
      "text/html": [
       "<div>\n",
       "<style scoped>\n",
       "    .dataframe tbody tr th:only-of-type {\n",
       "        vertical-align: middle;\n",
       "    }\n",
       "\n",
       "    .dataframe tbody tr th {\n",
       "        vertical-align: top;\n",
       "    }\n",
       "\n",
       "    .dataframe thead th {\n",
       "        text-align: right;\n",
       "    }\n",
       "</style>\n",
       "<table border=\"1\" class=\"dataframe\">\n",
       "  <thead>\n",
       "    <tr style=\"text-align: right;\">\n",
       "      <th></th>\n",
       "      <th>id</th>\n",
       "      <th>name</th>\n",
       "      <th>created_on</th>\n",
       "      <th>modified_on</th>\n",
       "      <th>Date Last Checked</th>\n",
       "      <th>Project (ID)</th>\n",
       "      <th>Project</th>\n",
       "      <th>Permit Status</th>\n",
       "      <th>Description or Purpose</th>\n",
       "      <th>Application Date</th>\n",
       "      <th>Draft Permit Issuance Date</th>\n",
       "      <th>Last Day to Comment</th>\n",
       "      <th>Final Permit Issuance Date</th>\n",
       "      <th>Deadline to Begin Construction</th>\n",
       "      <th>Detailed Permitting History</th>\n",
       "      <th>Document URL</th>\n",
       "    </tr>\n",
       "  </thead>\n",
       "  <tbody>\n",
       "    <tr>\n",
       "      <th>606</th>\n",
       "      <td>3169</td>\n",
       "      <td>NaN</td>\n",
       "      <td>2021-07-06T12:27:00.231068</td>\n",
       "      <td>2021-07-06T12:27:00.231068</td>\n",
       "      <td>NaN</td>\n",
       "      <td>NaN</td>\n",
       "      <td>NaN</td>\n",
       "      <td>NaN</td>\n",
       "      <td>NaN</td>\n",
       "      <td>NaN</td>\n",
       "      <td>NaN</td>\n",
       "      <td>NaN</td>\n",
       "      <td>NaN</td>\n",
       "      <td>NaN</td>\n",
       "      <td>NaN</td>\n",
       "      <td>NaN</td>\n",
       "    </tr>\n",
       "    <tr>\n",
       "      <th>607</th>\n",
       "      <td>3170</td>\n",
       "      <td>NaN</td>\n",
       "      <td>2021-07-06T12:27:32.120889</td>\n",
       "      <td>2021-07-06T12:27:32.120889</td>\n",
       "      <td>NaN</td>\n",
       "      <td>NaN</td>\n",
       "      <td>NaN</td>\n",
       "      <td>NaN</td>\n",
       "      <td>NaN</td>\n",
       "      <td>NaN</td>\n",
       "      <td>NaN</td>\n",
       "      <td>NaN</td>\n",
       "      <td>NaN</td>\n",
       "      <td>NaN</td>\n",
       "      <td>NaN</td>\n",
       "      <td>NaN</td>\n",
       "    </tr>\n",
       "    <tr>\n",
       "      <th>813</th>\n",
       "      <td>4874</td>\n",
       "      <td>156320, PSDTX1558M1, GHGPSDTX193M1</td>\n",
       "      <td>2022-03-17T02:30:28.758823</td>\n",
       "      <td>2022-03-17T02:30:33.514155</td>\n",
       "      <td>NaN</td>\n",
       "      <td>NaN</td>\n",
       "      <td>NaN</td>\n",
       "      <td>NaN</td>\n",
       "      <td>NaN</td>\n",
       "      <td>NaN</td>\n",
       "      <td>NaN</td>\n",
       "      <td>NaN</td>\n",
       "      <td>NaN</td>\n",
       "      <td>NaN</td>\n",
       "      <td>NaN</td>\n",
       "      <td>NaN</td>\n",
       "    </tr>\n",
       "    <tr>\n",
       "      <th>821</th>\n",
       "      <td>4913</td>\n",
       "      <td>Jackson Generation</td>\n",
       "      <td>2022-04-01T19:24:37.632988</td>\n",
       "      <td>2022-04-01T19:24:47.500382</td>\n",
       "      <td>2022-04-01</td>\n",
       "      <td>NaN</td>\n",
       "      <td>NaN</td>\n",
       "      <td>NaN</td>\n",
       "      <td>NaN</td>\n",
       "      <td>NaN</td>\n",
       "      <td>NaN</td>\n",
       "      <td>NaN</td>\n",
       "      <td>NaN</td>\n",
       "      <td>NaN</td>\n",
       "      <td>NaN</td>\n",
       "      <td>NaN</td>\n",
       "    </tr>\n",
       "    <tr>\n",
       "      <th>846</th>\n",
       "      <td>5259</td>\n",
       "      <td>169207</td>\n",
       "      <td>2022-06-27T14:23:14.151359</td>\n",
       "      <td>2022-06-27T14:23:25.286010</td>\n",
       "      <td>NaN</td>\n",
       "      <td>NaN</td>\n",
       "      <td>NaN</td>\n",
       "      <td>NaN</td>\n",
       "      <td>NaN</td>\n",
       "      <td>NaN</td>\n",
       "      <td>NaN</td>\n",
       "      <td>NaN</td>\n",
       "      <td>NaN</td>\n",
       "      <td>NaN</td>\n",
       "      <td>NaN</td>\n",
       "      <td>NaN</td>\n",
       "    </tr>\n",
       "    <tr>\n",
       "      <th>878</th>\n",
       "      <td>5503</td>\n",
       "      <td>159743</td>\n",
       "      <td>2022-09-14T14:34:27.100584</td>\n",
       "      <td>2022-09-14T14:34:27.299773</td>\n",
       "      <td>NaN</td>\n",
       "      <td>5502</td>\n",
       "      <td>Junction Compressor - Initial Construction[5502]</td>\n",
       "      <td>NaN</td>\n",
       "      <td>NaN</td>\n",
       "      <td>NaN</td>\n",
       "      <td>NaN</td>\n",
       "      <td>NaN</td>\n",
       "      <td>NaN</td>\n",
       "      <td>NaN</td>\n",
       "      <td>NaN</td>\n",
       "      <td>NaN</td>\n",
       "    </tr>\n",
       "  </tbody>\n",
       "</table>\n",
       "</div>"
      ],
      "text/plain": [
       "       id                                name                  created_on  \\\n",
       "606  3169                                 NaN  2021-07-06T12:27:00.231068   \n",
       "607  3170                                 NaN  2021-07-06T12:27:32.120889   \n",
       "813  4874  156320, PSDTX1558M1, GHGPSDTX193M1  2022-03-17T02:30:28.758823   \n",
       "821  4913                  Jackson Generation  2022-04-01T19:24:37.632988   \n",
       "846  5259                              169207  2022-06-27T14:23:14.151359   \n",
       "878  5503                              159743  2022-09-14T14:34:27.100584   \n",
       "\n",
       "                    modified_on Date Last Checked Project (ID)  \\\n",
       "606  2021-07-06T12:27:00.231068               NaN          NaN   \n",
       "607  2021-07-06T12:27:32.120889               NaN          NaN   \n",
       "813  2022-03-17T02:30:33.514155               NaN          NaN   \n",
       "821  2022-04-01T19:24:47.500382        2022-04-01          NaN   \n",
       "846  2022-06-27T14:23:25.286010               NaN          NaN   \n",
       "878  2022-09-14T14:34:27.299773               NaN         5502   \n",
       "\n",
       "                                              Project Permit Status  \\\n",
       "606                                               NaN           NaN   \n",
       "607                                               NaN           NaN   \n",
       "813                                               NaN           NaN   \n",
       "821                                               NaN           NaN   \n",
       "846                                               NaN           NaN   \n",
       "878  Junction Compressor - Initial Construction[5502]           NaN   \n",
       "\n",
       "    Description or Purpose Application Date Draft Permit Issuance Date  \\\n",
       "606                    NaN              NaN                        NaN   \n",
       "607                    NaN              NaN                        NaN   \n",
       "813                    NaN              NaN                        NaN   \n",
       "821                    NaN              NaN                        NaN   \n",
       "846                    NaN              NaN                        NaN   \n",
       "878                    NaN              NaN                        NaN   \n",
       "\n",
       "    Last Day to Comment Final Permit Issuance Date  \\\n",
       "606                 NaN                        NaN   \n",
       "607                 NaN                        NaN   \n",
       "813                 NaN                        NaN   \n",
       "821                 NaN                        NaN   \n",
       "846                 NaN                        NaN   \n",
       "878                 NaN                        NaN   \n",
       "\n",
       "    Deadline to Begin Construction Detailed Permitting History Document URL  \n",
       "606                            NaN                         NaN          NaN  \n",
       "607                            NaN                         NaN          NaN  \n",
       "813                            NaN                         NaN          NaN  \n",
       "821                            NaN                         NaN          NaN  \n",
       "846                            NaN                         NaN          NaN  \n",
       "878                            NaN                         NaN          NaN  "
      ]
     },
     "execution_count": 15,
     "metadata": {},
     "output_type": "execute_result"
    }
   ],
   "source": [
    "air.loc[air['Permit Status'].isna(),:]"
   ]
  },
  {
   "cell_type": "markdown",
   "id": "ba7ce60a-5785-48bb-8e45-faedcb66ae50",
   "metadata": {},
   "source": [
    "### Consistency - defer\n",
    "Defer until I've cleaned the related datasets\n",
    "### Uniformity\n",
    "Important columns to check consistent representation:\n",
    "* all array fields -- check consistent delimiters\n",
    "    * project ID (1:m as arrays)\n",
    "    * statute (1:m as arrays)\n",
    "    * permit type (1:m as arrays)\n",
    "    * permitting action (1:m as arrays)\n",
    "* modified on -- check consistent date format"
   ]
  },
  {
   "cell_type": "markdown",
   "id": "81618c73-29a6-4c6e-918e-35e315adc7c6",
   "metadata": {},
   "source": [
    "#### Array Fields\n",
    "Want to check for consistent array delimiters."
   ]
  },
  {
   "cell_type": "code",
   "execution_count": 16,
   "id": "4192a0cf-af5e-4ecc-9b99-a02372ac86cf",
   "metadata": {},
   "outputs": [],
   "source": [
    "# exclude ID cols with numeric types (no arrays present)\n",
    "id_cols = [\n",
    "    'Project (ID)',    \n",
    "]"
   ]
  },
  {
   "cell_type": "code",
   "execution_count": 17,
   "id": "61e14d01-63c2-48fb-bc94-24681e31aa8b",
   "metadata": {},
   "outputs": [],
   "source": [
    "# mandatory opening pattern, optional delimiter, optional repeating pattern, optional closing pattern, mandatory end of line\n",
    "array_pattern = r'(?:\\d{3,5})(?:, ?)?(?:\\d{3,5}, ?)*(?:\\d{3,5})?$'"
   ]
  },
  {
   "cell_type": "code",
   "execution_count": 18,
   "id": "4581b919-0f49-4e2d-bb26-7ef34de04e0c",
   "metadata": {},
   "outputs": [
    {
     "data": {
      "text/html": [
       "<div>\n",
       "<style scoped>\n",
       "    .dataframe tbody tr th:only-of-type {\n",
       "        vertical-align: middle;\n",
       "    }\n",
       "\n",
       "    .dataframe tbody tr th {\n",
       "        vertical-align: top;\n",
       "    }\n",
       "\n",
       "    .dataframe thead th {\n",
       "        text-align: right;\n",
       "    }\n",
       "</style>\n",
       "<table border=\"1\" class=\"dataframe\">\n",
       "  <thead>\n",
       "    <tr style=\"text-align: right;\">\n",
       "      <th></th>\n",
       "      <th>0</th>\n",
       "      <th>1</th>\n",
       "    </tr>\n",
       "  </thead>\n",
       "  <tbody>\n",
       "    <tr>\n",
       "      <th>0</th>\n",
       "      <td>1234</td>\n",
       "      <td>True</td>\n",
       "    </tr>\n",
       "    <tr>\n",
       "      <th>1</th>\n",
       "      <td>1234,567</td>\n",
       "      <td>True</td>\n",
       "    </tr>\n",
       "    <tr>\n",
       "      <th>2</th>\n",
       "      <td>1234, 567</td>\n",
       "      <td>True</td>\n",
       "    </tr>\n",
       "    <tr>\n",
       "      <th>3</th>\n",
       "      <td>12345, 678, 9012</td>\n",
       "      <td>True</td>\n",
       "    </tr>\n",
       "    <tr>\n",
       "      <th>4</th>\n",
       "      <td>1234\\t5678</td>\n",
       "      <td>False</td>\n",
       "    </tr>\n",
       "    <tr>\n",
       "      <th>5</th>\n",
       "      <td>12, 3456</td>\n",
       "      <td>False</td>\n",
       "    </tr>\n",
       "    <tr>\n",
       "      <th>6</th>\n",
       "      <td>1234    5678</td>\n",
       "      <td>False</td>\n",
       "    </tr>\n",
       "  </tbody>\n",
       "</table>\n",
       "</div>"
      ],
      "text/plain": [
       "                  0      1\n",
       "0              1234   True\n",
       "1          1234,567   True\n",
       "2         1234, 567   True\n",
       "3  12345, 678, 9012   True\n",
       "4        1234\\t5678  False\n",
       "5          12, 3456  False\n",
       "6      1234    5678  False"
      ]
     },
     "execution_count": 18,
     "metadata": {},
     "output_type": "execute_result"
    }
   ],
   "source": [
    "test_case = pd.Series([\n",
    "    '1234',\n",
    "    '1234,567',\n",
    "    '1234, 567',\n",
    "    '12345, 678, 9012',\n",
    "    '1234\\t5678', # tab is bad, no comma\n",
    "    '12, 3456', # too short\n",
    "    '1234    5678', # too many spaces, no comma\n",
    "])\n",
    "pd.concat([test_case, test_case.str.match(array_pattern)], axis=1)"
   ]
  },
  {
   "cell_type": "code",
   "execution_count": 19,
   "id": "3557314c-34c4-4597-b390-5bd98b55c8f7",
   "metadata": {},
   "outputs": [],
   "source": [
    "# all pass the formatting test\n",
    "for col in id_cols:\n",
    "    assert air[col].str.match(array_pattern).all()"
   ]
  },
  {
   "cell_type": "code",
   "execution_count": 20,
   "id": "57066b86-4577-4c6f-9355-34d1e12c8c83",
   "metadata": {},
   "outputs": [],
   "source": [
    "array_cols = [\n",
    "    'Permitting Action', \n",
    "    'Permit Type',\n",
    "    'Statute',\n",
    "]"
   ]
  },
  {
   "cell_type": "code",
   "execution_count": 21,
   "id": "e8902f98-a856-41ff-80e9-ee48a60f6358",
   "metadata": {},
   "outputs": [
    {
     "ename": "KeyError",
     "evalue": "\"None of [Index(['Permitting Action', 'Permit Type', 'Statute'], dtype='object')] are in the [columns]\"",
     "output_type": "error",
     "traceback": [
      "\u001b[0;31m---------------------------------------------------------------------------\u001b[0m",
      "\u001b[0;31mKeyError\u001b[0m                                  Traceback (most recent call last)",
      "Input \u001b[0;32mIn [21]\u001b[0m, in \u001b[0;36m<cell line: 1>\u001b[0;34m()\u001b[0m\n\u001b[0;32m----> 1\u001b[0m special_chars \u001b[38;5;241m=\u001b[39m \u001b[43mair\u001b[49m\u001b[38;5;241;43m.\u001b[39;49m\u001b[43mloc\u001b[49m\u001b[43m[\u001b[49m\u001b[43m:\u001b[49m\u001b[43m,\u001b[49m\u001b[43m \u001b[49m\u001b[43marray_cols\u001b[49m\u001b[43m]\u001b[49m\u001b[38;5;241m.\u001b[39mcopy()\n\u001b[1;32m      2\u001b[0m \u001b[38;5;28;01mfor\u001b[39;00m col \u001b[38;5;129;01min\u001b[39;00m array_cols:\n\u001b[1;32m      3\u001b[0m     special_chars\u001b[38;5;241m.\u001b[39mloc[:, col] \u001b[38;5;241m=\u001b[39m special_chars\u001b[38;5;241m.\u001b[39mloc[:, col]\u001b[38;5;241m.\u001b[39mstr\u001b[38;5;241m.\u001b[39mreplace(\u001b[38;5;124m'\u001b[39m\u001b[38;5;124m\\\u001b[39m\u001b[38;5;124mw|\u001b[39m\u001b[38;5;124m\\\u001b[39m\u001b[38;5;124ms|,\u001b[39m\u001b[38;5;124m'\u001b[39m, \u001b[38;5;124m'\u001b[39m\u001b[38;5;124m'\u001b[39m, regex\u001b[38;5;241m=\u001b[39m\u001b[38;5;28;01mTrue\u001b[39;00m)\n",
      "File \u001b[0;32m~/.local/lib/python3.9/site-packages/pandas/core/indexing.py:925\u001b[0m, in \u001b[0;36m_LocationIndexer.__getitem__\u001b[0;34m(self, key)\u001b[0m\n\u001b[1;32m    923\u001b[0m         \u001b[38;5;28;01mwith\u001b[39;00m suppress(\u001b[38;5;167;01mKeyError\u001b[39;00m, \u001b[38;5;167;01mIndexError\u001b[39;00m):\n\u001b[1;32m    924\u001b[0m             \u001b[38;5;28;01mreturn\u001b[39;00m \u001b[38;5;28mself\u001b[39m\u001b[38;5;241m.\u001b[39mobj\u001b[38;5;241m.\u001b[39m_get_value(\u001b[38;5;241m*\u001b[39mkey, takeable\u001b[38;5;241m=\u001b[39m\u001b[38;5;28mself\u001b[39m\u001b[38;5;241m.\u001b[39m_takeable)\n\u001b[0;32m--> 925\u001b[0m     \u001b[38;5;28;01mreturn\u001b[39;00m \u001b[38;5;28;43mself\u001b[39;49m\u001b[38;5;241;43m.\u001b[39;49m\u001b[43m_getitem_tuple\u001b[49m\u001b[43m(\u001b[49m\u001b[43mkey\u001b[49m\u001b[43m)\u001b[49m\n\u001b[1;32m    926\u001b[0m \u001b[38;5;28;01melse\u001b[39;00m:\n\u001b[1;32m    927\u001b[0m     \u001b[38;5;66;03m# we by definition only have the 0th axis\u001b[39;00m\n\u001b[1;32m    928\u001b[0m     axis \u001b[38;5;241m=\u001b[39m \u001b[38;5;28mself\u001b[39m\u001b[38;5;241m.\u001b[39maxis \u001b[38;5;129;01mor\u001b[39;00m \u001b[38;5;241m0\u001b[39m\n",
      "File \u001b[0;32m~/.local/lib/python3.9/site-packages/pandas/core/indexing.py:1109\u001b[0m, in \u001b[0;36m_LocIndexer._getitem_tuple\u001b[0;34m(self, tup)\u001b[0m\n\u001b[1;32m   1106\u001b[0m \u001b[38;5;28;01mif\u001b[39;00m \u001b[38;5;28mself\u001b[39m\u001b[38;5;241m.\u001b[39m_multi_take_opportunity(tup):\n\u001b[1;32m   1107\u001b[0m     \u001b[38;5;28;01mreturn\u001b[39;00m \u001b[38;5;28mself\u001b[39m\u001b[38;5;241m.\u001b[39m_multi_take(tup)\n\u001b[0;32m-> 1109\u001b[0m \u001b[38;5;28;01mreturn\u001b[39;00m \u001b[38;5;28;43mself\u001b[39;49m\u001b[38;5;241;43m.\u001b[39;49m\u001b[43m_getitem_tuple_same_dim\u001b[49m\u001b[43m(\u001b[49m\u001b[43mtup\u001b[49m\u001b[43m)\u001b[49m\n",
      "File \u001b[0;32m~/.local/lib/python3.9/site-packages/pandas/core/indexing.py:806\u001b[0m, in \u001b[0;36m_LocationIndexer._getitem_tuple_same_dim\u001b[0;34m(self, tup)\u001b[0m\n\u001b[1;32m    803\u001b[0m \u001b[38;5;28;01mif\u001b[39;00m com\u001b[38;5;241m.\u001b[39mis_null_slice(key):\n\u001b[1;32m    804\u001b[0m     \u001b[38;5;28;01mcontinue\u001b[39;00m\n\u001b[0;32m--> 806\u001b[0m retval \u001b[38;5;241m=\u001b[39m \u001b[38;5;28;43mgetattr\u001b[39;49m\u001b[43m(\u001b[49m\u001b[43mretval\u001b[49m\u001b[43m,\u001b[49m\u001b[43m \u001b[49m\u001b[38;5;28;43mself\u001b[39;49m\u001b[38;5;241;43m.\u001b[39;49m\u001b[43mname\u001b[49m\u001b[43m)\u001b[49m\u001b[38;5;241;43m.\u001b[39;49m\u001b[43m_getitem_axis\u001b[49m\u001b[43m(\u001b[49m\u001b[43mkey\u001b[49m\u001b[43m,\u001b[49m\u001b[43m \u001b[49m\u001b[43maxis\u001b[49m\u001b[38;5;241;43m=\u001b[39;49m\u001b[43mi\u001b[49m\u001b[43m)\u001b[49m\n\u001b[1;32m    807\u001b[0m \u001b[38;5;66;03m# We should never have retval.ndim < self.ndim, as that should\u001b[39;00m\n\u001b[1;32m    808\u001b[0m \u001b[38;5;66;03m#  be handled by the _getitem_lowerdim call above.\u001b[39;00m\n\u001b[1;32m    809\u001b[0m \u001b[38;5;28;01massert\u001b[39;00m retval\u001b[38;5;241m.\u001b[39mndim \u001b[38;5;241m==\u001b[39m \u001b[38;5;28mself\u001b[39m\u001b[38;5;241m.\u001b[39mndim\n",
      "File \u001b[0;32m~/.local/lib/python3.9/site-packages/pandas/core/indexing.py:1153\u001b[0m, in \u001b[0;36m_LocIndexer._getitem_axis\u001b[0;34m(self, key, axis)\u001b[0m\n\u001b[1;32m   1150\u001b[0m     \u001b[38;5;28;01mif\u001b[39;00m \u001b[38;5;28mhasattr\u001b[39m(key, \u001b[38;5;124m\"\u001b[39m\u001b[38;5;124mndim\u001b[39m\u001b[38;5;124m\"\u001b[39m) \u001b[38;5;129;01mand\u001b[39;00m key\u001b[38;5;241m.\u001b[39mndim \u001b[38;5;241m>\u001b[39m \u001b[38;5;241m1\u001b[39m:\n\u001b[1;32m   1151\u001b[0m         \u001b[38;5;28;01mraise\u001b[39;00m \u001b[38;5;167;01mValueError\u001b[39;00m(\u001b[38;5;124m\"\u001b[39m\u001b[38;5;124mCannot index with multidimensional key\u001b[39m\u001b[38;5;124m\"\u001b[39m)\n\u001b[0;32m-> 1153\u001b[0m     \u001b[38;5;28;01mreturn\u001b[39;00m \u001b[38;5;28;43mself\u001b[39;49m\u001b[38;5;241;43m.\u001b[39;49m\u001b[43m_getitem_iterable\u001b[49m\u001b[43m(\u001b[49m\u001b[43mkey\u001b[49m\u001b[43m,\u001b[49m\u001b[43m \u001b[49m\u001b[43maxis\u001b[49m\u001b[38;5;241;43m=\u001b[39;49m\u001b[43maxis\u001b[49m\u001b[43m)\u001b[49m\n\u001b[1;32m   1155\u001b[0m \u001b[38;5;66;03m# nested tuple slicing\u001b[39;00m\n\u001b[1;32m   1156\u001b[0m \u001b[38;5;28;01mif\u001b[39;00m is_nested_tuple(key, labels):\n",
      "File \u001b[0;32m~/.local/lib/python3.9/site-packages/pandas/core/indexing.py:1093\u001b[0m, in \u001b[0;36m_LocIndexer._getitem_iterable\u001b[0;34m(self, key, axis)\u001b[0m\n\u001b[1;32m   1090\u001b[0m \u001b[38;5;28mself\u001b[39m\u001b[38;5;241m.\u001b[39m_validate_key(key, axis)\n\u001b[1;32m   1092\u001b[0m \u001b[38;5;66;03m# A collection of keys\u001b[39;00m\n\u001b[0;32m-> 1093\u001b[0m keyarr, indexer \u001b[38;5;241m=\u001b[39m \u001b[38;5;28;43mself\u001b[39;49m\u001b[38;5;241;43m.\u001b[39;49m\u001b[43m_get_listlike_indexer\u001b[49m\u001b[43m(\u001b[49m\u001b[43mkey\u001b[49m\u001b[43m,\u001b[49m\u001b[43m \u001b[49m\u001b[43maxis\u001b[49m\u001b[43m)\u001b[49m\n\u001b[1;32m   1094\u001b[0m \u001b[38;5;28;01mreturn\u001b[39;00m \u001b[38;5;28mself\u001b[39m\u001b[38;5;241m.\u001b[39mobj\u001b[38;5;241m.\u001b[39m_reindex_with_indexers(\n\u001b[1;32m   1095\u001b[0m     {axis: [keyarr, indexer]}, copy\u001b[38;5;241m=\u001b[39m\u001b[38;5;28;01mTrue\u001b[39;00m, allow_dups\u001b[38;5;241m=\u001b[39m\u001b[38;5;28;01mTrue\u001b[39;00m\n\u001b[1;32m   1096\u001b[0m )\n",
      "File \u001b[0;32m~/.local/lib/python3.9/site-packages/pandas/core/indexing.py:1314\u001b[0m, in \u001b[0;36m_LocIndexer._get_listlike_indexer\u001b[0;34m(self, key, axis)\u001b[0m\n\u001b[1;32m   1311\u001b[0m \u001b[38;5;28;01melse\u001b[39;00m:\n\u001b[1;32m   1312\u001b[0m     keyarr, indexer, new_indexer \u001b[38;5;241m=\u001b[39m ax\u001b[38;5;241m.\u001b[39m_reindex_non_unique(keyarr)\n\u001b[0;32m-> 1314\u001b[0m \u001b[38;5;28;43mself\u001b[39;49m\u001b[38;5;241;43m.\u001b[39;49m\u001b[43m_validate_read_indexer\u001b[49m\u001b[43m(\u001b[49m\u001b[43mkeyarr\u001b[49m\u001b[43m,\u001b[49m\u001b[43m \u001b[49m\u001b[43mindexer\u001b[49m\u001b[43m,\u001b[49m\u001b[43m \u001b[49m\u001b[43maxis\u001b[49m\u001b[43m)\u001b[49m\n\u001b[1;32m   1316\u001b[0m \u001b[38;5;28;01mif\u001b[39;00m needs_i8_conversion(ax\u001b[38;5;241m.\u001b[39mdtype) \u001b[38;5;129;01mor\u001b[39;00m \u001b[38;5;28misinstance\u001b[39m(\n\u001b[1;32m   1317\u001b[0m     ax, (IntervalIndex, CategoricalIndex)\n\u001b[1;32m   1318\u001b[0m ):\n\u001b[1;32m   1319\u001b[0m     \u001b[38;5;66;03m# For CategoricalIndex take instead of reindex to preserve dtype.\u001b[39;00m\n\u001b[1;32m   1320\u001b[0m     \u001b[38;5;66;03m#  For IntervalIndex this is to map integers to the Intervals they match to.\u001b[39;00m\n\u001b[1;32m   1321\u001b[0m     keyarr \u001b[38;5;241m=\u001b[39m ax\u001b[38;5;241m.\u001b[39mtake(indexer)\n",
      "File \u001b[0;32m~/.local/lib/python3.9/site-packages/pandas/core/indexing.py:1374\u001b[0m, in \u001b[0;36m_LocIndexer._validate_read_indexer\u001b[0;34m(self, key, indexer, axis)\u001b[0m\n\u001b[1;32m   1372\u001b[0m     \u001b[38;5;28;01mif\u001b[39;00m use_interval_msg:\n\u001b[1;32m   1373\u001b[0m         key \u001b[38;5;241m=\u001b[39m \u001b[38;5;28mlist\u001b[39m(key)\n\u001b[0;32m-> 1374\u001b[0m     \u001b[38;5;28;01mraise\u001b[39;00m \u001b[38;5;167;01mKeyError\u001b[39;00m(\u001b[38;5;124mf\u001b[39m\u001b[38;5;124m\"\u001b[39m\u001b[38;5;124mNone of [\u001b[39m\u001b[38;5;132;01m{\u001b[39;00mkey\u001b[38;5;132;01m}\u001b[39;00m\u001b[38;5;124m] are in the [\u001b[39m\u001b[38;5;132;01m{\u001b[39;00maxis_name\u001b[38;5;132;01m}\u001b[39;00m\u001b[38;5;124m]\u001b[39m\u001b[38;5;124m\"\u001b[39m)\n\u001b[1;32m   1376\u001b[0m not_found \u001b[38;5;241m=\u001b[39m \u001b[38;5;28mlist\u001b[39m(ensure_index(key)[missing_mask\u001b[38;5;241m.\u001b[39mnonzero()[\u001b[38;5;241m0\u001b[39m]]\u001b[38;5;241m.\u001b[39munique())\n\u001b[1;32m   1377\u001b[0m \u001b[38;5;28;01mraise\u001b[39;00m \u001b[38;5;167;01mKeyError\u001b[39;00m(\u001b[38;5;124mf\u001b[39m\u001b[38;5;124m\"\u001b[39m\u001b[38;5;132;01m{\u001b[39;00mnot_found\u001b[38;5;132;01m}\u001b[39;00m\u001b[38;5;124m not in index\u001b[39m\u001b[38;5;124m\"\u001b[39m)\n",
      "\u001b[0;31mKeyError\u001b[0m: \"None of [Index(['Permitting Action', 'Permit Type', 'Statute'], dtype='object')] are in the [columns]\""
     ]
    }
   ],
   "source": [
    "special_chars = air.loc[:, array_cols].copy()\n",
    "for col in array_cols:\n",
    "    special_chars.loc[:, col] = special_chars.loc[:, col].str.replace('\\w|\\s|,', '', regex=True)"
   ]
  },
  {
   "cell_type": "code",
   "execution_count": null,
   "id": "a068c30c-b3a6-4f2f-873f-479f394942f6",
   "metadata": {},
   "outputs": [],
   "source": [
    "# no other delimiters present\n",
    "special_chars.loc[special_chars.fillna('').ne('').any(axis=1),:]"
   ]
  },
  {
   "cell_type": "markdown",
   "id": "bf55c928-4a98-4d3c-8589-326fa56dfcd0",
   "metadata": {},
   "source": [
    "#### Date Modified"
   ]
  },
  {
   "cell_type": "code",
   "execution_count": 22,
   "id": "b15fc622-b691-4362-a0b0-0425c66e73c7",
   "metadata": {},
   "outputs": [
    {
     "data": {
      "text/plain": [
       "(dtype('<M8[ns]'), 0)"
      ]
     },
     "execution_count": 22,
     "metadata": {},
     "output_type": "execute_result"
    }
   ],
   "source": [
    "# to_datetime works on all values present\n",
    "timestamps = pd.to_datetime(air['modified_on'], errors='raise')\n",
    "timestamps.dtypes, timestamps.isna().sum()"
   ]
  },
  {
   "cell_type": "markdown",
   "id": "ab2e7376-ddba-425b-be75-12a2ec54d668",
   "metadata": {},
   "source": [
    "### Range Validation\n",
    "Check project ID and date modified"
   ]
  },
  {
   "cell_type": "markdown",
   "id": "89dc9a3d-8791-4794-8f66-724ea3728d08",
   "metadata": {},
   "source": [
    "#### Project ID"
   ]
  },
  {
   "cell_type": "code",
   "execution_count": 24,
   "id": "f09ee92b-c24d-47bd-80be-b105fefdad96",
   "metadata": {},
   "outputs": [
    {
     "data": {
      "text/html": [
       "<div>\n",
       "<style scoped>\n",
       "    .dataframe tbody tr th:only-of-type {\n",
       "        vertical-align: middle;\n",
       "    }\n",
       "\n",
       "    .dataframe tbody tr th {\n",
       "        vertical-align: top;\n",
       "    }\n",
       "\n",
       "    .dataframe thead th {\n",
       "        text-align: right;\n",
       "    }\n",
       "</style>\n",
       "<table border=\"1\" class=\"dataframe\">\n",
       "  <thead>\n",
       "    <tr style=\"text-align: right;\">\n",
       "      <th></th>\n",
       "      <th>0</th>\n",
       "      <th>1</th>\n",
       "    </tr>\n",
       "  </thead>\n",
       "  <tbody>\n",
       "    <tr>\n",
       "      <th>0</th>\n",
       "      <td>2723.0</td>\n",
       "      <td>NaN</td>\n",
       "    </tr>\n",
       "    <tr>\n",
       "      <th>1</th>\n",
       "      <td>2723.0</td>\n",
       "      <td>NaN</td>\n",
       "    </tr>\n",
       "    <tr>\n",
       "      <th>2</th>\n",
       "      <td>2728.0</td>\n",
       "      <td>NaN</td>\n",
       "    </tr>\n",
       "    <tr>\n",
       "      <th>3</th>\n",
       "      <td>2727.0</td>\n",
       "      <td>NaN</td>\n",
       "    </tr>\n",
       "    <tr>\n",
       "      <th>4</th>\n",
       "      <td>2875.0</td>\n",
       "      <td>NaN</td>\n",
       "    </tr>\n",
       "  </tbody>\n",
       "</table>\n",
       "</div>"
      ],
      "text/plain": [
       "        0   1\n",
       "0  2723.0 NaN\n",
       "1  2723.0 NaN\n",
       "2  2728.0 NaN\n",
       "3  2727.0 NaN\n",
       "4  2875.0 NaN"
      ]
     },
     "execution_count": 24,
     "metadata": {},
     "output_type": "execute_result"
    }
   ],
   "source": [
    "proj_ids = air['Project (ID)'].str.split(',', expand=True)\n",
    "for col in proj_ids.columns:\n",
    "    proj_ids.loc[:, col] = pd.to_numeric(proj_ids.loc[:, col], errors='raise')\n",
    "\n",
    "proj_ids.head()"
   ]
  },
  {
   "cell_type": "code",
   "execution_count": 25,
   "id": "3e7db424-53e9-43c3-aa0a-c6da2fb81023",
   "metadata": {},
   "outputs": [
    {
     "data": {
      "text/html": [
       "<div>\n",
       "<style scoped>\n",
       "    .dataframe tbody tr th:only-of-type {\n",
       "        vertical-align: middle;\n",
       "    }\n",
       "\n",
       "    .dataframe tbody tr th {\n",
       "        vertical-align: top;\n",
       "    }\n",
       "\n",
       "    .dataframe thead th {\n",
       "        text-align: right;\n",
       "    }\n",
       "</style>\n",
       "<table border=\"1\" class=\"dataframe\">\n",
       "  <thead>\n",
       "    <tr style=\"text-align: right;\">\n",
       "      <th></th>\n",
       "      <th>0</th>\n",
       "      <th>1</th>\n",
       "    </tr>\n",
       "  </thead>\n",
       "  <tbody>\n",
       "    <tr>\n",
       "      <th>count</th>\n",
       "      <td>861.000000</td>\n",
       "      <td>3.000000</td>\n",
       "    </tr>\n",
       "    <tr>\n",
       "      <th>mean</th>\n",
       "      <td>3304.284553</td>\n",
       "      <td>4370.666667</td>\n",
       "    </tr>\n",
       "    <tr>\n",
       "      <th>std</th>\n",
       "      <td>688.358292</td>\n",
       "      <td>237.584371</td>\n",
       "    </tr>\n",
       "    <tr>\n",
       "      <th>min</th>\n",
       "      <td>2723.000000</td>\n",
       "      <td>4232.000000</td>\n",
       "    </tr>\n",
       "    <tr>\n",
       "      <th>25%</th>\n",
       "      <td>2864.000000</td>\n",
       "      <td>4233.500000</td>\n",
       "    </tr>\n",
       "    <tr>\n",
       "      <th>50%</th>\n",
       "      <td>3008.000000</td>\n",
       "      <td>4235.000000</td>\n",
       "    </tr>\n",
       "    <tr>\n",
       "      <th>75%</th>\n",
       "      <td>3397.000000</td>\n",
       "      <td>4440.000000</td>\n",
       "    </tr>\n",
       "    <tr>\n",
       "      <th>max</th>\n",
       "      <td>5502.000000</td>\n",
       "      <td>4645.000000</td>\n",
       "    </tr>\n",
       "  </tbody>\n",
       "</table>\n",
       "</div>"
      ],
      "text/plain": [
       "                 0            1\n",
       "count   861.000000     3.000000\n",
       "mean   3304.284553  4370.666667\n",
       "std     688.358292   237.584371\n",
       "min    2723.000000  4232.000000\n",
       "25%    2864.000000  4233.500000\n",
       "50%    3008.000000  4235.000000\n",
       "75%    3397.000000  4440.000000\n",
       "max    5502.000000  4645.000000"
      ]
     },
     "execution_count": 25,
     "metadata": {},
     "output_type": "execute_result"
    }
   ],
   "source": [
    "# they all look in the same range\n",
    "proj_ids.describe()"
   ]
  },
  {
   "cell_type": "markdown",
   "id": "8f74d3ea-73af-478c-b5df-b89b105f471c",
   "metadata": {},
   "source": [
    "#### Date Modified\n",
    "range looks fine"
   ]
  },
  {
   "cell_type": "code",
   "execution_count": 26,
   "id": "e15f8f0e-9d02-4caa-8641-d3cd40efe1aa",
   "metadata": {},
   "outputs": [
    {
     "name": "stderr",
     "output_type": "stream",
     "text": [
      "/tmp/ipykernel_19/521204348.py:1: FutureWarning: Treating datetime data as categorical rather than numeric in `.describe` is deprecated and will be removed in a future version of pandas. Specify `datetime_is_numeric=True` to silence this warning and adopt the future behavior now.\n",
      "  pd.to_datetime(air['modified_on']).describe()\n"
     ]
    },
    {
     "data": {
      "text/plain": [
       "count                            879\n",
       "unique                           721\n",
       "top       2021-05-21 15:13:50.395199\n",
       "freq                             159\n",
       "first     2021-05-21 15:13:50.395199\n",
       "last      2022-09-14 14:34:27.299773\n",
       "Name: modified_on, dtype: object"
      ]
     },
     "execution_count": 26,
     "metadata": {},
     "output_type": "execute_result"
    }
   ],
   "source": [
    "pd.to_datetime(air['modified_on']).describe()"
   ]
  },
  {
   "cell_type": "markdown",
   "id": "99034a5d-072a-4cc3-a6b2-c93dd979ce41",
   "metadata": {},
   "source": [
    "### Uniqueness Validation\n",
    "Check the `id` field"
   ]
  },
  {
   "cell_type": "code",
   "execution_count": 27,
   "id": "164ac0af-1cb1-499d-ac71-55ba4ba8c101",
   "metadata": {},
   "outputs": [
    {
     "data": {
      "text/plain": [
       "0"
      ]
     },
     "execution_count": 27,
     "metadata": {},
     "output_type": "execute_result"
    }
   ],
   "source": [
    "air['id'].duplicated().sum()"
   ]
  },
  {
   "cell_type": "markdown",
   "id": "155fd657-398b-4e25-bed6-ec5d7108c79a",
   "metadata": {},
   "source": [
    "### Set Membership Validation\n",
    "* statute (1:m as arrays)\n",
    "* permit type (1:m as arrays)\n",
    "* permitting action (1:m as arrays)\n",
    "* permit status\n",
    "\n",
    "#### Statute"
   ]
  },
  {
   "cell_type": "code",
   "execution_count": 29,
   "id": "1b16aed4-281a-46d2-bfde-18f33b19564b",
   "metadata": {},
   "outputs": [
    {
     "data": {
      "text/plain": [
       "Index(['id', 'name', 'created_on', 'modified_on', 'Date Last Checked',\n",
       "       'Project (ID)', 'Project', 'Permit Status', 'Description or Purpose',\n",
       "       'Application Date', 'Draft Permit Issuance Date', 'Last Day to Comment',\n",
       "       'Final Permit Issuance Date', 'Deadline to Begin Construction',\n",
       "       'Detailed Permitting History', 'Document URL'],\n",
       "      dtype='object')"
      ]
     },
     "execution_count": 29,
     "metadata": {},
     "output_type": "execute_result"
    }
   ],
   "source": [
    "air.columns"
   ]
  },
  {
   "cell_type": "code",
   "execution_count": 28,
   "id": "a8c6c7af-8ca3-4e35-937c-e14dbd4a22da",
   "metadata": {
    "tags": []
   },
   "outputs": [
    {
     "ename": "KeyError",
     "evalue": "'Statute'",
     "output_type": "error",
     "traceback": [
      "\u001b[0;31m---------------------------------------------------------------------------\u001b[0m",
      "\u001b[0;31mKeyError\u001b[0m                                  Traceback (most recent call last)",
      "File \u001b[0;32m~/.local/lib/python3.9/site-packages/pandas/core/indexes/base.py:3361\u001b[0m, in \u001b[0;36mIndex.get_loc\u001b[0;34m(self, key, method, tolerance)\u001b[0m\n\u001b[1;32m   3360\u001b[0m \u001b[38;5;28;01mtry\u001b[39;00m:\n\u001b[0;32m-> 3361\u001b[0m     \u001b[38;5;28;01mreturn\u001b[39;00m \u001b[38;5;28;43mself\u001b[39;49m\u001b[38;5;241;43m.\u001b[39;49m\u001b[43m_engine\u001b[49m\u001b[38;5;241;43m.\u001b[39;49m\u001b[43mget_loc\u001b[49m\u001b[43m(\u001b[49m\u001b[43mcasted_key\u001b[49m\u001b[43m)\u001b[49m\n\u001b[1;32m   3362\u001b[0m \u001b[38;5;28;01mexcept\u001b[39;00m \u001b[38;5;167;01mKeyError\u001b[39;00m \u001b[38;5;28;01mas\u001b[39;00m err:\n",
      "File \u001b[0;32m~/.local/lib/python3.9/site-packages/pandas/_libs/index.pyx:76\u001b[0m, in \u001b[0;36mpandas._libs.index.IndexEngine.get_loc\u001b[0;34m()\u001b[0m\n",
      "File \u001b[0;32m~/.local/lib/python3.9/site-packages/pandas/_libs/index.pyx:108\u001b[0m, in \u001b[0;36mpandas._libs.index.IndexEngine.get_loc\u001b[0;34m()\u001b[0m\n",
      "File \u001b[0;32mpandas/_libs/hashtable_class_helper.pxi:5198\u001b[0m, in \u001b[0;36mpandas._libs.hashtable.PyObjectHashTable.get_item\u001b[0;34m()\u001b[0m\n",
      "File \u001b[0;32mpandas/_libs/hashtable_class_helper.pxi:5206\u001b[0m, in \u001b[0;36mpandas._libs.hashtable.PyObjectHashTable.get_item\u001b[0;34m()\u001b[0m\n",
      "\u001b[0;31mKeyError\u001b[0m: 'Statute'",
      "\nThe above exception was the direct cause of the following exception:\n",
      "\u001b[0;31mKeyError\u001b[0m                                  Traceback (most recent call last)",
      "Input \u001b[0;32mIn [28]\u001b[0m, in \u001b[0;36m<cell line: 1>\u001b[0;34m()\u001b[0m\n\u001b[0;32m----> 1\u001b[0m \u001b[43mair\u001b[49m\u001b[43m[\u001b[49m\u001b[38;5;124;43m'\u001b[39;49m\u001b[38;5;124;43mStatute\u001b[39;49m\u001b[38;5;124;43m'\u001b[39;49m\u001b[43m]\u001b[49m\u001b[38;5;241m.\u001b[39mvalue_counts()\n",
      "File \u001b[0;32m~/.local/lib/python3.9/site-packages/pandas/core/frame.py:3458\u001b[0m, in \u001b[0;36mDataFrame.__getitem__\u001b[0;34m(self, key)\u001b[0m\n\u001b[1;32m   3456\u001b[0m \u001b[38;5;28;01mif\u001b[39;00m \u001b[38;5;28mself\u001b[39m\u001b[38;5;241m.\u001b[39mcolumns\u001b[38;5;241m.\u001b[39mnlevels \u001b[38;5;241m>\u001b[39m \u001b[38;5;241m1\u001b[39m:\n\u001b[1;32m   3457\u001b[0m     \u001b[38;5;28;01mreturn\u001b[39;00m \u001b[38;5;28mself\u001b[39m\u001b[38;5;241m.\u001b[39m_getitem_multilevel(key)\n\u001b[0;32m-> 3458\u001b[0m indexer \u001b[38;5;241m=\u001b[39m \u001b[38;5;28;43mself\u001b[39;49m\u001b[38;5;241;43m.\u001b[39;49m\u001b[43mcolumns\u001b[49m\u001b[38;5;241;43m.\u001b[39;49m\u001b[43mget_loc\u001b[49m\u001b[43m(\u001b[49m\u001b[43mkey\u001b[49m\u001b[43m)\u001b[49m\n\u001b[1;32m   3459\u001b[0m \u001b[38;5;28;01mif\u001b[39;00m is_integer(indexer):\n\u001b[1;32m   3460\u001b[0m     indexer \u001b[38;5;241m=\u001b[39m [indexer]\n",
      "File \u001b[0;32m~/.local/lib/python3.9/site-packages/pandas/core/indexes/base.py:3363\u001b[0m, in \u001b[0;36mIndex.get_loc\u001b[0;34m(self, key, method, tolerance)\u001b[0m\n\u001b[1;32m   3361\u001b[0m         \u001b[38;5;28;01mreturn\u001b[39;00m \u001b[38;5;28mself\u001b[39m\u001b[38;5;241m.\u001b[39m_engine\u001b[38;5;241m.\u001b[39mget_loc(casted_key)\n\u001b[1;32m   3362\u001b[0m     \u001b[38;5;28;01mexcept\u001b[39;00m \u001b[38;5;167;01mKeyError\u001b[39;00m \u001b[38;5;28;01mas\u001b[39;00m err:\n\u001b[0;32m-> 3363\u001b[0m         \u001b[38;5;28;01mraise\u001b[39;00m \u001b[38;5;167;01mKeyError\u001b[39;00m(key) \u001b[38;5;28;01mfrom\u001b[39;00m \u001b[38;5;21;01merr\u001b[39;00m\n\u001b[1;32m   3365\u001b[0m \u001b[38;5;28;01mif\u001b[39;00m is_scalar(key) \u001b[38;5;129;01mand\u001b[39;00m isna(key) \u001b[38;5;129;01mand\u001b[39;00m \u001b[38;5;129;01mnot\u001b[39;00m \u001b[38;5;28mself\u001b[39m\u001b[38;5;241m.\u001b[39mhasnans:\n\u001b[1;32m   3366\u001b[0m     \u001b[38;5;28;01mraise\u001b[39;00m \u001b[38;5;167;01mKeyError\u001b[39;00m(key)\n",
      "\u001b[0;31mKeyError\u001b[0m: 'Statute'"
     ]
    }
   ],
   "source": [
    "air['Statute'].value_counts()"
   ]
  },
  {
   "cell_type": "code",
   "execution_count": null,
   "id": "38d42561-bf39-43eb-9d7a-c9c3ef01b188",
   "metadata": {},
   "outputs": [],
   "source": [
    "# split and combine value counts\n",
    "air['Statute'].str.split(',', expand=True).stack().str.strip().value_counts()"
   ]
  },
  {
   "cell_type": "markdown",
   "id": "db9e8f95-0ba4-4573-909b-574e5e84588c",
   "metadata": {},
   "source": [
    "#### Permit Type"
   ]
  },
  {
   "cell_type": "code",
   "execution_count": 30,
   "id": "8573059c-965d-4c8b-972f-a33e0982a7a7",
   "metadata": {},
   "outputs": [
    {
     "ename": "KeyError",
     "evalue": "'Permit Type'",
     "output_type": "error",
     "traceback": [
      "\u001b[0;31m---------------------------------------------------------------------------\u001b[0m",
      "\u001b[0;31mKeyError\u001b[0m                                  Traceback (most recent call last)",
      "File \u001b[0;32m~/.local/lib/python3.9/site-packages/pandas/core/indexes/base.py:3361\u001b[0m, in \u001b[0;36mIndex.get_loc\u001b[0;34m(self, key, method, tolerance)\u001b[0m\n\u001b[1;32m   3360\u001b[0m \u001b[38;5;28;01mtry\u001b[39;00m:\n\u001b[0;32m-> 3361\u001b[0m     \u001b[38;5;28;01mreturn\u001b[39;00m \u001b[38;5;28;43mself\u001b[39;49m\u001b[38;5;241;43m.\u001b[39;49m\u001b[43m_engine\u001b[49m\u001b[38;5;241;43m.\u001b[39;49m\u001b[43mget_loc\u001b[49m\u001b[43m(\u001b[49m\u001b[43mcasted_key\u001b[49m\u001b[43m)\u001b[49m\n\u001b[1;32m   3362\u001b[0m \u001b[38;5;28;01mexcept\u001b[39;00m \u001b[38;5;167;01mKeyError\u001b[39;00m \u001b[38;5;28;01mas\u001b[39;00m err:\n",
      "File \u001b[0;32m~/.local/lib/python3.9/site-packages/pandas/_libs/index.pyx:76\u001b[0m, in \u001b[0;36mpandas._libs.index.IndexEngine.get_loc\u001b[0;34m()\u001b[0m\n",
      "File \u001b[0;32m~/.local/lib/python3.9/site-packages/pandas/_libs/index.pyx:108\u001b[0m, in \u001b[0;36mpandas._libs.index.IndexEngine.get_loc\u001b[0;34m()\u001b[0m\n",
      "File \u001b[0;32mpandas/_libs/hashtable_class_helper.pxi:5198\u001b[0m, in \u001b[0;36mpandas._libs.hashtable.PyObjectHashTable.get_item\u001b[0;34m()\u001b[0m\n",
      "File \u001b[0;32mpandas/_libs/hashtable_class_helper.pxi:5206\u001b[0m, in \u001b[0;36mpandas._libs.hashtable.PyObjectHashTable.get_item\u001b[0;34m()\u001b[0m\n",
      "\u001b[0;31mKeyError\u001b[0m: 'Permit Type'",
      "\nThe above exception was the direct cause of the following exception:\n",
      "\u001b[0;31mKeyError\u001b[0m                                  Traceback (most recent call last)",
      "Input \u001b[0;32mIn [30]\u001b[0m, in \u001b[0;36m<cell line: 1>\u001b[0;34m()\u001b[0m\n\u001b[0;32m----> 1\u001b[0m \u001b[43mair\u001b[49m\u001b[43m[\u001b[49m\u001b[38;5;124;43m'\u001b[39;49m\u001b[38;5;124;43mPermit Type\u001b[39;49m\u001b[38;5;124;43m'\u001b[39;49m\u001b[43m]\u001b[49m\u001b[38;5;241m.\u001b[39mvalue_counts()\n",
      "File \u001b[0;32m~/.local/lib/python3.9/site-packages/pandas/core/frame.py:3458\u001b[0m, in \u001b[0;36mDataFrame.__getitem__\u001b[0;34m(self, key)\u001b[0m\n\u001b[1;32m   3456\u001b[0m \u001b[38;5;28;01mif\u001b[39;00m \u001b[38;5;28mself\u001b[39m\u001b[38;5;241m.\u001b[39mcolumns\u001b[38;5;241m.\u001b[39mnlevels \u001b[38;5;241m>\u001b[39m \u001b[38;5;241m1\u001b[39m:\n\u001b[1;32m   3457\u001b[0m     \u001b[38;5;28;01mreturn\u001b[39;00m \u001b[38;5;28mself\u001b[39m\u001b[38;5;241m.\u001b[39m_getitem_multilevel(key)\n\u001b[0;32m-> 3458\u001b[0m indexer \u001b[38;5;241m=\u001b[39m \u001b[38;5;28;43mself\u001b[39;49m\u001b[38;5;241;43m.\u001b[39;49m\u001b[43mcolumns\u001b[49m\u001b[38;5;241;43m.\u001b[39;49m\u001b[43mget_loc\u001b[49m\u001b[43m(\u001b[49m\u001b[43mkey\u001b[49m\u001b[43m)\u001b[49m\n\u001b[1;32m   3459\u001b[0m \u001b[38;5;28;01mif\u001b[39;00m is_integer(indexer):\n\u001b[1;32m   3460\u001b[0m     indexer \u001b[38;5;241m=\u001b[39m [indexer]\n",
      "File \u001b[0;32m~/.local/lib/python3.9/site-packages/pandas/core/indexes/base.py:3363\u001b[0m, in \u001b[0;36mIndex.get_loc\u001b[0;34m(self, key, method, tolerance)\u001b[0m\n\u001b[1;32m   3361\u001b[0m         \u001b[38;5;28;01mreturn\u001b[39;00m \u001b[38;5;28mself\u001b[39m\u001b[38;5;241m.\u001b[39m_engine\u001b[38;5;241m.\u001b[39mget_loc(casted_key)\n\u001b[1;32m   3362\u001b[0m     \u001b[38;5;28;01mexcept\u001b[39;00m \u001b[38;5;167;01mKeyError\u001b[39;00m \u001b[38;5;28;01mas\u001b[39;00m err:\n\u001b[0;32m-> 3363\u001b[0m         \u001b[38;5;28;01mraise\u001b[39;00m \u001b[38;5;167;01mKeyError\u001b[39;00m(key) \u001b[38;5;28;01mfrom\u001b[39;00m \u001b[38;5;21;01merr\u001b[39;00m\n\u001b[1;32m   3365\u001b[0m \u001b[38;5;28;01mif\u001b[39;00m is_scalar(key) \u001b[38;5;129;01mand\u001b[39;00m isna(key) \u001b[38;5;129;01mand\u001b[39;00m \u001b[38;5;129;01mnot\u001b[39;00m \u001b[38;5;28mself\u001b[39m\u001b[38;5;241m.\u001b[39mhasnans:\n\u001b[1;32m   3366\u001b[0m     \u001b[38;5;28;01mraise\u001b[39;00m \u001b[38;5;167;01mKeyError\u001b[39;00m(key)\n",
      "\u001b[0;31mKeyError\u001b[0m: 'Permit Type'"
     ]
    }
   ],
   "source": [
    "air['Permit Type'].value_counts()"
   ]
  },
  {
   "cell_type": "code",
   "execution_count": null,
   "id": "434e3032-1708-4c30-986c-7145ab27560e",
   "metadata": {
    "jupyter": {
     "source_hidden": true
    },
    "tags": []
   },
   "outputs": [],
   "source": [
    "# split and combine value counts\n",
    "air['Permit Type'].str.split(',', expand=True).stack().str.strip().value_counts()"
   ]
  },
  {
   "cell_type": "markdown",
   "id": "257ef1e9-31ea-4e7c-abf2-259cf83b51fc",
   "metadata": {},
   "source": [
    "#### Permitting Action\n",
    "A bunch of 1:m categories, but very few actual values"
   ]
  },
  {
   "cell_type": "code",
   "execution_count": 31,
   "id": "80324b70-286d-48c7-b2f8-979d86d692e5",
   "metadata": {},
   "outputs": [
    {
     "ename": "KeyError",
     "evalue": "'Permitting Action'",
     "output_type": "error",
     "traceback": [
      "\u001b[0;31m---------------------------------------------------------------------------\u001b[0m",
      "\u001b[0;31mKeyError\u001b[0m                                  Traceback (most recent call last)",
      "File \u001b[0;32m~/.local/lib/python3.9/site-packages/pandas/core/indexes/base.py:3361\u001b[0m, in \u001b[0;36mIndex.get_loc\u001b[0;34m(self, key, method, tolerance)\u001b[0m\n\u001b[1;32m   3360\u001b[0m \u001b[38;5;28;01mtry\u001b[39;00m:\n\u001b[0;32m-> 3361\u001b[0m     \u001b[38;5;28;01mreturn\u001b[39;00m \u001b[38;5;28;43mself\u001b[39;49m\u001b[38;5;241;43m.\u001b[39;49m\u001b[43m_engine\u001b[49m\u001b[38;5;241;43m.\u001b[39;49m\u001b[43mget_loc\u001b[49m\u001b[43m(\u001b[49m\u001b[43mcasted_key\u001b[49m\u001b[43m)\u001b[49m\n\u001b[1;32m   3362\u001b[0m \u001b[38;5;28;01mexcept\u001b[39;00m \u001b[38;5;167;01mKeyError\u001b[39;00m \u001b[38;5;28;01mas\u001b[39;00m err:\n",
      "File \u001b[0;32m~/.local/lib/python3.9/site-packages/pandas/_libs/index.pyx:76\u001b[0m, in \u001b[0;36mpandas._libs.index.IndexEngine.get_loc\u001b[0;34m()\u001b[0m\n",
      "File \u001b[0;32m~/.local/lib/python3.9/site-packages/pandas/_libs/index.pyx:108\u001b[0m, in \u001b[0;36mpandas._libs.index.IndexEngine.get_loc\u001b[0;34m()\u001b[0m\n",
      "File \u001b[0;32mpandas/_libs/hashtable_class_helper.pxi:5198\u001b[0m, in \u001b[0;36mpandas._libs.hashtable.PyObjectHashTable.get_item\u001b[0;34m()\u001b[0m\n",
      "File \u001b[0;32mpandas/_libs/hashtable_class_helper.pxi:5206\u001b[0m, in \u001b[0;36mpandas._libs.hashtable.PyObjectHashTable.get_item\u001b[0;34m()\u001b[0m\n",
      "\u001b[0;31mKeyError\u001b[0m: 'Permitting Action'",
      "\nThe above exception was the direct cause of the following exception:\n",
      "\u001b[0;31mKeyError\u001b[0m                                  Traceback (most recent call last)",
      "Input \u001b[0;32mIn [31]\u001b[0m, in \u001b[0;36m<cell line: 1>\u001b[0;34m()\u001b[0m\n\u001b[0;32m----> 1\u001b[0m \u001b[43mair\u001b[49m\u001b[43m[\u001b[49m\u001b[38;5;124;43m'\u001b[39;49m\u001b[38;5;124;43mPermitting Action\u001b[39;49m\u001b[38;5;124;43m'\u001b[39;49m\u001b[43m]\u001b[49m\u001b[38;5;241m.\u001b[39mvalue_counts()\n",
      "File \u001b[0;32m~/.local/lib/python3.9/site-packages/pandas/core/frame.py:3458\u001b[0m, in \u001b[0;36mDataFrame.__getitem__\u001b[0;34m(self, key)\u001b[0m\n\u001b[1;32m   3456\u001b[0m \u001b[38;5;28;01mif\u001b[39;00m \u001b[38;5;28mself\u001b[39m\u001b[38;5;241m.\u001b[39mcolumns\u001b[38;5;241m.\u001b[39mnlevels \u001b[38;5;241m>\u001b[39m \u001b[38;5;241m1\u001b[39m:\n\u001b[1;32m   3457\u001b[0m     \u001b[38;5;28;01mreturn\u001b[39;00m \u001b[38;5;28mself\u001b[39m\u001b[38;5;241m.\u001b[39m_getitem_multilevel(key)\n\u001b[0;32m-> 3458\u001b[0m indexer \u001b[38;5;241m=\u001b[39m \u001b[38;5;28;43mself\u001b[39;49m\u001b[38;5;241;43m.\u001b[39;49m\u001b[43mcolumns\u001b[49m\u001b[38;5;241;43m.\u001b[39;49m\u001b[43mget_loc\u001b[49m\u001b[43m(\u001b[49m\u001b[43mkey\u001b[49m\u001b[43m)\u001b[49m\n\u001b[1;32m   3459\u001b[0m \u001b[38;5;28;01mif\u001b[39;00m is_integer(indexer):\n\u001b[1;32m   3460\u001b[0m     indexer \u001b[38;5;241m=\u001b[39m [indexer]\n",
      "File \u001b[0;32m~/.local/lib/python3.9/site-packages/pandas/core/indexes/base.py:3363\u001b[0m, in \u001b[0;36mIndex.get_loc\u001b[0;34m(self, key, method, tolerance)\u001b[0m\n\u001b[1;32m   3361\u001b[0m         \u001b[38;5;28;01mreturn\u001b[39;00m \u001b[38;5;28mself\u001b[39m\u001b[38;5;241m.\u001b[39m_engine\u001b[38;5;241m.\u001b[39mget_loc(casted_key)\n\u001b[1;32m   3362\u001b[0m     \u001b[38;5;28;01mexcept\u001b[39;00m \u001b[38;5;167;01mKeyError\u001b[39;00m \u001b[38;5;28;01mas\u001b[39;00m err:\n\u001b[0;32m-> 3363\u001b[0m         \u001b[38;5;28;01mraise\u001b[39;00m \u001b[38;5;167;01mKeyError\u001b[39;00m(key) \u001b[38;5;28;01mfrom\u001b[39;00m \u001b[38;5;21;01merr\u001b[39;00m\n\u001b[1;32m   3365\u001b[0m \u001b[38;5;28;01mif\u001b[39;00m is_scalar(key) \u001b[38;5;129;01mand\u001b[39;00m isna(key) \u001b[38;5;129;01mand\u001b[39;00m \u001b[38;5;129;01mnot\u001b[39;00m \u001b[38;5;28mself\u001b[39m\u001b[38;5;241m.\u001b[39mhasnans:\n\u001b[1;32m   3366\u001b[0m     \u001b[38;5;28;01mraise\u001b[39;00m \u001b[38;5;167;01mKeyError\u001b[39;00m(key)\n",
      "\u001b[0;31mKeyError\u001b[0m: 'Permitting Action'"
     ]
    }
   ],
   "source": [
    "air['Permitting Action'].value_counts()"
   ]
  },
  {
   "cell_type": "code",
   "execution_count": null,
   "id": "fdec6277-3143-4539-bdf5-2f737dbda60d",
   "metadata": {},
   "outputs": [],
   "source": [
    "# split and combine value counts\n",
    "air['Permitting Action'].str.split(',', expand=True).stack().str.strip().value_counts()"
   ]
  },
  {
   "cell_type": "markdown",
   "id": "d5bbb4bd-42d3-410a-8591-3d2631e583dc",
   "metadata": {},
   "source": [
    "#### Permit Status\n",
    "Will combine at least the two `withdrawn` categories, maybe even all of `expired`, `withdrawn`, `void`, `denied` into a single \"Nope\" category."
   ]
  },
  {
   "cell_type": "code",
   "execution_count": 32,
   "id": "45fb31c0-684c-4574-89fa-7effc3e8e18e",
   "metadata": {},
   "outputs": [
    {
     "data": {
      "text/plain": [
       "Final Issued                                      754\n",
       "Application Pending                                43\n",
       "Draft Issued                                       27\n",
       "Expired                                            20\n",
       "Withdrawn (UARG v. EPA 134 S. Ct. 2427 (2014))     12\n",
       "Withdrawn                                           9\n",
       "Void                                                6\n",
       "Denied                                              2\n",
       "Name: Permit Status, dtype: int64"
      ]
     },
     "execution_count": 32,
     "metadata": {},
     "output_type": "execute_result"
    }
   ],
   "source": [
    "air['Permit Status'].value_counts()"
   ]
  },
  {
   "cell_type": "markdown",
   "id": "5d8ec8bf-d7e1-4177-bc2d-7545275818f6",
   "metadata": {
    "tags": []
   },
   "source": [
    "### Type Validation\n",
    "Only the project ID and date modified fields will change type after transformation"
   ]
  },
  {
   "cell_type": "markdown",
   "id": "4c493fbe-f311-44a9-a218-361d4a9dbea8",
   "metadata": {
    "tags": []
   },
   "source": [
    "### Cross-Field Validation\n",
    "None really needed. I could check that the date columns are in a logical order (application < draft issued < last comment date < final issued < construction deadline) but I'm not planning to really use those columns. So I skipped it."
   ]
  }
 ],
 "metadata": {
  "kernelspec": {
   "display_name": "Python 3 (ipykernel)",
   "language": "python",
   "name": "python3"
  },
  "language_info": {
   "codemirror_mode": {
    "name": "ipython",
    "version": 3
   },
   "file_extension": ".py",
   "mimetype": "text/x-python",
   "name": "python",
   "nbconvert_exporter": "python",
   "pygments_lexer": "ipython3",
   "version": "3.9.13"
  }
 },
 "nbformat": 4,
 "nbformat_minor": 5
}
