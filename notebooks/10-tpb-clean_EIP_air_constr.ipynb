{
 "cells": [
  {
   "cell_type": "code",
   "execution_count": null,
   "id": "e2c4ba01-efa8-41f4-93ab-85d9452d6fe2",
   "metadata": {},
   "outputs": [],
   "source": [
    "%load_ext autoreload"
   ]
  },
  {
   "cell_type": "code",
   "execution_count": null,
   "id": "c5fc3217-d4ed-4e3e-8a98-6fdc06769175",
   "metadata": {},
   "outputs": [],
   "source": [
    "%autoreload 2"
   ]
  },
  {
   "cell_type": "code",
   "execution_count": null,
   "id": "baeedb9e-01aa-4702-9a82-174d677751b9",
   "metadata": {},
   "outputs": [],
   "source": [
    "import pandas as pd\n",
    "import numpy as np\n",
    "from pathlib import Path"
   ]
  },
  {
   "cell_type": "code",
   "execution_count": null,
   "id": "c6d862f9-e588-451c-a679-1176589b0705",
   "metadata": {},
   "outputs": [],
   "source": [
    "path = Path('/app/data/raw/2022.03.22OGW.xlsx')\n",
    "assert path.exists()"
   ]
  },
  {
   "cell_type": "code",
   "execution_count": null,
   "id": "89f17641-8b0d-45dd-970c-a3faa79e17b0",
   "metadata": {},
   "outputs": [],
   "source": [
    "# eip = dbcp.extract.eip_infrastructure.extract(path)\n",
    "# hardcode the extract function so this notebook can be easily rerun in the future without maintenance\n",
    "air = pd.read_excel(path, sheet_name='Air Construction')"
   ]
  },
  {
   "cell_type": "code",
   "execution_count": null,
   "id": "956821db-2798-467e-ba75-78534afcd85a",
   "metadata": {},
   "outputs": [],
   "source": [
    "pd.options.display.max_columns = 100\n",
    "pd.options.display.max_rows = 100"
   ]
  },
  {
   "cell_type": "code",
   "execution_count": null,
   "id": "f20883b9-8047-4f50-935b-14afb51d6bc3",
   "metadata": {},
   "outputs": [],
   "source": [
    "air.shape"
   ]
  },
  {
   "cell_type": "markdown",
   "id": "ca8a087d-f556-4cb2-b9a7-540ab84a27a6",
   "metadata": {},
   "source": [
    "# Cleaning\n",
    "## Projects Cleaning\n",
    "Columns I care about:\n",
    "* id\n",
    "* name\n",
    "* modified on\n",
    "* project ID (1:m as arrays)\n",
    "* statute (1:m as arrays)\n",
    "* permit type (1:m as arrays)\n",
    "* permitting action (1:m as arrays)\n",
    "* permit status\n",
    "* description\n",
    "* research notes\n",
    "\n",
    "Cleaning Checklist:\n",
    "- [x] Accuracy\n",
    "- [x] Atomicity\n",
    "- [ ] Consistency\n",
    "- [x] Completeness\n",
    "- [x] Uniformity\n",
    "- [x] Validity\n",
    "    - [x] Range Validation\n",
    "    - [x] Uniqueness Validation\n",
    "    - [x] Set Membership Validation\n",
    "    - [x] Type Validation\n",
    "    - [x] Cross-Field Validation"
   ]
  },
  {
   "cell_type": "markdown",
   "id": "ff749ff2-dea9-4d5b-ac51-950666adc19a",
   "metadata": {},
   "source": [
    "### Accuracy\n",
    "The most important item to spot check here is the permit status. \"Final\" permit statuses are of little interest and also presumably don't change over time, so I'll only check 1 of those.\n",
    "\n",
    "Results: 4/4 match dates and status 👍🏼"
   ]
  },
  {
   "cell_type": "code",
   "execution_count": null,
   "id": "90eeaf6e-e70e-4b7f-bbc3-7f9913d28884",
   "metadata": {},
   "outputs": [],
   "source": [
    "filter_ = air['Permit Status'].isin({\"Application Pending\", \"Draft Issued\"})\n",
    "air.loc[filter_,:].sample(3, random_state=42)"
   ]
  },
  {
   "cell_type": "markdown",
   "id": "41e44fd6-625b-4f2f-b565-7146d2d697cf",
   "metadata": {},
   "source": [
    "Alaska LNG Liquifaction Plant: confirmed on [AK DEC website](https://dec.alaska.gov/Applications/Air/airtoolsweb/AirPermitsApprovalsAndPublicNotices). Dates match, status is a little more ambiguous but I think \"draft\" is right.\n",
    "\n",
    "Gulf LNG: confirmed on [MS state website](https://opcgis.deq.state.ms.us/enonline/ai_info.aspx?ai=23844). Application date and status match.\n",
    "\n",
    "Delfin LNG: confirmed on [LA DEQ website](https://deq.louisiana.gov/public-notices?keyword=delfin&startDate=&endDate=). Dates and status match."
   ]
  },
  {
   "cell_type": "code",
   "execution_count": null,
   "id": "87037267-65b8-480a-a55f-bc69ea60b723",
   "metadata": {},
   "outputs": [],
   "source": [
    "filter_ = air['Permit Status'].eq(\"Final Issued\")\n",
    "air.loc[filter_,:].sample(1, random_state=42)"
   ]
  },
  {
   "cell_type": "markdown",
   "id": "851dd81d-a162-4d57-84b3-cc8db8b661a3",
   "metadata": {},
   "source": [
    "Heim Gas Plant Expansion: confirmed at [TX CEQ website](https://www15.tceq.texas.gov/crpub/index.cfm?fuseaction=iwr.pgmdetail&addn_id=120534092019308&re_id=578462662019220&program_code=AIRNSR&lgcy_sys_cd=NSR&program=AIR%20NEW%20SOURCE%20PERMITS&IdType=REG). Dates and status match."
   ]
  },
  {
   "cell_type": "markdown",
   "id": "c26eb9fa-d49d-45d1-8bd0-55cfdd2bf79f",
   "metadata": {},
   "source": [
    "### Atomicity\n",
    "Most of the columns are 1:m values encoded as csv array strings, but most values are singletons. See Range Validation and Set Membership Validation for decisions on modeling as 1:1 vs 1:m."
   ]
  },
  {
   "cell_type": "markdown",
   "id": "d2cad23f-ae34-4def-8d92-f0170795324a",
   "metadata": {},
   "source": [
    "### Completeness\n",
    "For this purpose, I'll limit the scope of 'completeness' to only look at missing values within the data. For better or worse, it is EIP's job to ensure projects are in the dataset at all.\n",
    "\n",
    "We are not interested in already-issued permits, so I'll remove those and assess completeness based on the remaining subset.\n",
    "\n",
    "Notable missing values and lack of missing values:\n",
    "* The only 3 records missing project ID + permit info are entirely NaN rows"
   ]
  },
  {
   "cell_type": "code",
   "execution_count": null,
   "id": "657869cb-3d9a-4aa8-b59b-effd1937e880",
   "metadata": {},
   "outputs": [],
   "source": [
    "def calc(num, denom=105):\n",
    "    percent = 1- num/denom\n",
    "    n = denom - num\n",
    "    return f\"{n}/{denom} ({percent*100:.1f}%)\""
   ]
  },
  {
   "cell_type": "code",
   "execution_count": null,
   "id": "d800298e-66fc-4945-9391-c2cb64525ddc",
   "metadata": {},
   "outputs": [],
   "source": [
    "calc(102)"
   ]
  },
  {
   "cell_type": "code",
   "execution_count": null,
   "id": "785834ff-c1b8-4a8b-a1ab-5ab1caaae064",
   "metadata": {},
   "outputs": [],
   "source": [
    "len(air)"
   ]
  },
  {
   "cell_type": "code",
   "execution_count": null,
   "id": "f7f3e23e-18a4-4926-b9d3-97f1cedbefe2",
   "metadata": {},
   "outputs": [],
   "source": [
    "air['Permit Status'].value_counts()"
   ]
  },
  {
   "cell_type": "code",
   "execution_count": null,
   "id": "8e61e153-c971-4697-8519-111774343618",
   "metadata": {},
   "outputs": [],
   "source": [
    "air.loc[air['Permit Status'].ne('Final Issued'),:].count().T"
   ]
  },
  {
   "cell_type": "code",
   "execution_count": null,
   "id": "93b4b985-e6a6-40b3-a057-12fd43dc2b81",
   "metadata": {},
   "outputs": [],
   "source": [
    "air.loc[air['Permit Status'].isna(),:]"
   ]
  },
  {
   "cell_type": "markdown",
   "id": "ba7ce60a-5785-48bb-8e45-faedcb66ae50",
   "metadata": {},
   "source": [
    "### Consistency - defer\n",
    "Defer until I've cleaned the related datasets\n",
    "### Uniformity\n",
    "Important columns to check consistent representation:\n",
    "* all array fields -- check consistent delimiters\n",
    "    * project ID (1:m as arrays)\n",
    "    * statute (1:m as arrays)\n",
    "    * permit type (1:m as arrays)\n",
    "    * permitting action (1:m as arrays)\n",
    "* modified on -- check consistent date format"
   ]
  },
  {
   "cell_type": "markdown",
   "id": "81618c73-29a6-4c6e-918e-35e315adc7c6",
   "metadata": {},
   "source": [
    "#### Array Fields\n",
    "Want to check for consistent array delimiters."
   ]
  },
  {
   "cell_type": "code",
   "execution_count": null,
   "id": "4192a0cf-af5e-4ecc-9b99-a02372ac86cf",
   "metadata": {},
   "outputs": [],
   "source": [
    "# exclude ID cols with numeric types (no arrays present)\n",
    "id_cols = [\n",
    "    'Project (ID)',    \n",
    "]"
   ]
  },
  {
   "cell_type": "code",
   "execution_count": null,
   "id": "61e14d01-63c2-48fb-bc94-24681e31aa8b",
   "metadata": {},
   "outputs": [],
   "source": [
    "# mandatory opening pattern, optional delimiter, optional repeating pattern, optional closing pattern, mandatory end of line\n",
    "array_pattern = r'(?:\\d{3,5})(?:, ?)?(?:\\d{3,5}, ?)*(?:\\d{3,5})?$'"
   ]
  },
  {
   "cell_type": "code",
   "execution_count": null,
   "id": "4581b919-0f49-4e2d-bb26-7ef34de04e0c",
   "metadata": {},
   "outputs": [],
   "source": [
    "test_case = pd.Series([\n",
    "    '1234',\n",
    "    '1234,567',\n",
    "    '1234, 567',\n",
    "    '12345, 678, 9012',\n",
    "    '1234\\t5678', # tab is bad, no comma\n",
    "    '12, 3456', # too short\n",
    "    '1234    5678', # too many spaces, no comma\n",
    "])\n",
    "pd.concat([test_case, test_case.str.match(array_pattern)], axis=1)"
   ]
  },
  {
   "cell_type": "code",
   "execution_count": null,
   "id": "3557314c-34c4-4597-b390-5bd98b55c8f7",
   "metadata": {},
   "outputs": [],
   "source": [
    "# all pass the formatting test\n",
    "for col in id_cols:\n",
    "    assert air[col].str.match(array_pattern).all()"
   ]
  },
  {
   "cell_type": "code",
   "execution_count": null,
   "id": "57066b86-4577-4c6f-9355-34d1e12c8c83",
   "metadata": {},
   "outputs": [],
   "source": [
    "array_cols = [\n",
    "    'Permitting Action', \n",
    "    'Permit Type',\n",
    "    'Statute',\n",
    "]"
   ]
  },
  {
   "cell_type": "code",
   "execution_count": null,
   "id": "e8902f98-a856-41ff-80e9-ee48a60f6358",
   "metadata": {},
   "outputs": [],
   "source": [
    "special_chars = air.loc[:, array_cols].copy()\n",
    "for col in array_cols:\n",
    "    special_chars.loc[:, col] = special_chars.loc[:, col].str.replace('\\w|\\s|,', '', regex=True)"
   ]
  },
  {
   "cell_type": "code",
   "execution_count": null,
   "id": "a068c30c-b3a6-4f2f-873f-479f394942f6",
   "metadata": {},
   "outputs": [],
   "source": [
    "# no other delimiters present\n",
    "special_chars.loc[special_chars.fillna('').ne('').any(axis=1),:]"
   ]
  },
  {
   "cell_type": "markdown",
   "id": "bf55c928-4a98-4d3c-8589-326fa56dfcd0",
   "metadata": {},
   "source": [
    "#### Date Modified"
   ]
  },
  {
   "cell_type": "code",
   "execution_count": null,
   "id": "b15fc622-b691-4362-a0b0-0425c66e73c7",
   "metadata": {},
   "outputs": [],
   "source": [
    "# to_datetime works on all values present\n",
    "timestamps = pd.to_datetime(air['modified_on'], errors='raise')\n",
    "timestamps.dtypes, timestamps.isna().sum()"
   ]
  },
  {
   "cell_type": "markdown",
   "id": "ab2e7376-ddba-425b-be75-12a2ec54d668",
   "metadata": {},
   "source": [
    "### Range Validation\n",
    "Check project ID and date modified"
   ]
  },
  {
   "cell_type": "markdown",
   "id": "89dc9a3d-8791-4794-8f66-724ea3728d08",
   "metadata": {},
   "source": [
    "#### Project ID"
   ]
  },
  {
   "cell_type": "code",
   "execution_count": null,
   "id": "f09ee92b-c24d-47bd-80be-b105fefdad96",
   "metadata": {},
   "outputs": [],
   "source": [
    "proj_ids = air['Project (ID)'].str.split(',', expand=True)\n",
    "for col in fac_ids.columns:\n",
    "    proj_ids.loc[:, col] = pd.to_numeric(proj_ids.loc[:, col], errors='raise')\n",
    "\n",
    "proj_ids.head()"
   ]
  },
  {
   "cell_type": "code",
   "execution_count": null,
   "id": "3e7db424-53e9-43c3-aa0a-c6da2fb81023",
   "metadata": {},
   "outputs": [],
   "source": [
    "# they all look in the same range\n",
    "proj_ids.describe()"
   ]
  },
  {
   "cell_type": "markdown",
   "id": "8f74d3ea-73af-478c-b5df-b89b105f471c",
   "metadata": {},
   "source": [
    "#### Date Modified\n",
    "range looks fine"
   ]
  },
  {
   "cell_type": "code",
   "execution_count": null,
   "id": "e15f8f0e-9d02-4caa-8641-d3cd40efe1aa",
   "metadata": {},
   "outputs": [],
   "source": [
    "pd.to_datetime(air['modified_on']).describe()"
   ]
  },
  {
   "cell_type": "markdown",
   "id": "99034a5d-072a-4cc3-a6b2-c93dd979ce41",
   "metadata": {},
   "source": [
    "### Uniqueness Validation\n",
    "Check the `id` field"
   ]
  },
  {
   "cell_type": "code",
   "execution_count": null,
   "id": "164ac0af-1cb1-499d-ac71-55ba4ba8c101",
   "metadata": {},
   "outputs": [],
   "source": [
    "air['id'].duplicated().sum()"
   ]
  },
  {
   "cell_type": "markdown",
   "id": "155fd657-398b-4e25-bed6-ec5d7108c79a",
   "metadata": {},
   "source": [
    "### Set Membership Validation\n",
    "* statute (1:m as arrays)\n",
    "* permit type (1:m as arrays)\n",
    "* permitting action (1:m as arrays)\n",
    "* permit status\n",
    "\n",
    "#### Statute"
   ]
  },
  {
   "cell_type": "code",
   "execution_count": null,
   "id": "a8c6c7af-8ca3-4e35-937c-e14dbd4a22da",
   "metadata": {},
   "outputs": [],
   "source": [
    "air['Statute'].value_counts()"
   ]
  },
  {
   "cell_type": "code",
   "execution_count": null,
   "id": "38d42561-bf39-43eb-9d7a-c9c3ef01b188",
   "metadata": {},
   "outputs": [],
   "source": [
    "# split and combine value counts\n",
    "air['Statute'].str.split(',', expand=True).stack().str.strip().value_counts()"
   ]
  },
  {
   "cell_type": "markdown",
   "id": "db9e8f95-0ba4-4573-909b-574e5e84588c",
   "metadata": {},
   "source": [
    "#### Permit Type"
   ]
  },
  {
   "cell_type": "code",
   "execution_count": null,
   "id": "8573059c-965d-4c8b-972f-a33e0982a7a7",
   "metadata": {},
   "outputs": [],
   "source": [
    "air['Permit Type'].value_counts()"
   ]
  },
  {
   "cell_type": "code",
   "execution_count": null,
   "id": "434e3032-1708-4c30-986c-7145ab27560e",
   "metadata": {},
   "outputs": [],
   "source": [
    "# split and combine value counts\n",
    "air['Permit Type'].str.split(',', expand=True).stack().str.strip().value_counts()"
   ]
  },
  {
   "cell_type": "markdown",
   "id": "257ef1e9-31ea-4e7c-abf2-259cf83b51fc",
   "metadata": {},
   "source": [
    "#### Permitting Action\n",
    "A bunch of 1:m categories, but very few actual values"
   ]
  },
  {
   "cell_type": "code",
   "execution_count": null,
   "id": "80324b70-286d-48c7-b2f8-979d86d692e5",
   "metadata": {},
   "outputs": [],
   "source": [
    "air['Permitting Action'].value_counts()"
   ]
  },
  {
   "cell_type": "code",
   "execution_count": null,
   "id": "fdec6277-3143-4539-bdf5-2f737dbda60d",
   "metadata": {},
   "outputs": [],
   "source": [
    "# split and combine value counts\n",
    "air['Permitting Action'].str.split(',', expand=True).stack().str.strip().value_counts()"
   ]
  },
  {
   "cell_type": "markdown",
   "id": "d5bbb4bd-42d3-410a-8591-3d2631e583dc",
   "metadata": {},
   "source": [
    "#### Permit Status\n",
    "Will combine at least the two `withdrawn` categories, maybe even all of `expired`, `withdrawn`, `void`, `denied` into a single \"Nope\" category."
   ]
  },
  {
   "cell_type": "code",
   "execution_count": null,
   "id": "45fb31c0-684c-4574-89fa-7effc3e8e18e",
   "metadata": {},
   "outputs": [],
   "source": [
    "air['Permit Status'].value_counts()"
   ]
  },
  {
   "cell_type": "markdown",
   "id": "5d8ec8bf-d7e1-4177-bc2d-7545275818f6",
   "metadata": {
    "tags": []
   },
   "source": [
    "### Type Validation\n",
    "Only the project ID and date modified fields will change type after transformation"
   ]
  },
  {
   "cell_type": "markdown",
   "id": "4c493fbe-f311-44a9-a218-361d4a9dbea8",
   "metadata": {
    "tags": []
   },
   "source": [
    "### Cross-Field Validation\n",
    "None really needed. I could check that the date columns are in a logical order (application < draft issued < last comment date < final issued < construction deadline) but I'm not planning to really use those columns. So I skipped it."
   ]
  }
 ],
 "metadata": {
  "kernelspec": {
   "display_name": "Python 3 (ipykernel)",
   "language": "python",
   "name": "python3"
  },
  "language_info": {
   "codemirror_mode": {
    "name": "ipython",
    "version": 3
   },
   "file_extension": ".py",
   "mimetype": "text/x-python",
   "name": "python",
   "nbconvert_exporter": "python",
   "pygments_lexer": "ipython3",
   "version": "3.9.10"
  }
 },
 "nbformat": 4,
 "nbformat_minor": 5
}
