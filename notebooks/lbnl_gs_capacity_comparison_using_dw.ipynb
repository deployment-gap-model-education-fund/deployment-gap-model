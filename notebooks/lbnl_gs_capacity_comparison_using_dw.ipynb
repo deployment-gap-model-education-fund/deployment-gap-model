{
 "cells": [
  {
   "cell_type": "markdown",
   "id": "bcbac204-d544-4074-b6e0-a639d2cb1a7b",
   "metadata": {},
   "source": [
    "### Pull data from data warehouse"
   ]
  },
  {
   "cell_type": "code",
   "execution_count": 1,
   "id": "57c9155c-f91f-4d71-a73e-16273b3d84bd",
   "metadata": {
    "tags": []
   },
   "outputs": [
    {
     "name": "stderr",
     "output_type": "stream",
     "text": [
      "/app/.local/lib/python3.10/site-packages/geopandas/_compat.py:123: UserWarning: The Shapely GEOS version (3.11.3-CAPI-1.17.3) is incompatible with the GEOS version PyGEOS was compiled with (3.10.3-CAPI-1.16.1). Conversions between both will be slow.\n",
      "  warnings.warn(\n",
      "/app/.local/lib/python3.10/site-packages/google/cloud/bigquery/table.py:43: UserWarning: Shapely 2.0 is installed, but because PyGEOS is also installed, GeoPandas will still use PyGEOS by default for now. To force to use and test Shapely 2.0, you have to set the environment variable USE_PYGEOS=0. You can do this before starting the Python process, or in your code before importing geopandas:\n",
      "\n",
      "import os\n",
      "os.environ['USE_PYGEOS'] = '0'\n",
      "import geopandas\n",
      "\n",
      "In a future release, GeoPandas will switch to using Shapely by default. If you are using PyGEOS directly (calling PyGEOS functions on geometries from GeoPandas), this will then stop working and you are encouraged to migrate from PyGEOS to Shapely 2.0 (https://shapely.readthedocs.io/en/latest/migration_pygeos.html).\n",
      "  import geopandas  # type: ignore\n"
     ]
    }
   ],
   "source": [
    "from dbcp.helpers import get_sql_engine\n",
    "import pandas as pd\n",
    "\n",
    "engine = get_sql_engine()\n",
    "\n",
    "with engine.connect() as con:\n",
    "    gridstatus_projects = pd.read_sql_table(\"gridstatus_projects\", con, schema=\"data_warehouse\")\n",
    "    gridstatus_resource_capacity = pd.read_sql_table(\"gridstatus_resource_capacity\", con, schema=\"data_warehouse\")\n",
    "    gridstatus_locations = pd.read_sql_table(\"gridstatus_locations\", con, schema=\"data_warehouse\")\n",
    "    \n",
    "    lbnl_projects = pd.read_sql_table(\"iso_projects\", con, schema=\"data_warehouse\")\n",
    "    lbnl_resource_capacity = pd.read_sql_table(\"iso_resource_capacity\", con, schema=\"data_warehouse\")\n",
    "    lbnl_locations = pd.read_sql_table(\"iso_locations\", con, schema=\"data_warehouse\")"
   ]
  },
  {
   "cell_type": "code",
   "execution_count": 2,
   "id": "1c95a5e9-c0b4-415c-92be-899f0f174424",
   "metadata": {},
   "outputs": [],
   "source": [
    "lbnl_projects[\"entity\"] = lbnl_projects[\"entity\"].str.replace(\"ISO-NE\", \"ISONE\")"
   ]
  },
  {
   "cell_type": "code",
   "execution_count": 3,
   "id": "c3c84713-f714-43ef-a8a9-e35f58aa11d8",
   "metadata": {},
   "outputs": [],
   "source": [
    "gs_capacities = gridstatus_projects.merge(gridstatus_resource_capacity, how=\"left\", validate=\"1:m\")\n",
    "# gs_capacities = gs_capacities.merge(gridstatus_locations, how=\"left\", validate=\"m:m\")\n",
    "\n",
    "lbnl_capacities = lbnl_projects.merge(lbnl_resource_capacity, how=\"left\", validate=\"1:m\")\n",
    "# lbnl_capacities = lbnl_capacities.merge(lbnl_locations, how=\"left\", validate=\"m:m\")"
   ]
  },
  {
   "cell_type": "code",
   "execution_count": 4,
   "id": "c141d7e4-836d-4f79-a6d5-07904a63570d",
   "metadata": {},
   "outputs": [],
   "source": [
    "lbnl_capacities = lbnl_capacities[~lbnl_capacities.region.str.contains(\"non-ISO\")]"
   ]
  },
  {
   "cell_type": "code",
   "execution_count": 5,
   "id": "f0403269-4a08-4651-b6d8-89a3576b4635",
   "metadata": {},
   "outputs": [],
   "source": [
    "resource_map = {\n",
    "        \"Battery Storage\": \"storage\",\n",
    "        \"Biofuel\": \"renewable\",\n",
    "        \"Biomass\": \"renewable\",\n",
    "        \"Coal\": \"fossil\",\n",
    "        \"Combustion Turbine\": \"fossil\",\n",
    "        \"CSP\": \"renewable\",\n",
    "        \"Fuel Cell\": \"renewable\",\n",
    "        \"Geothermal\": \"renewable\",\n",
    "        \"Hydro\": \"renewable\",\n",
    "        \"Landfill Gas\": \"fossil\",\n",
    "        \"Methane; Solar\": \"other\",\n",
    "        \"Municipal Solid Waste\": \"fossil\",\n",
    "        \"Natural Gas; Other; Storage; Solar\": \"fossil\",\n",
    "        \"Natural Gas; Storage\": \"fossil\",\n",
    "        \"Natural Gas\": \"fossil\",\n",
    "        \"Nuclear\": \"other\",\n",
    "        \"Offshore Wind\": \"renewable\",\n",
    "        \"Oil; Biomass\": \"fossil\",\n",
    "        \"Oil\": \"fossil\",\n",
    "        \"Onshore Wind\": \"renewable\",\n",
    "        \"Other Storage\": \"storage\",\n",
    "        \"Other\": \"fossil\",\n",
    "        \"Pumped Storage\": \"storage\",\n",
    "        \"Solar; Biomass\": \"renewable\",\n",
    "        \"Solar; Storage\": \"renewable\",\n",
    "        \"Solar\": \"renewable\",\n",
    "        \"Steam\": pd.NA,\n",
    "        \"Transmission\": \"transmission\",\n",
    "        \"Unknown\": pd.NA,\n",
    "        \"Waste Heat\": \"fossil\",\n",
    "        \"Wind; Storage\": \"renewable\",\n",
    "        pd.NA: pd.NA,  # not technically necessary but make it explicit\n",
    "    }\n",
    "\n",
    "gs_capacities[\"resource_class\"] = gs_capacities[\"resource_clean\"].map(resource_map)\n",
    "lbnl_capacities[\"resource_class\"] = lbnl_capacities[\"resource_clean\"].map(resource_map)"
   ]
  },
  {
   "cell_type": "code",
   "execution_count": 6,
   "id": "984b4f26-1e1b-4924-b42d-8e92e945ba9b",
   "metadata": {},
   "outputs": [],
   "source": [
    "clean_fuel = (\"renewable\", \"storage\")\n",
    "\n",
    "\n",
    "clean_gs_capacities= gs_capacities[gs_capacities.resource_class.isin(clean_fuel)]\n",
    "clean_lbnl_capacities = lbnl_capacities[lbnl_capacities.resource_class.isin(clean_fuel)]"
   ]
  },
  {
   "cell_type": "code",
   "execution_count": 49,
   "id": "e5e4b475-35ec-4c81-8e18-c008f057726f",
   "metadata": {},
   "outputs": [
    {
     "name": "stdout",
     "output_type": "stream",
     "text": [
      "<class 'pandas.core.frame.DataFrame'>\n",
      "RangeIndex: 8029 entries, 0 to 8028\n",
      "Data columns (total 18 columns):\n",
      " #   Column                      Non-Null Count  Dtype         \n",
      "---  ------                      --------------  -----         \n",
      " 0   project_id                  8029 non-null   int64         \n",
      " 1   actual_completion_date      128 non-null    datetime64[ns]\n",
      " 2   interconnecting_entity      0 non-null      object        \n",
      " 3   point_of_interconnection    7596 non-null   object        \n",
      " 4   project_name                2488 non-null   object        \n",
      " 5   proposed_completion_date    4780 non-null   datetime64[ns]\n",
      " 6   queue_date                  7828 non-null   datetime64[ns]\n",
      " 7   queue_id                    8029 non-null   object        \n",
      " 8   queue_status                8029 non-null   object        \n",
      " 9   interconnection_status_raw  3906 non-null   object        \n",
      " 10  utility                     6568 non-null   object        \n",
      " 11  withdrawal_comment          1 non-null      object        \n",
      " 12  withdrawn_date              10 non-null     datetime64[ns]\n",
      " 13  is_actionable               8029 non-null   bool          \n",
      " 14  is_nearly_certain           8029 non-null   bool          \n",
      " 15  region                      8029 non-null   object        \n",
      " 16  entity                      8029 non-null   object        \n",
      " 17  developer                   1170 non-null   object        \n",
      "dtypes: bool(2), datetime64[ns](4), int64(1), object(11)\n",
      "memory usage: 1019.4+ KB\n"
     ]
    }
   ],
   "source": [
    "gridstatus_projects.info()"
   ]
  },
  {
   "cell_type": "code",
   "execution_count": 53,
   "id": "eabb8672-e53a-4895-818f-07c20e4adbeb",
   "metadata": {},
   "outputs": [
    {
     "data": {
      "text/plain": [
       "region\n",
       "caiso     7.0\n",
       "ercot     2.0\n",
       "isone    12.0\n",
       "miso      3.0\n",
       "nyiso     3.0\n",
       "pjm       3.0\n",
       "spp       9.0\n",
       "Name: queue_date, dtype: float64"
      ]
     },
     "execution_count": 53,
     "metadata": {},
     "output_type": "execute_result"
    }
   ],
   "source": [
    "gs_iso_region_max_queue_date = gridstatus_projects[~gridstatus_projects.region.str.contains(\"non-ISO\")].groupby(\"region\").queue_date.max()\n",
    "lbnl_iso_region_max_queue_date = lbnl_projects[~lbnl_projects.region.str.contains(\"non-ISO\")].groupby(\"region\").queue_date.max()\n",
    "lbnl_iso_region_max_queue_date.index = lbnl_iso_region_max_queue_date.index.str.lower().str.replace(\"-\", \"\")\n",
    "\n",
    "\n",
    "(gs_iso_region_max_queue_date - lbnl_iso_region_max_queue_date).astype('timedelta64[M]')"
   ]
  },
  {
   "cell_type": "code",
   "execution_count": 54,
   "id": "abeaad0b-c9c6-45e6-a881-70e56e2bd394",
   "metadata": {},
   "outputs": [
    {
     "data": {
      "text/plain": [
       "entity\n",
       "CAISO    -9.0\n",
       "ERCOT    13.0\n",
       "ISONE    27.0\n",
       "MISO    -22.0\n",
       "NYISO   -11.0\n",
       "PJM      -0.0\n",
       "SPP      28.0\n",
       "Name: capacity_mw, dtype: float64"
      ]
     },
     "execution_count": 54,
     "metadata": {},
     "output_type": "execute_result"
    }
   ],
   "source": [
    "((clean_gs_capacities.groupby(\"entity\").capacity_mw.sum() - clean_lbnl_capacities.groupby(\"entity\").capacity_mw.sum()) / clean_lbnl_capacities.groupby(\"entity\").capacity_mw.sum() * 100).round()"
   ]
  },
  {
   "cell_type": "markdown",
   "id": "8db7ef86-d9cd-473c-bac3-d7ce8a61f751",
   "metadata": {},
   "source": [
    "Do these seem like reasonable changes given the delays for each ISO?"
   ]
  },
  {
   "cell_type": "markdown",
   "id": "9c694a5b-eb44-4072-8140-7eeffe097887",
   "metadata": {
    "jp-MarkdownHeadingCollapsed": true,
    "tags": []
   },
   "source": [
    "## Compare total clean capacity in warehouse and mart"
   ]
  },
  {
   "cell_type": "code",
   "execution_count": 14,
   "id": "2c8cab01-9bd4-4570-834e-4a7b73d3101f",
   "metadata": {},
   "outputs": [],
   "source": [
    "with engine.connect() as con:\n",
    "    iso_projects_wide_format = pd.read_sql_table(\"iso_projects_wide_format\", con, schema=\"data_mart\")"
   ]
  },
  {
   "cell_type": "code",
   "execution_count": 33,
   "id": "b68f8263-d760-4177-8458-620d8494193c",
   "metadata": {},
   "outputs": [
    {
     "data": {
      "text/plain": [
       "False    10683\n",
       "True        16\n",
       "Name: iso_region, dtype: int64"
      ]
     },
     "execution_count": 33,
     "metadata": {},
     "output_type": "execute_result"
    }
   ],
   "source": [
    "iso_projects_wide_format.iso_region.str.contains(\"non-ISO\").isna().value_counts()"
   ]
  },
  {
   "cell_type": "code",
   "execution_count": 36,
   "id": "ed54705f-3c75-4028-9d11-297eb89ab208",
   "metadata": {
    "tags": []
   },
   "outputs": [
    {
     "data": {
      "text/plain": [
       "entity\n",
       "CAISO    181507.992035\n",
       "ERCOT    226964.690000\n",
       "ISONE     61618.855000\n",
       "MISO     283188.650000\n",
       "NYISO    104658.650000\n",
       "PJM      245126.462800\n",
       "SPP      148284.562000\n",
       "Name: total_capacity_mw, dtype: float64"
      ]
     },
     "execution_count": 36,
     "metadata": {},
     "output_type": "execute_result"
    }
   ],
   "source": [
    "iso_projects_wide_format = iso_projects_wide_format[~iso_projects_wide_format.iso_region.str.contains(\"non-ISO\").fillna(True)]\n",
    "iso_projects_wide_format[\"total_capacity_mw\"] = iso_projects_wide_format[[\"generation_capacity_mw_1\", \"generation_capacity_mw_2\", \"storage_capacity_mw\"]].sum(axis=1)\n",
    "\n",
    "clean_iso_projects_wide_format = iso_projects_wide_format[iso_projects_wide_format.resource_class.isin(clean_fuel)]\n",
    "iso_projects_wide_format.groupby(\"entity\").total_capacity_mw.sum()"
   ]
  },
  {
   "cell_type": "code",
   "execution_count": 41,
   "id": "ff5eccc8-771e-41a3-9e95-750cf14c0f6e",
   "metadata": {},
   "outputs": [
    {
     "data": {
      "text/html": [
       "<div>\n",
       "<style scoped>\n",
       "    .dataframe tbody tr th:only-of-type {\n",
       "        vertical-align: middle;\n",
       "    }\n",
       "\n",
       "    .dataframe tbody tr th {\n",
       "        vertical-align: top;\n",
       "    }\n",
       "\n",
       "    .dataframe thead th {\n",
       "        text-align: right;\n",
       "    }\n",
       "</style>\n",
       "<table border=\"1\" class=\"dataframe\">\n",
       "  <thead>\n",
       "    <tr style=\"text-align: right;\">\n",
       "      <th></th>\n",
       "      <th>capacity_mw</th>\n",
       "      <th>total_capacity_mw</th>\n",
       "    </tr>\n",
       "    <tr>\n",
       "      <th>entity</th>\n",
       "      <th></th>\n",
       "      <th></th>\n",
       "    </tr>\n",
       "  </thead>\n",
       "  <tbody>\n",
       "    <tr>\n",
       "      <th>CAISO</th>\n",
       "      <td>179044.322038</td>\n",
       "      <td>181507.992035</td>\n",
       "    </tr>\n",
       "    <tr>\n",
       "      <th>ERCOT</th>\n",
       "      <td>217171.090000</td>\n",
       "      <td>226964.690000</td>\n",
       "    </tr>\n",
       "    <tr>\n",
       "      <th>ISONE</th>\n",
       "      <td>41588.058000</td>\n",
       "      <td>61618.855000</td>\n",
       "    </tr>\n",
       "    <tr>\n",
       "      <th>MISO</th>\n",
       "      <td>221551.350000</td>\n",
       "      <td>283188.650000</td>\n",
       "    </tr>\n",
       "    <tr>\n",
       "      <th>NYISO</th>\n",
       "      <td>94341.650000</td>\n",
       "      <td>104658.650000</td>\n",
       "    </tr>\n",
       "    <tr>\n",
       "      <th>PJM</th>\n",
       "      <td>253160.844800</td>\n",
       "      <td>245126.462800</td>\n",
       "    </tr>\n",
       "    <tr>\n",
       "      <th>SPP</th>\n",
       "      <td>123289.422000</td>\n",
       "      <td>148284.562000</td>\n",
       "    </tr>\n",
       "  </tbody>\n",
       "</table>\n",
       "</div>"
      ],
      "text/plain": [
       "          capacity_mw  total_capacity_mw\n",
       "entity                                  \n",
       "CAISO   179044.322038      181507.992035\n",
       "ERCOT   217171.090000      226964.690000\n",
       "ISONE    41588.058000       61618.855000\n",
       "MISO    221551.350000      283188.650000\n",
       "NYISO    94341.650000      104658.650000\n",
       "PJM     253160.844800      245126.462800\n",
       "SPP     123289.422000      148284.562000"
      ]
     },
     "execution_count": 41,
     "metadata": {},
     "output_type": "execute_result"
    }
   ],
   "source": [
    "pd.concat([clean_gs_capacities.groupby(\"entity\").capacity_mw.sum(), iso_projects_wide_format.groupby(\"entity\").total_capacity_mw.sum()], axis=1)"
   ]
  },
  {
   "cell_type": "markdown",
   "id": "4f3ea9d1-2212-477c-93fd-25e2a140999c",
   "metadata": {},
   "source": [
    "Why does the total capacity differ in the data_warehouse tables and `iso_projects_wide_format`? "
   ]
  }
 ],
 "metadata": {
  "kernelspec": {
   "display_name": "Python 3 (ipykernel)",
   "language": "python",
   "name": "python3"
  },
  "language_info": {
   "codemirror_mode": {
    "name": "ipython",
    "version": 3
   },
   "file_extension": ".py",
   "mimetype": "text/x-python",
   "name": "python",
   "nbconvert_exporter": "python",
   "pygments_lexer": "ipython3",
   "version": "3.10.13"
  }
 },
 "nbformat": 4,
 "nbformat_minor": 5
}
