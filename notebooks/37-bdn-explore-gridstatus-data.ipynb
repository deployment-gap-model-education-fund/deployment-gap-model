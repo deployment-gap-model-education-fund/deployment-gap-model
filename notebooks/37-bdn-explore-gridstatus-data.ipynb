{
 "cells": [
  {
   "cell_type": "code",
   "execution_count": 1,
   "id": "d64cd36b-2af1-43b2-bba1-7c3cf4d80d3c",
   "metadata": {},
   "outputs": [
    {
     "name": "stderr",
     "output_type": "stream",
     "text": [
      "/app/.local/lib/python3.10/site-packages/geopandas/_compat.py:123: UserWarning: The Shapely GEOS version (3.11.1-CAPI-1.17.1) is incompatible with the GEOS version PyGEOS was compiled with (3.10.3-CAPI-1.16.1). Conversions between both will be slow.\n",
      "  warnings.warn(\n",
      "/app/.local/lib/python3.10/site-packages/pudl/analysis/spatial.py:7: UserWarning: Shapely 2.0 is installed, but because PyGEOS is also installed, GeoPandas will still use PyGEOS by default for now. To force to use and test Shapely 2.0, you have to set the environment variable USE_PYGEOS=0. You can do this before starting the Python process, or in your code before importing geopandas:\n",
      "\n",
      "import os\n",
      "os.environ['USE_PYGEOS'] = '0'\n",
      "import geopandas\n",
      "\n",
      "In a future release, GeoPandas will switch to using Shapely by default. If you are using PyGEOS directly (calling PyGEOS functions on geometries from GeoPandas), this will then stop working and you are encouraged to migrate from PyGEOS to Shapely 2.0 (https://shapely.readthedocs.io/en/latest/migration_pygeos.html).\n",
      "  import geopandas as gpd\n"
     ]
    },
    {
     "name": "stdout",
     "output_type": "stream",
     "text": [
      "Please visit this URL to authorize this application: https://accounts.google.com/o/oauth2/auth?response_type=code&client_id=262006177488-ka1m0ue4fptfmt9siejdd5lom7p39upa.apps.googleusercontent.com&redirect_uri=https%3A%2F%2Fpydata-google-auth.readthedocs.io%2Fen%2Flatest%2Foauth.html&scope=https%3A%2F%2Fwww.googleapis.com%2Fauth%2Fcloud-platform&state=kD3vTP32btyE8ioDkO0iucGLnu35P2&access_type=offline\n"
     ]
    },
    {
     "name": "stdin",
     "output_type": "stream",
     "text": [
      "Enter the authorization code:  4/0AfJohXnL-yNAxXwXYwZhbJjiC2UAxv_TWxxh8bHQA4Gw5sdxpS6XALNi38AM6bPQxxn6_g\n"
     ]
    }
   ],
   "source": [
    "import dbcp\n",
    "import pandas as pd\n",
    "\n",
    "iso_queues = dbcp.extract.gridstatus_isoqueues.extract()"
   ]
  },
  {
   "cell_type": "code",
   "execution_count": 2,
   "id": "15cb8248-0af8-40cc-b082-1b4fcd2acd10",
   "metadata": {},
   "outputs": [
    {
     "name": "stdout",
     "output_type": "stream",
     "text": [
      "miso most recent project: 2023-08-25 04:00:00+00:00\n",
      "caiso most recent project: 2023-03-02 08:00:00\n",
      "pjm most recent project: 2023-07-05 00:00:00\n",
      "ercot most recent project: 2023-07-31 00:00:00\n",
      "spp most recent project: 2023-07-26 00:00:00\n",
      "nyiso most recent project: 2023-07-17 00:00:00\n",
      "isone most recent project: 2023-08-21 00:00:00\n"
     ]
    }
   ],
   "source": [
    "for iso_name, queue_df in iso_queues.items():\n",
    "    queue_df['Queue Date'] = pd.to_datetime(queue_df['Queue Date'])\n",
    "    recent_project = queue_df['Queue Date'].max()\n",
    "    print(f\"{iso_name} most recent project: {recent_project}\")"
   ]
  },
  {
   "cell_type": "code",
   "execution_count": null,
   "id": "782b65fa-a061-4b7d-b9a2-16692810ec61",
   "metadata": {},
   "outputs": [],
   "source": []
  }
 ],
 "metadata": {
  "kernelspec": {
   "display_name": "Python 3 (ipykernel)",
   "language": "python",
   "name": "python3"
  },
  "language_info": {
   "codemirror_mode": {
    "name": "ipython",
    "version": 3
   },
   "file_extension": ".py",
   "mimetype": "text/x-python",
   "name": "python",
   "nbconvert_exporter": "python",
   "pygments_lexer": "ipython3",
   "version": "3.10.12"
  }
 },
 "nbformat": 4,
 "nbformat_minor": 5
}
