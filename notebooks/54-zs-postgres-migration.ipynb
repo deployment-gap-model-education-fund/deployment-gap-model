{
 "cells": [
  {
   "cell_type": "markdown",
   "id": "4b235e3c-9493-4ec9-a8fb-57e8dc5c4c9c",
   "metadata": {},
   "source": [
    "## Create Postgres schemas and migrate data from Big Query"
   ]
  },
  {
   "cell_type": "code",
   "execution_count": 1,
   "id": "7ad8b87a-dc24-43ac-8679-baea8e43aeba",
   "metadata": {},
   "outputs": [],
   "source": [
    "import os\n",
    "\n",
    "import google\n",
    "from google.cloud import bigquery\n",
    "import pandas as pd\n",
    "from sqlalchemy import create_engine\n",
    "from sqlalchemy.schema import CreateSchema\n",
    "\n",
    "from dbcp.metadata.data_mart import counties_proposed_clean_projects, schema as data_mart_schema\n",
    "from dbcp.metadata.private_data_warehouse import (\n",
    "    fyi_projects,\n",
    "    fyi_locations,\n",
    "    fyi_resource_capacity,\n",
    "    schema as data_warehouse_schema,\n",
    ")"
   ]
  },
  {
   "cell_type": "markdown",
   "id": "e58cb3da-f820-4e31-82ca-2365da433c3c",
   "metadata": {},
   "source": [
    "### Initialize Postgres connection"
   ]
  },
  {
   "cell_type": "code",
   "execution_count": 4,
   "id": "75d6a521-5414-4fac-94e1-f466a6915131",
   "metadata": {},
   "outputs": [],
   "source": [
    "url = \"os.environ['POSTGRES_URL']\"\n",
    "engine = create_engine(url)"
   ]
  },
  {
   "cell_type": "markdown",
   "id": "dfc04e9e-10ed-4219-9658-6e20f446aaa3",
   "metadata": {},
   "source": [
    "### Create Tables"
   ]
  },
  {
   "cell_type": "code",
   "execution_count": null,
   "id": "631b101d-643b-467a-9be1-f780b94df40a",
   "metadata": {},
   "outputs": [],
   "source": [
    "counties_proposed_clean_projects.create(engine)\n",
    "fyi_projects.create(engine)\n",
    "fyi_locations.create(engine)\n",
    "fyi_resource_capacity.create(engine)"
   ]
  },
  {
   "cell_type": "markdown",
   "id": "f64a9553-c090-4ad8-a51c-d6569f309b92",
   "metadata": {},
   "source": [
    "### Migrate Data"
   ]
  },
  {
   "cell_type": "code",
   "execution_count": null,
   "id": "780dceeb-0000-4891-a36c-9edb0b71a530",
   "metadata": {},
   "outputs": [],
   "source": [
    "credentials, project_id = google.auth.default()\n",
    "client = bigquery.Client(credentials=credentials, project=project_id)\n",
    "\n",
    "def _get_table(table_name, schema) -> pd.DataFrame:\n",
    "    return client.query(f\"SELECT * FROM `dbcp-dev-350818.{schema}.{table_name}`;\").to_dataframe()\n",
    "\n",
    "# Migrate data warehouse tables\n",
    "for table_name in [\"fyi_projects\", \"fyi_locations\", \"fyi_resource_capacity\"]:\n",
    "    df = _get_table(table_name, \"private_data_warehouse_dev\")\n",
    "    #df.to_sql(table_name, con=engine, schema=data_warehouse_schema)\n",
    "\n",
    "# Migrate data mart table\n",
    "df = _get_table(\"counties_proposed_clean_projects\", \"data_mart_dev\")\n",
    "#df.to_sql(\"fyi_counties_proposed_clean_projects\", con=engine, schema=data_mart_schema)"
   ]
  },
  {
   "cell_type": "code",
   "execution_count": null,
   "id": "bfcbe0e0-94aa-470a-844a-ee30391f66c0",
   "metadata": {},
   "outputs": [],
   "source": []
  }
 ],
 "metadata": {
  "kernelspec": {
   "display_name": "Python 3 (ipykernel)",
   "language": "python",
   "name": "python3"
  },
  "language_info": {
   "codemirror_mode": {
    "name": "ipython",
    "version": 3
   },
   "file_extension": ".py",
   "mimetype": "text/x-python",
   "name": "python",
   "nbconvert_exporter": "python",
   "pygments_lexer": "ipython3",
   "version": "3.10.18"
  }
 },
 "nbformat": 4,
 "nbformat_minor": 5
}
