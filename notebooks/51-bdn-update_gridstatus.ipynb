{
 "cells": [
  {
   "cell_type": "markdown",
   "id": "daf3df75-d029-4d21-9cd3-4866946aca38",
   "metadata": {},
   "source": [
    "# Updating GridStatus data\n",
    "Gridstatus data is archived weekly by an action in the [`deployment-gap-model-archiver` repo](https://github.com/deployment-gap-model-education-fund/deployment-gap-model-archiver/actions). The files are archived in a GCS bucket with [object versioning enabled](https://cloud.google.com/storage/docs/object-versioning). A generation IDs is created for each version of the archived parquet file. To update the gridstatus data, grab the generation id for each parquet for desired date and update the `ISO_QUEUE_VERSIONS` dictionary in `dbcp.extract.gridstatus_isoqueues`. Use this notebook to validate and compare the dates of the most recent projects for each ISO."
   ]
  },
  {
   "cell_type": "code",
   "execution_count": 34,
   "id": "0082be23-b213-44aa-bf95-da4103aa2f8e",
   "metadata": {},
   "outputs": [],
   "source": [
    "from dbcp.extract.gridstatus_isoqueues import extract, ISO_QUEUE_VERSIONS\n",
    "import pandas as pd\n",
    "\n",
    "\n",
    "old_dfs = extract(ISO_QUEUE_VERSIONS)"
   ]
  },
  {
   "cell_type": "code",
   "execution_count": 35,
   "id": "1b014619-792e-4c46-826f-81e283121dc2",
   "metadata": {},
   "outputs": [],
   "source": [
    "ISO_QUEUE_VERSIONS: dict[str, str] = {\n",
    "    \"miso\": \"1719774997006069\",\n",
    "    \"miso-pre-2017\": \"1709776311574737\",\n",
    "    \"caiso\": \"1719774997530790\",\n",
    "    \"pjm\": \"1719774998059470\",\n",
    "    \"ercot\": \"1719774998544416\",\n",
    "    \"spp\": \"1719774998998901\",\n",
    "    \"nyiso\": \"1719774999497797\",\n",
    "    \"isone\": \"1719774999940225\",\n",
    "}\n",
    "\n",
    "new_dfs = extract(ISO_QUEUE_VERSIONS)"
   ]
  },
  {
   "cell_type": "code",
   "execution_count": 36,
   "id": "c8e4f11a-baaa-4878-85f2-fe455d9b065e",
   "metadata": {},
   "outputs": [],
   "source": [
    "comp = []\n",
    "for iso in ISO_QUEUE_VERSIONS:\n",
    "    # df[\"Queue Date\"] = pd.to_datetime(df[\"Queue Date\"])\n",
    "    new_df = new_dfs[iso]\n",
    "    new_df[\"Queue Date\"] = pd.to_datetime(new_df[\"Queue Date\"])\n",
    "    \n",
    "    old_df = old_dfs[iso]\n",
    "    old_df[\"Queue Date\"] = pd.to_datetime(old_df[\"Queue Date\"])\n",
    "    \n",
    "    comp.append((old_df[\"Queue Date\"].max(), new_df[\"Queue Date\"].max(), iso))"
   ]
  },
  {
   "cell_type": "code",
   "execution_count": 37,
   "id": "dc8ec425-f292-4db8-a8a6-52399592715b",
   "metadata": {},
   "outputs": [],
   "source": [
    "comp = pd.DataFrame(comp, columns=[\"old_max_date\", \"new_max_date\", \"iso\"])"
   ]
  },
  {
   "cell_type": "code",
   "execution_count": 38,
   "id": "d839d417-41be-4c79-a564-354304f4a3e9",
   "metadata": {},
   "outputs": [],
   "source": [
    "comp[\"max_date_diff\"] = comp.new_max_date - comp.old_max_date"
   ]
  },
  {
   "cell_type": "code",
   "execution_count": 39,
   "id": "18e21ad3-eb3d-4371-89ff-0de2fd7095c7",
   "metadata": {},
   "outputs": [
    {
     "data": {
      "text/html": [
       "<div>\n",
       "<style scoped>\n",
       "    .dataframe tbody tr th:only-of-type {\n",
       "        vertical-align: middle;\n",
       "    }\n",
       "\n",
       "    .dataframe tbody tr th {\n",
       "        vertical-align: top;\n",
       "    }\n",
       "\n",
       "    .dataframe thead th {\n",
       "        text-align: right;\n",
       "    }\n",
       "</style>\n",
       "<table border=\"1\" class=\"dataframe\">\n",
       "  <thead>\n",
       "    <tr style=\"text-align: right;\">\n",
       "      <th></th>\n",
       "      <th>old_max_date</th>\n",
       "      <th>new_max_date</th>\n",
       "      <th>iso</th>\n",
       "      <th>max_date_diff</th>\n",
       "    </tr>\n",
       "  </thead>\n",
       "  <tbody>\n",
       "    <tr>\n",
       "      <th>0</th>\n",
       "      <td>2024-03-15 04:00:00+00:00</td>\n",
       "      <td>2024-06-07 04:00:00+00:00</td>\n",
       "      <td>miso</td>\n",
       "      <td>84 days</td>\n",
       "    </tr>\n",
       "    <tr>\n",
       "      <th>1</th>\n",
       "      <td>2023-04-03 04:00:00+00:00</td>\n",
       "      <td>2023-04-03 04:00:00+00:00</td>\n",
       "      <td>miso-pre-2017</td>\n",
       "      <td>0 days</td>\n",
       "    </tr>\n",
       "    <tr>\n",
       "      <th>2</th>\n",
       "      <td>2023-03-02 08:00:00</td>\n",
       "      <td>2023-03-02 08:00:00</td>\n",
       "      <td>caiso</td>\n",
       "      <td>0 days</td>\n",
       "    </tr>\n",
       "    <tr>\n",
       "      <th>3</th>\n",
       "      <td>2023-07-08 00:00:00</td>\n",
       "      <td>2023-07-08 00:00:00</td>\n",
       "      <td>pjm</td>\n",
       "      <td>0 days</td>\n",
       "    </tr>\n",
       "    <tr>\n",
       "      <th>4</th>\n",
       "      <td>2024-03-29 00:00:00</td>\n",
       "      <td>2024-05-20 00:00:00</td>\n",
       "      <td>ercot</td>\n",
       "      <td>52 days</td>\n",
       "    </tr>\n",
       "    <tr>\n",
       "      <th>5</th>\n",
       "      <td>2024-02-07 00:00:00</td>\n",
       "      <td>2024-05-07 00:00:00</td>\n",
       "      <td>spp</td>\n",
       "      <td>90 days</td>\n",
       "    </tr>\n",
       "    <tr>\n",
       "      <th>6</th>\n",
       "      <td>2024-03-30 00:00:00</td>\n",
       "      <td>2024-05-23 00:00:00</td>\n",
       "      <td>nyiso</td>\n",
       "      <td>54 days</td>\n",
       "    </tr>\n",
       "    <tr>\n",
       "      <th>7</th>\n",
       "      <td>2024-04-03 00:00:00</td>\n",
       "      <td>2024-06-26 00:00:00</td>\n",
       "      <td>isone</td>\n",
       "      <td>84 days</td>\n",
       "    </tr>\n",
       "  </tbody>\n",
       "</table>\n",
       "</div>"
      ],
      "text/plain": [
       "                old_max_date               new_max_date            iso max_date_diff\n",
       "0  2024-03-15 04:00:00+00:00  2024-06-07 04:00:00+00:00           miso       84 days\n",
       "1  2023-04-03 04:00:00+00:00  2023-04-03 04:00:00+00:00  miso-pre-2017        0 days\n",
       "2        2023-03-02 08:00:00        2023-03-02 08:00:00          caiso        0 days\n",
       "3        2023-07-08 00:00:00        2023-07-08 00:00:00            pjm        0 days\n",
       "4        2024-03-29 00:00:00        2024-05-20 00:00:00          ercot       52 days\n",
       "5        2024-02-07 00:00:00        2024-05-07 00:00:00            spp       90 days\n",
       "6        2024-03-30 00:00:00        2024-05-23 00:00:00          nyiso       54 days\n",
       "7        2024-04-03 00:00:00        2024-06-26 00:00:00          isone       84 days"
      ]
     },
     "execution_count": 39,
     "metadata": {},
     "output_type": "execute_result"
    }
   ],
   "source": [
    "comp"
   ]
  }
 ],
 "metadata": {
  "kernelspec": {
   "display_name": "Python 3 (ipykernel)",
   "language": "python",
   "name": "python3"
  },
  "language_info": {
   "codemirror_mode": {
    "name": "ipython",
    "version": 3
   },
   "file_extension": ".py",
   "mimetype": "text/x-python",
   "name": "python",
   "nbconvert_exporter": "python",
   "pygments_lexer": "ipython3",
   "version": "3.10.14"
  }
 },
 "nbformat": 4,
 "nbformat_minor": 5
}
