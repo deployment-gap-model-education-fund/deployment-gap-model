{
 "cells": [
  {
   "cell_type": "markdown",
   "id": "4012c949-f6fd-4fbc-8601-7fac99b753b4",
   "metadata": {},
   "source": [
    "## Purpose\n",
    "This notebooks compares some high level metrics about two versions of the `iso_projects_long_format`. This is helpful for running sanity checks when updating queue data."
   ]
  },
  {
   "cell_type": "code",
   "execution_count": null,
   "id": "57c9155c-f91f-4d71-a73e-16273b3d84bd",
   "metadata": {
    "tags": []
   },
   "outputs": [],
   "source": [
    "from dbcp.helpers import get_sql_engine\n",
    "import pandas as pd\n",
    "\n",
    "engine = get_sql_engine()\n",
    "\n",
    "# with engine.connect() as con:\n",
    "#     projects_long = pd.read_sql_table(\"iso_projects_long_format\", con, schema=\"data_mart\")\n",
    "    \n",
    "# projects_long = projects_long.convert_dtypes()\n",
    "# print(projects_long.date_entered_queue.max())\n",
    "# projects_long.to_parquet(\"iso_projects_long_format_gs.parquet\")"
   ]
  },
  {
   "cell_type": "markdown",
   "id": "59a4aa6a-1bfa-4331-a8dc-a72b375a42f2",
   "metadata": {
    "tags": []
   },
   "source": [
    "## Load projects"
   ]
  },
  {
   "cell_type": "code",
   "execution_count": null,
   "id": "f2144cc1-a3f2-436f-bc46-bbdf8b283f71",
   "metadata": {},
   "outputs": [],
   "source": [
    "import pandas as pd"
   ]
  },
  {
   "cell_type": "code",
   "execution_count": null,
   "id": "c5c14b8f-328e-4c7f-bc2a-c61d14997f50",
   "metadata": {},
   "outputs": [],
   "source": [
    "lbnl_projects = pd.read_parquet(\"iso_projects_long_format_lbnl.parquet\")\n",
    "gs_projects = pd.read_parquet(\"iso_projects_long_format_gs.parquet\")\n",
    "\n",
    "print(gs_projects.date_entered_queue.max())\n",
    "print(lbnl_projects.date_entered_queue.max())"
   ]
  },
  {
   "cell_type": "markdown",
   "id": "c5f96a1c-4936-49da-b618-de427278bc40",
   "metadata": {},
   "source": [
    "## Aggregate project dataframes by county"
   ]
  },
  {
   "cell_type": "code",
   "execution_count": null,
   "id": "92d6bb46-fc02-4fc0-a916-d9d61d3f6673",
   "metadata": {},
   "outputs": [],
   "source": [
    "def aggregate_iso_projects_by_count(df):\n",
    "\n",
    "    def contains_iso_project(grp):\n",
    "        return any([\"non-ISO\" not in region for region in grp if not isinstance(region, type(pd.NA))])\n",
    "    \n",
    "    def get_primary_iso(grp):\n",
    "        # There are 16 counties that have equal number of projects in multiple regions. Select the first one\n",
    "        return grp.mode().head(1)\n",
    "\n",
    "    agg_df = df.groupby(\"county_id_fips\").agg(\n",
    "        has_iso_project=pd.NamedAgg(column=\"iso_region\", aggfunc=contains_iso_project),\n",
    "        primary_iso_region=pd.NamedAgg(column=\"iso_region\", aggfunc=get_primary_iso),\n",
    "        capacity_mw=pd.NamedAgg(column=\"capacity_mw\", aggfunc=\"sum\"),\n",
    "        co2e_tonnes_per_year=pd.NamedAgg(column=\"co2e_tonnes_per_year\", aggfunc=\"sum\")\n",
    "    )\n",
    "    \n",
    "    def agg_actionable_mw(grp_df):\n",
    "        return grp_df[grp_df.is_actionable].capacity_mw.sum()\n",
    "\n",
    "    def agg_certain_mw(grp_df):\n",
    "        return grp_df[grp_df.is_nearly_certain].capacity_mw.sum()\n",
    "\n",
    "\n",
    "    agg_df[\"actionable_capacity_mw\"] = df.groupby(\"county_id_fips\").apply(agg_actionable_mw)\n",
    "    agg_df[\"nearly_certain_capacity_mw\"] = df.groupby(\"county_id_fips\").apply(agg_certain_mw)\n",
    "    \n",
    "    agg_df[\"actionable_n_projects\"] = df.groupby(\"county_id_fips\").is_actionable.sum()\n",
    "    agg_df[\"nearly_certain_n_projects\"] = df.groupby(\"county_id_fips\").is_nearly_certain.count()\n",
    "    return agg_df.reset_index()\n",
    "\n",
    "new_projects_counties = aggregate_iso_projects_by_count(gs_projects)\n",
    "old_projects_counties = aggregate_iso_projects_by_count(lbnl_projects)"
   ]
  },
  {
   "cell_type": "markdown",
   "id": "44d2ab53-6b17-40b6-b294-ba8654f59a66",
   "metadata": {},
   "source": [
    "## Number of counties with projects"
   ]
  },
  {
   "cell_type": "code",
   "execution_count": null,
   "id": "9d42e25e-8366-4326-98c1-384f2f34b1bf",
   "metadata": {},
   "outputs": [],
   "source": [
    "n_counties_with_projects_in_new_not_in_old = len(set(new_projects_counties.county_id_fips) - set(old_projects_counties.county_id_fips))\n",
    "n_counties_with_projects_in_old_not_in_new = len(set(old_projects_counties.county_id_fips) - set(new_projects_counties.county_id_fips))\n",
    "\n",
    "print(n_counties_with_projects_in_new_not_in_old)\n",
    "print(n_counties_with_projects_in_old_not_in_new)"
   ]
  },
  {
   "cell_type": "code",
   "execution_count": null,
   "id": "c07c6cbf-4989-47f3-81f9-6a7ff08a30fe",
   "metadata": {},
   "outputs": [],
   "source": [
    "print(len(old_projects_counties))\n",
    "print(len(new_projects_counties))"
   ]
  },
  {
   "cell_type": "markdown",
   "id": "0f5303c5-9af8-4536-8644-b03d368e22f0",
   "metadata": {},
   "source": [
    "## Make sure counties that don't have any ISO projects capacity remain unchanged"
   ]
  },
  {
   "cell_type": "code",
   "execution_count": null,
   "id": "aeb284db-416f-494d-a7ce-19f0357c05ae",
   "metadata": {},
   "outputs": [],
   "source": [
    "project_counties = old_projects_counties.merge(new_projects_counties, on=\"county_id_fips\", how=\"outer\", validate=\"1:1\", suffixes=(\"_old\", \"_new\"))"
   ]
  },
  {
   "cell_type": "code",
   "execution_count": null,
   "id": "6cee0549-f231-4e68-a5a1-e0626ff515b4",
   "metadata": {},
   "outputs": [],
   "source": [
    "project_counties[\"has_iso_project_old\"] = project_counties.has_iso_project_old.astype(\"boolean\")\n",
    "project_counties[\"has_iso_project_new\"] = project_counties.has_iso_project_new.astype(\"boolean\")"
   ]
  },
  {
   "cell_type": "code",
   "execution_count": null,
   "id": "63a8a454-0bfc-4543-82d8-040a023c5cc8",
   "metadata": {},
   "outputs": [],
   "source": [
    "print((~project_counties.has_iso_project_old).value_counts())\n",
    "print()\n",
    "print((~project_counties.has_iso_project_new).value_counts())"
   ]
  },
  {
   "cell_type": "markdown",
   "id": "eded13f5-0897-4700-bf09-009c44c86a23",
   "metadata": {},
   "source": [
    "Pretty similar number of counties that don't have any ISO projects. Lets plot them to make sure it makes sense with the ISO boundaries."
   ]
  },
  {
   "cell_type": "code",
   "execution_count": null,
   "id": "ea8dc6eb-38c4-4689-86c7-098d093d7e64",
   "metadata": {},
   "outputs": [],
   "source": [
    "is_county_without_iso_projects = (~project_counties.has_iso_project_new) & (~project_counties.has_iso_project_old)\n",
    "print(is_county_without_iso_projects.value_counts())\n",
    "\n",
    "counties_without_iso_projects = project_counties[is_county_without_iso_projects]"
   ]
  },
  {
   "cell_type": "code",
   "execution_count": null,
   "id": "71769541-b078-45b1-be27-05b40735fbca",
   "metadata": {},
   "outputs": [],
   "source": [
    "import plotly.offline as pyo\n",
    "pyo.init_notebook_mode()\n",
    "\n",
    "# https://stackoverflow.com/questions/52771328/plotly-chart-not-showing-in-jupyter-notebook\n",
    "from urllib.request import urlopen\n",
    "import json\n",
    "with urlopen('https://raw.githubusercontent.com/plotly/datasets/master/geojson-counties-fips.json') as response:\n",
    "    counties = json.load(response)\n",
    "\n",
    "\n",
    "import plotly.express as px\n",
    "\n",
    "fig = px.choropleth(counties_without_iso_projects, geojson=counties, locations='county_id_fips', color='has_iso_project_new',\n",
    "                           color_continuous_scale=\"RdYlGn\",\n",
    "                           range_color=(-4, 4),\n",
    "                           scope=\"usa\",\n",
    "                           labels={'has_iso_project_new': \"Counties that don't have any ISO projects in new and old data\"},\n",
    "                          )\n",
    "fig.update_layout(margin={\"r\":0,\"t\":0,\"l\":0,\"b\":0})\n"
   ]
  },
  {
   "cell_type": "markdown",
   "id": "37c05446-e4aa-4129-997c-4b46892d44db",
   "metadata": {},
   "source": [
    "Great! That rougly aligns with [ISO borders](https://hifld-geoplatform.opendata.arcgis.com/datasets/50f80920d36e435d9a34db2bd0fd3ad8/explore?location=32.163459%2C-97.519448%2C5.23)."
   ]
  },
  {
   "cell_type": "code",
   "execution_count": null,
   "id": "9d1573b9-912f-4389-a305-c2d710f4fdc3",
   "metadata": {},
   "outputs": [],
   "source": [
    "assert (counties_without_iso_projects.capacity_mw_old.eq(counties_without_iso_projects.capacity_mw_new)).all(), \"Capacity in counties without ISO projects has changed!\""
   ]
  },
  {
   "cell_type": "markdown",
   "id": "8db021e8-a705-4185-89a3-cd2209c8f1fe",
   "metadata": {},
   "source": [
    "## Compare overall capacity between new and old data amongst counties with ISO projects"
   ]
  },
  {
   "cell_type": "code",
   "execution_count": null,
   "id": "0d673028-d8f7-4fb0-96fc-8e3414bf7eac",
   "metadata": {},
   "outputs": [],
   "source": [
    "is_county_with_iso_projects = project_counties.has_iso_project_new | project_counties.has_iso_project_old\n",
    "print(is_county_with_iso_projects.value_counts())\n",
    "\n",
    "counties_with_iso_projects = project_counties[is_county_with_iso_projects].copy()"
   ]
  },
  {
   "cell_type": "code",
   "execution_count": null,
   "id": "ebe10ba7-a880-4791-9310-d68fd4e7b9eb",
   "metadata": {},
   "outputs": [],
   "source": [
    "counties_with_iso_projects[\"capacity_mw_diff\"] = (counties_with_iso_projects.capacity_mw_new - counties_with_iso_projects.capacity_mw_old)\n",
    "counties_with_iso_projects[\"capacity_mw_pct_change\"] = (counties_with_iso_projects[\"capacity_mw_diff\"] / counties_with_iso_projects.capacity_mw_old) * 100"
   ]
  },
  {
   "cell_type": "code",
   "execution_count": null,
   "id": "cea8bf6d-146e-498d-ae68-3a7fb54854dc",
   "metadata": {},
   "outputs": [],
   "source": [
    "print(counties_with_iso_projects.capacity_mw_diff.describe())"
   ]
  },
  {
   "cell_type": "code",
   "execution_count": null,
   "id": "be3a9ead-a0b2-43c6-9299-b00a0d8db3e9",
   "metadata": {},
   "outputs": [],
   "source": [
    "counties_with_iso_projects.groupby(\"primary_iso_region_new\").capacity_mw_diff.describe()"
   ]
  },
  {
   "cell_type": "code",
   "execution_count": null,
   "id": "25cf8753-b9fa-4be1-bfbe-7d30bd4ae8fa",
   "metadata": {},
   "outputs": [],
   "source": [
    "print(counties_with_iso_projects.capacity_mw_pct_change.abs().describe())\n",
    "print()\n",
    "counties_with_iso_projects.capacity_mw_pct_change.abs().plot.box()"
   ]
  },
  {
   "cell_type": "markdown",
   "id": "48843c63-dddd-4a03-b94a-bcfda6731446",
   "metadata": {},
   "source": [
    "Pretty good! 50% of counties capacity changed by no more than 1%. 75% of counties capacity changed by no more than 25%. "
   ]
  },
  {
   "cell_type": "code",
   "execution_count": null,
   "id": "b06925ca-450c-43fe-b4ec-9f3d9cc5eded",
   "metadata": {},
   "outputs": [],
   "source": [
    "counties_with_iso_projects.primary_iso_region_new.apply(type).value_counts()"
   ]
  },
  {
   "cell_type": "code",
   "execution_count": null,
   "id": "32db4dde-8c58-49d8-856f-7764e60b87b3",
   "metadata": {},
   "outputs": [],
   "source": [
    "counties_with_iso_projects[\"capacity_mw_abs_pct_change\"] = counties_with_iso_projects.capacity_mw_pct_change.abs()\n",
    "\n",
    "counties_with_iso_projects.groupby(\"primary_iso_region_new\").capacity_mw_pct_change.describe()"
   ]
  },
  {
   "cell_type": "markdown",
   "id": "6ea0a3c2-d594-4235-9d23-b93b96bd780d",
   "metadata": {},
   "source": [
    "- CAISO's distribution suggests it mostly went unchaned. Variability could be explained by the 4 month delay of the data.\n",
    "- ERCOT mostly went unchanged. Maybe a slight increase. Variability could be explained by the 4 month delay of the data.\n",
    "- It looks like ISONE generally increased which kind of makes sense given we have a whole other year of data for this ISO.\n",
    "- MISO's distribution suggests it mostly went unchaned with a slight increase. Variability could be explained by the 4 month delay of the data.\n",
    "- NYISO distribution suggests it mostly went unchaned. Variability could be explained by the 4 month delay of the data.\n",
    "- PJM distribution suggests it mostly went unchaned. Variability could be explained by the 4 month delay of the data.\n",
    "- Capacity change in SPP has a pretty wide distribution which could be explained by the additional year of data. "
   ]
  },
  {
   "cell_type": "code",
   "execution_count": null,
   "id": "fa155859-95de-42ea-a55d-a0c2d4682af6",
   "metadata": {},
   "outputs": [],
   "source": [
    "fig = px.choropleth(counties_with_iso_projects, geojson=counties, locations='county_id_fips', color='capacity_mw_pct_change',\n",
    "                           color_continuous_scale=\"RdYlGn\",\n",
    "                           range_color=(-100, 100),\n",
    "                           scope=\"usa\",\n",
    "                           labels={'capacity_mw_pct_change': \"Capcity MW % change between old and new data\"},\n",
    "                          )\n",
    "fig.update_layout(margin={\"r\":0,\"t\":0,\"l\":0,\"b\":0})"
   ]
  },
  {
   "cell_type": "markdown",
   "id": "ceeb7733-818c-495d-aceb-22acd0d7a5f4",
   "metadata": {},
   "source": [
    "## Compare **actionable** capacity between new and old data amongst counties with ISO projecdts"
   ]
  },
  {
   "cell_type": "code",
   "execution_count": null,
   "id": "51a9c92b-2bac-45b2-9e2c-3e6f5439b781",
   "metadata": {},
   "outputs": [],
   "source": [
    "counties_with_iso_projects[\"actionable_capacity_mw_diff\"] = (counties_with_iso_projects.actionable_capacity_mw_new - counties_with_iso_projects.actionable_capacity_mw_old)\n",
    "counties_with_iso_projects[\"actionable_capacity_mw_diff_pct_change\"] = (counties_with_iso_projects[\"actionable_capacity_mw_diff\"] / counties_with_iso_projects.actionable_capacity_mw_old) * 100"
   ]
  },
  {
   "cell_type": "code",
   "execution_count": null,
   "id": "e0d75223-5d5d-44d3-9768-90497fe83372",
   "metadata": {},
   "outputs": [],
   "source": [
    "counties_with_iso_projects.groupby(\"primary_iso_region_new\").actionable_capacity_mw_diff_pct_change.describe()"
   ]
  },
  {
   "cell_type": "code",
   "execution_count": null,
   "id": "f13f19d6-f61c-4733-b96b-93bf9774eb48",
   "metadata": {},
   "outputs": [],
   "source": [
    "lbnl_projects[\"iso_region\"] = lbnl_projects[\"iso_region\"].replace(\"ISO-NE\", \"ISONE\")\n",
    "\n",
    "n_actionable_by_iso = pd.concat([lbnl_projects.groupby(\"iso_region\").is_actionable.sum(), gs_projects.groupby(\"iso_region\").is_actionable.sum()], axis=1)\n",
    "n_actionable_by_iso"
   ]
  },
  {
   "cell_type": "markdown",
   "id": "c028710c-dd68-46ed-a85e-c6cc4f53880b",
   "metadata": {},
   "source": [
    "- Significantly more projects marked actionable in new CAISO"
   ]
  },
  {
   "cell_type": "code",
   "execution_count": null,
   "id": "19496362-cd19-46ee-a4ed-9f9a9e3230fb",
   "metadata": {},
   "outputs": [],
   "source": [
    "fig = px.choropleth(counties_with_iso_projects, geojson=counties, locations='county_id_fips', color='actionable_capacity_mw_diff_pct_change',\n",
    "                           color_continuous_scale=\"RdYlGn\",\n",
    "                           range_color=(-100, 100),\n",
    "                           scope=\"usa\",\n",
    "                           labels={'actionable_capacity_mw_diff_pct_change': \"Actionable Capacity MW % change\"},\n",
    "                          )\n",
    "fig.update_layout(margin={\"r\":0,\"t\":0,\"l\":0,\"b\":0})\n"
   ]
  },
  {
   "cell_type": "markdown",
   "id": "f783c0b5-1955-40a2-b362-9929224b2fb3",
   "metadata": {},
   "source": [
    "### Compare nearly certain capacity"
   ]
  },
  {
   "cell_type": "code",
   "execution_count": null,
   "id": "a19ac690-a89a-4e0a-931c-94eaa6bce42a",
   "metadata": {},
   "outputs": [],
   "source": [
    "counties_with_iso_projects[\"nearly_certain_capacity_mw_diff\"] = (counties_with_iso_projects.nearly_certain_capacity_mw_new - counties_with_iso_projects.nearly_certain_capacity_mw_old)\n",
    "counties_with_iso_projects[\"nearly_certain_capacity_mw_diff_pct_change\"] = (counties_with_iso_projects[\"nearly_certain_capacity_mw_diff\"] / counties_with_iso_projects.nearly_certain_capacity_mw_old) * 100"
   ]
  },
  {
   "cell_type": "code",
   "execution_count": null,
   "id": "772cd436-fa72-4222-87df-38a070c957f2",
   "metadata": {},
   "outputs": [],
   "source": [
    "counties_with_iso_projects.groupby(\"primary_iso_region_new\").nearly_certain_capacity_mw_diff_pct_change.describe()"
   ]
  },
  {
   "cell_type": "code",
   "execution_count": null,
   "id": "4bec1205-ed7f-4e30-a71a-effbc8cbbfb1",
   "metadata": {},
   "outputs": [],
   "source": [
    "pd.concat([lbnl_projects.groupby(\"iso_region\").is_nearly_certain.sum(), gs_projects.groupby(\"iso_region\").is_nearly_certain.sum()], axis=1)"
   ]
  },
  {
   "cell_type": "markdown",
   "id": "18679cf5-d2c2-4faf-8526-9b222a9d3c85",
   "metadata": {},
   "source": [
    "- Significantly less number of projects marked nearly certain in new MISO data.\n",
    "- LBNL didn't mark any NYISO projects as nearly certain."
   ]
  },
  {
   "cell_type": "code",
   "execution_count": null,
   "id": "901ad58b-5712-4a2e-847d-8fefc3df7ca3",
   "metadata": {},
   "outputs": [],
   "source": [
    "fig = px.choropleth(counties_with_iso_projects, geojson=counties, locations='county_id_fips', color='nearly_certain_capacity_mw_diff_pct_change',\n",
    "                           color_continuous_scale=\"RdYlGn\",\n",
    "                           range_color=(-100, 100),\n",
    "                           scope=\"usa\",\n",
    "                           labels={'nearly_certain_capacity_mw_diff_pct_change': \"Counties that don't have any ISO projects in new and old data\"},\n",
    "                          )\n",
    "fig.update_layout(margin={\"r\":0,\"t\":0,\"l\":0,\"b\":0})\n"
   ]
  },
  {
   "cell_type": "markdown",
   "id": "67a6b586-7e98-4ab9-9c89-a8d4e8fcc06e",
   "metadata": {},
   "source": [
    "## Compare CO2 estimate"
   ]
  },
  {
   "cell_type": "code",
   "execution_count": null,
   "id": "c63428f0-00b9-45fc-9a52-be23e9b80868",
   "metadata": {},
   "outputs": [],
   "source": [
    "counties_with_iso_projects"
   ]
  },
  {
   "cell_type": "code",
   "execution_count": null,
   "id": "f1b81cfc-6ad8-45d3-ab73-bfdd74a06d70",
   "metadata": {},
   "outputs": [],
   "source": [
    "counties_with_iso_projects[\"co2e_tonnes_per_year_diff\"] = counties_with_iso_projects.co2e_tonnes_per_year_new - counties_with_iso_projects.co2e_tonnes_per_year_old\n",
    "counties_with_iso_projects[\"co2e_tonnes_per_year_pct_change\"] = counties_with_iso_projects[\"co2e_tonnes_per_year_diff\"].div(counties_with_iso_projects.co2e_tonnes_per_year_old) * 100"
   ]
  },
  {
   "cell_type": "code",
   "execution_count": null,
   "id": "52be0516-afc2-4040-bef6-fb8740be2077",
   "metadata": {},
   "outputs": [],
   "source": [
    "print(counties_with_iso_projects[counties_with_iso_projects.co2e_tonnes_per_year_old.ne(0)].co2e_tonnes_per_year_pct_change.describe())\n",
    "print()\n",
    "print(counties_with_iso_projects[counties_with_iso_projects.co2e_tonnes_per_year_new.ne(0)].co2e_tonnes_per_year_pct_change.describe())"
   ]
  },
  {
   "cell_type": "markdown",
   "id": "a3762ed1-ce91-4e9f-b4d8-59e6b7c02bc9",
   "metadata": {},
   "source": [
    "Great it looks like co2 estimates mostly stayed the same for counties with fossil fuel projets in the queue."
   ]
  },
  {
   "cell_type": "markdown",
   "id": "6799c0e5-8d9a-40a9-b3a3-3c87ea24a239",
   "metadata": {},
   "source": [
    "## Compare at project level"
   ]
  },
  {
   "cell_type": "code",
   "execution_count": null,
   "id": "6e07dab5-0c25-4820-ab1e-82edd0631753",
   "metadata": {},
   "outputs": [],
   "source": [
    "merged_projects = lbnl_projects.merge(gs_projects, how=\"outer\", on=(\"queue_id\", \"entity\"), suffixes=(\"_lbnl\", \"_gs\"))"
   ]
  },
  {
   "cell_type": "code",
   "execution_count": null,
   "id": "3134f3c8-8e72-44d0-aafe-f3a2430f687a",
   "metadata": {},
   "outputs": [],
   "source": [
    "miso = merged_projects.query(\"entity == 'MISO'\")\n",
    "miso.shape"
   ]
  },
  {
   "cell_type": "code",
   "execution_count": null,
   "id": "2527f8cd-c403-4d4b-80e3-fd41fc49fc4c",
   "metadata": {},
   "outputs": [],
   "source": [
    "is_nearly_certain_lbnl = miso.is_nearly_certain_lbnl.fillna(False)\n",
    "is_nearly_certain_gs = miso.is_nearly_certain_gs.fillna(False)\n",
    "print(is_nearly_certain_lbnl.value_counts())\n",
    "print(is_nearly_certain_gs.value_counts())"
   ]
  },
  {
   "cell_type": "code",
   "execution_count": null,
   "id": "81768167-5881-4349-a165-863aeecedaee",
   "metadata": {},
   "outputs": [],
   "source": [
    "miso[is_nearly_certain_lbnl].iso_region_gs.isna().value_counts()"
   ]
  },
  {
   "cell_type": "code",
   "execution_count": null,
   "id": "158cb3aa-f8da-49b1-930f-063ce7a35d9e",
   "metadata": {},
   "outputs": [],
   "source": [
    "miso[is_nearly_certain_lbnl].is_nearly_certain_gs.value_counts(dropna=False)"
   ]
  },
  {
   "cell_type": "code",
   "execution_count": null,
   "id": "53eeb0eb-68cc-4551-9017-cfd1e3ad1720",
   "metadata": {},
   "outputs": [],
   "source": [
    "miso.info()"
   ]
  },
  {
   "cell_type": "code",
   "execution_count": null,
   "id": "523653da-15f0-4717-b13f-b14f57f7795d",
   "metadata": {},
   "outputs": [],
   "source": [
    "miso[is_nearly_certain_lbnl][[\"interconnection_status_lbnl\", \"interconnection_status_gs\"]].value_counts(dropna=False)"
   ]
  },
  {
   "cell_type": "code",
   "execution_count": null,
   "id": "4631caaa-aa0b-41d2-9a6b-010624152044",
   "metadata": {},
   "outputs": [],
   "source": [
    "is_actionable_lbnl = miso.is_actionable_lbnl.fillna(False)\n",
    "is_actionable_gs = miso.is_actionable_gs.fillna(False)\n",
    "print(is_actionable_lbnl.value_counts())\n",
    "print(is_actionable_gs.value_counts())\n",
    "\n",
    "miso[is_actionable_gs][[\"interconnection_status_lbnl\", \"interconnection_status_gs\"]].value_counts(dropna=False)"
   ]
  },
  {
   "cell_type": "code",
   "execution_count": null,
   "id": "ebd5c85d-dbe1-467b-8997-1dc68dacd032",
   "metadata": {},
   "outputs": [],
   "source": [
    "miso[[\"interconnection_status_gs\", \"interconnection_status_lbnl\"]].value_counts(dropna=False)"
   ]
  },
  {
   "cell_type": "code",
   "execution_count": null,
   "id": "26ffe216-d41f-4dc6-ba74-70680ac9b710",
   "metadata": {},
   "outputs": [],
   "source": [
    "miso[miso.interconnection_status_gs.eq(\"PHASE 3\") & miso.interconnection_status_lbnl.eq(\"IA Executed\")][[\"date_proposed_online_lbnl\", \"date_proposed_online_gs\", \"date_entered_queue_lbnl\", \"date_entered_queue_gs\"]]"
   ]
  },
  {
   "cell_type": "code",
   "execution_count": null,
   "id": "b412c13c-884f-4ca5-bc73-8f488cabc282",
   "metadata": {},
   "outputs": [],
   "source": [
    "miso.head()"
   ]
  },
  {
   "cell_type": "code",
   "execution_count": null,
   "id": "55f06f84-0d57-48f6-b1db-6a08f3f6a026",
   "metadata": {},
   "outputs": [],
   "source": []
  }
 ],
 "metadata": {
  "kernelspec": {
   "display_name": "Python 3 (ipykernel)",
   "language": "python",
   "name": "python3"
  },
  "language_info": {
   "codemirror_mode": {
    "name": "ipython",
    "version": 3
   },
   "file_extension": ".py",
   "mimetype": "text/x-python",
   "name": "python",
   "nbconvert_exporter": "python",
   "pygments_lexer": "ipython3",
   "version": "3.10.12"
  }
 },
 "nbformat": 4,
 "nbformat_minor": 5
}
