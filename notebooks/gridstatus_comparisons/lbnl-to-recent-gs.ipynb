{
 "cells": [
  {
   "cell_type": "markdown",
   "id": "4012c949-f6fd-4fbc-8601-7fac99b753b4",
   "metadata": {},
   "source": [
    "## Purpose\n",
    "This notebooks compares some high level metrics about two versions of the `iso_projects_long_format`. This is helpful for running sanity checks when updating queue data."
   ]
  },
  {
   "cell_type": "code",
   "execution_count": null,
   "id": "57c9155c-f91f-4d71-a73e-16273b3d84bd",
   "metadata": {
    "tags": []
   },
   "outputs": [],
   "source": [
    "from dbcp.helpers import get_sql_engine\n",
    "import pandas as pd\n",
    "\n",
    "engine = get_sql_engine()\n",
    "\n",
    "# with engine.connect() as con:\n",
    "#     projects_long = pd.read_sql_table(\"iso_projects_long_format\", con, schema=\"data_mart\")\n",
    "    \n",
    "# projects_long = projects_long.convert_dtypes()\n",
    "# print(projects_long.date_entered_queue.max())\n",
    "# projects_long.to_parquet(\"iso_projects_long_format_gs.parquet\")"
   ]
  },
  {
   "cell_type": "markdown",
   "id": "59a4aa6a-1bfa-4331-a8dc-a72b375a42f2",
   "metadata": {
    "tags": []
   },
   "source": [
    "## Load projects"
   ]
  },
  {
   "cell_type": "code",
   "execution_count": null,
   "id": "f2144cc1-a3f2-436f-bc46-bbdf8b283f71",
   "metadata": {},
   "outputs": [],
   "source": [
    "import pandas as pd"
   ]
  },
  {
   "cell_type": "code",
   "execution_count": null,
   "id": "c5c14b8f-328e-4c7f-bc2a-c61d14997f50",
   "metadata": {},
   "outputs": [],
   "source": [
    "lbnl_projects = pd.read_parquet(\"iso_projects_long_format_lbnl.parquet\")\n",
    "gs_projects = pd.read_parquet(\"iso_projects_long_format_gs_jan_24.parquet\")\n",
    "\n",
    "print(gs_projects.date_entered_queue.max())\n",
    "print(lbnl_projects.date_entered_queue.max())"
   ]
  },
  {
   "cell_type": "code",
   "execution_count": null,
   "id": "87dc20cc-7e47-4a7f-a80e-15ba1c46a40e",
   "metadata": {},
   "outputs": [],
   "source": [
    "lbnl_projects[\"iso_region\"] = lbnl_projects[\"iso_region\"].str.replace(\"ISO-NE\", \"ISONE\")"
   ]
  },
  {
   "cell_type": "code",
   "execution_count": null,
   "id": "fcc99f4a-0acd-4111-85d6-6c5470edc23a",
   "metadata": {},
   "outputs": [],
   "source": [
    "gs_iso_region_max_queue_date = gs_projects[~gs_projects.iso_region.str.contains(\"non-ISO\")].groupby(\"iso_region\").date_entered_queue.max()\n",
    "gs_iso_region_max_queue_date"
   ]
  },
  {
   "cell_type": "code",
   "execution_count": null,
   "id": "01de4d66-2dbe-48f9-9c92-88947f8d3b58",
   "metadata": {},
   "outputs": [],
   "source": [
    "lbnl_iso_region_max_queue_date = lbnl_projects[~lbnl_projects.iso_region.str.contains(\"non-ISO\")].groupby(\"iso_region\").date_entered_queue.max()\n",
    "lbnl_iso_region_max_queue_date"
   ]
  },
  {
   "cell_type": "markdown",
   "id": "c5f96a1c-4936-49da-b618-de427278bc40",
   "metadata": {},
   "source": [
    "## Aggregate project dataframes by county"
   ]
  },
  {
   "cell_type": "code",
   "execution_count": null,
   "id": "92d6bb46-fc02-4fc0-a916-d9d61d3f6673",
   "metadata": {},
   "outputs": [],
   "source": [
    "def aggregate_iso_projects_by_count(df):\n",
    "\n",
    "    def contains_iso_project(grp):\n",
    "        return any([\"non-ISO\" not in region for region in grp if not isinstance(region, type(pd.NA))])\n",
    "    \n",
    "    def get_primary_iso(grp):\n",
    "        # There are 16 counties that have equal number of projects in multiple regions. Select the first one\n",
    "        return grp.mode().head(1)\n",
    "\n",
    "    agg_df = df.groupby(\"county_id_fips\").agg(\n",
    "        has_iso_project=pd.NamedAgg(column=\"iso_region\", aggfunc=contains_iso_project),\n",
    "        primary_iso_region=pd.NamedAgg(column=\"iso_region\", aggfunc=get_primary_iso),\n",
    "        capacity_mw=pd.NamedAgg(column=\"capacity_mw\", aggfunc=\"sum\"),\n",
    "        co2e_tonnes_per_year=pd.NamedAgg(column=\"co2e_tonnes_per_year\", aggfunc=\"sum\")\n",
    "    )\n",
    "    \n",
    "    def agg_actionable_mw(grp_df):\n",
    "        return grp_df[grp_df.is_actionable].capacity_mw.sum()\n",
    "\n",
    "    def agg_certain_mw(grp_df):\n",
    "        return grp_df[grp_df.is_nearly_certain].capacity_mw.sum()\n",
    "\n",
    "\n",
    "    agg_df[\"actionable_capacity_mw\"] = df.groupby(\"county_id_fips\").apply(agg_actionable_mw)\n",
    "    agg_df[\"nearly_certain_capacity_mw\"] = df.groupby(\"county_id_fips\").apply(agg_certain_mw)\n",
    "    \n",
    "    agg_df[\"actionable_n_projects\"] = df.groupby(\"county_id_fips\").is_actionable.sum()\n",
    "    agg_df[\"nearly_certain_n_projects\"] = df.groupby(\"county_id_fips\").is_nearly_certain.count()\n",
    "    return agg_df.reset_index()\n",
    "\n",
    "new_projects_counties = aggregate_iso_projects_by_count(gs_projects)\n",
    "old_projects_counties = aggregate_iso_projects_by_count(lbnl_projects)"
   ]
  },
  {
   "cell_type": "markdown",
   "id": "44d2ab53-6b17-40b6-b294-ba8654f59a66",
   "metadata": {},
   "source": [
    "## Number of counties with projects"
   ]
  },
  {
   "cell_type": "code",
   "execution_count": null,
   "id": "9d42e25e-8366-4326-98c1-384f2f34b1bf",
   "metadata": {},
   "outputs": [],
   "source": [
    "n_counties_with_projects_in_new_not_in_old = len(set(new_projects_counties.county_id_fips) - set(old_projects_counties.county_id_fips))\n",
    "n_counties_with_projects_in_old_not_in_new = len(set(old_projects_counties.county_id_fips) - set(new_projects_counties.county_id_fips))\n",
    "\n",
    "print(n_counties_with_projects_in_new_not_in_old)\n",
    "print(n_counties_with_projects_in_old_not_in_new)"
   ]
  },
  {
   "cell_type": "code",
   "execution_count": null,
   "id": "c07c6cbf-4989-47f3-81f9-6a7ff08a30fe",
   "metadata": {},
   "outputs": [],
   "source": [
    "print(len(old_projects_counties))\n",
    "print(len(new_projects_counties))"
   ]
  },
  {
   "cell_type": "code",
   "execution_count": null,
   "id": "70b0c420-0d45-4763-a32e-78cded10c43f",
   "metadata": {},
   "outputs": [],
   "source": [
    "project_counties = old_projects_counties.merge(new_projects_counties, on=\"county_id_fips\", how=\"outer\", validate=\"1:1\", suffixes=(\"_old\", \"_new\"))\n",
    "project_counties[\"has_iso_project_old\"] = project_counties.has_iso_project_old.astype(\"boolean\")\n",
    "project_counties[\"has_iso_project_new\"] = project_counties.has_iso_project_new.astype(\"boolean\")"
   ]
  },
  {
   "cell_type": "markdown",
   "id": "8db021e8-a705-4185-89a3-cd2209c8f1fe",
   "metadata": {},
   "source": [
    "## Compare overall capacity between new and old data amongst counties with ISO projects"
   ]
  },
  {
   "cell_type": "code",
   "execution_count": null,
   "id": "0d673028-d8f7-4fb0-96fc-8e3414bf7eac",
   "metadata": {},
   "outputs": [],
   "source": [
    "is_county_with_iso_projects = project_counties.has_iso_project_new | project_counties.has_iso_project_old\n",
    "print(is_county_with_iso_projects.value_counts())\n",
    "\n",
    "counties_with_iso_projects = project_counties[is_county_with_iso_projects].copy()"
   ]
  },
  {
   "cell_type": "code",
   "execution_count": null,
   "id": "ebe10ba7-a880-4791-9310-d68fd4e7b9eb",
   "metadata": {},
   "outputs": [],
   "source": [
    "counties_with_iso_projects[\"capacity_mw_diff\"] = (counties_with_iso_projects.capacity_mw_new - counties_with_iso_projects.capacity_mw_old)\n",
    "counties_with_iso_projects[\"capacity_mw_pct_change\"] = (counties_with_iso_projects[\"capacity_mw_diff\"] / counties_with_iso_projects.capacity_mw_old) * 100"
   ]
  },
  {
   "cell_type": "code",
   "execution_count": null,
   "id": "a9352df6-d905-4bda-87ba-acd583f00330",
   "metadata": {},
   "outputs": [],
   "source": [
    "counties_with_iso_projects[counties_with_iso_projects.primary_iso_region_new.eq(\"CAISO\")].capacity_mw_pct_change.plot.hist(bins=20)"
   ]
  },
  {
   "cell_type": "code",
   "execution_count": null,
   "id": "32db4dde-8c58-49d8-856f-7764e60b87b3",
   "metadata": {},
   "outputs": [],
   "source": [
    "counties_with_iso_projects[\"capacity_mw_abs_pct_change\"] = counties_with_iso_projects.capacity_mw_pct_change.abs()\n",
    "\n",
    "counties_with_iso_projects.groupby(\"primary_iso_region_new\").capacity_mw_pct_change.describe()"
   ]
  },
  {
   "cell_type": "code",
   "execution_count": null,
   "id": "fa155859-95de-42ea-a55d-a0c2d4682af6",
   "metadata": {},
   "outputs": [],
   "source": [
    "import plotly.offline as pyo\n",
    "pyo.init_notebook_mode()\n",
    "\n",
    "# https://stackoverflow.com/questions/52771328/plotly-chart-not-showing-in-jupyter-notebook\n",
    "from urllib.request import urlopen\n",
    "import json\n",
    "with urlopen('https://raw.githubusercontent.com/plotly/datasets/master/geojson-counties-fips.json') as response:\n",
    "    counties = json.load(response)\n",
    "\n",
    "\n",
    "import plotly.express as px\n",
    "\n",
    "fig = px.choropleth(counties_with_iso_projects, geojson=counties, locations='county_id_fips', color='capacity_mw_pct_change',\n",
    "                           color_continuous_scale=\"RdYlGn\",\n",
    "                           range_color=(-100, 100),\n",
    "                           scope=\"usa\",\n",
    "                           labels={'capacity_mw_pct_change': \"Capcity MW % change between old and new data\"},\n",
    "                          )\n",
    "fig.update_layout(margin={\"r\":0,\"t\":0,\"l\":0,\"b\":0})"
   ]
  },
  {
   "cell_type": "markdown",
   "id": "48b7ccb9-c6ed-4487-86eb-617151839a26",
   "metadata": {},
   "source": [
    "## Compare  renewable + storage total capacity in each ISO Region"
   ]
  },
  {
   "cell_type": "code",
   "execution_count": null,
   "id": "b5fe0cba-bf15-4c4a-8127-008feb4bc453",
   "metadata": {},
   "outputs": [],
   "source": [
    "clean_fuel = (\"renewable\", \"storage\")\n",
    "\n",
    "clean_gs_projects = gs_projects[gs_projects.resource_class.isin(clean_fuel)]\n",
    "clean_lbnl_projects = lbnl_projects[lbnl_projects.resource_class.isin(clean_fuel)]\n",
    "\n",
    "iso_pct_change = (clean_gs_projects.groupby(\"iso_region\").capacity_mw.sum() - clean_lbnl_projects.groupby(\"iso_region\").capacity_mw.sum()) / clean_lbnl_projects.groupby(\"iso_region\").capacity_mw.sum() * 100\n",
    "iso_pct_change = iso_pct_change.round()\n",
    "iso_pct_change"
   ]
  },
  {
   "cell_type": "markdown",
   "id": "38fbbc59-3b9f-4aa9-9017-c44e602884f6",
   "metadata": {},
   "source": [
    "### Number of month delay between LBNL and GS data"
   ]
  },
  {
   "cell_type": "code",
   "execution_count": null,
   "id": "73facf12-501d-49cf-b9bd-4ad2e8fa04c5",
   "metadata": {},
   "outputs": [],
   "source": [
    "(gs_iso_region_max_queue_date - lbnl_iso_region_max_queue_date).astype('timedelta64[M]')"
   ]
  },
  {
   "cell_type": "code",
   "execution_count": null,
   "id": "fb66a3fe-be67-4d69-b157-7e81be164ecd",
   "metadata": {},
   "outputs": [],
   "source": [
    "ax = iso_pct_change.plot.bar(xlabel='ISO Region', ylabel='% change between LBNL and GS')\n",
    "ax.bar_label(ax.containers[0])\n",
    "ax"
   ]
  },
  {
   "cell_type": "markdown",
   "id": "a9d9c2ae-eeef-4277-9c01-44dacc299149",
   "metadata": {},
   "source": [
    "- Did CAISO renewable capacity really go down in 7 months?\n",
    "- ERCOT and SPP seem like reasonable increases.\n",
    "- Did ISONE AND NYISO really go up that much?\n",
    "- Did MISO really go down 28%?"
   ]
  }
 ],
 "metadata": {
  "kernelspec": {
   "display_name": "Python 3 (ipykernel)",
   "language": "python",
   "name": "python3"
  },
  "language_info": {
   "codemirror_mode": {
    "name": "ipython",
    "version": 3
   },
   "file_extension": ".py",
   "mimetype": "text/x-python",
   "name": "python",
   "nbconvert_exporter": "python",
   "pygments_lexer": "ipython3",
   "version": "3.10.12"
  }
 },
 "nbformat": 4,
 "nbformat_minor": 5
}
