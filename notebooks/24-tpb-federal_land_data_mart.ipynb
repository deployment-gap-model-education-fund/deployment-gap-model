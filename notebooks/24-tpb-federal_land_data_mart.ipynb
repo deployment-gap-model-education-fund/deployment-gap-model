{
 "cells": [
  {
   "cell_type": "code",
   "execution_count": 1,
   "id": "4b3d5837-54f4-442a-b6ae-4f4b0ae912ac",
   "metadata": {},
   "outputs": [
    {
     "name": "stderr",
     "output_type": "stream",
     "text": [
      "/app/.local/lib/python3.9/site-packages/geopandas/_compat.py:111: UserWarning: The Shapely GEOS version (3.10.3-CAPI-1.16.1) is incompatible with the GEOS version PyGEOS was compiled with (3.10.1-CAPI-1.16.0). Conversions between both will be slow.\n",
      "  warnings.warn(\n"
     ]
    }
   ],
   "source": [
    "from dbcp.helpers import get_sql_engine\n",
    "import pandas as pd\n",
    "import numpy as np"
   ]
  },
  {
   "cell_type": "code",
   "execution_count": 2,
   "id": "e6371787-ceea-426d-b970-b4eded8e4d8e",
   "metadata": {},
   "outputs": [],
   "source": [
    "eng = get_sql_engine()"
   ]
  },
  {
   "cell_type": "code",
   "execution_count": 3,
   "id": "8c87a335-c3c0-4dc7-b298-12dfad70dea3",
   "metadata": {},
   "outputs": [],
   "source": [
    "q = \"\"\"\n",
    "select\n",
    "    county_id_fips,\n",
    "    gap_status,\n",
    "    manager_type,\n",
    "    intersection_area_padus_km2,\n",
    "    county_land_area_sq_meters / 1000000 as county_land_area_km2,\n",
    "    county_area_coast_clipped_km2\n",
    "from data_warehouse.protected_area_by_county\n",
    "\"\"\"\n",
    "pad = pd.read_sql(q, eng)"
   ]
  },
  {
   "cell_type": "code",
   "execution_count": 4,
   "id": "8d752b27-5fb1-4893-a1b5-b0ff7db1bf4d",
   "metadata": {},
   "outputs": [
    {
     "name": "stdout",
     "output_type": "stream",
     "text": [
      "<class 'pandas.core.frame.DataFrame'>\n",
      "RangeIndex: 263032 entries, 0 to 263031\n",
      "Data columns (total 6 columns):\n",
      " #   Column                         Non-Null Count   Dtype  \n",
      "---  ------                         --------------   -----  \n",
      " 0   county_id_fips                 263032 non-null  object \n",
      " 1   gap_status                     263032 non-null  object \n",
      " 2   manager_type                   263032 non-null  object \n",
      " 3   intersection_area_padus_km2    263032 non-null  float64\n",
      " 4   county_land_area_km2           263032 non-null  float64\n",
      " 5   county_area_coast_clipped_km2  263032 non-null  float64\n",
      "dtypes: float64(3), object(3)\n",
      "memory usage: 12.0+ MB\n"
     ]
    }
   ],
   "source": [
    "pad.info()"
   ]
  },
  {
   "cell_type": "code",
   "execution_count": 5,
   "id": "e584939f-8c99-4a5f-b78e-73e7a2b62a87",
   "metadata": {},
   "outputs": [],
   "source": [
    "county_areas = pad.groupby('county_id_fips')[['county_land_area_km2', 'county_area_coast_clipped_km2']].first()"
   ]
  },
  {
   "cell_type": "code",
   "execution_count": 6,
   "id": "6a17e21b-50ad-4edd-ba3a-c6fa8e20ed5d",
   "metadata": {},
   "outputs": [],
   "source": [
    "is_developable = pad['gap_status'].str.match('^[34]')\n",
    "is_federally_managed = pad['manager_type'] == 'Federal'"
   ]
  },
  {
   "cell_type": "code",
   "execution_count": 22,
   "id": "8c79c971-c290-4ada-8c8b-07e541547b7e",
   "metadata": {},
   "outputs": [
    {
     "data": {
      "text/plain": [
       "4 - no known mandate for biodiversity protection                                             155247\n",
       "3 - managed for multiple uses - subject to extractive (e.g. mining or logging) or OHV use     66494\n",
       "Name: gap_status, dtype: int64"
      ]
     },
     "execution_count": 22,
     "metadata": {},
     "output_type": "execute_result"
    }
   ],
   "source": [
    "pad.loc[is_developable, 'gap_status'].value_counts()"
   ]
  },
  {
   "cell_type": "code",
   "execution_count": 7,
   "id": "cf94b0d6-68ed-4f74-861b-27ed9e4e8bea",
   "metadata": {},
   "outputs": [],
   "source": [
    "federal_developable = pad.loc[is_developable & is_federally_managed, :].groupby('county_id_fips')['intersection_area_padus_km2'].sum().rename('fed_dev')\n",
    "un_developable = pad.loc[~is_developable, :].groupby('county_id_fips')['intersection_area_padus_km2'].sum().rename('protected')"
   ]
  },
  {
   "cell_type": "code",
   "execution_count": 24,
   "id": "67556ea7-20d1-4012-a678-0aa221ca4f51",
   "metadata": {},
   "outputs": [],
   "source": [
    "areas = pd.concat([county_areas, federal_developable, un_developable], axis=1, join='outer')"
   ]
  },
  {
   "cell_type": "code",
   "execution_count": 25,
   "id": "38cf52f3-3d72-4a32-8b93-16ab076e7de4",
   "metadata": {},
   "outputs": [
    {
     "data": {
      "text/plain": [
       "443549442.0"
      ]
     },
     "execution_count": 25,
     "metadata": {},
     "output_type": "execute_result"
    }
   ],
   "source": [
    "areas['fed_dev'].sum() * 247.1  # acres"
   ]
  },
  {
   "cell_type": "code",
   "execution_count": 26,
   "id": "049712e7-e414-4c89-a1cf-39d4348ab2fe",
   "metadata": {},
   "outputs": [
    {
     "name": "stdout",
     "output_type": "stream",
     "text": [
      "<class 'pandas.core.frame.DataFrame'>\n",
      "Index: 3110 entries, 01001 to 56045\n",
      "Data columns (total 4 columns):\n",
      " #   Column                         Non-Null Count  Dtype  \n",
      "---  ------                         --------------  -----  \n",
      " 0   county_land_area_km2           3110 non-null   float64\n",
      " 1   county_area_coast_clipped_km2  3110 non-null   float64\n",
      " 2   fed_dev                        1689 non-null   float64\n",
      " 3   protected                      2696 non-null   float64\n",
      "dtypes: float64(4)\n",
      "memory usage: 121.5+ KB\n"
     ]
    }
   ],
   "source": [
    "areas.info()"
   ]
  },
  {
   "cell_type": "code",
   "execution_count": 27,
   "id": "f2a211f6-8537-47b2-9c68-305f97d24451",
   "metadata": {},
   "outputs": [],
   "source": [
    "areas.loc[:,['fed_dev', 'protected']].fillna(0, inplace=True)"
   ]
  },
  {
   "cell_type": "code",
   "execution_count": 28,
   "id": "c4cbd066-9d23-46f8-b33f-ca2f4f43ee4b",
   "metadata": {},
   "outputs": [],
   "source": [
    "areas['unprotected'] = areas['county_area_coast_clipped_km2'] - areas['protected']\n",
    "areas['fed_fraction_of_developable'] = areas['fed_dev'] / areas['unprotected']"
   ]
  },
  {
   "cell_type": "code",
   "execution_count": 29,
   "id": "b27dc434-f67a-4932-91aa-3f1f817056c4",
   "metadata": {},
   "outputs": [
    {
     "data": {
      "text/plain": [
       "count    1514.000000\n",
       "mean        0.144890\n",
       "std         0.223433\n",
       "min         0.000000\n",
       "25%         0.000000\n",
       "50%         0.025016\n",
       "75%         0.205633\n",
       "max         1.158841\n",
       "Name: fed_fraction_of_developable, dtype: float64"
      ]
     },
     "execution_count": 29,
     "metadata": {},
     "output_type": "execute_result"
    }
   ],
   "source": [
    "areas['fed_fraction_of_developable'].describe()"
   ]
  },
  {
   "cell_type": "code",
   "execution_count": 30,
   "id": "e3abff5f-e2c5-40fd-bf12-e2dab7544f43",
   "metadata": {},
   "outputs": [
    {
     "data": {
      "text/plain": [
       "sum     1.000000\n",
       "mean    0.000322\n",
       "Name: fed_fraction_of_developable, dtype: float64"
      ]
     },
     "execution_count": 30,
     "metadata": {},
     "output_type": "execute_result"
    }
   ],
   "source": [
    "areas['fed_fraction_of_developable'].gt(1).agg(['sum', 'mean'])"
   ]
  },
  {
   "cell_type": "code",
   "execution_count": 31,
   "id": "3cbb8fa2-b963-4169-b05a-27402f9f6011",
   "metadata": {},
   "outputs": [
    {
     "data": {
      "text/plain": [
       "county_land_area_km2             4420.814008\n",
       "county_area_coast_clipped_km2    4491.000000\n",
       "fed_dev                          1160.000000\n",
       "protected                        3490.000000\n",
       "unprotected                      1001.000000\n",
       "fed_fraction_of_developable         1.158841\n",
       "Name: 02020, dtype: float64"
      ]
     },
     "execution_count": 31,
     "metadata": {},
     "output_type": "execute_result"
    }
   ],
   "source": [
    "areas.iloc[areas['fed_fraction_of_developable'].argmax(),:]"
   ]
  },
  {
   "cell_type": "code",
   "execution_count": 32,
   "id": "c76aff1b-33b7-44c0-a8fe-0ddcac362c30",
   "metadata": {},
   "outputs": [
    {
     "data": {
      "text/plain": [
       "31.8"
      ]
     },
     "execution_count": 32,
     "metadata": {},
     "output_type": "execute_result"
    }
   ],
   "source": [
    "# would need A LOT of maximally wrong rounding to create that error. is it possible? [Yes! There are like 550 areas that got rounded down to 0.]\n",
    "max_rounding_error = 5 # km2\n",
    "diff = 1160 - 1001\n",
    "diff / max_rounding_error # minimum errors needed"
   ]
  },
  {
   "cell_type": "code",
   "execution_count": 33,
   "id": "1c8d3fa0-6cc6-4461-8824-4e281027bb7f",
   "metadata": {},
   "outputs": [
    {
     "data": {
      "text/plain": [
       "<AxesSubplot: >"
      ]
     },
     "execution_count": 33,
     "metadata": {},
     "output_type": "execute_result"
    },
    {
     "data": {
      "image/png": "[encoded data removed]",
      "text/plain": [
       "<Figure size 640x480 with 1 Axes>"
      ]
     },
     "metadata": {},
     "output_type": "display_data"
    }
   ],
   "source": [
    "pad.query(\"county_id_fips == '02020'\")['intersection_area_padus_km2'].add(1e-2).transform(np.log10).hist(bins=50, log=True)"
   ]
  },
  {
   "cell_type": "code",
   "execution_count": 42,
   "id": "1cbc1881-c89e-4236-bdf1-13bbae467d8a",
   "metadata": {},
   "outputs": [
    {
     "data": {
      "text/plain": [
       "mean         0.957956\n",
       "sum     251973.000000\n",
       "Name: intersection_area_padus_km2, dtype: float64"
      ]
     },
     "execution_count": 42,
     "metadata": {},
     "output_type": "execute_result"
    }
   ],
   "source": [
    "# how many zeros overall?\n",
    "pad['intersection_area_padus_km2'].eq(0.0).agg(['mean', 'sum'])"
   ]
  },
  {
   "cell_type": "code",
   "execution_count": 43,
   "id": "e5dfbe82-fb01-43cb-b14c-bb0471b293ea",
   "metadata": {},
   "outputs": [
    {
     "data": {
      "text/plain": [
       "mean    0.0\n",
       "sum     0.0\n",
       "Name: intersection_area_padus_km2, dtype: float64"
      ]
     },
     "execution_count": 43,
     "metadata": {},
     "output_type": "execute_result"
    }
   ],
   "source": [
    "# how many nulls overall?\n",
    "pad['intersection_area_padus_km2'].isna().agg(['mean', 'sum'])"
   ]
  },
  {
   "cell_type": "code",
   "execution_count": 36,
   "id": "6ba1005d-24cb-4af2-80b8-9d7814803c43",
   "metadata": {},
   "outputs": [],
   "source": [
    "areas['error_check'] = (areas['fed_fraction_of_developable'] * areas['unprotected'])"
   ]
  },
  {
   "cell_type": "code",
   "execution_count": 41,
   "id": "f2b9d7f1-a78c-4213-91b6-a2b8cf506a2b",
   "metadata": {},
   "outputs": [
    {
     "data": {
      "text/plain": [
       "-21737387.0"
      ]
     },
     "execution_count": 41,
     "metadata": {},
     "output_type": "execute_result"
    }
   ],
   "source": [
    "(areas['error_check'].sum() - areas['fed_dev'].sum()) * 247.1  # acres"
   ]
  },
  {
   "cell_type": "markdown",
   "id": "bdb8e1e5-3e25-4638-8f94-e8e7d5f9905a",
   "metadata": {},
   "source": [
    "Error because of some combination of missing data and rounding."
   ]
  },
  {
   "cell_type": "code",
   "execution_count": 37,
   "id": "a986ace3-bab7-4650-a8cc-c7417714d4b5",
   "metadata": {},
   "outputs": [
    {
     "name": "stderr",
     "output_type": "stream",
     "text": [
      "/app/.local/lib/python3.9/site-packages/pandas/plotting/_matplotlib/core.py:1070: UserWarning: No data for colormapping provided via 'c'. Parameters 'cmap' will be ignored\n",
      "  scatter = ax.scatter(\n"
     ]
    },
    {
     "data": {
      "text/plain": [
       "<AxesSubplot: xlabel='error_check', ylabel='fed_dev'>"
      ]
     },
     "execution_count": 37,
     "metadata": {},
     "output_type": "execute_result"
    },
    {
     "data": {
      "image/png": "[encoded data removed]",
      "text/plain": [
       "<Figure size 640x480 with 1 Axes>"
      ]
     },
     "metadata": {},
     "output_type": "display_data"
    }
   ],
   "source": [
    "areas.transform(np.log10).plot.scatter('error_check', 'fed_dev', s=1, alpha=0.3)"
   ]
  },
  {
   "cell_type": "code",
   "execution_count": 34,
   "id": "b50c639a-8e7f-4908-9325-849c8a349860",
   "metadata": {},
   "outputs": [
    {
     "name": "stderr",
     "output_type": "stream",
     "text": [
      "/app/.local/lib/python3.9/site-packages/pandas/plotting/_matplotlib/core.py:1070: UserWarning: No data for colormapping provided via 'c'. Parameters 'cmap' will be ignored\n",
      "  scatter = ax.scatter(\n"
     ]
    },
    {
     "data": {
      "text/plain": [
       "<AxesSubplot: xlabel='county_land_area_km2', ylabel='county_area_coast_clipped_km2'>"
      ]
     },
     "execution_count": 34,
     "metadata": {},
     "output_type": "execute_result"
    },
    {
     "data": {
      "image/png": "[encoded data removed]",
      "text/plain": [
       "<Figure size 640x480 with 1 Axes>"
      ]
     },
     "metadata": {},
     "output_type": "display_data"
    }
   ],
   "source": [
    "areas.transform(np.log10).plot.scatter('county_land_area_km2', 'county_area_coast_clipped_km2', s=1, alpha=0.3)"
   ]
  },
  {
   "cell_type": "code",
   "execution_count": 44,
   "id": "aa78dc94-3c9b-481f-adb8-04ce41fdd8ef",
   "metadata": {},
   "outputs": [
    {
     "data": {
      "text/plain": [
       "438745818.0"
      ]
     },
     "execution_count": 44,
     "metadata": {},
     "output_type": "execute_result"
    }
   ],
   "source": [
    "pad.loc[pad['gap_status'].str.startswith('3') & pad['manager_type'].eq('Federal'), 'intersection_area_padus_km2'].sum() * 247.1"
   ]
  },
  {
   "cell_type": "code",
   "execution_count": 45,
   "id": "86894cb0-772a-455c-8f27-2cfa30c58d2e",
   "metadata": {},
   "outputs": [
    {
     "data": {
      "text/plain": [
       "4803624.0"
      ]
     },
     "execution_count": 45,
     "metadata": {},
     "output_type": "execute_result"
    }
   ],
   "source": [
    "pad.loc[pad['gap_status'].str.startswith('4') & pad['manager_type'].eq('Federal'), 'intersection_area_padus_km2'].sum() * 247.1"
   ]
  },
  {
   "cell_type": "code",
   "execution_count": 46,
   "id": "0e29caff-76b7-4ad9-bd99-7f53a33692a7",
   "metadata": {},
   "outputs": [
    {
     "data": {
      "text/plain": [
       "4 - no known mandate for biodiversity protection                                             155247\n",
       "3 - managed for multiple uses - subject to extractive (e.g. mining or logging) or OHV use     66494\n",
       "2 - managed for biodiversity - disturbance events suppressed                                  38256\n",
       "1 - managed for biodiversity - disturbance events proceed or are mimicked                      3035\n",
       "Name: gap_status, dtype: int64"
      ]
     },
     "execution_count": 46,
     "metadata": {},
     "output_type": "execute_result"
    }
   ],
   "source": [
    "pad['gap_status'].value_counts()"
   ]
  },
  {
   "cell_type": "code",
   "execution_count": 47,
   "id": "04bea603-7f08-4337-b982-297f4f0dfff5",
   "metadata": {},
   "outputs": [],
   "source": [
    "total_area = 9_147_593  # 50 states + DC per wikipedia"
   ]
  },
  {
   "cell_type": "code",
   "execution_count": 48,
   "id": "553cb52a-a4e7-4b3e-8d12-94b11c6886b9",
   "metadata": {},
   "outputs": [],
   "source": [
    "not_gap_4 = pad.loc[~pad['gap_status'].str.startswith('4'), 'intersection_area_padus_km2'].sum()"
   ]
  },
  {
   "cell_type": "code",
   "execution_count": 50,
   "id": "b8a4f10f-d2dd-4d71-8e82-3d2898e9f02e",
   "metadata": {},
   "outputs": [
    {
     "data": {
      "text/plain": [
       "1576506154.3"
      ]
     },
     "execution_count": 50,
     "metadata": {},
     "output_type": "execute_result"
    }
   ],
   "source": [
    "(total_area - not_gap_4) * 247.1"
   ]
  },
  {
   "cell_type": "code",
   "execution_count": 52,
   "id": "bd7a2e09-301b-4e0f-a98c-3a95999e9cf7",
   "metadata": {},
   "outputs": [
    {
     "data": {
      "text/plain": [
       "<AxesSubplot: >"
      ]
     },
     "execution_count": 52,
     "metadata": {},
     "output_type": "execute_result"
    },
    {
     "data": {
      "image/png": "[encoded data removed]",
      "text/plain": [
       "<Figure size 640x480 with 1 Axes>"
      ]
     },
     "metadata": {},
     "output_type": "display_data"
    }
   ],
   "source": [
    "areas['fed_fraction_of_developable'].hist(bins=50, log=True)"
   ]
  },
  {
   "cell_type": "code",
   "execution_count": 53,
   "id": "98980cb2-170d-4bf4-b4d2-6f6d51d671ee",
   "metadata": {},
   "outputs": [
    {
     "data": {
      "text/plain": [
       "mean      0.168167\n",
       "sum     523.000000\n",
       "Name: fed_fraction_of_developable, dtype: float64"
      ]
     },
     "execution_count": 53,
     "metadata": {},
     "output_type": "execute_result"
    }
   ],
   "source": [
    "areas['fed_fraction_of_developable'].gt(0.1).agg(['mean', 'sum'])"
   ]
  },
  {
   "cell_type": "code",
   "execution_count": null,
   "id": "2e312ddb-f410-49cf-8c4c-67a1310b1b16",
   "metadata": {},
   "outputs": [],
   "source": []
  }
 ],
 "metadata": {
  "kernelspec": {
   "display_name": "Python 3 (ipykernel)",
   "language": "python",
   "name": "python3"
  },
  "language_info": {
   "codemirror_mode": {
    "name": "ipython",
    "version": 3
   },
   "file_extension": ".py",
   "mimetype": "text/x-python",
   "name": "python",
   "nbconvert_exporter": "python",
   "pygments_lexer": "ipython3",
   "version": "3.9.14"
  }
 },
 "nbformat": 4,
 "nbformat_minor": 5
}
