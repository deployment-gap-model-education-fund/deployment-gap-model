{
 "cells": [
  {
   "cell_type": "markdown",
   "metadata": {},
   "source": []
  },
  {
   "cell_type": "code",
   "execution_count": 2,
   "metadata": {},
   "outputs": [],
   "source": [
    "import pandas as pd\n",
    "from google.cloud import storage"
   ]
  },
  {
   "cell_type": "code",
   "execution_count": 74,
   "metadata": {},
   "outputs": [],
   "source": [
    "# Save old Ballot Ready data locally\n",
    "client = storage.Client()\n",
    "bucket = client.bucket(\"dgm-archive\")\n",
    "blobs = bucket.list_blobs(prefix=\"ballot_ready/Climate Partners_Upcoming Races_All Tiers_20240524.csv\", versions=True)\n",
    "for i, blob in enumerate(blobs):\n",
    "    if i>1:\n",
    "        exit # There should only be one file that has this name.\n",
    "    blob.download_to_filename(\"ballot_ready_2024_05_24.csv\")"
   ]
  },
  {
   "cell_type": "code",
   "execution_count": 15,
   "metadata": {},
   "outputs": [
    {
     "name": "stderr",
     "output_type": "stream",
     "text": [
      "/home/thinky/miniforge3/envs/dbcp-dev/lib/python3.10/site-packages/google/auth/_default.py:76: UserWarning: Your application has authenticated using end user credentials from Google Cloud SDK without a quota project. You might receive a \"quota exceeded\" or \"API not enabled\" error. See the following page for troubleshooting: https://cloud.google.com/docs/authentication/adc-troubleshooting/user-creds. \n",
      "  warnings.warn(_CLOUD_SDK_CREDENTIALS_WARNING)\n",
      "/home/thinky/miniforge3/envs/dbcp-dev/lib/python3.10/site-packages/google/auth/_default.py:76: UserWarning: Your application has authenticated using end user credentials from Google Cloud SDK without a quota project. You might receive a \"quota exceeded\" or \"API not enabled\" error. See the following page for troubleshooting: https://cloud.google.com/docs/authentication/adc-troubleshooting/user-creds. \n",
      "  warnings.warn(_CLOUD_SDK_CREDENTIALS_WARNING)\n"
     ]
    }
   ],
   "source": [
    "# Save old Ballot Ready data locally\n",
    "client = storage.Client()\n",
    "bucket = client.bucket(\"dgm-archive\")\n",
    "blobs = bucket.list_blobs(prefix=\"ballot_ready/Climate Partners_Upcoming Races_2025-2026_20240826.csv\", versions=True)\n",
    "for i, blob in enumerate(blobs):\n",
    "    if i>1:\n",
    "        exit # There should only be one file that has this name.\n",
    "    blob.download_to_filename(\"ballot_ready_2024_08_26.csv\")"
   ]
  },
  {
   "cell_type": "code",
   "execution_count": 16,
   "metadata": {},
   "outputs": [
    {
     "name": "stderr",
     "output_type": "stream",
     "text": [
      "/tmp/ipykernel_69213/1466442055.py:2: DtypeWarning: Columns (11) have mixed types. Specify dtype option on import or set low_memory=False.\n",
      "  old_br = pd.read_csv(\"ballot_ready_2024_05_24.csv\")\n"
     ]
    }
   ],
   "source": [
    "# Import old Ballot Ready data\n",
    "old_br = pd.read_csv(\"ballot_ready_2024_05_24.csv\")\n",
    "# Import new Ballot Ready data\n",
    "new_br = pd.read_csv(\"ballot_ready_2024_08_26.csv\")"
   ]
  },
  {
   "cell_type": "code",
   "execution_count": null,
   "metadata": {},
   "outputs": [
    {
     "name": "stdout",
     "output_type": "stream",
     "text": [
      "Empty DataFrame\n",
      "Columns: [id, election_id, election_name, election_day, race_id, geofence_id, is_primary, is_runoff, is_unexpired, position_id, mtfcc, geo_id, position_name, sub_area_name, sub_area_value, sub_area_name_secondary, sub_area_value_secondary, state, level, tier, is_judicial, is_retention, number_of_seats, normalized_position_id, normalized_position_name, position_description, frequency, reference_year, partisan_type, counties, race_created_at, race_updated_at]\n",
      "Index: []\n",
      "\n",
      "[0 rows x 32 columns]\n",
      "Empty DataFrame\n",
      "Columns: [id, election_id, election_name, election_day, race_id, geofence_id, is_primary, is_runoff, is_unexpired, position_id, mtfcc, geo_id, position_name, sub_area_name, sub_area_value, sub_area_name_secondary, sub_area_value_secondary, state, level, tier, is_judicial, is_retention, number_of_seats, normalized_position_id, normalized_position_name, position_description, frequency, reference_year, partisan_type, counties, race_created_at, race_updated_at]\n",
      "Index: []\n",
      "\n",
      "[0 rows x 32 columns]\n",
      "Empty DataFrame\n",
      "Columns: [id, election_id, election_name, election_day, race_id, geofence_id, is_primary, is_runoff, is_unexpired, position_id, mtfcc, geo_id, position_name, sub_area_name, sub_area_value, sub_area_name_secondary, sub_area_value_secondary, state, level, tier, is_judicial, is_retention, number_of_seats, normalized_position_id, normalized_position_name, position_description, frequency, reference_year, partisan_type, counties, race_created_at, race_updated_at]\n",
      "Index: []\n",
      "\n",
      "[0 rows x 32 columns]\n"
     ]
    }
   ],
   "source": [
    "# Confirm the data doesn't overlap:\n",
    "print(new_br[new_br.election_id.isin(old_br.election_id)]) # Elections?\n",
    "print(new_br[new_br.race_id.isin(old_br.race_id)]) # Races?\n",
    "print(new_br[new_br.election_day.isin(old_br.election_day)]) # Election timespans?"
   ]
  },
  {
   "cell_type": "code",
   "execution_count": null,
   "metadata": {},
   "outputs": [
    {
     "name": "stdout",
     "output_type": "stream",
     "text": [
      "Final election date in old data: 2024-12-14\n",
      "First election date in new  data: 2025-02-04\n"
     ]
    }
   ],
   "source": [
    "# Confirm by looking at dates covered.\n",
    "print(f\"Final election date in old data: {old_br.election_day.max()}\")\n",
    "print(f\"First election date in new  data: {new_br.election_day.min()}\")"
   ]
  },
  {
   "cell_type": "code",
   "execution_count": 78,
   "metadata": {},
   "outputs": [
    {
     "name": "stdout",
     "output_type": "stream",
     "text": [
      "New columns in the new data: set()\n",
      "Columns no longer in the new data: set()\n"
     ]
    }
   ],
   "source": [
    "# New columns in the data\n",
    "print(f\"New columns in the new data: {set(new_br.columns).difference(old_br.columns)}\")\n",
    "# Missing columns in the new data - None!\n",
    "print(f\"Columns no longer in the new data: {set(old_br.columns).difference(new_br.columns)}\")"
   ]
  },
  {
   "cell_type": "markdown",
   "metadata": {},
   "source": [
    "There are some geographic fields in the data that we aren't currently using. The [Ballot Ready](https://support.ballotready.org/interpreting-mtfcc-and-geoid) documentation notes:\n",
    "\n",
    "\"Mtfcc and geo_id fields should be treated as pairs. Meaning that there could be more than one record in the census file with the same geo_id, but the mtfcc value identifies the type of census entity. BallotReady datasets should be joined to the census file on both the mtfcc and geo_id.\"\n",
    "\n",
    "\"mtfcc values that start with X will not have any corresponding entry in the census file. These mtfcc/geo_id pairs are for custom boundaries that BallotReady collected, that are not available via the census. Note that there's not one clear explanation about how to use the custom mtfcc values.\""
   ]
  },
  {
   "cell_type": "code",
   "execution_count": null,
   "metadata": {},
   "outputs": [
    {
     "data": {
      "text/plain": [
       "0    G5420\n",
       "1    G5420\n",
       "2    X0102\n",
       "3    X0102\n",
       "4    G5420\n",
       "Name: mtfcc, dtype: object"
      ]
     },
     "execution_count": 37,
     "metadata": {},
     "output_type": "execute_result"
    }
   ],
   "source": [
    "new_br.mtfcc.head(5) # A 5 digit MAF/TIGER feature class code. Those starting with X come from Ballot Ready's research."
   ]
  },
  {
   "cell_type": "code",
   "execution_count": null,
   "metadata": {},
   "outputs": [
    {
     "data": {
      "text/plain": [
       "2        770\n",
       "4        992\n",
       "5      64599\n",
       "7     102909\n",
       "8          2\n",
       "9         12\n",
       "10     75211\n",
       "12      8605\n",
       "13         4\n",
       "15        14\n",
       "16         6\n",
       "Name: geo_id, dtype: int64"
      ]
     },
     "execution_count": 44,
     "metadata": {},
     "output_type": "execute_result"
    }
   ],
   "source": [
    "# GEO IDs vary in length based on what information they contain.\n",
    "# https://www.census.gov/programs-surveys/geography/guidance/geo-identifiers.html\n",
    "new_br.geo_id.str.len().value_counts().sort_index()\n",
    "# 2: State FIPS\n",
    "# 4: State FIPS + Congressional district\n",
    "# 5: State FIPS + County FIPS\n",
    "# 7: State FIPS + 5-digit place\n",
    "# 8: Not a valid length described by the Census - e.g., 53059.C7 - need to be normalized\n",
    "# 9: Not a valid length described by the Census - e.g., 4205-2-13 - need to be normalized\n",
    "# 10: State FIPS + County FIPS + County sub-division\n",
    "# 12: State FIPS + County FIPS + Tract + Block Group\n",
    "# 13: Not a valid length described by the Census - e.g., 53063.8 R/S/B - need to be normalized\n",
    "# 15: State FIPS + County FIPS + Tract + Block\n",
    "# 16: State FIPS + County FIPS + Tract + Block + Suffix"
   ]
  },
  {
   "cell_type": "markdown",
   "metadata": {},
   "source": [
    "Regarding the `geofence_id`, the documentation notes:\n",
    "\"Depending on the scope of your export, there can be multiple geofences for the same mtfcc/geo_id pair that are distinguished by the valid_from and valid_to fields. That's how we track how the boundaries for a given political jurisdiction can change over time (due to redistricting, annexations, etc.).\""
   ]
  },
  {
   "cell_type": "code",
   "execution_count": 56,
   "metadata": {},
   "outputs": [
    {
     "data": {
      "text/plain": [
       "True"
      ]
     },
     "execution_count": 56,
     "metadata": {},
     "output_type": "execute_result"
    }
   ],
   "source": [
    "new_br.set_index(['race_id', 'geofence_id']).index.is_unique"
   ]
  },
  {
   "cell_type": "markdown",
   "metadata": {},
   "source": [
    "We don't see `valid_to` and `valid_from` fields in our CSV, and each race is only associated with one `geofence_id` in the data sample. For now, we use these fields to validate our geocoding, but until we need more granular data they don't seem to necessarily serve our use case better than the existing geocoding workflow."
   ]
  },
  {
   "cell_type": "markdown",
   "metadata": {},
   "source": [
    "### Transformed Data\n",
    "\n",
    "Let's compare the geo ID and the geocoded state and county FIPS columns to ensure geocoding works as expected."
   ]
  },
  {
   "cell_type": "code",
   "execution_count": 10,
   "metadata": {},
   "outputs": [
    {
     "name": "stdout",
     "output_type": "stream",
     "text": [
      "2025-02-04 00:00:00\n",
      "2026-12-12 00:00:00\n"
     ]
    }
   ],
   "source": [
    "transformed_br = pd.read_parquet('../../../data/output/data_mart/br_election_data.parquet')\n",
    "print(transformed_br.election_day.min())\n",
    "print(transformed_br.election_day.max())"
   ]
  },
  {
   "cell_type": "code",
   "execution_count": 13,
   "metadata": {},
   "outputs": [
    {
     "ename": "NameError",
     "evalue": "name 'old_br' is not defined",
     "output_type": "error",
     "traceback": [
      "\u001b[0;31m---------------------------------------------------------------------------\u001b[0m",
      "\u001b[0;31mNameError\u001b[0m                                 Traceback (most recent call last)",
      "Cell \u001b[0;32mIn[13], line 1\u001b[0m\n\u001b[0;32m----> 1\u001b[0m \u001b[43mold_br\u001b[49m\u001b[38;5;241m.\u001b[39minfo()\n",
      "\u001b[0;31mNameError\u001b[0m: name 'old_br' is not defined"
     ]
    }
   ],
   "source": [
    "old_br.info()"
   ]
  },
  {
   "cell_type": "code",
   "execution_count": 12,
   "metadata": {},
   "outputs": [
    {
     "name": "stdout",
     "output_type": "stream",
     "text": [
      "<class 'pandas.core.frame.DataFrame'>\n",
      "RangeIndex: 226079 entries, 0 to 226078\n",
      "Data columns (total 31 columns):\n",
      " #   Column                    Non-Null Count   Dtype         \n",
      "---  ------                    --------------   -----         \n",
      " 0   race_id                   226079 non-null  Int64         \n",
      " 1   is_primary                226079 non-null  boolean       \n",
      " 2   is_runoff                 226079 non-null  boolean       \n",
      " 3   is_unexpired              226079 non-null  boolean       \n",
      " 4   number_of_seats           226079 non-null  Int64         \n",
      " 5   race_created_at           226079 non-null  datetime64[ns]\n",
      " 6   race_updated_at           226079 non-null  datetime64[ns]\n",
      " 7   election_id               226079 non-null  Int64         \n",
      " 8   position_id               226079 non-null  Int64         \n",
      " 9   election_name             226079 non-null  string        \n",
      " 10  election_day              226079 non-null  datetime64[ns]\n",
      " 11  position_name             226079 non-null  string        \n",
      " 12  reference_year            226076 non-null  string        \n",
      " 13  sub_area_name             90098 non-null   string        \n",
      " 14  sub_area_value            98579 non-null   string        \n",
      " 15  sub_area_name_secondary   5170 non-null    string        \n",
      " 16  sub_area_value_secondary  5669 non-null    string        \n",
      " 17  level                     226079 non-null  string        \n",
      " 18  tier                      226079 non-null  Int64         \n",
      " 19  is_judicial               226079 non-null  boolean       \n",
      " 20  is_retention              226079 non-null  boolean       \n",
      " 21  normalized_position_id    226079 non-null  Int64         \n",
      " 22  normalized_position_name  226079 non-null  string        \n",
      " 23  frequency                 226076 non-null  string        \n",
      " 24  partisan_type             225721 non-null  string        \n",
      " 25  county_name               226079 non-null  string        \n",
      " 26  state_name                226079 non-null  string        \n",
      " 27  raw_county                226079 non-null  string        \n",
      " 28  raw_state                 226079 non-null  string        \n",
      " 29  state_id_fips             226079 non-null  string        \n",
      " 30  county_id_fips            226079 non-null  string        \n",
      "dtypes: Int64(6), boolean(5), datetime64[ns](3), string(17)\n",
      "memory usage: 48.3 MB\n"
     ]
    }
   ],
   "source": [
    "transformed_br.info()"
   ]
  }
 ],
 "metadata": {
  "kernelspec": {
   "display_name": "dbcp-dev",
   "language": "python",
   "name": "python3"
  },
  "language_info": {
   "codemirror_mode": {
    "name": "ipython",
    "version": 3
   },
   "file_extension": ".py",
   "mimetype": "text/x-python",
   "name": "python",
   "nbconvert_exporter": "python",
   "pygments_lexer": "ipython3",
   "version": "3.10.13"
  }
 },
 "nbformat": 4,
 "nbformat_minor": 2
}
