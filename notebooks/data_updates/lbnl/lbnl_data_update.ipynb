{
 "cells": [
  {
   "cell_type": "markdown",
   "id": "7bc197ec-67ad-4d09-85a3-4f5bf3ef34a1",
   "metadata": {},
   "source": [
    "# Update ETL with a new year of LBNL interconnection queue data\n",
    "\n",
    "Most of the meaningful changes are covered in the Queued Up report tabs that LBNL publishes with the data."
   ]
  },
  {
   "cell_type": "code",
   "execution_count": 1,
   "id": "2cf5c82b-5321-41ff-8812-ba45e41459f6",
   "metadata": {},
   "outputs": [],
   "source": [
    "%load_ext autoreload\n",
    "%autoreload 2"
   ]
  },
  {
   "cell_type": "code",
   "execution_count": 2,
   "id": "40ffbb41-d32b-4e98-b606-113363c2bfa3",
   "metadata": {},
   "outputs": [],
   "source": [
    "import pandas as pd\n",
    "import dbcp"
   ]
  },
  {
   "cell_type": "code",
   "execution_count": 3,
   "id": "ca87c815-046c-47c0-9eb0-a3045f241942",
   "metadata": {},
   "outputs": [],
   "source": [
    "pd.set_option('display.max_columns', None)"
   ]
  },
  {
   "cell_type": "markdown",
   "id": "f8b22854-a9ec-477c-b956-2ab8b06666b8",
   "metadata": {},
   "source": [
    "## Load raw data"
   ]
  },
  {
   "cell_type": "code",
   "execution_count": 4,
   "id": "d62a1f1d-d688-476f-916d-0569fb05ea78",
   "metadata": {},
   "outputs": [
    {
     "name": "stdout",
     "output_type": "stream",
     "text": [
      "(36441, 33)\n",
      "(32513, 29)\n"
     ]
    }
   ],
   "source": [
    "lbnl_uri = \"gs://dgm-archive/lbnl_iso_queue/queues_2024_clean_data.xlsx\"\n",
    "raw_lbnl_24 = dbcp.extract.lbnl_iso_queue.extract(lbnl_uri)[\"lbnl_iso_queue\"]\n",
    "\n",
    "lbnl_uri = \"gs://dgm-archive/lbnl_iso_queue/queues_2023_clean_data.xlsx\"\n",
    "raw_lbnl_23 = dbcp.extract.lbnl_iso_queue.extract(lbnl_uri)[\"lbnl_iso_queue\"]\n",
    "\n",
    "print(raw_lbnl_24.shape)\n",
    "print(raw_lbnl_23.shape)"
   ]
  },
  {
   "cell_type": "code",
   "execution_count": 5,
   "id": "f335c371-c75c-4579-9a3e-961902dcafce",
   "metadata": {},
   "outputs": [
    {
     "data": {
      "text/plain": [
       "{'cluster', 'county_state_pairs', 'fips_codes', 'project_type'}"
      ]
     },
     "execution_count": 5,
     "metadata": {},
     "output_type": "execute_result"
    }
   ],
   "source": [
    "set(raw_lbnl_24.columns) - set(raw_lbnl_23.columns)"
   ]
  },
  {
   "cell_type": "code",
   "execution_count": 6,
   "id": "9a82855b-4933-40d9-a633-c667244431cd",
   "metadata": {},
   "outputs": [
    {
     "data": {
      "text/plain": [
       "set()"
      ]
     },
     "execution_count": 6,
     "metadata": {},
     "output_type": "execute_result"
    }
   ],
   "source": [
    "set(raw_lbnl_23.columns) - set(raw_lbnl_24.columns)"
   ]
  },
  {
   "cell_type": "code",
   "execution_count": 7,
   "id": "db2b06a8-c693-4aa0-bd18-69dffc3f25af",
   "metadata": {},
   "outputs": [
    {
     "data": {
      "text/html": [
       "<div>\n",
       "<style scoped>\n",
       "    .dataframe tbody tr th:only-of-type {\n",
       "        vertical-align: middle;\n",
       "    }\n",
       "\n",
       "    .dataframe tbody tr th {\n",
       "        vertical-align: top;\n",
       "    }\n",
       "\n",
       "    .dataframe thead th {\n",
       "        text-align: right;\n",
       "    }\n",
       "</style>\n",
       "<table border=\"1\" class=\"dataframe\">\n",
       "  <thead>\n",
       "    <tr style=\"text-align: right;\">\n",
       "      <th></th>\n",
       "      <th>cluster</th>\n",
       "      <th>county_state_pairs</th>\n",
       "      <th>fips_codes</th>\n",
       "      <th>project_type</th>\n",
       "    </tr>\n",
       "  </thead>\n",
       "  <tbody>\n",
       "    <tr>\n",
       "      <th>0</th>\n",
       "      <td>NaN</td>\n",
       "      <td>Abbeville County, SC</td>\n",
       "      <td>45001.0</td>\n",
       "      <td>Generation</td>\n",
       "    </tr>\n",
       "    <tr>\n",
       "      <th>1</th>\n",
       "      <td>NaN</td>\n",
       "      <td>Abbeville County, SC</td>\n",
       "      <td>45001.0</td>\n",
       "      <td>Generation</td>\n",
       "    </tr>\n",
       "    <tr>\n",
       "      <th>2</th>\n",
       "      <td>NaN</td>\n",
       "      <td>Abbeville County, SC</td>\n",
       "      <td>45001.0</td>\n",
       "      <td>Generation</td>\n",
       "    </tr>\n",
       "    <tr>\n",
       "      <th>3</th>\n",
       "      <td>NaN</td>\n",
       "      <td>Abbeville County, SC</td>\n",
       "      <td>45001.0</td>\n",
       "      <td>Generation</td>\n",
       "    </tr>\n",
       "    <tr>\n",
       "      <th>4</th>\n",
       "      <td>NaN</td>\n",
       "      <td>Abbeville County, SC</td>\n",
       "      <td>45001.0</td>\n",
       "      <td>Generation</td>\n",
       "    </tr>\n",
       "    <tr>\n",
       "      <th>...</th>\n",
       "      <td>...</td>\n",
       "      <td>...</td>\n",
       "      <td>...</td>\n",
       "      <td>...</td>\n",
       "    </tr>\n",
       "    <tr>\n",
       "      <th>36436</th>\n",
       "      <td>NaN</td>\n",
       "      <td>Zavala, TX</td>\n",
       "      <td>48507.0</td>\n",
       "      <td>Generation</td>\n",
       "    </tr>\n",
       "    <tr>\n",
       "      <th>36437</th>\n",
       "      <td>NaN</td>\n",
       "      <td>Zavala, TX</td>\n",
       "      <td>48507.0</td>\n",
       "      <td>Generation</td>\n",
       "    </tr>\n",
       "    <tr>\n",
       "      <th>36438</th>\n",
       "      <td>NaN</td>\n",
       "      <td>NaN</td>\n",
       "      <td>NaN</td>\n",
       "      <td>NaN</td>\n",
       "    </tr>\n",
       "    <tr>\n",
       "      <th>36439</th>\n",
       "      <td>NaN</td>\n",
       "      <td>NaN</td>\n",
       "      <td>NaN</td>\n",
       "      <td>NaN</td>\n",
       "    </tr>\n",
       "    <tr>\n",
       "      <th>36440</th>\n",
       "      <td>NaN</td>\n",
       "      <td>NaN</td>\n",
       "      <td>NaN</td>\n",
       "      <td>NaN</td>\n",
       "    </tr>\n",
       "  </tbody>\n",
       "</table>\n",
       "<p>36441 rows × 4 columns</p>\n",
       "</div>"
      ],
      "text/plain": [
       "      cluster    county_state_pairs  fips_codes project_type\n",
       "0         NaN  Abbeville County, SC     45001.0   Generation\n",
       "1         NaN  Abbeville County, SC     45001.0   Generation\n",
       "2         NaN  Abbeville County, SC     45001.0   Generation\n",
       "3         NaN  Abbeville County, SC     45001.0   Generation\n",
       "4         NaN  Abbeville County, SC     45001.0   Generation\n",
       "...       ...                   ...         ...          ...\n",
       "36436     NaN            Zavala, TX     48507.0   Generation\n",
       "36437     NaN            Zavala, TX     48507.0   Generation\n",
       "36438     NaN                   NaN         NaN          NaN\n",
       "36439     NaN                   NaN         NaN          NaN\n",
       "36440     NaN                   NaN         NaN          NaN\n",
       "\n",
       "[36441 rows x 4 columns]"
      ]
     },
     "execution_count": 7,
     "metadata": {},
     "output_type": "execute_result"
    }
   ],
   "source": [
    "raw_lbnl_24[[\"cluster\", \"county_state_pairs\", \"fips_codes\", \"project_type\"]]"
   ]
  },
  {
   "cell_type": "markdown",
   "id": "946003cb-716d-4225-9ee7-ef5c0338ca61",
   "metadata": {},
   "source": [
    "# Look at transformed data"
   ]
  },
  {
   "cell_type": "code",
   "execution_count": 22,
   "id": "41c524b2-23b8-4f3b-91ad-1676a09f547b",
   "metadata": {},
   "outputs": [],
   "source": [
    "from dbcp.transform.lbnl_iso_queue import transform"
   ]
  },
  {
   "cell_type": "code",
   "execution_count": null,
   "id": "be81685b-05d4-47c5-bfee-f85ca5e70f56",
   "metadata": {},
   "outputs": [],
   "source": [
    "clean_24 = transform({\"lbnl_iso_queue\": raw_lbnl_24})"
   ]
  },
  {
   "cell_type": "code",
   "execution_count": 43,
   "id": "05bbeefa-fb2c-42a9-adc1-77f53b576bb7",
   "metadata": {},
   "outputs": [],
   "source": [
    "# add missing columns just to make sure the transform runs, these get dropped anyways\n",
    "raw_lbnl_23[\"fips_codes\"] = \"00000\"\n",
    "raw_lbnl_23[\"county_state_pairs\"] = \"county, state\""
   ]
  },
  {
   "cell_type": "code",
   "execution_count": null,
   "id": "8eba3b52-5435-4ed0-aaef-d6d7d9c10653",
   "metadata": {
    "scrolled": true
   },
   "outputs": [],
   "source": [
    "clean_23 = transform({\"lbnl_iso_queue\": raw_lbnl_23})"
   ]
  },
  {
   "cell_type": "code",
   "execution_count": 46,
   "id": "5450de08-38df-4d5a-935a-5e98776bd5a7",
   "metadata": {},
   "outputs": [],
   "source": [
    "proj_23 = clean_23[\"iso_projects\"]"
   ]
  },
  {
   "cell_type": "code",
   "execution_count": 47,
   "id": "cdbf213e-8e1f-4b77-894d-9e74db045786",
   "metadata": {},
   "outputs": [],
   "source": [
    "proj_24 = clean_24[\"iso_projects\"]"
   ]
  },
  {
   "cell_type": "code",
   "execution_count": 48,
   "id": "ca88747e-e0f9-403d-a3ab-0deaeb0461cd",
   "metadata": {},
   "outputs": [
    {
     "data": {
      "text/plain": [
       "withdrawn      15120\n",
       "active         10709\n",
       "operational     3895\n",
       "suspended        304\n",
       "Name: queue_status, dtype: int64"
      ]
     },
     "execution_count": 48,
     "metadata": {},
     "output_type": "execute_result"
    }
   ],
   "source": [
    "proj_23.queue_status.value_counts()"
   ]
  },
  {
   "cell_type": "code",
   "execution_count": 49,
   "id": "d61bdabf-1a0a-4f43-a2d0-ebc3077760ae",
   "metadata": {},
   "outputs": [
    {
     "data": {
      "text/plain": [
       "withdrawn      19105\n",
       "active          9885\n",
       "operational     4156\n",
       "suspended        509\n",
       "unknown            4\n",
       "Name: queue_status, dtype: int64"
      ]
     },
     "execution_count": 49,
     "metadata": {},
     "output_type": "execute_result"
    }
   ],
   "source": [
    "proj_24.queue_status.value_counts()"
   ]
  },
  {
   "cell_type": "code",
   "execution_count": 50,
   "id": "bda888a8-d432-4bee-bf36-d83ac0440896",
   "metadata": {},
   "outputs": [
    {
     "data": {
      "text/plain": [
       "0.5035300386306114"
      ]
     },
     "execution_count": 50,
     "metadata": {},
     "output_type": "execute_result"
    }
   ],
   "source": [
    "len(proj_23[proj_23.queue_status == \"withdrawn\"])/len(proj_23)"
   ]
  },
  {
   "cell_type": "code",
   "execution_count": 52,
   "id": "3ff16738-7f62-4cb5-8a7d-9b1bbe45c646",
   "metadata": {},
   "outputs": [
    {
     "data": {
      "text/plain": [
       "0.5676045039959595"
      ]
     },
     "execution_count": 52,
     "metadata": {},
     "output_type": "execute_result"
    }
   ],
   "source": [
    "len(proj_24[proj_24.queue_status == \"withdrawn\"])/len(proj_24)"
   ]
  },
  {
   "cell_type": "code",
   "execution_count": 51,
   "id": "3e9b5ac5-20ab-43ba-8775-7274667f3916",
   "metadata": {},
   "outputs": [
    {
     "data": {
      "text/plain": [
       "0.740375649393899"
      ]
     },
     "execution_count": 51,
     "metadata": {},
     "output_type": "execute_result"
    }
   ],
   "source": [
    "proj_23[\"withdrawn_date\"].isna().sum()/len(proj_23)"
   ]
  },
  {
   "cell_type": "code",
   "execution_count": 53,
   "id": "00c1a17a-3058-43a7-bc45-9bdc2f77d90b",
   "metadata": {},
   "outputs": [
    {
     "data": {
      "text/plain": [
       "0.7133307584895571"
      ]
     },
     "execution_count": 53,
     "metadata": {},
     "output_type": "execute_result"
    }
   ],
   "source": [
    "proj_24[\"withdrawn_date\"].isna().sum()/len(proj_24)"
   ]
  },
  {
   "cell_type": "markdown",
   "id": "46d0cd22-7305-446a-8c90-5e1d209a7255",
   "metadata": {},
   "source": [
    "# Look at data warehouse tables\n",
    "\n",
    "Run `make all` to generate new data warehouse tables"
   ]
  },
  {
   "cell_type": "code",
   "execution_count": 8,
   "id": "161726c7-d2a8-494a-a7bd-d49b122a1b80",
   "metadata": {},
   "outputs": [],
   "source": [
    "iso_projects = pd.read_parquet(\"/app/data/output/data_warehouse/iso_projects.parquet\")"
   ]
  },
  {
   "cell_type": "code",
   "execution_count": 9,
   "id": "48d58d89-25e6-4590-a583-5c669be02c34",
   "metadata": {},
   "outputs": [],
   "source": [
    "iso_rc = pd.read_parquet(\"/app/data/output/data_warehouse/iso_resource_capacity.parquet\")"
   ]
  },
  {
   "cell_type": "code",
   "execution_count": 10,
   "id": "375e5216-55c4-4a46-8744-b4eee3b9964a",
   "metadata": {},
   "outputs": [],
   "source": [
    "withdrawn = iso_projects[iso_projects.queue_status == \"withdrawn\"]"
   ]
  },
  {
   "cell_type": "code",
   "execution_count": 11,
   "id": "b504fb57-8764-473a-b193-2a76275fd146",
   "metadata": {},
   "outputs": [
    {
     "data": {
      "text/plain": [
       "0.49604815493326354"
      ]
     },
     "execution_count": 11,
     "metadata": {},
     "output_type": "execute_result"
    }
   ],
   "source": [
    "withdrawn[\"withdrawn_date\"].isna().sum()/len(withdrawn)"
   ]
  },
  {
   "cell_type": "code",
   "execution_count": 32,
   "id": "a26ea365-602e-4211-bc67-941754431130",
   "metadata": {},
   "outputs": [
    {
     "data": {
      "text/html": [
       "<div>\n",
       "<style scoped>\n",
       "    .dataframe tbody tr th:only-of-type {\n",
       "        vertical-align: middle;\n",
       "    }\n",
       "\n",
       "    .dataframe tbody tr th {\n",
       "        vertical-align: top;\n",
       "    }\n",
       "\n",
       "    .dataframe thead th {\n",
       "        text-align: right;\n",
       "    }\n",
       "</style>\n",
       "<table border=\"1\" class=\"dataframe\">\n",
       "  <thead>\n",
       "    <tr style=\"text-align: right;\">\n",
       "      <th></th>\n",
       "      <th>project_id</th>\n",
       "      <th>date_proposed_raw</th>\n",
       "      <th>developer</th>\n",
       "      <th>entity</th>\n",
       "      <th>interconnection_status_lbnl</th>\n",
       "      <th>interconnection_status_raw</th>\n",
       "      <th>point_of_interconnection</th>\n",
       "      <th>project_name</th>\n",
       "      <th>queue_date</th>\n",
       "      <th>actual_completion_date</th>\n",
       "      <th>withdrawn_date</th>\n",
       "      <th>actual_completion_date_raw</th>\n",
       "      <th>withdrawn_date_raw</th>\n",
       "      <th>queue_id</th>\n",
       "      <th>queue_status</th>\n",
       "      <th>queue_year</th>\n",
       "      <th>region</th>\n",
       "      <th>resource_type_lbnl</th>\n",
       "      <th>utility</th>\n",
       "      <th>year_proposed</th>\n",
       "      <th>date_proposed</th>\n",
       "      <th>interconnection_date</th>\n",
       "      <th>interconnection_date_raw</th>\n",
       "      <th>interconnection_service_type</th>\n",
       "      <th>project_type</th>\n",
       "      <th>cluster</th>\n",
       "      <th>queue_date_raw</th>\n",
       "      <th>is_actionable</th>\n",
       "      <th>is_nearly_certain</th>\n",
       "    </tr>\n",
       "  </thead>\n",
       "  <tbody>\n",
       "    <tr>\n",
       "      <th>31574</th>\n",
       "      <td>34253</td>\n",
       "      <td>47088.0</td>\n",
       "      <td>&lt;NA&gt;</td>\n",
       "      <td>BPA</td>\n",
       "      <td>In Progress (unknown study)</td>\n",
       "      <td>&lt;NA&gt;</td>\n",
       "      <td>Big Eddy-Ostrander No 1 500 kV</td>\n",
       "      <td>&lt;NA&gt;</td>\n",
       "      <td>2022-08-18</td>\n",
       "      <td>NaT</td>\n",
       "      <td>NaT</td>\n",
       "      <td>&lt;NA&gt;</td>\n",
       "      <td>&lt;NA&gt;</td>\n",
       "      <td>G0787</td>\n",
       "      <td>active</td>\n",
       "      <td>2022</td>\n",
       "      <td>West</td>\n",
       "      <td>Battery+Other¬†Storage</td>\n",
       "      <td>Bonneville Power Administration</td>\n",
       "      <td>2028</td>\n",
       "      <td>2028-12-01</td>\n",
       "      <td>NaT</td>\n",
       "      <td>&lt;NA&gt;</td>\n",
       "      <td>NRIS/ERIS</td>\n",
       "      <td>Generation</td>\n",
       "      <td>Transition Cluster</td>\n",
       "      <td>44791.0</td>\n",
       "      <td>False</td>\n",
       "      <td>False</td>\n",
       "    </tr>\n",
       "  </tbody>\n",
       "</table>\n",
       "</div>"
      ],
      "text/plain": [
       "       project_id date_proposed_raw developer entity  \\\n",
       "31574       34253           47088.0      <NA>    BPA   \n",
       "\n",
       "       interconnection_status_lbnl interconnection_status_raw  \\\n",
       "31574  In Progress (unknown study)                       <NA>   \n",
       "\n",
       "             point_of_interconnection project_name queue_date  \\\n",
       "31574  Big Eddy-Ostrander No 1 500 kV         <NA> 2022-08-18   \n",
       "\n",
       "      actual_completion_date withdrawn_date actual_completion_date_raw  \\\n",
       "31574                    NaT            NaT                       <NA>   \n",
       "\n",
       "      withdrawn_date_raw queue_id queue_status  queue_year region  \\\n",
       "31574               <NA>    G0787       active        2022   West   \n",
       "\n",
       "           resource_type_lbnl                          utility  year_proposed  \\\n",
       "31574  Battery+Other¬†Storage  Bonneville Power Administration           2028   \n",
       "\n",
       "      date_proposed interconnection_date interconnection_date_raw  \\\n",
       "31574    2028-12-01                  NaT                     <NA>   \n",
       "\n",
       "      interconnection_service_type project_type             cluster  \\\n",
       "31574                    NRIS/ERIS   Generation  Transition Cluster   \n",
       "\n",
       "      queue_date_raw  is_actionable  is_nearly_certain  \n",
       "31574        44791.0          False              False  "
      ]
     },
     "execution_count": 32,
     "metadata": {},
     "output_type": "execute_result"
    }
   ],
   "source": [
    "iso_projects[iso_projects.project_id == 34253]"
   ]
  },
  {
   "cell_type": "code",
   "execution_count": 36,
   "id": "a49d9023-f64f-44cd-8f86-f982e0e8c0b7",
   "metadata": {},
   "outputs": [
    {
     "data": {
      "text/html": [
       "<div>\n",
       "<style scoped>\n",
       "    .dataframe tbody tr th:only-of-type {\n",
       "        vertical-align: middle;\n",
       "    }\n",
       "\n",
       "    .dataframe tbody tr th {\n",
       "        vertical-align: top;\n",
       "    }\n",
       "\n",
       "    .dataframe thead th {\n",
       "        text-align: right;\n",
       "    }\n",
       "</style>\n",
       "<table border=\"1\" class=\"dataframe\">\n",
       "  <thead>\n",
       "    <tr style=\"text-align: right;\">\n",
       "      <th></th>\n",
       "      <th>capacity_mw</th>\n",
       "    </tr>\n",
       "    <tr>\n",
       "      <th>project_id</th>\n",
       "      <th></th>\n",
       "    </tr>\n",
       "  </thead>\n",
       "  <tbody>\n",
       "    <tr>\n",
       "      <th>34253</th>\n",
       "      <td>1200.0</td>\n",
       "    </tr>\n",
       "  </tbody>\n",
       "</table>\n",
       "</div>"
      ],
      "text/plain": [
       "            capacity_mw\n",
       "project_id             \n",
       "34253            1200.0"
      ]
     },
     "execution_count": 36,
     "metadata": {},
     "output_type": "execute_result"
    }
   ],
   "source": [
    "iso_rc[iso_rc.project_id == 34253].groupby(\"project_id\")[[\"capacity_mw\"]].sum()"
   ]
  },
  {
   "cell_type": "code",
   "execution_count": 29,
   "id": "c60d80bd-4c17-41ae-9e53-f7770e7c0d37",
   "metadata": {},
   "outputs": [
    {
     "data": {
      "text/html": [
       "<div>\n",
       "<style scoped>\n",
       "    .dataframe tbody tr th:only-of-type {\n",
       "        vertical-align: middle;\n",
       "    }\n",
       "\n",
       "    .dataframe tbody tr th {\n",
       "        vertical-align: top;\n",
       "    }\n",
       "\n",
       "    .dataframe thead th {\n",
       "        text-align: right;\n",
       "    }\n",
       "</style>\n",
       "<table border=\"1\" class=\"dataframe\">\n",
       "  <thead>\n",
       "    <tr style=\"text-align: right;\">\n",
       "      <th></th>\n",
       "      <th>queue_id</th>\n",
       "      <th>queue_status</th>\n",
       "      <th>queue_date</th>\n",
       "      <th>date_proposed</th>\n",
       "      <th>date_operational</th>\n",
       "      <th>date_withdrawn</th>\n",
       "      <th>interconnection_date</th>\n",
       "      <th>interconnection_status_raw</th>\n",
       "      <th>interconnection_status_lbnl</th>\n",
       "      <th>county_1</th>\n",
       "      <th>county_2</th>\n",
       "      <th>county_3</th>\n",
       "      <th>state</th>\n",
       "      <th>county_state_pairs</th>\n",
       "      <th>fips_codes</th>\n",
       "      <th>point_of_interconnection</th>\n",
       "      <th>region</th>\n",
       "      <th>project_name</th>\n",
       "      <th>utility</th>\n",
       "      <th>entity</th>\n",
       "      <th>developer</th>\n",
       "      <th>cluster</th>\n",
       "      <th>interconnection_service_type</th>\n",
       "      <th>project_type</th>\n",
       "      <th>resource_type_1</th>\n",
       "      <th>resource_type_2</th>\n",
       "      <th>resource_type_3</th>\n",
       "      <th>capacity_mw_resource_1</th>\n",
       "      <th>capacity_mw_resource_2</th>\n",
       "      <th>capacity_mw_resource_3</th>\n",
       "      <th>resource_type_lbnl</th>\n",
       "      <th>queue_year</th>\n",
       "      <th>year_proposed</th>\n",
       "    </tr>\n",
       "  </thead>\n",
       "  <tbody>\n",
       "    <tr>\n",
       "      <th>7260</th>\n",
       "      <td>G0697</td>\n",
       "      <td>active</td>\n",
       "      <td>44461.0</td>\n",
       "      <td>48549.0</td>\n",
       "      <td>NaN</td>\n",
       "      <td>NaN</td>\n",
       "      <td>NaN</td>\n",
       "      <td>NaN</td>\n",
       "      <td>In Progress (unknown study)</td>\n",
       "      <td>Crook</td>\n",
       "      <td>NaN</td>\n",
       "      <td>NaN</td>\n",
       "      <td>OR</td>\n",
       "      <td>Crook County, OR</td>\n",
       "      <td>41013.0</td>\n",
       "      <td>Ponderosa Substation 500 kV</td>\n",
       "      <td>West</td>\n",
       "      <td>NaN</td>\n",
       "      <td>Bonneville Power Administration</td>\n",
       "      <td>BPA</td>\n",
       "      <td>NaN</td>\n",
       "      <td>Transition Cluster</td>\n",
       "      <td>NRIS/ERIS</td>\n",
       "      <td>Generation</td>\n",
       "      <td>Solar</td>\n",
       "      <td>Battery</td>\n",
       "      <td>Pumped Storage</td>\n",
       "      <td>1200.0</td>\n",
       "      <td>1200.0</td>\n",
       "      <td>1200.0</td>\n",
       "      <td>Solar+Battery+Other¬†Storage</td>\n",
       "      <td>2021.0</td>\n",
       "      <td>2032.0</td>\n",
       "    </tr>\n",
       "  </tbody>\n",
       "</table>\n",
       "</div>"
      ],
      "text/plain": [
       "     queue_id queue_status  queue_date  date_proposed  date_operational  \\\n",
       "7260    G0697       active     44461.0        48549.0               NaN   \n",
       "\n",
       "      date_withdrawn  interconnection_date interconnection_status_raw  \\\n",
       "7260             NaN                   NaN                        NaN   \n",
       "\n",
       "      interconnection_status_lbnl county_1  county_2  county_3 state  \\\n",
       "7260  In Progress (unknown study)    Crook       NaN       NaN    OR   \n",
       "\n",
       "     county_state_pairs  fips_codes     point_of_interconnection region  \\\n",
       "7260   Crook County, OR     41013.0  Ponderosa Substation 500 kV   West   \n",
       "\n",
       "     project_name                          utility entity developer  \\\n",
       "7260          NaN  Bonneville Power Administration    BPA       NaN   \n",
       "\n",
       "                 cluster interconnection_service_type project_type  \\\n",
       "7260  Transition Cluster                    NRIS/ERIS   Generation   \n",
       "\n",
       "     resource_type_1 resource_type_2 resource_type_3  capacity_mw_resource_1  \\\n",
       "7260           Solar         Battery  Pumped Storage                  1200.0   \n",
       "\n",
       "      capacity_mw_resource_2  capacity_mw_resource_3  \\\n",
       "7260                  1200.0                  1200.0   \n",
       "\n",
       "                resource_type_lbnl  queue_year  year_proposed  \n",
       "7260  Solar+Battery+Other¬†Storage      2021.0         2032.0  "
      ]
     },
     "execution_count": 29,
     "metadata": {},
     "output_type": "execute_result"
    }
   ],
   "source": [
    "raw_lbnl_24[raw_lbnl_24.queue_id == \"G0697\"]"
   ]
  },
  {
   "cell_type": "code",
   "execution_count": 34,
   "id": "2d14c04e-248e-4482-a221-17a9eb458797",
   "metadata": {},
   "outputs": [
    {
     "data": {
      "text/html": [
       "<div>\n",
       "<style scoped>\n",
       "    .dataframe tbody tr th:only-of-type {\n",
       "        vertical-align: middle;\n",
       "    }\n",
       "\n",
       "    .dataframe tbody tr th {\n",
       "        vertical-align: top;\n",
       "    }\n",
       "\n",
       "    .dataframe thead th {\n",
       "        text-align: right;\n",
       "    }\n",
       "</style>\n",
       "<table border=\"1\" class=\"dataframe\">\n",
       "  <thead>\n",
       "    <tr style=\"text-align: right;\">\n",
       "      <th></th>\n",
       "      <th>queue_id</th>\n",
       "      <th>queue_status</th>\n",
       "      <th>queue_date</th>\n",
       "      <th>queue_year</th>\n",
       "      <th>interconnection_date</th>\n",
       "      <th>date_withdrawn</th>\n",
       "      <th>date_operational</th>\n",
       "      <th>entity</th>\n",
       "      <th>project_name</th>\n",
       "      <th>developer</th>\n",
       "      <th>utility</th>\n",
       "      <th>county_1</th>\n",
       "      <th>county_2</th>\n",
       "      <th>county_3</th>\n",
       "      <th>state</th>\n",
       "      <th>region</th>\n",
       "      <th>interconnection_service_type</th>\n",
       "      <th>point_of_interconnection</th>\n",
       "      <th>date_proposed</th>\n",
       "      <th>year_proposed</th>\n",
       "      <th>interconnection_status_raw</th>\n",
       "      <th>interconnection_status_lbnl</th>\n",
       "      <th>resource_type_lbnl</th>\n",
       "      <th>resource_type_1</th>\n",
       "      <th>resource_type_2</th>\n",
       "      <th>resource_type_3</th>\n",
       "      <th>capacity_mw_resource_1</th>\n",
       "      <th>capacity_mw_resource_2</th>\n",
       "      <th>capacity_mw_resource_3</th>\n",
       "    </tr>\n",
       "  </thead>\n",
       "  <tbody>\n",
       "    <tr>\n",
       "      <th>1781</th>\n",
       "      <td>G0697</td>\n",
       "      <td>active</td>\n",
       "      <td>9/22/2021</td>\n",
       "      <td>2021.0</td>\n",
       "      <td>NaN</td>\n",
       "      <td>NaN</td>\n",
       "      <td>NaN</td>\n",
       "      <td>BPA</td>\n",
       "      <td>NaN</td>\n",
       "      <td>NaN</td>\n",
       "      <td>BPA</td>\n",
       "      <td>crook</td>\n",
       "      <td>NaN</td>\n",
       "      <td>NaN</td>\n",
       "      <td>OR</td>\n",
       "      <td>West (non-ISO)</td>\n",
       "      <td>NRIS &amp; ERIS</td>\n",
       "      <td>Ponderosa Substation 500 kV</td>\n",
       "      <td>12/1/2025</td>\n",
       "      <td>2025.0</td>\n",
       "      <td>NaN</td>\n",
       "      <td>In Progress (unknown study)</td>\n",
       "      <td>Solar+Battery</td>\n",
       "      <td>Solar</td>\n",
       "      <td>Battery</td>\n",
       "      <td>NaN</td>\n",
       "      <td>650.0</td>\n",
       "      <td>650.0</td>\n",
       "      <td>NaN</td>\n",
       "    </tr>\n",
       "  </tbody>\n",
       "</table>\n",
       "</div>"
      ],
      "text/plain": [
       "     queue_id queue_status queue_date  queue_year interconnection_date  \\\n",
       "1781    G0697       active  9/22/2021      2021.0                  NaN   \n",
       "\n",
       "     date_withdrawn date_operational entity project_name developer utility  \\\n",
       "1781            NaN              NaN    BPA          NaN       NaN     BPA   \n",
       "\n",
       "     county_1 county_2 county_3 state          region  \\\n",
       "1781    crook      NaN      NaN    OR  West (non-ISO)   \n",
       "\n",
       "     interconnection_service_type     point_of_interconnection date_proposed  \\\n",
       "1781                  NRIS & ERIS  Ponderosa Substation 500 kV     12/1/2025   \n",
       "\n",
       "      year_proposed interconnection_status_raw  interconnection_status_lbnl  \\\n",
       "1781         2025.0                        NaN  In Progress (unknown study)   \n",
       "\n",
       "     resource_type_lbnl resource_type_1 resource_type_2 resource_type_3  \\\n",
       "1781      Solar+Battery           Solar         Battery             NaN   \n",
       "\n",
       "      capacity_mw_resource_1  capacity_mw_resource_2  capacity_mw_resource_3  \n",
       "1781                   650.0                   650.0                     NaN  "
      ]
     },
     "execution_count": 34,
     "metadata": {},
     "output_type": "execute_result"
    }
   ],
   "source": [
    "raw_lbnl_23[raw_lbnl_23.queue_id == \"G0697\"]"
   ]
  },
  {
   "cell_type": "markdown",
   "id": "d6425fdc-bf4b-41e0-b32b-2c8b0035a2f4",
   "metadata": {},
   "source": [
    "# Data Mart Tables\n",
    "The LBNL data is combined with GridStatus queue data to create data mart tables. Namely, the CAISO data from LBNL is used in the data mart tables and GridStatus provides the remaining ISOs. Refer to the GridStatus data update notebook to investigate changes in the data mart tables."
   ]
  },
  {
   "cell_type": "code",
   "execution_count": null,
   "id": "509b0af8-5a1d-4317-8b06-30bebd1dd0a0",
   "metadata": {},
   "outputs": [],
   "source": []
  }
 ],
 "metadata": {
  "kernelspec": {
   "display_name": "Python 3 (ipykernel)",
   "language": "python",
   "name": "python3"
  },
  "language_info": {
   "codemirror_mode": {
    "name": "ipython",
    "version": 3
   },
   "file_extension": ".py",
   "mimetype": "text/x-python",
   "name": "python",
   "nbconvert_exporter": "python",
   "pygments_lexer": "ipython3",
   "version": "3.10.19"
  }
 },
 "nbformat": 4,
 "nbformat_minor": 5
}
