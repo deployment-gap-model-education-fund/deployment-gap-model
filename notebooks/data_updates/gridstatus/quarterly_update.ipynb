{
 "cells": [
  {
   "cell_type": "code",
   "execution_count": 2,
   "id": "537fc080-51d5-43fb-8780-33ac2c2a5228",
   "metadata": {},
   "outputs": [],
   "source": [
    "import dbcp\n",
    "from dbcp.extract.gridstatus_isoqueues import ISO_QUEUE_VERSIONS\n",
    "import pandas as pd"
   ]
  },
  {
   "cell_type": "markdown",
   "id": "8e7c16a6-ad86-40ef-b5cd-3a10e07d112f",
   "metadata": {},
   "source": [
    "## Get latest generation number for archives\n",
    "Each time the [gridstatus archiver](https://github.com/deployment-gap-model-education-fund/deployment-gap-model-archiver) is run, GCS creates a new generation number for the new version of the data. The follow code grabs the latest generation number of the interconneciton queue data for each ISO."
   ]
  },
  {
   "cell_type": "code",
   "execution_count": 3,
   "id": "a89c74f3-79e6-4d52-b0d9-70b04544b417",
   "metadata": {},
   "outputs": [
    {
     "name": "stdout",
     "output_type": "stream",
     "text": [
      "2025-01-29 13:11:50.903000+00:00\n",
      "2025-01-29 13:11:51.194000+00:00\n",
      "2025-01-29 13:11:51.524000+00:00\n",
      "2025-01-29 13:11:51.823000+00:00\n",
      "2025-01-29 13:11:52.130000+00:00\n",
      "2025-01-29 13:11:52.425000+00:00\n",
      "2025-01-29 13:11:52.727000+00:00\n"
     ]
    }
   ],
   "source": [
    "from google.cloud import storage\n",
    "from datetime import datetime\n",
    "\n",
    "def get_generation_number_closest_to_date(bucket_name, blob_name, target_date):\n",
    "    \"\"\"Find the first GCS blob that was modified after the target_date.\"\"\"\n",
    "    client = storage.Client()\n",
    "    bucket = client.bucket(bucket_name)\n",
    "\n",
    "    # Enable listing versions of the blob\n",
    "    blobs = bucket.list_blobs(prefix=blob_name, versions=True)\n",
    "\n",
    "    # Filter and sort blobs by time difference\n",
    "    target_timestamp = target_date.timestamp()\n",
    "    \n",
    "    blobs = sorted(blobs, key=lambda blob: blob.updated.timestamp())\n",
    "\n",
    "    for blob in blobs:\n",
    "        last_modified = blob.updated.timestamp()\n",
    "\n",
    "        if target_timestamp < last_modified:\n",
    "            print(blob.updated)\n",
    "            return str(blob.generation)\n",
    "\n",
    "# Example usage\n",
    "bucket_name = \"dgm-archive\"\n",
    "target_date = datetime(2024, 12, 31)  # Specify the date you want to find closest to\n",
    "\n",
    "updated_iso_queue_version = ISO_QUEUE_VERSIONS.copy()\n",
    "\n",
    "for iso_region in ISO_QUEUE_VERSIONS.keys():\n",
    "    if iso_region == \"miso-pre-2017\":\n",
    "        continue\n",
    "    blob_name = f\"gridstatus/interconnection_queues/parquet/{iso_region}.parquet\"\n",
    "    updated_iso_queue_version[iso_region] = get_generation_number_closest_to_date(bucket_name, blob_name, target_date)\n"
   ]
  },
  {
   "cell_type": "markdown",
   "id": "c337d4d8-1b94-4ec9-a568-8b531930a423",
   "metadata": {},
   "source": [
    "Copy and past the old version numbers from `dbcp.extract.gridstatus_isoqueues.ISO_QUEUE_VERSIONS`."
   ]
  },
  {
   "cell_type": "code",
   "execution_count": 6,
   "id": "4e9d8f51-ba23-4a1f-8ac7-bd25f5cdd276",
   "metadata": {},
   "outputs": [],
   "source": [
    "old_queue_version = {\n",
    "    \"miso\": \"1728242350923420\",\n",
    "    \"miso-pre-2017\": \"1709776311574737\",\n",
    "    \"caiso\": \"1728242351254356\",\n",
    "    \"pjm\": \"1728242351606642\",\n",
    "    \"ercot\": \"1728242351929200\",\n",
    "    \"spp\": \"1728242352244156\",\n",
    "    \"nyiso\": \"1731568799445816\",\n",
    "    \"isone\": \"1728242352913470\",\n",
    "}"
   ]
  },
  {
   "cell_type": "code",
   "execution_count": 7,
   "id": "24d9143e-ee81-47e9-999a-a6c87b26e080",
   "metadata": {},
   "outputs": [],
   "source": [
    "old_iso_queues = dbcp.extract.gridstatus_isoqueues.extract(old_queue_version)\n",
    "new_iso_queues = dbcp.extract.gridstatus_isoqueues.extract(updated_iso_queue_version)"
   ]
  },
  {
   "cell_type": "markdown",
   "id": "eefc3252-07c8-41e5-ac83-a5e91069bcdd",
   "metadata": {},
   "source": [
    "## Compare max dates of raw data\n",
    "The follow code prints out the latest date a project entered a queue for each ISO in the old and new data. We should expect the latest project date in the new data to be larger than the that of the old data. There are currently two exceptions to this:\n",
    "\n",
    "1. CAISO: We haven't been able to figure out how CAISO publishes data about active projects in the interconneciton queue. The CAISO data from Gridstatus rarely updates so we rely on the LBNL data.\n",
    "2. PJM: PJM [is working through a backlog of projects](https://www.utilitydive.com/news/pjm-fast-track-reliability-projects-interconnection-queue-invenergy/729311/) and isn't accepting new projects until mid 2026."
   ]
  },
  {
   "cell_type": "code",
   "execution_count": 8,
   "id": "24357798-b604-4717-8179-9af8eec8a495",
   "metadata": {
    "tags": []
   },
   "outputs": [
    {
     "name": "stdout",
     "output_type": "stream",
     "text": [
      "miso\n",
      " - Old max date 2024-09-27 04:00:00+00:00\n",
      " - New max date 2025-02-19 05:00:00+00:00\n",
      "\n",
      "caiso\n",
      " - Old max date 2023-03-02 08:00:00\n",
      " - New max date 2023-03-02 08:00:00\n",
      "\n",
      "pjm\n",
      " - Old max date 2023-07-08 00:00:00\n",
      " - New max date 2023-07-08 00:00:00\n",
      "\n",
      "ercot\n",
      " - Old max date 2024-09-10 00:00:00\n",
      " - New max date 2024-12-26 00:00:00\n",
      "\n",
      "spp\n",
      " - Old max date 2024-08-02 00:00:00\n",
      " - New max date 2024-12-03 00:00:00\n",
      "\n",
      "nyiso\n",
      " - Old max date 2024-10-29 00:00:00\n",
      " - New max date 2024-12-09 00:00:00\n",
      "\n",
      "isone\n",
      " - Old max date 2024-08-21 00:00:00\n",
      " - New max date 2025-01-14 00:00:00\n",
      "\n"
     ]
    }
   ],
   "source": [
    "for iso_region in old_iso_queues.keys():\n",
    "    if iso_region == \"miso-pre-2017\":\n",
    "        continue\n",
    "    print(iso_region)\n",
    "    old_df = old_iso_queues[iso_region]\n",
    "    new_df = new_iso_queues[iso_region]\n",
    "    \n",
    "    old_df['Queue Date'] = pd.to_datetime(old_df['Queue Date'])\n",
    "    new_df['Queue Date'] = pd.to_datetime(new_df['Queue Date'])\n",
    "    \n",
    "    print(f\" - Old max date {old_df['Queue Date'].max()}\")\n",
    "    print(f\" - New max date {new_df['Queue Date'].max()}\")\n",
    "    print()"
   ]
  },
  {
   "cell_type": "markdown",
   "id": "e071b81d-8672-4bc4-94df-d75f665ca800",
   "metadata": {},
   "source": [
    "## Compare data mart tables\n",
    "The follow code compares the old and new total active capacity in regions.\n",
    "\n",
    "### How to grab the new data\n",
    "To get the new data, replace `dbcp.extract.gridstatus_isoqueues.ISO_QUEUE_VERSIONS` with the updated generation numbers. Then run `make all`. There might be some data validation errors due to small changes in the expected number of projects. If the changes seem reasonable, just update the expected value in the assertion. If they don't seem reason, do some digging!\n",
    "\n",
    "Once the ETL succesfully finishes the new data is available in the databse.\n",
    "\n",
    "<!-- - download the `dev` data to compare to\n",
    "- load the relevent tables\n",
    "\n",
    "data warehouse\n",
    "- check the old and new iso have a similar n and capacity\n",
    "- plot total capacity\n",
    "\n",
    "\n",
    "data mart:\n",
    "- total capacity, n_projects and max date have all the same: caiso, ercot, pjm\n",
    "- total capacity, n_projects and max date have all increased: miso, pjm, spp, nyiso, isone\n",
    "- withdrawn and in service capacity have increased: miso, pjm, spp, nyiso, isone\n",
    "\n",
    "- active capacity has changed for isos in GS_REGIONS\n",
    "- how much has the active capacity changed by? -->"
   ]
  },
  {
   "cell_type": "code",
   "execution_count": 9,
   "id": "2824fdcf-4ffb-477b-80cf-bbc91255cfc8",
   "metadata": {},
   "outputs": [],
   "source": [
    "from dbcp.helpers import get_sql_engine\n",
    "\n",
    "engine = get_sql_engine()\n",
    "with engine.connect() as con:\n",
    "    new_iso_projects_long_format = pd.read_sql_table(\"iso_projects_long_format\", con, schema=\"data_mart\")"
   ]
  },
  {
   "cell_type": "markdown",
   "id": "6d0d8a6b-4b85-400d-81e2-161a17f43ec9",
   "metadata": {},
   "source": [
    "### How to grab the old data\n",
    "The following code grabs the latest version number for data in the development datasets then downloads the parquet file."
   ]
  },
  {
   "cell_type": "code",
   "execution_count": 10,
   "id": "9a508c9a-54a7-4466-b3bf-ec7333241be7",
   "metadata": {},
   "outputs": [],
   "source": [
    "from google.cloud import bigquery\n",
    "\n",
    "def get_bigquery_table_version(dataset_id, table_name, project_id=\"dbcp-dev-350818\"):\n",
    "    \"\"\"\n",
    "    Get the data version of a BigQuery table.\n",
    "\n",
    "    The dbcp.commands.publish script generates a version number for each data release\n",
    "    and adds it as a label to the BQ tables.\n",
    "\n",
    "    Args:\n",
    "        dataset_id: the BQ dataset ID\n",
    "        table_name: the name of the table\n",
    "        project_id: the GCP project id\n",
    "\n",
    "    Return:\n",
    "        the current DBCP version number of the requested table\n",
    "    \"\"\"\n",
    "    client = bigquery.Client()\n",
    "\n",
    "    table_ref = f\"{project_id}.{dataset_id}.{table_name}\"\n",
    "    table = client.get_table(table_ref)  # Fetch table metadata\n",
    "\n",
    "    labels = table.labels  # Get the labels dictionary\n",
    "    return labels[\"version\"]"
   ]
  },
  {
   "cell_type": "code",
   "execution_count": 11,
   "id": "589264d6-4ba4-443c-ae97-88f2a8440d4a",
   "metadata": {},
   "outputs": [],
   "source": [
    "from dbcp.extract.helpers import cache_gcs_archive_file_locally\n",
    "\n",
    "table_name = \"iso_projects_long_format\"\n",
    "version = get_bigquery_table_version(\"data_mart_dev\", table_name)\n",
    "uri = f\"gs://dgm-outputs/{version}/data_mart/{table_name}.parquet\"\n",
    "data_cache = \"/app/data/gcp_outputs\"\n",
    "\n",
    "iso_projects_long_format_path = cache_gcs_archive_file_locally(uri, data_cache)\n",
    "old_iso_projects_long_format = pd.read_parquet(iso_projects_long_format_path)"
   ]
  },
  {
   "cell_type": "code",
   "execution_count": 12,
   "id": "1e4ad65c-55cc-4200-bd99-80bed7d36295",
   "metadata": {},
   "outputs": [],
   "source": [
    "def agg_iso_projects_long_format(df):\n",
    "    \"\"\"Calculate some aggregate metrics for each ISO\"\"\"\n",
    "    agg = df.groupby(\"iso_region\").agg({\"surrogate_id\": \"count\", \"capacity_mw\": \"sum\", \"date_entered_queue\": \"max\"})\n",
    "    agg = agg.rename(columns={\"surrogate_id\": \"n_projects\", \"capacity_mw\": \"total_capacity_mw\", \"date_entered_queue\": \"max_date_entered_queue\"})\n",
    "    return agg\n",
    "\n",
    "old_project_agg = agg_iso_projects_long_format(old_iso_projects_long_format)\n",
    "new_project_agg = agg_iso_projects_long_format(new_iso_projects_long_format)"
   ]
  },
  {
   "cell_type": "code",
   "execution_count": 13,
   "id": "b795b90f-a4c4-44ba-9465-e557b623e437",
   "metadata": {},
   "outputs": [
    {
     "data": {
      "text/plain": [
       "iso_region\n",
       "CAISO                 2023-04-17 00:00:00\n",
       "ERCOT                 2024-12-26 00:00:00\n",
       "ISONE                 2025-01-14 00:00:00\n",
       "MISO                  2025-02-19 05:00:00\n",
       "NYISO                 2024-12-09 00:00:00\n",
       "PJM                   2023-07-08 00:00:00\n",
       "SPP                   2024-12-03 00:00:00\n",
       "Southeast (non-ISO)   2023-12-15 00:00:00\n",
       "West (non-ISO)        2023-12-30 00:00:00\n",
       "Name: max_date_entered_queue, dtype: datetime64[ns]"
      ]
     },
     "execution_count": 13,
     "metadata": {},
     "output_type": "execute_result"
    }
   ],
   "source": [
    "new_project_agg.max_date_entered_queue"
   ]
  },
  {
   "cell_type": "code",
   "execution_count": 15,
   "id": "0ec5e6f2-2aba-4d8c-8176-d3a6f818e364",
   "metadata": {},
   "outputs": [
    {
     "data": {
      "text/html": [
       "<div>\n",
       "<style scoped>\n",
       "    .dataframe tbody tr th:only-of-type {\n",
       "        vertical-align: middle;\n",
       "    }\n",
       "\n",
       "    .dataframe tbody tr th {\n",
       "        vertical-align: top;\n",
       "    }\n",
       "\n",
       "    .dataframe thead th {\n",
       "        text-align: right;\n",
       "    }\n",
       "</style>\n",
       "<table border=\"1\" class=\"dataframe\">\n",
       "  <thead>\n",
       "    <tr style=\"text-align: right;\">\n",
       "      <th></th>\n",
       "      <th>n_projects_old</th>\n",
       "      <th>total_capacity_mw_old</th>\n",
       "      <th>max_date_entered_queue_old</th>\n",
       "      <th>n_projects_new</th>\n",
       "      <th>total_capacity_mw_new</th>\n",
       "      <th>max_date_entered_queue_new</th>\n",
       "    </tr>\n",
       "    <tr>\n",
       "      <th>iso_region</th>\n",
       "      <th></th>\n",
       "      <th></th>\n",
       "      <th></th>\n",
       "      <th></th>\n",
       "      <th></th>\n",
       "      <th></th>\n",
       "    </tr>\n",
       "  </thead>\n",
       "  <tbody>\n",
       "    <tr>\n",
       "      <th>CAISO</th>\n",
       "      <td>1410</td>\n",
       "      <td>500444.8000</td>\n",
       "      <td>2023-04-17 00:00:00</td>\n",
       "      <td>1410</td>\n",
       "      <td>500444.8000</td>\n",
       "      <td>2023-04-17 00:00:00</td>\n",
       "    </tr>\n",
       "    <tr>\n",
       "      <th>ERCOT</th>\n",
       "      <td>1605</td>\n",
       "      <td>322303.2000</td>\n",
       "      <td>2024-09-10 00:00:00</td>\n",
       "      <td>1661</td>\n",
       "      <td>333642.2400</td>\n",
       "      <td>2024-12-26 00:00:00</td>\n",
       "    </tr>\n",
       "    <tr>\n",
       "      <th>ISONE</th>\n",
       "      <td>503</td>\n",
       "      <td>60720.3512</td>\n",
       "      <td>2024-08-21 00:00:00</td>\n",
       "      <td>459</td>\n",
       "      <td>56635.3140</td>\n",
       "      <td>2025-01-14 00:00:00</td>\n",
       "    </tr>\n",
       "    <tr>\n",
       "      <th>MISO</th>\n",
       "      <td>2186</td>\n",
       "      <td>378040.1000</td>\n",
       "      <td>2024-09-27 04:00:00</td>\n",
       "      <td>2261</td>\n",
       "      <td>389585.1900</td>\n",
       "      <td>2025-02-19 05:00:00</td>\n",
       "    </tr>\n",
       "    <tr>\n",
       "      <th>NYISO</th>\n",
       "      <td>450</td>\n",
       "      <td>75817.1100</td>\n",
       "      <td>2024-10-15 00:00:00</td>\n",
       "      <td>448</td>\n",
       "      <td>79796.6800</td>\n",
       "      <td>2024-12-09 00:00:00</td>\n",
       "    </tr>\n",
       "    <tr>\n",
       "      <th>PJM</th>\n",
       "      <td>2569</td>\n",
       "      <td>203615.4318</td>\n",
       "      <td>2023-07-08 00:00:00</td>\n",
       "      <td>1866</td>\n",
       "      <td>148290.9228</td>\n",
       "      <td>2023-07-08 00:00:00</td>\n",
       "    </tr>\n",
       "    <tr>\n",
       "      <th>SPP</th>\n",
       "      <td>610</td>\n",
       "      <td>121268.0020</td>\n",
       "      <td>2024-08-02 00:00:00</td>\n",
       "      <td>659</td>\n",
       "      <td>134342.7020</td>\n",
       "      <td>2024-12-03 00:00:00</td>\n",
       "    </tr>\n",
       "    <tr>\n",
       "      <th>Southeast (non-ISO)</th>\n",
       "      <td>1072</td>\n",
       "      <td>136024.0300</td>\n",
       "      <td>2023-12-15 00:00:00</td>\n",
       "      <td>1072</td>\n",
       "      <td>136024.0300</td>\n",
       "      <td>2023-12-15 00:00:00</td>\n",
       "    </tr>\n",
       "    <tr>\n",
       "      <th>West (non-ISO)</th>\n",
       "      <td>2542</td>\n",
       "      <td>488401.0500</td>\n",
       "      <td>2023-12-30 00:00:00</td>\n",
       "      <td>2542</td>\n",
       "      <td>488401.0500</td>\n",
       "      <td>2023-12-30 00:00:00</td>\n",
       "    </tr>\n",
       "  </tbody>\n",
       "</table>\n",
       "</div>"
      ],
      "text/plain": [
       "                     n_projects_old  total_capacity_mw_old  \\\n",
       "iso_region                                                   \n",
       "CAISO                          1410            500444.8000   \n",
       "ERCOT                          1605            322303.2000   \n",
       "ISONE                           503             60720.3512   \n",
       "MISO                           2186            378040.1000   \n",
       "NYISO                           450             75817.1100   \n",
       "PJM                            2569            203615.4318   \n",
       "SPP                             610            121268.0020   \n",
       "Southeast (non-ISO)            1072            136024.0300   \n",
       "West (non-ISO)                 2542            488401.0500   \n",
       "\n",
       "                    max_date_entered_queue_old  n_projects_new  \\\n",
       "iso_region                                                       \n",
       "CAISO                      2023-04-17 00:00:00            1410   \n",
       "ERCOT                      2024-09-10 00:00:00            1661   \n",
       "ISONE                      2024-08-21 00:00:00             459   \n",
       "MISO                       2024-09-27 04:00:00            2261   \n",
       "NYISO                      2024-10-15 00:00:00             448   \n",
       "PJM                        2023-07-08 00:00:00            1866   \n",
       "SPP                        2024-08-02 00:00:00             659   \n",
       "Southeast (non-ISO)        2023-12-15 00:00:00            1072   \n",
       "West (non-ISO)             2023-12-30 00:00:00            2542   \n",
       "\n",
       "                     total_capacity_mw_new max_date_entered_queue_new  \n",
       "iso_region                                                             \n",
       "CAISO                          500444.8000        2023-04-17 00:00:00  \n",
       "ERCOT                          333642.2400        2024-12-26 00:00:00  \n",
       "ISONE                           56635.3140        2025-01-14 00:00:00  \n",
       "MISO                           389585.1900        2025-02-19 05:00:00  \n",
       "NYISO                           79796.6800        2024-12-09 00:00:00  \n",
       "PJM                            148290.9228        2023-07-08 00:00:00  \n",
       "SPP                            134342.7020        2024-12-03 00:00:00  \n",
       "Southeast (non-ISO)            136024.0300        2023-12-15 00:00:00  \n",
       "West (non-ISO)                 488401.0500        2023-12-30 00:00:00  "
      ]
     },
     "execution_count": 15,
     "metadata": {},
     "output_type": "execute_result"
    }
   ],
   "source": [
    "both_project_aggs = old_project_agg.merge(new_project_agg, left_index=True, right_index=True, validate=\"1:1\", suffixes=(\"_old\", \"_new\"))\n",
    "both_project_aggs"
   ]
  },
  {
   "cell_type": "code",
   "execution_count": 16,
   "id": "dd0a7b2f-81f2-4818-88a9-edbf10d77c55",
   "metadata": {},
   "outputs": [],
   "source": [
    "# Calculate the differences between the old and new\n",
    "for col in old_project_agg.columns:\n",
    "    if pd.api.types.is_datetime64_any_dtype(old_project_agg[col]):\n",
    "        continue\n",
    "    else:\n",
    "        both_project_aggs[f\"{col}_pct_diff\"] = (both_project_aggs[f\"{col}_new\"] - both_project_aggs[f\"{col}_old\"]) / both_project_aggs[f\"{col}_old\"]"
   ]
  },
  {
   "cell_type": "code",
   "execution_count": 18,
   "id": "58310980-9365-4e71-a989-55d1b4625367",
   "metadata": {},
   "outputs": [
    {
     "data": {
      "text/html": [
       "<div>\n",
       "<style scoped>\n",
       "    .dataframe tbody tr th:only-of-type {\n",
       "        vertical-align: middle;\n",
       "    }\n",
       "\n",
       "    .dataframe tbody tr th {\n",
       "        vertical-align: top;\n",
       "    }\n",
       "\n",
       "    .dataframe thead th {\n",
       "        text-align: right;\n",
       "    }\n",
       "</style>\n",
       "<table border=\"1\" class=\"dataframe\">\n",
       "  <thead>\n",
       "    <tr style=\"text-align: right;\">\n",
       "      <th></th>\n",
       "      <th>n_projects_pct_diff</th>\n",
       "      <th>total_capacity_mw_pct_diff</th>\n",
       "    </tr>\n",
       "    <tr>\n",
       "      <th>iso_region</th>\n",
       "      <th></th>\n",
       "      <th></th>\n",
       "    </tr>\n",
       "  </thead>\n",
       "  <tbody>\n",
       "    <tr>\n",
       "      <th>CAISO</th>\n",
       "      <td>0.000000</td>\n",
       "      <td>0.000000</td>\n",
       "    </tr>\n",
       "    <tr>\n",
       "      <th>West (non-ISO)</th>\n",
       "      <td>0.000000</td>\n",
       "      <td>0.000000</td>\n",
       "    </tr>\n",
       "    <tr>\n",
       "      <th>MISO</th>\n",
       "      <td>3.430924</td>\n",
       "      <td>3.053933</td>\n",
       "    </tr>\n",
       "    <tr>\n",
       "      <th>ERCOT</th>\n",
       "      <td>3.489097</td>\n",
       "      <td>3.518128</td>\n",
       "    </tr>\n",
       "    <tr>\n",
       "      <th>PJM</th>\n",
       "      <td>-27.364733</td>\n",
       "      <td>-27.171079</td>\n",
       "    </tr>\n",
       "    <tr>\n",
       "      <th>Southeast (non-ISO)</th>\n",
       "      <td>0.000000</td>\n",
       "      <td>0.000000</td>\n",
       "    </tr>\n",
       "    <tr>\n",
       "      <th>SPP</th>\n",
       "      <td>8.032787</td>\n",
       "      <td>10.781657</td>\n",
       "    </tr>\n",
       "    <tr>\n",
       "      <th>NYISO</th>\n",
       "      <td>-0.444444</td>\n",
       "      <td>5.248908</td>\n",
       "    </tr>\n",
       "    <tr>\n",
       "      <th>ISONE</th>\n",
       "      <td>-8.747515</td>\n",
       "      <td>-6.727624</td>\n",
       "    </tr>\n",
       "  </tbody>\n",
       "</table>\n",
       "</div>"
      ],
      "text/plain": [
       "                     n_projects_pct_diff  total_capacity_mw_pct_diff\n",
       "iso_region                                                          \n",
       "CAISO                           0.000000                    0.000000\n",
       "West (non-ISO)                  0.000000                    0.000000\n",
       "MISO                            3.430924                    3.053933\n",
       "ERCOT                           3.489097                    3.518128\n",
       "PJM                           -27.364733                  -27.171079\n",
       "Southeast (non-ISO)             0.000000                    0.000000\n",
       "SPP                             8.032787                   10.781657\n",
       "NYISO                          -0.444444                    5.248908\n",
       "ISONE                          -8.747515                   -6.727624"
      ]
     },
     "execution_count": 18,
     "metadata": {},
     "output_type": "execute_result"
    }
   ],
   "source": [
    "old_project_agg\n",
    "\n",
    "both_project_aggs.sort_values(by=\"total_capacity_mw_old\", ascending=False)[[\"n_projects_pct_diff\", \"total_capacity_mw_pct_diff\"]] * 100"
   ]
  },
  {
   "cell_type": "markdown",
   "id": "13e7273f-2f8b-49b9-86bb-3f07a4a0b83e",
   "metadata": {},
   "source": [
    "We don't use Gridstatus for CAISO for the reasons stated above so we filter it out in this analysis."
   ]
  },
  {
   "cell_type": "code",
   "execution_count": 19,
   "id": "ce15a3de-05ca-44f6-bc80-478cef9af017",
   "metadata": {},
   "outputs": [
    {
     "data": {
      "text/html": [
       "<div>\n",
       "<style scoped>\n",
       "    .dataframe tbody tr th:only-of-type {\n",
       "        vertical-align: middle;\n",
       "    }\n",
       "\n",
       "    .dataframe tbody tr th {\n",
       "        vertical-align: top;\n",
       "    }\n",
       "\n",
       "    .dataframe thead th {\n",
       "        text-align: right;\n",
       "    }\n",
       "</style>\n",
       "<table border=\"1\" class=\"dataframe\">\n",
       "  <thead>\n",
       "    <tr style=\"text-align: right;\">\n",
       "      <th></th>\n",
       "      <th>n_projects_old</th>\n",
       "      <th>total_capacity_mw_old</th>\n",
       "      <th>max_date_entered_queue_old</th>\n",
       "      <th>n_projects_new</th>\n",
       "      <th>total_capacity_mw_new</th>\n",
       "      <th>max_date_entered_queue_new</th>\n",
       "      <th>n_projects_pct_diff</th>\n",
       "      <th>total_capacity_mw_pct_diff</th>\n",
       "    </tr>\n",
       "    <tr>\n",
       "      <th>iso_region</th>\n",
       "      <th></th>\n",
       "      <th></th>\n",
       "      <th></th>\n",
       "      <th></th>\n",
       "      <th></th>\n",
       "      <th></th>\n",
       "      <th></th>\n",
       "      <th></th>\n",
       "    </tr>\n",
       "  </thead>\n",
       "  <tbody>\n",
       "    <tr>\n",
       "      <th>ERCOT</th>\n",
       "      <td>1605</td>\n",
       "      <td>322303.2000</td>\n",
       "      <td>2024-09-10 00:00:00</td>\n",
       "      <td>1661</td>\n",
       "      <td>333642.2400</td>\n",
       "      <td>2024-12-26 00:00:00</td>\n",
       "      <td>0.034891</td>\n",
       "      <td>0.035181</td>\n",
       "    </tr>\n",
       "    <tr>\n",
       "      <th>ISONE</th>\n",
       "      <td>503</td>\n",
       "      <td>60720.3512</td>\n",
       "      <td>2024-08-21 00:00:00</td>\n",
       "      <td>459</td>\n",
       "      <td>56635.3140</td>\n",
       "      <td>2025-01-14 00:00:00</td>\n",
       "      <td>-0.087475</td>\n",
       "      <td>-0.067276</td>\n",
       "    </tr>\n",
       "    <tr>\n",
       "      <th>MISO</th>\n",
       "      <td>2186</td>\n",
       "      <td>378040.1000</td>\n",
       "      <td>2024-09-27 04:00:00</td>\n",
       "      <td>2261</td>\n",
       "      <td>389585.1900</td>\n",
       "      <td>2025-02-19 05:00:00</td>\n",
       "      <td>0.034309</td>\n",
       "      <td>0.030539</td>\n",
       "    </tr>\n",
       "    <tr>\n",
       "      <th>NYISO</th>\n",
       "      <td>450</td>\n",
       "      <td>75817.1100</td>\n",
       "      <td>2024-10-15 00:00:00</td>\n",
       "      <td>448</td>\n",
       "      <td>79796.6800</td>\n",
       "      <td>2024-12-09 00:00:00</td>\n",
       "      <td>-0.004444</td>\n",
       "      <td>0.052489</td>\n",
       "    </tr>\n",
       "    <tr>\n",
       "      <th>PJM</th>\n",
       "      <td>2569</td>\n",
       "      <td>203615.4318</td>\n",
       "      <td>2023-07-08 00:00:00</td>\n",
       "      <td>1866</td>\n",
       "      <td>148290.9228</td>\n",
       "      <td>2023-07-08 00:00:00</td>\n",
       "      <td>-0.273647</td>\n",
       "      <td>-0.271711</td>\n",
       "    </tr>\n",
       "    <tr>\n",
       "      <th>SPP</th>\n",
       "      <td>610</td>\n",
       "      <td>121268.0020</td>\n",
       "      <td>2024-08-02 00:00:00</td>\n",
       "      <td>659</td>\n",
       "      <td>134342.7020</td>\n",
       "      <td>2024-12-03 00:00:00</td>\n",
       "      <td>0.080328</td>\n",
       "      <td>0.107817</td>\n",
       "    </tr>\n",
       "  </tbody>\n",
       "</table>\n",
       "</div>"
      ],
      "text/plain": [
       "            n_projects_old  total_capacity_mw_old max_date_entered_queue_old  \\\n",
       "iso_region                                                                     \n",
       "ERCOT                 1605            322303.2000        2024-09-10 00:00:00   \n",
       "ISONE                  503             60720.3512        2024-08-21 00:00:00   \n",
       "MISO                  2186            378040.1000        2024-09-27 04:00:00   \n",
       "NYISO                  450             75817.1100        2024-10-15 00:00:00   \n",
       "PJM                   2569            203615.4318        2023-07-08 00:00:00   \n",
       "SPP                    610            121268.0020        2024-08-02 00:00:00   \n",
       "\n",
       "            n_projects_new  total_capacity_mw_new max_date_entered_queue_new  \\\n",
       "iso_region                                                                     \n",
       "ERCOT                 1661            333642.2400        2024-12-26 00:00:00   \n",
       "ISONE                  459             56635.3140        2025-01-14 00:00:00   \n",
       "MISO                  2261            389585.1900        2025-02-19 05:00:00   \n",
       "NYISO                  448             79796.6800        2024-12-09 00:00:00   \n",
       "PJM                   1866            148290.9228        2023-07-08 00:00:00   \n",
       "SPP                    659            134342.7020        2024-12-03 00:00:00   \n",
       "\n",
       "            n_projects_pct_diff  total_capacity_mw_pct_diff  \n",
       "iso_region                                                   \n",
       "ERCOT                  0.034891                    0.035181  \n",
       "ISONE                 -0.087475                   -0.067276  \n",
       "MISO                   0.034309                    0.030539  \n",
       "NYISO                 -0.004444                    0.052489  \n",
       "PJM                   -0.273647                   -0.271711  \n",
       "SPP                    0.080328                    0.107817  "
      ]
     },
     "execution_count": 19,
     "metadata": {},
     "output_type": "execute_result"
    }
   ],
   "source": [
    "from dbcp.data_mart.projects import GS_REGIONS\n",
    "\n",
    "changed_project_aggs = both_project_aggs[both_project_aggs.index.isin(GS_REGIONS)]\n",
    "\n",
    "changed_project_aggs"
   ]
  },
  {
   "cell_type": "markdown",
   "id": "a3cdeb1e-48e4-4aae-aa5a-4a9c57eadd07",
   "metadata": {},
   "source": [
    "Make sure there isn't an surprising change in total capacity between the old and new data. We currently don't expect the active capacity to change that much in the span of a quarter. The `max_change` value is an arbitrary number so dig into the data if something looks fishy to you.\n",
    "\n",
    "It's challenging to validate total capacity changes in ISOs. If there is an unexpected change, I would check the ISO's website to see if they changed their study process. For example, there was a surprising drop in active capacity in NYISO during the 2024 Q4 update. It turns out they [changed their study process](https://www.utilitydive.com/news/new-york-iso-reforms-interconnection-queue-launches-cluster-study/724054/) and the layout of the spreadsheet Gridstatus pulls in. Sites like S&P and Utility Drive might have relevant informaiton."
   ]
  },
  {
   "cell_type": "code",
   "execution_count": 21,
   "id": "9e058ac1-ba06-445f-b7a5-2f47b9e7f738",
   "metadata": {},
   "outputs": [
    {
     "ename": "AssertionError",
     "evalue": "iso_region\nERCOT    0.035181\nISONE    0.067276\nMISO     0.030539\nNYISO    0.052489\nPJM      0.271711\nSPP      0.107817\nName: total_capacity_mw_pct_diff, dtype: float64 substantial change in an ISO's interconneciton queue active capacity.",
     "output_type": "error",
     "traceback": [
      "\u001b[0;31m---------------------------------------------------------------------------\u001b[0m",
      "\u001b[0;31mAssertionError\u001b[0m                            Traceback (most recent call last)",
      "Cell \u001b[0;32mIn[21], line 3\u001b[0m\n\u001b[1;32m      1\u001b[0m mw_pct_diff \u001b[38;5;241m=\u001b[39m changed_project_aggs[\u001b[38;5;124m\"\u001b[39m\u001b[38;5;124mtotal_capacity_mw_pct_diff\u001b[39m\u001b[38;5;124m\"\u001b[39m]\u001b[38;5;241m.\u001b[39mabs()\n\u001b[1;32m      2\u001b[0m max_change \u001b[38;5;241m=\u001b[39m \u001b[38;5;241m0.2\u001b[39m\n\u001b[0;32m----> 3\u001b[0m \u001b[38;5;28;01massert\u001b[39;00m mw_pct_diff\u001b[38;5;241m.\u001b[39mlt(max_change)\u001b[38;5;241m.\u001b[39mall(), \u001b[38;5;124mf\u001b[39m\u001b[38;5;124m\"\u001b[39m\u001b[38;5;132;01m{\u001b[39;00mmw_pct_diff\u001b[38;5;132;01m}\u001b[39;00m\u001b[38;5;124m substantial change in an ISO\u001b[39m\u001b[38;5;124m'\u001b[39m\u001b[38;5;124ms interconneciton queue active capacity.\u001b[39m\u001b[38;5;124m\"\u001b[39m\n",
      "\u001b[0;31mAssertionError\u001b[0m: iso_region\nERCOT    0.035181\nISONE    0.067276\nMISO     0.030539\nNYISO    0.052489\nPJM      0.271711\nSPP      0.107817\nName: total_capacity_mw_pct_diff, dtype: float64 substantial change in an ISO's interconneciton queue active capacity."
     ]
    }
   ],
   "source": [
    "mw_pct_diff = changed_project_aggs[\"total_capacity_mw_pct_diff\"].abs()\n",
    "max_change = 0.2\n",
    "assert mw_pct_diff.lt(max_change).all(), f\"{mw_pct_diff} substantial change in an ISO's interconneciton queue active capacity.\""
   ]
  },
  {
   "cell_type": "code",
   "execution_count": 22,
   "id": "9103608d-89e7-4a9b-9507-6d762d2012b9",
   "metadata": {},
   "outputs": [
    {
     "data": {
      "text/plain": [
       "iso_region\n",
       "ERCOT     3.518128\n",
       "ISONE    -6.727624\n",
       "MISO      3.053933\n",
       "NYISO     5.248908\n",
       "PJM     -27.171079\n",
       "SPP      10.781657\n",
       "Name: total_capacity_mw_pct_diff, dtype: float64"
      ]
     },
     "execution_count": 22,
     "metadata": {},
     "output_type": "execute_result"
    }
   ],
   "source": [
    "changed_project_aggs[\"total_capacity_mw_pct_diff\"] * 100"
   ]
  },
  {
   "cell_type": "markdown",
   "id": "f5c32300-1c24-4d71-8031-289484957332",
   "metadata": {},
   "source": [
    "## ISO Capacity Change\n",
    "The `iso_regions_active_projects_capacity_mw_change_log` data mart table contains historic snapshots of total active capacity in the ISO queues. Ploting the change over time if helpful for identifying issues with the data update."
   ]
  },
  {
   "cell_type": "code",
   "execution_count": 23,
   "id": "0e0a0cbb-805d-4e8e-a6b2-94b0db2695a3",
   "metadata": {},
   "outputs": [],
   "source": [
    "with engine.connect() as con:\n",
    "    iso_regions_active_projects_capacity_mw_change_log = pd.read_sql_table(\"iso_regions_active_projects_capacity_mw_change_log\", con, schema=\"data_mart\")"
   ]
  },
  {
   "cell_type": "code",
   "execution_count": 24,
   "id": "1416a051-132f-43e5-8a1f-e0fed1e551bc",
   "metadata": {},
   "outputs": [
    {
     "data": {
      "text/plain": [
       "iso_region\n",
       "CAISO   2025-03-31\n",
       "ISONE   2025-03-31\n",
       "MISO    2025-03-31\n",
       "NYISO   2025-03-31\n",
       "PJM     2027-09-30\n",
       "SPP     2025-03-31\n",
       "Name: report_date, dtype: datetime64[ns]"
      ]
     },
     "execution_count": 24,
     "metadata": {},
     "output_type": "execute_result"
    }
   ],
   "source": [
    "iso_regions_active_projects_capacity_mw_change_log.groupby(\"iso_region\").report_date.max()"
   ]
  },
  {
   "cell_type": "code",
   "execution_count": 25,
   "id": "61987565-1958-4ec0-8717-1a08cbd6e7f2",
   "metadata": {
    "scrolled": true
   },
   "outputs": [
    {
     "ename": "ImportError",
     "evalue": "matplotlib is required for plotting when the default backend \"matplotlib\" is selected.",
     "output_type": "error",
     "traceback": [
      "\u001b[0;31m---------------------------------------------------------------------------\u001b[0m",
      "\u001b[0;31mImportError\u001b[0m                               Traceback (most recent call last)",
      "Cell \u001b[0;32mIn[25], line 7\u001b[0m\n\u001b[1;32m      5\u001b[0m iso_df \u001b[38;5;241m=\u001b[39m iso_df[iso_df\u001b[38;5;241m.\u001b[39mreport_date\u001b[38;5;241m.\u001b[39mdt\u001b[38;5;241m.\u001b[39myear\u001b[38;5;241m.\u001b[39mgt(\u001b[38;5;241m2017\u001b[39m) \u001b[38;5;241m&\u001b[39m (iso_df\u001b[38;5;241m.\u001b[39mreport_date \u001b[38;5;241m<\u001b[39m \u001b[38;5;124m\"\u001b[39m\u001b[38;5;124m2025-01-01\u001b[39m\u001b[38;5;124m\"\u001b[39m)]\n\u001b[1;32m      6\u001b[0m iso_df \u001b[38;5;241m=\u001b[39m iso_df\u001b[38;5;241m.\u001b[39mset_index(\u001b[38;5;124m\"\u001b[39m\u001b[38;5;124mreport_date\u001b[39m\u001b[38;5;124m\"\u001b[39m)\n\u001b[0;32m----> 7\u001b[0m \u001b[43miso_df\u001b[49m\u001b[38;5;241;43m.\u001b[39;49m\u001b[43mplot\u001b[49m\u001b[38;5;241;43m.\u001b[39;49m\u001b[43mbar\u001b[49m\u001b[43m(\u001b[49m\u001b[43mcolor\u001b[49m\u001b[38;5;241;43m=\u001b[39;49m\u001b[43m[\u001b[49m\u001b[38;5;124;43m\"\u001b[39;49m\u001b[38;5;124;43mgreen\u001b[39;49m\u001b[38;5;124;43m\"\u001b[39;49m\u001b[43m,\u001b[49m\u001b[43m \u001b[49m\u001b[38;5;124;43m\"\u001b[39;49m\u001b[38;5;124;43mred\u001b[39;49m\u001b[38;5;124;43m\"\u001b[39;49m\u001b[43m,\u001b[49m\u001b[43m \u001b[49m\u001b[38;5;124;43m\"\u001b[39;49m\u001b[38;5;124;43mgrey\u001b[39;49m\u001b[38;5;124;43m\"\u001b[39;49m\u001b[43m]\u001b[49m\u001b[43m,\u001b[49m\u001b[43m \u001b[49m\u001b[43mtitle\u001b[49m\u001b[38;5;241;43m=\u001b[39;49m\u001b[43miso_region\u001b[49m\u001b[43m,\u001b[49m\u001b[43m \u001b[49m\u001b[43mstacked\u001b[49m\u001b[38;5;241;43m=\u001b[39;49m\u001b[38;5;28;43;01mTrue\u001b[39;49;00m\u001b[43m)\u001b[49m\n",
      "File \u001b[0;32m~/.local/lib/python3.10/site-packages/pandas/plotting/_core.py:1131\u001b[0m, in \u001b[0;36mPlotAccessor.bar\u001b[0;34m(self, x, y, **kwargs)\u001b[0m\n\u001b[1;32m   1043\u001b[0m \u001b[38;5;129m@Appender\u001b[39m(\n\u001b[1;32m   1044\u001b[0m \u001b[38;5;250m    \u001b[39m\u001b[38;5;124;03m\"\"\"\u001b[39;00m\n\u001b[1;32m   1045\u001b[0m \u001b[38;5;124;03m    See Also\u001b[39;00m\n\u001b[0;32m   (...)\u001b[0m\n\u001b[1;32m   1120\u001b[0m \u001b[38;5;129m@Appender\u001b[39m(_bar_or_line_doc)\n\u001b[1;32m   1121\u001b[0m \u001b[38;5;28;01mdef\u001b[39;00m\u001b[38;5;250m \u001b[39m\u001b[38;5;21mbar\u001b[39m(\u001b[38;5;28mself\u001b[39m, x\u001b[38;5;241m=\u001b[39m\u001b[38;5;28;01mNone\u001b[39;00m, y\u001b[38;5;241m=\u001b[39m\u001b[38;5;28;01mNone\u001b[39;00m, \u001b[38;5;241m*\u001b[39m\u001b[38;5;241m*\u001b[39mkwargs):\n\u001b[1;32m   1122\u001b[0m \u001b[38;5;250m    \u001b[39m\u001b[38;5;124;03m\"\"\"\u001b[39;00m\n\u001b[1;32m   1123\u001b[0m \u001b[38;5;124;03m    Vertical bar plot.\u001b[39;00m\n\u001b[1;32m   1124\u001b[0m \n\u001b[0;32m   (...)\u001b[0m\n\u001b[1;32m   1129\u001b[0m \u001b[38;5;124;03m    other axis represents a measured value.\u001b[39;00m\n\u001b[1;32m   1130\u001b[0m \u001b[38;5;124;03m    \"\"\"\u001b[39;00m\n\u001b[0;32m-> 1131\u001b[0m     \u001b[38;5;28;01mreturn\u001b[39;00m \u001b[38;5;28;43mself\u001b[39;49m\u001b[43m(\u001b[49m\u001b[43mkind\u001b[49m\u001b[38;5;241;43m=\u001b[39;49m\u001b[38;5;124;43m\"\u001b[39;49m\u001b[38;5;124;43mbar\u001b[39;49m\u001b[38;5;124;43m\"\u001b[39;49m\u001b[43m,\u001b[49m\u001b[43m \u001b[49m\u001b[43mx\u001b[49m\u001b[38;5;241;43m=\u001b[39;49m\u001b[43mx\u001b[49m\u001b[43m,\u001b[49m\u001b[43m \u001b[49m\u001b[43my\u001b[49m\u001b[38;5;241;43m=\u001b[39;49m\u001b[43my\u001b[49m\u001b[43m,\u001b[49m\u001b[43m \u001b[49m\u001b[38;5;241;43m*\u001b[39;49m\u001b[38;5;241;43m*\u001b[39;49m\u001b[43mkwargs\u001b[49m\u001b[43m)\u001b[49m\n",
      "File \u001b[0;32m~/.local/lib/python3.10/site-packages/pandas/plotting/_core.py:892\u001b[0m, in \u001b[0;36mPlotAccessor.__call__\u001b[0;34m(self, *args, **kwargs)\u001b[0m\n\u001b[1;32m    891\u001b[0m \u001b[38;5;28;01mdef\u001b[39;00m\u001b[38;5;250m \u001b[39m\u001b[38;5;21m__call__\u001b[39m(\u001b[38;5;28mself\u001b[39m, \u001b[38;5;241m*\u001b[39margs, \u001b[38;5;241m*\u001b[39m\u001b[38;5;241m*\u001b[39mkwargs):\n\u001b[0;32m--> 892\u001b[0m     plot_backend \u001b[38;5;241m=\u001b[39m \u001b[43m_get_plot_backend\u001b[49m\u001b[43m(\u001b[49m\u001b[43mkwargs\u001b[49m\u001b[38;5;241;43m.\u001b[39;49m\u001b[43mpop\u001b[49m\u001b[43m(\u001b[49m\u001b[38;5;124;43m\"\u001b[39;49m\u001b[38;5;124;43mbackend\u001b[39;49m\u001b[38;5;124;43m\"\u001b[39;49m\u001b[43m,\u001b[49m\u001b[43m \u001b[49m\u001b[38;5;28;43;01mNone\u001b[39;49;00m\u001b[43m)\u001b[49m\u001b[43m)\u001b[49m\n\u001b[1;32m    894\u001b[0m     x, y, kind, kwargs \u001b[38;5;241m=\u001b[39m \u001b[38;5;28mself\u001b[39m\u001b[38;5;241m.\u001b[39m_get_call_args(\n\u001b[1;32m    895\u001b[0m         plot_backend\u001b[38;5;241m.\u001b[39m\u001b[38;5;18m__name__\u001b[39m, \u001b[38;5;28mself\u001b[39m\u001b[38;5;241m.\u001b[39m_parent, args, kwargs\n\u001b[1;32m    896\u001b[0m     )\n\u001b[1;32m    898\u001b[0m     kind \u001b[38;5;241m=\u001b[39m \u001b[38;5;28mself\u001b[39m\u001b[38;5;241m.\u001b[39m_kind_aliases\u001b[38;5;241m.\u001b[39mget(kind, kind)\n",
      "File \u001b[0;32m~/.local/lib/python3.10/site-packages/pandas/plotting/_core.py:1849\u001b[0m, in \u001b[0;36m_get_plot_backend\u001b[0;34m(backend)\u001b[0m\n\u001b[1;32m   1846\u001b[0m \u001b[38;5;28;01mif\u001b[39;00m backend \u001b[38;5;129;01min\u001b[39;00m _backends:\n\u001b[1;32m   1847\u001b[0m     \u001b[38;5;28;01mreturn\u001b[39;00m _backends[backend]\n\u001b[0;32m-> 1849\u001b[0m module \u001b[38;5;241m=\u001b[39m \u001b[43m_load_backend\u001b[49m\u001b[43m(\u001b[49m\u001b[43mbackend\u001b[49m\u001b[43m)\u001b[49m\n\u001b[1;32m   1850\u001b[0m _backends[backend] \u001b[38;5;241m=\u001b[39m module\n\u001b[1;32m   1851\u001b[0m \u001b[38;5;28;01mreturn\u001b[39;00m module\n",
      "File \u001b[0;32m~/.local/lib/python3.10/site-packages/pandas/plotting/_core.py:1787\u001b[0m, in \u001b[0;36m_load_backend\u001b[0;34m(backend)\u001b[0m\n\u001b[1;32m   1785\u001b[0m         module \u001b[38;5;241m=\u001b[39m importlib\u001b[38;5;241m.\u001b[39mimport_module(\u001b[38;5;124m\"\u001b[39m\u001b[38;5;124mpandas.plotting._matplotlib\u001b[39m\u001b[38;5;124m\"\u001b[39m)\n\u001b[1;32m   1786\u001b[0m     \u001b[38;5;28;01mexcept\u001b[39;00m \u001b[38;5;167;01mImportError\u001b[39;00m:\n\u001b[0;32m-> 1787\u001b[0m         \u001b[38;5;28;01mraise\u001b[39;00m \u001b[38;5;167;01mImportError\u001b[39;00m(\n\u001b[1;32m   1788\u001b[0m             \u001b[38;5;124m\"\u001b[39m\u001b[38;5;124mmatplotlib is required for plotting when the \u001b[39m\u001b[38;5;124m\"\u001b[39m\n\u001b[1;32m   1789\u001b[0m             \u001b[38;5;124m'\u001b[39m\u001b[38;5;124mdefault backend \u001b[39m\u001b[38;5;124m\"\u001b[39m\u001b[38;5;124mmatplotlib\u001b[39m\u001b[38;5;124m\"\u001b[39m\u001b[38;5;124m is selected.\u001b[39m\u001b[38;5;124m'\u001b[39m\n\u001b[1;32m   1790\u001b[0m         ) \u001b[38;5;28;01mfrom\u001b[39;00m\u001b[38;5;250m \u001b[39m\u001b[38;5;28;01mNone\u001b[39;00m\n\u001b[1;32m   1791\u001b[0m     \u001b[38;5;28;01mreturn\u001b[39;00m module\n\u001b[1;32m   1793\u001b[0m found_backend \u001b[38;5;241m=\u001b[39m \u001b[38;5;28;01mFalse\u001b[39;00m\n",
      "\u001b[0;31mImportError\u001b[0m: matplotlib is required for plotting when the default backend \"matplotlib\" is selected."
     ]
    }
   ],
   "source": [
    "chnglog = iso_regions_active_projects_capacity_mw_change_log.groupby([\"iso_region\", \"report_date\"]).sum().reset_index()\n",
    "\n",
    "for iso_region in chnglog.iso_region.unique():\n",
    "    iso_df = chnglog.query(\"iso_region == @iso_region\")\n",
    "    iso_df = iso_df[iso_df.report_date.dt.year.gt(2017) & (iso_df.report_date < \"2025-01-01\")]\n",
    "    iso_df = iso_df.set_index(\"report_date\")\n",
    "    iso_df.plot.bar(color=[\"green\", \"red\", \"grey\"], title=iso_region, stacked=True)"
   ]
  },
  {
   "cell_type": "markdown",
   "id": "528402c2-4178-4388-867f-d5136945a744",
   "metadata": {},
   "source": [
    "\n",
    "## State Comparison\n",
    "Compare old and updated total renewable and storage capacity by state.\n",
    "\n",
    "Grab the old and updated `counties_wide_format` table. Each row in this table contains aggregate metrics about energy for a given county."
   ]
  },
  {
   "cell_type": "code",
   "execution_count": 26,
   "id": "7c551e9e-2f8e-4b4a-a0d5-2c813e12da52",
   "metadata": {},
   "outputs": [],
   "source": [
    "table_name = \"counties_wide_format\"\n",
    "\n",
    "with engine.connect() as con:\n",
    "    new_counties_wide_format = pd.read_sql_table(table_name, con, schema=\"data_mart\")\n",
    "\n",
    "\n",
    "version = get_bigquery_table_version(\"data_mart_dev\", table_name)\n",
    "uri = f\"gs://dgm-outputs/{version}/data_mart/{table_name}.parquet\"\n",
    "data_cache = \"/app/data/gcp_outputs\"\n",
    "\n",
    "counties_wide_format_path = cache_gcs_archive_file_locally(uri, data_cache)\n",
    "old_counties_wide_format = pd.read_parquet(counties_wide_format_path)"
   ]
  },
  {
   "cell_type": "markdown",
   "id": "da268593-1625-4219-bcfd-3affd65d129a",
   "metadata": {},
   "source": [
    "Aggregate the county table by state and sum by proposed renewable and battery capcity. Calculate the percent change between the old and updated data."
   ]
  },
  {
   "cell_type": "code",
   "execution_count": 27,
   "id": "dbf0fe35-177b-4132-9b0d-5d508632dea1",
   "metadata": {},
   "outputs": [
    {
     "data": {
      "text/plain": [
       "state\n",
       "New Hampshire              -0.540108\n",
       "Ohio                       -0.340631\n",
       "Virginia                   -0.328919\n",
       "Connecticut                -0.285079\n",
       "West Virginia              -0.278632\n",
       "Rhode Island               -0.271935\n",
       "Kentucky                   -0.258522\n",
       "Maryland                   -0.191538\n",
       "Pennsylvania               -0.150430\n",
       "North Carolina             -0.127393\n",
       "Indiana                    -0.110271\n",
       "Massachusetts              -0.068535\n",
       "Maine                      -0.064783\n",
       "Illinois                   -0.064306\n",
       "Delaware                   -0.052479\n",
       "Nebraska                   -0.037155\n",
       "New Jersey                 -0.035020\n",
       "Wisconsin                  -0.011983\n",
       "Iowa                       -0.007893\n",
       "Tennessee                  -0.003660\n",
       "Mississippi                -0.003301\n",
       "Vermont                     0.000000\n",
       "South Carolina              0.000000\n",
       "Oregon                      0.000000\n",
       "Washington                  0.000000\n",
       "Utah                        0.000000\n",
       "Alabama                     0.000000\n",
       "Montana                     0.000000\n",
       "Idaho                       0.000000\n",
       "Arizona                     0.000000\n",
       "Arkansas                    0.000000\n",
       "California                  0.000000\n",
       "Colorado                    0.000000\n",
       "Florida                     0.000000\n",
       "Georgia                     0.000000\n",
       "Nevada                      0.000000\n",
       "Wyoming                     0.000000\n",
       "Minnesota                   0.000000\n",
       "Louisiana                   0.000079\n",
       "Michigan                    0.006242\n",
       "North Dakota                0.017503\n",
       "New Mexico                  0.027598\n",
       "Texas                       0.034344\n",
       "New York                    0.038352\n",
       "Missouri                    0.040811\n",
       "Oklahoma                    0.074439\n",
       "Kansas                      0.091367\n",
       "South Dakota                0.095748\n",
       "Alaska                           NaN\n",
       "American Samoa                   NaN\n",
       "D.C.                             NaN\n",
       "Guam                             NaN\n",
       "Hawaii                           NaN\n",
       "Northern Mariana Islands         NaN\n",
       "Puerto Rico                      NaN\n",
       "Virgin Islands                   NaN\n",
       "Name: renewable_and_battery_proposed_capacity_mw, dtype: float64"
      ]
     },
     "execution_count": 27,
     "metadata": {},
     "output_type": "execute_result"
    }
   ],
   "source": [
    "def group_and_compare(raw_new, raw_old, groupby_col, metric_col):\n",
    "    grouped_new = raw_new.groupby(groupby_col)[metric_col].sum()\n",
    "    grouped_old = raw_old.groupby(groupby_col)[metric_col].sum()\n",
    "\n",
    "    return (grouped_new - grouped_old) / grouped_old\n",
    "\n",
    "state_pct_change = group_and_compare(new_counties_wide_format, old_counties_wide_format, \"state\", \"renewable_and_battery_proposed_capacity_mw\")\n",
    "\n",
    "state_pct_change.sort_values()"
   ]
  },
  {
   "cell_type": "code",
   "execution_count": 28,
   "id": "13d91e10-d0d9-4bb0-a57d-c75d7a7dcdf8",
   "metadata": {},
   "outputs": [
    {
     "ename": "ModuleNotFoundError",
     "evalue": "No module named 'us'",
     "output_type": "error",
     "traceback": [
      "\u001b[0;31m---------------------------------------------------------------------------\u001b[0m",
      "\u001b[0;31mModuleNotFoundError\u001b[0m                       Traceback (most recent call last)",
      "Cell \u001b[0;32mIn[28], line 1\u001b[0m\n\u001b[0;32m----> 1\u001b[0m \u001b[38;5;28;01mimport\u001b[39;00m\u001b[38;5;250m \u001b[39m\u001b[38;5;21;01mus\u001b[39;00m\n\u001b[1;32m      3\u001b[0m \u001b[38;5;28;01mdef\u001b[39;00m\u001b[38;5;250m \u001b[39m\u001b[38;5;21mfips_to_abbreviation\u001b[39m(fips_code):\n\u001b[1;32m      4\u001b[0m \u001b[38;5;250m    \u001b[39m\u001b[38;5;124;03m\"\"\"Convert fips_code to state abbreviate\"\"\"\u001b[39;00m\n",
      "\u001b[0;31mModuleNotFoundError\u001b[0m: No module named 'us'"
     ]
    }
   ],
   "source": [
    "import us\n",
    "\n",
    "def fips_to_abbreviation(fips_code):\n",
    "    \"\"\"Convert fips_code to state abbreviate\"\"\"\n",
    "    state = us.states.lookup(str(fips_code).zfill(2))  # Ensure FIPS is zero-padded\n",
    "    return state.abbr if state else None"
   ]
  },
  {
   "cell_type": "code",
   "execution_count": 29,
   "id": "d07bd677-20a1-4a2c-9919-28e817c5083e",
   "metadata": {},
   "outputs": [
    {
     "ename": "NameError",
     "evalue": "name 'fips_to_abbreviation' is not defined",
     "output_type": "error",
     "traceback": [
      "\u001b[0;31m---------------------------------------------------------------------------\u001b[0m",
      "\u001b[0;31mNameError\u001b[0m                                 Traceback (most recent call last)",
      "Cell \u001b[0;32mIn[29], line 7\u001b[0m\n\u001b[1;32m      4\u001b[0m df \u001b[38;5;241m=\u001b[39m state_pct_change\u001b[38;5;241m.\u001b[39mreset_index()\n\u001b[1;32m      5\u001b[0m df\u001b[38;5;241m.\u001b[39mcolumns \u001b[38;5;241m=\u001b[39m [\u001b[38;5;124m\"\u001b[39m\u001b[38;5;124mstate\u001b[39m\u001b[38;5;124m\"\u001b[39m, \u001b[38;5;124m\"\u001b[39m\u001b[38;5;124mpct_change\u001b[39m\u001b[38;5;124m\"\u001b[39m]\n\u001b[0;32m----> 7\u001b[0m df[\u001b[38;5;124m\"\u001b[39m\u001b[38;5;124mstate\u001b[39m\u001b[38;5;124m\"\u001b[39m] \u001b[38;5;241m=\u001b[39m df\u001b[38;5;241m.\u001b[39mstate\u001b[38;5;241m.\u001b[39mapply(\u001b[43mfips_to_abbreviation\u001b[49m)\n\u001b[1;32m      9\u001b[0m \u001b[38;5;66;03m# Create the choropleth map\u001b[39;00m\n\u001b[1;32m     10\u001b[0m fig \u001b[38;5;241m=\u001b[39m px\u001b[38;5;241m.\u001b[39mchoropleth(\n\u001b[1;32m     11\u001b[0m     df,\n\u001b[1;32m     12\u001b[0m     locations\u001b[38;5;241m=\u001b[39m\u001b[38;5;124m\"\u001b[39m\u001b[38;5;124mstate\u001b[39m\u001b[38;5;124m\"\u001b[39m,\n\u001b[0;32m   (...)\u001b[0m\n\u001b[1;32m     18\u001b[0m     scope\u001b[38;5;241m=\u001b[39m\u001b[38;5;124m\"\u001b[39m\u001b[38;5;124musa\u001b[39m\u001b[38;5;124m\"\u001b[39m\n\u001b[1;32m     19\u001b[0m )\n",
      "\u001b[0;31mNameError\u001b[0m: name 'fips_to_abbreviation' is not defined"
     ]
    }
   ],
   "source": [
    "import plotly.express as px\n",
    "import pandas as pd\n",
    "\n",
    "df = state_pct_change.reset_index()\n",
    "df.columns = [\"state\", \"pct_change\"]\n",
    "\n",
    "df[\"state\"] = df.state.apply(fips_to_abbreviation)\n",
    "\n",
    "# Create the choropleth map\n",
    "fig = px.choropleth(\n",
    "    df,\n",
    "    locations=\"state\",\n",
    "    locationmode=\"USA-states\",  # Matches state names to US state locations\n",
    "    color=\"pct_change\",\n",
    "    color_continuous_scale=\"RdYlGn\",  # Red for negative, Green for positive changes\n",
    "    range_color=[-1.0, 1.0],  # Scale based on actual data range\n",
    "    title=\"Percentage Change by State\",\n",
    "    scope=\"usa\"\n",
    ")\n",
    "\n",
    "fig.show()\n"
   ]
  },
  {
   "cell_type": "markdown",
   "id": "be8423e5-a9ae-4101-a70d-7144fb129010",
   "metadata": {},
   "source": [
    "## Project level changes\n",
    "Dig into states with unexpected capacity changes by looking as the status changes of projects."
   ]
  },
  {
   "cell_type": "code",
   "execution_count": 30,
   "id": "8e11e77e-2733-4fd7-af8f-060380b0d63d",
   "metadata": {},
   "outputs": [],
   "source": [
    "from dbcp.data_mart.projects import create_long_format\n",
    "\n",
    "# The dataframe this function returns includes all projects, active, withdrawn and operational. ERCOT only tracks active projects.\n",
    "new_all_projects_long_format = create_long_format(engine, active_projects_only=False)"
   ]
  },
  {
   "cell_type": "code",
   "execution_count": 31,
   "id": "409d61ec-8780-411e-b758-d1bc75f3b6f6",
   "metadata": {},
   "outputs": [],
   "source": [
    "gs_old_iso_projects_long_format = old_iso_projects_long_format.query(\"source == 'gridstatus'\")\n",
    "gs_old_iso_projects_long_format = gs_old_iso_projects_long_format[gs_old_iso_projects_long_format.resource_class.isin((\"remewable\", \"storage\"))]\n",
    "\n",
    "gs_new_all_projects_long_format = new_all_projects_long_format.query(\"source == 'gridstatus'\")\n",
    "gs_new_all_projects_long_format = gs_new_all_projects_long_format[gs_new_all_projects_long_format.resource_class.isin((\"remewable\", \"storage\"))]\n",
    "\n",
    "\n",
    "# combine the queue_id and the iso region to create a project identifier.\n",
    "gs_new_all_projects_long_format[\"full_queue_id\"] = gs_new_all_projects_long_format.iso_region + \"-\" + gs_new_all_projects_long_format.queue_id\n",
    "gs_new_all_projects_long_format[\"full_queue_id\"] = gs_new_all_projects_long_format.iso_region + \"-\" + gs_new_all_projects_long_format.queue_id"
   ]
  },
  {
   "cell_type": "code",
   "execution_count": 32,
   "id": "a45c4194-4150-454c-b587-7421b5c79e80",
   "metadata": {},
   "outputs": [],
   "source": [
    "assert gs_old_iso_projects_long_format[\"queue_status\"].eq(\"active\").all()"
   ]
  },
  {
   "cell_type": "code",
   "execution_count": 33,
   "id": "1784c7e1-1d14-49d8-b73d-3bde2a7c218a",
   "metadata": {},
   "outputs": [],
   "source": [
    "gs_old_iso_projects_long_format[\"full_queue_id\"] = gs_old_iso_projects_long_format.iso_region + \"-\" + gs_old_iso_projects_long_format.queue_id\n",
    "gs_new_all_projects_long_format[\"full_queue_id\"] = gs_new_all_projects_long_format.iso_region + \"-\" + gs_new_all_projects_long_format.queue_id"
   ]
  },
  {
   "cell_type": "markdown",
   "id": "969a344e-1937-4b2a-95ac-b780ce98a321",
   "metadata": {},
   "source": [
    "What percent of total capacity in each state was in the old data but not in the new data? For all ISO except ERCOT (Texas) which doesn't keep track of withdrawn and in services projects, we'd expect projects that were active in the old data to still be present in the updated data. In other words, projects shouldn't have completely disapeared from the interconneciton queues."
   ]
  },
  {
   "cell_type": "code",
   "execution_count": 34,
   "id": "332b5102-2191-4329-8074-42444755000e",
   "metadata": {},
   "outputs": [
    {
     "data": {
      "text/plain": [
       "state\n",
       "Texas           0.018755\n",
       "New York        0.004685\n",
       "Pennsylvania    0.003803\n",
       "Ohio            0.001613\n",
       "Virginia        0.000414\n",
       "Arkansas        0.000000\n",
       "Name: capacity_mw, dtype: float64"
      ]
     },
     "execution_count": 34,
     "metadata": {},
     "output_type": "execute_result"
    }
   ],
   "source": [
    "old_projects_not_in_new_projects = ~gs_old_iso_projects_long_format.full_queue_id.isin(gs_new_all_projects_long_format.full_queue_id)\n",
    "capacity_by_state_old_projects_not_in_new_projects = gs_old_iso_projects_long_format[old_projects_not_in_new_projects].groupby(\"state\").capacity_mw.sum()\n",
    "capacity_by_state_old_projects = old_iso_projects_long_format.groupby(\"state\").capacity_mw.sum()\n",
    "\n",
    "(capacity_by_state_old_projects_not_in_new_projects / capacity_by_state_old_projects).dropna().sort_values(ascending=False)"
   ]
  },
  {
   "cell_type": "markdown",
   "id": "fc5e625c-c0ed-40a7-a030-d4c39d28a5d8",
   "metadata": {},
   "source": [
    "Investigate what happened to the active projects in the old data. The projects should still be active, withdrawn or in service."
   ]
  },
  {
   "cell_type": "code",
   "execution_count": 35,
   "id": "06f3b61e-2613-46f8-9e49-df6c057207a9",
   "metadata": {},
   "outputs": [],
   "source": [
    "# Grab all projects in the new data that existed in the old data\n",
    "new_projects_in_old = gs_new_all_projects_long_format[gs_new_all_projects_long_format.full_queue_id.isin(gs_old_iso_projects_long_format[\"full_queue_id\"])]\n",
    "\n",
    "# Group by state and queue status and sum the capacity\n",
    "new_projects_in_old_status_state_agg = new_projects_in_old.groupby([\"state\", \"queue_status\"]).capacity_mw.sum()\n",
    "\n",
    "# Combine with total capacity change by state so we can investigate the most dramatic changes.\n",
    "state_pct_change_reshape = state_pct_change.reset_index()\n",
    "state_pct_change_reshape.columns = [\"state\", \"capacity_mw_pct_change\"]\n",
    "new_projects_in_old_status_state_agg = new_projects_in_old_status_state_agg.reset_index().merge(state_pct_change_reshape, on=\"state\", how=\"left\")"
   ]
  },
  {
   "cell_type": "code",
   "execution_count": 36,
   "id": "35193c74-5139-4d7d-8bb1-0887f13bc8d5",
   "metadata": {},
   "outputs": [
    {
     "data": {
      "text/html": [
       "<div>\n",
       "<style scoped>\n",
       "    .dataframe tbody tr th:only-of-type {\n",
       "        vertical-align: middle;\n",
       "    }\n",
       "\n",
       "    .dataframe tbody tr th {\n",
       "        vertical-align: top;\n",
       "    }\n",
       "\n",
       "    .dataframe thead th {\n",
       "        text-align: right;\n",
       "    }\n",
       "</style>\n",
       "<table border=\"1\" class=\"dataframe\">\n",
       "  <thead>\n",
       "    <tr style=\"text-align: right;\">\n",
       "      <th></th>\n",
       "      <th></th>\n",
       "      <th>capacity_mw</th>\n",
       "      <th>capacity_mw_pct_change</th>\n",
       "    </tr>\n",
       "    <tr>\n",
       "      <th>state</th>\n",
       "      <th>queue_status</th>\n",
       "      <th></th>\n",
       "      <th></th>\n",
       "    </tr>\n",
       "  </thead>\n",
       "  <tbody>\n",
       "    <tr>\n",
       "      <th rowspan=\"2\" valign=\"top\">New Hampshire</th>\n",
       "      <th>withdrawn</th>\n",
       "      <td>401.680</td>\n",
       "      <td>-0.540108</td>\n",
       "    </tr>\n",
       "    <tr>\n",
       "      <th>active</th>\n",
       "      <td>226.000</td>\n",
       "      <td>-0.540108</td>\n",
       "    </tr>\n",
       "    <tr>\n",
       "      <th rowspan=\"3\" valign=\"top\">Ohio</th>\n",
       "      <th>active</th>\n",
       "      <td>3071.000</td>\n",
       "      <td>-0.340631</td>\n",
       "    </tr>\n",
       "    <tr>\n",
       "      <th>suspended</th>\n",
       "      <td>50.000</td>\n",
       "      <td>-0.340631</td>\n",
       "    </tr>\n",
       "    <tr>\n",
       "      <th>withdrawn</th>\n",
       "      <td>2204.000</td>\n",
       "      <td>-0.340631</td>\n",
       "    </tr>\n",
       "    <tr>\n",
       "      <th rowspan=\"2\" valign=\"top\">Virginia</th>\n",
       "      <th>withdrawn</th>\n",
       "      <td>5048.400</td>\n",
       "      <td>-0.328919</td>\n",
       "    </tr>\n",
       "    <tr>\n",
       "      <th>active</th>\n",
       "      <td>10708.720</td>\n",
       "      <td>-0.328919</td>\n",
       "    </tr>\n",
       "    <tr>\n",
       "      <th rowspan=\"2\" valign=\"top\">Connecticut</th>\n",
       "      <th>active</th>\n",
       "      <td>3608.933</td>\n",
       "      <td>-0.285079</td>\n",
       "    </tr>\n",
       "    <tr>\n",
       "      <th>withdrawn</th>\n",
       "      <td>1945.388</td>\n",
       "      <td>-0.285079</td>\n",
       "    </tr>\n",
       "    <tr>\n",
       "      <th rowspan=\"2\" valign=\"top\">West Virginia</th>\n",
       "      <th>active</th>\n",
       "      <td>473.000</td>\n",
       "      <td>-0.278632</td>\n",
       "    </tr>\n",
       "    <tr>\n",
       "      <th>withdrawn</th>\n",
       "      <td>603.300</td>\n",
       "      <td>-0.278632</td>\n",
       "    </tr>\n",
       "    <tr>\n",
       "      <th rowspan=\"2\" valign=\"top\">Rhode Island</th>\n",
       "      <th>active</th>\n",
       "      <td>619.810</td>\n",
       "      <td>-0.271935</td>\n",
       "    </tr>\n",
       "    <tr>\n",
       "      <th>withdrawn</th>\n",
       "      <td>833.672</td>\n",
       "      <td>-0.271935</td>\n",
       "    </tr>\n",
       "    <tr>\n",
       "      <th rowspan=\"2\" valign=\"top\">Kentucky</th>\n",
       "      <th>active</th>\n",
       "      <td>1973.000</td>\n",
       "      <td>-0.258522</td>\n",
       "    </tr>\n",
       "    <tr>\n",
       "      <th>withdrawn</th>\n",
       "      <td>178.000</td>\n",
       "      <td>-0.258522</td>\n",
       "    </tr>\n",
       "    <tr>\n",
       "      <th rowspan=\"2\" valign=\"top\">Maryland</th>\n",
       "      <th>active</th>\n",
       "      <td>3478.000</td>\n",
       "      <td>-0.191538</td>\n",
       "    </tr>\n",
       "    <tr>\n",
       "      <th>withdrawn</th>\n",
       "      <td>960.000</td>\n",
       "      <td>-0.191538</td>\n",
       "    </tr>\n",
       "    <tr>\n",
       "      <th rowspan=\"2\" valign=\"top\">Pennsylvania</th>\n",
       "      <th>withdrawn</th>\n",
       "      <td>696.000</td>\n",
       "      <td>-0.150430</td>\n",
       "    </tr>\n",
       "    <tr>\n",
       "      <th>active</th>\n",
       "      <td>3592.000</td>\n",
       "      <td>-0.150430</td>\n",
       "    </tr>\n",
       "    <tr>\n",
       "      <th>North Carolina</th>\n",
       "      <th>active</th>\n",
       "      <td>150.000</td>\n",
       "      <td>-0.127393</td>\n",
       "    </tr>\n",
       "  </tbody>\n",
       "</table>\n",
       "</div>"
      ],
      "text/plain": [
       "                             capacity_mw  capacity_mw_pct_change\n",
       "state          queue_status                                     \n",
       "New Hampshire  withdrawn         401.680               -0.540108\n",
       "               active            226.000               -0.540108\n",
       "Ohio           active           3071.000               -0.340631\n",
       "               suspended          50.000               -0.340631\n",
       "               withdrawn        2204.000               -0.340631\n",
       "Virginia       withdrawn        5048.400               -0.328919\n",
       "               active          10708.720               -0.328919\n",
       "Connecticut    active           3608.933               -0.285079\n",
       "               withdrawn        1945.388               -0.285079\n",
       "West Virginia  active            473.000               -0.278632\n",
       "               withdrawn         603.300               -0.278632\n",
       "Rhode Island   active            619.810               -0.271935\n",
       "               withdrawn         833.672               -0.271935\n",
       "Kentucky       active           1973.000               -0.258522\n",
       "               withdrawn         178.000               -0.258522\n",
       "Maryland       active           3478.000               -0.191538\n",
       "               withdrawn         960.000               -0.191538\n",
       "Pennsylvania   withdrawn         696.000               -0.150430\n",
       "               active           3592.000               -0.150430\n",
       "North Carolina active            150.000               -0.127393"
      ]
     },
     "execution_count": 36,
     "metadata": {},
     "output_type": "execute_result"
    }
   ],
   "source": [
    "new_projects_in_old_status_state_agg.set_index([\"state\", \"queue_status\"]).sort_values(by=\"capacity_mw_pct_change\").head(20)"
   ]
  },
  {
   "cell_type": "code",
   "execution_count": 37,
   "id": "39d45d05-e929-44d3-a2b2-a414dd215ec7",
   "metadata": {},
   "outputs": [
    {
     "data": {
      "text/plain": [
       "withdrawn_date\n",
       "2024-12-31    19\n",
       "2025-03-31     2\n",
       "Freq: Q-DEC, Name: full_queue_id, dtype: int64"
      ]
     },
     "execution_count": 37,
     "metadata": {},
     "output_type": "execute_result"
    }
   ],
   "source": [
    "# The ISO the state is in might provide withdrawn dates. Make sure these projects were withdrawn recently\n",
    "\n",
    "state = \"Indiana\"\n",
    "new_projects_in_old.query(\"state == @state & queue_status == 'withdrawn'\").groupby(pd.Grouper(key=\"withdrawn_date\", freq=\"Q\")).count().full_queue_id"
   ]
  },
  {
   "cell_type": "markdown",
   "id": "28a5636f-94bd-44fe-b7c5-2db5f04d20c8",
   "metadata": {},
   "source": [
    "## PJM Vaidation (Q4 2024)\n",
    "- how many projects in the old are not in the new data?\n",
    "- For how many projects in the new and old data, how did their status change? When did the status change?"
   ]
  },
  {
   "cell_type": "code",
   "execution_count": 80,
   "id": "9aa53439-7f7f-46b9-b84d-a5a755481e8a",
   "metadata": {},
   "outputs": [],
   "source": [
    "iso_region = \"PJM\"\n",
    "\n",
    "new_pjm = gs_new_all_projects_long_format.query(\"iso_region == @iso_region\")\n",
    "old_pjm = gs_old_iso_projects_long_format.query(\"iso_region == @iso_region\")"
   ]
  },
  {
   "cell_type": "code",
   "execution_count": 81,
   "id": "a3d8ddef-ceef-4156-be58-f77833d13f6c",
   "metadata": {},
   "outputs": [
    {
     "data": {
      "text/plain": [
       "active    548\n",
       "Name: queue_status, dtype: Int64"
      ]
     },
     "execution_count": 81,
     "metadata": {},
     "output_type": "execute_result"
    }
   ],
   "source": [
    "old_pjm.queue_status.value_counts()"
   ]
  },
  {
   "cell_type": "code",
   "execution_count": 82,
   "id": "565d8959-ecbc-4eb8-9b94-c29c35ce10a6",
   "metadata": {},
   "outputs": [
    {
     "data": {
      "text/plain": [
       "0.0036496350364963502"
      ]
     },
     "execution_count": 82,
     "metadata": {},
     "output_type": "execute_result"
    }
   ],
   "source": [
    "# how many projects in the old are not in the new data?\n",
    "len(old_pjm[~old_pjm.full_queue_id.isin(new_pjm.full_queue_id)]) / len(old_pjm)"
   ]
  },
  {
   "cell_type": "code",
   "execution_count": 83,
   "id": "b242c95e-a673-4102-9972-e683e156606b",
   "metadata": {},
   "outputs": [
    {
     "data": {
      "text/plain": [
       "active         376\n",
       "withdrawn      168\n",
       "suspended        1\n",
       "operational      1\n",
       "Name: queue_status, dtype: int64"
      ]
     },
     "execution_count": 83,
     "metadata": {},
     "output_type": "execute_result"
    }
   ],
   "source": [
    "pjm_in_both = new_pjm[new_pjm.full_queue_id.isin(old_pjm.full_queue_id)]\n",
    "\n",
    "pjm_in_both[\"queue_status\"].value_counts()"
   ]
  },
  {
   "cell_type": "code",
   "execution_count": 84,
   "id": "ef4f17af-12e9-4719-a583-92d3eb6ebded",
   "metadata": {},
   "outputs": [
    {
     "data": {
      "text/plain": [
       "2024    149\n",
       "2025     19\n",
       "Name: withdrawn_date, dtype: int64"
      ]
     },
     "execution_count": 84,
     "metadata": {},
     "output_type": "execute_result"
    }
   ],
   "source": [
    "pjm_in_both.query(\"queue_status == 'withdrawn'\")[\"withdrawn_date\"].dt.year.value_counts(dropna=False)"
   ]
  },
  {
   "cell_type": "code",
   "execution_count": 85,
   "id": "4657eea1-4a1b-49bf-95c7-57ef932715e4",
   "metadata": {},
   "outputs": [
    {
     "data": {
      "text/plain": [
       "2024-12-18    102\n",
       "2024-12-17     30\n",
       "2025-01-22     13\n",
       "2025-01-14      4\n",
       "2024-12-19      2\n",
       "2024-12-03      2\n",
       "2024-12-12      2\n",
       "2024-12-09      1\n",
       "2024-11-27      1\n",
       "2025-01-28      1\n",
       "2024-10-09      1\n",
       "2024-11-11      1\n",
       "2024-12-24      1\n",
       "2024-12-02      1\n",
       "2025-01-15      1\n",
       "2024-10-14      1\n",
       "2024-10-17      1\n",
       "2024-11-15      1\n",
       "2024-11-05      1\n",
       "2024-12-26      1\n",
       "Name: withdrawn_date, dtype: int64"
      ]
     },
     "execution_count": 85,
     "metadata": {},
     "output_type": "execute_result"
    }
   ],
   "source": [
    "pjm_in_both.query(\"queue_status == 'withdrawn'\")[\"withdrawn_date\"].value_counts(dropna=False)"
   ]
  },
  {
   "cell_type": "code",
   "execution_count": 86,
   "id": "fb5954c0-900a-4647-92a7-fa0aa237e488",
   "metadata": {},
   "outputs": [
    {
     "data": {
      "text/plain": [
       "2021    138\n",
       "2020     25\n",
       "2022      4\n",
       "2019      1\n",
       "Name: date_entered_queue, dtype: int64"
      ]
     },
     "execution_count": 86,
     "metadata": {},
     "output_type": "execute_result"
    }
   ],
   "source": [
    "pjm_in_both.query(\"queue_status == 'withdrawn'\").date_entered_queue.dt.year.value_counts()"
   ]
  },
  {
   "cell_type": "code",
   "execution_count": 87,
   "id": "fb5bd6bf-a05a-4947-a978-e1a68abc08cd",
   "metadata": {},
   "outputs": [
    {
     "data": {
      "text/plain": [
       "Virginia          79\n",
       "Ohio              21\n",
       "Pennsylvania      18\n",
       "Indiana           15\n",
       "Illinois           8\n",
       "West Virginia      7\n",
       "Maryland           7\n",
       "Kentucky           4\n",
       "New Jersey         4\n",
       "North Carolina     4\n",
       "Delaware           1\n",
       "Name: state, dtype: int64"
      ]
     },
     "execution_count": 87,
     "metadata": {},
     "output_type": "execute_result"
    }
   ],
   "source": [
    "pjm_in_both.query(\"queue_status == 'withdrawn'\").state.value_counts()"
   ]
  },
  {
   "cell_type": "code",
   "execution_count": 88,
   "id": "dcc9d82e-ec69-43ad-b0cc-b9cf3de04b1f",
   "metadata": {},
   "outputs": [
    {
     "data": {
      "text/plain": [
       "Battery Storage    168\n",
       "Name: resource_clean, dtype: int64"
      ]
     },
     "execution_count": 88,
     "metadata": {},
     "output_type": "execute_result"
    }
   ],
   "source": [
    "pjm_in_both.query(\"queue_status == 'withdrawn'\").resource_clean.value_counts()"
   ]
  },
  {
   "cell_type": "markdown",
   "id": "7fa25ca6-5446-4447-a28c-48cb6cfd0d32",
   "metadata": {},
   "source": [
    "## Compare county_wide_coverage\n",
    "Often when doing an ISO queue update the `test_county_wide_coverage` test will fail. Hopefully by no more than a few dozen counties. Run the following cells to look into counties that had technical data in the old data but none in the update. Hopefully they align with the changes investigated above."
   ]
  },
  {
   "cell_type": "code",
   "execution_count": 50,
   "id": "953764d2-f2e3-4c6e-b226-98a9199346eb",
   "metadata": {},
   "outputs": [],
   "source": [
    "from dbcp.validation.tests import _get_non_county_cols_from_wide_format\n",
    "\n",
    "cols_to_fetch = _get_non_county_cols_from_wide_format(engine)"
   ]
  },
  {
   "cell_type": "code",
   "execution_count": 51,
   "id": "65ec7f46-a48b-4cd7-9631-6dc38f0ba4fb",
   "metadata": {},
   "outputs": [],
   "source": [
    "old_null = old_counties_wide_format[~old_counties_wide_format[cols_to_fetch].notnull().any(axis=1)]\n",
    "new_null = new_counties_wide_format[~new_counties_wide_format[cols_to_fetch].notnull().any(axis=1)]"
   ]
  },
  {
   "cell_type": "code",
   "execution_count": 52,
   "id": "cb5b272d-405b-4fbb-af8a-2d093a06791e",
   "metadata": {},
   "outputs": [],
   "source": [
    "# grab counties that are null in the new data but not null in old\n",
    "null_in_new = new_null[~new_null.county_id_fips.isin(old_null.county_id_fips)]"
   ]
  },
  {
   "cell_type": "code",
   "execution_count": 53,
   "id": "29ddd36b-5cbb-4e67-893a-bf087e150178",
   "metadata": {},
   "outputs": [
    {
     "data": {
      "text/plain": [
       "Kentucky         6\n",
       "Virginia         6\n",
       "Ohio             3\n",
       "New Hampshire    2\n",
       "Indiana          1\n",
       "Missouri         1\n",
       "West Virginia    1\n",
       "Name: state, dtype: int64"
      ]
     },
     "execution_count": 53,
     "metadata": {},
     "output_type": "execute_result"
    }
   ],
   "source": [
    "null_in_new.state.value_counts()"
   ]
  },
  {
   "cell_type": "code",
   "execution_count": 54,
   "id": "812f74c5-d347-4506-bb21-e1ff0a444c77",
   "metadata": {},
   "outputs": [],
   "source": [
    "# Grab the old county data for counties that are missing data in the update.\n",
    "old_counties_without_data_in_update = old_counties_wide_format[old_counties_wide_format.county_id_fips.isin(null_in_new.county_id_fips)]\n",
    "\n",
    "assert old_counties_without_data_in_update.renewable_and_battery_proposed_capacity_mw.fillna(0).lt(500).all(), \"There is a county that saw a lot of capacity disappear!\""
   ]
  },
  {
   "cell_type": "code",
   "execution_count": 55,
   "id": "bf6c27e0-928c-42f4-b77a-62e6c905545c",
   "metadata": {},
   "outputs": [
    {
     "data": {
      "text/html": [
       "<div>\n",
       "<style scoped>\n",
       "    .dataframe tbody tr th:only-of-type {\n",
       "        vertical-align: middle;\n",
       "    }\n",
       "\n",
       "    .dataframe tbody tr th {\n",
       "        vertical-align: top;\n",
       "    }\n",
       "\n",
       "    .dataframe thead th {\n",
       "        text-align: right;\n",
       "    }\n",
       "</style>\n",
       "<table border=\"1\" class=\"dataframe\">\n",
       "  <thead>\n",
       "    <tr style=\"text-align: right;\">\n",
       "      <th></th>\n",
       "      <th>county</th>\n",
       "      <th>state</th>\n",
       "      <th>renewable_and_battery_proposed_capacity_mw</th>\n",
       "    </tr>\n",
       "  </thead>\n",
       "  <tbody>\n",
       "    <tr>\n",
       "      <th>3195</th>\n",
       "      <td>Belknap</td>\n",
       "      <td>New Hampshire</td>\n",
       "      <td>19.90</td>\n",
       "    </tr>\n",
       "    <tr>\n",
       "      <th>328</th>\n",
       "      <td>Floyd</td>\n",
       "      <td>Virginia</td>\n",
       "      <td>20.00</td>\n",
       "    </tr>\n",
       "    <tr>\n",
       "      <th>2257</th>\n",
       "      <td>Williamsburg</td>\n",
       "      <td>Virginia</td>\n",
       "      <td>20.00</td>\n",
       "    </tr>\n",
       "    <tr>\n",
       "      <th>585</th>\n",
       "      <td>Pike</td>\n",
       "      <td>Ohio</td>\n",
       "      <td>21.00</td>\n",
       "    </tr>\n",
       "    <tr>\n",
       "      <th>2908</th>\n",
       "      <td>Warren</td>\n",
       "      <td>Ohio</td>\n",
       "      <td>39.87</td>\n",
       "    </tr>\n",
       "    <tr>\n",
       "      <th>2804</th>\n",
       "      <td>Brooke</td>\n",
       "      <td>West Virginia</td>\n",
       "      <td>40.00</td>\n",
       "    </tr>\n",
       "    <tr>\n",
       "      <th>2745</th>\n",
       "      <td>Lynchburg</td>\n",
       "      <td>Virginia</td>\n",
       "      <td>40.00</td>\n",
       "    </tr>\n",
       "    <tr>\n",
       "      <th>840</th>\n",
       "      <td>Cheshire</td>\n",
       "      <td>New Hampshire</td>\n",
       "      <td>49.50</td>\n",
       "    </tr>\n",
       "    <tr>\n",
       "      <th>2743</th>\n",
       "      <td>Letcher</td>\n",
       "      <td>Kentucky</td>\n",
       "      <td>50.00</td>\n",
       "    </tr>\n",
       "    <tr>\n",
       "      <th>133</th>\n",
       "      <td>Scott</td>\n",
       "      <td>Kentucky</td>\n",
       "      <td>65.00</td>\n",
       "    </tr>\n",
       "    <tr>\n",
       "      <th>1998</th>\n",
       "      <td>Jackson</td>\n",
       "      <td>Kentucky</td>\n",
       "      <td>90.00</td>\n",
       "    </tr>\n",
       "    <tr>\n",
       "      <th>1290</th>\n",
       "      <td>Taylor</td>\n",
       "      <td>Kentucky</td>\n",
       "      <td>98.00</td>\n",
       "    </tr>\n",
       "    <tr>\n",
       "      <th>745</th>\n",
       "      <td>Washington</td>\n",
       "      <td>Missouri</td>\n",
       "      <td>100.00</td>\n",
       "    </tr>\n",
       "    <tr>\n",
       "      <th>1088</th>\n",
       "      <td>Delaware</td>\n",
       "      <td>Ohio</td>\n",
       "      <td>123.00</td>\n",
       "    </tr>\n",
       "    <tr>\n",
       "      <th>1965</th>\n",
       "      <td>Lyon</td>\n",
       "      <td>Kentucky</td>\n",
       "      <td>125.00</td>\n",
       "    </tr>\n",
       "    <tr>\n",
       "      <th>1962</th>\n",
       "      <td>Leslie</td>\n",
       "      <td>Kentucky</td>\n",
       "      <td>150.00</td>\n",
       "    </tr>\n",
       "    <tr>\n",
       "      <th>485</th>\n",
       "      <td>Franklin</td>\n",
       "      <td>Indiana</td>\n",
       "      <td>180.00</td>\n",
       "    </tr>\n",
       "    <tr>\n",
       "      <th>865</th>\n",
       "      <td>Madison</td>\n",
       "      <td>Virginia</td>\n",
       "      <td>202.00</td>\n",
       "    </tr>\n",
       "    <tr>\n",
       "      <th>1115</th>\n",
       "      <td>Fairfax</td>\n",
       "      <td>Virginia</td>\n",
       "      <td>250.00</td>\n",
       "    </tr>\n",
       "    <tr>\n",
       "      <th>1773</th>\n",
       "      <td>Portsmouth</td>\n",
       "      <td>Virginia</td>\n",
       "      <td>NaN</td>\n",
       "    </tr>\n",
       "  </tbody>\n",
       "</table>\n",
       "</div>"
      ],
      "text/plain": [
       "            county          state  renewable_and_battery_proposed_capacity_mw\n",
       "3195       Belknap  New Hampshire                                       19.90\n",
       "328          Floyd       Virginia                                       20.00\n",
       "2257  Williamsburg       Virginia                                       20.00\n",
       "585           Pike           Ohio                                       21.00\n",
       "2908        Warren           Ohio                                       39.87\n",
       "2804        Brooke  West Virginia                                       40.00\n",
       "2745     Lynchburg       Virginia                                       40.00\n",
       "840       Cheshire  New Hampshire                                       49.50\n",
       "2743       Letcher       Kentucky                                       50.00\n",
       "133          Scott       Kentucky                                       65.00\n",
       "1998       Jackson       Kentucky                                       90.00\n",
       "1290        Taylor       Kentucky                                       98.00\n",
       "745     Washington       Missouri                                      100.00\n",
       "1088      Delaware           Ohio                                      123.00\n",
       "1965          Lyon       Kentucky                                      125.00\n",
       "1962        Leslie       Kentucky                                      150.00\n",
       "485       Franklin        Indiana                                      180.00\n",
       "865        Madison       Virginia                                      202.00\n",
       "1115       Fairfax       Virginia                                      250.00\n",
       "1773    Portsmouth       Virginia                                         NaN"
      ]
     },
     "execution_count": 55,
     "metadata": {},
     "output_type": "execute_result"
    }
   ],
   "source": [
    "old_counties_without_data_in_update[[\"county\", \"state\", \"renewable_and_battery_proposed_capacity_mw\"]].sort_values(by=\"renewable_and_battery_proposed_capacity_mw\")"
   ]
  }
 ],
 "metadata": {
  "kernelspec": {
   "display_name": "Python 3 (ipykernel)",
   "language": "python",
   "name": "python3"
  },
  "language_info": {
   "codemirror_mode": {
    "name": "ipython",
    "version": 3
   },
   "file_extension": ".py",
   "mimetype": "text/x-python",
   "name": "python",
   "nbconvert_exporter": "python",
   "pygments_lexer": "ipython3",
   "version": "3.10.16"
  }
 },
 "nbformat": 4,
 "nbformat_minor": 5
}
