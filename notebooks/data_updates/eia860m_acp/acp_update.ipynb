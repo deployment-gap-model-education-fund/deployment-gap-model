{
 "cells": [
  {
   "cell_type": "markdown",
   "id": "d2d813cc-4d1a-4e79-a563-bfb8bc82163e",
   "metadata": {},
   "source": [
    "## Plan\n",
    "- Compare the raw data, capacity change by iso, number of projects\n",
    "- Run the data through the etl\n",
    "- Compare the old and the new data mart tables"
   ]
  },
  {
   "cell_type": "code",
   "execution_count": 1,
   "id": "ee1b519e-453b-42e7-ac5a-91156f128331",
   "metadata": {},
   "outputs": [],
   "source": [
    "import pandas as pd\n",
    "\n",
    "import dbcp"
   ]
  },
  {
   "cell_type": "markdown",
   "id": "c0909cdc-9703-426c-ad23-89f7913328de",
   "metadata": {},
   "source": [
    "## Extract and compare the raw data"
   ]
  },
  {
   "cell_type": "code",
   "execution_count": 2,
   "id": "6f5f12b7-e1c3-407e-bd7e-3d65c869875e",
   "metadata": {},
   "outputs": [],
   "source": [
    "old_acp_uri = \"gs://dgm-archive/acp/projects_Q4_2024.csv\"\n",
    "old_raw_dfs = dbcp.extract.acp_projects.extract(old_acp_uri)[\"raw_acp_projects\"]\n",
    "\n",
    "new_acp_uri = \"gs://dgm-archive/acp/projects_Q1_2025.csv\"\n",
    "new_raw_dfs = dbcp.extract.acp_projects.extract(new_acp_uri)[\"raw_acp_projects\"]"
   ]
  },
  {
   "cell_type": "code",
   "execution_count": 3,
   "id": "aac72d80-e446-417e-b1cf-222967e5e727",
   "metadata": {},
   "outputs": [
    {
     "data": {
      "text/plain": [
       "NaN                                                4371\n",
       "MISO                                               1296\n",
       "PJM                                                1169\n",
       "CAISO                                              1071\n",
       "ISO-NE                                              903\n",
       "ERCOT                                               483\n",
       "NYISO                                               417\n",
       "Southwest Power Pool                                257\n",
       "SPP                                                 106\n",
       "ISO New England                                      25\n",
       "Southwest Power Pool | MISO                          12\n",
       "PJM | MISO                                           12\n",
       "WECC-RMRG                                             5\n",
       "PJM Interconnection                                   3\n",
       "NYISO | ISO-NE                                        3\n",
       "NYISO | PJM                                           3\n",
       "Southwest Power Pool | ERCOT                          2\n",
       "Southwest Power Pool | PJM                            1\n",
       "Midcontinent Independent System Operator (MISO)       1\n",
       "Name: ISORTOs, dtype: int64"
      ]
     },
     "execution_count": 3,
     "metadata": {},
     "output_type": "execute_result"
    }
   ],
   "source": [
    "new_raw_dfs[\"ISORTOs\"].value_counts(dropna=False)"
   ]
  },
  {
   "cell_type": "code",
   "execution_count": 4,
   "id": "ff065da1-8330-4817-9f04-60ebae4ca7b1",
   "metadata": {},
   "outputs": [
    {
     "data": {
      "text/plain": [
       "ISORTOs\n",
       "PJM Interconnection                               -0.924679\n",
       "Southwest Power Pool                              -0.012929\n",
       "ERCOT                                             -0.005072\n",
       "PJM                                               -0.003150\n",
       "MISO                                              -0.002697\n",
       "ISO New England                                    0.000000\n",
       "ISO-NE                                             0.000000\n",
       "Midcontinent Independent System Operator (MISO)    0.000000\n",
       "Southwest Power Pool | PJM                         0.000000\n",
       "NYISO | ISO-NE                                     0.000000\n",
       "NYISO | PJM                                        0.000000\n",
       "WECC-RMRG                                          0.000000\n",
       "PJM | MISO                                         0.000000\n",
       "Southwest Power Pool | ERCOT                       0.000000\n",
       "Southwest Power Pool | MISO                        0.000000\n",
       "SPP                                                0.000245\n",
       "CAISO                                              0.003838\n",
       "NYISO                                              0.034822\n",
       "NaN                                                0.076789\n",
       "Name: MW_Total_Capacity, dtype: float64"
      ]
     },
     "execution_count": 4,
     "metadata": {},
     "output_type": "execute_result"
    }
   ],
   "source": [
    "def aggregate_acp_df(df, grp_col, agg_col):\n",
    "    return df.groupby(grp_col, dropna=False).sum()[agg_col]\n",
    "\n",
    "new_iso_agg = aggregate_acp_df(new_raw_dfs, \"ISORTOs\", \"MW_Total_Capacity\")\n",
    "old_iso_agg = aggregate_acp_df(old_raw_dfs, \"ISORTOs\", \"MW_Total_Capacity\")\n",
    "\n",
    "((new_iso_agg - old_iso_agg) / old_iso_agg).sort_values()"
   ]
  },
  {
   "cell_type": "code",
   "execution_count": 5,
   "id": "4f4675d4-0dd0-4fed-9c24-71c124e6fb15",
   "metadata": {},
   "outputs": [
    {
     "data": {
      "text/plain": [
       "States\n",
       " PR    0.748659\n",
       " OR    0.344240\n",
       " DC    0.232824\n",
       " MO    0.195773\n",
       " WV    0.179949\n",
       " WI    0.178144\n",
       " CO    0.173865\n",
       " UT    0.132983\n",
       " NY    0.117532\n",
       " AL    0.109178\n",
       "Name: MW_Total_Capacity, dtype: float64"
      ]
     },
     "execution_count": 5,
     "metadata": {},
     "output_type": "execute_result"
    }
   ],
   "source": [
    "new_state_agg = aggregate_acp_df(new_raw_dfs, \"States\", \"MW_Total_Capacity\")\n",
    "old_state_agg = aggregate_acp_df(old_raw_dfs, \"States\", \"MW_Total_Capacity\")\n",
    "\n",
    "((new_state_agg - old_state_agg) / old_state_agg).sort_values(ascending=False).head(10)"
   ]
  },
  {
   "cell_type": "code",
   "execution_count": 6,
   "id": "e59086fd-222b-48ee-ae9d-9f4cd6eed68c",
   "metadata": {},
   "outputs": [
    {
     "data": {
      "text/plain": [
       "States\n",
       " OR | WA   -0.837905\n",
       "NaN              NaN\n",
       " CO | NE         NaN\n",
       " CO | WY         NaN\n",
       " IA | MO         NaN\n",
       " IL | IN         NaN\n",
       " KS | NE         NaN\n",
       " KS | OK         NaN\n",
       " MT | WY         NaN\n",
       " PA | WV         NaN\n",
       "Name: MW_Total_Capacity, dtype: float64"
      ]
     },
     "execution_count": 6,
     "metadata": {},
     "output_type": "execute_result"
    }
   ],
   "source": [
    "((new_state_agg - old_state_agg) / old_state_agg).sort_values(ascending=False).tail(10)"
   ]
  },
  {
   "cell_type": "code",
   "execution_count": 7,
   "id": "f9d91f24-8453-44c9-80bc-93a43901357f",
   "metadata": {},
   "outputs": [
    {
     "data": {
      "text/plain": [
       " OR | WA    0.909091\n",
       " OK | TX    0.909091\n",
       " MN | SD    0.875000\n",
       " IA | MN    0.666667\n",
       " NM | TX    0.500000\n",
       " PR         0.173913\n",
       " GA         0.115108\n",
       " MO         0.109091\n",
       " DC         0.100000\n",
       " OR         0.082051\n",
       "Name: States, dtype: float64"
      ]
     },
     "execution_count": 7,
     "metadata": {},
     "output_type": "execute_result"
    }
   ],
   "source": [
    "new_state_agg = new_raw_dfs[\"States\"].value_counts()\n",
    "old_state_agg = old_raw_dfs[\"States\"].value_counts()\n",
    "\n",
    "((new_state_agg - old_state_agg) / old_state_agg).abs().sort_values(ascending=False).head(10)"
   ]
  },
  {
   "cell_type": "markdown",
   "id": "2699131c-2837-41cb-905e-fb674b86bd87",
   "metadata": {},
   "source": [
    "## Compare the old and new data warehouse tables\n",
    "First, you'll need to update the `acp_uri` in `dbcp.etl` to point at the new data in the `dgm-archive` bucket, run the ETL and debug any failures. Then we'll compare the data mart tables."
   ]
  },
  {
   "cell_type": "code",
   "execution_count": 8,
   "id": "24f4e4e9-1e61-4445-bb67-f8ccf7a5b264",
   "metadata": {},
   "outputs": [],
   "source": [
    "from google.cloud import bigquery\n",
    "\n",
    "def get_bigquery_table_version(dataset_id, table_name, project_id=\"dbcp-dev-350818\"):\n",
    "    \"\"\"\n",
    "    Get the data version of a BigQuery table.\n",
    "\n",
    "    The dbcp.commands.publish script generates a version number for each data release\n",
    "    and adds it as a label to the BQ tables.\n",
    "\n",
    "    Args:\n",
    "        dataset_id: the BQ dataset ID\n",
    "        table_name: the name of the table\n",
    "        project_id: the GCP project id\n",
    "\n",
    "    Return:\n",
    "        the current DBCP version number of the requested table\n",
    "    \"\"\"\n",
    "    client = bigquery.Client()\n",
    "\n",
    "    table_ref = f\"{project_id}.{dataset_id}.{table_name}\"\n",
    "    table = client.get_table(table_ref)  # Fetch table metadata\n",
    "\n",
    "    labels = table.labels  # Get the labels dictionary\n",
    "    return labels[\"version\"]\n",
    "\n",
    "\n",
    "from dbcp.extract.helpers import cache_gcs_archive_file_locally\n",
    "\n",
    "table_name = \"acp_projects\"\n",
    "schema = \"private_data_warehouse\"\n",
    "bq_dataset = schema + \"_dev\"\n",
    "version = get_bigquery_table_version(bq_dataset, table_name)\n",
    "uri = f\"gs://dgm-outputs/{version}/{schema}/{table_name}.parquet\"\n",
    "data_cache = \"/app/data/gcp_outputs\"\n",
    "\n",
    "acp_projects = cache_gcs_archive_file_locally(uri, data_cache)\n",
    "old_acp_projects = pd.read_parquet(acp_projects)"
   ]
  },
  {
   "cell_type": "code",
   "execution_count": 39,
   "id": "4c167611-c0b0-4d7b-817a-2b7d2afecd1a",
   "metadata": {},
   "outputs": [],
   "source": [
    "# OR can use:\n",
    "\"\"\"\n",
    "import pandas as pd\n",
    "\n",
    "from dbcp.helpers import get_sql_engine\n",
    "\n",
    "engine = get_sql_engine()\n",
    "\n",
    "with engine.connect() as con:\n",
    "    new_acp_projects_2 = pd.read_sql_table(\"acp_projects\", con, schema=\"private_data_warehouse\")\n",
    "\"\"\"\n",
    "\n",
    "acp_project_path = \"/app/data/output/private_data_warehouse/acp_projects.parquet\"\n",
    "\n",
    "new_acp_projects = pd.read_parquet(acp_project_path)"
   ]
  },
  {
   "cell_type": "code",
   "execution_count": 29,
   "id": "318b4577-72cb-45d5-9469-6af50727a66c",
   "metadata": {
    "scrolled": true
   },
   "outputs": [
    {
     "name": "stdout",
     "output_type": "stream",
     "text": [
      "<class 'pandas.core.frame.DataFrame'>\n",
      "RangeIndex: 10140 entries, 0 to 10139\n",
      "Data columns (total 72 columns):\n",
      " #   Column                              Non-Null Count  Dtype  \n",
      "---  ------                              --------------  -----  \n",
      " 0   proj_id                             10140 non-null  Int64  \n",
      " 1   status                              10140 non-null  string \n",
      " 2   plant_id_eia                        8844 non-null   Int64  \n",
      " 3   project_name                        10140 non-null  string \n",
      " 4   phase_name                          10140 non-null  string \n",
      " 5   resource                            10140 non-null  string \n",
      " 6   developers                          5836 non-null   string \n",
      " 7   owners                              9895 non-null   string \n",
      " 8   iso_region                          5769 non-null   string \n",
      " 9   owner_types                         9860 non-null   string \n",
      " 10  capacity_mw                         10140 non-null  float64\n",
      " 11  state_id_fips                       10139 non-null  string \n",
      " 12  county_id_fips                      10091 non-null  string \n",
      " 13  avg_latitude                        9536 non-null   float64\n",
      " 14  avg_longitude                       9536 non-null   float64\n",
      " 15  geocoded_locality_name              9847 non-null   string \n",
      " 16  geocoded_locality_type              9847 non-null   string \n",
      " 17  geocoded_containing_county          9847 non-null   string \n",
      " 18  geocoded_county_id_fips             9843 non-null   string \n",
      " 19  geocoded_state_id_fips              9895 non-null   string \n",
      " 20  census_county_id_fips               9527 non-null   string \n",
      " 21  raw_mw_total_capacity               10140 non-null  float64\n",
      " 22  raw_units_total                     10140 non-null  string \n",
      " 23  raw_mw_online_capacity              8618 non-null   string \n",
      " 24  raw_mw_under_construction_capacity  583 non-null    float64\n",
      " 25  raw_mw_adv_development_capacity     810 non-null    float64\n",
      " 26  raw_mw_decommissioned_capacity      170 non-null    float64\n",
      " 27  raw_units_online                    8618 non-null   Int64  \n",
      " 28  raw_units_under_construction        583 non-null    Int64  \n",
      " 29  raw_units_adv_development           810 non-null    Int64  \n",
      " 30  raw_units_decommissioned            170 non-null    Int64  \n",
      " 31  raw_years_online                    8746 non-null   string \n",
      " 32  raw_quarters_online                 8746 non-null   string \n",
      " 33  raw_countries                       10139 non-null  string \n",
      " 34  raw_states                          10139 non-null  string \n",
      " 35  raw_counties                        10129 non-null  string \n",
      " 36  raw_community                       10140 non-null  boolean\n",
      " 37  raw_repower_type                    186 non-null    string \n",
      " 38  raw_repower_phases                  9 non-null      string \n",
      " 39  raw_owner_types                     9899 non-null   string \n",
      " 40  raw_constructors                    1341 non-null   string \n",
      " 41  raw_servicers                       318 non-null    string \n",
      " 42  raw_manufacturers                   10139 non-null  string \n",
      " 43  raw_models                          10140 non-null  string \n",
      " 44  raw_hub_heights                     1844 non-null   string \n",
      " 45  raw_rotor_diameters                 1844 non-null   string \n",
      " 46  raw_total_heights                   1844 non-null   string \n",
      " 47  raw_avg_latitude                    9537 non-null   string \n",
      " 48  raw_avg_longitude                   9537 non-null   string \n",
      " 49  raw_offtake_types                   7999 non-null   string \n",
      " 50  raw_power_purchasers                7490 non-null   string \n",
      " 51  raw_power_purchaser_types           7999 non-null   string \n",
      " 52  raw_power_purchaser_type_details    7999 non-null   string \n",
      " 53  raw_ppa_rates                       411 non-null    string \n",
      " 54  raw_ppa_start_years                 4772 non-null   string \n",
      " 55  raw_ppa_end_years                   2998 non-null   string \n",
      " 56  raw_ppa_durations                   2969 non-null   string \n",
      " 57  raw_interconnected_utilities        5956 non-null   string \n",
      " 58  raw_iso_rtos                        5769 non-null   string \n",
      " 59  raw_nercs                           7619 non-null   string \n",
      " 60  raw_balancing_authorities           7563 non-null   string \n",
      " 61  raw_state_houses                    10111 non-null  string \n",
      " 62  raw_state_senates                   10120 non-null  string \n",
      " 63  raw_congressional_districts         10129 non-null  string \n",
      " 64  raw_secondary_offtake_types         172 non-null    string \n",
      " 65  raw_secondary_purchaser_ids         165 non-null    string \n",
      " 66  raw_secondary_purchaser_types       171 non-null    string \n",
      " 67  raw_tracking_types                  7025 non-null   string \n",
      " 68  raw_ilrs                            6654 non-null   float64\n",
      " 69  raw_nameplate_mws                   10140 non-null  string \n",
      " 70  raw_storage_energies                1047 non-null   string \n",
      " 71  raw_storage_durations               1197 non-null   string \n",
      "dtypes: Int64(6), boolean(1), float64(8), string(57)\n",
      "memory usage: 5.6 MB\n"
     ]
    }
   ],
   "source": [
    "new_acp_projects.info()"
   ]
  },
  {
   "cell_type": "code",
   "execution_count": 30,
   "id": "912a86f7-977b-4d98-b608-1513dd01008c",
   "metadata": {},
   "outputs": [
    {
     "name": "stderr",
     "output_type": "stream",
     "text": [
      "/app/.local/lib/python3.10/site-packages/pandas/core/arrays/integer.py:122: RuntimeWarning: invalid value encountered in cast\n",
      "  casted = values.astype(dtype, copy=copy)\n",
      "/tmp/ipykernel_18/872281099.py:2: FutureWarning: Dropping invalid columns in DataFrameGroupBy.add is deprecated. In a future version, a TypeError will be raised. Before calling .add, select only columns which should be valid for the function.\n",
      "  return df.groupby(grp_col, dropna=False).sum()[agg_col]\n",
      "/app/.local/lib/python3.10/site-packages/pandas/core/arrays/integer.py:122: RuntimeWarning: invalid value encountered in cast\n",
      "  casted = values.astype(dtype, copy=copy)\n",
      "/tmp/ipykernel_18/872281099.py:2: FutureWarning: Dropping invalid columns in DataFrameGroupBy.add is deprecated. In a future version, a TypeError will be raised. Before calling .add, select only columns which should be valid for the function.\n",
      "  return df.groupby(grp_col, dropna=False).sum()[agg_col]\n"
     ]
    },
    {
     "data": {
      "text/plain": [
       "iso_region\n",
       "PJM         -0.045338\n",
       "SPP         -0.010307\n",
       "ERCOT       -0.003255\n",
       "ISONE        0.000000\n",
       "WECC-RMRG    0.000000\n",
       "MISO         0.002261\n",
       "CAISO        0.003721\n",
       "NYISO        0.030529\n",
       "<NA>         0.076721\n",
       "Name: capacity_mw, dtype: float64"
      ]
     },
     "execution_count": 30,
     "metadata": {},
     "output_type": "execute_result"
    }
   ],
   "source": [
    "new_iso_agg = aggregate_acp_df(new_acp_projects, \"iso_region\", \"capacity_mw\")\n",
    "old_iso_agg = aggregate_acp_df(old_acp_projects, \"iso_region\", \"capacity_mw\")\n",
    "\n",
    "((new_iso_agg - old_iso_agg) / old_iso_agg).sort_values()"
   ]
  },
  {
   "cell_type": "code",
   "execution_count": 38,
   "id": "fa28c256-28c2-4ee1-a1ad-7401138f9b02",
   "metadata": {},
   "outputs": [
    {
     "name": "stderr",
     "output_type": "stream",
     "text": [
      "/app/.local/lib/python3.10/site-packages/pandas/core/arrays/integer.py:122: RuntimeWarning: invalid value encountered in cast\n",
      "  casted = values.astype(dtype, copy=copy)\n",
      "/tmp/ipykernel_18/872281099.py:2: FutureWarning: Dropping invalid columns in DataFrameGroupBy.add is deprecated. In a future version, a TypeError will be raised. Before calling .add, select only columns which should be valid for the function.\n",
      "  return df.groupby(grp_col, dropna=False).sum()[agg_col]\n",
      "/app/.local/lib/python3.10/site-packages/pandas/core/arrays/integer.py:122: RuntimeWarning: invalid value encountered in cast\n",
      "  casted = values.astype(dtype, copy=copy)\n",
      "/tmp/ipykernel_18/872281099.py:2: FutureWarning: Dropping invalid columns in DataFrameGroupBy.add is deprecated. In a future version, a TypeError will be raised. Before calling .add, select only columns which should be valid for the function.\n",
      "  return df.groupby(grp_col, dropna=False).sum()[agg_col]\n"
     ]
    },
    {
     "data": {
      "text/plain": [
       "raw_states\n",
       "PR    0.722559\n",
       "OR    0.344240\n",
       "DC    0.232824\n",
       "MO    0.195773\n",
       "WI    0.177787\n",
       "CO    0.174491\n",
       "WV    0.171444\n",
       "UT    0.132983\n",
       "NY    0.117532\n",
       "AL    0.109178\n",
       "Name: capacity_mw, dtype: float64"
      ]
     },
     "execution_count": 38,
     "metadata": {},
     "output_type": "execute_result"
    }
   ],
   "source": [
    "new_state_agg = aggregate_acp_df(new_acp_projects, \"raw_states\", \"capacity_mw\")\n",
    "old_state_agg = aggregate_acp_df(old_acp_projects, \"raw_states\", \"capacity_mw\")\n",
    "\n",
    "((new_state_agg - old_state_agg) / old_state_agg).sort_values(ascending=False).head(10)"
   ]
  },
  {
   "cell_type": "code",
   "execution_count": 32,
   "id": "e812dab6-9da5-4e9b-bd64-2138eb501deb",
   "metadata": {},
   "outputs": [],
   "source": [
    "states_with_capacity_increases = ((new_state_agg - old_state_agg) / old_state_agg).sort_values(ascending=False).head(10).index.to_list()"
   ]
  },
  {
   "cell_type": "code",
   "execution_count": 33,
   "id": "81aa22b8-a6db-45e0-89a9-c4ce0e6ba726",
   "metadata": {},
   "outputs": [
    {
     "data": {
      "text/plain": [
       "raw_states\n",
       " OR | WA   -0.837905\n",
       " CO | NE         NaN\n",
       " CO | WY         NaN\n",
       " IA | MO         NaN\n",
       " IL | IN         NaN\n",
       " KS | NE         NaN\n",
       " KS | OK         NaN\n",
       " MT | WY         NaN\n",
       " PA | WV         NaN\n",
       "<NA>             NaN\n",
       "Name: capacity_mw, dtype: float64"
      ]
     },
     "execution_count": 33,
     "metadata": {},
     "output_type": "execute_result"
    }
   ],
   "source": [
    "((new_state_agg - old_state_agg) / old_state_agg).sort_values(ascending=False).tail(10)"
   ]
  },
  {
   "cell_type": "markdown",
   "id": "49ae4319-cfce-4d1f-8843-96da5cdfee9f",
   "metadata": {},
   "source": [
    "- compare capacity change by state by status? (can an acp project be withdrawn?)\n",
    "- What's the difference between advanced development and under construction\n",
    "- For states that have large increases in capacity, we'd expect that show up in the first phase (advanced development)\n",
    "- Do a little research, ACP \n",
    "- utility dive, S&P"
   ]
  },
  {
   "cell_type": "code",
   "execution_count": 24,
   "id": "5882d907-b96f-40e6-9196-975e9390101d",
   "metadata": {},
   "outputs": [
    {
     "data": {
      "text/plain": [
       "Online                     8364\n",
       "Advanced Development        774\n",
       "Under Construction          574\n",
       "Decommissioned              127\n",
       "Online | Decommissioned      41\n",
       "Name: status, dtype: Int64"
      ]
     },
     "execution_count": 24,
     "metadata": {},
     "output_type": "execute_result"
    }
   ],
   "source": [
    "old_acp_projects[\"status\"].value_counts()"
   ]
  },
  {
   "cell_type": "code",
   "execution_count": 25,
   "id": "b34a3d71-c6b2-4eba-9f34-141c1220ceb6",
   "metadata": {},
   "outputs": [
    {
     "name": "stdout",
     "output_type": "stream",
     "text": [
      "<class 'pandas.core.frame.DataFrame'>\n",
      "RangeIndex: 9881 entries, 0 to 9880\n",
      "Data columns (total 72 columns):\n",
      " #   Column                              Non-Null Count  Dtype  \n",
      "---  ------                              --------------  -----  \n",
      " 0   proj_id                             9881 non-null   Int64  \n",
      " 1   status                              9880 non-null   string \n",
      " 2   plant_id_eia                        8650 non-null   Int64  \n",
      " 3   project_name                        9881 non-null   string \n",
      " 4   phase_name                          9881 non-null   string \n",
      " 5   resource                            9881 non-null   string \n",
      " 6   developers                          5565 non-null   string \n",
      " 7   owners                              9637 non-null   string \n",
      " 8   iso_region                          5770 non-null   string \n",
      " 9   owner_types                         9606 non-null   string \n",
      " 10  capacity_mw                         9881 non-null   float64\n",
      " 11  state_id_fips                       9881 non-null   string \n",
      " 12  county_id_fips                      9831 non-null   string \n",
      " 13  avg_latitude                        9321 non-null   float64\n",
      " 14  avg_longitude                       9321 non-null   float64\n",
      " 15  geocoded_locality_name              9469 non-null   string \n",
      " 16  geocoded_locality_type              9469 non-null   string \n",
      " 17  geocoded_containing_county          9469 non-null   string \n",
      " 18  geocoded_county_id_fips             9457 non-null   string \n",
      " 19  geocoded_state_id_fips              9519 non-null   string \n",
      " 20  census_county_id_fips               9311 non-null   string \n",
      " 21  raw_mw_total_capacity               9881 non-null   float64\n",
      " 22  raw_units_total                     9881 non-null   string \n",
      " 23  raw_mw_online_capacity              8405 non-null   string \n",
      " 24  raw_mw_under_construction_capacity  574 non-null    float64\n",
      " 25  raw_mw_adv_development_capacity     775 non-null    float64\n",
      " 26  raw_mw_decommissioned_capacity      168 non-null    float64\n",
      " 27  raw_units_online                    8405 non-null   Int64  \n",
      " 28  raw_units_under_construction        574 non-null    Int64  \n",
      " 29  raw_units_adv_development           775 non-null    Int64  \n",
      " 30  raw_units_decommissioned            168 non-null    Int64  \n",
      " 31  raw_years_online                    8532 non-null   string \n",
      " 32  raw_quarters_online                 8532 non-null   string \n",
      " 33  raw_countries                       9881 non-null   string \n",
      " 34  raw_states                          9881 non-null   string \n",
      " 35  raw_counties                        9869 non-null   string \n",
      " 36  raw_community                       9881 non-null   boolean\n",
      " 37  raw_repower_type                    181 non-null    string \n",
      " 38  raw_repower_phases                  9 non-null      string \n",
      " 39  raw_owner_types                     9640 non-null   string \n",
      " 40  raw_constructors                    1267 non-null   string \n",
      " 41  raw_servicers                       319 non-null    string \n",
      " 42  raw_manufacturers                   9880 non-null   string \n",
      " 43  raw_models                          9881 non-null   string \n",
      " 44  raw_hub_heights                     1832 non-null   string \n",
      " 45  raw_rotor_diameters                 1832 non-null   string \n",
      " 46  raw_total_heights                   1832 non-null   string \n",
      " 47  raw_avg_latitude                    9322 non-null   string \n",
      " 48  raw_avg_longitude                   9322 non-null   string \n",
      " 49  raw_offtake_types                   7762 non-null   string \n",
      " 50  raw_power_purchasers                7254 non-null   string \n",
      " 51  raw_power_purchaser_types           7762 non-null   string \n",
      " 52  raw_power_purchaser_type_details    7762 non-null   string \n",
      " 53  raw_ppa_rates                       410 non-null    string \n",
      " 54  raw_ppa_start_years                 4722 non-null   string \n",
      " 55  raw_ppa_end_years                   2977 non-null   string \n",
      " 56  raw_ppa_durations                   2948 non-null   string \n",
      " 57  raw_interconnected_utilities        5954 non-null   string \n",
      " 58  raw_iso_rtos                        5770 non-null   string \n",
      " 59  raw_nercs                           7609 non-null   string \n",
      " 60  raw_balancing_authorities           7553 non-null   string \n",
      " 61  raw_state_houses                    9851 non-null   string \n",
      " 62  raw_state_senates                   9860 non-null   string \n",
      " 63  raw_congressional_districts         9869 non-null   string \n",
      " 64  raw_secondary_offtake_types         171 non-null    string \n",
      " 65  raw_secondary_purchaser_ids         164 non-null    string \n",
      " 66  raw_secondary_purchaser_types       170 non-null    string \n",
      " 67  raw_tracking_types                  6842 non-null   string \n",
      " 68  raw_ilrs                            6503 non-null   float64\n",
      " 69  raw_nameplate_mws                   9881 non-null   string \n",
      " 70  raw_storage_energies                987 non-null    string \n",
      " 71  raw_storage_durations               1127 non-null   string \n",
      "dtypes: Int64(6), boolean(1), float64(8), string(57)\n",
      "memory usage: 5.4 MB\n"
     ]
    }
   ],
   "source": [
    "old_acp_projects.info()"
   ]
  },
  {
   "cell_type": "code",
   "execution_count": 21,
   "id": "dd17d2d1-bf4a-4ed5-a665-16c8bf1628ca",
   "metadata": {},
   "outputs": [],
   "source": [
    "def pct_change_mw_by_status(new, old):\n",
    "\n",
    "    new_agg = new.groupby(\"status\").capacity_mw.sum()\n",
    "    old_agg = old.groupby(\"status\").capacity_mw.sum()\n",
    "    return (new_agg - old_agg) / old_agg * 100"
   ]
  },
  {
   "cell_type": "code",
   "execution_count": 22,
   "id": "6da7e050-23ce-47be-96d6-12dd6a82e162",
   "metadata": {},
   "outputs": [
    {
     "data": {
      "text/plain": [
       "status\n",
       "Advanced Development       -1.995066\n",
       "Decommissioned             11.965563\n",
       "Online                      3.193611\n",
       "Online | Decommissioned     0.000000\n",
       "Under Construction          8.500073\n",
       "Name: capacity_mw, dtype: float64"
      ]
     },
     "execution_count": 22,
     "metadata": {},
     "output_type": "execute_result"
    }
   ],
   "source": [
    "pct_change_mw_by_status(new_acp_projects, old_acp_projects)"
   ]
  },
  {
   "cell_type": "markdown",
   "id": "f302b3e8-c408-46d6-91cb-b6682f6d6e72",
   "metadata": {},
   "source": [
    "## % capacity change by status and ISO"
   ]
  },
  {
   "cell_type": "code",
   "execution_count": 23,
   "id": "d6485d2e-b0f0-42ae-956f-48f53acf406e",
   "metadata": {},
   "outputs": [
    {
     "data": {
      "text/plain": [
       "<NA>         4371\n",
       "MISO         1297\n",
       "PJM          1184\n",
       "CAISO        1071\n",
       "ISONE         928\n",
       "ERCOT         483\n",
       "NYISO         423\n",
       "SPP           378\n",
       "WECC-RMRG       5\n",
       "Name: iso_region, dtype: Int64"
      ]
     },
     "execution_count": 23,
     "metadata": {},
     "output_type": "execute_result"
    }
   ],
   "source": [
    "new_acp_projects.iso_region.value_counts(dropna=False)"
   ]
  },
  {
   "cell_type": "code",
   "execution_count": 24,
   "id": "6769bc0a-38e1-49ed-878f-b3c038c7844d",
   "metadata": {},
   "outputs": [
    {
     "name": "stdout",
     "output_type": "stream",
     "text": [
      "CAISO\n",
      "status\n",
      "Advanced Development      -1.020903\n",
      "Decommissioned             0.000000\n",
      "Online                     1.233308\n",
      "Online | Decommissioned    0.000000\n",
      "Under Construction        -8.916254\n",
      "Name: capacity_mw, dtype: float64\n",
      "\n",
      "<NA>\n",
      "Series([], Name: capacity_mw, dtype: float64)\n",
      "\n",
      "PJM\n",
      "status\n",
      "Advanced Development      -30.836083\n",
      "Decommissioned              0.000000\n",
      "Online                      2.634876\n",
      "Online | Decommissioned     0.000000\n",
      "Under Construction        -10.868479\n",
      "Name: capacity_mw, dtype: float64\n",
      "\n",
      "ISONE\n",
      "status\n",
      "Advanced Development    0.000000\n",
      "Decommissioned          0.000000\n",
      "Online                  2.949164\n",
      "Under Construction     -6.858421\n",
      "Name: capacity_mw, dtype: float64\n",
      "\n",
      "NYISO\n",
      "status\n",
      "Advanced Development    -48.257130\n",
      "Online                    3.112100\n",
      "Under Construction      601.199913\n",
      "Name: capacity_mw, dtype: float64\n",
      "\n",
      "MISO\n",
      "status\n",
      "Advanced Development       -1.572384\n",
      "Decommissioned             79.666003\n",
      "Online                      1.003694\n",
      "Online | Decommissioned     0.000000\n",
      "Under Construction        -16.776085\n",
      "Name: capacity_mw, dtype: float64\n",
      "\n",
      "SPP\n",
      "status\n",
      "Advanced Development      -35.710172\n",
      "Decommissioned              0.000000\n",
      "Online                      1.583473\n",
      "Online | Decommissioned     0.000000\n",
      "Under Construction        -72.549423\n",
      "Name: capacity_mw, dtype: float64\n",
      "\n",
      "ERCOT\n",
      "status\n",
      "Advanced Development        0.000000\n",
      "Decommissioned             18.778349\n",
      "Online                     -0.080170\n",
      "Online | Decommissioned     0.000000\n",
      "Under Construction        -11.223345\n",
      "Name: capacity_mw, dtype: float64\n",
      "\n",
      "WECC-RMRG\n",
      "status\n",
      "Online    0.0\n",
      "Name: capacity_mw, dtype: float64\n",
      "\n"
     ]
    }
   ],
   "source": [
    "for iso_region in new_acp_projects.iso_region.unique():\n",
    "    new_prj_iso = new_acp_projects[new_acp_projects.iso_region == iso_region]\n",
    "    old_prj_iso = old_acp_projects[old_acp_projects.iso_region == iso_region]\n",
    "\n",
    "    pct_change = pct_change_mw_by_status(new_prj_iso, old_prj_iso)\n",
    "\n",
    "    print(iso_region)\n",
    "    print(pct_change)\n",
    "    print()"
   ]
  },
  {
   "cell_type": "code",
   "execution_count": 27,
   "id": "a4100ed6-5875-490a-8445-1a36f3cc21f9",
   "metadata": {},
   "outputs": [
    {
     "name": "stdout",
     "output_type": "stream",
     "text": [
      " PR\n",
      "status\n",
      "Advanced Development      0.000000\n",
      "Decommissioned            0.000000\n",
      "Online                    0.000000\n",
      "Under Construction      253.263708\n",
      "Name: capacity_mw, dtype: float64\n",
      "\n",
      " OR\n",
      "status\n",
      "Advanced Development       56.375195\n",
      "Online                     28.532250\n",
      "Online | Decommissioned          NaN\n",
      "Under Construction        -11.704120\n",
      "Name: capacity_mw, dtype: float64\n",
      "\n",
      " DC\n",
      "status\n",
      "Online    23.282443\n",
      "Name: capacity_mw, dtype: float64\n",
      "\n",
      " MO\n",
      "status\n",
      "Advanced Development    26.182432\n",
      "Online                  20.064258\n",
      "Under Construction      15.152171\n",
      "Name: capacity_mw, dtype: float64\n",
      "\n",
      " WI\n",
      "status\n",
      "Advanced Development    70.913830\n",
      "Decommissioned           0.000000\n",
      "Online                  12.844362\n",
      "Under Construction     -39.227960\n",
      "Name: capacity_mw, dtype: float64\n",
      "\n",
      " CO\n",
      "status\n",
      "Advanced Development       75.706801\n",
      "Decommissioned             50.769231\n",
      "Online                      4.215098\n",
      "Online | Decommissioned     0.000000\n",
      "Under Construction         21.147087\n",
      "Name: capacity_mw, dtype: float64\n",
      "\n",
      " WV\n",
      "status\n",
      "Advanced Development    199.519231\n",
      "Decommissioned            0.000000\n",
      "Online                    0.555580\n",
      "Under Construction      -40.636042\n",
      "Name: capacity_mw, dtype: float64\n",
      "\n",
      " UT\n",
      "status\n",
      "Advanced Development    28.571429\n",
      "Online                   0.000000\n",
      "Under Construction      29.971182\n",
      "Name: capacity_mw, dtype: float64\n",
      "\n",
      " NY\n",
      "status\n",
      "Advanced Development     -7.651901\n",
      "Online                    3.383376\n",
      "Under Construction      247.204743\n",
      "Name: capacity_mw, dtype: float64\n",
      "\n",
      " AL\n",
      "status\n",
      "Advanced Development    30.864198\n",
      "Online                   0.000000\n",
      "Under Construction       0.000000\n",
      "Name: capacity_mw, dtype: float64\n",
      "\n"
     ]
    }
   ],
   "source": [
    "for state in states_with_capacity_increases:\n",
    "    new_prj_iso = new_acp_projects[new_acp_projects.raw_states == state]\n",
    "    old_prj_iso = old_acp_projects[old_acp_projects.raw_states == state]\n",
    "\n",
    "    pct_change = pct_change_mw_by_status(new_prj_iso, old_prj_iso)\n",
    "\n",
    "    print(state)\n",
    "    print(pct_change)\n",
    "    print()"
   ]
  },
  {
   "cell_type": "code",
   "execution_count": null,
   "id": "3e1ae823-c53c-4b80-ac0d-85acbb6cbdbd",
   "metadata": {},
   "outputs": [],
   "source": []
  }
 ],
 "metadata": {
  "kernelspec": {
   "display_name": "Python 3 (ipykernel)",
   "language": "python",
   "name": "python3"
  },
  "language_info": {
   "codemirror_mode": {
    "name": "ipython",
    "version": 3
   },
   "file_extension": ".py",
   "mimetype": "text/x-python",
   "name": "python",
   "nbconvert_exporter": "python",
   "pygments_lexer": "ipython3",
   "version": "3.10.18"
  }
 },
 "nbformat": 4,
 "nbformat_minor": 5
}
