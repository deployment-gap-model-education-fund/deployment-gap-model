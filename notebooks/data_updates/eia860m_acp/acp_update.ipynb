{
 "cells": [
  {
   "cell_type": "markdown",
   "id": "d2d813cc-4d1a-4e79-a563-bfb8bc82163e",
   "metadata": {},
   "source": [
    "## Plan\n",
    "- Compare the raw data, capacity change by iso, number of projects\n",
    "- Run the data through the etl\n",
    "- Compare the old and the new data mart tables"
   ]
  },
  {
   "cell_type": "code",
   "execution_count": 29,
   "id": "ee1b519e-453b-42e7-ac5a-91156f128331",
   "metadata": {},
   "outputs": [],
   "source": [
    "import pandas as pd\n",
    "\n",
    "import dbcp"
   ]
  },
  {
   "cell_type": "markdown",
   "id": "c0909cdc-9703-426c-ad23-89f7913328de",
   "metadata": {},
   "source": [
    "## Extract and compare the raw data"
   ]
  },
  {
   "cell_type": "code",
   "execution_count": 30,
   "id": "6f5f12b7-e1c3-407e-bd7e-3d65c869875e",
   "metadata": {},
   "outputs": [],
   "source": [
    "old_acp_uri = \"gs://dgm-archive/acp/projects_Q3_2024.csv\"\n",
    "old_raw_dfs = dbcp.extract.acp_projects.extract(old_acp_uri)[\"raw_acp_projects\"]\n",
    "\n",
    "new_acp_uri = \"gs://dgm-archive/acp/projects_Q4_2024.csv\"\n",
    "new_raw_dfs = dbcp.extract.acp_projects.extract(new_acp_uri)[\"raw_acp_projects\"]"
   ]
  },
  {
   "cell_type": "code",
   "execution_count": 31,
   "id": "aac72d80-e446-417e-b1cf-222967e5e727",
   "metadata": {},
   "outputs": [
    {
     "data": {
      "text/plain": [
       "NaN                                                4111\n",
       "MISO                                               1296\n",
       "PJM                                                1170\n",
       "CAISO                                              1071\n",
       "ISO-NE                                              903\n",
       "ERCOT                                               484\n",
       "NYISO                                               414\n",
       "Southwest Power Pool                                258\n",
       "SPP                                                 106\n",
       "ISO New England                                      25\n",
       "Southwest Power Pool | MISO                          12\n",
       "PJM | MISO                                           12\n",
       "WECC-RMRG                                             5\n",
       "PJM Interconnection                                   4\n",
       "NYISO | ISO-NE                                        3\n",
       "NYISO | PJM                                           3\n",
       "Southwest Power Pool | ERCOT                          2\n",
       "Southwest Power Pool | PJM                            1\n",
       "Midcontinent Independent System Operator (MISO)       1\n",
       "Name: ISORTOs, dtype: int64"
      ]
     },
     "execution_count": 31,
     "metadata": {},
     "output_type": "execute_result"
    }
   ],
   "source": [
    "new_raw_dfs[\"ISORTOs\"].value_counts(dropna=False)"
   ]
  },
  {
   "cell_type": "code",
   "execution_count": 32,
   "id": "ff065da1-8330-4817-9f04-60ebae4ca7b1",
   "metadata": {},
   "outputs": [
    {
     "data": {
      "text/plain": [
       "ISORTOs\n",
       "SPP                                               -0.032631\n",
       "ISO-NE                                            -0.008834\n",
       "ERCOT                                             -0.008030\n",
       "PJM                                               -0.007363\n",
       "ISO New England                                   -0.001879\n",
       "CAISO                                             -0.000090\n",
       "NYISO | ISO-NE                                     0.000000\n",
       "NYISO | PJM                                        0.000000\n",
       "WECC-RMRG                                          0.000000\n",
       "PJM Interconnection                                0.000000\n",
       "PJM | MISO                                         0.000000\n",
       "Southwest Power Pool | ERCOT                       0.000000\n",
       "Southwest Power Pool | MISO                        0.000000\n",
       "Southwest Power Pool | PJM                         0.000000\n",
       "Midcontinent Independent System Operator (MISO)    0.000000\n",
       "MISO                                               0.003593\n",
       "Southwest Power Pool                               0.004272\n",
       "NYISO                                              0.040221\n",
       "NaN                                                0.145768\n",
       "Name: MW_Total_Capacity, dtype: float64"
      ]
     },
     "execution_count": 32,
     "metadata": {},
     "output_type": "execute_result"
    }
   ],
   "source": [
    "def aggregate_acp_df(df, grp_col, agg_col):\n",
    "    return df.groupby(grp_col, dropna=False).sum()[agg_col]\n",
    "\n",
    "new_iso_agg = aggregate_acp_df(new_raw_dfs, \"ISORTOs\", \"MW_Total_Capacity\")\n",
    "old_iso_agg = aggregate_acp_df(old_raw_dfs, \"ISORTOs\", \"MW_Total_Capacity\")\n",
    "\n",
    "((new_iso_agg - old_iso_agg) / old_iso_agg).sort_values()"
   ]
  },
  {
   "cell_type": "code",
   "execution_count": 33,
   "id": "4f4675d4-0dd0-4fed-9c24-71c124e6fb15",
   "metadata": {},
   "outputs": [
    {
     "data": {
      "text/plain": [
       "States\n",
       " OR | WA    5.169203\n",
       " OK | TX    4.567508\n",
       " MN | SD    4.435000\n",
       " IA | MN    1.857798\n",
       " NM | TX    0.884645\n",
       " AZ         0.555936\n",
       " PR         0.471577\n",
       " MD         0.250855\n",
       " AR         0.196688\n",
       " ID         0.164094\n",
       "Name: MW_Total_Capacity, dtype: float64"
      ]
     },
     "execution_count": 33,
     "metadata": {},
     "output_type": "execute_result"
    }
   ],
   "source": [
    "new_state_agg = aggregate_acp_df(new_raw_dfs, \"States\", \"MW_Total_Capacity\")\n",
    "old_state_agg = aggregate_acp_df(old_raw_dfs, \"States\", \"MW_Total_Capacity\")\n",
    "\n",
    "((new_state_agg - old_state_agg) / old_state_agg).sort_values(ascending=False).head(10)"
   ]
  },
  {
   "cell_type": "code",
   "execution_count": 34,
   "id": "e59086fd-222b-48ee-ae9d-9f4cd6eed68c",
   "metadata": {},
   "outputs": [
    {
     "data": {
      "text/plain": [
       "States\n",
       " MT        -0.118903\n",
       " OR        -0.242912\n",
       " CO | NE         NaN\n",
       " CO | WY         NaN\n",
       " IA | MO         NaN\n",
       " IL | IN         NaN\n",
       " KS | NE         NaN\n",
       " KS | OK         NaN\n",
       " MT | WY         NaN\n",
       " PA | WV         NaN\n",
       "Name: MW_Total_Capacity, dtype: float64"
      ]
     },
     "execution_count": 34,
     "metadata": {},
     "output_type": "execute_result"
    }
   ],
   "source": [
    "((new_state_agg - old_state_agg) / old_state_agg).sort_values(ascending=False).tail(10)"
   ]
  },
  {
   "cell_type": "code",
   "execution_count": 35,
   "id": "f9d91f24-8453-44c9-80bc-93a43901357f",
   "metadata": {},
   "outputs": [
    {
     "data": {
      "text/plain": [
       " OK | TX    10.000000\n",
       " OR | WA    10.000000\n",
       " MN | SD     7.000000\n",
       " IA | MN     2.000000\n",
       " NM | TX     1.000000\n",
       " ME          0.522523\n",
       " IL          0.253788\n",
       " AZ          0.193069\n",
       " NY          0.177215\n",
       " PR          0.150000\n",
       "Name: States, dtype: float64"
      ]
     },
     "execution_count": 35,
     "metadata": {},
     "output_type": "execute_result"
    }
   ],
   "source": [
    "new_state_agg = new_raw_dfs[\"States\"].value_counts()\n",
    "old_state_agg = old_raw_dfs[\"States\"].value_counts()\n",
    "\n",
    "((new_state_agg - old_state_agg) / old_state_agg).abs().sort_values(ascending=False).head(10)"
   ]
  },
  {
   "cell_type": "markdown",
   "id": "2699131c-2837-41cb-905e-fb674b86bd87",
   "metadata": {},
   "source": [
    "## Compare the old and new data warehouse tables\n",
    "First, you'll need to update the `acp_uri` in `dbcp.etl` to point at the new data in the `dgm-archive` bucket, run the ETL and debug any failures. Then we'll compare the data mart tables."
   ]
  },
  {
   "cell_type": "code",
   "execution_count": 39,
   "id": "24f4e4e9-1e61-4445-bb67-f8ccf7a5b264",
   "metadata": {},
   "outputs": [],
   "source": [
    "from google.cloud import bigquery\n",
    "\n",
    "def get_bigquery_table_version(dataset_id, table_name, project_id=\"dbcp-dev-350818\"):\n",
    "    \"\"\"\n",
    "    Get the data version of a BigQuery table.\n",
    "\n",
    "    The dbcp.commands.publish script generates a version number for each data release\n",
    "    and adds it as a label to the BQ tables.\n",
    "\n",
    "    Args:\n",
    "        dataset_id: the BQ dataset ID\n",
    "        table_name: the name of the table\n",
    "        project_id: the GCP project id\n",
    "\n",
    "    Return:\n",
    "        the current DBCP version number of the requested table\n",
    "    \"\"\"\n",
    "    client = bigquery.Client()\n",
    "\n",
    "    table_ref = f\"{project_id}.{dataset_id}.{table_name}\"\n",
    "    table = client.get_table(table_ref)  # Fetch table metadata\n",
    "\n",
    "    labels = table.labels  # Get the labels dictionary\n",
    "    return labels[\"version\"]\n",
    "\n",
    "\n",
    "from dbcp.extract.helpers import cache_gcs_archive_file_locally\n",
    "\n",
    "table_name = \"acp_projects\"\n",
    "schema = \"private_data_warehouse\"\n",
    "bq_dataset = schema + \"_dev\"\n",
    "version = get_bigquery_table_version(bq_dataset, table_name)\n",
    "uri = f\"gs://dgm-outputs/{version}/{schema}/{table_name}.parquet\"\n",
    "data_cache = \"/app/data/gcp_outputs\"\n",
    "\n",
    "acp_projects = cache_gcs_archive_file_locally(uri, data_cache)\n",
    "old_acp_projects = pd.read_parquet(acp_projects)"
   ]
  },
  {
   "cell_type": "code",
   "execution_count": 42,
   "id": "4c167611-c0b0-4d7b-817a-2b7d2afecd1a",
   "metadata": {},
   "outputs": [],
   "source": [
    "acp_project_path = \"/app/data/output/private_data_warehouse/acp_projects.parquet\"\n",
    "\n",
    "new_acp_projects = pd.read_parquet(acp_project_path)"
   ]
  },
  {
   "cell_type": "code",
   "execution_count": 44,
   "id": "318b4577-72cb-45d5-9469-6af50727a66c",
   "metadata": {
    "scrolled": true
   },
   "outputs": [
    {
     "name": "stdout",
     "output_type": "stream",
     "text": [
      "<class 'pandas.core.frame.DataFrame'>\n",
      "RangeIndex: 9881 entries, 0 to 9880\n",
      "Data columns (total 72 columns):\n",
      " #   Column                              Non-Null Count  Dtype  \n",
      "---  ------                              --------------  -----  \n",
      " 0   proj_id                             9881 non-null   Int64  \n",
      " 1   status                              9880 non-null   string \n",
      " 2   plant_id_eia                        8650 non-null   Int64  \n",
      " 3   project_name                        9881 non-null   string \n",
      " 4   phase_name                          9881 non-null   string \n",
      " 5   resource                            9881 non-null   string \n",
      " 6   developers                          5565 non-null   string \n",
      " 7   owners                              9637 non-null   string \n",
      " 8   iso_region                          5770 non-null   string \n",
      " 9   owner_types                         9606 non-null   string \n",
      " 10  capacity_mw                         9881 non-null   float64\n",
      " 11  state_id_fips                       9881 non-null   string \n",
      " 12  county_id_fips                      9831 non-null   string \n",
      " 13  avg_latitude                        9321 non-null   float64\n",
      " 14  avg_longitude                       9321 non-null   float64\n",
      " 15  geocoded_locality_name              9469 non-null   string \n",
      " 16  geocoded_locality_type              9469 non-null   string \n",
      " 17  geocoded_containing_county          9469 non-null   string \n",
      " 18  geocoded_county_id_fips             9457 non-null   string \n",
      " 19  geocoded_state_id_fips              9519 non-null   string \n",
      " 20  census_county_id_fips               9311 non-null   string \n",
      " 21  raw_mw_total_capacity               9881 non-null   float64\n",
      " 22  raw_units_total                     9881 non-null   string \n",
      " 23  raw_mw_online_capacity              8405 non-null   string \n",
      " 24  raw_mw_under_construction_capacity  574 non-null    float64\n",
      " 25  raw_mw_adv_development_capacity     775 non-null    float64\n",
      " 26  raw_mw_decommissioned_capacity      168 non-null    float64\n",
      " 27  raw_units_online                    8405 non-null   Int64  \n",
      " 28  raw_units_under_construction        574 non-null    Int64  \n",
      " 29  raw_units_adv_development           775 non-null    Int64  \n",
      " 30  raw_units_decommissioned            168 non-null    Int64  \n",
      " 31  raw_years_online                    8532 non-null   string \n",
      " 32  raw_quarters_online                 8532 non-null   string \n",
      " 33  raw_countries                       9881 non-null   string \n",
      " 34  raw_states                          9881 non-null   string \n",
      " 35  raw_counties                        9869 non-null   string \n",
      " 36  raw_community                       9881 non-null   boolean\n",
      " 37  raw_repower_type                    181 non-null    string \n",
      " 38  raw_repower_phases                  9 non-null      string \n",
      " 39  raw_owner_types                     9640 non-null   string \n",
      " 40  raw_constructors                    1267 non-null   string \n",
      " 41  raw_servicers                       319 non-null    string \n",
      " 42  raw_manufacturers                   9880 non-null   string \n",
      " 43  raw_models                          9881 non-null   string \n",
      " 44  raw_hub_heights                     1832 non-null   string \n",
      " 45  raw_rotor_diameters                 1832 non-null   string \n",
      " 46  raw_total_heights                   1832 non-null   string \n",
      " 47  raw_avg_latitude                    9322 non-null   string \n",
      " 48  raw_avg_longitude                   9322 non-null   string \n",
      " 49  raw_offtake_types                   7762 non-null   string \n",
      " 50  raw_power_purchasers                7254 non-null   string \n",
      " 51  raw_power_purchaser_types           7762 non-null   string \n",
      " 52  raw_power_purchaser_type_details    7762 non-null   string \n",
      " 53  raw_ppa_rates                       410 non-null    string \n",
      " 54  raw_ppa_start_years                 4722 non-null   string \n",
      " 55  raw_ppa_end_years                   2977 non-null   string \n",
      " 56  raw_ppa_durations                   2948 non-null   string \n",
      " 57  raw_interconnected_utilities        5954 non-null   string \n",
      " 58  raw_iso_rtos                        5770 non-null   string \n",
      " 59  raw_nercs                           7609 non-null   string \n",
      " 60  raw_balancing_authorities           7553 non-null   string \n",
      " 61  raw_state_houses                    9851 non-null   string \n",
      " 62  raw_state_senates                   9860 non-null   string \n",
      " 63  raw_congressional_districts         9869 non-null   string \n",
      " 64  raw_secondary_offtake_types         171 non-null    string \n",
      " 65  raw_secondary_purchaser_ids         164 non-null    string \n",
      " 66  raw_secondary_purchaser_types       170 non-null    string \n",
      " 67  raw_tracking_types                  6842 non-null   string \n",
      " 68  raw_ilrs                            6503 non-null   float64\n",
      " 69  raw_nameplate_mws                   9881 non-null   string \n",
      " 70  raw_storage_energies                987 non-null    string \n",
      " 71  raw_storage_durations               1127 non-null   string \n",
      "dtypes: Int64(6), boolean(1), float64(8), string(57)\n",
      "memory usage: 5.4 MB\n"
     ]
    }
   ],
   "source": [
    "new_acp_projects.info()"
   ]
  },
  {
   "cell_type": "code",
   "execution_count": 45,
   "id": "912a86f7-977b-4d98-b608-1513dd01008c",
   "metadata": {},
   "outputs": [
    {
     "name": "stderr",
     "output_type": "stream",
     "text": [
      "/app/.local/lib/python3.10/site-packages/pandas/core/arrays/integer.py:122: RuntimeWarning: invalid value encountered in cast\n",
      "  casted = values.astype(dtype, copy=copy)\n",
      "/tmp/ipykernel_55/872281099.py:2: FutureWarning: Dropping invalid columns in DataFrameGroupBy.add is deprecated. In a future version, a TypeError will be raised. Before calling .add, select only columns which should be valid for the function.\n",
      "  return df.groupby(grp_col, dropna=False).sum()[agg_col]\n",
      "/app/.local/lib/python3.10/site-packages/pandas/core/arrays/integer.py:122: RuntimeWarning: invalid value encountered in cast\n",
      "  casted = values.astype(dtype, copy=copy)\n",
      "/tmp/ipykernel_55/872281099.py:2: FutureWarning: Dropping invalid columns in DataFrameGroupBy.add is deprecated. In a future version, a TypeError will be raised. Before calling .add, select only columns which should be valid for the function.\n",
      "  return df.groupby(grp_col, dropna=False).sum()[agg_col]\n"
     ]
    },
    {
     "data": {
      "text/plain": [
       "iso_region\n",
       "ERCOT       -0.010053\n",
       "ISONE       -0.008549\n",
       "PJM         -0.006723\n",
       "CAISO       -0.000087\n",
       "WECC-RMRG    0.000000\n",
       "SPP          0.000409\n",
       "MISO         0.003563\n",
       "NYISO        0.035088\n",
       "<NA>         0.145762\n",
       "Name: capacity_mw, dtype: float64"
      ]
     },
     "execution_count": 45,
     "metadata": {},
     "output_type": "execute_result"
    }
   ],
   "source": [
    "new_iso_agg = aggregate_acp_df(new_acp_projects, \"iso_region\", \"capacity_mw\")\n",
    "old_iso_agg = aggregate_acp_df(old_acp_projects, \"iso_region\", \"capacity_mw\")\n",
    "\n",
    "((new_iso_agg - old_iso_agg) / old_iso_agg).sort_values()"
   ]
  },
  {
   "cell_type": "code",
   "execution_count": 51,
   "id": "fa28c256-28c2-4ee1-a1ad-7401138f9b02",
   "metadata": {},
   "outputs": [
    {
     "name": "stderr",
     "output_type": "stream",
     "text": [
      "/app/.local/lib/python3.10/site-packages/pandas/core/arrays/integer.py:122: RuntimeWarning: invalid value encountered in cast\n",
      "  casted = values.astype(dtype, copy=copy)\n",
      "/tmp/ipykernel_55/872281099.py:2: FutureWarning: Dropping invalid columns in DataFrameGroupBy.add is deprecated. In a future version, a TypeError will be raised. Before calling .add, select only columns which should be valid for the function.\n",
      "  return df.groupby(grp_col, dropna=False).sum()[agg_col]\n",
      "/app/.local/lib/python3.10/site-packages/pandas/core/arrays/integer.py:122: RuntimeWarning: invalid value encountered in cast\n",
      "  casted = values.astype(dtype, copy=copy)\n",
      "/tmp/ipykernel_55/872281099.py:2: FutureWarning: Dropping invalid columns in DataFrameGroupBy.add is deprecated. In a future version, a TypeError will be raised. Before calling .add, select only columns which should be valid for the function.\n",
      "  return df.groupby(grp_col, dropna=False).sum()[agg_col]\n"
     ]
    },
    {
     "data": {
      "text/plain": [
       "raw_states\n",
       " OR | WA    5.169203\n",
       " OK | TX    4.567508\n",
       " MN | SD    4.435000\n",
       " IA | MN    1.857798\n",
       " NM | TX    0.884645\n",
       " AZ         0.555936\n",
       " PR         0.524732\n",
       " MD         0.250855\n",
       " AR         0.196688\n",
       " ID         0.164079\n",
       "Name: capacity_mw, dtype: float64"
      ]
     },
     "execution_count": 51,
     "metadata": {},
     "output_type": "execute_result"
    }
   ],
   "source": [
    "new_state_agg = aggregate_acp_df(new_acp_projects, \"raw_states\", \"capacity_mw\")\n",
    "old_state_agg = aggregate_acp_df(old_acp_projects, \"raw_states\", \"capacity_mw\")\n",
    "\n",
    "((new_state_agg - old_state_agg) / old_state_agg).sort_values(ascending=False).head(10)"
   ]
  },
  {
   "cell_type": "code",
   "execution_count": 52,
   "id": "81aa22b8-a6db-45e0-89a9-c4ce0e6ba726",
   "metadata": {},
   "outputs": [
    {
     "data": {
      "text/plain": [
       "raw_states\n",
       " MT        -0.118903\n",
       " OR        -0.242912\n",
       " CO | NE         NaN\n",
       " CO | WY         NaN\n",
       " IA | MO         NaN\n",
       " IL | IN         NaN\n",
       " KS | NE         NaN\n",
       " KS | OK         NaN\n",
       " MT | WY         NaN\n",
       " PA | WV         NaN\n",
       "Name: capacity_mw, dtype: float64"
      ]
     },
     "execution_count": 52,
     "metadata": {},
     "output_type": "execute_result"
    }
   ],
   "source": [
    "((new_state_agg - old_state_agg) / old_state_agg).sort_values(ascending=False).tail(10)"
   ]
  },
  {
   "cell_type": "markdown",
   "id": "49ae4319-cfce-4d1f-8843-96da5cdfee9f",
   "metadata": {},
   "source": [
    "- compare capacity change by state by status? (can an acp project be withdrawn?)\n",
    "- What's the difference between advanced development and under construction\n",
    "- For states that have large increases in capacity, we'd expect that show up in the first phase (advanced development)\n",
    "- Do a little research, ACP \n",
    "- utility dive, S&P"
   ]
  },
  {
   "cell_type": "code",
   "execution_count": 55,
   "id": "5882d907-b96f-40e6-9196-975e9390101d",
   "metadata": {},
   "outputs": [
    {
     "data": {
      "text/plain": [
       "Online                     7788\n",
       "Advanced Development        815\n",
       "Under Construction          603\n",
       "Decommissioned              126\n",
       "Online | Decommissioned      40\n",
       "Name: status, dtype: Int64"
      ]
     },
     "execution_count": 55,
     "metadata": {},
     "output_type": "execute_result"
    }
   ],
   "source": [
    "old_acp_projects[\"status\"].value_counts()"
   ]
  },
  {
   "cell_type": "code",
   "execution_count": 56,
   "id": "b34a3d71-c6b2-4eba-9f34-141c1220ceb6",
   "metadata": {},
   "outputs": [
    {
     "name": "stdout",
     "output_type": "stream",
     "text": [
      "<class 'pandas.core.frame.DataFrame'>\n",
      "RangeIndex: 9372 entries, 0 to 9371\n",
      "Data columns (total 72 columns):\n",
      " #   Column                              Non-Null Count  Dtype  \n",
      "---  ------                              --------------  -----  \n",
      " 0   proj_id                             9372 non-null   Int64  \n",
      " 1   status                              9372 non-null   string \n",
      " 2   plant_id_eia                        8096 non-null   Int64  \n",
      " 3   project_name                        9372 non-null   string \n",
      " 4   phase_name                          9372 non-null   string \n",
      " 5   resource                            9372 non-null   string \n",
      " 6   developers                          5018 non-null   string \n",
      " 7   owners                              9137 non-null   string \n",
      " 8   iso_region                          5784 non-null   string \n",
      " 9   owner_types                         9107 non-null   string \n",
      " 10  capacity_mw                         9372 non-null   float64\n",
      " 11  state_id_fips                       9372 non-null   string \n",
      " 12  county_id_fips                      9319 non-null   string \n",
      " 13  avg_latitude                        8850 non-null   float64\n",
      " 14  avg_longitude                       8850 non-null   float64\n",
      " 15  geocoded_locality_name              9073 non-null   string \n",
      " 16  geocoded_locality_type              9073 non-null   string \n",
      " 17  geocoded_containing_county          9073 non-null   string \n",
      " 18  geocoded_county_id_fips             9068 non-null   string \n",
      " 19  geocoded_state_id_fips              9126 non-null   string \n",
      " 20  census_county_id_fips               8840 non-null   string \n",
      " 21  raw_mw_total_capacity               9372 non-null   float64\n",
      " 22  raw_units_total                     9372 non-null   string \n",
      " 23  raw_mw_online_capacity              7828 non-null   string \n",
      " 24  raw_mw_under_construction_capacity  603 non-null    float64\n",
      " 25  raw_mw_adv_development_capacity     816 non-null    float64\n",
      " 26  raw_mw_decommissioned_capacity      166 non-null    float64\n",
      " 27  raw_units_online                    7828 non-null   Int64  \n",
      " 28  raw_units_under_construction        603 non-null    Int64  \n",
      " 29  raw_units_adv_development           816 non-null    Int64  \n",
      " 30  raw_units_decommissioned            166 non-null    Int64  \n",
      " 31  raw_years_online                    7948 non-null   string \n",
      " 32  raw_quarters_online                 7948 non-null   string \n",
      " 33  raw_countries                       9372 non-null   string \n",
      " 34  raw_states                          9372 non-null   string \n",
      " 35  raw_counties                        9360 non-null   string \n",
      " 36  raw_community                       9372 non-null   boolean\n",
      " 37  raw_repower_type                    176 non-null    string \n",
      " 38  raw_repower_phases                  9 non-null      string \n",
      " 39  raw_owner_types                     9140 non-null   string \n",
      " 40  raw_constructors                    1193 non-null   string \n",
      " 41  raw_servicers                       319 non-null    string \n",
      " 42  raw_manufacturers                   9371 non-null   string \n",
      " 43  raw_models                          9372 non-null   string \n",
      " 44  raw_hub_heights                     1821 non-null   string \n",
      " 45  raw_rotor_diameters                 1821 non-null   string \n",
      " 46  raw_total_heights                   1821 non-null   string \n",
      " 47  raw_avg_latitude                    8852 non-null   string \n",
      " 48  raw_avg_longitude                   8852 non-null   string \n",
      " 49  raw_offtake_types                   7338 non-null   string \n",
      " 50  raw_power_purchasers                6832 non-null   string \n",
      " 51  raw_power_purchaser_types           7338 non-null   string \n",
      " 52  raw_power_purchaser_type_details    7338 non-null   string \n",
      " 53  raw_ppa_rates                       408 non-null    string \n",
      " 54  raw_ppa_start_years                 4681 non-null   string \n",
      " 55  raw_ppa_end_years                   2948 non-null   string \n",
      " 56  raw_ppa_durations                   2920 non-null   string \n",
      " 57  raw_interconnected_utilities        5962 non-null   string \n",
      " 58  raw_iso_rtos                        5784 non-null   string \n",
      " 59  raw_nercs                           7625 non-null   string \n",
      " 60  raw_balancing_authorities           7567 non-null   string \n",
      " 61  raw_state_houses                    9342 non-null   string \n",
      " 62  raw_state_senates                   9351 non-null   string \n",
      " 63  raw_congressional_districts         9360 non-null   string \n",
      " 64  raw_secondary_offtake_types         164 non-null    string \n",
      " 65  raw_secondary_purchaser_ids         159 non-null    string \n",
      " 66  raw_secondary_purchaser_types       163 non-null    string \n",
      " 67  raw_tracking_types                  6434 non-null   string \n",
      " 68  raw_ilrs                            6091 non-null   float64\n",
      " 69  raw_nameplate_mws                   9372 non-null   string \n",
      " 70  raw_storage_energies                880 non-null    string \n",
      " 71  raw_storage_durations               1024 non-null   string \n",
      "dtypes: Int64(6), boolean(1), float64(8), string(57)\n",
      "memory usage: 5.1 MB\n"
     ]
    }
   ],
   "source": [
    "old_acp_projects.info()"
   ]
  },
  {
   "cell_type": "code",
   "execution_count": null,
   "id": "165600bf-5bdf-4e41-b046-46806b865546",
   "metadata": {},
   "outputs": [],
   "source": []
  },
  {
   "cell_type": "code",
   "execution_count": null,
   "id": "84a9dd85-c146-4974-ab50-c6b9b174572b",
   "metadata": {},
   "outputs": [],
   "source": []
  },
  {
   "cell_type": "code",
   "execution_count": 18,
   "id": "5ee79527-f536-49e7-a807-faaea5f9b321",
   "metadata": {},
   "outputs": [],
   "source": [
    "import pandas as pd\n",
    "\n",
    "from dbcp.helpers import get_sql_engine\n",
    "\n",
    "engine = get_sql_engine()\n",
    "\n",
    "with engine.connect() as con:\n",
    "    new_acp_projects = pd.read_sql_table(\"acp_projects\", con, schema=\"private_data_warehouse\")"
   ]
  },
  {
   "cell_type": "code",
   "execution_count": 19,
   "id": "38a7d9e4-50ca-47ce-83f6-c0f198c3952a",
   "metadata": {},
   "outputs": [],
   "source": [
    "githash = \"a0fc9e0\"\n",
    "old_acp_projects = pd.read_parquet(f\"../outputs/{githash}/dev/private_data_warehouse/acp_projects.parquet\")"
   ]
  },
  {
   "cell_type": "code",
   "execution_count": 24,
   "id": "dd17d2d1-bf4a-4ed5-a665-16c8bf1628ca",
   "metadata": {},
   "outputs": [],
   "source": [
    "def pct_change_mw_by_status(new, old):\n",
    "\n",
    "    new_agg = new.groupby(\"status\").capacity_mw.sum()\n",
    "    old_agg = old.groupby(\"status\").capacity_mw.sum()\n",
    "    return (new_agg - old_agg) / old_agg * 100"
   ]
  },
  {
   "cell_type": "code",
   "execution_count": 25,
   "id": "32d0c023-c39e-446e-a3fc-43ea20f59a26",
   "metadata": {},
   "outputs": [
    {
     "data": {
      "text/plain": [
       "status\n",
       "Advanced Development      -11.403581\n",
       "Decommissioned              2.578608\n",
       "Online                      5.934032\n",
       "Online | Decommissioned     0.416892\n",
       "Under Construction          5.628867\n",
       "Name: capacity_mw, dtype: float64"
      ]
     },
     "execution_count": 25,
     "metadata": {},
     "output_type": "execute_result"
    }
   ],
   "source": [
    "pct_change_mw_by_status(new_acp_projects, old_acp_projects)"
   ]
  },
  {
   "cell_type": "markdown",
   "id": "f302b3e8-c408-46d6-91cb-b6682f6d6e72",
   "metadata": {},
   "source": [
    "## % capacity change by status and ISO"
   ]
  },
  {
   "cell_type": "code",
   "execution_count": 30,
   "id": "d6485d2e-b0f0-42ae-956f-48f53acf406e",
   "metadata": {},
   "outputs": [
    {
     "data": {
      "text/plain": [
       "None         3588\n",
       "MISO         1297\n",
       "PJM          1193\n",
       "CAISO        1072\n",
       "ISONE         931\n",
       "ERCOT         489\n",
       "NYISO         418\n",
       "SPP           379\n",
       "WECC-RMRG       5\n",
       "Name: iso_region, dtype: int64"
      ]
     },
     "execution_count": 30,
     "metadata": {},
     "output_type": "execute_result"
    }
   ],
   "source": [
    "new_acp_projects.iso_region.value_counts(dropna=False)"
   ]
  },
  {
   "cell_type": "code",
   "execution_count": 31,
   "id": "6769bc0a-38e1-49ed-878f-b3c038c7844d",
   "metadata": {},
   "outputs": [
    {
     "name": "stdout",
     "output_type": "stream",
     "text": [
      "CAISO\n",
      "status\n",
      "Advanced Development      -24.509428\n",
      "Decommissioned              0.000000\n",
      "Online                      4.616339\n",
      "Online | Decommissioned     0.000000\n",
      "Under Construction        -21.645777\n",
      "Name: capacity_mw, dtype: float64\n",
      "\n",
      "None\n",
      "Series([], Name: capacity_mw, dtype: float64)\n",
      "\n",
      "PJM\n",
      "status\n",
      "Advanced Development      -25.538129\n",
      "Decommissioned            -22.468304\n",
      "Online                      4.177580\n",
      "Online | Decommissioned     0.000000\n",
      "Under Construction         -3.123384\n",
      "Name: capacity_mw, dtype: float64\n",
      "\n",
      "ISONE\n",
      "status\n",
      "Advanced Development    0.859603\n",
      "Decommissioned          0.000000\n",
      "Online                  3.317459\n",
      "Under Construction     -6.784373\n",
      "Name: capacity_mw, dtype: float64\n",
      "\n",
      "NYISO\n",
      "status\n",
      "Advanced Development   -7.567308\n",
      "Online                  3.476287\n",
      "Under Construction     -5.726114\n",
      "Name: capacity_mw, dtype: float64\n",
      "\n",
      "MISO\n",
      "status\n",
      "Advanced Development      -43.586332\n",
      "Decommissioned              0.000000\n",
      "Online                      3.340689\n",
      "Online | Decommissioned     2.584056\n",
      "Under Construction        -14.810983\n",
      "Name: capacity_mw, dtype: float64\n",
      "\n",
      "SPP\n",
      "status\n",
      "Advanced Development        0.000000\n",
      "Decommissioned              0.000000\n",
      "Online                      3.408844\n",
      "Online | Decommissioned     0.000000\n",
      "Under Construction        -60.593298\n",
      "Name: capacity_mw, dtype: float64\n",
      "\n",
      "ERCOT\n",
      "status\n",
      "Advanced Development      -39.254635\n",
      "Decommissioned             22.679165\n",
      "Online                      4.031062\n",
      "Online | Decommissioned     0.000000\n",
      "Under Construction        -33.819592\n",
      "Name: capacity_mw, dtype: float64\n",
      "\n",
      "WECC-RMRG\n",
      "status\n",
      "Online    0.0\n",
      "Name: capacity_mw, dtype: float64\n",
      "\n"
     ]
    }
   ],
   "source": [
    "for iso_region in new_acp_projects.iso_region.unique():\n",
    "    new_prj_iso = new_acp_projects[new_acp_projects.iso_region == iso_region]\n",
    "    old_prj_iso = old_acp_projects[old_acp_projects.iso_region == iso_region]\n",
    "\n",
    "    pct_change = pct_change_mw_by_status(new_prj_iso, old_prj_iso)\n",
    "\n",
    "    print(iso_region)\n",
    "    print(pct_change)\n",
    "    print()"
   ]
  }
 ],
 "metadata": {
  "kernelspec": {
   "display_name": "Python 3 (ipykernel)",
   "language": "python",
   "name": "python3"
  },
  "language_info": {
   "codemirror_mode": {
    "name": "ipython",
    "version": 3
   },
   "file_extension": ".py",
   "mimetype": "text/x-python",
   "name": "python",
   "nbconvert_exporter": "python",
   "pygments_lexer": "ipython3",
   "version": "3.10.16"
  }
 },
 "nbformat": 4,
 "nbformat_minor": 5
}
