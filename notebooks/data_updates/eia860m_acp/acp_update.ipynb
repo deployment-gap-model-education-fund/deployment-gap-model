{
 "cells": [
  {
   "cell_type": "code",
   "execution_count": 18,
   "id": "5ee79527-f536-49e7-a807-faaea5f9b321",
   "metadata": {},
   "outputs": [],
   "source": [
    "import pandas as pd\n",
    "\n",
    "from dbcp.helpers import get_sql_engine\n",
    "\n",
    "engine = get_sql_engine()\n",
    "\n",
    "with engine.connect() as con:\n",
    "    new_acp_projects = pd.read_sql_table(\"acp_projects\", con, schema=\"private_data_warehouse\")"
   ]
  },
  {
   "cell_type": "code",
   "execution_count": 19,
   "id": "38a7d9e4-50ca-47ce-83f6-c0f198c3952a",
   "metadata": {},
   "outputs": [],
   "source": [
    "githash = \"a0fc9e0\"\n",
    "old_acp_projects = pd.read_parquet(f\"../outputs/{githash}/dev/private_data_warehouse/acp_projects.parquet\")"
   ]
  },
  {
   "cell_type": "code",
   "execution_count": 24,
   "id": "dd17d2d1-bf4a-4ed5-a665-16c8bf1628ca",
   "metadata": {},
   "outputs": [],
   "source": [
    "def pct_change_mw_by_status(new, old):\n",
    "\n",
    "    new_agg = new.groupby(\"status\").capacity_mw.sum()\n",
    "    old_agg = old.groupby(\"status\").capacity_mw.sum()\n",
    "    return (new_agg - old_agg) / old_agg * 100"
   ]
  },
  {
   "cell_type": "code",
   "execution_count": 25,
   "id": "32d0c023-c39e-446e-a3fc-43ea20f59a26",
   "metadata": {},
   "outputs": [
    {
     "data": {
      "text/plain": [
       "status\n",
       "Advanced Development      -11.403581\n",
       "Decommissioned              2.578608\n",
       "Online                      5.934032\n",
       "Online | Decommissioned     0.416892\n",
       "Under Construction          5.628867\n",
       "Name: capacity_mw, dtype: float64"
      ]
     },
     "execution_count": 25,
     "metadata": {},
     "output_type": "execute_result"
    }
   ],
   "source": [
    "pct_change_mw_by_status(new_acp_projects, old_acp_projects)"
   ]
  },
  {
   "cell_type": "markdown",
   "id": "f302b3e8-c408-46d6-91cb-b6682f6d6e72",
   "metadata": {},
   "source": [
    "## % capacity change by status and ISO"
   ]
  },
  {
   "cell_type": "code",
   "execution_count": 30,
   "id": "d6485d2e-b0f0-42ae-956f-48f53acf406e",
   "metadata": {},
   "outputs": [
    {
     "data": {
      "text/plain": [
       "None         3588\n",
       "MISO         1297\n",
       "PJM          1193\n",
       "CAISO        1072\n",
       "ISONE         931\n",
       "ERCOT         489\n",
       "NYISO         418\n",
       "SPP           379\n",
       "WECC-RMRG       5\n",
       "Name: iso_region, dtype: int64"
      ]
     },
     "execution_count": 30,
     "metadata": {},
     "output_type": "execute_result"
    }
   ],
   "source": [
    "new_acp_projects.iso_region.value_counts(dropna=False)"
   ]
  },
  {
   "cell_type": "code",
   "execution_count": 31,
   "id": "6769bc0a-38e1-49ed-878f-b3c038c7844d",
   "metadata": {},
   "outputs": [
    {
     "name": "stdout",
     "output_type": "stream",
     "text": [
      "CAISO\n",
      "status\n",
      "Advanced Development      -24.509428\n",
      "Decommissioned              0.000000\n",
      "Online                      4.616339\n",
      "Online | Decommissioned     0.000000\n",
      "Under Construction        -21.645777\n",
      "Name: capacity_mw, dtype: float64\n",
      "\n",
      "None\n",
      "Series([], Name: capacity_mw, dtype: float64)\n",
      "\n",
      "PJM\n",
      "status\n",
      "Advanced Development      -25.538129\n",
      "Decommissioned            -22.468304\n",
      "Online                      4.177580\n",
      "Online | Decommissioned     0.000000\n",
      "Under Construction         -3.123384\n",
      "Name: capacity_mw, dtype: float64\n",
      "\n",
      "ISONE\n",
      "status\n",
      "Advanced Development    0.859603\n",
      "Decommissioned          0.000000\n",
      "Online                  3.317459\n",
      "Under Construction     -6.784373\n",
      "Name: capacity_mw, dtype: float64\n",
      "\n",
      "NYISO\n",
      "status\n",
      "Advanced Development   -7.567308\n",
      "Online                  3.476287\n",
      "Under Construction     -5.726114\n",
      "Name: capacity_mw, dtype: float64\n",
      "\n",
      "MISO\n",
      "status\n",
      "Advanced Development      -43.586332\n",
      "Decommissioned              0.000000\n",
      "Online                      3.340689\n",
      "Online | Decommissioned     2.584056\n",
      "Under Construction        -14.810983\n",
      "Name: capacity_mw, dtype: float64\n",
      "\n",
      "SPP\n",
      "status\n",
      "Advanced Development        0.000000\n",
      "Decommissioned              0.000000\n",
      "Online                      3.408844\n",
      "Online | Decommissioned     0.000000\n",
      "Under Construction        -60.593298\n",
      "Name: capacity_mw, dtype: float64\n",
      "\n",
      "ERCOT\n",
      "status\n",
      "Advanced Development      -39.254635\n",
      "Decommissioned             22.679165\n",
      "Online                      4.031062\n",
      "Online | Decommissioned     0.000000\n",
      "Under Construction        -33.819592\n",
      "Name: capacity_mw, dtype: float64\n",
      "\n",
      "WECC-RMRG\n",
      "status\n",
      "Online    0.0\n",
      "Name: capacity_mw, dtype: float64\n",
      "\n"
     ]
    }
   ],
   "source": [
    "for iso_region in new_acp_projects.iso_region.unique():\n",
    "    new_prj_iso = new_acp_projects[new_acp_projects.iso_region == iso_region]\n",
    "    old_prj_iso = old_acp_projects[old_acp_projects.iso_region == iso_region]\n",
    "\n",
    "    pct_change = pct_change_mw_by_status(new_prj_iso, old_prj_iso)\n",
    "\n",
    "    print(iso_region)\n",
    "    print(pct_change)\n",
    "    print()"
   ]
  }
 ],
 "metadata": {
  "kernelspec": {
   "display_name": "Python 3 (ipykernel)",
   "language": "python",
   "name": "python3"
  },
  "language_info": {
   "codemirror_mode": {
    "name": "ipython",
    "version": 3
   },
   "file_extension": ".py",
   "mimetype": "text/x-python",
   "name": "python",
   "nbconvert_exporter": "python",
   "pygments_lexer": "ipython3",
   "version": "3.10.15"
  }
 },
 "nbformat": 4,
 "nbformat_minor": 5
}
