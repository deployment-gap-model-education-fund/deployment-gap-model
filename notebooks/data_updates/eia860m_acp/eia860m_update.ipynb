{
 "cells": [
  {
   "cell_type": "markdown",
   "id": "f154674b-1b1c-4f7c-a1ee-0cfb4fee8acb",
   "metadata": {},
   "source": [
    "# EIA 860M Update Inspection\n",
    "\n",
    "To run this notebook, you need to refresh the changelog data first, by updating parameters:\n",
    "- In `.env`, change `PUDL_VERSION` to the latest found [here](https://github.com/catalyst-cooperative/pudl/releases)\n",
    "- In `src/constants.py`, set `PUDL_LATEST_YEAR` to the latest year for which PUDL has complete data.\n",
    "\n",
    "and running `make all`."
   ]
  },
  {
   "cell_type": "code",
   "execution_count": 2,
   "id": "f6a081e5-adf8-4b6f-a9e1-e0bb3a16c72f",
   "metadata": {},
   "outputs": [],
   "source": [
    "import pandas as pd\n",
    "\n",
    "from dbcp.helpers import get_sql_engine\n",
    "\n",
    "engine = get_sql_engine()\n",
    "\n",
    "with engine.connect() as con:\n",
    "    eia860m = pd.read_sql_table(\"pudl_eia860m_changelog\", con, schema=\"data_warehouse\")\n",
    "    pudl_eia860m_status_codes = pd.read_sql_table(\"pudl_eia860m_status_codes\", con, schema=\"data_warehouse\")"
   ]
  },
  {
   "cell_type": "code",
   "execution_count": 3,
   "id": "d72f5d91-902a-45ea-928b-fcc82bf29701",
   "metadata": {},
   "outputs": [],
   "source": [
    "PREVIOUS_QUARTER_DATE = \"2024-10-01\"\n",
    "\n",
    "def grab_current_quarter(df):\n",
    "    recent_quarter = df.loc[df.groupby([\"generator_id\", \"plant_id_eia\"])['report_date'].idxmax()]\n",
    "    assert ~recent_quarter.duplicated(subset=[\"generator_id\", \"plant_id_eia\"]).any()\n",
    "    return recent_quarter\n",
    "\n",
    "def grab_previous_quarter(df):\n",
    "    previous_quarter = df[df.report_date < PREVIOUS_QUARTER_DATE]\n",
    "    previous_quarter = previous_quarter.loc[previous_quarter.groupby([\"generator_id\", \"plant_id_eia\"])['report_date'].idxmax()]\n",
    "    assert ~previous_quarter.duplicated(subset=[\"generator_id\", \"plant_id_eia\"]).any()\n",
    "    return previous_quarter\n",
    "\n",
    "\n",
    "def pct_change_mw_by_status(df):\n",
    "    recent_quarter = grab_current_quarter(df)\n",
    "    recent_quarter_mw_by_status = recent_quarter.groupby(\"operational_status_code\").capacity_mw.sum()\n",
    "\n",
    "    previous_quarter = grab_previous_quarter(df)\n",
    "    \n",
    "    previous_quarter_mw_by_status = previous_quarter.groupby(\"operational_status_code\").capacity_mw.sum()\n",
    "\n",
    "    return ((recent_quarter_mw_by_status - previous_quarter_mw_by_status) / previous_quarter_mw_by_status) * 100\n",
    "    "
   ]
  },
  {
   "cell_type": "markdown",
   "id": "3f408acc-3fa6-4f09-9e43-3f9f64ef2b89",
   "metadata": {},
   "source": [
    "How many generators had a status change in this quarter update? We shouldn't expect that many generators to have status changes.\n",
    "\n",
    "Merge the quarters together using the generator ID. Each quarter should only have one record for each generator so the merge should be one to one.\n"
   ]
  },
  {
   "cell_type": "code",
   "execution_count": 4,
   "id": "d2784d1d-aafc-4654-9509-e1b9654f82b9",
   "metadata": {},
   "outputs": [],
   "source": [
    "previous_quarter = grab_previous_quarter(eia860m)\n",
    "current_quarter = grab_current_quarter(eia860m)"
   ]
  },
  {
   "cell_type": "code",
   "execution_count": 12,
   "id": "edf457ab-26ca-4822-810c-0aed447b2ef6",
   "metadata": {},
   "outputs": [
    {
     "data": {
      "text/plain": [
       "(Timestamp('2024-09-01 00:00:00'), Timestamp('2024-12-01 00:00:00'))"
      ]
     },
     "execution_count": 12,
     "metadata": {},
     "output_type": "execute_result"
    }
   ],
   "source": [
    "previous_quarter.report_date.max(), current_quarter.report_date.max()"
   ]
  },
  {
   "cell_type": "code",
   "execution_count": 5,
   "id": "2f09eed0-aa72-47d7-8c26-2c1f6fab46c8",
   "metadata": {},
   "outputs": [
    {
     "data": {
      "text/plain": [
       "False    35817\n",
       "True       525\n",
       "dtype: int64"
      ]
     },
     "execution_count": 5,
     "metadata": {},
     "output_type": "execute_result"
    }
   ],
   "source": [
    "merged_quarters = previous_quarter.merge(current_quarter, on=[\"generator_id\", \"plant_id_eia\"], validate=\"1:1\", suffixes=(\"_previous\", \"_current\"))\n",
    "\n",
    "different_status_codes = merged_quarters[\"operational_status_code_previous\"].ne(merged_quarters[\"operational_status_code_current\"])\n",
    "different_status_codes.value_counts()\n"
   ]
  },
  {
   "cell_type": "markdown",
   "id": "d8192bb7-d98b-421e-bfb4-a886b0c7eb25",
   "metadata": {},
   "source": [
    "For the generators have have a different status in the new update, check to see if the status change makes sense: (\"Operational to Retired\", \"Under Construction to Operational\", etc). A highlevel check to make sure the status changes make sense is to see if the status code numbers stay the same or increase. Higher number operational codes represent more advanced stages in a generator's life cycle."
   ]
  },
  {
   "cell_type": "code",
   "execution_count": 6,
   "id": "6a99569b-6a25-4155-bd35-0c4b03d08070",
   "metadata": {},
   "outputs": [
    {
     "data": {
      "text/plain": [
       "True     36334\n",
       "False        8\n",
       "dtype: int64"
      ]
     },
     "execution_count": 6,
     "metadata": {},
     "output_type": "execute_result"
    }
   ],
   "source": [
    "new_status_code_is_greater = merged_quarters[\"operational_status_code_previous\"].le(merged_quarters[\"operational_status_code_current\"])\n",
    "\n",
    "new_status_code_is_greater.value_counts()"
   ]
  },
  {
   "cell_type": "code",
   "execution_count": 7,
   "id": "f179595a-4ff0-4234-a9a9-1151a9722fea",
   "metadata": {},
   "outputs": [
    {
     "data": {
      "text/html": [
       "<div>\n",
       "<style scoped>\n",
       "    .dataframe tbody tr th:only-of-type {\n",
       "        vertical-align: middle;\n",
       "    }\n",
       "\n",
       "    .dataframe tbody tr th {\n",
       "        vertical-align: top;\n",
       "    }\n",
       "\n",
       "    .dataframe thead th {\n",
       "        text-align: right;\n",
       "    }\n",
       "</style>\n",
       "<table border=\"1\" class=\"dataframe\">\n",
       "  <thead>\n",
       "    <tr style=\"text-align: right;\">\n",
       "      <th></th>\n",
       "      <th>raw_operational_status_code_previous</th>\n",
       "      <th>raw_operational_status_code_current</th>\n",
       "    </tr>\n",
       "  </thead>\n",
       "  <tbody>\n",
       "    <tr>\n",
       "      <th>16411</th>\n",
       "      <td>U</td>\n",
       "      <td>T</td>\n",
       "    </tr>\n",
       "    <tr>\n",
       "      <th>17921</th>\n",
       "      <td>T</td>\n",
       "      <td>L</td>\n",
       "    </tr>\n",
       "    <tr>\n",
       "      <th>21373</th>\n",
       "      <td>V</td>\n",
       "      <td>U</td>\n",
       "    </tr>\n",
       "    <tr>\n",
       "      <th>22394</th>\n",
       "      <td>RE</td>\n",
       "      <td>OP</td>\n",
       "    </tr>\n",
       "    <tr>\n",
       "      <th>22740</th>\n",
       "      <td>U</td>\n",
       "      <td>T</td>\n",
       "    </tr>\n",
       "    <tr>\n",
       "      <th>22749</th>\n",
       "      <td>U</td>\n",
       "      <td>L</td>\n",
       "    </tr>\n",
       "    <tr>\n",
       "      <th>29871</th>\n",
       "      <td>U</td>\n",
       "      <td>T</td>\n",
       "    </tr>\n",
       "    <tr>\n",
       "      <th>36285</th>\n",
       "      <td>T</td>\n",
       "      <td>L</td>\n",
       "    </tr>\n",
       "  </tbody>\n",
       "</table>\n",
       "</div>"
      ],
      "text/plain": [
       "      raw_operational_status_code_previous raw_operational_status_code_current\n",
       "16411                                    U                                   T\n",
       "17921                                    T                                   L\n",
       "21373                                    V                                   U\n",
       "22394                                   RE                                  OP\n",
       "22740                                    U                                   T\n",
       "22749                                    U                                   L\n",
       "29871                                    U                                   T\n",
       "36285                                    T                                   L"
      ]
     },
     "execution_count": 7,
     "metadata": {},
     "output_type": "execute_result"
    }
   ],
   "source": [
    "merged_quarters[~new_status_code_is_greater][[\"raw_operational_status_code_previous\", \"raw_operational_status_code_current\"]]"
   ]
  },
  {
   "cell_type": "markdown",
   "id": "61a3cdf3-6cb0-4a18-8728-7cafb2498310",
   "metadata": {},
   "source": [
    "Looks like there are a handful of generators that came out of retirement. Let dig into the status codes of the generators that have a new status in the udpated data."
   ]
  },
  {
   "cell_type": "code",
   "execution_count": 8,
   "id": "f0276c69-3b80-458d-8ee1-65b7cac687f8",
   "metadata": {},
   "outputs": [
    {
     "data": {
      "text/html": [
       "<div>\n",
       "<style scoped>\n",
       "    .dataframe tbody tr th:only-of-type {\n",
       "        vertical-align: middle;\n",
       "    }\n",
       "\n",
       "    .dataframe tbody tr th {\n",
       "        vertical-align: top;\n",
       "    }\n",
       "\n",
       "    .dataframe thead th {\n",
       "        text-align: right;\n",
       "    }\n",
       "</style>\n",
       "<table border=\"1\" class=\"dataframe\">\n",
       "  <thead>\n",
       "    <tr style=\"text-align: right;\">\n",
       "      <th></th>\n",
       "      <th>code</th>\n",
       "      <th>status</th>\n",
       "      <th>description</th>\n",
       "    </tr>\n",
       "  </thead>\n",
       "  <tbody>\n",
       "    <tr>\n",
       "      <th>0</th>\n",
       "      <td>OT</td>\n",
       "      <td>99</td>\n",
       "      <td>proposed</td>\n",
       "    </tr>\n",
       "    <tr>\n",
       "      <th>1</th>\n",
       "      <td>IP</td>\n",
       "      <td>98</td>\n",
       "      <td>Planned new indefinitely postponed, or no longer in resource plan</td>\n",
       "    </tr>\n",
       "    <tr>\n",
       "      <th>2</th>\n",
       "      <td>P</td>\n",
       "      <td>1</td>\n",
       "      <td>Planned for installation but regulatory approvals not initiated; Not under construction</td>\n",
       "    </tr>\n",
       "    <tr>\n",
       "      <th>3</th>\n",
       "      <td>L</td>\n",
       "      <td>2</td>\n",
       "      <td>Not under construction but site preparation could be underway</td>\n",
       "    </tr>\n",
       "    <tr>\n",
       "      <th>4</th>\n",
       "      <td>T</td>\n",
       "      <td>3</td>\n",
       "      <td>Regulatory approvals received. Not under construction but site preparation could be underway</td>\n",
       "    </tr>\n",
       "    <tr>\n",
       "      <th>5</th>\n",
       "      <td>U</td>\n",
       "      <td>4</td>\n",
       "      <td>Under construction, less than or equal to 50 percent complete (based on construction time to date of operation)</td>\n",
       "    </tr>\n",
       "    <tr>\n",
       "      <th>6</th>\n",
       "      <td>V</td>\n",
       "      <td>5</td>\n",
       "      <td>Under construction, more than 50 percent complete (based on construction time to date of operation)</td>\n",
       "    </tr>\n",
       "    <tr>\n",
       "      <th>7</th>\n",
       "      <td>TS</td>\n",
       "      <td>6</td>\n",
       "      <td>Construction complete, but not yet in commercial operation (including low power testing of nuclear units). Operating under test conditions.</td>\n",
       "    </tr>\n",
       "    <tr>\n",
       "      <th>8</th>\n",
       "      <td>OA</td>\n",
       "      <td>7</td>\n",
       "      <td>Was not used for some or all of the reporting period but is expected to be returned to service in the next calendar year.</td>\n",
       "    </tr>\n",
       "    <tr>\n",
       "      <th>9</th>\n",
       "      <td>OP</td>\n",
       "      <td>7</td>\n",
       "      <td>Operating (in commercial service or out of service within 365 days). For generators, this means in service (commercial operation) and producing some electricity. Includes peaking units that are run on an as needed (intermittent or seasonal) basis.</td>\n",
       "    </tr>\n",
       "    <tr>\n",
       "      <th>10</th>\n",
       "      <td>OS</td>\n",
       "      <td>7</td>\n",
       "      <td>Was not used for some or all of the reporting period and is NOT expected to be returned to service in the next calendar year.</td>\n",
       "    </tr>\n",
       "    <tr>\n",
       "      <th>11</th>\n",
       "      <td>SB</td>\n",
       "      <td>7</td>\n",
       "      <td>Standby/Backup. Available for service but not normally used (has little or no generation during the year) for this reporting period. Includes old code BU from 2004-2006.</td>\n",
       "    </tr>\n",
       "    <tr>\n",
       "      <th>12</th>\n",
       "      <td>RE</td>\n",
       "      <td>8</td>\n",
       "      <td>No longer in service and not expected to be returned to service.</td>\n",
       "    </tr>\n",
       "  </tbody>\n",
       "</table>\n",
       "</div>"
      ],
      "text/plain": [
       "   code  status  \\\n",
       "0    OT      99   \n",
       "1    IP      98   \n",
       "2     P       1   \n",
       "3     L       2   \n",
       "4     T       3   \n",
       "5     U       4   \n",
       "6     V       5   \n",
       "7    TS       6   \n",
       "8    OA       7   \n",
       "9    OP       7   \n",
       "10   OS       7   \n",
       "11   SB       7   \n",
       "12   RE       8   \n",
       "\n",
       "                                                                                                                                                                                                                                                description  \n",
       "0                                                                                                                                                                                                                                                  proposed  \n",
       "1                                                                                                                                                                                         Planned new indefinitely postponed, or no longer in resource plan  \n",
       "2                                                                                                                                                                   Planned for installation but regulatory approvals not initiated; Not under construction  \n",
       "3                                                                                                                                                                                             Not under construction but site preparation could be underway  \n",
       "4                                                                                                                                                              Regulatory approvals received. Not under construction but site preparation could be underway  \n",
       "5                                                                                                                                           Under construction, less than or equal to 50 percent complete (based on construction time to date of operation)  \n",
       "6                                                                                                                                                       Under construction, more than 50 percent complete (based on construction time to date of operation)  \n",
       "7                                                                                                               Construction complete, but not yet in commercial operation (including low power testing of nuclear units). Operating under test conditions.  \n",
       "8                                                                                                                                 Was not used for some or all of the reporting period but is expected to be returned to service in the next calendar year.  \n",
       "9   Operating (in commercial service or out of service within 365 days). For generators, this means in service (commercial operation) and producing some electricity. Includes peaking units that are run on an as needed (intermittent or seasonal) basis.  \n",
       "10                                                                                                                            Was not used for some or all of the reporting period and is NOT expected to be returned to service in the next calendar year.  \n",
       "11                                                                                Standby/Backup. Available for service but not normally used (has little or no generation during the year) for this reporting period. Includes old code BU from 2004-2006.  \n",
       "12                                                                                                                                                                                         No longer in service and not expected to be returned to service.  "
      ]
     },
     "execution_count": 8,
     "metadata": {},
     "output_type": "execute_result"
    }
   ],
   "source": [
    "pd.set_option('display.max_colwidth', None)\n",
    "\n",
    "pudl_eia860m_status_codes"
   ]
  },
  {
   "cell_type": "code",
   "execution_count": 13,
   "id": "8cba2a28-f627-4599-bdb6-4d0c6abf8468",
   "metadata": {},
   "outputs": [
    {
     "data": {
      "text/plain": [
       "raw_operational_status_code_previous  raw_operational_status_code_current\n",
       "V                                     OP                                     141\n",
       "TS                                    OP                                      72\n",
       "U                                     V                                       62\n",
       "                                      OP                                      53\n",
       "V                                     TS                                      27\n",
       "T                                     U                                       22\n",
       "OP                                    RE                                      19\n",
       "U                                     TS                                      18\n",
       "T                                     V                                       16\n",
       "P                                     U                                       15\n",
       "SB                                    RE                                      14\n",
       "L                                     U                                       11\n",
       "P                                     T                                        9\n",
       "                                      L                                        8\n",
       "OS                                    RE                                       6\n",
       "L                                     T                                        6\n",
       "T                                     OP                                       5\n",
       "U                                     T                                        3\n",
       "L                                     V                                        3\n",
       "V                                     SB                                       2\n",
       "T                                     L                                        2\n",
       "                                      TS                                       2\n",
       "P                                     V                                        2\n",
       "                                      OP                                       2\n",
       "U                                     L                                        1\n",
       "L                                     TS                                       1\n",
       "RE                                    OP                                       1\n",
       "P                                     TS                                       1\n",
       "V                                     U                                        1\n",
       "dtype: int64"
      ]
     },
     "execution_count": 13,
     "metadata": {},
     "output_type": "execute_result"
    }
   ],
   "source": [
    "merged_quarters[different_status_codes][[\"raw_operational_status_code_previous\", \"raw_operational_status_code_current\"]].value_counts()"
   ]
  },
  {
   "cell_type": "markdown",
   "id": "04e26216-53cb-43c5-89a2-a84768e7c2ff",
   "metadata": {},
   "source": [
    "Look at capacity change for each status code."
   ]
  },
  {
   "cell_type": "code",
   "execution_count": 10,
   "id": "1326c9f9-f0e1-481d-8fa6-20cb7b0a0851",
   "metadata": {},
   "outputs": [
    {
     "data": {
      "text/plain": [
       "operational_status_code\n",
       "1     27.461271\n",
       "2     43.826788\n",
       "3     11.220252\n",
       "4      8.332664\n",
       "5    -13.286307\n",
       "6    -21.737968\n",
       "7      1.346385\n",
       "8      0.820580\n",
       "99     0.000000\n",
       "Name: capacity_mw, dtype: float64"
      ]
     },
     "execution_count": 10,
     "metadata": {},
     "output_type": "execute_result"
    }
   ],
   "source": [
    "pct_change_mw_by_status(eia860m)"
   ]
  },
  {
   "cell_type": "markdown",
   "id": "167e9517-2175-4c20-af9e-2ddbf3655642",
   "metadata": {},
   "source": [
    "## Capacity by status by ISO"
   ]
  },
  {
   "cell_type": "code",
   "execution_count": 14,
   "id": "0b88c92c-2230-4620-bd5b-93f39253a0ea",
   "metadata": {},
   "outputs": [],
   "source": [
    "ISO_REGIONS = (\"MISO\", \"PJM\", \"CISO\", \"ERCO\", \"ISNE\", \"NYIS\", \"SWPP\") "
   ]
  },
  {
   "cell_type": "code",
   "execution_count": 15,
   "id": "2a3efa2e-a1f6-421f-bcb7-1c55054b5b39",
   "metadata": {},
   "outputs": [
    {
     "name": "stdout",
     "output_type": "stream",
     "text": [
      "MISO\n",
      "operational_status_code\n",
      "1    17.693121\n",
      "2    47.672149\n",
      "3    17.450306\n",
      "4    17.752466\n",
      "5   -26.207009\n",
      "6   -34.145841\n",
      "7     1.227313\n",
      "8     3.172118\n",
      "Name: capacity_mw, dtype: float64\n",
      "\n",
      "PJM\n",
      "operational_status_code\n",
      "1     19.266898\n",
      "2     10.840279\n",
      "3      3.272093\n",
      "4     23.500602\n",
      "5    -36.573563\n",
      "6    -27.055703\n",
      "7      0.934924\n",
      "8      0.030071\n",
      "99     0.000000\n",
      "Name: capacity_mw, dtype: float64\n",
      "\n",
      "CISO\n",
      "operational_status_code\n",
      "1      8.473018\n",
      "2      1.471941\n",
      "3     28.332629\n",
      "4      0.939804\n",
      "5      5.312942\n",
      "6    -28.601950\n",
      "7      2.593739\n",
      "8      0.452473\n",
      "99     0.000000\n",
      "Name: capacity_mw, dtype: float64\n",
      "\n",
      "ERCO\n",
      "operational_status_code\n",
      "1     56.982032\n",
      "2     15.595118\n",
      "3     -2.707401\n",
      "4      8.463946\n",
      "5     -4.039566\n",
      "6    -18.209481\n",
      "7      3.108712\n",
      "8      0.000000\n",
      "99     0.000000\n",
      "Name: capacity_mw, dtype: float64\n",
      "\n",
      "ISNE\n",
      "operational_status_code\n",
      "1      48.974943\n",
      "2       7.106178\n",
      "3     -12.460667\n",
      "4     -10.943462\n",
      "5       2.663775\n",
      "6     295.867765\n",
      "7       0.526600\n",
      "8       0.000000\n",
      "99      0.000000\n",
      "Name: capacity_mw, dtype: float64\n",
      "\n",
      "NYIS\n",
      "operational_status_code\n",
      "1     5.518282\n",
      "2    13.629444\n",
      "3    45.534506\n",
      "4    40.218694\n",
      "5     0.831189\n",
      "6   -10.725552\n",
      "7     0.917652\n",
      "8     0.004178\n",
      "Name: capacity_mw, dtype: float64\n",
      "\n",
      "SWPP\n",
      "operational_status_code\n",
      "1      57.629815\n",
      "2     230.393618\n",
      "3     105.343511\n",
      "4     -50.000001\n",
      "5      -1.998152\n",
      "6     -32.229795\n",
      "7       0.555864\n",
      "8       0.442178\n",
      "99      0.000000\n",
      "Name: capacity_mw, dtype: float64\n",
      "\n"
     ]
    }
   ],
   "source": [
    "eia860_isos = eia860m[eia860m.balancing_authority_code_eia.isin(ISO_REGIONS)]\n",
    "\n",
    "\n",
    "for region in ISO_REGIONS:\n",
    "    print(region)\n",
    "    pct_change = pct_change_mw_by_status(eia860_isos[eia860_isos[\"balancing_authority_code_eia\"] == region])\n",
    "    print(pct_change)\n",
    "    print()"
   ]
  },
  {
   "cell_type": "code",
   "execution_count": null,
   "id": "263a3f9b-55a7-43ff-bc0c-09dc0e962369",
   "metadata": {},
   "outputs": [],
   "source": []
  }
 ],
 "metadata": {
  "kernelspec": {
   "display_name": "Python 3 (ipykernel)",
   "language": "python",
   "name": "python3"
  },
  "language_info": {
   "codemirror_mode": {
    "name": "ipython",
    "version": 3
   },
   "file_extension": ".py",
   "mimetype": "text/x-python",
   "name": "python",
   "nbconvert_exporter": "python",
   "pygments_lexer": "ipython3",
   "version": "3.10.16"
  }
 },
 "nbformat": 4,
 "nbformat_minor": 5
}
