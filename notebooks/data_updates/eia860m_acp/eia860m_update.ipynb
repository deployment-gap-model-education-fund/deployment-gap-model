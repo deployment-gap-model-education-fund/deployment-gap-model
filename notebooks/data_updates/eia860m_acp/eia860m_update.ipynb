{
 "cells": [
  {
   "cell_type": "markdown",
   "id": "f154674b-1b1c-4f7c-a1ee-0cfb4fee8acb",
   "metadata": {},
   "source": [
    "# EIA 860M Update Inspection\n",
    "\n",
    "To run this notebook, you need to refresh the changelog data first, by updating parameters:\n",
    "- In `.env`, change `PUDL_VERSION` to the latest found [here](https://github.com/catalyst-cooperative/pudl/releases)\n",
    "- In `src/constants.py`, set `PUDL_LATEST_YEAR` to the latest year for which PUDL has complete data.\n",
    "\n",
    "and running `make all`."
   ]
  },
  {
   "cell_type": "code",
   "execution_count": 1,
   "id": "f6a081e5-adf8-4b6f-a9e1-e0bb3a16c72f",
   "metadata": {},
   "outputs": [],
   "source": [
    "import pandas as pd\n",
    "\n",
    "from dbcp.helpers import get_sql_engine\n",
    "\n",
    "engine = get_sql_engine()\n",
    "\n",
    "with engine.connect() as con:\n",
    "    eia860m = pd.read_sql_table(\"pudl_eia860m_changelog\", con, schema=\"data_warehouse\")\n",
    "    pudl_eia860m_status_codes = pd.read_sql_table(\"pudl_eia860m_status_codes\", con, schema=\"data_warehouse\")"
   ]
  },
  {
   "cell_type": "code",
   "execution_count": 2,
   "id": "d72f5d91-902a-45ea-928b-fcc82bf29701",
   "metadata": {},
   "outputs": [],
   "source": [
    "PREVIOUS_QUARTER_DATE = \"2025-01-01\"\n",
    "\n",
    "def grab_current_quarter(df):\n",
    "    recent_quarter = df.loc[df.groupby([\"generator_id\", \"plant_id_eia\"])['report_date'].idxmax()]\n",
    "    assert ~recent_quarter.duplicated(subset=[\"generator_id\", \"plant_id_eia\"]).any()\n",
    "    return recent_quarter\n",
    "\n",
    "def grab_previous_quarter(df):\n",
    "    previous_quarter = df[df.report_date < PREVIOUS_QUARTER_DATE]\n",
    "    previous_quarter = previous_quarter.loc[previous_quarter.groupby([\"generator_id\", \"plant_id_eia\"])['report_date'].idxmax()]\n",
    "    assert ~previous_quarter.duplicated(subset=[\"generator_id\", \"plant_id_eia\"]).any()\n",
    "    return previous_quarter\n",
    "\n",
    "\n",
    "def pct_change_mw_by_status(df):\n",
    "    recent_quarter = grab_current_quarter(df)\n",
    "    recent_quarter_mw_by_status = recent_quarter.groupby(\"operational_status_code\").capacity_mw.sum()\n",
    "\n",
    "    previous_quarter = grab_previous_quarter(df)\n",
    "    \n",
    "    previous_quarter_mw_by_status = previous_quarter.groupby(\"operational_status_code\").capacity_mw.sum()\n",
    "\n",
    "    return ((recent_quarter_mw_by_status - previous_quarter_mw_by_status) / previous_quarter_mw_by_status) * 100\n",
    "    "
   ]
  },
  {
   "cell_type": "markdown",
   "id": "3f408acc-3fa6-4f09-9e43-3f9f64ef2b89",
   "metadata": {},
   "source": [
    "How many generators had a status change in this quarter update? We shouldn't expect that many generators to have status changes.\n",
    "\n",
    "Merge the quarters together using the generator ID. Each quarter should only have one record for each generator so the merge should be one to one.\n"
   ]
  },
  {
   "cell_type": "code",
   "execution_count": 3,
   "id": "d2784d1d-aafc-4654-9509-e1b9654f82b9",
   "metadata": {},
   "outputs": [],
   "source": [
    "previous_quarter = grab_previous_quarter(eia860m)\n",
    "current_quarter = grab_current_quarter(eia860m)"
   ]
  },
  {
   "cell_type": "code",
   "execution_count": 4,
   "id": "edf457ab-26ca-4822-810c-0aed447b2ef6",
   "metadata": {},
   "outputs": [
    {
     "data": {
      "text/plain": [
       "(Timestamp('2024-12-01 00:00:00'), Timestamp('2025-03-01 00:00:00'))"
      ]
     },
     "execution_count": 4,
     "metadata": {},
     "output_type": "execute_result"
    }
   ],
   "source": [
    "previous_quarter.report_date.max(), current_quarter.report_date.max()"
   ]
  },
  {
   "cell_type": "code",
   "execution_count": 5,
   "id": "2f09eed0-aa72-47d7-8c26-2c1f6fab46c8",
   "metadata": {},
   "outputs": [
    {
     "data": {
      "text/plain": [
       "False    36360\n",
       "True       629\n",
       "dtype: int64"
      ]
     },
     "execution_count": 5,
     "metadata": {},
     "output_type": "execute_result"
    }
   ],
   "source": [
    "merged_quarters = previous_quarter.merge(current_quarter, on=[\"generator_id\", \"plant_id_eia\"], validate=\"1:1\", suffixes=(\"_previous\", \"_current\"))\n",
    "\n",
    "different_status_codes = merged_quarters[\"operational_status_code_previous\"].ne(merged_quarters[\"operational_status_code_current\"])\n",
    "different_status_codes.value_counts()\n"
   ]
  },
  {
   "cell_type": "markdown",
   "id": "d8192bb7-d98b-421e-bfb4-a886b0c7eb25",
   "metadata": {},
   "source": [
    "For the generators have have a different status in the new update, check to see if the status change makes sense: (\"Operational to Retired\", \"Under Construction to Operational\", etc). A highlevel check to make sure the status changes make sense is to see if the status code numbers stay the same or increase. Higher number operational codes represent more advanced stages in a generator's life cycle."
   ]
  },
  {
   "cell_type": "code",
   "execution_count": 6,
   "id": "6a99569b-6a25-4155-bd35-0c4b03d08070",
   "metadata": {},
   "outputs": [
    {
     "data": {
      "text/plain": [
       "True     36974\n",
       "False       15\n",
       "dtype: int64"
      ]
     },
     "execution_count": 6,
     "metadata": {},
     "output_type": "execute_result"
    }
   ],
   "source": [
    "new_status_code_is_greater = merged_quarters[\"operational_status_code_previous\"].le(merged_quarters[\"operational_status_code_current\"])\n",
    "\n",
    "new_status_code_is_greater.value_counts()"
   ]
  },
  {
   "cell_type": "code",
   "execution_count": 7,
   "id": "f179595a-4ff0-4234-a9a9-1151a9722fea",
   "metadata": {},
   "outputs": [
    {
     "data": {
      "text/html": [
       "<div>\n",
       "<style scoped>\n",
       "    .dataframe tbody tr th:only-of-type {\n",
       "        vertical-align: middle;\n",
       "    }\n",
       "\n",
       "    .dataframe tbody tr th {\n",
       "        vertical-align: top;\n",
       "    }\n",
       "\n",
       "    .dataframe thead th {\n",
       "        text-align: right;\n",
       "    }\n",
       "</style>\n",
       "<table border=\"1\" class=\"dataframe\">\n",
       "  <thead>\n",
       "    <tr style=\"text-align: right;\">\n",
       "      <th></th>\n",
       "      <th>raw_operational_status_code_previous</th>\n",
       "      <th>raw_operational_status_code_current</th>\n",
       "    </tr>\n",
       "  </thead>\n",
       "  <tbody>\n",
       "    <tr>\n",
       "      <th>703</th>\n",
       "      <td>RE</td>\n",
       "      <td>OA</td>\n",
       "    </tr>\n",
       "    <tr>\n",
       "      <th>2085</th>\n",
       "      <td>RE</td>\n",
       "      <td>OS</td>\n",
       "    </tr>\n",
       "    <tr>\n",
       "      <th>2207</th>\n",
       "      <td>RE</td>\n",
       "      <td>OS</td>\n",
       "    </tr>\n",
       "    <tr>\n",
       "      <th>7483</th>\n",
       "      <td>RE</td>\n",
       "      <td>OS</td>\n",
       "    </tr>\n",
       "    <tr>\n",
       "      <th>16781</th>\n",
       "      <td>L</td>\n",
       "      <td>P</td>\n",
       "    </tr>\n",
       "    <tr>\n",
       "      <th>16782</th>\n",
       "      <td>L</td>\n",
       "      <td>P</td>\n",
       "    </tr>\n",
       "    <tr>\n",
       "      <th>16826</th>\n",
       "      <td>T</td>\n",
       "      <td>L</td>\n",
       "    </tr>\n",
       "    <tr>\n",
       "      <th>20619</th>\n",
       "      <td>RE</td>\n",
       "      <td>OA</td>\n",
       "    </tr>\n",
       "    <tr>\n",
       "      <th>21578</th>\n",
       "      <td>L</td>\n",
       "      <td>P</td>\n",
       "    </tr>\n",
       "    <tr>\n",
       "      <th>21711</th>\n",
       "      <td>L</td>\n",
       "      <td>P</td>\n",
       "    </tr>\n",
       "    <tr>\n",
       "      <th>24003</th>\n",
       "      <td>L</td>\n",
       "      <td>P</td>\n",
       "    </tr>\n",
       "    <tr>\n",
       "      <th>27139</th>\n",
       "      <td>TS</td>\n",
       "      <td>V</td>\n",
       "    </tr>\n",
       "    <tr>\n",
       "      <th>31114</th>\n",
       "      <td>OT</td>\n",
       "      <td>U</td>\n",
       "    </tr>\n",
       "    <tr>\n",
       "      <th>32082</th>\n",
       "      <td>T</td>\n",
       "      <td>L</td>\n",
       "    </tr>\n",
       "    <tr>\n",
       "      <th>34446</th>\n",
       "      <td>OP</td>\n",
       "      <td>TS</td>\n",
       "    </tr>\n",
       "  </tbody>\n",
       "</table>\n",
       "</div>"
      ],
      "text/plain": [
       "      raw_operational_status_code_previous raw_operational_status_code_current\n",
       "703                                     RE                                  OA\n",
       "2085                                    RE                                  OS\n",
       "2207                                    RE                                  OS\n",
       "7483                                    RE                                  OS\n",
       "16781                                    L                                   P\n",
       "16782                                    L                                   P\n",
       "16826                                    T                                   L\n",
       "20619                                   RE                                  OA\n",
       "21578                                    L                                   P\n",
       "21711                                    L                                   P\n",
       "24003                                    L                                   P\n",
       "27139                                   TS                                   V\n",
       "31114                                   OT                                   U\n",
       "32082                                    T                                   L\n",
       "34446                                   OP                                  TS"
      ]
     },
     "execution_count": 7,
     "metadata": {},
     "output_type": "execute_result"
    }
   ],
   "source": [
    "merged_quarters[~new_status_code_is_greater][[\"raw_operational_status_code_previous\", \"raw_operational_status_code_current\"]]"
   ]
  },
  {
   "cell_type": "markdown",
   "id": "61a3cdf3-6cb0-4a18-8728-7cafb2498310",
   "metadata": {},
   "source": [
    "Looks like there are a handful of generators that came out of retirement. Let dig into the status codes of the generators that have a new status in the udpated data."
   ]
  },
  {
   "cell_type": "code",
   "execution_count": 8,
   "id": "f0276c69-3b80-458d-8ee1-65b7cac687f8",
   "metadata": {},
   "outputs": [
    {
     "data": {
      "text/html": [
       "<div>\n",
       "<style scoped>\n",
       "    .dataframe tbody tr th:only-of-type {\n",
       "        vertical-align: middle;\n",
       "    }\n",
       "\n",
       "    .dataframe tbody tr th {\n",
       "        vertical-align: top;\n",
       "    }\n",
       "\n",
       "    .dataframe thead th {\n",
       "        text-align: right;\n",
       "    }\n",
       "</style>\n",
       "<table border=\"1\" class=\"dataframe\">\n",
       "  <thead>\n",
       "    <tr style=\"text-align: right;\">\n",
       "      <th></th>\n",
       "      <th>code</th>\n",
       "      <th>status</th>\n",
       "      <th>description</th>\n",
       "    </tr>\n",
       "  </thead>\n",
       "  <tbody>\n",
       "    <tr>\n",
       "      <th>0</th>\n",
       "      <td>OT</td>\n",
       "      <td>99</td>\n",
       "      <td>proposed</td>\n",
       "    </tr>\n",
       "    <tr>\n",
       "      <th>1</th>\n",
       "      <td>IP</td>\n",
       "      <td>98</td>\n",
       "      <td>Planned new indefinitely postponed, or no longer in resource plan</td>\n",
       "    </tr>\n",
       "    <tr>\n",
       "      <th>2</th>\n",
       "      <td>P</td>\n",
       "      <td>1</td>\n",
       "      <td>Planned for installation but regulatory approvals not initiated; Not under construction</td>\n",
       "    </tr>\n",
       "    <tr>\n",
       "      <th>3</th>\n",
       "      <td>L</td>\n",
       "      <td>2</td>\n",
       "      <td>Not under construction but site preparation could be underway</td>\n",
       "    </tr>\n",
       "    <tr>\n",
       "      <th>4</th>\n",
       "      <td>T</td>\n",
       "      <td>3</td>\n",
       "      <td>Regulatory approvals received. Not under construction but site preparation could be underway</td>\n",
       "    </tr>\n",
       "    <tr>\n",
       "      <th>5</th>\n",
       "      <td>U</td>\n",
       "      <td>4</td>\n",
       "      <td>Under construction, less than or equal to 50 percent complete (based on construction time to date of operation)</td>\n",
       "    </tr>\n",
       "    <tr>\n",
       "      <th>6</th>\n",
       "      <td>V</td>\n",
       "      <td>5</td>\n",
       "      <td>Under construction, more than 50 percent complete (based on construction time to date of operation)</td>\n",
       "    </tr>\n",
       "    <tr>\n",
       "      <th>7</th>\n",
       "      <td>TS</td>\n",
       "      <td>6</td>\n",
       "      <td>Construction complete, but not yet in commercial operation (including low power testing of nuclear units). Operating under test conditions.</td>\n",
       "    </tr>\n",
       "    <tr>\n",
       "      <th>8</th>\n",
       "      <td>OA</td>\n",
       "      <td>7</td>\n",
       "      <td>Was not used for some or all of the reporting period but is expected to be returned to service in the next calendar year.</td>\n",
       "    </tr>\n",
       "    <tr>\n",
       "      <th>9</th>\n",
       "      <td>OP</td>\n",
       "      <td>7</td>\n",
       "      <td>Operating (in commercial service or out of service within 365 days). For generators, this means in service (commercial operation) and producing some electricity. Includes peaking units that are run on an as needed (intermittent or seasonal) basis.</td>\n",
       "    </tr>\n",
       "    <tr>\n",
       "      <th>10</th>\n",
       "      <td>OS</td>\n",
       "      <td>7</td>\n",
       "      <td>Was not used for some or all of the reporting period and is NOT expected to be returned to service in the next calendar year.</td>\n",
       "    </tr>\n",
       "    <tr>\n",
       "      <th>11</th>\n",
       "      <td>SB</td>\n",
       "      <td>7</td>\n",
       "      <td>Standby/Backup. Available for service but not normally used (has little or no generation during the year) for this reporting period. Includes old code BU from 2004-2006.</td>\n",
       "    </tr>\n",
       "    <tr>\n",
       "      <th>12</th>\n",
       "      <td>RE</td>\n",
       "      <td>8</td>\n",
       "      <td>No longer in service and not expected to be returned to service.</td>\n",
       "    </tr>\n",
       "  </tbody>\n",
       "</table>\n",
       "</div>"
      ],
      "text/plain": [
       "   code  status  \\\n",
       "0    OT      99   \n",
       "1    IP      98   \n",
       "2     P       1   \n",
       "3     L       2   \n",
       "4     T       3   \n",
       "5     U       4   \n",
       "6     V       5   \n",
       "7    TS       6   \n",
       "8    OA       7   \n",
       "9    OP       7   \n",
       "10   OS       7   \n",
       "11   SB       7   \n",
       "12   RE       8   \n",
       "\n",
       "                                                                                                                                                                                                                                                description  \n",
       "0                                                                                                                                                                                                                                                  proposed  \n",
       "1                                                                                                                                                                                         Planned new indefinitely postponed, or no longer in resource plan  \n",
       "2                                                                                                                                                                   Planned for installation but regulatory approvals not initiated; Not under construction  \n",
       "3                                                                                                                                                                                             Not under construction but site preparation could be underway  \n",
       "4                                                                                                                                                              Regulatory approvals received. Not under construction but site preparation could be underway  \n",
       "5                                                                                                                                           Under construction, less than or equal to 50 percent complete (based on construction time to date of operation)  \n",
       "6                                                                                                                                                       Under construction, more than 50 percent complete (based on construction time to date of operation)  \n",
       "7                                                                                                               Construction complete, but not yet in commercial operation (including low power testing of nuclear units). Operating under test conditions.  \n",
       "8                                                                                                                                 Was not used for some or all of the reporting period but is expected to be returned to service in the next calendar year.  \n",
       "9   Operating (in commercial service or out of service within 365 days). For generators, this means in service (commercial operation) and producing some electricity. Includes peaking units that are run on an as needed (intermittent or seasonal) basis.  \n",
       "10                                                                                                                            Was not used for some or all of the reporting period and is NOT expected to be returned to service in the next calendar year.  \n",
       "11                                                                                Standby/Backup. Available for service but not normally used (has little or no generation during the year) for this reporting period. Includes old code BU from 2004-2006.  \n",
       "12                                                                                                                                                                                         No longer in service and not expected to be returned to service.  "
      ]
     },
     "execution_count": 8,
     "metadata": {},
     "output_type": "execute_result"
    }
   ],
   "source": [
    "pd.set_option('display.max_colwidth', None)\n",
    "\n",
    "pudl_eia860m_status_codes"
   ]
  },
  {
   "cell_type": "code",
   "execution_count": 9,
   "id": "8cba2a28-f627-4599-bdb6-4d0c6abf8468",
   "metadata": {},
   "outputs": [
    {
     "data": {
      "text/plain": [
       "raw_operational_status_code_previous  raw_operational_status_code_current\n",
       "OP                                    RE                                     173\n",
       "V                                     OP                                      82\n",
       "U                                     V                                       82\n",
       "TS                                    OP                                      43\n",
       "SB                                    RE                                      39\n",
       "OS                                    RE                                      31\n",
       "V                                     TS                                      26\n",
       "U                                     OP                                      24\n",
       "P                                     U                                       17\n",
       "                                      L                                       16\n",
       "T                                     U                                       14\n",
       "L                                     U                                       13\n",
       "T                                     V                                       13\n",
       "L                                     V                                        7\n",
       "                                      T                                        6\n",
       "P                                     V                                        6\n",
       "OA                                    RE                                       6\n",
       "U                                     TS                                       5\n",
       "L                                     P                                        5\n",
       "T                                     OP                                       4\n",
       "RE                                    OS                                       3\n",
       "                                      OA                                       2\n",
       "P                                     TS                                       2\n",
       "T                                     L                                        2\n",
       "P                                     T                                        2\n",
       "                                      RE                                       1\n",
       "                                      OP                                       1\n",
       "TS                                    OT                                       1\n",
       "                                      V                                        1\n",
       "OT                                    U                                        1\n",
       "OP                                    TS                                       1\n",
       "dtype: int64"
      ]
     },
     "execution_count": 9,
     "metadata": {},
     "output_type": "execute_result"
    }
   ],
   "source": [
    "merged_quarters[different_status_codes][[\"raw_operational_status_code_previous\", \"raw_operational_status_code_current\"]].value_counts()"
   ]
  },
  {
   "cell_type": "markdown",
   "id": "04e26216-53cb-43c5-89a2-a84768e7c2ff",
   "metadata": {},
   "source": [
    "Look at capacity change for each status code."
   ]
  },
  {
   "cell_type": "code",
   "execution_count": 10,
   "id": "1326c9f9-f0e1-481d-8fa6-20cb7b0a0851",
   "metadata": {},
   "outputs": [
    {
     "data": {
      "text/plain": [
       "operational_status_code\n",
       "1     10.151463\n",
       "2      4.898029\n",
       "3      2.522753\n",
       "4     18.900128\n",
       "5     12.782260\n",
       "6     14.288642\n",
       "7      0.831132\n",
       "8      0.517567\n",
       "99    36.065070\n",
       "Name: capacity_mw, dtype: float64"
      ]
     },
     "execution_count": 10,
     "metadata": {},
     "output_type": "execute_result"
    }
   ],
   "source": [
    "pct_change_mw_by_status(eia860m)"
   ]
  },
  {
   "cell_type": "markdown",
   "id": "167e9517-2175-4c20-af9e-2ddbf3655642",
   "metadata": {},
   "source": [
    "## Capacity by status by ISO"
   ]
  },
  {
   "cell_type": "code",
   "execution_count": 11,
   "id": "0b88c92c-2230-4620-bd5b-93f39253a0ea",
   "metadata": {},
   "outputs": [],
   "source": [
    "ISO_REGIONS = (\"MISO\", \"PJM\", \"CISO\", \"ERCO\", \"ISNE\", \"NYIS\", \"SWPP\")"
   ]
  },
  {
   "cell_type": "code",
   "execution_count": 12,
   "id": "2a3efa2e-a1f6-421f-bcb7-1c55054b5b39",
   "metadata": {},
   "outputs": [
    {
     "name": "stdout",
     "output_type": "stream",
     "text": [
      "MISO\n",
      "operational_status_code\n",
      "1    -0.809216\n",
      "2    -2.594637\n",
      "3    -7.934785\n",
      "4    22.470016\n",
      "5    11.946750\n",
      "6   -39.186941\n",
      "7     1.272182\n",
      "8     0.377111\n",
      "Name: capacity_mw, dtype: float64\n",
      "\n",
      "PJM\n",
      "operational_status_code\n",
      "1      30.772787\n",
      "2       5.333808\n",
      "3     -21.294235\n",
      "4      40.156737\n",
      "5      53.387270\n",
      "6     483.636364\n",
      "7       0.957162\n",
      "8      -0.476059\n",
      "99      0.000000\n",
      "Name: capacity_mw, dtype: float64\n",
      "\n",
      "CISO\n",
      "operational_status_code\n",
      "1      -4.713238\n",
      "2       2.255213\n",
      "3      63.063106\n",
      "4      -8.989714\n",
      "5      27.409887\n",
      "6     110.473162\n",
      "7       1.000050\n",
      "8       0.755896\n",
      "99      0.000000\n",
      "Name: capacity_mw, dtype: float64\n",
      "\n",
      "ERCO\n",
      "operational_status_code\n",
      "1      10.097776\n",
      "2       4.259967\n",
      "3       2.900674\n",
      "4      34.841510\n",
      "5      -4.253696\n",
      "6      13.319210\n",
      "7       1.747042\n",
      "8       0.106738\n",
      "99    941.176471\n",
      "Name: capacity_mw, dtype: float64\n",
      "\n",
      "ISNE\n",
      "operational_status_code\n",
      "1     -3.848114\n",
      "2     -9.882462\n",
      "3     91.876347\n",
      "4      0.262902\n",
      "5     -6.776448\n",
      "6    -88.100209\n",
      "7      0.761564\n",
      "8      0.927302\n",
      "99          NaN\n",
      "Name: capacity_mw, dtype: float64\n",
      "\n",
      "NYIS\n",
      "operational_status_code\n",
      "1      0.355544\n",
      "2    -21.777315\n",
      "3     26.034402\n",
      "4     94.338212\n",
      "5     -7.320903\n",
      "6    178.445228\n",
      "7      0.303029\n",
      "8      0.808355\n",
      "Name: capacity_mw, dtype: float64\n",
      "\n",
      "SWPP\n",
      "operational_status_code\n",
      "1       5.377493\n",
      "2      16.575973\n",
      "3      89.962825\n",
      "4     283.288203\n",
      "5      17.012374\n",
      "6       0.574713\n",
      "7      -0.198172\n",
      "8       5.842887\n",
      "99      0.000000\n",
      "Name: capacity_mw, dtype: float64\n",
      "\n"
     ]
    }
   ],
   "source": [
    "eia860_isos = eia860m[eia860m.balancing_authority_code_eia.isin(ISO_REGIONS)]\n",
    "\n",
    "\n",
    "for region in ISO_REGIONS:\n",
    "    print(region)\n",
    "    pct_change = pct_change_mw_by_status(eia860_isos[eia860_isos[\"balancing_authority_code_eia\"] == region])\n",
    "    print(pct_change)\n",
    "    print()"
   ]
  },
  {
   "cell_type": "code",
   "execution_count": null,
   "id": "263a3f9b-55a7-43ff-bc0c-09dc0e962369",
   "metadata": {},
   "outputs": [],
   "source": []
  }
 ],
 "metadata": {
  "kernelspec": {
   "display_name": "Python 3 (ipykernel)",
   "language": "python",
   "name": "python3"
  },
  "language_info": {
   "codemirror_mode": {
    "name": "ipython",
    "version": 3
   },
   "file_extension": ".py",
   "mimetype": "text/x-python",
   "name": "python",
   "nbconvert_exporter": "python",
   "pygments_lexer": "ipython3",
   "version": "3.10.16"
  }
 },
 "nbformat": 4,
 "nbformat_minor": 5
}
