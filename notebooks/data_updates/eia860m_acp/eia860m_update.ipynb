{
 "cells": [
  {
   "cell_type": "markdown",
   "id": "92c0d3f8-8294-4f00-ab96-85a8ef45f4b6",
   "metadata": {},
   "source": [
    "# EIA 860M Update Inspection\n",
    "\n",
    "To run this notebook, you need to refresh the changelog data first, by updating parameters:\n",
    "- In `.env`, change `PUDL_VERSION` to the latest found [here](https://github.com/catalyst-cooperative/pudl/releases)\n",
    "- In `src/constants.py`, set `PUDL_LATEST_YEAR` to the latest year for which PUDL has complete data.\n",
    "\n",
    "and running `make all`."
   ]
  },
  {
   "cell_type": "code",
   "execution_count": 1,
   "id": "f6a081e5-adf8-4b6f-a9e1-e0bb3a16c72f",
   "metadata": {},
   "outputs": [],
   "source": [
    "import pandas as pd\n",
    "\n",
    "from dbcp.helpers import get_sql_engine\n",
    "\n",
    "engine = get_sql_engine()\n",
    "\n",
    "with engine.connect() as con:\n",
    "    eia860m = pd.read_sql_table(\"pudl_eia860m_changelog\", con, schema=\"data_warehouse\")"
   ]
  },
  {
   "cell_type": "code",
   "execution_count": 4,
   "id": "d72f5d91-902a-45ea-928b-fcc82bf29701",
   "metadata": {},
   "outputs": [],
   "source": [
    "END_OF_PREVIOUS_QUARTER_DATE = \"2024-10-01\"\n",
    "\n",
    "def pct_change_mw_by_status(df):\n",
    "    recent_quarter = df.loc[df.groupby([\"generator_id\", \"plant_id_eia\"])['report_date'].idxmax()]\n",
    "    \n",
    "    recent_quarter_mw_by_status = recent_quarter.groupby(\"operational_status_code\").capacity_mw.sum()\n",
    "\n",
    "    previous_quarter = df[df.report_date < END_OF_PREVIOUS_QUARTER_DATE]\n",
    "    previous_quarter = previous_quarter.loc[previous_quarter.groupby([\"generator_id\", \"plant_id_eia\"])['report_date'].idxmax()]\n",
    "    previous_quarter_mw_by_status = previous_quarter.groupby(\"operational_status_code\").capacity_mw.sum()\n",
    "\n",
    "    return ((recent_quarter_mw_by_status - previous_quarter_mw_by_status) / previous_quarter_mw_by_status) * 100\n",
    "    "
   ]
  },
  {
   "cell_type": "code",
   "execution_count": 5,
   "id": "85ad71be-2cae-459a-a5e4-7f7ff5ffa988",
   "metadata": {},
   "outputs": [
    {
     "data": {
      "text/plain": [
       "operational_status_code\n",
       "1     10.430908\n",
       "2      6.532631\n",
       "3      4.905398\n",
       "4     -5.174416\n",
       "5      9.569163\n",
       "6     12.365107\n",
       "7      0.714077\n",
       "8      0.079723\n",
       "99     0.000000\n",
       "Name: capacity_mw, dtype: float64"
      ]
     },
     "execution_count": 5,
     "metadata": {},
     "output_type": "execute_result"
    }
   ],
   "source": [
    "pct_change_mw_by_status(eia860m)"
   ]
  },
  {
   "cell_type": "markdown",
   "id": "167e9517-2175-4c20-af9e-2ddbf3655642",
   "metadata": {},
   "source": [
    "## Capacity by status by ISO"
   ]
  },
  {
   "cell_type": "code",
   "execution_count": 6,
   "id": "0b88c92c-2230-4620-bd5b-93f39253a0ea",
   "metadata": {},
   "outputs": [],
   "source": [
    "ISO_REGIONS = (\"MISO\", \"PJM\", \"CISO\", \"ERCO\", \"ISNE\", \"NYIS\", \"SWPP\") "
   ]
  },
  {
   "cell_type": "code",
   "execution_count": 7,
   "id": "2a3efa2e-a1f6-421f-bcb7-1c55054b5b39",
   "metadata": {},
   "outputs": [
    {
     "name": "stdout",
     "output_type": "stream",
     "text": [
      "MISO\n",
      "operational_status_code\n",
      "1     0.848435\n",
      "2    22.710135\n",
      "3    13.838777\n",
      "4    10.811155\n",
      "5    18.757170\n",
      "6    15.527606\n",
      "7     0.771333\n",
      "8     0.050665\n",
      "Name: capacity_mw, dtype: float64\n",
      "\n",
      "PJM\n",
      "operational_status_code\n",
      "1       9.898398\n",
      "2       1.209212\n",
      "3      -0.003964\n",
      "4       1.255510\n",
      "5      -0.968126\n",
      "6     209.016394\n",
      "7       0.163477\n",
      "8       0.101088\n",
      "99      0.000000\n",
      "Name: capacity_mw, dtype: float64\n",
      "\n",
      "CISO\n",
      "operational_status_code\n",
      "1      7.932810\n",
      "2     -0.425961\n",
      "3     25.064151\n",
      "4     -8.198664\n",
      "5      3.443937\n",
      "6      0.943523\n",
      "7      1.891107\n",
      "8     -0.076096\n",
      "99     0.000000\n",
      "Name: capacity_mw, dtype: float64\n",
      "\n",
      "ERCO\n",
      "operational_status_code\n",
      "1      9.219364\n",
      "2      9.677581\n",
      "3      8.698993\n",
      "4     -1.511497\n",
      "5    -19.986722\n",
      "6      6.414715\n",
      "7      2.277254\n",
      "8      0.000000\n",
      "99     0.000000\n",
      "Name: capacity_mw, dtype: float64\n",
      "\n",
      "ISNE\n",
      "operational_status_code\n",
      "1       0.000000\n",
      "2     -37.193092\n",
      "3      -1.548947\n",
      "4     189.530504\n",
      "5       1.449929\n",
      "6     -82.614942\n",
      "7       1.141464\n",
      "8      -1.600243\n",
      "99      0.000000\n",
      "Name: capacity_mw, dtype: float64\n",
      "\n",
      "NYIS\n",
      "operational_status_code\n",
      "1     3.513602\n",
      "2    -0.205928\n",
      "3    -2.673515\n",
      "4    -1.548444\n",
      "5    -7.892818\n",
      "6   -80.012610\n",
      "7     0.615609\n",
      "8     0.000000\n",
      "Name: capacity_mw, dtype: float64\n",
      "\n",
      "SWPP\n",
      "operational_status_code\n",
      "1     23.970617\n",
      "2    -31.576649\n",
      "3      0.000000\n",
      "4     59.125886\n",
      "5     25.387400\n",
      "6      0.884086\n",
      "7      0.002877\n",
      "8      0.031377\n",
      "99     0.000000\n",
      "Name: capacity_mw, dtype: float64\n",
      "\n"
     ]
    }
   ],
   "source": [
    "eia860_isos = eia860m[eia860m.balancing_authority_code_eia.isin(ISO_REGIONS)]\n",
    "\n",
    "\n",
    "for region in ISO_REGIONS:\n",
    "    print(region)\n",
    "    pct_change = pct_change_mw_by_status(eia860_isos[eia860_isos[\"balancing_authority_code_eia\"] == region])\n",
    "    print(pct_change)\n",
    "    print()"
   ]
  }
 ],
 "metadata": {
  "kernelspec": {
   "display_name": "Python 3 (ipykernel)",
   "language": "python",
   "name": "python3"
  },
  "language_info": {
   "codemirror_mode": {
    "name": "ipython",
    "version": 3
   },
   "file_extension": ".py",
   "mimetype": "text/x-python",
   "name": "python",
   "nbconvert_exporter": "python",
   "pygments_lexer": "ipython3",
   "version": "3.10.16"
  }
 },
 "nbformat": 4,
 "nbformat_minor": 5
}
