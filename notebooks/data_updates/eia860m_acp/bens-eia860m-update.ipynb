{
 "cells": [
  {
   "cell_type": "code",
   "execution_count": 1,
   "id": "f6a081e5-adf8-4b6f-a9e1-e0bb3a16c72f",
   "metadata": {},
   "outputs": [],
   "source": [
    "import pandas as pd\n",
    "\n",
    "from dbcp.helpers import get_sql_engine\n",
    "\n",
    "engine = get_sql_engine()\n",
    "\n",
    "with engine.connect() as con:\n",
    "    eia860m = pd.read_sql_table(\"pudl_eia860m_changelog\", con, schema=\"data_warehouse\")\n",
    "    pudl_eia860m_status_codes = pd.read_sql_table(\"pudl_eia860m_status_codes\", con, schema=\"data_warehouse\")"
   ]
  },
  {
   "cell_type": "code",
   "execution_count": 2,
   "id": "d72f5d91-902a-45ea-928b-fcc82bf29701",
   "metadata": {},
   "outputs": [],
   "source": [
    "PREVIOUS_QUARTER_DATE = \"2024-07-01\"\n",
    "\n",
    "def grab_current_quarter(df):\n",
    "    recent_quarter = df.loc[df.groupby([\"generator_id\", \"plant_id_eia\"])['report_date'].idxmax()]\n",
    "    assert ~recent_quarter.duplicated(subset=[\"generator_id\", \"plant_id_eia\"]).any()\n",
    "    return recent_quarter\n",
    "\n",
    "def grab_previous_quarter(df):\n",
    "    previous_quarter = df[df.report_date < PREVIOUS_QUARTER_DATE]\n",
    "    previous_quarter = previous_quarter.loc[previous_quarter.groupby([\"generator_id\", \"plant_id_eia\"])['report_date'].idxmax()]\n",
    "    assert ~previous_quarter.duplicated(subset=[\"generator_id\", \"plant_id_eia\"]).any()\n",
    "    return previous_quarter\n",
    "\n",
    "\n",
    "def pct_change_mw_by_status(df):\n",
    "    recent_quarter = grab_current_quarter(df)\n",
    "    recent_quarter_mw_by_status = recent_quarter.groupby(\"operational_status_code\").capacity_mw.sum()\n",
    "\n",
    "    previous_quarter = grab_previous_quarter(df)\n",
    "    \n",
    "    previous_quarter_mw_by_status = previous_quarter.groupby(\"operational_status_code\").capacity_mw.sum()\n",
    "\n",
    "    return ((recent_quarter_mw_by_status - previous_quarter_mw_by_status) / previous_quarter_mw_by_status) * 100\n",
    "    "
   ]
  },
  {
   "cell_type": "markdown",
   "id": "3f408acc-3fa6-4f09-9e43-3f9f64ef2b89",
   "metadata": {},
   "source": [
    "How many generators had a status change in this quarter update? We shouldn't expect that many generators to have status changes.\n",
    "\n",
    "Merge the quarters together using the generator ID. Each quarter should only have one record for each generator so the merge should be one to one.\n"
   ]
  },
  {
   "cell_type": "code",
   "execution_count": 3,
   "id": "d2784d1d-aafc-4654-9509-e1b9654f82b9",
   "metadata": {},
   "outputs": [],
   "source": [
    "previous_quarter = grab_previous_quarter(eia860m)\n",
    "current_quarter = grab_current_quarter(eia860m)"
   ]
  },
  {
   "cell_type": "code",
   "execution_count": 4,
   "id": "2f09eed0-aa72-47d7-8c26-2c1f6fab46c8",
   "metadata": {},
   "outputs": [
    {
     "data": {
      "text/plain": [
       "False    35549\n",
       "True       466\n",
       "dtype: int64"
      ]
     },
     "execution_count": 4,
     "metadata": {},
     "output_type": "execute_result"
    }
   ],
   "source": [
    "merged_quarters = previous_quarter.merge(current_quarter, on=[\"generator_id\", \"plant_id_eia\"], validate=\"1:1\", suffixes=(\"_previous\", \"_current\"))\n",
    "\n",
    "different_status_codes = merged_quarters[\"operational_status_code_previous\"].ne(merged_quarters[\"operational_status_code_current\"])\n",
    "different_status_codes.value_counts()\n"
   ]
  },
  {
   "cell_type": "markdown",
   "id": "d8192bb7-d98b-421e-bfb4-a886b0c7eb25",
   "metadata": {},
   "source": [
    "For the generators have have a different status in the new update, check to see if the status change makes sense: (\"Operational to Retired\", \"Under Construction to Operational\", etc). A highlevel check to make sure the status changes make sense is to see if the status code numbers stay the same or increase. Higher number operational codes represent more advanced stages in a generator's life cycle."
   ]
  },
  {
   "cell_type": "code",
   "execution_count": 5,
   "id": "6a99569b-6a25-4155-bd35-0c4b03d08070",
   "metadata": {},
   "outputs": [
    {
     "data": {
      "text/plain": [
       "True     36009\n",
       "False        6\n",
       "dtype: int64"
      ]
     },
     "execution_count": 5,
     "metadata": {},
     "output_type": "execute_result"
    }
   ],
   "source": [
    "new_status_code_is_greater = merged_quarters[\"operational_status_code_previous\"].le(merged_quarters[\"operational_status_code_current\"])\n",
    "\n",
    "new_status_code_is_greater.value_counts()"
   ]
  },
  {
   "cell_type": "code",
   "execution_count": 6,
   "id": "f179595a-4ff0-4234-a9a9-1151a9722fea",
   "metadata": {},
   "outputs": [
    {
     "data": {
      "text/html": [
       "<div>\n",
       "<style scoped>\n",
       "    .dataframe tbody tr th:only-of-type {\n",
       "        vertical-align: middle;\n",
       "    }\n",
       "\n",
       "    .dataframe tbody tr th {\n",
       "        vertical-align: top;\n",
       "    }\n",
       "\n",
       "    .dataframe thead th {\n",
       "        text-align: right;\n",
       "    }\n",
       "</style>\n",
       "<table border=\"1\" class=\"dataframe\">\n",
       "  <thead>\n",
       "    <tr style=\"text-align: right;\">\n",
       "      <th></th>\n",
       "      <th>raw_operational_status_code_previous</th>\n",
       "      <th>raw_operational_status_code_current</th>\n",
       "    </tr>\n",
       "  </thead>\n",
       "  <tbody>\n",
       "    <tr>\n",
       "      <th>17994</th>\n",
       "      <td>RE</td>\n",
       "      <td>OS</td>\n",
       "    </tr>\n",
       "    <tr>\n",
       "      <th>18021</th>\n",
       "      <td>RE</td>\n",
       "      <td>OS</td>\n",
       "    </tr>\n",
       "    <tr>\n",
       "      <th>18045</th>\n",
       "      <td>RE</td>\n",
       "      <td>OS</td>\n",
       "    </tr>\n",
       "    <tr>\n",
       "      <th>22228</th>\n",
       "      <td>RE</td>\n",
       "      <td>OP</td>\n",
       "    </tr>\n",
       "    <tr>\n",
       "      <th>28916</th>\n",
       "      <td>RE</td>\n",
       "      <td>OP</td>\n",
       "    </tr>\n",
       "    <tr>\n",
       "      <th>31142</th>\n",
       "      <td>T</td>\n",
       "      <td>L</td>\n",
       "    </tr>\n",
       "  </tbody>\n",
       "</table>\n",
       "</div>"
      ],
      "text/plain": [
       "      raw_operational_status_code_previous raw_operational_status_code_current\n",
       "17994                                   RE                                  OS\n",
       "18021                                   RE                                  OS\n",
       "18045                                   RE                                  OS\n",
       "22228                                   RE                                  OP\n",
       "28916                                   RE                                  OP\n",
       "31142                                    T                                   L"
      ]
     },
     "execution_count": 6,
     "metadata": {},
     "output_type": "execute_result"
    }
   ],
   "source": [
    "merged_quarters[~new_status_code_is_greater][[\"raw_operational_status_code_previous\", \"raw_operational_status_code_current\"]]"
   ]
  },
  {
   "cell_type": "markdown",
   "id": "61a3cdf3-6cb0-4a18-8728-7cafb2498310",
   "metadata": {},
   "source": [
    "Looks like there are a handful of generators that came out of retirement. Let dig into the status codes of the generators that have a new status in the udpated data."
   ]
  },
  {
   "cell_type": "code",
   "execution_count": 7,
   "id": "f0276c69-3b80-458d-8ee1-65b7cac687f8",
   "metadata": {},
   "outputs": [
    {
     "data": {
      "text/html": [
       "<div>\n",
       "<style scoped>\n",
       "    .dataframe tbody tr th:only-of-type {\n",
       "        vertical-align: middle;\n",
       "    }\n",
       "\n",
       "    .dataframe tbody tr th {\n",
       "        vertical-align: top;\n",
       "    }\n",
       "\n",
       "    .dataframe thead th {\n",
       "        text-align: right;\n",
       "    }\n",
       "</style>\n",
       "<table border=\"1\" class=\"dataframe\">\n",
       "  <thead>\n",
       "    <tr style=\"text-align: right;\">\n",
       "      <th></th>\n",
       "      <th>code</th>\n",
       "      <th>status</th>\n",
       "      <th>description</th>\n",
       "    </tr>\n",
       "  </thead>\n",
       "  <tbody>\n",
       "    <tr>\n",
       "      <th>0</th>\n",
       "      <td>OT</td>\n",
       "      <td>99</td>\n",
       "      <td>proposed</td>\n",
       "    </tr>\n",
       "    <tr>\n",
       "      <th>1</th>\n",
       "      <td>IP</td>\n",
       "      <td>98</td>\n",
       "      <td>Planned new indefinitely postponed, or no longer in resource plan</td>\n",
       "    </tr>\n",
       "    <tr>\n",
       "      <th>2</th>\n",
       "      <td>P</td>\n",
       "      <td>1</td>\n",
       "      <td>Planned for installation but regulatory approvals not initiated; Not under construction</td>\n",
       "    </tr>\n",
       "    <tr>\n",
       "      <th>3</th>\n",
       "      <td>L</td>\n",
       "      <td>2</td>\n",
       "      <td>Not under construction but site preparation could be underway</td>\n",
       "    </tr>\n",
       "    <tr>\n",
       "      <th>4</th>\n",
       "      <td>T</td>\n",
       "      <td>3</td>\n",
       "      <td>Regulatory approvals received. Not under construction but site preparation could be underway</td>\n",
       "    </tr>\n",
       "    <tr>\n",
       "      <th>5</th>\n",
       "      <td>U</td>\n",
       "      <td>4</td>\n",
       "      <td>Under construction, less than or equal to 50 percent complete (based on construction time to date of operation)</td>\n",
       "    </tr>\n",
       "    <tr>\n",
       "      <th>6</th>\n",
       "      <td>V</td>\n",
       "      <td>5</td>\n",
       "      <td>Under construction, more than 50 percent complete (based on construction time to date of operation)</td>\n",
       "    </tr>\n",
       "    <tr>\n",
       "      <th>7</th>\n",
       "      <td>TS</td>\n",
       "      <td>6</td>\n",
       "      <td>Construction complete, but not yet in commercial operation (including low power testing of nuclear units). Operating under test conditions.</td>\n",
       "    </tr>\n",
       "    <tr>\n",
       "      <th>8</th>\n",
       "      <td>OA</td>\n",
       "      <td>7</td>\n",
       "      <td>Was not used for some or all of the reporting period but is expected to be returned to service in the next calendar year.</td>\n",
       "    </tr>\n",
       "    <tr>\n",
       "      <th>9</th>\n",
       "      <td>OP</td>\n",
       "      <td>7</td>\n",
       "      <td>Operating (in commercial service or out of service within 365 days). For generators, this means in service (commercial operation) and producing some electricity. Includes peaking units that are run on an as needed (intermittent or seasonal) basis.</td>\n",
       "    </tr>\n",
       "    <tr>\n",
       "      <th>10</th>\n",
       "      <td>OS</td>\n",
       "      <td>7</td>\n",
       "      <td>Was not used for some or all of the reporting period and is NOT expected to be returned to service in the next calendar year.</td>\n",
       "    </tr>\n",
       "    <tr>\n",
       "      <th>11</th>\n",
       "      <td>SB</td>\n",
       "      <td>7</td>\n",
       "      <td>Standby/Backup. Available for service but not normally used (has little or no generation during the year) for this reporting period. Includes old code BU from 2004-2006.</td>\n",
       "    </tr>\n",
       "    <tr>\n",
       "      <th>12</th>\n",
       "      <td>RE</td>\n",
       "      <td>8</td>\n",
       "      <td>No longer in service and not expected to be returned to service.</td>\n",
       "    </tr>\n",
       "  </tbody>\n",
       "</table>\n",
       "</div>"
      ],
      "text/plain": [
       "   code  status  \\\n",
       "0    OT      99   \n",
       "1    IP      98   \n",
       "2     P       1   \n",
       "3     L       2   \n",
       "4     T       3   \n",
       "5     U       4   \n",
       "6     V       5   \n",
       "7    TS       6   \n",
       "8    OA       7   \n",
       "9    OP       7   \n",
       "10   OS       7   \n",
       "11   SB       7   \n",
       "12   RE       8   \n",
       "\n",
       "                                                                                                                                                                                                                                                description  \n",
       "0                                                                                                                                                                                                                                                  proposed  \n",
       "1                                                                                                                                                                                         Planned new indefinitely postponed, or no longer in resource plan  \n",
       "2                                                                                                                                                                   Planned for installation but regulatory approvals not initiated; Not under construction  \n",
       "3                                                                                                                                                                                             Not under construction but site preparation could be underway  \n",
       "4                                                                                                                                                              Regulatory approvals received. Not under construction but site preparation could be underway  \n",
       "5                                                                                                                                           Under construction, less than or equal to 50 percent complete (based on construction time to date of operation)  \n",
       "6                                                                                                                                                       Under construction, more than 50 percent complete (based on construction time to date of operation)  \n",
       "7                                                                                                               Construction complete, but not yet in commercial operation (including low power testing of nuclear units). Operating under test conditions.  \n",
       "8                                                                                                                                 Was not used for some or all of the reporting period but is expected to be returned to service in the next calendar year.  \n",
       "9   Operating (in commercial service or out of service within 365 days). For generators, this means in service (commercial operation) and producing some electricity. Includes peaking units that are run on an as needed (intermittent or seasonal) basis.  \n",
       "10                                                                                                                            Was not used for some or all of the reporting period and is NOT expected to be returned to service in the next calendar year.  \n",
       "11                                                                                Standby/Backup. Available for service but not normally used (has little or no generation during the year) for this reporting period. Includes old code BU from 2004-2006.  \n",
       "12                                                                                                                                                                                         No longer in service and not expected to be returned to service.  "
      ]
     },
     "execution_count": 7,
     "metadata": {},
     "output_type": "execute_result"
    }
   ],
   "source": [
    "pd.set_option('display.max_colwidth', None)\n",
    "\n",
    "pudl_eia860m_status_codes"
   ]
  },
  {
   "cell_type": "code",
   "execution_count": 8,
   "id": "8cba2a28-f627-4599-bdb6-4d0c6abf8468",
   "metadata": {},
   "outputs": [
    {
     "data": {
      "text/plain": [
       "raw_operational_status_code_previous  raw_operational_status_code_current\n",
       "OP                                    RE                                     85\n",
       "U                                     V                                      78\n",
       "V                                     OP                                     69\n",
       "TS                                    OP                                     53\n",
       "OS                                    RE                                     34\n",
       "V                                     TS                                     26\n",
       "T                                     U                                      21\n",
       "                                      V                                      15\n",
       "U                                     OP                                     12\n",
       "L                                     U                                      10\n",
       "P                                     V                                       8\n",
       "L                                     T                                       8\n",
       "T                                     OP                                      7\n",
       "U                                     TS                                      7\n",
       "P                                     U                                       7\n",
       "OA                                    RE                                      6\n",
       "L                                     OP                                      4\n",
       "P                                     T                                       3\n",
       "RE                                    OS                                      3\n",
       "T                                     TS                                      2\n",
       "RE                                    OP                                      2\n",
       "P                                     TS                                      2\n",
       "T                                     L                                       1\n",
       "SB                                    RE                                      1\n",
       "P                                     OP                                      1\n",
       "L                                     V                                       1\n",
       "dtype: int64"
      ]
     },
     "execution_count": 8,
     "metadata": {},
     "output_type": "execute_result"
    }
   ],
   "source": [
    "merged_quarters[different_status_codes][[\"raw_operational_status_code_previous\", \"raw_operational_status_code_current\"]].value_counts()"
   ]
  },
  {
   "cell_type": "markdown",
   "id": "04e26216-53cb-43c5-89a2-a84768e7c2ff",
   "metadata": {},
   "source": [
    "Look at capacity change for each status code."
   ]
  },
  {
   "cell_type": "code",
   "execution_count": 9,
   "id": "1326c9f9-f0e1-481d-8fa6-20cb7b0a0851",
   "metadata": {},
   "outputs": [
    {
     "data": {
      "text/plain": [
       "operational_status_code\n",
       "1     10.430908\n",
       "2      6.532631\n",
       "3      4.905398\n",
       "4     -5.174416\n",
       "5      9.569163\n",
       "6     12.365107\n",
       "7      0.714077\n",
       "8      0.079723\n",
       "99     0.000000\n",
       "Name: capacity_mw, dtype: float64"
      ]
     },
     "execution_count": 9,
     "metadata": {},
     "output_type": "execute_result"
    }
   ],
   "source": [
    "pct_change_mw_by_status(eia860m)"
   ]
  },
  {
   "cell_type": "markdown",
   "id": "167e9517-2175-4c20-af9e-2ddbf3655642",
   "metadata": {},
   "source": [
    "## Capacity by status by ISO"
   ]
  },
  {
   "cell_type": "code",
   "execution_count": 10,
   "id": "0b88c92c-2230-4620-bd5b-93f39253a0ea",
   "metadata": {},
   "outputs": [],
   "source": [
    "ISO_REGIONS = (\"MISO\", \"PJM\", \"CISO\", \"ERCO\", \"ISNE\", \"NYIS\", \"SWPP\") "
   ]
  },
  {
   "cell_type": "code",
   "execution_count": 11,
   "id": "2a3efa2e-a1f6-421f-bcb7-1c55054b5b39",
   "metadata": {},
   "outputs": [
    {
     "name": "stdout",
     "output_type": "stream",
     "text": [
      "MISO\n",
      "operational_status_code\n",
      "1     0.848435\n",
      "2    22.710135\n",
      "3    13.838777\n",
      "4    10.811155\n",
      "5    18.757170\n",
      "6    15.527606\n",
      "7     0.771333\n",
      "8     0.050665\n",
      "Name: capacity_mw, dtype: float64\n",
      "\n",
      "PJM\n",
      "operational_status_code\n",
      "1       9.898398\n",
      "2       1.209212\n",
      "3      -0.003964\n",
      "4       1.255510\n",
      "5      -0.968126\n",
      "6     209.016394\n",
      "7       0.163477\n",
      "8       0.101088\n",
      "99      0.000000\n",
      "Name: capacity_mw, dtype: float64\n",
      "\n",
      "CISO\n",
      "operational_status_code\n",
      "1      7.932810\n",
      "2     -0.425961\n",
      "3     25.064151\n",
      "4     -8.198664\n",
      "5      3.443937\n",
      "6      0.943523\n",
      "7      1.891107\n",
      "8     -0.076096\n",
      "99     0.000000\n",
      "Name: capacity_mw, dtype: float64\n",
      "\n",
      "ERCO\n",
      "operational_status_code\n",
      "1      9.219364\n",
      "2      9.677581\n",
      "3      8.698993\n",
      "4     -1.511497\n",
      "5    -19.986722\n",
      "6      6.414715\n",
      "7      2.277254\n",
      "8      0.000000\n",
      "99     0.000000\n",
      "Name: capacity_mw, dtype: float64\n",
      "\n",
      "ISNE\n",
      "operational_status_code\n",
      "1       0.000000\n",
      "2     -37.193092\n",
      "3      -1.548947\n",
      "4     189.530504\n",
      "5       1.449929\n",
      "6     -82.614942\n",
      "7       1.141464\n",
      "8      -1.600243\n",
      "99      0.000000\n",
      "Name: capacity_mw, dtype: float64\n",
      "\n",
      "NYIS\n",
      "operational_status_code\n",
      "1     3.513602\n",
      "2    -0.205928\n",
      "3    -2.673515\n",
      "4    -1.548444\n",
      "5    -7.892818\n",
      "6   -80.012610\n",
      "7     0.615609\n",
      "8     0.000000\n",
      "Name: capacity_mw, dtype: float64\n",
      "\n",
      "SWPP\n",
      "operational_status_code\n",
      "1     23.970617\n",
      "2    -31.576649\n",
      "3      0.000000\n",
      "4     59.125886\n",
      "5     25.387400\n",
      "6      0.884086\n",
      "7      0.002877\n",
      "8      0.031377\n",
      "99     0.000000\n",
      "Name: capacity_mw, dtype: float64\n",
      "\n"
     ]
    }
   ],
   "source": [
    "eia860_isos = eia860m[eia860m.balancing_authority_code_eia.isin(ISO_REGIONS)]\n",
    "\n",
    "\n",
    "for region in ISO_REGIONS:\n",
    "    print(region)\n",
    "    pct_change = pct_change_mw_by_status(eia860_isos[eia860_isos[\"balancing_authority_code_eia\"] == region])\n",
    "    print(pct_change)\n",
    "    print()"
   ]
  }
 ],
 "metadata": {
  "kernelspec": {
   "display_name": "Python 3 (ipykernel)",
   "language": "python",
   "name": "python3"
  },
  "language_info": {
   "codemirror_mode": {
    "name": "ipython",
    "version": 3
   },
   "file_extension": ".py",
   "mimetype": "text/x-python",
   "name": "python",
   "nbconvert_exporter": "python",
   "pygments_lexer": "ipython3",
   "version": "3.10.16"
  }
 },
 "nbformat": 4,
 "nbformat_minor": 5
}
