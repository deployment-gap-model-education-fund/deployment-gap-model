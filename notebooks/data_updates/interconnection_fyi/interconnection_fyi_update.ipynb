{
 "cells": [
  {
   "cell_type": "markdown",
   "id": "d1c98280-7b93-493c-8926-301653d1f2e4",
   "metadata": {},
   "source": [
    "# WIP notebook to update interconnection FYI data"
   ]
  },
  {
   "cell_type": "code",
   "execution_count": 3,
   "id": "266156b6-c81b-4433-8c6b-76537866864e",
   "metadata": {},
   "outputs": [],
   "source": [
    "import pandas as pd\n",
    "from dbcp.extract.helpers import cache_gcs_archive_file_locally"
   ]
  },
  {
   "cell_type": "code",
   "execution_count": 21,
   "id": "fb5a44c2-51d8-4e64-b125-77a03e12650c",
   "metadata": {},
   "outputs": [],
   "source": [
    "pd.set_option('display.max_columns', None)"
   ]
  },
  {
   "cell_type": "markdown",
   "id": "fac87066-9894-4ef4-8d8e-359b5af3f3da",
   "metadata": {},
   "source": [
    "# Raw Data"
   ]
  },
  {
   "cell_type": "code",
   "execution_count": 6,
   "id": "5fb7ee52-a680-4a0e-8bea-5c41dc71d72f",
   "metadata": {},
   "outputs": [],
   "source": [
    "# Save old FYI data locally\n",
    "old_fyi_path = cache_gcs_archive_file_locally(\"gs://dgm-archive/interconnection.fyi/interconnection_fyi_dataset_2025-09-01.csv\")\n",
    "# old_br_path = cache_gcs_archive_file_locally(\"gs://dgm-archive/ballot_ready/climate_partners_upcoming_races_with_counties_20250204.csv\")\n",
    "new_fyi_path = cache_gcs_archive_file_locally(\"gs://dgm-archive/interconnection.fyi/interconnection_fyi_dataset_2025-10-01.csv\")\n",
    "\n",
    "old_fyi = pd.read_csv(old_fyi_path)\n",
    "new_fyi = pd.read_csv(new_fyi_path)"
   ]
  },
  {
   "cell_type": "code",
   "execution_count": 7,
   "id": "631ada05-e32d-4183-9aa6-e58bd73b6b95",
   "metadata": {},
   "outputs": [
    {
     "data": {
      "text/html": [
       "<div>\n",
       "<style scoped>\n",
       "    .dataframe tbody tr th:only-of-type {\n",
       "        vertical-align: middle;\n",
       "    }\n",
       "\n",
       "    .dataframe tbody tr th {\n",
       "        vertical-align: top;\n",
       "    }\n",
       "\n",
       "    .dataframe thead th {\n",
       "        text-align: right;\n",
       "    }\n",
       "</style>\n",
       "<table border=\"1\" class=\"dataframe\">\n",
       "  <thead>\n",
       "    <tr style=\"text-align: right;\">\n",
       "      <th></th>\n",
       "      <th>unique_id</th>\n",
       "      <th>project_type</th>\n",
       "      <th>power_market</th>\n",
       "      <th>transmission_owner</th>\n",
       "      <th>canonical_transmission_owners</th>\n",
       "      <th>queue_id</th>\n",
       "      <th>project_name</th>\n",
       "      <th>actual_completion_date</th>\n",
       "      <th>proposed_completion_date</th>\n",
       "      <th>withdrawn_date</th>\n",
       "      <th>...</th>\n",
       "      <th>latitude</th>\n",
       "      <th>longitude</th>\n",
       "      <th>capacity_by_generation_type_breakdown</th>\n",
       "      <th>interconnection_voltage_kv</th>\n",
       "      <th>fips_codes</th>\n",
       "      <th>schedule_next_event_date</th>\n",
       "      <th>schedule_next_event_name</th>\n",
       "      <th>most_recent_study_date</th>\n",
       "      <th>most_recent_allocated_network_upgrade_cost</th>\n",
       "      <th>most_recent_study_url</th>\n",
       "    </tr>\n",
       "  </thead>\n",
       "  <tbody>\n",
       "    <tr>\n",
       "      <th>0</th>\n",
       "      <td>aeso-p1756</td>\n",
       "      <td>Generation</td>\n",
       "      <td>AESO</td>\n",
       "      <td>Alberta Electric System Operator</td>\n",
       "      <td>Alberta Electric System Operator</td>\n",
       "      <td>P1756</td>\n",
       "      <td>P1756 TPG Canyon Creek PHES Storage Project</td>\n",
       "      <td>NaN</td>\n",
       "      <td>2027-05-01</td>\n",
       "      <td>NaN</td>\n",
       "      <td>...</td>\n",
       "      <td>NaN</td>\n",
       "      <td>NaN</td>\n",
       "      <td>NaN</td>\n",
       "      <td>NaN</td>\n",
       "      <td>NaN</td>\n",
       "      <td>NaN</td>\n",
       "      <td>NaN</td>\n",
       "      <td>NaN</td>\n",
       "      <td>NaN</td>\n",
       "      <td>NaN</td>\n",
       "    </tr>\n",
       "    <tr>\n",
       "      <th>1</th>\n",
       "      <td>aeso-p1828</td>\n",
       "      <td>Generation</td>\n",
       "      <td>AESO</td>\n",
       "      <td>Alberta Electric System Operator</td>\n",
       "      <td>Alberta Electric System Operator</td>\n",
       "      <td>P1828</td>\n",
       "      <td>P1828 hep Energy Alderson MPC Solar</td>\n",
       "      <td>NaN</td>\n",
       "      <td>2026-03-05</td>\n",
       "      <td>NaN</td>\n",
       "      <td>...</td>\n",
       "      <td>NaN</td>\n",
       "      <td>NaN</td>\n",
       "      <td>NaN</td>\n",
       "      <td>NaN</td>\n",
       "      <td>NaN</td>\n",
       "      <td>NaN</td>\n",
       "      <td>NaN</td>\n",
       "      <td>NaN</td>\n",
       "      <td>NaN</td>\n",
       "      <td>NaN</td>\n",
       "    </tr>\n",
       "    <tr>\n",
       "      <th>2</th>\n",
       "      <td>aeso-p1885</td>\n",
       "      <td>Generation</td>\n",
       "      <td>AESO</td>\n",
       "      <td>Alberta Electric System Operator</td>\n",
       "      <td>Alberta Electric System Operator</td>\n",
       "      <td>P1885</td>\n",
       "      <td>P1885 Northern Lights WAGF</td>\n",
       "      <td>NaN</td>\n",
       "      <td>NaN</td>\n",
       "      <td>NaN</td>\n",
       "      <td>...</td>\n",
       "      <td>NaN</td>\n",
       "      <td>NaN</td>\n",
       "      <td>NaN</td>\n",
       "      <td>NaN</td>\n",
       "      <td>NaN</td>\n",
       "      <td>NaN</td>\n",
       "      <td>NaN</td>\n",
       "      <td>NaN</td>\n",
       "      <td>NaN</td>\n",
       "      <td>NaN</td>\n",
       "    </tr>\n",
       "    <tr>\n",
       "      <th>3</th>\n",
       "      <td>aeso-p1926</td>\n",
       "      <td>Generation</td>\n",
       "      <td>AESO</td>\n",
       "      <td>Alberta Electric System Operator</td>\n",
       "      <td>Alberta Electric System Operator</td>\n",
       "      <td>P1926</td>\n",
       "      <td>P1926 Solar Krafte Vauxhall</td>\n",
       "      <td>NaN</td>\n",
       "      <td>2025-12-15</td>\n",
       "      <td>NaN</td>\n",
       "      <td>...</td>\n",
       "      <td>NaN</td>\n",
       "      <td>NaN</td>\n",
       "      <td>NaN</td>\n",
       "      <td>NaN</td>\n",
       "      <td>NaN</td>\n",
       "      <td>NaN</td>\n",
       "      <td>NaN</td>\n",
       "      <td>NaN</td>\n",
       "      <td>NaN</td>\n",
       "      <td>NaN</td>\n",
       "    </tr>\n",
       "    <tr>\n",
       "      <th>4</th>\n",
       "      <td>aeso-p1927</td>\n",
       "      <td>Generation</td>\n",
       "      <td>AESO</td>\n",
       "      <td>Alberta Electric System Operator</td>\n",
       "      <td>Alberta Electric System Operator</td>\n",
       "      <td>P1927</td>\n",
       "      <td>P1927 Beargrass Solar</td>\n",
       "      <td>NaN</td>\n",
       "      <td>2026-10-01</td>\n",
       "      <td>NaN</td>\n",
       "      <td>...</td>\n",
       "      <td>NaN</td>\n",
       "      <td>NaN</td>\n",
       "      <td>NaN</td>\n",
       "      <td>NaN</td>\n",
       "      <td>NaN</td>\n",
       "      <td>NaN</td>\n",
       "      <td>NaN</td>\n",
       "      <td>NaN</td>\n",
       "      <td>NaN</td>\n",
       "      <td>NaN</td>\n",
       "    </tr>\n",
       "    <tr>\n",
       "      <th>...</th>\n",
       "      <td>...</td>\n",
       "      <td>...</td>\n",
       "      <td>...</td>\n",
       "      <td>...</td>\n",
       "      <td>...</td>\n",
       "      <td>...</td>\n",
       "      <td>...</td>\n",
       "      <td>...</td>\n",
       "      <td>...</td>\n",
       "      <td>...</td>\n",
       "      <td>...</td>\n",
       "      <td>...</td>\n",
       "      <td>...</td>\n",
       "      <td>...</td>\n",
       "      <td>...</td>\n",
       "      <td>...</td>\n",
       "      <td>...</td>\n",
       "      <td>...</td>\n",
       "      <td>...</td>\n",
       "      <td>...</td>\n",
       "      <td>...</td>\n",
       "    </tr>\n",
       "    <tr>\n",
       "      <th>39702</th>\n",
       "      <td>wapa-ti-1001</td>\n",
       "      <td>Transmission</td>\n",
       "      <td>West</td>\n",
       "      <td>WAPA/BEPC/HCPD Integrated System</td>\n",
       "      <td>WAPA/BEPC/HCPD Integrated System</td>\n",
       "      <td>TI-1001</td>\n",
       "      <td>NaN</td>\n",
       "      <td>NaN</td>\n",
       "      <td>NaN</td>\n",
       "      <td>NaN</td>\n",
       "      <td>...</td>\n",
       "      <td>42.602926</td>\n",
       "      <td>-96.306326</td>\n",
       "      <td>NaN</td>\n",
       "      <td>161.0</td>\n",
       "      <td>19193</td>\n",
       "      <td>NaN</td>\n",
       "      <td>NaN</td>\n",
       "      <td>NaN</td>\n",
       "      <td>NaN</td>\n",
       "      <td>NaN</td>\n",
       "    </tr>\n",
       "    <tr>\n",
       "      <th>39703</th>\n",
       "      <td>wapa-ti-1301</td>\n",
       "      <td>Transmission</td>\n",
       "      <td>West</td>\n",
       "      <td>WAPA/BEPC/HCPD Integrated System</td>\n",
       "      <td>WAPA/BEPC/HCPD Integrated System</td>\n",
       "      <td>TI-1301</td>\n",
       "      <td>NaN</td>\n",
       "      <td>NaN</td>\n",
       "      <td>NaN</td>\n",
       "      <td>NaN</td>\n",
       "      <td>...</td>\n",
       "      <td>NaN</td>\n",
       "      <td>NaN</td>\n",
       "      <td>NaN</td>\n",
       "      <td>345.0</td>\n",
       "      <td>31089</td>\n",
       "      <td>NaN</td>\n",
       "      <td>NaN</td>\n",
       "      <td>NaN</td>\n",
       "      <td>NaN</td>\n",
       "      <td>NaN</td>\n",
       "    </tr>\n",
       "    <tr>\n",
       "      <th>39704</th>\n",
       "      <td>wapa-ti-1302</td>\n",
       "      <td>Transmission</td>\n",
       "      <td>West</td>\n",
       "      <td>WAPA/BEPC/HCPD Integrated System</td>\n",
       "      <td>WAPA/BEPC/HCPD Integrated System</td>\n",
       "      <td>TI-1302</td>\n",
       "      <td>NaN</td>\n",
       "      <td>NaN</td>\n",
       "      <td>NaN</td>\n",
       "      <td>NaN</td>\n",
       "      <td>...</td>\n",
       "      <td>41.819513</td>\n",
       "      <td>-103.942528</td>\n",
       "      <td>NaN</td>\n",
       "      <td>345.0</td>\n",
       "      <td>31157</td>\n",
       "      <td>NaN</td>\n",
       "      <td>NaN</td>\n",
       "      <td>NaN</td>\n",
       "      <td>NaN</td>\n",
       "      <td>NaN</td>\n",
       "    </tr>\n",
       "    <tr>\n",
       "      <th>39705</th>\n",
       "      <td>wapa-ti-1401</td>\n",
       "      <td>Transmission</td>\n",
       "      <td>West</td>\n",
       "      <td>WAPA/BEPC/HCPD Integrated System</td>\n",
       "      <td>WAPA/BEPC/HCPD Integrated System</td>\n",
       "      <td>TI-1401</td>\n",
       "      <td>NaN</td>\n",
       "      <td>NaN</td>\n",
       "      <td>NaN</td>\n",
       "      <td>NaN</td>\n",
       "      <td>...</td>\n",
       "      <td>46.834563</td>\n",
       "      <td>-96.948690</td>\n",
       "      <td>NaN</td>\n",
       "      <td>115.0</td>\n",
       "      <td>38017</td>\n",
       "      <td>NaN</td>\n",
       "      <td>NaN</td>\n",
       "      <td>NaN</td>\n",
       "      <td>NaN</td>\n",
       "      <td>NaN</td>\n",
       "    </tr>\n",
       "    <tr>\n",
       "      <th>39706</th>\n",
       "      <td>wapa-ti-1502</td>\n",
       "      <td>Transmission</td>\n",
       "      <td>West</td>\n",
       "      <td>WAPA/BEPC/HCPD Integrated System</td>\n",
       "      <td>WAPA/BEPC/HCPD Integrated System</td>\n",
       "      <td>TI-1502</td>\n",
       "      <td>NaN</td>\n",
       "      <td>NaN</td>\n",
       "      <td>NaN</td>\n",
       "      <td>NaN</td>\n",
       "      <td>...</td>\n",
       "      <td>47.776538</td>\n",
       "      <td>-103.284594</td>\n",
       "      <td>NaN</td>\n",
       "      <td>230.0</td>\n",
       "      <td>38053</td>\n",
       "      <td>NaN</td>\n",
       "      <td>NaN</td>\n",
       "      <td>NaN</td>\n",
       "      <td>NaN</td>\n",
       "      <td>NaN</td>\n",
       "    </tr>\n",
       "  </tbody>\n",
       "</table>\n",
       "<p>39707 rows × 42 columns</p>\n",
       "</div>"
      ],
      "text/plain": [
       "          unique_id  project_type power_market  \\\n",
       "0        aeso-p1756    Generation         AESO   \n",
       "1        aeso-p1828    Generation         AESO   \n",
       "2        aeso-p1885    Generation         AESO   \n",
       "3        aeso-p1926    Generation         AESO   \n",
       "4        aeso-p1927    Generation         AESO   \n",
       "...             ...           ...          ...   \n",
       "39702  wapa-ti-1001  Transmission         West   \n",
       "39703  wapa-ti-1301  Transmission         West   \n",
       "39704  wapa-ti-1302  Transmission         West   \n",
       "39705  wapa-ti-1401  Transmission         West   \n",
       "39706  wapa-ti-1502  Transmission         West   \n",
       "\n",
       "                     transmission_owner     canonical_transmission_owners  \\\n",
       "0      Alberta Electric System Operator  Alberta Electric System Operator   \n",
       "1      Alberta Electric System Operator  Alberta Electric System Operator   \n",
       "2      Alberta Electric System Operator  Alberta Electric System Operator   \n",
       "3      Alberta Electric System Operator  Alberta Electric System Operator   \n",
       "4      Alberta Electric System Operator  Alberta Electric System Operator   \n",
       "...                                 ...                               ...   \n",
       "39702  WAPA/BEPC/HCPD Integrated System  WAPA/BEPC/HCPD Integrated System   \n",
       "39703  WAPA/BEPC/HCPD Integrated System  WAPA/BEPC/HCPD Integrated System   \n",
       "39704  WAPA/BEPC/HCPD Integrated System  WAPA/BEPC/HCPD Integrated System   \n",
       "39705  WAPA/BEPC/HCPD Integrated System  WAPA/BEPC/HCPD Integrated System   \n",
       "39706  WAPA/BEPC/HCPD Integrated System  WAPA/BEPC/HCPD Integrated System   \n",
       "\n",
       "      queue_id                                 project_name  \\\n",
       "0        P1756  P1756 TPG Canyon Creek PHES Storage Project   \n",
       "1        P1828          P1828 hep Energy Alderson MPC Solar   \n",
       "2        P1885                   P1885 Northern Lights WAGF   \n",
       "3        P1926                  P1926 Solar Krafte Vauxhall   \n",
       "4        P1927                        P1927 Beargrass Solar   \n",
       "...        ...                                          ...   \n",
       "39702  TI-1001                                          NaN   \n",
       "39703  TI-1301                                          NaN   \n",
       "39704  TI-1302                                          NaN   \n",
       "39705  TI-1401                                          NaN   \n",
       "39706  TI-1502                                          NaN   \n",
       "\n",
       "      actual_completion_date proposed_completion_date withdrawn_date  ...  \\\n",
       "0                        NaN               2027-05-01            NaN  ...   \n",
       "1                        NaN               2026-03-05            NaN  ...   \n",
       "2                        NaN                      NaN            NaN  ...   \n",
       "3                        NaN               2025-12-15            NaN  ...   \n",
       "4                        NaN               2026-10-01            NaN  ...   \n",
       "...                      ...                      ...            ...  ...   \n",
       "39702                    NaN                      NaN            NaN  ...   \n",
       "39703                    NaN                      NaN            NaN  ...   \n",
       "39704                    NaN                      NaN            NaN  ...   \n",
       "39705                    NaN                      NaN            NaN  ...   \n",
       "39706                    NaN                      NaN            NaN  ...   \n",
       "\n",
       "        latitude   longitude capacity_by_generation_type_breakdown  \\\n",
       "0            NaN         NaN                                   NaN   \n",
       "1            NaN         NaN                                   NaN   \n",
       "2            NaN         NaN                                   NaN   \n",
       "3            NaN         NaN                                   NaN   \n",
       "4            NaN         NaN                                   NaN   \n",
       "...          ...         ...                                   ...   \n",
       "39702  42.602926  -96.306326                                   NaN   \n",
       "39703        NaN         NaN                                   NaN   \n",
       "39704  41.819513 -103.942528                                   NaN   \n",
       "39705  46.834563  -96.948690                                   NaN   \n",
       "39706  47.776538 -103.284594                                   NaN   \n",
       "\n",
       "      interconnection_voltage_kv fips_codes schedule_next_event_date  \\\n",
       "0                            NaN        NaN                      NaN   \n",
       "1                            NaN        NaN                      NaN   \n",
       "2                            NaN        NaN                      NaN   \n",
       "3                            NaN        NaN                      NaN   \n",
       "4                            NaN        NaN                      NaN   \n",
       "...                          ...        ...                      ...   \n",
       "39702                      161.0      19193                      NaN   \n",
       "39703                      345.0      31089                      NaN   \n",
       "39704                      345.0      31157                      NaN   \n",
       "39705                      115.0      38017                      NaN   \n",
       "39706                      230.0      38053                      NaN   \n",
       "\n",
       "      schedule_next_event_name  most_recent_study_date  \\\n",
       "0                          NaN                     NaN   \n",
       "1                          NaN                     NaN   \n",
       "2                          NaN                     NaN   \n",
       "3                          NaN                     NaN   \n",
       "4                          NaN                     NaN   \n",
       "...                        ...                     ...   \n",
       "39702                      NaN                     NaN   \n",
       "39703                      NaN                     NaN   \n",
       "39704                      NaN                     NaN   \n",
       "39705                      NaN                     NaN   \n",
       "39706                      NaN                     NaN   \n",
       "\n",
       "       most_recent_allocated_network_upgrade_cost  most_recent_study_url  \n",
       "0                                             NaN                    NaN  \n",
       "1                                             NaN                    NaN  \n",
       "2                                             NaN                    NaN  \n",
       "3                                             NaN                    NaN  \n",
       "4                                             NaN                    NaN  \n",
       "...                                           ...                    ...  \n",
       "39702                                         NaN                    NaN  \n",
       "39703                                         NaN                    NaN  \n",
       "39704                                         NaN                    NaN  \n",
       "39705                                         NaN                    NaN  \n",
       "39706                                         NaN                    NaN  \n",
       "\n",
       "[39707 rows x 42 columns]"
      ]
     },
     "execution_count": 7,
     "metadata": {},
     "output_type": "execute_result"
    }
   ],
   "source": [
    "old_fyi"
   ]
  },
  {
   "cell_type": "code",
   "execution_count": 9,
   "id": "c0654100-6baf-4d3b-b974-18e6db960c2d",
   "metadata": {},
   "outputs": [],
   "source": [
    "from dbcp.transform.fyi_queue import _clean_all_fyi_projects\n",
    "from dbcp.extract.fyi_queue import extract"
   ]
  },
  {
   "cell_type": "code",
   "execution_count": 10,
   "id": "36dd83ec-fb2f-4cbd-adb1-c2580829bfc5",
   "metadata": {},
   "outputs": [],
   "source": [
    "raw_dfs = extract(\"gs://dgm-archive/interconnection.fyi/interconnection_fyi_dataset_2025-09-01.csv\")"
   ]
  },
  {
   "cell_type": "code",
   "execution_count": 61,
   "id": "68637f7c-a582-4b78-af66-bdc484211358",
   "metadata": {},
   "outputs": [
    {
     "name": "stderr",
     "output_type": "stream",
     "text": [
      "/app/dbcp/transform/interconnection_queue_helpers.py:44: SettingWithCopyWarning: \n",
      "A value is trying to be set on a copy of a slice from a DataFrame.\n",
      "Try using .loc[row_indexer,col_indexer] = value instead\n",
      "\n",
      "See the caveats in the documentation: https://pandas.pydata.org/pandas-docs/stable/user_guide/indexing.html#returning-a-view-versus-a-copy\n",
      "  queue[\"is_actionable\"] = (\n",
      "/app/dbcp/transform/interconnection_queue_helpers.py:47: SettingWithCopyWarning: \n",
      "A value is trying to be set on a copy of a slice from a DataFrame.\n",
      "Try using .loc[row_indexer,col_indexer] = value instead\n",
      "\n",
      "See the caveats in the documentation: https://pandas.pydata.org/pandas-docs/stable/user_guide/indexing.html#returning-a-view-versus-a-copy\n",
      "  queue[\"is_nearly_certain\"] = (\n"
     ]
    }
   ],
   "source": [
    "transformed_df = _clean_all_fyi_projects(raw_dfs[\"fyi_queue\"])"
   ]
  },
  {
   "cell_type": "code",
   "execution_count": 13,
   "id": "3872b090-9bf4-4999-9207-a2cabd56f867",
   "metadata": {},
   "outputs": [
    {
     "data": {
      "text/plain": [
       "True"
      ]
     },
     "execution_count": 13,
     "metadata": {},
     "output_type": "execute_result"
    }
   ],
   "source": [
    "\"fips_codes\" in transformed_df"
   ]
  },
  {
   "cell_type": "code",
   "execution_count": 15,
   "id": "befe3372-07e4-4100-b93d-17913e85821d",
   "metadata": {},
   "outputs": [
    {
     "data": {
      "text/plain": [
       "06029                406\n",
       "04013                364\n",
       "06019                202\n",
       "06073                200\n",
       "06071                200\n",
       "                    ... \n",
       "26003                  1\n",
       "19089,19131            1\n",
       "27033,27101,27127      1\n",
       "46087                  1\n",
       "30101                  1\n",
       "Name: fips_codes, Length: 2918, dtype: int64"
      ]
     },
     "execution_count": 15,
     "metadata": {},
     "output_type": "execute_result"
    }
   ],
   "source": [
    "transformed_df[\"fips_codes\"].value_counts()"
   ]
  },
  {
   "cell_type": "code",
   "execution_count": 25,
   "id": "ca728077-7249-4318-aac3-2399ebc74bdf",
   "metadata": {},
   "outputs": [
    {
     "data": {
      "text/html": [
       "<div>\n",
       "<style scoped>\n",
       "    .dataframe tbody tr th:only-of-type {\n",
       "        vertical-align: middle;\n",
       "    }\n",
       "\n",
       "    .dataframe tbody tr th {\n",
       "        vertical-align: top;\n",
       "    }\n",
       "\n",
       "    .dataframe thead th {\n",
       "        text-align: right;\n",
       "    }\n",
       "</style>\n",
       "<table border=\"1\" class=\"dataframe\">\n",
       "  <thead>\n",
       "    <tr style=\"text-align: right;\">\n",
       "      <th></th>\n",
       "      <th>project_type</th>\n",
       "      <th>power_market</th>\n",
       "      <th>transmission_owner</th>\n",
       "      <th>canonical_transmission_owners</th>\n",
       "      <th>queue_id</th>\n",
       "      <th>project_name</th>\n",
       "      <th>actual_completion_date_raw</th>\n",
       "      <th>proposed_completion_date_raw</th>\n",
       "      <th>withdrawn_date_raw</th>\n",
       "      <th>queue_date_raw</th>\n",
       "      <th>county_state_pairs</th>\n",
       "      <th>point_of_interconnection</th>\n",
       "      <th>raw_county_name</th>\n",
       "      <th>raw_state_name</th>\n",
       "      <th>canonical_generation_types</th>\n",
       "      <th>interconnection_service_type</th>\n",
       "      <th>capacity_mw</th>\n",
       "      <th>summer_capacity_mw</th>\n",
       "      <th>winter_capacity_mw</th>\n",
       "      <th>queue_status</th>\n",
       "      <th>current_phase_or_stage_raw</th>\n",
       "      <th>interconnection_status_raw</th>\n",
       "      <th>interconnection_status_fyi</th>\n",
       "      <th>interconnection_date_raw</th>\n",
       "      <th>developer</th>\n",
       "      <th>developer_raw</th>\n",
       "      <th>project_spv</th>\n",
       "      <th>utility</th>\n",
       "      <th>iso</th>\n",
       "      <th>cluster</th>\n",
       "      <th>general_comments</th>\n",
       "      <th>latitude</th>\n",
       "      <th>longitude</th>\n",
       "      <th>capacity_by_generation_type_breakdown</th>\n",
       "      <th>interconnection_voltage_kv</th>\n",
       "      <th>fips_codes</th>\n",
       "      <th>schedule_next_event_name</th>\n",
       "      <th>most_recent_allocated_network_upgrade_cost</th>\n",
       "      <th>most_recent_study_url</th>\n",
       "      <th>actual_completion_date</th>\n",
       "      <th>proposed_completion_date</th>\n",
       "      <th>withdrawn_date</th>\n",
       "      <th>queue_date</th>\n",
       "      <th>interconnection_date</th>\n",
       "      <th>schedule_next_event_date</th>\n",
       "      <th>most_recent_study_date</th>\n",
       "      <th>queue_year</th>\n",
       "      <th>is_actionable</th>\n",
       "      <th>is_nearly_certain</th>\n",
       "    </tr>\n",
       "    <tr>\n",
       "      <th>project_id</th>\n",
       "      <th></th>\n",
       "      <th></th>\n",
       "      <th></th>\n",
       "      <th></th>\n",
       "      <th></th>\n",
       "      <th></th>\n",
       "      <th></th>\n",
       "      <th></th>\n",
       "      <th></th>\n",
       "      <th></th>\n",
       "      <th></th>\n",
       "      <th></th>\n",
       "      <th></th>\n",
       "      <th></th>\n",
       "      <th></th>\n",
       "      <th></th>\n",
       "      <th></th>\n",
       "      <th></th>\n",
       "      <th></th>\n",
       "      <th></th>\n",
       "      <th></th>\n",
       "      <th></th>\n",
       "      <th></th>\n",
       "      <th></th>\n",
       "      <th></th>\n",
       "      <th></th>\n",
       "      <th></th>\n",
       "      <th></th>\n",
       "      <th></th>\n",
       "      <th></th>\n",
       "      <th></th>\n",
       "      <th></th>\n",
       "      <th></th>\n",
       "      <th></th>\n",
       "      <th></th>\n",
       "      <th></th>\n",
       "      <th></th>\n",
       "      <th></th>\n",
       "      <th></th>\n",
       "      <th></th>\n",
       "      <th></th>\n",
       "      <th></th>\n",
       "      <th></th>\n",
       "      <th></th>\n",
       "      <th></th>\n",
       "      <th></th>\n",
       "      <th></th>\n",
       "      <th></th>\n",
       "      <th></th>\n",
       "    </tr>\n",
       "  </thead>\n",
       "  <tbody>\n",
       "    <tr>\n",
       "      <th>miso-j1315</th>\n",
       "      <td>Generation</td>\n",
       "      <td>MISO</td>\n",
       "      <td>NORTHERN STATES POWER COMPANY</td>\n",
       "      <td>Northern States Power Company</td>\n",
       "      <td>J1315</td>\n",
       "      <td>NaN</td>\n",
       "      <td>NaN</td>\n",
       "      <td>2022-06-30</td>\n",
       "      <td>2022-09-01</td>\n",
       "      <td>2019-04-29</td>\n",
       "      <td>Cottonwood County, MN; Murray County, MN; Redw...</td>\n",
       "      <td>Lyon County - Cedar Mountain 345 kV Line Tap</td>\n",
       "      <td>Cottonwood County</td>\n",
       "      <td>MN</td>\n",
       "      <td>Wind</td>\n",
       "      <td>NRIS</td>\n",
       "      <td>600.0</td>\n",
       "      <td>600.0</td>\n",
       "      <td>600.0</td>\n",
       "      <td>withdrawn</td>\n",
       "      <td>Study Phase: GIA In Progress; Post GIA Status:...</td>\n",
       "      <td>Study Phase: GIA In Progress; Post GIA Status:...</td>\n",
       "      <td>IA Pending</td>\n",
       "      <td>NaN</td>\n",
       "      <td>NaN</td>\n",
       "      <td>NaN</td>\n",
       "      <td>NaN</td>\n",
       "      <td>NORTHERN STATES POWER COMPANY</td>\n",
       "      <td>miso</td>\n",
       "      <td>DPP-2019 West</td>\n",
       "      <td>NaN</td>\n",
       "      <td>NaN</td>\n",
       "      <td>NaN</td>\n",
       "      <td>NaN</td>\n",
       "      <td>345.0</td>\n",
       "      <td>27033,27101,27127</td>\n",
       "      <td>NaN</td>\n",
       "      <td>367630069.0</td>\n",
       "      <td>https://cdn.misoenergy.org/GI-DPP-2019-West-Ph...</td>\n",
       "      <td>NaT</td>\n",
       "      <td>2022-06-30</td>\n",
       "      <td>2022-09-01</td>\n",
       "      <td>2019-04-29</td>\n",
       "      <td>NaT</td>\n",
       "      <td>NaT</td>\n",
       "      <td>2022-08-12</td>\n",
       "      <td>2019.0</td>\n",
       "      <td>&lt;NA&gt;</td>\n",
       "      <td>&lt;NA&gt;</td>\n",
       "    </tr>\n",
       "  </tbody>\n",
       "</table>\n",
       "</div>"
      ],
      "text/plain": [
       "           project_type power_market             transmission_owner  \\\n",
       "project_id                                                            \n",
       "miso-j1315   Generation         MISO  NORTHERN STATES POWER COMPANY   \n",
       "\n",
       "            canonical_transmission_owners queue_id project_name  \\\n",
       "project_id                                                        \n",
       "miso-j1315  Northern States Power Company    J1315          NaN   \n",
       "\n",
       "           actual_completion_date_raw proposed_completion_date_raw  \\\n",
       "project_id                                                           \n",
       "miso-j1315                        NaN                   2022-06-30   \n",
       "\n",
       "           withdrawn_date_raw queue_date_raw  \\\n",
       "project_id                                     \n",
       "miso-j1315         2022-09-01     2019-04-29   \n",
       "\n",
       "                                           county_state_pairs  \\\n",
       "project_id                                                      \n",
       "miso-j1315  Cottonwood County, MN; Murray County, MN; Redw...   \n",
       "\n",
       "                                point_of_interconnection    raw_county_name  \\\n",
       "project_id                                                                    \n",
       "miso-j1315  Lyon County - Cedar Mountain 345 kV Line Tap  Cottonwood County   \n",
       "\n",
       "           raw_state_name canonical_generation_types  \\\n",
       "project_id                                             \n",
       "miso-j1315             MN                       Wind   \n",
       "\n",
       "           interconnection_service_type  capacity_mw  summer_capacity_mw  \\\n",
       "project_id                                                                 \n",
       "miso-j1315                         NRIS        600.0               600.0   \n",
       "\n",
       "            winter_capacity_mw queue_status  \\\n",
       "project_id                                    \n",
       "miso-j1315               600.0    withdrawn   \n",
       "\n",
       "                                   current_phase_or_stage_raw  \\\n",
       "project_id                                                      \n",
       "miso-j1315  Study Phase: GIA In Progress; Post GIA Status:...   \n",
       "\n",
       "                                   interconnection_status_raw  \\\n",
       "project_id                                                      \n",
       "miso-j1315  Study Phase: GIA In Progress; Post GIA Status:...   \n",
       "\n",
       "           interconnection_status_fyi interconnection_date_raw developer  \\\n",
       "project_id                                                                 \n",
       "miso-j1315                 IA Pending                      NaN       NaN   \n",
       "\n",
       "           developer_raw project_spv                        utility   iso  \\\n",
       "project_id                                                                  \n",
       "miso-j1315           NaN         NaN  NORTHERN STATES POWER COMPANY  miso   \n",
       "\n",
       "                  cluster general_comments  latitude  longitude  \\\n",
       "project_id                                                        \n",
       "miso-j1315  DPP-2019 West              NaN       NaN        NaN   \n",
       "\n",
       "           capacity_by_generation_type_breakdown  interconnection_voltage_kv  \\\n",
       "project_id                                                                     \n",
       "miso-j1315                                   NaN                       345.0   \n",
       "\n",
       "                   fips_codes schedule_next_event_name  \\\n",
       "project_id                                               \n",
       "miso-j1315  27033,27101,27127                      NaN   \n",
       "\n",
       "            most_recent_allocated_network_upgrade_cost  \\\n",
       "project_id                                               \n",
       "miso-j1315                                 367630069.0   \n",
       "\n",
       "                                        most_recent_study_url  \\\n",
       "project_id                                                      \n",
       "miso-j1315  https://cdn.misoenergy.org/GI-DPP-2019-West-Ph...   \n",
       "\n",
       "           actual_completion_date proposed_completion_date withdrawn_date  \\\n",
       "project_id                                                                  \n",
       "miso-j1315                    NaT               2022-06-30     2022-09-01   \n",
       "\n",
       "           queue_date interconnection_date schedule_next_event_date  \\\n",
       "project_id                                                            \n",
       "miso-j1315 2019-04-29                  NaT                      NaT   \n",
       "\n",
       "           most_recent_study_date  queue_year is_actionable is_nearly_certain  \n",
       "project_id                                                                     \n",
       "miso-j1315             2022-08-12      2019.0          <NA>              <NA>  "
      ]
     },
     "execution_count": 25,
     "metadata": {},
     "output_type": "execute_result"
    }
   ],
   "source": [
    "# look at rows with multiple fips codes\n",
    "transformed_df[transformed_df.fips_codes == \"27033,27101,27127\"]"
   ]
  },
  {
   "cell_type": "code",
   "execution_count": 24,
   "id": "0330a4e7-ea93-408b-a05a-eb1ccd74c853",
   "metadata": {},
   "outputs": [
    {
     "data": {
      "text/plain": [
       "project_id\n",
       "caiso-100            KERN, CA\n",
       "caiso-1000           KERN, CA\n",
       "caiso-1003           KERN, CA\n",
       "caiso-1004           KERN, CA\n",
       "caiso-101            KERN, CA\n",
       "                   ...       \n",
       "ladwp-q76     Kern County, CA\n",
       "ladwp-q78     Kern County, CA\n",
       "ladwp-q79     Kern County, CA\n",
       "ladwp-q80     Kern County, CA\n",
       "ladwp-q89     Kern County, CA\n",
       "Name: county_state_pairs, Length: 406, dtype: object"
      ]
     },
     "execution_count": 24,
     "metadata": {},
     "output_type": "execute_result"
    }
   ],
   "source": [
    "transformed_df[transformed_df.fips_codes == \"06029\"][\"county_state_pairs\"]"
   ]
  },
  {
   "cell_type": "markdown",
   "id": "e1659113-16bf-4931-85e1-e67b31887fc2",
   "metadata": {},
   "source": [
    "# Transformed Data: Data Warehouse\n",
    "Let's compare the new and old Parquet files.\n",
    "\n",
    "For this, the ETL process should be run in order to generate the warehouse tables locally.\n",
    "\n",
    "`make all`"
   ]
  },
  {
   "cell_type": "code",
   "execution_count": 16,
   "id": "e8393df0-c7d4-4722-8115-365576114076",
   "metadata": {},
   "outputs": [],
   "source": [
    "fyi_projects = pd.read_parquet(\"/app/data/output/private_data_warehouse/fyi_projects.parquet\")"
   ]
  },
  {
   "cell_type": "code",
   "execution_count": 17,
   "id": "590f5760-e442-43d9-a716-8438cb9649bc",
   "metadata": {},
   "outputs": [],
   "source": [
    "fyi_locations = pd.read_parquet(\"/app/data/output/private_data_warehouse/fyi_locations.parquet\")"
   ]
  },
  {
   "cell_type": "code",
   "execution_count": 29,
   "id": "32bf41d0-2700-4697-87d7-31a40b0830bb",
   "metadata": {},
   "outputs": [
    {
     "data": {
      "text/html": [
       "<div>\n",
       "<style scoped>\n",
       "    .dataframe tbody tr th:only-of-type {\n",
       "        vertical-align: middle;\n",
       "    }\n",
       "\n",
       "    .dataframe tbody tr th {\n",
       "        vertical-align: top;\n",
       "    }\n",
       "\n",
       "    .dataframe thead th {\n",
       "        text-align: right;\n",
       "    }\n",
       "</style>\n",
       "<table border=\"1\" class=\"dataframe\">\n",
       "  <thead>\n",
       "    <tr style=\"text-align: right;\">\n",
       "      <th></th>\n",
       "      <th>project_id</th>\n",
       "      <th>raw_county_name</th>\n",
       "      <th>raw_state_name</th>\n",
       "      <th>state_id_fips</th>\n",
       "      <th>county_id_fips</th>\n",
       "      <th>geocoded_locality_name</th>\n",
       "      <th>geocoded_locality_type</th>\n",
       "      <th>geocoded_containing_county</th>\n",
       "      <th>latitude</th>\n",
       "      <th>longitude</th>\n",
       "    </tr>\n",
       "  </thead>\n",
       "  <tbody>\n",
       "    <tr>\n",
       "      <th>0</th>\n",
       "      <td>aeso-p1756</td>\n",
       "      <td>Yellowhead County</td>\n",
       "      <td>AB</td>\n",
       "      <td>&lt;NA&gt;</td>\n",
       "      <td>&lt;NA&gt;</td>\n",
       "      <td>&lt;NA&gt;</td>\n",
       "      <td>&lt;NA&gt;</td>\n",
       "      <td>&lt;NA&gt;</td>\n",
       "      <td>NaN</td>\n",
       "      <td>NaN</td>\n",
       "    </tr>\n",
       "  </tbody>\n",
       "</table>\n",
       "</div>"
      ],
      "text/plain": [
       "   project_id    raw_county_name raw_state_name state_id_fips county_id_fips  \\\n",
       "0  aeso-p1756  Yellowhead County             AB          <NA>           <NA>   \n",
       "\n",
       "  geocoded_locality_name geocoded_locality_type geocoded_containing_county  \\\n",
       "0                   <NA>                   <NA>                       <NA>   \n",
       "\n",
       "   latitude  longitude  \n",
       "0       NaN        NaN  "
      ]
     },
     "execution_count": 29,
     "metadata": {},
     "output_type": "execute_result"
    }
   ],
   "source": [
    "fyi_locations.head(1)"
   ]
  },
  {
   "cell_type": "code",
   "execution_count": 30,
   "id": "7ad2335d-d073-4496-a4b3-a37c861c5cef",
   "metadata": {},
   "outputs": [
    {
     "data": {
      "text/plain": [
       "False    34989\n",
       "True       656\n",
       "Name: county_id_fips, dtype: int64"
      ]
     },
     "execution_count": 30,
     "metadata": {},
     "output_type": "execute_result"
    }
   ],
   "source": [
    "fyi_locations.county_id_fips.isnull().value_counts()"
   ]
  },
  {
   "cell_type": "code",
   "execution_count": 31,
   "id": "7872ae96-2a42-47e2-ac25-b5da6623d465",
   "metadata": {},
   "outputs": [
    {
     "data": {
      "text/plain": [
       "(35645, 0.018403703184177302)"
      ]
     },
     "execution_count": 31,
     "metadata": {},
     "output_type": "execute_result"
    }
   ],
   "source": [
    "len(fyi_locations), len(fyi_locations[fyi_locations.county_id_fips.isnull()])/len(fyi_locations)"
   ]
  },
  {
   "cell_type": "code",
   "execution_count": 28,
   "id": "8a5793fb-afa3-464d-8471-009b72c5a3a2",
   "metadata": {},
   "outputs": [
    {
     "data": {
      "text/plain": [
       "False    35009\n",
       "True      1355\n",
       "Name: fips_codes, dtype: int64"
      ]
     },
     "execution_count": 28,
     "metadata": {},
     "output_type": "execute_result"
    }
   ],
   "source": [
    "transformed_df[\"fips_codes\"].isnull().value_counts()"
   ]
  },
  {
   "cell_type": "code",
   "execution_count": 43,
   "id": "1eb1a36b-5bf4-4a45-91e7-58830bb4d66a",
   "metadata": {},
   "outputs": [],
   "source": [
    "reg1 = r\"^\\d{5}$\"\n",
    "reg2 = r\"^\\d{5},\\d{5}$\"\n",
    "reg3 = r\"^\\d{5}(?:,\\d{5})*$\""
   ]
  },
  {
   "cell_type": "code",
   "execution_count": 34,
   "id": "941cc458-1531-430c-977a-f33506f8b2e4",
   "metadata": {},
   "outputs": [],
   "source": [
    "fips_codes = transformed_df[\"fips_codes\"].dropna()"
   ]
  },
  {
   "cell_type": "code",
   "execution_count": 44,
   "id": "ca249b6a-768b-4603-896f-28e4643b5672",
   "metadata": {},
   "outputs": [
    {
     "data": {
      "text/plain": [
       "Series([], Name: fips_codes, dtype: object)"
      ]
     },
     "execution_count": 44,
     "metadata": {},
     "output_type": "execute_result"
    }
   ],
   "source": [
    "fips_codes[(~fips_codes.str.contains(reg3, regex=True))]"
   ]
  },
  {
   "cell_type": "code",
   "execution_count": 45,
   "id": "4762315a-203f-4da9-a002-9c02b6a44f36",
   "metadata": {},
   "outputs": [
    {
     "data": {
      "text/plain": [
       "project_id\n",
       "arizona-public-service-not-assigned    04005\n",
       "arizona-public-service-q007-061        04017\n",
       "arizona-public-service-q044a           04027\n",
       "arizona-public-service-q044b           04013\n",
       "arizona-public-service-q1              35045\n",
       "                                       ...  \n",
       "wapa-ti-1001                           19193\n",
       "wapa-ti-1301                           31089\n",
       "wapa-ti-1302                           31157\n",
       "wapa-ti-1401                           38017\n",
       "wapa-ti-1502                           38053\n",
       "Name: fips_codes, Length: 35009, dtype: object"
      ]
     },
     "execution_count": 45,
     "metadata": {},
     "output_type": "execute_result"
    }
   ],
   "source": [
    "fips_codes"
   ]
  },
  {
   "cell_type": "code",
   "execution_count": 55,
   "id": "1b88952a-638c-444d-8eb0-0ea732deed00",
   "metadata": {},
   "outputs": [],
   "source": [
    "five_digit_fips_regex = r\"^(\\d{5})\"\n",
    "clean_fips = fips_codes.str.extract(five_digit_fips_regex)[0]"
   ]
  },
  {
   "cell_type": "code",
   "execution_count": 64,
   "id": "591f2de5-c514-4aca-930d-4b251ee733e3",
   "metadata": {},
   "outputs": [],
   "source": [
    "clean_fips.name = \"county_id_fips\""
   ]
  },
  {
   "cell_type": "code",
   "execution_count": 65,
   "id": "7cefeda9-7073-46fa-a6f7-241d34ede2e0",
   "metadata": {},
   "outputs": [
    {
     "data": {
      "text/plain": [
       "project_id\n",
       "arizona-public-service-not-assigned    04005\n",
       "arizona-public-service-q007-061        04017\n",
       "arizona-public-service-q044a           04027\n",
       "arizona-public-service-q044b           04013\n",
       "arizona-public-service-q1              35045\n",
       "                                       ...  \n",
       "wapa-ti-1001                           19193\n",
       "wapa-ti-1301                           31089\n",
       "wapa-ti-1302                           31157\n",
       "wapa-ti-1401                           38017\n",
       "wapa-ti-1502                           38053\n",
       "Name: county_id_fips, Length: 35009, dtype: object"
      ]
     },
     "execution_count": 65,
     "metadata": {},
     "output_type": "execute_result"
    }
   ],
   "source": [
    "clean_fips"
   ]
  },
  {
   "cell_type": "code",
   "execution_count": 58,
   "id": "91bb9ff4-2ae3-4e74-a2f3-641679435e49",
   "metadata": {},
   "outputs": [
    {
     "data": {
      "text/plain": [
       "Series([], Name: 0, dtype: object)"
      ]
     },
     "execution_count": 58,
     "metadata": {},
     "output_type": "execute_result"
    }
   ],
   "source": [
    "clean_fips[clean_fips.str.len() > 5]"
   ]
  },
  {
   "cell_type": "code",
   "execution_count": 67,
   "id": "b8e9c2bb-5e59-4a08-9426-633ac4ba8904",
   "metadata": {},
   "outputs": [
    {
     "data": {
      "text/plain": [
       "project_id\n",
       "arizona-public-service-not-assigned    04005\n",
       "arizona-public-service-q007-061        04017\n",
       "arizona-public-service-q044a           04027\n",
       "arizona-public-service-q044b           04013\n",
       "arizona-public-service-q1              35045\n",
       "                                       ...  \n",
       "wapa-ti-1001                           19193\n",
       "wapa-ti-1301                           31089\n",
       "wapa-ti-1302                           31157\n",
       "wapa-ti-1401                           38017\n",
       "wapa-ti-1502                           38053\n",
       "Name: county_id_fips, Length: 35009, dtype: object"
      ]
     },
     "execution_count": 67,
     "metadata": {},
     "output_type": "execute_result"
    }
   ],
   "source": [
    "clean_fips.rename(\"county_id_fips\")"
   ]
  },
  {
   "cell_type": "code",
   "execution_count": 73,
   "id": "e273f951-b136-4be0-b2c4-6185f5e19b50",
   "metadata": {},
   "outputs": [],
   "source": [
    "geocoded_fips = fyi_locations.set_index(\"project_id\")[\"county_id_fips\"]"
   ]
  },
  {
   "cell_type": "code",
   "execution_count": 83,
   "id": "254fbfee-5ade-47c7-9ba9-1454e5023129",
   "metadata": {},
   "outputs": [],
   "source": [
    "common_index = geocoded_fips.index.intersection(clean_fips.index)\n",
    "matches = geocoded_fips.loc[common_index].reset_index(drop=True) == clean_fips.loc[common_index].reset_index(drop=True)"
   ]
  },
  {
   "cell_type": "code",
   "execution_count": 85,
   "id": "34df05da-d650-451d-90fe-d80de50ce294",
   "metadata": {},
   "outputs": [
    {
     "data": {
      "text/plain": [
       "True     34944\n",
       "False       36\n",
       "Name: county_id_fips, dtype: Int64"
      ]
     },
     "execution_count": 85,
     "metadata": {},
     "output_type": "execute_result"
    }
   ],
   "source": [
    "matches.value_counts()"
   ]
  },
  {
   "cell_type": "code",
   "execution_count": 87,
   "id": "a7e50fd7-c430-4dd2-9b4e-6ac65c59fdc5",
   "metadata": {},
   "outputs": [
    {
     "data": {
      "text/plain": [
       "36"
      ]
     },
     "execution_count": 87,
     "metadata": {},
     "output_type": "execute_result"
    }
   ],
   "source": [
    "len(matches[~matches])"
   ]
  },
  {
   "cell_type": "code",
   "execution_count": 88,
   "id": "1c2062cd-b595-41bd-a1eb-384b06c73354",
   "metadata": {},
   "outputs": [
    {
     "data": {
      "text/plain": [
       "0.001028307006769688"
      ]
     },
     "execution_count": 88,
     "metadata": {},
     "output_type": "execute_result"
    }
   ],
   "source": [
    "36/len(matches)"
   ]
  },
  {
   "cell_type": "code",
   "execution_count": 89,
   "id": "5e4a9cec-0ee1-4376-b276-9981174b02ef",
   "metadata": {},
   "outputs": [
    {
     "data": {
      "text/plain": [
       "35009"
      ]
     },
     "execution_count": 89,
     "metadata": {},
     "output_type": "execute_result"
    }
   ],
   "source": [
    "len(matches)"
   ]
  },
  {
   "cell_type": "code",
   "execution_count": null,
   "id": "7b2e1c87-6236-46c4-9893-1c6956fa89ce",
   "metadata": {},
   "outputs": [],
   "source": []
  }
 ],
 "metadata": {
  "kernelspec": {
   "display_name": "Python 3 (ipykernel)",
   "language": "python",
   "name": "python3"
  },
  "language_info": {
   "codemirror_mode": {
    "name": "ipython",
    "version": 3
   },
   "file_extension": ".py",
   "mimetype": "text/x-python",
   "name": "python",
   "nbconvert_exporter": "python",
   "pygments_lexer": "ipython3",
   "version": "3.10.18"
  }
 },
 "nbformat": 4,
 "nbformat_minor": 5
}
