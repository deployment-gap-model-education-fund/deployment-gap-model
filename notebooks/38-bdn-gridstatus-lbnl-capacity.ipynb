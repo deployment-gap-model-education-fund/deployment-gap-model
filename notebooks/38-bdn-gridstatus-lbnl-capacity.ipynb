{
 "cells": [
  {
   "cell_type": "markdown",
   "metadata": {},
   "source": [
    "# GridStatus <-> LBNL Status Mapping\n",
    "\n",
    "GridStatus reads raw ISO queues. The LBNL queue statuses are standardized versions of ISO-specific categories. This notebook attempts to reverse engineer the mappings between the two."
   ]
  },
  {
   "cell_type": "code",
   "execution_count": null,
   "metadata": {},
   "outputs": [],
   "source": [
    "import pandas as pd\n",
    "from pathlib import Path\n",
    "import numpy as np\n",
    "\n",
    "from dbcp.extract.lbnl_iso_queue import extract\n"
   ]
  },
  {
   "cell_type": "markdown",
   "metadata": {},
   "source": [
    "## Get the data\n",
    "### LBNL-Compiled Queues"
   ]
  },
  {
   "cell_type": "code",
   "execution_count": null,
   "metadata": {},
   "outputs": [],
   "source": [
    "# partial implementation of transform. I don't want to include deduplication.\n",
    "def partial_transform(active_projects: pd.DataFrame) -> pd.DataFrame:\n",
    "    \"\"\"Transform active iso queue data.\"\"\"\n",
    "    rename_dict = {\n",
    "        \"state\": \"raw_state_name\",\n",
    "        \"county\": \"raw_county_name\",\n",
    "    }\n",
    "    active_projects = active_projects.rename(columns=rename_dict)  # copy\n",
    "    # Harmonize the interconnection_status_lbnl values.\n",
    "    mapping = {\n",
    "        \"Feasability Study\": \"Feasibility Study\",\n",
    "        \"Feasibility\": \"Feasibility Study\",\n",
    "        \"Facilities Study\": \"Facility Study\",\n",
    "        \"IA in Progress\": \"In Progress (unknown study)\",\n",
    "        \"Unknown\": \"In Progress (unknown study)\",\n",
    "        \"Withdrawn, Feasibility Study\": \"Withdrawn\",\n",
    "    }\n",
    "    active_projects.loc[:, \"interconnection_status_lbnl\"] = active_projects.loc[\n",
    "        :, \"interconnection_status_lbnl\"\n",
    "    ].replace(mapping)\n",
    "    # drop irrelevant columns (structurally all nan due to 'active' filter)\n",
    "    active_projects.drop(columns=[\"date_withdrawn\", \"date_operational\"], inplace=True)\n",
    "    return active_projects\n",
    "\n",
    "\n",
    "source_path = Path(\"/app/data/raw/queues_2022_clean_data.xlsx\")\n",
    "raw_lbnl = extract(source_path)[\"lbnl_iso_queue\"]\n",
    "lbnl = partial_transform(raw_lbnl)\n"
   ]
  },
  {
   "cell_type": "code",
   "execution_count": null,
   "metadata": {},
   "outputs": [],
   "source": [
    "lbnl.shape, lbnl.columns\n"
   ]
  },
  {
   "cell_type": "code",
   "execution_count": null,
   "metadata": {},
   "outputs": [],
   "source": [
    "lbnl.head(2)\n"
   ]
  },
  {
   "cell_type": "markdown",
   "metadata": {},
   "source": [
    "### GridStatus Queues"
   ]
  },
  {
   "cell_type": "code",
   "execution_count": null,
   "metadata": {
    "tags": []
   },
   "outputs": [],
   "source": [
    "import dbcp\n",
    "\n",
    "# These are the revision numbers of the oldest archives we have\n",
    "iso_queue_versions: dict[str, str] = {\n",
    "    \"miso\": \"1681775160487863\",\n",
    "    \"caiso\": \"1681775162586588\",\n",
    "    \"pjm\": \"1681775160979859\",\n",
    "    \"ercot\": \"1681775161342766\",\n",
    "    \"spp\": \"1681775162935809\",\n",
    "    \"nyiso\": \"1681775159356063\",\n",
    "    \"isone\": \"1681775162111351\",\n",
    "}\n",
    "\n",
    "gs_dfs = dbcp.extract.gridstatus_isoqueues.extract(iso_queue_versions)"
   ]
  },
  {
   "cell_type": "code",
   "execution_count": null,
   "metadata": {},
   "outputs": [],
   "source": [
    "{k: v.shape for k, v in gs_dfs.items()}"
   ]
  },
  {
   "cell_type": "code",
   "execution_count": null,
   "metadata": {},
   "outputs": [],
   "source": [
    "# # These are manually downloaded from our archives. I went back as far as I could,\n",
    "# # which is April 17 2023.\n",
    "# # There is a 3.5 month gap between the LBNL queues and our oldest GridStatus archive.\n",
    "# root_path = Path(\"/app/data/raw/gridstatus/interconnection_queues\")\n",
    "# assert root_path.exists()\n",
    "# # filenames are like \"interconnection_queues_caiso_4-17-2023.parquet\"\n",
    "# gs_dfs = {\n",
    "#     path.name.split(\"_\")[2]: pd.read_parquet(path)\n",
    "#     for path in root_path.glob(\"*.parquet\")\n",
    "# }\n",
    "# {k: v.shape for k, v in gs_dfs.items()}\n"
   ]
  },
  {
   "cell_type": "code",
   "execution_count": null,
   "metadata": {},
   "outputs": [],
   "source": [
    "# wayyy fewer items in GridStatus than LBNL.\n",
    "sum([v.shape[0] for v in gs_dfs.values()]) - lbnl.shape[0]\n"
   ]
  },
  {
   "cell_type": "code",
   "execution_count": null,
   "metadata": {},
   "outputs": [],
   "source": [
    "lbnl.region.value_counts()"
   ]
  },
  {
   "cell_type": "code",
   "execution_count": null,
   "metadata": {},
   "outputs": [],
   "source": [
    "lbnl_iso = lbnl[~lbnl[\"region\"].str.contains(\"non-ISO\", na=False)].copy()"
   ]
  },
  {
   "cell_type": "code",
   "execution_count": null,
   "metadata": {},
   "outputs": [],
   "source": [
    "sum([v.shape[0] for v in gs_dfs.values()]) - lbnl_iso.shape[0]"
   ]
  },
  {
   "cell_type": "markdown",
   "metadata": {},
   "source": [
    "Gridstatus has more ISO projects"
   ]
  },
  {
   "cell_type": "code",
   "execution_count": null,
   "metadata": {},
   "outputs": [],
   "source": [
    "# globals().update(gs_dfs)  # this works fine but the static type checker/linter can't introspect it.\n",
    "raw_ercot = gs_dfs[\"ercot\"]\n",
    "raw_nyiso = gs_dfs[\"nyiso\"]\n",
    "raw_isone = gs_dfs[\"isone\"]\n",
    "raw_miso = gs_dfs[\"miso\"]\n",
    "raw_pjm = gs_dfs[\"pjm\"]\n",
    "raw_spp = gs_dfs[\"spp\"]\n",
    "raw_caiso = gs_dfs[\"caiso\"]\n"
   ]
  },
  {
   "cell_type": "code",
   "execution_count": null,
   "metadata": {},
   "outputs": [],
   "source": [
    "LBNL_JOIN_COLS = [\n",
    "    \"queue_id\",  # join key\n",
    "    \"project_name\",  # for manually checking the joins\n",
    "    \"queue_date\",  # for manually checking the joins\n",
    "    \"queue_status\",  # for manually checking the joins\n",
    "    \"interconnection_status_raw\",  # see what LBNL interpreted\n",
    "    \"interconnection_status_lbnl\",  # final mapping value\n",
    "    \"capacity_mw_resource_1\",\n",
    "    \"resource_type_1\"\n",
    "    \n",
    "]\n",
    "\n",
    "\n",
    "def join_lbnl(\n",
    "    iso_df: pd.DataFrame, lbnl: pd.DataFrame, iso_name: str, iso_id_col=\"Queue ID\"\n",
    ") -> pd.DataFrame:\n",
    "    \"\"\"Join LBNL queue data to GridStatus queue data.\"\"\"\n",
    "    assert iso_df[iso_id_col].is_unique, \"ID column not unique\"\n",
    "    lbnl_iso = lbnl.loc[lbnl[\"entity\"].eq(iso_name), LBNL_JOIN_COLS]\n",
    "    assert not lbnl_iso.empty, f\"Empty LBNL queue for {iso_name}\"\n",
    "    assert lbnl_iso[\"queue_id\"].is_unique, \"LBNL queue ID not unique\"\n",
    "    out = iso_df.merge(lbnl_iso, how=\"outer\", left_on=iso_id_col, right_on=\"queue_id\")\n",
    "    out[\"in_lbnl\"] = ~out[\"queue_id\"].isna()\n",
    "    out[\"in_gs\"] = ~out[iso_id_col].isna()\n",
    "    return out\n"
   ]
  },
  {
   "cell_type": "markdown",
   "metadata": {
    "tags": []
   },
   "source": [
    "## Comparisons\n",
    "### ERCOT\n",
    "* ERCOT's queue document has separate excel sheets for large and small (< 20MW) projects, and does not list withdrawn projects. GridStatus only includes large projects, whereas LBNL data includes the other categories. I'm not sure where LBNL gets the withdrawn projects from.\n",
    "  * We might be able to maintain a withdrawn list by 1) getting all the current withdrawn projects from the LBNL data, then 2) loading all the archived GridStatus ERCOT queues and checking for any projects that enter then exit the list. But I don't think we actually need a withdrawn list?\n",
    "* GridStatus defines \"status\" as \"IA Signed\".isna(). LBNL calls the entire \"large active\" dataset \"active\"."
   ]
  },
  {
   "cell_type": "code",
   "execution_count": null,
   "metadata": {},
   "outputs": [],
   "source": [
    "raw_ercot.columns\n"
   ]
  },
  {
   "cell_type": "code",
   "execution_count": null,
   "metadata": {},
   "outputs": [],
   "source": [
    "ercot = join_lbnl(raw_ercot, lbnl, \"ERCOT\")\n",
    "ercot.info()\n"
   ]
  },
  {
   "cell_type": "code",
   "execution_count": null,
   "metadata": {},
   "outputs": [],
   "source": [
    "ercot[[\"in_gs\", \"in_lbnl\"]].value_counts(dropna=False)\n"
   ]
  },
  {
   "cell_type": "markdown",
   "metadata": {
    "tags": []
   },
   "source": [
    "#### Compare total capacity for projects in both"
   ]
  },
  {
   "cell_type": "code",
   "execution_count": null,
   "metadata": {
    "tags": []
   },
   "outputs": [],
   "source": [
    "both_ercot = ercot[ercot.in_lbnl & ercot.in_gs]\n",
    "\n",
    "compare_capacity(both_ercot)"
   ]
  },
  {
   "cell_type": "markdown",
   "metadata": {
    "tags": []
   },
   "source": [
    "#### Compare total capacity for **active** projects in both"
   ]
  },
  {
   "cell_type": "code",
   "execution_count": null,
   "metadata": {},
   "outputs": [],
   "source": [
    "ercot[[\"Status\", \"queue_status\"]].value_counts(dropna=False)"
   ]
  },
  {
   "cell_type": "code",
   "execution_count": null,
   "metadata": {},
   "outputs": [],
   "source": [
    "ercot_active_in_both = ercot[ercot[\"queue_status\"].eq(\"active\") & ercot[\"Status\"].eq(\"Active\")]\n",
    "compare_capacity(ercot_active_in_both)"
   ]
  },
  {
   "cell_type": "markdown",
   "metadata": {},
   "source": [
    "Very little mismatching in status columns and capacities look good for projects that are active in both. There a few dozen lbnl active projects that are withdrawn or completed in GS."
   ]
  },
  {
   "cell_type": "markdown",
   "metadata": {},
   "source": [
    "#### Compare total capacity for all projects"
   ]
  },
  {
   "cell_type": "code",
   "execution_count": null,
   "metadata": {},
   "outputs": [],
   "source": [
    "gs_capacities = ercot[ercot.in_gs][\"Capacity (MW)\"]\n",
    "lbnl_capacities = ercot[ercot.in_lbnl][\"capacity_mw_resource_1\"]\n",
    "\n",
    "print(f\"Ratio of total LBNL capacity to total GS capacity {lbnl_capacities.sum() / gs_capacities.sum()}\")\n",
    "print(f\"Ratio of total LBNL project to total GS projects {len(lbnl_capacities) / len(gs_capacities)}\")"
   ]
  },
  {
   "cell_type": "markdown",
   "metadata": {},
   "source": [
    "Where is LBNL getting historic queue data from?"
   ]
  },
  {
   "cell_type": "code",
   "execution_count": null,
   "metadata": {},
   "outputs": [],
   "source": [
    "ercot[\"queue_status\"].value_counts()"
   ]
  },
  {
   "cell_type": "code",
   "execution_count": null,
   "metadata": {},
   "outputs": [],
   "source": [
    "pd.to_datetime(ercot[ercot[\"queue_status\"].eq(\"withdrawn\")][\"queue_date\"]).dt.year.plot.hist()"
   ]
  },
  {
   "cell_type": "markdown",
   "metadata": {},
   "source": [
    "The [ISO Queue sheet](https://www.ercot.com/misdownload/servlets/mirDownload?doclookupId=955158734') Grid Status uses has an Inactive sheet that only goes back to about 2019. "
   ]
  },
  {
   "cell_type": "markdown",
   "metadata": {},
   "source": [
    "### NYISO\n",
    "\n",
    "* LBNL appears to have used the column labeled `S`, which is an ordinal status number corresponding to NYISO's LFIP. Key:\n",
    "  * 0=Withdrawn\n",
    "  * 1=Scoping Meeting Pending\n",
    "  * 2=FES Pending\n",
    "  * 3=FES in Progress\n",
    "  * 4=SRIS/SIS Pending\n",
    "  * 5=SRIS/SIS in Progress\n",
    "  * 6=SRIS/SIS Approved\n",
    "  * 7=FS Pending\n",
    "  * 8=Rejected Cost Allocation/Next FS Pending\n",
    "  * 9=FS in Progress\n",
    "  * 10=Accepted Cost Allocation/IA in Progress\n",
    "  * 11=IA Completed\n",
    "  * 12=Under Construction\n",
    "  * 13=In Service for Test\n",
    "  * 14=In Service Commercial\n",
    "  * 15=Partial In-Service\n",
    "* Availability of Studies  Key: None=Not Available, FES=Feasibility Study Available, SRIS=System Reliability Impact Study Available, FS=Facilities Study and/or ATRA Available\n",
    "* CY Completion/SGIA Tender refers to the Attachment X milestone used to apply the 4-year COD limitation.\n"
   ]
  },
  {
   "cell_type": "code",
   "execution_count": null,
   "metadata": {},
   "outputs": [],
   "source": [
    "raw_nyiso.columns\n"
   ]
  },
  {
   "cell_type": "code",
   "execution_count": null,
   "metadata": {},
   "outputs": [],
   "source": [
    "raw_nyiso[raw_nyiso[\"Queue ID\"].duplicated(keep=False)]"
   ]
  },
  {
   "cell_type": "code",
   "execution_count": null,
   "metadata": {},
   "outputs": [],
   "source": [
    "# I don't know which is correct (if either), but I'll guess that the later one is. So keep='last'\n",
    "raw_nyiso.loc[raw_nyiso.duplicated(subset='Queue ID', keep=False), :].sort_values(by='Queue ID')\n"
   ]
  },
  {
   "cell_type": "code",
   "execution_count": null,
   "metadata": {},
   "outputs": [],
   "source": [
    "nyiso = join_lbnl(raw_nyiso.drop_duplicates(subset='Queue ID', keep='last'), lbnl, \"NYISO\")\n",
    "nyiso.info()\n"
   ]
  },
  {
   "cell_type": "code",
   "execution_count": null,
   "metadata": {},
   "outputs": [],
   "source": [
    "nyiso.head()\n"
   ]
  },
  {
   "cell_type": "code",
   "execution_count": null,
   "metadata": {},
   "outputs": [],
   "source": [
    "nyiso[[\"in_gs\", \"in_lbnl\"]].value_counts(dropna=False)\n"
   ]
  },
  {
   "cell_type": "code",
   "execution_count": null,
   "metadata": {},
   "outputs": [],
   "source": [
    "# marginal improvement from date filter\n",
    "nyiso.loc[\n",
    "    nyiso[\"Queue Date\"]\n",
    "    .fillna(pd.to_datetime(\"2020-01-01\"))\n",
    "    .lt(pd.to_datetime(\"2023-01-01\")),\n",
    "    [\"in_gs\", \"in_lbnl\"],\n",
    "].value_counts(dropna=False)\n"
   ]
  },
  {
   "cell_type": "markdown",
   "metadata": {},
   "source": [
    "### NYISO Capacity Comparison\n",
    "- Compare total capacity for projects in lbnl and gs\n",
    "- Compare total capacity for active projects in lbnl and gs\n",
    "- Compare total capacity for active projects\n",
    "- Compare capacity by fuel type? Might challenging because the categories are all over the place"
   ]
  },
  {
   "cell_type": "markdown",
   "metadata": {},
   "source": [
    "#### Compare total capacity for projects in both"
   ]
  },
  {
   "cell_type": "code",
   "execution_count": null,
   "metadata": {},
   "outputs": [],
   "source": [
    "def compare_capacity(comb_iso: pd.DataFrame, gs_cap_col=\"Capacity (MW)\", lbnl_cap_col=\"capacity_mw_resource_1\"):    \n",
    "    gs_iso_cap = comb_iso[gs_cap_col].sum()\n",
    "    lbnl_iso_cap = comb_iso[lbnl_cap_col].sum()\n",
    "\n",
    "    print(f\"GS Capacity for projects in GS and LBNL: {gs_iso_cap}\")\n",
    "    print(f\"LBNL Capacity for project in GS and LBNL: {lbnl_iso_cap}\")\n",
    "    print(f\"Ratio of LBNL to GS Capacity for project in GS and LBNL: {lbnl_iso_cap / gs_iso_cap}\")\n",
    "    \n",
    "    "
   ]
  },
  {
   "cell_type": "code",
   "execution_count": null,
   "metadata": {},
   "outputs": [],
   "source": [
    "both_nyiso = nyiso[nyiso.in_lbnl & nyiso.in_gs]\n",
    "\n",
    "compare_capacity(both_nyiso)"
   ]
  },
  {
   "cell_type": "markdown",
   "metadata": {},
   "source": [
    "Ok! Projects that exist in both have very similar total capacities! That's a good start. I could look into which projects have different capacity values but the amount is so minor that I'm going to skip for now."
   ]
  },
  {
   "cell_type": "markdown",
   "metadata": {},
   "source": [
    "#### Compare total capacity for **active** projects in both"
   ]
  },
  {
   "cell_type": "code",
   "execution_count": null,
   "metadata": {},
   "outputs": [],
   "source": [
    "both_nyiso[\"queue_status\"].value_counts()"
   ]
  },
  {
   "cell_type": "code",
   "execution_count": null,
   "metadata": {},
   "outputs": [],
   "source": [
    "both_nyiso[[\"Status\", \"queue_status\"]].value_counts(dropna=False)"
   ]
  },
  {
   "cell_type": "markdown",
   "metadata": {},
   "source": [
    "There are some active LBNL projects that have been withdrawn maybe because the GS data is a bit fresher? If so the withdrawl dates should be after 2022-12-31."
   ]
  },
  {
   "cell_type": "code",
   "execution_count": null,
   "metadata": {},
   "outputs": [],
   "source": [
    "pd.to_datetime(both_nyiso[(both_nyiso[\"Status\"] == \"Withdrawn\") & (both_nyiso[\"queue_status\"] == \"active\")][\"Withdrawn Date\"]).dt.year.value_counts()"
   ]
  },
  {
   "cell_type": "markdown",
   "metadata": {},
   "source": [
    "Great! That explains it. This means we can just compare projects marked active in lbnl"
   ]
  },
  {
   "cell_type": "code",
   "execution_count": null,
   "metadata": {},
   "outputs": [],
   "source": [
    "active_both_nyiso = both_nyiso[(both_nyiso[\"queue_status\"] == \"active\")]\n",
    "gs_nyiso_cap = active_both_nyiso[\"Capacity (MW)\"].sum()\n",
    "lbnl_nyiso_cap = active_both_nyiso[\"capacity_mw_resource_1\"].sum()\n",
    "\n",
    "print(gs_nyiso_cap)\n",
    "print(lbnl_nyiso_cap)\n",
    "print(lbnl_nyiso_cap / gs_nyiso_cap)"
   ]
  },
  {
   "cell_type": "markdown",
   "metadata": {},
   "source": [
    "Similar capacity totals I'm comfortable with."
   ]
  },
  {
   "cell_type": "markdown",
   "metadata": {},
   "source": [
    "#### Compare total capacity for all projects"
   ]
  },
  {
   "cell_type": "code",
   "execution_count": null,
   "metadata": {},
   "outputs": [],
   "source": [
    "nyiso[[\"in_gs\", \"in_lbnl\"]].value_counts(dropna=False)\n"
   ]
  },
  {
   "cell_type": "code",
   "execution_count": null,
   "metadata": {},
   "outputs": [],
   "source": [
    "nyiso[[\"Status\", \"queue_status\"]].value_counts(dropna=False)"
   ]
  },
  {
   "cell_type": "code",
   "execution_count": null,
   "metadata": {},
   "outputs": [],
   "source": [
    "print(nyiso[nyiso.in_gs & ~nyiso.in_lbnl][\"Capacity (MW)\"].sum() / nyiso[nyiso.in_gs][\"Capacity (MW)\"].sum())\n",
    "print(nyiso[~nyiso.in_gs & nyiso.in_lbnl][\"capacity_mw_resource_1\"].sum() / nyiso[nyiso.in_lbnl][\"Capacity (MW)\"].sum())"
   ]
  },
  {
   "cell_type": "markdown",
   "metadata": {},
   "source": [
    "Projects in GS but not in lbnl account for 27% of total capacity in GS nyiso.\n",
    "Projects in LBNL but not in GS account for 4% of total capacity in LBNL NYISO.\n",
    "\n",
    "Why does GS have so much more capacity than LBNL here? Do we care if GS has more capacity than LBNL given GS more closely resembles the source data? Is LBNL doing deduplication work behind the scenes?"
   ]
  },
  {
   "cell_type": "code",
   "execution_count": null,
   "metadata": {},
   "outputs": [],
   "source": [
    "gs_capacities = nyiso[nyiso.in_gs][\"Winter Capacity (MW)\"]\n",
    "lbnl_capacities = nyiso[nyiso.in_lbnl][\"capacity_mw_resource_1\"]\n",
    "\n",
    "print(f\"Ratio of total LBNL capacity to total GS capacity {lbnl_capacities.sum() / pd.to_numeric(gs_capacities, errors='coerce').sum()}\")\n",
    "print(f\"Ratio of total LBNL project to total GS projects {len(lbnl_capacities) / len(gs_capacities)}\")"
   ]
  },
  {
   "cell_type": "markdown",
   "metadata": {},
   "source": [
    "There are 190 transmission projects in GS that aren't in LBNL. See generation type analysis notebook."
   ]
  },
  {
   "cell_type": "markdown",
   "metadata": {},
   "source": [
    "### MISO\n",
    "Very good project coverage, but the IA status categories are a mess."
   ]
  },
  {
   "cell_type": "code",
   "execution_count": null,
   "metadata": {},
   "outputs": [],
   "source": [
    "raw_miso.columns\n"
   ]
  },
  {
   "cell_type": "code",
   "execution_count": null,
   "metadata": {},
   "outputs": [],
   "source": [
    "# I don't know which is correct (if either), but I'll guess that the later one is. So keep='last'\n",
    "# Nearly whole-row duplicate, except for \"studyPhase\"\n",
    "raw_miso.loc[raw_miso.duplicated(subset='Queue ID', keep=False), :].sort_values(by='Queue ID')\n"
   ]
  },
  {
   "cell_type": "code",
   "execution_count": null,
   "metadata": {},
   "outputs": [],
   "source": [
    "# I don't know which is correct (if either), but I'll guess that the later one is. So keep='last'\n",
    "# Nearly whole-row duplicate, except for \"studyPhase\"\n",
    "lbnl.query('entity == \"MISO\"').loc[lbnl.query('entity == \"MISO\"').duplicated(subset='queue_id', keep=False), :].sort_values(by='queue_id')\n"
   ]
  },
  {
   "cell_type": "code",
   "execution_count": null,
   "metadata": {},
   "outputs": [],
   "source": [
    "miso = join_lbnl(raw_miso.drop_duplicates(subset='Queue ID', keep='last'), lbnl.query('entity == \"MISO\"').drop_duplicates(subset='queue_id', keep='last'), \"MISO\")\n",
    "miso.info()\n"
   ]
  },
  {
   "cell_type": "code",
   "execution_count": null,
   "metadata": {},
   "outputs": [],
   "source": [
    "miso[[\"in_gs\", \"in_lbnl\"]].value_counts(dropna=False)\n"
   ]
  },
  {
   "cell_type": "markdown",
   "metadata": {
    "tags": []
   },
   "source": [
    "#### Compare total capacity for projects in both"
   ]
  },
  {
   "cell_type": "code",
   "execution_count": null,
   "metadata": {
    "tags": []
   },
   "outputs": [],
   "source": [
    "both_miso = miso[miso.in_lbnl & miso.in_gs]\n",
    "\n",
    "compare_capacity(both_miso)"
   ]
  },
  {
   "cell_type": "markdown",
   "metadata": {
    "tags": []
   },
   "source": [
    "#### Compare total capacity for **active** projects in both"
   ]
  },
  {
   "cell_type": "code",
   "execution_count": null,
   "metadata": {},
   "outputs": [],
   "source": [
    "both_miso = miso[miso.in_lbnl & miso.in_gs]\n",
    "\n",
    "both_miso[[\"Status\", \"queue_status\"]].value_counts(dropna=False)"
   ]
  },
  {
   "cell_type": "code",
   "execution_count": null,
   "metadata": {},
   "outputs": [],
   "source": [
    "active_in_lbnl_not_active_in_gs = both_miso[both_miso[\"queue_status\"].eq(\"active\") & both_miso[\"Status\"].ne(\"Active\")]\n",
    "active_in_lbnl_not_active_in_gs[\"Status\"].value_counts(dropna=False)"
   ]
  },
  {
   "cell_type": "code",
   "execution_count": null,
   "metadata": {},
   "outputs": [],
   "source": [
    "pd.to_datetime(active_in_lbnl_not_active_in_gs.query(\"Status == 'Done'\")[\"inService\"]).dt.year.value_counts(dropna=False)"
   ]
  },
  {
   "cell_type": "markdown",
   "metadata": {},
   "source": [
    "Seems like a bulk of projects that are active in lbnl but considered done in GS were completed in the last 5ish years. Only 43 projects went in service in 2023. Shouldn't LBNL have caught the other projects in service?"
   ]
  },
  {
   "cell_type": "code",
   "execution_count": null,
   "metadata": {},
   "outputs": [],
   "source": [
    "pd.to_datetime(active_in_lbnl_not_active_in_gs.query(\"Status == 'Withdrawn'\")[\"Withdrawn Date\"]).dt.year.value_counts(dropna=False)"
   ]
  },
  {
   "cell_type": "markdown",
   "metadata": {},
   "source": [
    "Great! The active LBNL projects that are Withdrawn in GS were mostly withdrawn in 2023."
   ]
  },
  {
   "cell_type": "code",
   "execution_count": null,
   "metadata": {},
   "outputs": [],
   "source": [
    "active_both_miso = both_miso[both_miso[\"queue_status\"].eq(\"active\") & both_miso[\"Status\"].eq(\"Active\")]\n",
    "\n",
    "compare_capacity(active_both_miso)"
   ]
  },
  {
   "cell_type": "markdown",
   "metadata": {},
   "source": [
    "Projects that are marked active in both LBNL and GS have very similar total capacities."
   ]
  },
  {
   "cell_type": "code",
   "execution_count": null,
   "metadata": {},
   "outputs": [],
   "source": [
    "gs_capacities = miso[miso.in_gs][\"Winter Capacity (MW)\"]\n",
    "lbnl_capacities = miso[miso.in_lbnl][\"capacity_mw_resource_1\"]\n",
    "\n",
    "print(f\"Ratio of total LBNL capacity to total GS capacity {lbnl_capacities.sum() / gs_capacities.sum()}\")\n",
    "print(f\"Ratio of total LBNL project to total GS projects {len(lbnl_capacities) / len(gs_capacities)}\")"
   ]
  },
  {
   "cell_type": "markdown",
   "metadata": {},
   "source": [
    "Total MISO Capacity is pretty similar in LBNL and GS. There are some differences in queue status but nothing alarming."
   ]
  },
  {
   "cell_type": "markdown",
   "metadata": {
    "tags": []
   },
   "source": [
    "### SPP\n",
    "\n",
    "* neither LBNL nor GridStatus have withdrawn projects\n",
    "* GridStatus destroys the detailed status information during their processing, so we lose the ability to distinguish between \"IA pending\" and \"System Integration Study\". But I don't think that is a problem because both are included in the \"actionable\" criteria in Synapse's model."
   ]
  },
  {
   "cell_type": "code",
   "execution_count": null,
   "metadata": {},
   "outputs": [],
   "source": [
    "raw_spp.columns\n"
   ]
  },
  {
   "cell_type": "code",
   "execution_count": null,
   "metadata": {},
   "outputs": [],
   "source": [
    "spp = join_lbnl(raw_spp, lbnl, \"SPP\")\n",
    "spp.info()\n"
   ]
  },
  {
   "cell_type": "code",
   "execution_count": null,
   "metadata": {},
   "outputs": [],
   "source": [
    "spp.sample(4)\n"
   ]
  },
  {
   "cell_type": "code",
   "execution_count": null,
   "metadata": {},
   "outputs": [],
   "source": [
    "spp[[\"in_gs\", \"in_lbnl\"]].value_counts(dropna=False)\n"
   ]
  },
  {
   "cell_type": "markdown",
   "metadata": {
    "tags": []
   },
   "source": [
    "#### Compare total capacity for projects in both"
   ]
  },
  {
   "cell_type": "code",
   "execution_count": null,
   "metadata": {
    "tags": []
   },
   "outputs": [],
   "source": [
    "both_spp = spp[spp.in_lbnl & spp.in_gs]\n",
    "\n",
    "compare_capacity(both_spp)"
   ]
  },
  {
   "cell_type": "markdown",
   "metadata": {
    "tags": []
   },
   "source": [
    "#### Compare total capacity for **active** projects in both"
   ]
  },
  {
   "cell_type": "code",
   "execution_count": null,
   "metadata": {},
   "outputs": [],
   "source": [
    "spp[[\"Status\", \"queue_status\"]].value_counts(dropna=False)"
   ]
  },
  {
   "cell_type": "code",
   "execution_count": null,
   "metadata": {},
   "outputs": [],
   "source": [
    "spp_gs_completed_lbnl_active = spp[spp[\"queue_status\"].eq(\"active\") & spp[\"Status\"].eq(\"Active\")]\n",
    "compare_capacity(spp_gs_completed_lbnl_active)"
   ]
  },
  {
   "cell_type": "markdown",
   "metadata": {},
   "source": [
    "Some mismatching in status column for projects that are active in both datasets the capacities look good."
   ]
  },
  {
   "cell_type": "markdown",
   "metadata": {},
   "source": [
    "#### Compare total capacity for all projects"
   ]
  },
  {
   "cell_type": "code",
   "execution_count": null,
   "metadata": {},
   "outputs": [],
   "source": [
    "gs_capacities = spp[spp.in_gs][\"Capacity (MW)\"]\n",
    "lbnl_capacities = spp[spp.in_lbnl][\"capacity_mw_resource_1\"]\n",
    "\n",
    "print(f\"Ratio of total LBNL capacity to total GS capacity {lbnl_capacities.sum() / gs_capacities.sum()}\")\n",
    "print(f\"Ratio of total LBNL project to total GS projects {len(lbnl_capacities) / len(gs_capacities)}\")"
   ]
  },
  {
   "cell_type": "markdown",
   "metadata": {},
   "source": [
    "### PJM\n",
    "Like MISO, good project coverage, but the IA status categories are a mess.\n",
    "\n",
    "\"Active\" applied up to IA execution. Then \"Engineering and Procurement\" applied to IA execution through COD. Then \"In Service\"."
   ]
  },
  {
   "cell_type": "code",
   "execution_count": null,
   "metadata": {},
   "outputs": [],
   "source": [
    "raw_pjm.columns\n"
   ]
  },
  {
   "cell_type": "code",
   "execution_count": null,
   "metadata": {},
   "outputs": [],
   "source": [
    "# \"Active\" stops at IA execution\n",
    "raw_pjm[['Interim/Interconnection Service Agreement Status', 'Status']].value_counts(dropna=False).sort_index()\n"
   ]
  },
  {
   "cell_type": "code",
   "execution_count": null,
   "metadata": {},
   "outputs": [],
   "source": [
    "pjm = join_lbnl(raw_pjm, lbnl, \"PJM\")\n",
    "pjm.info()\n"
   ]
  },
  {
   "cell_type": "markdown",
   "metadata": {
    "tags": []
   },
   "source": [
    "#### Compare total capacity for projects in both"
   ]
  },
  {
   "cell_type": "code",
   "execution_count": null,
   "metadata": {
    "tags": []
   },
   "outputs": [],
   "source": [
    "both_pjm = pjm[pjm.in_lbnl & pjm.in_gs].copy()\n",
    "\n",
    "compare_capacity(both_pjm)"
   ]
  },
  {
   "cell_type": "markdown",
   "metadata": {},
   "source": [
    "GS has about 25% more capacity for projects in both. Which projects have super different values? Is it a units issue?"
   ]
  },
  {
   "cell_type": "code",
   "execution_count": null,
   "metadata": {},
   "outputs": [],
   "source": [
    "both_pjm[\"capacity_diff\"] = both_pjm[\"Capacity (MW)\"] - both_pjm[\"capacity_mw_resource_1\"]\n",
    "\n",
    "both_pjm[\"capacity_diff\"].describe()"
   ]
  },
  {
   "cell_type": "code",
   "execution_count": null,
   "metadata": {},
   "outputs": [],
   "source": [
    "print(both_pjm[\"capacity_diff\"].ne(0).value_counts())\n",
    "\n",
    "cap_fields = [\n",
    "    \"Capacity (MW)\",\n",
    "    \"Summer Capacity (MW)\",\n",
    "    \"Winter Capacity (MW)\",\n",
    "    \"capacity_mw_resource_1\"\n",
    "]\n",
    "\n",
    "both_pjm_diff_caps = both_pjm[both_pjm[\"capacity_diff\"].ne(0) & ~both_pjm[\"Capacity (MW)\"].isna()].sort_values(\"capacity_diff\").copy()\n",
    "both_pjm_diff_caps[cap_fields].head(20)"
   ]
  },
  {
   "cell_type": "markdown",
   "metadata": {},
   "source": [
    "What is the difference between \"MW Capacity\", \"MW Energy\", \"MFO\", \"MW In Service\"? It seems like LBNL used \"MW Capacity\""
   ]
  },
  {
   "cell_type": "code",
   "execution_count": null,
   "metadata": {},
   "outputs": [],
   "source": [
    "# GS renames \"MW Energy\" to \"Winter Capacity (MW)\"\n",
    "compare_capacity(both_pjm, gs_cap_col=\"Winter Capacity (MW)\")"
   ]
  },
  {
   "cell_type": "markdown",
   "metadata": {},
   "source": [
    "Looks like lbnl used \"MW Energy\" to measure capacity. Which columns should we be using?!"
   ]
  },
  {
   "cell_type": "markdown",
   "metadata": {
    "tags": []
   },
   "source": [
    "#### Compare total capacity for **active** projects in both"
   ]
  },
  {
   "cell_type": "code",
   "execution_count": null,
   "metadata": {},
   "outputs": [],
   "source": [
    "pjm[[\"Status\", \"queue_status\"]].value_counts(dropna=False)"
   ]
  },
  {
   "cell_type": "code",
   "execution_count": null,
   "metadata": {},
   "outputs": [],
   "source": [
    "pjm_active_in_both = pjm[pjm[\"queue_status\"].eq(\"active\") & pjm[\"Status\"].eq(\"Active\")]\n",
    "compare_capacity(pjm_active_in_both, gs_cap_col=\"Winter Capacity (MW)\")"
   ]
  },
  {
   "cell_type": "markdown",
   "metadata": {},
   "source": [
    "Some mismatching in status column for projects that are active in both datasets the capacities look good."
   ]
  },
  {
   "cell_type": "markdown",
   "metadata": {},
   "source": [
    "#### Compare total capacity for all projects"
   ]
  },
  {
   "cell_type": "code",
   "execution_count": null,
   "metadata": {},
   "outputs": [],
   "source": [
    "gs_capacities = pjm[pjm.in_gs][\"Winter Capacity (MW)\"]\n",
    "lbnl_capacities = pjm[pjm.in_lbnl][\"capacity_mw_resource_1\"]\n",
    "\n",
    "print(f\"Ratio of total LBNL capacity to total GS capacity {lbnl_capacities.sum() / gs_capacities.sum()}\")\n",
    "print(f\"Ratio of total LBNL project to total GS projects {len(lbnl_capacities) / len(gs_capacities)}\")"
   ]
  },
  {
   "cell_type": "markdown",
   "metadata": {},
   "source": [
    "GS has a little more capacity and projecdts than LBNL."
   ]
  },
  {
   "cell_type": "markdown",
   "metadata": {},
   "source": [
    "### CAISO\n",
    "Straightforward!"
   ]
  },
  {
   "cell_type": "code",
   "execution_count": null,
   "metadata": {},
   "outputs": [],
   "source": [
    "raw_caiso.columns\n"
   ]
  },
  {
   "cell_type": "code",
   "execution_count": null,
   "metadata": {},
   "outputs": [],
   "source": [
    "caiso = join_lbnl(raw_caiso, lbnl, \"CAISO\")\n",
    "caiso.info()\n"
   ]
  },
  {
   "cell_type": "code",
   "execution_count": null,
   "metadata": {},
   "outputs": [],
   "source": [
    "caiso.query(\"Status == 'ACTIVE'\").sample(8, random_state=42).sort_values('interconnection_status_lbnl')\n"
   ]
  },
  {
   "cell_type": "code",
   "execution_count": null,
   "metadata": {},
   "outputs": [],
   "source": [
    "caiso[[\"in_gs\", \"in_lbnl\"]].value_counts(dropna=False)\n"
   ]
  },
  {
   "cell_type": "code",
   "execution_count": null,
   "metadata": {},
   "outputs": [],
   "source": [
    "caiso.loc[\n",
    "    pd.to_datetime(caiso[\"Queue Date\"])\n",
    "    .fillna(pd.to_datetime(\"2020-01-01\"))\n",
    "    .lt(pd.to_datetime(\"2023-01-01\")),\n",
    "    [\"in_gs\", \"in_lbnl\"],\n",
    "].value_counts(dropna=False)\n"
   ]
  },
  {
   "cell_type": "code",
   "execution_count": null,
   "metadata": {},
   "outputs": [],
   "source": [
    "# remarkably easy to match status values\n",
    "caiso[[\"Status\", \"queue_status\"]].value_counts(dropna=False).sort_index()\n"
   ]
  },
  {
   "cell_type": "markdown",
   "metadata": {
    "tags": []
   },
   "source": [
    "#### Compare total capacity for projects in both"
   ]
  },
  {
   "cell_type": "code",
   "execution_count": null,
   "metadata": {
    "tags": []
   },
   "outputs": [],
   "source": [
    "both_caiso = caiso[caiso.in_lbnl & caiso.in_gs]\n",
    "\n",
    "compare_capacity(both_caiso)"
   ]
  },
  {
   "cell_type": "markdown",
   "metadata": {
    "tags": []
   },
   "source": [
    "#### Compare total capacity for **active** projects in both"
   ]
  },
  {
   "cell_type": "code",
   "execution_count": null,
   "metadata": {},
   "outputs": [],
   "source": [
    "caiso[[\"Status\", \"queue_status\"]].value_counts(dropna=False)"
   ]
  },
  {
   "cell_type": "code",
   "execution_count": null,
   "metadata": {},
   "outputs": [],
   "source": [
    "caiso_active_in_both = caiso[caiso[\"queue_status\"].eq(\"active\") & caiso[\"Status\"].eq(\"ACTIVE\")]\n",
    "compare_capacity(caiso_active_in_both)"
   ]
  },
  {
   "cell_type": "markdown",
   "metadata": {},
   "source": [
    "Very little mismatching in status columns and capacities look good for projects that are active in both. There a few dozen lbnl active projects that are withdrawn or completed in GS."
   ]
  },
  {
   "cell_type": "markdown",
   "metadata": {},
   "source": [
    "#### Compare total capacity for all projects"
   ]
  },
  {
   "cell_type": "code",
   "execution_count": null,
   "metadata": {},
   "outputs": [],
   "source": [
    "gs_capacities = caiso[caiso.in_gs][\"Capacity (MW)\"]\n",
    "lbnl_capacities = caiso[caiso.in_lbnl][\"capacity_mw_resource_1\"]\n",
    "\n",
    "print(f\"Ratio of total LBNL capacity to total GS capacity {lbnl_capacities.sum() / gs_capacities.sum()}\")\n",
    "print(f\"Ratio of total LBNL project to total GS projects {len(lbnl_capacities) / len(gs_capacities)}\")"
   ]
  },
  {
   "cell_type": "markdown",
   "metadata": {},
   "source": [
    "Basically the same amount of capacity and number of projects. love it"
   ]
  },
  {
   "cell_type": "markdown",
   "metadata": {},
   "source": [
    "### ISO-NE\n",
    "\n",
    "* what GridStatus calls \"Queue ID\" was actually \"Queue Position\" in the original data. It is unique amongst active projects but not for withdrawn projects. There is no natural key for withdrawn projects."
   ]
  },
  {
   "cell_type": "code",
   "execution_count": null,
   "metadata": {},
   "outputs": [],
   "source": [
    "raw_isone.columns\n"
   ]
  },
  {
   "cell_type": "code",
   "execution_count": null,
   "metadata": {},
   "outputs": [],
   "source": [
    "raw_isone.duplicated(subset=['Queue ID']).sum()\n"
   ]
  },
  {
   "cell_type": "code",
   "execution_count": null,
   "metadata": {},
   "outputs": [],
   "source": [
    "raw_isone.loc[raw_isone.duplicated(subset=['Queue ID'], keep=False), 'Status'].value_counts(dropna=False)\n"
   ]
  },
  {
   "cell_type": "code",
   "execution_count": null,
   "metadata": {},
   "outputs": [],
   "source": [
    "raw_isone['Status'].value_counts(dropna=False)\n"
   ]
  },
  {
   "cell_type": "code",
   "execution_count": null,
   "metadata": {},
   "outputs": [],
   "source": [
    "compound_key = ['Queue ID', 'Status']\n",
    "raw_isone.duplicated(subset=compound_key).sum()\n"
   ]
  },
  {
   "cell_type": "code",
   "execution_count": null,
   "metadata": {},
   "outputs": [],
   "source": [
    "# there is no natural key for this data. But this looks like the best tradeoff between key complexity and uniqueness.\n",
    "compound_key = ['Queue ID', 'Project Name']\n",
    "raw_isone.duplicated(subset=compound_key).sum()\n"
   ]
  },
  {
   "cell_type": "code",
   "execution_count": null,
   "metadata": {},
   "outputs": [],
   "source": [
    "# Queue ID is unique within the Active projects. Not sure how change over time will impact the join to LBNL.\n",
    "raw_isone.query('Status == \"Active\"')['Queue ID'].is_unique\n"
   ]
  },
  {
   "cell_type": "code",
   "execution_count": null,
   "metadata": {},
   "outputs": [],
   "source": [
    "# duplicates (none Active) have all kinds of variation in values. Maybe best approach is to sort by date updated and take the latest one. It doesn't always differentiate them though.\n",
    "raw_isone.loc[raw_isone.duplicated(subset=compound_key, keep=False),:].sort_values(by=compound_key).tail(10)\n"
   ]
  },
  {
   "cell_type": "code",
   "execution_count": null,
   "metadata": {},
   "outputs": [],
   "source": [
    "raw_isone['Updated'] = pd.to_datetime(raw_isone['Updated'])\n"
   ]
  },
  {
   "cell_type": "code",
   "execution_count": null,
   "metadata": {},
   "outputs": [],
   "source": [
    "# join manually rather than refactoring the func to take compound key\n",
    "lbnl_iso = lbnl.loc[lbnl[\"entity\"].eq(\"ISO-NE\"), LBNL_JOIN_COLS].astype({'queue_id': int})\n",
    "isone = raw_isone.sort_values('Updated').drop_duplicates(subset=compound_key, keep='last')\n",
    "isone = isone.merge(lbnl_iso, how=\"outer\", left_on=compound_key, right_on=[c.lower().replace(' ', '_') for c in compound_key])\n",
    "isone[\"in_lbnl\"] = ~isone[\"queue_id\"].isna()\n",
    "isone[\"in_gs\"] = ~isone[\"Queue ID\"].isna()\n",
    "del lbnl_iso\n",
    "isone.info()\n"
   ]
  },
  {
   "cell_type": "code",
   "execution_count": null,
   "metadata": {},
   "outputs": [],
   "source": [
    "isone.head(2)\n"
   ]
  },
  {
   "cell_type": "code",
   "execution_count": null,
   "metadata": {},
   "outputs": [],
   "source": [
    "isone[[\"in_gs\", \"in_lbnl\"]].value_counts(dropna=False)\n"
   ]
  },
  {
   "cell_type": "code",
   "execution_count": null,
   "metadata": {},
   "outputs": [],
   "source": [
    "# small improvement from date filter\n",
    "isone.loc[\n",
    "    pd.to_datetime(isone[\"Queue Date\"])\n",
    "    .fillna(pd.to_datetime(\"2020-01-01\"))\n",
    "    .lt(pd.to_datetime(\"2023-01-01\")),\n",
    "    [\"in_gs\", \"in_lbnl\"],\n",
    "].value_counts(dropna=False)\n"
   ]
  },
  {
   "cell_type": "code",
   "execution_count": null,
   "metadata": {},
   "outputs": [],
   "source": [
    "# status values are decently aligned\n",
    "isone[[\"Status\", \"queue_status\"]].value_counts(dropna=False).sort_index()\n"
   ]
  },
  {
   "cell_type": "code",
   "execution_count": null,
   "metadata": {},
   "outputs": [],
   "source": [
    "isone['interconnection_status_raw'].value_counts(dropna=False)\n"
   ]
  },
  {
   "cell_type": "code",
   "execution_count": null,
   "metadata": {},
   "outputs": [],
   "source": [
    "isone[['interconnection_status_lbnl', 'interconnection_status_raw']].value_counts(dropna=False).sort_index()\n"
   ]
  },
  {
   "cell_type": "code",
   "execution_count": null,
   "metadata": {},
   "outputs": [],
   "source": [
    "status_cols_isone = [\n",
    "    \"FS\",\n",
    "    \"SIS\",\n",
    "    \"OS\",\n",
    "    \"FAC\",\n",
    "    \"IA\",\n",
    "    \"Project Status\",\n",
    "]\n",
    "with pd.option_context('display.max_rows', None):\n",
    "    display(isone[status_cols_isone].replace(['None'], np.nan).value_counts(dropna=False).where(lambda x: x>2).dropna().astype(int).sort_index())\n"
   ]
  },
  {
   "cell_type": "code",
   "execution_count": null,
   "metadata": {},
   "outputs": [],
   "source": [
    "# gridstatus doesn't parse the status values, so they are all null. In their defense, the ISONE encodes them as alt text behind icons, which is stupid. But still.\n",
    "isone[status_cols_isone]\n"
   ]
  },
  {
   "cell_type": "code",
   "execution_count": null,
   "metadata": {},
   "outputs": [],
   "source": [
    "raw_isone['Generation Type'].value_counts(dropna=False)\n"
   ]
  },
  {
   "cell_type": "markdown",
   "metadata": {
    "tags": []
   },
   "source": [
    "#### Compare total capacity for projects in both"
   ]
  },
  {
   "cell_type": "code",
   "execution_count": null,
   "metadata": {
    "tags": []
   },
   "outputs": [],
   "source": [
    "both_isone = isone[isone.in_lbnl & isone.in_gs]\n",
    "\n",
    "compare_capacity(both_isone)"
   ]
  },
  {
   "cell_type": "markdown",
   "metadata": {
    "tags": []
   },
   "source": [
    "#### Compare total capacity for **active** projects in both"
   ]
  },
  {
   "cell_type": "code",
   "execution_count": null,
   "metadata": {},
   "outputs": [],
   "source": [
    "isone[[\"Status\", \"queue_status\"]].value_counts(dropna=False)"
   ]
  },
  {
   "cell_type": "code",
   "execution_count": null,
   "metadata": {},
   "outputs": [],
   "source": [
    "isone_active_in_both = isone[isone[\"queue_status\"].eq(\"active\") & isone[\"Status\"].eq(\"Active\")]\n",
    "compare_capacity(isone_active_in_both)"
   ]
  },
  {
   "cell_type": "markdown",
   "metadata": {},
   "source": [
    "Decent alignment between project statuses. GS has a bit more projects. Did their status change in 2023?"
   ]
  },
  {
   "cell_type": "code",
   "execution_count": null,
   "metadata": {},
   "outputs": [],
   "source": [
    "pd.to_datetime(isone[isone[\"queue_status\"].isna() & isone[\"Status\"].eq(\"Active\")][\"Queue Date\"]).dt.year.plot.hist()"
   ]
  },
  {
   "cell_type": "markdown",
   "metadata": {},
   "source": [
    "#### Compare total capacity for all projects"
   ]
  },
  {
   "cell_type": "code",
   "execution_count": null,
   "metadata": {},
   "outputs": [],
   "source": [
    "gs_capacities = isone[isone.in_gs][\"Capacity (MW)\"]\n",
    "lbnl_capacities = isone[isone.in_lbnl][\"capacity_mw_resource_1\"]\n",
    "\n",
    "print(f\"Ratio of total LBNL capacity to total GS capacity {(gs_capacities.sum() - lbnl_capacities.sum()) / lbnl_capacities.sum() * 100}\")\n",
    "print(f\"Ratio of total LBNL project to total GS projects {len(lbnl_capacities) / len(gs_capacities)}\")"
   ]
  },
  {
   "cell_type": "markdown",
   "metadata": {},
   "source": [
    "Hmmm substatially more capacity in GS."
   ]
  },
  {
   "cell_type": "code",
   "execution_count": null,
   "metadata": {},
   "outputs": [],
   "source": []
  }
 ],
 "metadata": {
  "kernelspec": {
   "display_name": "Python 3 (ipykernel)",
   "language": "python",
   "name": "python3"
  },
  "language_info": {
   "codemirror_mode": {
    "name": "ipython",
    "version": 3
   },
   "file_extension": ".py",
   "mimetype": "text/x-python",
   "name": "python",
   "nbconvert_exporter": "python",
   "pygments_lexer": "ipython3",
   "version": "3.10.12"
  }
 },
 "nbformat": 4,
 "nbformat_minor": 4
}
