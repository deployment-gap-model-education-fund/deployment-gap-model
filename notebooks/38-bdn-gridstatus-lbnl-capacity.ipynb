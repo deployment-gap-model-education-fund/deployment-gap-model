{
 "cells": [
  {
   "cell_type": "markdown",
   "metadata": {},
   "source": [
    "# GridStatus <-> LBNL Status Mapping\n",
    "\n",
    "GridStatus reads raw ISO queues. The LBNL queue statuses are standardized versions of ISO-specific categories. This notebook attempts to reverse engineer the mappings between the two."
   ]
  },
  {
   "cell_type": "code",
   "execution_count": 1,
   "metadata": {},
   "outputs": [
    {
     "name": "stderr",
     "output_type": "stream",
     "text": [
      "/app/.local/lib/python3.10/site-packages/geopandas/_compat.py:123: UserWarning: The Shapely GEOS version (3.11.1-CAPI-1.17.1) is incompatible with the GEOS version PyGEOS was compiled with (3.10.3-CAPI-1.16.1). Conversions between both will be slow.\n",
      "  warnings.warn(\n",
      "/app/.local/lib/python3.10/site-packages/pudl/analysis/spatial.py:7: UserWarning: Shapely 2.0 is installed, but because PyGEOS is also installed, GeoPandas will still use PyGEOS by default for now. To force to use and test Shapely 2.0, you have to set the environment variable USE_PYGEOS=0. You can do this before starting the Python process, or in your code before importing geopandas:\n",
      "\n",
      "import os\n",
      "os.environ['USE_PYGEOS'] = '0'\n",
      "import geopandas\n",
      "\n",
      "In a future release, GeoPandas will switch to using Shapely by default. If you are using PyGEOS directly (calling PyGEOS functions on geometries from GeoPandas), this will then stop working and you are encouraged to migrate from PyGEOS to Shapely 2.0 (https://shapely.readthedocs.io/en/latest/migration_pygeos.html).\n",
      "  import geopandas as gpd\n"
     ]
    }
   ],
   "source": [
    "import pandas as pd\n",
    "from pathlib import Path\n",
    "import numpy as np\n",
    "\n",
    "from dbcp.extract.lbnl_iso_queue import extract\n"
   ]
  },
  {
   "cell_type": "markdown",
   "metadata": {},
   "source": [
    "## Get the data\n",
    "### LBNL-Compiled Queues"
   ]
  },
  {
   "cell_type": "code",
   "execution_count": 2,
   "metadata": {},
   "outputs": [],
   "source": [
    "# partial implementation of transform. I don't want to include deduplication.\n",
    "def partial_transform(active_projects: pd.DataFrame) -> pd.DataFrame:\n",
    "    \"\"\"Transform active iso queue data.\"\"\"\n",
    "    rename_dict = {\n",
    "        \"state\": \"raw_state_name\",\n",
    "        \"county\": \"raw_county_name\",\n",
    "    }\n",
    "    active_projects = active_projects.rename(columns=rename_dict)  # copy\n",
    "    # Harmonize the interconnection_status_lbnl values.\n",
    "    mapping = {\n",
    "        \"Feasability Study\": \"Feasibility Study\",\n",
    "        \"Feasibility\": \"Feasibility Study\",\n",
    "        \"Facilities Study\": \"Facility Study\",\n",
    "        \"IA in Progress\": \"In Progress (unknown study)\",\n",
    "        \"Unknown\": \"In Progress (unknown study)\",\n",
    "        \"Withdrawn, Feasibility Study\": \"Withdrawn\",\n",
    "    }\n",
    "    active_projects.loc[:, \"interconnection_status_lbnl\"] = active_projects.loc[\n",
    "        :, \"interconnection_status_lbnl\"\n",
    "    ].replace(mapping)\n",
    "    # drop irrelevant columns (structurally all nan due to 'active' filter)\n",
    "    active_projects.drop(columns=[\"date_withdrawn\", \"date_operational\"], inplace=True)\n",
    "    return active_projects\n",
    "\n",
    "\n",
    "source_path = Path(\"/app/data/raw/queues_2022_clean_data.xlsx\")\n",
    "raw_lbnl = extract(source_path)[\"lbnl_iso_queue\"]\n",
    "lbnl = partial_transform(raw_lbnl)\n"
   ]
  },
  {
   "cell_type": "code",
   "execution_count": 3,
   "metadata": {},
   "outputs": [
    {
     "data": {
      "text/plain": [
       "((29033, 27),\n",
       " Index(['queue_id', 'queue_status', 'queue_date', 'queue_year', 'interconnection_date', 'entity', 'project_name', 'developer', 'utility', 'county_1', 'county_2', 'county_3', 'raw_state_name', 'region', 'interconnection_service_type', 'point_of_interconnection', 'date_proposed', 'year_proposed', 'interconnection_status_raw', 'interconnection_status_lbnl', 'resource_type_lbnl', 'resource_type_1', 'resource_type_2', 'resource_type_3', 'capacity_mw_resource_1', 'capacity_mw_resource_2', 'capacity_mw_resource_3'], dtype='object'))"
      ]
     },
     "execution_count": 3,
     "metadata": {},
     "output_type": "execute_result"
    }
   ],
   "source": [
    "lbnl.shape, lbnl.columns\n"
   ]
  },
  {
   "cell_type": "code",
   "execution_count": 4,
   "metadata": {},
   "outputs": [
    {
     "data": {
      "text/html": [
       "<div>\n",
       "<style scoped>\n",
       "    .dataframe tbody tr th:only-of-type {\n",
       "        vertical-align: middle;\n",
       "    }\n",
       "\n",
       "    .dataframe tbody tr th {\n",
       "        vertical-align: top;\n",
       "    }\n",
       "\n",
       "    .dataframe thead th {\n",
       "        text-align: right;\n",
       "    }\n",
       "</style>\n",
       "<table border=\"1\" class=\"dataframe\">\n",
       "  <thead>\n",
       "    <tr style=\"text-align: right;\">\n",
       "      <th></th>\n",
       "      <th>queue_id</th>\n",
       "      <th>queue_status</th>\n",
       "      <th>queue_date</th>\n",
       "      <th>queue_year</th>\n",
       "      <th>interconnection_date</th>\n",
       "      <th>entity</th>\n",
       "      <th>project_name</th>\n",
       "      <th>developer</th>\n",
       "      <th>utility</th>\n",
       "      <th>county_1</th>\n",
       "      <th>county_2</th>\n",
       "      <th>county_3</th>\n",
       "      <th>raw_state_name</th>\n",
       "      <th>region</th>\n",
       "      <th>interconnection_service_type</th>\n",
       "      <th>point_of_interconnection</th>\n",
       "      <th>date_proposed</th>\n",
       "      <th>year_proposed</th>\n",
       "      <th>interconnection_status_raw</th>\n",
       "      <th>interconnection_status_lbnl</th>\n",
       "      <th>resource_type_lbnl</th>\n",
       "      <th>resource_type_1</th>\n",
       "      <th>resource_type_2</th>\n",
       "      <th>resource_type_3</th>\n",
       "      <th>capacity_mw_resource_1</th>\n",
       "      <th>capacity_mw_resource_2</th>\n",
       "      <th>capacity_mw_resource_3</th>\n",
       "    </tr>\n",
       "  </thead>\n",
       "  <tbody>\n",
       "    <tr>\n",
       "      <th>0</th>\n",
       "      <td>GIA-97</td>\n",
       "      <td>withdrawn</td>\n",
       "      <td>1/7/2022</td>\n",
       "      <td>2022.0</td>\n",
       "      <td>NaN</td>\n",
       "      <td>AEC</td>\n",
       "      <td>NaN</td>\n",
       "      <td>NaN</td>\n",
       "      <td>AEC</td>\n",
       "      <td>new madrid</td>\n",
       "      <td>NaN</td>\n",
       "      <td>NaN</td>\n",
       "      <td>MO</td>\n",
       "      <td>Southeast (non-ISO)</td>\n",
       "      <td>Network</td>\n",
       "      <td>New Madrid - Essex 345kV</td>\n",
       "      <td>10/31/2024</td>\n",
       "      <td>2024.0</td>\n",
       "      <td>Withdrawn</td>\n",
       "      <td>Withdrawn</td>\n",
       "      <td>Solar</td>\n",
       "      <td>Solar</td>\n",
       "      <td>NaN</td>\n",
       "      <td>NaN</td>\n",
       "      <td>350.0</td>\n",
       "      <td>NaN</td>\n",
       "      <td>NaN</td>\n",
       "    </tr>\n",
       "    <tr>\n",
       "      <th>1</th>\n",
       "      <td>GIA-40</td>\n",
       "      <td>active</td>\n",
       "      <td>10/24/2009</td>\n",
       "      <td>2009.0</td>\n",
       "      <td>NaN</td>\n",
       "      <td>AEC</td>\n",
       "      <td>NaN</td>\n",
       "      <td>NaN</td>\n",
       "      <td>AEC</td>\n",
       "      <td>new madrid</td>\n",
       "      <td>NaN</td>\n",
       "      <td>NaN</td>\n",
       "      <td>MO</td>\n",
       "      <td>Southeast (non-ISO)</td>\n",
       "      <td>Network Resource</td>\n",
       "      <td>NM Switchyard (345 kV Bus)</td>\n",
       "      <td>11/1/2011</td>\n",
       "      <td>2011.0</td>\n",
       "      <td>Upgrade Approved</td>\n",
       "      <td>IA Executed</td>\n",
       "      <td>Coal</td>\n",
       "      <td>Coal</td>\n",
       "      <td>NaN</td>\n",
       "      <td>NaN</td>\n",
       "      <td>20.0</td>\n",
       "      <td>NaN</td>\n",
       "      <td>NaN</td>\n",
       "    </tr>\n",
       "  </tbody>\n",
       "</table>\n",
       "</div>"
      ],
      "text/plain": [
       "  queue_id queue_status  queue_date  queue_year interconnection_date entity project_name developer utility    county_1 county_2 county_3 raw_state_name               region interconnection_service_type    point_of_interconnection date_proposed  year_proposed interconnection_status_raw interconnection_status_lbnl resource_type_lbnl resource_type_1 resource_type_2 resource_type_3  capacity_mw_resource_1  capacity_mw_resource_2  capacity_mw_resource_3\n",
       "0   GIA-97    withdrawn    1/7/2022      2022.0                  NaN    AEC          NaN       NaN     AEC  new madrid      NaN      NaN             MO  Southeast (non-ISO)                     Network     New Madrid - Essex 345kV    10/31/2024         2024.0                  Withdrawn                   Withdrawn              Solar           Solar             NaN             NaN                   350.0                     NaN                     NaN\n",
       "1   GIA-40       active  10/24/2009      2009.0                  NaN    AEC          NaN       NaN     AEC  new madrid      NaN      NaN             MO  Southeast (non-ISO)             Network Resource  NM Switchyard (345 kV Bus)     11/1/2011         2011.0           Upgrade Approved                 IA Executed               Coal            Coal             NaN             NaN                    20.0                     NaN                     NaN"
      ]
     },
     "execution_count": 4,
     "metadata": {},
     "output_type": "execute_result"
    }
   ],
   "source": [
    "lbnl.head(2)\n"
   ]
  },
  {
   "cell_type": "markdown",
   "metadata": {},
   "source": [
    "### GridStatus Queues"
   ]
  },
  {
   "cell_type": "code",
   "execution_count": 12,
   "metadata": {
    "collapsed": true,
    "jupyter": {
     "outputs_hidden": true
    },
    "tags": []
   },
   "outputs": [
    {
     "name": "stdout",
     "output_type": "stream",
     "text": [
      "Please visit this URL to authorize this application: https://accounts.google.com/o/oauth2/auth?response_type=code&client_id=262006177488-ka1m0ue4fptfmt9siejdd5lom7p39upa.apps.googleusercontent.com&redirect_uri=https%3A%2F%2Fpydata-google-auth.readthedocs.io%2Fen%2Flatest%2Foauth.html&scope=https%3A%2F%2Fwww.googleapis.com%2Fauth%2Fcloud-platform&state=kMUNP02mhP8Ixt4f2otfoYP8bYPJxh&access_type=offline\n"
     ]
    },
    {
     "ename": "KeyboardInterrupt",
     "evalue": "Interrupted by user",
     "output_type": "error",
     "traceback": [
      "\u001b[0;31m---------------------------------------------------------------------------\u001b[0m",
      "\u001b[0;31mKeyboardInterrupt\u001b[0m                         Traceback (most recent call last)",
      "Cell \u001b[0;32mIn[12], line 14\u001b[0m\n\u001b[1;32m      3\u001b[0m \u001b[38;5;66;03m# These are the revision numbers of the oldest archives we have\u001b[39;00m\n\u001b[1;32m      4\u001b[0m iso_queue_versions: \u001b[38;5;28mdict\u001b[39m[\u001b[38;5;28mstr\u001b[39m, \u001b[38;5;28mstr\u001b[39m] \u001b[38;5;241m=\u001b[39m {\n\u001b[1;32m      5\u001b[0m     \u001b[38;5;124m\"\u001b[39m\u001b[38;5;124mmiso\u001b[39m\u001b[38;5;124m\"\u001b[39m: \u001b[38;5;124m\"\u001b[39m\u001b[38;5;124m1681775160487863\u001b[39m\u001b[38;5;124m\"\u001b[39m,\n\u001b[1;32m      6\u001b[0m     \u001b[38;5;124m\"\u001b[39m\u001b[38;5;124mcaiso\u001b[39m\u001b[38;5;124m\"\u001b[39m: \u001b[38;5;124m\"\u001b[39m\u001b[38;5;124m1681775162586588\u001b[39m\u001b[38;5;124m\"\u001b[39m,\n\u001b[0;32m   (...)\u001b[0m\n\u001b[1;32m     11\u001b[0m     \u001b[38;5;124m\"\u001b[39m\u001b[38;5;124misone\u001b[39m\u001b[38;5;124m\"\u001b[39m: \u001b[38;5;124m\"\u001b[39m\u001b[38;5;124m1681775162111351\u001b[39m\u001b[38;5;124m\"\u001b[39m,\n\u001b[1;32m     12\u001b[0m }\n\u001b[0;32m---> 14\u001b[0m gs_dfs \u001b[38;5;241m=\u001b[39m \u001b[43mdbcp\u001b[49m\u001b[38;5;241;43m.\u001b[39;49m\u001b[43mextract\u001b[49m\u001b[38;5;241;43m.\u001b[39;49m\u001b[43mgridstatus_isoqueues\u001b[49m\u001b[38;5;241;43m.\u001b[39;49m\u001b[43mextract\u001b[49m\u001b[43m(\u001b[49m\u001b[43miso_queue_versions\u001b[49m\u001b[43m)\u001b[49m\n",
      "File \u001b[0;32m~/dbcp/extract/gridstatus_isoqueues.py:33\u001b[0m, in \u001b[0;36mextract\u001b[0;34m(iso_queue_versions)\u001b[0m\n\u001b[1;32m     31\u001b[0m \u001b[38;5;250m\u001b[39m\u001b[38;5;124;03m\"\"\"Extract gridstatus ISO Queue data.\"\"\"\u001b[39;00m\n\u001b[1;32m     32\u001b[0m iso_queues: \u001b[38;5;28mdict\u001b[39m[\u001b[38;5;28mstr\u001b[39m, pd\u001b[38;5;241m.\u001b[39mDataFrame] \u001b[38;5;241m=\u001b[39m {}\n\u001b[0;32m---> 33\u001b[0m credentials \u001b[38;5;241m=\u001b[39m \u001b[43mdbcp\u001b[49m\u001b[38;5;241;43m.\u001b[39;49m\u001b[43mextract\u001b[49m\u001b[38;5;241;43m.\u001b[39;49m\u001b[43mhelpers\u001b[49m\u001b[38;5;241;43m.\u001b[39;49m\u001b[43mget_gcp_credentials\u001b[49m\u001b[43m(\u001b[49m\u001b[43m)\u001b[49m\n\u001b[1;32m     34\u001b[0m \u001b[38;5;28;01mfor\u001b[39;00m iso, revision_num \u001b[38;5;129;01min\u001b[39;00m iso_queue_versions\u001b[38;5;241m.\u001b[39mitems():\n\u001b[1;32m     35\u001b[0m     uri \u001b[38;5;241m=\u001b[39m \u001b[38;5;124mf\u001b[39m\u001b[38;5;124m\"\u001b[39m\u001b[38;5;124mgs://gridstatus-archive/interconnection_queues/\u001b[39m\u001b[38;5;132;01m{\u001b[39;00miso\u001b[38;5;132;01m}\u001b[39;00m\u001b[38;5;124m.parquet\u001b[39m\u001b[38;5;124m\"\u001b[39m\n",
      "File \u001b[0;32m~/dbcp/extract/helpers.py:18\u001b[0m, in \u001b[0;36mget_gcp_credentials\u001b[0;34m()\u001b[0m\n\u001b[1;32m     14\u001b[0m \u001b[38;5;250m\u001b[39m\u001b[38;5;124;03m\"\"\"Get GCP credentials via pydata oauth workflow.\"\"\"\u001b[39;00m\n\u001b[1;32m     15\u001b[0m SCOPES \u001b[38;5;241m=\u001b[39m [\n\u001b[1;32m     16\u001b[0m     \u001b[38;5;124m\"\u001b[39m\u001b[38;5;124mhttps://www.googleapis.com/auth/cloud-platform\u001b[39m\u001b[38;5;124m\"\u001b[39m,\n\u001b[1;32m     17\u001b[0m ]\n\u001b[0;32m---> 18\u001b[0m \u001b[38;5;28;01mreturn\u001b[39;00m \u001b[43mpydata_google_auth\u001b[49m\u001b[38;5;241;43m.\u001b[39;49m\u001b[43mget_user_credentials\u001b[49m\u001b[43m(\u001b[49m\u001b[43mSCOPES\u001b[49m\u001b[43m,\u001b[49m\u001b[43m \u001b[49m\u001b[43muse_local_webserver\u001b[49m\u001b[38;5;241;43m=\u001b[39;49m\u001b[38;5;28;43;01mFalse\u001b[39;49;00m\u001b[43m)\u001b[49m\n",
      "File \u001b[0;32m~/.local/lib/python3.10/site-packages/pydata_google_auth/auth.py:333\u001b[0m, in \u001b[0;36mget_user_credentials\u001b[0;34m(scopes, client_id, client_secret, credentials_cache, use_local_webserver, auth_local_webserver, redirect_uri)\u001b[0m\n\u001b[1;32m    331\u001b[0m         credentials \u001b[38;5;241m=\u001b[39m _webserver\u001b[38;5;241m.\u001b[39mrun_local_server(app_flow)\n\u001b[1;32m    332\u001b[0m     \u001b[38;5;28;01melse\u001b[39;00m:\n\u001b[0;32m--> 333\u001b[0m         credentials \u001b[38;5;241m=\u001b[39m \u001b[43m_run_webapp\u001b[49m\u001b[43m(\u001b[49m\u001b[43mapp_flow\u001b[49m\u001b[43m,\u001b[49m\u001b[43m \u001b[49m\u001b[43mredirect_uri\u001b[49m\u001b[38;5;241;43m=\u001b[39;49m\u001b[43mredirect_uri\u001b[49m\u001b[43m)\u001b[49m\n\u001b[1;32m    335\u001b[0m \u001b[38;5;28;01mexcept\u001b[39;00m oauthlib\u001b[38;5;241m.\u001b[39moauth2\u001b[38;5;241m.\u001b[39mrfc6749\u001b[38;5;241m.\u001b[39merrors\u001b[38;5;241m.\u001b[39mOAuth2Error \u001b[38;5;28;01mas\u001b[39;00m exc:\n\u001b[1;32m    336\u001b[0m     \u001b[38;5;28;01mraise\u001b[39;00m exceptions\u001b[38;5;241m.\u001b[39mPyDataCredentialsError(\n\u001b[1;32m    337\u001b[0m         \u001b[38;5;124m\"\u001b[39m\u001b[38;5;124mUnable to get valid credentials: \u001b[39m\u001b[38;5;132;01m{}\u001b[39;00m\u001b[38;5;124m\"\u001b[39m\u001b[38;5;241m.\u001b[39mformat(exc)\n\u001b[1;32m    338\u001b[0m     )\n",
      "File \u001b[0;32m~/.local/lib/python3.10/site-packages/pydata_google_auth/auth.py:52\u001b[0m, in \u001b[0;36m_run_webapp\u001b[0;34m(flow, redirect_uri, **kwargs)\u001b[0m\n\u001b[1;32m     48\u001b[0m     \u001b[38;5;28mprint\u001b[39m(authorization_prompt_message\u001b[38;5;241m.\u001b[39mformat(url\u001b[38;5;241m=\u001b[39mauth_url))\n\u001b[1;32m     50\u001b[0m authorization_code_message \u001b[38;5;241m=\u001b[39m \u001b[38;5;124m\"\u001b[39m\u001b[38;5;124mEnter the authorization code: \u001b[39m\u001b[38;5;124m\"\u001b[39m\n\u001b[0;32m---> 52\u001b[0m code \u001b[38;5;241m=\u001b[39m \u001b[38;5;28;43minput\u001b[39;49m\u001b[43m(\u001b[49m\u001b[43mauthorization_code_message\u001b[49m\u001b[43m)\u001b[49m\n\u001b[1;32m     53\u001b[0m flow\u001b[38;5;241m.\u001b[39mfetch_token(code\u001b[38;5;241m=\u001b[39mcode)\n\u001b[1;32m     54\u001b[0m \u001b[38;5;28;01mreturn\u001b[39;00m flow\u001b[38;5;241m.\u001b[39mcredentials\n",
      "File \u001b[0;32m~/.local/lib/python3.10/site-packages/ipykernel/kernelbase.py:1202\u001b[0m, in \u001b[0;36mKernel.raw_input\u001b[0;34m(self, prompt)\u001b[0m\n\u001b[1;32m   1200\u001b[0m     msg \u001b[38;5;241m=\u001b[39m \u001b[38;5;124m\"\u001b[39m\u001b[38;5;124mraw_input was called, but this frontend does not support input requests.\u001b[39m\u001b[38;5;124m\"\u001b[39m\n\u001b[1;32m   1201\u001b[0m     \u001b[38;5;28;01mraise\u001b[39;00m StdinNotImplementedError(msg)\n\u001b[0;32m-> 1202\u001b[0m \u001b[38;5;28;01mreturn\u001b[39;00m \u001b[38;5;28;43mself\u001b[39;49m\u001b[38;5;241;43m.\u001b[39;49m\u001b[43m_input_request\u001b[49m\u001b[43m(\u001b[49m\n\u001b[1;32m   1203\u001b[0m \u001b[43m    \u001b[49m\u001b[38;5;28;43mstr\u001b[39;49m\u001b[43m(\u001b[49m\u001b[43mprompt\u001b[49m\u001b[43m)\u001b[49m\u001b[43m,\u001b[49m\n\u001b[1;32m   1204\u001b[0m \u001b[43m    \u001b[49m\u001b[38;5;28;43mself\u001b[39;49m\u001b[38;5;241;43m.\u001b[39;49m\u001b[43m_parent_ident\u001b[49m\u001b[43m[\u001b[49m\u001b[38;5;124;43m\"\u001b[39;49m\u001b[38;5;124;43mshell\u001b[39;49m\u001b[38;5;124;43m\"\u001b[39;49m\u001b[43m]\u001b[49m\u001b[43m,\u001b[49m\n\u001b[1;32m   1205\u001b[0m \u001b[43m    \u001b[49m\u001b[38;5;28;43mself\u001b[39;49m\u001b[38;5;241;43m.\u001b[39;49m\u001b[43mget_parent\u001b[49m\u001b[43m(\u001b[49m\u001b[38;5;124;43m\"\u001b[39;49m\u001b[38;5;124;43mshell\u001b[39;49m\u001b[38;5;124;43m\"\u001b[39;49m\u001b[43m)\u001b[49m\u001b[43m,\u001b[49m\n\u001b[1;32m   1206\u001b[0m \u001b[43m    \u001b[49m\u001b[43mpassword\u001b[49m\u001b[38;5;241;43m=\u001b[39;49m\u001b[38;5;28;43;01mFalse\u001b[39;49;00m\u001b[43m,\u001b[49m\n\u001b[1;32m   1207\u001b[0m \u001b[43m\u001b[49m\u001b[43m)\u001b[49m\n",
      "File \u001b[0;32m~/.local/lib/python3.10/site-packages/ipykernel/kernelbase.py:1245\u001b[0m, in \u001b[0;36mKernel._input_request\u001b[0;34m(self, prompt, ident, parent, password)\u001b[0m\n\u001b[1;32m   1242\u001b[0m \u001b[38;5;28;01mexcept\u001b[39;00m \u001b[38;5;167;01mKeyboardInterrupt\u001b[39;00m:\n\u001b[1;32m   1243\u001b[0m     \u001b[38;5;66;03m# re-raise KeyboardInterrupt, to truncate traceback\u001b[39;00m\n\u001b[1;32m   1244\u001b[0m     msg \u001b[38;5;241m=\u001b[39m \u001b[38;5;124m\"\u001b[39m\u001b[38;5;124mInterrupted by user\u001b[39m\u001b[38;5;124m\"\u001b[39m\n\u001b[0;32m-> 1245\u001b[0m     \u001b[38;5;28;01mraise\u001b[39;00m \u001b[38;5;167;01mKeyboardInterrupt\u001b[39;00m(msg) \u001b[38;5;28;01mfrom\u001b[39;00m \u001b[38;5;28;01mNone\u001b[39;00m\n\u001b[1;32m   1246\u001b[0m \u001b[38;5;28;01mexcept\u001b[39;00m \u001b[38;5;167;01mException\u001b[39;00m:\n\u001b[1;32m   1247\u001b[0m     \u001b[38;5;28mself\u001b[39m\u001b[38;5;241m.\u001b[39mlog\u001b[38;5;241m.\u001b[39mwarning(\u001b[38;5;124m\"\u001b[39m\u001b[38;5;124mInvalid Message:\u001b[39m\u001b[38;5;124m\"\u001b[39m, exc_info\u001b[38;5;241m=\u001b[39m\u001b[38;5;28;01mTrue\u001b[39;00m)\n",
      "\u001b[0;31mKeyboardInterrupt\u001b[0m: Interrupted by user"
     ]
    }
   ],
   "source": [
    "import dbcp\n",
    "\n",
    "# These are the revision numbers of the oldest archives we have\n",
    "iso_queue_versions: dict[str, str] = {\n",
    "    \"miso\": \"1681775160487863\",\n",
    "    \"caiso\": \"1681775162586588\",\n",
    "    \"pjm\": \"1681775160979859\",\n",
    "    \"ercot\": \"1681775161342766\",\n",
    "    \"spp\": \"1681775162935809\",\n",
    "    \"nyiso\": \"1681775159356063\",\n",
    "    \"isone\": \"1681775162111351\",\n",
    "}\n",
    "\n",
    "gs_dfs = dbcp.extract.gridstatus_isoqueues.extract(iso_queue_versions)"
   ]
  },
  {
   "cell_type": "code",
   "execution_count": 13,
   "metadata": {},
   "outputs": [
    {
     "data": {
      "text/plain": [
       "{'miso': (4253, 31),\n",
       " 'caiso': (2278, 36),\n",
       " 'pjm': (9030, 37),\n",
       " 'ercot': (1203, 35),\n",
       " 'spp': (950, 24),\n",
       " 'nyiso': (1535, 24),\n",
       " 'isone': (1533, 31)}"
      ]
     },
     "execution_count": 13,
     "metadata": {},
     "output_type": "execute_result"
    }
   ],
   "source": [
    "{k: v.shape for k, v in gs_dfs.items()}"
   ]
  },
  {
   "cell_type": "code",
   "execution_count": 14,
   "metadata": {},
   "outputs": [],
   "source": [
    "# # These are manually downloaded from our archives. I went back as far as I could,\n",
    "# # which is April 17 2023.\n",
    "# # There is a 3.5 month gap between the LBNL queues and our oldest GridStatus archive.\n",
    "# root_path = Path(\"/app/data/raw/gridstatus/interconnection_queues\")\n",
    "# assert root_path.exists()\n",
    "# # filenames are like \"interconnection_queues_caiso_4-17-2023.parquet\"\n",
    "# gs_dfs = {\n",
    "#     path.name.split(\"_\")[2]: pd.read_parquet(path)\n",
    "#     for path in root_path.glob(\"*.parquet\")\n",
    "# }\n",
    "# {k: v.shape for k, v in gs_dfs.items()}\n"
   ]
  },
  {
   "cell_type": "code",
   "execution_count": 15,
   "metadata": {},
   "outputs": [
    {
     "data": {
      "text/plain": [
       "-8251"
      ]
     },
     "execution_count": 15,
     "metadata": {},
     "output_type": "execute_result"
    }
   ],
   "source": [
    "# wayyy fewer items in GridStatus than LBNL.\n",
    "sum([v.shape[0] for v in gs_dfs.values()]) - lbnl.shape[0]\n"
   ]
  },
  {
   "cell_type": "code",
   "execution_count": 16,
   "metadata": {},
   "outputs": [
    {
     "data": {
      "text/plain": [
       "PJM                    7738\n",
       "West (non-ISO)         6610\n",
       "MISO                   4071\n",
       "Southeast (non-ISO)    3070\n",
       "CAISO                  2274\n",
       "ERCOT                  1952\n",
       "NYISO                  1260\n",
       "ISO-NE                 1255\n",
       "SPP                     802\n",
       "Name: region, dtype: int64"
      ]
     },
     "execution_count": 16,
     "metadata": {},
     "output_type": "execute_result"
    }
   ],
   "source": [
    "lbnl.region.value_counts()"
   ]
  },
  {
   "cell_type": "code",
   "execution_count": 17,
   "metadata": {},
   "outputs": [],
   "source": [
    "lbnl_iso = lbnl[~lbnl[\"region\"].str.contains(\"non-ISO\", na=False)].copy()"
   ]
  },
  {
   "cell_type": "code",
   "execution_count": 18,
   "metadata": {},
   "outputs": [
    {
     "data": {
      "text/plain": [
       "1429"
      ]
     },
     "execution_count": 18,
     "metadata": {},
     "output_type": "execute_result"
    }
   ],
   "source": [
    "sum([v.shape[0] for v in gs_dfs.values()]) - lbnl_iso.shape[0]"
   ]
  },
  {
   "cell_type": "markdown",
   "metadata": {},
   "source": [
    "Gridstatus has more ISO projects"
   ]
  },
  {
   "cell_type": "code",
   "execution_count": 19,
   "metadata": {},
   "outputs": [],
   "source": [
    "# globals().update(gs_dfs)  # this works fine but the static type checker/linter can't introspect it.\n",
    "raw_ercot = gs_dfs[\"ercot\"]\n",
    "raw_nyiso = gs_dfs[\"nyiso\"]\n",
    "raw_isone = gs_dfs[\"isone\"]\n",
    "raw_miso = gs_dfs[\"miso\"]\n",
    "raw_pjm = gs_dfs[\"pjm\"]\n",
    "raw_spp = gs_dfs[\"spp\"]\n",
    "raw_caiso = gs_dfs[\"caiso\"]\n"
   ]
  },
  {
   "cell_type": "code",
   "execution_count": 20,
   "metadata": {},
   "outputs": [],
   "source": [
    "LBNL_JOIN_COLS = [\n",
    "    \"queue_id\",  # join key\n",
    "    \"project_name\",  # for manually checking the joins\n",
    "    \"queue_date\",  # for manually checking the joins\n",
    "    \"queue_status\",  # for manually checking the joins\n",
    "    \"interconnection_status_raw\",  # see what LBNL interpreted\n",
    "    \"interconnection_status_lbnl\",  # final mapping value\n",
    "    \"capacity_mw_resource_1\",\n",
    "    \"resource_type_1\"\n",
    "    \n",
    "]\n",
    "\n",
    "\n",
    "def join_lbnl(\n",
    "    iso_df: pd.DataFrame, lbnl: pd.DataFrame, iso_name: str, iso_id_col=\"Queue ID\"\n",
    ") -> pd.DataFrame:\n",
    "    \"\"\"Join LBNL queue data to GridStatus queue data.\"\"\"\n",
    "    assert iso_df[iso_id_col].is_unique, \"ID column not unique\"\n",
    "    lbnl_iso = lbnl.loc[lbnl[\"entity\"].eq(iso_name), LBNL_JOIN_COLS]\n",
    "    assert not lbnl_iso.empty, f\"Empty LBNL queue for {iso_name}\"\n",
    "    assert lbnl_iso[\"queue_id\"].is_unique, \"LBNL queue ID not unique\"\n",
    "    out = iso_df.merge(lbnl_iso, how=\"outer\", left_on=iso_id_col, right_on=\"queue_id\")\n",
    "    out[\"in_lbnl\"] = ~out[\"queue_id\"].isna()\n",
    "    out[\"in_gs\"] = ~out[iso_id_col].isna()\n",
    "    return out\n"
   ]
  },
  {
   "cell_type": "markdown",
   "metadata": {
    "tags": []
   },
   "source": [
    "## Comparisons\n",
    "### ERCOT\n",
    "* ERCOT's queue document has separate excel sheets for large and small (< 20MW) projects, and does not list withdrawn projects. GridStatus only includes large projects, whereas LBNL data includes the other categories. I'm not sure where LBNL gets the withdrawn projects from.\n",
    "  * We might be able to maintain a withdrawn list by 1) getting all the current withdrawn projects from the LBNL data, then 2) loading all the archived GridStatus ERCOT queues and checking for any projects that enter then exit the list. But I don't think we actually need a withdrawn list?\n",
    "* GridStatus defines \"status\" as \"IA Signed\".isna(). LBNL calls the entire \"large active\" dataset \"active\"."
   ]
  },
  {
   "cell_type": "code",
   "execution_count": 243,
   "metadata": {},
   "outputs": [
    {
     "data": {
      "text/plain": [
       "Index(['Queue ID', 'Project Name', 'Interconnecting Entity', 'County', 'State', 'Interconnection Location', 'Transmission Owner', 'Generation Type', 'Capacity (MW)', 'Summer Capacity (MW)', 'Winter Capacity (MW)', 'Queue Date', 'Status', 'Proposed Completion Date', 'Withdrawn Date', 'Withdrawal Comment', 'Actual Completion Date', 'Fuel', 'Technology', 'GIM Study Phase', 'Screening Study Started', 'Screening Study Complete', 'FIS Requested', 'FIS Approved', 'Economic Study Required', 'IA Signed', 'Air Permit', 'GHG Permit', 'Water Availability', 'Meets Planning', 'Meets All Planning', 'CDR Reporting Zone', 'Approved for Energization', 'Approved for Synchronization', 'Comment'], dtype='object')"
      ]
     },
     "execution_count": 243,
     "metadata": {},
     "output_type": "execute_result"
    }
   ],
   "source": [
    "raw_ercot.columns\n"
   ]
  },
  {
   "cell_type": "code",
   "execution_count": 244,
   "metadata": {},
   "outputs": [
    {
     "name": "stdout",
     "output_type": "stream",
     "text": [
      "<class 'pandas.core.frame.DataFrame'>\n",
      "Int64Index: 2273 entries, 0 to 2272\n",
      "Data columns (total 45 columns):\n",
      " #   Column                        Non-Null Count  Dtype         \n",
      "---  ------                        --------------  -----         \n",
      " 0   Queue ID                      1203 non-null   object        \n",
      " 1   Project Name                  1203 non-null   object        \n",
      " 2   Interconnecting Entity        1203 non-null   object        \n",
      " 3   County                        1203 non-null   object        \n",
      " 4   State                         1203 non-null   object        \n",
      " 5   Interconnection Location      1203 non-null   object        \n",
      " 6   Transmission Owner            0 non-null      object        \n",
      " 7   Generation Type               1203 non-null   object        \n",
      " 8   Capacity (MW)                 1203 non-null   float64       \n",
      " 9   Summer Capacity (MW)          0 non-null      object        \n",
      " 10  Winter Capacity (MW)          0 non-null      object        \n",
      " 11  Queue Date                    1193 non-null   datetime64[ns]\n",
      " 12  Status                        1203 non-null   object        \n",
      " 13  Proposed Completion Date      1203 non-null   datetime64[ns]\n",
      " 14  Withdrawn Date                0 non-null      object        \n",
      " 15  Withdrawal Comment            0 non-null      object        \n",
      " 16  Actual Completion Date        84 non-null     datetime64[ns]\n",
      " 17  Fuel                          1203 non-null   object        \n",
      " 18  Technology                    1203 non-null   object        \n",
      " 19  GIM Study Phase               1203 non-null   object        \n",
      " 20  Screening Study Started       1193 non-null   datetime64[ns]\n",
      " 21  Screening Study Complete      1113 non-null   datetime64[ns]\n",
      " 22  FIS Requested                 1148 non-null   datetime64[ns]\n",
      " 23  FIS Approved                  299 non-null    datetime64[ns]\n",
      " 24  Economic Study Required       338 non-null    object        \n",
      " 25  IA Signed                     320 non-null    datetime64[ns]\n",
      " 26  Air Permit                    469 non-null    string        \n",
      " 27  GHG Permit                    465 non-null    object        \n",
      " 28  Water Availability            1174 non-null   string        \n",
      " 29  Meets Planning                215 non-null    datetime64[ns]\n",
      " 30  Meets All Planning            160 non-null    datetime64[ns]\n",
      " 31  CDR Reporting Zone            1203 non-null   object        \n",
      " 32  Approved for Energization     75 non-null     datetime64[ns]\n",
      " 33  Approved for Synchronization  84 non-null     datetime64[ns]\n",
      " 34  Comment                       4 non-null      object        \n",
      " 35  queue_id                      1952 non-null   object        \n",
      " 36  project_name                  1952 non-null   object        \n",
      " 37  queue_date                    1949 non-null   object        \n",
      " 38  queue_status                  1952 non-null   object        \n",
      " 39  interconnection_status_raw    1952 non-null   object        \n",
      " 40  interconnection_status_lbnl   1952 non-null   object        \n",
      " 41  capacity_mw_resource_1        1952 non-null   float64       \n",
      " 42  resource_type_1               1952 non-null   object        \n",
      " 43  in_lbnl                       2273 non-null   bool          \n",
      " 44  in_gs                         2273 non-null   bool          \n",
      "dtypes: bool(2), datetime64[ns](12), float64(2), object(27), string(2)\n",
      "memory usage: 785.8+ KB\n"
     ]
    }
   ],
   "source": [
    "ercot = join_lbnl(raw_ercot, lbnl, \"ERCOT\")\n",
    "ercot.info()\n"
   ]
  },
  {
   "cell_type": "code",
   "execution_count": 245,
   "metadata": {},
   "outputs": [
    {
     "data": {
      "text/plain": [
       "in_gs  in_lbnl\n",
       "False  True       1070\n",
       "True   True        882\n",
       "       False       321\n",
       "dtype: int64"
      ]
     },
     "execution_count": 245,
     "metadata": {},
     "output_type": "execute_result"
    }
   ],
   "source": [
    "ercot[[\"in_gs\", \"in_lbnl\"]].value_counts(dropna=False)\n"
   ]
  },
  {
   "cell_type": "markdown",
   "metadata": {
    "tags": []
   },
   "source": [
    "#### Compare total capacity for projects in both"
   ]
  },
  {
   "cell_type": "code",
   "execution_count": 246,
   "metadata": {
    "tags": []
   },
   "outputs": [
    {
     "name": "stdout",
     "output_type": "stream",
     "text": [
      "GS Capacity for projects in GS and LBNL: 182416.3\n",
      "LBNL Capacity for project in GS and LBNL: 180467.1\n",
      "Ratio of LBNL to GS Capacity for project in GS and LBNL: 0.9893145513860331\n"
     ]
    }
   ],
   "source": [
    "both_ercot = ercot[ercot.in_lbnl & ercot.in_gs]\n",
    "\n",
    "compare_capacity(both_ercot)"
   ]
  },
  {
   "cell_type": "markdown",
   "metadata": {
    "tags": []
   },
   "source": [
    "#### Compare total capacity for **active** projects in both"
   ]
  },
  {
   "cell_type": "code",
   "execution_count": 248,
   "metadata": {},
   "outputs": [
    {
     "data": {
      "text/plain": [
       "Status     queue_status\n",
       "NaN        withdrawn       736\n",
       "Active     active          599\n",
       "NaN        operational     313\n",
       "Active     NaN             284\n",
       "Completed  active          282\n",
       "           NaN              37\n",
       "NaN        active           21\n",
       "Completed  operational       1\n",
       "dtype: int64"
      ]
     },
     "execution_count": 248,
     "metadata": {},
     "output_type": "execute_result"
    }
   ],
   "source": [
    "ercot[[\"Status\", \"queue_status\"]].value_counts(dropna=False)"
   ]
  },
  {
   "cell_type": "code",
   "execution_count": 250,
   "metadata": {},
   "outputs": [
    {
     "name": "stdout",
     "output_type": "stream",
     "text": [
      "GS Capacity for projects in GS and LBNL: 125563.82\n",
      "LBNL Capacity for project in GS and LBNL: 125430.0\n",
      "Ratio of LBNL to GS Capacity for project in GS and LBNL: 0.9989342471422101\n"
     ]
    }
   ],
   "source": [
    "ercot_active_in_both = ercot[ercot[\"queue_status\"].eq(\"active\") & ercot[\"Status\"].eq(\"Active\")]\n",
    "compare_capacity(ercot_active_in_both)"
   ]
  },
  {
   "cell_type": "markdown",
   "metadata": {},
   "source": [
    "Very little mismatching in status columns and capacities look good for projects that are active in both. There a few dozen lbnl active projects that are withdrawn or completed in GS."
   ]
  },
  {
   "cell_type": "markdown",
   "metadata": {},
   "source": [
    "#### Compare total capacity for all projects"
   ]
  },
  {
   "cell_type": "code",
   "execution_count": 251,
   "metadata": {},
   "outputs": [
    {
     "name": "stdout",
     "output_type": "stream",
     "text": [
      "Ratio of total LBNL capacity to total GS capacity 1.8563902566295587\n",
      "Ratio of total LBNL project to total GS projects 1.622610141313383\n"
     ]
    }
   ],
   "source": [
    "gs_capacities = ercot[ercot.in_gs][\"Capacity (MW)\"]\n",
    "lbnl_capacities = ercot[ercot.in_lbnl][\"capacity_mw_resource_1\"]\n",
    "\n",
    "print(f\"Ratio of total LBNL capacity to total GS capacity {lbnl_capacities.sum() / gs_capacities.sum()}\")\n",
    "print(f\"Ratio of total LBNL project to total GS projects {len(lbnl_capacities) / len(gs_capacities)}\")"
   ]
  },
  {
   "cell_type": "markdown",
   "metadata": {},
   "source": [
    "Where is LBNL getting historic queue data from?"
   ]
  },
  {
   "cell_type": "code",
   "execution_count": 253,
   "metadata": {},
   "outputs": [
    {
     "data": {
      "text/plain": [
       "active         902\n",
       "withdrawn      736\n",
       "operational    314\n",
       "Name: queue_status, dtype: int64"
      ]
     },
     "execution_count": 253,
     "metadata": {},
     "output_type": "execute_result"
    }
   ],
   "source": [
    "ercot[\"queue_status\"].value_counts()"
   ]
  },
  {
   "cell_type": "code",
   "execution_count": 259,
   "metadata": {},
   "outputs": [
    {
     "data": {
      "text/plain": [
       "<AxesSubplot: ylabel='Frequency'>"
      ]
     },
     "execution_count": 259,
     "metadata": {},
     "output_type": "execute_result"
    },
    {
     "data": {
      "image/png": "[encoded data removed]",
      "text/plain": [
       "<Figure size 640x480 with 1 Axes>"
      ]
     },
     "metadata": {},
     "output_type": "display_data"
    }
   ],
   "source": [
    "pd.to_datetime(ercot[ercot[\"queue_status\"].eq(\"withdrawn\")][\"queue_date\"]).dt.year.plot.hist()"
   ]
  },
  {
   "cell_type": "markdown",
   "metadata": {},
   "source": [
    "The [ISO Queue sheet](https://www.ercot.com/misdownload/servlets/mirDownload?doclookupId=955158734') Grid Status uses has an Inactive sheet that only goes back to about 2019. "
   ]
  },
  {
   "cell_type": "markdown",
   "metadata": {},
   "source": [
    "### NYISO\n",
    "\n",
    "* LBNL appears to have used the column labeled `S`, which is an ordinal status number corresponding to NYISO's LFIP. Key:\n",
    "  * 0=Withdrawn\n",
    "  * 1=Scoping Meeting Pending\n",
    "  * 2=FES Pending\n",
    "  * 3=FES in Progress\n",
    "  * 4=SRIS/SIS Pending\n",
    "  * 5=SRIS/SIS in Progress\n",
    "  * 6=SRIS/SIS Approved\n",
    "  * 7=FS Pending\n",
    "  * 8=Rejected Cost Allocation/Next FS Pending\n",
    "  * 9=FS in Progress\n",
    "  * 10=Accepted Cost Allocation/IA in Progress\n",
    "  * 11=IA Completed\n",
    "  * 12=Under Construction\n",
    "  * 13=In Service for Test\n",
    "  * 14=In Service Commercial\n",
    "  * 15=Partial In-Service\n",
    "* Availability of Studies  Key: None=Not Available, FES=Feasibility Study Available, SRIS=System Reliability Impact Study Available, FS=Facilities Study and/or ATRA Available\n",
    "* CY Completion/SGIA Tender refers to the Attachment X milestone used to apply the 4-year COD limitation.\n"
   ]
  },
  {
   "cell_type": "code",
   "execution_count": 21,
   "metadata": {},
   "outputs": [
    {
     "data": {
      "text/plain": [
       "Index(['Queue ID', 'Project Name', 'Interconnecting Entity', 'County', 'State', 'Interconnection Location', 'Transmission Owner', 'Generation Type', 'Capacity (MW)', 'Summer Capacity (MW)', 'Winter Capacity (MW)', 'Queue Date', 'Status', 'Proposed Completion Date', 'Withdrawn Date', 'Withdrawal Comment', 'Actual Completion Date', 'Proposed  In-Service', 'Proposed Initial-Sync Date', 'Last Updated Date', 'Z', 'S', 'Availability of Studies', 'SGIA Tender Date'], dtype='object')"
      ]
     },
     "execution_count": 21,
     "metadata": {},
     "output_type": "execute_result"
    }
   ],
   "source": [
    "raw_nyiso.columns\n"
   ]
  },
  {
   "cell_type": "code",
   "execution_count": 22,
   "metadata": {},
   "outputs": [
    {
     "data": {
      "text/html": [
       "<div>\n",
       "<style scoped>\n",
       "    .dataframe tbody tr th:only-of-type {\n",
       "        vertical-align: middle;\n",
       "    }\n",
       "\n",
       "    .dataframe tbody tr th {\n",
       "        vertical-align: top;\n",
       "    }\n",
       "\n",
       "    .dataframe thead th {\n",
       "        text-align: right;\n",
       "    }\n",
       "</style>\n",
       "<table border=\"1\" class=\"dataframe\">\n",
       "  <thead>\n",
       "    <tr style=\"text-align: right;\">\n",
       "      <th></th>\n",
       "      <th>Queue ID</th>\n",
       "      <th>Project Name</th>\n",
       "      <th>Interconnecting Entity</th>\n",
       "      <th>County</th>\n",
       "      <th>State</th>\n",
       "      <th>Interconnection Location</th>\n",
       "      <th>Transmission Owner</th>\n",
       "      <th>Generation Type</th>\n",
       "      <th>Capacity (MW)</th>\n",
       "      <th>Summer Capacity (MW)</th>\n",
       "      <th>Winter Capacity (MW)</th>\n",
       "      <th>Queue Date</th>\n",
       "      <th>Status</th>\n",
       "      <th>Proposed Completion Date</th>\n",
       "      <th>Withdrawn Date</th>\n",
       "      <th>Withdrawal Comment</th>\n",
       "      <th>Actual Completion Date</th>\n",
       "      <th>Proposed  In-Service</th>\n",
       "      <th>Proposed Initial-Sync Date</th>\n",
       "      <th>Last Updated Date</th>\n",
       "      <th>Z</th>\n",
       "      <th>S</th>\n",
       "      <th>Availability of Studies</th>\n",
       "      <th>SGIA Tender Date</th>\n",
       "    </tr>\n",
       "  </thead>\n",
       "  <tbody>\n",
       "    <tr>\n",
       "      <th>5</th>\n",
       "      <td>0430</td>\n",
       "      <td>Cedar Rapids Transmission</td>\n",
       "      <td>None</td>\n",
       "      <td>St. Lawrence</td>\n",
       "      <td>NY</td>\n",
       "      <td>None</td>\n",
       "      <td>NM-NG</td>\n",
       "      <td>AC Transmission</td>\n",
       "      <td>0.0</td>\n",
       "      <td>&lt;NA&gt;</td>\n",
       "      <td>&lt;NA&gt;</td>\n",
       "      <td>2014-03-05</td>\n",
       "      <td>Active</td>\n",
       "      <td>NaT</td>\n",
       "      <td>&lt;NA&gt;</td>\n",
       "      <td>None</td>\n",
       "      <td>&lt;NA&gt;</td>\n",
       "      <td>NaT</td>\n",
       "      <td>NaT</td>\n",
       "      <td>12/31/2019</td>\n",
       "      <td>D</td>\n",
       "      <td>12.0</td>\n",
       "      <td>SIS, FS</td>\n",
       "      <td>None</td>\n",
       "    </tr>\n",
       "    <tr>\n",
       "      <th>626</th>\n",
       "      <td>0127A</td>\n",
       "      <td>Munnsville</td>\n",
       "      <td>Airtricity Munnsville Wind Farm, LLC</td>\n",
       "      <td>Madison</td>\n",
       "      <td>NY</td>\n",
       "      <td>46kV line</td>\n",
       "      <td>NYSEG</td>\n",
       "      <td>Wind</td>\n",
       "      <td>6.0</td>\n",
       "      <td>6</td>\n",
       "      <td>&lt;NA&gt;</td>\n",
       "      <td>2002-10-09</td>\n",
       "      <td>Withdrawn</td>\n",
       "      <td>NaT</td>\n",
       "      <td>2014-01-31 00:00:00</td>\n",
       "      <td>None</td>\n",
       "      <td>&lt;NA&gt;</td>\n",
       "      <td>NaT</td>\n",
       "      <td>NaT</td>\n",
       "      <td>&lt;NA&gt;</td>\n",
       "      <td>E</td>\n",
       "      <td>0</td>\n",
       "      <td>None</td>\n",
       "      <td>None</td>\n",
       "    </tr>\n",
       "    <tr>\n",
       "      <th>1442</th>\n",
       "      <td>0127A</td>\n",
       "      <td>Munnsville</td>\n",
       "      <td>None</td>\n",
       "      <td>Madison</td>\n",
       "      <td>NY</td>\n",
       "      <td>None</td>\n",
       "      <td>NYSEG</td>\n",
       "      <td>Wind</td>\n",
       "      <td>40.0</td>\n",
       "      <td>40.0</td>\n",
       "      <td>&lt;NA&gt;</td>\n",
       "      <td>2002-10-09</td>\n",
       "      <td>Completed</td>\n",
       "      <td>NaT</td>\n",
       "      <td>&lt;NA&gt;</td>\n",
       "      <td>None</td>\n",
       "      <td>3/31/13</td>\n",
       "      <td>NaT</td>\n",
       "      <td>NaT</td>\n",
       "      <td>3/31/13</td>\n",
       "      <td>E</td>\n",
       "      <td>11,14</td>\n",
       "      <td>SRIS, CY06</td>\n",
       "      <td>None</td>\n",
       "    </tr>\n",
       "    <tr>\n",
       "      <th>1517</th>\n",
       "      <td>0430</td>\n",
       "      <td>Cedar Rapids Transmission</td>\n",
       "      <td>None</td>\n",
       "      <td>St. Lawrence</td>\n",
       "      <td>NY</td>\n",
       "      <td>None</td>\n",
       "      <td>NM-NG</td>\n",
       "      <td>AC Transmission</td>\n",
       "      <td>0.0</td>\n",
       "      <td>&lt;NA&gt;</td>\n",
       "      <td>&lt;NA&gt;</td>\n",
       "      <td>2014-03-05</td>\n",
       "      <td>Completed</td>\n",
       "      <td>NaT</td>\n",
       "      <td>&lt;NA&gt;</td>\n",
       "      <td>None</td>\n",
       "      <td>2022-03-31 00:00:00</td>\n",
       "      <td>NaT</td>\n",
       "      <td>2021-10-01</td>\n",
       "      <td>2022-03-31 00:00:00</td>\n",
       "      <td>D</td>\n",
       "      <td>14</td>\n",
       "      <td>SIS, FS</td>\n",
       "      <td>None</td>\n",
       "    </tr>\n",
       "  </tbody>\n",
       "</table>\n",
       "</div>"
      ],
      "text/plain": [
       "     Queue ID               Project Name                Interconnecting Entity        County State Interconnection Location Transmission Owner  Generation Type  Capacity (MW) Summer Capacity (MW) Winter Capacity (MW) Queue Date     Status Proposed Completion Date       Withdrawn Date Withdrawal Comment Actual Completion Date Proposed  In-Service Proposed Initial-Sync Date    Last Updated Date  Z      S Availability of Studies SGIA Tender Date\n",
       "5        0430  Cedar Rapids Transmission                                  None  St. Lawrence    NY                     None              NM-NG  AC Transmission            0.0                 <NA>                 <NA> 2014-03-05     Active                      NaT                 <NA>               None                   <NA>                  NaT                        NaT           12/31/2019  D   12.0                 SIS, FS             None\n",
       "626     0127A                 Munnsville  Airtricity Munnsville Wind Farm, LLC       Madison    NY                46kV line              NYSEG             Wind            6.0                    6                 <NA> 2002-10-09  Withdrawn                      NaT  2014-01-31 00:00:00               None                   <NA>                  NaT                        NaT                 <NA>  E      0                    None             None\n",
       "1442    0127A                 Munnsville                                  None       Madison    NY                     None              NYSEG             Wind           40.0                 40.0                 <NA> 2002-10-09  Completed                      NaT                 <NA>               None                3/31/13                  NaT                        NaT              3/31/13  E  11,14              SRIS, CY06             None\n",
       "1517     0430  Cedar Rapids Transmission                                  None  St. Lawrence    NY                     None              NM-NG  AC Transmission            0.0                 <NA>                 <NA> 2014-03-05  Completed                      NaT                 <NA>               None    2022-03-31 00:00:00                  NaT                 2021-10-01  2022-03-31 00:00:00  D     14                 SIS, FS             None"
      ]
     },
     "execution_count": 22,
     "metadata": {},
     "output_type": "execute_result"
    }
   ],
   "source": [
    "raw_nyiso[raw_nyiso[\"Queue ID\"].duplicated(keep=False)]"
   ]
  },
  {
   "cell_type": "code",
   "execution_count": 23,
   "metadata": {},
   "outputs": [
    {
     "data": {
      "text/html": [
       "<div>\n",
       "<style scoped>\n",
       "    .dataframe tbody tr th:only-of-type {\n",
       "        vertical-align: middle;\n",
       "    }\n",
       "\n",
       "    .dataframe tbody tr th {\n",
       "        vertical-align: top;\n",
       "    }\n",
       "\n",
       "    .dataframe thead th {\n",
       "        text-align: right;\n",
       "    }\n",
       "</style>\n",
       "<table border=\"1\" class=\"dataframe\">\n",
       "  <thead>\n",
       "    <tr style=\"text-align: right;\">\n",
       "      <th></th>\n",
       "      <th>Queue ID</th>\n",
       "      <th>Project Name</th>\n",
       "      <th>Interconnecting Entity</th>\n",
       "      <th>County</th>\n",
       "      <th>State</th>\n",
       "      <th>Interconnection Location</th>\n",
       "      <th>Transmission Owner</th>\n",
       "      <th>Generation Type</th>\n",
       "      <th>Capacity (MW)</th>\n",
       "      <th>Summer Capacity (MW)</th>\n",
       "      <th>Winter Capacity (MW)</th>\n",
       "      <th>Queue Date</th>\n",
       "      <th>Status</th>\n",
       "      <th>Proposed Completion Date</th>\n",
       "      <th>Withdrawn Date</th>\n",
       "      <th>Withdrawal Comment</th>\n",
       "      <th>Actual Completion Date</th>\n",
       "      <th>Proposed  In-Service</th>\n",
       "      <th>Proposed Initial-Sync Date</th>\n",
       "      <th>Last Updated Date</th>\n",
       "      <th>Z</th>\n",
       "      <th>S</th>\n",
       "      <th>Availability of Studies</th>\n",
       "      <th>SGIA Tender Date</th>\n",
       "    </tr>\n",
       "  </thead>\n",
       "  <tbody>\n",
       "    <tr>\n",
       "      <th>626</th>\n",
       "      <td>0127A</td>\n",
       "      <td>Munnsville</td>\n",
       "      <td>Airtricity Munnsville Wind Farm, LLC</td>\n",
       "      <td>Madison</td>\n",
       "      <td>NY</td>\n",
       "      <td>46kV line</td>\n",
       "      <td>NYSEG</td>\n",
       "      <td>Wind</td>\n",
       "      <td>6.0</td>\n",
       "      <td>6</td>\n",
       "      <td>&lt;NA&gt;</td>\n",
       "      <td>2002-10-09</td>\n",
       "      <td>Withdrawn</td>\n",
       "      <td>NaT</td>\n",
       "      <td>2014-01-31 00:00:00</td>\n",
       "      <td>None</td>\n",
       "      <td>&lt;NA&gt;</td>\n",
       "      <td>NaT</td>\n",
       "      <td>NaT</td>\n",
       "      <td>&lt;NA&gt;</td>\n",
       "      <td>E</td>\n",
       "      <td>0</td>\n",
       "      <td>None</td>\n",
       "      <td>None</td>\n",
       "    </tr>\n",
       "    <tr>\n",
       "      <th>1442</th>\n",
       "      <td>0127A</td>\n",
       "      <td>Munnsville</td>\n",
       "      <td>None</td>\n",
       "      <td>Madison</td>\n",
       "      <td>NY</td>\n",
       "      <td>None</td>\n",
       "      <td>NYSEG</td>\n",
       "      <td>Wind</td>\n",
       "      <td>40.0</td>\n",
       "      <td>40.0</td>\n",
       "      <td>&lt;NA&gt;</td>\n",
       "      <td>2002-10-09</td>\n",
       "      <td>Completed</td>\n",
       "      <td>NaT</td>\n",
       "      <td>&lt;NA&gt;</td>\n",
       "      <td>None</td>\n",
       "      <td>3/31/13</td>\n",
       "      <td>NaT</td>\n",
       "      <td>NaT</td>\n",
       "      <td>3/31/13</td>\n",
       "      <td>E</td>\n",
       "      <td>11,14</td>\n",
       "      <td>SRIS, CY06</td>\n",
       "      <td>None</td>\n",
       "    </tr>\n",
       "    <tr>\n",
       "      <th>5</th>\n",
       "      <td>0430</td>\n",
       "      <td>Cedar Rapids Transmission</td>\n",
       "      <td>None</td>\n",
       "      <td>St. Lawrence</td>\n",
       "      <td>NY</td>\n",
       "      <td>None</td>\n",
       "      <td>NM-NG</td>\n",
       "      <td>AC Transmission</td>\n",
       "      <td>0.0</td>\n",
       "      <td>&lt;NA&gt;</td>\n",
       "      <td>&lt;NA&gt;</td>\n",
       "      <td>2014-03-05</td>\n",
       "      <td>Active</td>\n",
       "      <td>NaT</td>\n",
       "      <td>&lt;NA&gt;</td>\n",
       "      <td>None</td>\n",
       "      <td>&lt;NA&gt;</td>\n",
       "      <td>NaT</td>\n",
       "      <td>NaT</td>\n",
       "      <td>12/31/2019</td>\n",
       "      <td>D</td>\n",
       "      <td>12.0</td>\n",
       "      <td>SIS, FS</td>\n",
       "      <td>None</td>\n",
       "    </tr>\n",
       "    <tr>\n",
       "      <th>1517</th>\n",
       "      <td>0430</td>\n",
       "      <td>Cedar Rapids Transmission</td>\n",
       "      <td>None</td>\n",
       "      <td>St. Lawrence</td>\n",
       "      <td>NY</td>\n",
       "      <td>None</td>\n",
       "      <td>NM-NG</td>\n",
       "      <td>AC Transmission</td>\n",
       "      <td>0.0</td>\n",
       "      <td>&lt;NA&gt;</td>\n",
       "      <td>&lt;NA&gt;</td>\n",
       "      <td>2014-03-05</td>\n",
       "      <td>Completed</td>\n",
       "      <td>NaT</td>\n",
       "      <td>&lt;NA&gt;</td>\n",
       "      <td>None</td>\n",
       "      <td>2022-03-31 00:00:00</td>\n",
       "      <td>NaT</td>\n",
       "      <td>2021-10-01</td>\n",
       "      <td>2022-03-31 00:00:00</td>\n",
       "      <td>D</td>\n",
       "      <td>14</td>\n",
       "      <td>SIS, FS</td>\n",
       "      <td>None</td>\n",
       "    </tr>\n",
       "  </tbody>\n",
       "</table>\n",
       "</div>"
      ],
      "text/plain": [
       "     Queue ID               Project Name                Interconnecting Entity        County State Interconnection Location Transmission Owner  Generation Type  Capacity (MW) Summer Capacity (MW) Winter Capacity (MW) Queue Date     Status Proposed Completion Date       Withdrawn Date Withdrawal Comment Actual Completion Date Proposed  In-Service Proposed Initial-Sync Date    Last Updated Date  Z      S Availability of Studies SGIA Tender Date\n",
       "626     0127A                 Munnsville  Airtricity Munnsville Wind Farm, LLC       Madison    NY                46kV line              NYSEG             Wind            6.0                    6                 <NA> 2002-10-09  Withdrawn                      NaT  2014-01-31 00:00:00               None                   <NA>                  NaT                        NaT                 <NA>  E      0                    None             None\n",
       "1442    0127A                 Munnsville                                  None       Madison    NY                     None              NYSEG             Wind           40.0                 40.0                 <NA> 2002-10-09  Completed                      NaT                 <NA>               None                3/31/13                  NaT                        NaT              3/31/13  E  11,14              SRIS, CY06             None\n",
       "5        0430  Cedar Rapids Transmission                                  None  St. Lawrence    NY                     None              NM-NG  AC Transmission            0.0                 <NA>                 <NA> 2014-03-05     Active                      NaT                 <NA>               None                   <NA>                  NaT                        NaT           12/31/2019  D   12.0                 SIS, FS             None\n",
       "1517     0430  Cedar Rapids Transmission                                  None  St. Lawrence    NY                     None              NM-NG  AC Transmission            0.0                 <NA>                 <NA> 2014-03-05  Completed                      NaT                 <NA>               None    2022-03-31 00:00:00                  NaT                 2021-10-01  2022-03-31 00:00:00  D     14                 SIS, FS             None"
      ]
     },
     "execution_count": 23,
     "metadata": {},
     "output_type": "execute_result"
    }
   ],
   "source": [
    "# I don't know which is correct (if either), but I'll guess that the later one is. So keep='last'\n",
    "raw_nyiso.loc[raw_nyiso.duplicated(subset='Queue ID', keep=False), :].sort_values(by='Queue ID')\n"
   ]
  },
  {
   "cell_type": "code",
   "execution_count": 24,
   "metadata": {},
   "outputs": [
    {
     "name": "stdout",
     "output_type": "stream",
     "text": [
      "<class 'pandas.core.frame.DataFrame'>\n",
      "Int64Index: 1607 entries, 0 to 1606\n",
      "Data columns (total 34 columns):\n",
      " #   Column                       Non-Null Count  Dtype         \n",
      "---  ------                       --------------  -----         \n",
      " 0   Queue ID                     1533 non-null   object        \n",
      " 1   Project Name                 1533 non-null   object        \n",
      " 2   Interconnecting Entity       887 non-null    object        \n",
      " 3   County                       1450 non-null   object        \n",
      " 4   State                        1451 non-null   object        \n",
      " 5   Interconnection Location     877 non-null    object        \n",
      " 6   Transmission Owner           1527 non-null   object        \n",
      " 7   Generation Type              1392 non-null   object        \n",
      " 8   Capacity (MW)                1533 non-null   float64       \n",
      " 9   Summer Capacity (MW)         1433 non-null   string        \n",
      " 10  Winter Capacity (MW)         1280 non-null   string        \n",
      " 11  Queue Date                   1533 non-null   datetime64[ns]\n",
      " 12  Status                       1533 non-null   object        \n",
      " 13  Proposed Completion Date     475 non-null    datetime64[ns]\n",
      " 14  Withdrawn Date               806 non-null    string        \n",
      " 15  Withdrawal Comment           0 non-null      object        \n",
      " 16  Actual Completion Date       103 non-null    string        \n",
      " 17  Proposed  In-Service         0 non-null      datetime64[ns]\n",
      " 18  Proposed Initial-Sync Date   475 non-null    datetime64[ns]\n",
      " 19  Last Updated Date            628 non-null    string        \n",
      " 20  Z                            1394 non-null   object        \n",
      " 21  S                            1533 non-null   string        \n",
      " 22  Availability of Studies      377 non-null    object        \n",
      " 23  SGIA Tender Date             41 non-null     object        \n",
      " 24  queue_id                     1260 non-null   object        \n",
      " 25  project_name                 1260 non-null   object        \n",
      " 26  queue_date                   1260 non-null   object        \n",
      " 27  queue_status                 1260 non-null   object        \n",
      " 28  interconnection_status_raw   231 non-null    object        \n",
      " 29  interconnection_status_lbnl  1260 non-null   object        \n",
      " 30  capacity_mw_resource_1       1260 non-null   float64       \n",
      " 31  resource_type_1              1260 non-null   object        \n",
      " 32  in_lbnl                      1607 non-null   bool          \n",
      " 33  in_gs                        1607 non-null   bool          \n",
      "dtypes: bool(2), datetime64[ns](4), float64(2), object(20), string(6)\n",
      "memory usage: 417.4+ KB\n"
     ]
    }
   ],
   "source": [
    "nyiso = join_lbnl(raw_nyiso.drop_duplicates(subset='Queue ID', keep='last'), lbnl, \"NYISO\")\n",
    "nyiso.info()\n"
   ]
  },
  {
   "cell_type": "code",
   "execution_count": 25,
   "metadata": {},
   "outputs": [
    {
     "data": {
      "text/html": [
       "<div>\n",
       "<style scoped>\n",
       "    .dataframe tbody tr th:only-of-type {\n",
       "        vertical-align: middle;\n",
       "    }\n",
       "\n",
       "    .dataframe tbody tr th {\n",
       "        vertical-align: top;\n",
       "    }\n",
       "\n",
       "    .dataframe thead th {\n",
       "        text-align: right;\n",
       "    }\n",
       "</style>\n",
       "<table border=\"1\" class=\"dataframe\">\n",
       "  <thead>\n",
       "    <tr style=\"text-align: right;\">\n",
       "      <th></th>\n",
       "      <th>Queue ID</th>\n",
       "      <th>Project Name</th>\n",
       "      <th>Interconnecting Entity</th>\n",
       "      <th>County</th>\n",
       "      <th>State</th>\n",
       "      <th>Interconnection Location</th>\n",
       "      <th>Transmission Owner</th>\n",
       "      <th>Generation Type</th>\n",
       "      <th>Capacity (MW)</th>\n",
       "      <th>Summer Capacity (MW)</th>\n",
       "      <th>Winter Capacity (MW)</th>\n",
       "      <th>Queue Date</th>\n",
       "      <th>Status</th>\n",
       "      <th>Proposed Completion Date</th>\n",
       "      <th>Withdrawn Date</th>\n",
       "      <th>Withdrawal Comment</th>\n",
       "      <th>Actual Completion Date</th>\n",
       "      <th>Proposed  In-Service</th>\n",
       "      <th>Proposed Initial-Sync Date</th>\n",
       "      <th>Last Updated Date</th>\n",
       "      <th>Z</th>\n",
       "      <th>S</th>\n",
       "      <th>Availability of Studies</th>\n",
       "      <th>SGIA Tender Date</th>\n",
       "      <th>queue_id</th>\n",
       "      <th>project_name</th>\n",
       "      <th>queue_date</th>\n",
       "      <th>queue_status</th>\n",
       "      <th>interconnection_status_raw</th>\n",
       "      <th>interconnection_status_lbnl</th>\n",
       "      <th>capacity_mw_resource_1</th>\n",
       "      <th>resource_type_1</th>\n",
       "      <th>in_lbnl</th>\n",
       "      <th>in_gs</th>\n",
       "    </tr>\n",
       "  </thead>\n",
       "  <tbody>\n",
       "    <tr>\n",
       "      <th>0</th>\n",
       "      <td>0276</td>\n",
       "      <td>Homer Solar Energy Center</td>\n",
       "      <td>None</td>\n",
       "      <td>Cortland</td>\n",
       "      <td>NY</td>\n",
       "      <td>None</td>\n",
       "      <td>NM-NG</td>\n",
       "      <td>Solar</td>\n",
       "      <td>90.0</td>\n",
       "      <td>90.0</td>\n",
       "      <td>90.0</td>\n",
       "      <td>2008-01-30</td>\n",
       "      <td>Active</td>\n",
       "      <td>2023-09-01</td>\n",
       "      <td>&lt;NA&gt;</td>\n",
       "      <td>None</td>\n",
       "      <td>&lt;NA&gt;</td>\n",
       "      <td>NaT</td>\n",
       "      <td>2023-09-01</td>\n",
       "      <td>9/30/2022</td>\n",
       "      <td>C</td>\n",
       "      <td>10.0</td>\n",
       "      <td>FES, SRIS, FS</td>\n",
       "      <td>None</td>\n",
       "      <td>0276</td>\n",
       "      <td>Homer Solar Energy Center</td>\n",
       "      <td>1/30/2008</td>\n",
       "      <td>active</td>\n",
       "      <td>FES, SRIS, FS</td>\n",
       "      <td>Facility Study</td>\n",
       "      <td>90.0</td>\n",
       "      <td>Solar</td>\n",
       "      <td>True</td>\n",
       "      <td>True</td>\n",
       "    </tr>\n",
       "    <tr>\n",
       "      <th>1</th>\n",
       "      <td>0396</td>\n",
       "      <td>Baron Winds</td>\n",
       "      <td>None</td>\n",
       "      <td>Steuben</td>\n",
       "      <td>NY</td>\n",
       "      <td>None</td>\n",
       "      <td>NYSEG</td>\n",
       "      <td>Wind</td>\n",
       "      <td>235.0</td>\n",
       "      <td>235.0</td>\n",
       "      <td>235.0</td>\n",
       "      <td>2012-11-30</td>\n",
       "      <td>Active</td>\n",
       "      <td>2023-12-01</td>\n",
       "      <td>&lt;NA&gt;</td>\n",
       "      <td>None</td>\n",
       "      <td>&lt;NA&gt;</td>\n",
       "      <td>NaT</td>\n",
       "      <td>NaT</td>\n",
       "      <td>12/31/2022</td>\n",
       "      <td>C</td>\n",
       "      <td>15.0</td>\n",
       "      <td>FES, SRIS, FS</td>\n",
       "      <td>None</td>\n",
       "      <td>0396</td>\n",
       "      <td>Baron Winds</td>\n",
       "      <td>11/30/2012</td>\n",
       "      <td>active</td>\n",
       "      <td>FES, SRIS, FS</td>\n",
       "      <td>Facility Study</td>\n",
       "      <td>238.0</td>\n",
       "      <td>Wind</td>\n",
       "      <td>True</td>\n",
       "      <td>True</td>\n",
       "    </tr>\n",
       "    <tr>\n",
       "      <th>2</th>\n",
       "      <td>0396A</td>\n",
       "      <td>Wood Street Transformer</td>\n",
       "      <td>None</td>\n",
       "      <td>Putnam</td>\n",
       "      <td>NY</td>\n",
       "      <td>None</td>\n",
       "      <td>NYSEG</td>\n",
       "      <td>AC Transmission</td>\n",
       "      <td>0.0</td>\n",
       "      <td>&lt;NA&gt;</td>\n",
       "      <td>&lt;NA&gt;</td>\n",
       "      <td>2012-12-14</td>\n",
       "      <td>Active</td>\n",
       "      <td>NaT</td>\n",
       "      <td>&lt;NA&gt;</td>\n",
       "      <td>None</td>\n",
       "      <td>&lt;NA&gt;</td>\n",
       "      <td>NaT</td>\n",
       "      <td>NaT</td>\n",
       "      <td>4/30/2021</td>\n",
       "      <td>G</td>\n",
       "      <td>12.0</td>\n",
       "      <td>SIS</td>\n",
       "      <td>None</td>\n",
       "      <td>NaN</td>\n",
       "      <td>NaN</td>\n",
       "      <td>NaN</td>\n",
       "      <td>NaN</td>\n",
       "      <td>NaN</td>\n",
       "      <td>NaN</td>\n",
       "      <td>NaN</td>\n",
       "      <td>NaN</td>\n",
       "      <td>False</td>\n",
       "      <td>True</td>\n",
       "    </tr>\n",
       "    <tr>\n",
       "      <th>3</th>\n",
       "      <td>0422</td>\n",
       "      <td>Eight Point Wind Energy Center</td>\n",
       "      <td>None</td>\n",
       "      <td>Steuben-Allegany</td>\n",
       "      <td>NY</td>\n",
       "      <td>None</td>\n",
       "      <td>NYSEG</td>\n",
       "      <td>Wind</td>\n",
       "      <td>101.8</td>\n",
       "      <td>101.8</td>\n",
       "      <td>101.8</td>\n",
       "      <td>2013-11-07</td>\n",
       "      <td>Active</td>\n",
       "      <td>NaT</td>\n",
       "      <td>&lt;NA&gt;</td>\n",
       "      <td>None</td>\n",
       "      <td>&lt;NA&gt;</td>\n",
       "      <td>NaT</td>\n",
       "      <td>NaT</td>\n",
       "      <td>3/31/2021</td>\n",
       "      <td>C</td>\n",
       "      <td>14.0</td>\n",
       "      <td>FES, SRIS, FS</td>\n",
       "      <td>None</td>\n",
       "      <td>0422</td>\n",
       "      <td>Eight Point Wind Energy Center</td>\n",
       "      <td>11/7/2013</td>\n",
       "      <td>active</td>\n",
       "      <td>FES, SRIS, FS</td>\n",
       "      <td>Facility Study</td>\n",
       "      <td>102.0</td>\n",
       "      <td>Wind</td>\n",
       "      <td>True</td>\n",
       "      <td>True</td>\n",
       "    </tr>\n",
       "    <tr>\n",
       "      <th>4</th>\n",
       "      <td>0429</td>\n",
       "      <td>North Rockland Station</td>\n",
       "      <td>None</td>\n",
       "      <td>Steuben</td>\n",
       "      <td>NY</td>\n",
       "      <td>None</td>\n",
       "      <td>ConEd</td>\n",
       "      <td>AC Transmission</td>\n",
       "      <td>0.0</td>\n",
       "      <td>&lt;NA&gt;</td>\n",
       "      <td>&lt;NA&gt;</td>\n",
       "      <td>2014-02-12</td>\n",
       "      <td>Active</td>\n",
       "      <td>NaT</td>\n",
       "      <td>&lt;NA&gt;</td>\n",
       "      <td>None</td>\n",
       "      <td>&lt;NA&gt;</td>\n",
       "      <td>NaT</td>\n",
       "      <td>NaT</td>\n",
       "      <td>3/31/2022</td>\n",
       "      <td>G</td>\n",
       "      <td>12.0</td>\n",
       "      <td>SIS</td>\n",
       "      <td>None</td>\n",
       "      <td>NaN</td>\n",
       "      <td>NaN</td>\n",
       "      <td>NaN</td>\n",
       "      <td>NaN</td>\n",
       "      <td>NaN</td>\n",
       "      <td>NaN</td>\n",
       "      <td>NaN</td>\n",
       "      <td>NaN</td>\n",
       "      <td>False</td>\n",
       "      <td>True</td>\n",
       "    </tr>\n",
       "  </tbody>\n",
       "</table>\n",
       "</div>"
      ],
      "text/plain": [
       "  Queue ID                    Project Name Interconnecting Entity            County State Interconnection Location Transmission Owner  Generation Type  Capacity (MW) Summer Capacity (MW) Winter Capacity (MW) Queue Date  Status Proposed Completion Date Withdrawn Date Withdrawal Comment Actual Completion Date Proposed  In-Service Proposed Initial-Sync Date Last Updated Date  Z     S Availability of Studies SGIA Tender Date queue_id                    project_name  queue_date queue_status interconnection_status_raw interconnection_status_lbnl  capacity_mw_resource_1 resource_type_1  in_lbnl  in_gs\n",
       "0     0276       Homer Solar Energy Center                   None          Cortland    NY                     None              NM-NG            Solar           90.0                 90.0                 90.0 2008-01-30  Active               2023-09-01           <NA>               None                   <NA>                  NaT                 2023-09-01         9/30/2022  C  10.0           FES, SRIS, FS             None     0276       Homer Solar Energy Center   1/30/2008       active              FES, SRIS, FS              Facility Study                    90.0           Solar     True   True\n",
       "1     0396                     Baron Winds                   None           Steuben    NY                     None              NYSEG             Wind          235.0                235.0                235.0 2012-11-30  Active               2023-12-01           <NA>               None                   <NA>                  NaT                        NaT        12/31/2022  C  15.0           FES, SRIS, FS             None     0396                     Baron Winds  11/30/2012       active              FES, SRIS, FS              Facility Study                   238.0            Wind     True   True\n",
       "2    0396A         Wood Street Transformer                   None            Putnam    NY                     None              NYSEG  AC Transmission            0.0                 <NA>                 <NA> 2012-12-14  Active                      NaT           <NA>               None                   <NA>                  NaT                        NaT         4/30/2021  G  12.0                     SIS             None      NaN                             NaN         NaN          NaN                        NaN                         NaN                     NaN             NaN    False   True\n",
       "3     0422  Eight Point Wind Energy Center                   None  Steuben-Allegany    NY                     None              NYSEG             Wind          101.8                101.8                101.8 2013-11-07  Active                      NaT           <NA>               None                   <NA>                  NaT                        NaT         3/31/2021  C  14.0           FES, SRIS, FS             None     0422  Eight Point Wind Energy Center   11/7/2013       active              FES, SRIS, FS              Facility Study                   102.0            Wind     True   True\n",
       "4     0429          North Rockland Station                   None           Steuben    NY                     None              ConEd  AC Transmission            0.0                 <NA>                 <NA> 2014-02-12  Active                      NaT           <NA>               None                   <NA>                  NaT                        NaT         3/31/2022  G  12.0                     SIS             None      NaN                             NaN         NaN          NaN                        NaN                         NaN                     NaN             NaN    False   True"
      ]
     },
     "execution_count": 25,
     "metadata": {},
     "output_type": "execute_result"
    }
   ],
   "source": [
    "nyiso.head()\n"
   ]
  },
  {
   "cell_type": "code",
   "execution_count": 26,
   "metadata": {},
   "outputs": [
    {
     "data": {
      "text/plain": [
       "in_gs  in_lbnl\n",
       "True   True       1186\n",
       "       False       347\n",
       "False  True         74\n",
       "dtype: int64"
      ]
     },
     "execution_count": 26,
     "metadata": {},
     "output_type": "execute_result"
    }
   ],
   "source": [
    "nyiso[[\"in_gs\", \"in_lbnl\"]].value_counts(dropna=False)\n"
   ]
  },
  {
   "cell_type": "code",
   "execution_count": 27,
   "metadata": {},
   "outputs": [
    {
     "data": {
      "text/plain": [
       "in_gs  in_lbnl\n",
       "True   True       1186\n",
       "       False       324\n",
       "False  True         74\n",
       "dtype: int64"
      ]
     },
     "execution_count": 27,
     "metadata": {},
     "output_type": "execute_result"
    }
   ],
   "source": [
    "# marginal improvement from date filter\n",
    "nyiso.loc[\n",
    "    nyiso[\"Queue Date\"]\n",
    "    .fillna(pd.to_datetime(\"2020-01-01\"))\n",
    "    .lt(pd.to_datetime(\"2023-01-01\")),\n",
    "    [\"in_gs\", \"in_lbnl\"],\n",
    "].value_counts(dropna=False)\n"
   ]
  },
  {
   "cell_type": "markdown",
   "metadata": {},
   "source": [
    "### NYISO Capacity Comparison\n",
    "- Compare total capacity for projects in lbnl and gs\n",
    "- Compare total capacity for active projects in lbnl and gs\n",
    "- Compare total capacity for active projects\n",
    "- Compare capacity by fuel type? Might challenging because the categories are all over the place"
   ]
  },
  {
   "cell_type": "markdown",
   "metadata": {},
   "source": [
    "#### Compare total capacity for projects in both"
   ]
  },
  {
   "cell_type": "code",
   "execution_count": 142,
   "metadata": {},
   "outputs": [],
   "source": [
    "def compare_capacity(comb_iso: pd.DataFrame, gs_cap_col=\"Capacity (MW)\", lbnl_cap_col=\"capacity_mw_resource_1\"):    \n",
    "    gs_iso_cap = comb_iso[gs_cap_col].sum()\n",
    "    lbnl_iso_cap = comb_iso[lbnl_cap_col].sum()\n",
    "\n",
    "    print(f\"GS Capacity for projects in GS and LBNL: {gs_iso_cap}\")\n",
    "    print(f\"LBNL Capacity for project in GS and LBNL: {lbnl_iso_cap}\")\n",
    "    print(f\"Ratio of LBNL to GS Capacity for project in GS and LBNL: {lbnl_iso_cap / gs_iso_cap}\")\n",
    "    \n",
    "    "
   ]
  },
  {
   "cell_type": "code",
   "execution_count": 65,
   "metadata": {},
   "outputs": [
    {
     "name": "stdout",
     "output_type": "stream",
     "text": [
      "GS Capacity for projects in GS and LBNL: 226128.46\n",
      "LBNL Capacity for project in GS and LBNL: 228118.59999999998\n",
      "Ratio of LBNL to GS Capacity for project in GS and LBNL: 1.008800926694499\n"
     ]
    }
   ],
   "source": [
    "both_nyiso = nyiso[nyiso.in_lbnl & nyiso.in_gs]\n",
    "\n",
    "compare_capacity(both_nyiso)"
   ]
  },
  {
   "cell_type": "markdown",
   "metadata": {},
   "source": [
    "Ok! Projects that exist in both have very similar total capacities! That's a good start. I could look into which projects have different capacity values but the amount is so minor that I'm going to skip for now."
   ]
  },
  {
   "cell_type": "markdown",
   "metadata": {},
   "source": [
    "#### Compare total capacity for **active** projects in both"
   ]
  },
  {
   "cell_type": "code",
   "execution_count": 66,
   "metadata": {},
   "outputs": [
    {
     "data": {
      "text/plain": [
       "withdrawn      713\n",
       "active         459\n",
       "operational     14\n",
       "Name: queue_status, dtype: int64"
      ]
     },
     "execution_count": 66,
     "metadata": {},
     "output_type": "execute_result"
    }
   ],
   "source": [
    "both_nyiso[\"queue_status\"].value_counts()"
   ]
  },
  {
   "cell_type": "code",
   "execution_count": 67,
   "metadata": {},
   "outputs": [
    {
     "data": {
      "text/plain": [
       "Status     queue_status\n",
       "Withdrawn  withdrawn       712\n",
       "Active     active          421\n",
       "Withdrawn  active           38\n",
       "Completed  operational      14\n",
       "           withdrawn         1\n",
       "dtype: int64"
      ]
     },
     "execution_count": 67,
     "metadata": {},
     "output_type": "execute_result"
    }
   ],
   "source": [
    "both_nyiso[[\"Status\", \"queue_status\"]].value_counts(dropna=False)"
   ]
  },
  {
   "cell_type": "markdown",
   "metadata": {},
   "source": [
    "There are some active LBNL projects that have been withdrawn maybe because the GS data is a bit fresher? If so the withdrawl dates should be after 2022-12-31."
   ]
  },
  {
   "cell_type": "code",
   "execution_count": 68,
   "metadata": {},
   "outputs": [
    {
     "data": {
      "text/plain": [
       "2023    38\n",
       "Name: Withdrawn Date, dtype: int64"
      ]
     },
     "execution_count": 68,
     "metadata": {},
     "output_type": "execute_result"
    }
   ],
   "source": [
    "pd.to_datetime(both_nyiso[(both_nyiso[\"Status\"] == \"Withdrawn\") & (both_nyiso[\"queue_status\"] == \"active\")][\"Withdrawn Date\"]).dt.year.value_counts()"
   ]
  },
  {
   "cell_type": "markdown",
   "metadata": {},
   "source": [
    "Great! That explains it. This means we can just compare projects marked active in lbnl"
   ]
  },
  {
   "cell_type": "code",
   "execution_count": 69,
   "metadata": {},
   "outputs": [
    {
     "name": "stdout",
     "output_type": "stream",
     "text": [
      "108584.66\n",
      "110592.0\n",
      "1.0184864049857503\n"
     ]
    }
   ],
   "source": [
    "active_both_nyiso = both_nyiso[(both_nyiso[\"queue_status\"] == \"active\")]\n",
    "gs_nyiso_cap = active_both_nyiso[\"Capacity (MW)\"].sum()\n",
    "lbnl_nyiso_cap = active_both_nyiso[\"capacity_mw_resource_1\"].sum()\n",
    "\n",
    "print(gs_nyiso_cap)\n",
    "print(lbnl_nyiso_cap)\n",
    "print(lbnl_nyiso_cap / gs_nyiso_cap)"
   ]
  },
  {
   "cell_type": "markdown",
   "metadata": {},
   "source": [
    "Similar capacity totals I'm comfortable with."
   ]
  },
  {
   "cell_type": "markdown",
   "metadata": {},
   "source": [
    "#### Compare total capacity for all projects"
   ]
  },
  {
   "cell_type": "code",
   "execution_count": 70,
   "metadata": {},
   "outputs": [
    {
     "data": {
      "text/plain": [
       "in_gs  in_lbnl\n",
       "True   True       1186\n",
       "       False       347\n",
       "False  True         74\n",
       "dtype: int64"
      ]
     },
     "execution_count": 70,
     "metadata": {},
     "output_type": "execute_result"
    }
   ],
   "source": [
    "nyiso[[\"in_gs\", \"in_lbnl\"]].value_counts(dropna=False)\n"
   ]
  },
  {
   "cell_type": "code",
   "execution_count": 71,
   "metadata": {},
   "outputs": [
    {
     "data": {
      "text/plain": [
       "Status     queue_status\n",
       "Withdrawn  withdrawn       712\n",
       "Active     active          421\n",
       "Withdrawn  NaN             137\n",
       "Completed  NaN             106\n",
       "Active     NaN             104\n",
       "NaN        operational      74\n",
       "Withdrawn  active           38\n",
       "Completed  operational      14\n",
       "           withdrawn         1\n",
       "dtype: int64"
      ]
     },
     "execution_count": 71,
     "metadata": {},
     "output_type": "execute_result"
    }
   ],
   "source": [
    "nyiso[[\"Status\", \"queue_status\"]].value_counts(dropna=False)"
   ]
  },
  {
   "cell_type": "code",
   "execution_count": 72,
   "metadata": {},
   "outputs": [
    {
     "name": "stdout",
     "output_type": "stream",
     "text": [
      "0.2705746493529786\n",
      "0.04379634478561434\n"
     ]
    }
   ],
   "source": [
    "print(nyiso[nyiso.in_gs & ~nyiso.in_lbnl][\"Capacity (MW)\"].sum() / nyiso[nyiso.in_gs][\"Capacity (MW)\"].sum())\n",
    "print(nyiso[~nyiso.in_gs & nyiso.in_lbnl][\"capacity_mw_resource_1\"].sum() / nyiso[nyiso.in_lbnl][\"Capacity (MW)\"].sum())"
   ]
  },
  {
   "cell_type": "markdown",
   "metadata": {},
   "source": [
    "Projects in GS but not in lbnl account for 27% of total capacity in GS nyiso.\n",
    "Projects in LBNL but not in GS account for 4% of total capacity in LBNL NYISO.\n",
    "\n",
    "Why does GS have so much more capacity than LBNL here? Do we care if GS has more capacity than LBNL given GS more closely resembles the source data? Is LBNL doing deduplication work behind the scenes?"
   ]
  },
  {
   "cell_type": "code",
   "execution_count": 241,
   "metadata": {},
   "outputs": [
    {
     "name": "stdout",
     "output_type": "stream",
     "text": [
      "Ratio of total LBNL capacity to total GS capacity 0.9233459635021418\n",
      "Ratio of total LBNL project to total GS projects 0.821917808219178\n"
     ]
    }
   ],
   "source": [
    "gs_capacities = nyiso[nyiso.in_gs][\"Winter Capacity (MW)\"]\n",
    "lbnl_capacities = nyiso[nyiso.in_lbnl][\"capacity_mw_resource_1\"]\n",
    "\n",
    "print(f\"Ratio of total LBNL capacity to total GS capacity {lbnl_capacities.sum() / pd.to_numeric(gs_capacities, errors='coerce').sum()}\")\n",
    "print(f\"Ratio of total LBNL project to total GS projects {len(lbnl_capacities) / len(gs_capacities)}\")"
   ]
  },
  {
   "cell_type": "markdown",
   "metadata": {},
   "source": [
    "There are 190 transmission projects in GS that aren't in LBNL. See generation type analysis notebook."
   ]
  },
  {
   "cell_type": "markdown",
   "metadata": {},
   "source": [
    "### MISO\n",
    "Very good project coverage, but the IA status categories are a mess."
   ]
  },
  {
   "cell_type": "code",
   "execution_count": 73,
   "metadata": {},
   "outputs": [
    {
     "data": {
      "text/plain": [
       "Index(['Queue ID', 'Project Name', 'Interconnecting Entity', 'County', 'State', 'Interconnection Location', 'Transmission Owner', 'Generation Type', 'Capacity (MW)', 'Summer Capacity (MW)', 'Winter Capacity (MW)', 'Queue Date', 'Status', 'Proposed Completion Date', 'Withdrawn Date', 'Withdrawal Comment', 'Actual Completion Date', 'facilityType', 'Post Generator Interconnection Agreement Status', 'Interconnection Approval Date', 'inService', 'giaToExec', 'studyCycle', 'studyGroup', 'studyPhase', 'svcType', 'dp1ErisMw', 'dp1NrisMw', 'dp2ErisMw', 'dp2NrisMw', 'sisPhase1'], dtype='object')"
      ]
     },
     "execution_count": 73,
     "metadata": {},
     "output_type": "execute_result"
    }
   ],
   "source": [
    "raw_miso.columns\n"
   ]
  },
  {
   "cell_type": "code",
   "execution_count": 74,
   "metadata": {},
   "outputs": [
    {
     "data": {
      "text/html": [
       "<div>\n",
       "<style scoped>\n",
       "    .dataframe tbody tr th:only-of-type {\n",
       "        vertical-align: middle;\n",
       "    }\n",
       "\n",
       "    .dataframe tbody tr th {\n",
       "        vertical-align: top;\n",
       "    }\n",
       "\n",
       "    .dataframe thead th {\n",
       "        text-align: right;\n",
       "    }\n",
       "</style>\n",
       "<table border=\"1\" class=\"dataframe\">\n",
       "  <thead>\n",
       "    <tr style=\"text-align: right;\">\n",
       "      <th></th>\n",
       "      <th>Queue ID</th>\n",
       "      <th>Project Name</th>\n",
       "      <th>Interconnecting Entity</th>\n",
       "      <th>County</th>\n",
       "      <th>State</th>\n",
       "      <th>Interconnection Location</th>\n",
       "      <th>Transmission Owner</th>\n",
       "      <th>Generation Type</th>\n",
       "      <th>Capacity (MW)</th>\n",
       "      <th>Summer Capacity (MW)</th>\n",
       "      <th>Winter Capacity (MW)</th>\n",
       "      <th>Queue Date</th>\n",
       "      <th>Status</th>\n",
       "      <th>Proposed Completion Date</th>\n",
       "      <th>Withdrawn Date</th>\n",
       "      <th>Withdrawal Comment</th>\n",
       "      <th>Actual Completion Date</th>\n",
       "      <th>facilityType</th>\n",
       "      <th>Post Generator Interconnection Agreement Status</th>\n",
       "      <th>Interconnection Approval Date</th>\n",
       "      <th>inService</th>\n",
       "      <th>giaToExec</th>\n",
       "      <th>studyCycle</th>\n",
       "      <th>studyGroup</th>\n",
       "      <th>studyPhase</th>\n",
       "      <th>svcType</th>\n",
       "      <th>dp1ErisMw</th>\n",
       "      <th>dp1NrisMw</th>\n",
       "      <th>dp2ErisMw</th>\n",
       "      <th>dp2NrisMw</th>\n",
       "      <th>sisPhase1</th>\n",
       "    </tr>\n",
       "  </thead>\n",
       "  <tbody>\n",
       "    <tr>\n",
       "      <th>2213</th>\n",
       "      <td>J392</td>\n",
       "      <td>None</td>\n",
       "      <td>None</td>\n",
       "      <td>Otsego County</td>\n",
       "      <td>MI</td>\n",
       "      <td>ITC/METC 138 kV Livingston to Stover line</td>\n",
       "      <td>Michigan Electric Transmission Company, LLC</td>\n",
       "      <td>Gas</td>\n",
       "      <td>420.7</td>\n",
       "      <td>383.1</td>\n",
       "      <td>420.7</td>\n",
       "      <td>2014-09-15T04:00:00Z</td>\n",
       "      <td>Done</td>\n",
       "      <td>2015-09-01T04:00:00Z</td>\n",
       "      <td>None</td>\n",
       "      <td>None</td>\n",
       "      <td>None</td>\n",
       "      <td>CT Combustion Turbine (Simple Cycle)</td>\n",
       "      <td>In Service</td>\n",
       "      <td>2016-03-23T04:00:00Z</td>\n",
       "      <td>2016-05-16T04:00:00Z</td>\n",
       "      <td>2016-03-23T04:00:00Z</td>\n",
       "      <td>DPP-2015-FEB</td>\n",
       "      <td>East (ITC)</td>\n",
       "      <td>Network Upgrade</td>\n",
       "      <td>NRIS</td>\n",
       "      <td>0.0</td>\n",
       "      <td>0.0</td>\n",
       "      <td>0.0</td>\n",
       "      <td>0.0</td>\n",
       "      <td></td>\n",
       "    </tr>\n",
       "    <tr>\n",
       "      <th>2214</th>\n",
       "      <td>J392</td>\n",
       "      <td>None</td>\n",
       "      <td>None</td>\n",
       "      <td>Otsego County</td>\n",
       "      <td>MI</td>\n",
       "      <td>ITC/METC 138 kV Livingston to Stover line</td>\n",
       "      <td>Michigan Electric Transmission Company, LLC</td>\n",
       "      <td>Gas</td>\n",
       "      <td>420.7</td>\n",
       "      <td>383.1</td>\n",
       "      <td>420.7</td>\n",
       "      <td>2014-09-15T04:00:00Z</td>\n",
       "      <td>Done</td>\n",
       "      <td>2015-09-01T04:00:00Z</td>\n",
       "      <td>None</td>\n",
       "      <td>None</td>\n",
       "      <td>None</td>\n",
       "      <td>CT Combustion Turbine (Simple Cycle)</td>\n",
       "      <td>In Service</td>\n",
       "      <td>2016-03-23T04:00:00Z</td>\n",
       "      <td>2016-05-16T04:00:00Z</td>\n",
       "      <td>2016-03-23T04:00:00Z</td>\n",
       "      <td>DPP-2015-FEB</td>\n",
       "      <td>East (ITC)</td>\n",
       "      <td>Int FaS</td>\n",
       "      <td>NRIS</td>\n",
       "      <td>0.0</td>\n",
       "      <td>0.0</td>\n",
       "      <td>0.0</td>\n",
       "      <td>0.0</td>\n",
       "      <td></td>\n",
       "    </tr>\n",
       "  </tbody>\n",
       "</table>\n",
       "</div>"
      ],
      "text/plain": [
       "     Queue ID Project Name Interconnecting Entity         County State                   Interconnection Location                           Transmission Owner Generation Type  Capacity (MW)  Summer Capacity (MW)  Winter Capacity (MW)            Queue Date Status Proposed Completion Date Withdrawn Date Withdrawal Comment Actual Completion Date                          facilityType Post Generator Interconnection Agreement Status Interconnection Approval Date             inService             giaToExec    studyCycle  studyGroup       studyPhase svcType  dp1ErisMw  dp1NrisMw  dp2ErisMw  dp2NrisMw sisPhase1\n",
       "2213     J392         None                   None  Otsego County    MI  ITC/METC 138 kV Livingston to Stover line  Michigan Electric Transmission Company, LLC             Gas          420.7                 383.1                 420.7  2014-09-15T04:00:00Z   Done     2015-09-01T04:00:00Z           None               None                   None  CT Combustion Turbine (Simple Cycle)                                      In Service          2016-03-23T04:00:00Z  2016-05-16T04:00:00Z  2016-03-23T04:00:00Z  DPP-2015-FEB  East (ITC)  Network Upgrade    NRIS        0.0        0.0        0.0        0.0          \n",
       "2214     J392         None                   None  Otsego County    MI  ITC/METC 138 kV Livingston to Stover line  Michigan Electric Transmission Company, LLC             Gas          420.7                 383.1                 420.7  2014-09-15T04:00:00Z   Done     2015-09-01T04:00:00Z           None               None                   None  CT Combustion Turbine (Simple Cycle)                                      In Service          2016-03-23T04:00:00Z  2016-05-16T04:00:00Z  2016-03-23T04:00:00Z  DPP-2015-FEB  East (ITC)          Int FaS    NRIS        0.0        0.0        0.0        0.0          "
      ]
     },
     "execution_count": 74,
     "metadata": {},
     "output_type": "execute_result"
    }
   ],
   "source": [
    "# I don't know which is correct (if either), but I'll guess that the later one is. So keep='last'\n",
    "# Nearly whole-row duplicate, except for \"studyPhase\"\n",
    "raw_miso.loc[raw_miso.duplicated(subset='Queue ID', keep=False), :].sort_values(by='Queue ID')\n"
   ]
  },
  {
   "cell_type": "code",
   "execution_count": 75,
   "metadata": {},
   "outputs": [
    {
     "data": {
      "text/html": [
       "<div>\n",
       "<style scoped>\n",
       "    .dataframe tbody tr th:only-of-type {\n",
       "        vertical-align: middle;\n",
       "    }\n",
       "\n",
       "    .dataframe tbody tr th {\n",
       "        vertical-align: top;\n",
       "    }\n",
       "\n",
       "    .dataframe thead th {\n",
       "        text-align: right;\n",
       "    }\n",
       "</style>\n",
       "<table border=\"1\" class=\"dataframe\">\n",
       "  <thead>\n",
       "    <tr style=\"text-align: right;\">\n",
       "      <th></th>\n",
       "      <th>queue_id</th>\n",
       "      <th>queue_status</th>\n",
       "      <th>queue_date</th>\n",
       "      <th>queue_year</th>\n",
       "      <th>interconnection_date</th>\n",
       "      <th>entity</th>\n",
       "      <th>project_name</th>\n",
       "      <th>developer</th>\n",
       "      <th>utility</th>\n",
       "      <th>county_1</th>\n",
       "      <th>county_2</th>\n",
       "      <th>county_3</th>\n",
       "      <th>raw_state_name</th>\n",
       "      <th>region</th>\n",
       "      <th>interconnection_service_type</th>\n",
       "      <th>point_of_interconnection</th>\n",
       "      <th>date_proposed</th>\n",
       "      <th>year_proposed</th>\n",
       "      <th>interconnection_status_raw</th>\n",
       "      <th>interconnection_status_lbnl</th>\n",
       "      <th>resource_type_lbnl</th>\n",
       "      <th>resource_type_1</th>\n",
       "      <th>resource_type_2</th>\n",
       "      <th>resource_type_3</th>\n",
       "      <th>capacity_mw_resource_1</th>\n",
       "      <th>capacity_mw_resource_2</th>\n",
       "      <th>capacity_mw_resource_3</th>\n",
       "    </tr>\n",
       "  </thead>\n",
       "  <tbody>\n",
       "    <tr>\n",
       "      <th>10519</th>\n",
       "      <td>J392</td>\n",
       "      <td>operational</td>\n",
       "      <td>9/15/2014</td>\n",
       "      <td>2014.0</td>\n",
       "      <td>3/23/2016</td>\n",
       "      <td>MISO</td>\n",
       "      <td>NaN</td>\n",
       "      <td>NaN</td>\n",
       "      <td>Michigan Electric Transmission Company, LLC</td>\n",
       "      <td>otsego</td>\n",
       "      <td>NaN</td>\n",
       "      <td>NaN</td>\n",
       "      <td>MI</td>\n",
       "      <td>MISO</td>\n",
       "      <td>NRIS</td>\n",
       "      <td>ITC/METC 138 kV Livingston to Stover line</td>\n",
       "      <td>5/16/2016</td>\n",
       "      <td>2016.0</td>\n",
       "      <td>In Service</td>\n",
       "      <td>Operational</td>\n",
       "      <td>Gas</td>\n",
       "      <td>Gas</td>\n",
       "      <td>NaN</td>\n",
       "      <td>NaN</td>\n",
       "      <td>421.0</td>\n",
       "      <td>NaN</td>\n",
       "      <td>NaN</td>\n",
       "    </tr>\n",
       "    <tr>\n",
       "      <th>10842</th>\n",
       "      <td>J392</td>\n",
       "      <td>operational</td>\n",
       "      <td>9/15/2014</td>\n",
       "      <td>2014.0</td>\n",
       "      <td>3/23/2016</td>\n",
       "      <td>MISO</td>\n",
       "      <td>NaN</td>\n",
       "      <td>NaN</td>\n",
       "      <td>Michigan Electric Transmission Company, LLC</td>\n",
       "      <td>otsego</td>\n",
       "      <td>NaN</td>\n",
       "      <td>NaN</td>\n",
       "      <td>MI</td>\n",
       "      <td>MISO</td>\n",
       "      <td>NRIS</td>\n",
       "      <td>ITC/METC 138 kV Livingston to Stover line</td>\n",
       "      <td>5/16/2016</td>\n",
       "      <td>2016.0</td>\n",
       "      <td>In Service</td>\n",
       "      <td>Operational</td>\n",
       "      <td>Gas</td>\n",
       "      <td>Gas</td>\n",
       "      <td>NaN</td>\n",
       "      <td>NaN</td>\n",
       "      <td>421.0</td>\n",
       "      <td>NaN</td>\n",
       "      <td>NaN</td>\n",
       "    </tr>\n",
       "  </tbody>\n",
       "</table>\n",
       "</div>"
      ],
      "text/plain": [
       "      queue_id queue_status queue_date  queue_year interconnection_date entity project_name developer                                      utility county_1 county_2 county_3 raw_state_name region interconnection_service_type                   point_of_interconnection date_proposed  year_proposed interconnection_status_raw interconnection_status_lbnl resource_type_lbnl resource_type_1 resource_type_2 resource_type_3  capacity_mw_resource_1  capacity_mw_resource_2  capacity_mw_resource_3\n",
       "10519     J392  operational  9/15/2014      2014.0            3/23/2016   MISO          NaN       NaN  Michigan Electric Transmission Company, LLC   otsego      NaN      NaN             MI   MISO                         NRIS  ITC/METC 138 kV Livingston to Stover line     5/16/2016         2016.0                 In Service                 Operational                Gas             Gas             NaN             NaN                   421.0                     NaN                     NaN\n",
       "10842     J392  operational  9/15/2014      2014.0            3/23/2016   MISO          NaN       NaN  Michigan Electric Transmission Company, LLC   otsego      NaN      NaN             MI   MISO                         NRIS  ITC/METC 138 kV Livingston to Stover line     5/16/2016         2016.0                 In Service                 Operational                Gas             Gas             NaN             NaN                   421.0                     NaN                     NaN"
      ]
     },
     "execution_count": 75,
     "metadata": {},
     "output_type": "execute_result"
    }
   ],
   "source": [
    "# I don't know which is correct (if either), but I'll guess that the later one is. So keep='last'\n",
    "# Nearly whole-row duplicate, except for \"studyPhase\"\n",
    "lbnl.query('entity == \"MISO\"').loc[lbnl.query('entity == \"MISO\"').duplicated(subset='queue_id', keep=False), :].sort_values(by='queue_id')\n"
   ]
  },
  {
   "cell_type": "code",
   "execution_count": 76,
   "metadata": {},
   "outputs": [
    {
     "name": "stdout",
     "output_type": "stream",
     "text": [
      "<class 'pandas.core.frame.DataFrame'>\n",
      "Int64Index: 4252 entries, 0 to 4251\n",
      "Data columns (total 41 columns):\n",
      " #   Column                                           Non-Null Count  Dtype  \n",
      "---  ------                                           --------------  -----  \n",
      " 0   Queue ID                                         4252 non-null   object \n",
      " 1   Project Name                                     0 non-null      object \n",
      " 2   Interconnecting Entity                           0 non-null      object \n",
      " 3   County                                           4252 non-null   object \n",
      " 4   State                                            4252 non-null   object \n",
      " 5   Interconnection Location                         4252 non-null   object \n",
      " 6   Transmission Owner                               4252 non-null   object \n",
      " 7   Generation Type                                  4252 non-null   object \n",
      " 8   Capacity (MW)                                    4252 non-null   float64\n",
      " 9   Summer Capacity (MW)                             4252 non-null   float64\n",
      " 10  Winter Capacity (MW)                             4252 non-null   float64\n",
      " 11  Queue Date                                       3962 non-null   object \n",
      " 12  Status                                           4252 non-null   object \n",
      " 13  Proposed Completion Date                         1700 non-null   object \n",
      " 14  Withdrawn Date                                   1901 non-null   object \n",
      " 15  Withdrawal Comment                               0 non-null      object \n",
      " 16  Actual Completion Date                           0 non-null      object \n",
      " 17  facilityType                                     4252 non-null   object \n",
      " 18  Post Generator Interconnection Agreement Status  4252 non-null   object \n",
      " 19  Interconnection Approval Date                    1542 non-null   object \n",
      " 20  inService                                        3109 non-null   object \n",
      " 21  giaToExec                                        652 non-null    object \n",
      " 22  studyCycle                                       4252 non-null   object \n",
      " 23  studyGroup                                       4252 non-null   object \n",
      " 24  studyPhase                                       4252 non-null   object \n",
      " 25  svcType                                          4252 non-null   object \n",
      " 26  dp1ErisMw                                        4252 non-null   float64\n",
      " 27  dp1NrisMw                                        4252 non-null   float64\n",
      " 28  dp2ErisMw                                        4252 non-null   float64\n",
      " 29  dp2NrisMw                                        4252 non-null   float64\n",
      " 30  sisPhase1                                        4252 non-null   object \n",
      " 31  queue_id                                         4070 non-null   object \n",
      " 32  project_name                                     0 non-null      object \n",
      " 33  queue_date                                       4056 non-null   object \n",
      " 34  queue_status                                     4070 non-null   object \n",
      " 35  interconnection_status_raw                       4070 non-null   object \n",
      " 36  interconnection_status_lbnl                      4070 non-null   object \n",
      " 37  capacity_mw_resource_1                           4070 non-null   float64\n",
      " 38  resource_type_1                                  4070 non-null   object \n",
      " 39  in_lbnl                                          4252 non-null   bool   \n",
      " 40  in_gs                                            4252 non-null   bool   \n",
      "dtypes: bool(2), float64(8), object(31)\n",
      "memory usage: 1.3+ MB\n"
     ]
    }
   ],
   "source": [
    "miso = join_lbnl(raw_miso.drop_duplicates(subset='Queue ID', keep='last'), lbnl.query('entity == \"MISO\"').drop_duplicates(subset='queue_id', keep='last'), \"MISO\")\n",
    "miso.info()\n"
   ]
  },
  {
   "cell_type": "code",
   "execution_count": 77,
   "metadata": {},
   "outputs": [
    {
     "data": {
      "text/plain": [
       "in_gs  in_lbnl\n",
       "True   True       4070\n",
       "       False       182\n",
       "dtype: int64"
      ]
     },
     "execution_count": 77,
     "metadata": {},
     "output_type": "execute_result"
    }
   ],
   "source": [
    "miso[[\"in_gs\", \"in_lbnl\"]].value_counts(dropna=False)\n"
   ]
  },
  {
   "cell_type": "markdown",
   "metadata": {
    "tags": []
   },
   "source": [
    "#### Compare total capacity for projects in both"
   ]
  },
  {
   "cell_type": "code",
   "execution_count": 78,
   "metadata": {
    "tags": []
   },
   "outputs": [
    {
     "name": "stdout",
     "output_type": "stream",
     "text": [
      "GS Capacity for projects in GS and LBNL: 739170.45\n",
      "LBNL Capacity for project in GS and LBNL: 738740.12\n",
      "Ratio of LBNL to GS Capacity for project in GS and LBNL: 0.9994178203417088\n"
     ]
    }
   ],
   "source": [
    "both_miso = miso[miso.in_lbnl & miso.in_gs]\n",
    "\n",
    "compare_capacity(both_miso)"
   ]
  },
  {
   "cell_type": "markdown",
   "metadata": {
    "tags": []
   },
   "source": [
    "#### Compare total capacity for **active** projects in both"
   ]
  },
  {
   "cell_type": "code",
   "execution_count": 79,
   "metadata": {},
   "outputs": [
    {
     "data": {
      "text/plain": [
       "Status                    queue_status\n",
       "Withdrawn                 withdrawn       1831\n",
       "Active                    active          1324\n",
       "Done                      operational      449\n",
       "                          active           294\n",
       "Withdrawn                 active           116\n",
       "Done                      withdrawn         51\n",
       "Withdrawn                 operational        2\n",
       "Withdrawn - Pending Cure  withdrawn          2\n",
       "Active                    withdrawn          1\n",
       "dtype: int64"
      ]
     },
     "execution_count": 79,
     "metadata": {},
     "output_type": "execute_result"
    }
   ],
   "source": [
    "both_miso = miso[miso.in_lbnl & miso.in_gs]\n",
    "\n",
    "both_miso[[\"Status\", \"queue_status\"]].value_counts(dropna=False)"
   ]
  },
  {
   "cell_type": "code",
   "execution_count": 80,
   "metadata": {},
   "outputs": [
    {
     "data": {
      "text/plain": [
       "Done         294\n",
       "Withdrawn    116\n",
       "Name: Status, dtype: int64"
      ]
     },
     "execution_count": 80,
     "metadata": {},
     "output_type": "execute_result"
    }
   ],
   "source": [
    "active_in_lbnl_not_active_in_gs = both_miso[both_miso[\"queue_status\"].eq(\"active\") & both_miso[\"Status\"].ne(\"Active\")]\n",
    "active_in_lbnl_not_active_in_gs[\"Status\"].value_counts(dropna=False)"
   ]
  },
  {
   "cell_type": "code",
   "execution_count": 81,
   "metadata": {},
   "outputs": [
    {
     "data": {
      "text/plain": [
       "2021.0    77\n",
       "2022.0    54\n",
       "2023.0    43\n",
       "NaN       36\n",
       "2020.0    31\n",
       "2019.0    18\n",
       "2018.0    14\n",
       "2016.0     6\n",
       "2017.0     5\n",
       "2024.0     2\n",
       "2015.0     2\n",
       "2010.0     1\n",
       "2007.0     1\n",
       "2026.0     1\n",
       "2025.0     1\n",
       "2013.0     1\n",
       "2006.0     1\n",
       "Name: inService, dtype: int64"
      ]
     },
     "execution_count": 81,
     "metadata": {},
     "output_type": "execute_result"
    }
   ],
   "source": [
    "pd.to_datetime(active_in_lbnl_not_active_in_gs.query(\"Status == 'Done'\")[\"inService\"]).dt.year.value_counts(dropna=False)"
   ]
  },
  {
   "cell_type": "markdown",
   "metadata": {},
   "source": [
    "Seems like a bulk of projects that are active in lbnl but considered done in GS were completed in the last 5ish years. Only 43 projects went in service in 2023. Shouldn't LBNL have caught the other projects in service?"
   ]
  },
  {
   "cell_type": "code",
   "execution_count": 82,
   "metadata": {},
   "outputs": [
    {
     "data": {
      "text/plain": [
       "2023.0    109\n",
       "2022.0      6\n",
       "NaN         1\n",
       "Name: Withdrawn Date, dtype: int64"
      ]
     },
     "execution_count": 82,
     "metadata": {},
     "output_type": "execute_result"
    }
   ],
   "source": [
    "pd.to_datetime(active_in_lbnl_not_active_in_gs.query(\"Status == 'Withdrawn'\")[\"Withdrawn Date\"]).dt.year.value_counts(dropna=False)"
   ]
  },
  {
   "cell_type": "markdown",
   "metadata": {},
   "source": [
    "Great! The active LBNL projects that are Withdrawn in GS were mostly withdrawn in 2023."
   ]
  },
  {
   "cell_type": "code",
   "execution_count": 83,
   "metadata": {},
   "outputs": [
    {
     "name": "stdout",
     "output_type": "stream",
     "text": [
      "GS Capacity for projects in GS and LBNL: 236005.45\n",
      "LBNL Capacity for project in GS and LBNL: 236153.0\n",
      "Ratio of LBNL to GS Capacity for project in GS and LBNL: 1.0006251974265847\n"
     ]
    }
   ],
   "source": [
    "active_both_miso = both_miso[both_miso[\"queue_status\"].eq(\"active\") & both_miso[\"Status\"].eq(\"Active\")]\n",
    "\n",
    "compare_capacity(active_both_miso)"
   ]
  },
  {
   "cell_type": "markdown",
   "metadata": {},
   "source": [
    "Projects that are marked active in both LBNL and GS have very similar total capacities."
   ]
  },
  {
   "cell_type": "code",
   "execution_count": 230,
   "metadata": {},
   "outputs": [
    {
     "name": "stdout",
     "output_type": "stream",
     "text": [
      "Ratio of total LBNL capacity to total GS capacity 0.9730716678876931\n",
      "Ratio of total LBNL project to total GS projects 0.9571966133584195\n"
     ]
    }
   ],
   "source": [
    "gs_capacities = miso[miso.in_gs][\"Winter Capacity (MW)\"]\n",
    "lbnl_capacities = miso[miso.in_lbnl][\"capacity_mw_resource_1\"]\n",
    "\n",
    "print(f\"Ratio of total LBNL capacity to total GS capacity {lbnl_capacities.sum() / gs_capacities.sum()}\")\n",
    "print(f\"Ratio of total LBNL project to total GS projects {len(lbnl_capacities) / len(gs_capacities)}\")"
   ]
  },
  {
   "cell_type": "markdown",
   "metadata": {},
   "source": [
    "Total MISO Capacity is pretty similar in LBNL and GS. There are some differences in queue status but nothing alarming."
   ]
  },
  {
   "cell_type": "markdown",
   "metadata": {
    "tags": []
   },
   "source": [
    "### SPP\n",
    "\n",
    "* neither LBNL nor GridStatus have withdrawn projects\n",
    "* GridStatus destroys the detailed status information during their processing, so we lose the ability to distinguish between \"IA pending\" and \"System Integration Study\". But I don't think that is a problem because both are included in the \"actionable\" criteria in Synapse's model."
   ]
  },
  {
   "cell_type": "code",
   "execution_count": 88,
   "metadata": {},
   "outputs": [
    {
     "data": {
      "text/plain": [
       "Index(['Queue ID', 'Project Name', 'Interconnecting Entity', 'County', 'State', 'Interconnection Location', 'Transmission Owner', 'Generation Type', 'Capacity (MW)', 'Summer Capacity (MW)', 'Winter Capacity (MW)', 'Queue Date', 'Status', 'Proposed Completion Date', 'Withdrawn Date', 'Withdrawal Comment', 'Actual Completion Date', 'In-Service Date', 'Commercial Operation Date', 'Cessation Date', 'Current Cluster', 'Cluster Group', 'Replacement Generator Commercial Op Date', 'Service Type'], dtype='object')"
      ]
     },
     "execution_count": 88,
     "metadata": {},
     "output_type": "execute_result"
    }
   ],
   "source": [
    "raw_spp.columns\n"
   ]
  },
  {
   "cell_type": "code",
   "execution_count": 89,
   "metadata": {},
   "outputs": [
    {
     "name": "stdout",
     "output_type": "stream",
     "text": [
      "<class 'pandas.core.frame.DataFrame'>\n",
      "Int64Index: 965 entries, 0 to 964\n",
      "Data columns (total 34 columns):\n",
      " #   Column                                    Non-Null Count  Dtype  \n",
      "---  ------                                    --------------  -----  \n",
      " 0   Queue ID                                  950 non-null    object \n",
      " 1   Project Name                              0 non-null      object \n",
      " 2   Interconnecting Entity                    0 non-null      object \n",
      " 3   County                                    945 non-null    object \n",
      " 4   State                                     946 non-null    object \n",
      " 5   Interconnection Location                  933 non-null    object \n",
      " 6   Transmission Owner                        942 non-null    object \n",
      " 7   Generation Type                           950 non-null    object \n",
      " 8   Capacity (MW)                             950 non-null    float64\n",
      " 9   Summer Capacity (MW)                      950 non-null    float64\n",
      " 10  Winter Capacity (MW)                      950 non-null    float64\n",
      " 11  Queue Date                                950 non-null    object \n",
      " 12  Status                                    885 non-null    object \n",
      " 13  Proposed Completion Date                  925 non-null    object \n",
      " 14  Withdrawn Date                            0 non-null      object \n",
      " 15  Withdrawal Comment                        0 non-null      object \n",
      " 16  Actual Completion Date                    0 non-null      object \n",
      " 17  In-Service Date                           912 non-null    object \n",
      " 18  Commercial Operation Date                 925 non-null    object \n",
      " 19  Cessation Date                            3 non-null      object \n",
      " 20  Current Cluster                           915 non-null    object \n",
      " 21  Cluster Group                             907 non-null    object \n",
      " 22  Replacement Generator Commercial Op Date  3 non-null      object \n",
      " 23  Service Type                              950 non-null    object \n",
      " 24  queue_id                                  802 non-null    object \n",
      " 25  project_name                              0 non-null      object \n",
      " 26  queue_date                                801 non-null    object \n",
      " 27  queue_status                              797 non-null    object \n",
      " 28  interconnection_status_raw                802 non-null    object \n",
      " 29  interconnection_status_lbnl               802 non-null    object \n",
      " 30  capacity_mw_resource_1                    800 non-null    float64\n",
      " 31  resource_type_1                           802 non-null    object \n",
      " 32  in_lbnl                                   965 non-null    bool   \n",
      " 33  in_gs                                     965 non-null    bool   \n",
      "dtypes: bool(2), float64(4), object(28)\n",
      "memory usage: 250.7+ KB\n"
     ]
    }
   ],
   "source": [
    "spp = join_lbnl(raw_spp, lbnl, \"SPP\")\n",
    "spp.info()\n"
   ]
  },
  {
   "cell_type": "code",
   "execution_count": 90,
   "metadata": {},
   "outputs": [
    {
     "data": {
      "text/html": [
       "<div>\n",
       "<style scoped>\n",
       "    .dataframe tbody tr th:only-of-type {\n",
       "        vertical-align: middle;\n",
       "    }\n",
       "\n",
       "    .dataframe tbody tr th {\n",
       "        vertical-align: top;\n",
       "    }\n",
       "\n",
       "    .dataframe thead th {\n",
       "        text-align: right;\n",
       "    }\n",
       "</style>\n",
       "<table border=\"1\" class=\"dataframe\">\n",
       "  <thead>\n",
       "    <tr style=\"text-align: right;\">\n",
       "      <th></th>\n",
       "      <th>Queue ID</th>\n",
       "      <th>Project Name</th>\n",
       "      <th>Interconnecting Entity</th>\n",
       "      <th>County</th>\n",
       "      <th>State</th>\n",
       "      <th>Interconnection Location</th>\n",
       "      <th>Transmission Owner</th>\n",
       "      <th>Generation Type</th>\n",
       "      <th>Capacity (MW)</th>\n",
       "      <th>Summer Capacity (MW)</th>\n",
       "      <th>Winter Capacity (MW)</th>\n",
       "      <th>Queue Date</th>\n",
       "      <th>Status</th>\n",
       "      <th>Proposed Completion Date</th>\n",
       "      <th>Withdrawn Date</th>\n",
       "      <th>Withdrawal Comment</th>\n",
       "      <th>Actual Completion Date</th>\n",
       "      <th>In-Service Date</th>\n",
       "      <th>Commercial Operation Date</th>\n",
       "      <th>Cessation Date</th>\n",
       "      <th>Current Cluster</th>\n",
       "      <th>Cluster Group</th>\n",
       "      <th>Replacement Generator Commercial Op Date</th>\n",
       "      <th>Service Type</th>\n",
       "      <th>queue_id</th>\n",
       "      <th>project_name</th>\n",
       "      <th>queue_date</th>\n",
       "      <th>queue_status</th>\n",
       "      <th>interconnection_status_raw</th>\n",
       "      <th>interconnection_status_lbnl</th>\n",
       "      <th>capacity_mw_resource_1</th>\n",
       "      <th>resource_type_1</th>\n",
       "      <th>in_lbnl</th>\n",
       "      <th>in_gs</th>\n",
       "    </tr>\n",
       "  </thead>\n",
       "  <tbody>\n",
       "    <tr>\n",
       "      <th>482</th>\n",
       "      <td>GEN-2018-112</td>\n",
       "      <td>None</td>\n",
       "      <td>None</td>\n",
       "      <td>Parmer</td>\n",
       "      <td>TX</td>\n",
       "      <td>Tolk 230kV substation</td>\n",
       "      <td>SPS</td>\n",
       "      <td>Solar</td>\n",
       "      <td>185.0</td>\n",
       "      <td>185.0</td>\n",
       "      <td>185.0</td>\n",
       "      <td>11/21/2018</td>\n",
       "      <td>Active</td>\n",
       "      <td>12/31/2027</td>\n",
       "      <td>None</td>\n",
       "      <td>None</td>\n",
       "      <td>None</td>\n",
       "      <td>12/31/2023</td>\n",
       "      <td>12/31/2027</td>\n",
       "      <td>None</td>\n",
       "      <td>DISIS-2018-002</td>\n",
       "      <td>05 SOUTHWEST</td>\n",
       "      <td>None</td>\n",
       "      <td>ER</td>\n",
       "      <td>GEN-2018-112</td>\n",
       "      <td>NaN</td>\n",
       "      <td>11/21/2018</td>\n",
       "      <td>active</td>\n",
       "      <td>DISIS STAGE</td>\n",
       "      <td>System Impact Study</td>\n",
       "      <td>185.0</td>\n",
       "      <td>Solar</td>\n",
       "      <td>True</td>\n",
       "      <td>True</td>\n",
       "    </tr>\n",
       "    <tr>\n",
       "      <th>710</th>\n",
       "      <td>GEN-2016-047</td>\n",
       "      <td>None</td>\n",
       "      <td>None</td>\n",
       "      <td>Canadian</td>\n",
       "      <td>OK</td>\n",
       "      <td>Mustang 69kV</td>\n",
       "      <td>OGE</td>\n",
       "      <td>Thermal - CT</td>\n",
       "      <td>24.0</td>\n",
       "      <td>8.0</td>\n",
       "      <td>24.0</td>\n",
       "      <td>3/31/2016</td>\n",
       "      <td>Completed</td>\n",
       "      <td>3/24/2018</td>\n",
       "      <td>None</td>\n",
       "      <td>None</td>\n",
       "      <td>None</td>\n",
       "      <td>12/31/2017</td>\n",
       "      <td>3/24/2018</td>\n",
       "      <td>None</td>\n",
       "      <td>DISIS-2016-001-3</td>\n",
       "      <td>04 SOUTHEAST</td>\n",
       "      <td>None</td>\n",
       "      <td>ER</td>\n",
       "      <td>GEN-2016-047</td>\n",
       "      <td>NaN</td>\n",
       "      <td>3/31/2016</td>\n",
       "      <td>operational</td>\n",
       "      <td>IA FULLY EXECUTED/COMMERCIAL OPERATION</td>\n",
       "      <td>Operational</td>\n",
       "      <td>24.0</td>\n",
       "      <td>Gas</td>\n",
       "      <td>True</td>\n",
       "      <td>True</td>\n",
       "    </tr>\n",
       "    <tr>\n",
       "      <th>934</th>\n",
       "      <td>GEN-2002-008</td>\n",
       "      <td>None</td>\n",
       "      <td>None</td>\n",
       "      <td>Hansford County</td>\n",
       "      <td>TX</td>\n",
       "      <td>Hitchland 345kV</td>\n",
       "      <td>SPS</td>\n",
       "      <td>Wind</td>\n",
       "      <td>240.0</td>\n",
       "      <td>240.0</td>\n",
       "      <td>240.0</td>\n",
       "      <td>7/19/2002</td>\n",
       "      <td>Completed</td>\n",
       "      <td>12/30/2008</td>\n",
       "      <td>None</td>\n",
       "      <td>None</td>\n",
       "      <td>None</td>\n",
       "      <td>11/1/2007</td>\n",
       "      <td>12/30/2008</td>\n",
       "      <td>None</td>\n",
       "      <td>ICS-2008-001 Prior Queued</td>\n",
       "      <td>05 SOUTHWEST</td>\n",
       "      <td>None</td>\n",
       "      <td>ER</td>\n",
       "      <td>GEN-2002-008</td>\n",
       "      <td>NaN</td>\n",
       "      <td>7/19/2002</td>\n",
       "      <td>operational</td>\n",
       "      <td>IA FULLY EXECUTED/COMMERCIAL OPERATION</td>\n",
       "      <td>Operational</td>\n",
       "      <td>240.0</td>\n",
       "      <td>Wind</td>\n",
       "      <td>True</td>\n",
       "      <td>True</td>\n",
       "    </tr>\n",
       "    <tr>\n",
       "      <th>435</th>\n",
       "      <td>GEN-2019-069</td>\n",
       "      <td>None</td>\n",
       "      <td>None</td>\n",
       "      <td>Madison</td>\n",
       "      <td>NE</td>\n",
       "      <td>Shell Creek-Hoskins 345kV Line</td>\n",
       "      <td>NPPD</td>\n",
       "      <td>Solar</td>\n",
       "      <td>100.0</td>\n",
       "      <td>100.0</td>\n",
       "      <td>100.0</td>\n",
       "      <td>5/24/2019</td>\n",
       "      <td>Active</td>\n",
       "      <td>12/31/2027</td>\n",
       "      <td>None</td>\n",
       "      <td>None</td>\n",
       "      <td>None</td>\n",
       "      <td>12/31/2023</td>\n",
       "      <td>12/31/2027</td>\n",
       "      <td>None</td>\n",
       "      <td>DISIS-2019-001</td>\n",
       "      <td>02 NEBRASKA</td>\n",
       "      <td>None</td>\n",
       "      <td>ER</td>\n",
       "      <td>GEN-2019-069</td>\n",
       "      <td>NaN</td>\n",
       "      <td>5/24/2019</td>\n",
       "      <td>active</td>\n",
       "      <td>DISIS STAGE</td>\n",
       "      <td>System Impact Study</td>\n",
       "      <td>100.0</td>\n",
       "      <td>Solar</td>\n",
       "      <td>True</td>\n",
       "      <td>True</td>\n",
       "    </tr>\n",
       "  </tbody>\n",
       "</table>\n",
       "</div>"
      ],
      "text/plain": [
       "         Queue ID Project Name Interconnecting Entity           County State        Interconnection Location Transmission Owner Generation Type  Capacity (MW)  Summer Capacity (MW)  Winter Capacity (MW)  Queue Date     Status Proposed Completion Date Withdrawn Date Withdrawal Comment Actual Completion Date In-Service Date Commercial Operation Date Cessation Date            Current Cluster Cluster Group Replacement Generator Commercial Op Date Service Type      queue_id project_name  queue_date queue_status              interconnection_status_raw interconnection_status_lbnl  capacity_mw_resource_1 resource_type_1  in_lbnl  in_gs\n",
       "482  GEN-2018-112         None                   None           Parmer    TX           Tolk 230kV substation                SPS           Solar          185.0                 185.0                 185.0  11/21/2018     Active               12/31/2027           None               None                   None      12/31/2023                12/31/2027           None             DISIS-2018-002  05 SOUTHWEST                                     None           ER  GEN-2018-112          NaN  11/21/2018       active                             DISIS STAGE         System Impact Study                   185.0           Solar     True   True\n",
       "710  GEN-2016-047         None                   None         Canadian    OK                    Mustang 69kV                OGE    Thermal - CT           24.0                   8.0                  24.0   3/31/2016  Completed                3/24/2018           None               None                   None      12/31/2017                 3/24/2018           None           DISIS-2016-001-3  04 SOUTHEAST                                     None           ER  GEN-2016-047          NaN   3/31/2016  operational  IA FULLY EXECUTED/COMMERCIAL OPERATION                 Operational                    24.0             Gas     True   True\n",
       "934  GEN-2002-008         None                   None  Hansford County    TX                 Hitchland 345kV                SPS            Wind          240.0                 240.0                 240.0   7/19/2002  Completed               12/30/2008           None               None                   None       11/1/2007                12/30/2008           None  ICS-2008-001 Prior Queued  05 SOUTHWEST                                     None           ER  GEN-2002-008          NaN   7/19/2002  operational  IA FULLY EXECUTED/COMMERCIAL OPERATION                 Operational                   240.0            Wind     True   True\n",
       "435  GEN-2019-069         None                   None          Madison    NE  Shell Creek-Hoskins 345kV Line               NPPD           Solar          100.0                 100.0                 100.0   5/24/2019     Active               12/31/2027           None               None                   None      12/31/2023                12/31/2027           None             DISIS-2019-001   02 NEBRASKA                                     None           ER  GEN-2019-069          NaN   5/24/2019       active                             DISIS STAGE         System Impact Study                   100.0           Solar     True   True"
      ]
     },
     "execution_count": 90,
     "metadata": {},
     "output_type": "execute_result"
    }
   ],
   "source": [
    "spp.sample(4)\n"
   ]
  },
  {
   "cell_type": "code",
   "execution_count": 91,
   "metadata": {},
   "outputs": [
    {
     "data": {
      "text/plain": [
       "in_gs  in_lbnl\n",
       "True   True       787\n",
       "       False      163\n",
       "False  True        15\n",
       "dtype: int64"
      ]
     },
     "execution_count": 91,
     "metadata": {},
     "output_type": "execute_result"
    }
   ],
   "source": [
    "spp[[\"in_gs\", \"in_lbnl\"]].value_counts(dropna=False)\n"
   ]
  },
  {
   "cell_type": "markdown",
   "metadata": {
    "tags": []
   },
   "source": [
    "#### Compare total capacity for projects in both"
   ]
  },
  {
   "cell_type": "code",
   "execution_count": 92,
   "metadata": {
    "tags": []
   },
   "outputs": [
    {
     "name": "stdout",
     "output_type": "stream",
     "text": [
      "GS Capacity for projects in GS and LBNL: 140663.164\n",
      "LBNL Capacity for project in GS and LBNL: 141089.1\n",
      "Ratio of LBNL to GS Capacity for project in GS and LBNL: 1.0030280564426948\n"
     ]
    }
   ],
   "source": [
    "both_spp = spp[spp.in_lbnl & spp.in_gs]\n",
    "\n",
    "compare_capacity(both_spp)"
   ]
  },
  {
   "cell_type": "markdown",
   "metadata": {
    "tags": []
   },
   "source": [
    "#### Compare total capacity for **active** projects in both"
   ]
  },
  {
   "cell_type": "code",
   "execution_count": 93,
   "metadata": {},
   "outputs": [
    {
     "data": {
      "text/plain": [
       "Status     queue_status\n",
       "Active     active          391\n",
       "Completed  operational     240\n",
       "Active     NaN             166\n",
       "Completed  active           87\n",
       "NaN        active           78\n",
       "           NaN               2\n",
       "Completed  suspended         1\n",
       "dtype: int64"
      ]
     },
     "execution_count": 93,
     "metadata": {},
     "output_type": "execute_result"
    }
   ],
   "source": [
    "spp[[\"Status\", \"queue_status\"]].value_counts(dropna=False)"
   ]
  },
  {
   "cell_type": "code",
   "execution_count": 105,
   "metadata": {},
   "outputs": [
    {
     "name": "stdout",
     "output_type": "stream",
     "text": [
      "GS Capacity for projects in GS and LBNL: 73897.624\n",
      "LBNL Capacity for project in GS and LBNL: 74306.0\n",
      "Ratio of LBNL to GS Capacity for project in GS and LBNL: 1.005526239923492\n"
     ]
    }
   ],
   "source": [
    "spp_gs_completed_lbnl_active = spp[spp[\"queue_status\"].eq(\"active\") & spp[\"Status\"].eq(\"Active\")]\n",
    "compare_capacity(spp_gs_completed_lbnl_active)"
   ]
  },
  {
   "cell_type": "markdown",
   "metadata": {},
   "source": [
    "Some mismatching in status column for projects that are active in both datasets the capacities look good."
   ]
  },
  {
   "cell_type": "markdown",
   "metadata": {},
   "source": [
    "#### Compare total capacity for all projects"
   ]
  },
  {
   "cell_type": "code",
   "execution_count": 260,
   "metadata": {},
   "outputs": [
    {
     "name": "stdout",
     "output_type": "stream",
     "text": [
      "Ratio of total LBNL capacity to total GS capacity 0.8197146260795777\n",
      "Ratio of total LBNL project to total GS projects 0.8442105263157895\n"
     ]
    }
   ],
   "source": [
    "gs_capacities = spp[spp.in_gs][\"Capacity (MW)\"]\n",
    "lbnl_capacities = spp[spp.in_lbnl][\"capacity_mw_resource_1\"]\n",
    "\n",
    "print(f\"Ratio of total LBNL capacity to total GS capacity {lbnl_capacities.sum() / gs_capacities.sum()}\")\n",
    "print(f\"Ratio of total LBNL project to total GS projects {len(lbnl_capacities) / len(gs_capacities)}\")"
   ]
  },
  {
   "cell_type": "markdown",
   "metadata": {},
   "source": [
    "### PJM\n",
    "Like MISO, good project coverage, but the IA status categories are a mess.\n",
    "\n",
    "\"Active\" applied up to IA execution. Then \"Engineering and Procurement\" applied to IA execution through COD. Then \"In Service\"."
   ]
  },
  {
   "cell_type": "code",
   "execution_count": 114,
   "metadata": {},
   "outputs": [
    {
     "data": {
      "text/plain": [
       "Index(['Queue ID', 'Project Name', 'Interconnecting Entity', 'County', 'State', 'Interconnection Location', 'Transmission Owner', 'Generation Type', 'Capacity (MW)', 'Summer Capacity (MW)', 'Winter Capacity (MW)', 'Queue Date', 'Status', 'Proposed Completion Date', 'Withdrawn Date', 'Withdrawal Comment', 'Actual Completion Date', 'MW In Service', 'Commercial Name', 'Initial Study', 'Feasibility Study', 'Feasibility Study Status', 'System Impact Study', 'System Impact Study Status', 'Facilities Study', 'Facilities Study Status', 'Interim Interconnection Service Agreement', 'Interim/Interconnection Service Agreement Status', 'Wholesale Market Participation Agreement', 'Construction Service Agreement', 'Construction Service Agreement Status', 'Upgrade Construction Service Agreement', 'Upgrade Construction Service Agreement Status', 'Backfeed Date', 'Long-Term Firm Service Start Date', 'Long-Term Firm Service End Date', 'Test Energy Date'], dtype='object')"
      ]
     },
     "execution_count": 114,
     "metadata": {},
     "output_type": "execute_result"
    }
   ],
   "source": [
    "raw_pjm.columns\n"
   ]
  },
  {
   "cell_type": "code",
   "execution_count": 115,
   "metadata": {},
   "outputs": [
    {
     "data": {
      "text/plain": [
       "Interim/Interconnection Service Agreement Status  Status                                   \n",
       "Document Posted                                   Active                                          3\n",
       "                                                  Deactivated                                    46\n",
       "                                                  Engineering and Procurement                   240\n",
       "                                                  In Service                                    839\n",
       "                                                  Partially in Service - Under Construction      47\n",
       "                                                  Suspended                                      47\n",
       "                                                  Under Construction                             38\n",
       "                                                  Withdrawn                                     206\n",
       "Interim Study                                     Active                                         20\n",
       "                                                  Withdrawn                                      12\n",
       "Not Required                                      In Service                                     13\n",
       "                                                  Withdrawn                                      33\n",
       "Wholesale Market Participation Agreement          Deactivated                                    11\n",
       "                                                  Engineering and Procurement                   108\n",
       "                                                  In Service                                    179\n",
       "                                                  Partially in Service - Under Construction       9\n",
       "                                                  Suspended                                      36\n",
       "                                                  Under Construction                             14\n",
       "                                                  Withdrawn                                     330\n",
       "Withdrawn                                         Withdrawn                                     428\n",
       "NaN                                               Active                                       2931\n",
       "                                                  Annulled                                       24\n",
       "                                                  Confirmed                                     223\n",
       "                                                  Engineering and Procurement                     1\n",
       "                                                  In Service                                     13\n",
       "                                                  Retracted                                     131\n",
       "                                                  Withdrawn                                    3048\n",
       "dtype: int64"
      ]
     },
     "execution_count": 115,
     "metadata": {},
     "output_type": "execute_result"
    }
   ],
   "source": [
    "# \"Active\" stops at IA execution\n",
    "raw_pjm[['Interim/Interconnection Service Agreement Status', 'Status']].value_counts(dropna=False).sort_index()\n"
   ]
  },
  {
   "cell_type": "code",
   "execution_count": 116,
   "metadata": {},
   "outputs": [
    {
     "name": "stdout",
     "output_type": "stream",
     "text": [
      "<class 'pandas.core.frame.DataFrame'>\n",
      "Int64Index: 9030 entries, 0 to 9029\n",
      "Data columns (total 47 columns):\n",
      " #   Column                                            Non-Null Count  Dtype  \n",
      "---  ------                                            --------------  -----  \n",
      " 0   Queue ID                                          9030 non-null   object \n",
      " 1   Project Name                                      8806 non-null   object \n",
      " 2   Interconnecting Entity                            0 non-null      object \n",
      " 3   County                                            8168 non-null   object \n",
      " 4   State                                             8225 non-null   object \n",
      " 5   Interconnection Location                          0 non-null      object \n",
      " 6   Transmission Owner                                8312 non-null   object \n",
      " 7   Generation Type                                   8045 non-null   object \n",
      " 8   Capacity (MW)                                     8806 non-null   float64\n",
      " 9   Summer Capacity (MW)                              7954 non-null   float64\n",
      " 10  Winter Capacity (MW)                              8084 non-null   float64\n",
      " 11  Queue Date                                        8941 non-null   object \n",
      " 12  Status                                            9030 non-null   object \n",
      " 13  Proposed Completion Date                          2135 non-null   object \n",
      " 14  Withdrawn Date                                    4039 non-null   object \n",
      " 15  Withdrawal Comment                                1850 non-null   object \n",
      " 16  Actual Completion Date                            1147 non-null   object \n",
      " 17  MW In Service                                     1094 non-null   float64\n",
      " 18  Commercial Name                                   2080 non-null   object \n",
      " 19  Initial Study                                     357 non-null    object \n",
      " 20  Feasibility Study                                 5361 non-null   object \n",
      " 21  Feasibility Study Status                          8293 non-null   object \n",
      " 22  System Impact Study                               4315 non-null   object \n",
      " 23  System Impact Study Status                        5434 non-null   object \n",
      " 24  Facilities Study                                  1030 non-null   object \n",
      " 25  Facilities Study Status                           3896 non-null   object \n",
      " 26  Interim Interconnection Service Agreement         1499 non-null   object \n",
      " 27  Interim/Interconnection Service Agreement Status  2659 non-null   object \n",
      " 28  Wholesale Market Participation Agreement          687 non-null    object \n",
      " 29  Construction Service Agreement                    1250 non-null   object \n",
      " 30  Construction Service Agreement Status             2539 non-null   object \n",
      " 31  Upgrade Construction Service Agreement            1 non-null      object \n",
      " 32  Upgrade Construction Service Agreement Status     3 non-null      object \n",
      " 33  Backfeed Date                                     187 non-null    object \n",
      " 34  Long-Term Firm Service Start Date                 698 non-null    object \n",
      " 35  Long-Term Firm Service End Date                   698 non-null    object \n",
      " 36  Test Energy Date                                  452 non-null    object \n",
      " 37  queue_id                                          7738 non-null   object \n",
      " 38  project_name                                      2012 non-null   object \n",
      " 39  queue_date                                        7738 non-null   object \n",
      " 40  queue_status                                      7738 non-null   object \n",
      " 41  interconnection_status_raw                        7738 non-null   object \n",
      " 42  interconnection_status_lbnl                       7738 non-null   object \n",
      " 43  capacity_mw_resource_1                            7738 non-null   float64\n",
      " 44  resource_type_1                                   7738 non-null   object \n",
      " 45  in_lbnl                                           9030 non-null   bool   \n",
      " 46  in_gs                                             9030 non-null   bool   \n",
      "dtypes: bool(2), float64(5), object(40)\n",
      "memory usage: 3.2+ MB\n"
     ]
    }
   ],
   "source": [
    "pjm = join_lbnl(raw_pjm, lbnl, \"PJM\")\n",
    "pjm.info()\n"
   ]
  },
  {
   "cell_type": "markdown",
   "metadata": {
    "tags": []
   },
   "source": [
    "#### Compare total capacity for projects in both"
   ]
  },
  {
   "cell_type": "code",
   "execution_count": 122,
   "metadata": {
    "tags": []
   },
   "outputs": [
    {
     "name": "stdout",
     "output_type": "stream",
     "text": [
      "GS Capacity for projects in GS and LBNL: 1082315.8621\n",
      "LBNL Capacity for project in GS and LBNL: 823962.307\n",
      "Ratio of LBNL to GS Capacity for project in GS and LBNL: 0.7612956031165239\n"
     ]
    }
   ],
   "source": [
    "both_pjm = pjm[pjm.in_lbnl & pjm.in_gs].copy()\n",
    "\n",
    "compare_capacity(both_pjm)"
   ]
  },
  {
   "cell_type": "markdown",
   "metadata": {},
   "source": [
    "GS has about 25% more capacity for projects in both. Which projects have super different values? Is it a units issue?"
   ]
  },
  {
   "cell_type": "code",
   "execution_count": 127,
   "metadata": {},
   "outputs": [
    {
     "data": {
      "text/plain": [
       "count    7687.000000\n",
       "mean       33.610193\n",
       "std       155.122256\n",
       "min      -378.000000\n",
       "25%         0.000000\n",
       "50%         0.000000\n",
       "75%         0.000000\n",
       "max      2402.000000\n",
       "Name: capacity_diff, dtype: float64"
      ]
     },
     "execution_count": 127,
     "metadata": {},
     "output_type": "execute_result"
    }
   ],
   "source": [
    "both_pjm[\"capacity_diff\"] = both_pjm[\"Capacity (MW)\"] - both_pjm[\"capacity_mw_resource_1\"]\n",
    "\n",
    "both_pjm[\"capacity_diff\"].describe()"
   ]
  },
  {
   "cell_type": "code",
   "execution_count": 147,
   "metadata": {},
   "outputs": [
    {
     "name": "stdout",
     "output_type": "stream",
     "text": [
      "False    5682\n",
      "True     2056\n",
      "Name: capacity_diff, dtype: int64\n"
     ]
    },
    {
     "data": {
      "text/html": [
       "<div>\n",
       "<style scoped>\n",
       "    .dataframe tbody tr th:only-of-type {\n",
       "        vertical-align: middle;\n",
       "    }\n",
       "\n",
       "    .dataframe tbody tr th {\n",
       "        vertical-align: top;\n",
       "    }\n",
       "\n",
       "    .dataframe thead th {\n",
       "        text-align: right;\n",
       "    }\n",
       "</style>\n",
       "<table border=\"1\" class=\"dataframe\">\n",
       "  <thead>\n",
       "    <tr style=\"text-align: right;\">\n",
       "      <th></th>\n",
       "      <th>Capacity (MW)</th>\n",
       "      <th>Summer Capacity (MW)</th>\n",
       "      <th>Winter Capacity (MW)</th>\n",
       "      <th>capacity_mw_resource_1</th>\n",
       "    </tr>\n",
       "  </thead>\n",
       "  <tbody>\n",
       "    <tr>\n",
       "      <th>3911</th>\n",
       "      <td>22.0000</td>\n",
       "      <td>152.0</td>\n",
       "      <td>400.0</td>\n",
       "      <td>400.0</td>\n",
       "    </tr>\n",
       "    <tr>\n",
       "      <th>3870</th>\n",
       "      <td>280.0000</td>\n",
       "      <td>550.0</td>\n",
       "      <td>550.0</td>\n",
       "      <td>550.0</td>\n",
       "    </tr>\n",
       "    <tr>\n",
       "      <th>101</th>\n",
       "      <td>325.0000</td>\n",
       "      <td>304.0</td>\n",
       "      <td>525.0</td>\n",
       "      <td>525.0</td>\n",
       "    </tr>\n",
       "    <tr>\n",
       "      <th>54</th>\n",
       "      <td>301.0000</td>\n",
       "      <td>500.0</td>\n",
       "      <td>500.0</td>\n",
       "      <td>500.0</td>\n",
       "    </tr>\n",
       "    <tr>\n",
       "      <th>10</th>\n",
       "      <td>31.2000</td>\n",
       "      <td>201.0</td>\n",
       "      <td>201.0</td>\n",
       "      <td>201.0</td>\n",
       "    </tr>\n",
       "    <tr>\n",
       "      <th>3167</th>\n",
       "      <td>8.8571</td>\n",
       "      <td>46.0</td>\n",
       "      <td>161.0</td>\n",
       "      <td>161.0</td>\n",
       "    </tr>\n",
       "    <tr>\n",
       "      <th>3991</th>\n",
       "      <td>175.0000</td>\n",
       "      <td>220.8</td>\n",
       "      <td>320.0</td>\n",
       "      <td>320.0</td>\n",
       "    </tr>\n",
       "    <tr>\n",
       "      <th>597</th>\n",
       "      <td>100.0000</td>\n",
       "      <td>225.0</td>\n",
       "      <td>225.0</td>\n",
       "      <td>225.0</td>\n",
       "    </tr>\n",
       "    <tr>\n",
       "      <th>260</th>\n",
       "      <td>5.0000</td>\n",
       "      <td>107.0</td>\n",
       "      <td>107.0</td>\n",
       "      <td>107.0</td>\n",
       "    </tr>\n",
       "    <tr>\n",
       "      <th>3900</th>\n",
       "      <td>1.0000</td>\n",
       "      <td>56.0</td>\n",
       "      <td>80.0</td>\n",
       "      <td>80.0</td>\n",
       "    </tr>\n",
       "    <tr>\n",
       "      <th>252</th>\n",
       "      <td>25.3000</td>\n",
       "      <td>104.0</td>\n",
       "      <td>104.0</td>\n",
       "      <td>104.0</td>\n",
       "    </tr>\n",
       "    <tr>\n",
       "      <th>97</th>\n",
       "      <td>528.0000</td>\n",
       "      <td>605.0</td>\n",
       "      <td>605.0</td>\n",
       "      <td>605.0</td>\n",
       "    </tr>\n",
       "    <tr>\n",
       "      <th>303</th>\n",
       "      <td>12.0000</td>\n",
       "      <td>78.0</td>\n",
       "      <td>78.0</td>\n",
       "      <td>78.0</td>\n",
       "    </tr>\n",
       "    <tr>\n",
       "      <th>3590</th>\n",
       "      <td>532.0000</td>\n",
       "      <td>590.0</td>\n",
       "      <td>590.0</td>\n",
       "      <td>590.0</td>\n",
       "    </tr>\n",
       "    <tr>\n",
       "      <th>601</th>\n",
       "      <td>135.0000</td>\n",
       "      <td>37.2</td>\n",
       "      <td>190.5</td>\n",
       "      <td>191.0</td>\n",
       "    </tr>\n",
       "    <tr>\n",
       "      <th>447</th>\n",
       "      <td>132.5000</td>\n",
       "      <td>37.2</td>\n",
       "      <td>186.0</td>\n",
       "      <td>186.0</td>\n",
       "    </tr>\n",
       "    <tr>\n",
       "      <th>127</th>\n",
       "      <td>18.0000</td>\n",
       "      <td>69.0</td>\n",
       "      <td>69.0</td>\n",
       "      <td>69.0</td>\n",
       "    </tr>\n",
       "    <tr>\n",
       "      <th>790</th>\n",
       "      <td>99.0000</td>\n",
       "      <td>30.0</td>\n",
       "      <td>150.0</td>\n",
       "      <td>150.0</td>\n",
       "    </tr>\n",
       "    <tr>\n",
       "      <th>4488</th>\n",
       "      <td>150.0000</td>\n",
       "      <td>100.0</td>\n",
       "      <td>150.0</td>\n",
       "      <td>200.0</td>\n",
       "    </tr>\n",
       "    <tr>\n",
       "      <th>152</th>\n",
       "      <td>50.0000</td>\n",
       "      <td>100.0</td>\n",
       "      <td>100.0</td>\n",
       "      <td>100.0</td>\n",
       "    </tr>\n",
       "  </tbody>\n",
       "</table>\n",
       "</div>"
      ],
      "text/plain": [
       "      Capacity (MW)  Summer Capacity (MW)  Winter Capacity (MW)  capacity_mw_resource_1\n",
       "3911        22.0000                 152.0                 400.0                   400.0\n",
       "3870       280.0000                 550.0                 550.0                   550.0\n",
       "101        325.0000                 304.0                 525.0                   525.0\n",
       "54         301.0000                 500.0                 500.0                   500.0\n",
       "10          31.2000                 201.0                 201.0                   201.0\n",
       "3167         8.8571                  46.0                 161.0                   161.0\n",
       "3991       175.0000                 220.8                 320.0                   320.0\n",
       "597        100.0000                 225.0                 225.0                   225.0\n",
       "260          5.0000                 107.0                 107.0                   107.0\n",
       "3900         1.0000                  56.0                  80.0                    80.0\n",
       "252         25.3000                 104.0                 104.0                   104.0\n",
       "97         528.0000                 605.0                 605.0                   605.0\n",
       "303         12.0000                  78.0                  78.0                    78.0\n",
       "3590       532.0000                 590.0                 590.0                   590.0\n",
       "601        135.0000                  37.2                 190.5                   191.0\n",
       "447        132.5000                  37.2                 186.0                   186.0\n",
       "127         18.0000                  69.0                  69.0                    69.0\n",
       "790         99.0000                  30.0                 150.0                   150.0\n",
       "4488       150.0000                 100.0                 150.0                   200.0\n",
       "152         50.0000                 100.0                 100.0                   100.0"
      ]
     },
     "execution_count": 147,
     "metadata": {},
     "output_type": "execute_result"
    }
   ],
   "source": [
    "print(both_pjm[\"capacity_diff\"].ne(0).value_counts())\n",
    "\n",
    "cap_fields = [\n",
    "    \"Capacity (MW)\",\n",
    "    \"Summer Capacity (MW)\",\n",
    "    \"Winter Capacity (MW)\",\n",
    "    \"capacity_mw_resource_1\"\n",
    "]\n",
    "\n",
    "both_pjm_diff_caps = both_pjm[both_pjm[\"capacity_diff\"].ne(0) & ~both_pjm[\"Capacity (MW)\"].isna()].sort_values(\"capacity_diff\").copy()\n",
    "both_pjm_diff_caps[cap_fields].head(20)"
   ]
  },
  {
   "cell_type": "markdown",
   "metadata": {},
   "source": [
    "What is the difference between \"MW Capacity\", \"MW Energy\", \"MFO\", \"MW In Service\"? It seems like LBNL used \"MW Capacity\""
   ]
  },
  {
   "cell_type": "code",
   "execution_count": 149,
   "metadata": {},
   "outputs": [
    {
     "name": "stdout",
     "output_type": "stream",
     "text": [
      "GS Capacity for projects in GS and LBNL: 818866.6222000001\n",
      "LBNL Capacity for project in GS and LBNL: 823962.307\n",
      "Ratio of LBNL to GS Capacity for project in GS and LBNL: 1.0062228507816202\n"
     ]
    }
   ],
   "source": [
    "# GS renames \"MW Energy\" to \"Winter Capacity (MW)\"\n",
    "compare_capacity(both_pjm, gs_cap_col=\"Winter Capacity (MW)\")"
   ]
  },
  {
   "cell_type": "markdown",
   "metadata": {},
   "source": [
    "Looks like lbnl used \"MW Energy\" to measure capacity. Which columns should we be using?!"
   ]
  },
  {
   "cell_type": "markdown",
   "metadata": {
    "tags": []
   },
   "source": [
    "#### Compare total capacity for **active** projects in both"
   ]
  },
  {
   "cell_type": "code",
   "execution_count": 151,
   "metadata": {},
   "outputs": [
    {
     "data": {
      "text/plain": [
       "Status                                     queue_status\n",
       "Withdrawn                                  withdrawn       3503\n",
       "Active                                     active          2587\n",
       "In Service                                 operational     1008\n",
       "Withdrawn                                  NaN              522\n",
       "Active                                     NaN              367\n",
       "Engineering and Procurement                active           337\n",
       "Confirmed                                  NaN              223\n",
       "Retracted                                  NaN              131\n",
       "Suspended                                  suspended         65\n",
       "Deactivated                                withdrawn         55\n",
       "Under Construction                         active            52\n",
       "Partially in Service - Under Construction  operational       50\n",
       "Withdrawn                                  active            31\n",
       "In Service                                 NaN               25\n",
       "Annulled                                   NaN               24\n",
       "Suspended                                  active            18\n",
       "Engineering and Procurement                suspended         12\n",
       "In Service                                 active            11\n",
       "Partially in Service - Under Construction  active             6\n",
       "Deactivated                                operational        2\n",
       "Withdrawn                                  operational        1\n",
       "dtype: int64"
      ]
     },
     "execution_count": 151,
     "metadata": {},
     "output_type": "execute_result"
    }
   ],
   "source": [
    "pjm[[\"Status\", \"queue_status\"]].value_counts(dropna=False)"
   ]
  },
  {
   "cell_type": "code",
   "execution_count": 152,
   "metadata": {},
   "outputs": [
    {
     "name": "stdout",
     "output_type": "stream",
     "text": [
      "GS Capacity for projects in GS and LBNL: 246307.9564\n",
      "LBNL Capacity for project in GS and LBNL: 250500.69\n",
      "Ratio of LBNL to GS Capacity for project in GS and LBNL: 1.0170223230352782\n"
     ]
    }
   ],
   "source": [
    "pjm_active_in_both = pjm[pjm[\"queue_status\"].eq(\"active\") & pjm[\"Status\"].eq(\"Active\")]\n",
    "compare_capacity(pjm_active_in_both, gs_cap_col=\"Winter Capacity (MW)\")"
   ]
  },
  {
   "cell_type": "markdown",
   "metadata": {},
   "source": [
    "Some mismatching in status column for projects that are active in both datasets the capacities look good."
   ]
  },
  {
   "cell_type": "markdown",
   "metadata": {},
   "source": [
    "#### Compare total capacity for all projects"
   ]
  },
  {
   "cell_type": "code",
   "execution_count": 228,
   "metadata": {},
   "outputs": [
    {
     "name": "stdout",
     "output_type": "stream",
     "text": [
      "Ratio of total LBNL capacity to total GS capacity 0.9477184944350041\n",
      "Ratio of total LBNL project to total GS projects 0.8569213732004429\n"
     ]
    }
   ],
   "source": [
    "gs_capacities = pjm[pjm.in_gs][\"Winter Capacity (MW)\"]\n",
    "lbnl_capacities = pjm[pjm.in_lbnl][\"capacity_mw_resource_1\"]\n",
    "\n",
    "print(f\"Ratio of total LBNL capacity to total GS capacity {lbnl_capacities.sum() / gs_capacities.sum()}\")\n",
    "print(f\"Ratio of total LBNL project to total GS projects {len(lbnl_capacities) / len(gs_capacities)}\")"
   ]
  },
  {
   "cell_type": "markdown",
   "metadata": {},
   "source": [
    "GS has a little more capacity and projecdts than LBNL."
   ]
  },
  {
   "cell_type": "markdown",
   "metadata": {},
   "source": [
    "### CAISO\n",
    "Straightforward!"
   ]
  },
  {
   "cell_type": "code",
   "execution_count": 155,
   "metadata": {},
   "outputs": [
    {
     "data": {
      "text/plain": [
       "Index(['Queue ID', 'Project Name', 'Interconnecting Entity', 'County', 'State', 'Interconnection Location', 'Transmission Owner', 'Generation Type', 'Capacity (MW)', 'Summer Capacity (MW)', 'Winter Capacity (MW)', 'Queue Date', 'Status', 'Proposed Completion Date', 'Withdrawn Date', 'Withdrawal Comment', 'Actual Completion Date', 'Type-1', 'Type-2', 'Type-3', 'Fuel-1', 'Fuel-2', 'Fuel-3', 'MW-1', 'MW-2', 'MW-3', 'Interconnection Request Receive Date', 'Interconnection Agreement Status', 'Study Process', 'Proposed On-line Date (as filed with IR)', 'System Impact Study or Phase I Cluster Study', 'Facilities Study (FAS) or Phase II Cluster Study', 'Optional Study (OS)', 'Full Capacity, Partial or Energy Only (FC/P/EO)', 'Off-Peak Deliverability and Economic Only', 'Feasibility Study or Supplemental Review'], dtype='object')"
      ]
     },
     "execution_count": 155,
     "metadata": {},
     "output_type": "execute_result"
    }
   ],
   "source": [
    "raw_caiso.columns\n"
   ]
  },
  {
   "cell_type": "code",
   "execution_count": 156,
   "metadata": {},
   "outputs": [
    {
     "name": "stdout",
     "output_type": "stream",
     "text": [
      "<class 'pandas.core.frame.DataFrame'>\n",
      "Int64Index: 2278 entries, 0 to 2277\n",
      "Data columns (total 46 columns):\n",
      " #   Column                                            Non-Null Count  Dtype         \n",
      "---  ------                                            --------------  -----         \n",
      " 0   Queue ID                                          2278 non-null   object        \n",
      " 1   Project Name                                      2278 non-null   object        \n",
      " 2   Interconnecting Entity                            0 non-null      object        \n",
      " 3   County                                            2273 non-null   object        \n",
      " 4   State                                             2274 non-null   object        \n",
      " 5   Interconnection Location                          2278 non-null   object        \n",
      " 6   Transmission Owner                                2278 non-null   object        \n",
      " 7   Generation Type                                   2278 non-null   object        \n",
      " 8   Capacity (MW)                                     2278 non-null   float64       \n",
      " 9   Summer Capacity (MW)                              0 non-null      object        \n",
      " 10  Winter Capacity (MW)                              0 non-null      object        \n",
      " 11  Queue Date                                        2278 non-null   datetime64[ns]\n",
      " 12  Status                                            2278 non-null   object        \n",
      " 13  Proposed Completion Date                          2072 non-null   datetime64[ns]\n",
      " 14  Withdrawn Date                                    1573 non-null   datetime64[ns]\n",
      " 15  Withdrawal Comment                                598 non-null    object        \n",
      " 16  Actual Completion Date                            194 non-null    datetime64[ns]\n",
      " 17  Type-1                                            2278 non-null   object        \n",
      " 18  Type-2                                            486 non-null    object        \n",
      " 19  Type-3                                            15 non-null     object        \n",
      " 20  Fuel-1                                            2273 non-null   object        \n",
      " 21  Fuel-2                                            485 non-null    object        \n",
      " 22  Fuel-3                                            15 non-null     object        \n",
      " 23  MW-1                                              2278 non-null   float64       \n",
      " 24  MW-2                                              486 non-null    float64       \n",
      " 25  MW-3                                              15 non-null     float64       \n",
      " 26  Interconnection Request Receive Date              2270 non-null   datetime64[ns]\n",
      " 27  Interconnection Agreement Status                  459 non-null    object        \n",
      " 28  Study Process                                     2277 non-null   object        \n",
      " 29  Proposed On-line Date (as filed with IR)          2278 non-null   datetime64[ns]\n",
      " 30  System Impact Study or Phase I Cluster Study      1867 non-null   object        \n",
      " 31  Facilities Study (FAS) or Phase II Cluster Study  1518 non-null   object        \n",
      " 32  Optional Study (OS)                               351 non-null    object        \n",
      " 33  Full Capacity, Partial or Energy Only (FC/P/EO)   1874 non-null   object        \n",
      " 34  Off-Peak Deliverability and Economic Only         606 non-null    object        \n",
      " 35  Feasibility Study or Supplemental Review          458 non-null    object        \n",
      " 36  queue_id                                          2274 non-null   object        \n",
      " 37  project_name                                      2274 non-null   object        \n",
      " 38  queue_date                                        2266 non-null   object        \n",
      " 39  queue_status                                      2274 non-null   object        \n",
      " 40  interconnection_status_raw                        2274 non-null   object        \n",
      " 41  interconnection_status_lbnl                       2274 non-null   object        \n",
      " 42  capacity_mw_resource_1                            2274 non-null   float64       \n",
      " 43  resource_type_1                                   2274 non-null   object        \n",
      " 44  in_lbnl                                           2278 non-null   bool          \n",
      " 45  in_gs                                             2278 non-null   bool          \n",
      "dtypes: bool(2), datetime64[ns](6), float64(5), object(33)\n",
      "memory usage: 805.3+ KB\n"
     ]
    }
   ],
   "source": [
    "caiso = join_lbnl(raw_caiso, lbnl, \"CAISO\")\n",
    "caiso.info()\n"
   ]
  },
  {
   "cell_type": "code",
   "execution_count": 157,
   "metadata": {},
   "outputs": [
    {
     "data": {
      "text/html": [
       "<div>\n",
       "<style scoped>\n",
       "    .dataframe tbody tr th:only-of-type {\n",
       "        vertical-align: middle;\n",
       "    }\n",
       "\n",
       "    .dataframe tbody tr th {\n",
       "        vertical-align: top;\n",
       "    }\n",
       "\n",
       "    .dataframe thead th {\n",
       "        text-align: right;\n",
       "    }\n",
       "</style>\n",
       "<table border=\"1\" class=\"dataframe\">\n",
       "  <thead>\n",
       "    <tr style=\"text-align: right;\">\n",
       "      <th></th>\n",
       "      <th>Queue ID</th>\n",
       "      <th>Project Name</th>\n",
       "      <th>Interconnecting Entity</th>\n",
       "      <th>County</th>\n",
       "      <th>State</th>\n",
       "      <th>Interconnection Location</th>\n",
       "      <th>Transmission Owner</th>\n",
       "      <th>Generation Type</th>\n",
       "      <th>Capacity (MW)</th>\n",
       "      <th>Summer Capacity (MW)</th>\n",
       "      <th>Winter Capacity (MW)</th>\n",
       "      <th>Queue Date</th>\n",
       "      <th>Status</th>\n",
       "      <th>Proposed Completion Date</th>\n",
       "      <th>Withdrawn Date</th>\n",
       "      <th>Withdrawal Comment</th>\n",
       "      <th>Actual Completion Date</th>\n",
       "      <th>Type-1</th>\n",
       "      <th>Type-2</th>\n",
       "      <th>Type-3</th>\n",
       "      <th>Fuel-1</th>\n",
       "      <th>Fuel-2</th>\n",
       "      <th>Fuel-3</th>\n",
       "      <th>MW-1</th>\n",
       "      <th>MW-2</th>\n",
       "      <th>MW-3</th>\n",
       "      <th>Interconnection Request Receive Date</th>\n",
       "      <th>Interconnection Agreement Status</th>\n",
       "      <th>Study Process</th>\n",
       "      <th>Proposed On-line Date (as filed with IR)</th>\n",
       "      <th>System Impact Study or Phase I Cluster Study</th>\n",
       "      <th>Facilities Study (FAS) or Phase II Cluster Study</th>\n",
       "      <th>Optional Study (OS)</th>\n",
       "      <th>Full Capacity, Partial or Energy Only (FC/P/EO)</th>\n",
       "      <th>Off-Peak Deliverability and Economic Only</th>\n",
       "      <th>Feasibility Study or Supplemental Review</th>\n",
       "      <th>queue_id</th>\n",
       "      <th>project_name</th>\n",
       "      <th>queue_date</th>\n",
       "      <th>queue_status</th>\n",
       "      <th>interconnection_status_raw</th>\n",
       "      <th>interconnection_status_lbnl</th>\n",
       "      <th>capacity_mw_resource_1</th>\n",
       "      <th>resource_type_1</th>\n",
       "      <th>in_lbnl</th>\n",
       "      <th>in_gs</th>\n",
       "    </tr>\n",
       "  </thead>\n",
       "  <tbody>\n",
       "    <tr>\n",
       "      <th>30</th>\n",
       "      <td>1048</td>\n",
       "      <td>ESCONDIDO ENERGY CENTER 2</td>\n",
       "      <td>None</td>\n",
       "      <td>SAN DIEGO</td>\n",
       "      <td>CA</td>\n",
       "      <td>Escondido Substation 69 kV</td>\n",
       "      <td>SDGE</td>\n",
       "      <td>Storage</td>\n",
       "      <td>50.0</td>\n",
       "      <td>None</td>\n",
       "      <td>None</td>\n",
       "      <td>2014-04-30 07:00:00</td>\n",
       "      <td>ACTIVE</td>\n",
       "      <td>2025-07-17 07:00:00</td>\n",
       "      <td>NaT</td>\n",
       "      <td>None</td>\n",
       "      <td>NaT</td>\n",
       "      <td>Storage</td>\n",
       "      <td>None</td>\n",
       "      <td>None</td>\n",
       "      <td>Battery</td>\n",
       "      <td>None</td>\n",
       "      <td>None</td>\n",
       "      <td>50.0000</td>\n",
       "      <td>NaN</td>\n",
       "      <td>NaN</td>\n",
       "      <td>2014-04-30</td>\n",
       "      <td>In Progress</td>\n",
       "      <td>C07</td>\n",
       "      <td>2019-11-01 07:00:00</td>\n",
       "      <td>Complete</td>\n",
       "      <td>Complete</td>\n",
       "      <td>None</td>\n",
       "      <td>Energy Only</td>\n",
       "      <td>None</td>\n",
       "      <td>None</td>\n",
       "      <td>1048</td>\n",
       "      <td>ESCONDIDO ENERGY CENTER 2</td>\n",
       "      <td>4/30/2014</td>\n",
       "      <td>active</td>\n",
       "      <td>Facilities</td>\n",
       "      <td>Facility Study</td>\n",
       "      <td>50.0</td>\n",
       "      <td>Battery</td>\n",
       "      <td>True</td>\n",
       "      <td>True</td>\n",
       "    </tr>\n",
       "    <tr>\n",
       "      <th>204</th>\n",
       "      <td>1736</td>\n",
       "      <td>HAWKINS SOLAR HYBRID</td>\n",
       "      <td>None</td>\n",
       "      <td>KERN</td>\n",
       "      <td>CA</td>\n",
       "      <td>ARCO Substation 230kV</td>\n",
       "      <td>PGAE</td>\n",
       "      <td>Photovoltaic + Storage</td>\n",
       "      <td>250.0</td>\n",
       "      <td>None</td>\n",
       "      <td>None</td>\n",
       "      <td>2020-04-15 07:00:00</td>\n",
       "      <td>ACTIVE</td>\n",
       "      <td>2024-04-01 07:00:00</td>\n",
       "      <td>NaT</td>\n",
       "      <td>None</td>\n",
       "      <td>NaT</td>\n",
       "      <td>Photovoltaic</td>\n",
       "      <td>Storage</td>\n",
       "      <td>None</td>\n",
       "      <td>Solar</td>\n",
       "      <td>Battery</td>\n",
       "      <td>None</td>\n",
       "      <td>250.0000</td>\n",
       "      <td>250.0000</td>\n",
       "      <td>NaN</td>\n",
       "      <td>2020-04-01</td>\n",
       "      <td>None</td>\n",
       "      <td>C13</td>\n",
       "      <td>2024-04-01 07:00:00</td>\n",
       "      <td>Complete</td>\n",
       "      <td>Complete</td>\n",
       "      <td>None</td>\n",
       "      <td>Full Capacity</td>\n",
       "      <td>Off-Peak Deliverability</td>\n",
       "      <td>None</td>\n",
       "      <td>1736</td>\n",
       "      <td>HAWKINS SOLAR HYBRID</td>\n",
       "      <td>4/1/2020</td>\n",
       "      <td>active</td>\n",
       "      <td>Facilities</td>\n",
       "      <td>Facility Study</td>\n",
       "      <td>250.0</td>\n",
       "      <td>Solar</td>\n",
       "      <td>True</td>\n",
       "      <td>True</td>\n",
       "    </tr>\n",
       "    <tr>\n",
       "      <th>266</th>\n",
       "      <td>1852</td>\n",
       "      <td>BULL RUN</td>\n",
       "      <td>None</td>\n",
       "      <td>BUTTE</td>\n",
       "      <td>CA</td>\n",
       "      <td>Table Mountain Substation 115 kV</td>\n",
       "      <td>PGAE</td>\n",
       "      <td>Storage + Photovoltaic</td>\n",
       "      <td>225.0</td>\n",
       "      <td>None</td>\n",
       "      <td>None</td>\n",
       "      <td>2021-04-15 07:00:00</td>\n",
       "      <td>ACTIVE</td>\n",
       "      <td>2024-12-31 08:00:00</td>\n",
       "      <td>NaT</td>\n",
       "      <td>None</td>\n",
       "      <td>NaT</td>\n",
       "      <td>Storage</td>\n",
       "      <td>Photovoltaic</td>\n",
       "      <td>None</td>\n",
       "      <td>Battery</td>\n",
       "      <td>Solar</td>\n",
       "      <td>None</td>\n",
       "      <td>225.0000</td>\n",
       "      <td>232.1000</td>\n",
       "      <td>NaN</td>\n",
       "      <td>2021-04-06</td>\n",
       "      <td>None</td>\n",
       "      <td>C14</td>\n",
       "      <td>2024-12-31 08:00:00</td>\n",
       "      <td>Complete</td>\n",
       "      <td>None</td>\n",
       "      <td>None</td>\n",
       "      <td>Full Capacity</td>\n",
       "      <td>None</td>\n",
       "      <td>None</td>\n",
       "      <td>1852</td>\n",
       "      <td>BULL RUN</td>\n",
       "      <td>4/6/2021</td>\n",
       "      <td>active</td>\n",
       "      <td>Feasibility</td>\n",
       "      <td>Feasibility Study</td>\n",
       "      <td>232.0</td>\n",
       "      <td>Solar</td>\n",
       "      <td>True</td>\n",
       "      <td>True</td>\n",
       "    </tr>\n",
       "    <tr>\n",
       "      <th>429</th>\n",
       "      <td>2142</td>\n",
       "      <td>SILVER STAR SOLAR</td>\n",
       "      <td>None</td>\n",
       "      <td>NYE</td>\n",
       "      <td>NV</td>\n",
       "      <td>Lathrop Wells Substation 138 kV</td>\n",
       "      <td>VEA</td>\n",
       "      <td>Storage + Photovoltaic</td>\n",
       "      <td>500.0</td>\n",
       "      <td>None</td>\n",
       "      <td>None</td>\n",
       "      <td>2021-04-15 07:00:00</td>\n",
       "      <td>ACTIVE</td>\n",
       "      <td>2028-03-31 07:00:00</td>\n",
       "      <td>NaT</td>\n",
       "      <td>None</td>\n",
       "      <td>NaT</td>\n",
       "      <td>Storage</td>\n",
       "      <td>Photovoltaic</td>\n",
       "      <td>None</td>\n",
       "      <td>Battery</td>\n",
       "      <td>Solar</td>\n",
       "      <td>None</td>\n",
       "      <td>516.7638</td>\n",
       "      <td>516.7638</td>\n",
       "      <td>NaN</td>\n",
       "      <td>2021-03-31</td>\n",
       "      <td>None</td>\n",
       "      <td>C14</td>\n",
       "      <td>2028-03-31 07:00:00</td>\n",
       "      <td>None</td>\n",
       "      <td>None</td>\n",
       "      <td>None</td>\n",
       "      <td>Full Capacity</td>\n",
       "      <td>Off-Peak Deliverability</td>\n",
       "      <td>None</td>\n",
       "      <td>2142</td>\n",
       "      <td>SILVER STAR SOLAR</td>\n",
       "      <td>3/31/2021</td>\n",
       "      <td>active</td>\n",
       "      <td>Feasibility</td>\n",
       "      <td>Feasibility Study</td>\n",
       "      <td>517.0</td>\n",
       "      <td>Solar</td>\n",
       "      <td>True</td>\n",
       "      <td>True</td>\n",
       "    </tr>\n",
       "    <tr>\n",
       "      <th>253</th>\n",
       "      <td>1832</td>\n",
       "      <td>GOAL LINE RELIABILITY</td>\n",
       "      <td>None</td>\n",
       "      <td>SAN DIEGO</td>\n",
       "      <td>CA</td>\n",
       "      <td>Esco Substation 69 kV</td>\n",
       "      <td>SDGE</td>\n",
       "      <td>Storage</td>\n",
       "      <td>50.0</td>\n",
       "      <td>None</td>\n",
       "      <td>None</td>\n",
       "      <td>2021-04-15 07:00:00</td>\n",
       "      <td>ACTIVE</td>\n",
       "      <td>2023-05-30 07:00:00</td>\n",
       "      <td>NaT</td>\n",
       "      <td>None</td>\n",
       "      <td>NaT</td>\n",
       "      <td>Storage</td>\n",
       "      <td>None</td>\n",
       "      <td>None</td>\n",
       "      <td>Battery</td>\n",
       "      <td>None</td>\n",
       "      <td>None</td>\n",
       "      <td>154.1200</td>\n",
       "      <td>NaN</td>\n",
       "      <td>NaN</td>\n",
       "      <td>2021-02-08</td>\n",
       "      <td>None</td>\n",
       "      <td>C14</td>\n",
       "      <td>2023-05-30 07:00:00</td>\n",
       "      <td>None</td>\n",
       "      <td>None</td>\n",
       "      <td>None</td>\n",
       "      <td>Full Capacity</td>\n",
       "      <td>None</td>\n",
       "      <td>None</td>\n",
       "      <td>1832</td>\n",
       "      <td>GOAL LINE RELIABILITY</td>\n",
       "      <td>2/8/2021</td>\n",
       "      <td>active</td>\n",
       "      <td>Feasibility</td>\n",
       "      <td>Feasibility Study</td>\n",
       "      <td>154.0</td>\n",
       "      <td>Battery</td>\n",
       "      <td>True</td>\n",
       "      <td>True</td>\n",
       "    </tr>\n",
       "    <tr>\n",
       "      <th>9</th>\n",
       "      <td>297</td>\n",
       "      <td>ALTA VISTA SUNTOWER GENERATING STATION</td>\n",
       "      <td>None</td>\n",
       "      <td>LOS ANGELES</td>\n",
       "      <td>CA</td>\n",
       "      <td>Neenach-Bailey 66kV line</td>\n",
       "      <td>SCE</td>\n",
       "      <td>Steam Turbine + Storage</td>\n",
       "      <td>66.0</td>\n",
       "      <td>None</td>\n",
       "      <td>None</td>\n",
       "      <td>2008-01-18 08:00:00</td>\n",
       "      <td>ACTIVE</td>\n",
       "      <td>2025-04-15 07:00:00</td>\n",
       "      <td>NaT</td>\n",
       "      <td>None</td>\n",
       "      <td>NaT</td>\n",
       "      <td>Steam Turbine</td>\n",
       "      <td>Storage</td>\n",
       "      <td>None</td>\n",
       "      <td>Solar</td>\n",
       "      <td>Battery</td>\n",
       "      <td>None</td>\n",
       "      <td>66.0000</td>\n",
       "      <td>66.0000</td>\n",
       "      <td>NaN</td>\n",
       "      <td>2008-01-18</td>\n",
       "      <td>Executed</td>\n",
       "      <td>TC</td>\n",
       "      <td>2009-12-01 08:00:00</td>\n",
       "      <td>Complete</td>\n",
       "      <td>Complete</td>\n",
       "      <td>None</td>\n",
       "      <td>Full Capacity</td>\n",
       "      <td>Off-Peak Deliverability</td>\n",
       "      <td>None</td>\n",
       "      <td>297</td>\n",
       "      <td>ALTA VISTA SUNTOWER GENERATING STATION</td>\n",
       "      <td>1/18/2008</td>\n",
       "      <td>active</td>\n",
       "      <td>Executed</td>\n",
       "      <td>IA Executed</td>\n",
       "      <td>66.0</td>\n",
       "      <td>Solar</td>\n",
       "      <td>True</td>\n",
       "      <td>True</td>\n",
       "    </tr>\n",
       "    <tr>\n",
       "      <th>39</th>\n",
       "      <td>1116</td>\n",
       "      <td>ULTRAPOWER CHINESE STATION BESS</td>\n",
       "      <td>None</td>\n",
       "      <td>TUOLUMNE</td>\n",
       "      <td>CA</td>\n",
       "      <td>Melones-Curtis 115kV line</td>\n",
       "      <td>PGAE</td>\n",
       "      <td>Storage</td>\n",
       "      <td>10.0</td>\n",
       "      <td>None</td>\n",
       "      <td>None</td>\n",
       "      <td>2015-04-30 07:00:00</td>\n",
       "      <td>ACTIVE</td>\n",
       "      <td>2022-05-20 07:00:00</td>\n",
       "      <td>NaT</td>\n",
       "      <td>None</td>\n",
       "      <td>NaT</td>\n",
       "      <td>Storage</td>\n",
       "      <td>None</td>\n",
       "      <td>None</td>\n",
       "      <td>Battery</td>\n",
       "      <td>None</td>\n",
       "      <td>None</td>\n",
       "      <td>10.0000</td>\n",
       "      <td>NaN</td>\n",
       "      <td>NaN</td>\n",
       "      <td>2015-04-30</td>\n",
       "      <td>Executed</td>\n",
       "      <td>C08</td>\n",
       "      <td>2017-03-31 07:00:00</td>\n",
       "      <td>Complete</td>\n",
       "      <td>Complete</td>\n",
       "      <td>None</td>\n",
       "      <td>Full Capacity</td>\n",
       "      <td>None</td>\n",
       "      <td>None</td>\n",
       "      <td>1116</td>\n",
       "      <td>ULTRAPOWER CHINESE STATION BESS</td>\n",
       "      <td>4/30/2015</td>\n",
       "      <td>active</td>\n",
       "      <td>Executed</td>\n",
       "      <td>IA Executed</td>\n",
       "      <td>10.0</td>\n",
       "      <td>Battery</td>\n",
       "      <td>True</td>\n",
       "      <td>True</td>\n",
       "    </tr>\n",
       "    <tr>\n",
       "      <th>443</th>\n",
       "      <td>2166</td>\n",
       "      <td>UMBRIEL</td>\n",
       "      <td>None</td>\n",
       "      <td>IMPERIAL</td>\n",
       "      <td>CA</td>\n",
       "      <td>North Gila - Imperial Valley 500 kV Line</td>\n",
       "      <td>SDGE</td>\n",
       "      <td>Storage + Photovoltaic</td>\n",
       "      <td>1150.0</td>\n",
       "      <td>None</td>\n",
       "      <td>None</td>\n",
       "      <td>2021-04-15 07:00:00</td>\n",
       "      <td>ACTIVE</td>\n",
       "      <td>2026-12-31 08:00:00</td>\n",
       "      <td>NaT</td>\n",
       "      <td>None</td>\n",
       "      <td>NaT</td>\n",
       "      <td>Storage</td>\n",
       "      <td>Photovoltaic</td>\n",
       "      <td>None</td>\n",
       "      <td>Battery</td>\n",
       "      <td>Solar</td>\n",
       "      <td>None</td>\n",
       "      <td>1182.3800</td>\n",
       "      <td>1182.3800</td>\n",
       "      <td>NaN</td>\n",
       "      <td>2021-04-08</td>\n",
       "      <td>None</td>\n",
       "      <td>C14</td>\n",
       "      <td>2026-12-31 08:00:00</td>\n",
       "      <td>Complete</td>\n",
       "      <td>None</td>\n",
       "      <td>None</td>\n",
       "      <td>Full Capacity</td>\n",
       "      <td>Off-Peak Deliverability</td>\n",
       "      <td>None</td>\n",
       "      <td>2166</td>\n",
       "      <td>UMBRIEL</td>\n",
       "      <td>4/8/2021</td>\n",
       "      <td>active</td>\n",
       "      <td>System Impact</td>\n",
       "      <td>System Impact Study</td>\n",
       "      <td>1182.0</td>\n",
       "      <td>Solar</td>\n",
       "      <td>True</td>\n",
       "      <td>True</td>\n",
       "    </tr>\n",
       "  </tbody>\n",
       "</table>\n",
       "</div>"
      ],
      "text/plain": [
       "    Queue ID                            Project Name Interconnecting Entity       County State                  Interconnection Location Transmission Owner          Generation Type  Capacity (MW) Summer Capacity (MW) Winter Capacity (MW)          Queue Date  Status Proposed Completion Date Withdrawn Date Withdrawal Comment Actual Completion Date         Type-1        Type-2 Type-3   Fuel-1   Fuel-2 Fuel-3       MW-1       MW-2  MW-3 Interconnection Request Receive Date Interconnection Agreement Status Study Process Proposed On-line Date (as filed with IR) System Impact Study or Phase I Cluster Study Facilities Study (FAS) or Phase II Cluster Study Optional Study (OS) Full Capacity, Partial or Energy Only (FC/P/EO) Off-Peak Deliverability and Economic Only Feasibility Study or Supplemental Review queue_id                            project_name queue_date queue_status interconnection_status_raw interconnection_status_lbnl  capacity_mw_resource_1 resource_type_1  in_lbnl  in_gs\n",
       "30      1048               ESCONDIDO ENERGY CENTER 2                   None    SAN DIEGO    CA                Escondido Substation 69 kV               SDGE                  Storage           50.0                 None                 None 2014-04-30 07:00:00  ACTIVE      2025-07-17 07:00:00            NaT               None                    NaT        Storage          None   None  Battery     None   None    50.0000        NaN   NaN                           2014-04-30                      In Progress           C07                      2019-11-01 07:00:00                                     Complete                                         Complete                None                                     Energy Only                                      None                                     None     1048               ESCONDIDO ENERGY CENTER 2  4/30/2014       active                 Facilities              Facility Study                    50.0         Battery     True   True\n",
       "204     1736                    HAWKINS SOLAR HYBRID                   None         KERN    CA                     ARCO Substation 230kV               PGAE   Photovoltaic + Storage          250.0                 None                 None 2020-04-15 07:00:00  ACTIVE      2024-04-01 07:00:00            NaT               None                    NaT   Photovoltaic       Storage   None    Solar  Battery   None   250.0000   250.0000   NaN                           2020-04-01                             None           C13                      2024-04-01 07:00:00                                     Complete                                         Complete                None                                   Full Capacity                   Off-Peak Deliverability                                     None     1736                    HAWKINS SOLAR HYBRID   4/1/2020       active                 Facilities              Facility Study                   250.0           Solar     True   True\n",
       "266     1852                                BULL RUN                   None        BUTTE    CA          Table Mountain Substation 115 kV               PGAE   Storage + Photovoltaic          225.0                 None                 None 2021-04-15 07:00:00  ACTIVE      2024-12-31 08:00:00            NaT               None                    NaT        Storage  Photovoltaic   None  Battery    Solar   None   225.0000   232.1000   NaN                           2021-04-06                             None           C14                      2024-12-31 08:00:00                                     Complete                                             None                None                                   Full Capacity                                      None                                     None     1852                                BULL RUN   4/6/2021       active                Feasibility           Feasibility Study                   232.0           Solar     True   True\n",
       "429     2142                       SILVER STAR SOLAR                   None          NYE    NV          Lathrop Wells Substation 138 kV                 VEA   Storage + Photovoltaic          500.0                 None                 None 2021-04-15 07:00:00  ACTIVE      2028-03-31 07:00:00            NaT               None                    NaT        Storage  Photovoltaic   None  Battery    Solar   None   516.7638   516.7638   NaN                           2021-03-31                             None           C14                      2028-03-31 07:00:00                                         None                                             None                None                                   Full Capacity                   Off-Peak Deliverability                                     None     2142                       SILVER STAR SOLAR  3/31/2021       active                Feasibility           Feasibility Study                   517.0           Solar     True   True\n",
       "253     1832                   GOAL LINE RELIABILITY                   None    SAN DIEGO    CA                     Esco Substation 69 kV               SDGE                  Storage           50.0                 None                 None 2021-04-15 07:00:00  ACTIVE      2023-05-30 07:00:00            NaT               None                    NaT        Storage          None   None  Battery     None   None   154.1200        NaN   NaN                           2021-02-08                             None           C14                      2023-05-30 07:00:00                                         None                                             None                None                                   Full Capacity                                      None                                     None     1832                   GOAL LINE RELIABILITY   2/8/2021       active                Feasibility           Feasibility Study                   154.0         Battery     True   True\n",
       "9        297  ALTA VISTA SUNTOWER GENERATING STATION                   None  LOS ANGELES    CA                  Neenach-Bailey 66kV line                SCE  Steam Turbine + Storage           66.0                 None                 None 2008-01-18 08:00:00  ACTIVE      2025-04-15 07:00:00            NaT               None                    NaT  Steam Turbine       Storage   None    Solar  Battery   None    66.0000    66.0000   NaN                           2008-01-18                         Executed            TC                      2009-12-01 08:00:00                                     Complete                                         Complete                None                                   Full Capacity                   Off-Peak Deliverability                                     None      297  ALTA VISTA SUNTOWER GENERATING STATION  1/18/2008       active                   Executed                 IA Executed                    66.0           Solar     True   True\n",
       "39      1116         ULTRAPOWER CHINESE STATION BESS                   None     TUOLUMNE    CA                 Melones-Curtis 115kV line               PGAE                  Storage           10.0                 None                 None 2015-04-30 07:00:00  ACTIVE      2022-05-20 07:00:00            NaT               None                    NaT        Storage          None   None  Battery     None   None    10.0000        NaN   NaN                           2015-04-30                         Executed           C08                      2017-03-31 07:00:00                                     Complete                                         Complete                None                                   Full Capacity                                      None                                     None     1116         ULTRAPOWER CHINESE STATION BESS  4/30/2015       active                   Executed                 IA Executed                    10.0         Battery     True   True\n",
       "443     2166                                 UMBRIEL                   None     IMPERIAL    CA  North Gila - Imperial Valley 500 kV Line               SDGE   Storage + Photovoltaic         1150.0                 None                 None 2021-04-15 07:00:00  ACTIVE      2026-12-31 08:00:00            NaT               None                    NaT        Storage  Photovoltaic   None  Battery    Solar   None  1182.3800  1182.3800   NaN                           2021-04-08                             None           C14                      2026-12-31 08:00:00                                     Complete                                             None                None                                   Full Capacity                   Off-Peak Deliverability                                     None     2166                                 UMBRIEL   4/8/2021       active              System Impact         System Impact Study                  1182.0           Solar     True   True"
      ]
     },
     "execution_count": 157,
     "metadata": {},
     "output_type": "execute_result"
    }
   ],
   "source": [
    "caiso.query(\"Status == 'ACTIVE'\").sample(8, random_state=42).sort_values('interconnection_status_lbnl')\n"
   ]
  },
  {
   "cell_type": "code",
   "execution_count": 158,
   "metadata": {},
   "outputs": [
    {
     "data": {
      "text/plain": [
       "in_gs  in_lbnl\n",
       "True   True       2274\n",
       "       False         4\n",
       "dtype: int64"
      ]
     },
     "execution_count": 158,
     "metadata": {},
     "output_type": "execute_result"
    }
   ],
   "source": [
    "caiso[[\"in_gs\", \"in_lbnl\"]].value_counts(dropna=False)\n"
   ]
  },
  {
   "cell_type": "code",
   "execution_count": 159,
   "metadata": {},
   "outputs": [
    {
     "data": {
      "text/plain": [
       "in_gs  in_lbnl\n",
       "True   True       2274\n",
       "dtype: int64"
      ]
     },
     "execution_count": 159,
     "metadata": {},
     "output_type": "execute_result"
    }
   ],
   "source": [
    "caiso.loc[\n",
    "    pd.to_datetime(caiso[\"Queue Date\"])\n",
    "    .fillna(pd.to_datetime(\"2020-01-01\"))\n",
    "    .lt(pd.to_datetime(\"2023-01-01\")),\n",
    "    [\"in_gs\", \"in_lbnl\"],\n",
    "].value_counts(dropna=False)\n"
   ]
  },
  {
   "cell_type": "code",
   "execution_count": 160,
   "metadata": {},
   "outputs": [
    {
     "data": {
      "text/plain": [
       "Status     queue_status\n",
       "ACTIVE     active           457\n",
       "           operational        1\n",
       "           withdrawn          2\n",
       "           NaN                4\n",
       "COMPLETED  active             3\n",
       "           operational      198\n",
       "WITHDRAWN  active            35\n",
       "           withdrawn       1578\n",
       "dtype: int64"
      ]
     },
     "execution_count": 160,
     "metadata": {},
     "output_type": "execute_result"
    }
   ],
   "source": [
    "# remarkably easy to match status values\n",
    "caiso[[\"Status\", \"queue_status\"]].value_counts(dropna=False).sort_index()\n"
   ]
  },
  {
   "cell_type": "markdown",
   "metadata": {
    "tags": []
   },
   "source": [
    "#### Compare total capacity for projects in both"
   ]
  },
  {
   "cell_type": "code",
   "execution_count": 163,
   "metadata": {
    "tags": []
   },
   "outputs": [
    {
     "name": "stdout",
     "output_type": "stream",
     "text": [
      "GS Capacity for projects in GS and LBNL: 491790.7357\n",
      "LBNL Capacity for project in GS and LBNL: 490767.45999999996\n",
      "Ratio of LBNL to GS Capacity for project in GS and LBNL: 0.9979192863433193\n"
     ]
    }
   ],
   "source": [
    "both_caiso = caiso[caiso.in_lbnl & caiso.in_gs]\n",
    "\n",
    "compare_capacity(both_caiso)"
   ]
  },
  {
   "cell_type": "markdown",
   "metadata": {
    "tags": []
   },
   "source": [
    "#### Compare total capacity for **active** projects in both"
   ]
  },
  {
   "cell_type": "code",
   "execution_count": 168,
   "metadata": {},
   "outputs": [
    {
     "data": {
      "text/plain": [
       "Status     queue_status\n",
       "WITHDRAWN  withdrawn       1578\n",
       "ACTIVE     active           457\n",
       "COMPLETED  operational      198\n",
       "WITHDRAWN  active            35\n",
       "ACTIVE     NaN                4\n",
       "COMPLETED  active             3\n",
       "ACTIVE     withdrawn          2\n",
       "           operational        1\n",
       "dtype: int64"
      ]
     },
     "execution_count": 168,
     "metadata": {},
     "output_type": "execute_result"
    }
   ],
   "source": [
    "caiso[[\"Status\", \"queue_status\"]].value_counts(dropna=False)"
   ]
  },
  {
   "cell_type": "code",
   "execution_count": 169,
   "metadata": {},
   "outputs": [
    {
     "name": "stdout",
     "output_type": "stream",
     "text": [
      "GS Capacity for projects in GS and LBNL: 125131.64240000001\n",
      "LBNL Capacity for project in GS and LBNL: 126136.4\n",
      "Ratio of LBNL to GS Capacity for project in GS and LBNL: 1.0080296045087311\n"
     ]
    }
   ],
   "source": [
    "caiso_active_in_both = caiso[caiso[\"queue_status\"].eq(\"active\") & caiso[\"Status\"].eq(\"ACTIVE\")]\n",
    "compare_capacity(caiso_active_in_both)"
   ]
  },
  {
   "cell_type": "markdown",
   "metadata": {},
   "source": [
    "Very little mismatching in status columns and capacities look good for projects that are active in both. There a few dozen lbnl active projects that are withdrawn or completed in GS."
   ]
  },
  {
   "cell_type": "markdown",
   "metadata": {},
   "source": [
    "#### Compare total capacity for all projects"
   ]
  },
  {
   "cell_type": "code",
   "execution_count": 223,
   "metadata": {},
   "outputs": [
    {
     "name": "stdout",
     "output_type": "stream",
     "text": [
      "Ratio of total LBNL capacity to total GS capacity 0.9965737445948172\n",
      "Ratio of total LBNL project to total GS projects 0.9982440737489026\n"
     ]
    }
   ],
   "source": [
    "gs_capacities = caiso[caiso.in_gs][\"Capacity (MW)\"]\n",
    "lbnl_capacities = caiso[caiso.in_lbnl][\"capacity_mw_resource_1\"]\n",
    "\n",
    "print(f\"Ratio of total LBNL capacity to total GS capacity {lbnl_capacities.sum() / gs_capacities.sum()}\")\n",
    "print(f\"Ratio of total LBNL project to total GS projects {len(lbnl_capacities) / len(gs_capacities)}\")"
   ]
  },
  {
   "cell_type": "markdown",
   "metadata": {},
   "source": [
    "Basically the same amount of capacity and number of projects. love it"
   ]
  },
  {
   "cell_type": "markdown",
   "metadata": {},
   "source": [
    "### ISO-NE\n",
    "\n",
    "* what GridStatus calls \"Queue ID\" was actually \"Queue Position\" in the original data. It is unique amongst active projects but not for withdrawn projects. There is no natural key for withdrawn projects."
   ]
  },
  {
   "cell_type": "code",
   "execution_count": 182,
   "metadata": {},
   "outputs": [
    {
     "data": {
      "text/plain": [
       "Index(['Queue ID', 'Project Name', 'Interconnecting Entity', 'County', 'State', 'Interconnection Location', 'Transmission Owner', 'Generation Type', 'Capacity (MW)', 'Summer Capacity (MW)', 'Winter Capacity (MW)', 'Queue Date', 'Status', 'Proposed Completion Date', 'Withdrawn Date', 'Withdrawal Comment', 'Actual Completion Date', 'Updated', 'Unit', 'Op Date', 'Sync Date', 'Serv', 'I39', 'Dev', 'Zone', 'FS', 'SIS', 'OS', 'FAC', 'IA', 'Project Status'], dtype='object')"
      ]
     },
     "execution_count": 182,
     "metadata": {},
     "output_type": "execute_result"
    }
   ],
   "source": [
    "raw_isone.columns\n"
   ]
  },
  {
   "cell_type": "code",
   "execution_count": 183,
   "metadata": {},
   "outputs": [
    {
     "data": {
      "text/plain": [
       "150"
      ]
     },
     "execution_count": 183,
     "metadata": {},
     "output_type": "execute_result"
    }
   ],
   "source": [
    "raw_isone.duplicated(subset=['Queue ID']).sum()\n"
   ]
  },
  {
   "cell_type": "code",
   "execution_count": 184,
   "metadata": {},
   "outputs": [
    {
     "data": {
      "text/plain": [
       "Withdrawn    159\n",
       "Completed     83\n",
       "Name: Status, dtype: int64"
      ]
     },
     "execution_count": 184,
     "metadata": {},
     "output_type": "execute_result"
    }
   ],
   "source": [
    "raw_isone.loc[raw_isone.duplicated(subset=['Queue ID'], keep=False), 'Status'].value_counts(dropna=False)\n"
   ]
  },
  {
   "cell_type": "code",
   "execution_count": 185,
   "metadata": {},
   "outputs": [
    {
     "data": {
      "text/plain": [
       "Withdrawn    804\n",
       "Active       408\n",
       "Completed    321\n",
       "Name: Status, dtype: int64"
      ]
     },
     "execution_count": 185,
     "metadata": {},
     "output_type": "execute_result"
    }
   ],
   "source": [
    "raw_isone['Status'].value_counts(dropna=False)\n"
   ]
  },
  {
   "cell_type": "code",
   "execution_count": 186,
   "metadata": {},
   "outputs": [
    {
     "data": {
      "text/plain": [
       "133"
      ]
     },
     "execution_count": 186,
     "metadata": {},
     "output_type": "execute_result"
    }
   ],
   "source": [
    "compound_key = ['Queue ID', 'Status']\n",
    "raw_isone.duplicated(subset=compound_key).sum()\n"
   ]
  },
  {
   "cell_type": "code",
   "execution_count": 187,
   "metadata": {},
   "outputs": [
    {
     "data": {
      "text/plain": [
       "27"
      ]
     },
     "execution_count": 187,
     "metadata": {},
     "output_type": "execute_result"
    }
   ],
   "source": [
    "# there is no natural key for this data. But this looks like the best tradeoff between key complexity and uniqueness.\n",
    "compound_key = ['Queue ID', 'Project Name']\n",
    "raw_isone.duplicated(subset=compound_key).sum()\n"
   ]
  },
  {
   "cell_type": "code",
   "execution_count": 188,
   "metadata": {},
   "outputs": [
    {
     "data": {
      "text/plain": [
       "True"
      ]
     },
     "execution_count": 188,
     "metadata": {},
     "output_type": "execute_result"
    }
   ],
   "source": [
    "# Queue ID is unique within the Active projects. Not sure how change over time will impact the join to LBNL.\n",
    "raw_isone.query('Status == \"Active\"')['Queue ID'].is_unique\n"
   ]
  },
  {
   "cell_type": "code",
   "execution_count": 189,
   "metadata": {},
   "outputs": [
    {
     "data": {
      "text/html": [
       "<div>\n",
       "<style scoped>\n",
       "    .dataframe tbody tr th:only-of-type {\n",
       "        vertical-align: middle;\n",
       "    }\n",
       "\n",
       "    .dataframe tbody tr th {\n",
       "        vertical-align: top;\n",
       "    }\n",
       "\n",
       "    .dataframe thead th {\n",
       "        text-align: right;\n",
       "    }\n",
       "</style>\n",
       "<table border=\"1\" class=\"dataframe\">\n",
       "  <thead>\n",
       "    <tr style=\"text-align: right;\">\n",
       "      <th></th>\n",
       "      <th>Queue ID</th>\n",
       "      <th>Project Name</th>\n",
       "      <th>Interconnecting Entity</th>\n",
       "      <th>County</th>\n",
       "      <th>State</th>\n",
       "      <th>Interconnection Location</th>\n",
       "      <th>Transmission Owner</th>\n",
       "      <th>Generation Type</th>\n",
       "      <th>Capacity (MW)</th>\n",
       "      <th>Summer Capacity (MW)</th>\n",
       "      <th>Winter Capacity (MW)</th>\n",
       "      <th>Queue Date</th>\n",
       "      <th>Status</th>\n",
       "      <th>Proposed Completion Date</th>\n",
       "      <th>Withdrawn Date</th>\n",
       "      <th>Withdrawal Comment</th>\n",
       "      <th>Actual Completion Date</th>\n",
       "      <th>Updated</th>\n",
       "      <th>Unit</th>\n",
       "      <th>Op Date</th>\n",
       "      <th>Sync Date</th>\n",
       "      <th>Serv</th>\n",
       "      <th>I39</th>\n",
       "      <th>Dev</th>\n",
       "      <th>Zone</th>\n",
       "      <th>FS</th>\n",
       "      <th>SIS</th>\n",
       "      <th>OS</th>\n",
       "      <th>FAC</th>\n",
       "      <th>IA</th>\n",
       "      <th>Project Status</th>\n",
       "    </tr>\n",
       "  </thead>\n",
       "  <tbody>\n",
       "    <tr>\n",
       "      <th>1054</th>\n",
       "      <td>350</td>\n",
       "      <td>Wind</td>\n",
       "      <td>None</td>\n",
       "      <td>Somerset</td>\n",
       "      <td>ME</td>\n",
       "      <td>CMP Wyman substation</td>\n",
       "      <td>ISO-NE</td>\n",
       "      <td>WND</td>\n",
       "      <td>96.900</td>\n",
       "      <td>96.900</td>\n",
       "      <td>96.900</td>\n",
       "      <td>11/10/2010</td>\n",
       "      <td>Withdrawn</td>\n",
       "      <td>10/1/2016</td>\n",
       "      <td>10/5/2015</td>\n",
       "      <td>None</td>\n",
       "      <td>None</td>\n",
       "      <td>2015-10-05</td>\n",
       "      <td>WT</td>\n",
       "      <td>12/31/2016</td>\n",
       "      <td>10/1/2016</td>\n",
       "      <td>NR</td>\n",
       "      <td>N</td>\n",
       "      <td>PD</td>\n",
       "      <td>ME</td>\n",
       "      <td>NaN</td>\n",
       "      <td>Y</td>\n",
       "      <td>NaN</td>\n",
       "      <td>NaN</td>\n",
       "      <td>NaN</td>\n",
       "      <td>None</td>\n",
       "    </tr>\n",
       "    <tr>\n",
       "      <th>1055</th>\n",
       "      <td>350</td>\n",
       "      <td>Wind</td>\n",
       "      <td>None</td>\n",
       "      <td>Washington</td>\n",
       "      <td>ME</td>\n",
       "      <td>BHE Washington County 115 kV substation</td>\n",
       "      <td>None</td>\n",
       "      <td>WND</td>\n",
       "      <td>92.250</td>\n",
       "      <td>92.250</td>\n",
       "      <td>92.250</td>\n",
       "      <td>11/10/2010</td>\n",
       "      <td>Withdrawn</td>\n",
       "      <td>10/1/2015</td>\n",
       "      <td>11/15/2013</td>\n",
       "      <td>None</td>\n",
       "      <td>None</td>\n",
       "      <td>2015-10-01</td>\n",
       "      <td>WT</td>\n",
       "      <td>12/31/2015</td>\n",
       "      <td>10/1/2015</td>\n",
       "      <td>NR</td>\n",
       "      <td>N</td>\n",
       "      <td>PD</td>\n",
       "      <td>BHE</td>\n",
       "      <td>NaN</td>\n",
       "      <td>N</td>\n",
       "      <td>NaN</td>\n",
       "      <td>NaN</td>\n",
       "      <td>NaN</td>\n",
       "      <td>None</td>\n",
       "    </tr>\n",
       "    <tr>\n",
       "      <th>1050</th>\n",
       "      <td>353</td>\n",
       "      <td>Wind</td>\n",
       "      <td>None</td>\n",
       "      <td>Plymouth</td>\n",
       "      <td>MA</td>\n",
       "      <td>NSTAR 115 kV Valley substation</td>\n",
       "      <td>ISO-NE</td>\n",
       "      <td>WND</td>\n",
       "      <td>9.900</td>\n",
       "      <td>9.900</td>\n",
       "      <td>9.900</td>\n",
       "      <td>12/21/2010</td>\n",
       "      <td>Withdrawn</td>\n",
       "      <td>11/30/2013</td>\n",
       "      <td>8/8/2012</td>\n",
       "      <td>None</td>\n",
       "      <td>None</td>\n",
       "      <td>2012-08-08</td>\n",
       "      <td>WT</td>\n",
       "      <td>12/31/2013</td>\n",
       "      <td>11/30/2013</td>\n",
       "      <td>CNR</td>\n",
       "      <td>N</td>\n",
       "      <td>BL</td>\n",
       "      <td>SEMA</td>\n",
       "      <td>NaN</td>\n",
       "      <td>Y</td>\n",
       "      <td>NaN</td>\n",
       "      <td>NaN</td>\n",
       "      <td>NaN</td>\n",
       "      <td>None</td>\n",
       "    </tr>\n",
       "    <tr>\n",
       "      <th>1051</th>\n",
       "      <td>353</td>\n",
       "      <td>Wind</td>\n",
       "      <td>None</td>\n",
       "      <td>Barnstable</td>\n",
       "      <td>MA</td>\n",
       "      <td>NSTAR 115 kV Valley substation</td>\n",
       "      <td>None</td>\n",
       "      <td>WND</td>\n",
       "      <td>14.900</td>\n",
       "      <td>14.900</td>\n",
       "      <td>14.900</td>\n",
       "      <td>12/21/2010</td>\n",
       "      <td>Withdrawn</td>\n",
       "      <td>10/31/2012</td>\n",
       "      <td>6/7/2011</td>\n",
       "      <td>None</td>\n",
       "      <td>None</td>\n",
       "      <td>2011-06-09</td>\n",
       "      <td>WT</td>\n",
       "      <td>11/30/2012</td>\n",
       "      <td>10/31/2012</td>\n",
       "      <td>CNR</td>\n",
       "      <td>N</td>\n",
       "      <td>None</td>\n",
       "      <td>SEMA</td>\n",
       "      <td>NaN</td>\n",
       "      <td>N</td>\n",
       "      <td>NaN</td>\n",
       "      <td>NaN</td>\n",
       "      <td>NaN</td>\n",
       "      <td>None</td>\n",
       "    </tr>\n",
       "    <tr>\n",
       "      <th>1042</th>\n",
       "      <td>358</td>\n",
       "      <td>Hydro</td>\n",
       "      <td>None</td>\n",
       "      <td>Penobscot</td>\n",
       "      <td>ME</td>\n",
       "      <td>BHE Stillwater 12.5 kV substation</td>\n",
       "      <td>None</td>\n",
       "      <td>WAT</td>\n",
       "      <td>2.274</td>\n",
       "      <td>2.274</td>\n",
       "      <td>2.274</td>\n",
       "      <td>3/4/2011</td>\n",
       "      <td>Withdrawn</td>\n",
       "      <td>8/1/2012</td>\n",
       "      <td>10/5/2011</td>\n",
       "      <td>None</td>\n",
       "      <td>None</td>\n",
       "      <td>2011-10-06</td>\n",
       "      <td>HD</td>\n",
       "      <td>8/15/2012</td>\n",
       "      <td>8/1/2012</td>\n",
       "      <td>CNR</td>\n",
       "      <td>N</td>\n",
       "      <td>None</td>\n",
       "      <td>BHE</td>\n",
       "      <td>NaN</td>\n",
       "      <td>N</td>\n",
       "      <td>NaN</td>\n",
       "      <td>NaN</td>\n",
       "      <td>NaN</td>\n",
       "      <td>None</td>\n",
       "    </tr>\n",
       "    <tr>\n",
       "      <th>1043</th>\n",
       "      <td>358</td>\n",
       "      <td>Hydro</td>\n",
       "      <td>None</td>\n",
       "      <td>Penobscot</td>\n",
       "      <td>ME</td>\n",
       "      <td>BHE Orono 12.5 kV substation</td>\n",
       "      <td>None</td>\n",
       "      <td>WAT</td>\n",
       "      <td>3.858</td>\n",
       "      <td>3.858</td>\n",
       "      <td>3.858</td>\n",
       "      <td>3/4/2011</td>\n",
       "      <td>Withdrawn</td>\n",
       "      <td>8/1/2012</td>\n",
       "      <td>4/11/2011</td>\n",
       "      <td>None</td>\n",
       "      <td>None</td>\n",
       "      <td>2011-04-12</td>\n",
       "      <td>HD</td>\n",
       "      <td>8/15/2012</td>\n",
       "      <td>8/1/2012</td>\n",
       "      <td>CNR</td>\n",
       "      <td>N</td>\n",
       "      <td>None</td>\n",
       "      <td>BHE</td>\n",
       "      <td>NaN</td>\n",
       "      <td>N</td>\n",
       "      <td>NaN</td>\n",
       "      <td>NaN</td>\n",
       "      <td>NaN</td>\n",
       "      <td>None</td>\n",
       "    </tr>\n",
       "    <tr>\n",
       "      <th>1026</th>\n",
       "      <td>368</td>\n",
       "      <td>Wind</td>\n",
       "      <td>None</td>\n",
       "      <td>Hillsborough</td>\n",
       "      <td>NH</td>\n",
       "      <td>PSNH 7.2 kV to Milford Substation</td>\n",
       "      <td>None</td>\n",
       "      <td>WND</td>\n",
       "      <td>10.000</td>\n",
       "      <td>10.000</td>\n",
       "      <td>10.000</td>\n",
       "      <td>5/27/2011</td>\n",
       "      <td>Withdrawn</td>\n",
       "      <td>9/1/2012</td>\n",
       "      <td>8/23/2011</td>\n",
       "      <td>None</td>\n",
       "      <td>None</td>\n",
       "      <td>2014-06-10</td>\n",
       "      <td>WT</td>\n",
       "      <td>9/30/2012</td>\n",
       "      <td>9/1/2012</td>\n",
       "      <td>CNR</td>\n",
       "      <td>N</td>\n",
       "      <td>None</td>\n",
       "      <td>NH</td>\n",
       "      <td>NaN</td>\n",
       "      <td>N</td>\n",
       "      <td>NaN</td>\n",
       "      <td>NaN</td>\n",
       "      <td>NaN</td>\n",
       "      <td>None</td>\n",
       "    </tr>\n",
       "    <tr>\n",
       "      <th>1027</th>\n",
       "      <td>368</td>\n",
       "      <td>Wind</td>\n",
       "      <td>None</td>\n",
       "      <td>Hillsborough</td>\n",
       "      <td>NH</td>\n",
       "      <td>PSNH 34.5 kV to Monadnock substation</td>\n",
       "      <td>ISO-NE</td>\n",
       "      <td>WND</td>\n",
       "      <td>16.100</td>\n",
       "      <td>16.100</td>\n",
       "      <td>16.100</td>\n",
       "      <td>5/27/2011</td>\n",
       "      <td>Withdrawn</td>\n",
       "      <td>10/1/2014</td>\n",
       "      <td>7/25/2013</td>\n",
       "      <td>None</td>\n",
       "      <td>None</td>\n",
       "      <td>2013-07-25</td>\n",
       "      <td>WT</td>\n",
       "      <td>10/31/2014</td>\n",
       "      <td>10/1/2014</td>\n",
       "      <td>CNR</td>\n",
       "      <td>Y</td>\n",
       "      <td>CD</td>\n",
       "      <td>NH</td>\n",
       "      <td>NaN</td>\n",
       "      <td>Y</td>\n",
       "      <td>NaN</td>\n",
       "      <td>NaN</td>\n",
       "      <td>NaN</td>\n",
       "      <td>None</td>\n",
       "    </tr>\n",
       "    <tr>\n",
       "      <th>1010</th>\n",
       "      <td>380</td>\n",
       "      <td>1000 MW HVDC Line</td>\n",
       "      <td>None</td>\n",
       "      <td>None</td>\n",
       "      <td>MA</td>\n",
       "      <td>NSTAR Carver 345 kV</td>\n",
       "      <td>None</td>\n",
       "      <td>None</td>\n",
       "      <td>NaN</td>\n",
       "      <td>NaN</td>\n",
       "      <td>NaN</td>\n",
       "      <td>11/10/2011</td>\n",
       "      <td>Withdrawn</td>\n",
       "      <td>1/1/2020</td>\n",
       "      <td>2/16/2015</td>\n",
       "      <td>None</td>\n",
       "      <td>None</td>\n",
       "      <td>2015-02-17</td>\n",
       "      <td>None</td>\n",
       "      <td>6/1/2020</td>\n",
       "      <td>1/1/2020</td>\n",
       "      <td>None</td>\n",
       "      <td>N</td>\n",
       "      <td>None</td>\n",
       "      <td>SEMA</td>\n",
       "      <td>NaN</td>\n",
       "      <td>N</td>\n",
       "      <td>NaN</td>\n",
       "      <td>NaN</td>\n",
       "      <td>NaN</td>\n",
       "      <td>None</td>\n",
       "    </tr>\n",
       "    <tr>\n",
       "      <th>1011</th>\n",
       "      <td>380</td>\n",
       "      <td>1000 MW HVDC Line</td>\n",
       "      <td>None</td>\n",
       "      <td>None</td>\n",
       "      <td>MA</td>\n",
       "      <td>NSTAR Barnstable 345 kV</td>\n",
       "      <td>None</td>\n",
       "      <td>None</td>\n",
       "      <td>NaN</td>\n",
       "      <td>NaN</td>\n",
       "      <td>NaN</td>\n",
       "      <td>11/10/2011</td>\n",
       "      <td>Withdrawn</td>\n",
       "      <td>1/1/2020</td>\n",
       "      <td>2/16/2015</td>\n",
       "      <td>None</td>\n",
       "      <td>None</td>\n",
       "      <td>2015-02-17</td>\n",
       "      <td>None</td>\n",
       "      <td>6/1/2020</td>\n",
       "      <td>1/1/2020</td>\n",
       "      <td>None</td>\n",
       "      <td>N</td>\n",
       "      <td>None</td>\n",
       "      <td>SEMA</td>\n",
       "      <td>NaN</td>\n",
       "      <td>N</td>\n",
       "      <td>NaN</td>\n",
       "      <td>NaN</td>\n",
       "      <td>NaN</td>\n",
       "      <td>None</td>\n",
       "    </tr>\n",
       "  </tbody>\n",
       "</table>\n",
       "</div>"
      ],
      "text/plain": [
       "      Queue ID       Project Name Interconnecting Entity        County State                 Interconnection Location Transmission Owner Generation Type  Capacity (MW)  Summer Capacity (MW)  Winter Capacity (MW)  Queue Date     Status Proposed Completion Date Withdrawn Date Withdrawal Comment Actual Completion Date    Updated  Unit     Op Date   Sync Date  Serv I39   Dev  Zone  FS SIS  OS  FAC  IA Project Status\n",
       "1054       350               Wind                   None      Somerset    ME                     CMP Wyman substation             ISO-NE             WND         96.900                96.900                96.900  11/10/2010  Withdrawn                10/1/2016      10/5/2015               None                   None 2015-10-05    WT  12/31/2016   10/1/2016    NR   N    PD    ME NaN   Y NaN  NaN NaN           None\n",
       "1055       350               Wind                   None    Washington    ME  BHE Washington County 115 kV substation               None             WND         92.250                92.250                92.250  11/10/2010  Withdrawn                10/1/2015     11/15/2013               None                   None 2015-10-01    WT  12/31/2015   10/1/2015    NR   N    PD   BHE NaN   N NaN  NaN NaN           None\n",
       "1050       353               Wind                   None      Plymouth    MA           NSTAR 115 kV Valley substation             ISO-NE             WND          9.900                 9.900                 9.900  12/21/2010  Withdrawn               11/30/2013       8/8/2012               None                   None 2012-08-08    WT  12/31/2013  11/30/2013   CNR   N    BL  SEMA NaN   Y NaN  NaN NaN           None\n",
       "1051       353               Wind                   None    Barnstable    MA           NSTAR 115 kV Valley substation               None             WND         14.900                14.900                14.900  12/21/2010  Withdrawn               10/31/2012       6/7/2011               None                   None 2011-06-09    WT  11/30/2012  10/31/2012   CNR   N  None  SEMA NaN   N NaN  NaN NaN           None\n",
       "1042       358              Hydro                   None     Penobscot    ME        BHE Stillwater 12.5 kV substation               None             WAT          2.274                 2.274                 2.274    3/4/2011  Withdrawn                 8/1/2012      10/5/2011               None                   None 2011-10-06    HD   8/15/2012    8/1/2012   CNR   N  None   BHE NaN   N NaN  NaN NaN           None\n",
       "1043       358              Hydro                   None     Penobscot    ME             BHE Orono 12.5 kV substation               None             WAT          3.858                 3.858                 3.858    3/4/2011  Withdrawn                 8/1/2012      4/11/2011               None                   None 2011-04-12    HD   8/15/2012    8/1/2012   CNR   N  None   BHE NaN   N NaN  NaN NaN           None\n",
       "1026       368               Wind                   None  Hillsborough    NH        PSNH 7.2 kV to Milford Substation               None             WND         10.000                10.000                10.000   5/27/2011  Withdrawn                 9/1/2012      8/23/2011               None                   None 2014-06-10    WT   9/30/2012    9/1/2012   CNR   N  None    NH NaN   N NaN  NaN NaN           None\n",
       "1027       368               Wind                   None  Hillsborough    NH     PSNH 34.5 kV to Monadnock substation             ISO-NE             WND         16.100                16.100                16.100   5/27/2011  Withdrawn                10/1/2014      7/25/2013               None                   None 2013-07-25    WT  10/31/2014   10/1/2014   CNR   Y    CD    NH NaN   Y NaN  NaN NaN           None\n",
       "1010       380  1000 MW HVDC Line                   None          None    MA                      NSTAR Carver 345 kV               None            None            NaN                   NaN                   NaN  11/10/2011  Withdrawn                 1/1/2020      2/16/2015               None                   None 2015-02-17  None    6/1/2020    1/1/2020  None   N  None  SEMA NaN   N NaN  NaN NaN           None\n",
       "1011       380  1000 MW HVDC Line                   None          None    MA                  NSTAR Barnstable 345 kV               None            None            NaN                   NaN                   NaN  11/10/2011  Withdrawn                 1/1/2020      2/16/2015               None                   None 2015-02-17  None    6/1/2020    1/1/2020  None   N  None  SEMA NaN   N NaN  NaN NaN           None"
      ]
     },
     "execution_count": 189,
     "metadata": {},
     "output_type": "execute_result"
    }
   ],
   "source": [
    "# duplicates (none Active) have all kinds of variation in values. Maybe best approach is to sort by date updated and take the latest one. It doesn't always differentiate them though.\n",
    "raw_isone.loc[raw_isone.duplicated(subset=compound_key, keep=False),:].sort_values(by=compound_key).tail(10)\n"
   ]
  },
  {
   "cell_type": "code",
   "execution_count": 190,
   "metadata": {},
   "outputs": [],
   "source": [
    "raw_isone['Updated'] = pd.to_datetime(raw_isone['Updated'])\n"
   ]
  },
  {
   "cell_type": "code",
   "execution_count": 191,
   "metadata": {},
   "outputs": [
    {
     "name": "stdout",
     "output_type": "stream",
     "text": [
      "<class 'pandas.core.frame.DataFrame'>\n",
      "Int64Index: 1572 entries, 0 to 1571\n",
      "Data columns (total 41 columns):\n",
      " #   Column                       Non-Null Count  Dtype         \n",
      "---  ------                       --------------  -----         \n",
      " 0   Queue ID                     1526 non-null   float64       \n",
      " 1   Project Name                 1526 non-null   object        \n",
      " 2   Interconnecting Entity       0 non-null      object        \n",
      " 3   County                       1423 non-null   object        \n",
      " 4   State                        1499 non-null   object        \n",
      " 5   Interconnection Location     1503 non-null   object        \n",
      " 6   Transmission Owner           590 non-null    object        \n",
      " 7   Generation Type              1272 non-null   object        \n",
      " 8   Capacity (MW)                1254 non-null   float64       \n",
      " 9   Summer Capacity (MW)         1271 non-null   float64       \n",
      " 10  Winter Capacity (MW)         1268 non-null   float64       \n",
      " 11  Queue Date                   1526 non-null   object        \n",
      " 12  Status                       1526 non-null   object        \n",
      " 13  Proposed Completion Date     1307 non-null   object        \n",
      " 14  Withdrawn Date               662 non-null    object        \n",
      " 15  Withdrawal Comment           0 non-null      object        \n",
      " 16  Actual Completion Date       0 non-null      object        \n",
      " 17  Updated                      1365 non-null   datetime64[ns]\n",
      " 18  Unit                         1265 non-null   object        \n",
      " 19  Op Date                      1515 non-null   object        \n",
      " 20  Sync Date                    1307 non-null   object        \n",
      " 21  Serv                         1066 non-null   object        \n",
      " 22  I39                          1526 non-null   object        \n",
      " 23  Dev                          702 non-null    object        \n",
      " 24  Zone                         1494 non-null   object        \n",
      " 25  FS                           0 non-null      float64       \n",
      " 26  SIS                          1526 non-null   object        \n",
      " 27  OS                           0 non-null      float64       \n",
      " 28  FAC                          0 non-null      float64       \n",
      " 29  IA                           0 non-null      float64       \n",
      " 30  Project Status               14 non-null     object        \n",
      " 31  queue_id                     1255 non-null   float64       \n",
      " 32  project_name                 1255 non-null   object        \n",
      " 33  queue_date                   1255 non-null   object        \n",
      " 34  queue_status                 1255 non-null   object        \n",
      " 35  interconnection_status_raw   1255 non-null   object        \n",
      " 36  interconnection_status_lbnl  1255 non-null   object        \n",
      " 37  capacity_mw_resource_1       1069 non-null   float64       \n",
      " 38  resource_type_1              1255 non-null   object        \n",
      " 39  in_lbnl                      1572 non-null   bool          \n",
      " 40  in_gs                        1572 non-null   bool          \n",
      "dtypes: bool(2), datetime64[ns](1), float64(10), object(28)\n",
      "memory usage: 494.3+ KB\n"
     ]
    }
   ],
   "source": [
    "# join manually rather than refactoring the func to take compound key\n",
    "lbnl_iso = lbnl.loc[lbnl[\"entity\"].eq(\"ISO-NE\"), LBNL_JOIN_COLS].astype({'queue_id': int})\n",
    "isone = raw_isone.sort_values('Updated').drop_duplicates(subset=compound_key, keep='last')\n",
    "isone = isone.merge(lbnl_iso, how=\"outer\", left_on=compound_key, right_on=[c.lower().replace(' ', '_') for c in compound_key])\n",
    "isone[\"in_lbnl\"] = ~isone[\"queue_id\"].isna()\n",
    "isone[\"in_gs\"] = ~isone[\"Queue ID\"].isna()\n",
    "del lbnl_iso\n",
    "isone.info()\n"
   ]
  },
  {
   "cell_type": "code",
   "execution_count": 192,
   "metadata": {},
   "outputs": [
    {
     "data": {
      "text/html": [
       "<div>\n",
       "<style scoped>\n",
       "    .dataframe tbody tr th:only-of-type {\n",
       "        vertical-align: middle;\n",
       "    }\n",
       "\n",
       "    .dataframe tbody tr th {\n",
       "        vertical-align: top;\n",
       "    }\n",
       "\n",
       "    .dataframe thead th {\n",
       "        text-align: right;\n",
       "    }\n",
       "</style>\n",
       "<table border=\"1\" class=\"dataframe\">\n",
       "  <thead>\n",
       "    <tr style=\"text-align: right;\">\n",
       "      <th></th>\n",
       "      <th>Queue ID</th>\n",
       "      <th>Project Name</th>\n",
       "      <th>Interconnecting Entity</th>\n",
       "      <th>County</th>\n",
       "      <th>State</th>\n",
       "      <th>Interconnection Location</th>\n",
       "      <th>Transmission Owner</th>\n",
       "      <th>Generation Type</th>\n",
       "      <th>Capacity (MW)</th>\n",
       "      <th>Summer Capacity (MW)</th>\n",
       "      <th>Winter Capacity (MW)</th>\n",
       "      <th>Queue Date</th>\n",
       "      <th>Status</th>\n",
       "      <th>Proposed Completion Date</th>\n",
       "      <th>Withdrawn Date</th>\n",
       "      <th>Withdrawal Comment</th>\n",
       "      <th>Actual Completion Date</th>\n",
       "      <th>Updated</th>\n",
       "      <th>Unit</th>\n",
       "      <th>Op Date</th>\n",
       "      <th>Sync Date</th>\n",
       "      <th>Serv</th>\n",
       "      <th>I39</th>\n",
       "      <th>Dev</th>\n",
       "      <th>Zone</th>\n",
       "      <th>FS</th>\n",
       "      <th>SIS</th>\n",
       "      <th>OS</th>\n",
       "      <th>FAC</th>\n",
       "      <th>IA</th>\n",
       "      <th>Project Status</th>\n",
       "      <th>queue_id</th>\n",
       "      <th>project_name</th>\n",
       "      <th>queue_date</th>\n",
       "      <th>queue_status</th>\n",
       "      <th>interconnection_status_raw</th>\n",
       "      <th>interconnection_status_lbnl</th>\n",
       "      <th>capacity_mw_resource_1</th>\n",
       "      <th>resource_type_1</th>\n",
       "      <th>in_lbnl</th>\n",
       "      <th>in_gs</th>\n",
       "    </tr>\n",
       "  </thead>\n",
       "  <tbody>\n",
       "    <tr>\n",
       "      <th>0</th>\n",
       "      <td>188.0</td>\n",
       "      <td>Gas Turbine Capacity Increase( #178)</td>\n",
       "      <td>None</td>\n",
       "      <td>Plymouth</td>\n",
       "      <td>MA</td>\n",
       "      <td>115 kV F19 and/or E20 lines</td>\n",
       "      <td>None</td>\n",
       "      <td>DFO NG</td>\n",
       "      <td>NaN</td>\n",
       "      <td>69.0</td>\n",
       "      <td>0.0</td>\n",
       "      <td>12/7/2006</td>\n",
       "      <td>Withdrawn</td>\n",
       "      <td>4/1/2010</td>\n",
       "      <td>2/1/2007</td>\n",
       "      <td>None</td>\n",
       "      <td>None</td>\n",
       "      <td>2007-02-01</td>\n",
       "      <td>CC</td>\n",
       "      <td>6/1/2010</td>\n",
       "      <td>4/1/2010</td>\n",
       "      <td>MIS</td>\n",
       "      <td>N</td>\n",
       "      <td>None</td>\n",
       "      <td>SEMA</td>\n",
       "      <td>NaN</td>\n",
       "      <td>N</td>\n",
       "      <td>NaN</td>\n",
       "      <td>NaN</td>\n",
       "      <td>NaN</td>\n",
       "      <td>None</td>\n",
       "      <td>188.0</td>\n",
       "      <td>Gas Turbine Capacity Increase( #178)</td>\n",
       "      <td>07dec2006</td>\n",
       "      <td>withdrawn</td>\n",
       "      <td>Unknown/Not Started</td>\n",
       "      <td>In Progress (unknown study)</td>\n",
       "      <td>NaN</td>\n",
       "      <td>Oil</td>\n",
       "      <td>True</td>\n",
       "      <td>True</td>\n",
       "    </tr>\n",
       "    <tr>\n",
       "      <th>1</th>\n",
       "      <td>141.0</td>\n",
       "      <td>Gas Turbine</td>\n",
       "      <td>None</td>\n",
       "      <td>Middlesex</td>\n",
       "      <td>MA</td>\n",
       "      <td>115 kV O 167 line between Everett and Mystic S...</td>\n",
       "      <td>ISO-NE</td>\n",
       "      <td>DFO NG</td>\n",
       "      <td>NaN</td>\n",
       "      <td>200.0</td>\n",
       "      <td>200.0</td>\n",
       "      <td>12/14/2005</td>\n",
       "      <td>Withdrawn</td>\n",
       "      <td>8/31/2009</td>\n",
       "      <td>2/7/2007</td>\n",
       "      <td>None</td>\n",
       "      <td>None</td>\n",
       "      <td>2007-02-07</td>\n",
       "      <td>GT</td>\n",
       "      <td>9/30/2009</td>\n",
       "      <td>8/31/2009</td>\n",
       "      <td>MIS</td>\n",
       "      <td>N</td>\n",
       "      <td>None</td>\n",
       "      <td>BOST</td>\n",
       "      <td>NaN</td>\n",
       "      <td>N</td>\n",
       "      <td>NaN</td>\n",
       "      <td>NaN</td>\n",
       "      <td>NaN</td>\n",
       "      <td>None</td>\n",
       "      <td>141.0</td>\n",
       "      <td>Gas Turbine</td>\n",
       "      <td>14dec2005</td>\n",
       "      <td>withdrawn</td>\n",
       "      <td>Unknown/Not Started</td>\n",
       "      <td>In Progress (unknown study)</td>\n",
       "      <td>NaN</td>\n",
       "      <td>Oil</td>\n",
       "      <td>True</td>\n",
       "      <td>True</td>\n",
       "    </tr>\n",
       "  </tbody>\n",
       "</table>\n",
       "</div>"
      ],
      "text/plain": [
       "   Queue ID                          Project Name Interconnecting Entity     County State                           Interconnection Location Transmission Owner Generation Type  Capacity (MW)  Summer Capacity (MW)  Winter Capacity (MW)  Queue Date     Status Proposed Completion Date Withdrawn Date Withdrawal Comment Actual Completion Date    Updated Unit    Op Date  Sync Date Serv I39   Dev  Zone  FS SIS  OS  FAC  IA Project Status  queue_id                          project_name queue_date queue_status interconnection_status_raw  interconnection_status_lbnl  capacity_mw_resource_1 resource_type_1  in_lbnl  in_gs\n",
       "0     188.0  Gas Turbine Capacity Increase( #178)                   None   Plymouth    MA                        115 kV F19 and/or E20 lines               None          DFO NG            NaN                  69.0                   0.0   12/7/2006  Withdrawn                 4/1/2010       2/1/2007               None                   None 2007-02-01   CC   6/1/2010   4/1/2010  MIS   N  None  SEMA NaN   N NaN  NaN NaN           None     188.0  Gas Turbine Capacity Increase( #178)  07dec2006    withdrawn        Unknown/Not Started  In Progress (unknown study)                     NaN             Oil     True   True\n",
       "1     141.0                           Gas Turbine                   None  Middlesex    MA  115 kV O 167 line between Everett and Mystic S...             ISO-NE          DFO NG            NaN                 200.0                 200.0  12/14/2005  Withdrawn                8/31/2009       2/7/2007               None                   None 2007-02-07   GT  9/30/2009  8/31/2009  MIS   N  None  BOST NaN   N NaN  NaN NaN           None     141.0                           Gas Turbine  14dec2005    withdrawn        Unknown/Not Started  In Progress (unknown study)                     NaN             Oil     True   True"
      ]
     },
     "execution_count": 192,
     "metadata": {},
     "output_type": "execute_result"
    }
   ],
   "source": [
    "isone.head(2)\n"
   ]
  },
  {
   "cell_type": "code",
   "execution_count": 193,
   "metadata": {},
   "outputs": [
    {
     "data": {
      "text/plain": [
       "in_gs  in_lbnl\n",
       "True   True       1209\n",
       "       False       317\n",
       "False  True         46\n",
       "dtype: int64"
      ]
     },
     "execution_count": 193,
     "metadata": {},
     "output_type": "execute_result"
    }
   ],
   "source": [
    "isone[[\"in_gs\", \"in_lbnl\"]].value_counts(dropna=False)\n"
   ]
  },
  {
   "cell_type": "code",
   "execution_count": 194,
   "metadata": {},
   "outputs": [
    {
     "data": {
      "text/plain": [
       "in_gs  in_lbnl\n",
       "True   True       1209\n",
       "       False       278\n",
       "False  True         46\n",
       "dtype: int64"
      ]
     },
     "execution_count": 194,
     "metadata": {},
     "output_type": "execute_result"
    }
   ],
   "source": [
    "# small improvement from date filter\n",
    "isone.loc[\n",
    "    pd.to_datetime(isone[\"Queue Date\"])\n",
    "    .fillna(pd.to_datetime(\"2020-01-01\"))\n",
    "    .lt(pd.to_datetime(\"2023-01-01\")),\n",
    "    [\"in_gs\", \"in_lbnl\"],\n",
    "].value_counts(dropna=False)\n"
   ]
  },
  {
   "cell_type": "code",
   "execution_count": 195,
   "metadata": {},
   "outputs": [
    {
     "data": {
      "text/plain": [
       "Status     queue_status\n",
       "Active     active          303\n",
       "           NaN             105\n",
       "Completed  active            2\n",
       "           operational     270\n",
       "           withdrawn         1\n",
       "           NaN              48\n",
       "Withdrawn  active           11\n",
       "           operational      29\n",
       "           withdrawn       593\n",
       "           NaN             164\n",
       "NaN        active           34\n",
       "           operational       6\n",
       "           withdrawn         6\n",
       "dtype: int64"
      ]
     },
     "execution_count": 195,
     "metadata": {},
     "output_type": "execute_result"
    }
   ],
   "source": [
    "# status values are decently aligned\n",
    "isone[[\"Status\", \"queue_status\"]].value_counts(dropna=False).sort_index()\n"
   ]
  },
  {
   "cell_type": "code",
   "execution_count": 196,
   "metadata": {},
   "outputs": [
    {
     "data": {
      "text/plain": [
       "Unknown/Not Started    778\n",
       "NaN                    317\n",
       "operational            305\n",
       "System Impact Study     68\n",
       "IA Executed             49\n",
       "Feasibility Study       31\n",
       "Not Started             18\n",
       "Facility Study           6\n",
       "Name: interconnection_status_raw, dtype: int64"
      ]
     },
     "execution_count": 196,
     "metadata": {},
     "output_type": "execute_result"
    }
   ],
   "source": [
    "isone['interconnection_status_raw'].value_counts(dropna=False)\n"
   ]
  },
  {
   "cell_type": "code",
   "execution_count": 197,
   "metadata": {},
   "outputs": [
    {
     "data": {
      "text/plain": [
       "interconnection_status_lbnl  interconnection_status_raw\n",
       "Facility Study               Facility Study                  6\n",
       "Feasibility Study            Feasibility Study              31\n",
       "IA Executed                  IA Executed                    49\n",
       "In Progress (unknown study)  Unknown/Not Started           778\n",
       "Not Started                  Not Started                    18\n",
       "Operational                  operational                   305\n",
       "System Impact Study          System Impact Study            68\n",
       "NaN                          NaN                           317\n",
       "dtype: int64"
      ]
     },
     "execution_count": 197,
     "metadata": {},
     "output_type": "execute_result"
    }
   ],
   "source": [
    "isone[['interconnection_status_lbnl', 'interconnection_status_raw']].value_counts(dropna=False).sort_index()\n"
   ]
  },
  {
   "cell_type": "code",
   "execution_count": 198,
   "metadata": {},
   "outputs": [
    {
     "data": {
      "text/plain": [
       "FS   SIS  OS   FAC  IA   Project Status                        \n",
       "NaN  N    NaN  NaN  NaN  CSIS                                        3\n",
       "                         Third Maine Resource Integration Study     11\n",
       "                         NaN                                       936\n",
       "     Y    NaN  NaN  NaN  NaN                                       576\n",
       "     NaN  NaN  NaN  NaN  NaN                                        46\n",
       "dtype: int64"
      ]
     },
     "metadata": {},
     "output_type": "display_data"
    }
   ],
   "source": [
    "status_cols_isone = [\n",
    "    \"FS\",\n",
    "    \"SIS\",\n",
    "    \"OS\",\n",
    "    \"FAC\",\n",
    "    \"IA\",\n",
    "    \"Project Status\",\n",
    "]\n",
    "with pd.option_context('display.max_rows', None):\n",
    "    display(isone[status_cols_isone].replace(['None'], np.nan).value_counts(dropna=False).where(lambda x: x>2).dropna().astype(int).sort_index())\n"
   ]
  },
  {
   "cell_type": "code",
   "execution_count": 199,
   "metadata": {},
   "outputs": [
    {
     "data": {
      "text/html": [
       "<div>\n",
       "<style scoped>\n",
       "    .dataframe tbody tr th:only-of-type {\n",
       "        vertical-align: middle;\n",
       "    }\n",
       "\n",
       "    .dataframe tbody tr th {\n",
       "        vertical-align: top;\n",
       "    }\n",
       "\n",
       "    .dataframe thead th {\n",
       "        text-align: right;\n",
       "    }\n",
       "</style>\n",
       "<table border=\"1\" class=\"dataframe\">\n",
       "  <thead>\n",
       "    <tr style=\"text-align: right;\">\n",
       "      <th></th>\n",
       "      <th>FS</th>\n",
       "      <th>SIS</th>\n",
       "      <th>OS</th>\n",
       "      <th>FAC</th>\n",
       "      <th>IA</th>\n",
       "      <th>Project Status</th>\n",
       "    </tr>\n",
       "  </thead>\n",
       "  <tbody>\n",
       "    <tr>\n",
       "      <th>0</th>\n",
       "      <td>NaN</td>\n",
       "      <td>N</td>\n",
       "      <td>NaN</td>\n",
       "      <td>NaN</td>\n",
       "      <td>NaN</td>\n",
       "      <td>None</td>\n",
       "    </tr>\n",
       "    <tr>\n",
       "      <th>1</th>\n",
       "      <td>NaN</td>\n",
       "      <td>N</td>\n",
       "      <td>NaN</td>\n",
       "      <td>NaN</td>\n",
       "      <td>NaN</td>\n",
       "      <td>None</td>\n",
       "    </tr>\n",
       "    <tr>\n",
       "      <th>2</th>\n",
       "      <td>NaN</td>\n",
       "      <td>N</td>\n",
       "      <td>NaN</td>\n",
       "      <td>NaN</td>\n",
       "      <td>NaN</td>\n",
       "      <td>None</td>\n",
       "    </tr>\n",
       "    <tr>\n",
       "      <th>3</th>\n",
       "      <td>NaN</td>\n",
       "      <td>N</td>\n",
       "      <td>NaN</td>\n",
       "      <td>NaN</td>\n",
       "      <td>NaN</td>\n",
       "      <td>None</td>\n",
       "    </tr>\n",
       "    <tr>\n",
       "      <th>4</th>\n",
       "      <td>NaN</td>\n",
       "      <td>N</td>\n",
       "      <td>NaN</td>\n",
       "      <td>NaN</td>\n",
       "      <td>NaN</td>\n",
       "      <td>None</td>\n",
       "    </tr>\n",
       "    <tr>\n",
       "      <th>...</th>\n",
       "      <td>...</td>\n",
       "      <td>...</td>\n",
       "      <td>...</td>\n",
       "      <td>...</td>\n",
       "      <td>...</td>\n",
       "      <td>...</td>\n",
       "    </tr>\n",
       "    <tr>\n",
       "      <th>1567</th>\n",
       "      <td>NaN</td>\n",
       "      <td>NaN</td>\n",
       "      <td>NaN</td>\n",
       "      <td>NaN</td>\n",
       "      <td>NaN</td>\n",
       "      <td>NaN</td>\n",
       "    </tr>\n",
       "    <tr>\n",
       "      <th>1568</th>\n",
       "      <td>NaN</td>\n",
       "      <td>NaN</td>\n",
       "      <td>NaN</td>\n",
       "      <td>NaN</td>\n",
       "      <td>NaN</td>\n",
       "      <td>NaN</td>\n",
       "    </tr>\n",
       "    <tr>\n",
       "      <th>1569</th>\n",
       "      <td>NaN</td>\n",
       "      <td>NaN</td>\n",
       "      <td>NaN</td>\n",
       "      <td>NaN</td>\n",
       "      <td>NaN</td>\n",
       "      <td>NaN</td>\n",
       "    </tr>\n",
       "    <tr>\n",
       "      <th>1570</th>\n",
       "      <td>NaN</td>\n",
       "      <td>NaN</td>\n",
       "      <td>NaN</td>\n",
       "      <td>NaN</td>\n",
       "      <td>NaN</td>\n",
       "      <td>NaN</td>\n",
       "    </tr>\n",
       "    <tr>\n",
       "      <th>1571</th>\n",
       "      <td>NaN</td>\n",
       "      <td>NaN</td>\n",
       "      <td>NaN</td>\n",
       "      <td>NaN</td>\n",
       "      <td>NaN</td>\n",
       "      <td>NaN</td>\n",
       "    </tr>\n",
       "  </tbody>\n",
       "</table>\n",
       "<p>1572 rows × 6 columns</p>\n",
       "</div>"
      ],
      "text/plain": [
       "      FS  SIS  OS  FAC  IA Project Status\n",
       "0    NaN    N NaN  NaN NaN           None\n",
       "1    NaN    N NaN  NaN NaN           None\n",
       "2    NaN    N NaN  NaN NaN           None\n",
       "3    NaN    N NaN  NaN NaN           None\n",
       "4    NaN    N NaN  NaN NaN           None\n",
       "...   ..  ...  ..  ...  ..            ...\n",
       "1567 NaN  NaN NaN  NaN NaN            NaN\n",
       "1568 NaN  NaN NaN  NaN NaN            NaN\n",
       "1569 NaN  NaN NaN  NaN NaN            NaN\n",
       "1570 NaN  NaN NaN  NaN NaN            NaN\n",
       "1571 NaN  NaN NaN  NaN NaN            NaN\n",
       "\n",
       "[1572 rows x 6 columns]"
      ]
     },
     "execution_count": 199,
     "metadata": {},
     "output_type": "execute_result"
    }
   ],
   "source": [
    "# gridstatus doesn't parse the status values, so they are all null. In their defense, the ISONE encodes them as alt text behind icons, which is stupid. But still.\n",
    "isone[status_cols_isone]\n"
   ]
  },
  {
   "cell_type": "code",
   "execution_count": 200,
   "metadata": {},
   "outputs": [
    {
     "data": {
      "text/plain": [
       "SUN                336\n",
       "None               260\n",
       "WND                232\n",
       "BAT                144\n",
       "NG                 132\n",
       "SUN BAT            118\n",
       "DFO NG             105\n",
       "WAT                 66\n",
       "WDS                 40\n",
       "DFO                 14\n",
       "LFG                 12\n",
       "BIT                 11\n",
       "NUC                 11\n",
       "WND BAT             10\n",
       "FC                   5\n",
       "WAT BAT              5\n",
       "KER NG               4\n",
       "DFO KER NG           4\n",
       "NG WO                3\n",
       "NG SUN BAT           2\n",
       "KER                  2\n",
       "JF KER NG            2\n",
       "BLQ WDS              2\n",
       "MSW                  2\n",
       "NG RFO               1\n",
       "DFO KER              1\n",
       "JF KER               1\n",
       "JF                   1\n",
       "BLQ DFO KER WDS      1\n",
       "NG WDS               1\n",
       "BIT RFO              1\n",
       "DFO SUB              1\n",
       "DFO WDS              1\n",
       "NG OTH               1\n",
       "JF NG                1\n",
       "Name: Generation Type, dtype: int64"
      ]
     },
     "execution_count": 200,
     "metadata": {},
     "output_type": "execute_result"
    }
   ],
   "source": [
    "raw_isone['Generation Type'].value_counts(dropna=False)\n"
   ]
  },
  {
   "cell_type": "markdown",
   "metadata": {
    "tags": []
   },
   "source": [
    "#### Compare total capacity for projects in both"
   ]
  },
  {
   "cell_type": "code",
   "execution_count": 201,
   "metadata": {
    "tags": []
   },
   "outputs": [
    {
     "name": "stdout",
     "output_type": "stream",
     "text": [
      "GS Capacity for projects in GS and LBNL: 103189.735\n",
      "LBNL Capacity for project in GS and LBNL: 104166.505\n",
      "Ratio of LBNL to GS Capacity for project in GS and LBNL: 1.0094657671133664\n"
     ]
    }
   ],
   "source": [
    "both_isone = isone[isone.in_lbnl & isone.in_gs]\n",
    "\n",
    "compare_capacity(both_isone)"
   ]
  },
  {
   "cell_type": "markdown",
   "metadata": {
    "tags": []
   },
   "source": [
    "#### Compare total capacity for **active** projects in both"
   ]
  },
  {
   "cell_type": "code",
   "execution_count": 203,
   "metadata": {},
   "outputs": [
    {
     "data": {
      "text/plain": [
       "Status     queue_status\n",
       "Withdrawn  withdrawn       593\n",
       "Active     active          303\n",
       "Completed  operational     270\n",
       "Withdrawn  NaN             164\n",
       "Active     NaN             105\n",
       "Completed  NaN              48\n",
       "NaN        active           34\n",
       "Withdrawn  operational      29\n",
       "           active           11\n",
       "NaN        operational       6\n",
       "           withdrawn         6\n",
       "Completed  active            2\n",
       "           withdrawn         1\n",
       "dtype: int64"
      ]
     },
     "execution_count": 203,
     "metadata": {},
     "output_type": "execute_result"
    }
   ],
   "source": [
    "isone[[\"Status\", \"queue_status\"]].value_counts(dropna=False)"
   ]
  },
  {
   "cell_type": "code",
   "execution_count": 205,
   "metadata": {},
   "outputs": [
    {
     "name": "stdout",
     "output_type": "stream",
     "text": [
      "GS Capacity for projects in GS and LBNL: 31136.364\n",
      "LBNL Capacity for project in GS and LBNL: 31760.5\n",
      "Ratio of LBNL to GS Capacity for project in GS and LBNL: 1.0200452435615153\n"
     ]
    }
   ],
   "source": [
    "isone_active_in_both = isone[isone[\"queue_status\"].eq(\"active\") & isone[\"Status\"].eq(\"Active\")]\n",
    "compare_capacity(isone_active_in_both)"
   ]
  },
  {
   "cell_type": "markdown",
   "metadata": {},
   "source": [
    "Decent alignment between project statuses. GS has a bit more projects. Did their status change in 2023?"
   ]
  },
  {
   "cell_type": "code",
   "execution_count": 214,
   "metadata": {},
   "outputs": [
    {
     "data": {
      "text/plain": [
       "<AxesSubplot: ylabel='Frequency'>"
      ]
     },
     "execution_count": 214,
     "metadata": {},
     "output_type": "execute_result"
    },
    {
     "data": {
      "image/png": "[encoded data removed]",
      "text/plain": [
       "<Figure size 640x480 with 1 Axes>"
      ]
     },
     "metadata": {},
     "output_type": "display_data"
    }
   ],
   "source": [
    "pd.to_datetime(isone[isone[\"queue_status\"].isna() & isone[\"Status\"].eq(\"Active\")][\"Queue Date\"]).dt.year.plot.hist()"
   ]
  },
  {
   "cell_type": "markdown",
   "metadata": {},
   "source": [
    "#### Compare total capacity for all projects"
   ]
  },
  {
   "cell_type": "code",
   "execution_count": 267,
   "metadata": {},
   "outputs": [
    {
     "name": "stdout",
     "output_type": "stream",
     "text": [
      "Ratio of total LBNL capacity to total GS capacity 55.009389792941896\n",
      "Ratio of total LBNL project to total GS projects 0.8224115334207077\n"
     ]
    }
   ],
   "source": [
    "gs_capacities = isone[isone.in_gs][\"Capacity (MW)\"]\n",
    "lbnl_capacities = isone[isone.in_lbnl][\"capacity_mw_resource_1\"]\n",
    "\n",
    "print(f\"Ratio of total LBNL capacity to total GS capacity {(gs_capacities.sum() - lbnl_capacities.sum()) / lbnl_capacities.sum() * 100}\")\n",
    "print(f\"Ratio of total LBNL project to total GS projects {len(lbnl_capacities) / len(gs_capacities)}\")"
   ]
  },
  {
   "cell_type": "markdown",
   "metadata": {},
   "source": [
    "Hmmm substatially more capacity in GS."
   ]
  },
  {
   "cell_type": "code",
   "execution_count": null,
   "metadata": {},
   "outputs": [],
   "source": []
  }
 ],
 "metadata": {
  "kernelspec": {
   "display_name": "Python 3 (ipykernel)",
   "language": "python",
   "name": "python3"
  },
  "language_info": {
   "codemirror_mode": {
    "name": "ipython",
    "version": 3
   },
   "file_extension": ".py",
   "mimetype": "text/x-python",
   "name": "python",
   "nbconvert_exporter": "python",
   "pygments_lexer": "ipython3",
   "version": "3.10.12"
  }
 },
 "nbformat": 4,
 "nbformat_minor": 4
}
