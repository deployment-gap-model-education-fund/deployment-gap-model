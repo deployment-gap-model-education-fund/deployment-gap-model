{
 "cells": [
  {
   "cell_type": "code",
   "execution_count": null,
   "id": "e2c4ba01-efa8-41f4-93ab-85d9452d6fe2",
   "metadata": {},
   "outputs": [],
   "source": [
    "%load_ext autoreload"
   ]
  },
  {
   "cell_type": "code",
   "execution_count": null,
   "id": "c5fc3217-d4ed-4e3e-8a98-6fdc06769175",
   "metadata": {},
   "outputs": [],
   "source": [
    "%autoreload 2"
   ]
  },
  {
   "cell_type": "code",
   "execution_count": null,
   "id": "baeedb9e-01aa-4702-9a82-174d677751b9",
   "metadata": {},
   "outputs": [],
   "source": [
    "import pandas as pd\n",
    "import numpy as np\n",
    "from pathlib import Path"
   ]
  },
  {
   "cell_type": "code",
   "execution_count": null,
   "id": "c6d862f9-e588-451c-a679-1176589b0705",
   "metadata": {},
   "outputs": [],
   "source": [
    "path = Path('/app/data/raw/2022.03.22OGW.xlsx')\n",
    "assert path.exists()"
   ]
  },
  {
   "cell_type": "code",
   "execution_count": null,
   "id": "89f17641-8b0d-45dd-970c-a3faa79e17b0",
   "metadata": {},
   "outputs": [],
   "source": [
    "# eip = dbcp.extract.eip_infrastructure.extract(path)\n",
    "# hardcode the extract function so this notebook can be easily rerun in the future without maintenance\n",
    "proj = pd.read_excel(path, sheet_name='Project')"
   ]
  },
  {
   "cell_type": "code",
   "execution_count": null,
   "id": "956821db-2798-467e-ba75-78534afcd85a",
   "metadata": {},
   "outputs": [],
   "source": [
    "pd.options.display.max_columns = 100\n",
    "pd.options.display.max_rows = 100"
   ]
  },
  {
   "cell_type": "code",
   "execution_count": null,
   "id": "f20883b9-8047-4f50-935b-14afb51d6bc3",
   "metadata": {},
   "outputs": [],
   "source": [
    "proj.shape"
   ]
  },
  {
   "cell_type": "markdown",
   "id": "ca8a087d-f556-4cb2-b9a7-540ab84a27a6",
   "metadata": {},
   "source": [
    "# Cleaning\n",
    "## Projects Cleaning\n",
    "- [x] Accuracy\n",
    "- [x] Atomicity\n",
    "- [ ] Consistency\n",
    "- [x] Completeness\n",
    "- [x] Uniformity\n",
    "- [x] Validity\n",
    "    - [x] Range Validation\n",
    "    - [x] Uniqueness Validation\n",
    "    - [x] Set Membership Validation\n",
    "    - [x] Type Validation\n",
    "    - [x] Cross-Field Validation"
   ]
  },
  {
   "cell_type": "markdown",
   "id": "ff749ff2-dea9-4d5b-ac51-950666adc19a",
   "metadata": {},
   "source": [
    "### Accuracy\n",
    "The biggest accuracy risks for this dataset are probably 1) bad reporting to the EPA (would take a huge research effort to double check that) and 2) transcription errors by EIP between the PDFs and the database. I'll do a little spot check to guard againt the second.\n",
    "\n",
    "Results: I only checked 3 facilities but still managed to find conflicting information about CO2e numbers 😕"
   ]
  },
  {
   "cell_type": "code",
   "execution_count": null,
   "id": "90eeaf6e-e70e-4b7f-bbc3-7f9913d28884",
   "metadata": {},
   "outputs": [],
   "source": [
    "proj.sample(3, random_state=42)"
   ]
  },
  {
   "cell_type": "markdown",
   "id": "41e44fd6-625b-4f2f-b565-7146d2d697cf",
   "metadata": {},
   "source": [
    "Sinton Compresson Station: [permit](https://api.oilandgaswatch.org/d/98/f8/98f85e1d868f4e63966d01637fc5408c.1638199494.pdf) confirmed all emissions numbers EXCEPT GHG (not mentioned). I couldn't find a source for that 450,475 number. The [environmental impact statement](https://www.ferc.gov/sites/default/files/2020-05/corpuschristiFEIS.pdf) submitted to FERC claims only 155,000 tpy of CO2e.\n",
    "\n",
    "Golden Pass LNG Terminal: GHG numbers confirmed on page 25 of [the permit doc](https://api.oilandgaswatch.org/d/18/54/18545bea701e4bed938050997b308fdf.1638219234.pdf)\n",
    "\n",
    "NGPL Compressor Station: had to go digging for the docs, but found the [FERC Environmental Assessment](https://www.ferc.gov/sites/default/files/2020-04/CP19-99-EA.pdf) that confirms the 173.4 tpy CO2e numbers."
   ]
  },
  {
   "cell_type": "markdown",
   "id": "c26eb9fa-d49d-45d1-8bd0-55cfdd2bf79f",
   "metadata": {},
   "source": [
    "### Atomicity\n",
    "By inspection I see that all the ID and associated name fields can contain multiple values. I'll only worry about Facility IDs and Air Construction Permit IDs.\n",
    "\n",
    "On a related note, both the facilities table and the project table have a column linking the two. I'll have to combine them to get a complete association entity table."
   ]
  },
  {
   "cell_type": "markdown",
   "id": "d2cad23f-ae34-4def-8d92-f0170795324a",
   "metadata": {},
   "source": [
    "### Completeness\n",
    "For this purpose, I'll limit the scope of 'completeness' to only look at missing values within the data. For better or worse, it is EIP's job to ensure projects are in the dataset at all.\n",
    "\n",
    "We are not interested in already-operating projects, so I'll remove those and assess completeness based on the remaining subset.\n",
    "\n",
    "Notable missing values and lack of missing values:\n",
    "* all projects are linked to a facility ID!\n",
    "* all projects have an operating status\n",
    "* 95/308 (30.8%) are missing Air Construction Permit IDs. Likely because many of these projects are too new to have gone through the permitting process.\n",
    "* 86/308 (27.9%) are missing CO2e estimates. Same newness reason.\n",
    "\n",
    "For evidence of the \"too new to have a permit\" hypothesis, compare completeness of criteria pollutants before/after subsetting by operational status:\n",
    "* For all projects, only around 66/672 (9.8%) are missing criteria pollutants (NOx, VOC, CO, SO2, PM2.5)\n",
    "* For not-operational projects, 60/308 (19.5%) are missing criteria pollutants. So nearly all of the missing values."
   ]
  },
  {
   "cell_type": "code",
   "execution_count": null,
   "id": "657869cb-3d9a-4aa8-b59b-effd1937e880",
   "metadata": {},
   "outputs": [],
   "source": [
    "def calc(num, denom=308):\n",
    "    percent = 1- num/denom\n",
    "    n = denom - num\n",
    "    return f\"{n}/{denom} ({percent*100:.1f}%)\""
   ]
  },
  {
   "cell_type": "code",
   "execution_count": null,
   "id": "d800298e-66fc-4945-9391-c2cb64525ddc",
   "metadata": {},
   "outputs": [],
   "source": [
    "calc(248)"
   ]
  },
  {
   "cell_type": "code",
   "execution_count": null,
   "id": "785834ff-c1b8-4a8b-a1ab-5ab1caaae064",
   "metadata": {},
   "outputs": [],
   "source": [
    "len(proj)"
   ]
  },
  {
   "cell_type": "code",
   "execution_count": null,
   "id": "f7f3e23e-18a4-4926-b9d3-97f1cedbefe2",
   "metadata": {},
   "outputs": [],
   "source": [
    "proj['Operating Status'].value_counts()"
   ]
  },
  {
   "cell_type": "code",
   "execution_count": null,
   "id": "8e61e153-c971-4697-8519-111774343618",
   "metadata": {},
   "outputs": [],
   "source": [
    "proj.loc[proj['Operating Status'].ne('Operating'),:].count().T"
   ]
  },
  {
   "cell_type": "markdown",
   "id": "ba7ce60a-5785-48bb-8e45-faedcb66ae50",
   "metadata": {},
   "source": [
    "### Consistency - defer\n",
    "Defer until I've cleaned the related datasets\n",
    "### Uniformity\n",
    "Important columns to check consistent representation:\n",
    "* ID fields (check consistent array delimiters)\n",
    "* all the emissions - check metric vs short tons\n",
    "\n",
    "Secondary importance:\n",
    "* modified_on\n",
    "* project cost (supposed to be in millions $)\n",
    "* jobs promised has inconsistent formatting/delimiters"
   ]
  },
  {
   "cell_type": "markdown",
   "id": "81618c73-29a6-4c6e-918e-35e315adc7c6",
   "metadata": {},
   "source": [
    "#### ID Fields\n",
    "Want to check for consistent array delimiters."
   ]
  },
  {
   "cell_type": "code",
   "execution_count": null,
   "id": "4192a0cf-af5e-4ecc-9b99-a02372ac86cf",
   "metadata": {},
   "outputs": [],
   "source": [
    "# exclude ID cols with numeric types (no arrays present)\n",
    "id_cols = [col for col in proj.columns if '(ID)' in col and pd.api.types.is_object_dtype(proj[col])]\n",
    "id_cols"
   ]
  },
  {
   "cell_type": "code",
   "execution_count": null,
   "id": "61e14d01-63c2-48fb-bc94-24681e31aa8b",
   "metadata": {},
   "outputs": [],
   "source": [
    "# mandatory opening pattern, optional delimiter, optional repeating pattern, optional closing pattern, mandatory end of line\n",
    "array_pattern = r'(?:\\d{3,5})(?:, ?)?(?:\\d{3,5}, ?)*(?:\\d{3,5})?$'"
   ]
  },
  {
   "cell_type": "code",
   "execution_count": null,
   "id": "4581b919-0f49-4e2d-bb26-7ef34de04e0c",
   "metadata": {},
   "outputs": [],
   "source": [
    "test_case = pd.Series([\n",
    "    '1234',\n",
    "    '1234,567',\n",
    "    '1234, 567',\n",
    "    '12345, 678, 9012',\n",
    "    '1234\\t5678', # tab is bad, no comma\n",
    "    '12, 3456', # too short\n",
    "    '1234    5678', # too many spaces, no comma\n",
    "])\n",
    "pd.concat([test_case, test_case.str.match(array_pattern)], axis=1)"
   ]
  },
  {
   "cell_type": "code",
   "execution_count": null,
   "id": "3557314c-34c4-4597-b390-5bd98b55c8f7",
   "metadata": {},
   "outputs": [],
   "source": [
    "# all pass the formatting test\n",
    "for col in id_cols:\n",
    "    assert proj[col].str.match(array_pattern).all()"
   ]
  },
  {
   "cell_type": "markdown",
   "id": "cae041f2-b63c-4835-8838-7fdb09fbffb5",
   "metadata": {},
   "source": [
    "#### Emissions\n",
    "Check metric vs short tons\n",
    "\n",
    "Edit: difference is only a factor of 0.907 so I won't be able to tell the difference. Within the noise."
   ]
  },
  {
   "cell_type": "code",
   "execution_count": null,
   "id": "752b2a02-a259-4ff6-a44d-c6804ef56dbc",
   "metadata": {},
   "outputs": [],
   "source": [
    "proj['Greenhouse Gases (CO2e)'].replace(0, np.nan).transform(np.log10).plot.hist(bins=50)"
   ]
  },
  {
   "cell_type": "markdown",
   "id": "bf55c928-4a98-4d3c-8589-326fa56dfcd0",
   "metadata": {},
   "source": [
    "#### Date Modified"
   ]
  },
  {
   "cell_type": "code",
   "execution_count": null,
   "id": "b15fc622-b691-4362-a0b0-0425c66e73c7",
   "metadata": {},
   "outputs": [],
   "source": [
    "# to_datetime works on all values present\n",
    "timestamps = pd.to_datetime(proj['modified_on'])\n",
    "timestamps.dtypes, timestamps.isna().sum()"
   ]
  },
  {
   "cell_type": "markdown",
   "id": "e33decd4-0019-42ec-9321-a8060eba17db",
   "metadata": {},
   "source": [
    "#### Jobs\n",
    "Check array delimiter, naming, and order.\n",
    "\n",
    "* Array delimiter: can be `,` or `;` or none\n",
    "* naming: `temporary`, `permanent`, `full-time`, `construction`, `operating` and none given\n",
    "* order: not consistent. Needs a parser."
   ]
  },
  {
   "cell_type": "code",
   "execution_count": null,
   "id": "25bd6a88-5e48-4a9d-b8a5-acaff71427b5",
   "metadata": {
    "tags": []
   },
   "outputs": [],
   "source": [
    "# only 74/672 (11%) have jobs numbers\n",
    "proj['Number of Jobs Promised'].dropna().shape"
   ]
  },
  {
   "cell_type": "code",
   "execution_count": null,
   "id": "7051792e-204a-4d86-83bd-11156dab9a64",
   "metadata": {},
   "outputs": [],
   "source": [
    "jobs = proj['Number of Jobs Promised'].dropna()"
   ]
  },
  {
   "cell_type": "markdown",
   "id": "aedf9e21-4c48-4d75-bc6f-3c869a4f9b69",
   "metadata": {},
   "source": [
    "**What special characters are present?**"
   ]
  },
  {
   "cell_type": "code",
   "execution_count": null,
   "id": "b2e2ee44-96a2-4c85-a61e-ffb43ffe08db",
   "metadata": {},
   "outputs": [],
   "source": [
    "from functools import reduce\n",
    "reduce(set.union, [set(item) for item in jobs.str.replace('\\d+|\\w+|\\s+', '', regex=True).to_list()])"
   ]
  },
  {
   "cell_type": "code",
   "execution_count": null,
   "id": "95d6bd4c-8b29-4eb0-9c3c-ec4f8f8d2674",
   "metadata": {},
   "outputs": [],
   "source": [
    "# not a delimiter\n",
    "jobs[jobs.str.contains('>')]"
   ]
  },
  {
   "cell_type": "code",
   "execution_count": null,
   "id": "1c03d403-10a2-4662-b169-a7c3f439042d",
   "metadata": {},
   "outputs": [],
   "source": [
    "# not an array delimiter. It is a range delimiter\n",
    "jobs[jobs.str.contains('-')]"
   ]
  },
  {
   "cell_type": "code",
   "execution_count": null,
   "id": "6f5672e7-ff58-41fb-82a0-0e41a8185e93",
   "metadata": {},
   "outputs": [],
   "source": [
    "# not a delimiter\n",
    "jobs[jobs.str.contains('\\(|\\)')]"
   ]
  },
  {
   "cell_type": "markdown",
   "id": "76e05564-9837-464f-b717-53e9a1500624",
   "metadata": {},
   "source": [
    "**What job types are present?**"
   ]
  },
  {
   "cell_type": "code",
   "execution_count": null,
   "id": "4850dc0e-a101-427a-b0ff-3a0de2f482bd",
   "metadata": {},
   "outputs": [],
   "source": [
    "jobs.str.extractall('([a-zA-Z]+)')[0].value_counts()"
   ]
  },
  {
   "cell_type": "code",
   "execution_count": null,
   "id": "4105a122-f326-4156-9902-6fdcee908b3d",
   "metadata": {},
   "outputs": [],
   "source": [
    "# repeat but without that long parenthetical\n",
    "jobs.str.replace('\\(.+\\)', '', regex=True).str.extractall('([a-zA-Z]+)')[0].value_counts()"
   ]
  },
  {
   "cell_type": "markdown",
   "id": "51537995-7a6f-45a8-a4d1-2c30bb2d30f7",
   "metadata": {},
   "source": [
    "I think `permanent`, `full-time` and `operating` are equivalent. And `temporary` == `construction`. And `Unkown` is Null."
   ]
  },
  {
   "cell_type": "markdown",
   "id": "ab2e7376-ddba-425b-be75-12a2ec54d668",
   "metadata": {},
   "source": [
    "### Range Validation\n",
    "Check IDs, Emissions, Cost, Jobs, expected completion year\n",
    "#### Emissions\n",
    "Kind of hard to interpret, but no outrageous smoking guns"
   ]
  },
  {
   "cell_type": "code",
   "execution_count": null,
   "id": "5e8856a3-106f-4754-a359-0ec9672a0e1b",
   "metadata": {},
   "outputs": [],
   "source": [
    "emission_cols = [\n",
    "    'Greenhouse Gases (CO2e)',\n",
    "    'Particulate Matter (PM2.5)',\n",
    "    'Nitrogen Oxides (NOx)',\n",
    "    'Volatile Organic Compounds (VOC)',\n",
    "    'Sulfur Dioxide (SO2)',\n",
    "    'Carbon Monoxide (CO)',\n",
    "    'Hazardous Air Pollutants (HAPs)',\n",
    "]"
   ]
  },
  {
   "cell_type": "code",
   "execution_count": null,
   "id": "63263fa0-72a5-4dff-8261-8dab29360a92",
   "metadata": {
    "tags": []
   },
   "outputs": [],
   "source": [
    "# sulfur is missing due to type error\n",
    "proj[emission_cols].describe()"
   ]
  },
  {
   "cell_type": "code",
   "execution_count": null,
   "id": "a4fa6d16-be68-4069-9c12-46e5b2b057bb",
   "metadata": {},
   "outputs": [],
   "source": [
    "# a single value causes the issue\n",
    "proj.loc[proj['Sulfur Dioxide (SO2)'].str.contains(',').fillna(False), ['id', 'name', 'Sulfur Dioxide (SO2)']]"
   ]
  },
  {
   "cell_type": "code",
   "execution_count": null,
   "id": "1ef69b55-3b54-4d01-aa77-3476b0ffb503",
   "metadata": {},
   "outputs": [],
   "source": [
    "sulfur = pd.to_numeric(proj['Sulfur Dioxide (SO2)'].str.split(',').str[0], errors='raise')"
   ]
  },
  {
   "cell_type": "code",
   "execution_count": null,
   "id": "e4efae5f-457e-4f54-946f-108038b1d278",
   "metadata": {},
   "outputs": [],
   "source": [
    "sulfur.describe()"
   ]
  },
  {
   "cell_type": "code",
   "execution_count": null,
   "id": "c9f83cde-61ce-4db5-87dc-f880e7a413ce",
   "metadata": {},
   "outputs": [],
   "source": [
    "emission_cols.remove('Sulfur Dioxide (SO2)')"
   ]
  },
  {
   "cell_type": "code",
   "execution_count": null,
   "id": "00316e45-177e-4dd4-b7e5-a1a44e7fc745",
   "metadata": {},
   "outputs": [],
   "source": [
    "extremely_large_idx = [proj.loc[:, col].nlargest(5).index for col in emission_cols] + [sulfur.nlargest(5).index]"
   ]
  },
  {
   "cell_type": "code",
   "execution_count": null,
   "id": "7d1eefe8-fe93-45cd-9b18-a632dcf040df",
   "metadata": {},
   "outputs": [],
   "source": [
    "extremely_large = pd.Index([])\n",
    "for index in extremely_large_idx:\n",
    "    extremely_large = extremely_large.union(index)\n",
    "extremely_large"
   ]
  },
  {
   "cell_type": "code",
   "execution_count": null,
   "id": "fb484fc3-8ac9-4f0a-ae04-2aca78a6ac08",
   "metadata": {
    "jupyter": {
     "outputs_hidden": true
    },
    "tags": []
   },
   "outputs": [],
   "source": [
    "proj.loc[extremely_large, ['id', 'name', 'Project Description', 'Sulfur Dioxide (SO2)'] + emission_cols].sort_values('Greenhouse Gases (CO2e)')"
   ]
  },
  {
   "cell_type": "code",
   "execution_count": null,
   "id": "860746d6-57cf-4793-96a3-b3cdcd00c05d",
   "metadata": {},
   "outputs": [],
   "source": [
    "import matplotlib.pyplot as plt"
   ]
  },
  {
   "cell_type": "code",
   "execution_count": null,
   "id": "1d6138dd-d747-4fbc-acd8-33d89c1677c7",
   "metadata": {},
   "outputs": [],
   "source": [
    "# NOTE: this only includes positive values (most but not all of them)\n",
    "n = len(emission_cols)+1\n",
    "fig, axes = plt.subplots(nrows=n, figsize=(5, n*4))\n",
    "for i, col in enumerate(emission_cols):\n",
    "    proj.loc[:, col].replace(0,np.nan).transform(np.log10).hist(bins=40, ax=axes[i])\n",
    "    axes[i].set_title(col)\n",
    "sulfur.replace(0,np.nan).transform(np.log10).hist(bins=40, ax=axes[n-1])"
   ]
  },
  {
   "cell_type": "code",
   "execution_count": null,
   "id": "c6331369-3246-4f40-bc51-ef0869714546",
   "metadata": {},
   "outputs": [],
   "source": [
    "# Negative values only\n",
    "n = len(emission_cols)+1\n",
    "fig, axes = plt.subplots(nrows=n, figsize=(5, n*4))\n",
    "for i, col in enumerate(emission_cols):\n",
    "    proj.loc[:, col].mul(-1).replace(0,np.nan).transform(np.log10).hist(bins=10, ax=axes[i])\n",
    "    axes[i].set_title(col)\n",
    "sulfur.mul(-1).replace(0,np.nan).transform(np.log10).hist(bins=10, ax=axes[n-1])"
   ]
  },
  {
   "cell_type": "markdown",
   "id": "89dc9a3d-8791-4794-8f66-724ea3728d08",
   "metadata": {},
   "source": [
    "#### IDs\n",
    "There are lots of ID columns, but I only care about Facility IDs and Air Construction IDs"
   ]
  },
  {
   "cell_type": "code",
   "execution_count": null,
   "id": "68fc4a1b-4d99-46a8-b3bf-8233af429023",
   "metadata": {},
   "outputs": [],
   "source": [
    "# defined way up near the top\n",
    "id_cols"
   ]
  },
  {
   "cell_type": "code",
   "execution_count": null,
   "id": "f09ee92b-c24d-47bd-80be-b105fefdad96",
   "metadata": {},
   "outputs": [],
   "source": [
    "fac_ids = proj['Facility (ID)'].str.split(',', expand=True)\n",
    "for col in fac_ids.columns:\n",
    "    fac_ids.loc[:, col] = pd.to_numeric(fac_ids.loc[:, col], errors='coerce')\n",
    "\n",
    "fac_ids.head()"
   ]
  },
  {
   "cell_type": "code",
   "execution_count": null,
   "id": "3e7db424-53e9-43c3-aa0a-c6da2fb81023",
   "metadata": {},
   "outputs": [],
   "source": [
    "# they all look in the same range\n",
    "fac_ids.describe()"
   ]
  },
  {
   "cell_type": "code",
   "execution_count": null,
   "id": "398b7d49-c594-46e7-b444-f5e03004ae62",
   "metadata": {},
   "outputs": [],
   "source": [
    "air_const_ids = proj['Air Construction (ID)'].str.split(',', expand=True)\n",
    "for col in air_const_ids.columns:\n",
    "    air_const_ids.loc[:, col] = pd.to_numeric(air_const_ids.loc[:, col], errors='coerce')\n",
    "\n",
    "air_const_ids.head()"
   ]
  },
  {
   "cell_type": "code",
   "execution_count": null,
   "id": "f7b92f4d-2b2c-4d87-ad01-a0f0a8daebed",
   "metadata": {},
   "outputs": [],
   "source": [
    "# they all look in the same range\n",
    "air_const_ids.describe()"
   ]
  },
  {
   "cell_type": "markdown",
   "id": "da317c8f-bb4e-4584-a83b-16a674b396ad",
   "metadata": {},
   "source": [
    "#### Project Cost\n",
    "Check uniformity at the same time: should be in millions of dollars. Check vs thousands or single dollars."
   ]
  },
  {
   "cell_type": "code",
   "execution_count": null,
   "id": "b262c2f1-abeb-4724-96dc-1190750c26cc",
   "metadata": {},
   "outputs": [],
   "source": [
    "# wrong dtype\n",
    "proj['Project Cost (million $)'].hist(bins=30)"
   ]
  },
  {
   "cell_type": "markdown",
   "id": "1928f08b-1781-4384-84c1-904c80ad48b9",
   "metadata": {},
   "source": [
    "By manual inspection (there are not that many values present), I see that there are a handful of values of the form \"XX, XX\". The first number is repeated in an array. So I want to use the same method that fixed the identical issue in the `State` column. But first I need to check that there are no commas present as thousands separators or for other reasons. Check that a split on commas produces two identical values:"
   ]
  },
  {
   "cell_type": "code",
   "execution_count": null,
   "id": "d7997578-40ea-4ad4-bd69-42df9fa08baa",
   "metadata": {},
   "outputs": [],
   "source": [
    "proj['Project Cost (million $)'].str.split(',', expand=True).dropna()"
   ]
  },
  {
   "cell_type": "code",
   "execution_count": null,
   "id": "311b7e88-00ce-4c85-906e-5f6226f4a470",
   "metadata": {},
   "outputs": [],
   "source": [
    "# definitely no single dollar amounts.\n",
    "# As for thousands, check that the 8-14 billion dollar projects are plausible\n",
    "cost = pd.to_numeric(proj['Project Cost (million $)'].str.split(',').str[0], errors='raise')\n",
    "cost.hist(bins=20)"
   ]
  },
  {
   "cell_type": "code",
   "execution_count": null,
   "id": "15cb968e-38e9-44f6-9ebd-35fa5aaf7bc8",
   "metadata": {},
   "outputs": [],
   "source": [
    "# log transform\n",
    "cost.transform(np.log10).hist(bins=20)"
   ]
  },
  {
   "cell_type": "code",
   "execution_count": null,
   "id": "9bef6fcd-271a-40fb-a9a5-6305ebe45a4a",
   "metadata": {},
   "outputs": [],
   "source": [
    "# Yes, costs are in millions. If they were in thousands, it would mean these megafacilities were being built with 6-14.5 million dollars. I'd buy one at that price!\n",
    "pd.set_option('display.max_colwidth', 0)\n",
    "proj.loc[cost.nlargest(8).index, ['name', 'Project Cost (million $)', 'Project Description']]"
   ]
  },
  {
   "cell_type": "markdown",
   "id": "714a46e4-f06e-4da1-be23-eb6739d38645",
   "metadata": {},
   "source": [
    "#### Jobs\n",
    "Skipping for now becuase I need to make a parser first."
   ]
  },
  {
   "cell_type": "markdown",
   "id": "99034a5d-072a-4cc3-a6b2-c93dd979ce41",
   "metadata": {},
   "source": [
    "### Uniqueness Validation\n",
    "Check the `id` field"
   ]
  },
  {
   "cell_type": "code",
   "execution_count": null,
   "id": "164ac0af-1cb1-499d-ac71-55ba4ba8c101",
   "metadata": {},
   "outputs": [],
   "source": [
    "proj['id'].duplicated().sum()"
   ]
  },
  {
   "cell_type": "markdown",
   "id": "155fd657-398b-4e25-bed6-ec5d7108c79a",
   "metadata": {},
   "source": [
    "### Set Membership Validation\n",
    "* classification\n",
    "* industry sector\n",
    "* project type\n",
    "* operating status\n",
    "\n",
    "#### Classification\n",
    "Doesn't look like any erroneous categories to me."
   ]
  },
  {
   "cell_type": "code",
   "execution_count": null,
   "id": "a8c6c7af-8ca3-4e35-937c-e14dbd4a22da",
   "metadata": {},
   "outputs": [],
   "source": [
    "proj['Classification'].value_counts()"
   ]
  },
  {
   "cell_type": "markdown",
   "id": "db9e8f95-0ba4-4573-909b-574e5e84588c",
   "metadata": {},
   "source": [
    "#### Industry Sector\n",
    "A single one:many array value. Simplify by picking one"
   ]
  },
  {
   "cell_type": "code",
   "execution_count": null,
   "id": "8573059c-965d-4c8b-972f-a33e0982a7a7",
   "metadata": {},
   "outputs": [],
   "source": [
    "proj['Industry Sector'].value_counts()"
   ]
  },
  {
   "cell_type": "markdown",
   "id": "257ef1e9-31ea-4e7c-abf2-259cf83b51fc",
   "metadata": {},
   "source": [
    "#### Project Type\n",
    "This column has a fair number of multivalued array entries. But the categories themselves look consistent -- no mis-spellings, etc."
   ]
  },
  {
   "cell_type": "code",
   "execution_count": null,
   "id": "80324b70-286d-48c7-b2f8-979d86d692e5",
   "metadata": {},
   "outputs": [],
   "source": [
    "proj['Project Type'].value_counts()"
   ]
  },
  {
   "cell_type": "code",
   "execution_count": null,
   "id": "434e3032-1708-4c30-986c-7145ab27560e",
   "metadata": {},
   "outputs": [],
   "source": [
    "# split and combine value counts\n",
    "proj['Project Type'].str.split(',', expand=True).stack().str.strip().value_counts()"
   ]
  },
  {
   "cell_type": "markdown",
   "id": "d5bbb4bd-42d3-410a-8591-3d2631e583dc",
   "metadata": {},
   "source": [
    "#### Operating Status\n",
    "Just need to replace \"Unknown\" with Null"
   ]
  },
  {
   "cell_type": "code",
   "execution_count": null,
   "id": "45fb31c0-684c-4574-89fa-7effc3e8e18e",
   "metadata": {},
   "outputs": [],
   "source": [
    "proj['Operating Status'].value_counts()"
   ]
  },
  {
   "cell_type": "markdown",
   "id": "5d8ec8bf-d7e1-4177-bc2d-7545275818f6",
   "metadata": {
    "tags": []
   },
   "source": [
    "### Type Validation\n",
    "Already did this while doing range validation, but `Sulfur Dioxide (SO2)`and `Project Cost` require parsing duplicative csv array values in what should be a numeric column. Also, `Number of Jobs Promised` needs parsing into two columns: permanent and temporary jobs."
   ]
  },
  {
   "cell_type": "markdown",
   "id": "1624b5ad-b9c7-4df4-b8a4-8342928608e6",
   "metadata": {},
   "source": [
    "#### Completion Year\n",
    "I started converting this to numeric, but would have to model multi-valued items. I think the benefit (sorting, quantitative analysis) is small relative to 1) the cost it will take to communicate the modeling and 2) actually doing the modelling. I think we have other fields we would filter on first."
   ]
  },
  {
   "cell_type": "code",
   "execution_count": null,
   "id": "ab166cce-83fa-4c9f-9003-e445c7c62a27",
   "metadata": {},
   "outputs": [],
   "source": [
    "proj['Actual or Expected Completion Year'].str.len().hist(bins=40)"
   ]
  },
  {
   "cell_type": "code",
   "execution_count": null,
   "id": "28e1b210-1aaa-419a-ac4f-5b3b39bb492c",
   "metadata": {},
   "outputs": [],
   "source": [
    "proj['Actual or Expected Completion Year'].str.len().nlargest(8)"
   ]
  },
  {
   "cell_type": "code",
   "execution_count": null,
   "id": "fdfc579c-b3ad-4948-bd80-26b4eccb2900",
   "metadata": {},
   "outputs": [],
   "source": [
    "proj.loc[proj['Actual or Expected Completion Year'].str.len().nlargest(8).index, 'Actual or Expected Completion Year']"
   ]
  },
  {
   "cell_type": "markdown",
   "id": "4c493fbe-f311-44a9-a218-361d4a9dbea8",
   "metadata": {
    "tags": []
   },
   "source": [
    "### Cross-Field Validation\n",
    "None really needed. I could check that the date columns are in a logical order (modified > created, for example) but I'm not planning to really use those columns. So I skipped it."
   ]
  }
 ],
 "metadata": {
  "kernelspec": {
   "display_name": "Python 3 (ipykernel)",
   "language": "python",
   "name": "python3"
  },
  "language_info": {
   "codemirror_mode": {
    "name": "ipython",
    "version": 3
   },
   "file_extension": ".py",
   "mimetype": "text/x-python",
   "name": "python",
   "nbconvert_exporter": "python",
   "pygments_lexer": "ipython3",
   "version": "3.9.10"
  }
 },
 "nbformat": 4,
 "nbformat_minor": 5
}
