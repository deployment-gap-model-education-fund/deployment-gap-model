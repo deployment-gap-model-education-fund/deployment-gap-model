{
 "cells": [
  {
   "cell_type": "code",
   "execution_count": 1,
   "id": "e2c4ba01-efa8-41f4-93ab-85d9452d6fe2",
   "metadata": {},
   "outputs": [],
   "source": [
    "%load_ext autoreload"
   ]
  },
  {
   "cell_type": "code",
   "execution_count": 2,
   "id": "c5fc3217-d4ed-4e3e-8a98-6fdc06769175",
   "metadata": {},
   "outputs": [],
   "source": [
    "%autoreload 2"
   ]
  },
  {
   "cell_type": "code",
   "execution_count": 3,
   "id": "baeedb9e-01aa-4702-9a82-174d677751b9",
   "metadata": {},
   "outputs": [],
   "source": [
    "import pandas as pd\n",
    "import numpy as np\n",
    "from pathlib import Path"
   ]
  },
  {
   "cell_type": "code",
   "execution_count": 4,
   "id": "c6d862f9-e588-451c-a679-1176589b0705",
   "metadata": {},
   "outputs": [],
   "source": [
    "path = Path('/app/data/raw/2023.05.24 OGW database.xlsx')\n",
    "assert path.exists()"
   ]
  },
  {
   "cell_type": "code",
   "execution_count": 5,
   "id": "89f17641-8b0d-45dd-970c-a3faa79e17b0",
   "metadata": {},
   "outputs": [],
   "source": [
    "# dbcp.extract.eip_infrastructure.extract(path)\n",
    "# vendor the extract function so this notebook can be easily rerun in the future without maintenance\n",
    "def _convert_object_to_string_dtypes(df: pd.DataFrame) -> None:\n",
    "    strings = df.select_dtypes(\"object\")\n",
    "    df.loc[:, list(strings.columns)] = strings.astype(pd.StringDtype())\n",
    "\n",
    "\n",
    "def _downcast_ints(df: pd.DataFrame) -> None:\n",
    "    ints = df.select_dtypes(np.int64)\n",
    "    for col in ints.columns:\n",
    "        ser = df.loc[:, col]\n",
    "        assert (\n",
    "            ser.ge(0).fillna(True).all()\n",
    "        )  # didn't implement this for negative numbers\n",
    "        assert np.all((ser.values >> 32) == 0)  # check for high bits\n",
    "        df.loc[:, col] = ser.astype(pd.Int32Dtype())\n",
    "\n",
    "\n",
    "def extract(path: Path) -> dict[str, pd.DataFrame]:\n",
    "    \"\"\"Read EIP excel database.\n",
    "\n",
    "    Args:\n",
    "        path (Path): filepath\n",
    "\n",
    "    Returns:\n",
    "        Dict[str, pd.DataFrame]: output dictionary of dataframes\n",
    "    \"\"\"\n",
    "    sheets_to_read = [\n",
    "        \"Facility\",\n",
    "        # 'Company',\n",
    "        \"Project\",\n",
    "        \"Air Construction\",  # permit status is key to identifying actionable projects\n",
    "        # 'Pipelines',\n",
    "        # 'NGA',\n",
    "        # 'NAICS',\n",
    "        # 'CWA-NPDES',\n",
    "        # 'CWA Wetland',\n",
    "        # 'Air Operating',\n",
    "        # 'Glossary',  # useful for data dictionary\n",
    "        # 'Data Sources',\n",
    "        # 'Map Layers',\n",
    "        # 'Other Permits',\n",
    "        # 'Test Collection',\n",
    "        # 'Featured Facility Descriptors',\n",
    "        # 'MARAD',\n",
    "        # 'TEST',\n",
    "        # 'Pipeline Digitization',\n",
    "    ]\n",
    "    raw_dfs = pd.read_excel(path, sheet_name=sheets_to_read)\n",
    "    rename_dict = {\n",
    "        \"Facility\": \"eip_facilities\",\n",
    "        \"Project\": \"eip_projects\",\n",
    "        \"Air Construction\": \"eip_air_constr_permits\",\n",
    "    }\n",
    "    raw_dfs = {rename_dict[key]: df for key, df in raw_dfs.items()}\n",
    "    for df in raw_dfs.values():\n",
    "        _convert_object_to_string_dtypes(df)\n",
    "        _downcast_ints(df)\n",
    "\n",
    "    return raw_dfs\n",
    "\n",
    "proj = extract(path)['eip_projects']"
   ]
  },
  {
   "cell_type": "code",
   "execution_count": 6,
   "id": "956821db-2798-467e-ba75-78534afcd85a",
   "metadata": {},
   "outputs": [],
   "source": [
    "pd.options.display.max_columns = 100\n",
    "pd.options.display.max_rows = 100"
   ]
  },
  {
   "cell_type": "code",
   "execution_count": 7,
   "id": "f20883b9-8047-4f50-935b-14afb51d6bc3",
   "metadata": {},
   "outputs": [
    {
     "data": {
      "text/plain": [
       "(938, 40)"
      ]
     },
     "execution_count": 7,
     "metadata": {},
     "output_type": "execute_result"
    }
   ],
   "source": [
    "proj.shape"
   ]
  },
  {
   "cell_type": "markdown",
   "id": "ca8a087d-f556-4cb2-b9a7-540ab84a27a6",
   "metadata": {},
   "source": [
    "# Cleaning\n",
    "## Projects Cleaning\n",
    "- [x] Accuracy\n",
    "- [x] Atomicity\n",
    "- [ ] Consistency\n",
    "- [x] Completeness\n",
    "- [x] Uniformity\n",
    "- [x] Validity\n",
    "    - [x] Range Validation\n",
    "    - [x] Uniqueness Validation\n",
    "    - [x] Set Membership Validation\n",
    "    - [x] Type Validation\n",
    "    - [x] Cross-Field Validation"
   ]
  },
  {
   "cell_type": "markdown",
   "id": "ff749ff2-dea9-4d5b-ac51-950666adc19a",
   "metadata": {},
   "source": [
    "### Accuracy\n",
    "The biggest accuracy risks for this dataset are probably 1) bad reporting to the EPA (would take a huge research effort to double check that) and 2) transcription errors by EIP between the PDFs and the database. I'll do a little spot check to guard againt the second.\n",
    "\n",
    "Results: I only checked 3 facilities but still managed to find conflicting information about CO2e numbers 😕"
   ]
  },
  {
   "cell_type": "code",
   "execution_count": 8,
   "id": "90eeaf6e-e70e-4b7f-bbc3-7f9913d28884",
   "metadata": {},
   "outputs": [
    {
     "data": {
      "text/html": [
       "<div>\n",
       "<style scoped>\n",
       "    .dataframe tbody tr th:only-of-type {\n",
       "        vertical-align: middle;\n",
       "    }\n",
       "\n",
       "    .dataframe tbody tr th {\n",
       "        vertical-align: top;\n",
       "    }\n",
       "\n",
       "    .dataframe thead th {\n",
       "        text-align: right;\n",
       "    }\n",
       "</style>\n",
       "<table border=\"1\" class=\"dataframe\">\n",
       "  <thead>\n",
       "    <tr style=\"text-align: right;\">\n",
       "      <th></th>\n",
       "      <th>id</th>\n",
       "      <th>name</th>\n",
       "      <th>created_on</th>\n",
       "      <th>modified_on</th>\n",
       "      <th>Facility (ID)</th>\n",
       "      <th>Facility</th>\n",
       "      <th>CCS (ID)</th>\n",
       "      <th>CCS</th>\n",
       "      <th>Project Description</th>\n",
       "      <th>Classification</th>\n",
       "      <th>Industry Sector</th>\n",
       "      <th>Project Type</th>\n",
       "      <th>Product Type</th>\n",
       "      <th>Air Construction (ID)</th>\n",
       "      <th>Air Construction</th>\n",
       "      <th>Air Operating (ID)</th>\n",
       "      <th>Air Operating</th>\n",
       "      <th>NGA (ID)</th>\n",
       "      <th>NGA</th>\n",
       "      <th>MARAD (ID)</th>\n",
       "      <th>MARAD</th>\n",
       "      <th>Other Permits (ID)</th>\n",
       "      <th>Other Permits</th>\n",
       "      <th>Greenhouse Gases (CO2e)</th>\n",
       "      <th>Particulate Matter (PM2.5)</th>\n",
       "      <th>Nitrogen Oxides (NOx)</th>\n",
       "      <th>Volatile Organic Compounds (VOC)</th>\n",
       "      <th>Sulfur Dioxide (SO2)</th>\n",
       "      <th>Carbon Monoxide (CO)</th>\n",
       "      <th>Hazardous Air Pollutants (HAPs)</th>\n",
       "      <th>Total Wetlands Affected Temporarily (acres)</th>\n",
       "      <th>Total Wetlands Affected Permanently (acres)</th>\n",
       "      <th>Detailed Permitting History</th>\n",
       "      <th>Emission Accounting Notes</th>\n",
       "      <th>Construction Status Last Updated</th>\n",
       "      <th>Operating Status</th>\n",
       "      <th>Actual or Expected Completion Year</th>\n",
       "      <th>Project Cost (million $)</th>\n",
       "      <th>Number of Jobs Promised</th>\n",
       "      <th>Target List</th>\n",
       "    </tr>\n",
       "  </thead>\n",
       "  <tbody>\n",
       "    <tr>\n",
       "      <th>70</th>\n",
       "      <td>2794</td>\n",
       "      <td>Clear Lake Methanol Plant - New Methanol Unit</td>\n",
       "      <td>2021-05-24T22:56:59.087382</td>\n",
       "      <td>2021-11-05T14:51:46.233965</td>\n",
       "      <td>806.0</td>\n",
       "      <td>Celanese Clear Lake Plant[806]</td>\n",
       "      <td>NaN</td>\n",
       "      <td>&lt;NA&gt;</td>\n",
       "      <td>Construction of a new methanol unit at an exis...</td>\n",
       "      <td>Expansion</td>\n",
       "      <td>Petrochemicals and Plastics</td>\n",
       "      <td>Methanol Plant</td>\n",
       "      <td>&lt;NA&gt;</td>\n",
       "      <td>1926, 1948</td>\n",
       "      <td>103626 and PSDTX1296[1926], GHGPSDTX25 (PSD-TX...</td>\n",
       "      <td>&lt;NA&gt;</td>\n",
       "      <td>&lt;NA&gt;</td>\n",
       "      <td>&lt;NA&gt;</td>\n",
       "      <td>&lt;NA&gt;</td>\n",
       "      <td>NaN</td>\n",
       "      <td>&lt;NA&gt;</td>\n",
       "      <td>&lt;NA&gt;</td>\n",
       "      <td>&lt;NA&gt;</td>\n",
       "      <td>535218.0</td>\n",
       "      <td>40.39</td>\n",
       "      <td>59.50</td>\n",
       "      <td>83.62</td>\n",
       "      <td>8.34</td>\n",
       "      <td>612.50</td>\n",
       "      <td>&lt;NA&gt;</td>\n",
       "      <td>&lt;NA&gt;</td>\n",
       "      <td>NaN</td>\n",
       "      <td>&lt;NA&gt;</td>\n",
       "      <td>PSD-TX-1296-GHG (issued 12/12/2013), PSDTX1296...</td>\n",
       "      <td>&lt;NA&gt;</td>\n",
       "      <td>Operating</td>\n",
       "      <td>2015</td>\n",
       "      <td>NaN</td>\n",
       "      <td>&lt;NA&gt;</td>\n",
       "      <td>&lt;NA&gt;</td>\n",
       "    </tr>\n",
       "    <tr>\n",
       "      <th>331</th>\n",
       "      <td>3065</td>\n",
       "      <td>Sanderson Gas Plant - Initial Construction</td>\n",
       "      <td>2021-05-24T22:56:59.087382</td>\n",
       "      <td>2022-05-02T17:20:11.050561</td>\n",
       "      <td>1050.0</td>\n",
       "      <td>Sanderson Gas Plant[1050]</td>\n",
       "      <td>NaN</td>\n",
       "      <td>&lt;NA&gt;</td>\n",
       "      <td>Construction of a new 250 million cubic feet p...</td>\n",
       "      <td>New</td>\n",
       "      <td>Natural Gas</td>\n",
       "      <td>Gas Processing Plant</td>\n",
       "      <td>&lt;NA&gt;</td>\n",
       "      <td>2202</td>\n",
       "      <td>PTC20021[2202]</td>\n",
       "      <td>&lt;NA&gt;</td>\n",
       "      <td>&lt;NA&gt;</td>\n",
       "      <td>&lt;NA&gt;</td>\n",
       "      <td>&lt;NA&gt;</td>\n",
       "      <td>NaN</td>\n",
       "      <td>&lt;NA&gt;</td>\n",
       "      <td>&lt;NA&gt;</td>\n",
       "      <td>&lt;NA&gt;</td>\n",
       "      <td>137328.0</td>\n",
       "      <td>0.69</td>\n",
       "      <td>91.71</td>\n",
       "      <td>41.30</td>\n",
       "      <td>0.52</td>\n",
       "      <td>90.46</td>\n",
       "      <td>9.48</td>\n",
       "      <td>&lt;NA&gt;</td>\n",
       "      <td>NaN</td>\n",
       "      <td>&lt;NA&gt;</td>\n",
       "      <td>Construction began in May 2020 and took 8 mont...</td>\n",
       "      <td>&lt;NA&gt;</td>\n",
       "      <td>Operating</td>\n",
       "      <td>2021</td>\n",
       "      <td>NaN</td>\n",
       "      <td>&lt;NA&gt;</td>\n",
       "      <td>&lt;NA&gt;</td>\n",
       "    </tr>\n",
       "    <tr>\n",
       "      <th>858</th>\n",
       "      <td>6006</td>\n",
       "      <td>Dyno Nobel - New Cogeneration Boiler</td>\n",
       "      <td>2023-01-17T16:09:55.502604</td>\n",
       "      <td>2023-02-13T19:24:12.307004</td>\n",
       "      <td>746.0</td>\n",
       "      <td>Dyno Nobel Ammonia Production Facility[746]</td>\n",
       "      <td>NaN</td>\n",
       "      <td>&lt;NA&gt;</td>\n",
       "      <td>Dyno Nobel proposes to install and operate a n...</td>\n",
       "      <td>Expansion</td>\n",
       "      <td>Synthetic Fertilizers</td>\n",
       "      <td>Associated Electricity Generation</td>\n",
       "      <td>&lt;NA&gt;</td>\n",
       "      <td>6007, 5292</td>\n",
       "      <td>1340-00352-V9[6007], PSD-LA-768 (M7) and 1340-...</td>\n",
       "      <td>&lt;NA&gt;</td>\n",
       "      <td>&lt;NA&gt;</td>\n",
       "      <td>&lt;NA&gt;</td>\n",
       "      <td>&lt;NA&gt;</td>\n",
       "      <td>NaN</td>\n",
       "      <td>&lt;NA&gt;</td>\n",
       "      <td>&lt;NA&gt;</td>\n",
       "      <td>&lt;NA&gt;</td>\n",
       "      <td>NaN</td>\n",
       "      <td>7.30</td>\n",
       "      <td>36.38</td>\n",
       "      <td>8.23</td>\n",
       "      <td>1.09</td>\n",
       "      <td>72.77</td>\n",
       "      <td>&lt;NA&gt;</td>\n",
       "      <td>&lt;NA&gt;</td>\n",
       "      <td>NaN</td>\n",
       "      <td>&lt;NA&gt;</td>\n",
       "      <td>CM 1/17/23: emissions from 1/10 public notice</td>\n",
       "      <td>2023-01-17</td>\n",
       "      <td>Pre-construction</td>\n",
       "      <td>Unknown</td>\n",
       "      <td>NaN</td>\n",
       "      <td>&lt;NA&gt;</td>\n",
       "      <td>&lt;NA&gt;</td>\n",
       "    </tr>\n",
       "  </tbody>\n",
       "</table>\n",
       "</div>"
      ],
      "text/plain": [
       "       id                                           name  \\\n",
       "70   2794  Clear Lake Methanol Plant - New Methanol Unit   \n",
       "331  3065     Sanderson Gas Plant - Initial Construction   \n",
       "858  6006           Dyno Nobel - New Cogeneration Boiler   \n",
       "\n",
       "                     created_on                 modified_on  Facility (ID)  \\\n",
       "70   2021-05-24T22:56:59.087382  2021-11-05T14:51:46.233965          806.0   \n",
       "331  2021-05-24T22:56:59.087382  2022-05-02T17:20:11.050561         1050.0   \n",
       "858  2023-01-17T16:09:55.502604  2023-02-13T19:24:12.307004          746.0   \n",
       "\n",
       "                                        Facility  CCS (ID)   CCS  \\\n",
       "70                Celanese Clear Lake Plant[806]       NaN  <NA>   \n",
       "331                    Sanderson Gas Plant[1050]       NaN  <NA>   \n",
       "858  Dyno Nobel Ammonia Production Facility[746]       NaN  <NA>   \n",
       "\n",
       "                                   Project Description Classification  \\\n",
       "70   Construction of a new methanol unit at an exis...      Expansion   \n",
       "331  Construction of a new 250 million cubic feet p...            New   \n",
       "858  Dyno Nobel proposes to install and operate a n...      Expansion   \n",
       "\n",
       "                 Industry Sector                       Project Type  \\\n",
       "70   Petrochemicals and Plastics                     Methanol Plant   \n",
       "331                  Natural Gas               Gas Processing Plant   \n",
       "858        Synthetic Fertilizers  Associated Electricity Generation   \n",
       "\n",
       "    Product Type Air Construction (ID)  \\\n",
       "70          <NA>            1926, 1948   \n",
       "331         <NA>                  2202   \n",
       "858         <NA>            6007, 5292   \n",
       "\n",
       "                                      Air Construction Air Operating (ID)  \\\n",
       "70   103626 and PSDTX1296[1926], GHGPSDTX25 (PSD-TX...               <NA>   \n",
       "331                                     PTC20021[2202]               <NA>   \n",
       "858  1340-00352-V9[6007], PSD-LA-768 (M7) and 1340-...               <NA>   \n",
       "\n",
       "    Air Operating NGA (ID)   NGA  MARAD (ID) MARAD Other Permits (ID)  \\\n",
       "70           <NA>     <NA>  <NA>         NaN  <NA>               <NA>   \n",
       "331          <NA>     <NA>  <NA>         NaN  <NA>               <NA>   \n",
       "858          <NA>     <NA>  <NA>         NaN  <NA>               <NA>   \n",
       "\n",
       "    Other Permits  Greenhouse Gases (CO2e)  Particulate Matter (PM2.5)  \\\n",
       "70           <NA>                 535218.0                       40.39   \n",
       "331          <NA>                 137328.0                        0.69   \n",
       "858          <NA>                      NaN                        7.30   \n",
       "\n",
       "     Nitrogen Oxides (NOx)  Volatile Organic Compounds (VOC)  \\\n",
       "70                   59.50                             83.62   \n",
       "331                  91.71                             41.30   \n",
       "858                  36.38                              8.23   \n",
       "\n",
       "     Sulfur Dioxide (SO2)  Carbon Monoxide (CO)  \\\n",
       "70                   8.34                612.50   \n",
       "331                  0.52                 90.46   \n",
       "858                  1.09                 72.77   \n",
       "\n",
       "    Hazardous Air Pollutants (HAPs)  \\\n",
       "70                             <NA>   \n",
       "331                            9.48   \n",
       "858                            <NA>   \n",
       "\n",
       "    Total Wetlands Affected Temporarily (acres)  \\\n",
       "70                                         <NA>   \n",
       "331                                        <NA>   \n",
       "858                                        <NA>   \n",
       "\n",
       "     Total Wetlands Affected Permanently (acres) Detailed Permitting History  \\\n",
       "70                                           NaN                        <NA>   \n",
       "331                                          NaN                        <NA>   \n",
       "858                                          NaN                        <NA>   \n",
       "\n",
       "                             Emission Accounting Notes  \\\n",
       "70   PSD-TX-1296-GHG (issued 12/12/2013), PSDTX1296...   \n",
       "331  Construction began in May 2020 and took 8 mont...   \n",
       "858      CM 1/17/23: emissions from 1/10 public notice   \n",
       "\n",
       "    Construction Status Last Updated  Operating Status  \\\n",
       "70                              <NA>         Operating   \n",
       "331                             <NA>         Operating   \n",
       "858                       2023-01-17  Pre-construction   \n",
       "\n",
       "    Actual or Expected Completion Year  Project Cost (million $)  \\\n",
       "70                                2015                       NaN   \n",
       "331                               2021                       NaN   \n",
       "858                            Unknown                       NaN   \n",
       "\n",
       "    Number of Jobs Promised Target List  \n",
       "70                     <NA>        <NA>  \n",
       "331                    <NA>        <NA>  \n",
       "858                    <NA>        <NA>  "
      ]
     },
     "execution_count": 8,
     "metadata": {},
     "output_type": "execute_result"
    }
   ],
   "source": [
    "proj.sample(3, random_state=42)"
   ]
  },
  {
   "cell_type": "markdown",
   "id": "41e44fd6-625b-4f2f-b565-7146d2d697cf",
   "metadata": {},
   "source": [
    "Clear Lake Methanol Plant - New Methanol Unit: [permit](https://api.oilandgaswatch.org/d/85/58/8558190dca204073ab0cc0a19225af76.1636124503.pdf) confirmed GHG figure in most recent permit and others in a [previous draft document](https://api.oilandgaswatch.org/d/6c/66/6c66b7c16c28463aa88ddc759ae2d7dc.1660831676.pdf).\n",
    "\n",
    "Skipped Sanderson b/c already operating\n",
    "\n",
    "Dyno Nobel - New Cogeneration Boiler: confirmed via [permit](https://api.oilandgaswatch.org/d/04/9c/049c34df7f954514a1a605e956a94fb0.1673972782.pdf)"
   ]
  },
  {
   "cell_type": "markdown",
   "id": "c26eb9fa-d49d-45d1-8bd0-55cfdd2bf79f",
   "metadata": {},
   "source": [
    "### Atomicity\n",
    "By inspection I see that all the ID and associated name fields can contain multiple values. I'll only worry about Facility IDs and Air Construction Permit IDs.\n",
    "\n",
    "On a related note, both the facilities table and the project table have a column linking the two. I'll have to combine them to get a complete association entity table."
   ]
  },
  {
   "cell_type": "markdown",
   "id": "d2cad23f-ae34-4def-8d92-f0170795324a",
   "metadata": {},
   "source": [
    "### Completeness\n",
    "For this purpose, I'll limit the scope of 'completeness' to only look at missing values within the data. Ensuring projects are in the dataset at all is, unfortunately, beyond the scope of this project.\n",
    "\n",
    "We are not interested in already-operating projects, so I'll remove those and assess completeness based on the remaining subset.\n",
    "\n",
    "Notable missing values and lack of missing values:\n",
    "* all projects are linked to a facility ID!\n",
    "* all projects have an operating status\n",
    "* 235 (45%) are missing Air Construction Permit IDs. Likely because many of these projects are too new to have gone through the permitting process.\n",
    "* 260 (50%) are missing CO2e estimates. Same newness reason.\n",
    "\n",
    "For evidence of the \"too new to have a permit\" hypothesis, see that the criteria pollutants with \"Announced\" status are almost completely null."
   ]
  },
  {
   "cell_type": "code",
   "execution_count": 9,
   "id": "785834ff-c1b8-4a8b-a1ab-5ab1caaae064",
   "metadata": {},
   "outputs": [
    {
     "data": {
      "text/plain": [
       "938"
      ]
     },
     "execution_count": 9,
     "metadata": {},
     "output_type": "execute_result"
    }
   ],
   "source": [
    "len(proj)"
   ]
  },
  {
   "cell_type": "code",
   "execution_count": 10,
   "id": "f7f3e23e-18a4-4926-b9d3-97f1cedbefe2",
   "metadata": {},
   "outputs": [
    {
     "data": {
      "text/plain": [
       "Operating              422\n",
       "Pre-construction       209\n",
       "Announced              162\n",
       "Under construction      54\n",
       "Canceled                39\n",
       "Partially operating     27\n",
       "On hold                 21\n",
       "Commissioning            2\n",
       "Unknown                  1\n",
       "Name: Operating Status, dtype: Int64"
      ]
     },
     "execution_count": 10,
     "metadata": {},
     "output_type": "execute_result"
    }
   ],
   "source": [
    "proj['Operating Status'].value_counts()"
   ]
  },
  {
   "cell_type": "code",
   "execution_count": 12,
   "id": "8e61e153-c971-4697-8519-111774343618",
   "metadata": {},
   "outputs": [
    {
     "data": {
      "text/html": [
       "<div>\n",
       "<style scoped>\n",
       "    .dataframe tbody tr th:only-of-type {\n",
       "        vertical-align: middle;\n",
       "    }\n",
       "\n",
       "    .dataframe tbody tr th {\n",
       "        vertical-align: top;\n",
       "    }\n",
       "\n",
       "    .dataframe thead th {\n",
       "        text-align: right;\n",
       "    }\n",
       "</style>\n",
       "<table border=\"1\" class=\"dataframe\">\n",
       "  <thead>\n",
       "    <tr style=\"text-align: right;\">\n",
       "      <th></th>\n",
       "      <th>mean</th>\n",
       "      <th>sum</th>\n",
       "    </tr>\n",
       "  </thead>\n",
       "  <tbody>\n",
       "    <tr>\n",
       "      <th>id</th>\n",
       "      <td>0.000000</td>\n",
       "      <td>0.0</td>\n",
       "    </tr>\n",
       "    <tr>\n",
       "      <th>name</th>\n",
       "      <td>0.000000</td>\n",
       "      <td>0.0</td>\n",
       "    </tr>\n",
       "    <tr>\n",
       "      <th>created_on</th>\n",
       "      <td>0.000000</td>\n",
       "      <td>0.0</td>\n",
       "    </tr>\n",
       "    <tr>\n",
       "      <th>modified_on</th>\n",
       "      <td>0.000000</td>\n",
       "      <td>0.0</td>\n",
       "    </tr>\n",
       "    <tr>\n",
       "      <th>Facility (ID)</th>\n",
       "      <td>0.001942</td>\n",
       "      <td>1.0</td>\n",
       "    </tr>\n",
       "    <tr>\n",
       "      <th>Facility</th>\n",
       "      <td>0.001942</td>\n",
       "      <td>1.0</td>\n",
       "    </tr>\n",
       "    <tr>\n",
       "      <th>CCS (ID)</th>\n",
       "      <td>0.965049</td>\n",
       "      <td>497.0</td>\n",
       "    </tr>\n",
       "    <tr>\n",
       "      <th>CCS</th>\n",
       "      <td>0.887379</td>\n",
       "      <td>457.0</td>\n",
       "    </tr>\n",
       "    <tr>\n",
       "      <th>Project Description</th>\n",
       "      <td>0.003883</td>\n",
       "      <td>2.0</td>\n",
       "    </tr>\n",
       "    <tr>\n",
       "      <th>Classification</th>\n",
       "      <td>0.003883</td>\n",
       "      <td>2.0</td>\n",
       "    </tr>\n",
       "    <tr>\n",
       "      <th>Industry Sector</th>\n",
       "      <td>0.001942</td>\n",
       "      <td>1.0</td>\n",
       "    </tr>\n",
       "    <tr>\n",
       "      <th>Project Type</th>\n",
       "      <td>0.003883</td>\n",
       "      <td>2.0</td>\n",
       "    </tr>\n",
       "    <tr>\n",
       "      <th>Product Type</th>\n",
       "      <td>0.815534</td>\n",
       "      <td>420.0</td>\n",
       "    </tr>\n",
       "    <tr>\n",
       "      <th>Air Construction (ID)</th>\n",
       "      <td>0.456311</td>\n",
       "      <td>235.0</td>\n",
       "    </tr>\n",
       "    <tr>\n",
       "      <th>Air Construction</th>\n",
       "      <td>0.456311</td>\n",
       "      <td>235.0</td>\n",
       "    </tr>\n",
       "    <tr>\n",
       "      <th>Air Operating (ID)</th>\n",
       "      <td>0.982524</td>\n",
       "      <td>506.0</td>\n",
       "    </tr>\n",
       "    <tr>\n",
       "      <th>Air Operating</th>\n",
       "      <td>0.982524</td>\n",
       "      <td>506.0</td>\n",
       "    </tr>\n",
       "    <tr>\n",
       "      <th>NGA (ID)</th>\n",
       "      <td>0.743689</td>\n",
       "      <td>383.0</td>\n",
       "    </tr>\n",
       "    <tr>\n",
       "      <th>NGA</th>\n",
       "      <td>0.743689</td>\n",
       "      <td>383.0</td>\n",
       "    </tr>\n",
       "    <tr>\n",
       "      <th>MARAD (ID)</th>\n",
       "      <td>0.974757</td>\n",
       "      <td>502.0</td>\n",
       "    </tr>\n",
       "    <tr>\n",
       "      <th>MARAD</th>\n",
       "      <td>0.974757</td>\n",
       "      <td>502.0</td>\n",
       "    </tr>\n",
       "    <tr>\n",
       "      <th>Other Permits (ID)</th>\n",
       "      <td>0.875728</td>\n",
       "      <td>451.0</td>\n",
       "    </tr>\n",
       "    <tr>\n",
       "      <th>Other Permits</th>\n",
       "      <td>0.875728</td>\n",
       "      <td>451.0</td>\n",
       "    </tr>\n",
       "    <tr>\n",
       "      <th>Greenhouse Gases (CO2e)</th>\n",
       "      <td>0.504854</td>\n",
       "      <td>260.0</td>\n",
       "    </tr>\n",
       "    <tr>\n",
       "      <th>Particulate Matter (PM2.5)</th>\n",
       "      <td>0.382524</td>\n",
       "      <td>197.0</td>\n",
       "    </tr>\n",
       "    <tr>\n",
       "      <th>Nitrogen Oxides (NOx)</th>\n",
       "      <td>0.380583</td>\n",
       "      <td>196.0</td>\n",
       "    </tr>\n",
       "    <tr>\n",
       "      <th>Volatile Organic Compounds (VOC)</th>\n",
       "      <td>0.363107</td>\n",
       "      <td>187.0</td>\n",
       "    </tr>\n",
       "    <tr>\n",
       "      <th>Sulfur Dioxide (SO2)</th>\n",
       "      <td>0.388350</td>\n",
       "      <td>200.0</td>\n",
       "    </tr>\n",
       "    <tr>\n",
       "      <th>Carbon Monoxide (CO)</th>\n",
       "      <td>0.378641</td>\n",
       "      <td>195.0</td>\n",
       "    </tr>\n",
       "    <tr>\n",
       "      <th>Hazardous Air Pollutants (HAPs)</th>\n",
       "      <td>0.634951</td>\n",
       "      <td>327.0</td>\n",
       "    </tr>\n",
       "    <tr>\n",
       "      <th>Total Wetlands Affected Temporarily (acres)</th>\n",
       "      <td>0.908738</td>\n",
       "      <td>468.0</td>\n",
       "    </tr>\n",
       "    <tr>\n",
       "      <th>Total Wetlands Affected Permanently (acres)</th>\n",
       "      <td>0.904854</td>\n",
       "      <td>466.0</td>\n",
       "    </tr>\n",
       "    <tr>\n",
       "      <th>Detailed Permitting History</th>\n",
       "      <td>0.737864</td>\n",
       "      <td>380.0</td>\n",
       "    </tr>\n",
       "    <tr>\n",
       "      <th>Emission Accounting Notes</th>\n",
       "      <td>0.417476</td>\n",
       "      <td>215.0</td>\n",
       "    </tr>\n",
       "    <tr>\n",
       "      <th>Construction Status Last Updated</th>\n",
       "      <td>0.114563</td>\n",
       "      <td>59.0</td>\n",
       "    </tr>\n",
       "    <tr>\n",
       "      <th>Operating Status</th>\n",
       "      <td>0.000000</td>\n",
       "      <td>0.0</td>\n",
       "    </tr>\n",
       "    <tr>\n",
       "      <th>Actual or Expected Completion Year</th>\n",
       "      <td>0.013592</td>\n",
       "      <td>7.0</td>\n",
       "    </tr>\n",
       "    <tr>\n",
       "      <th>Project Cost (million $)</th>\n",
       "      <td>0.724272</td>\n",
       "      <td>373.0</td>\n",
       "    </tr>\n",
       "    <tr>\n",
       "      <th>Number of Jobs Promised</th>\n",
       "      <td>0.728155</td>\n",
       "      <td>375.0</td>\n",
       "    </tr>\n",
       "    <tr>\n",
       "      <th>Target List</th>\n",
       "      <td>0.681553</td>\n",
       "      <td>351.0</td>\n",
       "    </tr>\n",
       "  </tbody>\n",
       "</table>\n",
       "</div>"
      ],
      "text/plain": [
       "                                                 mean    sum\n",
       "id                                           0.000000    0.0\n",
       "name                                         0.000000    0.0\n",
       "created_on                                   0.000000    0.0\n",
       "modified_on                                  0.000000    0.0\n",
       "Facility (ID)                                0.001942    1.0\n",
       "Facility                                     0.001942    1.0\n",
       "CCS (ID)                                     0.965049  497.0\n",
       "CCS                                          0.887379  457.0\n",
       "Project Description                          0.003883    2.0\n",
       "Classification                               0.003883    2.0\n",
       "Industry Sector                              0.001942    1.0\n",
       "Project Type                                 0.003883    2.0\n",
       "Product Type                                 0.815534  420.0\n",
       "Air Construction (ID)                        0.456311  235.0\n",
       "Air Construction                             0.456311  235.0\n",
       "Air Operating (ID)                           0.982524  506.0\n",
       "Air Operating                                0.982524  506.0\n",
       "NGA (ID)                                     0.743689  383.0\n",
       "NGA                                          0.743689  383.0\n",
       "MARAD (ID)                                   0.974757  502.0\n",
       "MARAD                                        0.974757  502.0\n",
       "Other Permits (ID)                           0.875728  451.0\n",
       "Other Permits                                0.875728  451.0\n",
       "Greenhouse Gases (CO2e)                      0.504854  260.0\n",
       "Particulate Matter (PM2.5)                   0.382524  197.0\n",
       "Nitrogen Oxides (NOx)                        0.380583  196.0\n",
       "Volatile Organic Compounds (VOC)             0.363107  187.0\n",
       "Sulfur Dioxide (SO2)                         0.388350  200.0\n",
       "Carbon Monoxide (CO)                         0.378641  195.0\n",
       "Hazardous Air Pollutants (HAPs)              0.634951  327.0\n",
       "Total Wetlands Affected Temporarily (acres)  0.908738  468.0\n",
       "Total Wetlands Affected Permanently (acres)  0.904854  466.0\n",
       "Detailed Permitting History                  0.737864  380.0\n",
       "Emission Accounting Notes                    0.417476  215.0\n",
       "Construction Status Last Updated             0.114563   59.0\n",
       "Operating Status                             0.000000    0.0\n",
       "Actual or Expected Completion Year           0.013592    7.0\n",
       "Project Cost (million $)                     0.724272  373.0\n",
       "Number of Jobs Promised                      0.728155  375.0\n",
       "Target List                                  0.681553  351.0"
      ]
     },
     "execution_count": 12,
     "metadata": {},
     "output_type": "execute_result"
    }
   ],
   "source": [
    "proj.loc[proj['Operating Status'].ne('Operating'),:].isna().agg(['mean', 'sum']).T"
   ]
  },
  {
   "cell_type": "code",
   "execution_count": 13,
   "id": "5e5767b9",
   "metadata": {},
   "outputs": [
    {
     "data": {
      "text/html": [
       "<div>\n",
       "<style scoped>\n",
       "    .dataframe tbody tr th:only-of-type {\n",
       "        vertical-align: middle;\n",
       "    }\n",
       "\n",
       "    .dataframe tbody tr th {\n",
       "        vertical-align: top;\n",
       "    }\n",
       "\n",
       "    .dataframe thead th {\n",
       "        text-align: right;\n",
       "    }\n",
       "</style>\n",
       "<table border=\"1\" class=\"dataframe\">\n",
       "  <thead>\n",
       "    <tr style=\"text-align: right;\">\n",
       "      <th></th>\n",
       "      <th>mean</th>\n",
       "      <th>sum</th>\n",
       "      <th>size</th>\n",
       "    </tr>\n",
       "    <tr>\n",
       "      <th>Operating Status</th>\n",
       "      <th></th>\n",
       "      <th></th>\n",
       "      <th></th>\n",
       "    </tr>\n",
       "  </thead>\n",
       "  <tbody>\n",
       "    <tr>\n",
       "      <th>Announced</th>\n",
       "      <td>0.981481</td>\n",
       "      <td>159</td>\n",
       "      <td>162</td>\n",
       "    </tr>\n",
       "    <tr>\n",
       "      <th>Canceled</th>\n",
       "      <td>0.102564</td>\n",
       "      <td>4</td>\n",
       "      <td>39</td>\n",
       "    </tr>\n",
       "    <tr>\n",
       "      <th>Commissioning</th>\n",
       "      <td>0.500000</td>\n",
       "      <td>1</td>\n",
       "      <td>2</td>\n",
       "    </tr>\n",
       "    <tr>\n",
       "      <th>On hold</th>\n",
       "      <td>0.190476</td>\n",
       "      <td>4</td>\n",
       "      <td>21</td>\n",
       "    </tr>\n",
       "    <tr>\n",
       "      <th>Operating</th>\n",
       "      <td>0.210900</td>\n",
       "      <td>89</td>\n",
       "      <td>422</td>\n",
       "    </tr>\n",
       "    <tr>\n",
       "      <th>Partially operating</th>\n",
       "      <td>0.222222</td>\n",
       "      <td>6</td>\n",
       "      <td>27</td>\n",
       "    </tr>\n",
       "    <tr>\n",
       "      <th>Pre-construction</th>\n",
       "      <td>0.311005</td>\n",
       "      <td>65</td>\n",
       "      <td>209</td>\n",
       "    </tr>\n",
       "    <tr>\n",
       "      <th>Under construction</th>\n",
       "      <td>0.370370</td>\n",
       "      <td>20</td>\n",
       "      <td>54</td>\n",
       "    </tr>\n",
       "    <tr>\n",
       "      <th>Unknown</th>\n",
       "      <td>1.000000</td>\n",
       "      <td>1</td>\n",
       "      <td>1</td>\n",
       "    </tr>\n",
       "  </tbody>\n",
       "</table>\n",
       "</div>"
      ],
      "text/plain": [
       "                         mean  sum  size\n",
       "Operating Status                        \n",
       "Announced            0.981481  159   162\n",
       "Canceled             0.102564    4    39\n",
       "Commissioning        0.500000    1     2\n",
       "On hold              0.190476    4    21\n",
       "Operating            0.210900   89   422\n",
       "Partially operating  0.222222    6    27\n",
       "Pre-construction     0.311005   65   209\n",
       "Under construction   0.370370   20    54\n",
       "Unknown              1.000000    1     1"
      ]
     },
     "execution_count": 13,
     "metadata": {},
     "output_type": "execute_result"
    }
   ],
   "source": [
    "proj['Greenhouse Gases (CO2e)'].isna().groupby(proj['Operating Status']).agg(['mean', 'sum', 'size'])"
   ]
  },
  {
   "cell_type": "markdown",
   "id": "ba7ce60a-5785-48bb-8e45-faedcb66ae50",
   "metadata": {},
   "source": [
    "### Consistency - defer\n",
    "Defer until I've cleaned the related datasets\n",
    "### Uniformity\n",
    "Important columns to check consistent representation:\n",
    "* ID fields (check consistent array delimiters)\n",
    "* all the emissions - check metric vs short tons [update: too similar to differentiate]\n",
    "\n",
    "Secondary importance:\n",
    "* modified_on\n",
    "* project cost (supposed to be in millions $)\n",
    "* jobs promised has inconsistent formatting/delimiters"
   ]
  },
  {
   "cell_type": "markdown",
   "id": "81618c73-29a6-4c6e-918e-35e315adc7c6",
   "metadata": {},
   "source": [
    "#### ID Fields\n",
    "Want to check for consistent array delimiters."
   ]
  },
  {
   "cell_type": "code",
   "execution_count": 15,
   "id": "4192a0cf-af5e-4ecc-9b99-a02372ac86cf",
   "metadata": {},
   "outputs": [
    {
     "data": {
      "text/plain": [
       "['Air Construction (ID)',\n",
       " 'Air Operating (ID)',\n",
       " 'NGA (ID)',\n",
       " 'Other Permits (ID)']"
      ]
     },
     "execution_count": 15,
     "metadata": {},
     "output_type": "execute_result"
    }
   ],
   "source": [
    "# exclude ID cols with numeric types (no arrays present)\n",
    "id_cols = [col for col in proj.columns if '(ID)' in col and pd.api.types.is_string_dtype(proj[col])]\n",
    "id_cols"
   ]
  },
  {
   "cell_type": "code",
   "execution_count": 16,
   "id": "61e14d01-63c2-48fb-bc94-24681e31aa8b",
   "metadata": {},
   "outputs": [],
   "source": [
    "# mandatory opening pattern, optional delimiter, optional repeating pattern, optional closing pattern, mandatory end of line\n",
    "array_pattern = r'(?:\\d{3,5})(?:, ?)?(?:\\d{3,5}, ?)*(?:\\d{3,5})?$'"
   ]
  },
  {
   "cell_type": "code",
   "execution_count": 17,
   "id": "4581b919-0f49-4e2d-bb26-7ef34de04e0c",
   "metadata": {},
   "outputs": [
    {
     "data": {
      "text/html": [
       "<div>\n",
       "<style scoped>\n",
       "    .dataframe tbody tr th:only-of-type {\n",
       "        vertical-align: middle;\n",
       "    }\n",
       "\n",
       "    .dataframe tbody tr th {\n",
       "        vertical-align: top;\n",
       "    }\n",
       "\n",
       "    .dataframe thead th {\n",
       "        text-align: right;\n",
       "    }\n",
       "</style>\n",
       "<table border=\"1\" class=\"dataframe\">\n",
       "  <thead>\n",
       "    <tr style=\"text-align: right;\">\n",
       "      <th></th>\n",
       "      <th>0</th>\n",
       "      <th>1</th>\n",
       "    </tr>\n",
       "  </thead>\n",
       "  <tbody>\n",
       "    <tr>\n",
       "      <th>0</th>\n",
       "      <td>1234</td>\n",
       "      <td>True</td>\n",
       "    </tr>\n",
       "    <tr>\n",
       "      <th>1</th>\n",
       "      <td>1234,567</td>\n",
       "      <td>True</td>\n",
       "    </tr>\n",
       "    <tr>\n",
       "      <th>2</th>\n",
       "      <td>1234, 567</td>\n",
       "      <td>True</td>\n",
       "    </tr>\n",
       "    <tr>\n",
       "      <th>3</th>\n",
       "      <td>12345, 678, 9012</td>\n",
       "      <td>True</td>\n",
       "    </tr>\n",
       "    <tr>\n",
       "      <th>4</th>\n",
       "      <td>1234\\t5678</td>\n",
       "      <td>False</td>\n",
       "    </tr>\n",
       "    <tr>\n",
       "      <th>5</th>\n",
       "      <td>12, 3456</td>\n",
       "      <td>False</td>\n",
       "    </tr>\n",
       "    <tr>\n",
       "      <th>6</th>\n",
       "      <td>1234    5678</td>\n",
       "      <td>False</td>\n",
       "    </tr>\n",
       "  </tbody>\n",
       "</table>\n",
       "</div>"
      ],
      "text/plain": [
       "                  0      1\n",
       "0              1234   True\n",
       "1          1234,567   True\n",
       "2         1234, 567   True\n",
       "3  12345, 678, 9012   True\n",
       "4        1234\\t5678  False\n",
       "5          12, 3456  False\n",
       "6      1234    5678  False"
      ]
     },
     "execution_count": 17,
     "metadata": {},
     "output_type": "execute_result"
    }
   ],
   "source": [
    "test_case = pd.Series([\n",
    "    '1234',\n",
    "    '1234,567',\n",
    "    '1234, 567',\n",
    "    '12345, 678, 9012',\n",
    "    '1234\\t5678', # tab is bad, no comma\n",
    "    '12, 3456', # too short\n",
    "    '1234    5678', # too many spaces, no comma\n",
    "])\n",
    "pd.concat([test_case, test_case.str.match(array_pattern)], axis=1)"
   ]
  },
  {
   "cell_type": "code",
   "execution_count": 18,
   "id": "3557314c-34c4-4597-b390-5bd98b55c8f7",
   "metadata": {},
   "outputs": [],
   "source": [
    "# all pass the formatting test\n",
    "for col in id_cols:\n",
    "    assert proj[col].str.match(array_pattern).all()"
   ]
  },
  {
   "cell_type": "markdown",
   "id": "cae041f2-b63c-4835-8838-7fdb09fbffb5",
   "metadata": {},
   "source": [
    "#### Emissions\n",
    "Check metric vs short tons\n",
    "\n",
    "Edit: difference is only a factor of 0.907 so I won't be able to tell the difference. Within the noise."
   ]
  },
  {
   "cell_type": "code",
   "execution_count": 19,
   "id": "752b2a02-a259-4ff6-a44d-c6804ef56dbc",
   "metadata": {},
   "outputs": [
    {
     "data": {
      "text/plain": [
       "<AxesSubplot: ylabel='Frequency'>"
      ]
     },
     "execution_count": 19,
     "metadata": {},
     "output_type": "execute_result"
    },
    {
     "data": {
      "image/png": "[encoded data removed]",
      "text/plain": [
       "<Figure size 640x480 with 1 Axes>"
      ]
     },
     "metadata": {},
     "output_type": "display_data"
    }
   ],
   "source": [
    "proj['Greenhouse Gases (CO2e)'].replace(0, np.nan).transform(np.log10).plot.hist(bins=50)"
   ]
  },
  {
   "cell_type": "markdown",
   "id": "bf55c928-4a98-4d3c-8589-326fa56dfcd0",
   "metadata": {},
   "source": [
    "#### Date Modified"
   ]
  },
  {
   "cell_type": "code",
   "execution_count": 20,
   "id": "b15fc622-b691-4362-a0b0-0425c66e73c7",
   "metadata": {},
   "outputs": [
    {
     "data": {
      "text/plain": [
       "(dtype('<M8[ns]'), 0)"
      ]
     },
     "execution_count": 20,
     "metadata": {},
     "output_type": "execute_result"
    }
   ],
   "source": [
    "# to_datetime works on all values present\n",
    "timestamps = pd.to_datetime(proj['modified_on'])\n",
    "timestamps.dtypes, timestamps.isna().sum()"
   ]
  },
  {
   "cell_type": "markdown",
   "id": "e33decd4-0019-42ec-9321-a8060eba17db",
   "metadata": {},
   "source": [
    "#### Jobs\n",
    "Check array delimiter, naming, and order.\n",
    "\n",
    "* Array delimiter: can be `,` or `;` or none\n",
    "* naming: `temporary`, `permanent`, `full-time`, `construction`, `operating` and none given\n",
    "* order: not consistent. Needs a parser."
   ]
  },
  {
   "cell_type": "code",
   "execution_count": 22,
   "id": "25bd6a88-5e48-4a9d-b8a5-acaff71427b5",
   "metadata": {
    "tags": []
   },
   "outputs": [
    {
     "data": {
      "text/plain": [
       "mean      0.166311\n",
       "sum     156.000000\n",
       "Name: Number of Jobs Promised, dtype: float64"
      ]
     },
     "execution_count": 22,
     "metadata": {},
     "output_type": "execute_result"
    }
   ],
   "source": [
    "# only 156 (17%) have jobs numbers\n",
    "proj['Number of Jobs Promised'].notna().agg(['mean', 'sum'])"
   ]
  },
  {
   "cell_type": "code",
   "execution_count": 23,
   "id": "7051792e-204a-4d86-83bd-11156dab9a64",
   "metadata": {},
   "outputs": [],
   "source": [
    "jobs = proj['Number of Jobs Promised'].dropna()"
   ]
  },
  {
   "cell_type": "markdown",
   "id": "aedf9e21-4c48-4d75-bc6f-3c869a4f9b69",
   "metadata": {},
   "source": [
    "**What special characters are present?**"
   ]
  },
  {
   "cell_type": "code",
   "execution_count": 24,
   "id": "b2e2ee44-96a2-4c85-a61e-ffb43ffe08db",
   "metadata": {},
   "outputs": [
    {
     "data": {
      "text/plain": [
       "{'(', ')', ',', '-', ';', '>'}"
      ]
     },
     "execution_count": 24,
     "metadata": {},
     "output_type": "execute_result"
    }
   ],
   "source": [
    "from functools import reduce\n",
    "reduce(set.union, [set(item) for item in jobs.str.replace('\\d+|\\w+|\\s+', '', regex=True).to_list()])"
   ]
  },
  {
   "cell_type": "code",
   "execution_count": 25,
   "id": "95d6bd4c-8b29-4eb0-9c3c-ec4f8f8d2674",
   "metadata": {},
   "outputs": [
    {
     "data": {
      "text/plain": [
       "538    1,000-1,500 construction jobs, >100 permanent ...\n",
       "Name: Number of Jobs Promised, dtype: string"
      ]
     },
     "execution_count": 25,
     "metadata": {},
     "output_type": "execute_result"
    }
   ],
   "source": [
    "# not a delimiter\n",
    "jobs[jobs.str.contains('>')]"
   ]
  },
  {
   "cell_type": "code",
   "execution_count": 26,
   "id": "1c03d403-10a2-4662-b169-a7c3f439042d",
   "metadata": {},
   "outputs": [
    {
     "data": {
      "text/plain": [
       "39     200 construction jobs; 40 full-time jobs (for ...\n",
       "73            800-2000 temporary jobs; 65 permanent jobs\n",
       "134                   1500-2000 temporary; 200 full-time\n",
       "247                             1500-2000 temporary jobs\n",
       "260                    3,500 construction; 500 full-time\n",
       "282          400 full-time jobs; 6,000 construction jobs\n",
       "293                   1400-6000 temporary; 250 permanent\n",
       "296                                                35-50\n",
       "337                       40-260 temporary; 28 permanent\n",
       "515                                                10-20\n",
       "528                      350-520 temporary; 12 permanent\n",
       "538    1,000-1,500 construction jobs, >100 permanent ...\n",
       "541                                    150-200 permanent\n",
       "563                        70-110 temporary; 2 permanent\n",
       "628                   200-300 temporary, 10-20 permanent\n",
       "648                                   240 full-time jobs\n",
       "664         500-800 construction jobs; 35 permanent jobs\n",
       "740                                            1500-2100\n",
       "746                           12 full-time, 13 temporary\n",
       "795          1,000 construction jobs; 130 full-time jobs\n",
       "907                      1000 construction, 40 full-time\n",
       "908                     2300 construction, 650 full-time\n",
       "932                                                20-30\n",
       "Name: Number of Jobs Promised, dtype: string"
      ]
     },
     "execution_count": 26,
     "metadata": {},
     "output_type": "execute_result"
    }
   ],
   "source": [
    "# not an array delimiter. It is a range delimiter\n",
    "jobs[jobs.str.contains('-')]"
   ]
  },
  {
   "cell_type": "code",
   "execution_count": 27,
   "id": "6f5672e7-ff58-41fb-82a0-0e41a8185e93",
   "metadata": {},
   "outputs": [
    {
     "data": {
      "text/plain": [
       "39    200 construction jobs; 40 full-time jobs (for ...\n",
       "Name: Number of Jobs Promised, dtype: string"
      ]
     },
     "execution_count": 27,
     "metadata": {},
     "output_type": "execute_result"
    }
   ],
   "source": [
    "# not a delimiter\n",
    "jobs[jobs.str.contains('\\(|\\)')]"
   ]
  },
  {
   "cell_type": "markdown",
   "id": "76e05564-9837-464f-b717-53e9a1500624",
   "metadata": {},
   "source": [
    "**What job types are present?**"
   ]
  },
  {
   "cell_type": "code",
   "execution_count": 28,
   "id": "4850dc0e-a101-427a-b0ff-3a0de2f482bd",
   "metadata": {},
   "outputs": [
    {
     "data": {
      "text/plain": [
       "permanent       50\n",
       "temporary       44\n",
       "jobs            27\n",
       "construction    24\n",
       "full             9\n",
       "time             9\n",
       "if               2\n",
       "operating        2\n",
       "built            2\n",
       "in               2\n",
       "County           2\n",
       "Project          1\n",
       "for              1\n",
       "the              1\n",
       "entire           1\n",
       "BWTX             1\n",
       "SMP              1\n",
       "Calhoun          1\n",
       "pipeline         1\n",
       "during           1\n",
       "including        1\n",
       "Unknown          1\n",
       "job              1\n",
       "peak             1\n",
       "Howard           1\n",
       "Name: 0, dtype: Int64"
      ]
     },
     "execution_count": 28,
     "metadata": {},
     "output_type": "execute_result"
    }
   ],
   "source": [
    "jobs.str.extractall('([a-zA-Z]+)')[0].value_counts()"
   ]
  },
  {
   "cell_type": "code",
   "execution_count": 29,
   "id": "4105a122-f326-4156-9902-6fdcee908b3d",
   "metadata": {},
   "outputs": [
    {
     "data": {
      "text/plain": [
       "permanent       50\n",
       "temporary       44\n",
       "jobs            27\n",
       "construction    23\n",
       "full             9\n",
       "time             9\n",
       "if               2\n",
       "in               2\n",
       "operating        2\n",
       "County           2\n",
       "built            2\n",
       "Calhoun          1\n",
       "Unknown          1\n",
       "job              1\n",
       "peak             1\n",
       "during           1\n",
       "Howard           1\n",
       "Name: 0, dtype: Int64"
      ]
     },
     "execution_count": 29,
     "metadata": {},
     "output_type": "execute_result"
    }
   ],
   "source": [
    "# repeat but without that long parenthetical\n",
    "jobs.str.replace('\\(.+\\)', '', regex=True).str.extractall('([a-zA-Z]+)')[0].value_counts()"
   ]
  },
  {
   "cell_type": "markdown",
   "id": "51537995-7a6f-45a8-a4d1-2c30bb2d30f7",
   "metadata": {},
   "source": [
    "I think `permanent`, `full-time` and `operating` are equivalent. And `temporary` == `construction`. And `Unkown` is Null."
   ]
  },
  {
   "cell_type": "markdown",
   "id": "ab2e7376-ddba-425b-be75-12a2ec54d668",
   "metadata": {},
   "source": [
    "### Range Validation\n",
    "Check IDs, Emissions, Cost, Jobs, expected completion year\n",
    "#### Emissions\n",
    "Kind of hard to interpret, but no outrageous smoking guns"
   ]
  },
  {
   "cell_type": "code",
   "execution_count": 30,
   "id": "5e8856a3-106f-4754-a359-0ec9672a0e1b",
   "metadata": {},
   "outputs": [],
   "source": [
    "emission_cols = [\n",
    "    'Greenhouse Gases (CO2e)',\n",
    "    'Particulate Matter (PM2.5)',\n",
    "    'Nitrogen Oxides (NOx)',\n",
    "    'Volatile Organic Compounds (VOC)',\n",
    "    'Sulfur Dioxide (SO2)',\n",
    "    'Carbon Monoxide (CO)',\n",
    "    'Hazardous Air Pollutants (HAPs)',\n",
    "]"
   ]
  },
  {
   "cell_type": "code",
   "execution_count": 31,
   "id": "63263fa0-72a5-4dff-8261-8dab29360a92",
   "metadata": {
    "tags": []
   },
   "outputs": [
    {
     "data": {
      "text/html": [
       "<div>\n",
       "<style scoped>\n",
       "    .dataframe tbody tr th:only-of-type {\n",
       "        vertical-align: middle;\n",
       "    }\n",
       "\n",
       "    .dataframe tbody tr th {\n",
       "        vertical-align: top;\n",
       "    }\n",
       "\n",
       "    .dataframe thead th {\n",
       "        text-align: right;\n",
       "    }\n",
       "</style>\n",
       "<table border=\"1\" class=\"dataframe\">\n",
       "  <thead>\n",
       "    <tr style=\"text-align: right;\">\n",
       "      <th></th>\n",
       "      <th>Greenhouse Gases (CO2e)</th>\n",
       "      <th>Particulate Matter (PM2.5)</th>\n",
       "      <th>Nitrogen Oxides (NOx)</th>\n",
       "      <th>Volatile Organic Compounds (VOC)</th>\n",
       "      <th>Sulfur Dioxide (SO2)</th>\n",
       "      <th>Carbon Monoxide (CO)</th>\n",
       "    </tr>\n",
       "  </thead>\n",
       "  <tbody>\n",
       "    <tr>\n",
       "      <th>count</th>\n",
       "      <td>5.880000e+02</td>\n",
       "      <td>729.000000</td>\n",
       "      <td>734.000000</td>\n",
       "      <td>745.000000</td>\n",
       "      <td>727.000000</td>\n",
       "      <td>737.000000</td>\n",
       "    </tr>\n",
       "    <tr>\n",
       "      <th>mean</th>\n",
       "      <td>6.303332e+05</td>\n",
       "      <td>30.836985</td>\n",
       "      <td>122.130911</td>\n",
       "      <td>215.449881</td>\n",
       "      <td>36.597120</td>\n",
       "      <td>244.872763</td>\n",
       "    </tr>\n",
       "    <tr>\n",
       "      <th>std</th>\n",
       "      <td>1.442370e+06</td>\n",
       "      <td>88.605854</td>\n",
       "      <td>403.269321</td>\n",
       "      <td>1523.617483</td>\n",
       "      <td>150.256913</td>\n",
       "      <td>788.989853</td>\n",
       "    </tr>\n",
       "    <tr>\n",
       "      <th>min</th>\n",
       "      <td>-6.702500e+04</td>\n",
       "      <td>-72.100000</td>\n",
       "      <td>-2191.800000</td>\n",
       "      <td>-489.830000</td>\n",
       "      <td>-150.700000</td>\n",
       "      <td>-592.500000</td>\n",
       "    </tr>\n",
       "    <tr>\n",
       "      <th>25%</th>\n",
       "      <td>6.569190e+04</td>\n",
       "      <td>3.020000</td>\n",
       "      <td>20.110000</td>\n",
       "      <td>12.780000</td>\n",
       "      <td>0.435000</td>\n",
       "      <td>29.690000</td>\n",
       "    </tr>\n",
       "    <tr>\n",
       "      <th>50%</th>\n",
       "      <td>1.542700e+05</td>\n",
       "      <td>7.600000</td>\n",
       "      <td>44.875000</td>\n",
       "      <td>32.000000</td>\n",
       "      <td>2.350000</td>\n",
       "      <td>72.770000</td>\n",
       "    </tr>\n",
       "    <tr>\n",
       "      <th>75%</th>\n",
       "      <td>4.207055e+05</td>\n",
       "      <td>19.520000</td>\n",
       "      <td>98.115000</td>\n",
       "      <td>90.850000</td>\n",
       "      <td>15.490000</td>\n",
       "      <td>171.570000</td>\n",
       "    </tr>\n",
       "    <tr>\n",
       "      <th>max</th>\n",
       "      <td>1.362809e+07</td>\n",
       "      <td>1303.300000</td>\n",
       "      <td>4335.000000</td>\n",
       "      <td>24657.200000</td>\n",
       "      <td>2094.200000</td>\n",
       "      <td>11891.200000</td>\n",
       "    </tr>\n",
       "  </tbody>\n",
       "</table>\n",
       "</div>"
      ],
      "text/plain": [
       "       Greenhouse Gases (CO2e)  Particulate Matter (PM2.5)  \\\n",
       "count             5.880000e+02                  729.000000   \n",
       "mean              6.303332e+05                   30.836985   \n",
       "std               1.442370e+06                   88.605854   \n",
       "min              -6.702500e+04                  -72.100000   \n",
       "25%               6.569190e+04                    3.020000   \n",
       "50%               1.542700e+05                    7.600000   \n",
       "75%               4.207055e+05                   19.520000   \n",
       "max               1.362809e+07                 1303.300000   \n",
       "\n",
       "       Nitrogen Oxides (NOx)  Volatile Organic Compounds (VOC)  \\\n",
       "count             734.000000                        745.000000   \n",
       "mean              122.130911                        215.449881   \n",
       "std               403.269321                       1523.617483   \n",
       "min             -2191.800000                       -489.830000   \n",
       "25%                20.110000                         12.780000   \n",
       "50%                44.875000                         32.000000   \n",
       "75%                98.115000                         90.850000   \n",
       "max              4335.000000                      24657.200000   \n",
       "\n",
       "       Sulfur Dioxide (SO2)  Carbon Monoxide (CO)  \n",
       "count            727.000000            737.000000  \n",
       "mean              36.597120            244.872763  \n",
       "std              150.256913            788.989853  \n",
       "min             -150.700000           -592.500000  \n",
       "25%                0.435000             29.690000  \n",
       "50%                2.350000             72.770000  \n",
       "75%               15.490000            171.570000  \n",
       "max             2094.200000          11891.200000  "
      ]
     },
     "execution_count": 31,
     "metadata": {},
     "output_type": "execute_result"
    }
   ],
   "source": [
    "# HAPs is missing due to type error\n",
    "proj[emission_cols].describe()"
   ]
  },
  {
   "cell_type": "code",
   "execution_count": 32,
   "id": "a4fa6d16-be68-4069-9c12-46e5b2b057bb",
   "metadata": {},
   "outputs": [
    {
     "data": {
      "text/html": [
       "<div>\n",
       "<style scoped>\n",
       "    .dataframe tbody tr th:only-of-type {\n",
       "        vertical-align: middle;\n",
       "    }\n",
       "\n",
       "    .dataframe tbody tr th {\n",
       "        vertical-align: top;\n",
       "    }\n",
       "\n",
       "    .dataframe thead th {\n",
       "        text-align: right;\n",
       "    }\n",
       "</style>\n",
       "<table border=\"1\" class=\"dataframe\">\n",
       "  <thead>\n",
       "    <tr style=\"text-align: right;\">\n",
       "      <th></th>\n",
       "      <th>id</th>\n",
       "      <th>name</th>\n",
       "      <th>Hazardous Air Pollutants (HAPs)</th>\n",
       "    </tr>\n",
       "  </thead>\n",
       "  <tbody>\n",
       "    <tr>\n",
       "      <th>54</th>\n",
       "      <td>2778</td>\n",
       "      <td>Cameron LNG, Trains 1-4</td>\n",
       "      <td>53.284, 53, 53.2, 53.284</td>\n",
       "    </tr>\n",
       "  </tbody>\n",
       "</table>\n",
       "</div>"
      ],
      "text/plain": [
       "      id                     name Hazardous Air Pollutants (HAPs)\n",
       "54  2778  Cameron LNG, Trains 1-4        53.284, 53, 53.2, 53.284"
      ]
     },
     "execution_count": 32,
     "metadata": {},
     "output_type": "execute_result"
    }
   ],
   "source": [
    "# a single value causes the issue\n",
    "proj.loc[\n",
    "    proj[\"Hazardous Air Pollutants (HAPs)\"].str.contains(\",\").fillna(False),\n",
    "    [\"id\", \"name\", \"Hazardous Air Pollutants (HAPs)\"],\n",
    "]"
   ]
  },
  {
   "cell_type": "code",
   "execution_count": 34,
   "id": "1ef69b55-3b54-4d01-aa77-3476b0ffb503",
   "metadata": {},
   "outputs": [],
   "source": [
    "haps = pd.to_numeric(proj['Hazardous Air Pollutants (HAPs)'].str.split(',', n=2).str[0], errors='raise')"
   ]
  },
  {
   "cell_type": "code",
   "execution_count": 35,
   "id": "e4efae5f-457e-4f54-946f-108038b1d278",
   "metadata": {},
   "outputs": [
    {
     "data": {
      "text/plain": [
       "count     434.000000\n",
       "mean       15.696745\n",
       "std        79.565074\n",
       "min       -59.780000\n",
       "25%         0.815000\n",
       "50%         4.045000\n",
       "75%        11.150000\n",
       "max      1230.000000\n",
       "Name: Hazardous Air Pollutants (HAPs), dtype: float64"
      ]
     },
     "execution_count": 35,
     "metadata": {},
     "output_type": "execute_result"
    }
   ],
   "source": [
    "haps.describe()"
   ]
  },
  {
   "cell_type": "code",
   "execution_count": 36,
   "id": "bdacb45a",
   "metadata": {},
   "outputs": [],
   "source": [
    "proj['raw_haps'] = proj['Hazardous Air Pollutants (HAPs)'].copy()\n",
    "proj['Hazardous Air Pollutants (HAPs)'] = haps"
   ]
  },
  {
   "cell_type": "code",
   "execution_count": 37,
   "id": "00316e45-177e-4dd4-b7e5-a1a44e7fc745",
   "metadata": {},
   "outputs": [],
   "source": [
    "extremely_large_idx = [proj.loc[:, col].nlargest(5).index for col in emission_cols]"
   ]
  },
  {
   "cell_type": "code",
   "execution_count": 38,
   "id": "7d1eefe8-fe93-45cd-9b18-a632dcf040df",
   "metadata": {},
   "outputs": [
    {
     "data": {
      "text/plain": [
       "Index([ 37,  39,  43,  91,  97,  99, 112, 136, 146, 147, 149, 150, 214, 221,\n",
       "       275, 303, 369, 385, 421, 553, 602, 700, 746],\n",
       "      dtype='object')"
      ]
     },
     "execution_count": 38,
     "metadata": {},
     "output_type": "execute_result"
    }
   ],
   "source": [
    "extremely_large = pd.Index([])\n",
    "for index in extremely_large_idx:\n",
    "    extremely_large = extremely_large.union(index)\n",
    "extremely_large"
   ]
  },
  {
   "cell_type": "code",
   "execution_count": 39,
   "id": "fb484fc3-8ac9-4f0a-ae04-2aca78a6ac08",
   "metadata": {
    "tags": []
   },
   "outputs": [
    {
     "data": {
      "text/html": [
       "<div>\n",
       "<style scoped>\n",
       "    .dataframe tbody tr th:only-of-type {\n",
       "        vertical-align: middle;\n",
       "    }\n",
       "\n",
       "    .dataframe tbody tr th {\n",
       "        vertical-align: top;\n",
       "    }\n",
       "\n",
       "    .dataframe thead th {\n",
       "        text-align: right;\n",
       "    }\n",
       "</style>\n",
       "<table border=\"1\" class=\"dataframe\">\n",
       "  <thead>\n",
       "    <tr style=\"text-align: right;\">\n",
       "      <th></th>\n",
       "      <th>id</th>\n",
       "      <th>name</th>\n",
       "      <th>Project Description</th>\n",
       "      <th>Greenhouse Gases (CO2e)</th>\n",
       "      <th>Particulate Matter (PM2.5)</th>\n",
       "      <th>Nitrogen Oxides (NOx)</th>\n",
       "      <th>Volatile Organic Compounds (VOC)</th>\n",
       "      <th>Sulfur Dioxide (SO2)</th>\n",
       "      <th>Carbon Monoxide (CO)</th>\n",
       "      <th>Hazardous Air Pollutants (HAPs)</th>\n",
       "    </tr>\n",
       "  </thead>\n",
       "  <tbody>\n",
       "    <tr>\n",
       "      <th>385</th>\n",
       "      <td>3119</td>\n",
       "      <td>Texas GulfLink Deepwater Port - Initial Constr...</td>\n",
       "      <td>The Texas GulfLink Terminal Project would cons...</td>\n",
       "      <td>8862.00</td>\n",
       "      <td>3.23</td>\n",
       "      <td>59.82</td>\n",
       "      <td>10025.14</td>\n",
       "      <td>20.16</td>\n",
       "      <td>56.59</td>\n",
       "      <td>NaN</td>\n",
       "    </tr>\n",
       "    <tr>\n",
       "      <th>97</th>\n",
       "      <td>2822</td>\n",
       "      <td>Coyote Springs Compressor Station - Initial Co...</td>\n",
       "      <td>Construction of a new compressor station along...</td>\n",
       "      <td>13402.00</td>\n",
       "      <td>0.56</td>\n",
       "      <td>30.43</td>\n",
       "      <td>2.46</td>\n",
       "      <td>0.06</td>\n",
       "      <td>38.24</td>\n",
       "      <td>182.95</td>\n",
       "    </tr>\n",
       "    <tr>\n",
       "      <th>37</th>\n",
       "      <td>2760</td>\n",
       "      <td>Blue Marlin Offshore Port - Initial Construction</td>\n",
       "      <td>Construction of a new offshore deepwater expor...</td>\n",
       "      <td>16503.00</td>\n",
       "      <td>1.07</td>\n",
       "      <td>26.02</td>\n",
       "      <td>21881.00</td>\n",
       "      <td>1.64</td>\n",
       "      <td>57.88</td>\n",
       "      <td>1230.00</td>\n",
       "    </tr>\n",
       "    <tr>\n",
       "      <th>39</th>\n",
       "      <td>2762</td>\n",
       "      <td>Bluewater SPM Deepwater Port - Initial Constru...</td>\n",
       "      <td>Construction of a new deepwater port in the fe...</td>\n",
       "      <td>185453.00</td>\n",
       "      <td>NaN</td>\n",
       "      <td>NaN</td>\n",
       "      <td>18936.25</td>\n",
       "      <td>NaN</td>\n",
       "      <td>NaN</td>\n",
       "      <td>833.18</td>\n",
       "    </tr>\n",
       "    <tr>\n",
       "      <th>421</th>\n",
       "      <td>3157</td>\n",
       "      <td>Wood River CORE Expansion and Hartford Termina...</td>\n",
       "      <td>Modifications to increase processing capacity ...</td>\n",
       "      <td>209350.00</td>\n",
       "      <td>161.30</td>\n",
       "      <td>920.40</td>\n",
       "      <td>327.30</td>\n",
       "      <td>2094.20</td>\n",
       "      <td>882.40</td>\n",
       "      <td>NaN</td>\n",
       "    </tr>\n",
       "    <tr>\n",
       "      <th>369</th>\n",
       "      <td>3103</td>\n",
       "      <td>Dock Upgrade, New Alky Unit, Gasoline Blending...</td>\n",
       "      <td>Construction of several projects, including a ...</td>\n",
       "      <td>321304.00</td>\n",
       "      <td>396.67</td>\n",
       "      <td>1518.12</td>\n",
       "      <td>2564.78</td>\n",
       "      <td>2019.20</td>\n",
       "      <td>2485.53</td>\n",
       "      <td>NaN</td>\n",
       "    </tr>\n",
       "    <tr>\n",
       "      <th>149</th>\n",
       "      <td>2877</td>\n",
       "      <td>Geismar Methanol Plant 3 and G1/G2 Debottlenec...</td>\n",
       "      <td>Construction of a third methanol plant (Geisma...</td>\n",
       "      <td>457375.00</td>\n",
       "      <td>18.96</td>\n",
       "      <td>28.84</td>\n",
       "      <td>24.82</td>\n",
       "      <td>1.51</td>\n",
       "      <td>146.49</td>\n",
       "      <td>633.89</td>\n",
       "    </tr>\n",
       "    <tr>\n",
       "      <th>43</th>\n",
       "      <td>2766</td>\n",
       "      <td>Borger Refinery, Crude Flexibility and Moderni...</td>\n",
       "      <td>Installation of a new Continuous Catalytic Ref...</td>\n",
       "      <td>470082.58</td>\n",
       "      <td>890.69</td>\n",
       "      <td>368.35</td>\n",
       "      <td>644.55</td>\n",
       "      <td>647.89</td>\n",
       "      <td>2722.41</td>\n",
       "      <td>NaN</td>\n",
       "    </tr>\n",
       "    <tr>\n",
       "      <th>275</th>\n",
       "      <td>3005</td>\n",
       "      <td>Equistar Corpus Christi - Olefins Plant Expansion</td>\n",
       "      <td>An expansion project to increase annual ethyle...</td>\n",
       "      <td>2062725.00</td>\n",
       "      <td>92.30</td>\n",
       "      <td>2264.06</td>\n",
       "      <td>452.81</td>\n",
       "      <td>1263.76</td>\n",
       "      <td>1638.85</td>\n",
       "      <td>NaN</td>\n",
       "    </tr>\n",
       "    <tr>\n",
       "      <th>150</th>\n",
       "      <td>2878</td>\n",
       "      <td>Geismar Methanol Plants 1 and 2</td>\n",
       "      <td>Construction of a new methanol plant consistin...</td>\n",
       "      <td>2080568.00</td>\n",
       "      <td>136.63</td>\n",
       "      <td>178.70</td>\n",
       "      <td>68.40</td>\n",
       "      <td>10.56</td>\n",
       "      <td>175.22</td>\n",
       "      <td>258.63</td>\n",
       "    </tr>\n",
       "    <tr>\n",
       "      <th>303</th>\n",
       "      <td>3036</td>\n",
       "      <td>Port Arthur Refinery - Naphtha Growth and C9 S...</td>\n",
       "      <td>Modifications that will allow the refinery to ...</td>\n",
       "      <td>4191941.00</td>\n",
       "      <td>169.69</td>\n",
       "      <td>668.84</td>\n",
       "      <td>468.40</td>\n",
       "      <td>1267.05</td>\n",
       "      <td>2385.20</td>\n",
       "      <td>NaN</td>\n",
       "    </tr>\n",
       "    <tr>\n",
       "      <th>221</th>\n",
       "      <td>2951</td>\n",
       "      <td>Eurochem Louisiana Fertilizer Plant - Initial ...</td>\n",
       "      <td>Construction of a new fertilizer plant that wo...</td>\n",
       "      <td>4527943.00</td>\n",
       "      <td>524.65</td>\n",
       "      <td>934.39</td>\n",
       "      <td>301.08</td>\n",
       "      <td>31.89</td>\n",
       "      <td>1902.06</td>\n",
       "      <td>NaN</td>\n",
       "    </tr>\n",
       "    <tr>\n",
       "      <th>99</th>\n",
       "      <td>2824</td>\n",
       "      <td>Delfin LNG Export Terminal - Initial Construction</td>\n",
       "      <td>Construction of a new floating LNG terminal in...</td>\n",
       "      <td>4857091.00</td>\n",
       "      <td>301.00</td>\n",
       "      <td>4335.00</td>\n",
       "      <td>124.00</td>\n",
       "      <td>201.00</td>\n",
       "      <td>7021.00</td>\n",
       "      <td>NaN</td>\n",
       "    </tr>\n",
       "    <tr>\n",
       "      <th>553</th>\n",
       "      <td>4217</td>\n",
       "      <td>Sabine Pass LNG - Trains 5, Train 6, and the T...</td>\n",
       "      <td>Construction of two additional liquefaction tr...</td>\n",
       "      <td>5036822.00</td>\n",
       "      <td>-66.51</td>\n",
       "      <td>3797.77</td>\n",
       "      <td>261.67</td>\n",
       "      <td>26.35</td>\n",
       "      <td>343.32</td>\n",
       "      <td>NaN</td>\n",
       "    </tr>\n",
       "    <tr>\n",
       "      <th>746</th>\n",
       "      <td>5487</td>\n",
       "      <td>Nederland Ethylene Cracker - Initial Construction</td>\n",
       "      <td>Construction of a new steam cracker that would...</td>\n",
       "      <td>5102516.00</td>\n",
       "      <td>321.00</td>\n",
       "      <td>1132.00</td>\n",
       "      <td>1676.00</td>\n",
       "      <td>503.00</td>\n",
       "      <td>4952.00</td>\n",
       "      <td>NaN</td>\n",
       "    </tr>\n",
       "    <tr>\n",
       "      <th>91</th>\n",
       "      <td>2816</td>\n",
       "      <td>Corpus Christi LNG Trains 1, 2, and 3</td>\n",
       "      <td>Construction of a new liquefied natural gas im...</td>\n",
       "      <td>5595932.00</td>\n",
       "      <td>85.30</td>\n",
       "      <td>3573.70</td>\n",
       "      <td>365.43</td>\n",
       "      <td>49.62</td>\n",
       "      <td>3852.50</td>\n",
       "      <td>NaN</td>\n",
       "    </tr>\n",
       "    <tr>\n",
       "      <th>147</th>\n",
       "      <td>2875</td>\n",
       "      <td>Alaska LNG - Gas Treatment Plant - Initial Con...</td>\n",
       "      <td>Construction of a 3.5-3.9 billion cubic feet (...</td>\n",
       "      <td>7278238.00</td>\n",
       "      <td>903.40</td>\n",
       "      <td>3321.70</td>\n",
       "      <td>13087.20</td>\n",
       "      <td>1076.30</td>\n",
       "      <td>9026.90</td>\n",
       "      <td>NaN</td>\n",
       "    </tr>\n",
       "    <tr>\n",
       "      <th>700</th>\n",
       "      <td>5321</td>\n",
       "      <td>Port Arthur LNG Trains 1-4</td>\n",
       "      <td>The Port Arthur LNG Terminal would be construc...</td>\n",
       "      <td>7741044.00</td>\n",
       "      <td>428.41</td>\n",
       "      <td>1904.58</td>\n",
       "      <td>206.06</td>\n",
       "      <td>63.02</td>\n",
       "      <td>3195.85</td>\n",
       "      <td>NaN</td>\n",
       "    </tr>\n",
       "    <tr>\n",
       "      <th>146</th>\n",
       "      <td>2874</td>\n",
       "      <td>Energy Security Partners GTL Plant - Initial C...</td>\n",
       "      <td>Construction of a new 33,000 barrels per day n...</td>\n",
       "      <td>8378365.00</td>\n",
       "      <td>50.90</td>\n",
       "      <td>1199.80</td>\n",
       "      <td>635.30</td>\n",
       "      <td>23.30</td>\n",
       "      <td>1852.70</td>\n",
       "      <td>72.66</td>\n",
       "    </tr>\n",
       "    <tr>\n",
       "      <th>602</th>\n",
       "      <td>4557</td>\n",
       "      <td>CP2 LNG Terminal - Initial Construction</td>\n",
       "      <td>Construction of the CP2 LNG Terminal, which wo...</td>\n",
       "      <td>8528260.00</td>\n",
       "      <td>368.90</td>\n",
       "      <td>908.20</td>\n",
       "      <td>175.50</td>\n",
       "      <td>254.50</td>\n",
       "      <td>1428.70</td>\n",
       "      <td>39.70</td>\n",
       "    </tr>\n",
       "    <tr>\n",
       "      <th>214</th>\n",
       "      <td>2944</td>\n",
       "      <td>Alaska LNG - New Liquefaction Plant</td>\n",
       "      <td>Construction of a new natural gas liquefaction...</td>\n",
       "      <td>8572968.00</td>\n",
       "      <td>1303.30</td>\n",
       "      <td>2793.40</td>\n",
       "      <td>24657.20</td>\n",
       "      <td>182.80</td>\n",
       "      <td>11891.20</td>\n",
       "      <td>NaN</td>\n",
       "    </tr>\n",
       "    <tr>\n",
       "      <th>112</th>\n",
       "      <td>2838</td>\n",
       "      <td>Driftwood LNG - Initial Construction</td>\n",
       "      <td>Construction of a new LNG terminal with five l...</td>\n",
       "      <td>9512665.00</td>\n",
       "      <td>356.20</td>\n",
       "      <td>1700.92</td>\n",
       "      <td>554.32</td>\n",
       "      <td>73.60</td>\n",
       "      <td>6035.08</td>\n",
       "      <td>51.26</td>\n",
       "    </tr>\n",
       "    <tr>\n",
       "      <th>136</th>\n",
       "      <td>2862</td>\n",
       "      <td>Formosa Sunshine Project</td>\n",
       "      <td>Construction of a new chemical complex that wo...</td>\n",
       "      <td>13628091.00</td>\n",
       "      <td>339.81</td>\n",
       "      <td>1242.53</td>\n",
       "      <td>1667.89</td>\n",
       "      <td>82.90</td>\n",
       "      <td>2768.93</td>\n",
       "      <td>NaN</td>\n",
       "    </tr>\n",
       "  </tbody>\n",
       "</table>\n",
       "</div>"
      ],
      "text/plain": [
       "       id                                               name  \\\n",
       "385  3119  Texas GulfLink Deepwater Port - Initial Constr...   \n",
       "97   2822  Coyote Springs Compressor Station - Initial Co...   \n",
       "37   2760   Blue Marlin Offshore Port - Initial Construction   \n",
       "39   2762  Bluewater SPM Deepwater Port - Initial Constru...   \n",
       "421  3157  Wood River CORE Expansion and Hartford Termina...   \n",
       "369  3103  Dock Upgrade, New Alky Unit, Gasoline Blending...   \n",
       "149  2877  Geismar Methanol Plant 3 and G1/G2 Debottlenec...   \n",
       "43   2766  Borger Refinery, Crude Flexibility and Moderni...   \n",
       "275  3005  Equistar Corpus Christi - Olefins Plant Expansion   \n",
       "150  2878                    Geismar Methanol Plants 1 and 2   \n",
       "303  3036  Port Arthur Refinery - Naphtha Growth and C9 S...   \n",
       "221  2951  Eurochem Louisiana Fertilizer Plant - Initial ...   \n",
       "99   2824  Delfin LNG Export Terminal - Initial Construction   \n",
       "553  4217  Sabine Pass LNG - Trains 5, Train 6, and the T...   \n",
       "746  5487  Nederland Ethylene Cracker - Initial Construction   \n",
       "91   2816              Corpus Christi LNG Trains 1, 2, and 3   \n",
       "147  2875  Alaska LNG - Gas Treatment Plant - Initial Con...   \n",
       "700  5321                         Port Arthur LNG Trains 1-4   \n",
       "146  2874  Energy Security Partners GTL Plant - Initial C...   \n",
       "602  4557            CP2 LNG Terminal - Initial Construction   \n",
       "214  2944                Alaska LNG - New Liquefaction Plant   \n",
       "112  2838               Driftwood LNG - Initial Construction   \n",
       "136  2862                           Formosa Sunshine Project   \n",
       "\n",
       "                                   Project Description  \\\n",
       "385  The Texas GulfLink Terminal Project would cons...   \n",
       "97   Construction of a new compressor station along...   \n",
       "37   Construction of a new offshore deepwater expor...   \n",
       "39   Construction of a new deepwater port in the fe...   \n",
       "421  Modifications to increase processing capacity ...   \n",
       "369  Construction of several projects, including a ...   \n",
       "149  Construction of a third methanol plant (Geisma...   \n",
       "43   Installation of a new Continuous Catalytic Ref...   \n",
       "275  An expansion project to increase annual ethyle...   \n",
       "150  Construction of a new methanol plant consistin...   \n",
       "303  Modifications that will allow the refinery to ...   \n",
       "221  Construction of a new fertilizer plant that wo...   \n",
       "99   Construction of a new floating LNG terminal in...   \n",
       "553  Construction of two additional liquefaction tr...   \n",
       "746  Construction of a new steam cracker that would...   \n",
       "91   Construction of a new liquefied natural gas im...   \n",
       "147  Construction of a 3.5-3.9 billion cubic feet (...   \n",
       "700  The Port Arthur LNG Terminal would be construc...   \n",
       "146  Construction of a new 33,000 barrels per day n...   \n",
       "602  Construction of the CP2 LNG Terminal, which wo...   \n",
       "214  Construction of a new natural gas liquefaction...   \n",
       "112  Construction of a new LNG terminal with five l...   \n",
       "136  Construction of a new chemical complex that wo...   \n",
       "\n",
       "     Greenhouse Gases (CO2e)  Particulate Matter (PM2.5)  \\\n",
       "385                  8862.00                        3.23   \n",
       "97                  13402.00                        0.56   \n",
       "37                  16503.00                        1.07   \n",
       "39                 185453.00                         NaN   \n",
       "421                209350.00                      161.30   \n",
       "369                321304.00                      396.67   \n",
       "149                457375.00                       18.96   \n",
       "43                 470082.58                      890.69   \n",
       "275               2062725.00                       92.30   \n",
       "150               2080568.00                      136.63   \n",
       "303               4191941.00                      169.69   \n",
       "221               4527943.00                      524.65   \n",
       "99                4857091.00                      301.00   \n",
       "553               5036822.00                      -66.51   \n",
       "746               5102516.00                      321.00   \n",
       "91                5595932.00                       85.30   \n",
       "147               7278238.00                      903.40   \n",
       "700               7741044.00                      428.41   \n",
       "146               8378365.00                       50.90   \n",
       "602               8528260.00                      368.90   \n",
       "214               8572968.00                     1303.30   \n",
       "112               9512665.00                      356.20   \n",
       "136              13628091.00                      339.81   \n",
       "\n",
       "     Nitrogen Oxides (NOx)  Volatile Organic Compounds (VOC)  \\\n",
       "385                  59.82                          10025.14   \n",
       "97                   30.43                              2.46   \n",
       "37                   26.02                          21881.00   \n",
       "39                     NaN                          18936.25   \n",
       "421                 920.40                            327.30   \n",
       "369                1518.12                           2564.78   \n",
       "149                  28.84                             24.82   \n",
       "43                  368.35                            644.55   \n",
       "275                2264.06                            452.81   \n",
       "150                 178.70                             68.40   \n",
       "303                 668.84                            468.40   \n",
       "221                 934.39                            301.08   \n",
       "99                 4335.00                            124.00   \n",
       "553                3797.77                            261.67   \n",
       "746                1132.00                           1676.00   \n",
       "91                 3573.70                            365.43   \n",
       "147                3321.70                          13087.20   \n",
       "700                1904.58                            206.06   \n",
       "146                1199.80                            635.30   \n",
       "602                 908.20                            175.50   \n",
       "214                2793.40                          24657.20   \n",
       "112                1700.92                            554.32   \n",
       "136                1242.53                           1667.89   \n",
       "\n",
       "     Sulfur Dioxide (SO2)  Carbon Monoxide (CO)  \\\n",
       "385                 20.16                 56.59   \n",
       "97                   0.06                 38.24   \n",
       "37                   1.64                 57.88   \n",
       "39                    NaN                   NaN   \n",
       "421               2094.20                882.40   \n",
       "369               2019.20               2485.53   \n",
       "149                  1.51                146.49   \n",
       "43                 647.89               2722.41   \n",
       "275               1263.76               1638.85   \n",
       "150                 10.56                175.22   \n",
       "303               1267.05               2385.20   \n",
       "221                 31.89               1902.06   \n",
       "99                 201.00               7021.00   \n",
       "553                 26.35                343.32   \n",
       "746                503.00               4952.00   \n",
       "91                  49.62               3852.50   \n",
       "147               1076.30               9026.90   \n",
       "700                 63.02               3195.85   \n",
       "146                 23.30               1852.70   \n",
       "602                254.50               1428.70   \n",
       "214                182.80              11891.20   \n",
       "112                 73.60               6035.08   \n",
       "136                 82.90               2768.93   \n",
       "\n",
       "     Hazardous Air Pollutants (HAPs)  \n",
       "385                              NaN  \n",
       "97                            182.95  \n",
       "37                           1230.00  \n",
       "39                            833.18  \n",
       "421                              NaN  \n",
       "369                              NaN  \n",
       "149                           633.89  \n",
       "43                               NaN  \n",
       "275                              NaN  \n",
       "150                           258.63  \n",
       "303                              NaN  \n",
       "221                              NaN  \n",
       "99                               NaN  \n",
       "553                              NaN  \n",
       "746                              NaN  \n",
       "91                               NaN  \n",
       "147                              NaN  \n",
       "700                              NaN  \n",
       "146                            72.66  \n",
       "602                            39.70  \n",
       "214                              NaN  \n",
       "112                            51.26  \n",
       "136                              NaN  "
      ]
     },
     "execution_count": 39,
     "metadata": {},
     "output_type": "execute_result"
    }
   ],
   "source": [
    "proj.loc[extremely_large, ['id', 'name', 'Project Description'] + emission_cols].sort_values('Greenhouse Gases (CO2e)')"
   ]
  },
  {
   "cell_type": "code",
   "execution_count": 40,
   "id": "860746d6-57cf-4793-96a3-b3cdcd00c05d",
   "metadata": {},
   "outputs": [],
   "source": [
    "import matplotlib.pyplot as plt"
   ]
  },
  {
   "cell_type": "code",
   "execution_count": 41,
   "id": "1d6138dd-d747-4fbc-acd8-33d89c1677c7",
   "metadata": {},
   "outputs": [
    {
     "data": {
      "image/png": "[encoded data removed]",
      "text/plain": [
       "<Figure size 1200x1400 with 8 Axes>"
      ]
     },
     "metadata": {},
     "output_type": "display_data"
    }
   ],
   "source": [
    "# NOTE: this only includes positive values (most but not all of them)\n",
    "n = len(emission_cols)\n",
    "fig, axes = plt.subplots(nrows=round(n/2+0.4), ncols=2, figsize=(12, n*2))\n",
    "for i, col in enumerate(emission_cols):\n",
    "    proj.loc[:, col].replace(0,np.nan).transform(np.log10).hist(bins=40, ax=axes[i//2, i%2])\n",
    "    axes[i//2, i%2].set_title(col)"
   ]
  },
  {
   "cell_type": "code",
   "execution_count": 42,
   "id": "c6331369-3246-4f40-bc51-ef0869714546",
   "metadata": {},
   "outputs": [
    {
     "data": {
      "image/png": "[encoded data removed]",
      "text/plain": [
       "<Figure size 1200x1400 with 8 Axes>"
      ]
     },
     "metadata": {},
     "output_type": "display_data"
    }
   ],
   "source": [
    "# Negative values only\n",
    "n = len(emission_cols)\n",
    "fig, axes = plt.subplots(nrows=round(n/2+0.4), ncols=2, figsize=(12, n*2))\n",
    "for i, col in enumerate(emission_cols):\n",
    "    proj.loc[:, col].mul(-1).replace(0,np.nan).transform(np.log10).hist(bins=10, ax=axes[i//2, i%2])\n",
    "    axes[i//2, i%2].set_title(col)"
   ]
  },
  {
   "cell_type": "markdown",
   "id": "89dc9a3d-8791-4794-8f66-724ea3728d08",
   "metadata": {},
   "source": [
    "#### IDs\n",
    "There are lots of ID columns, but I only care about Facility IDs and Air Construction IDs"
   ]
  },
  {
   "cell_type": "code",
   "execution_count": 43,
   "id": "68fc4a1b-4d99-46a8-b3bf-8233af429023",
   "metadata": {},
   "outputs": [
    {
     "data": {
      "text/plain": [
       "['Air Construction (ID)',\n",
       " 'Air Operating (ID)',\n",
       " 'NGA (ID)',\n",
       " 'Other Permits (ID)']"
      ]
     },
     "execution_count": 43,
     "metadata": {},
     "output_type": "execute_result"
    }
   ],
   "source": [
    "# defined way up near the top\n",
    "id_cols # string dtype only"
   ]
  },
  {
   "cell_type": "code",
   "execution_count": 45,
   "id": "3e7db424-53e9-43c3-aa0a-c6da2fb81023",
   "metadata": {},
   "outputs": [
    {
     "data": {
      "text/plain": [
       "count     936.000000\n",
       "mean     2748.489316\n",
       "std      2121.209949\n",
       "min       739.000000\n",
       "25%       916.750000\n",
       "50%      1085.500000\n",
       "75%      4884.000000\n",
       "max      6407.000000\n",
       "Name: Facility (ID), dtype: float64"
      ]
     },
     "execution_count": 45,
     "metadata": {},
     "output_type": "execute_result"
    }
   ],
   "source": [
    "# they all look in the same range\n",
    "proj['Facility (ID)'].describe()"
   ]
  },
  {
   "cell_type": "code",
   "execution_count": 46,
   "id": "398b7d49-c594-46e7-b444-f5e03004ae62",
   "metadata": {},
   "outputs": [
    {
     "data": {
      "text/html": [
       "<div>\n",
       "<style scoped>\n",
       "    .dataframe tbody tr th:only-of-type {\n",
       "        vertical-align: middle;\n",
       "    }\n",
       "\n",
       "    .dataframe tbody tr th {\n",
       "        vertical-align: top;\n",
       "    }\n",
       "\n",
       "    .dataframe thead th {\n",
       "        text-align: right;\n",
       "    }\n",
       "</style>\n",
       "<table border=\"1\" class=\"dataframe\">\n",
       "  <thead>\n",
       "    <tr style=\"text-align: right;\">\n",
       "      <th></th>\n",
       "      <th>0</th>\n",
       "      <th>1</th>\n",
       "      <th>2</th>\n",
       "      <th>3</th>\n",
       "      <th>4</th>\n",
       "      <th>5</th>\n",
       "    </tr>\n",
       "  </thead>\n",
       "  <tbody>\n",
       "    <tr>\n",
       "      <th>0</th>\n",
       "      <td>1573.0</td>\n",
       "      <td>1574.0</td>\n",
       "      <td>4137.0</td>\n",
       "      <td>4826.0</td>\n",
       "      <td>NaN</td>\n",
       "      <td>NaN</td>\n",
       "    </tr>\n",
       "    <tr>\n",
       "      <th>1</th>\n",
       "      <td>2079.0</td>\n",
       "      <td>NaN</td>\n",
       "      <td>NaN</td>\n",
       "      <td>NaN</td>\n",
       "      <td>NaN</td>\n",
       "      <td>NaN</td>\n",
       "    </tr>\n",
       "    <tr>\n",
       "      <th>2</th>\n",
       "      <td>2361.0</td>\n",
       "      <td>NaN</td>\n",
       "      <td>NaN</td>\n",
       "      <td>NaN</td>\n",
       "      <td>NaN</td>\n",
       "      <td>NaN</td>\n",
       "    </tr>\n",
       "    <tr>\n",
       "      <th>3</th>\n",
       "      <td>2181.0</td>\n",
       "      <td>2182.0</td>\n",
       "      <td>4266.0</td>\n",
       "      <td>NaN</td>\n",
       "      <td>NaN</td>\n",
       "      <td>NaN</td>\n",
       "    </tr>\n",
       "    <tr>\n",
       "      <th>4</th>\n",
       "      <td>1578.0</td>\n",
       "      <td>NaN</td>\n",
       "      <td>NaN</td>\n",
       "      <td>NaN</td>\n",
       "      <td>NaN</td>\n",
       "      <td>NaN</td>\n",
       "    </tr>\n",
       "  </tbody>\n",
       "</table>\n",
       "</div>"
      ],
      "text/plain": [
       "        0       1       2       3   4   5\n",
       "0  1573.0  1574.0  4137.0  4826.0 NaN NaN\n",
       "1  2079.0     NaN     NaN     NaN NaN NaN\n",
       "2  2361.0     NaN     NaN     NaN NaN NaN\n",
       "3  2181.0  2182.0  4266.0     NaN NaN NaN\n",
       "4  1578.0     NaN     NaN     NaN NaN NaN"
      ]
     },
     "execution_count": 46,
     "metadata": {},
     "output_type": "execute_result"
    }
   ],
   "source": [
    "air_const_ids = proj['Air Construction (ID)'].str.split(',', expand=True)\n",
    "for col in air_const_ids.columns:\n",
    "    air_const_ids.loc[:, col] = pd.to_numeric(air_const_ids.loc[:, col], errors='coerce')\n",
    "\n",
    "air_const_ids.head()"
   ]
  },
  {
   "cell_type": "code",
   "execution_count": 47,
   "id": "f7b92f4d-2b2c-4d87-ad01-a0f0a8daebed",
   "metadata": {},
   "outputs": [
    {
     "data": {
      "text/html": [
       "<div>\n",
       "<style scoped>\n",
       "    .dataframe tbody tr th:only-of-type {\n",
       "        vertical-align: middle;\n",
       "    }\n",
       "\n",
       "    .dataframe tbody tr th {\n",
       "        vertical-align: top;\n",
       "    }\n",
       "\n",
       "    .dataframe thead th {\n",
       "        text-align: right;\n",
       "    }\n",
       "</style>\n",
       "<table border=\"1\" class=\"dataframe\">\n",
       "  <thead>\n",
       "    <tr style=\"text-align: right;\">\n",
       "      <th></th>\n",
       "      <th>0</th>\n",
       "      <th>1</th>\n",
       "      <th>2</th>\n",
       "      <th>3</th>\n",
       "      <th>4</th>\n",
       "      <th>5</th>\n",
       "    </tr>\n",
       "  </thead>\n",
       "  <tbody>\n",
       "    <tr>\n",
       "      <th>count</th>\n",
       "      <td>682.000000</td>\n",
       "      <td>165.000000</td>\n",
       "      <td>64.000000</td>\n",
       "      <td>23.000000</td>\n",
       "      <td>9.000000</td>\n",
       "      <td>3.000000</td>\n",
       "    </tr>\n",
       "    <tr>\n",
       "      <th>mean</th>\n",
       "      <td>3198.800587</td>\n",
       "      <td>3667.684848</td>\n",
       "      <td>3913.921875</td>\n",
       "      <td>3797.347826</td>\n",
       "      <td>3516.777778</td>\n",
       "      <td>2676.666667</td>\n",
       "    </tr>\n",
       "    <tr>\n",
       "      <th>std</th>\n",
       "      <td>1577.222154</td>\n",
       "      <td>1596.706549</td>\n",
       "      <td>1546.655237</td>\n",
       "      <td>1715.133857</td>\n",
       "      <td>1634.694068</td>\n",
       "      <td>1272.219452</td>\n",
       "    </tr>\n",
       "    <tr>\n",
       "      <th>min</th>\n",
       "      <td>1573.000000</td>\n",
       "      <td>1574.000000</td>\n",
       "      <td>1620.000000</td>\n",
       "      <td>1621.000000</td>\n",
       "      <td>1622.000000</td>\n",
       "      <td>1623.000000</td>\n",
       "    </tr>\n",
       "    <tr>\n",
       "      <th>25%</th>\n",
       "      <td>1950.250000</td>\n",
       "      <td>2051.000000</td>\n",
       "      <td>2183.500000</td>\n",
       "      <td>2159.000000</td>\n",
       "      <td>2192.000000</td>\n",
       "      <td>1970.000000</td>\n",
       "    </tr>\n",
       "    <tr>\n",
       "      <th>50%</th>\n",
       "      <td>2285.500000</td>\n",
       "      <td>3762.000000</td>\n",
       "      <td>4181.500000</td>\n",
       "      <td>4242.000000</td>\n",
       "      <td>3604.000000</td>\n",
       "      <td>2317.000000</td>\n",
       "    </tr>\n",
       "    <tr>\n",
       "      <th>75%</th>\n",
       "      <td>4637.500000</td>\n",
       "      <td>4877.000000</td>\n",
       "      <td>5022.000000</td>\n",
       "      <td>5061.500000</td>\n",
       "      <td>4243.000000</td>\n",
       "      <td>3203.500000</td>\n",
       "    </tr>\n",
       "    <tr>\n",
       "      <th>max</th>\n",
       "      <td>6386.000000</td>\n",
       "      <td>6321.000000</td>\n",
       "      <td>6392.000000</td>\n",
       "      <td>6310.000000</td>\n",
       "      <td>6123.000000</td>\n",
       "      <td>4090.000000</td>\n",
       "    </tr>\n",
       "  </tbody>\n",
       "</table>\n",
       "</div>"
      ],
      "text/plain": [
       "                 0            1            2            3            4  \\\n",
       "count   682.000000   165.000000    64.000000    23.000000     9.000000   \n",
       "mean   3198.800587  3667.684848  3913.921875  3797.347826  3516.777778   \n",
       "std    1577.222154  1596.706549  1546.655237  1715.133857  1634.694068   \n",
       "min    1573.000000  1574.000000  1620.000000  1621.000000  1622.000000   \n",
       "25%    1950.250000  2051.000000  2183.500000  2159.000000  2192.000000   \n",
       "50%    2285.500000  3762.000000  4181.500000  4242.000000  3604.000000   \n",
       "75%    4637.500000  4877.000000  5022.000000  5061.500000  4243.000000   \n",
       "max    6386.000000  6321.000000  6392.000000  6310.000000  6123.000000   \n",
       "\n",
       "                 5  \n",
       "count     3.000000  \n",
       "mean   2676.666667  \n",
       "std    1272.219452  \n",
       "min    1623.000000  \n",
       "25%    1970.000000  \n",
       "50%    2317.000000  \n",
       "75%    3203.500000  \n",
       "max    4090.000000  "
      ]
     },
     "execution_count": 47,
     "metadata": {},
     "output_type": "execute_result"
    }
   ],
   "source": [
    "# they all look in the same range\n",
    "air_const_ids.describe()"
   ]
  },
  {
   "cell_type": "markdown",
   "id": "da317c8f-bb4e-4584-a83b-16a674b396ad",
   "metadata": {},
   "source": [
    "#### Project Cost\n",
    "Check uniformity at the same time: should be in millions of dollars. Check vs thousands or single dollars."
   ]
  },
  {
   "cell_type": "code",
   "execution_count": 49,
   "id": "b262c2f1-abeb-4724-96dc-1190750c26cc",
   "metadata": {},
   "outputs": [
    {
     "data": {
      "text/plain": [
       "<AxesSubplot: >"
      ]
     },
     "execution_count": 49,
     "metadata": {},
     "output_type": "execute_result"
    },
    {
     "data": {
      "image/png": "[encoded data removed]",
      "text/plain": [
       "<Figure size 640x480 with 1 Axes>"
      ]
     },
     "metadata": {},
     "output_type": "display_data"
    }
   ],
   "source": [
    "proj['Project Cost (million $)'].transform(np.log10).hist(bins=20)"
   ]
  },
  {
   "cell_type": "code",
   "execution_count": 51,
   "id": "9bef6fcd-271a-40fb-a9a5-6305ebe45a4a",
   "metadata": {},
   "outputs": [
    {
     "data": {
      "text/html": [
       "<div>\n",
       "<style scoped>\n",
       "    .dataframe tbody tr th:only-of-type {\n",
       "        vertical-align: middle;\n",
       "    }\n",
       "\n",
       "    .dataframe tbody tr th {\n",
       "        vertical-align: top;\n",
       "    }\n",
       "\n",
       "    .dataframe thead th {\n",
       "        text-align: right;\n",
       "    }\n",
       "</style>\n",
       "<table border=\"1\" class=\"dataframe\">\n",
       "  <thead>\n",
       "    <tr style=\"text-align: right;\">\n",
       "      <th></th>\n",
       "      <th>name</th>\n",
       "      <th>Project Cost (million $)</th>\n",
       "      <th>Project Description</th>\n",
       "    </tr>\n",
       "  </thead>\n",
       "  <tbody>\n",
       "    <tr>\n",
       "      <th>659</th>\n",
       "      <td>Gron Fuels' Renewable Fuels Plant - Initial Construction</td>\n",
       "      <td>92000.0</td>\n",
       "      <td>Construction of a new plant that would convert animal fats and used cooking oils into renewable diesel and naphtha fuels. The project would include a new pretreatment facility capable of processing 60,000 barrels of renewable feedstock every day, as well as a new hydrogen plant capable of producing 150 million standard cubic feet of hydrogen gas every day, and a new wastewater treatment plant.</td>\n",
       "    </tr>\n",
       "    <tr>\n",
       "      <th>112</th>\n",
       "      <td>Driftwood LNG - Initial Construction</td>\n",
       "      <td>14500.0</td>\n",
       "      <td>Construction of a new LNG terminal with five liquefaction trains. The terminal will have the capacity to process 27.6 million metric tons of LNG per year for export.</td>\n",
       "    </tr>\n",
       "    <tr>\n",
       "      <th>930</th>\n",
       "      <td>Louisiana Offshore CO2 Hub - Initial Construction</td>\n",
       "      <td>10575.0</td>\n",
       "      <td>Initial construction and testing of the proposed sequestration hub.</td>\n",
       "    </tr>\n",
       "    <tr>\n",
       "      <th>54</th>\n",
       "      <td>Cameron LNG, Trains 1-4</td>\n",
       "      <td>10000.0</td>\n",
       "      <td>Construction of a new liquefied natural gas export terminal next to the existing Cameron LNG Import Terminal. Phase I of the project included three liquefaction trains (Trains 1, 2, and 3), each capable of processing up to 5 million metric tons of LNG per year. Originally, Phase II of the project included two additional liquefaction trains (Trains 4 and 5) that would have expanded Cameron LNG’s total export capacity to nearly 25 million metric tons of LNG per year (approximately 3.53 billion cubic feet per day). In June of 2022, Cameron LNG proposed to remove Train 5 from the original project design and only build Train 4, which would increase export capacity by 6.75 million metric tons of LNG per year, for a revised total of 21.7 million metric tons per year.</td>\n",
       "    </tr>\n",
       "    <tr>\n",
       "      <th>282</th>\n",
       "      <td>GCGV Complex - Ethylene Plant, MEG Plant, LDPE Plant</td>\n",
       "      <td>10000.0</td>\n",
       "      <td>Construction of a new organic chemicals manufacturing complex, which includes: an ethylene plant, a monoethylene glycol plant, two linear low density polyethylene plants, and supporting logistical and utility infrastructure.</td>\n",
       "    </tr>\n",
       "  </tbody>\n",
       "</table>\n",
       "</div>"
      ],
      "text/plain": [
       "                                                         name  \\\n",
       "659  Gron Fuels' Renewable Fuels Plant - Initial Construction   \n",
       "112  Driftwood LNG - Initial Construction                       \n",
       "930  Louisiana Offshore CO2 Hub - Initial Construction          \n",
       "54   Cameron LNG, Trains 1-4                                    \n",
       "282  GCGV Complex - Ethylene Plant, MEG Plant, LDPE Plant       \n",
       "\n",
       "     Project Cost (million $)  \\\n",
       "659  92000.0                    \n",
       "112  14500.0                    \n",
       "930  10575.0                    \n",
       "54   10000.0                    \n",
       "282  10000.0                    \n",
       "\n",
       "                                                                                                                                                                                                                                                                                                                                                                                                                                                                                                                                                                                                                                                                                                                                                                                    Project Description  \n",
       "659  Construction of a new plant that would convert animal fats and used cooking oils into renewable diesel and naphtha fuels. The project would include a new pretreatment facility capable of processing 60,000 barrels of renewable feedstock every day, as well as a new hydrogen plant capable of producing 150 million standard cubic feet of hydrogen gas every day, and a new wastewater treatment plant.                                                                                                                                                                                                                                                                                                                                                                                        \n",
       "112  Construction of a new LNG terminal with five liquefaction trains. The terminal will have the capacity to process 27.6 million metric tons of LNG per year for export.                                                                                                                                                                                                                                                                                                                                                                                                                                                                                                                                                                                                                               \n",
       "930  Initial construction and testing of the proposed sequestration hub.                                                                                                                                                                                                                                                                                                                                                                                                                                                                                                                                                                                                                                                                                                                                 \n",
       "54   Construction of a new liquefied natural gas export terminal next to the existing Cameron LNG Import Terminal. Phase I of the project included three liquefaction trains (Trains 1, 2, and 3), each capable of processing up to 5 million metric tons of LNG per year. Originally, Phase II of the project included two additional liquefaction trains (Trains 4 and 5) that would have expanded Cameron LNG’s total export capacity to nearly 25 million metric tons of LNG per year (approximately 3.53 billion cubic feet per day). In June of 2022, Cameron LNG proposed to remove Train 5 from the original project design and only build Train 4, which would increase export capacity by 6.75 million metric tons of LNG per year, for a revised total of 21.7 million metric tons per year.  \n",
       "282  Construction of a new organic chemicals manufacturing complex, which includes: an ethylene plant, a monoethylene glycol plant, two linear low density polyethylene plants, and supporting logistical and utility infrastructure.                                                                                                                                                                                                                                                                                                                                                                                                                                                                                                                                                                    "
      ]
     },
     "execution_count": 51,
     "metadata": {},
     "output_type": "execute_result"
    }
   ],
   "source": [
    "# Yes, costs are generally in millions. Gron Fuels is off by a factor of 10.\n",
    "pd.set_option(\"display.max_colwidth\", 0)\n",
    "proj.loc[\n",
    "    proj[\"Project Cost (million $)\"].nlargest(5).index,\n",
    "    [\"name\", \"Project Cost (million $)\", \"Project Description\"],\n",
    "]"
   ]
  },
  {
   "cell_type": "markdown",
   "id": "714a46e4-f06e-4da1-be23-eb6739d38645",
   "metadata": {},
   "source": [
    "#### Jobs\n",
    "Skipping for now becuase I need to make a parser first."
   ]
  },
  {
   "cell_type": "markdown",
   "id": "99034a5d-072a-4cc3-a6b2-c93dd979ce41",
   "metadata": {},
   "source": [
    "### Uniqueness Validation\n",
    "Check the `id` field"
   ]
  },
  {
   "cell_type": "code",
   "execution_count": 52,
   "id": "164ac0af-1cb1-499d-ac71-55ba4ba8c101",
   "metadata": {},
   "outputs": [
    {
     "data": {
      "text/plain": [
       "0"
      ]
     },
     "execution_count": 52,
     "metadata": {},
     "output_type": "execute_result"
    }
   ],
   "source": [
    "proj['id'].duplicated().sum()"
   ]
  },
  {
   "cell_type": "markdown",
   "id": "155fd657-398b-4e25-bed6-ec5d7108c79a",
   "metadata": {},
   "source": [
    "### Set Membership Validation\n",
    "* classification\n",
    "* industry sector\n",
    "* project type\n",
    "* operating status\n",
    "\n",
    "#### Classification\n",
    "Doesn't look like any erroneous categories to me."
   ]
  },
  {
   "cell_type": "code",
   "execution_count": 53,
   "id": "a8c6c7af-8ca3-4e35-937c-e14dbd4a22da",
   "metadata": {},
   "outputs": [
    {
     "data": {
      "text/plain": [
       "New           487\n",
       "Expansion     417\n",
       "Conversion    22 \n",
       "Restart       10 \n",
       "Name: Classification, dtype: Int64"
      ]
     },
     "execution_count": 53,
     "metadata": {},
     "output_type": "execute_result"
    }
   ],
   "source": [
    "proj['Classification'].value_counts()"
   ]
  },
  {
   "cell_type": "markdown",
   "id": "db9e8f95-0ba4-4573-909b-574e5e84588c",
   "metadata": {},
   "source": [
    "#### Industry Sector\n",
    "A few multi-valued items. Simplify by picking the first one."
   ]
  },
  {
   "cell_type": "code",
   "execution_count": 54,
   "id": "8573059c-965d-4c8b-972f-a33e0982a7a7",
   "metadata": {},
   "outputs": [
    {
     "data": {
      "text/plain": [
       "Natural Gas                                                  377\n",
       "Petrochemicals and Plastics                                  260\n",
       "Oil                                                          102\n",
       "Other                                                        74 \n",
       "Liquefied Natural Gas                                        51 \n",
       "Synthetic Fertilizers                                        48 \n",
       "Synthetic Fertilizers, Other                                 5  \n",
       "Oil, Natural Gas                                             3  \n",
       "Synthetic Fertilizers, Other, Petrochemicals and Plastics    2  \n",
       "Other, Petrochemicals and Plastics, Synthetic Fertilizers    2  \n",
       "Oil, Other                                                   2  \n",
       "Other, Petrochemicals and Plastics                           2  \n",
       "Petrochemicals and Plastics, Oil                             1  \n",
       "Other, Oil                                                   1  \n",
       "Petrochemicals and Plastics, Other                           1  \n",
       "Synthetic Fertilizers, Petrochemicals and Plastics           1  \n",
       "Liquefied Natural Gas, Other                                 1  \n",
       "Petrochemicals and Plastics, Oil, Other                      1  \n",
       "Petrochemicals and Plastics, Synthetic Fertilizers, Other    1  \n",
       "Natural Gas, Oil                                             1  \n",
       "Oil, Petrochemicals and Plastics                             1  \n",
       "Name: Industry Sector, dtype: Int64"
      ]
     },
     "execution_count": 54,
     "metadata": {},
     "output_type": "execute_result"
    }
   ],
   "source": [
    "proj['Industry Sector'].value_counts()"
   ]
  },
  {
   "cell_type": "code",
   "execution_count": 57,
   "id": "bb23307c",
   "metadata": {},
   "outputs": [
    {
     "data": {
      "text/plain": [
       "Natural Gas                    381\n",
       "Petrochemicals and Plastics    272\n",
       "Oil                            112\n",
       "Other                          92 \n",
       "Synthetic Fertilizers          59 \n",
       "Liquefied Natural Gas          52 \n",
       "dtype: Int64"
      ]
     },
     "execution_count": 57,
     "metadata": {},
     "output_type": "execute_result"
    }
   ],
   "source": [
    "# split and combine value counts\n",
    "proj['Industry Sector'].str.split(',', expand=True).stack().str.strip().value_counts()"
   ]
  },
  {
   "cell_type": "markdown",
   "id": "257ef1e9-31ea-4e7c-abf2-259cf83b51fc",
   "metadata": {},
   "source": [
    "#### Project Type\n",
    "This column has a fair number of multivalued array entries. But the categories themselves look consistent -- no mis-spellings, etc."
   ]
  },
  {
   "cell_type": "code",
   "execution_count": 55,
   "id": "80324b70-286d-48c7-b2f8-979d86d692e5",
   "metadata": {},
   "outputs": [
    {
     "data": {
      "text/plain": [
       "Compressor Station                                                                                                   288\n",
       "Gas Processing Plant                                                                                                 82 \n",
       "Refinery                                                                                                             58 \n",
       "Liquefied Natural Gas Terminal or Liquefaction Plant                                                                 45 \n",
       "Chemical Recycling Plant                                                                                             40 \n",
       "Natural Gas Liquids Fractionator                                                                                     37 \n",
       "Other Organic Chemicals                                                                                              35 \n",
       "Ethylene Cracker                                                                                                     31 \n",
       "Crude Oil Terminal                                                                                                   29 \n",
       "Fertilizer Plant                                                                                                     27 \n",
       "Renewable Diesel or Gasoline Refinery                                                                                21 \n",
       "Methanol Plant                                                                                                       21 \n",
       "Plastic Resin Manufacturing                                                                                          20 \n",
       "Green Hydrogen                                                                                                       14 \n",
       "Carbon Capture Use and Storage                                                                                       13 \n",
       "Propylene Plant                                                                                                      13 \n",
       "Natural Gas Liquids Storage Facility                                                                                 11 \n",
       "Associated Electricity Generation                                                                                    11 \n",
       "Hydrogen Plant                                                                                                       10 \n",
       "Natural Gas Liquids Fractionator, Gas Processing Plant                                                               9  \n",
       "Gas Processing Plant, Natural Gas Liquids Fractionator                                                               9  \n",
       "Condensate Splitter                                                                                                  6  \n",
       "Carbon Capture Use and Storage, Blue Ammonia                                                                         6  \n",
       "Desalination Plant                                                                                                   5  \n",
       "Other Pipeline Infrastructure                                                                                        5  \n",
       "Gas to Liquids Plant                                                                                                 4  \n",
       "Blue Hydrogen, Carbon Capture Use and Storage                                                                        4  \n",
       "Other Inorganic Chemicals                                                                                            4  \n",
       "Liquefied Natural Gas Storage Facility                                                                               4  \n",
       "Other Organic Chemicals, Fertilizer Plant                                                                            4  \n",
       "Blue Ammonia, Carbon Capture Use and Storage                                                                         3  \n",
       "Plastic Resin Manufacturing, Ethylene Cracker                                                                        3  \n",
       "Ethylene Cracker, Plastic Resin Manufacturing                                                                        3  \n",
       "Plastic Resin Manufacturing, Other Inorganic Chemicals                                                               3  \n",
       "Carbon Capture Use and Storage, Blue Hydrogen, Blue Ammonia                                                          2  \n",
       "Blue Ammonia, Blue Hydrogen, Carbon Capture Use and Storage                                                          2  \n",
       "Blue Ammonia                                                                                                         2  \n",
       "Gas Processing Plant, Crude Oil Terminal                                                                             2  \n",
       "Produced Water Treatment Facility                                                                                    2  \n",
       "Blue Hydrogen, Green Hydrogen, Refinery, Carbon Capture Use and Storage                                              2  \n",
       "Renewable Diesel or Gasoline Refinery, Green Hydrogen                                                                2  \n",
       "Carbon Capture Use and Storage, Blue Hydrogen                                                                        2  \n",
       "Green Ammonia, Green Hydrogen                                                                                        2  \n",
       "Renewable Diesel or Gasoline Refinery, Carbon Capture Use and Storage                                                2  \n",
       "Other Inorganic Gases                                                                                                2  \n",
       "Green Ammonia                                                                                                        2  \n",
       "Green Hydrogen, Gas to Liquids Plant                                                                                 2  \n",
       "Gas to Liquids Plant, Carbon Capture Use and Storage                                                                 1  \n",
       "Other Organic Chemicals, Ethylene Cracker                                                                            1  \n",
       "Methanol Plant, Carbon Capture Use and Storage                                                                       1  \n",
       "Natural Gas Liquids Storage Facility, Natural Gas Liquids Fractionator                                               1  \n",
       "Natural Gas Liquids Fractionator, Natural Gas Liquids Storage Facility                                               1  \n",
       "Desalination Plant, Plastic Resin Manufacturing                                                                      1  \n",
       "Hydrogen Plant, Other Inorganic Gases                                                                                1  \n",
       "Propylene Plant, Ethylene Cracker                                                                                    1  \n",
       "Other Inorganic Gases, Hydrogen Plant                                                                                1  \n",
       "Other Inorganic Chemicals, Other Organic Chemicals                                                                   1  \n",
       "Carbon Capture Use and Storage, Blue Hydrogen, Other Organic Chemicals, Blue Ammonia                                 1  \n",
       "Carbon Capture Use and Storage, Gas to Liquids Plant                                                                 1  \n",
       "Carbon Capture Use and Storage, Hydrogen Plant, Gas to Liquids Plant                                                 1  \n",
       "Carbon Capture Use and Storage, Liquefied Natural Gas Terminal or Liquefaction Plant                                 1  \n",
       "Plastic Resin Manufacturing, Propylene Plant                                                                         1  \n",
       "Liquefied Natural Gas Terminal or Liquefaction Plant, Carbon Capture Use and Storage                                 1  \n",
       "Fertilizer Plant, Other Organic Chemicals                                                                            1  \n",
       "Carbon Capture Use and Storage, Liquefied Natural Gas Terminal or Liquefaction Plant, Blue Ammonia, Blue Hydrogen    1  \n",
       "Carbon Capture Use and Storage, Renewable Diesel or Gasoline Refinery                                                1  \n",
       "Compressor Station, Gas Processing Plant, Carbon Capture Use and Storage                                             1  \n",
       "Blue Hydrogen, Blue Ammonia, Carbon Capture Use and Storage                                                          1  \n",
       "Refinery, Gas Processing Plant                                                                                       1  \n",
       "Blue Hydrogen, Other Inorganic Gases, Carbon Capture Use and Storage                                                 1  \n",
       "Blue Hydrogen, Carbon Capture Use and Storage, Blue Ammonia                                                          1  \n",
       "Blue Ammonia, Green Ammonia                                                                                          1  \n",
       "Gas Processing Plant, Compressor Station                                                                             1  \n",
       "Underground Natural Gas Storage Facility                                                                             1  \n",
       "Carbon Capture Use and Storage, Green Ammonia, Green Hydrogen, Methanol Plant                                        1  \n",
       "Carbon Capture Use and Storage, Blue Ammonia, Blue Hydrogen                                                          1  \n",
       "Blue Ammonia, Blue Hydrogen, Carbon Capture Use and Storage, Green Ammonia                                           1  \n",
       "Blue Hydrogen, Carbon Capture Use and Storage, Other Inorganic Gases                                                 1  \n",
       "Blue Ammonia, Blue Hydrogen                                                                                          1  \n",
       "Name: Project Type, dtype: Int64"
      ]
     },
     "execution_count": 55,
     "metadata": {},
     "output_type": "execute_result"
    }
   ],
   "source": [
    "proj['Project Type'].value_counts()"
   ]
  },
  {
   "cell_type": "code",
   "execution_count": 56,
   "id": "434e3032-1708-4c30-986c-7145ab27560e",
   "metadata": {},
   "outputs": [
    {
     "data": {
      "text/plain": [
       "Compressor Station                                      290\n",
       "Gas Processing Plant                                    105\n",
       "Refinery                                                61 \n",
       "Natural Gas Liquids Fractionator                        57 \n",
       "Carbon Capture Use and Storage                          53 \n",
       "Liquefied Natural Gas Terminal or Liquefaction Plant    48 \n",
       "Other Organic Chemicals                                 43 \n",
       "Chemical Recycling Plant                                40 \n",
       "Ethylene Cracker                                        39 \n",
       "Fertilizer Plant                                        32 \n",
       "Crude Oil Terminal                                      31 \n",
       "Plastic Resin Manufacturing                             31 \n",
       "Renewable Diesel or Gasoline Refinery                   26 \n",
       "Green Hydrogen                                          23 \n",
       "Blue Ammonia                                            23 \n",
       "Methanol Plant                                          23 \n",
       "Blue Hydrogen                                           21 \n",
       "Propylene Plant                                         15 \n",
       "Hydrogen Plant                                          13 \n",
       "Natural Gas Liquids Storage Facility                    13 \n",
       "Associated Electricity Generation                       11 \n",
       "Gas to Liquids Plant                                    9  \n",
       "Other Inorganic Chemicals                               8  \n",
       "Green Ammonia                                           7  \n",
       "Other Inorganic Gases                                   6  \n",
       "Desalination Plant                                      6  \n",
       "Condensate Splitter                                     6  \n",
       "Other Pipeline Infrastructure                           5  \n",
       "Liquefied Natural Gas Storage Facility                  4  \n",
       "Produced Water Treatment Facility                       2  \n",
       "Underground Natural Gas Storage Facility                1  \n",
       "dtype: Int64"
      ]
     },
     "execution_count": 56,
     "metadata": {},
     "output_type": "execute_result"
    }
   ],
   "source": [
    "# split and combine value counts\n",
    "proj['Project Type'].str.split(',', expand=True).stack().str.strip().value_counts()"
   ]
  },
  {
   "cell_type": "markdown",
   "id": "5b1bad97",
   "metadata": {},
   "source": [
    "#### Product Type\n",
    "This column has a fair number of multivalued array entries. But the categories themselves look consistent -- no mis-spellings, etc."
   ]
  },
  {
   "cell_type": "code",
   "execution_count": 66,
   "id": "b17dd185",
   "metadata": {},
   "outputs": [
    {
     "data": {
      "text/plain": [
       "Ethylene                                                                               28\n",
       "Propylene                                                                              12\n",
       "Ammonia                                                                                10\n",
       "Polyethylene                                                                           9 \n",
       "Ammonia, Urea                                                                          5 \n",
       "Polyethylene Terephthalate (PET)                                                       5 \n",
       "Blue Ammonia                                                                           4 \n",
       "Blue Ammonia, Ammonia Fuel                                                             4 \n",
       "Specialty Polymers                                                                     3 \n",
       "Blue Hydrogen, Ammonia Fuel, Blue Ammonia                                              2 \n",
       "Polypropylene                                                                          2 \n",
       "Ammonia Fuel                                                                           2 \n",
       "Carbon Black                                                                           2 \n",
       "Linear Alpha Olefins                                                                   2 \n",
       "MEG, Ethylene                                                                          2 \n",
       "Blue Hydrogen, Blue Ammonia, Ammonia Fuel                                              2 \n",
       "Polyvinyl chloride (PVC)                                                               2 \n",
       "Green Ammonia                                                                          2 \n",
       "1-Hexene                                                                               2 \n",
       "MDI                                                                                    2 \n",
       "MMA                                                                                    2 \n",
       "Alkoxylates                                                                            2 \n",
       "Ethylene, Polyethylene                                                                 2 \n",
       "Polyurethane, Polycarbonate                                                            1 \n",
       "Ethylene Oxide, Ethylene Glycol                                                        1 \n",
       "1-Hexene, 1-Octene                                                                     1 \n",
       "Butadiene                                                                              1 \n",
       "Ethylene, HDPE                                                                         1 \n",
       "Ammonia, Urea, Nitric Acid, Urea Ammonium Nitrate (UAN)                                1 \n",
       "Caprolactone Polyol                                                                    1 \n",
       "Nitric Acid, Ammonia                                                                   1 \n",
       "Urea, Ammonia, Nitric Acid                                                             1 \n",
       "Adipic Acid                                                                            1 \n",
       "Nitric Acid                                                                            1 \n",
       "LDPE, LLDPE, Ethylene                                                                  1 \n",
       "Vinyl Chloride Monomer (VCM), Hydrochloric Acid (HCl)                                  1 \n",
       "Polyethylene Terephthalate (PET), Terephthalic Acid (PTA)                              1 \n",
       "LLDPE, HDPE                                                                            1 \n",
       "Ammonia, Nitric Acid, Urea, Urea Ammonium Nitrate (UAN), Diesel Exhaust Fluid (DEF)    1 \n",
       "Urea, Ammonia                                                                          1 \n",
       "Urea, Nitric Acid, Diesel Exhaust Fluid (DEF), Ammonia                                 1 \n",
       "Ethylene, MEG, LDPE                                                                    1 \n",
       "Plasticizers                                                                           1 \n",
       "Vinyl Chloride Monomer (VCM), Ethylene Dichloride (EDC)                                1 \n",
       "LDPE                                                                                   1 \n",
       "Ethylene, Propylene                                                                    1 \n",
       "Propylene Oxide (PO), Tertiary Butyl Alcohol (TBA)                                     1 \n",
       "Terephthalic Acid (PTA)                                                                1 \n",
       "HDPE, Ethylene, LDPE                                                                   1 \n",
       "Polypropylene, Propylene                                                               1 \n",
       "Blue Hydrogen, Blue Ammonia                                                            1 \n",
       "Ammonia, Urea, Diesel Exhaust Fluid (DEF), Urea Ammonium Nitrate (UAN)                 1 \n",
       "Blue Hydrogen, Blue Ammonia, Green Ammonia, Ammonia Fuel                               1 \n",
       "Green Ammonia, Green Hydrogen, Ammonia Fuel                                            1 \n",
       "Carbon Black, Ammonia                                                                  1 \n",
       "Blue Hydrogen, Blue Ammonia, Urea, Diesel Exhaust Fluid (DEF)                          1 \n",
       "Urea, Nitric Acid, Blue Ammonia, Ammonia Fuel                                          1 \n",
       "Hydrochloric Acid (HCl)                                                                1 \n",
       "Ammonia Fuel, Blue Ammonia, Blue Hydrogen                                              1 \n",
       "Nitric Acid, Urea Ammonium Nitrate (UAN)                                               1 \n",
       "Ammonia Fuel, Blue Ammonia                                                             1 \n",
       "Chlor-Alkali                                                                           1 \n",
       "Urea Ammonium Nitrate (UAN)                                                            1 \n",
       "Vinyl Chloride Monomer (VCM)                                                           1 \n",
       "Blue Ammonia, Blue Hydrogen, Ammonia Fuel, Hydrogen Fuel                               1 \n",
       "Ethylene, Ethylene Glycol, Propylene, HDPE, LDPE, Polypropylene                        1 \n",
       "Blue Hydrogen, Hydrogen Fuel                                                           1 \n",
       "Ammonia, Nitric Acid                                                                   1 \n",
       "Urea                                                                                   1 \n",
       "Liquid Ammonium Nitrate (ANSOL)                                                        1 \n",
       "Ammonia Fuel, Blue Ammonia, Green Ammonia                                              1 \n",
       "HDPE                                                                                   1 \n",
       "Vinyl Chloride Monomer (VCM), Ethylene Dichloride (EDC), Polyvinyl chloride (PVC)      1 \n",
       "Adiponitrile (ADN)                                                                     1 \n",
       "Urea, Diesel Exhaust Fluid (DEF)                                                       1 \n",
       "Urea, Ammonia, Urea Ammonium Nitrate (UAN)                                             1 \n",
       "MEG                                                                                    1 \n",
       "Green Ammonia, Ammonia Fuel, Green Hydrogen                                            1 \n",
       "Name: Product Type, dtype: Int64"
      ]
     },
     "execution_count": 66,
     "metadata": {},
     "output_type": "execute_result"
    }
   ],
   "source": [
    "proj['Product Type'].value_counts()"
   ]
  },
  {
   "cell_type": "code",
   "execution_count": 67,
   "id": "cac60915",
   "metadata": {},
   "outputs": [
    {
     "data": {
      "text/plain": [
       "Ethylene                            38\n",
       "Ammonia                             25\n",
       "Blue Ammonia                        20\n",
       "Ammonia Fuel                        18\n",
       "Urea                                16\n",
       "Propylene                           15\n",
       "Polyethylene                        11\n",
       "Blue Hydrogen                       10\n",
       "Nitric Acid                         9 \n",
       "Polyethylene Terephthalate (PET)    6 \n",
       "Green Ammonia                       6 \n",
       "Urea Ammonium Nitrate (UAN)         6 \n",
       "HDPE                                5 \n",
       "Diesel Exhaust Fluid (DEF)          5 \n",
       "LDPE                                5 \n",
       "MEG                                 4 \n",
       "Polypropylene                       4 \n",
       "Vinyl Chloride Monomer (VCM)        4 \n",
       "1-Hexene                            3 \n",
       "Carbon Black                        3 \n",
       "Specialty Polymers                  3 \n",
       "Polyvinyl chloride (PVC)            3 \n",
       "Hydrochloric Acid (HCl)             2 \n",
       "Ethylene Glycol                     2 \n",
       "Terephthalic Acid (PTA)             2 \n",
       "MMA                                 2 \n",
       "LLDPE                               2 \n",
       "Green Hydrogen                      2 \n",
       "Hydrogen Fuel                       2 \n",
       "Alkoxylates                         2 \n",
       "Linear Alpha Olefins                2 \n",
       "Ethylene Dichloride (EDC)           2 \n",
       "MDI                                 2 \n",
       "Propylene Oxide (PO)                1 \n",
       "Butadiene                           1 \n",
       "Polyurethane                        1 \n",
       "Polycarbonate                       1 \n",
       "Chlor-Alkali                        1 \n",
       "Caprolactone Polyol                 1 \n",
       "1-Octene                            1 \n",
       "Tertiary Butyl Alcohol (TBA)        1 \n",
       "Ethylene Oxide                      1 \n",
       "Adiponitrile (ADN)                  1 \n",
       "Adipic Acid                         1 \n",
       "Plasticizers                        1 \n",
       "Liquid Ammonium Nitrate (ANSOL)     1 \n",
       "dtype: Int64"
      ]
     },
     "execution_count": 67,
     "metadata": {},
     "output_type": "execute_result"
    }
   ],
   "source": [
    "# split and combine value counts\n",
    "proj['Product Type'].str.split(',', expand=True).stack().str.strip().value_counts()"
   ]
  },
  {
   "cell_type": "markdown",
   "id": "d5bbb4bd-42d3-410a-8591-3d2631e583dc",
   "metadata": {},
   "source": [
    "#### Operating Status\n",
    "Just need to replace \"Unknown\" with Null"
   ]
  },
  {
   "cell_type": "code",
   "execution_count": 58,
   "id": "45fb31c0-684c-4574-89fa-7effc3e8e18e",
   "metadata": {},
   "outputs": [
    {
     "data": {
      "text/plain": [
       "Operating              422\n",
       "Pre-construction       209\n",
       "Announced              162\n",
       "Under construction     54 \n",
       "Canceled               39 \n",
       "Partially operating    27 \n",
       "On hold                21 \n",
       "Commissioning          2  \n",
       "Unknown                1  \n",
       "Name: Operating Status, dtype: Int64"
      ]
     },
     "execution_count": 58,
     "metadata": {},
     "output_type": "execute_result"
    }
   ],
   "source": [
    "proj['Operating Status'].value_counts()"
   ]
  },
  {
   "cell_type": "markdown",
   "id": "5d8ec8bf-d7e1-4177-bc2d-7545275818f6",
   "metadata": {
    "tags": []
   },
   "source": [
    "### Type Validation\n",
    "Already did this while doing range validation, but `Hazardous Air Pollutants (HAPs)`and `Project Cost` require parsing duplicative csv array values in what should be a numeric column. Also, `Number of Jobs Promised` needs parsing into two columns: permanent and temporary jobs."
   ]
  },
  {
   "cell_type": "markdown",
   "id": "1624b5ad-b9c7-4df4-b8a4-8342928608e6",
   "metadata": {},
   "source": [
    "#### Completion Year\n",
    "I started converting this to numeric, but would have to model multi-valued items. I think the benefit (sorting, quantitative analysis) is small relative to 1) the cost it will take to communicate the modeling and 2) actually doing the modelling. I think we have other fields we would filter on first."
   ]
  },
  {
   "cell_type": "code",
   "execution_count": 59,
   "id": "ab166cce-83fa-4c9f-9003-e445c7c62a27",
   "metadata": {},
   "outputs": [
    {
     "data": {
      "text/plain": [
       "<AxesSubplot: >"
      ]
     },
     "execution_count": 59,
     "metadata": {},
     "output_type": "execute_result"
    },
    {
     "data": {
      "image/png": "[encoded data removed]",
      "text/plain": [
       "<Figure size 640x480 with 1 Axes>"
      ]
     },
     "metadata": {},
     "output_type": "display_data"
    }
   ],
   "source": [
    "proj['Actual or Expected Completion Year'].str.len().hist(bins=40)"
   ]
  },
  {
   "cell_type": "code",
   "execution_count": 60,
   "id": "28e1b210-1aaa-419a-ac4f-5b3b39bb492c",
   "metadata": {},
   "outputs": [
    {
     "data": {
      "text/plain": [
       "553    126\n",
       "328    79 \n",
       "291    19 \n",
       "611    19 \n",
       "54     14 \n",
       "91     14 \n",
       "147    14 \n",
       "201    14 \n",
       "Name: Actual or Expected Completion Year, dtype: Int64"
      ]
     },
     "execution_count": 60,
     "metadata": {},
     "output_type": "execute_result"
    }
   ],
   "source": [
    "proj['Actual or Expected Completion Year'].str.len().nlargest(8)"
   ]
  },
  {
   "cell_type": "code",
   "execution_count": 61,
   "id": "fdfc579c-b3ad-4948-bd80-26b4eccb2900",
   "metadata": {},
   "outputs": [
    {
     "data": {
      "text/plain": [
       "553    Train 5 began operating in 2019. Commissioning of Train 6 began in November 2021, with full completion expected in early 2022.\n",
       "328    Trains 1 and 2 began operating in 2016. Trains 3 and 4 began operating in 2017.                                               \n",
       "291    2014/2017/2019/2021                                                                                                           \n",
       "611    2015/2018/2020/2022                                                                                                           \n",
       "54     2019/2020/2026                                                                                                                \n",
       "91     2018/2019/2021                                                                                                                \n",
       "147    2029/2030/2031                                                                                                                \n",
       "201    2018/2020/2021                                                                                                                \n",
       "Name: Actual or Expected Completion Year, dtype: string"
      ]
     },
     "execution_count": 61,
     "metadata": {},
     "output_type": "execute_result"
    }
   ],
   "source": [
    "proj.loc[\n",
    "    proj[\"Actual or Expected Completion Year\"].str.len().nlargest(8).index,\n",
    "    \"Actual or Expected Completion Year\",\n",
    "]"
   ]
  },
  {
   "cell_type": "markdown",
   "id": "4c493fbe-f311-44a9-a218-361d4a9dbea8",
   "metadata": {
    "tags": []
   },
   "source": [
    "### Cross-Field Validation\n",
    "None really needed. I could check that the date columns are in a logical order (modified > created, for example) but I'm not planning to really use those columns. So I skipped it."
   ]
  },
  {
   "cell_type": "code",
   "execution_count": 62,
   "id": "1536e47a",
   "metadata": {},
   "outputs": [
    {
     "name": "stdout",
     "output_type": "stream",
     "text": [
      "<class 'pandas.core.frame.DataFrame'>\n",
      "RangeIndex: 938 entries, 0 to 937\n",
      "Data columns (total 41 columns):\n",
      " #   Column                                       Non-Null Count  Dtype  \n",
      "---  ------                                       --------------  -----  \n",
      " 0   id                                           938 non-null    Int32  \n",
      " 1   name                                         938 non-null    string \n",
      " 2   created_on                                   938 non-null    string \n",
      " 3   modified_on                                  938 non-null    string \n",
      " 4   Facility (ID)                                936 non-null    float64\n",
      " 5   Facility                                     936 non-null    string \n",
      " 6   CCS (ID)                                     19 non-null     float64\n",
      " 7   CCS                                          60 non-null     string \n",
      " 8   Project Description                          934 non-null    string \n",
      " 9   Classification                               936 non-null    string \n",
      " 10  Industry Sector                              937 non-null    string \n",
      " 11  Project Type                                 936 non-null    string \n",
      " 12  Product Type                                 163 non-null    string \n",
      " 13  Air Construction (ID)                        682 non-null    string \n",
      " 14  Air Construction                             682 non-null    string \n",
      " 15  Air Operating (ID)                           30 non-null     string \n",
      " 16  Air Operating                                30 non-null     string \n",
      " 17  NGA (ID)                                     220 non-null    string \n",
      " 18  NGA                                          220 non-null    string \n",
      " 19  MARAD (ID)                                   13 non-null     float64\n",
      " 20  MARAD                                        13 non-null     string \n",
      " 21  Other Permits (ID)                           64 non-null     string \n",
      " 22  Other Permits                                64 non-null     string \n",
      " 23  Greenhouse Gases (CO2e)                      588 non-null    float64\n",
      " 24  Particulate Matter (PM2.5)                   729 non-null    float64\n",
      " 25  Nitrogen Oxides (NOx)                        734 non-null    float64\n",
      " 26  Volatile Organic Compounds (VOC)             745 non-null    float64\n",
      " 27  Sulfur Dioxide (SO2)                         727 non-null    float64\n",
      " 28  Carbon Monoxide (CO)                         737 non-null    float64\n",
      " 29  Hazardous Air Pollutants (HAPs)              434 non-null    float64\n",
      " 30  Total Wetlands Affected Temporarily (acres)  59 non-null     string \n",
      " 31  Total Wetlands Affected Permanently (acres)  60 non-null     float64\n",
      " 32  Detailed Permitting History                  295 non-null    string \n",
      " 33  Emission Accounting Notes                    674 non-null    string \n",
      " 34  Construction Status Last Updated             571 non-null    string \n",
      " 35  Operating Status                             937 non-null    string \n",
      " 36  Actual or Expected Completion Year           929 non-null    string \n",
      " 37  Project Cost (million $)                     185 non-null    float64\n",
      " 38  Number of Jobs Promised                      156 non-null    string \n",
      " 39  Target List                                  168 non-null    string \n",
      " 40  raw_haps                                     434 non-null    string \n",
      "dtypes: Int32(1), float64(12), string(28)\n",
      "memory usage: 297.8 KB\n"
     ]
    }
   ],
   "source": [
    "proj.info()"
   ]
  },
  {
   "cell_type": "code",
   "execution_count": 63,
   "id": "97fc2c16",
   "metadata": {},
   "outputs": [],
   "source": [
    "from dbcp.transform.eip_infrastructure import projects_transform"
   ]
  },
  {
   "cell_type": "code",
   "execution_count": 68,
   "id": "211bfb8e",
   "metadata": {},
   "outputs": [],
   "source": [
    "trans = projects_transform(extract(path)['eip_projects'])"
   ]
  },
  {
   "cell_type": "code",
   "execution_count": 69,
   "id": "47073dbe",
   "metadata": {},
   "outputs": [
    {
     "name": "stdout",
     "output_type": "stream",
     "text": [
      "<class 'pandas.core.frame.DataFrame'>\n",
      "RangeIndex: 938 entries, 0 to 937\n",
      "Data columns (total 44 columns):\n",
      " #   Column                                         Non-Null Count  Dtype         \n",
      "---  ------                                         --------------  -----         \n",
      " 0   project_id                                     938 non-null    Int32         \n",
      " 1   name                                           938 non-null    string        \n",
      " 2   raw_created_on                                 938 non-null    string        \n",
      " 3   raw_modified_on                                938 non-null    string        \n",
      " 4   raw_facility_id                                936 non-null    float64       \n",
      " 5   raw_ccs_id                                     19 non-null     float64       \n",
      " 6   raw_is_ccs                                     60 non-null     string        \n",
      " 7   project_description                            934 non-null    string        \n",
      " 8   classification                                 936 non-null    string        \n",
      " 9   raw_industry_sector                            937 non-null    string        \n",
      " 10  raw_project_type                               936 non-null    string        \n",
      " 11  raw_product_type                               163 non-null    string        \n",
      " 12  raw_air_construction_id                        682 non-null    string        \n",
      " 13  raw_air_operating_id                           30 non-null     string        \n",
      " 14  raw_nga_id                                     220 non-null    string        \n",
      " 15  raw_marad_id                                   13 non-null     float64       \n",
      " 16  raw_other_permits_id                           64 non-null     string        \n",
      " 17  greenhouse_gases_co2e_tpy                      588 non-null    float64       \n",
      " 18  particulate_matter_pm2_5_tpy                   729 non-null    float64       \n",
      " 19  nitrogen_oxides_nox_tpy                        734 non-null    float64       \n",
      " 20  volatile_organic_compounds_voc_tpy             745 non-null    float64       \n",
      " 21  sulfur_dioxide_so2_tpy                         727 non-null    float64       \n",
      " 22  carbon_monoxide_co_tpy                         737 non-null    float64       \n",
      " 23  raw_hazardous_air_pollutants_haps              434 non-null    string        \n",
      " 24  raw_total_wetlands_affected_temporarily_acres  59 non-null     string        \n",
      " 25  total_wetlands_affected_permanently_acres      60 non-null     float64       \n",
      " 26  detailed_permitting_history                    295 non-null    string        \n",
      " 27  raw_emission_accounting_notes                  674 non-null    string        \n",
      " 28  raw_construction_status_last_updated           571 non-null    string        \n",
      " 29  raw_operating_status                           937 non-null    string        \n",
      " 30  raw_actual_or_expected_completion_year         929 non-null    string        \n",
      " 31  raw_project_cost_millions                      185 non-null    float64       \n",
      " 32  raw_number_of_jobs_promised                    156 non-null    string        \n",
      " 33  raw_is_ally_target                             168 non-null    string        \n",
      " 34  is_ccs                                         60 non-null     boolean       \n",
      " 35  is_ally_target                                 168 non-null    boolean       \n",
      " 36  hazardous_air_pollutants_haps_tpy              434 non-null    float64       \n",
      " 37  total_wetlands_affected_temporarily_acres      59 non-null     float64       \n",
      " 38  cost_millions                                  185 non-null    float64       \n",
      " 39  date_modified                                  938 non-null    datetime64[ns]\n",
      " 40  operating_status                               936 non-null    string        \n",
      " 41  industry_sector                                937 non-null    string        \n",
      " 42  project_type                                   936 non-null    string        \n",
      " 43  product_type                                   163 non-null    string        \n",
      "dtypes: Int32(1), boolean(2), datetime64[ns](1), float64(14), string(26)\n",
      "memory usage: 308.8 KB\n"
     ]
    }
   ],
   "source": [
    "trans.info()"
   ]
  }
 ],
 "metadata": {
  "kernelspec": {
   "display_name": "Python 3 (ipykernel)",
   "language": "python",
   "name": "python3"
  },
  "language_info": {
   "codemirror_mode": {
    "name": "ipython",
    "version": 3
   },
   "file_extension": ".py",
   "mimetype": "text/x-python",
   "name": "python",
   "nbconvert_exporter": "python",
   "pygments_lexer": "ipython3",
   "version": "3.10.11"
  }
 },
 "nbformat": 4,
 "nbformat_minor": 5
}
