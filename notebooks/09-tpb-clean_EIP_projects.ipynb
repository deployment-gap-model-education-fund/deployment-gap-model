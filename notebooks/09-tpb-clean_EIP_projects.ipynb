{
 "cells": [
  {
   "cell_type": "code",
   "execution_count": 1,
   "id": "e2c4ba01-efa8-41f4-93ab-85d9452d6fe2",
   "metadata": {},
   "outputs": [],
   "source": [
    "%load_ext autoreload"
   ]
  },
  {
   "cell_type": "code",
   "execution_count": 2,
   "id": "c5fc3217-d4ed-4e3e-8a98-6fdc06769175",
   "metadata": {},
   "outputs": [],
   "source": [
    "%autoreload 2"
   ]
  },
  {
   "cell_type": "code",
   "execution_count": 3,
   "id": "baeedb9e-01aa-4702-9a82-174d677751b9",
   "metadata": {},
   "outputs": [],
   "source": [
    "import pandas as pd\n",
    "import numpy as np\n",
    "from pathlib import Path"
   ]
  },
  {
   "cell_type": "code",
   "execution_count": 4,
   "id": "c6d862f9-e588-451c-a679-1176589b0705",
   "metadata": {},
   "outputs": [],
   "source": [
    "path = Path('/app/data/raw/2022.03.22OGW.xlsx')\n",
    "assert path.exists()"
   ]
  },
  {
   "cell_type": "code",
   "execution_count": 5,
   "id": "89f17641-8b0d-45dd-970c-a3faa79e17b0",
   "metadata": {},
   "outputs": [],
   "source": [
    "# eip = dbcp.extract.eip_infrastructure.extract(path)\n",
    "# hardcode the extract function so this notebook can be easily rerun in the future without maintenance\n",
    "proj = pd.read_excel(path, sheet_name='Project')"
   ]
  },
  {
   "cell_type": "code",
   "execution_count": 6,
   "id": "956821db-2798-467e-ba75-78534afcd85a",
   "metadata": {},
   "outputs": [],
   "source": [
    "pd.options.display.max_columns = 100\n",
    "pd.options.display.max_rows = 100"
   ]
  },
  {
   "cell_type": "code",
   "execution_count": 7,
   "id": "f20883b9-8047-4f50-935b-14afb51d6bc3",
   "metadata": {},
   "outputs": [
    {
     "data": {
      "text/plain": [
       "(672, 47)"
      ]
     },
     "execution_count": 7,
     "metadata": {},
     "output_type": "execute_result"
    }
   ],
   "source": [
    "proj.shape"
   ]
  },
  {
   "cell_type": "markdown",
   "id": "ca8a087d-f556-4cb2-b9a7-540ab84a27a6",
   "metadata": {},
   "source": [
    "# Cleaning\n",
    "## Projects Cleaning\n",
    "- [x] Accuracy\n",
    "- [x] Atomicity\n",
    "- [ ] Consistency\n",
    "- [x] Completeness\n",
    "- [x] Uniformity\n",
    "- [x] Validity\n",
    "    - [x] Range Validation\n",
    "    - [x] Uniqueness Validation\n",
    "    - [x] Set Membership Validation\n",
    "    - [x] Type Validation\n",
    "    - [x] Cross-Field Validation"
   ]
  },
  {
   "cell_type": "markdown",
   "id": "ff749ff2-dea9-4d5b-ac51-950666adc19a",
   "metadata": {},
   "source": [
    "### Accuracy\n",
    "The biggest accuracy risks for this dataset are probably 1) bad reporting to the EPA (would take a huge research effort to double check that) and 2) transcription errors by EIP between the PDFs and the database. I'll do a little spot check to guard againt the second.\n",
    "\n",
    "Results: I only checked 3 facilities but still managed to find conflicting information about CO2e numbers 😕"
   ]
  },
  {
   "cell_type": "code",
   "execution_count": 11,
   "id": "90eeaf6e-e70e-4b7f-bbc3-7f9913d28884",
   "metadata": {},
   "outputs": [
    {
     "data": {
      "text/html": [
       "<div>\n",
       "<style scoped>\n",
       "    .dataframe tbody tr th:only-of-type {\n",
       "        vertical-align: middle;\n",
       "    }\n",
       "\n",
       "    .dataframe tbody tr th {\n",
       "        vertical-align: top;\n",
       "    }\n",
       "\n",
       "    .dataframe thead th {\n",
       "        text-align: right;\n",
       "    }\n",
       "</style>\n",
       "<table border=\"1\" class=\"dataframe\">\n",
       "  <thead>\n",
       "    <tr style=\"text-align: right;\">\n",
       "      <th></th>\n",
       "      <th>id</th>\n",
       "      <th>name</th>\n",
       "      <th>created_by</th>\n",
       "      <th>created_on</th>\n",
       "      <th>modified_by</th>\n",
       "      <th>modified_on</th>\n",
       "      <th>private</th>\n",
       "      <th>Facility (ID)</th>\n",
       "      <th>Facility</th>\n",
       "      <th>Project Description</th>\n",
       "      <th>Classification</th>\n",
       "      <th>Industry Sector</th>\n",
       "      <th>Project Type</th>\n",
       "      <th>Product Type (Private, AS)</th>\n",
       "      <th>Air Construction (ID)</th>\n",
       "      <th>Air Construction</th>\n",
       "      <th>Air Operating (ID)</th>\n",
       "      <th>Air Operating</th>\n",
       "      <th>NGA (ID)</th>\n",
       "      <th>NGA</th>\n",
       "      <th>MARAD (ID)</th>\n",
       "      <th>MARAD</th>\n",
       "      <th>Other Permits (ID)</th>\n",
       "      <th>Other Permits</th>\n",
       "      <th>Greenhouse Gases (CO2e)</th>\n",
       "      <th>Particulate Matter (PM2.5)</th>\n",
       "      <th>Nitrogen Oxides (NOx)</th>\n",
       "      <th>Volatile Organic Compounds (VOC)</th>\n",
       "      <th>Sulfur Dioxide (SO2)</th>\n",
       "      <th>Carbon Monoxide (CO)</th>\n",
       "      <th>Hazardous Air Pollutants (HAPs)</th>\n",
       "      <th>Total Wetlands Affected Temporarily (acres)</th>\n",
       "      <th>Total Wetlands Affected Permanently (acres)</th>\n",
       "      <th>Detailed Permitting History</th>\n",
       "      <th>Emission Accounting Notes</th>\n",
       "      <th>Construction Status Last Updated</th>\n",
       "      <th>Operating Status</th>\n",
       "      <th>Actual or Expected Completion Year</th>\n",
       "      <th>Operating Status Sources and Notes</th>\n",
       "      <th>Operating Status Source Document(s)</th>\n",
       "      <th>Operating Status Notes</th>\n",
       "      <th>Project Cost (million $)</th>\n",
       "      <th>Number of Jobs Promised</th>\n",
       "      <th>Research Notes</th>\n",
       "      <th>Bloomberg Target List</th>\n",
       "      <th>Bloomberg Secondary Target List</th>\n",
       "      <th>Bloomberg Flag</th>\n",
       "    </tr>\n",
       "  </thead>\n",
       "  <tbody>\n",
       "    <tr>\n",
       "      <th>361</th>\n",
       "      <td>3091</td>\n",
       "      <td>Sinton Compressor Station - Initial Construction</td>\n",
       "      <td>EIP Test Account</td>\n",
       "      <td>2021-05-24T22:56:59.087382</td>\n",
       "      <td>Alexandra Shaykevich</td>\n",
       "      <td>2022-01-18T20:34:12.439103</td>\n",
       "      <td>False</td>\n",
       "      <td>1070</td>\n",
       "      <td>Sinton Compressor Station[1070]</td>\n",
       "      <td>Construction of a new compressor station as pa...</td>\n",
       "      <td>New</td>\n",
       "      <td>Natural Gas</td>\n",
       "      <td>Compressor Station</td>\n",
       "      <td>NaN</td>\n",
       "      <td>1755</td>\n",
       "      <td>136544[1755]</td>\n",
       "      <td>NaN</td>\n",
       "      <td>NaN</td>\n",
       "      <td>3476, 3610, 4625</td>\n",
       "      <td>CP18-512 and CP18-513[3476], CP12-507 and CP12...</td>\n",
       "      <td>NaN</td>\n",
       "      <td>NaN</td>\n",
       "      <td>NaN</td>\n",
       "      <td>NaN</td>\n",
       "      <td>450475.0</td>\n",
       "      <td>21.12</td>\n",
       "      <td>175.24</td>\n",
       "      <td>26.73</td>\n",
       "      <td>43.71</td>\n",
       "      <td>179.10</td>\n",
       "      <td>7.8000</td>\n",
       "      <td>NaN</td>\n",
       "      <td>NaN</td>\n",
       "      <td>TCEQ Permit no. 136544 (issued 1/5/2016; revis...</td>\n",
       "      <td>Criteria emissions updated w/ values in most r...</td>\n",
       "      <td>NaN</td>\n",
       "      <td>Operating</td>\n",
       "      <td>2018</td>\n",
       "      <td>In-service notification for the CC LNG Pipelin...</td>\n",
       "      <td>{u'url': u'https://api.oilandgaswatch.org/d/ab...</td>\n",
       "      <td>NaN</td>\n",
       "      <td>NaN</td>\n",
       "      <td>NaN</td>\n",
       "      <td>NaN</td>\n",
       "      <td>NaN</td>\n",
       "      <td>NaN</td>\n",
       "      <td>NaN</td>\n",
       "    </tr>\n",
       "    <tr>\n",
       "      <th>158</th>\n",
       "      <td>2884</td>\n",
       "      <td>Golden Pass LNG Export Terminal - Initial Cons...</td>\n",
       "      <td>EIP Test Account</td>\n",
       "      <td>2021-05-24T22:56:59.087382</td>\n",
       "      <td>Kira Burkhart</td>\n",
       "      <td>2022-02-24T19:27:42.761184</td>\n",
       "      <td>False</td>\n",
       "      <td>883</td>\n",
       "      <td>Golden Pass LNG Export Terminal[883]</td>\n",
       "      <td>Construction of a 15.6 million tpy natural gas...</td>\n",
       "      <td>Expansion</td>\n",
       "      <td>Liquefied Natural Gas</td>\n",
       "      <td>Liquefied Natural Gas Terminal or Liquefaction...</td>\n",
       "      <td>NaN</td>\n",
       "      <td>1974</td>\n",
       "      <td>116055, PSDTX1386, and GHGPSDTX100[1974]</td>\n",
       "      <td>NaN</td>\n",
       "      <td>NaN</td>\n",
       "      <td>3439, 4569, 3556</td>\n",
       "      <td>CP14-517 and CP14-518[3439], CP20-459[4569], C...</td>\n",
       "      <td>NaN</td>\n",
       "      <td>NaN</td>\n",
       "      <td>NaN</td>\n",
       "      <td>NaN</td>\n",
       "      <td>4940072.0</td>\n",
       "      <td>118.91</td>\n",
       "      <td>670.89</td>\n",
       "      <td>256.51</td>\n",
       "      <td>9.42</td>\n",
       "      <td>843.93</td>\n",
       "      <td>NaN</td>\n",
       "      <td>388.0</td>\n",
       "      <td>376.0</td>\n",
       "      <td>GHGPSDTX100 (issued 9/11/2015), 116055 and PSD...</td>\n",
       "      <td>App to modify permit 116055 to utilize \"altern...</td>\n",
       "      <td>2022-02-24</td>\n",
       "      <td>Under construction</td>\n",
       "      <td>2024/2026</td>\n",
       "      <td>GPLNG commenced construction of the export fac...</td>\n",
       "      <td>NaN</td>\n",
       "      <td>NaN</td>\n",
       "      <td>NaN</td>\n",
       "      <td>NaN</td>\n",
       "      <td>FEED contract awarded to Chiyoda Corp; EPC awa...</td>\n",
       "      <td>NaN</td>\n",
       "      <td>NaN</td>\n",
       "      <td>NaN</td>\n",
       "    </tr>\n",
       "    <tr>\n",
       "      <th>481</th>\n",
       "      <td>3925</td>\n",
       "      <td>NGPL Gulf Coast Southbound Project - NGPL Comp...</td>\n",
       "      <td>EIP Support</td>\n",
       "      <td>2021-09-03T18:26:42.450697</td>\n",
       "      <td>Louisa Markow</td>\n",
       "      <td>2021-12-02T20:56:24.254837</td>\n",
       "      <td>False</td>\n",
       "      <td>3826</td>\n",
       "      <td>NGPL Compressor Station 394[3826]</td>\n",
       "      <td>Expansion of an existing compressor station as...</td>\n",
       "      <td>Expansion</td>\n",
       "      <td>Natural Gas</td>\n",
       "      <td>Compressor Station</td>\n",
       "      <td>NaN</td>\n",
       "      <td>NaN</td>\n",
       "      <td>NaN</td>\n",
       "      <td>NaN</td>\n",
       "      <td>NaN</td>\n",
       "      <td>3512</td>\n",
       "      <td>CP19-99[3512]</td>\n",
       "      <td>NaN</td>\n",
       "      <td>NaN</td>\n",
       "      <td>NaN</td>\n",
       "      <td>NaN</td>\n",
       "      <td>173.4</td>\n",
       "      <td>0.00</td>\n",
       "      <td>0.00</td>\n",
       "      <td>0.07</td>\n",
       "      <td>0</td>\n",
       "      <td>0.00</td>\n",
       "      <td>0.0063</td>\n",
       "      <td>NaN</td>\n",
       "      <td>NaN</td>\n",
       "      <td>NaN</td>\n",
       "      <td>NaN</td>\n",
       "      <td>NaN</td>\n",
       "      <td>Operating</td>\n",
       "      <td>2023</td>\n",
       "      <td>NaN</td>\n",
       "      <td>NaN</td>\n",
       "      <td>NaN</td>\n",
       "      <td>NaN</td>\n",
       "      <td>NaN</td>\n",
       "      <td>pg 49 (Table 12) https://elibrary.ferc.gov/idm...</td>\n",
       "      <td>NaN</td>\n",
       "      <td>NaN</td>\n",
       "      <td>NaN</td>\n",
       "    </tr>\n",
       "  </tbody>\n",
       "</table>\n",
       "</div>"
      ],
      "text/plain": [
       "       id                                               name  \\\n",
       "361  3091   Sinton Compressor Station - Initial Construction   \n",
       "158  2884  Golden Pass LNG Export Terminal - Initial Cons...   \n",
       "481  3925  NGPL Gulf Coast Southbound Project - NGPL Comp...   \n",
       "\n",
       "           created_by                  created_on           modified_by  \\\n",
       "361  EIP Test Account  2021-05-24T22:56:59.087382  Alexandra Shaykevich   \n",
       "158  EIP Test Account  2021-05-24T22:56:59.087382         Kira Burkhart   \n",
       "481       EIP Support  2021-09-03T18:26:42.450697         Louisa Markow   \n",
       "\n",
       "                    modified_on  private Facility (ID)  \\\n",
       "361  2022-01-18T20:34:12.439103    False          1070   \n",
       "158  2022-02-24T19:27:42.761184    False           883   \n",
       "481  2021-12-02T20:56:24.254837    False          3826   \n",
       "\n",
       "                                 Facility  \\\n",
       "361       Sinton Compressor Station[1070]   \n",
       "158  Golden Pass LNG Export Terminal[883]   \n",
       "481     NGPL Compressor Station 394[3826]   \n",
       "\n",
       "                                   Project Description Classification  \\\n",
       "361  Construction of a new compressor station as pa...            New   \n",
       "158  Construction of a 15.6 million tpy natural gas...      Expansion   \n",
       "481  Expansion of an existing compressor station as...      Expansion   \n",
       "\n",
       "           Industry Sector                                       Project Type  \\\n",
       "361            Natural Gas                                 Compressor Station   \n",
       "158  Liquefied Natural Gas  Liquefied Natural Gas Terminal or Liquefaction...   \n",
       "481            Natural Gas                                 Compressor Station   \n",
       "\n",
       "    Product Type (Private, AS) Air Construction (ID)  \\\n",
       "361                        NaN                  1755   \n",
       "158                        NaN                  1974   \n",
       "481                        NaN                   NaN   \n",
       "\n",
       "                             Air Construction Air Operating (ID)  \\\n",
       "361                              136544[1755]                NaN   \n",
       "158  116055, PSDTX1386, and GHGPSDTX100[1974]                NaN   \n",
       "481                                       NaN                NaN   \n",
       "\n",
       "    Air Operating          NGA (ID)  \\\n",
       "361           NaN  3476, 3610, 4625   \n",
       "158           NaN  3439, 4569, 3556   \n",
       "481           NaN              3512   \n",
       "\n",
       "                                                   NGA  MARAD (ID) MARAD  \\\n",
       "361  CP18-512 and CP18-513[3476], CP12-507 and CP12...         NaN   NaN   \n",
       "158  CP14-517 and CP14-518[3439], CP20-459[4569], C...         NaN   NaN   \n",
       "481                                      CP19-99[3512]         NaN   NaN   \n",
       "\n",
       "     Other Permits (ID) Other Permits  Greenhouse Gases (CO2e)  \\\n",
       "361                 NaN           NaN                 450475.0   \n",
       "158                 NaN           NaN                4940072.0   \n",
       "481                 NaN           NaN                    173.4   \n",
       "\n",
       "     Particulate Matter (PM2.5)  Nitrogen Oxides (NOx)  \\\n",
       "361                       21.12                 175.24   \n",
       "158                      118.91                 670.89   \n",
       "481                        0.00                   0.00   \n",
       "\n",
       "     Volatile Organic Compounds (VOC) Sulfur Dioxide (SO2)  \\\n",
       "361                             26.73                43.71   \n",
       "158                            256.51                 9.42   \n",
       "481                              0.07                    0   \n",
       "\n",
       "     Carbon Monoxide (CO)  Hazardous Air Pollutants (HAPs)  \\\n",
       "361                179.10                           7.8000   \n",
       "158                843.93                              NaN   \n",
       "481                  0.00                           0.0063   \n",
       "\n",
       "     Total Wetlands Affected Temporarily (acres)  \\\n",
       "361                                          NaN   \n",
       "158                                        388.0   \n",
       "481                                          NaN   \n",
       "\n",
       "     Total Wetlands Affected Permanently (acres)  \\\n",
       "361                                          NaN   \n",
       "158                                        376.0   \n",
       "481                                          NaN   \n",
       "\n",
       "                           Detailed Permitting History  \\\n",
       "361  TCEQ Permit no. 136544 (issued 1/5/2016; revis...   \n",
       "158  GHGPSDTX100 (issued 9/11/2015), 116055 and PSD...   \n",
       "481                                                NaN   \n",
       "\n",
       "                             Emission Accounting Notes  \\\n",
       "361  Criteria emissions updated w/ values in most r...   \n",
       "158  App to modify permit 116055 to utilize \"altern...   \n",
       "481                                                NaN   \n",
       "\n",
       "    Construction Status Last Updated    Operating Status  \\\n",
       "361                              NaN           Operating   \n",
       "158                       2022-02-24  Under construction   \n",
       "481                              NaN           Operating   \n",
       "\n",
       "    Actual or Expected Completion Year  \\\n",
       "361                               2018   \n",
       "158                          2024/2026   \n",
       "481                               2023   \n",
       "\n",
       "                    Operating Status Sources and Notes  \\\n",
       "361  In-service notification for the CC LNG Pipelin...   \n",
       "158  GPLNG commenced construction of the export fac...   \n",
       "481                                                NaN   \n",
       "\n",
       "                   Operating Status Source Document(s) Operating Status Notes  \\\n",
       "361  {u'url': u'https://api.oilandgaswatch.org/d/ab...                    NaN   \n",
       "158                                                NaN                    NaN   \n",
       "481                                                NaN                    NaN   \n",
       "\n",
       "    Project Cost (million $) Number of Jobs Promised  \\\n",
       "361                      NaN                     NaN   \n",
       "158                      NaN                     NaN   \n",
       "481                      NaN                     NaN   \n",
       "\n",
       "                                        Research Notes Bloomberg Target List  \\\n",
       "361                                                NaN                   NaN   \n",
       "158  FEED contract awarded to Chiyoda Corp; EPC awa...                   NaN   \n",
       "481  pg 49 (Table 12) https://elibrary.ferc.gov/idm...                   NaN   \n",
       "\n",
       "    Bloomberg Secondary Target List Bloomberg Flag  \n",
       "361                             NaN            NaN  \n",
       "158                             NaN            NaN  \n",
       "481                             NaN            NaN  "
      ]
     },
     "execution_count": 11,
     "metadata": {},
     "output_type": "execute_result"
    }
   ],
   "source": [
    "proj.sample(3, random_state=42)"
   ]
  },
  {
   "cell_type": "markdown",
   "id": "41e44fd6-625b-4f2f-b565-7146d2d697cf",
   "metadata": {},
   "source": [
    "Sinton Compresson Station: [permit](https://api.oilandgaswatch.org/d/98/f8/98f85e1d868f4e63966d01637fc5408c.1638199494.pdf) confirmed all emissions numbers EXCEPT GHG (not mentioned). I couldn't find a source for that 450,475 number. The [environmental impact statement](https://www.ferc.gov/sites/default/files/2020-05/corpuschristiFEIS.pdf) submitted to FERC claims only 155,000 tpy of CO2e.\n",
    "\n",
    "Golden Pass LNG Terminal: GHG numbers confirmed on page 25 of [the permit doc](https://api.oilandgaswatch.org/d/18/54/18545bea701e4bed938050997b308fdf.1638219234.pdf)\n",
    "\n",
    "NGPL Compressor Station: had to go digging for the docs, but found the [FERC Environmental Assessment](https://www.ferc.gov/sites/default/files/2020-04/CP19-99-EA.pdf) that confirms the 173.4 tpy CO2e numbers."
   ]
  },
  {
   "cell_type": "markdown",
   "id": "c26eb9fa-d49d-45d1-8bd0-55cfdd2bf79f",
   "metadata": {},
   "source": [
    "### Atomicity\n",
    "By inspection I see that all the ID and associated name fields can contain multiple values. I'll only worry about Facility IDs and Air Construction Permit IDs.\n",
    "\n",
    "On a related note, both the facilities table and the project table have a column linking the two. I'll have to combine them to get a complete association entity table."
   ]
  },
  {
   "cell_type": "markdown",
   "id": "d2cad23f-ae34-4def-8d92-f0170795324a",
   "metadata": {},
   "source": [
    "### Completeness\n",
    "For this purpose, I'll limit the scope of 'completeness' to only look at missing values within the data. For better or worse, it is EIP's job to ensure projects are in the dataset at all.\n",
    "\n",
    "We are not interested in already-operating projects, so I'll remove those and assess completeness based on the remaining subset.\n",
    "\n",
    "Notable missing values and lack of missing values:\n",
    "* all projects are linked to a facility ID!\n",
    "* all projects have an operating status\n",
    "* 95/308 (30.8%) are missing Air Construction Permit IDs. Likely because many of these projects are too new to have gone through the permitting process.\n",
    "* 86/308 (27.9%) are missing CO2e estimates. Same newness reason.\n",
    "\n",
    "For evidence of the \"too new to have a permit\" hypothesis, compare completeness of criteria pollutants before/after subsetting by operational status:\n",
    "* For all projects, only around 66/672 (9.8%) are missing criteria pollutants (NOx, VOC, CO, SO2, PM2.5)\n",
    "* For not-operational projects, 60/308 (19.5%) are missing criteria pollutants. So nearly all of the missing values."
   ]
  },
  {
   "cell_type": "code",
   "execution_count": 24,
   "id": "657869cb-3d9a-4aa8-b59b-effd1937e880",
   "metadata": {},
   "outputs": [],
   "source": [
    "def calc(num, denom=308):\n",
    "    percent = 1- num/denom\n",
    "    n = denom - num\n",
    "    return f\"{n}/{denom} ({percent*100:.1f}%)\""
   ]
  },
  {
   "cell_type": "code",
   "execution_count": 27,
   "id": "d800298e-66fc-4945-9391-c2cb64525ddc",
   "metadata": {},
   "outputs": [
    {
     "data": {
      "text/plain": [
       "'60/308 (19.5%)'"
      ]
     },
     "execution_count": 27,
     "metadata": {},
     "output_type": "execute_result"
    }
   ],
   "source": [
    "calc(248)"
   ]
  },
  {
   "cell_type": "code",
   "execution_count": 12,
   "id": "785834ff-c1b8-4a8b-a1ab-5ab1caaae064",
   "metadata": {},
   "outputs": [
    {
     "data": {
      "text/plain": [
       "672"
      ]
     },
     "execution_count": 12,
     "metadata": {},
     "output_type": "execute_result"
    }
   ],
   "source": [
    "len(proj)"
   ]
  },
  {
   "cell_type": "code",
   "execution_count": 22,
   "id": "f7f3e23e-18a4-4926-b9d3-97f1cedbefe2",
   "metadata": {},
   "outputs": [
    {
     "data": {
      "text/plain": [
       "Operating              364\n",
       "Pre-construction       170\n",
       "Announced               40\n",
       "Under construction      35\n",
       "Canceled                30\n",
       "Partially operating     16\n",
       "On hold                 15\n",
       "Unknown                  1\n",
       "Commissioning            1\n",
       "Name: Operating Status, dtype: int64"
      ]
     },
     "execution_count": 22,
     "metadata": {},
     "output_type": "execute_result"
    }
   ],
   "source": [
    "proj['Operating Status'].value_counts()"
   ]
  },
  {
   "cell_type": "code",
   "execution_count": 23,
   "id": "8e61e153-c971-4697-8519-111774343618",
   "metadata": {},
   "outputs": [
    {
     "data": {
      "text/plain": [
       "id                                             308\n",
       "name                                           308\n",
       "created_by                                     308\n",
       "created_on                                     308\n",
       "modified_by                                    308\n",
       "modified_on                                    308\n",
       "private                                        308\n",
       "Facility (ID)                                  308\n",
       "Facility                                       308\n",
       "Project Description                            303\n",
       "Classification                                 307\n",
       "Industry Sector                                308\n",
       "Project Type                                   308\n",
       "Product Type (Private, AS)                      61\n",
       "Air Construction (ID)                          213\n",
       "Air Construction                               213\n",
       "Air Operating (ID)                               6\n",
       "Air Operating                                    6\n",
       "NGA (ID)                                       115\n",
       "NGA                                            115\n",
       "MARAD (ID)                                      12\n",
       "MARAD                                           12\n",
       "Other Permits (ID)                              19\n",
       "Other Permits                                   19\n",
       "Greenhouse Gases (CO2e)                        222\n",
       "Particulate Matter (PM2.5)                     251\n",
       "Nitrogen Oxides (NOx)                          248\n",
       "Volatile Organic Compounds (VOC)               255\n",
       "Sulfur Dioxide (SO2)                           246\n",
       "Carbon Monoxide (CO)                           247\n",
       "Hazardous Air Pollutants (HAPs)                145\n",
       "Total Wetlands Affected Temporarily (acres)     20\n",
       "Total Wetlands Affected Permanently (acres)     21\n",
       "Detailed Permitting History                    119\n",
       "Emission Accounting Notes                      236\n",
       "Construction Status Last Updated               118\n",
       "Operating Status                               308\n",
       "Actual or Expected Completion Year             303\n",
       "Operating Status Sources and Notes             257\n",
       "Operating Status Source Document(s)             70\n",
       "Operating Status Notes                          52\n",
       "Project Cost (million $)                        69\n",
       "Number of Jobs Promised                         62\n",
       "Research Notes                                 206\n",
       "Bloomberg Target List                          114\n",
       "Bloomberg Secondary Target List                  6\n",
       "Bloomberg Flag                                  13\n",
       "dtype: int64"
      ]
     },
     "execution_count": 23,
     "metadata": {},
     "output_type": "execute_result"
    }
   ],
   "source": [
    "proj.loc[proj['Operating Status'].ne('Operating'),:].count().T"
   ]
  },
  {
   "cell_type": "markdown",
   "id": "ba7ce60a-5785-48bb-8e45-faedcb66ae50",
   "metadata": {},
   "source": [
    "### Consistency - defer\n",
    "Defer until I've cleaned the related datasets\n",
    "### Uniformity\n",
    "Important columns to check consistent representation:\n",
    "* ID fields (check consistent array delimiters)\n",
    "* all the emissions - check metric vs short tons\n",
    "\n",
    "Secondary importance:\n",
    "* modified_on\n",
    "* project cost (supposed to be in millions $)\n",
    "* jobs promised has inconsistent formatting/delimiters"
   ]
  },
  {
   "cell_type": "markdown",
   "id": "81618c73-29a6-4c6e-918e-35e315adc7c6",
   "metadata": {},
   "source": [
    "#### ID Fields\n",
    "Want to check for consistent array delimiters."
   ]
  },
  {
   "cell_type": "code",
   "execution_count": 28,
   "id": "4192a0cf-af5e-4ecc-9b99-a02372ac86cf",
   "metadata": {},
   "outputs": [
    {
     "data": {
      "text/plain": [
       "['Facility (ID)', 'Air Construction (ID)', 'Air Operating (ID)', 'NGA (ID)']"
      ]
     },
     "execution_count": 28,
     "metadata": {},
     "output_type": "execute_result"
    }
   ],
   "source": [
    "# exclude ID cols with numeric types (no arrays present)\n",
    "id_cols = [col for col in proj.columns if '(ID)' in col and pd.api.types.is_object_dtype(proj[col])]\n",
    "id_cols"
   ]
  },
  {
   "cell_type": "code",
   "execution_count": 29,
   "id": "61e14d01-63c2-48fb-bc94-24681e31aa8b",
   "metadata": {},
   "outputs": [],
   "source": [
    "# mandatory opening pattern, optional delimiter, optional repeating pattern, optional closing pattern, mandatory end of line\n",
    "array_pattern = r'(?:\\d{3,5})(?:, ?)?(?:\\d{3,5}, ?)*(?:\\d{3,5})?$'"
   ]
  },
  {
   "cell_type": "code",
   "execution_count": 30,
   "id": "4581b919-0f49-4e2d-bb26-7ef34de04e0c",
   "metadata": {},
   "outputs": [
    {
     "data": {
      "text/html": [
       "<div>\n",
       "<style scoped>\n",
       "    .dataframe tbody tr th:only-of-type {\n",
       "        vertical-align: middle;\n",
       "    }\n",
       "\n",
       "    .dataframe tbody tr th {\n",
       "        vertical-align: top;\n",
       "    }\n",
       "\n",
       "    .dataframe thead th {\n",
       "        text-align: right;\n",
       "    }\n",
       "</style>\n",
       "<table border=\"1\" class=\"dataframe\">\n",
       "  <thead>\n",
       "    <tr style=\"text-align: right;\">\n",
       "      <th></th>\n",
       "      <th>0</th>\n",
       "      <th>1</th>\n",
       "    </tr>\n",
       "  </thead>\n",
       "  <tbody>\n",
       "    <tr>\n",
       "      <th>0</th>\n",
       "      <td>1234</td>\n",
       "      <td>True</td>\n",
       "    </tr>\n",
       "    <tr>\n",
       "      <th>1</th>\n",
       "      <td>1234,567</td>\n",
       "      <td>True</td>\n",
       "    </tr>\n",
       "    <tr>\n",
       "      <th>2</th>\n",
       "      <td>1234, 567</td>\n",
       "      <td>True</td>\n",
       "    </tr>\n",
       "    <tr>\n",
       "      <th>3</th>\n",
       "      <td>12345, 678, 9012</td>\n",
       "      <td>True</td>\n",
       "    </tr>\n",
       "    <tr>\n",
       "      <th>4</th>\n",
       "      <td>1234\\t5678</td>\n",
       "      <td>False</td>\n",
       "    </tr>\n",
       "    <tr>\n",
       "      <th>5</th>\n",
       "      <td>12, 3456</td>\n",
       "      <td>False</td>\n",
       "    </tr>\n",
       "    <tr>\n",
       "      <th>6</th>\n",
       "      <td>1234    5678</td>\n",
       "      <td>False</td>\n",
       "    </tr>\n",
       "  </tbody>\n",
       "</table>\n",
       "</div>"
      ],
      "text/plain": [
       "                  0      1\n",
       "0              1234   True\n",
       "1          1234,567   True\n",
       "2         1234, 567   True\n",
       "3  12345, 678, 9012   True\n",
       "4        1234\\t5678  False\n",
       "5          12, 3456  False\n",
       "6      1234    5678  False"
      ]
     },
     "execution_count": 30,
     "metadata": {},
     "output_type": "execute_result"
    }
   ],
   "source": [
    "test_case = pd.Series([\n",
    "    '1234',\n",
    "    '1234,567',\n",
    "    '1234, 567',\n",
    "    '12345, 678, 9012',\n",
    "    '1234\\t5678', # tab is bad, no comma\n",
    "    '12, 3456', # too short\n",
    "    '1234    5678', # too many spaces, no comma\n",
    "])\n",
    "pd.concat([test_case, test_case.str.match(array_pattern)], axis=1)"
   ]
  },
  {
   "cell_type": "code",
   "execution_count": 31,
   "id": "3557314c-34c4-4597-b390-5bd98b55c8f7",
   "metadata": {},
   "outputs": [],
   "source": [
    "# all pass the formatting test\n",
    "for col in id_cols:\n",
    "    assert proj[col].str.match(array_pattern).all()"
   ]
  },
  {
   "cell_type": "markdown",
   "id": "cae041f2-b63c-4835-8838-7fdb09fbffb5",
   "metadata": {},
   "source": [
    "#### Emissions\n",
    "Check metric vs short tons\n",
    "\n",
    "Edit: difference is only a factor of 0.907 so I won't be able to tell the difference. Within the noise."
   ]
  },
  {
   "cell_type": "code",
   "execution_count": 98,
   "id": "752b2a02-a259-4ff6-a44d-c6804ef56dbc",
   "metadata": {},
   "outputs": [
    {
     "data": {
      "text/plain": [
       "<AxesSubplot:ylabel='Frequency'>"
      ]
     },
     "execution_count": 98,
     "metadata": {},
     "output_type": "execute_result"
    },
    {
     "data": {
      "image/png": "[encoded data removed]",
      "text/plain": [
       "<Figure size 432x288 with 1 Axes>"
      ]
     },
     "metadata": {
      "needs_background": "light"
     },
     "output_type": "display_data"
    }
   ],
   "source": [
    "proj['Greenhouse Gases (CO2e)'].replace(0, np.nan).transform(np.log10).plot.hist(bins=50)"
   ]
  },
  {
   "cell_type": "markdown",
   "id": "bf55c928-4a98-4d3c-8589-326fa56dfcd0",
   "metadata": {},
   "source": [
    "#### Date Modified"
   ]
  },
  {
   "cell_type": "code",
   "execution_count": 42,
   "id": "b15fc622-b691-4362-a0b0-0425c66e73c7",
   "metadata": {},
   "outputs": [
    {
     "data": {
      "text/plain": [
       "(dtype('<M8[ns]'), 0)"
      ]
     },
     "execution_count": 42,
     "metadata": {},
     "output_type": "execute_result"
    }
   ],
   "source": [
    "# to_datetime works on all values present\n",
    "timestamps = pd.to_datetime(proj['modified_on'])\n",
    "timestamps.dtypes, timestamps.isna().sum()"
   ]
  },
  {
   "cell_type": "markdown",
   "id": "e33decd4-0019-42ec-9321-a8060eba17db",
   "metadata": {},
   "source": [
    "#### Jobs\n",
    "Check array delimiter, naming, and order.\n",
    "\n",
    "* Array delimiter: can be `,` or `;` or none\n",
    "* naming: `temporary`, `permanent`, `full-time`, `construction`, `operating` and none given\n",
    "* order: not consistent. Needs a parser."
   ]
  },
  {
   "cell_type": "code",
   "execution_count": 95,
   "id": "25bd6a88-5e48-4a9d-b8a5-acaff71427b5",
   "metadata": {
    "tags": []
   },
   "outputs": [
    {
     "data": {
      "text/plain": [
       "(74,)"
      ]
     },
     "execution_count": 95,
     "metadata": {},
     "output_type": "execute_result"
    }
   ],
   "source": [
    "# only 74/672 (11%) have jobs numbers\n",
    "proj['Number of Jobs Promised'].dropna().shape"
   ]
  },
  {
   "cell_type": "code",
   "execution_count": 66,
   "id": "7051792e-204a-4d86-83bd-11156dab9a64",
   "metadata": {},
   "outputs": [],
   "source": [
    "jobs = proj['Number of Jobs Promised'].dropna()"
   ]
  },
  {
   "cell_type": "markdown",
   "id": "aedf9e21-4c48-4d75-bc6f-3c869a4f9b69",
   "metadata": {},
   "source": [
    "**What special characters are present?**"
   ]
  },
  {
   "cell_type": "code",
   "execution_count": 78,
   "id": "b2e2ee44-96a2-4c85-a61e-ffb43ffe08db",
   "metadata": {},
   "outputs": [
    {
     "data": {
      "text/plain": [
       "{'(', ')', ',', '-', ';', '>'}"
      ]
     },
     "execution_count": 78,
     "metadata": {},
     "output_type": "execute_result"
    }
   ],
   "source": [
    "from functools import reduce\n",
    "reduce(set.union, [set(item) for item in jobs.str.replace('\\d+|\\w+|\\s+', '', regex=True).to_list()])"
   ]
  },
  {
   "cell_type": "code",
   "execution_count": 80,
   "id": "95d6bd4c-8b29-4eb0-9c3c-ec4f8f8d2674",
   "metadata": {},
   "outputs": [
    {
     "data": {
      "text/plain": [
       "550    1,000-1,500 construction jobs, >100 permanent jobs\n",
       "Name: Number of Jobs Promised, dtype: object"
      ]
     },
     "execution_count": 80,
     "metadata": {},
     "output_type": "execute_result"
    }
   ],
   "source": [
    "# not a delimiter\n",
    "jobs[jobs.str.contains('>')]"
   ]
  },
  {
   "cell_type": "code",
   "execution_count": 81,
   "id": "1c03d403-10a2-4662-b169-a7c3f439042d",
   "metadata": {},
   "outputs": [
    {
     "data": {
      "text/plain": [
       "39     200 construction jobs; 40 full-time jobs (for the entire BWTX SMP Project, including pipeline construction)\n",
       "135    1500-2000 temporary; 200 full-time                                                                         \n",
       "248    1500-2000 temporary jobs                                                                                   \n",
       "283    400 full-time jobs; 6,000 construction jobs                                                                \n",
       "294    1400-3000 temporary; 250 permanent                                                                         \n",
       "297    35-50                                                                                                      \n",
       "341    40-260 temporary; 28 permanent                                                                             \n",
       "443    106 full-time jobs, 2800-3025 construction jobs                                                            \n",
       "527    10-20                                                                                                      \n",
       "540    350-520 temporary; 12 permanent                                                                            \n",
       "550    1,000-1,500 construction jobs, >100 permanent jobs                                                         \n",
       "553    150-200 permanent                                                                                          \n",
       "578    70-110 temporary; 2 permanent                                                                              \n",
       "649    200-300 temporary, 10-20 permanent                                                                         \n",
       "Name: Number of Jobs Promised, dtype: object"
      ]
     },
     "execution_count": 81,
     "metadata": {},
     "output_type": "execute_result"
    }
   ],
   "source": [
    "# not an array delimiter. It is a range delimiter\n",
    "jobs[jobs.str.contains('-')]"
   ]
  },
  {
   "cell_type": "code",
   "execution_count": 83,
   "id": "6f5672e7-ff58-41fb-82a0-0e41a8185e93",
   "metadata": {},
   "outputs": [
    {
     "data": {
      "text/plain": [
       "39    200 construction jobs; 40 full-time jobs (for the entire BWTX SMP Project, including pipeline construction)\n",
       "Name: Number of Jobs Promised, dtype: object"
      ]
     },
     "execution_count": 83,
     "metadata": {},
     "output_type": "execute_result"
    }
   ],
   "source": [
    "# not a delimiter\n",
    "jobs[jobs.str.contains('\\(|\\)')]"
   ]
  },
  {
   "cell_type": "markdown",
   "id": "76e05564-9837-464f-b717-53e9a1500624",
   "metadata": {},
   "source": [
    "**What job types are present?**"
   ]
  },
  {
   "cell_type": "code",
   "execution_count": 93,
   "id": "4850dc0e-a101-427a-b0ff-3a0de2f482bd",
   "metadata": {},
   "outputs": [
    {
     "data": {
      "text/plain": [
       "permanent       35\n",
       "temporary       33\n",
       "construction    14\n",
       "jobs            11\n",
       "full            4 \n",
       "time            4 \n",
       "operating       2 \n",
       "including       1 \n",
       "peak            1 \n",
       "during          1 \n",
       "pipeline        1 \n",
       "BWTX            1 \n",
       "Project         1 \n",
       "SMP             1 \n",
       "entire          1 \n",
       "the             1 \n",
       "for             1 \n",
       "Unknown         1 \n",
       "Name: 0, dtype: int64"
      ]
     },
     "execution_count": 93,
     "metadata": {},
     "output_type": "execute_result"
    }
   ],
   "source": [
    "jobs.str.extractall('([a-zA-Z]+)')[0].value_counts()"
   ]
  },
  {
   "cell_type": "code",
   "execution_count": 94,
   "id": "4105a122-f326-4156-9902-6fdcee908b3d",
   "metadata": {},
   "outputs": [
    {
     "data": {
      "text/plain": [
       "permanent       35\n",
       "temporary       33\n",
       "construction    13\n",
       "jobs            11\n",
       "full            4 \n",
       "time            4 \n",
       "operating       2 \n",
       "during          1 \n",
       "peak            1 \n",
       "Unknown         1 \n",
       "Name: 0, dtype: int64"
      ]
     },
     "execution_count": 94,
     "metadata": {},
     "output_type": "execute_result"
    }
   ],
   "source": [
    "# repeat but without that long parenthetical\n",
    "jobs.str.replace('\\(.+\\)', '', regex=True).str.extractall('([a-zA-Z]+)')[0].value_counts()"
   ]
  },
  {
   "cell_type": "markdown",
   "id": "51537995-7a6f-45a8-a4d1-2c30bb2d30f7",
   "metadata": {},
   "source": [
    "I think `permanent`, `full-time` and `operating` are equivalent. And `temporary` == `construction`. And `Unkown` is Null."
   ]
  },
  {
   "cell_type": "markdown",
   "id": "ab2e7376-ddba-425b-be75-12a2ec54d668",
   "metadata": {},
   "source": [
    "### Range Validation\n",
    "Check IDs, Emissions, Cost, Jobs, expected completion year\n",
    "#### Emissions\n",
    "Kind of hard to interpret, but no outrageous smoking guns"
   ]
  },
  {
   "cell_type": "code",
   "execution_count": 99,
   "id": "5e8856a3-106f-4754-a359-0ec9672a0e1b",
   "metadata": {},
   "outputs": [],
   "source": [
    "emission_cols = [\n",
    "    'Greenhouse Gases (CO2e)',\n",
    "    'Particulate Matter (PM2.5)',\n",
    "    'Nitrogen Oxides (NOx)',\n",
    "    'Volatile Organic Compounds (VOC)',\n",
    "    'Sulfur Dioxide (SO2)',\n",
    "    'Carbon Monoxide (CO)',\n",
    "    'Hazardous Air Pollutants (HAPs)',\n",
    "]"
   ]
  },
  {
   "cell_type": "code",
   "execution_count": 111,
   "id": "63263fa0-72a5-4dff-8261-8dab29360a92",
   "metadata": {
    "tags": []
   },
   "outputs": [
    {
     "data": {
      "text/html": [
       "<div>\n",
       "<style scoped>\n",
       "    .dataframe tbody tr th:only-of-type {\n",
       "        vertical-align: middle;\n",
       "    }\n",
       "\n",
       "    .dataframe tbody tr th {\n",
       "        vertical-align: top;\n",
       "    }\n",
       "\n",
       "    .dataframe thead th {\n",
       "        text-align: right;\n",
       "    }\n",
       "</style>\n",
       "<table border=\"1\" class=\"dataframe\">\n",
       "  <thead>\n",
       "    <tr style=\"text-align: right;\">\n",
       "      <th></th>\n",
       "      <th>Greenhouse Gases (CO2e)</th>\n",
       "      <th>Particulate Matter (PM2.5)</th>\n",
       "      <th>Nitrogen Oxides (NOx)</th>\n",
       "      <th>Volatile Organic Compounds (VOC)</th>\n",
       "      <th>Carbon Monoxide (CO)</th>\n",
       "      <th>Hazardous Air Pollutants (HAPs)</th>\n",
       "    </tr>\n",
       "  </thead>\n",
       "  <tbody>\n",
       "    <tr>\n",
       "      <th>count</th>\n",
       "      <td>5.450000e+02</td>\n",
       "      <td>609.000000</td>\n",
       "      <td>606.000000</td>\n",
       "      <td>613.000000</td>\n",
       "      <td>606.000000</td>\n",
       "      <td>352.000000</td>\n",
       "    </tr>\n",
       "    <tr>\n",
       "      <th>mean</th>\n",
       "      <td>6.882492e+05</td>\n",
       "      <td>33.898096</td>\n",
       "      <td>137.098859</td>\n",
       "      <td>245.385331</td>\n",
       "      <td>269.308492</td>\n",
       "      <td>17.123238</td>\n",
       "    </tr>\n",
       "    <tr>\n",
       "      <th>std</th>\n",
       "      <td>1.501951e+06</td>\n",
       "      <td>94.378938</td>\n",
       "      <td>443.168752</td>\n",
       "      <td>1673.120086</td>\n",
       "      <td>834.408524</td>\n",
       "      <td>87.675596</td>\n",
       "    </tr>\n",
       "    <tr>\n",
       "      <th>min</th>\n",
       "      <td>-1.303318e+06</td>\n",
       "      <td>-211.020000</td>\n",
       "      <td>-2191.800000</td>\n",
       "      <td>-77.330000</td>\n",
       "      <td>-592.500000</td>\n",
       "      <td>-59.780000</td>\n",
       "    </tr>\n",
       "    <tr>\n",
       "      <th>25%</th>\n",
       "      <td>7.244400e+04</td>\n",
       "      <td>3.140000</td>\n",
       "      <td>22.820000</td>\n",
       "      <td>14.560000</td>\n",
       "      <td>30.995000</td>\n",
       "      <td>1.255000</td>\n",
       "    </tr>\n",
       "    <tr>\n",
       "      <th>50%</th>\n",
       "      <td>1.655950e+05</td>\n",
       "      <td>8.110000</td>\n",
       "      <td>49.455000</td>\n",
       "      <td>35.500000</td>\n",
       "      <td>78.575000</td>\n",
       "      <td>4.345000</td>\n",
       "    </tr>\n",
       "    <tr>\n",
       "      <th>75%</th>\n",
       "      <td>4.500000e+05</td>\n",
       "      <td>21.130000</td>\n",
       "      <td>111.030000</td>\n",
       "      <td>95.940000</td>\n",
       "      <td>196.427500</td>\n",
       "      <td>12.007500</td>\n",
       "    </tr>\n",
       "    <tr>\n",
       "      <th>max</th>\n",
       "      <td>1.362809e+07</td>\n",
       "      <td>1303.300000</td>\n",
       "      <td>4335.000000</td>\n",
       "      <td>24636.800000</td>\n",
       "      <td>11927.400000</td>\n",
       "      <td>1230.000000</td>\n",
       "    </tr>\n",
       "  </tbody>\n",
       "</table>\n",
       "</div>"
      ],
      "text/plain": [
       "       Greenhouse Gases (CO2e)  Particulate Matter (PM2.5)  \\\n",
       "count  5.450000e+02             609.000000                   \n",
       "mean   6.882492e+05             33.898096                    \n",
       "std    1.501951e+06             94.378938                    \n",
       "min   -1.303318e+06            -211.020000                   \n",
       "25%    7.244400e+04             3.140000                     \n",
       "50%    1.655950e+05             8.110000                     \n",
       "75%    4.500000e+05             21.130000                    \n",
       "max    1.362809e+07             1303.300000                  \n",
       "\n",
       "       Nitrogen Oxides (NOx)  Volatile Organic Compounds (VOC)  \\\n",
       "count  606.000000             613.000000                         \n",
       "mean   137.098859             245.385331                         \n",
       "std    443.168752             1673.120086                        \n",
       "min   -2191.800000           -77.330000                          \n",
       "25%    22.820000              14.560000                          \n",
       "50%    49.455000              35.500000                          \n",
       "75%    111.030000             95.940000                          \n",
       "max    4335.000000            24636.800000                       \n",
       "\n",
       "       Carbon Monoxide (CO)  Hazardous Air Pollutants (HAPs)  \n",
       "count  606.000000            352.000000                       \n",
       "mean   269.308492            17.123238                        \n",
       "std    834.408524            87.675596                        \n",
       "min   -592.500000           -59.780000                        \n",
       "25%    30.995000             1.255000                         \n",
       "50%    78.575000             4.345000                         \n",
       "75%    196.427500            12.007500                        \n",
       "max    11927.400000          1230.000000                      "
      ]
     },
     "execution_count": 111,
     "metadata": {},
     "output_type": "execute_result"
    }
   ],
   "source": [
    "# sulfur is missing due to type error\n",
    "proj[emission_cols].describe()"
   ]
  },
  {
   "cell_type": "code",
   "execution_count": 116,
   "id": "a4fa6d16-be68-4069-9c12-46e5b2b057bb",
   "metadata": {},
   "outputs": [
    {
     "data": {
      "text/html": [
       "<div>\n",
       "<style scoped>\n",
       "    .dataframe tbody tr th:only-of-type {\n",
       "        vertical-align: middle;\n",
       "    }\n",
       "\n",
       "    .dataframe tbody tr th {\n",
       "        vertical-align: top;\n",
       "    }\n",
       "\n",
       "    .dataframe thead th {\n",
       "        text-align: right;\n",
       "    }\n",
       "</style>\n",
       "<table border=\"1\" class=\"dataframe\">\n",
       "  <thead>\n",
       "    <tr style=\"text-align: right;\">\n",
       "      <th></th>\n",
       "      <th>id</th>\n",
       "      <th>name</th>\n",
       "      <th>Sulfur Dioxide (SO2)</th>\n",
       "    </tr>\n",
       "  </thead>\n",
       "  <tbody>\n",
       "    <tr>\n",
       "      <th>260</th>\n",
       "      <td>2989</td>\n",
       "      <td>Mt. Airy Terminal - Storage Capacity Expansion Project</td>\n",
       "      <td>0.02, 0.02</td>\n",
       "    </tr>\n",
       "  </tbody>\n",
       "</table>\n",
       "</div>"
      ],
      "text/plain": [
       "       id                                                    name  \\\n",
       "260  2989  Mt. Airy Terminal - Storage Capacity Expansion Project   \n",
       "\n",
       "    Sulfur Dioxide (SO2)  \n",
       "260  0.02, 0.02           "
      ]
     },
     "execution_count": 116,
     "metadata": {},
     "output_type": "execute_result"
    }
   ],
   "source": [
    "# a single value causes the issue\n",
    "proj.loc[proj['Sulfur Dioxide (SO2)'].str.contains(',').fillna(False), ['id', 'name', 'Sulfur Dioxide (SO2)']]"
   ]
  },
  {
   "cell_type": "code",
   "execution_count": 118,
   "id": "1ef69b55-3b54-4d01-aa77-3476b0ffb503",
   "metadata": {},
   "outputs": [],
   "source": [
    "sulfur = pd.to_numeric(proj['Sulfur Dioxide (SO2)'].str.split(',').str[0], errors='raise')"
   ]
  },
  {
   "cell_type": "code",
   "execution_count": 119,
   "id": "e4efae5f-457e-4f54-946f-108038b1d278",
   "metadata": {},
   "outputs": [
    {
     "data": {
      "text/plain": [
       "count    603.000000 \n",
       "mean     31.058544  \n",
       "std      146.053798 \n",
       "min     -1132.996900\n",
       "25%      0.480000   \n",
       "50%      3.020000   \n",
       "75%      18.365000  \n",
       "max      2094.200000\n",
       "Name: Sulfur Dioxide (SO2), dtype: float64"
      ]
     },
     "execution_count": 119,
     "metadata": {},
     "output_type": "execute_result"
    }
   ],
   "source": [
    "sulfur.describe()"
   ]
  },
  {
   "cell_type": "code",
   "execution_count": 122,
   "id": "c9f83cde-61ce-4db5-87dc-f880e7a413ce",
   "metadata": {},
   "outputs": [],
   "source": [
    "emission_cols.remove('Sulfur Dioxide (SO2)')"
   ]
  },
  {
   "cell_type": "code",
   "execution_count": 127,
   "id": "00316e45-177e-4dd4-b7e5-a1a44e7fc745",
   "metadata": {},
   "outputs": [],
   "source": [
    "extremely_large_idx = [proj.loc[:, col].nlargest(5).index for col in emission_cols] + [sulfur.nlargest(5).index]"
   ]
  },
  {
   "cell_type": "code",
   "execution_count": 128,
   "id": "7d1eefe8-fe93-45cd-9b18-a632dcf040df",
   "metadata": {},
   "outputs": [
    {
     "data": {
      "text/plain": [
       "Index([ 37,  39,  43,  92,  98, 100, 113, 137, 148, 149, 151, 152, 216, 222,\n",
       "       276, 294, 306, 332, 389, 408, 426, 567, 620],\n",
       "      dtype='object')"
      ]
     },
     "execution_count": 128,
     "metadata": {},
     "output_type": "execute_result"
    }
   ],
   "source": [
    "extremely_large = pd.Index([])\n",
    "for index in extremely_large_idx:\n",
    "    extremely_large = extremely_large.union(index)\n",
    "extremely_large"
   ]
  },
  {
   "cell_type": "code",
   "execution_count": 130,
   "id": "fb484fc3-8ac9-4f0a-ae04-2aca78a6ac08",
   "metadata": {
    "collapsed": true,
    "jupyter": {
     "outputs_hidden": true
    },
    "tags": []
   },
   "outputs": [
    {
     "data": {
      "text/html": [
       "<div>\n",
       "<style scoped>\n",
       "    .dataframe tbody tr th:only-of-type {\n",
       "        vertical-align: middle;\n",
       "    }\n",
       "\n",
       "    .dataframe tbody tr th {\n",
       "        vertical-align: top;\n",
       "    }\n",
       "\n",
       "    .dataframe thead th {\n",
       "        text-align: right;\n",
       "    }\n",
       "</style>\n",
       "<table border=\"1\" class=\"dataframe\">\n",
       "  <thead>\n",
       "    <tr style=\"text-align: right;\">\n",
       "      <th></th>\n",
       "      <th>id</th>\n",
       "      <th>name</th>\n",
       "      <th>Project Description</th>\n",
       "      <th>Sulfur Dioxide (SO2)</th>\n",
       "      <th>Greenhouse Gases (CO2e)</th>\n",
       "      <th>Particulate Matter (PM2.5)</th>\n",
       "      <th>Nitrogen Oxides (NOx)</th>\n",
       "      <th>Volatile Organic Compounds (VOC)</th>\n",
       "      <th>Carbon Monoxide (CO)</th>\n",
       "      <th>Hazardous Air Pollutants (HAPs)</th>\n",
       "    </tr>\n",
       "  </thead>\n",
       "  <tbody>\n",
       "    <tr>\n",
       "      <th>389</th>\n",
       "      <td>3119</td>\n",
       "      <td>Texas GulfLink Deepwater Port - Initial Construction</td>\n",
       "      <td>The Texas GulfLink Terminal Project would consist of a Deepwater Oil Port near Freeport, Texas, capable of loading deep draft Very Large Crude Carrier (VLCC) vessels. The Deepwater Port will deliver crude oil via an onshore crude pipeline to above-ground crude oil storage tanks. Upon nomination from the crude oil shipper, the oil will be transported to one of two floating Single Point Mooring (SPM) buoys in the Gulf of Mexico, which would will allow for VLCC vessels to moor and receive up to 2 million barrels of crude oil each to be exported internationally.</td>\n",
       "      <td>20.16</td>\n",
       "      <td>8862.00</td>\n",
       "      <td>3.23</td>\n",
       "      <td>59.82</td>\n",
       "      <td>10025.14</td>\n",
       "      <td>56.59</td>\n",
       "      <td>NaN</td>\n",
       "    </tr>\n",
       "    <tr>\n",
       "      <th>98</th>\n",
       "      <td>2822</td>\n",
       "      <td>Coyote Springs Compressor Station.10174-01</td>\n",
       "      <td>Construction of a new compressor station along Gas Transmission Northwest's existing pipeline, which runs from the Canadian border through the states of Idaho, Washington and Oregon to California. This permit will allow the installation of a Solar Saturn 20 turbine, a Caterpillar emergency engine generator set, a new fuel gas heater and two space heaters.</td>\n",
       "      <td>0.06</td>\n",
       "      <td>13402.00</td>\n",
       "      <td>0.56</td>\n",
       "      <td>30.43</td>\n",
       "      <td>2.46</td>\n",
       "      <td>38.24</td>\n",
       "      <td>182.95</td>\n",
       "    </tr>\n",
       "    <tr>\n",
       "      <th>37</th>\n",
       "      <td>2760</td>\n",
       "      <td>Blue Marlin Offshore Port - Initial Construction</td>\n",
       "      <td>Construction of a new offshore deepwater export terminal, including the conversion of existing offshore platforms from gas transmission facilities to natural gas and crude oil facilities. The DWP would provide crude oil transportation and loading services utilizing very large crude carriers (VLCCs) (and other crude oil carriers). Oil for export will be transported out of the existing Nederland Terminal in Jefferson County.</td>\n",
       "      <td>1.64</td>\n",
       "      <td>16503.00</td>\n",
       "      <td>1.07</td>\n",
       "      <td>26.02</td>\n",
       "      <td>21881.00</td>\n",
       "      <td>57.88</td>\n",
       "      <td>1230.00</td>\n",
       "    </tr>\n",
       "    <tr>\n",
       "      <th>39</th>\n",
       "      <td>2762</td>\n",
       "      <td>Bluewater SPM Deepwater Port - Initial Construction</td>\n",
       "      <td>Construction of a new deepwater port in the federal waters of the Gulf of Mexico, which would consist of two single point mooring buoys and would allow for export of domestically produced crude oil. The marine loading operations associated with the Bluewater SPM Deepwater Port would be able to handle 384 million barrels of crude oil every year.</td>\n",
       "      <td>NaN</td>\n",
       "      <td>185453.00</td>\n",
       "      <td>NaN</td>\n",
       "      <td>NaN</td>\n",
       "      <td>18936.25</td>\n",
       "      <td>NaN</td>\n",
       "      <td>833.18</td>\n",
       "    </tr>\n",
       "    <tr>\n",
       "      <th>426</th>\n",
       "      <td>3157</td>\n",
       "      <td>Wood River CORE Expansion and Hartford Terminal Expansion Projects.10283-01</td>\n",
       "      <td>Modifications to increase processing capacity of heavier crude at the Wood River Refinery, including installation of two fractionation columns, three storage tanks, a cooling water tower, and one boiler.</td>\n",
       "      <td>2094.2</td>\n",
       "      <td>209350.00</td>\n",
       "      <td>161.30</td>\n",
       "      <td>920.40</td>\n",
       "      <td>327.30</td>\n",
       "      <td>882.40</td>\n",
       "      <td>NaN</td>\n",
       "    </tr>\n",
       "    <tr>\n",
       "      <th>151</th>\n",
       "      <td>2877</td>\n",
       "      <td>Geismar Methanol Plant 3 and G1/G2 Debottlenecking Projects</td>\n",
       "      <td>Construction of a third methanol plant (Geismar III), which would be capable of producing 5,156 metric tons of methanol every day, as well as two debottlenecking projects at existing Geismar Methanol Units I and II. The G2 Unit debottlenecking project would increase methanol production at Geismar II by 14 percent, to 3,500 metric tons per day. If all three projects are completed, the Methanex Complex would be able to produce 12,156 metric tons of methanol every day.</td>\n",
       "      <td>1.6</td>\n",
       "      <td>457375.00</td>\n",
       "      <td>19.91</td>\n",
       "      <td>32.94</td>\n",
       "      <td>21.30</td>\n",
       "      <td>154.26</td>\n",
       "      <td>633.89</td>\n",
       "    </tr>\n",
       "    <tr>\n",
       "      <th>43</th>\n",
       "      <td>2766</td>\n",
       "      <td>Borger Refinery, Crude Flexibility and Modernization Project</td>\n",
       "      <td>Installation of a new Continuous Catalytic Reformer (CCR) Unit and a new Naphtha Splitter Unit; installation of new and more efficient crude charge heaters to replace the existing crude charge heaters, and modifications in other selected refinery process units.</td>\n",
       "      <td>647.89</td>\n",
       "      <td>470082.58</td>\n",
       "      <td>890.69</td>\n",
       "      <td>368.35</td>\n",
       "      <td>644.55</td>\n",
       "      <td>2722.41</td>\n",
       "      <td>NaN</td>\n",
       "    </tr>\n",
       "    <tr>\n",
       "      <th>276</th>\n",
       "      <td>3005</td>\n",
       "      <td>Equistar Corpus Christi - Olefins Plant Expansion</td>\n",
       "      <td>An expansion project to increase annual ethylene production capacity by 810 million pounds.</td>\n",
       "      <td>1263.76</td>\n",
       "      <td>2062725.00</td>\n",
       "      <td>92.30</td>\n",
       "      <td>2264.06</td>\n",
       "      <td>452.81</td>\n",
       "      <td>1638.85</td>\n",
       "      <td>NaN</td>\n",
       "    </tr>\n",
       "    <tr>\n",
       "      <th>152</th>\n",
       "      <td>2878</td>\n",
       "      <td>Geismar Methanol Plants 1 and 2</td>\n",
       "      <td>Construction of a new methanol plant consisting of two production units, Geismar I and Geismar II, which would each be capable of producing 3,000 metric tons of methanol every day. Both plants would be relocated from Methanex's facility in Punta Arenas, Chile, and reinstalled at the Geismar location in Louisiana.</td>\n",
       "      <td>10.56</td>\n",
       "      <td>2080568.00</td>\n",
       "      <td>136.63</td>\n",
       "      <td>178.70</td>\n",
       "      <td>68.40</td>\n",
       "      <td>175.22</td>\n",
       "      <td>258.63</td>\n",
       "    </tr>\n",
       "    <tr>\n",
       "      <th>408</th>\n",
       "      <td>3138</td>\n",
       "      <td>Valero Port Arthur Refinery Expansion Project</td>\n",
       "      <td>Construction of a new delayed coking unit, a new sulfur recovery unit, and other modifications to increase crude capacity and throughput at the facility from 415,000 bpd to 430,000 bpd.</td>\n",
       "      <td>790.2</td>\n",
       "      <td>2862639.00</td>\n",
       "      <td>62.61</td>\n",
       "      <td>128.40</td>\n",
       "      <td>535.20</td>\n",
       "      <td>363.98</td>\n",
       "      <td>NaN</td>\n",
       "    </tr>\n",
       "    <tr>\n",
       "      <th>306</th>\n",
       "      <td>3036</td>\n",
       "      <td>Port Arthur Refinery - Naphtha Growth and C9 Splitter Project</td>\n",
       "      <td>Modifications that will allow the refinery to process more light and heavy crude oil, and refine additional reformate into higher value benzene and para-xylene through the addition of a new Aromatic Unit and associated infrastructure. Projects will add equipment to process 150,000 bpd of heavy naphtha into reformer feed (heptane and octane) and C9+ hydrocarbons.</td>\n",
       "      <td>1267.05</td>\n",
       "      <td>4191941.00</td>\n",
       "      <td>169.69</td>\n",
       "      <td>668.84</td>\n",
       "      <td>468.40</td>\n",
       "      <td>2385.20</td>\n",
       "      <td>NaN</td>\n",
       "    </tr>\n",
       "    <tr>\n",
       "      <th>222</th>\n",
       "      <td>2951</td>\n",
       "      <td>Eurochem Louisiana Fertilizer Plant - Initial Construction</td>\n",
       "      <td>Construction of a new fertilizer plant that would produce ammonia, urea, ammonium nitrate, urea-ammonium nitrate, and nitric acid.</td>\n",
       "      <td>31.89</td>\n",
       "      <td>4527943.00</td>\n",
       "      <td>524.65</td>\n",
       "      <td>934.39</td>\n",
       "      <td>301.08</td>\n",
       "      <td>1902.06</td>\n",
       "      <td>NaN</td>\n",
       "    </tr>\n",
       "    <tr>\n",
       "      <th>100</th>\n",
       "      <td>2824</td>\n",
       "      <td>Port Delfin - Initial Construction</td>\n",
       "      <td>Construction of a new floating LNG terminal in the Gulf of Mexico, which would be capable of exporting up to 13 million metric tons of LNG per year.</td>\n",
       "      <td>201</td>\n",
       "      <td>4857091.00</td>\n",
       "      <td>301.00</td>\n",
       "      <td>4335.00</td>\n",
       "      <td>124.00</td>\n",
       "      <td>7021.00</td>\n",
       "      <td>NaN</td>\n",
       "    </tr>\n",
       "    <tr>\n",
       "      <th>567</th>\n",
       "      <td>4217</td>\n",
       "      <td>Sabine Pass LNG - Trains 5, Train 6, and the Third Berth Expansion Project</td>\n",
       "      <td>Construction of two additional liquefaction trains, Train 5 and Train 6, at the Sabine Pass LNG export terminal.</td>\n",
       "      <td>26.35</td>\n",
       "      <td>5036822.00</td>\n",
       "      <td>-66.51</td>\n",
       "      <td>3797.77</td>\n",
       "      <td>261.67</td>\n",
       "      <td>343.32</td>\n",
       "      <td>NaN</td>\n",
       "    </tr>\n",
       "    <tr>\n",
       "      <th>92</th>\n",
       "      <td>2816</td>\n",
       "      <td>Corpus Christi LNG Trains 1, 2, and 3</td>\n",
       "      <td>Construction of a new liquefied natural gas import and export facility that would consist of three liquefaction trains, each capable of processing 5 million metric tons of LNG per year.</td>\n",
       "      <td>49.39</td>\n",
       "      <td>5538226.00</td>\n",
       "      <td>85.30</td>\n",
       "      <td>3541.40</td>\n",
       "      <td>353.11</td>\n",
       "      <td>3621.77</td>\n",
       "      <td>NaN</td>\n",
       "    </tr>\n",
       "    <tr>\n",
       "      <th>332</th>\n",
       "      <td>3062</td>\n",
       "      <td>Sabine Pass LNG - Trains 1-4</td>\n",
       "      <td>Construction of a new liquefied natural gas export terminal next to the existing Sabine Pass LNG Import Terminal. The Sabine Pass Liquefaction Project would consist of four liquefaction trains, each capable of producing 5 million tons per year of LNG for export.</td>\n",
       "      <td>11.89</td>\n",
       "      <td>5734190.00</td>\n",
       "      <td>254.13</td>\n",
       "      <td>2701.88</td>\n",
       "      <td>82.11</td>\n",
       "      <td>4891.00</td>\n",
       "      <td>NaN</td>\n",
       "    </tr>\n",
       "    <tr>\n",
       "      <th>149</th>\n",
       "      <td>2875</td>\n",
       "      <td>Alaska LNG - Gas Treatment Plant - Initial Construction</td>\n",
       "      <td>Construction of a 3.5-3.9 billion cubic feet (Bcf) per day gas treatment plant on Prudhoe Bay to supply gas to the state-owned Alaska LNG project.</td>\n",
       "      <td>1076.3</td>\n",
       "      <td>7278238.00</td>\n",
       "      <td>903.40</td>\n",
       "      <td>3321.70</td>\n",
       "      <td>13087.20</td>\n",
       "      <td>9026.90</td>\n",
       "      <td>NaN</td>\n",
       "    </tr>\n",
       "    <tr>\n",
       "      <th>294</th>\n",
       "      <td>3024</td>\n",
       "      <td>Plaquemines LNG Terminal - Initial Construction</td>\n",
       "      <td>Construction of a new liquefied natural gas export terminal, capable of processing up to 24 million tons of LNG per year. The Plaquemines LNG Project would be constructed in two phases, nine liquefaction blocks at a time, and would include six pretreatment facilities, three LNG loading berths, and two 710-megawatt electric power plants.</td>\n",
       "      <td>114.86</td>\n",
       "      <td>8144463.00</td>\n",
       "      <td>371.86</td>\n",
       "      <td>1103.47</td>\n",
       "      <td>133.88</td>\n",
       "      <td>1821.47</td>\n",
       "      <td>NaN</td>\n",
       "    </tr>\n",
       "    <tr>\n",
       "      <th>620</th>\n",
       "      <td>4557</td>\n",
       "      <td>CP2 LNG Terminal - Initial Construction</td>\n",
       "      <td>Construction of the CP2 LNG Terminal, which would be capable of producing up to 28 million tons of liquefied natural gas every year. The terminal would consist of a pre-treatment facility and eighteen liquefaction units, each capable of processing over 1 million tons of liquefied natural gas per year, as well as a 1,440 megawatt gas-fired power generation facility. The proposed terminal would also include a carbon capture and sequestration facility that would be capable of sequestering an estimated 500,000 tons of CO2 per year in nearby saline aquifers. *Note: the potential greenhouse gas emissions estimates below do not incorporate potential CO2 reductions through carbon capture.</td>\n",
       "      <td>208</td>\n",
       "      <td>8253829.00</td>\n",
       "      <td>346.70</td>\n",
       "      <td>873.00</td>\n",
       "      <td>170.30</td>\n",
       "      <td>1276.40</td>\n",
       "      <td>37.10</td>\n",
       "    </tr>\n",
       "    <tr>\n",
       "      <th>148</th>\n",
       "      <td>2874</td>\n",
       "      <td>Energy Security Partners GTL Plant - Initial Construction</td>\n",
       "      <td>Construction of a new 33,000 barrels per day natural gas to liquid fuel conversion plant that will produce diesel and naphtha for the production of petrochemicals. Project will be constructed in three phases, with each phase adding two gas processing trains.</td>\n",
       "      <td>23.3</td>\n",
       "      <td>8378365.00</td>\n",
       "      <td>50.90</td>\n",
       "      <td>1199.80</td>\n",
       "      <td>635.30</td>\n",
       "      <td>1852.70</td>\n",
       "      <td>72.66</td>\n",
       "    </tr>\n",
       "    <tr>\n",
       "      <th>216</th>\n",
       "      <td>2944</td>\n",
       "      <td>Alaska LNG - New Liquefaction Plant</td>\n",
       "      <td>Construction of a new natural gas liquefaction facility capable of producing up to 20 million tons of liquefied natural gas per year. This is part of the state-owned Alaska LNG project.</td>\n",
       "      <td>182.6</td>\n",
       "      <td>8572968.00</td>\n",
       "      <td>1303.30</td>\n",
       "      <td>3684.90</td>\n",
       "      <td>24636.80</td>\n",
       "      <td>11927.40</td>\n",
       "      <td>NaN</td>\n",
       "    </tr>\n",
       "    <tr>\n",
       "      <th>113</th>\n",
       "      <td>2838</td>\n",
       "      <td>Driftwood LNG - Initial Construction</td>\n",
       "      <td>Construction of a new LNG terminal with five liquefaction trains. The terminal will have the capacity to process 27.6 million metric tons of LNG per year for export.</td>\n",
       "      <td>73.61</td>\n",
       "      <td>9513442.00</td>\n",
       "      <td>356.18</td>\n",
       "      <td>1703.93</td>\n",
       "      <td>555.57</td>\n",
       "      <td>6039.11</td>\n",
       "      <td>NaN</td>\n",
       "    </tr>\n",
       "    <tr>\n",
       "      <th>137</th>\n",
       "      <td>2862</td>\n",
       "      <td>Formosa Sunshine Project</td>\n",
       "      <td>Construction of a new chemical complex that would be capable of producing 960 thousand tons per year (KTA) of high density polyethylene, 1,040 KTA of low density polyethylene, 660 KTA of polypropylene, and 2,180 KTA of ethylene glycol.</td>\n",
       "      <td>82.9</td>\n",
       "      <td>13628091.00</td>\n",
       "      <td>339.81</td>\n",
       "      <td>1242.53</td>\n",
       "      <td>1667.89</td>\n",
       "      <td>2768.93</td>\n",
       "      <td>NaN</td>\n",
       "    </tr>\n",
       "  </tbody>\n",
       "</table>\n",
       "</div>"
      ],
      "text/plain": [
       "       id  \\\n",
       "389  3119   \n",
       "98   2822   \n",
       "37   2760   \n",
       "39   2762   \n",
       "426  3157   \n",
       "151  2877   \n",
       "43   2766   \n",
       "276  3005   \n",
       "152  2878   \n",
       "408  3138   \n",
       "306  3036   \n",
       "222  2951   \n",
       "100  2824   \n",
       "567  4217   \n",
       "92   2816   \n",
       "332  3062   \n",
       "149  2875   \n",
       "294  3024   \n",
       "620  4557   \n",
       "148  2874   \n",
       "216  2944   \n",
       "113  2838   \n",
       "137  2862   \n",
       "\n",
       "                                                                            name  \\\n",
       "389  Texas GulfLink Deepwater Port - Initial Construction                          \n",
       "98   Coyote Springs Compressor Station.10174-01                                    \n",
       "37   Blue Marlin Offshore Port - Initial Construction                              \n",
       "39   Bluewater SPM Deepwater Port - Initial Construction                           \n",
       "426  Wood River CORE Expansion and Hartford Terminal Expansion Projects.10283-01   \n",
       "151  Geismar Methanol Plant 3 and G1/G2 Debottlenecking Projects                   \n",
       "43   Borger Refinery, Crude Flexibility and Modernization Project                  \n",
       "276  Equistar Corpus Christi - Olefins Plant Expansion                             \n",
       "152  Geismar Methanol Plants 1 and 2                                               \n",
       "408  Valero Port Arthur Refinery Expansion Project                                 \n",
       "306  Port Arthur Refinery - Naphtha Growth and C9 Splitter Project                 \n",
       "222  Eurochem Louisiana Fertilizer Plant - Initial Construction                    \n",
       "100  Port Delfin - Initial Construction                                            \n",
       "567  Sabine Pass LNG - Trains 5, Train 6, and the Third Berth Expansion Project    \n",
       "92   Corpus Christi LNG Trains 1, 2, and 3                                         \n",
       "332  Sabine Pass LNG - Trains 1-4                                                  \n",
       "149  Alaska LNG - Gas Treatment Plant - Initial Construction                       \n",
       "294  Plaquemines LNG Terminal - Initial Construction                               \n",
       "620  CP2 LNG Terminal - Initial Construction                                       \n",
       "148  Energy Security Partners GTL Plant - Initial Construction                     \n",
       "216  Alaska LNG - New Liquefaction Plant                                           \n",
       "113  Driftwood LNG - Initial Construction                                          \n",
       "137  Formosa Sunshine Project                                                      \n",
       "\n",
       "                                                                                                                                                                                                                                                                                                                                                                                                                                                                                                                                                                                                                                                                                                   Project Description  \\\n",
       "389  The Texas GulfLink Terminal Project would consist of a Deepwater Oil Port near Freeport, Texas, capable of loading deep draft Very Large Crude Carrier (VLCC) vessels. The Deepwater Port will deliver crude oil via an onshore crude pipeline to above-ground crude oil storage tanks. Upon nomination from the crude oil shipper, the oil will be transported to one of two floating Single Point Mooring (SPM) buoys in the Gulf of Mexico, which would will allow for VLCC vessels to moor and receive up to 2 million barrels of crude oil each to be exported internationally.                                                                                                                                \n",
       "98   Construction of a new compressor station along Gas Transmission Northwest's existing pipeline, which runs from the Canadian border through the states of Idaho, Washington and Oregon to California. This permit will allow the installation of a Solar Saturn 20 turbine, a Caterpillar emergency engine generator set, a new fuel gas heater and two space heaters.                                                                                                                                                                                                                                                                                                                                               \n",
       "37   Construction of a new offshore deepwater export terminal, including the conversion of existing offshore platforms from gas transmission facilities to natural gas and crude oil facilities. The DWP would provide crude oil transportation and loading services utilizing very large crude carriers (VLCCs) (and other crude oil carriers). Oil for export will be transported out of the existing Nederland Terminal in Jefferson County.                                                                                                                                                                                                                                                                          \n",
       "39   Construction of a new deepwater port in the federal waters of the Gulf of Mexico, which would consist of two single point mooring buoys and would allow for export of domestically produced crude oil. The marine loading operations associated with the Bluewater SPM Deepwater Port would be able to handle 384 million barrels of crude oil every year.                                                                                                                                                                                                                                                                                                                                                          \n",
       "426  Modifications to increase processing capacity of heavier crude at the Wood River Refinery, including installation of two fractionation columns, three storage tanks, a cooling water tower, and one boiler.                                                                                                                                                                                                                                                                                                                                                                                                                                                                                                         \n",
       "151  Construction of a third methanol plant (Geismar III), which would be capable of producing 5,156 metric tons of methanol every day, as well as two debottlenecking projects at existing Geismar Methanol Units I and II. The G2 Unit debottlenecking project would increase methanol production at Geismar II by 14 percent, to 3,500 metric tons per day. If all three projects are completed, the Methanex Complex would be able to produce 12,156 metric tons of methanol every day.                                                                                                                                                                                                                              \n",
       "43   Installation of a new Continuous Catalytic Reformer (CCR) Unit and a new Naphtha Splitter Unit; installation of new and more efficient crude charge heaters to replace the existing crude charge heaters, and modifications in other selected refinery process units.                                                                                                                                                                                                                                                                                                                                                                                                                                               \n",
       "276  An expansion project to increase annual ethylene production capacity by 810 million pounds.                                                                                                                                                                                                                                                                                                                                                                                                                                                                                                                                                                                                                         \n",
       "152  Construction of a new methanol plant consisting of two production units, Geismar I and Geismar II, which would each be capable of producing 3,000 metric tons of methanol every day. Both plants would be relocated from Methanex's facility in Punta Arenas, Chile, and reinstalled at the Geismar location in Louisiana.                                                                                                                                                                                                                                                                                                                                                                                          \n",
       "408  Construction of a new delayed coking unit, a new sulfur recovery unit, and other modifications to increase crude capacity and throughput at the facility from 415,000 bpd to 430,000 bpd.                                                                                                                                                                                                                                                                                                                                                                                                                                                                                                                           \n",
       "306  Modifications that will allow the refinery to process more light and heavy crude oil, and refine additional reformate into higher value benzene and para-xylene through the addition of a new Aromatic Unit and associated infrastructure. Projects will add equipment to process 150,000 bpd of heavy naphtha into reformer feed (heptane and octane) and C9+ hydrocarbons.                                                                                                                                                                                                                                                                                                                                        \n",
       "222  Construction of a new fertilizer plant that would produce ammonia, urea, ammonium nitrate, urea-ammonium nitrate, and nitric acid.                                                                                                                                                                                                                                                                                                                                                                                                                                                                                                                                                                                  \n",
       "100  Construction of a new floating LNG terminal in the Gulf of Mexico, which would be capable of exporting up to 13 million metric tons of LNG per year.                                                                                                                                                                                                                                                                                                                                                                                                                                                                                                                                                                \n",
       "567  Construction of two additional liquefaction trains, Train 5 and Train 6, at the Sabine Pass LNG export terminal.                                                                                                                                                                                                                                                                                                                                                                                                                                                                                                                                                                                                    \n",
       "92   Construction of a new liquefied natural gas import and export facility that would consist of three liquefaction trains, each capable of processing 5 million metric tons of LNG per year.                                                                                                                                                                                                                                                                                                                                                                                                                                                                                                                           \n",
       "332  Construction of a new liquefied natural gas export terminal next to the existing Sabine Pass LNG Import Terminal. The Sabine Pass Liquefaction Project would consist of four liquefaction trains, each capable of producing 5 million tons per year of LNG for export.                                                                                                                                                                                                                                                                                                                                                                                                                                              \n",
       "149  Construction of a 3.5-3.9 billion cubic feet (Bcf) per day gas treatment plant on Prudhoe Bay to supply gas to the state-owned Alaska LNG project.                                                                                                                                                                                                                                                                                                                                                                                                                                                                                                                                                                  \n",
       "294  Construction of a new liquefied natural gas export terminal, capable of processing up to 24 million tons of LNG per year. The Plaquemines LNG Project would be constructed in two phases, nine liquefaction blocks at a time, and would include six pretreatment facilities, three LNG loading berths, and two 710-megawatt electric power plants.                                                                                                                                                                                                                                                                                                                                                                  \n",
       "620  Construction of the CP2 LNG Terminal, which would be capable of producing up to 28 million tons of liquefied natural gas every year. The terminal would consist of a pre-treatment facility and eighteen liquefaction units, each capable of processing over 1 million tons of liquefied natural gas per year, as well as a 1,440 megawatt gas-fired power generation facility. The proposed terminal would also include a carbon capture and sequestration facility that would be capable of sequestering an estimated 500,000 tons of CO2 per year in nearby saline aquifers. *Note: the potential greenhouse gas emissions estimates below do not incorporate potential CO2 reductions through carbon capture.   \n",
       "148  Construction of a new 33,000 barrels per day natural gas to liquid fuel conversion plant that will produce diesel and naphtha for the production of petrochemicals. Project will be constructed in three phases, with each phase adding two gas processing trains.                                                                                                                                                                                                                                                                                                                                                                                                                                                  \n",
       "216  Construction of a new natural gas liquefaction facility capable of producing up to 20 million tons of liquefied natural gas per year. This is part of the state-owned Alaska LNG project.                                                                                                                                                                                                                                                                                                                                                                                                                                                                                                                           \n",
       "113  Construction of a new LNG terminal with five liquefaction trains. The terminal will have the capacity to process 27.6 million metric tons of LNG per year for export.                                                                                                                                                                                                                                                                                                                                                                                                                                                                                                                                               \n",
       "137  Construction of a new chemical complex that would be capable of producing 960 thousand tons per year (KTA) of high density polyethylene, 1,040 KTA of low density polyethylene, 660 KTA of polypropylene, and 2,180 KTA of ethylene glycol.                                                                                                                                                                                                                                                                                                                                                                                                                                                                         \n",
       "\n",
       "    Sulfur Dioxide (SO2)  Greenhouse Gases (CO2e)  Particulate Matter (PM2.5)  \\\n",
       "389  20.16                8862.00                  3.23                         \n",
       "98   0.06                 13402.00                 0.56                         \n",
       "37   1.64                 16503.00                 1.07                         \n",
       "39   NaN                  185453.00               NaN                           \n",
       "426  2094.2               209350.00                161.30                       \n",
       "151  1.6                  457375.00                19.91                        \n",
       "43   647.89               470082.58                890.69                       \n",
       "276  1263.76              2062725.00               92.30                        \n",
       "152  10.56                2080568.00               136.63                       \n",
       "408  790.2                2862639.00               62.61                        \n",
       "306  1267.05              4191941.00               169.69                       \n",
       "222  31.89                4527943.00               524.65                       \n",
       "100  201                  4857091.00               301.00                       \n",
       "567  26.35                5036822.00              -66.51                        \n",
       "92   49.39                5538226.00               85.30                        \n",
       "332  11.89                5734190.00               254.13                       \n",
       "149  1076.3               7278238.00               903.40                       \n",
       "294  114.86               8144463.00               371.86                       \n",
       "620  208                  8253829.00               346.70                       \n",
       "148  23.3                 8378365.00               50.90                        \n",
       "216  182.6                8572968.00               1303.30                      \n",
       "113  73.61                9513442.00               356.18                       \n",
       "137  82.9                 13628091.00              339.81                       \n",
       "\n",
       "     Nitrogen Oxides (NOx)  Volatile Organic Compounds (VOC)  \\\n",
       "389  59.82                  10025.14                           \n",
       "98   30.43                  2.46                               \n",
       "37   26.02                  21881.00                           \n",
       "39  NaN                     18936.25                           \n",
       "426  920.40                 327.30                             \n",
       "151  32.94                  21.30                              \n",
       "43   368.35                 644.55                             \n",
       "276  2264.06                452.81                             \n",
       "152  178.70                 68.40                              \n",
       "408  128.40                 535.20                             \n",
       "306  668.84                 468.40                             \n",
       "222  934.39                 301.08                             \n",
       "100  4335.00                124.00                             \n",
       "567  3797.77                261.67                             \n",
       "92   3541.40                353.11                             \n",
       "332  2701.88                82.11                              \n",
       "149  3321.70                13087.20                           \n",
       "294  1103.47                133.88                             \n",
       "620  873.00                 170.30                             \n",
       "148  1199.80                635.30                             \n",
       "216  3684.90                24636.80                           \n",
       "113  1703.93                555.57                             \n",
       "137  1242.53                1667.89                            \n",
       "\n",
       "     Carbon Monoxide (CO)  Hazardous Air Pollutants (HAPs)  \n",
       "389  56.59                NaN                               \n",
       "98   38.24                 182.95                           \n",
       "37   57.88                 1230.00                          \n",
       "39  NaN                    833.18                           \n",
       "426  882.40               NaN                               \n",
       "151  154.26                633.89                           \n",
       "43   2722.41              NaN                               \n",
       "276  1638.85              NaN                               \n",
       "152  175.22                258.63                           \n",
       "408  363.98               NaN                               \n",
       "306  2385.20              NaN                               \n",
       "222  1902.06              NaN                               \n",
       "100  7021.00              NaN                               \n",
       "567  343.32               NaN                               \n",
       "92   3621.77              NaN                               \n",
       "332  4891.00              NaN                               \n",
       "149  9026.90              NaN                               \n",
       "294  1821.47              NaN                               \n",
       "620  1276.40               37.10                            \n",
       "148  1852.70               72.66                            \n",
       "216  11927.40             NaN                               \n",
       "113  6039.11              NaN                               \n",
       "137  2768.93              NaN                               "
      ]
     },
     "execution_count": 130,
     "metadata": {},
     "output_type": "execute_result"
    }
   ],
   "source": [
    "proj.loc[extremely_large, ['id', 'name', 'Project Description', 'Sulfur Dioxide (SO2)'] + emission_cols].sort_values('Greenhouse Gases (CO2e)')"
   ]
  },
  {
   "cell_type": "code",
   "execution_count": 131,
   "id": "860746d6-57cf-4793-96a3-b3cdcd00c05d",
   "metadata": {},
   "outputs": [],
   "source": [
    "import matplotlib.pyplot as plt"
   ]
  },
  {
   "cell_type": "code",
   "execution_count": 136,
   "id": "1d6138dd-d747-4fbc-acd8-33d89c1677c7",
   "metadata": {},
   "outputs": [
    {
     "data": {
      "text/plain": [
       "<AxesSubplot:>"
      ]
     },
     "execution_count": 136,
     "metadata": {},
     "output_type": "execute_result"
    },
    {
     "data": {
      "image/png": "[encoded data removed]",
      "text/plain": [
       "<Figure size 360x2016 with 7 Axes>"
      ]
     },
     "metadata": {
      "needs_background": "light"
     },
     "output_type": "display_data"
    }
   ],
   "source": [
    "# NOTE: this only includes positive values (most but not all of them)\n",
    "n = len(emission_cols)+1\n",
    "fig, axes = plt.subplots(nrows=n, figsize=(5, n*4))\n",
    "for i, col in enumerate(emission_cols):\n",
    "    proj.loc[:, col].replace(0,np.nan).transform(np.log10).hist(bins=40, ax=axes[i])\n",
    "    axes[i].set_title(col)\n",
    "sulfur.replace(0,np.nan).transform(np.log10).hist(bins=40, ax=axes[n-1])"
   ]
  },
  {
   "cell_type": "code",
   "execution_count": 137,
   "id": "c6331369-3246-4f40-bc51-ef0869714546",
   "metadata": {},
   "outputs": [
    {
     "data": {
      "text/plain": [
       "<AxesSubplot:>"
      ]
     },
     "execution_count": 137,
     "metadata": {},
     "output_type": "execute_result"
    },
    {
     "data": {
      "image/png": "[encoded data removed]",
      "text/plain": [
       "<Figure size 360x2016 with 7 Axes>"
      ]
     },
     "metadata": {
      "needs_background": "light"
     },
     "output_type": "display_data"
    }
   ],
   "source": [
    "# Negative values only\n",
    "n = len(emission_cols)+1\n",
    "fig, axes = plt.subplots(nrows=n, figsize=(5, n*4))\n",
    "for i, col in enumerate(emission_cols):\n",
    "    proj.loc[:, col].mul(-1).replace(0,np.nan).transform(np.log10).hist(bins=10, ax=axes[i])\n",
    "    axes[i].set_title(col)\n",
    "sulfur.mul(-1).replace(0,np.nan).transform(np.log10).hist(bins=10, ax=axes[n-1])"
   ]
  },
  {
   "cell_type": "markdown",
   "id": "89dc9a3d-8791-4794-8f66-724ea3728d08",
   "metadata": {},
   "source": [
    "#### IDs\n",
    "There are lots of ID columns, but I only care about Facility IDs and Air Construction IDs"
   ]
  },
  {
   "cell_type": "code",
   "execution_count": 101,
   "id": "68fc4a1b-4d99-46a8-b3bf-8233af429023",
   "metadata": {},
   "outputs": [
    {
     "data": {
      "text/plain": [
       "['Facility (ID)', 'Air Construction (ID)', 'Air Operating (ID)', 'NGA (ID)']"
      ]
     },
     "execution_count": 101,
     "metadata": {},
     "output_type": "execute_result"
    }
   ],
   "source": [
    "# defined way up near the top\n",
    "id_cols"
   ]
  },
  {
   "cell_type": "code",
   "execution_count": 104,
   "id": "f09ee92b-c24d-47bd-80be-b105fefdad96",
   "metadata": {},
   "outputs": [
    {
     "data": {
      "text/html": [
       "<div>\n",
       "<style scoped>\n",
       "    .dataframe tbody tr th:only-of-type {\n",
       "        vertical-align: middle;\n",
       "    }\n",
       "\n",
       "    .dataframe tbody tr th {\n",
       "        vertical-align: top;\n",
       "    }\n",
       "\n",
       "    .dataframe thead th {\n",
       "        text-align: right;\n",
       "    }\n",
       "</style>\n",
       "<table border=\"1\" class=\"dataframe\">\n",
       "  <thead>\n",
       "    <tr style=\"text-align: right;\">\n",
       "      <th></th>\n",
       "      <th>0</th>\n",
       "      <th>1</th>\n",
       "      <th>2</th>\n",
       "    </tr>\n",
       "  </thead>\n",
       "  <tbody>\n",
       "    <tr>\n",
       "      <th>0</th>\n",
       "      <td>739</td>\n",
       "      <td>NaN</td>\n",
       "      <td>NaN</td>\n",
       "    </tr>\n",
       "    <tr>\n",
       "      <th>1</th>\n",
       "      <td>740</td>\n",
       "      <td>NaN</td>\n",
       "      <td>NaN</td>\n",
       "    </tr>\n",
       "    <tr>\n",
       "      <th>2</th>\n",
       "      <td>741</td>\n",
       "      <td>NaN</td>\n",
       "      <td>NaN</td>\n",
       "    </tr>\n",
       "    <tr>\n",
       "      <th>3</th>\n",
       "      <td>742</td>\n",
       "      <td>NaN</td>\n",
       "      <td>NaN</td>\n",
       "    </tr>\n",
       "    <tr>\n",
       "      <th>4</th>\n",
       "      <td>758</td>\n",
       "      <td>NaN</td>\n",
       "      <td>NaN</td>\n",
       "    </tr>\n",
       "  </tbody>\n",
       "</table>\n",
       "</div>"
      ],
      "text/plain": [
       "     0   1   2\n",
       "0  739 NaN NaN\n",
       "1  740 NaN NaN\n",
       "2  741 NaN NaN\n",
       "3  742 NaN NaN\n",
       "4  758 NaN NaN"
      ]
     },
     "execution_count": 104,
     "metadata": {},
     "output_type": "execute_result"
    }
   ],
   "source": [
    "fac_ids = proj['Facility (ID)'].str.split(',', expand=True)\n",
    "for col in fac_ids.columns:\n",
    "    fac_ids.loc[:, col] = pd.to_numeric(fac_ids.loc[:, col], errors='coerce')\n",
    "\n",
    "fac_ids.head()"
   ]
  },
  {
   "cell_type": "code",
   "execution_count": 105,
   "id": "3e7db424-53e9-43c3-aa0a-c6da2fb81023",
   "metadata": {},
   "outputs": [
    {
     "data": {
      "text/html": [
       "<div>\n",
       "<style scoped>\n",
       "    .dataframe tbody tr th:only-of-type {\n",
       "        vertical-align: middle;\n",
       "    }\n",
       "\n",
       "    .dataframe tbody tr th {\n",
       "        vertical-align: top;\n",
       "    }\n",
       "\n",
       "    .dataframe thead th {\n",
       "        text-align: right;\n",
       "    }\n",
       "</style>\n",
       "<table border=\"1\" class=\"dataframe\">\n",
       "  <thead>\n",
       "    <tr style=\"text-align: right;\">\n",
       "      <th></th>\n",
       "      <th>0</th>\n",
       "      <th>1</th>\n",
       "      <th>2</th>\n",
       "    </tr>\n",
       "  </thead>\n",
       "  <tbody>\n",
       "    <tr>\n",
       "      <th>count</th>\n",
       "      <td>672.000000</td>\n",
       "      <td>5.000000</td>\n",
       "      <td>1.0</td>\n",
       "    </tr>\n",
       "    <tr>\n",
       "      <th>mean</th>\n",
       "      <td>1799.324405</td>\n",
       "      <td>3735.400000</td>\n",
       "      <td>4106.0</td>\n",
       "    </tr>\n",
       "    <tr>\n",
       "      <th>std</th>\n",
       "      <td>1437.372711</td>\n",
       "      <td>212.252915</td>\n",
       "      <td>NaN</td>\n",
       "    </tr>\n",
       "    <tr>\n",
       "      <th>min</th>\n",
       "      <td>739.000000</td>\n",
       "      <td>3598.000000</td>\n",
       "      <td>4106.0</td>\n",
       "    </tr>\n",
       "    <tr>\n",
       "      <th>25%</th>\n",
       "      <td>874.000000</td>\n",
       "      <td>3605.000000</td>\n",
       "      <td>4106.0</td>\n",
       "    </tr>\n",
       "    <tr>\n",
       "      <th>50%</th>\n",
       "      <td>1014.500000</td>\n",
       "      <td>3683.000000</td>\n",
       "      <td>4106.0</td>\n",
       "    </tr>\n",
       "    <tr>\n",
       "      <th>75%</th>\n",
       "      <td>3750.500000</td>\n",
       "      <td>3683.000000</td>\n",
       "      <td>4106.0</td>\n",
       "    </tr>\n",
       "    <tr>\n",
       "      <th>max</th>\n",
       "      <td>4866.000000</td>\n",
       "      <td>4108.000000</td>\n",
       "      <td>4106.0</td>\n",
       "    </tr>\n",
       "  </tbody>\n",
       "</table>\n",
       "</div>"
      ],
      "text/plain": [
       "                 0            1       2\n",
       "count  672.000000   5.000000     1.0   \n",
       "mean   1799.324405  3735.400000  4106.0\n",
       "std    1437.372711  212.252915  NaN    \n",
       "min    739.000000   3598.000000  4106.0\n",
       "25%    874.000000   3605.000000  4106.0\n",
       "50%    1014.500000  3683.000000  4106.0\n",
       "75%    3750.500000  3683.000000  4106.0\n",
       "max    4866.000000  4108.000000  4106.0"
      ]
     },
     "execution_count": 105,
     "metadata": {},
     "output_type": "execute_result"
    }
   ],
   "source": [
    "# they all look in the same range\n",
    "fac_ids.describe()"
   ]
  },
  {
   "cell_type": "code",
   "execution_count": 107,
   "id": "398b7d49-c594-46e7-b444-f5e03004ae62",
   "metadata": {},
   "outputs": [
    {
     "data": {
      "text/html": [
       "<div>\n",
       "<style scoped>\n",
       "    .dataframe tbody tr th:only-of-type {\n",
       "        vertical-align: middle;\n",
       "    }\n",
       "\n",
       "    .dataframe tbody tr th {\n",
       "        vertical-align: top;\n",
       "    }\n",
       "\n",
       "    .dataframe thead th {\n",
       "        text-align: right;\n",
       "    }\n",
       "</style>\n",
       "<table border=\"1\" class=\"dataframe\">\n",
       "  <thead>\n",
       "    <tr style=\"text-align: right;\">\n",
       "      <th></th>\n",
       "      <th>0</th>\n",
       "      <th>1</th>\n",
       "      <th>2</th>\n",
       "      <th>3</th>\n",
       "      <th>4</th>\n",
       "      <th>5</th>\n",
       "      <th>6</th>\n",
       "    </tr>\n",
       "  </thead>\n",
       "  <tbody>\n",
       "    <tr>\n",
       "      <th>0</th>\n",
       "      <td>1573.0</td>\n",
       "      <td>1574.0</td>\n",
       "      <td>4137.0</td>\n",
       "      <td>4826.0</td>\n",
       "      <td>4878.0</td>\n",
       "      <td>NaN</td>\n",
       "      <td>NaN</td>\n",
       "    </tr>\n",
       "    <tr>\n",
       "      <th>1</th>\n",
       "      <td>2079.0</td>\n",
       "      <td>NaN</td>\n",
       "      <td>NaN</td>\n",
       "      <td>NaN</td>\n",
       "      <td>NaN</td>\n",
       "      <td>NaN</td>\n",
       "      <td>NaN</td>\n",
       "    </tr>\n",
       "    <tr>\n",
       "      <th>2</th>\n",
       "      <td>2361.0</td>\n",
       "      <td>NaN</td>\n",
       "      <td>NaN</td>\n",
       "      <td>NaN</td>\n",
       "      <td>NaN</td>\n",
       "      <td>NaN</td>\n",
       "      <td>NaN</td>\n",
       "    </tr>\n",
       "    <tr>\n",
       "      <th>3</th>\n",
       "      <td>2181.0</td>\n",
       "      <td>2182.0</td>\n",
       "      <td>4266.0</td>\n",
       "      <td>NaN</td>\n",
       "      <td>NaN</td>\n",
       "      <td>NaN</td>\n",
       "      <td>NaN</td>\n",
       "    </tr>\n",
       "    <tr>\n",
       "      <th>4</th>\n",
       "      <td>1578.0</td>\n",
       "      <td>NaN</td>\n",
       "      <td>NaN</td>\n",
       "      <td>NaN</td>\n",
       "      <td>NaN</td>\n",
       "      <td>NaN</td>\n",
       "      <td>NaN</td>\n",
       "    </tr>\n",
       "  </tbody>\n",
       "</table>\n",
       "</div>"
      ],
      "text/plain": [
       "        0       1       2       3       4   5   6\n",
       "0  1573.0  1574.0  4137.0  4826.0  4878.0 NaN NaN\n",
       "1  2079.0 NaN     NaN     NaN     NaN     NaN NaN\n",
       "2  2361.0 NaN     NaN     NaN     NaN     NaN NaN\n",
       "3  2181.0  2182.0  4266.0 NaN     NaN     NaN NaN\n",
       "4  1578.0 NaN     NaN     NaN     NaN     NaN NaN"
      ]
     },
     "execution_count": 107,
     "metadata": {},
     "output_type": "execute_result"
    }
   ],
   "source": [
    "air_const_ids = proj['Air Construction (ID)'].str.split(',', expand=True)\n",
    "for col in air_const_ids.columns:\n",
    "    air_const_ids.loc[:, col] = pd.to_numeric(air_const_ids.loc[:, col], errors='coerce')\n",
    "\n",
    "air_const_ids.head()"
   ]
  },
  {
   "cell_type": "code",
   "execution_count": 108,
   "id": "f7b92f4d-2b2c-4d87-ad01-a0f0a8daebed",
   "metadata": {},
   "outputs": [
    {
     "data": {
      "text/html": [
       "<div>\n",
       "<style scoped>\n",
       "    .dataframe tbody tr th:only-of-type {\n",
       "        vertical-align: middle;\n",
       "    }\n",
       "\n",
       "    .dataframe tbody tr th {\n",
       "        vertical-align: top;\n",
       "    }\n",
       "\n",
       "    .dataframe thead th {\n",
       "        text-align: right;\n",
       "    }\n",
       "</style>\n",
       "<table border=\"1\" class=\"dataframe\">\n",
       "  <thead>\n",
       "    <tr style=\"text-align: right;\">\n",
       "      <th></th>\n",
       "      <th>0</th>\n",
       "      <th>1</th>\n",
       "      <th>2</th>\n",
       "      <th>3</th>\n",
       "      <th>4</th>\n",
       "      <th>5</th>\n",
       "      <th>6</th>\n",
       "    </tr>\n",
       "  </thead>\n",
       "  <tbody>\n",
       "    <tr>\n",
       "      <th>count</th>\n",
       "      <td>554.000000</td>\n",
       "      <td>170.000000</td>\n",
       "      <td>63.000000</td>\n",
       "      <td>25.000000</td>\n",
       "      <td>11.000000</td>\n",
       "      <td>5.000000</td>\n",
       "      <td>2.000000</td>\n",
       "    </tr>\n",
       "    <tr>\n",
       "      <th>mean</th>\n",
       "      <td>2565.200361</td>\n",
       "      <td>2754.405882</td>\n",
       "      <td>2778.904762</td>\n",
       "      <td>2446.720000</td>\n",
       "      <td>2528.090909</td>\n",
       "      <td>2266.800000</td>\n",
       "      <td>1653.000000</td>\n",
       "    </tr>\n",
       "    <tr>\n",
       "      <th>std</th>\n",
       "      <td>1012.288987</td>\n",
       "      <td>1138.962164</td>\n",
       "      <td>1133.062731</td>\n",
       "      <td>1067.237498</td>\n",
       "      <td>1233.418701</td>\n",
       "      <td>1060.422416</td>\n",
       "      <td>31.112698</td>\n",
       "    </tr>\n",
       "    <tr>\n",
       "      <th>min</th>\n",
       "      <td>1573.000000</td>\n",
       "      <td>1574.000000</td>\n",
       "      <td>1620.000000</td>\n",
       "      <td>1621.000000</td>\n",
       "      <td>1622.000000</td>\n",
       "      <td>1623.000000</td>\n",
       "      <td>1631.000000</td>\n",
       "    </tr>\n",
       "    <tr>\n",
       "      <th>25%</th>\n",
       "      <td>1882.250000</td>\n",
       "      <td>1891.500000</td>\n",
       "      <td>1805.000000</td>\n",
       "      <td>1672.000000</td>\n",
       "      <td>1655.000000</td>\n",
       "      <td>1630.000000</td>\n",
       "      <td>1642.000000</td>\n",
       "    </tr>\n",
       "    <tr>\n",
       "      <th>50%</th>\n",
       "      <td>2166.500000</td>\n",
       "      <td>2174.000000</td>\n",
       "      <td>2270.000000</td>\n",
       "      <td>2150.000000</td>\n",
       "      <td>1898.000000</td>\n",
       "      <td>1674.000000</td>\n",
       "      <td>1653.000000</td>\n",
       "    </tr>\n",
       "    <tr>\n",
       "      <th>75%</th>\n",
       "      <td>2432.750000</td>\n",
       "      <td>4076.250000</td>\n",
       "      <td>4092.000000</td>\n",
       "      <td>2430.000000</td>\n",
       "      <td>3182.000000</td>\n",
       "      <td>2317.000000</td>\n",
       "      <td>1664.000000</td>\n",
       "    </tr>\n",
       "    <tr>\n",
       "      <th>max</th>\n",
       "      <td>4881.000000</td>\n",
       "      <td>4877.000000</td>\n",
       "      <td>4862.000000</td>\n",
       "      <td>4826.000000</td>\n",
       "      <td>4878.000000</td>\n",
       "      <td>4090.000000</td>\n",
       "      <td>1675.000000</td>\n",
       "    </tr>\n",
       "  </tbody>\n",
       "</table>\n",
       "</div>"
      ],
      "text/plain": [
       "                 0            1            2            3            4  \\\n",
       "count  554.000000   170.000000   63.000000    25.000000    11.000000     \n",
       "mean   2565.200361  2754.405882  2778.904762  2446.720000  2528.090909   \n",
       "std    1012.288987  1138.962164  1133.062731  1067.237498  1233.418701   \n",
       "min    1573.000000  1574.000000  1620.000000  1621.000000  1622.000000   \n",
       "25%    1882.250000  1891.500000  1805.000000  1672.000000  1655.000000   \n",
       "50%    2166.500000  2174.000000  2270.000000  2150.000000  1898.000000   \n",
       "75%    2432.750000  4076.250000  4092.000000  2430.000000  3182.000000   \n",
       "max    4881.000000  4877.000000  4862.000000  4826.000000  4878.000000   \n",
       "\n",
       "                 5            6  \n",
       "count  5.000000     2.000000     \n",
       "mean   2266.800000  1653.000000  \n",
       "std    1060.422416  31.112698    \n",
       "min    1623.000000  1631.000000  \n",
       "25%    1630.000000  1642.000000  \n",
       "50%    1674.000000  1653.000000  \n",
       "75%    2317.000000  1664.000000  \n",
       "max    4090.000000  1675.000000  "
      ]
     },
     "execution_count": 108,
     "metadata": {},
     "output_type": "execute_result"
    }
   ],
   "source": [
    "# they all look in the same range\n",
    "air_const_ids.describe()"
   ]
  },
  {
   "cell_type": "markdown",
   "id": "da317c8f-bb4e-4584-a83b-16a674b396ad",
   "metadata": {},
   "source": [
    "#### Project Cost\n",
    "Check uniformity at the same time: should be in millions of dollars. Check vs thousands or single dollars."
   ]
  },
  {
   "cell_type": "code",
   "execution_count": 43,
   "id": "b262c2f1-abeb-4724-96dc-1190750c26cc",
   "metadata": {},
   "outputs": [
    {
     "data": {
      "text/plain": [
       "<AxesSubplot:>"
      ]
     },
     "execution_count": 43,
     "metadata": {},
     "output_type": "execute_result"
    },
    {
     "data": {
      "image/png": "[encoded data removed]",
      "text/plain": [
       "<Figure size 432x288 with 1 Axes>"
      ]
     },
     "metadata": {
      "needs_background": "light"
     },
     "output_type": "display_data"
    }
   ],
   "source": [
    "# wrong dtype\n",
    "proj['Project Cost (million $)'].hist(bins=30)"
   ]
  },
  {
   "cell_type": "markdown",
   "id": "1928f08b-1781-4384-84c1-904c80ad48b9",
   "metadata": {},
   "source": [
    "By manual inspection (there are not that many values present), I see that there are a handful of values of the form \"XX, XX\". The first number is repeated in an array. So I want to use the same method that fixed the identical issue in the `State` column. But first I need to check that there are no commas present as thousands separators or for other reasons. Check that a split on commas produces two identical values:"
   ]
  },
  {
   "cell_type": "code",
   "execution_count": 46,
   "id": "d7997578-40ea-4ad4-bd69-42df9fa08baa",
   "metadata": {},
   "outputs": [
    {
     "data": {
      "text/html": [
       "<div>\n",
       "<style scoped>\n",
       "    .dataframe tbody tr th:only-of-type {\n",
       "        vertical-align: middle;\n",
       "    }\n",
       "\n",
       "    .dataframe tbody tr th {\n",
       "        vertical-align: top;\n",
       "    }\n",
       "\n",
       "    .dataframe thead th {\n",
       "        text-align: right;\n",
       "    }\n",
       "</style>\n",
       "<table border=\"1\" class=\"dataframe\">\n",
       "  <thead>\n",
       "    <tr style=\"text-align: right;\">\n",
       "      <th></th>\n",
       "      <th>0</th>\n",
       "      <th>1</th>\n",
       "    </tr>\n",
       "  </thead>\n",
       "  <tbody>\n",
       "    <tr>\n",
       "      <th>297</th>\n",
       "      <td>350</td>\n",
       "      <td>350</td>\n",
       "    </tr>\n",
       "    <tr>\n",
       "      <th>444</th>\n",
       "      <td>10</td>\n",
       "      <td>10</td>\n",
       "    </tr>\n",
       "    <tr>\n",
       "      <th>573</th>\n",
       "      <td>80</td>\n",
       "      <td>80</td>\n",
       "    </tr>\n",
       "    <tr>\n",
       "      <th>588</th>\n",
       "      <td>30</td>\n",
       "      <td>30</td>\n",
       "    </tr>\n",
       "  </tbody>\n",
       "</table>\n",
       "</div>"
      ],
      "text/plain": [
       "       0     1\n",
       "297  350   350\n",
       "444   10    10\n",
       "573   80    80\n",
       "588   30    30"
      ]
     },
     "execution_count": 46,
     "metadata": {},
     "output_type": "execute_result"
    }
   ],
   "source": [
    "proj['Project Cost (million $)'].str.split(',', expand=True).dropna()"
   ]
  },
  {
   "cell_type": "code",
   "execution_count": 51,
   "id": "311b7e88-00ce-4c85-906e-5f6226f4a470",
   "metadata": {},
   "outputs": [
    {
     "data": {
      "text/plain": [
       "<AxesSubplot:>"
      ]
     },
     "execution_count": 51,
     "metadata": {},
     "output_type": "execute_result"
    },
    {
     "data": {
      "image/png": "[encoded data removed]",
      "text/plain": [
       "<Figure size 432x288 with 1 Axes>"
      ]
     },
     "metadata": {
      "needs_background": "light"
     },
     "output_type": "display_data"
    }
   ],
   "source": [
    "# definitely no single dollar amounts.\n",
    "# As for thousands, check that the 8-14 billion dollar projects are plausible\n",
    "cost = pd.to_numeric(proj['Project Cost (million $)'].str.split(',').str[0], errors='raise')\n",
    "cost.hist(bins=20)"
   ]
  },
  {
   "cell_type": "code",
   "execution_count": 52,
   "id": "15cb968e-38e9-44f6-9ebd-35fa5aaf7bc8",
   "metadata": {},
   "outputs": [
    {
     "data": {
      "text/plain": [
       "<AxesSubplot:>"
      ]
     },
     "execution_count": 52,
     "metadata": {},
     "output_type": "execute_result"
    },
    {
     "data": {
      "image/png": "[encoded data removed]",
      "text/plain": [
       "<Figure size 432x288 with 1 Axes>"
      ]
     },
     "metadata": {
      "needs_background": "light"
     },
     "output_type": "display_data"
    }
   ],
   "source": [
    "# log transform\n",
    "cost.transform(np.log10).hist(bins=20)"
   ]
  },
  {
   "cell_type": "code",
   "execution_count": 60,
   "id": "9bef6fcd-271a-40fb-a9a5-6305ebe45a4a",
   "metadata": {},
   "outputs": [
    {
     "data": {
      "text/html": [
       "<div>\n",
       "<style scoped>\n",
       "    .dataframe tbody tr th:only-of-type {\n",
       "        vertical-align: middle;\n",
       "    }\n",
       "\n",
       "    .dataframe tbody tr th {\n",
       "        vertical-align: top;\n",
       "    }\n",
       "\n",
       "    .dataframe thead th {\n",
       "        text-align: right;\n",
       "    }\n",
       "</style>\n",
       "<table border=\"1\" class=\"dataframe\">\n",
       "  <thead>\n",
       "    <tr style=\"text-align: right;\">\n",
       "      <th></th>\n",
       "      <th>name</th>\n",
       "      <th>Project Cost (million $)</th>\n",
       "      <th>Project Description</th>\n",
       "    </tr>\n",
       "  </thead>\n",
       "  <tbody>\n",
       "    <tr>\n",
       "      <th>113</th>\n",
       "      <td>Driftwood LNG - Initial Construction</td>\n",
       "      <td>14500</td>\n",
       "      <td>Construction of a new LNG terminal with five liquefaction trains. The terminal will have the capacity to process 27.6 million metric tons of LNG per year for export.</td>\n",
       "    </tr>\n",
       "    <tr>\n",
       "      <th>54</th>\n",
       "      <td>Cameron LNG Phase I</td>\n",
       "      <td>10000</td>\n",
       "      <td>Construction of a new liquefied natural gas export terminal next to the existing Cameron LNG Import Terminal. Phase I of the project would involve the construction of three liquefaction trains (Trains 1, 2, and 3), each capable of processing up to 5 million metric tons of LNG per year.</td>\n",
       "    </tr>\n",
       "    <tr>\n",
       "      <th>283</th>\n",
       "      <td>GCGV Complex - Ethylene Plant, MEG Plant, LDPE Plant</td>\n",
       "      <td>10000</td>\n",
       "      <td>Construction of a new organic chemicals manufacturing complex, which includes: an ethylene plant, a monoethylene glycol plant, two linear low density polyethylene plants, and supporting logistical and utility infrastructure.</td>\n",
       "    </tr>\n",
       "    <tr>\n",
       "      <th>137</th>\n",
       "      <td>Formosa Sunshine Project</td>\n",
       "      <td>9400</td>\n",
       "      <td>Construction of a new chemical complex that would be capable of producing 960 thousand tons per year (KTA) of high density polyethylene, 1,040 KTA of low density polyethylene, 660 KTA of polypropylene, and 2,180 KTA of ethylene glycol.</td>\n",
       "    </tr>\n",
       "    <tr>\n",
       "      <th>303</th>\n",
       "      <td>Port Arthur LNG Base Project</td>\n",
       "      <td>9000</td>\n",
       "      <td>The Port Arthur LNG Terminal would be constructed in two phases. The base project would consist of two liquefaction units, Trains 1 and 2, which would be capable of processing up to 13.5 million tons of LNG per year.</td>\n",
       "    </tr>\n",
       "    <tr>\n",
       "      <th>294</th>\n",
       "      <td>Plaquemines LNG Terminal - Initial Construction</td>\n",
       "      <td>8200</td>\n",
       "      <td>Construction of a new liquefied natural gas export terminal, capable of processing up to 24 million tons of LNG per year. The Plaquemines LNG Project would be constructed in two phases, nine liquefaction blocks at a time, and would include six pretreatment facilities, three LNG loading berths, and two 710-megawatt electric power plants.</td>\n",
       "    </tr>\n",
       "    <tr>\n",
       "      <th>65</th>\n",
       "      <td>Chemical Orange Polyethylene Plant Expansion</td>\n",
       "      <td>8000</td>\n",
       "      <td>Construction of a new ethylene cracking unit and two polyethylene units, capable of producing 2 million tons of ethylene and 2 million tons of high-density polyethylene annually.</td>\n",
       "    </tr>\n",
       "    <tr>\n",
       "      <th>607</th>\n",
       "      <td>Nacero Marcellus Facility - Initial Construction</td>\n",
       "      <td>6000</td>\n",
       "      <td>Construction of the Nacero Marcellus gas to liquids facility, which would convert natural gas to syngas, hydrogen, and methanol to manufacture gasoline.</td>\n",
       "    </tr>\n",
       "  </tbody>\n",
       "</table>\n",
       "</div>"
      ],
      "text/plain": [
       "                                                     name  \\\n",
       "113  Driftwood LNG - Initial Construction                   \n",
       "54   Cameron LNG Phase I                                    \n",
       "283  GCGV Complex - Ethylene Plant, MEG Plant, LDPE Plant   \n",
       "137  Formosa Sunshine Project                               \n",
       "303  Port Arthur LNG Base Project                           \n",
       "294  Plaquemines LNG Terminal - Initial Construction        \n",
       "65   Chemical Orange Polyethylene Plant Expansion           \n",
       "607  Nacero Marcellus Facility - Initial Construction       \n",
       "\n",
       "    Project Cost (million $)  \\\n",
       "113  14500                     \n",
       "54   10000                     \n",
       "283  10000                     \n",
       "137  9400                      \n",
       "303  9000                      \n",
       "294  8200                      \n",
       "65   8000                      \n",
       "607  6000                      \n",
       "\n",
       "                                                                                                                                                                                                                                                                                                                                    Project Description  \n",
       "113  Construction of a new LNG terminal with five liquefaction trains. The terminal will have the capacity to process 27.6 million metric tons of LNG per year for export.                                                                                                                                                                               \n",
       "54   Construction of a new liquefied natural gas export terminal next to the existing Cameron LNG Import Terminal. Phase I of the project would involve the construction of three liquefaction trains (Trains 1, 2, and 3), each capable of processing up to 5 million metric tons of LNG per year.                                                      \n",
       "283  Construction of a new organic chemicals manufacturing complex, which includes: an ethylene plant, a monoethylene glycol plant, two linear low density polyethylene plants, and supporting logistical and utility infrastructure.                                                                                                                    \n",
       "137  Construction of a new chemical complex that would be capable of producing 960 thousand tons per year (KTA) of high density polyethylene, 1,040 KTA of low density polyethylene, 660 KTA of polypropylene, and 2,180 KTA of ethylene glycol.                                                                                                         \n",
       "303  The Port Arthur LNG Terminal would be constructed in two phases. The base project would consist of two liquefaction units, Trains 1 and 2, which would be capable of processing up to 13.5 million tons of LNG per year.                                                                                                                            \n",
       "294  Construction of a new liquefied natural gas export terminal, capable of processing up to 24 million tons of LNG per year. The Plaquemines LNG Project would be constructed in two phases, nine liquefaction blocks at a time, and would include six pretreatment facilities, three LNG loading berths, and two 710-megawatt electric power plants.  \n",
       "65   Construction of a new ethylene cracking unit and two polyethylene units, capable of producing 2 million tons of ethylene and 2 million tons of high-density polyethylene annually.                                                                                                                                                                  \n",
       "607  Construction of the Nacero Marcellus gas to liquids facility, which would convert natural gas to syngas, hydrogen, and methanol to manufacture gasoline.                                                                                                                                                                                            "
      ]
     },
     "execution_count": 60,
     "metadata": {},
     "output_type": "execute_result"
    }
   ],
   "source": [
    "# Yes, costs are in millions. If they were in thousands, it would mean these megafacilities were being built with 6-14.5 million dollars. I'd buy one at that price!\n",
    "pd.set_option('display.max_colwidth', 0)\n",
    "proj.loc[cost.nlargest(8).index, ['name', 'Project Cost (million $)', 'Project Description']]"
   ]
  },
  {
   "cell_type": "markdown",
   "id": "714a46e4-f06e-4da1-be23-eb6739d38645",
   "metadata": {},
   "source": [
    "#### Jobs\n",
    "Skipping for now becuase I need to make a parser first."
   ]
  },
  {
   "cell_type": "markdown",
   "id": "99034a5d-072a-4cc3-a6b2-c93dd979ce41",
   "metadata": {},
   "source": [
    "### Uniqueness Validation\n",
    "Check the `id` field"
   ]
  },
  {
   "cell_type": "code",
   "execution_count": 109,
   "id": "164ac0af-1cb1-499d-ac71-55ba4ba8c101",
   "metadata": {},
   "outputs": [
    {
     "data": {
      "text/plain": [
       "0"
      ]
     },
     "execution_count": 109,
     "metadata": {},
     "output_type": "execute_result"
    }
   ],
   "source": [
    "proj['id'].duplicated().sum()"
   ]
  },
  {
   "cell_type": "markdown",
   "id": "155fd657-398b-4e25-bed6-ec5d7108c79a",
   "metadata": {},
   "source": [
    "### Set Membership Validation\n",
    "* classification\n",
    "* industry sector\n",
    "* project type\n",
    "* operating status\n",
    "\n",
    "#### Classification\n",
    "Doesn't look like any erroneous categories to me."
   ]
  },
  {
   "cell_type": "code",
   "execution_count": 138,
   "id": "a8c6c7af-8ca3-4e35-937c-e14dbd4a22da",
   "metadata": {},
   "outputs": [
    {
     "data": {
      "text/plain": [
       "Expansion     342\n",
       "New           315\n",
       "Conversion    7  \n",
       "Restart       7  \n",
       "Name: Classification, dtype: int64"
      ]
     },
     "execution_count": 138,
     "metadata": {},
     "output_type": "execute_result"
    }
   ],
   "source": [
    "proj['Classification'].value_counts()"
   ]
  },
  {
   "cell_type": "markdown",
   "id": "db9e8f95-0ba4-4573-909b-574e5e84588c",
   "metadata": {},
   "source": [
    "#### Industry Sector\n",
    "A single one:many array value. Simplify by picking one"
   ]
  },
  {
   "cell_type": "code",
   "execution_count": 139,
   "id": "8573059c-965d-4c8b-972f-a33e0982a7a7",
   "metadata": {},
   "outputs": [
    {
     "data": {
      "text/plain": [
       "Natural Gas                           301\n",
       "Petrochemicals and Plastics           187\n",
       "Oil                                   88 \n",
       "Liquefied Natural Gas                 39 \n",
       "Synthetic Fertilizers                 32 \n",
       "Other                                 24 \n",
       "Petrochemicals and Plastics, Other    1  \n",
       "Name: Industry Sector, dtype: int64"
      ]
     },
     "execution_count": 139,
     "metadata": {},
     "output_type": "execute_result"
    }
   ],
   "source": [
    "proj['Industry Sector'].value_counts()"
   ]
  },
  {
   "cell_type": "markdown",
   "id": "257ef1e9-31ea-4e7c-abf2-259cf83b51fc",
   "metadata": {},
   "source": [
    "#### Project Type\n",
    "This column has a fair number of multivalued array entries. But the categories themselves look consistent -- no mis-spellings, etc."
   ]
  },
  {
   "cell_type": "code",
   "execution_count": 140,
   "id": "80324b70-286d-48c7-b2f8-979d86d692e5",
   "metadata": {},
   "outputs": [
    {
     "data": {
      "text/plain": [
       "Compressor Station                                                        240\n",
       "Gas Processing Plant                                                      52 \n",
       "Refinery                                                                  52 \n",
       "Liquefied Natural Gas Terminal or Liquefaction Plant                      36 \n",
       "Natural Gas Liquids Fractionator                                          32 \n",
       "Ethylene Cracker                                                          26 \n",
       "Crude Oil Terminal                                                        26 \n",
       "Ammonia/Urea Plants                                                       25 \n",
       "Plastic Resin Manufacturing                                               24 \n",
       "Methanol Plant                                                            21 \n",
       "Other Chemicals                                                           17 \n",
       "Renewable Diesel or Gasoline Refinery                                     14 \n",
       "Propylene Dehydrogenation (PDH) Plant                                     11 \n",
       "Gas Processing Plant, Natural Gas Liquids Fractionator                    9  \n",
       "Natural Gas Liquids Storage Facility                                      9  \n",
       "Natural Gas Liquids Fractionator, Gas Processing Plant                    8  \n",
       "Gas-Fired Power Plant                                                     8  \n",
       "Hydrogen Plant                                                            7  \n",
       "Associated Electricity Generation                                         7  \n",
       "Gas to Liquids Plant                                                      6  \n",
       "Condensate Splitter                                                       6  \n",
       "Plastics-to-Fuel Plant                                                    5  \n",
       "Other Pipeline Infrastructure                                             5  \n",
       "Desalination Plant                                                        5  \n",
       "Ethylene Cracker, Plastic Resin Manufacturing                             4  \n",
       "Other Inorganic Gases                                                     3  \n",
       "Ammonia/Urea Plants, Hydrogen Plant                                       2  \n",
       "Liquefied Natural Gas Storage Facility                                    2  \n",
       "Hydrogen Plant, Other Chemicals, Ammonia/Urea Plants                      1  \n",
       "Other Inorganic Gases, Hydrogen Plant                                     1  \n",
       "Produced Water Treatment Facility                                         1  \n",
       "Natural Gas Liquids Fractionator, Crude Oil Terminal                      1  \n",
       "Ethylene Cracker, Propylene Dehydrogenation (PDH) Plant                   1  \n",
       "Desalination Plant, Plastic Resin Manufacturing                           1  \n",
       "Natural Gas Liquids Fractionator, Natural Gas Liquids Storage Facility    1  \n",
       "Natural Gas Liquids Storage Facility, Natural Gas Liquids Fractionator    1  \n",
       "Ammonia/Urea Plants, Other Chemicals                                      1  \n",
       "Methanol Plant, Hydrogen Plant, Other Chemicals                           1  \n",
       "Name: Project Type, dtype: int64"
      ]
     },
     "execution_count": 140,
     "metadata": {},
     "output_type": "execute_result"
    }
   ],
   "source": [
    "proj['Project Type'].value_counts()"
   ]
  },
  {
   "cell_type": "code",
   "execution_count": 153,
   "id": "434e3032-1708-4c30-986c-7145ab27560e",
   "metadata": {},
   "outputs": [
    {
     "data": {
      "text/plain": [
       "Compressor Station                                      240\n",
       "Gas Processing Plant                                    69 \n",
       "Refinery                                                52 \n",
       "Natural Gas Liquids Fractionator                        52 \n",
       "Liquefied Natural Gas Terminal or Liquefaction Plant    36 \n",
       "Ethylene Cracker                                        31 \n",
       "Plastic Resin Manufacturing                             29 \n",
       "Ammonia/Urea Plants                                     29 \n",
       "Crude Oil Terminal                                      27 \n",
       "Methanol Plant                                          22 \n",
       "Other Chemicals                                         20 \n",
       "Renewable Diesel or Gasoline Refinery                   14 \n",
       "Propylene Dehydrogenation (PDH) Plant                   12 \n",
       "Hydrogen Plant                                          12 \n",
       "Natural Gas Liquids Storage Facility                    11 \n",
       "Gas-Fired Power Plant                                   8  \n",
       "Associated Electricity Generation                       7  \n",
       "Condensate Splitter                                     6  \n",
       "Gas to Liquids Plant                                    6  \n",
       "Desalination Plant                                      6  \n",
       "Plastics-to-Fuel Plant                                  5  \n",
       "Other Pipeline Infrastructure                           5  \n",
       "Other Inorganic Gases                                   4  \n",
       "Liquefied Natural Gas Storage Facility                  2  \n",
       "Produced Water Treatment Facility                       1  \n",
       "dtype: int64"
      ]
     },
     "execution_count": 153,
     "metadata": {},
     "output_type": "execute_result"
    }
   ],
   "source": [
    "# split and combine value counts\n",
    "proj['Project Type'].str.split(',', expand=True).stack().str.strip().value_counts()"
   ]
  },
  {
   "cell_type": "markdown",
   "id": "d5bbb4bd-42d3-410a-8591-3d2631e583dc",
   "metadata": {},
   "source": [
    "#### Operating Status\n",
    "Just need to replace \"Unknown\" with Null"
   ]
  },
  {
   "cell_type": "code",
   "execution_count": 155,
   "id": "45fb31c0-684c-4574-89fa-7effc3e8e18e",
   "metadata": {},
   "outputs": [
    {
     "data": {
      "text/plain": [
       "Operating              364\n",
       "Pre-construction       170\n",
       "Announced              40 \n",
       "Under construction     35 \n",
       "Canceled               30 \n",
       "Partially operating    16 \n",
       "On hold                15 \n",
       "Unknown                1  \n",
       "Commissioning          1  \n",
       "Name: Operating Status, dtype: int64"
      ]
     },
     "execution_count": 155,
     "metadata": {},
     "output_type": "execute_result"
    }
   ],
   "source": [
    "proj['Operating Status'].value_counts()"
   ]
  },
  {
   "cell_type": "markdown",
   "id": "5d8ec8bf-d7e1-4177-bc2d-7545275818f6",
   "metadata": {
    "tags": []
   },
   "source": [
    "### Type Validation\n",
    "Already did this while doing range validation, but `Sulfur Dioxide (SO2)`and `Project Cost` require parsing duplicative csv array values in what should be a numeric column. Also, `Number of Jobs Promised` needs parsing into two columns: permanent and temporary jobs."
   ]
  },
  {
   "cell_type": "markdown",
   "id": "1624b5ad-b9c7-4df4-b8a4-8342928608e6",
   "metadata": {},
   "source": [
    "#### Completion Year\n",
    "I started converting this to numeric, but would have to model multi-valued items. I think the benefit (sorting, quantitative analysis) is small relative to 1) the cost it will take to communicate the modeling and 2) actually doing the modelling. I think we have other fields we would filter on first."
   ]
  },
  {
   "cell_type": "code",
   "execution_count": 159,
   "id": "ab166cce-83fa-4c9f-9003-e445c7c62a27",
   "metadata": {},
   "outputs": [
    {
     "data": {
      "text/plain": [
       "<AxesSubplot:>"
      ]
     },
     "execution_count": 159,
     "metadata": {},
     "output_type": "execute_result"
    },
    {
     "data": {
      "image/png": "[encoded data removed]",
      "text/plain": [
       "<Figure size 432x288 with 1 Axes>"
      ]
     },
     "metadata": {
      "needs_background": "light"
     },
     "output_type": "display_data"
    }
   ],
   "source": [
    "proj['Actual or Expected Completion Year'].str.len().hist(bins=40)"
   ]
  },
  {
   "cell_type": "code",
   "execution_count": 160,
   "id": "28e1b210-1aaa-419a-ac4f-5b3b39bb492c",
   "metadata": {},
   "outputs": [
    {
     "data": {
      "text/plain": [
       "567    126.0\n",
       "332    79.0 \n",
       "629    19.0 \n",
       "658    16.0 \n",
       "203    14.0 \n",
       "230    14.0 \n",
       "266    14.0 \n",
       "274    14.0 \n",
       "Name: Actual or Expected Completion Year, dtype: float64"
      ]
     },
     "execution_count": 160,
     "metadata": {},
     "output_type": "execute_result"
    }
   ],
   "source": [
    "proj['Actual or Expected Completion Year'].str.len().nlargest(8)"
   ]
  },
  {
   "cell_type": "code",
   "execution_count": 161,
   "id": "fdfc579c-b3ad-4948-bd80-26b4eccb2900",
   "metadata": {},
   "outputs": [
    {
     "data": {
      "text/plain": [
       "567    Train 5 began operating in 2019. Commissioning of Train 6 began in November 2021, with full completion expected in early 2022.\n",
       "332    Trains 1 and 2 began operating in 2016. Trains 3 and 4 began operating in 2017.                                               \n",
       "629    2015/2018/2020/2022                                                                                                           \n",
       "658    2024, 2024, 2024                                                                                                              \n",
       "203    2018/2020/2021                                                                                                                \n",
       "230    2013/2015/2020                                                                                                                \n",
       "266    2015/2017/2020                                                                                                                \n",
       "274    2014/2016/2018                                                                                                                \n",
       "Name: Actual or Expected Completion Year, dtype: object"
      ]
     },
     "execution_count": 161,
     "metadata": {},
     "output_type": "execute_result"
    }
   ],
   "source": [
    "proj.loc[proj['Actual or Expected Completion Year'].str.len().nlargest(8).index, 'Actual or Expected Completion Year']"
   ]
  },
  {
   "cell_type": "markdown",
   "id": "4c493fbe-f311-44a9-a218-361d4a9dbea8",
   "metadata": {
    "tags": []
   },
   "source": [
    "### Cross-Field Validation\n",
    "None really needed. I could check that the date columns are in a logical order (modified > created, for example) but I'm not planning to really use those columns. So I skipped it."
   ]
  }
 ],
 "metadata": {
  "kernelspec": {
   "display_name": "Python 3 (ipykernel)",
   "language": "python",
   "name": "python3"
  },
  "language_info": {
   "codemirror_mode": {
    "name": "ipython",
    "version": 3
   },
   "file_extension": ".py",
   "mimetype": "text/x-python",
   "name": "python",
   "nbconvert_exporter": "python",
   "pygments_lexer": "ipython3",
   "version": "3.9.10"
  }
 },
 "nbformat": 4,
 "nbformat_minor": 5
}
