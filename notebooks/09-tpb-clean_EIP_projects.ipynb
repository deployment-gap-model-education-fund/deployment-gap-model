{
 "cells": [
  {
   "cell_type": "code",
   "execution_count": 5,
   "id": "e2c4ba01-efa8-41f4-93ab-85d9452d6fe2",
   "metadata": {},
   "outputs": [
    {
     "name": "stdout",
     "output_type": "stream",
     "text": [
      "The autoreload extension is already loaded. To reload it, use:\n",
      "  %reload_ext autoreload\n"
     ]
    }
   ],
   "source": [
    "%load_ext autoreload"
   ]
  },
  {
   "cell_type": "code",
   "execution_count": 6,
   "id": "c5fc3217-d4ed-4e3e-8a98-6fdc06769175",
   "metadata": {},
   "outputs": [],
   "source": [
    "%autoreload 2"
   ]
  },
  {
   "cell_type": "code",
   "execution_count": 7,
   "id": "baeedb9e-01aa-4702-9a82-174d677751b9",
   "metadata": {},
   "outputs": [],
   "source": [
    "import pandas as pd\n",
    "import numpy as np\n",
    "from pathlib import Path"
   ]
  },
  {
   "cell_type": "code",
   "execution_count": 8,
   "id": "c6d862f9-e588-451c-a679-1176589b0705",
   "metadata": {},
   "outputs": [],
   "source": [
    "path = Path('/app/data/raw/fossil_infrastructure.xlsx')\n",
    "assert path.exists()"
   ]
  },
  {
   "cell_type": "code",
   "execution_count": 9,
   "id": "89f17641-8b0d-45dd-970c-a3faa79e17b0",
   "metadata": {},
   "outputs": [],
   "source": [
    "# eip = dbcp.extract.eip_infrastructure.extract(path)\n",
    "# hardcode the extract function so this notebook can be easily rerun in the future without maintenance\n",
    "proj = pd.read_excel(path, sheet_name='Project')"
   ]
  },
  {
   "cell_type": "code",
   "execution_count": 10,
   "id": "956821db-2798-467e-ba75-78534afcd85a",
   "metadata": {},
   "outputs": [],
   "source": [
    "pd.options.display.max_columns = 100\n",
    "pd.options.display.max_rows = 100"
   ]
  },
  {
   "cell_type": "code",
   "execution_count": 11,
   "id": "f20883b9-8047-4f50-935b-14afb51d6bc3",
   "metadata": {},
   "outputs": [
    {
     "data": {
      "text/plain": [
       "(768, 39)"
      ]
     },
     "execution_count": 11,
     "metadata": {},
     "output_type": "execute_result"
    }
   ],
   "source": [
    "proj.shape"
   ]
  },
  {
   "cell_type": "markdown",
   "id": "ca8a087d-f556-4cb2-b9a7-540ab84a27a6",
   "metadata": {},
   "source": [
    "# Cleaning\n",
    "## Projects Cleaning\n",
    "- [x] Accuracy\n",
    "- [x] Atomicity\n",
    "- [ ] Consistency\n",
    "- [x] Completeness\n",
    "- [x] Uniformity\n",
    "- [x] Validity\n",
    "    - [x] Range Validation\n",
    "    - [x] Uniqueness Validation\n",
    "    - [x] Set Membership Validation\n",
    "    - [x] Type Validation\n",
    "    - [x] Cross-Field Validation"
   ]
  },
  {
   "cell_type": "markdown",
   "id": "ff749ff2-dea9-4d5b-ac51-950666adc19a",
   "metadata": {},
   "source": [
    "### Accuracy\n",
    "The biggest accuracy risks for this dataset are probably 1) bad reporting to the EPA (would take a huge research effort to double check that) and 2) transcription errors by EIP between the PDFs and the database. I'll do a little spot check to guard againt the second.\n",
    "\n",
    "Results: I only checked 3 facilities but still managed to find conflicting information about CO2e numbers 😕"
   ]
  },
  {
   "cell_type": "code",
   "execution_count": 12,
   "id": "90eeaf6e-e70e-4b7f-bbc3-7f9913d28884",
   "metadata": {},
   "outputs": [
    {
     "data": {
      "text/html": [
       "<div>\n",
       "<style scoped>\n",
       "    .dataframe tbody tr th:only-of-type {\n",
       "        vertical-align: middle;\n",
       "    }\n",
       "\n",
       "    .dataframe tbody tr th {\n",
       "        vertical-align: top;\n",
       "    }\n",
       "\n",
       "    .dataframe thead th {\n",
       "        text-align: right;\n",
       "    }\n",
       "</style>\n",
       "<table border=\"1\" class=\"dataframe\">\n",
       "  <thead>\n",
       "    <tr style=\"text-align: right;\">\n",
       "      <th></th>\n",
       "      <th>id</th>\n",
       "      <th>name</th>\n",
       "      <th>created_on</th>\n",
       "      <th>modified_on</th>\n",
       "      <th>Facility (ID)</th>\n",
       "      <th>Facility</th>\n",
       "      <th>CCS (ID)</th>\n",
       "      <th>CCS</th>\n",
       "      <th>Project Description</th>\n",
       "      <th>Classification</th>\n",
       "      <th>Industry Sector</th>\n",
       "      <th>Project Type</th>\n",
       "      <th>Air Construction (ID)</th>\n",
       "      <th>Air Construction</th>\n",
       "      <th>Air Operating (ID)</th>\n",
       "      <th>Air Operating</th>\n",
       "      <th>NGA (ID)</th>\n",
       "      <th>NGA</th>\n",
       "      <th>MARAD (ID)</th>\n",
       "      <th>MARAD</th>\n",
       "      <th>Other Permits (ID)</th>\n",
       "      <th>Other Permits</th>\n",
       "      <th>Greenhouse Gases (CO2e)</th>\n",
       "      <th>Particulate Matter (PM2.5)</th>\n",
       "      <th>Nitrogen Oxides (NOx)</th>\n",
       "      <th>Volatile Organic Compounds (VOC)</th>\n",
       "      <th>Sulfur Dioxide (SO2)</th>\n",
       "      <th>Carbon Monoxide (CO)</th>\n",
       "      <th>Hazardous Air Pollutants (HAPs)</th>\n",
       "      <th>Total Wetlands Affected Temporarily (acres)</th>\n",
       "      <th>Total Wetlands Affected Permanently (acres)</th>\n",
       "      <th>Detailed Permitting History</th>\n",
       "      <th>Emission Accounting Notes</th>\n",
       "      <th>Construction Status Last Updated</th>\n",
       "      <th>Operating Status</th>\n",
       "      <th>Actual or Expected Completion Year</th>\n",
       "      <th>Project Cost (million $)</th>\n",
       "      <th>Number of Jobs Promised</th>\n",
       "      <th>Target List</th>\n",
       "    </tr>\n",
       "  </thead>\n",
       "  <tbody>\n",
       "    <tr>\n",
       "      <th>668</th>\n",
       "      <td>4981</td>\n",
       "      <td>Crossroads Plant - Plants I and II Initial Con...</td>\n",
       "      <td>2022-04-18T13:37:17.978814</td>\n",
       "      <td>2022-04-18T14:40:14.151570</td>\n",
       "      <td>4982</td>\n",
       "      <td>Crossroads Plant[4982]</td>\n",
       "      <td>NaN</td>\n",
       "      <td>NaN</td>\n",
       "      <td>Construction of two new natural gas compressio...</td>\n",
       "      <td>New</td>\n",
       "      <td>Natural Gas</td>\n",
       "      <td>Gas Processing Plant, Compressor Station</td>\n",
       "      <td>4984</td>\n",
       "      <td>0760-01919-00[4984]</td>\n",
       "      <td>NaN</td>\n",
       "      <td>NaN</td>\n",
       "      <td>NaN</td>\n",
       "      <td>NaN</td>\n",
       "      <td>NaN</td>\n",
       "      <td>NaN</td>\n",
       "      <td>NaN</td>\n",
       "      <td>NaN</td>\n",
       "      <td>1258712.0</td>\n",
       "      <td>9.740</td>\n",
       "      <td>24.72</td>\n",
       "      <td>26.760</td>\n",
       "      <td>1.750</td>\n",
       "      <td>44.570</td>\n",
       "      <td>17.100</td>\n",
       "      <td>NaN</td>\n",
       "      <td>NaN</td>\n",
       "      <td>NaN</td>\n",
       "      <td>Taken from page 15 of the permit application. ...</td>\n",
       "      <td>2022-04-18</td>\n",
       "      <td>Pre-construction</td>\n",
       "      <td>2023</td>\n",
       "      <td>NaN</td>\n",
       "      <td>NaN</td>\n",
       "      <td>NaN</td>\n",
       "    </tr>\n",
       "    <tr>\n",
       "      <th>324</th>\n",
       "      <td>3057</td>\n",
       "      <td>Epic Robstown Fractionator - Initial Construction</td>\n",
       "      <td>2021-05-24T22:56:59.087382</td>\n",
       "      <td>2022-04-05T17:05:41.350262</td>\n",
       "      <td>1042</td>\n",
       "      <td>Epic Y-Grade Logistics - Robstown Fractionator...</td>\n",
       "      <td>NaN</td>\n",
       "      <td>NaN</td>\n",
       "      <td>Construction of a new fractionation plant, whi...</td>\n",
       "      <td>New</td>\n",
       "      <td>Petrochemicals and Plastics</td>\n",
       "      <td>Natural Gas Liquids Fractionator</td>\n",
       "      <td>1908</td>\n",
       "      <td>105349[1908]</td>\n",
       "      <td>NaN</td>\n",
       "      <td>NaN</td>\n",
       "      <td>NaN</td>\n",
       "      <td>NaN</td>\n",
       "      <td>NaN</td>\n",
       "      <td>NaN</td>\n",
       "      <td>NaN</td>\n",
       "      <td>NaN</td>\n",
       "      <td>NaN</td>\n",
       "      <td>13.480</td>\n",
       "      <td>36.98</td>\n",
       "      <td>97.780</td>\n",
       "      <td>0.490</td>\n",
       "      <td>90.400</td>\n",
       "      <td>NaN</td>\n",
       "      <td>NaN</td>\n",
       "      <td>NaN</td>\n",
       "      <td>105349 (issued 2/26/2016, revised 10/2/2018)</td>\n",
       "      <td>Emissions taken from final standard Permit Reg...</td>\n",
       "      <td>NaN</td>\n",
       "      <td>Operating</td>\n",
       "      <td>2020/2021</td>\n",
       "      <td>NaN</td>\n",
       "      <td>NaN</td>\n",
       "      <td>NaN</td>\n",
       "    </tr>\n",
       "    <tr>\n",
       "      <th>624</th>\n",
       "      <td>4645</td>\n",
       "      <td>Olive Creek 1</td>\n",
       "      <td>2021-12-20T17:59:27.593436</td>\n",
       "      <td>2021-12-21T22:43:00.848256</td>\n",
       "      <td>4643</td>\n",
       "      <td>Monolith Olive Creek Plant[4643]</td>\n",
       "      <td>NaN</td>\n",
       "      <td>NaN</td>\n",
       "      <td>Initial construction of a new 14,000 ton per y...</td>\n",
       "      <td>New</td>\n",
       "      <td>Petrochemicals and Plastics</td>\n",
       "      <td>Other Chemicals</td>\n",
       "      <td>4665</td>\n",
       "      <td>215[4665]</td>\n",
       "      <td>NaN</td>\n",
       "      <td>NaN</td>\n",
       "      <td>NaN</td>\n",
       "      <td>NaN</td>\n",
       "      <td>NaN</td>\n",
       "      <td>NaN</td>\n",
       "      <td>NaN</td>\n",
       "      <td>NaN</td>\n",
       "      <td>6580.2</td>\n",
       "      <td>6.045</td>\n",
       "      <td>84.84</td>\n",
       "      <td>4.622</td>\n",
       "      <td>0.535</td>\n",
       "      <td>14.663</td>\n",
       "      <td>1.603</td>\n",
       "      <td>NaN</td>\n",
       "      <td>NaN</td>\n",
       "      <td>NaN</td>\n",
       "      <td>Emissions are from p. 13 of the statement of b...</td>\n",
       "      <td>NaN</td>\n",
       "      <td>Operating</td>\n",
       "      <td>2020</td>\n",
       "      <td>100.0</td>\n",
       "      <td>NaN</td>\n",
       "      <td>NaN</td>\n",
       "    </tr>\n",
       "  </tbody>\n",
       "</table>\n",
       "</div>"
      ],
      "text/plain": [
       "       id                                               name  \\\n",
       "668  4981  Crossroads Plant - Plants I and II Initial Con...   \n",
       "324  3057  Epic Robstown Fractionator - Initial Construction   \n",
       "624  4645                                      Olive Creek 1   \n",
       "\n",
       "                     created_on                 modified_on Facility (ID)  \\\n",
       "668  2022-04-18T13:37:17.978814  2022-04-18T14:40:14.151570          4982   \n",
       "324  2021-05-24T22:56:59.087382  2022-04-05T17:05:41.350262          1042   \n",
       "624  2021-12-20T17:59:27.593436  2021-12-21T22:43:00.848256          4643   \n",
       "\n",
       "                                              Facility  CCS (ID)  CCS  \\\n",
       "668                             Crossroads Plant[4982]       NaN  NaN   \n",
       "324  Epic Y-Grade Logistics - Robstown Fractionator...       NaN  NaN   \n",
       "624                   Monolith Olive Creek Plant[4643]       NaN  NaN   \n",
       "\n",
       "                                   Project Description Classification  \\\n",
       "668  Construction of two new natural gas compressio...            New   \n",
       "324  Construction of a new fractionation plant, whi...            New   \n",
       "624  Initial construction of a new 14,000 ton per y...            New   \n",
       "\n",
       "                 Industry Sector                              Project Type  \\\n",
       "668                  Natural Gas  Gas Processing Plant, Compressor Station   \n",
       "324  Petrochemicals and Plastics          Natural Gas Liquids Fractionator   \n",
       "624  Petrochemicals and Plastics                           Other Chemicals   \n",
       "\n",
       "    Air Construction (ID)     Air Construction Air Operating (ID)  \\\n",
       "668                  4984  0760-01919-00[4984]                NaN   \n",
       "324                  1908         105349[1908]                NaN   \n",
       "624                  4665            215[4665]                NaN   \n",
       "\n",
       "    Air Operating NGA (ID)  NGA  MARAD (ID) MARAD Other Permits (ID)  \\\n",
       "668           NaN      NaN  NaN         NaN   NaN                NaN   \n",
       "324           NaN      NaN  NaN         NaN   NaN                NaN   \n",
       "624           NaN      NaN  NaN         NaN   NaN                NaN   \n",
       "\n",
       "    Other Permits  Greenhouse Gases (CO2e)  Particulate Matter (PM2.5)  \\\n",
       "668           NaN                1258712.0                       9.740   \n",
       "324           NaN                      NaN                      13.480   \n",
       "624           NaN                   6580.2                       6.045   \n",
       "\n",
       "     Nitrogen Oxides (NOx)  Volatile Organic Compounds (VOC)  \\\n",
       "668                  24.72                            26.760   \n",
       "324                  36.98                            97.780   \n",
       "624                  84.84                             4.622   \n",
       "\n",
       "     Sulfur Dioxide (SO2)  Carbon Monoxide (CO)  \\\n",
       "668                 1.750                44.570   \n",
       "324                 0.490                90.400   \n",
       "624                 0.535                14.663   \n",
       "\n",
       "     Hazardous Air Pollutants (HAPs)  \\\n",
       "668                           17.100   \n",
       "324                              NaN   \n",
       "624                            1.603   \n",
       "\n",
       "    Total Wetlands Affected Temporarily (acres)  \\\n",
       "668                                         NaN   \n",
       "324                                         NaN   \n",
       "624                                         NaN   \n",
       "\n",
       "     Total Wetlands Affected Permanently (acres)  \\\n",
       "668                                          NaN   \n",
       "324                                          NaN   \n",
       "624                                          NaN   \n",
       "\n",
       "                      Detailed Permitting History  \\\n",
       "668                                           NaN   \n",
       "324  105349 (issued 2/26/2016, revised 10/2/2018)   \n",
       "624                                           NaN   \n",
       "\n",
       "                             Emission Accounting Notes  \\\n",
       "668  Taken from page 15 of the permit application. ...   \n",
       "324  Emissions taken from final standard Permit Reg...   \n",
       "624  Emissions are from p. 13 of the statement of b...   \n",
       "\n",
       "    Construction Status Last Updated  Operating Status  \\\n",
       "668                       2022-04-18  Pre-construction   \n",
       "324                              NaN         Operating   \n",
       "624                              NaN         Operating   \n",
       "\n",
       "    Actual or Expected Completion Year  Project Cost (million $)  \\\n",
       "668                               2023                       NaN   \n",
       "324                          2020/2021                       NaN   \n",
       "624                               2020                     100.0   \n",
       "\n",
       "    Number of Jobs Promised Target List  \n",
       "668                     NaN         NaN  \n",
       "324                     NaN         NaN  \n",
       "624                     NaN         NaN  "
      ]
     },
     "execution_count": 12,
     "metadata": {},
     "output_type": "execute_result"
    }
   ],
   "source": [
    "proj.sample(3, random_state=42)"
   ]
  },
  {
   "cell_type": "markdown",
   "id": "41e44fd6-625b-4f2f-b565-7146d2d697cf",
   "metadata": {},
   "source": [
    "Sinton Compresson Station: [permit](https://api.oilandgaswatch.org/d/98/f8/98f85e1d868f4e63966d01637fc5408c.1638199494.pdf) confirmed all emissions numbers EXCEPT GHG (not mentioned). I couldn't find a source for that 450,475 number. The [environmental impact statement](https://www.ferc.gov/sites/default/files/2020-05/corpuschristiFEIS.pdf) submitted to FERC claims only 155,000 tpy of CO2e.\n",
    "\n",
    "Golden Pass LNG Terminal: GHG numbers confirmed on page 25 of [the permit doc](https://api.oilandgaswatch.org/d/18/54/18545bea701e4bed938050997b308fdf.1638219234.pdf)\n",
    "\n",
    "NGPL Compressor Station: had to go digging for the docs, but found the [FERC Environmental Assessment](https://www.ferc.gov/sites/default/files/2020-04/CP19-99-EA.pdf) that confirms the 173.4 tpy CO2e numbers."
   ]
  },
  {
   "cell_type": "markdown",
   "id": "c26eb9fa-d49d-45d1-8bd0-55cfdd2bf79f",
   "metadata": {},
   "source": [
    "### Atomicity\n",
    "By inspection I see that all the ID and associated name fields can contain multiple values. I'll only worry about Facility IDs and Air Construction Permit IDs.\n",
    "\n",
    "On a related note, both the facilities table and the project table have a column linking the two. I'll have to combine them to get a complete association entity table."
   ]
  },
  {
   "cell_type": "markdown",
   "id": "d2cad23f-ae34-4def-8d92-f0170795324a",
   "metadata": {},
   "source": [
    "### Completeness\n",
    "For this purpose, I'll limit the scope of 'completeness' to only look at missing values within the data. For better or worse, it is EIP's job to ensure projects are in the dataset at all.\n",
    "\n",
    "We are not interested in already-operating projects, so I'll remove those and assess completeness based on the remaining subset.\n",
    "\n",
    "Notable missing values and lack of missing values:\n",
    "* all projects are linked to a facility ID!\n",
    "* all projects have an operating status\n",
    "* 95/308 (30.8%) are missing Air Construction Permit IDs. Likely because many of these projects are too new to have gone through the permitting process.\n",
    "* 86/308 (27.9%) are missing CO2e estimates. Same newness reason.\n",
    "\n",
    "For evidence of the \"too new to have a permit\" hypothesis, compare completeness of criteria pollutants before/after subsetting by operational status:\n",
    "* For all projects, only around 66/672 (9.8%) are missing criteria pollutants (NOx, VOC, CO, SO2, PM2.5)\n",
    "* For not-operational projects, 60/308 (19.5%) are missing criteria pollutants. So nearly all of the missing values."
   ]
  },
  {
   "cell_type": "code",
   "execution_count": 13,
   "id": "657869cb-3d9a-4aa8-b59b-effd1937e880",
   "metadata": {},
   "outputs": [],
   "source": [
    "def calc(num, denom=308):\n",
    "    percent = 1- num/denom\n",
    "    n = denom - num\n",
    "    return f\"{n}/{denom} ({percent*100:.1f}%)\""
   ]
  },
  {
   "cell_type": "code",
   "execution_count": 14,
   "id": "d800298e-66fc-4945-9391-c2cb64525ddc",
   "metadata": {},
   "outputs": [
    {
     "data": {
      "text/plain": [
       "'60/308 (19.5%)'"
      ]
     },
     "execution_count": 14,
     "metadata": {},
     "output_type": "execute_result"
    }
   ],
   "source": [
    "calc(248)"
   ]
  },
  {
   "cell_type": "code",
   "execution_count": 15,
   "id": "785834ff-c1b8-4a8b-a1ab-5ab1caaae064",
   "metadata": {},
   "outputs": [
    {
     "data": {
      "text/plain": [
       "768"
      ]
     },
     "execution_count": 15,
     "metadata": {},
     "output_type": "execute_result"
    }
   ],
   "source": [
    "len(proj)"
   ]
  },
  {
   "cell_type": "code",
   "execution_count": 16,
   "id": "f7f3e23e-18a4-4926-b9d3-97f1cedbefe2",
   "metadata": {},
   "outputs": [
    {
     "data": {
      "text/plain": [
       "Operating              371\n",
       "Pre-construction       186\n",
       "Announced               94\n",
       "Under construction      46\n",
       "Canceled                33\n",
       "Partially operating     17\n",
       "On hold                 16\n",
       "Unknown                  2\n",
       "Commissioning            1\n",
       "Name: Operating Status, dtype: int64"
      ]
     },
     "execution_count": 16,
     "metadata": {},
     "output_type": "execute_result"
    }
   ],
   "source": [
    "proj['Operating Status'].value_counts()"
   ]
  },
  {
   "cell_type": "code",
   "execution_count": 17,
   "id": "8e61e153-c971-4697-8519-111774343618",
   "metadata": {},
   "outputs": [
    {
     "data": {
      "text/plain": [
       "id                                             397\n",
       "name                                           397\n",
       "created_on                                     397\n",
       "modified_on                                    397\n",
       "Facility (ID)                                  395\n",
       "Facility                                       395\n",
       "CCS (ID)                                        16\n",
       "CCS                                             34\n",
       "Project Description                            390\n",
       "Classification                                 394\n",
       "Industry Sector                                396\n",
       "Project Type                                   396\n",
       "Air Construction (ID)                          237\n",
       "Air Construction                               237\n",
       "Air Operating (ID)                               6\n",
       "Air Operating                                    6\n",
       "NGA (ID)                                       121\n",
       "NGA                                            121\n",
       "MARAD (ID)                                      13\n",
       "MARAD                                           13\n",
       "Other Permits (ID)                              58\n",
       "Other Permits                                   58\n",
       "Greenhouse Gases (CO2e)                        229\n",
       "Particulate Matter (PM2.5)                     271\n",
       "Nitrogen Oxides (NOx)                          267\n",
       "Volatile Organic Compounds (VOC)               275\n",
       "Sulfur Dioxide (SO2)                           267\n",
       "Carbon Monoxide (CO)                           268\n",
       "Hazardous Air Pollutants (HAPs)                162\n",
       "Total Wetlands Affected Temporarily (acres)     25\n",
       "Total Wetlands Affected Permanently (acres)     26\n",
       "Detailed Permitting History                    128\n",
       "Emission Accounting Notes                      254\n",
       "Construction Status Last Updated               283\n",
       "Operating Status                               395\n",
       "Actual or Expected Completion Year             383\n",
       "Project Cost (million $)                       102\n",
       "Number of Jobs Promised                        108\n",
       "Target List                                    120\n",
       "dtype: int64"
      ]
     },
     "execution_count": 17,
     "metadata": {},
     "output_type": "execute_result"
    }
   ],
   "source": [
    "proj.loc[proj['Operating Status'].ne('Operating'),:].count().T"
   ]
  },
  {
   "cell_type": "markdown",
   "id": "ba7ce60a-5785-48bb-8e45-faedcb66ae50",
   "metadata": {},
   "source": [
    "### Consistency - defer\n",
    "Defer until I've cleaned the related datasets\n",
    "### Uniformity\n",
    "Important columns to check consistent representation:\n",
    "* ID fields (check consistent array delimiters)\n",
    "* all the emissions - check metric vs short tons\n",
    "\n",
    "Secondary importance:\n",
    "* modified_on\n",
    "* project cost (supposed to be in millions $)\n",
    "* jobs promised has inconsistent formatting/delimiters"
   ]
  },
  {
   "cell_type": "markdown",
   "id": "81618c73-29a6-4c6e-918e-35e315adc7c6",
   "metadata": {},
   "source": [
    "#### ID Fields\n",
    "Want to check for consistent array delimiters."
   ]
  },
  {
   "cell_type": "code",
   "execution_count": 18,
   "id": "4192a0cf-af5e-4ecc-9b99-a02372ac86cf",
   "metadata": {},
   "outputs": [
    {
     "data": {
      "text/plain": [
       "['Facility (ID)',\n",
       " 'Air Construction (ID)',\n",
       " 'Air Operating (ID)',\n",
       " 'NGA (ID)',\n",
       " 'Other Permits (ID)']"
      ]
     },
     "execution_count": 18,
     "metadata": {},
     "output_type": "execute_result"
    }
   ],
   "source": [
    "# exclude ID cols with numeric types (no arrays present)\n",
    "id_cols = [col for col in proj.columns if '(ID)' in col and pd.api.types.is_object_dtype(proj[col])]\n",
    "id_cols"
   ]
  },
  {
   "cell_type": "code",
   "execution_count": 19,
   "id": "61e14d01-63c2-48fb-bc94-24681e31aa8b",
   "metadata": {},
   "outputs": [],
   "source": [
    "# mandatory opening pattern, optional delimiter, optional repeating pattern, optional closing pattern, mandatory end of line\n",
    "array_pattern = r'(?:\\d{3,5})(?:, ?)?(?:\\d{3,5}, ?)*(?:\\d{3,5})?$'"
   ]
  },
  {
   "cell_type": "code",
   "execution_count": 20,
   "id": "4581b919-0f49-4e2d-bb26-7ef34de04e0c",
   "metadata": {},
   "outputs": [
    {
     "data": {
      "text/html": [
       "<div>\n",
       "<style scoped>\n",
       "    .dataframe tbody tr th:only-of-type {\n",
       "        vertical-align: middle;\n",
       "    }\n",
       "\n",
       "    .dataframe tbody tr th {\n",
       "        vertical-align: top;\n",
       "    }\n",
       "\n",
       "    .dataframe thead th {\n",
       "        text-align: right;\n",
       "    }\n",
       "</style>\n",
       "<table border=\"1\" class=\"dataframe\">\n",
       "  <thead>\n",
       "    <tr style=\"text-align: right;\">\n",
       "      <th></th>\n",
       "      <th>0</th>\n",
       "      <th>1</th>\n",
       "    </tr>\n",
       "  </thead>\n",
       "  <tbody>\n",
       "    <tr>\n",
       "      <th>0</th>\n",
       "      <td>1234</td>\n",
       "      <td>True</td>\n",
       "    </tr>\n",
       "    <tr>\n",
       "      <th>1</th>\n",
       "      <td>1234,567</td>\n",
       "      <td>True</td>\n",
       "    </tr>\n",
       "    <tr>\n",
       "      <th>2</th>\n",
       "      <td>1234, 567</td>\n",
       "      <td>True</td>\n",
       "    </tr>\n",
       "    <tr>\n",
       "      <th>3</th>\n",
       "      <td>12345, 678, 9012</td>\n",
       "      <td>True</td>\n",
       "    </tr>\n",
       "    <tr>\n",
       "      <th>4</th>\n",
       "      <td>1234\\t5678</td>\n",
       "      <td>False</td>\n",
       "    </tr>\n",
       "    <tr>\n",
       "      <th>5</th>\n",
       "      <td>12, 3456</td>\n",
       "      <td>False</td>\n",
       "    </tr>\n",
       "    <tr>\n",
       "      <th>6</th>\n",
       "      <td>1234    5678</td>\n",
       "      <td>False</td>\n",
       "    </tr>\n",
       "  </tbody>\n",
       "</table>\n",
       "</div>"
      ],
      "text/plain": [
       "                  0      1\n",
       "0              1234   True\n",
       "1          1234,567   True\n",
       "2         1234, 567   True\n",
       "3  12345, 678, 9012   True\n",
       "4        1234\\t5678  False\n",
       "5          12, 3456  False\n",
       "6      1234    5678  False"
      ]
     },
     "execution_count": 20,
     "metadata": {},
     "output_type": "execute_result"
    }
   ],
   "source": [
    "test_case = pd.Series([\n",
    "    '1234',\n",
    "    '1234,567',\n",
    "    '1234, 567',\n",
    "    '12345, 678, 9012',\n",
    "    '1234\\t5678', # tab is bad, no comma\n",
    "    '12, 3456', # too short\n",
    "    '1234    5678', # too many spaces, no comma\n",
    "])\n",
    "pd.concat([test_case, test_case.str.match(array_pattern)], axis=1)"
   ]
  },
  {
   "cell_type": "code",
   "execution_count": 21,
   "id": "3557314c-34c4-4597-b390-5bd98b55c8f7",
   "metadata": {},
   "outputs": [],
   "source": [
    "# all pass the formatting test\n",
    "for col in id_cols:\n",
    "    assert proj[col].str.match(array_pattern).all()"
   ]
  },
  {
   "cell_type": "markdown",
   "id": "cae041f2-b63c-4835-8838-7fdb09fbffb5",
   "metadata": {},
   "source": [
    "#### Emissions\n",
    "Check metric vs short tons\n",
    "\n",
    "Edit: difference is only a factor of 0.907 so I won't be able to tell the difference. Within the noise."
   ]
  },
  {
   "cell_type": "code",
   "execution_count": 22,
   "id": "752b2a02-a259-4ff6-a44d-c6804ef56dbc",
   "metadata": {},
   "outputs": [
    {
     "data": {
      "text/plain": [
       "<AxesSubplot:ylabel='Frequency'>"
      ]
     },
     "execution_count": 22,
     "metadata": {},
     "output_type": "execute_result"
    },
    {
     "data": {
      "image/png": "[encoded data removed]",
      "text/plain": [
       "<Figure size 640x480 with 1 Axes>"
      ]
     },
     "metadata": {},
     "output_type": "display_data"
    }
   ],
   "source": [
    "proj['Greenhouse Gases (CO2e)'].replace(0, np.nan).transform(np.log10).plot.hist(bins=50)"
   ]
  },
  {
   "cell_type": "markdown",
   "id": "bf55c928-4a98-4d3c-8589-326fa56dfcd0",
   "metadata": {},
   "source": [
    "#### Date Modified"
   ]
  },
  {
   "cell_type": "code",
   "execution_count": 23,
   "id": "b15fc622-b691-4362-a0b0-0425c66e73c7",
   "metadata": {},
   "outputs": [
    {
     "data": {
      "text/plain": [
       "(dtype('<M8[ns]'), 0)"
      ]
     },
     "execution_count": 23,
     "metadata": {},
     "output_type": "execute_result"
    }
   ],
   "source": [
    "# to_datetime works on all values present\n",
    "timestamps = pd.to_datetime(proj['modified_on'])\n",
    "timestamps.dtypes, timestamps.isna().sum()"
   ]
  },
  {
   "cell_type": "markdown",
   "id": "e33decd4-0019-42ec-9321-a8060eba17db",
   "metadata": {},
   "source": [
    "#### Jobs\n",
    "Check array delimiter, naming, and order.\n",
    "\n",
    "* Array delimiter: can be `,` or `;` or none\n",
    "* naming: `temporary`, `permanent`, `full-time`, `construction`, `operating` and none given\n",
    "* order: not consistent. Needs a parser."
   ]
  },
  {
   "cell_type": "code",
   "execution_count": 24,
   "id": "25bd6a88-5e48-4a9d-b8a5-acaff71427b5",
   "metadata": {
    "tags": []
   },
   "outputs": [
    {
     "data": {
      "text/plain": [
       "(120,)"
      ]
     },
     "execution_count": 24,
     "metadata": {},
     "output_type": "execute_result"
    }
   ],
   "source": [
    "# only 74/672 (11%) have jobs numbers\n",
    "proj['Number of Jobs Promised'].dropna().shape"
   ]
  },
  {
   "cell_type": "code",
   "execution_count": 25,
   "id": "7051792e-204a-4d86-83bd-11156dab9a64",
   "metadata": {},
   "outputs": [],
   "source": [
    "jobs = proj['Number of Jobs Promised'].dropna()"
   ]
  },
  {
   "cell_type": "markdown",
   "id": "aedf9e21-4c48-4d75-bc6f-3c869a4f9b69",
   "metadata": {},
   "source": [
    "**What special characters are present?**"
   ]
  },
  {
   "cell_type": "code",
   "execution_count": 26,
   "id": "b2e2ee44-96a2-4c85-a61e-ffb43ffe08db",
   "metadata": {},
   "outputs": [
    {
     "data": {
      "text/plain": [
       "{'(', ')', ',', '-', ';', '>'}"
      ]
     },
     "execution_count": 26,
     "metadata": {},
     "output_type": "execute_result"
    }
   ],
   "source": [
    "from functools import reduce\n",
    "reduce(set.union, [set(item) for item in jobs.str.replace('\\d+|\\w+|\\s+', '', regex=True).to_list()])"
   ]
  },
  {
   "cell_type": "code",
   "execution_count": 27,
   "id": "95d6bd4c-8b29-4eb0-9c3c-ec4f8f8d2674",
   "metadata": {},
   "outputs": [
    {
     "data": {
      "text/plain": [
       "545    1,000-1,500 construction jobs, >100 permanent ...\n",
       "Name: Number of Jobs Promised, dtype: object"
      ]
     },
     "execution_count": 27,
     "metadata": {},
     "output_type": "execute_result"
    }
   ],
   "source": [
    "# not a delimiter\n",
    "jobs[jobs.str.contains('>')]"
   ]
  },
  {
   "cell_type": "code",
   "execution_count": 28,
   "id": "1c03d403-10a2-4662-b169-a7c3f439042d",
   "metadata": {},
   "outputs": [
    {
     "data": {
      "text/plain": [
       "39     200 construction jobs; 40 full-time jobs (for ...\n",
       "135                   1500-2000 temporary; 200 full-time\n",
       "247                             1500-2000 temporary jobs\n",
       "260                    3,500 construction; 500 full-time\n",
       "282          400 full-time jobs; 6,000 construction jobs\n",
       "293                   1400-3000 temporary; 250 permanent\n",
       "296                                                35-50\n",
       "338                       40-260 temporary; 28 permanent\n",
       "522                                                10-20\n",
       "535                      350-520 temporary; 12 permanent\n",
       "545    1,000-1,500 construction jobs, >100 permanent ...\n",
       "548                                    150-200 permanent\n",
       "570                        70-110 temporary; 2 permanent\n",
       "639                   200-300 temporary, 10-20 permanent\n",
       "660                                   240 full-time jobs\n",
       "762                           12 full-time, 13 temporary\n",
       "Name: Number of Jobs Promised, dtype: object"
      ]
     },
     "execution_count": 28,
     "metadata": {},
     "output_type": "execute_result"
    }
   ],
   "source": [
    "# not an array delimiter. It is a range delimiter\n",
    "jobs[jobs.str.contains('-')]"
   ]
  },
  {
   "cell_type": "code",
   "execution_count": 29,
   "id": "6f5672e7-ff58-41fb-82a0-0e41a8185e93",
   "metadata": {},
   "outputs": [
    {
     "data": {
      "text/plain": [
       "39    200 construction jobs; 40 full-time jobs (for ...\n",
       "Name: Number of Jobs Promised, dtype: object"
      ]
     },
     "execution_count": 29,
     "metadata": {},
     "output_type": "execute_result"
    }
   ],
   "source": [
    "# not a delimiter\n",
    "jobs[jobs.str.contains('\\(|\\)')]"
   ]
  },
  {
   "cell_type": "markdown",
   "id": "76e05564-9837-464f-b717-53e9a1500624",
   "metadata": {},
   "source": [
    "**What job types are present?**"
   ]
  },
  {
   "cell_type": "code",
   "execution_count": 30,
   "id": "4850dc0e-a101-427a-b0ff-3a0de2f482bd",
   "metadata": {},
   "outputs": [
    {
     "data": {
      "text/plain": [
       "permanent       39\n",
       "temporary       37\n",
       "construction    15\n",
       "jobs            12\n",
       "full             6\n",
       "time             6\n",
       "County           2\n",
       "in               2\n",
       "built            2\n",
       "if               2\n",
       "operating        2\n",
       "peak             1\n",
       "Calhoun          1\n",
       "job              1\n",
       "Unknown          1\n",
       "including        1\n",
       "during           1\n",
       "pipeline         1\n",
       "Project          1\n",
       "SMP              1\n",
       "BWTX             1\n",
       "entire           1\n",
       "the              1\n",
       "for              1\n",
       "Howard           1\n",
       "Name: 0, dtype: int64"
      ]
     },
     "execution_count": 30,
     "metadata": {},
     "output_type": "execute_result"
    }
   ],
   "source": [
    "jobs.str.extractall('([a-zA-Z]+)')[0].value_counts()"
   ]
  },
  {
   "cell_type": "code",
   "execution_count": 31,
   "id": "4105a122-f326-4156-9902-6fdcee908b3d",
   "metadata": {},
   "outputs": [
    {
     "data": {
      "text/plain": [
       "permanent       39\n",
       "temporary       37\n",
       "construction    14\n",
       "jobs            12\n",
       "full             6\n",
       "time             6\n",
       "built            2\n",
       "County           2\n",
       "operating        2\n",
       "in               2\n",
       "if               2\n",
       "Calhoun          1\n",
       "Unknown          1\n",
       "job              1\n",
       "peak             1\n",
       "during           1\n",
       "Howard           1\n",
       "Name: 0, dtype: int64"
      ]
     },
     "execution_count": 31,
     "metadata": {},
     "output_type": "execute_result"
    }
   ],
   "source": [
    "# repeat but without that long parenthetical\n",
    "jobs.str.replace('\\(.+\\)', '', regex=True).str.extractall('([a-zA-Z]+)')[0].value_counts()"
   ]
  },
  {
   "cell_type": "markdown",
   "id": "51537995-7a6f-45a8-a4d1-2c30bb2d30f7",
   "metadata": {},
   "source": [
    "I think `permanent`, `full-time` and `operating` are equivalent. And `temporary` == `construction`. And `Unkown` is Null."
   ]
  },
  {
   "cell_type": "markdown",
   "id": "ab2e7376-ddba-425b-be75-12a2ec54d668",
   "metadata": {},
   "source": [
    "### Range Validation\n",
    "Check IDs, Emissions, Cost, Jobs, expected completion year\n",
    "#### Emissions\n",
    "Kind of hard to interpret, but no outrageous smoking guns"
   ]
  },
  {
   "cell_type": "code",
   "execution_count": 32,
   "id": "5e8856a3-106f-4754-a359-0ec9672a0e1b",
   "metadata": {},
   "outputs": [],
   "source": [
    "emission_cols = [\n",
    "    'Greenhouse Gases (CO2e)',\n",
    "    'Particulate Matter (PM2.5)',\n",
    "    'Nitrogen Oxides (NOx)',\n",
    "    'Volatile Organic Compounds (VOC)',\n",
    "    'Sulfur Dioxide (SO2)',\n",
    "    'Carbon Monoxide (CO)',\n",
    "    'Hazardous Air Pollutants (HAPs)',\n",
    "]"
   ]
  },
  {
   "cell_type": "code",
   "execution_count": 33,
   "id": "63263fa0-72a5-4dff-8261-8dab29360a92",
   "metadata": {
    "tags": []
   },
   "outputs": [
    {
     "data": {
      "text/html": [
       "<div>\n",
       "<style scoped>\n",
       "    .dataframe tbody tr th:only-of-type {\n",
       "        vertical-align: middle;\n",
       "    }\n",
       "\n",
       "    .dataframe tbody tr th {\n",
       "        vertical-align: top;\n",
       "    }\n",
       "\n",
       "    .dataframe thead th {\n",
       "        text-align: right;\n",
       "    }\n",
       "</style>\n",
       "<table border=\"1\" class=\"dataframe\">\n",
       "  <thead>\n",
       "    <tr style=\"text-align: right;\">\n",
       "      <th></th>\n",
       "      <th>Greenhouse Gases (CO2e)</th>\n",
       "      <th>Particulate Matter (PM2.5)</th>\n",
       "      <th>Nitrogen Oxides (NOx)</th>\n",
       "      <th>Volatile Organic Compounds (VOC)</th>\n",
       "      <th>Sulfur Dioxide (SO2)</th>\n",
       "      <th>Carbon Monoxide (CO)</th>\n",
       "      <th>Hazardous Air Pollutants (HAPs)</th>\n",
       "    </tr>\n",
       "  </thead>\n",
       "  <tbody>\n",
       "    <tr>\n",
       "      <th>count</th>\n",
       "      <td>5.530000e+02</td>\n",
       "      <td>637.000000</td>\n",
       "      <td>633.000000</td>\n",
       "      <td>642.000000</td>\n",
       "      <td>632.000000</td>\n",
       "      <td>635.000000</td>\n",
       "      <td>371.000000</td>\n",
       "    </tr>\n",
       "    <tr>\n",
       "      <th>mean</th>\n",
       "      <td>6.305799e+05</td>\n",
       "      <td>32.121092</td>\n",
       "      <td>132.131862</td>\n",
       "      <td>236.227598</td>\n",
       "      <td>32.295761</td>\n",
       "      <td>260.355883</td>\n",
       "      <td>16.574373</td>\n",
       "    </tr>\n",
       "    <tr>\n",
       "      <th>std</th>\n",
       "      <td>1.448795e+06</td>\n",
       "      <td>92.655146</td>\n",
       "      <td>431.099359</td>\n",
       "      <td>1635.819112</td>\n",
       "      <td>145.059558</td>\n",
       "      <td>820.372079</td>\n",
       "      <td>85.468400</td>\n",
       "    </tr>\n",
       "    <tr>\n",
       "      <th>min</th>\n",
       "      <td>-1.303318e+06</td>\n",
       "      <td>-211.020000</td>\n",
       "      <td>-2191.800000</td>\n",
       "      <td>-77.330000</td>\n",
       "      <td>-1132.996900</td>\n",
       "      <td>-592.500000</td>\n",
       "      <td>-59.780000</td>\n",
       "    </tr>\n",
       "    <tr>\n",
       "      <th>25%</th>\n",
       "      <td>7.025300e+04</td>\n",
       "      <td>3.100000</td>\n",
       "      <td>21.320000</td>\n",
       "      <td>13.400000</td>\n",
       "      <td>0.447500</td>\n",
       "      <td>30.310000</td>\n",
       "      <td>1.000000</td>\n",
       "    </tr>\n",
       "    <tr>\n",
       "      <th>50%</th>\n",
       "      <td>1.579210e+05</td>\n",
       "      <td>8.080000</td>\n",
       "      <td>46.680000</td>\n",
       "      <td>33.660000</td>\n",
       "      <td>2.750000</td>\n",
       "      <td>75.000000</td>\n",
       "      <td>4.168000</td>\n",
       "    </tr>\n",
       "    <tr>\n",
       "      <th>75%</th>\n",
       "      <td>4.143300e+05</td>\n",
       "      <td>20.740000</td>\n",
       "      <td>102.410000</td>\n",
       "      <td>93.585000</td>\n",
       "      <td>17.497500</td>\n",
       "      <td>192.680000</td>\n",
       "      <td>11.935000</td>\n",
       "    </tr>\n",
       "    <tr>\n",
       "      <th>max</th>\n",
       "      <td>1.362809e+07</td>\n",
       "      <td>1303.300000</td>\n",
       "      <td>4335.000000</td>\n",
       "      <td>24657.200000</td>\n",
       "      <td>2094.200000</td>\n",
       "      <td>11891.200000</td>\n",
       "      <td>1230.000000</td>\n",
       "    </tr>\n",
       "  </tbody>\n",
       "</table>\n",
       "</div>"
      ],
      "text/plain": [
       "       Greenhouse Gases (CO2e)  Particulate Matter (PM2.5)  \\\n",
       "count             5.530000e+02                  637.000000   \n",
       "mean              6.305799e+05                   32.121092   \n",
       "std               1.448795e+06                   92.655146   \n",
       "min              -1.303318e+06                 -211.020000   \n",
       "25%               7.025300e+04                    3.100000   \n",
       "50%               1.579210e+05                    8.080000   \n",
       "75%               4.143300e+05                   20.740000   \n",
       "max               1.362809e+07                 1303.300000   \n",
       "\n",
       "       Nitrogen Oxides (NOx)  Volatile Organic Compounds (VOC)  \\\n",
       "count             633.000000                        642.000000   \n",
       "mean              132.131862                        236.227598   \n",
       "std               431.099359                       1635.819112   \n",
       "min             -2191.800000                        -77.330000   \n",
       "25%                21.320000                         13.400000   \n",
       "50%                46.680000                         33.660000   \n",
       "75%               102.410000                         93.585000   \n",
       "max              4335.000000                      24657.200000   \n",
       "\n",
       "       Sulfur Dioxide (SO2)  Carbon Monoxide (CO)  \\\n",
       "count            632.000000            635.000000   \n",
       "mean              32.295761            260.355883   \n",
       "std              145.059558            820.372079   \n",
       "min            -1132.996900           -592.500000   \n",
       "25%                0.447500             30.310000   \n",
       "50%                2.750000             75.000000   \n",
       "75%               17.497500            192.680000   \n",
       "max             2094.200000          11891.200000   \n",
       "\n",
       "       Hazardous Air Pollutants (HAPs)  \n",
       "count                       371.000000  \n",
       "mean                         16.574373  \n",
       "std                          85.468400  \n",
       "min                         -59.780000  \n",
       "25%                           1.000000  \n",
       "50%                           4.168000  \n",
       "75%                          11.935000  \n",
       "max                        1230.000000  "
      ]
     },
     "execution_count": 33,
     "metadata": {},
     "output_type": "execute_result"
    }
   ],
   "source": [
    "# sulfur is missing due to type error\n",
    "proj[emission_cols].describe()"
   ]
  },
  {
   "cell_type": "code",
   "execution_count": 34,
   "id": "a4fa6d16-be68-4069-9c12-46e5b2b057bb",
   "metadata": {},
   "outputs": [
    {
     "ename": "AttributeError",
     "evalue": "Can only use .str accessor with string values!",
     "output_type": "error",
     "traceback": [
      "\u001b[0;31m---------------------------------------------------------------------------\u001b[0m",
      "\u001b[0;31mAttributeError\u001b[0m                            Traceback (most recent call last)",
      "Input \u001b[0;32mIn [34]\u001b[0m, in \u001b[0;36m<cell line: 2>\u001b[0;34m()\u001b[0m\n\u001b[1;32m      1\u001b[0m \u001b[38;5;66;03m# a single value causes the issue\u001b[39;00m\n\u001b[0;32m----> 2\u001b[0m proj\u001b[38;5;241m.\u001b[39mloc[\u001b[43mproj\u001b[49m\u001b[43m[\u001b[49m\u001b[38;5;124;43m'\u001b[39;49m\u001b[38;5;124;43mSulfur Dioxide (SO2)\u001b[39;49m\u001b[38;5;124;43m'\u001b[39;49m\u001b[43m]\u001b[49m\u001b[38;5;241;43m.\u001b[39;49m\u001b[43mstr\u001b[49m\u001b[38;5;241m.\u001b[39mcontains(\u001b[38;5;124m'\u001b[39m\u001b[38;5;124m,\u001b[39m\u001b[38;5;124m'\u001b[39m)\u001b[38;5;241m.\u001b[39mfillna(\u001b[38;5;28;01mFalse\u001b[39;00m), [\u001b[38;5;124m'\u001b[39m\u001b[38;5;124mid\u001b[39m\u001b[38;5;124m'\u001b[39m, \u001b[38;5;124m'\u001b[39m\u001b[38;5;124mname\u001b[39m\u001b[38;5;124m'\u001b[39m, \u001b[38;5;124m'\u001b[39m\u001b[38;5;124mSulfur Dioxide (SO2)\u001b[39m\u001b[38;5;124m'\u001b[39m]]\n",
      "File \u001b[0;32m~/.local/lib/python3.9/site-packages/pandas/core/generic.py:5487\u001b[0m, in \u001b[0;36mNDFrame.__getattr__\u001b[0;34m(self, name)\u001b[0m\n\u001b[1;32m   5480\u001b[0m \u001b[38;5;28;01mif\u001b[39;00m (\n\u001b[1;32m   5481\u001b[0m     name \u001b[38;5;129;01mnot\u001b[39;00m \u001b[38;5;129;01min\u001b[39;00m \u001b[38;5;28mself\u001b[39m\u001b[38;5;241m.\u001b[39m_internal_names_set\n\u001b[1;32m   5482\u001b[0m     \u001b[38;5;129;01mand\u001b[39;00m name \u001b[38;5;129;01mnot\u001b[39;00m \u001b[38;5;129;01min\u001b[39;00m \u001b[38;5;28mself\u001b[39m\u001b[38;5;241m.\u001b[39m_metadata\n\u001b[1;32m   5483\u001b[0m     \u001b[38;5;129;01mand\u001b[39;00m name \u001b[38;5;129;01mnot\u001b[39;00m \u001b[38;5;129;01min\u001b[39;00m \u001b[38;5;28mself\u001b[39m\u001b[38;5;241m.\u001b[39m_accessors\n\u001b[1;32m   5484\u001b[0m     \u001b[38;5;129;01mand\u001b[39;00m \u001b[38;5;28mself\u001b[39m\u001b[38;5;241m.\u001b[39m_info_axis\u001b[38;5;241m.\u001b[39m_can_hold_identifiers_and_holds_name(name)\n\u001b[1;32m   5485\u001b[0m ):\n\u001b[1;32m   5486\u001b[0m     \u001b[38;5;28;01mreturn\u001b[39;00m \u001b[38;5;28mself\u001b[39m[name]\n\u001b[0;32m-> 5487\u001b[0m \u001b[38;5;28;01mreturn\u001b[39;00m \u001b[38;5;28;43mobject\u001b[39;49m\u001b[38;5;241;43m.\u001b[39;49m\u001b[38;5;21;43m__getattribute__\u001b[39;49m\u001b[43m(\u001b[49m\u001b[38;5;28;43mself\u001b[39;49m\u001b[43m,\u001b[49m\u001b[43m \u001b[49m\u001b[43mname\u001b[49m\u001b[43m)\u001b[49m\n",
      "File \u001b[0;32m~/.local/lib/python3.9/site-packages/pandas/core/accessor.py:181\u001b[0m, in \u001b[0;36mCachedAccessor.__get__\u001b[0;34m(self, obj, cls)\u001b[0m\n\u001b[1;32m    178\u001b[0m \u001b[38;5;28;01mif\u001b[39;00m obj \u001b[38;5;129;01mis\u001b[39;00m \u001b[38;5;28;01mNone\u001b[39;00m:\n\u001b[1;32m    179\u001b[0m     \u001b[38;5;66;03m# we're accessing the attribute of the class, i.e., Dataset.geo\u001b[39;00m\n\u001b[1;32m    180\u001b[0m     \u001b[38;5;28;01mreturn\u001b[39;00m \u001b[38;5;28mself\u001b[39m\u001b[38;5;241m.\u001b[39m_accessor\n\u001b[0;32m--> 181\u001b[0m accessor_obj \u001b[38;5;241m=\u001b[39m \u001b[38;5;28;43mself\u001b[39;49m\u001b[38;5;241;43m.\u001b[39;49m\u001b[43m_accessor\u001b[49m\u001b[43m(\u001b[49m\u001b[43mobj\u001b[49m\u001b[43m)\u001b[49m\n\u001b[1;32m    182\u001b[0m \u001b[38;5;66;03m# Replace the property with the accessor object. Inspired by:\u001b[39;00m\n\u001b[1;32m    183\u001b[0m \u001b[38;5;66;03m# https://www.pydanny.com/cached-property.html\u001b[39;00m\n\u001b[1;32m    184\u001b[0m \u001b[38;5;66;03m# We need to use object.__setattr__ because we overwrite __setattr__ on\u001b[39;00m\n\u001b[1;32m    185\u001b[0m \u001b[38;5;66;03m# NDFrame\u001b[39;00m\n\u001b[1;32m    186\u001b[0m \u001b[38;5;28mobject\u001b[39m\u001b[38;5;241m.\u001b[39m\u001b[38;5;21m__setattr__\u001b[39m(obj, \u001b[38;5;28mself\u001b[39m\u001b[38;5;241m.\u001b[39m_name, accessor_obj)\n",
      "File \u001b[0;32m~/.local/lib/python3.9/site-packages/pandas/core/strings/accessor.py:168\u001b[0m, in \u001b[0;36mStringMethods.__init__\u001b[0;34m(self, data)\u001b[0m\n\u001b[1;32m    165\u001b[0m \u001b[38;5;28;01mdef\u001b[39;00m \u001b[38;5;21m__init__\u001b[39m(\u001b[38;5;28mself\u001b[39m, data):\n\u001b[1;32m    166\u001b[0m     \u001b[38;5;28;01mfrom\u001b[39;00m \u001b[38;5;21;01mpandas\u001b[39;00m\u001b[38;5;21;01m.\u001b[39;00m\u001b[38;5;21;01mcore\u001b[39;00m\u001b[38;5;21;01m.\u001b[39;00m\u001b[38;5;21;01marrays\u001b[39;00m\u001b[38;5;21;01m.\u001b[39;00m\u001b[38;5;21;01mstring_\u001b[39;00m \u001b[38;5;28;01mimport\u001b[39;00m StringDtype\n\u001b[0;32m--> 168\u001b[0m     \u001b[38;5;28mself\u001b[39m\u001b[38;5;241m.\u001b[39m_inferred_dtype \u001b[38;5;241m=\u001b[39m \u001b[38;5;28;43mself\u001b[39;49m\u001b[38;5;241;43m.\u001b[39;49m\u001b[43m_validate\u001b[49m\u001b[43m(\u001b[49m\u001b[43mdata\u001b[49m\u001b[43m)\u001b[49m\n\u001b[1;32m    169\u001b[0m     \u001b[38;5;28mself\u001b[39m\u001b[38;5;241m.\u001b[39m_is_categorical \u001b[38;5;241m=\u001b[39m is_categorical_dtype(data\u001b[38;5;241m.\u001b[39mdtype)\n\u001b[1;32m    170\u001b[0m     \u001b[38;5;28mself\u001b[39m\u001b[38;5;241m.\u001b[39m_is_string \u001b[38;5;241m=\u001b[39m \u001b[38;5;28misinstance\u001b[39m(data\u001b[38;5;241m.\u001b[39mdtype, StringDtype)\n",
      "File \u001b[0;32m~/.local/lib/python3.9/site-packages/pandas/core/strings/accessor.py:225\u001b[0m, in \u001b[0;36mStringMethods._validate\u001b[0;34m(data)\u001b[0m\n\u001b[1;32m    222\u001b[0m inferred_dtype \u001b[38;5;241m=\u001b[39m lib\u001b[38;5;241m.\u001b[39minfer_dtype(values, skipna\u001b[38;5;241m=\u001b[39m\u001b[38;5;28;01mTrue\u001b[39;00m)\n\u001b[1;32m    224\u001b[0m \u001b[38;5;28;01mif\u001b[39;00m inferred_dtype \u001b[38;5;129;01mnot\u001b[39;00m \u001b[38;5;129;01min\u001b[39;00m allowed_types:\n\u001b[0;32m--> 225\u001b[0m     \u001b[38;5;28;01mraise\u001b[39;00m \u001b[38;5;167;01mAttributeError\u001b[39;00m(\u001b[38;5;124m\"\u001b[39m\u001b[38;5;124mCan only use .str accessor with string values!\u001b[39m\u001b[38;5;124m\"\u001b[39m)\n\u001b[1;32m    226\u001b[0m \u001b[38;5;28;01mreturn\u001b[39;00m inferred_dtype\n",
      "\u001b[0;31mAttributeError\u001b[0m: Can only use .str accessor with string values!"
     ]
    }
   ],
   "source": [
    "# a single value causes the issue\n",
    "proj.loc[proj['Sulfur Dioxide (SO2)'].str.contains(',').fillna(False), ['id', 'name', 'Sulfur Dioxide (SO2)']]"
   ]
  },
  {
   "cell_type": "code",
   "execution_count": null,
   "id": "1ef69b55-3b54-4d01-aa77-3476b0ffb503",
   "metadata": {},
   "outputs": [],
   "source": [
    "sulfur = pd.to_numeric(proj['Sulfur Dioxide (SO2)'].str.split(',').str[0], errors='raise')"
   ]
  },
  {
   "cell_type": "code",
   "execution_count": 35,
   "id": "e4efae5f-457e-4f54-946f-108038b1d278",
   "metadata": {},
   "outputs": [
    {
     "ename": "NameError",
     "evalue": "name 'sulfur' is not defined",
     "output_type": "error",
     "traceback": [
      "\u001b[0;31m---------------------------------------------------------------------------\u001b[0m",
      "\u001b[0;31mNameError\u001b[0m                                 Traceback (most recent call last)",
      "Input \u001b[0;32mIn [35]\u001b[0m, in \u001b[0;36m<cell line: 1>\u001b[0;34m()\u001b[0m\n\u001b[0;32m----> 1\u001b[0m \u001b[43msulfur\u001b[49m\u001b[38;5;241m.\u001b[39mdescribe()\n",
      "\u001b[0;31mNameError\u001b[0m: name 'sulfur' is not defined"
     ]
    }
   ],
   "source": [
    "sulfur.describe()"
   ]
  },
  {
   "cell_type": "code",
   "execution_count": null,
   "id": "c9f83cde-61ce-4db5-87dc-f880e7a413ce",
   "metadata": {},
   "outputs": [],
   "source": [
    "emission_cols.remove('Sulfur Dioxide (SO2)')"
   ]
  },
  {
   "cell_type": "code",
   "execution_count": 36,
   "id": "00316e45-177e-4dd4-b7e5-a1a44e7fc745",
   "metadata": {},
   "outputs": [],
   "source": [
    "extremely_large_idx = [proj.loc[:, col].nlargest(5).index for col in emission_cols]# + [sulfur.nlargest(5).index]"
   ]
  },
  {
   "cell_type": "code",
   "execution_count": 37,
   "id": "7d1eefe8-fe93-45cd-9b18-a632dcf040df",
   "metadata": {},
   "outputs": [
    {
     "data": {
      "text/plain": [
       "Index([ 37,  39,  43,  92,  98, 100, 113, 137, 147, 148, 150, 151, 215, 221,\n",
       "       275, 303, 329, 386, 404, 422, 560, 611, 714],\n",
       "      dtype='object')"
      ]
     },
     "execution_count": 37,
     "metadata": {},
     "output_type": "execute_result"
    }
   ],
   "source": [
    "extremely_large = pd.Index([])\n",
    "for index in extremely_large_idx:\n",
    "    extremely_large = extremely_large.union(index)\n",
    "extremely_large"
   ]
  },
  {
   "cell_type": "code",
   "execution_count": 38,
   "id": "fb484fc3-8ac9-4f0a-ae04-2aca78a6ac08",
   "metadata": {
    "tags": []
   },
   "outputs": [
    {
     "data": {
      "text/html": [
       "<div>\n",
       "<style scoped>\n",
       "    .dataframe tbody tr th:only-of-type {\n",
       "        vertical-align: middle;\n",
       "    }\n",
       "\n",
       "    .dataframe tbody tr th {\n",
       "        vertical-align: top;\n",
       "    }\n",
       "\n",
       "    .dataframe thead th {\n",
       "        text-align: right;\n",
       "    }\n",
       "</style>\n",
       "<table border=\"1\" class=\"dataframe\">\n",
       "  <thead>\n",
       "    <tr style=\"text-align: right;\">\n",
       "      <th></th>\n",
       "      <th>id</th>\n",
       "      <th>name</th>\n",
       "      <th>Project Description</th>\n",
       "      <th>Sulfur Dioxide (SO2)</th>\n",
       "      <th>Greenhouse Gases (CO2e)</th>\n",
       "      <th>Particulate Matter (PM2.5)</th>\n",
       "      <th>Nitrogen Oxides (NOx)</th>\n",
       "      <th>Volatile Organic Compounds (VOC)</th>\n",
       "      <th>Sulfur Dioxide (SO2)</th>\n",
       "      <th>Carbon Monoxide (CO)</th>\n",
       "      <th>Hazardous Air Pollutants (HAPs)</th>\n",
       "    </tr>\n",
       "  </thead>\n",
       "  <tbody>\n",
       "    <tr>\n",
       "      <th>386</th>\n",
       "      <td>3119</td>\n",
       "      <td>Texas GulfLink Deepwater Port - Initial Constr...</td>\n",
       "      <td>The Texas GulfLink Terminal Project would cons...</td>\n",
       "      <td>20.16</td>\n",
       "      <td>8862.00</td>\n",
       "      <td>3.23</td>\n",
       "      <td>59.82</td>\n",
       "      <td>10025.14</td>\n",
       "      <td>20.16</td>\n",
       "      <td>56.59</td>\n",
       "      <td>NaN</td>\n",
       "    </tr>\n",
       "    <tr>\n",
       "      <th>98</th>\n",
       "      <td>2822</td>\n",
       "      <td>Coyote Springs Compressor Station - Initial Co...</td>\n",
       "      <td>Construction of a new compressor station along...</td>\n",
       "      <td>0.06</td>\n",
       "      <td>13402.00</td>\n",
       "      <td>0.56</td>\n",
       "      <td>30.43</td>\n",
       "      <td>2.46</td>\n",
       "      <td>0.06</td>\n",
       "      <td>38.24</td>\n",
       "      <td>182.95</td>\n",
       "    </tr>\n",
       "    <tr>\n",
       "      <th>37</th>\n",
       "      <td>2760</td>\n",
       "      <td>Blue Marlin Offshore Port - Initial Construction</td>\n",
       "      <td>Construction of a new offshore deepwater expor...</td>\n",
       "      <td>1.64</td>\n",
       "      <td>16503.00</td>\n",
       "      <td>1.07</td>\n",
       "      <td>26.02</td>\n",
       "      <td>21881.00</td>\n",
       "      <td>1.64</td>\n",
       "      <td>57.88</td>\n",
       "      <td>1230.00</td>\n",
       "    </tr>\n",
       "    <tr>\n",
       "      <th>39</th>\n",
       "      <td>2762</td>\n",
       "      <td>Bluewater SPM Deepwater Port - Initial Constru...</td>\n",
       "      <td>Construction of a new deepwater port in the fe...</td>\n",
       "      <td>NaN</td>\n",
       "      <td>185453.00</td>\n",
       "      <td>NaN</td>\n",
       "      <td>NaN</td>\n",
       "      <td>18936.25</td>\n",
       "      <td>NaN</td>\n",
       "      <td>NaN</td>\n",
       "      <td>833.18</td>\n",
       "    </tr>\n",
       "    <tr>\n",
       "      <th>422</th>\n",
       "      <td>3157</td>\n",
       "      <td>Wood River CORE Expansion and Hartford Termina...</td>\n",
       "      <td>Modifications to increase processing capacity ...</td>\n",
       "      <td>2094.20</td>\n",
       "      <td>209350.00</td>\n",
       "      <td>161.30</td>\n",
       "      <td>920.40</td>\n",
       "      <td>327.30</td>\n",
       "      <td>2094.20</td>\n",
       "      <td>882.40</td>\n",
       "      <td>NaN</td>\n",
       "    </tr>\n",
       "    <tr>\n",
       "      <th>150</th>\n",
       "      <td>2877</td>\n",
       "      <td>Geismar Methanol Plant 3 and G1/G2 Debottlenec...</td>\n",
       "      <td>Construction of a third methanol plant (Geisma...</td>\n",
       "      <td>1.60</td>\n",
       "      <td>457375.00</td>\n",
       "      <td>19.91</td>\n",
       "      <td>32.94</td>\n",
       "      <td>21.30</td>\n",
       "      <td>1.60</td>\n",
       "      <td>154.26</td>\n",
       "      <td>633.89</td>\n",
       "    </tr>\n",
       "    <tr>\n",
       "      <th>43</th>\n",
       "      <td>2766</td>\n",
       "      <td>Borger Refinery, Crude Flexibility and Moderni...</td>\n",
       "      <td>Installation of a new Continuous Catalytic Ref...</td>\n",
       "      <td>647.89</td>\n",
       "      <td>470082.58</td>\n",
       "      <td>890.69</td>\n",
       "      <td>368.35</td>\n",
       "      <td>644.55</td>\n",
       "      <td>647.89</td>\n",
       "      <td>2722.41</td>\n",
       "      <td>NaN</td>\n",
       "    </tr>\n",
       "    <tr>\n",
       "      <th>275</th>\n",
       "      <td>3005</td>\n",
       "      <td>Equistar Corpus Christi - Olefins Plant Expansion</td>\n",
       "      <td>An expansion project to increase annual ethyle...</td>\n",
       "      <td>1263.76</td>\n",
       "      <td>2062725.00</td>\n",
       "      <td>92.30</td>\n",
       "      <td>2264.06</td>\n",
       "      <td>452.81</td>\n",
       "      <td>1263.76</td>\n",
       "      <td>1638.85</td>\n",
       "      <td>NaN</td>\n",
       "    </tr>\n",
       "    <tr>\n",
       "      <th>151</th>\n",
       "      <td>2878</td>\n",
       "      <td>Geismar Methanol Plants 1 and 2</td>\n",
       "      <td>Construction of a new methanol plant consistin...</td>\n",
       "      <td>10.56</td>\n",
       "      <td>2080568.00</td>\n",
       "      <td>136.63</td>\n",
       "      <td>178.70</td>\n",
       "      <td>68.40</td>\n",
       "      <td>10.56</td>\n",
       "      <td>175.22</td>\n",
       "      <td>258.63</td>\n",
       "    </tr>\n",
       "    <tr>\n",
       "      <th>404</th>\n",
       "      <td>3138</td>\n",
       "      <td>Valero Port Arthur Refinery Expansion Project</td>\n",
       "      <td>Construction of a new delayed coking unit, a n...</td>\n",
       "      <td>790.20</td>\n",
       "      <td>2862639.00</td>\n",
       "      <td>62.61</td>\n",
       "      <td>128.40</td>\n",
       "      <td>535.20</td>\n",
       "      <td>790.20</td>\n",
       "      <td>363.98</td>\n",
       "      <td>NaN</td>\n",
       "    </tr>\n",
       "    <tr>\n",
       "      <th>303</th>\n",
       "      <td>3036</td>\n",
       "      <td>Port Arthur Refinery - Naphtha Growth and C9 S...</td>\n",
       "      <td>Modifications that will allow the refinery to ...</td>\n",
       "      <td>1267.05</td>\n",
       "      <td>4191941.00</td>\n",
       "      <td>169.69</td>\n",
       "      <td>668.84</td>\n",
       "      <td>468.40</td>\n",
       "      <td>1267.05</td>\n",
       "      <td>2385.20</td>\n",
       "      <td>NaN</td>\n",
       "    </tr>\n",
       "    <tr>\n",
       "      <th>221</th>\n",
       "      <td>2951</td>\n",
       "      <td>Eurochem Louisiana Fertilizer Plant - Initial ...</td>\n",
       "      <td>Construction of a new fertilizer plant that wo...</td>\n",
       "      <td>31.89</td>\n",
       "      <td>4527943.00</td>\n",
       "      <td>524.65</td>\n",
       "      <td>934.39</td>\n",
       "      <td>301.08</td>\n",
       "      <td>31.89</td>\n",
       "      <td>1902.06</td>\n",
       "      <td>NaN</td>\n",
       "    </tr>\n",
       "    <tr>\n",
       "      <th>100</th>\n",
       "      <td>2824</td>\n",
       "      <td>Port Delfin - Initial Construction</td>\n",
       "      <td>Construction of a new floating LNG terminal in...</td>\n",
       "      <td>201.00</td>\n",
       "      <td>4857091.00</td>\n",
       "      <td>301.00</td>\n",
       "      <td>4335.00</td>\n",
       "      <td>124.00</td>\n",
       "      <td>201.00</td>\n",
       "      <td>7021.00</td>\n",
       "      <td>NaN</td>\n",
       "    </tr>\n",
       "    <tr>\n",
       "      <th>560</th>\n",
       "      <td>4217</td>\n",
       "      <td>Sabine Pass LNG - Trains 5, Train 6, and the T...</td>\n",
       "      <td>Construction of two additional liquefaction tr...</td>\n",
       "      <td>26.35</td>\n",
       "      <td>5036822.00</td>\n",
       "      <td>-66.51</td>\n",
       "      <td>3797.77</td>\n",
       "      <td>261.67</td>\n",
       "      <td>26.35</td>\n",
       "      <td>343.32</td>\n",
       "      <td>NaN</td>\n",
       "    </tr>\n",
       "    <tr>\n",
       "      <th>92</th>\n",
       "      <td>2816</td>\n",
       "      <td>Corpus Christi LNG Trains 1, 2, and 3</td>\n",
       "      <td>Construction of a new liquefied natural gas im...</td>\n",
       "      <td>49.62</td>\n",
       "      <td>5595932.00</td>\n",
       "      <td>85.30</td>\n",
       "      <td>3573.70</td>\n",
       "      <td>365.43</td>\n",
       "      <td>49.62</td>\n",
       "      <td>3852.50</td>\n",
       "      <td>NaN</td>\n",
       "    </tr>\n",
       "    <tr>\n",
       "      <th>329</th>\n",
       "      <td>3062</td>\n",
       "      <td>Sabine Pass LNG - Trains 1-4</td>\n",
       "      <td>Construction of a new liquefied natural gas ex...</td>\n",
       "      <td>11.89</td>\n",
       "      <td>5734190.00</td>\n",
       "      <td>254.13</td>\n",
       "      <td>2701.88</td>\n",
       "      <td>82.11</td>\n",
       "      <td>11.89</td>\n",
       "      <td>4891.00</td>\n",
       "      <td>NaN</td>\n",
       "    </tr>\n",
       "    <tr>\n",
       "      <th>148</th>\n",
       "      <td>2875</td>\n",
       "      <td>Alaska LNG - Gas Treatment Plant - Initial Con...</td>\n",
       "      <td>Construction of a 3.5-3.9 billion cubic feet (...</td>\n",
       "      <td>1076.30</td>\n",
       "      <td>7278238.00</td>\n",
       "      <td>903.40</td>\n",
       "      <td>3321.70</td>\n",
       "      <td>13087.20</td>\n",
       "      <td>1076.30</td>\n",
       "      <td>9026.90</td>\n",
       "      <td>NaN</td>\n",
       "    </tr>\n",
       "    <tr>\n",
       "      <th>714</th>\n",
       "      <td>5321</td>\n",
       "      <td>Port Arthur LNG Trains 1-4</td>\n",
       "      <td>The Port Arthur LNG Terminal would be construc...</td>\n",
       "      <td>63.02</td>\n",
       "      <td>7741044.00</td>\n",
       "      <td>428.41</td>\n",
       "      <td>1904.58</td>\n",
       "      <td>206.06</td>\n",
       "      <td>63.02</td>\n",
       "      <td>3195.85</td>\n",
       "      <td>NaN</td>\n",
       "    </tr>\n",
       "    <tr>\n",
       "      <th>147</th>\n",
       "      <td>2874</td>\n",
       "      <td>Energy Security Partners GTL Plant - Initial C...</td>\n",
       "      <td>Construction of a new 33,000 barrels per day n...</td>\n",
       "      <td>23.30</td>\n",
       "      <td>8378365.00</td>\n",
       "      <td>50.90</td>\n",
       "      <td>1199.80</td>\n",
       "      <td>635.30</td>\n",
       "      <td>23.30</td>\n",
       "      <td>1852.70</td>\n",
       "      <td>72.66</td>\n",
       "    </tr>\n",
       "    <tr>\n",
       "      <th>611</th>\n",
       "      <td>4557</td>\n",
       "      <td>CP2 LNG Terminal - Initial Construction</td>\n",
       "      <td>Construction of the CP2 LNG Terminal, which wo...</td>\n",
       "      <td>254.29</td>\n",
       "      <td>8528260.00</td>\n",
       "      <td>368.88</td>\n",
       "      <td>908.10</td>\n",
       "      <td>175.14</td>\n",
       "      <td>254.29</td>\n",
       "      <td>1428.66</td>\n",
       "      <td>39.45</td>\n",
       "    </tr>\n",
       "    <tr>\n",
       "      <th>215</th>\n",
       "      <td>2944</td>\n",
       "      <td>Alaska LNG - New Liquefaction Plant</td>\n",
       "      <td>Construction of a new natural gas liquefaction...</td>\n",
       "      <td>182.80</td>\n",
       "      <td>8572968.00</td>\n",
       "      <td>1303.30</td>\n",
       "      <td>2793.40</td>\n",
       "      <td>24657.20</td>\n",
       "      <td>182.80</td>\n",
       "      <td>11891.20</td>\n",
       "      <td>NaN</td>\n",
       "    </tr>\n",
       "    <tr>\n",
       "      <th>113</th>\n",
       "      <td>2838</td>\n",
       "      <td>Driftwood LNG - Initial Construction</td>\n",
       "      <td>Construction of a new LNG terminal with five l...</td>\n",
       "      <td>73.61</td>\n",
       "      <td>9513442.00</td>\n",
       "      <td>356.18</td>\n",
       "      <td>1703.93</td>\n",
       "      <td>555.57</td>\n",
       "      <td>73.61</td>\n",
       "      <td>6039.11</td>\n",
       "      <td>NaN</td>\n",
       "    </tr>\n",
       "    <tr>\n",
       "      <th>137</th>\n",
       "      <td>2862</td>\n",
       "      <td>Formosa Sunshine Project</td>\n",
       "      <td>Construction of a new chemical complex that wo...</td>\n",
       "      <td>82.90</td>\n",
       "      <td>13628091.00</td>\n",
       "      <td>339.81</td>\n",
       "      <td>1242.53</td>\n",
       "      <td>1667.89</td>\n",
       "      <td>82.90</td>\n",
       "      <td>2768.93</td>\n",
       "      <td>NaN</td>\n",
       "    </tr>\n",
       "  </tbody>\n",
       "</table>\n",
       "</div>"
      ],
      "text/plain": [
       "       id                                               name  \\\n",
       "386  3119  Texas GulfLink Deepwater Port - Initial Constr...   \n",
       "98   2822  Coyote Springs Compressor Station - Initial Co...   \n",
       "37   2760   Blue Marlin Offshore Port - Initial Construction   \n",
       "39   2762  Bluewater SPM Deepwater Port - Initial Constru...   \n",
       "422  3157  Wood River CORE Expansion and Hartford Termina...   \n",
       "150  2877  Geismar Methanol Plant 3 and G1/G2 Debottlenec...   \n",
       "43   2766  Borger Refinery, Crude Flexibility and Moderni...   \n",
       "275  3005  Equistar Corpus Christi - Olefins Plant Expansion   \n",
       "151  2878                    Geismar Methanol Plants 1 and 2   \n",
       "404  3138      Valero Port Arthur Refinery Expansion Project   \n",
       "303  3036  Port Arthur Refinery - Naphtha Growth and C9 S...   \n",
       "221  2951  Eurochem Louisiana Fertilizer Plant - Initial ...   \n",
       "100  2824                 Port Delfin - Initial Construction   \n",
       "560  4217  Sabine Pass LNG - Trains 5, Train 6, and the T...   \n",
       "92   2816              Corpus Christi LNG Trains 1, 2, and 3   \n",
       "329  3062                       Sabine Pass LNG - Trains 1-4   \n",
       "148  2875  Alaska LNG - Gas Treatment Plant - Initial Con...   \n",
       "714  5321                         Port Arthur LNG Trains 1-4   \n",
       "147  2874  Energy Security Partners GTL Plant - Initial C...   \n",
       "611  4557            CP2 LNG Terminal - Initial Construction   \n",
       "215  2944                Alaska LNG - New Liquefaction Plant   \n",
       "113  2838               Driftwood LNG - Initial Construction   \n",
       "137  2862                           Formosa Sunshine Project   \n",
       "\n",
       "                                   Project Description  Sulfur Dioxide (SO2)  \\\n",
       "386  The Texas GulfLink Terminal Project would cons...                 20.16   \n",
       "98   Construction of a new compressor station along...                  0.06   \n",
       "37   Construction of a new offshore deepwater expor...                  1.64   \n",
       "39   Construction of a new deepwater port in the fe...                   NaN   \n",
       "422  Modifications to increase processing capacity ...               2094.20   \n",
       "150  Construction of a third methanol plant (Geisma...                  1.60   \n",
       "43   Installation of a new Continuous Catalytic Ref...                647.89   \n",
       "275  An expansion project to increase annual ethyle...               1263.76   \n",
       "151  Construction of a new methanol plant consistin...                 10.56   \n",
       "404  Construction of a new delayed coking unit, a n...                790.20   \n",
       "303  Modifications that will allow the refinery to ...               1267.05   \n",
       "221  Construction of a new fertilizer plant that wo...                 31.89   \n",
       "100  Construction of a new floating LNG terminal in...                201.00   \n",
       "560  Construction of two additional liquefaction tr...                 26.35   \n",
       "92   Construction of a new liquefied natural gas im...                 49.62   \n",
       "329  Construction of a new liquefied natural gas ex...                 11.89   \n",
       "148  Construction of a 3.5-3.9 billion cubic feet (...               1076.30   \n",
       "714  The Port Arthur LNG Terminal would be construc...                 63.02   \n",
       "147  Construction of a new 33,000 barrels per day n...                 23.30   \n",
       "611  Construction of the CP2 LNG Terminal, which wo...                254.29   \n",
       "215  Construction of a new natural gas liquefaction...                182.80   \n",
       "113  Construction of a new LNG terminal with five l...                 73.61   \n",
       "137  Construction of a new chemical complex that wo...                 82.90   \n",
       "\n",
       "     Greenhouse Gases (CO2e)  Particulate Matter (PM2.5)  \\\n",
       "386                  8862.00                        3.23   \n",
       "98                  13402.00                        0.56   \n",
       "37                  16503.00                        1.07   \n",
       "39                 185453.00                         NaN   \n",
       "422                209350.00                      161.30   \n",
       "150                457375.00                       19.91   \n",
       "43                 470082.58                      890.69   \n",
       "275               2062725.00                       92.30   \n",
       "151               2080568.00                      136.63   \n",
       "404               2862639.00                       62.61   \n",
       "303               4191941.00                      169.69   \n",
       "221               4527943.00                      524.65   \n",
       "100               4857091.00                      301.00   \n",
       "560               5036822.00                      -66.51   \n",
       "92                5595932.00                       85.30   \n",
       "329               5734190.00                      254.13   \n",
       "148               7278238.00                      903.40   \n",
       "714               7741044.00                      428.41   \n",
       "147               8378365.00                       50.90   \n",
       "611               8528260.00                      368.88   \n",
       "215               8572968.00                     1303.30   \n",
       "113               9513442.00                      356.18   \n",
       "137              13628091.00                      339.81   \n",
       "\n",
       "     Nitrogen Oxides (NOx)  Volatile Organic Compounds (VOC)  \\\n",
       "386                  59.82                          10025.14   \n",
       "98                   30.43                              2.46   \n",
       "37                   26.02                          21881.00   \n",
       "39                     NaN                          18936.25   \n",
       "422                 920.40                            327.30   \n",
       "150                  32.94                             21.30   \n",
       "43                  368.35                            644.55   \n",
       "275                2264.06                            452.81   \n",
       "151                 178.70                             68.40   \n",
       "404                 128.40                            535.20   \n",
       "303                 668.84                            468.40   \n",
       "221                 934.39                            301.08   \n",
       "100                4335.00                            124.00   \n",
       "560                3797.77                            261.67   \n",
       "92                 3573.70                            365.43   \n",
       "329                2701.88                             82.11   \n",
       "148                3321.70                          13087.20   \n",
       "714                1904.58                            206.06   \n",
       "147                1199.80                            635.30   \n",
       "611                 908.10                            175.14   \n",
       "215                2793.40                          24657.20   \n",
       "113                1703.93                            555.57   \n",
       "137                1242.53                           1667.89   \n",
       "\n",
       "     Sulfur Dioxide (SO2)  Carbon Monoxide (CO)  \\\n",
       "386                 20.16                 56.59   \n",
       "98                   0.06                 38.24   \n",
       "37                   1.64                 57.88   \n",
       "39                    NaN                   NaN   \n",
       "422               2094.20                882.40   \n",
       "150                  1.60                154.26   \n",
       "43                 647.89               2722.41   \n",
       "275               1263.76               1638.85   \n",
       "151                 10.56                175.22   \n",
       "404                790.20                363.98   \n",
       "303               1267.05               2385.20   \n",
       "221                 31.89               1902.06   \n",
       "100                201.00               7021.00   \n",
       "560                 26.35                343.32   \n",
       "92                  49.62               3852.50   \n",
       "329                 11.89               4891.00   \n",
       "148               1076.30               9026.90   \n",
       "714                 63.02               3195.85   \n",
       "147                 23.30               1852.70   \n",
       "611                254.29               1428.66   \n",
       "215                182.80              11891.20   \n",
       "113                 73.61               6039.11   \n",
       "137                 82.90               2768.93   \n",
       "\n",
       "     Hazardous Air Pollutants (HAPs)  \n",
       "386                              NaN  \n",
       "98                            182.95  \n",
       "37                           1230.00  \n",
       "39                            833.18  \n",
       "422                              NaN  \n",
       "150                           633.89  \n",
       "43                               NaN  \n",
       "275                              NaN  \n",
       "151                           258.63  \n",
       "404                              NaN  \n",
       "303                              NaN  \n",
       "221                              NaN  \n",
       "100                              NaN  \n",
       "560                              NaN  \n",
       "92                               NaN  \n",
       "329                              NaN  \n",
       "148                              NaN  \n",
       "714                              NaN  \n",
       "147                            72.66  \n",
       "611                            39.45  \n",
       "215                              NaN  \n",
       "113                              NaN  \n",
       "137                              NaN  "
      ]
     },
     "execution_count": 38,
     "metadata": {},
     "output_type": "execute_result"
    }
   ],
   "source": [
    "proj.loc[extremely_large, ['id', 'name', 'Project Description', 'Sulfur Dioxide (SO2)'] + emission_cols].sort_values('Greenhouse Gases (CO2e)')"
   ]
  },
  {
   "cell_type": "code",
   "execution_count": 39,
   "id": "860746d6-57cf-4793-96a3-b3cdcd00c05d",
   "metadata": {},
   "outputs": [],
   "source": [
    "import matplotlib.pyplot as plt"
   ]
  },
  {
   "cell_type": "code",
   "execution_count": 46,
   "id": "1d6138dd-d747-4fbc-acd8-33d89c1677c7",
   "metadata": {},
   "outputs": [
    {
     "data": {
      "image/png": "[encoded data removed]",
      "text/plain": [
       "<Figure size 1200x1400 with 8 Axes>"
      ]
     },
     "metadata": {},
     "output_type": "display_data"
    }
   ],
   "source": [
    "# NOTE: this only includes positive values (most but not all of them)\n",
    "n = len(emission_cols)#+1\n",
    "fig, axes = plt.subplots(nrows=round(n/2+0.4), ncols=2, figsize=(12, n*2))\n",
    "for i, col in enumerate(emission_cols):\n",
    "    proj.loc[:, col].replace(0,np.nan).transform(np.log10).hist(bins=40, ax=axes[i//2, i%2])\n",
    "    axes[i//2, i%2].set_title(col)\n",
    "#sulfur.replace(0,np.nan).transform(np.log10).hist(bins=40, ax=axes[n-1])"
   ]
  },
  {
   "cell_type": "code",
   "execution_count": 47,
   "id": "c6331369-3246-4f40-bc51-ef0869714546",
   "metadata": {},
   "outputs": [
    {
     "data": {
      "image/png": "[encoded data removed]",
      "text/plain": [
       "<Figure size 1200x1400 with 8 Axes>"
      ]
     },
     "metadata": {},
     "output_type": "display_data"
    }
   ],
   "source": [
    "# Negative values only\n",
    "n = len(emission_cols)#+1\n",
    "fig, axes = plt.subplots(nrows=round(n/2+0.4), ncols=2, figsize=(12, n*2))\n",
    "for i, col in enumerate(emission_cols):\n",
    "    proj.loc[:, col].mul(-1).replace(0,np.nan).transform(np.log10).hist(bins=10, ax=axes[i//2, i%2])\n",
    "    axes[i//2, i%2].set_title(col)\n",
    "#sulfur.mul(-1).replace(0,np.nan).transform(np.log10).hist(bins=10, ax=axes[n-1])"
   ]
  },
  {
   "cell_type": "markdown",
   "id": "89dc9a3d-8791-4794-8f66-724ea3728d08",
   "metadata": {},
   "source": [
    "#### IDs\n",
    "There are lots of ID columns, but I only care about Facility IDs and Air Construction IDs"
   ]
  },
  {
   "cell_type": "code",
   "execution_count": 48,
   "id": "68fc4a1b-4d99-46a8-b3bf-8233af429023",
   "metadata": {},
   "outputs": [
    {
     "data": {
      "text/plain": [
       "['Facility (ID)',\n",
       " 'Air Construction (ID)',\n",
       " 'Air Operating (ID)',\n",
       " 'NGA (ID)',\n",
       " 'Other Permits (ID)']"
      ]
     },
     "execution_count": 48,
     "metadata": {},
     "output_type": "execute_result"
    }
   ],
   "source": [
    "# defined way up near the top\n",
    "id_cols"
   ]
  },
  {
   "cell_type": "code",
   "execution_count": 49,
   "id": "f09ee92b-c24d-47bd-80be-b105fefdad96",
   "metadata": {},
   "outputs": [
    {
     "data": {
      "text/html": [
       "<div>\n",
       "<style scoped>\n",
       "    .dataframe tbody tr th:only-of-type {\n",
       "        vertical-align: middle;\n",
       "    }\n",
       "\n",
       "    .dataframe tbody tr th {\n",
       "        vertical-align: top;\n",
       "    }\n",
       "\n",
       "    .dataframe thead th {\n",
       "        text-align: right;\n",
       "    }\n",
       "</style>\n",
       "<table border=\"1\" class=\"dataframe\">\n",
       "  <thead>\n",
       "    <tr style=\"text-align: right;\">\n",
       "      <th></th>\n",
       "      <th>0</th>\n",
       "      <th>1</th>\n",
       "    </tr>\n",
       "  </thead>\n",
       "  <tbody>\n",
       "    <tr>\n",
       "      <th>0</th>\n",
       "      <td>739.0</td>\n",
       "      <td>NaN</td>\n",
       "    </tr>\n",
       "    <tr>\n",
       "      <th>1</th>\n",
       "      <td>740.0</td>\n",
       "      <td>NaN</td>\n",
       "    </tr>\n",
       "    <tr>\n",
       "      <th>2</th>\n",
       "      <td>741.0</td>\n",
       "      <td>NaN</td>\n",
       "    </tr>\n",
       "    <tr>\n",
       "      <th>3</th>\n",
       "      <td>742.0</td>\n",
       "      <td>NaN</td>\n",
       "    </tr>\n",
       "    <tr>\n",
       "      <th>4</th>\n",
       "      <td>758.0</td>\n",
       "      <td>NaN</td>\n",
       "    </tr>\n",
       "  </tbody>\n",
       "</table>\n",
       "</div>"
      ],
      "text/plain": [
       "       0   1\n",
       "0  739.0 NaN\n",
       "1  740.0 NaN\n",
       "2  741.0 NaN\n",
       "3  742.0 NaN\n",
       "4  758.0 NaN"
      ]
     },
     "execution_count": 49,
     "metadata": {},
     "output_type": "execute_result"
    }
   ],
   "source": [
    "fac_ids = proj['Facility (ID)'].str.split(',', expand=True)\n",
    "for col in fac_ids.columns:\n",
    "    fac_ids.loc[:, col] = pd.to_numeric(fac_ids.loc[:, col], errors='coerce')\n",
    "\n",
    "fac_ids.head()"
   ]
  },
  {
   "cell_type": "code",
   "execution_count": 50,
   "id": "3e7db424-53e9-43c3-aa0a-c6da2fb81023",
   "metadata": {},
   "outputs": [
    {
     "data": {
      "text/html": [
       "<div>\n",
       "<style scoped>\n",
       "    .dataframe tbody tr th:only-of-type {\n",
       "        vertical-align: middle;\n",
       "    }\n",
       "\n",
       "    .dataframe tbody tr th {\n",
       "        vertical-align: top;\n",
       "    }\n",
       "\n",
       "    .dataframe thead th {\n",
       "        text-align: right;\n",
       "    }\n",
       "</style>\n",
       "<table border=\"1\" class=\"dataframe\">\n",
       "  <thead>\n",
       "    <tr style=\"text-align: right;\">\n",
       "      <th></th>\n",
       "      <th>0</th>\n",
       "      <th>1</th>\n",
       "    </tr>\n",
       "  </thead>\n",
       "  <tbody>\n",
       "    <tr>\n",
       "      <th>count</th>\n",
       "      <td>766.000000</td>\n",
       "      <td>3.000000</td>\n",
       "    </tr>\n",
       "    <tr>\n",
       "      <th>mean</th>\n",
       "      <td>2100.548303</td>\n",
       "      <td>3647.333333</td>\n",
       "    </tr>\n",
       "    <tr>\n",
       "      <th>std</th>\n",
       "      <td>1695.602714</td>\n",
       "      <td>79.462780</td>\n",
       "    </tr>\n",
       "    <tr>\n",
       "      <th>min</th>\n",
       "      <td>739.000000</td>\n",
       "      <td>3598.000000</td>\n",
       "    </tr>\n",
       "    <tr>\n",
       "      <th>25%</th>\n",
       "      <td>883.250000</td>\n",
       "      <td>3601.500000</td>\n",
       "    </tr>\n",
       "    <tr>\n",
       "      <th>50%</th>\n",
       "      <td>1033.500000</td>\n",
       "      <td>3605.000000</td>\n",
       "    </tr>\n",
       "    <tr>\n",
       "      <th>75%</th>\n",
       "      <td>3822.750000</td>\n",
       "      <td>3672.000000</td>\n",
       "    </tr>\n",
       "    <tr>\n",
       "      <th>max</th>\n",
       "      <td>5500.000000</td>\n",
       "      <td>3739.000000</td>\n",
       "    </tr>\n",
       "  </tbody>\n",
       "</table>\n",
       "</div>"
      ],
      "text/plain": [
       "                 0            1\n",
       "count   766.000000     3.000000\n",
       "mean   2100.548303  3647.333333\n",
       "std    1695.602714    79.462780\n",
       "min     739.000000  3598.000000\n",
       "25%     883.250000  3601.500000\n",
       "50%    1033.500000  3605.000000\n",
       "75%    3822.750000  3672.000000\n",
       "max    5500.000000  3739.000000"
      ]
     },
     "execution_count": 50,
     "metadata": {},
     "output_type": "execute_result"
    }
   ],
   "source": [
    "# they all look in the same range\n",
    "fac_ids.describe()"
   ]
  },
  {
   "cell_type": "code",
   "execution_count": 51,
   "id": "398b7d49-c594-46e7-b444-f5e03004ae62",
   "metadata": {},
   "outputs": [
    {
     "data": {
      "text/html": [
       "<div>\n",
       "<style scoped>\n",
       "    .dataframe tbody tr th:only-of-type {\n",
       "        vertical-align: middle;\n",
       "    }\n",
       "\n",
       "    .dataframe tbody tr th {\n",
       "        vertical-align: top;\n",
       "    }\n",
       "\n",
       "    .dataframe thead th {\n",
       "        text-align: right;\n",
       "    }\n",
       "</style>\n",
       "<table border=\"1\" class=\"dataframe\">\n",
       "  <thead>\n",
       "    <tr style=\"text-align: right;\">\n",
       "      <th></th>\n",
       "      <th>0</th>\n",
       "      <th>1</th>\n",
       "      <th>2</th>\n",
       "      <th>3</th>\n",
       "      <th>4</th>\n",
       "      <th>5</th>\n",
       "      <th>6</th>\n",
       "    </tr>\n",
       "  </thead>\n",
       "  <tbody>\n",
       "    <tr>\n",
       "      <th>0</th>\n",
       "      <td>1573.0</td>\n",
       "      <td>1574.0</td>\n",
       "      <td>4137.0</td>\n",
       "      <td>4826.0</td>\n",
       "      <td>NaN</td>\n",
       "      <td>NaN</td>\n",
       "      <td>NaN</td>\n",
       "    </tr>\n",
       "    <tr>\n",
       "      <th>1</th>\n",
       "      <td>2079.0</td>\n",
       "      <td>NaN</td>\n",
       "      <td>NaN</td>\n",
       "      <td>NaN</td>\n",
       "      <td>NaN</td>\n",
       "      <td>NaN</td>\n",
       "      <td>NaN</td>\n",
       "    </tr>\n",
       "    <tr>\n",
       "      <th>2</th>\n",
       "      <td>2361.0</td>\n",
       "      <td>NaN</td>\n",
       "      <td>NaN</td>\n",
       "      <td>NaN</td>\n",
       "      <td>NaN</td>\n",
       "      <td>NaN</td>\n",
       "      <td>NaN</td>\n",
       "    </tr>\n",
       "    <tr>\n",
       "      <th>3</th>\n",
       "      <td>2181.0</td>\n",
       "      <td>2182.0</td>\n",
       "      <td>4266.0</td>\n",
       "      <td>NaN</td>\n",
       "      <td>NaN</td>\n",
       "      <td>NaN</td>\n",
       "      <td>NaN</td>\n",
       "    </tr>\n",
       "    <tr>\n",
       "      <th>4</th>\n",
       "      <td>1578.0</td>\n",
       "      <td>NaN</td>\n",
       "      <td>NaN</td>\n",
       "      <td>NaN</td>\n",
       "      <td>NaN</td>\n",
       "      <td>NaN</td>\n",
       "      <td>NaN</td>\n",
       "    </tr>\n",
       "  </tbody>\n",
       "</table>\n",
       "</div>"
      ],
      "text/plain": [
       "        0       1       2       3   4   5   6\n",
       "0  1573.0  1574.0  4137.0  4826.0 NaN NaN NaN\n",
       "1  2079.0     NaN     NaN     NaN NaN NaN NaN\n",
       "2  2361.0     NaN     NaN     NaN NaN NaN NaN\n",
       "3  2181.0  2182.0  4266.0     NaN NaN NaN NaN\n",
       "4  1578.0     NaN     NaN     NaN NaN NaN NaN"
      ]
     },
     "execution_count": 51,
     "metadata": {},
     "output_type": "execute_result"
    }
   ],
   "source": [
    "air_const_ids = proj['Air Construction (ID)'].str.split(',', expand=True)\n",
    "for col in air_const_ids.columns:\n",
    "    air_const_ids.loc[:, col] = pd.to_numeric(air_const_ids.loc[:, col], errors='coerce')\n",
    "\n",
    "air_const_ids.head()"
   ]
  },
  {
   "cell_type": "code",
   "execution_count": 52,
   "id": "f7b92f4d-2b2c-4d87-ad01-a0f0a8daebed",
   "metadata": {},
   "outputs": [
    {
     "data": {
      "text/html": [
       "<div>\n",
       "<style scoped>\n",
       "    .dataframe tbody tr th:only-of-type {\n",
       "        vertical-align: middle;\n",
       "    }\n",
       "\n",
       "    .dataframe tbody tr th {\n",
       "        vertical-align: top;\n",
       "    }\n",
       "\n",
       "    .dataframe thead th {\n",
       "        text-align: right;\n",
       "    }\n",
       "</style>\n",
       "<table border=\"1\" class=\"dataframe\">\n",
       "  <thead>\n",
       "    <tr style=\"text-align: right;\">\n",
       "      <th></th>\n",
       "      <th>0</th>\n",
       "      <th>1</th>\n",
       "      <th>2</th>\n",
       "      <th>3</th>\n",
       "      <th>4</th>\n",
       "      <th>5</th>\n",
       "      <th>6</th>\n",
       "    </tr>\n",
       "  </thead>\n",
       "  <tbody>\n",
       "    <tr>\n",
       "      <th>count</th>\n",
       "      <td>583.000000</td>\n",
       "      <td>179.000000</td>\n",
       "      <td>67.000000</td>\n",
       "      <td>26.000000</td>\n",
       "      <td>10.000000</td>\n",
       "      <td>4.000000</td>\n",
       "      <td>1.0</td>\n",
       "    </tr>\n",
       "    <tr>\n",
       "      <th>mean</th>\n",
       "      <td>2705.277873</td>\n",
       "      <td>2923.050279</td>\n",
       "      <td>3029.641791</td>\n",
       "      <td>2641.846154</td>\n",
       "      <td>2490.600000</td>\n",
       "      <td>2426.000000</td>\n",
       "      <td>1675.0</td>\n",
       "    </tr>\n",
       "    <tr>\n",
       "      <th>std</th>\n",
       "      <td>1161.032962</td>\n",
       "      <td>1266.747114</td>\n",
       "      <td>1318.612985</td>\n",
       "      <td>1250.288981</td>\n",
       "      <td>1055.478007</td>\n",
       "      <td>1153.413774</td>\n",
       "      <td>NaN</td>\n",
       "    </tr>\n",
       "    <tr>\n",
       "      <th>min</th>\n",
       "      <td>1573.000000</td>\n",
       "      <td>1574.000000</td>\n",
       "      <td>1620.000000</td>\n",
       "      <td>1621.000000</td>\n",
       "      <td>1622.000000</td>\n",
       "      <td>1623.000000</td>\n",
       "      <td>1675.0</td>\n",
       "    </tr>\n",
       "    <tr>\n",
       "      <th>25%</th>\n",
       "      <td>1901.500000</td>\n",
       "      <td>1908.500000</td>\n",
       "      <td>1836.000000</td>\n",
       "      <td>1676.750000</td>\n",
       "      <td>1662.500000</td>\n",
       "      <td>1661.250000</td>\n",
       "      <td>1675.0</td>\n",
       "    </tr>\n",
       "    <tr>\n",
       "      <th>50%</th>\n",
       "      <td>2194.000000</td>\n",
       "      <td>2237.000000</td>\n",
       "      <td>2341.000000</td>\n",
       "      <td>2159.000000</td>\n",
       "      <td>2045.000000</td>\n",
       "      <td>1995.500000</td>\n",
       "      <td>1675.0</td>\n",
       "    </tr>\n",
       "    <tr>\n",
       "      <th>75%</th>\n",
       "      <td>3638.000000</td>\n",
       "      <td>4238.000000</td>\n",
       "      <td>4239.000000</td>\n",
       "      <td>3313.500000</td>\n",
       "      <td>3282.000000</td>\n",
       "      <td>2760.250000</td>\n",
       "      <td>1675.0</td>\n",
       "    </tr>\n",
       "    <tr>\n",
       "      <th>max</th>\n",
       "      <td>5503.000000</td>\n",
       "      <td>5450.000000</td>\n",
       "      <td>5501.000000</td>\n",
       "      <td>5001.000000</td>\n",
       "      <td>4243.000000</td>\n",
       "      <td>4090.000000</td>\n",
       "      <td>1675.0</td>\n",
       "    </tr>\n",
       "  </tbody>\n",
       "</table>\n",
       "</div>"
      ],
      "text/plain": [
       "                 0            1            2            3            4  \\\n",
       "count   583.000000   179.000000    67.000000    26.000000    10.000000   \n",
       "mean   2705.277873  2923.050279  3029.641791  2641.846154  2490.600000   \n",
       "std    1161.032962  1266.747114  1318.612985  1250.288981  1055.478007   \n",
       "min    1573.000000  1574.000000  1620.000000  1621.000000  1622.000000   \n",
       "25%    1901.500000  1908.500000  1836.000000  1676.750000  1662.500000   \n",
       "50%    2194.000000  2237.000000  2341.000000  2159.000000  2045.000000   \n",
       "75%    3638.000000  4238.000000  4239.000000  3313.500000  3282.000000   \n",
       "max    5503.000000  5450.000000  5501.000000  5001.000000  4243.000000   \n",
       "\n",
       "                 5       6  \n",
       "count     4.000000     1.0  \n",
       "mean   2426.000000  1675.0  \n",
       "std    1153.413774     NaN  \n",
       "min    1623.000000  1675.0  \n",
       "25%    1661.250000  1675.0  \n",
       "50%    1995.500000  1675.0  \n",
       "75%    2760.250000  1675.0  \n",
       "max    4090.000000  1675.0  "
      ]
     },
     "execution_count": 52,
     "metadata": {},
     "output_type": "execute_result"
    }
   ],
   "source": [
    "# they all look in the same range\n",
    "air_const_ids.describe()"
   ]
  },
  {
   "cell_type": "markdown",
   "id": "da317c8f-bb4e-4584-a83b-16a674b396ad",
   "metadata": {},
   "source": [
    "#### Project Cost\n",
    "Check uniformity at the same time: should be in millions of dollars. Check vs thousands or single dollars."
   ]
  },
  {
   "cell_type": "code",
   "execution_count": 53,
   "id": "b262c2f1-abeb-4724-96dc-1190750c26cc",
   "metadata": {},
   "outputs": [
    {
     "data": {
      "text/plain": [
       "<AxesSubplot:>"
      ]
     },
     "execution_count": 53,
     "metadata": {},
     "output_type": "execute_result"
    },
    {
     "data": {
      "image/png": "[encoded data removed]",
      "text/plain": [
       "<Figure size 640x480 with 1 Axes>"
      ]
     },
     "metadata": {},
     "output_type": "display_data"
    }
   ],
   "source": [
    "# wrong dtype\n",
    "proj['Project Cost (million $)'].hist(bins=30)"
   ]
  },
  {
   "cell_type": "markdown",
   "id": "1928f08b-1781-4384-84c1-904c80ad48b9",
   "metadata": {},
   "source": [
    "By manual inspection (there are not that many values present), I see that there are a handful of values of the form \"XX, XX\". The first number is repeated in an array. So I want to use the same method that fixed the identical issue in the `State` column. But first I need to check that there are no commas present as thousands separators or for other reasons. Check that a split on commas produces two identical values:"
   ]
  },
  {
   "cell_type": "code",
   "execution_count": 54,
   "id": "d7997578-40ea-4ad4-bd69-42df9fa08baa",
   "metadata": {},
   "outputs": [
    {
     "ename": "AttributeError",
     "evalue": "Can only use .str accessor with string values!",
     "output_type": "error",
     "traceback": [
      "\u001b[0;31m---------------------------------------------------------------------------\u001b[0m",
      "\u001b[0;31mAttributeError\u001b[0m                            Traceback (most recent call last)",
      "Input \u001b[0;32mIn [54]\u001b[0m, in \u001b[0;36m<cell line: 1>\u001b[0;34m()\u001b[0m\n\u001b[0;32m----> 1\u001b[0m \u001b[43mproj\u001b[49m\u001b[43m[\u001b[49m\u001b[38;5;124;43m'\u001b[39;49m\u001b[38;5;124;43mProject Cost (million $)\u001b[39;49m\u001b[38;5;124;43m'\u001b[39;49m\u001b[43m]\u001b[49m\u001b[38;5;241;43m.\u001b[39;49m\u001b[43mstr\u001b[49m\u001b[38;5;241m.\u001b[39msplit(\u001b[38;5;124m'\u001b[39m\u001b[38;5;124m,\u001b[39m\u001b[38;5;124m'\u001b[39m, expand\u001b[38;5;241m=\u001b[39m\u001b[38;5;28;01mTrue\u001b[39;00m)\u001b[38;5;241m.\u001b[39mdropna()\n",
      "File \u001b[0;32m~/.local/lib/python3.9/site-packages/pandas/core/generic.py:5487\u001b[0m, in \u001b[0;36mNDFrame.__getattr__\u001b[0;34m(self, name)\u001b[0m\n\u001b[1;32m   5480\u001b[0m \u001b[38;5;28;01mif\u001b[39;00m (\n\u001b[1;32m   5481\u001b[0m     name \u001b[38;5;129;01mnot\u001b[39;00m \u001b[38;5;129;01min\u001b[39;00m \u001b[38;5;28mself\u001b[39m\u001b[38;5;241m.\u001b[39m_internal_names_set\n\u001b[1;32m   5482\u001b[0m     \u001b[38;5;129;01mand\u001b[39;00m name \u001b[38;5;129;01mnot\u001b[39;00m \u001b[38;5;129;01min\u001b[39;00m \u001b[38;5;28mself\u001b[39m\u001b[38;5;241m.\u001b[39m_metadata\n\u001b[1;32m   5483\u001b[0m     \u001b[38;5;129;01mand\u001b[39;00m name \u001b[38;5;129;01mnot\u001b[39;00m \u001b[38;5;129;01min\u001b[39;00m \u001b[38;5;28mself\u001b[39m\u001b[38;5;241m.\u001b[39m_accessors\n\u001b[1;32m   5484\u001b[0m     \u001b[38;5;129;01mand\u001b[39;00m \u001b[38;5;28mself\u001b[39m\u001b[38;5;241m.\u001b[39m_info_axis\u001b[38;5;241m.\u001b[39m_can_hold_identifiers_and_holds_name(name)\n\u001b[1;32m   5485\u001b[0m ):\n\u001b[1;32m   5486\u001b[0m     \u001b[38;5;28;01mreturn\u001b[39;00m \u001b[38;5;28mself\u001b[39m[name]\n\u001b[0;32m-> 5487\u001b[0m \u001b[38;5;28;01mreturn\u001b[39;00m \u001b[38;5;28;43mobject\u001b[39;49m\u001b[38;5;241;43m.\u001b[39;49m\u001b[38;5;21;43m__getattribute__\u001b[39;49m\u001b[43m(\u001b[49m\u001b[38;5;28;43mself\u001b[39;49m\u001b[43m,\u001b[49m\u001b[43m \u001b[49m\u001b[43mname\u001b[49m\u001b[43m)\u001b[49m\n",
      "File \u001b[0;32m~/.local/lib/python3.9/site-packages/pandas/core/accessor.py:181\u001b[0m, in \u001b[0;36mCachedAccessor.__get__\u001b[0;34m(self, obj, cls)\u001b[0m\n\u001b[1;32m    178\u001b[0m \u001b[38;5;28;01mif\u001b[39;00m obj \u001b[38;5;129;01mis\u001b[39;00m \u001b[38;5;28;01mNone\u001b[39;00m:\n\u001b[1;32m    179\u001b[0m     \u001b[38;5;66;03m# we're accessing the attribute of the class, i.e., Dataset.geo\u001b[39;00m\n\u001b[1;32m    180\u001b[0m     \u001b[38;5;28;01mreturn\u001b[39;00m \u001b[38;5;28mself\u001b[39m\u001b[38;5;241m.\u001b[39m_accessor\n\u001b[0;32m--> 181\u001b[0m accessor_obj \u001b[38;5;241m=\u001b[39m \u001b[38;5;28;43mself\u001b[39;49m\u001b[38;5;241;43m.\u001b[39;49m\u001b[43m_accessor\u001b[49m\u001b[43m(\u001b[49m\u001b[43mobj\u001b[49m\u001b[43m)\u001b[49m\n\u001b[1;32m    182\u001b[0m \u001b[38;5;66;03m# Replace the property with the accessor object. Inspired by:\u001b[39;00m\n\u001b[1;32m    183\u001b[0m \u001b[38;5;66;03m# https://www.pydanny.com/cached-property.html\u001b[39;00m\n\u001b[1;32m    184\u001b[0m \u001b[38;5;66;03m# We need to use object.__setattr__ because we overwrite __setattr__ on\u001b[39;00m\n\u001b[1;32m    185\u001b[0m \u001b[38;5;66;03m# NDFrame\u001b[39;00m\n\u001b[1;32m    186\u001b[0m \u001b[38;5;28mobject\u001b[39m\u001b[38;5;241m.\u001b[39m\u001b[38;5;21m__setattr__\u001b[39m(obj, \u001b[38;5;28mself\u001b[39m\u001b[38;5;241m.\u001b[39m_name, accessor_obj)\n",
      "File \u001b[0;32m~/.local/lib/python3.9/site-packages/pandas/core/strings/accessor.py:168\u001b[0m, in \u001b[0;36mStringMethods.__init__\u001b[0;34m(self, data)\u001b[0m\n\u001b[1;32m    165\u001b[0m \u001b[38;5;28;01mdef\u001b[39;00m \u001b[38;5;21m__init__\u001b[39m(\u001b[38;5;28mself\u001b[39m, data):\n\u001b[1;32m    166\u001b[0m     \u001b[38;5;28;01mfrom\u001b[39;00m \u001b[38;5;21;01mpandas\u001b[39;00m\u001b[38;5;21;01m.\u001b[39;00m\u001b[38;5;21;01mcore\u001b[39;00m\u001b[38;5;21;01m.\u001b[39;00m\u001b[38;5;21;01marrays\u001b[39;00m\u001b[38;5;21;01m.\u001b[39;00m\u001b[38;5;21;01mstring_\u001b[39;00m \u001b[38;5;28;01mimport\u001b[39;00m StringDtype\n\u001b[0;32m--> 168\u001b[0m     \u001b[38;5;28mself\u001b[39m\u001b[38;5;241m.\u001b[39m_inferred_dtype \u001b[38;5;241m=\u001b[39m \u001b[38;5;28;43mself\u001b[39;49m\u001b[38;5;241;43m.\u001b[39;49m\u001b[43m_validate\u001b[49m\u001b[43m(\u001b[49m\u001b[43mdata\u001b[49m\u001b[43m)\u001b[49m\n\u001b[1;32m    169\u001b[0m     \u001b[38;5;28mself\u001b[39m\u001b[38;5;241m.\u001b[39m_is_categorical \u001b[38;5;241m=\u001b[39m is_categorical_dtype(data\u001b[38;5;241m.\u001b[39mdtype)\n\u001b[1;32m    170\u001b[0m     \u001b[38;5;28mself\u001b[39m\u001b[38;5;241m.\u001b[39m_is_string \u001b[38;5;241m=\u001b[39m \u001b[38;5;28misinstance\u001b[39m(data\u001b[38;5;241m.\u001b[39mdtype, StringDtype)\n",
      "File \u001b[0;32m~/.local/lib/python3.9/site-packages/pandas/core/strings/accessor.py:225\u001b[0m, in \u001b[0;36mStringMethods._validate\u001b[0;34m(data)\u001b[0m\n\u001b[1;32m    222\u001b[0m inferred_dtype \u001b[38;5;241m=\u001b[39m lib\u001b[38;5;241m.\u001b[39minfer_dtype(values, skipna\u001b[38;5;241m=\u001b[39m\u001b[38;5;28;01mTrue\u001b[39;00m)\n\u001b[1;32m    224\u001b[0m \u001b[38;5;28;01mif\u001b[39;00m inferred_dtype \u001b[38;5;129;01mnot\u001b[39;00m \u001b[38;5;129;01min\u001b[39;00m allowed_types:\n\u001b[0;32m--> 225\u001b[0m     \u001b[38;5;28;01mraise\u001b[39;00m \u001b[38;5;167;01mAttributeError\u001b[39;00m(\u001b[38;5;124m\"\u001b[39m\u001b[38;5;124mCan only use .str accessor with string values!\u001b[39m\u001b[38;5;124m\"\u001b[39m)\n\u001b[1;32m    226\u001b[0m \u001b[38;5;28;01mreturn\u001b[39;00m inferred_dtype\n",
      "\u001b[0;31mAttributeError\u001b[0m: Can only use .str accessor with string values!"
     ]
    }
   ],
   "source": [
    "proj['Project Cost (million $)'].str.split(',', expand=True).dropna()"
   ]
  },
  {
   "cell_type": "code",
   "execution_count": null,
   "id": "311b7e88-00ce-4c85-906e-5f6226f4a470",
   "metadata": {},
   "outputs": [],
   "source": [
    "# definitely no single dollar amounts.\n",
    "# As for thousands, check that the 8-14 billion dollar projects are plausible\n",
    "cost = pd.to_numeric(proj['Project Cost (million $)'].str.split(',').str[0], errors='raise')\n",
    "cost.hist(bins=20)"
   ]
  },
  {
   "cell_type": "code",
   "execution_count": null,
   "id": "15cb968e-38e9-44f6-9ebd-35fa5aaf7bc8",
   "metadata": {},
   "outputs": [],
   "source": [
    "# log transform\n",
    "cost.transform(np.log10).hist(bins=20)"
   ]
  },
  {
   "cell_type": "code",
   "execution_count": null,
   "id": "9bef6fcd-271a-40fb-a9a5-6305ebe45a4a",
   "metadata": {},
   "outputs": [],
   "source": [
    "# Yes, costs are in millions. If they were in thousands, it would mean these megafacilities were being built with 6-14.5 million dollars. I'd buy one at that price!\n",
    "pd.set_option('display.max_colwidth', 0)\n",
    "proj.loc[cost.nlargest(8).index, ['name', 'Project Cost (million $)', 'Project Description']]"
   ]
  },
  {
   "cell_type": "markdown",
   "id": "714a46e4-f06e-4da1-be23-eb6739d38645",
   "metadata": {},
   "source": [
    "#### Jobs\n",
    "Skipping for now becuase I need to make a parser first."
   ]
  },
  {
   "cell_type": "markdown",
   "id": "99034a5d-072a-4cc3-a6b2-c93dd979ce41",
   "metadata": {},
   "source": [
    "### Uniqueness Validation\n",
    "Check the `id` field"
   ]
  },
  {
   "cell_type": "code",
   "execution_count": 55,
   "id": "164ac0af-1cb1-499d-ac71-55ba4ba8c101",
   "metadata": {},
   "outputs": [
    {
     "data": {
      "text/plain": [
       "0"
      ]
     },
     "execution_count": 55,
     "metadata": {},
     "output_type": "execute_result"
    }
   ],
   "source": [
    "proj['id'].duplicated().sum()"
   ]
  },
  {
   "cell_type": "markdown",
   "id": "155fd657-398b-4e25-bed6-ec5d7108c79a",
   "metadata": {},
   "source": [
    "### Set Membership Validation\n",
    "* classification\n",
    "* industry sector\n",
    "* project type\n",
    "* operating status\n",
    "\n",
    "#### Classification\n",
    "Doesn't look like any erroneous categories to me."
   ]
  },
  {
   "cell_type": "code",
   "execution_count": 56,
   "id": "a8c6c7af-8ca3-4e35-937c-e14dbd4a22da",
   "metadata": {},
   "outputs": [
    {
     "data": {
      "text/plain": [
       "Expansion     386\n",
       "New           359\n",
       "Conversion     12\n",
       "Restart         7\n",
       "Name: Classification, dtype: int64"
      ]
     },
     "execution_count": 56,
     "metadata": {},
     "output_type": "execute_result"
    }
   ],
   "source": [
    "proj['Classification'].value_counts()"
   ]
  },
  {
   "cell_type": "markdown",
   "id": "db9e8f95-0ba4-4573-909b-574e5e84588c",
   "metadata": {},
   "source": [
    "#### Industry Sector\n",
    "A single one:many array value. Simplify by picking one"
   ]
  },
  {
   "cell_type": "code",
   "execution_count": 57,
   "id": "8573059c-965d-4c8b-972f-a33e0982a7a7",
   "metadata": {},
   "outputs": [
    {
     "data": {
      "text/plain": [
       "Natural Gas                                                  319\n",
       "Petrochemicals and Plastics                                  216\n",
       "Oil                                                           93\n",
       "Liquefied Natural Gas                                         45\n",
       "Other                                                         40\n",
       "Synthetic Fertilizers                                         39\n",
       "Other, Synthetic Fertilizers, Petrochemicals and Plastics      2\n",
       "Other, Petrochemicals and Plastics                             2\n",
       "Oil, Other                                                     2\n",
       "Liquefied Natural Gas, Other                                   1\n",
       "Synthetic Fertilizers, Other, Petrochemicals and Plastics      1\n",
       "Petrochemicals and Plastics, Oil, Other                        1\n",
       "Oil, Petrochemicals and Plastics                               1\n",
       "Synthetic Fertilizers, Petrochemicals and Plastics             1\n",
       "Petrochemicals and Plastics, Other                             1\n",
       "Other, Oil                                                     1\n",
       "Other, Petrochemicals and Plastics, Synthetic Fertilizers      1\n",
       "Name: Industry Sector, dtype: int64"
      ]
     },
     "execution_count": 57,
     "metadata": {},
     "output_type": "execute_result"
    }
   ],
   "source": [
    "proj['Industry Sector'].value_counts()"
   ]
  },
  {
   "cell_type": "markdown",
   "id": "257ef1e9-31ea-4e7c-abf2-259cf83b51fc",
   "metadata": {},
   "source": [
    "#### Project Type\n",
    "This column has a fair number of multivalued array entries. But the categories themselves look consistent -- no mis-spellings, etc."
   ]
  },
  {
   "cell_type": "code",
   "execution_count": 58,
   "id": "80324b70-286d-48c7-b2f8-979d86d692e5",
   "metadata": {},
   "outputs": [
    {
     "data": {
      "text/plain": [
       "Compressor Station                                                                   251\n",
       "Gas Processing Plant                                                                  62\n",
       "Refinery                                                                              54\n",
       "Liquefied Natural Gas Terminal or Liquefaction Plant                                  43\n",
       "Natural Gas Liquids Fractionator                                                      35\n",
       "Plastic Resin Manufacturing                                                           31\n",
       "Ethylene Cracker                                                                      28\n",
       "Crude Oil Terminal                                                                    27\n",
       "Ammonia/Urea Plants                                                                   26\n",
       "Other Chemicals                                                                       23\n",
       "Methanol Plant                                                                        21\n",
       "Renewable Diesel or Gasoline Refinery                                                 19\n",
       "Propylene Dehydrogenation (PDH) Plant                                                 12\n",
       "Plastics-to-Fuel Plant                                                                10\n",
       "Natural Gas Liquids Storage Facility                                                  10\n",
       "Natural Gas Liquids Fractionator, Gas Processing Plant                                 9\n",
       "Gas Processing Plant, Natural Gas Liquids Fractionator                                 9\n",
       "Blue Ammonia                                                                           8\n",
       "Hydrogen Plant                                                                         8\n",
       "Ethylene Cracker, Plastic Resin Manufacturing                                          8\n",
       "Associated Electricity Generation                                                      7\n",
       "Gas to Liquids Plant                                                                   6\n",
       "Condensate Splitter                                                                    6\n",
       "Other Pipeline Infrastructure                                                          5\n",
       "Green Hydrogen                                                                         5\n",
       "Desalination Plant                                                                     5\n",
       "Other Inorganic Gases                                                                  3\n",
       "Blue Hydrogen                                                                          3\n",
       "Liquefied Natural Gas Storage Facility                                                 2\n",
       "Plastic Resin Manufacturing, Ethylene Cracker                                          2\n",
       "Green Ammonia                                                                          2\n",
       "Other                                                                                  2\n",
       "Green Hydrogen, Gas to Liquids Plant                                                   2\n",
       "Blue Hydrogen, Blue Ammonia                                                            2\n",
       "Blue Hydrogen, Other Inorganic Gases                                                   2\n",
       "Produced Water Treatment Facility                                                      2\n",
       "Hydrogen Plant, Other Inorganic Gases                                                  1\n",
       "Natural Gas Liquids Fractionator, Crude Oil Terminal                                   1\n",
       "Blue Hydrogen, Refinery                                                                1\n",
       "Natural Gas Liquids Fractionator, Natural Gas Liquids Storage Facility                 1\n",
       "Blue Ammonia, Blue Hydrogen                                                            1\n",
       "Gas Processing Plant, Compressor Station                                               1\n",
       "Desalination Plant, Plastic Resin Manufacturing                                        1\n",
       "Ammonia/Urea Plants, Other Chemicals                                                   1\n",
       "Green Ammonia, Green Hydrogen                                                          1\n",
       "Blue Hydrogen, Green Hydrogen, Refinery                                                1\n",
       "Ethylene Cracker, Propylene Dehydrogenation (PDH) Plant                                1\n",
       "Liquefied Natural Gas Terminal or Liquefaction Plant, Blue Ammonia, Blue Hydrogen      1\n",
       "Hydrogen Plant, Other Chemicals, Ammonia/Urea Plants                                   1\n",
       "Natural Gas Liquids Storage Facility, Natural Gas Liquids Fractionator                 1\n",
       "Other Inorganic Gases, Hydrogen Plant                                                  1\n",
       "Hydrogen Plant, Gas to Liquids Plant                                                   1\n",
       "Name: Project Type, dtype: int64"
      ]
     },
     "execution_count": 58,
     "metadata": {},
     "output_type": "execute_result"
    }
   ],
   "source": [
    "proj['Project Type'].value_counts()"
   ]
  },
  {
   "cell_type": "code",
   "execution_count": 59,
   "id": "434e3032-1708-4c30-986c-7145ab27560e",
   "metadata": {},
   "outputs": [
    {
     "data": {
      "text/plain": [
       "Compressor Station                                      252\n",
       "Gas Processing Plant                                     81\n",
       "Refinery                                                 56\n",
       "Natural Gas Liquids Fractionator                         56\n",
       "Liquefied Natural Gas Terminal or Liquefaction Plant     44\n",
       "Plastic Resin Manufacturing                              42\n",
       "Ethylene Cracker                                         39\n",
       "Crude Oil Terminal                                       28\n",
       "Ammonia/Urea Plants                                      28\n",
       "Other Chemicals                                          25\n",
       "Methanol Plant                                           21\n",
       "Renewable Diesel or Gasoline Refinery                    19\n",
       "Propylene Dehydrogenation (PDH) Plant                    13\n",
       "Hydrogen Plant                                           12\n",
       "Blue Ammonia                                             12\n",
       "Natural Gas Liquids Storage Facility                     12\n",
       "Blue Hydrogen                                            11\n",
       "Plastics-to-Fuel Plant                                   10\n",
       "Green Hydrogen                                            9\n",
       "Gas to Liquids Plant                                      9\n",
       "Other Inorganic Gases                                     7\n",
       "Associated Electricity Generation                         7\n",
       "Condensate Splitter                                       6\n",
       "Desalination Plant                                        6\n",
       "Other Pipeline Infrastructure                             5\n",
       "Green Ammonia                                             3\n",
       "Produced Water Treatment Facility                         2\n",
       "Liquefied Natural Gas Storage Facility                    2\n",
       "Other                                                     2\n",
       "dtype: int64"
      ]
     },
     "execution_count": 59,
     "metadata": {},
     "output_type": "execute_result"
    }
   ],
   "source": [
    "# split and combine value counts\n",
    "proj['Project Type'].str.split(',', expand=True).stack().str.strip().value_counts()"
   ]
  },
  {
   "cell_type": "markdown",
   "id": "d5bbb4bd-42d3-410a-8591-3d2631e583dc",
   "metadata": {},
   "source": [
    "#### Operating Status\n",
    "Just need to replace \"Unknown\" with Null"
   ]
  },
  {
   "cell_type": "code",
   "execution_count": 60,
   "id": "45fb31c0-684c-4574-89fa-7effc3e8e18e",
   "metadata": {},
   "outputs": [
    {
     "data": {
      "text/plain": [
       "Operating              371\n",
       "Pre-construction       186\n",
       "Announced               94\n",
       "Under construction      46\n",
       "Canceled                33\n",
       "Partially operating     17\n",
       "On hold                 16\n",
       "Unknown                  2\n",
       "Commissioning            1\n",
       "Name: Operating Status, dtype: int64"
      ]
     },
     "execution_count": 60,
     "metadata": {},
     "output_type": "execute_result"
    }
   ],
   "source": [
    "proj['Operating Status'].value_counts()"
   ]
  },
  {
   "cell_type": "markdown",
   "id": "5d8ec8bf-d7e1-4177-bc2d-7545275818f6",
   "metadata": {
    "tags": []
   },
   "source": [
    "### Type Validation\n",
    "Already did this while doing range validation, but `Sulfur Dioxide (SO2)`and `Project Cost` require parsing duplicative csv array values in what should be a numeric column. Also, `Number of Jobs Promised` needs parsing into two columns: permanent and temporary jobs."
   ]
  },
  {
   "cell_type": "markdown",
   "id": "1624b5ad-b9c7-4df4-b8a4-8342928608e6",
   "metadata": {},
   "source": [
    "#### Completion Year\n",
    "I started converting this to numeric, but would have to model multi-valued items. I think the benefit (sorting, quantitative analysis) is small relative to 1) the cost it will take to communicate the modeling and 2) actually doing the modelling. I think we have other fields we would filter on first."
   ]
  },
  {
   "cell_type": "code",
   "execution_count": 61,
   "id": "ab166cce-83fa-4c9f-9003-e445c7c62a27",
   "metadata": {},
   "outputs": [
    {
     "data": {
      "text/plain": [
       "<AxesSubplot:>"
      ]
     },
     "execution_count": 61,
     "metadata": {},
     "output_type": "execute_result"
    },
    {
     "data": {
      "image/png": "[encoded data removed]",
      "text/plain": [
       "<Figure size 640x480 with 1 Axes>"
      ]
     },
     "metadata": {},
     "output_type": "display_data"
    }
   ],
   "source": [
    "proj['Actual or Expected Completion Year'].str.len().hist(bins=40)"
   ]
  },
  {
   "cell_type": "code",
   "execution_count": 62,
   "id": "28e1b210-1aaa-419a-ac4f-5b3b39bb492c",
   "metadata": {},
   "outputs": [
    {
     "data": {
      "text/plain": [
       "560    126.0\n",
       "329     79.0\n",
       "620     19.0\n",
       "202     14.0\n",
       "229     14.0\n",
       "265     14.0\n",
       "273     14.0\n",
       "333     14.0\n",
       "Name: Actual or Expected Completion Year, dtype: float64"
      ]
     },
     "execution_count": 62,
     "metadata": {},
     "output_type": "execute_result"
    }
   ],
   "source": [
    "proj['Actual or Expected Completion Year'].str.len().nlargest(8)"
   ]
  },
  {
   "cell_type": "code",
   "execution_count": 63,
   "id": "fdfc579c-b3ad-4948-bd80-26b4eccb2900",
   "metadata": {},
   "outputs": [
    {
     "data": {
      "text/plain": [
       "560    Train 5 began operating in 2019. Commissioning...\n",
       "329    Trains 1 and 2 began operating in 2016. Trains...\n",
       "620                                  2015/2018/2020/2022\n",
       "202                                       2018/2020/2021\n",
       "229                                       2013/2015/2020\n",
       "265                                       2015/2017/2020\n",
       "273                                       2014/2016/2018\n",
       "333                                       2015/2016/2019\n",
       "Name: Actual or Expected Completion Year, dtype: object"
      ]
     },
     "execution_count": 63,
     "metadata": {},
     "output_type": "execute_result"
    }
   ],
   "source": [
    "proj.loc[proj['Actual or Expected Completion Year'].str.len().nlargest(8).index, 'Actual or Expected Completion Year']"
   ]
  },
  {
   "cell_type": "markdown",
   "id": "4c493fbe-f311-44a9-a218-361d4a9dbea8",
   "metadata": {
    "tags": []
   },
   "source": [
    "### Cross-Field Validation\n",
    "None really needed. I could check that the date columns are in a logical order (modified > created, for example) but I'm not planning to really use those columns. So I skipped it."
   ]
  }
 ],
 "metadata": {
  "kernelspec": {
   "display_name": "Python 3 (ipykernel)",
   "language": "python",
   "name": "python3"
  },
  "language_info": {
   "codemirror_mode": {
    "name": "ipython",
    "version": 3
   },
   "file_extension": ".py",
   "mimetype": "text/x-python",
   "name": "python",
   "nbconvert_exporter": "python",
   "pygments_lexer": "ipython3",
   "version": "3.9.13"
  }
 },
 "nbformat": 4,
 "nbformat_minor": 5
}
