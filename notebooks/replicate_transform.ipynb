{
 "cells": [
  {
   "cell_type": "markdown",
   "id": "3c1c45ac-c125-4455-8732-35f06206e748",
   "metadata": {},
   "source": [
    "# Test Transform"
   ]
  },
  {
   "cell_type": "code",
   "execution_count": null,
   "id": "82c24c83-e25c-4dd3-bfb5-173543a1c42c",
   "metadata": {},
   "outputs": [],
   "source": [
    "%load_ext autoreload\n",
    "%autoreload 2"
   ]
  },
  {
   "cell_type": "code",
   "execution_count": null,
   "id": "55be5892-8b61-400b-af83-f83d2c08cb4a",
   "metadata": {},
   "outputs": [],
   "source": [
    "import dbcp\n",
    "from dbcp.workspace.datastore import DBCPDatastore\n",
    "from dbcp.constants import WORKING_PARTITIONS"
   ]
  },
  {
   "cell_type": "code",
   "execution_count": null,
   "id": "73ad2873-335a-45a8-8227-c443e2159b40",
   "metadata": {},
   "outputs": [],
   "source": [
    "ds = DBCPDatastore(sandbox=True, local_cache_path=\"input\")\n",
    "\n",
    "lbnl_raw_dfs = dbcp.extract.lbnlisoqueues.Extractor(ds).extract(\n",
    "    update_date=WORKING_PARTITIONS[\"lbnlisoqueues\"][\"update_date\"])"
   ]
  },
  {
   "cell_type": "code",
   "execution_count": null,
   "id": "aff55203-1ed5-4e89-bb05-3ce5ccac6060",
   "metadata": {},
   "outputs": [],
   "source": [
    "lbnl_raw_dfs.keys()"
   ]
  },
  {
   "cell_type": "code",
   "execution_count": null,
   "id": "27e79b56-6867-49bf-923e-5db8a357345b",
   "metadata": {},
   "outputs": [],
   "source": [
    "transformed_dfs = dbcp.transform.lbnlisoqueues.transform(lbnl_raw_dfs)"
   ]
  },
  {
   "cell_type": "code",
   "execution_count": null,
   "id": "0fbb4e2f-6984-4ff5-8692-b7fb7d2b06e1",
   "metadata": {},
   "outputs": [],
   "source": [
    "transformed_dfs.keys()"
   ]
  },
  {
   "cell_type": "code",
   "execution_count": null,
   "id": "523fac5a-a87f-450b-a37b-243f895218bb",
   "metadata": {},
   "outputs": [],
   "source": []
  }
 ],
 "metadata": {
  "kernelspec": {
   "display_name": "Python 3 (ipykernel)",
   "language": "python",
   "name": "python3"
  },
  "language_info": {
   "codemirror_mode": {
    "name": "ipython",
    "version": 3
   },
   "file_extension": ".py",
   "mimetype": "text/x-python",
   "name": "python",
   "nbconvert_exporter": "python",
   "pygments_lexer": "ipython3",
   "version": "3.10.1"
  }
 },
 "nbformat": 4,
 "nbformat_minor": 5
}
