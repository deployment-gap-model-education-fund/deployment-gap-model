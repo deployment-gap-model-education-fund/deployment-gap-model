{
 "cells": [
  {
   "cell_type": "markdown",
   "id": "3c1c45ac-c125-4455-8732-35f06206e748",
   "metadata": {},
   "source": [
    "# Test Transform"
   ]
  },
  {
   "cell_type": "code",
   "execution_count": 1,
   "id": "82c24c83-e25c-4dd3-bfb5-173543a1c42c",
   "metadata": {},
   "outputs": [],
   "source": [
    "%load_ext autoreload\n",
    "%autoreload 2"
   ]
  },
  {
   "cell_type": "code",
   "execution_count": 2,
   "id": "55be5892-8b61-400b-af83-f83d2c08cb4a",
   "metadata": {},
   "outputs": [
    {
     "name": "stderr",
     "output_type": "stream",
     "text": [
      "/app/.local/lib/python3.8/site-packages/geopandas/_compat.py:111: UserWarning: The Shapely GEOS version (3.9.1-CAPI-1.14.2) is incompatible with the GEOS version PyGEOS was compiled with (3.10.0-CAPI-1.16.0). Conversions between both will be slow.\n",
      "  warnings.warn(\n"
     ]
    }
   ],
   "source": [
    "import dbcp\n",
    "from dbcp.workspace.datastore import DBCPDatastore\n",
    "from dbcp.constants import WORKING_PARTITIONS"
   ]
  },
  {
   "cell_type": "code",
   "execution_count": 3,
   "id": "73ad2873-335a-45a8-8227-c443e2159b40",
   "metadata": {},
   "outputs": [
    {
     "name": "stderr",
     "output_type": "stream",
     "text": [
      "/app/.local/lib/python3.8/site-packages/pudl/extract/excel.py:232: FutureWarning: The frame.append method is deprecated and will be removed from pandas in a future version. Use pandas.concat instead.\n",
      "  df = df.append(newdata, sort=True, ignore_index=True)\n",
      "/app/.local/lib/python3.8/site-packages/pudl/extract/excel.py:232: FutureWarning: The frame.append method is deprecated and will be removed from pandas in a future version. Use pandas.concat instead.\n",
      "  df = df.append(newdata, sort=True, ignore_index=True)\n",
      "/app/.local/lib/python3.8/site-packages/pudl/extract/excel.py:232: FutureWarning: The frame.append method is deprecated and will be removed from pandas in a future version. Use pandas.concat instead.\n",
      "  df = df.append(newdata, sort=True, ignore_index=True)\n"
     ]
    }
   ],
   "source": [
    "ds = DBCPDatastore(sandbox=True, local_cache_path=\"input\")\n",
    "\n",
    "lbnl_raw_dfs = dbcp.extract.lbnlisoqueues.Extractor(ds).extract(\n",
    "    update_date=WORKING_PARTITIONS[\"lbnlisoqueues\"][\"update_date\"])"
   ]
  },
  {
   "cell_type": "code",
   "execution_count": 4,
   "id": "aff55203-1ed5-4e89-bb05-3ce5ccac6060",
   "metadata": {},
   "outputs": [
    {
     "data": {
      "text/plain": [
       "dict_keys(['active_iso_queue_projects', 'completed_iso_queue_projects', 'withdrawn_iso_queue_projects'])"
      ]
     },
     "execution_count": 4,
     "metadata": {},
     "output_type": "execute_result"
    }
   ],
   "source": [
    "lbnl_raw_dfs.keys()"
   ]
  },
  {
   "cell_type": "code",
   "execution_count": 5,
   "id": "27e79b56-6867-49bf-923e-5db8a357345b",
   "metadata": {},
   "outputs": [],
   "source": [
    "transformed_dfs = dbcp.transform.lbnlisoqueues.transform(lbnl_raw_dfs)"
   ]
  },
  {
   "cell_type": "code",
   "execution_count": 6,
   "id": "0fbb4e2f-6984-4ff5-8692-b7fb7d2b06e1",
   "metadata": {},
   "outputs": [
    {
     "data": {
      "text/plain": [
       "dict_keys(['iso_projects', 'iso_locations', 'iso_resource_capacity', 'iso_for_tableau'])"
      ]
     },
     "execution_count": 6,
     "metadata": {},
     "output_type": "execute_result"
    }
   ],
   "source": [
    "transformed_dfs.keys()"
   ]
  },
  {
   "cell_type": "code",
   "execution_count": 7,
   "id": "523fac5a-a87f-450b-a37b-243f895218bb",
   "metadata": {},
   "outputs": [
    {
     "data": {
      "text/html": [
       "<div>\n",
       "<style scoped>\n",
       "    .dataframe tbody tr th:only-of-type {\n",
       "        vertical-align: middle;\n",
       "    }\n",
       "\n",
       "    .dataframe tbody tr th {\n",
       "        vertical-align: top;\n",
       "    }\n",
       "\n",
       "    .dataframe thead th {\n",
       "        text-align: right;\n",
       "    }\n",
       "</style>\n",
       "<table border=\"1\" class=\"dataframe\">\n",
       "  <thead>\n",
       "    <tr style=\"text-align: right;\">\n",
       "      <th></th>\n",
       "      <th>project_id</th>\n",
       "      <th>county</th>\n",
       "      <th>state</th>\n",
       "      <th>state_id_fips</th>\n",
       "      <th>county_id_fips</th>\n",
       "    </tr>\n",
       "  </thead>\n",
       "  <tbody>\n",
       "    <tr>\n",
       "      <th>0</th>\n",
       "      <td>0</td>\n",
       "      <td>yellowstone</td>\n",
       "      <td>MT</td>\n",
       "      <td>30</td>\n",
       "      <td>30111</td>\n",
       "    </tr>\n",
       "    <tr>\n",
       "      <th>1</th>\n",
       "      <td>1</td>\n",
       "      <td>yellowstone</td>\n",
       "      <td>MT</td>\n",
       "      <td>30</td>\n",
       "      <td>30111</td>\n",
       "    </tr>\n",
       "    <tr>\n",
       "      <th>2</th>\n",
       "      <td>2</td>\n",
       "      <td>yellowstone</td>\n",
       "      <td>MT</td>\n",
       "      <td>30</td>\n",
       "      <td>30111</td>\n",
       "    </tr>\n",
       "    <tr>\n",
       "      <th>3</th>\n",
       "      <td>3</td>\n",
       "      <td>riverside</td>\n",
       "      <td>CA</td>\n",
       "      <td>06</td>\n",
       "      <td>06065</td>\n",
       "    </tr>\n",
       "    <tr>\n",
       "      <th>4</th>\n",
       "      <td>4</td>\n",
       "      <td>garfield</td>\n",
       "      <td>OK</td>\n",
       "      <td>40</td>\n",
       "      <td>40047</td>\n",
       "    </tr>\n",
       "    <tr>\n",
       "      <th>...</th>\n",
       "      <td>...</td>\n",
       "      <td>...</td>\n",
       "      <td>...</td>\n",
       "      <td>...</td>\n",
       "      <td>...</td>\n",
       "    </tr>\n",
       "    <tr>\n",
       "      <th>13990</th>\n",
       "      <td>14235</td>\n",
       "      <td>Luzerne</td>\n",
       "      <td>PA</td>\n",
       "      <td>42</td>\n",
       "      <td>42079</td>\n",
       "    </tr>\n",
       "    <tr>\n",
       "      <th>13991</th>\n",
       "      <td>14236</td>\n",
       "      <td>Adams</td>\n",
       "      <td>PA</td>\n",
       "      <td>42</td>\n",
       "      <td>42001</td>\n",
       "    </tr>\n",
       "    <tr>\n",
       "      <th>13992</th>\n",
       "      <td>14237</td>\n",
       "      <td>Warren</td>\n",
       "      <td>NJ</td>\n",
       "      <td>34</td>\n",
       "      <td>34041</td>\n",
       "    </tr>\n",
       "    <tr>\n",
       "      <th>13993</th>\n",
       "      <td>14238</td>\n",
       "      <td>Spencer</td>\n",
       "      <td>IN</td>\n",
       "      <td>18</td>\n",
       "      <td>18147</td>\n",
       "    </tr>\n",
       "    <tr>\n",
       "      <th>13994</th>\n",
       "      <td>14239</td>\n",
       "      <td>Montour</td>\n",
       "      <td>PA</td>\n",
       "      <td>42</td>\n",
       "      <td>42093</td>\n",
       "    </tr>\n",
       "  </tbody>\n",
       "</table>\n",
       "<p>13995 rows × 5 columns</p>\n",
       "</div>"
      ],
      "text/plain": [
       "       project_id       county state state_id_fips county_id_fips\n",
       "0               0  yellowstone    MT            30          30111\n",
       "1               1  yellowstone    MT            30          30111\n",
       "2               2  yellowstone    MT            30          30111\n",
       "3               3    riverside    CA            06          06065\n",
       "4               4     garfield    OK            40          40047\n",
       "...           ...          ...   ...           ...            ...\n",
       "13990       14235      Luzerne    PA            42          42079\n",
       "13991       14236        Adams    PA            42          42001\n",
       "13992       14237       Warren    NJ            34          34041\n",
       "13993       14238      Spencer    IN            18          18147\n",
       "13994       14239      Montour    PA            42          42093\n",
       "\n",
       "[13995 rows x 5 columns]"
      ]
     },
     "execution_count": 7,
     "metadata": {},
     "output_type": "execute_result"
    }
   ],
   "source": [
    "transformed_dfs['iso_locations']"
   ]
  },
  {
   "cell_type": "code",
   "execution_count": null,
   "id": "6fe65235-953b-41c4-8b7b-84ab7f83294a",
   "metadata": {},
   "outputs": [],
   "source": []
  },
  {
   "cell_type": "code",
   "execution_count": null,
   "id": "ac9aec5d-bf20-44fe-8b51-227f7b949a29",
   "metadata": {},
   "outputs": [],
   "source": []
  }
 ],
 "metadata": {
  "kernelspec": {
   "display_name": "Python 3 (ipykernel)",
   "language": "python",
   "name": "python3"
  },
  "language_info": {
   "codemirror_mode": {
    "name": "ipython",
    "version": 3
   },
   "file_extension": ".py",
   "mimetype": "text/x-python",
   "name": "python",
   "nbconvert_exporter": "python",
   "pygments_lexer": "ipython3",
   "version": "3.8.12"
  }
 },
 "nbformat": 4,
 "nbformat_minor": 5
}
